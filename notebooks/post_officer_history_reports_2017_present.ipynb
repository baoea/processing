{
 "cells": [
  {
   "cell_type": "code",
   "execution_count": 91,
   "metadata": {},
   "outputs": [],
   "source": [
    "# import os\n",
    "# os.chdir(\"../\")"
   ]
  },
  {
   "cell_type": "code",
   "execution_count": 92,
   "metadata": {},
   "outputs": [],
   "source": [
    "import pandas as pd\n",
    "\n",
    "from clean.post_officer_history import clean"
   ]
  },
  {
   "cell_type": "code",
   "execution_count": 93,
   "metadata": {},
   "outputs": [
    {
     "name": "stdout",
     "output_type": "stream",
     "text": [
      "standardize_from_lookup_table: unmatched sequences:\n",
      "  {\"lacommission onlaw'], ['9/17/2021']],\", 'sex: ', \"[['stt tammany parishs sor range'], ['116 05/31/2013'], ['tallant, joel']],\", \"[['lafayetteparish: so'], ['agency name'], ['full-time 7/1/1992'], ['status hire date separation date reason for separation']],\", \"[['orleans parishs so'], ['full-time 3/19/2019']],\", \"sex:'\"}\n"
     ]
    },
    {
     "name": "stderr",
     "output_type": "stream",
     "text": [
      "c:\\Users\\ayyubi\\Desktop\\llead\\processing\\lib\\clean.py:458: SettingWithCopyWarning: \n",
      "A value is trying to be set on a copy of a slice from a DataFrame.\n",
      "Try using .loc[row_indexer,col_indexer] = value instead\n",
      "\n",
      "See the caveats in the documentation: https://pandas.pydata.org/pandas-docs/stable/user_guide/indexing.html#returning-a-view-versus-a-copy\n",
      "  df.loc[:, col] = (\n",
      "c:\\Users\\ayyubi\\Desktop\\llead\\processing\\clean\\post_officer_history.py:148: FutureWarning: The default value of regex will change from True to False in a future version.\n",
      "  .str.replace(r\"univ pd (.+)\", r\"\\1-university-pd\")\n"
     ]
    }
   ],
   "source": [
    "df = clean()"
   ]
  },
  {
   "cell_type": "code",
   "execution_count": 94,
   "metadata": {},
   "outputs": [
    {
     "data": {
      "text/html": [
       "<div>\n",
       "<style scoped>\n",
       "    .dataframe tbody tr th:only-of-type {\n",
       "        vertical-align: middle;\n",
       "    }\n",
       "\n",
       "    .dataframe tbody tr th {\n",
       "        vertical-align: top;\n",
       "    }\n",
       "\n",
       "    .dataframe thead th {\n",
       "        text-align: right;\n",
       "    }\n",
       "</style>\n",
       "<table border=\"1\" class=\"dataframe\">\n",
       "  <thead>\n",
       "    <tr style=\"text-align: right;\">\n",
       "      <th></th>\n",
       "      <th>history_id</th>\n",
       "      <th>agency</th>\n",
       "      <th>last_name</th>\n",
       "      <th>first_name</th>\n",
       "      <th>middle_name</th>\n",
       "      <th>left_reason</th>\n",
       "      <th>hire_date</th>\n",
       "      <th>left_date</th>\n",
       "      <th>employment_status</th>\n",
       "      <th>uid</th>\n",
       "      <th>switched_job</th>\n",
       "    </tr>\n",
       "  </thead>\n",
       "  <tbody>\n",
       "    <tr>\n",
       "      <th>6</th>\n",
       "      <td>9</td>\n",
       "      <td>lsuhsc-new-orleans-university-pd</td>\n",
       "      <td>Jackson</td>\n",
       "      <td>Taskaras</td>\n",
       "      <td></td>\n",
       "      <td></td>\n",
       "      <td>11/25/2013</td>\n",
       "      <td>8/1/2016</td>\n",
       "      <td>full-time</td>\n",
       "      <td>5c2f8fb54e90e64189f2bd426083034f</td>\n",
       "      <td>True</td>\n",
       "    </tr>\n",
       "    <tr>\n",
       "      <th>7</th>\n",
       "      <td>9</td>\n",
       "      <td>orleans-levee-pd</td>\n",
       "      <td>Jackson</td>\n",
       "      <td>Taskaras</td>\n",
       "      <td></td>\n",
       "      <td></td>\n",
       "      <td>8/2/2016</td>\n",
       "      <td>NaN</td>\n",
       "      <td>full-time</td>\n",
       "      <td>58b594b3ad3cc815b5db5af86c220c87</td>\n",
       "      <td>True</td>\n",
       "    </tr>\n",
       "    <tr>\n",
       "      <th>9</th>\n",
       "      <td>13</td>\n",
       "      <td>new-orleans-pd</td>\n",
       "      <td>Wheeler</td>\n",
       "      <td>Kevin</td>\n",
       "      <td>L</td>\n",
       "      <td></td>\n",
       "      <td>12/10/2007</td>\n",
       "      <td>11/27/2012</td>\n",
       "      <td>full-time</td>\n",
       "      <td>82504d15567e036bf5cba6072f1d25e0</td>\n",
       "      <td>True</td>\n",
       "    </tr>\n",
       "    <tr>\n",
       "      <th>10</th>\n",
       "      <td>13</td>\n",
       "      <td>orleans-levee-pd</td>\n",
       "      <td>Wheeler</td>\n",
       "      <td>Kevin</td>\n",
       "      <td>L</td>\n",
       "      <td></td>\n",
       "      <td>5/9/2016</td>\n",
       "      <td>NaN</td>\n",
       "      <td>full-time</td>\n",
       "      <td>f3a807b5117fa0d88d7d6dc66a97e207</td>\n",
       "      <td>True</td>\n",
       "    </tr>\n",
       "    <tr>\n",
       "      <th>11</th>\n",
       "      <td>13</td>\n",
       "      <td>loyola-university-pd</td>\n",
       "      <td>Wheeler</td>\n",
       "      <td>Kevin</td>\n",
       "      <td>L</td>\n",
       "      <td>voluntary resignation</td>\n",
       "      <td>11/1/2019</td>\n",
       "      <td>1/21/2020</td>\n",
       "      <td>full-time</td>\n",
       "      <td>deeb30995ad06909936910a3339767a8</td>\n",
       "      <td>True</td>\n",
       "    </tr>\n",
       "    <tr>\n",
       "      <th>16</th>\n",
       "      <td>19</td>\n",
       "      <td>tulane-university-pd</td>\n",
       "      <td>Downs</td>\n",
       "      <td>Joseph</td>\n",
       "      <td>C</td>\n",
       "      <td></td>\n",
       "      <td>10/1/2003</td>\n",
       "      <td>NaN</td>\n",
       "      <td>full-time</td>\n",
       "      <td>9636468f281ab87e0588ba7e1232e282</td>\n",
       "      <td>True</td>\n",
       "    </tr>\n",
       "    <tr>\n",
       "      <th>17</th>\n",
       "      <td>19</td>\n",
       "      <td>orleans-civil-so</td>\n",
       "      <td>Downs</td>\n",
       "      <td>Joseph</td>\n",
       "      <td>C</td>\n",
       "      <td></td>\n",
       "      <td>11/24/2000</td>\n",
       "      <td>NaN</td>\n",
       "      <td>full-time</td>\n",
       "      <td>f5c08c176c9683844efc8074a578b033</td>\n",
       "      <td>True</td>\n",
       "    </tr>\n",
       "    <tr>\n",
       "      <th>19</th>\n",
       "      <td>23</td>\n",
       "      <td>orleans-so</td>\n",
       "      <td>Llopis</td>\n",
       "      <td>Shelbytheresa</td>\n",
       "      <td></td>\n",
       "      <td></td>\n",
       "      <td>6/15/2017</td>\n",
       "      <td>3/8/2018</td>\n",
       "      <td>full-time</td>\n",
       "      <td>830d5dc96d1871c3db978088b634bf82</td>\n",
       "      <td>True</td>\n",
       "    </tr>\n",
       "    <tr>\n",
       "      <th>20</th>\n",
       "      <td>23</td>\n",
       "      <td>xavier-university-pd</td>\n",
       "      <td>Llopis</td>\n",
       "      <td>Shelbytheresa</td>\n",
       "      <td></td>\n",
       "      <td>voluntary resignation</td>\n",
       "      <td>8/1/2018</td>\n",
       "      <td>9/11/2020</td>\n",
       "      <td>full-time</td>\n",
       "      <td>2c94792ecb5ecf077f278e23a5d78087</td>\n",
       "      <td>True</td>\n",
       "    </tr>\n",
       "    <tr>\n",
       "      <th>21</th>\n",
       "      <td>23</td>\n",
       "      <td>tulane-university-pd</td>\n",
       "      <td>Llopis</td>\n",
       "      <td>Shelbytheresa</td>\n",
       "      <td></td>\n",
       "      <td></td>\n",
       "      <td>9/11/2020</td>\n",
       "      <td>NaN</td>\n",
       "      <td>full-time</td>\n",
       "      <td>9af764ae0cf48233080f5b273d7b75a8</td>\n",
       "      <td>True</td>\n",
       "    </tr>\n",
       "  </tbody>\n",
       "</table>\n",
       "</div>"
      ],
      "text/plain": [
       "    history_id                            agency last_name     first_name  \\\n",
       "6            9  lsuhsc-new-orleans-university-pd   Jackson       Taskaras   \n",
       "7            9                  orleans-levee-pd   Jackson       Taskaras   \n",
       "9           13                    new-orleans-pd   Wheeler          Kevin   \n",
       "10          13                  orleans-levee-pd   Wheeler          Kevin   \n",
       "11          13              loyola-university-pd   Wheeler          Kevin   \n",
       "16          19              tulane-university-pd     Downs         Joseph   \n",
       "17          19                  orleans-civil-so     Downs         Joseph   \n",
       "19          23                        orleans-so    Llopis  Shelbytheresa   \n",
       "20          23              xavier-university-pd    Llopis  Shelbytheresa   \n",
       "21          23              tulane-university-pd    Llopis  Shelbytheresa   \n",
       "\n",
       "   middle_name            left_reason   hire_date   left_date  \\\n",
       "6                                      11/25/2013    8/1/2016   \n",
       "7                                        8/2/2016         NaN   \n",
       "9            L                         12/10/2007  11/27/2012   \n",
       "10           L                           5/9/2016         NaN   \n",
       "11           L  voluntary resignation   11/1/2019   1/21/2020   \n",
       "16           C                          10/1/2003         NaN   \n",
       "17           C                         11/24/2000         NaN   \n",
       "19                                      6/15/2017    3/8/2018   \n",
       "20              voluntary resignation    8/1/2018   9/11/2020   \n",
       "21                                      9/11/2020         NaN   \n",
       "\n",
       "   employment_status                               uid  switched_job  \n",
       "6         full-time   5c2f8fb54e90e64189f2bd426083034f          True  \n",
       "7         full-time   58b594b3ad3cc815b5db5af86c220c87          True  \n",
       "9         full-time   82504d15567e036bf5cba6072f1d25e0          True  \n",
       "10        full-time   f3a807b5117fa0d88d7d6dc66a97e207          True  \n",
       "11        full-time   deeb30995ad06909936910a3339767a8          True  \n",
       "16        full-time   9636468f281ab87e0588ba7e1232e282          True  \n",
       "17        full-time   f5c08c176c9683844efc8074a578b033          True  \n",
       "19        full-time   830d5dc96d1871c3db978088b634bf82          True  \n",
       "20        full-time   2c94792ecb5ecf077f278e23a5d78087          True  \n",
       "21        full-time   9af764ae0cf48233080f5b273d7b75a8          True  "
      ]
     },
     "execution_count": 94,
     "metadata": {},
     "output_type": "execute_result"
    }
   ],
   "source": [
    "\"\"\"\n",
    "Preview\n",
    "\"\"\"\n",
    "df.head(10)"
   ]
  },
  {
   "cell_type": "code",
   "execution_count": 95,
   "metadata": {},
   "outputs": [],
   "source": [
    "\"\"\"\n",
    "Filter out officers who haven't switched employers\n",
    "\"\"\"\n",
    "df = df[df.switched_job == True]"
   ]
  },
  {
   "cell_type": "code",
   "execution_count": 96,
   "metadata": {},
   "outputs": [],
   "source": [
    "\"\"\"\n",
    "Act 272 of 2017 requires all law enforcement agencies to report changes to an officer's employment status\n",
    "---------------------------------------------------------------------------------------------------------\n",
    "Filter out data after 2017\n",
    "Filter out officers who retired or are deceased \n",
    "Fill na rows with n/a\n",
    "\"\"\"\n",
    "def filter_years(df):\n",
    "    year = df.left_date.str.extract(r\"(\\w{4})\")\n",
    "    df.loc[:, \"left_year\"] = year[0]\n",
    "\n",
    "    df = df[(df.left_year.isin([\"2018\", \"2019\", \"2020\", \"2021\", \"2022\"]))]\n",
    "    return df\n",
    "\n",
    "def filter_employment_status(df):\n",
    "    df = df[~((df.employment_status == \"retired\"))]\n",
    "    df = df[~((df.employment_status == \"deceased\"))]\n",
    "    df.loc[:, \"left_reason\"] = df.left_reason.str.replace(r\"deceased\", \"\", regex=False)\n",
    "    return df\n",
    "\n",
    "def fill_na_values(df):\n",
    "    df.loc[:, \"left_reason\"] = df.left_reason.fillna(\"n/a\")\n",
    "    return df"
   ]
  },
  {
   "cell_type": "code",
   "execution_count": 97,
   "metadata": {},
   "outputs": [],
   "source": [
    "df = df.pipe(filter_years).pipe(filter_employment_status).pipe(fill_na_values)"
   ]
  },
  {
   "cell_type": "code",
   "execution_count": 98,
   "metadata": {},
   "outputs": [
    {
     "data": {
      "text/plain": [
       "148"
      ]
     },
     "execution_count": 98,
     "metadata": {},
     "output_type": "execute_result"
    }
   ],
   "source": [
    "\"\"\"\n",
    "Number of officers who have switched employers\n",
    "\"\"\"\n",
    "df.history_id.nunique()"
   ]
  },
  {
   "cell_type": "code",
   "execution_count": 99,
   "metadata": {},
   "outputs": [
    {
     "data": {
      "text/plain": [
       "71"
      ]
     },
     "execution_count": 99,
     "metadata": {},
     "output_type": "execute_result"
    }
   ],
   "source": [
    "\"\"\"\n",
    "Officers who switched employers in these years moved between the following number of agencies\n",
    "\"\"\"\n",
    "df.agency.nunique()"
   ]
  },
  {
   "cell_type": "code",
   "execution_count": 100,
   "metadata": {},
   "outputs": [
    {
     "data": {
      "text/plain": [
       "                         0.511236\n",
       "voluntary resignation    0.387640\n",
       "termination              0.084270\n",
       "resignation              0.016854\n",
       "Name: left_reason, dtype: float64"
      ]
     },
     "execution_count": 100,
     "metadata": {},
     "output_type": "execute_result"
    }
   ],
   "source": [
    "\"\"\"\n",
    "A left reason is provided for 49% of the officers\n",
    "\"\"\"\n",
    "df.left_reason.value_counts(normalize=True)"
   ]
  },
  {
   "cell_type": "code",
   "execution_count": 101,
   "metadata": {},
   "outputs": [],
   "source": [
    "def drop_na_rows(df):\n",
    "    df.loc[:, \"left_reason\"] = df.left_reason.str.replace(r\"^n\\/a$\", \"\", regex=True)\n",
    "    return df[~((df.left_reason == \"\"))]"
   ]
  },
  {
   "cell_type": "code",
   "execution_count": 102,
   "metadata": {},
   "outputs": [],
   "source": [
    "df = df.pipe(drop_na_rows)"
   ]
  },
  {
   "cell_type": "code",
   "execution_count": 103,
   "metadata": {},
   "outputs": [
    {
     "data": {
      "text/plain": [
       "voluntary resignation    0.793103\n",
       "termination              0.172414\n",
       "resignation              0.034483\n",
       "Name: left_reason, dtype: float64"
      ]
     },
     "execution_count": 103,
     "metadata": {},
     "output_type": "execute_result"
    }
   ],
   "source": [
    "\"\"\"\n",
    "Of the 49%, the most commonly reported left_reason is resignation, followed by voluntary resignation and termination.\n",
    "\"\"\"\n",
    "df.left_reason.value_counts(normalize=True)"
   ]
  }
 ],
 "metadata": {
  "kernelspec": {
   "display_name": "Python 3",
   "language": "python",
   "name": "python3"
  },
  "language_info": {
   "codemirror_mode": {
    "name": "ipython",
    "version": 3
   },
   "file_extension": ".py",
   "mimetype": "text/x-python",
   "name": "python",
   "nbconvert_exporter": "python",
   "pygments_lexer": "ipython3",
   "version": "3.11.1"
  },
  "orig_nbformat": 4,
  "vscode": {
   "interpreter": {
    "hash": "d60508a6988a71632444305916d71da55b473e606dc99a828e4a24a9fb791ff1"
   }
  }
 },
 "nbformat": 4,
 "nbformat_minor": 2
}

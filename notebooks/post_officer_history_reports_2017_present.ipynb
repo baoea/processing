{
 "cells": [
  {
   "cell_type": "code",
   "execution_count": 1,
   "metadata": {},
   "outputs": [],
   "source": [
    "# import os\n",
    "# os.chdir(\"../\")"
   ]
  },
  {
   "cell_type": "code",
   "execution_count": 2,
   "metadata": {},
   "outputs": [],
   "source": [
    "import pandas as pd\n",
    "\n",
    "from clean.post_officer_history import clean"
   ]
  },
  {
   "cell_type": "code",
   "execution_count": 3,
   "metadata": {},
   "outputs": [
    {
     "name": "stdout",
     "output_type": "stream",
     "text": [
      "standardize_from_lookup_table: unmatched sequences:\n",
      "  {'mate', 'plaqu', 'reserve 4/1/2001 5/1/2002', '-oo of icer - basic holiday inn north 8/3/2018'}\n"
     ]
    },
    {
     "name": "stderr",
     "output_type": "stream",
     "text": [
      "c:\\Users\\PC\\AppData\\Local\\Programs\\Python\\Python39\\lib\\site-packages\\pandas\\core\\indexing.py:1676: SettingWithCopyWarning: \n",
      "A value is trying to be set on a copy of a slice from a DataFrame.\n",
      "Try using .loc[row_indexer,col_indexer] = value instead\n",
      "\n",
      "See the caveats in the documentation: https://pandas.pydata.org/pandas-docs/stable/user_guide/indexing.html#returning-a-view-versus-a-copy\n",
      "  self._setitem_single_column(ilocs[0], value, pi)\n",
      "c:\\Users\\PC\\Desktop\\launch\\processing\\clean\\post_officer_history.py:190: FutureWarning: The default value of regex will change from True to False in a future version.\n",
      "  df.agency.str.strip()\n",
      "c:\\Users\\PC\\Desktop\\launch\\processing\\clean\\post_officer_history.py:297: FutureWarning: The default value of regex will change from True to False in a future version.\n",
      "  df.agency.str.strip()\n"
     ]
    }
   ],
   "source": [
    "df = clean()"
   ]
  },
  {
   "cell_type": "code",
   "execution_count": 4,
   "metadata": {},
   "outputs": [
    {
     "data": {
      "text/html": [
       "<div>\n",
       "<style scoped>\n",
       "    .dataframe tbody tr th:only-of-type {\n",
       "        vertical-align: middle;\n",
       "    }\n",
       "\n",
       "    .dataframe tbody tr th {\n",
       "        vertical-align: top;\n",
       "    }\n",
       "\n",
       "    .dataframe thead th {\n",
       "        text-align: right;\n",
       "    }\n",
       "</style>\n",
       "<table border=\"1\" class=\"dataframe\">\n",
       "  <thead>\n",
       "    <tr style=\"text-align: right;\">\n",
       "      <th></th>\n",
       "      <th>history_id</th>\n",
       "      <th>agency</th>\n",
       "      <th>last_name</th>\n",
       "      <th>first_name</th>\n",
       "      <th>middle_name</th>\n",
       "      <th>left_reason</th>\n",
       "      <th>hire_date</th>\n",
       "      <th>left_date</th>\n",
       "      <th>employment_status</th>\n",
       "      <th>uid</th>\n",
       "      <th>switched_job</th>\n",
       "      <th>source_agency</th>\n",
       "    </tr>\n",
       "  </thead>\n",
       "  <tbody>\n",
       "    <tr>\n",
       "      <th>0</th>\n",
       "      <td>0</td>\n",
       "      <td>jefferson-so</td>\n",
       "      <td>Alvarado</td>\n",
       "      <td>Julio</td>\n",
       "      <td>C</td>\n",
       "      <td>NaN</td>\n",
       "      <td>2/28/2005</td>\n",
       "      <td></td>\n",
       "      <td>full-time</td>\n",
       "      <td>533c4b1488acdc53a407ded1a3aead5a</td>\n",
       "      <td>True</td>\n",
       "      <td>post</td>\n",
       "    </tr>\n",
       "    <tr>\n",
       "      <th>1</th>\n",
       "      <td>0</td>\n",
       "      <td>new-orleans-so</td>\n",
       "      <td>Alvarado</td>\n",
       "      <td>Julio</td>\n",
       "      <td>C</td>\n",
       "      <td>NaN</td>\n",
       "      <td>5/17/2002</td>\n",
       "      <td></td>\n",
       "      <td>full-time</td>\n",
       "      <td>cb96d0f672d1d8326bd5179e4b096008</td>\n",
       "      <td>True</td>\n",
       "      <td>post</td>\n",
       "    </tr>\n",
       "    <tr>\n",
       "      <th>3</th>\n",
       "      <td>1</td>\n",
       "      <td>new-orleans-pd</td>\n",
       "      <td>Vaught</td>\n",
       "      <td>Ryan</td>\n",
       "      <td>Clinton</td>\n",
       "      <td>NaN</td>\n",
       "      <td>10/7/2004</td>\n",
       "      <td>9/17/2016</td>\n",
       "      <td>full-time</td>\n",
       "      <td>25476f4abd0349a7642be58e7884a089</td>\n",
       "      <td>True</td>\n",
       "      <td>post</td>\n",
       "    </tr>\n",
       "    <tr>\n",
       "      <th>4</th>\n",
       "      <td>1</td>\n",
       "      <td>jefferson-so</td>\n",
       "      <td>Vaught</td>\n",
       "      <td>Ryan</td>\n",
       "      <td>Clinton</td>\n",
       "      <td>NaN</td>\n",
       "      <td>9/19/2016</td>\n",
       "      <td></td>\n",
       "      <td>NaN</td>\n",
       "      <td>87b74f5bcb15ada873c385eeae1a7a82</td>\n",
       "      <td>True</td>\n",
       "      <td>post</td>\n",
       "    </tr>\n",
       "    <tr>\n",
       "      <th>5</th>\n",
       "      <td>2</td>\n",
       "      <td>harahan-pd</td>\n",
       "      <td>Mehrtens</td>\n",
       "      <td>Steven</td>\n",
       "      <td>Allen</td>\n",
       "      <td>NaN</td>\n",
       "      <td>9/1/2011</td>\n",
       "      <td></td>\n",
       "      <td>full-time</td>\n",
       "      <td>95133fd49fc34420fc33fb2b4b93a15a</td>\n",
       "      <td>True</td>\n",
       "      <td>post</td>\n",
       "    </tr>\n",
       "    <tr>\n",
       "      <th>6</th>\n",
       "      <td>2</td>\n",
       "      <td>jefferson-so</td>\n",
       "      <td>Mehrtens</td>\n",
       "      <td>Steven</td>\n",
       "      <td>Allen</td>\n",
       "      <td>NaN</td>\n",
       "      <td>10/3/2016</td>\n",
       "      <td></td>\n",
       "      <td>full-time</td>\n",
       "      <td>8d32027409ab418474a016d5eb6327d7</td>\n",
       "      <td>True</td>\n",
       "      <td>post</td>\n",
       "    </tr>\n",
       "    <tr>\n",
       "      <th>7</th>\n",
       "      <td>3</td>\n",
       "      <td>jefferson-so</td>\n",
       "      <td>Estrada</td>\n",
       "      <td>Manuel</td>\n",
       "      <td>E</td>\n",
       "      <td>NaN</td>\n",
       "      <td>6/2/2003</td>\n",
       "      <td></td>\n",
       "      <td>NaN</td>\n",
       "      <td>9bc1cc3c98b08a83dffaa020de7fbb2c</td>\n",
       "      <td>False</td>\n",
       "      <td>post</td>\n",
       "    </tr>\n",
       "    <tr>\n",
       "      <th>8</th>\n",
       "      <td>4</td>\n",
       "      <td>jefferson-so</td>\n",
       "      <td>Gaudet</td>\n",
       "      <td>Myron</td>\n",
       "      <td>A</td>\n",
       "      <td>NaN</td>\n",
       "      <td>11/18/1994</td>\n",
       "      <td></td>\n",
       "      <td>full-time</td>\n",
       "      <td>19a938673d27ca9d02ae75f058d18d40</td>\n",
       "      <td>False</td>\n",
       "      <td>post</td>\n",
       "    </tr>\n",
       "    <tr>\n",
       "      <th>11</th>\n",
       "      <td>5</td>\n",
       "      <td>st-tammany-so</td>\n",
       "      <td>Dowling</td>\n",
       "      <td>Keith</td>\n",
       "      <td>Edward</td>\n",
       "      <td>NaN</td>\n",
       "      <td>11/15/2002</td>\n",
       "      <td>8/1/2009</td>\n",
       "      <td>full-time</td>\n",
       "      <td>d8771bbcf4768c937b62c1886e20642f</td>\n",
       "      <td>True</td>\n",
       "      <td>post</td>\n",
       "    </tr>\n",
       "    <tr>\n",
       "      <th>12</th>\n",
       "      <td>5</td>\n",
       "      <td>causeway-pd</td>\n",
       "      <td>Dowling</td>\n",
       "      <td>Keith</td>\n",
       "      <td>Edward</td>\n",
       "      <td>NaN</td>\n",
       "      <td>7/29/2012</td>\n",
       "      <td></td>\n",
       "      <td>full-time</td>\n",
       "      <td>eb2328ff27c678f8979d7771b563f38e</td>\n",
       "      <td>True</td>\n",
       "      <td>post</td>\n",
       "    </tr>\n",
       "  </tbody>\n",
       "</table>\n",
       "</div>"
      ],
      "text/plain": [
       "    history_id          agency last_name first_name middle_name left_reason  \\\n",
       "0            0    jefferson-so  Alvarado      Julio           C         NaN   \n",
       "1            0  new-orleans-so  Alvarado      Julio           C         NaN   \n",
       "3            1  new-orleans-pd    Vaught       Ryan     Clinton         NaN   \n",
       "4            1    jefferson-so    Vaught       Ryan     Clinton         NaN   \n",
       "5            2      harahan-pd  Mehrtens     Steven       Allen         NaN   \n",
       "6            2    jefferson-so  Mehrtens     Steven       Allen         NaN   \n",
       "7            3    jefferson-so   Estrada     Manuel           E         NaN   \n",
       "8            4    jefferson-so    Gaudet      Myron           A         NaN   \n",
       "11           5   st-tammany-so   Dowling      Keith      Edward         NaN   \n",
       "12           5     causeway-pd   Dowling      Keith      Edward         NaN   \n",
       "\n",
       "     hire_date  left_date employment_status                               uid  \\\n",
       "0    2/28/2005                    full-time  533c4b1488acdc53a407ded1a3aead5a   \n",
       "1    5/17/2002                    full-time  cb96d0f672d1d8326bd5179e4b096008   \n",
       "3    10/7/2004  9/17/2016         full-time  25476f4abd0349a7642be58e7884a089   \n",
       "4    9/19/2016                          NaN  87b74f5bcb15ada873c385eeae1a7a82   \n",
       "5     9/1/2011                    full-time  95133fd49fc34420fc33fb2b4b93a15a   \n",
       "6    10/3/2016                    full-time  8d32027409ab418474a016d5eb6327d7   \n",
       "7     6/2/2003                          NaN  9bc1cc3c98b08a83dffaa020de7fbb2c   \n",
       "8   11/18/1994                    full-time  19a938673d27ca9d02ae75f058d18d40   \n",
       "11  11/15/2002   8/1/2009         full-time  d8771bbcf4768c937b62c1886e20642f   \n",
       "12   7/29/2012                    full-time  eb2328ff27c678f8979d7771b563f38e   \n",
       "\n",
       "    switched_job source_agency  \n",
       "0           True          post  \n",
       "1           True          post  \n",
       "3           True          post  \n",
       "4           True          post  \n",
       "5           True          post  \n",
       "6           True          post  \n",
       "7          False          post  \n",
       "8          False          post  \n",
       "11          True          post  \n",
       "12          True          post  "
      ]
     },
     "execution_count": 4,
     "metadata": {},
     "output_type": "execute_result"
    }
   ],
   "source": [
    "\"\"\"\n",
    "Preview\n",
    "\"\"\"\n",
    "df.head(10)"
   ]
  },
  {
   "cell_type": "code",
   "execution_count": 5,
   "metadata": {},
   "outputs": [],
   "source": [
    "\"\"\"\n",
    "Filter out officers who haven't switched employers\n",
    "\"\"\"\n",
    "df = df[df.switched_job == True]"
   ]
  },
  {
   "cell_type": "code",
   "execution_count": 6,
   "metadata": {},
   "outputs": [],
   "source": [
    "\"\"\"\n",
    "Act 272 of 2017 requires all law enforcement agencies to report changes to an officer's employment status\n",
    "---------------------------------------------------------------------------------------------------------\n",
    "Filter for the years 2017 - present\n",
    "Filter out officers who retired or are deceased \n",
    "Fill na rows with n/a\n",
    "\"\"\"\n",
    "def filter_years(df):\n",
    "    year = df.left_date.str.extract(r\"(\\w{4})\")\n",
    "    df.loc[:, \"left_year\"] = year[0]\n",
    "\n",
    "    df = df[~(df.left_year.isin([\"2018\", \"2019\", \"2020\", \"2021\", \"2022\"]))]\n",
    "    return df\n",
    "\n",
    "def filter_employment_status(df):\n",
    "    df = df[~((df.employment_status == \"retired\"))]\n",
    "    df = df[~((df.employment_status == \"deceased\"))]\n",
    "    return df\n",
    "\n",
    "def fill_na_values(df):\n",
    "    df.loc[:, \"left_reason\"] = df.left_reason.fillna(\"no left reason\")\n",
    "    return df"
   ]
  },
  {
   "cell_type": "code",
   "execution_count": 7,
   "metadata": {},
   "outputs": [],
   "source": [
    "df = df.pipe(filter_years).pipe(filter_employment_status).pipe(fill_na_values)"
   ]
  },
  {
   "cell_type": "code",
   "execution_count": 8,
   "metadata": {},
   "outputs": [
    {
     "data": {
      "text/plain": [
       "642"
      ]
     },
     "execution_count": 8,
     "metadata": {},
     "output_type": "execute_result"
    }
   ],
   "source": [
    "\"\"\"\n",
    "Number of officers who have switched employers\n",
    "\"\"\"\n",
    "df.history_id.nunique()"
   ]
  },
  {
   "cell_type": "code",
   "execution_count": 9,
   "metadata": {},
   "outputs": [
    {
     "data": {
      "text/plain": [
       "213"
      ]
     },
     "execution_count": 9,
     "metadata": {},
     "output_type": "execute_result"
    }
   ],
   "source": [
    "\"\"\"\n",
    "Officers who switched employers in these years moved between the following number of agencies\n",
    "\"\"\"\n",
    "df.agency.nunique()"
   ]
  },
  {
   "cell_type": "code",
   "execution_count": 10,
   "metadata": {},
   "outputs": [
    {
     "data": {
      "text/plain": [
       "no left reason           0.946429\n",
       "resignation              0.031429\n",
       "voluntary resignation    0.015714\n",
       "termination              0.006429\n",
       "Name: left_reason, dtype: float64"
      ]
     },
     "execution_count": 10,
     "metadata": {},
     "output_type": "execute_result"
    }
   ],
   "source": [
    "\"\"\"\n",
    "A left reason is provided for 7% of the officers\n",
    "\"\"\"\n",
    "df.left_reason.value_counts(normalize=True)"
   ]
  },
  {
   "cell_type": "code",
   "execution_count": 11,
   "metadata": {},
   "outputs": [],
   "source": [
    "def drop_na_rows(df):\n",
    "    df.loc[:, \"left_reason\"] = df.left_reason.str.replace(r\"^no left reason$\", \"\", regex=True)\n",
    "    return df[~((df.left_reason == \"\"))]"
   ]
  },
  {
   "cell_type": "code",
   "execution_count": 12,
   "metadata": {},
   "outputs": [],
   "source": [
    "df = df.pipe(drop_na_rows)"
   ]
  },
  {
   "cell_type": "code",
   "execution_count": 14,
   "metadata": {},
   "outputs": [
    {
     "data": {
      "text/plain": [
       "resignation              44\n",
       "voluntary resignation    22\n",
       "termination               9\n",
       "Name: left_reason, dtype: int64"
      ]
     },
     "execution_count": 14,
     "metadata": {},
     "output_type": "execute_result"
    }
   ],
   "source": [
    "\"\"\"\n",
    "Of the 7%, the most commonly reported left_reason is resignation, followed by voluntary resignation and termination.\n",
    "\"\"\"\n",
    "df.left_reason.value_counts(normalize=True)"
   ]
  }
 ],
 "metadata": {
  "kernelspec": {
   "display_name": "Python 3.9.11 64-bit",
   "language": "python",
   "name": "python3"
  },
  "language_info": {
   "codemirror_mode": {
    "name": "ipython",
    "version": 3
   },
   "file_extension": ".py",
   "mimetype": "text/x-python",
   "name": "python",
   "nbconvert_exporter": "python",
   "pygments_lexer": "ipython3",
   "version": "3.9.11"
  },
  "orig_nbformat": 4,
  "vscode": {
   "interpreter": {
    "hash": "f6c8f846148a3e4d140e6ddf63c190cff559dcf260a4a21539f0978f2b58638c"
   }
  }
 },
 "nbformat": 4,
 "nbformat_minor": 2
}

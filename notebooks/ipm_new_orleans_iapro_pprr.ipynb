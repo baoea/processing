{
 "metadata": {
  "language_info": {
   "codemirror_mode": {
    "name": "ipython",
    "version": 3
   },
   "file_extension": ".py",
   "mimetype": "text/x-python",
   "name": "python",
   "nbconvert_exporter": "python",
   "pygments_lexer": "ipython3",
   "version": "3.8.3-final"
  },
  "orig_nbformat": 2,
  "kernelspec": {
   "name": "python3",
   "display_name": "Python 3.8.3 64-bit ('base': conda)",
   "metadata": {
    "interpreter": {
     "hash": "759d03fc00c4e55187619d7bc1e0b6a3309d14c7c00d43a321634150e05678f8"
    }
   }
  }
 },
 "nbformat": 4,
 "nbformat_minor": 2,
 "cells": [
  {
   "cell_type": "code",
   "execution_count": 1,
   "metadata": {},
   "outputs": [],
   "source": [
    "import sys; sys.path.append(\"../\")\n",
    "import pandas as pd\n",
    "\n",
    "from clean.ipm_new_orleans_iapro_pprr import clean\n",
    "from lib.explore import show_unique\n"
   ]
  },
  {
   "cell_type": "code",
   "execution_count": 2,
   "metadata": {},
   "outputs": [
    {
     "output_type": "execute_result",
     "data": {
      "text/plain": [
       "      employee_id badge_no    rank_desc     employee_type employment_status  \\\n",
       "0            6299      NaN          NaN               NaN               NaN   \n",
       "1            6301      NaN          NaN               NaN               NaN   \n",
       "2            6302      NaN          NaN               NaN               NaN   \n",
       "3            6313      NaN          NaN  Non-Commissioned               NaN   \n",
       "4            6308      NaN          NaN               NaN               NaN   \n",
       "...           ...      ...          ...               ...               ...   \n",
       "5876         6523      NaN      LABORER  Non-Commissioned            Active   \n",
       "5877         6524      NaN  POLICE AIDE  Non-Commissioned        Terminated   \n",
       "5878         6525      NaN  POLICE AIDE  Non-Commissioned            Active   \n",
       "5879         6526      NaN  POLICE AIDE  Non-Commissioned            Active   \n",
       "5880         6527      NaN  POLICE AIDE  Non-Commissioned            Active   \n",
       "\n",
       "               hired_date term_date officer_inactive  years_employed  \\\n",
       "0                     NaN       NaN               No             NaN   \n",
       "1                     NaN       NaN               No             NaN   \n",
       "2                     NaN       NaN              NaN             NaN   \n",
       "3                     NaN       NaN               No             NaN   \n",
       "4                     NaN       NaN               No             NaN   \n",
       "...                   ...       ...              ...             ...   \n",
       "5876  2018-04-15 00:00:00       NaN               No             3.0   \n",
       "5877  2018-04-29 00:00:00       NaN              Yes             3.0   \n",
       "5878  2018-04-29 00:00:00       NaN               No             3.0   \n",
       "5879  2018-05-13 00:00:00       NaN               No             3.0   \n",
       "5880  2018-05-13 00:00:00       NaN               No             3.0   \n",
       "\n",
       "              working_status  ...                      race  \\\n",
       "0                        NaN  ...              Unknown race   \n",
       "1                        NaN  ...  Black / African American   \n",
       "2                        NaN  ...              Unknown race   \n",
       "3                        NaN  ...  Black / African American   \n",
       "4                        NaN  ...              Unknown race   \n",
       "...                      ...  ...                       ...   \n",
       "5876  Unknown Working Status  ...  Black / African American   \n",
       "5877  Unknown Working Status  ...  Black / African American   \n",
       "5878  Unknown Working Status  ...  Black / African American   \n",
       "5879  Unknown Working Status  ...  Black / African American   \n",
       "5880  Unknown Working Status  ...                     White   \n",
       "\n",
       "                   officer_department  \\\n",
       "0                                 NaN   \n",
       "1                                 NaN   \n",
       "2                                 NaN   \n",
       "3                                 NaN   \n",
       "4                                 NaN   \n",
       "...                               ...   \n",
       "5876  MSB - Management Service Bureau   \n",
       "5877  MSB - Management Service Bureau   \n",
       "5878  MSB - Management Service Bureau   \n",
       "5879  MSB - Management Service Bureau   \n",
       "5880    FOB - Field Operations Bureau   \n",
       "\n",
       "                                       officer_division  \\\n",
       "0                                                   NaN   \n",
       "1                                                   NaN   \n",
       "2                                                   NaN   \n",
       "3                                                   NaN   \n",
       "4                                                   NaN   \n",
       "...                                                 ...   \n",
       "5876  Records & Identification / Support Services Di...   \n",
       "5877  Records & Identification / Support Services Di...   \n",
       "5878  Records & Identification / Support Services Di...   \n",
       "5879  Records & Identification / Support Services Di...   \n",
       "5880                                                NaN   \n",
       "\n",
       "     officer_sub_division_a   officer_sub_division_b  assigned_to_unit_on  \\\n",
       "0                       NaN                      NaN                  NaN   \n",
       "1                       NaN                      NaN                  NaN   \n",
       "2                       NaN                      NaN                  NaN   \n",
       "3                       NaN                      NaN                  NaN   \n",
       "4                       NaN                      NaN                  NaN   \n",
       "...                     ...                      ...                  ...   \n",
       "5876       Support Services                    Staff  2018-04-25 00:00:00   \n",
       "5877       Support Services  Risk Management Section  2018-04-29 00:00:00   \n",
       "5878       Support Services                    Staff  2018-04-29 00:00:00   \n",
       "5879       Support Services                    Staff  2018-05-13 00:00:00   \n",
       "5880                    NaN                      NaN  2018-05-13 00:00:00   \n",
       "\n",
       "     first_name middle_name                   last_name current_supervisor  \n",
       "0           NaN         NaN  Unknown Complaint Operator                NaN  \n",
       "1        damita         NaN                    williams                NaN  \n",
       "2           NaN         NaN                         NaN                NaN  \n",
       "3      Mitchell         NaN                       Brown                NaN  \n",
       "4           NaN         NaN                         NaN                NaN  \n",
       "...         ...         ...                         ...                ...  \n",
       "5876    William           A                       Louis             3802.0  \n",
       "5877    Zachary           N                       Evans             6072.0  \n",
       "5878    Darrick           D                      Breaux             6072.0  \n",
       "5879     Lecour           N                        Hall             3802.0  \n",
       "5880      David           L                    Smathers             2274.0  \n",
       "\n",
       "[5881 rows x 24 columns]"
      ],
      "text/html": "<div>\n<style scoped>\n    .dataframe tbody tr th:only-of-type {\n        vertical-align: middle;\n    }\n\n    .dataframe tbody tr th {\n        vertical-align: top;\n    }\n\n    .dataframe thead th {\n        text-align: right;\n    }\n</style>\n<table border=\"1\" class=\"dataframe\">\n  <thead>\n    <tr style=\"text-align: right;\">\n      <th></th>\n      <th>employee_id</th>\n      <th>badge_no</th>\n      <th>rank_desc</th>\n      <th>employee_type</th>\n      <th>employment_status</th>\n      <th>hired_date</th>\n      <th>term_date</th>\n      <th>officer_inactive</th>\n      <th>years_employed</th>\n      <th>working_status</th>\n      <th>...</th>\n      <th>race</th>\n      <th>officer_department</th>\n      <th>officer_division</th>\n      <th>officer_sub_division_a</th>\n      <th>officer_sub_division_b</th>\n      <th>assigned_to_unit_on</th>\n      <th>first_name</th>\n      <th>middle_name</th>\n      <th>last_name</th>\n      <th>current_supervisor</th>\n    </tr>\n  </thead>\n  <tbody>\n    <tr>\n      <th>0</th>\n      <td>6299</td>\n      <td>NaN</td>\n      <td>NaN</td>\n      <td>NaN</td>\n      <td>NaN</td>\n      <td>NaN</td>\n      <td>NaN</td>\n      <td>No</td>\n      <td>NaN</td>\n      <td>NaN</td>\n      <td>...</td>\n      <td>Unknown race</td>\n      <td>NaN</td>\n      <td>NaN</td>\n      <td>NaN</td>\n      <td>NaN</td>\n      <td>NaN</td>\n      <td>NaN</td>\n      <td>NaN</td>\n      <td>Unknown Complaint Operator</td>\n      <td>NaN</td>\n    </tr>\n    <tr>\n      <th>1</th>\n      <td>6301</td>\n      <td>NaN</td>\n      <td>NaN</td>\n      <td>NaN</td>\n      <td>NaN</td>\n      <td>NaN</td>\n      <td>NaN</td>\n      <td>No</td>\n      <td>NaN</td>\n      <td>NaN</td>\n      <td>...</td>\n      <td>Black / African American</td>\n      <td>NaN</td>\n      <td>NaN</td>\n      <td>NaN</td>\n      <td>NaN</td>\n      <td>NaN</td>\n      <td>damita</td>\n      <td>NaN</td>\n      <td>williams</td>\n      <td>NaN</td>\n    </tr>\n    <tr>\n      <th>2</th>\n      <td>6302</td>\n      <td>NaN</td>\n      <td>NaN</td>\n      <td>NaN</td>\n      <td>NaN</td>\n      <td>NaN</td>\n      <td>NaN</td>\n      <td>NaN</td>\n      <td>NaN</td>\n      <td>NaN</td>\n      <td>...</td>\n      <td>Unknown race</td>\n      <td>NaN</td>\n      <td>NaN</td>\n      <td>NaN</td>\n      <td>NaN</td>\n      <td>NaN</td>\n      <td>NaN</td>\n      <td>NaN</td>\n      <td>NaN</td>\n      <td>NaN</td>\n    </tr>\n    <tr>\n      <th>3</th>\n      <td>6313</td>\n      <td>NaN</td>\n      <td>NaN</td>\n      <td>Non-Commissioned</td>\n      <td>NaN</td>\n      <td>NaN</td>\n      <td>NaN</td>\n      <td>No</td>\n      <td>NaN</td>\n      <td>NaN</td>\n      <td>...</td>\n      <td>Black / African American</td>\n      <td>NaN</td>\n      <td>NaN</td>\n      <td>NaN</td>\n      <td>NaN</td>\n      <td>NaN</td>\n      <td>Mitchell</td>\n      <td>NaN</td>\n      <td>Brown</td>\n      <td>NaN</td>\n    </tr>\n    <tr>\n      <th>4</th>\n      <td>6308</td>\n      <td>NaN</td>\n      <td>NaN</td>\n      <td>NaN</td>\n      <td>NaN</td>\n      <td>NaN</td>\n      <td>NaN</td>\n      <td>No</td>\n      <td>NaN</td>\n      <td>NaN</td>\n      <td>...</td>\n      <td>Unknown race</td>\n      <td>NaN</td>\n      <td>NaN</td>\n      <td>NaN</td>\n      <td>NaN</td>\n      <td>NaN</td>\n      <td>NaN</td>\n      <td>NaN</td>\n      <td>NaN</td>\n      <td>NaN</td>\n    </tr>\n    <tr>\n      <th>...</th>\n      <td>...</td>\n      <td>...</td>\n      <td>...</td>\n      <td>...</td>\n      <td>...</td>\n      <td>...</td>\n      <td>...</td>\n      <td>...</td>\n      <td>...</td>\n      <td>...</td>\n      <td>...</td>\n      <td>...</td>\n      <td>...</td>\n      <td>...</td>\n      <td>...</td>\n      <td>...</td>\n      <td>...</td>\n      <td>...</td>\n      <td>...</td>\n      <td>...</td>\n      <td>...</td>\n    </tr>\n    <tr>\n      <th>5876</th>\n      <td>6523</td>\n      <td>NaN</td>\n      <td>LABORER</td>\n      <td>Non-Commissioned</td>\n      <td>Active</td>\n      <td>2018-04-15 00:00:00</td>\n      <td>NaN</td>\n      <td>No</td>\n      <td>3.0</td>\n      <td>Unknown Working Status</td>\n      <td>...</td>\n      <td>Black / African American</td>\n      <td>MSB - Management Service Bureau</td>\n      <td>Records &amp; Identification / Support Services Di...</td>\n      <td>Support Services</td>\n      <td>Staff</td>\n      <td>2018-04-25 00:00:00</td>\n      <td>William</td>\n      <td>A</td>\n      <td>Louis</td>\n      <td>3802.0</td>\n    </tr>\n    <tr>\n      <th>5877</th>\n      <td>6524</td>\n      <td>NaN</td>\n      <td>POLICE AIDE</td>\n      <td>Non-Commissioned</td>\n      <td>Terminated</td>\n      <td>2018-04-29 00:00:00</td>\n      <td>NaN</td>\n      <td>Yes</td>\n      <td>3.0</td>\n      <td>Unknown Working Status</td>\n      <td>...</td>\n      <td>Black / African American</td>\n      <td>MSB - Management Service Bureau</td>\n      <td>Records &amp; Identification / Support Services Di...</td>\n      <td>Support Services</td>\n      <td>Risk Management Section</td>\n      <td>2018-04-29 00:00:00</td>\n      <td>Zachary</td>\n      <td>N</td>\n      <td>Evans</td>\n      <td>6072.0</td>\n    </tr>\n    <tr>\n      <th>5878</th>\n      <td>6525</td>\n      <td>NaN</td>\n      <td>POLICE AIDE</td>\n      <td>Non-Commissioned</td>\n      <td>Active</td>\n      <td>2018-04-29 00:00:00</td>\n      <td>NaN</td>\n      <td>No</td>\n      <td>3.0</td>\n      <td>Unknown Working Status</td>\n      <td>...</td>\n      <td>Black / African American</td>\n      <td>MSB - Management Service Bureau</td>\n      <td>Records &amp; Identification / Support Services Di...</td>\n      <td>Support Services</td>\n      <td>Staff</td>\n      <td>2018-04-29 00:00:00</td>\n      <td>Darrick</td>\n      <td>D</td>\n      <td>Breaux</td>\n      <td>6072.0</td>\n    </tr>\n    <tr>\n      <th>5879</th>\n      <td>6526</td>\n      <td>NaN</td>\n      <td>POLICE AIDE</td>\n      <td>Non-Commissioned</td>\n      <td>Active</td>\n      <td>2018-05-13 00:00:00</td>\n      <td>NaN</td>\n      <td>No</td>\n      <td>3.0</td>\n      <td>Unknown Working Status</td>\n      <td>...</td>\n      <td>Black / African American</td>\n      <td>MSB - Management Service Bureau</td>\n      <td>Records &amp; Identification / Support Services Di...</td>\n      <td>Support Services</td>\n      <td>Staff</td>\n      <td>2018-05-13 00:00:00</td>\n      <td>Lecour</td>\n      <td>N</td>\n      <td>Hall</td>\n      <td>3802.0</td>\n    </tr>\n    <tr>\n      <th>5880</th>\n      <td>6527</td>\n      <td>NaN</td>\n      <td>POLICE AIDE</td>\n      <td>Non-Commissioned</td>\n      <td>Active</td>\n      <td>2018-05-13 00:00:00</td>\n      <td>NaN</td>\n      <td>No</td>\n      <td>3.0</td>\n      <td>Unknown Working Status</td>\n      <td>...</td>\n      <td>White</td>\n      <td>FOB - Field Operations Bureau</td>\n      <td>NaN</td>\n      <td>NaN</td>\n      <td>NaN</td>\n      <td>2018-05-13 00:00:00</td>\n      <td>David</td>\n      <td>L</td>\n      <td>Smathers</td>\n      <td>2274.0</td>\n    </tr>\n  </tbody>\n</table>\n<p>5881 rows × 24 columns</p>\n</div>"
     },
     "metadata": {},
     "execution_count": 2
    }
   ],
   "source": [
    "df = clean()\n",
    "df"
   ]
  },
  {
   "source": [
    "## Questions\n",
    "- Should column `officer_number` be saved as `employee_id`?\n",
    "- Should we keep column `officer_inactive`?\n",
    "- `years_employed` is not equal to `employment_ended_on` - `hired_on`. What is it and should we keep it?\n",
    "- What is `working_status` and do we need to keep it?\n",
    "- Keep `shift_hours` in personnel history table?\n",
    "- What is `exclude_reason` and do we want to drop it?\n",
    "- What are `officer_sub_division_a` and `officer_sub_division_b`?\n",
    "- Keep `officer_division`, `officer_sub_division_a` and `officer_sub_division_b` in personnel history table?\n",
    "- Is `assigned_to_unit_on` distinct from `appoint_date` and `pay_prog_start_date`?\n",
    "- Does `current_supervisor` reference `officer_number`?"
   ],
   "cell_type": "markdown",
   "metadata": {}
  },
  {
   "cell_type": "code",
   "execution_count": 3,
   "metadata": {},
   "outputs": [
    {
     "output_type": "stream",
     "name": "stdout",
     "text": [
      "     employment_status officer_inactive\n0                  NaN               No\n2                  NaN              NaN\n34          Terminated              Yes\n55              Active               No\n192                NaN              Yes\n232           Inactive              Yes\n281           Deceased              Yes\n282            Retired              Yes\n972             Active              NaN\n4988      Leave of Abs              Yes\n5353      Leave of Abs               No\n"
     ]
    }
   ],
   "source": [
    "print(df.loc[:, [\"employment_status\", \"officer_inactive\"]].drop_duplicates())"
   ]
  },
  {
   "cell_type": "code",
   "execution_count": 4,
   "metadata": {},
   "outputs": [
    {
     "output_type": "execute_result",
     "data": {
      "text/plain": [
       "      years_employed           hired_date            term_date\n",
       "281             75.0  1946-12-30 00:00:00  2009-06-07 00:00:00\n",
       "282             71.0  1950-06-16 00:00:00  2000-07-15 00:00:00\n",
       "283             67.0  1954-07-01 00:00:00  2009-07-05 00:00:00\n",
       "284             66.0  1955-05-03 00:00:00  2012-02-12 00:00:00\n",
       "285             65.0  1956-06-18 00:00:00  1999-03-28 00:00:00\n",
       "...              ...                  ...                  ...\n",
       "5852             3.0  2018-03-18 00:00:00                  NaN\n",
       "5860             3.0  2018-04-01 00:00:00                  NaN\n",
       "5875             3.0  2018-04-15 00:00:00                  NaN\n",
       "5877             3.0  2018-04-29 00:00:00                  NaN\n",
       "5879             3.0  2018-05-13 00:00:00                  NaN\n",
       "\n",
       "[4308 rows x 3 columns]"
      ],
      "text/html": "<div>\n<style scoped>\n    .dataframe tbody tr th:only-of-type {\n        vertical-align: middle;\n    }\n\n    .dataframe tbody tr th {\n        vertical-align: top;\n    }\n\n    .dataframe thead th {\n        text-align: right;\n    }\n</style>\n<table border=\"1\" class=\"dataframe\">\n  <thead>\n    <tr style=\"text-align: right;\">\n      <th></th>\n      <th>years_employed</th>\n      <th>hired_date</th>\n      <th>term_date</th>\n    </tr>\n  </thead>\n  <tbody>\n    <tr>\n      <th>281</th>\n      <td>75.0</td>\n      <td>1946-12-30 00:00:00</td>\n      <td>2009-06-07 00:00:00</td>\n    </tr>\n    <tr>\n      <th>282</th>\n      <td>71.0</td>\n      <td>1950-06-16 00:00:00</td>\n      <td>2000-07-15 00:00:00</td>\n    </tr>\n    <tr>\n      <th>283</th>\n      <td>67.0</td>\n      <td>1954-07-01 00:00:00</td>\n      <td>2009-07-05 00:00:00</td>\n    </tr>\n    <tr>\n      <th>284</th>\n      <td>66.0</td>\n      <td>1955-05-03 00:00:00</td>\n      <td>2012-02-12 00:00:00</td>\n    </tr>\n    <tr>\n      <th>285</th>\n      <td>65.0</td>\n      <td>1956-06-18 00:00:00</td>\n      <td>1999-03-28 00:00:00</td>\n    </tr>\n    <tr>\n      <th>...</th>\n      <td>...</td>\n      <td>...</td>\n      <td>...</td>\n    </tr>\n    <tr>\n      <th>5852</th>\n      <td>3.0</td>\n      <td>2018-03-18 00:00:00</td>\n      <td>NaN</td>\n    </tr>\n    <tr>\n      <th>5860</th>\n      <td>3.0</td>\n      <td>2018-04-01 00:00:00</td>\n      <td>NaN</td>\n    </tr>\n    <tr>\n      <th>5875</th>\n      <td>3.0</td>\n      <td>2018-04-15 00:00:00</td>\n      <td>NaN</td>\n    </tr>\n    <tr>\n      <th>5877</th>\n      <td>3.0</td>\n      <td>2018-04-29 00:00:00</td>\n      <td>NaN</td>\n    </tr>\n    <tr>\n      <th>5879</th>\n      <td>3.0</td>\n      <td>2018-05-13 00:00:00</td>\n      <td>NaN</td>\n    </tr>\n  </tbody>\n</table>\n<p>4308 rows × 3 columns</p>\n</div>"
     },
     "metadata": {},
     "execution_count": 4
    }
   ],
   "source": [
    "df.loc[df.years_employed.notna(), [\"years_employed\", \"hired_date\", \"term_date\"]].drop_duplicates()"
   ]
  },
  {
   "cell_type": "code",
   "execution_count": 5,
   "metadata": {},
   "outputs": [
    {
     "output_type": "execute_result",
     "data": {
      "text/plain": [
       "array([nan, 'Not - NOPD Officer', 'Regular Working',\n",
       "       'Unknown Working Status', 'RUI 2013-0676-R', 'DUI 2010-1236-C',\n",
       "       'ADD Re-Assigned', 'RUI 2012-0843-R', 'ADD', 'RUI 2010-0999-R',\n",
       "       'RUI 2013-0908-R', 'RUI 2010-1103-N', 'RUI 2012-0543-R',\n",
       "       'DUI 2012-0788-R', 'RUI 2012-0462-R', 'DUI 2007-0126-C',\n",
       "       'Not Employed', 'ADD  SICK',\n",
       "       'RUI Resigned/Retired Under Investigation', 'Sick',\n",
       "       'RUI - Resigned Under Investigation', 'DUI 2009-0665-R',\n",
       "       'Re-Assigned', 'DUI 2010-0999-R', 'DUI 2013-0138-R',\n",
       "       'RUI 2013-0047-R', 'RUI 2012-1173-R', 'RUI 2012-1097-C',\n",
       "       'RUI 2012-0763-R', 'Resigned', 'RUI 2013-0114-R',\n",
       "       'RUI 2013-0122-R', 'RUI 2012-0947-C', 'RUI 2013-0084-R',\n",
       "       'RUI 2013-0348-C'], dtype=object)"
      ]
     },
     "metadata": {},
     "execution_count": 5
    }
   ],
   "source": [
    "df.working_status.unique()"
   ]
  },
  {
   "cell_type": "code",
   "execution_count": 6,
   "metadata": {},
   "outputs": [
    {
     "output_type": "stream",
     "name": "stdout",
     "text": [
      "5881 rows\nemployee_id:\n    dtype: int64\n    unique: 5881\nbadge_no:\n    dtype: object\n    unique: 1970\nrank_desc:\n    dtype: object\n    unique: 174\nemployee_type:\n    dtype: object\n    unique: 6\n        [nan 'Non-Commissioned' 'Recruit' 'Commissioned' 'Non-Commisioned'\n 'Commisioned']\nemployment_status:\n    dtype: object\n    unique: 7\n        [nan 'Terminated' 'Active' 'Inactive' 'Deceased' 'Retired' 'Leave of Abs']\nhired_date:\n    dtype: object\n    unique: 1947\nterm_date:\n    dtype: object\n    unique: 907\nofficer_inactive:\n    dtype: object\n    unique: 3\n        ['No' nan 'Yes']\nyears_employed:\n    dtype: float64\n    unique: 64\n        [nan 75. 71. 67. 66. 65. 63. 61. 58. 57. 56. 55. 54. 53. 52. 51. 50. 49.\n 48. 47. 46. 45. 44. 43. 42. 41. 40. 39. 38. 37. 36. 35. 34. 33. 32. 31.\n 30. 29. 28. 27. 26. 25. 24. 23. 22. 21. 20. 19. 18. 17. 16. 15. 14. 13.\n 12. 11. 10.  9.  8.  7.  6.  5.  4.  3.]\nworking_status:\n    dtype: object\n    unique: 35\n        [nan 'Not - NOPD Officer' 'Regular Working' 'Unknown Working Status'\n 'RUI 2013-0676-R' 'DUI 2010-1236-C' 'ADD Re-Assigned' 'RUI 2012-0843-R'\n 'ADD' 'RUI 2010-0999-R' 'RUI 2013-0908-R' 'RUI 2010-1103-N'\n 'RUI 2012-0543-R' 'DUI 2012-0788-R' 'RUI 2012-0462-R' 'DUI 2007-0126-C'\n 'Not Employed' 'ADD  SICK' 'RUI Resigned/Retired Under Investigation'\n 'Sick' 'RUI - Resigned Under Investigation' 'DUI 2009-0665-R'\n 'Re-Assigned' 'DUI 2010-0999-R' 'DUI 2013-0138-R' 'RUI 2013-0047-R'\n 'RUI 2012-1173-R' 'RUI 2012-1097-C' 'RUI 2012-0763-R' 'Resigned'\n 'RUI 2013-0114-R' 'RUI 2013-0122-R' 'RUI 2012-0947-C' 'RUI 2013-0084-R'\n 'RUI 2013-0348-C']\nshift_hours:\n    dtype: object\n    unique: 7\n        [nan 'Not - NOPD Officer' 'Between 11pm-7am' 'Unknown Shift Hours'\n 'Between 7am-3pm' 'Between 3pm-11pm' '8a-4p']\nexclude_reason:\n    dtype: object\n    unique: 49\n        [nan 'Exclude, not attached to anyone'\n 'Exclude Duplicate, Merge not needed-duplicate'\n 'Exclude Duplicate, to 805, Delete Duplicate-spelling' 'Update'\n 'Exclude Duplicate, to 3385, Delete Duplicate-duplicate'\n 'Exclude Duplicate, to 5728' 'Exclude, Inactive' 'Update, Terminated'\n 'Exclude Duplicate, to 5560-old record' 'Exclude Duplicate, to 2074'\n 'Exclude Duplicate, to 5558-old record' 'Update, Deceased'\n 'Update, Retired' 'Update, not current officers'\n 'Update, As a School Crossing Guard, Not in AAD'\n 'Exclude Duplicate, to 5579-old record'\n 'Update, As a Reserve Officer, Not in AAD'\n 'Exclude Duplicate, to 5580-old record' 'Update, Not in AAD'\n 'Update,-name is incorrect in AAD'\n 'Update,-duplicate from 5640-duplicate'\n 'Update,-duplicate from 5631-duplicate'\n 'Update,-duplicate from 5600, 5811-duplicate'\n 'Update,-duplicate from 5927-duplicate' 'Update, name not correct in AAD'\n 'Exclude, not an Officer' 'Exclude Duplicate, to 5581-old record'\n 'Update,-duplicate from 5348-duplicate'\n 'Update,-duplicate from 5582, 5614-duplicate'\n 'Update,-duplicate from 5605-spelling'\n 'Update,-duplicate from 5801, 5802-duplicate'\n 'Update,-duplicate from 5866,-name change'\n 'Update,-duplicate from 5809, 5810-duplicate'\n 'Update,-duplicate from 5887-duplicate' 'Update, Name misspelled'\n 'Update,-duplicate from 5799-spelling'\n 'Update, As a Reserve Officer,-name backward in AAD'\n 'Update,-duplicate from 5453-new record'\n 'Update,-duplicate from 5308-new record'\n 'Update,-duplicate from 2489-new record'\n 'Update,-duplicate from 2434-new record'\n 'Update,-duplicate from 2107-new record' 'Update,-wrong name'\n 'Update,-name is backward' 'Update,-duplicate from 5808-duplicate'\n 'Update,-duplicate from 5649-duplicate'\n 'Update,-duplicate from 5888-duplicate'\n 'Update, Correct FNAM, should be Scott']\nbirth_year:\n    dtype: float64\n    unique: 84\n        [  nan 1992. 1990. 1911. 1925. 1927. 1933. 1928. 1930. 1934. 1932. 1942.\n 1944. 1946. 1941. 1931. 1920. 1943. 1945. 1947. 1948. 1937. 1949. 1939.\n 1940. 1938. 1950. 1951. 1936. 1924. 1952. 1953. 1921. 1954. 1955. 1956.\n 1957. 1959. 1958. 1960. 1961. 1935. 1962. 1963. 1965. 1966. 1968. 1967.\n 1969. 1964. 1970. 1972. 1973. 1971. 1929. 1923. 1919. 1922. 1974. 1976.\n 1977. 1975. 1926. 1978. 1979. 1980. 1981. 1983. 1982. 1984. 1985. 1900.\n 1988. 1986. 1987. 1989. 1993. 1991. 1901. 1994. 1996. 1995. 1997. 1998.]\nsex:\n    dtype: object\n    unique: 3\n        ['Unknown sex' 'F' 'M']\nrace:\n    dtype: object\n    unique: 6\n        ['Unknown race' 'Black / African American' 'White' 'Hispanic'\n 'Native American' 'Asian / Pacific Islander']\nofficer_department:\n    dtype: object\n    unique: 10\n        [nan 'Not - NOPD Officer' 'MSB - Management Services Bureau'\n 'FOB - Field Operations Bureau' 'ISB - Investigations and Support Bureau'\n 'ISB - Investigative Services Bureau' 'Compliance Bureau'\n 'MSB - Management Service Bureau' 'Office of the Superintendant'\n 'PIB - Public Integrity Bureau']\nofficer_division:\n    dtype: object\n    unique: 41\n        [nan 'Unknown District/Division' 'Police Recruits' 'Seventh District'\n 'First District' 'Crime Lab and Evidence Division'\n 'Special Operations Division' 'Districts' 'Communications Division'\n 'Crime Lab Division' 'Fifth District' 'Fourth District' 'Third District'\n 'ISB Staff' 'Reserve Division'\n 'Records & Identification / Support Services Divisi'\n 'Administrative Duties Services' 'Command Staff' 'Eighth District'\n 'Second District' 'Staff' 'Office of the Superintendant'\n 'Budget Services' 'Special Investigations Division'\n 'Education/Training & Recruitment Division' 'Consent Decree'\n 'Criminal Investigations Division' 'Sixth District' 'Technology Section'\n 'Public Information Office ' 'Alternative Police Response'\n 'Special Investigation Section' 'Intake Unit'\n \"Superintendant's Budget Staff\" 'Staff Programs Unit' 'Staff Division '\n 'Administrative Investigation Section' 'Criminal Investigation Section'\n 'Force Investigation Team' 'POLPLN Policy Planning' 'Special Events']\nofficer_sub_division_a:\n    dtype: object\n    unique: 88\n        [nan 'Unknown' '8th District' '7th District' 'Staff'\n 'Central Evidence & Property Section ' 'Tactical Section' '6th District'\n 'Communications' 'Fleet & Equipment Services Section' 'Crime Lab Section'\n '5th District' 'Narcotics' 'Investigations' '3rd District' 'ISB Staff'\n 'OPSE' 'Records & I.D.' 'Homicide Section' 'Traffic Section' 'Admin'\n 'Mounted' 'Scientific Criminal Investigations Section ' 'K9 Section'\n 'Limited Duty' 'Personnel Division' 'Intelligence Section'\n 'Training Section' 'Support Services' 'Recruitment Division'\n '1st Platoon' 'Crime Prevention/Quality of Life' 'C Platoon'\n 'Extended Sick' 'Night Watch' 'Administration' 'Day Watch'\n 'Quality of Life' 'Grants Administration Section' 'Workmans Compensation'\n 'Public Affairs' 'Bourbon Promenade' 'French Market Patrol'\n 'Lakeview Crime Prevention' 'Fiscal / Criminal Justice'\n 'Juvenile Section' 'Homeland Security' 'Special Victims  Section'\n 'Court Liaison' '3rd Platoon' 'A Platoon' '2nd Platoon' 'Evening Watch'\n 'Special Investigation Section' 'Professional Standards Section'\n 'B Platoon' 'D.I.U.' 'I.O.D.' 'Temporary' 'Staff Programs Unit' 'LWOP'\n 'Mayors Security' 'Day Beats' 'Mid-City' 'Narcotics Section' 'CID Staff'\n 'Task Force' 'Crime Prevention Section'\n 'Administrative Investigation Section' 'Criminal Investigation Section'\n 'Compliance Section' 'School Resource Officers' 'Street Gang Unit'\n 'Force Investigation Team' 'Detailed/Other' 'Building Security'\n 'Property Crimes Section' 'Multi-Agency Gang Unit' 'Task Force A'\n 'District Attorney Section' 'Victim/Witness Assistance Unit'\n 'Crime Analysis' 'Lost Property' 'Homeless Assistance' 'Military Leave'\n 'Magazine St. Patrol' 'Neighborhood Policing' 'Training Platoon']\nofficer_sub_division_b:\n    dtype: object\n    unique: 66\n        [nan 'Not - NOPD Officer' 'Unknown Assignment' 'Patrol' 'Platoon A'\n '1st Platoon' 'Unknown' 'Hit and Run Unit' 'Crime Lab Drugs'\n 'Special Officers Section' 'School Crossing Guards' 'Admin Unit' 'Staff'\n 'Risk Management Section' 'Public Records' 'Coroners Office'\n 'Crime Lab Forensic' 'Child Abuse Platoon 1' '3rd Platoon'\n 'Crime Lab Firearms' 'Sex Crimes Staff' 'V.O.W.S. Unit'\n 'Electronic Monitoring Unit' 'Sex Crimes Platoon 3' 'NCIC Platoon B'\n 'Property' 'Platoon C' 'Squad 1' 'Armory Unit' 'Crime Lab Platoon B'\n 'Persons' 'Motorcycle 2nd Platoon' 'Range Staff' 'Sex Crimes Platoon 1'\n 'B' 'DWI Unit' 'Sex Crimes Case' 'Squad 2' 'Crime Lab Admin'\n 'NCIC Platoon A' 'Marine and Bomb Unit' 'Motorcycle 1st Platoon'\n '2nd Platoon' 'Crime Lab Platoon A' 'Squad A' 'Criminal Records'\n 'Squad 3' 'Cold Case' 'Domestic Violence Unit' 'A' 'Squad E'\n 'Crime Lab Platoon C' 'Fatality Unit' 'District' 'Platoon B'\n '4rd Platoon' 'Sex Offender Registration' 'Squad B' 'Electronics Section'\n 'Squad C' 'Detailed Officers' 'Child Abuse Platoon 2' 'NCIC Platoon C'\n 'Sex Crimes Platoon 2' 'Narcotics' 'Squad D']\nassigned_to_unit_on:\n    dtype: object\n    unique: 1100\nfirst_name:\n    dtype: object\n    unique: 2002\nmiddle_name:\n    dtype: object\n    unique: 93\n        [nan 'P' 'H' 'J.' 'M' 'A' 'D' 'L' 'R' 'J' 'C' 'S' 'T' 'G' 'E' 'W' 'F' 'B'\n 'O' 'I' 'V' 'N' 'K' ' ' 'D.' 'Y' 'U' 'X' 'S.' 'Q' 'Darrell' 'Anthony'\n 'L.' 'B.' 'Victoria' 'Marie' 'Michelle' 'Lynell' 'Patrick' 'Warfield'\n 'Nathan' 'Dominic' 'Tufail' 'Jovan' 'Bernita' 'Raymond' 'Kallia' 'James'\n 'Brian' 'Monique' 'Tobias' 'Anne' 'Renee' 'Rena' 'Tanika' 'Briana'\n 'Ebony Ann' 'Chablis' 'Lynn' 'Norbert' 'Francisca' 'Yvonne' 'Breshon'\n 'Rosita' 'Veronica' 'Nahdege' 'Bryson' 'Samuel' 'Taylor' 'Roland'\n 'Nathanael' 'Anisa' 'Dawne' 'Eugene' 'Irael' 'Cherelle' 'Shanice' 'M.'\n 'Woodrow' 'V.' 'A.' 'P.' 'C.' 'R.' 'W.' 'O.' 'K.' 'F.' 'T.' 'E.' 'N.'\n 'H.' 'Z']\nlast_name:\n    dtype: object\n    unique: 3045\ncurrent_supervisor:\n    dtype: float64\n    unique: 366\n"
     ]
    }
   ],
   "source": [
    "show_unique(df)"
   ]
  },
  {
   "cell_type": "code",
   "execution_count": 7,
   "metadata": {},
   "outputs": [
    {
     "output_type": "execute_result",
     "data": {
      "text/plain": [
       "array([  nan,  648., 3324.,  731., 2011.,  990., 3731., 2899., 3431.,\n",
       "       2850., 3358., 3364., 3530., 3347.,  356.,  330., 3568., 6257.,\n",
       "        746., 4776., 3494., 3574., 3481.,  739.,   96.,  348., 6072.,\n",
       "        309., 2892., 1985., 3390., 3733., 3435.,  743.,  340., 2122.,\n",
       "       2680., 2201., 3398.,  663., 3344., 3477., 3802.,  301.,   30.,\n",
       "        323.,  654., 5899.,  766.,  738.,  351., 6203.,   27., 3531.,\n",
       "       2615., 3501.,  315.,  665.,  674.,  719.,  325., 3552.,  650.,\n",
       "       3399.,  701., 3480., 3323.,  681.,   35., 3546.,  770., 3569.,\n",
       "       3370., 3505., 1522.,  694.,  706.,  689.,  316.,  692., 3350.,\n",
       "       3555., 3453.,  358., 3371., 3622., 3522., 3410.,   48., 3554.,\n",
       "        661., 1430., 3355., 3599., 3595., 3412., 3517., 5780., 1873.,\n",
       "        190., 3677., 3394.,  647., 3372.,  742., 2709., 1909., 3668.,\n",
       "       3722., 3628., 3680., 3623., 3485., 3635., 2172., 3611., 3529.,\n",
       "       1971., 3542., 5337., 2561.,  759., 3524., 2929., 2220., 2686.,\n",
       "       3545., 3368., 1422., 5901., 3456., 3367.,  338., 3332., 3538.,\n",
       "        209., 3341., 3537.,  687., 1978., 3732., 2732., 2248., 3389.,\n",
       "       3627., 3443., 1730., 3659., 3513., 3395., 3711., 3339., 2366.,\n",
       "       2568., 2419., 3462.,  649., 3425., 3713., 3707.,  656., 2098.,\n",
       "       5777.,  300., 3671., 2591., 2550., 3445., 3467., 3566., 3642.,\n",
       "       3429., 2488.,  660., 2829., 3403., 1125.,  334., 3640., 3471.,\n",
       "       2583., 3705.,  673., 3626.,  821., 3464., 3669., 3322., 3385.,\n",
       "       3540.,  774., 5547., 3575., 3681., 1685., 3655., 3340., 3486.,\n",
       "       3672., 3596., 3619., 3536., 3369.,  916.,  750., 1233., 1050.,\n",
       "        655., 3393., 2673., 3336., 2063., 3570., 2089., 3430., 2683.,\n",
       "       2817., 6373.,  986., 1966., 3585., 3704., 3527., 3329., 3665.,\n",
       "       2463., 2806., 2752., 3694.,   10., 2202., 2485., 3657., 2594.,\n",
       "       2764., 2537.,  709.,  104.,  723., 3352., 3490., 3351.,  783.,\n",
       "        734., 1467., 2100., 3666., 3348., 3377., 2570., 2497.,  720.,\n",
       "       3360., 2674., 2326., 6430., 5551., 3689., 4766., 3423., 3558.,\n",
       "       1862., 2013.,  787., 2212., 2917., 2898., 3618., 3327., 3737.,\n",
       "       2377., 1823., 3631., 3333., 3667., 1935.,  684., 3607., 2672.,\n",
       "       3391., 3461., 1670., 3645., 3357., 1350., 1279.,  987., 1946.,\n",
       "       1808., 2759.,  189., 2371., 5331., 2163., 2092., 2901., 1011.,\n",
       "       2503., 3682.,  981., 3684., 1766., 3475., 2301., 3588., 1342.,\n",
       "       1575., 5395., 1133., 1479.,   38., 3426., 3571., 2069., 1466.,\n",
       "       2032., 3458., 3441., 1663., 3514.,   97., 3639., 1217., 3478.,\n",
       "        735.,  897., 2432., 2628., 3727., 1965., 2609., 3488., 2349.,\n",
       "       2265., 3719., 3706.,   37., 4749., 2636., 6102., 2440., 2274.,\n",
       "       5340., 1880., 2634., 1582., 2743., 2697., 3793., 1906., 3525.,\n",
       "       3507., 1357.,  317., 3402., 2579., 1554., 5338., 5785., 6003.,\n",
       "       5884., 2050., 2923., 5698., 3346., 6269.])"
      ]
     },
     "metadata": {},
     "execution_count": 7
    }
   ],
   "source": [
    "df.current_supervisor.unique()"
   ]
  },
  {
   "cell_type": "code",
   "execution_count": null,
   "metadata": {},
   "outputs": [],
   "source": []
  }
 ]
}
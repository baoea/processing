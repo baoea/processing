{
 "metadata": {
  "language_info": {
   "codemirror_mode": {
    "name": "ipython",
    "version": 3
   },
   "file_extension": ".py",
   "mimetype": "text/x-python",
   "name": "python",
   "nbconvert_exporter": "python",
   "pygments_lexer": "ipython3",
   "version": "3.8.3-final"
  },
  "orig_nbformat": 2,
  "kernelspec": {
   "name": "python383jvsc74a57bd0759d03fc00c4e55187619d7bc1e0b6a3309d14c7c00d43a321634150e05678f8",
   "display_name": "Python 3.8.3 64-bit ('base': conda)"
  }
 },
 "nbformat": 4,
 "nbformat_minor": 2,
 "cells": [
  {
   "cell_type": "code",
   "execution_count": 1,
   "metadata": {},
   "outputs": [],
   "source": [
    "import sys; sys.path.append(\"../\")\n",
    "import pandas as pd\n",
    "\n",
    "from clean.ipm_new_orleans_iapro_pprr import clean, clean_pprr\n",
    "from lib.columns import clean_column_names\n",
    "from lib.explore import show_unique\n"
   ]
  },
  {
   "cell_type": "code",
   "execution_count": 2,
   "metadata": {},
   "outputs": [
    {
     "output_type": "stream",
     "name": "stderr",
     "text": [
      "../clean/ipm_new_orleans_iapro_pprr.py:14: FutureWarning: The default value of regex will change from True to False in a future version.\n",
      "  df.loc[:, 'badge_no'] = df.badge_no.str.replace(r'^0+', '')\n",
      "../lib/clean.py:134: FutureWarning: The default value of regex will change from True to False in a future version.\n",
      "  df.loc[:, col] = df[col].str.strip().str.lower()\\\n",
      "../clean/ipm_new_orleans_iapro_pprr.py:27: FutureWarning: The default value of regex will change from True to False in a future version.\n",
      "  dates = df[col].fillna('').str.replace(r' \\d{2}:\\d{2}:\\d{2}$', '')\\\n",
      "../lib/clean.py:166: FutureWarning: The default value of regex will change from True to False in a future version.\n",
      "  return series.str.strip().str.replace(r\"[^\\w-]+\", \" \").str.replace(r\"\\s+\", \" \")\\\n",
      "../clean/ipm_new_orleans_iapro_pprr.py:59: FutureWarning: The default value of regex will change from True to False in a future version.\n",
      "  df.loc[:, 'last_name'] = df.last_name.str.replace(r'^unknown.*', '')\\\n"
     ]
    },
    {
     "output_type": "execute_result",
     "data": {
      "text/plain": [
       "     employee_id badge_no               rank_desc     employee_type  \\\n",
       "0           6301      NaN                                       NaN   \n",
       "1           6313      NaN                          non-commissioned   \n",
       "2           6435      NaN                                       NaN   \n",
       "3           6461    30061  police recruit academy               NaN   \n",
       "4           6468      NaN                                       NaN   \n",
       "...          ...      ...                     ...               ...   \n",
       "5665        6523      NaN                 laborer  non-commissioned   \n",
       "5666        6524      NaN             police aide  non-commissioned   \n",
       "5667        6525      NaN             police aide  non-commissioned   \n",
       "5668        6526      NaN             police aide  non-commissioned   \n",
       "5669        6527      NaN             police aide  non-commissioned   \n",
       "\n",
       "     employment_status officer_inactive years_employed birth_year      sex  \\\n",
       "0                                    no                             female   \n",
       "1                                    no                               male   \n",
       "2                                    no                            unknown   \n",
       "3           terminated              yes                      1992     male   \n",
       "4                                    no                            unknown   \n",
       "...                ...              ...            ...        ...      ...   \n",
       "5665            active               no              3       1995     male   \n",
       "5666        terminated              yes              3       1998     male   \n",
       "5667            active               no              3       1991     male   \n",
       "5668            active               no              3       1989   female   \n",
       "5669            active               no              3       1983     male   \n",
       "\n",
       "                          race  ... hire_year hire_month hire_day resign_year  \\\n",
       "0     black / african american  ...                                             \n",
       "1     black / african american  ...                                             \n",
       "2                      unknown  ...                                             \n",
       "3     black / african american  ...                                             \n",
       "4                      unknown  ...                                             \n",
       "...                        ...  ...       ...        ...      ...         ...   \n",
       "5665  black / african american  ...      2018         04       15               \n",
       "5666  black / african american  ...      2018         04       29               \n",
       "5667  black / african american  ...      2018         04       29               \n",
       "5668  black / african american  ...      2018         05       13               \n",
       "5669                     white  ...      2018         05       13               \n",
       "\n",
       "     resign_month resign_day dept_year dept_month dept_day middle_initial  \n",
       "0                                                                          \n",
       "1                                                                          \n",
       "2                                                                          \n",
       "3                                                                       p  \n",
       "4                                                                          \n",
       "...           ...        ...       ...        ...      ...            ...  \n",
       "5665                              2018         04       25              a  \n",
       "5666                              2018         04       29              n  \n",
       "5667                              2018         04       29              d  \n",
       "5668                              2018         05       13              n  \n",
       "5669                              2018         05       13              l  \n",
       "\n",
       "[5670 rows x 32 columns]"
      ],
      "text/html": "<div>\n<style scoped>\n    .dataframe tbody tr th:only-of-type {\n        vertical-align: middle;\n    }\n\n    .dataframe tbody tr th {\n        vertical-align: top;\n    }\n\n    .dataframe thead th {\n        text-align: right;\n    }\n</style>\n<table border=\"1\" class=\"dataframe\">\n  <thead>\n    <tr style=\"text-align: right;\">\n      <th></th>\n      <th>employee_id</th>\n      <th>badge_no</th>\n      <th>rank_desc</th>\n      <th>employee_type</th>\n      <th>employment_status</th>\n      <th>officer_inactive</th>\n      <th>years_employed</th>\n      <th>birth_year</th>\n      <th>sex</th>\n      <th>race</th>\n      <th>...</th>\n      <th>hire_year</th>\n      <th>hire_month</th>\n      <th>hire_day</th>\n      <th>resign_year</th>\n      <th>resign_month</th>\n      <th>resign_day</th>\n      <th>dept_year</th>\n      <th>dept_month</th>\n      <th>dept_day</th>\n      <th>middle_initial</th>\n    </tr>\n  </thead>\n  <tbody>\n    <tr>\n      <th>0</th>\n      <td>6301</td>\n      <td>NaN</td>\n      <td></td>\n      <td>NaN</td>\n      <td></td>\n      <td>no</td>\n      <td></td>\n      <td></td>\n      <td>female</td>\n      <td>black / african american</td>\n      <td>...</td>\n      <td></td>\n      <td></td>\n      <td></td>\n      <td></td>\n      <td></td>\n      <td></td>\n      <td></td>\n      <td></td>\n      <td></td>\n      <td></td>\n    </tr>\n    <tr>\n      <th>1</th>\n      <td>6313</td>\n      <td>NaN</td>\n      <td></td>\n      <td>non-commissioned</td>\n      <td></td>\n      <td>no</td>\n      <td></td>\n      <td></td>\n      <td>male</td>\n      <td>black / african american</td>\n      <td>...</td>\n      <td></td>\n      <td></td>\n      <td></td>\n      <td></td>\n      <td></td>\n      <td></td>\n      <td></td>\n      <td></td>\n      <td></td>\n      <td></td>\n    </tr>\n    <tr>\n      <th>2</th>\n      <td>6435</td>\n      <td>NaN</td>\n      <td></td>\n      <td>NaN</td>\n      <td></td>\n      <td>no</td>\n      <td></td>\n      <td></td>\n      <td>unknown</td>\n      <td>unknown</td>\n      <td>...</td>\n      <td></td>\n      <td></td>\n      <td></td>\n      <td></td>\n      <td></td>\n      <td></td>\n      <td></td>\n      <td></td>\n      <td></td>\n      <td></td>\n    </tr>\n    <tr>\n      <th>3</th>\n      <td>6461</td>\n      <td>30061</td>\n      <td>police recruit academy</td>\n      <td>NaN</td>\n      <td>terminated</td>\n      <td>yes</td>\n      <td></td>\n      <td>1992</td>\n      <td>male</td>\n      <td>black / african american</td>\n      <td>...</td>\n      <td></td>\n      <td></td>\n      <td></td>\n      <td></td>\n      <td></td>\n      <td></td>\n      <td></td>\n      <td></td>\n      <td></td>\n      <td>p</td>\n    </tr>\n    <tr>\n      <th>4</th>\n      <td>6468</td>\n      <td>NaN</td>\n      <td></td>\n      <td>NaN</td>\n      <td></td>\n      <td>no</td>\n      <td></td>\n      <td></td>\n      <td>unknown</td>\n      <td>unknown</td>\n      <td>...</td>\n      <td></td>\n      <td></td>\n      <td></td>\n      <td></td>\n      <td></td>\n      <td></td>\n      <td></td>\n      <td></td>\n      <td></td>\n      <td></td>\n    </tr>\n    <tr>\n      <th>...</th>\n      <td>...</td>\n      <td>...</td>\n      <td>...</td>\n      <td>...</td>\n      <td>...</td>\n      <td>...</td>\n      <td>...</td>\n      <td>...</td>\n      <td>...</td>\n      <td>...</td>\n      <td>...</td>\n      <td>...</td>\n      <td>...</td>\n      <td>...</td>\n      <td>...</td>\n      <td>...</td>\n      <td>...</td>\n      <td>...</td>\n      <td>...</td>\n      <td>...</td>\n      <td>...</td>\n    </tr>\n    <tr>\n      <th>5665</th>\n      <td>6523</td>\n      <td>NaN</td>\n      <td>laborer</td>\n      <td>non-commissioned</td>\n      <td>active</td>\n      <td>no</td>\n      <td>3</td>\n      <td>1995</td>\n      <td>male</td>\n      <td>black / african american</td>\n      <td>...</td>\n      <td>2018</td>\n      <td>04</td>\n      <td>15</td>\n      <td></td>\n      <td></td>\n      <td></td>\n      <td>2018</td>\n      <td>04</td>\n      <td>25</td>\n      <td>a</td>\n    </tr>\n    <tr>\n      <th>5666</th>\n      <td>6524</td>\n      <td>NaN</td>\n      <td>police aide</td>\n      <td>non-commissioned</td>\n      <td>terminated</td>\n      <td>yes</td>\n      <td>3</td>\n      <td>1998</td>\n      <td>male</td>\n      <td>black / african american</td>\n      <td>...</td>\n      <td>2018</td>\n      <td>04</td>\n      <td>29</td>\n      <td></td>\n      <td></td>\n      <td></td>\n      <td>2018</td>\n      <td>04</td>\n      <td>29</td>\n      <td>n</td>\n    </tr>\n    <tr>\n      <th>5667</th>\n      <td>6525</td>\n      <td>NaN</td>\n      <td>police aide</td>\n      <td>non-commissioned</td>\n      <td>active</td>\n      <td>no</td>\n      <td>3</td>\n      <td>1991</td>\n      <td>male</td>\n      <td>black / african american</td>\n      <td>...</td>\n      <td>2018</td>\n      <td>04</td>\n      <td>29</td>\n      <td></td>\n      <td></td>\n      <td></td>\n      <td>2018</td>\n      <td>04</td>\n      <td>29</td>\n      <td>d</td>\n    </tr>\n    <tr>\n      <th>5668</th>\n      <td>6526</td>\n      <td>NaN</td>\n      <td>police aide</td>\n      <td>non-commissioned</td>\n      <td>active</td>\n      <td>no</td>\n      <td>3</td>\n      <td>1989</td>\n      <td>female</td>\n      <td>black / african american</td>\n      <td>...</td>\n      <td>2018</td>\n      <td>05</td>\n      <td>13</td>\n      <td></td>\n      <td></td>\n      <td></td>\n      <td>2018</td>\n      <td>05</td>\n      <td>13</td>\n      <td>n</td>\n    </tr>\n    <tr>\n      <th>5669</th>\n      <td>6527</td>\n      <td>NaN</td>\n      <td>police aide</td>\n      <td>non-commissioned</td>\n      <td>active</td>\n      <td>no</td>\n      <td>3</td>\n      <td>1983</td>\n      <td>male</td>\n      <td>white</td>\n      <td>...</td>\n      <td>2018</td>\n      <td>05</td>\n      <td>13</td>\n      <td></td>\n      <td></td>\n      <td></td>\n      <td>2018</td>\n      <td>05</td>\n      <td>13</td>\n      <td>l</td>\n    </tr>\n  </tbody>\n</table>\n<p>5670 rows × 32 columns</p>\n</div>"
     },
     "metadata": {},
     "execution_count": 2
    }
   ],
   "source": [
    "df = clean()\n",
    "df"
   ]
  },
  {
   "cell_type": "code",
   "execution_count": 5,
   "metadata": {},
   "outputs": [
    {
     "output_type": "execute_result",
     "data": {
      "text/plain": [
       "Empty DataFrame\n",
       "Columns: [employee_id, badge_no, rank_desc, employee_type, employment_status, officer_inactive, years_employed, birth_year, sex, race, department_desc, division_desc, sub_division_a_desc, sub_division_b_desc, first_name, middle_name, last_name, current_supervisor, data_production_year, agency, uid, perhist_uid, hire_year, hire_month, hire_day, resign_year, resign_month, resign_day, dept_year, dept_month, dept_day, middle_initial]\n",
       "Index: []\n",
       "\n",
       "[0 rows x 32 columns]"
      ],
      "text/html": "<div>\n<style scoped>\n    .dataframe tbody tr th:only-of-type {\n        vertical-align: middle;\n    }\n\n    .dataframe tbody tr th {\n        vertical-align: top;\n    }\n\n    .dataframe thead th {\n        text-align: right;\n    }\n</style>\n<table border=\"1\" class=\"dataframe\">\n  <thead>\n    <tr style=\"text-align: right;\">\n      <th></th>\n      <th>employee_id</th>\n      <th>badge_no</th>\n      <th>rank_desc</th>\n      <th>employee_type</th>\n      <th>employment_status</th>\n      <th>officer_inactive</th>\n      <th>years_employed</th>\n      <th>birth_year</th>\n      <th>sex</th>\n      <th>race</th>\n      <th>...</th>\n      <th>hire_year</th>\n      <th>hire_month</th>\n      <th>hire_day</th>\n      <th>resign_year</th>\n      <th>resign_month</th>\n      <th>resign_day</th>\n      <th>dept_year</th>\n      <th>dept_month</th>\n      <th>dept_day</th>\n      <th>middle_initial</th>\n    </tr>\n  </thead>\n  <tbody>\n  </tbody>\n</table>\n<p>0 rows × 32 columns</p>\n</div>"
     },
     "metadata": {},
     "execution_count": 5
    }
   ],
   "source": [
    "df[df.uid.duplicated()]"
   ]
  },
  {
   "cell_type": "code",
   "execution_count": null,
   "metadata": {},
   "outputs": [],
   "source": []
  }
 ]
}
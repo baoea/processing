{
 "metadata": {
  "language_info": {
   "codemirror_mode": {
    "name": "ipython",
    "version": 3
   },
   "file_extension": ".py",
   "mimetype": "text/x-python",
   "name": "python",
   "nbconvert_exporter": "python",
   "pygments_lexer": "ipython3",
   "version": "3.8.3-final"
  },
  "orig_nbformat": 2,
  "kernelspec": {
   "name": "python3",
   "display_name": "Python 3.8.3 64-bit ('base': conda)",
   "metadata": {
    "interpreter": {
     "hash": "759d03fc00c4e55187619d7bc1e0b6a3309d14c7c00d43a321634150e05678f8"
    }
   }
  }
 },
 "nbformat": 4,
 "nbformat_minor": 2,
 "cells": [
  {
   "cell_type": "code",
   "execution_count": 1,
   "metadata": {},
   "outputs": [],
   "source": [
    "import sys; sys.path.append(\"../\")\n",
    "import pandas as pd\n",
    "\n",
    "from clean.ipm_new_orleans_iapro_pprr import clean, clean_pprr\n",
    "from lib.columns import clean_column_names\n",
    "from lib.explore import show_unique\n"
   ]
  },
  {
   "cell_type": "code",
   "execution_count": 2,
   "metadata": {},
   "outputs": [
    {
     "output_type": "stream",
     "name": "stderr",
     "text": [
      "../clean/ipm_new_orleans_iapro_pprr.py:14: FutureWarning: The default value of regex will change from True to False in a future version.\n",
      "  df.loc[:, 'badge_no'] = df.badge_no.str.replace(r'^0+', '')\n",
      "../lib/clean.py:134: FutureWarning: The default value of regex will change from True to False in a future version.\n",
      "  df.loc[:, col] = df[col].str.strip().str.lower()\\\n",
      "../clean/ipm_new_orleans_iapro_pprr.py:27: FutureWarning: The default value of regex will change from True to False in a future version.\n",
      "  dates = df[col].fillna('').str.replace(r' \\d{2}:\\d{2}:\\d{2}$', '')\\\n",
      "../lib/clean.py:166: FutureWarning: The default value of regex will change from True to False in a future version.\n",
      "  return series.str.strip().str.replace(r\"[^\\w-]+\", \" \").str.replace(r\"\\s+\", \" \")\\\n",
      "../clean/ipm_new_orleans_iapro_pprr.py:59: FutureWarning: The default value of regex will change from True to False in a future version.\n",
      "  df.loc[:, 'last_name'] = df.last_name.str.replace(r'^unknown.+', '')\\\n"
     ]
    },
    {
     "output_type": "execute_result",
     "data": {
      "text/plain": [
       "     employee_id badge_no    rank_desc     employee_type employment_status  \\\n",
       "0           6299      NaN                            NaN                     \n",
       "1           6301      NaN                            NaN                     \n",
       "2           6302      NaN                            NaN                     \n",
       "3           6313      NaN               non-commissioned                     \n",
       "4           6308      NaN                            NaN                     \n",
       "...          ...      ...          ...               ...               ...   \n",
       "5876        6523      NaN      laborer  non-commissioned            active   \n",
       "5877        6524      NaN  police aide  non-commissioned        terminated   \n",
       "5878        6525      NaN  police aide  non-commissioned            active   \n",
       "5879        6526      NaN  police aide  non-commissioned            active   \n",
       "5880        6527      NaN  police aide  non-commissioned            active   \n",
       "\n",
       "     officer_inactive years_employed birth_year      sex  \\\n",
       "0                  no                            unknown   \n",
       "1                  no                             female   \n",
       "2                                                unknown   \n",
       "3                  no                               male   \n",
       "4                  no                            unknown   \n",
       "...               ...            ...        ...      ...   \n",
       "5876               no              3       1995     male   \n",
       "5877              yes              3       1998     male   \n",
       "5878               no              3       1991     male   \n",
       "5879               no              3       1989   female   \n",
       "5880               no              3       1983     male   \n",
       "\n",
       "                          race  ... term_year term_month term_day  \\\n",
       "0                      unknown  ...                                 \n",
       "1     black / african american  ...                                 \n",
       "2                      unknown  ...                                 \n",
       "3     black / african american  ...                                 \n",
       "4                      unknown  ...                                 \n",
       "...                        ...  ...       ...        ...      ...   \n",
       "5876  black / african american  ...                                 \n",
       "5877  black / african american  ...                                 \n",
       "5878  black / african american  ...                                 \n",
       "5879  black / african american  ...                                 \n",
       "5880                     white  ...                                 \n",
       "\n",
       "     appoint_year appoint_month appoint_day middle_initial  \\\n",
       "0                                                            \n",
       "1                                                            \n",
       "2                                                            \n",
       "3                                                            \n",
       "4                                                            \n",
       "...           ...           ...         ...            ...   \n",
       "5876         2018            04          25              a   \n",
       "5877         2018            04          29              n   \n",
       "5878         2018            04          29              d   \n",
       "5879         2018            05          13              n   \n",
       "5880         2018            05          13              l   \n",
       "\n",
       "     data_production_year          agency                               uid  \n",
       "0                    2018  New Orleans PD  c06acabfbc622fcc7616babe6a561250  \n",
       "1                    2018  New Orleans PD  7680252ff5a56d0b74dc27a037eb9bb5  \n",
       "2                    2018  New Orleans PD  4de492facd9d9466d3876454fcdd0f2e  \n",
       "3                    2018  New Orleans PD  376fe3e37058d4e73ea4b08e5cbe0baa  \n",
       "4                    2018  New Orleans PD  5853790ceadcfaeedc4be77e92391d2a  \n",
       "...                   ...             ...                               ...  \n",
       "5876                 2018  New Orleans PD  1ac7cb3c3225d1c2a690d7e4e25cb458  \n",
       "5877                 2018  New Orleans PD  b231c2f0100f14dd544d6abcd71bee4e  \n",
       "5878                 2018  New Orleans PD  81ca694d7177c0a2108d272283d54370  \n",
       "5879                 2018  New Orleans PD  1934e9d8ce6faddc3ce4116e43609ad3  \n",
       "5880                 2018  New Orleans PD  35a24d612491a6a13dd4c0f24cc26192  \n",
       "\n",
       "[5881 rows x 31 columns]"
      ],
      "text/html": "<div>\n<style scoped>\n    .dataframe tbody tr th:only-of-type {\n        vertical-align: middle;\n    }\n\n    .dataframe tbody tr th {\n        vertical-align: top;\n    }\n\n    .dataframe thead th {\n        text-align: right;\n    }\n</style>\n<table border=\"1\" class=\"dataframe\">\n  <thead>\n    <tr style=\"text-align: right;\">\n      <th></th>\n      <th>employee_id</th>\n      <th>badge_no</th>\n      <th>rank_desc</th>\n      <th>employee_type</th>\n      <th>employment_status</th>\n      <th>officer_inactive</th>\n      <th>years_employed</th>\n      <th>birth_year</th>\n      <th>sex</th>\n      <th>race</th>\n      <th>...</th>\n      <th>term_year</th>\n      <th>term_month</th>\n      <th>term_day</th>\n      <th>appoint_year</th>\n      <th>appoint_month</th>\n      <th>appoint_day</th>\n      <th>middle_initial</th>\n      <th>data_production_year</th>\n      <th>agency</th>\n      <th>uid</th>\n    </tr>\n  </thead>\n  <tbody>\n    <tr>\n      <th>0</th>\n      <td>6299</td>\n      <td>NaN</td>\n      <td></td>\n      <td>NaN</td>\n      <td></td>\n      <td>no</td>\n      <td></td>\n      <td></td>\n      <td>unknown</td>\n      <td>unknown</td>\n      <td>...</td>\n      <td></td>\n      <td></td>\n      <td></td>\n      <td></td>\n      <td></td>\n      <td></td>\n      <td></td>\n      <td>2018</td>\n      <td>New Orleans PD</td>\n      <td>c06acabfbc622fcc7616babe6a561250</td>\n    </tr>\n    <tr>\n      <th>1</th>\n      <td>6301</td>\n      <td>NaN</td>\n      <td></td>\n      <td>NaN</td>\n      <td></td>\n      <td>no</td>\n      <td></td>\n      <td></td>\n      <td>female</td>\n      <td>black / african american</td>\n      <td>...</td>\n      <td></td>\n      <td></td>\n      <td></td>\n      <td></td>\n      <td></td>\n      <td></td>\n      <td></td>\n      <td>2018</td>\n      <td>New Orleans PD</td>\n      <td>7680252ff5a56d0b74dc27a037eb9bb5</td>\n    </tr>\n    <tr>\n      <th>2</th>\n      <td>6302</td>\n      <td>NaN</td>\n      <td></td>\n      <td>NaN</td>\n      <td></td>\n      <td></td>\n      <td></td>\n      <td></td>\n      <td>unknown</td>\n      <td>unknown</td>\n      <td>...</td>\n      <td></td>\n      <td></td>\n      <td></td>\n      <td></td>\n      <td></td>\n      <td></td>\n      <td></td>\n      <td>2018</td>\n      <td>New Orleans PD</td>\n      <td>4de492facd9d9466d3876454fcdd0f2e</td>\n    </tr>\n    <tr>\n      <th>3</th>\n      <td>6313</td>\n      <td>NaN</td>\n      <td></td>\n      <td>non-commissioned</td>\n      <td></td>\n      <td>no</td>\n      <td></td>\n      <td></td>\n      <td>male</td>\n      <td>black / african american</td>\n      <td>...</td>\n      <td></td>\n      <td></td>\n      <td></td>\n      <td></td>\n      <td></td>\n      <td></td>\n      <td></td>\n      <td>2018</td>\n      <td>New Orleans PD</td>\n      <td>376fe3e37058d4e73ea4b08e5cbe0baa</td>\n    </tr>\n    <tr>\n      <th>4</th>\n      <td>6308</td>\n      <td>NaN</td>\n      <td></td>\n      <td>NaN</td>\n      <td></td>\n      <td>no</td>\n      <td></td>\n      <td></td>\n      <td>unknown</td>\n      <td>unknown</td>\n      <td>...</td>\n      <td></td>\n      <td></td>\n      <td></td>\n      <td></td>\n      <td></td>\n      <td></td>\n      <td></td>\n      <td>2018</td>\n      <td>New Orleans PD</td>\n      <td>5853790ceadcfaeedc4be77e92391d2a</td>\n    </tr>\n    <tr>\n      <th>...</th>\n      <td>...</td>\n      <td>...</td>\n      <td>...</td>\n      <td>...</td>\n      <td>...</td>\n      <td>...</td>\n      <td>...</td>\n      <td>...</td>\n      <td>...</td>\n      <td>...</td>\n      <td>...</td>\n      <td>...</td>\n      <td>...</td>\n      <td>...</td>\n      <td>...</td>\n      <td>...</td>\n      <td>...</td>\n      <td>...</td>\n      <td>...</td>\n      <td>...</td>\n      <td>...</td>\n    </tr>\n    <tr>\n      <th>5876</th>\n      <td>6523</td>\n      <td>NaN</td>\n      <td>laborer</td>\n      <td>non-commissioned</td>\n      <td>active</td>\n      <td>no</td>\n      <td>3</td>\n      <td>1995</td>\n      <td>male</td>\n      <td>black / african american</td>\n      <td>...</td>\n      <td></td>\n      <td></td>\n      <td></td>\n      <td>2018</td>\n      <td>04</td>\n      <td>25</td>\n      <td>a</td>\n      <td>2018</td>\n      <td>New Orleans PD</td>\n      <td>1ac7cb3c3225d1c2a690d7e4e25cb458</td>\n    </tr>\n    <tr>\n      <th>5877</th>\n      <td>6524</td>\n      <td>NaN</td>\n      <td>police aide</td>\n      <td>non-commissioned</td>\n      <td>terminated</td>\n      <td>yes</td>\n      <td>3</td>\n      <td>1998</td>\n      <td>male</td>\n      <td>black / african american</td>\n      <td>...</td>\n      <td></td>\n      <td></td>\n      <td></td>\n      <td>2018</td>\n      <td>04</td>\n      <td>29</td>\n      <td>n</td>\n      <td>2018</td>\n      <td>New Orleans PD</td>\n      <td>b231c2f0100f14dd544d6abcd71bee4e</td>\n    </tr>\n    <tr>\n      <th>5878</th>\n      <td>6525</td>\n      <td>NaN</td>\n      <td>police aide</td>\n      <td>non-commissioned</td>\n      <td>active</td>\n      <td>no</td>\n      <td>3</td>\n      <td>1991</td>\n      <td>male</td>\n      <td>black / african american</td>\n      <td>...</td>\n      <td></td>\n      <td></td>\n      <td></td>\n      <td>2018</td>\n      <td>04</td>\n      <td>29</td>\n      <td>d</td>\n      <td>2018</td>\n      <td>New Orleans PD</td>\n      <td>81ca694d7177c0a2108d272283d54370</td>\n    </tr>\n    <tr>\n      <th>5879</th>\n      <td>6526</td>\n      <td>NaN</td>\n      <td>police aide</td>\n      <td>non-commissioned</td>\n      <td>active</td>\n      <td>no</td>\n      <td>3</td>\n      <td>1989</td>\n      <td>female</td>\n      <td>black / african american</td>\n      <td>...</td>\n      <td></td>\n      <td></td>\n      <td></td>\n      <td>2018</td>\n      <td>05</td>\n      <td>13</td>\n      <td>n</td>\n      <td>2018</td>\n      <td>New Orleans PD</td>\n      <td>1934e9d8ce6faddc3ce4116e43609ad3</td>\n    </tr>\n    <tr>\n      <th>5880</th>\n      <td>6527</td>\n      <td>NaN</td>\n      <td>police aide</td>\n      <td>non-commissioned</td>\n      <td>active</td>\n      <td>no</td>\n      <td>3</td>\n      <td>1983</td>\n      <td>male</td>\n      <td>white</td>\n      <td>...</td>\n      <td></td>\n      <td></td>\n      <td></td>\n      <td>2018</td>\n      <td>05</td>\n      <td>13</td>\n      <td>l</td>\n      <td>2018</td>\n      <td>New Orleans PD</td>\n      <td>35a24d612491a6a13dd4c0f24cc26192</td>\n    </tr>\n  </tbody>\n</table>\n<p>5881 rows × 31 columns</p>\n</div>"
     },
     "metadata": {},
     "execution_count": 2
    }
   ],
   "source": [
    "df = clean()\n",
    "df"
   ]
  },
  {
   "cell_type": "code",
   "execution_count": 5,
   "metadata": {},
   "outputs": [
    {
     "output_type": "execute_result",
     "data": {
      "text/plain": [
       "Empty DataFrame\n",
       "Columns: [last_name, first_name]\n",
       "Index: []"
      ],
      "text/html": "<div>\n<style scoped>\n    .dataframe tbody tr th:only-of-type {\n        vertical-align: middle;\n    }\n\n    .dataframe tbody tr th {\n        vertical-align: top;\n    }\n\n    .dataframe thead th {\n        text-align: right;\n    }\n</style>\n<table border=\"1\" class=\"dataframe\">\n  <thead>\n    <tr style=\"text-align: right;\">\n      <th></th>\n      <th>last_name</th>\n      <th>first_name</th>\n    </tr>\n  </thead>\n  <tbody>\n  </tbody>\n</table>\n</div>"
     },
     "metadata": {},
     "execution_count": 5
    }
   ],
   "source": [
    "df.loc[(df.last_name == '') & (df.first_name != ''), ['last_name', 'first_name']]"
   ]
  },
  {
   "cell_type": "code",
   "execution_count": null,
   "metadata": {},
   "outputs": [],
   "source": []
  }
 ]
}
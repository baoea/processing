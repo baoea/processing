{
 "metadata": {
  "language_info": {
   "codemirror_mode": {
    "name": "ipython",
    "version": 3
   },
   "file_extension": ".py",
   "mimetype": "text/x-python",
   "name": "python",
   "nbconvert_exporter": "python",
   "pygments_lexer": "ipython3",
   "version": "3.9.2"
  },
  "orig_nbformat": 2,
  "kernelspec": {
   "name": "python3",
   "display_name": "Python 3.9.2 64-bit ('base': virtualenvwrapper)"
  },
  "interpreter": {
   "hash": "55d6dfa6f6295e03bf132df3e61c1565ff1c22b645ef82a5638b280b97b3597b"
  }
 },
 "nbformat": 4,
 "nbformat_minor": 2,
 "cells": [
  {
   "cell_type": "code",
   "execution_count": 1,
   "metadata": {},
   "outputs": [],
   "source": [
    "import sys; sys.path.append('../')\n",
    "import pandas as pd\n",
    "\n",
    "from lib.columns import rearrange_personnel_columns\n",
    "from clean.louisiana_csd_pprr_2021 import clean"
   ]
  },
  {
   "cell_type": "code",
   "execution_count": 2,
   "metadata": {},
   "outputs": [
    {
     "output_type": "execute_result",
     "data": {
      "text/plain": [
       "                 department_desc  classified_unclassified  \\\n",
       "0      air support unit/osp-supt  Classified State Police   \n",
       "1      air support unit/osp-supt  Classified State Police   \n",
       "2      air support unit/osp-supt  Classified State Police   \n",
       "3      air support unit/osp-supt  Classified State Police   \n",
       "4      air support unit/osp-supt  Classified State Police   \n",
       "...                          ...                      ...   \n",
       "12329  trans & env safety (tess)  Classified State Police   \n",
       "12330  trans & env safety (tess)  Classified State Police   \n",
       "12331  trans & env safety (tess)  Classified State Police   \n",
       "12332  trans & env safety (tess)  Classified State Police   \n",
       "12333  trans & env safety (tess)  Classified State Police   \n",
       "\n",
       "                       rank_desc     salary                  agency  \\\n",
       "0      state police master pilot  127837.84  Louisiana State Police   \n",
       "1      state police master pilot  120499.34  Louisiana State Police   \n",
       "2      state police command pilo  128934.26  Louisiana State Police   \n",
       "3      state police master pilot  127837.84  Louisiana State Police   \n",
       "4      state police senior pilot   91327.08  Louisiana State Police   \n",
       "...                          ...        ...                     ...   \n",
       "12329  state police master troop   61011.86  Louisiana State Police   \n",
       "12330  state police master troop   54688.40  Louisiana State Police   \n",
       "12331    state police lieutenant   74216.74  Louisiana State Police   \n",
       "12332       state police captain   79040.26  Louisiana State Police   \n",
       "12333       state police captain   82074.72  Louisiana State Police   \n",
       "\n",
       "       data_production_year hire_year hire_month hire_day salary_freq  \\\n",
       "0                      2021      1999          4       24      yearly   \n",
       "1                      2021      2001         12       10      yearly   \n",
       "2                      2021      2001         12       10      yearly   \n",
       "3                      2021      1999          4       24      yearly   \n",
       "4                      2021      2007          8       13      yearly   \n",
       "...                     ...       ...        ...      ...         ...   \n",
       "12329                  2021      1995          6       18      yearly   \n",
       "12330                  2021      1999          4       24      yearly   \n",
       "12331                  2021      1990          1       20      yearly   \n",
       "12332                  2021      1994          6       19      yearly   \n",
       "12333                  2021      1990          1       20      yearly   \n",
       "\n",
       "      last_name first_name middle_initial                               uid  \n",
       "0          gros      keith              j  8a745a57da64feb092c5e5e54676ce6c  \n",
       "1         haley    michael              l  292005f1688d822cfce009a096d73391  \n",
       "2           lee     steven              m  24e07b2e951824325180b74d2b3a2927  \n",
       "3      levergne    darrell              d  00c5caf8dc7261050c1bb34819f71c24  \n",
       "4         mayer     jordan              b  a45038d669a446554f0163c3f399ed88  \n",
       "...         ...        ...            ...                               ...  \n",
       "12329   callais     donald              r  efe738917fe35ee24ebeff99a821ad9c  \n",
       "12330      mire    clifton              j  532123f1233dcb425e4c4c18acf72d14  \n",
       "12331       mix       mark              g  3c845fb10d41c0eebcc3a312f1636d4f  \n",
       "12332  morrison       mark              e  d6add6eab529b6f48c30e2298b189d3d  \n",
       "12333     white     donald              d  c428cb73bbe82c29cbfc300fe675c781  \n",
       "\n",
       "[12334 rows x 14 columns]"
      ],
      "text/html": "<div>\n<style scoped>\n    .dataframe tbody tr th:only-of-type {\n        vertical-align: middle;\n    }\n\n    .dataframe tbody tr th {\n        vertical-align: top;\n    }\n\n    .dataframe thead th {\n        text-align: right;\n    }\n</style>\n<table border=\"1\" class=\"dataframe\">\n  <thead>\n    <tr style=\"text-align: right;\">\n      <th></th>\n      <th>department_desc</th>\n      <th>classified_unclassified</th>\n      <th>rank_desc</th>\n      <th>salary</th>\n      <th>agency</th>\n      <th>data_production_year</th>\n      <th>hire_year</th>\n      <th>hire_month</th>\n      <th>hire_day</th>\n      <th>salary_freq</th>\n      <th>last_name</th>\n      <th>first_name</th>\n      <th>middle_initial</th>\n      <th>uid</th>\n    </tr>\n  </thead>\n  <tbody>\n    <tr>\n      <th>0</th>\n      <td>air support unit/osp-supt</td>\n      <td>Classified State Police</td>\n      <td>state police master pilot</td>\n      <td>127837.84</td>\n      <td>Louisiana State Police</td>\n      <td>2021</td>\n      <td>1999</td>\n      <td>4</td>\n      <td>24</td>\n      <td>yearly</td>\n      <td>gros</td>\n      <td>keith</td>\n      <td>j</td>\n      <td>8a745a57da64feb092c5e5e54676ce6c</td>\n    </tr>\n    <tr>\n      <th>1</th>\n      <td>air support unit/osp-supt</td>\n      <td>Classified State Police</td>\n      <td>state police master pilot</td>\n      <td>120499.34</td>\n      <td>Louisiana State Police</td>\n      <td>2021</td>\n      <td>2001</td>\n      <td>12</td>\n      <td>10</td>\n      <td>yearly</td>\n      <td>haley</td>\n      <td>michael</td>\n      <td>l</td>\n      <td>292005f1688d822cfce009a096d73391</td>\n    </tr>\n    <tr>\n      <th>2</th>\n      <td>air support unit/osp-supt</td>\n      <td>Classified State Police</td>\n      <td>state police command pilo</td>\n      <td>128934.26</td>\n      <td>Louisiana State Police</td>\n      <td>2021</td>\n      <td>2001</td>\n      <td>12</td>\n      <td>10</td>\n      <td>yearly</td>\n      <td>lee</td>\n      <td>steven</td>\n      <td>m</td>\n      <td>24e07b2e951824325180b74d2b3a2927</td>\n    </tr>\n    <tr>\n      <th>3</th>\n      <td>air support unit/osp-supt</td>\n      <td>Classified State Police</td>\n      <td>state police master pilot</td>\n      <td>127837.84</td>\n      <td>Louisiana State Police</td>\n      <td>2021</td>\n      <td>1999</td>\n      <td>4</td>\n      <td>24</td>\n      <td>yearly</td>\n      <td>levergne</td>\n      <td>darrell</td>\n      <td>d</td>\n      <td>00c5caf8dc7261050c1bb34819f71c24</td>\n    </tr>\n    <tr>\n      <th>4</th>\n      <td>air support unit/osp-supt</td>\n      <td>Classified State Police</td>\n      <td>state police senior pilot</td>\n      <td>91327.08</td>\n      <td>Louisiana State Police</td>\n      <td>2021</td>\n      <td>2007</td>\n      <td>8</td>\n      <td>13</td>\n      <td>yearly</td>\n      <td>mayer</td>\n      <td>jordan</td>\n      <td>b</td>\n      <td>a45038d669a446554f0163c3f399ed88</td>\n    </tr>\n    <tr>\n      <th>...</th>\n      <td>...</td>\n      <td>...</td>\n      <td>...</td>\n      <td>...</td>\n      <td>...</td>\n      <td>...</td>\n      <td>...</td>\n      <td>...</td>\n      <td>...</td>\n      <td>...</td>\n      <td>...</td>\n      <td>...</td>\n      <td>...</td>\n      <td>...</td>\n    </tr>\n    <tr>\n      <th>12329</th>\n      <td>trans &amp; env safety (tess)</td>\n      <td>Classified State Police</td>\n      <td>state police master troop</td>\n      <td>61011.86</td>\n      <td>Louisiana State Police</td>\n      <td>2021</td>\n      <td>1995</td>\n      <td>6</td>\n      <td>18</td>\n      <td>yearly</td>\n      <td>callais</td>\n      <td>donald</td>\n      <td>r</td>\n      <td>efe738917fe35ee24ebeff99a821ad9c</td>\n    </tr>\n    <tr>\n      <th>12330</th>\n      <td>trans &amp; env safety (tess)</td>\n      <td>Classified State Police</td>\n      <td>state police master troop</td>\n      <td>54688.40</td>\n      <td>Louisiana State Police</td>\n      <td>2021</td>\n      <td>1999</td>\n      <td>4</td>\n      <td>24</td>\n      <td>yearly</td>\n      <td>mire</td>\n      <td>clifton</td>\n      <td>j</td>\n      <td>532123f1233dcb425e4c4c18acf72d14</td>\n    </tr>\n    <tr>\n      <th>12331</th>\n      <td>trans &amp; env safety (tess)</td>\n      <td>Classified State Police</td>\n      <td>state police lieutenant</td>\n      <td>74216.74</td>\n      <td>Louisiana State Police</td>\n      <td>2021</td>\n      <td>1990</td>\n      <td>1</td>\n      <td>20</td>\n      <td>yearly</td>\n      <td>mix</td>\n      <td>mark</td>\n      <td>g</td>\n      <td>3c845fb10d41c0eebcc3a312f1636d4f</td>\n    </tr>\n    <tr>\n      <th>12332</th>\n      <td>trans &amp; env safety (tess)</td>\n      <td>Classified State Police</td>\n      <td>state police captain</td>\n      <td>79040.26</td>\n      <td>Louisiana State Police</td>\n      <td>2021</td>\n      <td>1994</td>\n      <td>6</td>\n      <td>19</td>\n      <td>yearly</td>\n      <td>morrison</td>\n      <td>mark</td>\n      <td>e</td>\n      <td>d6add6eab529b6f48c30e2298b189d3d</td>\n    </tr>\n    <tr>\n      <th>12333</th>\n      <td>trans &amp; env safety (tess)</td>\n      <td>Classified State Police</td>\n      <td>state police captain</td>\n      <td>82074.72</td>\n      <td>Louisiana State Police</td>\n      <td>2021</td>\n      <td>1990</td>\n      <td>1</td>\n      <td>20</td>\n      <td>yearly</td>\n      <td>white</td>\n      <td>donald</td>\n      <td>d</td>\n      <td>c428cb73bbe82c29cbfc300fe675c781</td>\n    </tr>\n  </tbody>\n</table>\n<p>12334 rows × 14 columns</p>\n</div>"
     },
     "metadata": {},
     "execution_count": 2
    }
   ],
   "source": [
    "df = clean()\n",
    "df"
   ]
  },
  {
   "cell_type": "code",
   "execution_count": 3,
   "metadata": {},
   "outputs": [
    {
     "output_type": "execute_result",
     "data": {
      "text/plain": [
       "Empty DataFrame\n",
       "Columns: [department_desc, classified_unclassified, rank_desc, salary, agency, data_production_year, hire_year, hire_month, hire_day, salary_freq, last_name, first_name, middle_initial, uid]\n",
       "Index: []"
      ],
      "text/html": "<div>\n<style scoped>\n    .dataframe tbody tr th:only-of-type {\n        vertical-align: middle;\n    }\n\n    .dataframe tbody tr th {\n        vertical-align: top;\n    }\n\n    .dataframe thead th {\n        text-align: right;\n    }\n</style>\n<table border=\"1\" class=\"dataframe\">\n  <thead>\n    <tr style=\"text-align: right;\">\n      <th></th>\n      <th>department_desc</th>\n      <th>classified_unclassified</th>\n      <th>rank_desc</th>\n      <th>salary</th>\n      <th>agency</th>\n      <th>data_production_year</th>\n      <th>hire_year</th>\n      <th>hire_month</th>\n      <th>hire_day</th>\n      <th>salary_freq</th>\n      <th>last_name</th>\n      <th>first_name</th>\n      <th>middle_initial</th>\n      <th>uid</th>\n    </tr>\n  </thead>\n  <tbody>\n  </tbody>\n</table>\n</div>"
     },
     "metadata": {},
     "execution_count": 3
    }
   ],
   "source": [
    "df[df.uid == '067c2b8715450153c100908cac0886b2']"
   ]
  },
  {
   "cell_type": "code",
   "execution_count": 4,
   "metadata": {},
   "outputs": [
    {
     "output_type": "execute_result",
     "data": {
      "text/plain": [
       "           department_desc  classified_unclassified             rank_desc  \\\n",
       "8714  lsp troop c/region 1  Classified State Police  state police trooper   \n",
       "4718  lsp troop c/region 2  Classified State Police  state police trooper   \n",
       "2521  lsp troop c/region 2  Classified State Police  state police trooper   \n",
       "438   lsp troop c/region 2  Classified State Police  state police trooper   \n",
       "1458  lsp troop c/region 2  Classified State Police  state police trooper   \n",
       "...                    ...                      ...                   ...   \n",
       "541   lsp troop e/region 3  Classified State Police  state police trooper   \n",
       "5459   district g/region 3  Classified State Police    state police cadet   \n",
       "2882  lsp troop i/region 2  Classified State Police    state police cadet   \n",
       "767   lsp troop i/region 2  Classified State Police  state police trooper   \n",
       "1814  lsp troop i/region 2  Classified State Police  state police trooper   \n",
       "\n",
       "        salary                  agency  data_production_year hire_year  \\\n",
       "8714  40906.84  Louisiana State Police                  2021      2008   \n",
       "4718  59044.18  Louisiana State Police                  2021      2008   \n",
       "2521  62639.98  Louisiana State Police                  2021      2008   \n",
       "438   70501.86  Louisiana State Police                  2021      2008   \n",
       "1458  66454.70  Louisiana State Police                  2021      2008   \n",
       "...        ...                     ...                   ...       ...   \n",
       "541   57324.54  Louisiana State Police                  2021      2015   \n",
       "5459  46610.20  Louisiana State Police                  2021      2015   \n",
       "2882  48008.22  Louisiana State Police                  2021      2018   \n",
       "767   52459.94  Louisiana State Police                  2021      2018   \n",
       "1814  50931.92  Louisiana State Police                  2021      2018   \n",
       "\n",
       "     hire_month hire_day salary_freq   last_name   first_name middle_initial  \\\n",
       "8714          9       28      yearly       bryan  christopher              t   \n",
       "4718          9       28      yearly       bryan  christopher              t   \n",
       "2521          9       28      yearly       bryan  christopher              t   \n",
       "438           9       28      yearly       bryan  christopher              t   \n",
       "1458          9       28      yearly       bryan  christopher              t   \n",
       "...         ...      ...         ...         ...          ...            ...   \n",
       "541           8       21      yearly     coghlan        brian              a   \n",
       "5459          8       21      yearly     coghlan        brian              a   \n",
       "2882          5       27      yearly  washington         tony              o   \n",
       "767           5       27      yearly  washington         tony              o   \n",
       "1814          5       27      yearly  washington         tony              o   \n",
       "\n",
       "                                   uid  \n",
       "8714  0012445e7ee6a5e0382edabaf25ebb1d  \n",
       "4718  0012445e7ee6a5e0382edabaf25ebb1d  \n",
       "2521  0012445e7ee6a5e0382edabaf25ebb1d  \n",
       "438   0012445e7ee6a5e0382edabaf25ebb1d  \n",
       "1458  0012445e7ee6a5e0382edabaf25ebb1d  \n",
       "...                                ...  \n",
       "541   ffeabace53300b2b160b6774b7aec0d7  \n",
       "5459  ffeabace53300b2b160b6774b7aec0d7  \n",
       "2882  fffb99105ddfb2275c7469b64c82279e  \n",
       "767   fffb99105ddfb2275c7469b64c82279e  \n",
       "1814  fffb99105ddfb2275c7469b64c82279e  \n",
       "\n",
       "[12334 rows x 14 columns]"
      ],
      "text/html": "<div>\n<style scoped>\n    .dataframe tbody tr th:only-of-type {\n        vertical-align: middle;\n    }\n\n    .dataframe tbody tr th {\n        vertical-align: top;\n    }\n\n    .dataframe thead th {\n        text-align: right;\n    }\n</style>\n<table border=\"1\" class=\"dataframe\">\n  <thead>\n    <tr style=\"text-align: right;\">\n      <th></th>\n      <th>department_desc</th>\n      <th>classified_unclassified</th>\n      <th>rank_desc</th>\n      <th>salary</th>\n      <th>agency</th>\n      <th>data_production_year</th>\n      <th>hire_year</th>\n      <th>hire_month</th>\n      <th>hire_day</th>\n      <th>salary_freq</th>\n      <th>last_name</th>\n      <th>first_name</th>\n      <th>middle_initial</th>\n      <th>uid</th>\n    </tr>\n  </thead>\n  <tbody>\n    <tr>\n      <th>8714</th>\n      <td>lsp troop c/region 1</td>\n      <td>Classified State Police</td>\n      <td>state police trooper</td>\n      <td>40906.84</td>\n      <td>Louisiana State Police</td>\n      <td>2021</td>\n      <td>2008</td>\n      <td>9</td>\n      <td>28</td>\n      <td>yearly</td>\n      <td>bryan</td>\n      <td>christopher</td>\n      <td>t</td>\n      <td>0012445e7ee6a5e0382edabaf25ebb1d</td>\n    </tr>\n    <tr>\n      <th>4718</th>\n      <td>lsp troop c/region 2</td>\n      <td>Classified State Police</td>\n      <td>state police trooper</td>\n      <td>59044.18</td>\n      <td>Louisiana State Police</td>\n      <td>2021</td>\n      <td>2008</td>\n      <td>9</td>\n      <td>28</td>\n      <td>yearly</td>\n      <td>bryan</td>\n      <td>christopher</td>\n      <td>t</td>\n      <td>0012445e7ee6a5e0382edabaf25ebb1d</td>\n    </tr>\n    <tr>\n      <th>2521</th>\n      <td>lsp troop c/region 2</td>\n      <td>Classified State Police</td>\n      <td>state police trooper</td>\n      <td>62639.98</td>\n      <td>Louisiana State Police</td>\n      <td>2021</td>\n      <td>2008</td>\n      <td>9</td>\n      <td>28</td>\n      <td>yearly</td>\n      <td>bryan</td>\n      <td>christopher</td>\n      <td>t</td>\n      <td>0012445e7ee6a5e0382edabaf25ebb1d</td>\n    </tr>\n    <tr>\n      <th>438</th>\n      <td>lsp troop c/region 2</td>\n      <td>Classified State Police</td>\n      <td>state police trooper</td>\n      <td>70501.86</td>\n      <td>Louisiana State Police</td>\n      <td>2021</td>\n      <td>2008</td>\n      <td>9</td>\n      <td>28</td>\n      <td>yearly</td>\n      <td>bryan</td>\n      <td>christopher</td>\n      <td>t</td>\n      <td>0012445e7ee6a5e0382edabaf25ebb1d</td>\n    </tr>\n    <tr>\n      <th>1458</th>\n      <td>lsp troop c/region 2</td>\n      <td>Classified State Police</td>\n      <td>state police trooper</td>\n      <td>66454.70</td>\n      <td>Louisiana State Police</td>\n      <td>2021</td>\n      <td>2008</td>\n      <td>9</td>\n      <td>28</td>\n      <td>yearly</td>\n      <td>bryan</td>\n      <td>christopher</td>\n      <td>t</td>\n      <td>0012445e7ee6a5e0382edabaf25ebb1d</td>\n    </tr>\n    <tr>\n      <th>...</th>\n      <td>...</td>\n      <td>...</td>\n      <td>...</td>\n      <td>...</td>\n      <td>...</td>\n      <td>...</td>\n      <td>...</td>\n      <td>...</td>\n      <td>...</td>\n      <td>...</td>\n      <td>...</td>\n      <td>...</td>\n      <td>...</td>\n      <td>...</td>\n    </tr>\n    <tr>\n      <th>541</th>\n      <td>lsp troop e/region 3</td>\n      <td>Classified State Police</td>\n      <td>state police trooper</td>\n      <td>57324.54</td>\n      <td>Louisiana State Police</td>\n      <td>2021</td>\n      <td>2015</td>\n      <td>8</td>\n      <td>21</td>\n      <td>yearly</td>\n      <td>coghlan</td>\n      <td>brian</td>\n      <td>a</td>\n      <td>ffeabace53300b2b160b6774b7aec0d7</td>\n    </tr>\n    <tr>\n      <th>5459</th>\n      <td>district g/region 3</td>\n      <td>Classified State Police</td>\n      <td>state police cadet</td>\n      <td>46610.20</td>\n      <td>Louisiana State Police</td>\n      <td>2021</td>\n      <td>2015</td>\n      <td>8</td>\n      <td>21</td>\n      <td>yearly</td>\n      <td>coghlan</td>\n      <td>brian</td>\n      <td>a</td>\n      <td>ffeabace53300b2b160b6774b7aec0d7</td>\n    </tr>\n    <tr>\n      <th>2882</th>\n      <td>lsp troop i/region 2</td>\n      <td>Classified State Police</td>\n      <td>state police cadet</td>\n      <td>48008.22</td>\n      <td>Louisiana State Police</td>\n      <td>2021</td>\n      <td>2018</td>\n      <td>5</td>\n      <td>27</td>\n      <td>yearly</td>\n      <td>washington</td>\n      <td>tony</td>\n      <td>o</td>\n      <td>fffb99105ddfb2275c7469b64c82279e</td>\n    </tr>\n    <tr>\n      <th>767</th>\n      <td>lsp troop i/region 2</td>\n      <td>Classified State Police</td>\n      <td>state police trooper</td>\n      <td>52459.94</td>\n      <td>Louisiana State Police</td>\n      <td>2021</td>\n      <td>2018</td>\n      <td>5</td>\n      <td>27</td>\n      <td>yearly</td>\n      <td>washington</td>\n      <td>tony</td>\n      <td>o</td>\n      <td>fffb99105ddfb2275c7469b64c82279e</td>\n    </tr>\n    <tr>\n      <th>1814</th>\n      <td>lsp troop i/region 2</td>\n      <td>Classified State Police</td>\n      <td>state police trooper</td>\n      <td>50931.92</td>\n      <td>Louisiana State Police</td>\n      <td>2021</td>\n      <td>2018</td>\n      <td>5</td>\n      <td>27</td>\n      <td>yearly</td>\n      <td>washington</td>\n      <td>tony</td>\n      <td>o</td>\n      <td>fffb99105ddfb2275c7469b64c82279e</td>\n    </tr>\n  </tbody>\n</table>\n<p>12334 rows × 14 columns</p>\n</div>"
     },
     "metadata": {},
     "execution_count": 4
    }
   ],
   "source": [
    "df.sort_values('uid')"
   ]
  },
  {
   "cell_type": "code",
   "execution_count": null,
   "metadata": {},
   "outputs": [],
   "source": []
  }
 ]
}

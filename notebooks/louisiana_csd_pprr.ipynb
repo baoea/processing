{
 "metadata": {
  "language_info": {
   "codemirror_mode": {
    "name": "ipython",
    "version": 3
   },
   "file_extension": ".py",
   "mimetype": "text/x-python",
   "name": "python",
   "nbconvert_exporter": "python",
   "pygments_lexer": "ipython3",
   "version": "3.8.3"
  },
  "orig_nbformat": 2,
  "kernelspec": {
   "name": "python383jvsc74a57bd0759d03fc00c4e55187619d7bc1e0b6a3309d14c7c00d43a321634150e05678f8",
   "display_name": "Python 3.8.3 64-bit ('base': conda)"
  }
 },
 "nbformat": 4,
 "nbformat_minor": 2,
 "cells": [
  {
   "cell_type": "code",
   "execution_count": 1,
   "metadata": {},
   "outputs": [],
   "source": [
    "import sys; sys.path.append('../')\n",
    "import pandas as pd\n",
    "\n",
    "from clean.louisiana_csd_pprr_2021 import clean"
   ]
  },
  {
   "cell_type": "code",
   "execution_count": 2,
   "metadata": {},
   "outputs": [
    {
     "output_type": "execute_result",
     "data": {
      "text/plain": [
       "                 department_desc       employee_name  classified_unclassified  \\\n",
       "0      air support unit/osp-supt        GROS,KEITH J  Classified State Police   \n",
       "1      air support unit/osp-supt     HALEY,MICHAEL L  Classified State Police   \n",
       "2      air support unit/osp-supt        LEE,STEVEN M  Classified State Police   \n",
       "3      air support unit/osp-supt  LEVERGNE,DARRELL D  Classified State Police   \n",
       "4      air support unit/osp-supt      MAYER,JORDAN B  Classified State Police   \n",
       "...                          ...                 ...                      ...   \n",
       "12329  trans & env safety (tess)    CALLAIS,DONALD R  Classified State Police   \n",
       "12330  trans & env safety (tess)      MIRE,CLIFTON J  Classified State Police   \n",
       "12331  trans & env safety (tess)          MIX,MARK G  Classified State Police   \n",
       "12332  trans & env safety (tess)     MORRISON,MARK E  Classified State Police   \n",
       "12333  trans & env safety (tess)      WHITE,DONALD D  Classified State Police   \n",
       "\n",
       "                       rank_desc  annual_salary                  agency  \\\n",
       "0      state police master pilot      127837.84  Louisiana State Police   \n",
       "1      state police master pilot      120499.34  Louisiana State Police   \n",
       "2      state police command pilo      128934.26  Louisiana State Police   \n",
       "3      state police master pilot      127837.84  Louisiana State Police   \n",
       "4      state police senior pilot       91327.08  Louisiana State Police   \n",
       "...                          ...            ...                     ...   \n",
       "12329  state police master troop       61011.86  Louisiana State Police   \n",
       "12330  state police master troop       54688.40  Louisiana State Police   \n",
       "12331    state police lieutenant       74216.74  Louisiana State Police   \n",
       "12332       state police captain       79040.26  Louisiana State Police   \n",
       "12333       state police captain       82074.72  Louisiana State Police   \n",
       "\n",
       "       data_production_year hire_year hire_month hire_day last_name  \\\n",
       "0                      2021      1999          4       24      gros   \n",
       "1                      2021      2001         12       10     haley   \n",
       "2                      2021      2001         12       10       lee   \n",
       "3                      2021      1999          4       24  levergne   \n",
       "4                      2021      2007          8       13     mayer   \n",
       "...                     ...       ...        ...      ...       ...   \n",
       "12329                  2021      1995          6       18   callais   \n",
       "12330                  2021      1999          4       24      mire   \n",
       "12331                  2021      1990          1       20       mix   \n",
       "12332                  2021      1994          6       19  morrison   \n",
       "12333                  2021      1990          1       20     white   \n",
       "\n",
       "      first_name middle_initial  \n",
       "0          keith              j  \n",
       "1        michael              l  \n",
       "2         steven              m  \n",
       "3        darrell              d  \n",
       "4         jordan              b  \n",
       "...          ...            ...  \n",
       "12329     donald              r  \n",
       "12330    clifton              j  \n",
       "12331       mark              g  \n",
       "12332       mark              e  \n",
       "12333     donald              d  \n",
       "\n",
       "[12334 rows x 13 columns]"
      ],
      "text/html": "<div>\n<style scoped>\n    .dataframe tbody tr th:only-of-type {\n        vertical-align: middle;\n    }\n\n    .dataframe tbody tr th {\n        vertical-align: top;\n    }\n\n    .dataframe thead th {\n        text-align: right;\n    }\n</style>\n<table border=\"1\" class=\"dataframe\">\n  <thead>\n    <tr style=\"text-align: right;\">\n      <th></th>\n      <th>department_desc</th>\n      <th>employee_name</th>\n      <th>classified_unclassified</th>\n      <th>rank_desc</th>\n      <th>annual_salary</th>\n      <th>agency</th>\n      <th>data_production_year</th>\n      <th>hire_year</th>\n      <th>hire_month</th>\n      <th>hire_day</th>\n      <th>last_name</th>\n      <th>first_name</th>\n      <th>middle_initial</th>\n    </tr>\n  </thead>\n  <tbody>\n    <tr>\n      <th>0</th>\n      <td>air support unit/osp-supt</td>\n      <td>GROS,KEITH J</td>\n      <td>Classified State Police</td>\n      <td>state police master pilot</td>\n      <td>127837.84</td>\n      <td>Louisiana State Police</td>\n      <td>2021</td>\n      <td>1999</td>\n      <td>4</td>\n      <td>24</td>\n      <td>gros</td>\n      <td>keith</td>\n      <td>j</td>\n    </tr>\n    <tr>\n      <th>1</th>\n      <td>air support unit/osp-supt</td>\n      <td>HALEY,MICHAEL L</td>\n      <td>Classified State Police</td>\n      <td>state police master pilot</td>\n      <td>120499.34</td>\n      <td>Louisiana State Police</td>\n      <td>2021</td>\n      <td>2001</td>\n      <td>12</td>\n      <td>10</td>\n      <td>haley</td>\n      <td>michael</td>\n      <td>l</td>\n    </tr>\n    <tr>\n      <th>2</th>\n      <td>air support unit/osp-supt</td>\n      <td>LEE,STEVEN M</td>\n      <td>Classified State Police</td>\n      <td>state police command pilo</td>\n      <td>128934.26</td>\n      <td>Louisiana State Police</td>\n      <td>2021</td>\n      <td>2001</td>\n      <td>12</td>\n      <td>10</td>\n      <td>lee</td>\n      <td>steven</td>\n      <td>m</td>\n    </tr>\n    <tr>\n      <th>3</th>\n      <td>air support unit/osp-supt</td>\n      <td>LEVERGNE,DARRELL D</td>\n      <td>Classified State Police</td>\n      <td>state police master pilot</td>\n      <td>127837.84</td>\n      <td>Louisiana State Police</td>\n      <td>2021</td>\n      <td>1999</td>\n      <td>4</td>\n      <td>24</td>\n      <td>levergne</td>\n      <td>darrell</td>\n      <td>d</td>\n    </tr>\n    <tr>\n      <th>4</th>\n      <td>air support unit/osp-supt</td>\n      <td>MAYER,JORDAN B</td>\n      <td>Classified State Police</td>\n      <td>state police senior pilot</td>\n      <td>91327.08</td>\n      <td>Louisiana State Police</td>\n      <td>2021</td>\n      <td>2007</td>\n      <td>8</td>\n      <td>13</td>\n      <td>mayer</td>\n      <td>jordan</td>\n      <td>b</td>\n    </tr>\n    <tr>\n      <th>...</th>\n      <td>...</td>\n      <td>...</td>\n      <td>...</td>\n      <td>...</td>\n      <td>...</td>\n      <td>...</td>\n      <td>...</td>\n      <td>...</td>\n      <td>...</td>\n      <td>...</td>\n      <td>...</td>\n      <td>...</td>\n      <td>...</td>\n    </tr>\n    <tr>\n      <th>12329</th>\n      <td>trans &amp; env safety (tess)</td>\n      <td>CALLAIS,DONALD R</td>\n      <td>Classified State Police</td>\n      <td>state police master troop</td>\n      <td>61011.86</td>\n      <td>Louisiana State Police</td>\n      <td>2021</td>\n      <td>1995</td>\n      <td>6</td>\n      <td>18</td>\n      <td>callais</td>\n      <td>donald</td>\n      <td>r</td>\n    </tr>\n    <tr>\n      <th>12330</th>\n      <td>trans &amp; env safety (tess)</td>\n      <td>MIRE,CLIFTON J</td>\n      <td>Classified State Police</td>\n      <td>state police master troop</td>\n      <td>54688.40</td>\n      <td>Louisiana State Police</td>\n      <td>2021</td>\n      <td>1999</td>\n      <td>4</td>\n      <td>24</td>\n      <td>mire</td>\n      <td>clifton</td>\n      <td>j</td>\n    </tr>\n    <tr>\n      <th>12331</th>\n      <td>trans &amp; env safety (tess)</td>\n      <td>MIX,MARK G</td>\n      <td>Classified State Police</td>\n      <td>state police lieutenant</td>\n      <td>74216.74</td>\n      <td>Louisiana State Police</td>\n      <td>2021</td>\n      <td>1990</td>\n      <td>1</td>\n      <td>20</td>\n      <td>mix</td>\n      <td>mark</td>\n      <td>g</td>\n    </tr>\n    <tr>\n      <th>12332</th>\n      <td>trans &amp; env safety (tess)</td>\n      <td>MORRISON,MARK E</td>\n      <td>Classified State Police</td>\n      <td>state police captain</td>\n      <td>79040.26</td>\n      <td>Louisiana State Police</td>\n      <td>2021</td>\n      <td>1994</td>\n      <td>6</td>\n      <td>19</td>\n      <td>morrison</td>\n      <td>mark</td>\n      <td>e</td>\n    </tr>\n    <tr>\n      <th>12333</th>\n      <td>trans &amp; env safety (tess)</td>\n      <td>WHITE,DONALD D</td>\n      <td>Classified State Police</td>\n      <td>state police captain</td>\n      <td>82074.72</td>\n      <td>Louisiana State Police</td>\n      <td>2021</td>\n      <td>1990</td>\n      <td>1</td>\n      <td>20</td>\n      <td>white</td>\n      <td>donald</td>\n      <td>d</td>\n    </tr>\n  </tbody>\n</table>\n<p>12334 rows × 13 columns</p>\n</div>"
     },
     "metadata": {},
     "execution_count": 2
    }
   ],
   "source": [
    "df = clean()\n",
    "df"
   ]
  },
  {
   "cell_type": "code",
   "execution_count": 4,
   "metadata": {},
   "outputs": [
    {
     "output_type": "execute_result",
     "data": {
      "text/plain": [
       "Empty DataFrame\n",
       "Columns: [department_desc, employee_name, classified_unclassified, rank_desc, annual_salary, agency, data_production_year, hire_year, hire_month, hire_day, last_name, first_name, middle_initial]\n",
       "Index: []"
      ],
      "text/html": "<div>\n<style scoped>\n    .dataframe tbody tr th:only-of-type {\n        vertical-align: middle;\n    }\n\n    .dataframe tbody tr th {\n        vertical-align: top;\n    }\n\n    .dataframe thead th {\n        text-align: right;\n    }\n</style>\n<table border=\"1\" class=\"dataframe\">\n  <thead>\n    <tr style=\"text-align: right;\">\n      <th></th>\n      <th>department_desc</th>\n      <th>employee_name</th>\n      <th>classified_unclassified</th>\n      <th>rank_desc</th>\n      <th>annual_salary</th>\n      <th>agency</th>\n      <th>data_production_year</th>\n      <th>hire_year</th>\n      <th>hire_month</th>\n      <th>hire_day</th>\n      <th>last_name</th>\n      <th>first_name</th>\n      <th>middle_initial</th>\n    </tr>\n  </thead>\n  <tbody>\n  </tbody>\n</table>\n</div>"
     },
     "metadata": {},
     "execution_count": 4
    }
   ],
   "source": [
    "df.loc[df.first_name == '']"
   ]
  },
  {
   "cell_type": "code",
   "execution_count": null,
   "metadata": {},
   "outputs": [],
   "source": []
  }
 ]
}
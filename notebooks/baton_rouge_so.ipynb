{
 "metadata": {
  "language_info": {
   "codemirror_mode": {
    "name": "ipython",
    "version": 3
   },
   "file_extension": ".py",
   "mimetype": "text/x-python",
   "name": "python",
   "nbconvert_exporter": "python",
   "pygments_lexer": "ipython3",
   "version": "3.8.3-final"
  },
  "orig_nbformat": 2,
  "kernelspec": {
   "name": "python3",
   "display_name": "Python 3",
   "language": "python"
  }
 },
 "nbformat": 4,
 "nbformat_minor": 2,
 "cells": [
  {
   "cell_type": "code",
   "execution_count": 1,
   "metadata": {},
   "outputs": [],
   "source": [
    "import sys; sys.path.append(\"../\")\n",
    "\n",
    "import pandas as pd\n",
    "\n",
    "from lib.explore import show_unique\n",
    "from clean.baton_rouge_so_cprr import clean"
   ]
  },
  {
   "cell_type": "code",
   "execution_count": 2,
   "metadata": {},
   "outputs": [
    {
     "output_type": "execute_result",
     "data": {
      "text/plain": [
       "    badge_no   rank_desc   race     sex  birth_year  \\\n",
       "0       2206    sergeant  white    male        1984   \n",
       "1       1711    corporal  white    male        1984   \n",
       "2       1308  lieutenant  white    male        1968   \n",
       "3       1534    sergeant  black    male        1966   \n",
       "4       2527      deputy  black  female        1986   \n",
       "5       1797    corporal  white  female        1982   \n",
       "6        769     captain  black  female        1965   \n",
       "7       2067      deputy  white    male        1982   \n",
       "8       1519  lieutenant  white    male        1982   \n",
       "9       2363    sergeant  white    male        1983   \n",
       "10      1053  lieutenant  white    male        1972   \n",
       "11      2592      deputy  black    male        1989   \n",
       "12      2571      deputy  black    male        1989   \n",
       "13      2414    corporal  black  female        1990   \n",
       "14      2528      deputy  black  female        1993   \n",
       "15      2528      deputy  black  female        1993   \n",
       "16      2571      deputy  black  female        1989   \n",
       "17      1067      deputy  black  female        1976   \n",
       "\n",
       "                                infraction occur_datetime     complainant  \\\n",
       "0                   USE OF FORCE 01-01.21   1/26/18 21:00          public   \n",
       "1            CONFORMANCE TO LAWS 01-01.04    2/20/18 0:00  administration   \n",
       "2                       OFFICERS 01-01.35    3/12/18 0:00        coworker   \n",
       "3   DISSEMINATION OF INFORMATION 01-01.18    3/15/18 0:00        coworker   \n",
       "4                        COURTESY01-01.05    4/8/18 15:30          public   \n",
       "5                             HARRASSMENT   4/11/18 10:00      supervisor   \n",
       "6                             HARRASSMENT   4/13/18 12:00     subordinate   \n",
       "7     ARREST, SEARCH, AND SEIZURE 01-01-27   4/19/18 0:00          public   \n",
       "8            CONFORMANCE TO LAWS 01-01.04    4/22/18 0:00  administration   \n",
       "9             CONDUCT UNBECOMING 01-01.06    5/10/18 0:00          public   \n",
       "10            CONDUCT UNBECOMING 01-01.06    6/15/18 0:00          public   \n",
       "11            CONDUCT UNBECOMING 01-01.06   6/24/18 12:00             NaN   \n",
       "12     UNSATISFACTORY PERFORMANCE01-01.14     7/7/18 0:00          public   \n",
       "13            CONDUCT UNBECOMING 01-01.06    9/23/18 0:00        coworker   \n",
       "14            CONDUCT UNBECOMING 01-01.06   10/14/18 0:00          public   \n",
       "15                  ASSOCIATIONS 01-01.42   11/14/18 0:00          public   \n",
       "16              FALSE STATEMENTS 01-01.17   11/28/18 0:00          public   \n",
       "17                           SOCIAL MEDIA   11/30/18 0:00          public   \n",
       "\n",
       "     disposition                                             action  \\\n",
       "0        founded  forwarded completed report to administration f...   \n",
       "1        founded  7 day suspension; 6 month loss of take-home ve...   \n",
       "2        founded                                           resigned   \n",
       "3   inconclusive                                               none   \n",
       "4        founded  verbal warning from captain flynn about courte...   \n",
       "5        founded                                               none   \n",
       "6      unfounded                                               none   \n",
       "7   inconclusive                                               none   \n",
       "8        founded                                   5 day suspension   \n",
       "9      unfounded                                               none   \n",
       "10       founded                                   verbal reprimand   \n",
       "11       founded                                         terminated   \n",
       "12       founded          7 day suspension; money deducted from pay   \n",
       "13     unfounded                                               none   \n",
       "14       founded  action was pending when his next complaint cam...   \n",
       "15       founded                                         terminated   \n",
       "16       founded                                        transferred   \n",
       "17       founded                                   5 day suspension   \n",
       "\n",
       "             department_desc first_name middle_initial   last_name rank_year  \\\n",
       "0             uniform patrol    william                     lawhun      2017   \n",
       "1                       scat       eric                      david      2012   \n",
       "2   parish prison (training)      eddie                   canezaro      2006   \n",
       "3      construction services       troy                     grimes      2015   \n",
       "4         community policing    pashion                     norman      2014   \n",
       "5           financial crimes   leighann                       rice      2015   \n",
       "6             communications    eleanor                    stewart      2014   \n",
       "7                       scat       john                    depedro      2008   \n",
       "8             uniform patrol     justin                  pickering      2017   \n",
       "9             uniform patrol     dustin              l  strickland      2017   \n",
       "10            uniform patrol    michael                   birdwell      2011   \n",
       "11            uniform patrol    kenneth              j      parker      2015   \n",
       "12            uniform patrol   courtney              r       jones      2015   \n",
       "13            communications  anastatia              a       selby      2018   \n",
       "14             parish prison      ricky                 merritt jr      2014   \n",
       "15             parish prison      ricky                 merritt jr      2014   \n",
       "16            uniform patrol   courtney              r       jones      2015   \n",
       "17             parish prison     joshua                    rollins      1998   \n",
       "\n",
       "   rank_month rank_day  \n",
       "0           2        6  \n",
       "1           2       13  \n",
       "2           9        6  \n",
       "3           6       15  \n",
       "4          12       16  \n",
       "5           2        9  \n",
       "6           6       16  \n",
       "7          11       17  \n",
       "8          11       27  \n",
       "9          11       27  \n",
       "10          8       15  \n",
       "11         10       22  \n",
       "12          6       18  \n",
       "13          3       19  \n",
       "14         12       16  \n",
       "15         12       16  \n",
       "16          6       18  \n",
       "17          8       24  "
      ],
      "text/html": "<div>\n<style scoped>\n    .dataframe tbody tr th:only-of-type {\n        vertical-align: middle;\n    }\n\n    .dataframe tbody tr th {\n        vertical-align: top;\n    }\n\n    .dataframe thead th {\n        text-align: right;\n    }\n</style>\n<table border=\"1\" class=\"dataframe\">\n  <thead>\n    <tr style=\"text-align: right;\">\n      <th></th>\n      <th>badge_no</th>\n      <th>rank_desc</th>\n      <th>race</th>\n      <th>sex</th>\n      <th>birth_year</th>\n      <th>infraction</th>\n      <th>occur_datetime</th>\n      <th>complainant</th>\n      <th>disposition</th>\n      <th>action</th>\n      <th>department_desc</th>\n      <th>first_name</th>\n      <th>middle_initial</th>\n      <th>last_name</th>\n      <th>rank_year</th>\n      <th>rank_month</th>\n      <th>rank_day</th>\n    </tr>\n  </thead>\n  <tbody>\n    <tr>\n      <th>0</th>\n      <td>2206</td>\n      <td>sergeant</td>\n      <td>white</td>\n      <td>male</td>\n      <td>1984</td>\n      <td>USE OF FORCE 01-01.21</td>\n      <td>1/26/18 21:00</td>\n      <td>public</td>\n      <td>founded</td>\n      <td>forwarded completed report to administration f...</td>\n      <td>uniform patrol</td>\n      <td>william</td>\n      <td></td>\n      <td>lawhun</td>\n      <td>2017</td>\n      <td>2</td>\n      <td>6</td>\n    </tr>\n    <tr>\n      <th>1</th>\n      <td>1711</td>\n      <td>corporal</td>\n      <td>white</td>\n      <td>male</td>\n      <td>1984</td>\n      <td>CONFORMANCE TO LAWS 01-01.04</td>\n      <td>2/20/18 0:00</td>\n      <td>administration</td>\n      <td>founded</td>\n      <td>7 day suspension; 6 month loss of take-home ve...</td>\n      <td>scat</td>\n      <td>eric</td>\n      <td></td>\n      <td>david</td>\n      <td>2012</td>\n      <td>2</td>\n      <td>13</td>\n    </tr>\n    <tr>\n      <th>2</th>\n      <td>1308</td>\n      <td>lieutenant</td>\n      <td>white</td>\n      <td>male</td>\n      <td>1968</td>\n      <td>OFFICERS 01-01.35</td>\n      <td>3/12/18 0:00</td>\n      <td>coworker</td>\n      <td>founded</td>\n      <td>resigned</td>\n      <td>parish prison (training)</td>\n      <td>eddie</td>\n      <td></td>\n      <td>canezaro</td>\n      <td>2006</td>\n      <td>9</td>\n      <td>6</td>\n    </tr>\n    <tr>\n      <th>3</th>\n      <td>1534</td>\n      <td>sergeant</td>\n      <td>black</td>\n      <td>male</td>\n      <td>1966</td>\n      <td>DISSEMINATION OF INFORMATION 01-01.18</td>\n      <td>3/15/18 0:00</td>\n      <td>coworker</td>\n      <td>inconclusive</td>\n      <td>none</td>\n      <td>construction services</td>\n      <td>troy</td>\n      <td></td>\n      <td>grimes</td>\n      <td>2015</td>\n      <td>6</td>\n      <td>15</td>\n    </tr>\n    <tr>\n      <th>4</th>\n      <td>2527</td>\n      <td>deputy</td>\n      <td>black</td>\n      <td>female</td>\n      <td>1986</td>\n      <td>COURTESY01-01.05</td>\n      <td>4/8/18 15:30</td>\n      <td>public</td>\n      <td>founded</td>\n      <td>verbal warning from captain flynn about courte...</td>\n      <td>community policing</td>\n      <td>pashion</td>\n      <td></td>\n      <td>norman</td>\n      <td>2014</td>\n      <td>12</td>\n      <td>16</td>\n    </tr>\n    <tr>\n      <th>5</th>\n      <td>1797</td>\n      <td>corporal</td>\n      <td>white</td>\n      <td>female</td>\n      <td>1982</td>\n      <td>HARRASSMENT</td>\n      <td>4/11/18 10:00</td>\n      <td>supervisor</td>\n      <td>founded</td>\n      <td>none</td>\n      <td>financial crimes</td>\n      <td>leighann</td>\n      <td></td>\n      <td>rice</td>\n      <td>2015</td>\n      <td>2</td>\n      <td>9</td>\n    </tr>\n    <tr>\n      <th>6</th>\n      <td>769</td>\n      <td>captain</td>\n      <td>black</td>\n      <td>female</td>\n      <td>1965</td>\n      <td>HARRASSMENT</td>\n      <td>4/13/18 12:00</td>\n      <td>subordinate</td>\n      <td>unfounded</td>\n      <td>none</td>\n      <td>communications</td>\n      <td>eleanor</td>\n      <td></td>\n      <td>stewart</td>\n      <td>2014</td>\n      <td>6</td>\n      <td>16</td>\n    </tr>\n    <tr>\n      <th>7</th>\n      <td>2067</td>\n      <td>deputy</td>\n      <td>white</td>\n      <td>male</td>\n      <td>1982</td>\n      <td>ARREST, SEARCH, AND SEIZURE 01-01-27</td>\n      <td>4/19/18 0:00</td>\n      <td>public</td>\n      <td>inconclusive</td>\n      <td>none</td>\n      <td>scat</td>\n      <td>john</td>\n      <td></td>\n      <td>depedro</td>\n      <td>2008</td>\n      <td>11</td>\n      <td>17</td>\n    </tr>\n    <tr>\n      <th>8</th>\n      <td>1519</td>\n      <td>lieutenant</td>\n      <td>white</td>\n      <td>male</td>\n      <td>1982</td>\n      <td>CONFORMANCE TO LAWS 01-01.04</td>\n      <td>4/22/18 0:00</td>\n      <td>administration</td>\n      <td>founded</td>\n      <td>5 day suspension</td>\n      <td>uniform patrol</td>\n      <td>justin</td>\n      <td></td>\n      <td>pickering</td>\n      <td>2017</td>\n      <td>11</td>\n      <td>27</td>\n    </tr>\n    <tr>\n      <th>9</th>\n      <td>2363</td>\n      <td>sergeant</td>\n      <td>white</td>\n      <td>male</td>\n      <td>1983</td>\n      <td>CONDUCT UNBECOMING 01-01.06</td>\n      <td>5/10/18 0:00</td>\n      <td>public</td>\n      <td>unfounded</td>\n      <td>none</td>\n      <td>uniform patrol</td>\n      <td>dustin</td>\n      <td>l</td>\n      <td>strickland</td>\n      <td>2017</td>\n      <td>11</td>\n      <td>27</td>\n    </tr>\n    <tr>\n      <th>10</th>\n      <td>1053</td>\n      <td>lieutenant</td>\n      <td>white</td>\n      <td>male</td>\n      <td>1972</td>\n      <td>CONDUCT UNBECOMING 01-01.06</td>\n      <td>6/15/18 0:00</td>\n      <td>public</td>\n      <td>founded</td>\n      <td>verbal reprimand</td>\n      <td>uniform patrol</td>\n      <td>michael</td>\n      <td></td>\n      <td>birdwell</td>\n      <td>2011</td>\n      <td>8</td>\n      <td>15</td>\n    </tr>\n    <tr>\n      <th>11</th>\n      <td>2592</td>\n      <td>deputy</td>\n      <td>black</td>\n      <td>male</td>\n      <td>1989</td>\n      <td>CONDUCT UNBECOMING 01-01.06</td>\n      <td>6/24/18 12:00</td>\n      <td>NaN</td>\n      <td>founded</td>\n      <td>terminated</td>\n      <td>uniform patrol</td>\n      <td>kenneth</td>\n      <td>j</td>\n      <td>parker</td>\n      <td>2015</td>\n      <td>10</td>\n      <td>22</td>\n    </tr>\n    <tr>\n      <th>12</th>\n      <td>2571</td>\n      <td>deputy</td>\n      <td>black</td>\n      <td>male</td>\n      <td>1989</td>\n      <td>UNSATISFACTORY PERFORMANCE01-01.14</td>\n      <td>7/7/18 0:00</td>\n      <td>public</td>\n      <td>founded</td>\n      <td>7 day suspension; money deducted from pay</td>\n      <td>uniform patrol</td>\n      <td>courtney</td>\n      <td>r</td>\n      <td>jones</td>\n      <td>2015</td>\n      <td>6</td>\n      <td>18</td>\n    </tr>\n    <tr>\n      <th>13</th>\n      <td>2414</td>\n      <td>corporal</td>\n      <td>black</td>\n      <td>female</td>\n      <td>1990</td>\n      <td>CONDUCT UNBECOMING 01-01.06</td>\n      <td>9/23/18 0:00</td>\n      <td>coworker</td>\n      <td>unfounded</td>\n      <td>none</td>\n      <td>communications</td>\n      <td>anastatia</td>\n      <td>a</td>\n      <td>selby</td>\n      <td>2018</td>\n      <td>3</td>\n      <td>19</td>\n    </tr>\n    <tr>\n      <th>14</th>\n      <td>2528</td>\n      <td>deputy</td>\n      <td>black</td>\n      <td>female</td>\n      <td>1993</td>\n      <td>CONDUCT UNBECOMING 01-01.06</td>\n      <td>10/14/18 0:00</td>\n      <td>public</td>\n      <td>founded</td>\n      <td>action was pending when his next complaint cam...</td>\n      <td>parish prison</td>\n      <td>ricky</td>\n      <td></td>\n      <td>merritt jr</td>\n      <td>2014</td>\n      <td>12</td>\n      <td>16</td>\n    </tr>\n    <tr>\n      <th>15</th>\n      <td>2528</td>\n      <td>deputy</td>\n      <td>black</td>\n      <td>female</td>\n      <td>1993</td>\n      <td>ASSOCIATIONS 01-01.42</td>\n      <td>11/14/18 0:00</td>\n      <td>public</td>\n      <td>founded</td>\n      <td>terminated</td>\n      <td>parish prison</td>\n      <td>ricky</td>\n      <td></td>\n      <td>merritt jr</td>\n      <td>2014</td>\n      <td>12</td>\n      <td>16</td>\n    </tr>\n    <tr>\n      <th>16</th>\n      <td>2571</td>\n      <td>deputy</td>\n      <td>black</td>\n      <td>female</td>\n      <td>1989</td>\n      <td>FALSE STATEMENTS 01-01.17</td>\n      <td>11/28/18 0:00</td>\n      <td>public</td>\n      <td>founded</td>\n      <td>transferred</td>\n      <td>uniform patrol</td>\n      <td>courtney</td>\n      <td>r</td>\n      <td>jones</td>\n      <td>2015</td>\n      <td>6</td>\n      <td>18</td>\n    </tr>\n    <tr>\n      <th>17</th>\n      <td>1067</td>\n      <td>deputy</td>\n      <td>black</td>\n      <td>female</td>\n      <td>1976</td>\n      <td>SOCIAL MEDIA</td>\n      <td>11/30/18 0:00</td>\n      <td>public</td>\n      <td>founded</td>\n      <td>5 day suspension</td>\n      <td>parish prison</td>\n      <td>joshua</td>\n      <td></td>\n      <td>rollins</td>\n      <td>1998</td>\n      <td>8</td>\n      <td>24</td>\n    </tr>\n  </tbody>\n</table>\n</div>"
     },
     "metadata": {},
     "execution_count": 2
    }
   ],
   "source": [
    "df = clean()\n",
    "df"
   ]
  },
  {
   "cell_type": "code",
   "execution_count": 6,
   "metadata": {},
   "outputs": [
    {
     "output_type": "execute_result",
     "data": {
      "text/plain": [
       "array(['forwarded completed report to administration for review; he resigned prior to any action being taken',\n",
       "       '7 day suspension; 6 month loss of take-home vehicle privileges; transfer to another division',\n",
       "       'resigned', 'none',\n",
       "       'verbal warning from captain flynn about courtesy to others',\n",
       "       '5 day suspension', 'verbal reprimand', 'terminated',\n",
       "       '7 day suspension; money deducted from pay',\n",
       "       'action was pending when his next complaint came in',\n",
       "       'transferred'], dtype=object)"
      ]
     },
     "metadata": {},
     "execution_count": 6
    }
   ],
   "source": [
    "df.action.str.lower().str.strip().str.replace(r\"(\\. |, | and )\", \"; \").str.replace(r\"\\.$\", \"\").str.replace(\"privliges\", \"privileges\", regex=False).unique()"
   ]
  },
  {
   "cell_type": "code",
   "execution_count": 16,
   "metadata": {},
   "outputs": [
    {
     "output_type": "execute_result",
     "data": {
      "text/plain": [
       "array(['William Lawhun ', 'Eric David ', 'Eddie Canezaro ',\n",
       "       'Troy Grimes ', 'Pashion Norman ', 'Leighann Rice ',\n",
       "       'Eleanor Stewart ', 'John Depedro ', 'Justin Pickering ',\n",
       "       'Dustin L. Strickland ', 'Michael Birdwell ', 'Kenneth J. Parker ',\n",
       "       'Courtney R. Jones ', 'Anastatia A. Selby ', 'Ricky Merritt, Jr.',\n",
       "       'Joshua Rollins '], dtype=object)"
      ]
     },
     "metadata": {},
     "execution_count": 16
    }
   ],
   "source": [
    "df.name.unique()"
   ]
  },
  {
   "cell_type": "code",
   "execution_count": 22,
   "metadata": {},
   "outputs": [
    {
     "output_type": "execute_result",
     "data": {
      "text/plain": [
       "Index(['name', 'badge_', 'rank', 'date_achieved_rank', 'race', 'sex',\n",
       "       'birth_year', 'infraction', 'datetime_infraction', 'complainant',\n",
       "       'disposition', 'action_taken', 'unit_assigned_on_date', 'first_name',\n",
       "       'middle_initial', 'last_name'],\n",
       "      dtype='object')"
      ]
     },
     "metadata": {},
     "execution_count": 22
    }
   ],
   "source": [
    "df.columns"
   ]
  },
  {
   "cell_type": "code",
   "execution_count": null,
   "metadata": {},
   "outputs": [],
   "source": []
  }
 ]
}
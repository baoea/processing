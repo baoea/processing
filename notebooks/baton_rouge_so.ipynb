{
 "metadata": {
  "language_info": {
   "codemirror_mode": {
    "name": "ipython",
    "version": 3
   },
   "file_extension": ".py",
   "mimetype": "text/x-python",
   "name": "python",
   "nbconvert_exporter": "python",
   "pygments_lexer": "ipython3",
   "version": "3.8.3-final"
  },
  "orig_nbformat": 2,
  "kernelspec": {
   "name": "python3",
   "display_name": "Python 3",
   "language": "python"
  }
 },
 "nbformat": 4,
 "nbformat_minor": 2,
 "cells": [
  {
   "cell_type": "code",
   "execution_count": 1,
   "metadata": {},
   "outputs": [],
   "source": [
    "import sys; sys.path.append(\"../\")\n",
    "\n",
    "import pandas as pd\n",
    "\n",
    "from lib.explore import show_unique\n",
    "from clean.baton_rouge_so_cprr import clean18"
   ]
  },
  {
   "cell_type": "code",
   "execution_count": 2,
   "metadata": {},
   "outputs": [
    {
     "output_type": "execute_result",
     "data": {
      "text/plain": [
       "    badge_no   rank_desc   race     sex  birth_year complainant_type  \\\n",
       "0       2206    sergeant  white    male        1984           public   \n",
       "1       1711    corporal  white    male        1984   administration   \n",
       "2       1308  lieutenant  white    male        1968         coworker   \n",
       "3       1534    sergeant  black    male        1966         coworker   \n",
       "4       2527      deputy  black  female        1986           public   \n",
       "5       1797    corporal  white  female        1982       supervisor   \n",
       "6        769     captain  black  female        1965      subordinate   \n",
       "7       2067      deputy  white    male        1982           public   \n",
       "8       1519  lieutenant  white    male        1982   administration   \n",
       "9       2363    sergeant  white    male        1983           public   \n",
       "10      1053  lieutenant  white    male        1972           public   \n",
       "11      2592      deputy  black    male        1989                    \n",
       "12      2571      deputy  black    male        1989           public   \n",
       "13      2414    corporal  black  female        1990         coworker   \n",
       "14      2528      deputy  black  female        1993           public   \n",
       "15      2528      deputy  black  female        1993           public   \n",
       "16      2571      deputy  black  female        1989           public   \n",
       "17      1067      deputy  black  female        1976           public   \n",
       "\n",
       "     disposition                                             action  \\\n",
       "0        founded  forwarded completed report to administration f...   \n",
       "1        founded  7 day suspension; 6 month loss of take-home ve...   \n",
       "2        founded                                           resigned   \n",
       "3   inconclusive                                               none   \n",
       "4        founded  verbal warning from captain flynn about courte...   \n",
       "5        founded                                               none   \n",
       "6      unfounded                                               none   \n",
       "7   inconclusive                                               none   \n",
       "8        founded                                   5 day suspension   \n",
       "9      unfounded                                               none   \n",
       "10       founded                                   verbal reprimand   \n",
       "11       founded                                         terminated   \n",
       "12       founded          7 day suspension; money deducted from pay   \n",
       "13     unfounded                                               none   \n",
       "14       founded  action was pending when his next complaint cam...   \n",
       "15       founded                                         terminated   \n",
       "16       founded                                        transferred   \n",
       "17       founded                                   5 day suspension   \n",
       "\n",
       "             department_desc first_name  ... rank_year rank_month rank_day  \\\n",
       "0             uniform patrol    william  ...      2017          2        6   \n",
       "1                       scat       eric  ...      2012          2       13   \n",
       "2   parish prison (training)      eddie  ...      2006          9        6   \n",
       "3      construction services       troy  ...      2015          6       15   \n",
       "4         community policing    pashion  ...      2014         12       16   \n",
       "5           financial crimes   leighann  ...      2015          2        9   \n",
       "6             communications    eleanor  ...      2014          6       16   \n",
       "7                       scat       john  ...      2008         11       17   \n",
       "8             uniform patrol     justin  ...      2017         11       27   \n",
       "9             uniform patrol     dustin  ...      2017         11       27   \n",
       "10            uniform patrol    michael  ...      2011          8       15   \n",
       "11            uniform patrol    kenneth  ...      2015         10       22   \n",
       "12            uniform patrol   courtney  ...      2015          6       18   \n",
       "13            communications  anastatia  ...      2018          3       19   \n",
       "14             parish prison      ricky  ...      2014         12       16   \n",
       "15             parish prison      ricky  ...      2014         12       16   \n",
       "16            uniform patrol   courtney  ...      2015          6       18   \n",
       "17             parish prison     joshua  ...      1998          8       24   \n",
       "\n",
       "   occur_year occur_month occur_day occur_time data_production_year  \\\n",
       "0        2018           1        26      21:00                 2018   \n",
       "1        2018           2        20      00:00                 2018   \n",
       "2        2018           3        12      00:00                 2018   \n",
       "3        2018           3        15      00:00                 2018   \n",
       "4        2018           4         8      15:30                 2018   \n",
       "5        2018           4        11      10:00                 2018   \n",
       "6        2018           4        13      12:00                 2018   \n",
       "7        2018           4        19      00:00                 2018   \n",
       "8        2018           4        22      00:00                 2018   \n",
       "9        2018           5        10      00:00                 2018   \n",
       "10       2018           6        15      00:00                 2018   \n",
       "11       2018           6        24      12:00                 2018   \n",
       "12       2018           7         7      00:00                 2018   \n",
       "13       2018           9        23      00:00                 2018   \n",
       "14       2018          10        14      00:00                 2018   \n",
       "15       2018          11        14      00:00                 2018   \n",
       "16       2018          11        28      00:00                 2018   \n",
       "17       2018          11        30      00:00                 2018   \n",
       "\n",
       "            agency                               uid  \n",
       "0   Baton Rouge SO  402619644d9eff018cd39a757bcc5153  \n",
       "1   Baton Rouge SO  7b22c2ab899789ff98f5cd884b4175be  \n",
       "2   Baton Rouge SO  1f86bca13a125c7422d192a14159ac21  \n",
       "3   Baton Rouge SO  93c7b5cba8c235cb5aa61b013922d71a  \n",
       "4   Baton Rouge SO  6cf20697312e7736147155175876da95  \n",
       "5   Baton Rouge SO  b91b655b93a3c0de5c46674b3472867f  \n",
       "6   Baton Rouge SO  d4abd7442439b47d115132746ecdf7da  \n",
       "7   Baton Rouge SO  b180787c744ce3e7383aa683f40b51ea  \n",
       "8   Baton Rouge SO  3f6d99799d87868c8b9f69126f4b331b  \n",
       "9   Baton Rouge SO  93efca0952d59008ceb2f8f0baaeb7ac  \n",
       "10  Baton Rouge SO  dc8396cf0b1d2bfc309d80368484001e  \n",
       "11  Baton Rouge SO  3ab64d2e2b554256b897419613449ce9  \n",
       "12  Baton Rouge SO  5d99e8da3c3ab0a8c67482d5b5aa708e  \n",
       "13  Baton Rouge SO  8fd7d31d51a4af0d406ef9f2bb2f6b11  \n",
       "14  Baton Rouge SO  5d1134bdd61f860559904746c4a1f78c  \n",
       "15  Baton Rouge SO  5d1134bdd61f860559904746c4a1f78c  \n",
       "16  Baton Rouge SO  5d99e8da3c3ab0a8c67482d5b5aa708e  \n",
       "17  Baton Rouge SO  d700c5cfceea5a959a7c96fe22d85004  \n",
       "\n",
       "[18 rows x 24 columns]"
      ],
      "text/html": "<div>\n<style scoped>\n    .dataframe tbody tr th:only-of-type {\n        vertical-align: middle;\n    }\n\n    .dataframe tbody tr th {\n        vertical-align: top;\n    }\n\n    .dataframe thead th {\n        text-align: right;\n    }\n</style>\n<table border=\"1\" class=\"dataframe\">\n  <thead>\n    <tr style=\"text-align: right;\">\n      <th></th>\n      <th>badge_no</th>\n      <th>rank_desc</th>\n      <th>race</th>\n      <th>sex</th>\n      <th>birth_year</th>\n      <th>complainant_type</th>\n      <th>disposition</th>\n      <th>action</th>\n      <th>department_desc</th>\n      <th>first_name</th>\n      <th>...</th>\n      <th>rank_year</th>\n      <th>rank_month</th>\n      <th>rank_day</th>\n      <th>occur_year</th>\n      <th>occur_month</th>\n      <th>occur_day</th>\n      <th>occur_time</th>\n      <th>data_production_year</th>\n      <th>agency</th>\n      <th>uid</th>\n    </tr>\n  </thead>\n  <tbody>\n    <tr>\n      <th>0</th>\n      <td>2206</td>\n      <td>sergeant</td>\n      <td>white</td>\n      <td>male</td>\n      <td>1984</td>\n      <td>public</td>\n      <td>founded</td>\n      <td>forwarded completed report to administration f...</td>\n      <td>uniform patrol</td>\n      <td>william</td>\n      <td>...</td>\n      <td>2017</td>\n      <td>2</td>\n      <td>6</td>\n      <td>2018</td>\n      <td>1</td>\n      <td>26</td>\n      <td>21:00</td>\n      <td>2018</td>\n      <td>Baton Rouge SO</td>\n      <td>402619644d9eff018cd39a757bcc5153</td>\n    </tr>\n    <tr>\n      <th>1</th>\n      <td>1711</td>\n      <td>corporal</td>\n      <td>white</td>\n      <td>male</td>\n      <td>1984</td>\n      <td>administration</td>\n      <td>founded</td>\n      <td>7 day suspension; 6 month loss of take-home ve...</td>\n      <td>scat</td>\n      <td>eric</td>\n      <td>...</td>\n      <td>2012</td>\n      <td>2</td>\n      <td>13</td>\n      <td>2018</td>\n      <td>2</td>\n      <td>20</td>\n      <td>00:00</td>\n      <td>2018</td>\n      <td>Baton Rouge SO</td>\n      <td>7b22c2ab899789ff98f5cd884b4175be</td>\n    </tr>\n    <tr>\n      <th>2</th>\n      <td>1308</td>\n      <td>lieutenant</td>\n      <td>white</td>\n      <td>male</td>\n      <td>1968</td>\n      <td>coworker</td>\n      <td>founded</td>\n      <td>resigned</td>\n      <td>parish prison (training)</td>\n      <td>eddie</td>\n      <td>...</td>\n      <td>2006</td>\n      <td>9</td>\n      <td>6</td>\n      <td>2018</td>\n      <td>3</td>\n      <td>12</td>\n      <td>00:00</td>\n      <td>2018</td>\n      <td>Baton Rouge SO</td>\n      <td>1f86bca13a125c7422d192a14159ac21</td>\n    </tr>\n    <tr>\n      <th>3</th>\n      <td>1534</td>\n      <td>sergeant</td>\n      <td>black</td>\n      <td>male</td>\n      <td>1966</td>\n      <td>coworker</td>\n      <td>inconclusive</td>\n      <td>none</td>\n      <td>construction services</td>\n      <td>troy</td>\n      <td>...</td>\n      <td>2015</td>\n      <td>6</td>\n      <td>15</td>\n      <td>2018</td>\n      <td>3</td>\n      <td>15</td>\n      <td>00:00</td>\n      <td>2018</td>\n      <td>Baton Rouge SO</td>\n      <td>93c7b5cba8c235cb5aa61b013922d71a</td>\n    </tr>\n    <tr>\n      <th>4</th>\n      <td>2527</td>\n      <td>deputy</td>\n      <td>black</td>\n      <td>female</td>\n      <td>1986</td>\n      <td>public</td>\n      <td>founded</td>\n      <td>verbal warning from captain flynn about courte...</td>\n      <td>community policing</td>\n      <td>pashion</td>\n      <td>...</td>\n      <td>2014</td>\n      <td>12</td>\n      <td>16</td>\n      <td>2018</td>\n      <td>4</td>\n      <td>8</td>\n      <td>15:30</td>\n      <td>2018</td>\n      <td>Baton Rouge SO</td>\n      <td>6cf20697312e7736147155175876da95</td>\n    </tr>\n    <tr>\n      <th>5</th>\n      <td>1797</td>\n      <td>corporal</td>\n      <td>white</td>\n      <td>female</td>\n      <td>1982</td>\n      <td>supervisor</td>\n      <td>founded</td>\n      <td>none</td>\n      <td>financial crimes</td>\n      <td>leighann</td>\n      <td>...</td>\n      <td>2015</td>\n      <td>2</td>\n      <td>9</td>\n      <td>2018</td>\n      <td>4</td>\n      <td>11</td>\n      <td>10:00</td>\n      <td>2018</td>\n      <td>Baton Rouge SO</td>\n      <td>b91b655b93a3c0de5c46674b3472867f</td>\n    </tr>\n    <tr>\n      <th>6</th>\n      <td>769</td>\n      <td>captain</td>\n      <td>black</td>\n      <td>female</td>\n      <td>1965</td>\n      <td>subordinate</td>\n      <td>unfounded</td>\n      <td>none</td>\n      <td>communications</td>\n      <td>eleanor</td>\n      <td>...</td>\n      <td>2014</td>\n      <td>6</td>\n      <td>16</td>\n      <td>2018</td>\n      <td>4</td>\n      <td>13</td>\n      <td>12:00</td>\n      <td>2018</td>\n      <td>Baton Rouge SO</td>\n      <td>d4abd7442439b47d115132746ecdf7da</td>\n    </tr>\n    <tr>\n      <th>7</th>\n      <td>2067</td>\n      <td>deputy</td>\n      <td>white</td>\n      <td>male</td>\n      <td>1982</td>\n      <td>public</td>\n      <td>inconclusive</td>\n      <td>none</td>\n      <td>scat</td>\n      <td>john</td>\n      <td>...</td>\n      <td>2008</td>\n      <td>11</td>\n      <td>17</td>\n      <td>2018</td>\n      <td>4</td>\n      <td>19</td>\n      <td>00:00</td>\n      <td>2018</td>\n      <td>Baton Rouge SO</td>\n      <td>b180787c744ce3e7383aa683f40b51ea</td>\n    </tr>\n    <tr>\n      <th>8</th>\n      <td>1519</td>\n      <td>lieutenant</td>\n      <td>white</td>\n      <td>male</td>\n      <td>1982</td>\n      <td>administration</td>\n      <td>founded</td>\n      <td>5 day suspension</td>\n      <td>uniform patrol</td>\n      <td>justin</td>\n      <td>...</td>\n      <td>2017</td>\n      <td>11</td>\n      <td>27</td>\n      <td>2018</td>\n      <td>4</td>\n      <td>22</td>\n      <td>00:00</td>\n      <td>2018</td>\n      <td>Baton Rouge SO</td>\n      <td>3f6d99799d87868c8b9f69126f4b331b</td>\n    </tr>\n    <tr>\n      <th>9</th>\n      <td>2363</td>\n      <td>sergeant</td>\n      <td>white</td>\n      <td>male</td>\n      <td>1983</td>\n      <td>public</td>\n      <td>unfounded</td>\n      <td>none</td>\n      <td>uniform patrol</td>\n      <td>dustin</td>\n      <td>...</td>\n      <td>2017</td>\n      <td>11</td>\n      <td>27</td>\n      <td>2018</td>\n      <td>5</td>\n      <td>10</td>\n      <td>00:00</td>\n      <td>2018</td>\n      <td>Baton Rouge SO</td>\n      <td>93efca0952d59008ceb2f8f0baaeb7ac</td>\n    </tr>\n    <tr>\n      <th>10</th>\n      <td>1053</td>\n      <td>lieutenant</td>\n      <td>white</td>\n      <td>male</td>\n      <td>1972</td>\n      <td>public</td>\n      <td>founded</td>\n      <td>verbal reprimand</td>\n      <td>uniform patrol</td>\n      <td>michael</td>\n      <td>...</td>\n      <td>2011</td>\n      <td>8</td>\n      <td>15</td>\n      <td>2018</td>\n      <td>6</td>\n      <td>15</td>\n      <td>00:00</td>\n      <td>2018</td>\n      <td>Baton Rouge SO</td>\n      <td>dc8396cf0b1d2bfc309d80368484001e</td>\n    </tr>\n    <tr>\n      <th>11</th>\n      <td>2592</td>\n      <td>deputy</td>\n      <td>black</td>\n      <td>male</td>\n      <td>1989</td>\n      <td></td>\n      <td>founded</td>\n      <td>terminated</td>\n      <td>uniform patrol</td>\n      <td>kenneth</td>\n      <td>...</td>\n      <td>2015</td>\n      <td>10</td>\n      <td>22</td>\n      <td>2018</td>\n      <td>6</td>\n      <td>24</td>\n      <td>12:00</td>\n      <td>2018</td>\n      <td>Baton Rouge SO</td>\n      <td>3ab64d2e2b554256b897419613449ce9</td>\n    </tr>\n    <tr>\n      <th>12</th>\n      <td>2571</td>\n      <td>deputy</td>\n      <td>black</td>\n      <td>male</td>\n      <td>1989</td>\n      <td>public</td>\n      <td>founded</td>\n      <td>7 day suspension; money deducted from pay</td>\n      <td>uniform patrol</td>\n      <td>courtney</td>\n      <td>...</td>\n      <td>2015</td>\n      <td>6</td>\n      <td>18</td>\n      <td>2018</td>\n      <td>7</td>\n      <td>7</td>\n      <td>00:00</td>\n      <td>2018</td>\n      <td>Baton Rouge SO</td>\n      <td>5d99e8da3c3ab0a8c67482d5b5aa708e</td>\n    </tr>\n    <tr>\n      <th>13</th>\n      <td>2414</td>\n      <td>corporal</td>\n      <td>black</td>\n      <td>female</td>\n      <td>1990</td>\n      <td>coworker</td>\n      <td>unfounded</td>\n      <td>none</td>\n      <td>communications</td>\n      <td>anastatia</td>\n      <td>...</td>\n      <td>2018</td>\n      <td>3</td>\n      <td>19</td>\n      <td>2018</td>\n      <td>9</td>\n      <td>23</td>\n      <td>00:00</td>\n      <td>2018</td>\n      <td>Baton Rouge SO</td>\n      <td>8fd7d31d51a4af0d406ef9f2bb2f6b11</td>\n    </tr>\n    <tr>\n      <th>14</th>\n      <td>2528</td>\n      <td>deputy</td>\n      <td>black</td>\n      <td>female</td>\n      <td>1993</td>\n      <td>public</td>\n      <td>founded</td>\n      <td>action was pending when his next complaint cam...</td>\n      <td>parish prison</td>\n      <td>ricky</td>\n      <td>...</td>\n      <td>2014</td>\n      <td>12</td>\n      <td>16</td>\n      <td>2018</td>\n      <td>10</td>\n      <td>14</td>\n      <td>00:00</td>\n      <td>2018</td>\n      <td>Baton Rouge SO</td>\n      <td>5d1134bdd61f860559904746c4a1f78c</td>\n    </tr>\n    <tr>\n      <th>15</th>\n      <td>2528</td>\n      <td>deputy</td>\n      <td>black</td>\n      <td>female</td>\n      <td>1993</td>\n      <td>public</td>\n      <td>founded</td>\n      <td>terminated</td>\n      <td>parish prison</td>\n      <td>ricky</td>\n      <td>...</td>\n      <td>2014</td>\n      <td>12</td>\n      <td>16</td>\n      <td>2018</td>\n      <td>11</td>\n      <td>14</td>\n      <td>00:00</td>\n      <td>2018</td>\n      <td>Baton Rouge SO</td>\n      <td>5d1134bdd61f860559904746c4a1f78c</td>\n    </tr>\n    <tr>\n      <th>16</th>\n      <td>2571</td>\n      <td>deputy</td>\n      <td>black</td>\n      <td>female</td>\n      <td>1989</td>\n      <td>public</td>\n      <td>founded</td>\n      <td>transferred</td>\n      <td>uniform patrol</td>\n      <td>courtney</td>\n      <td>...</td>\n      <td>2015</td>\n      <td>6</td>\n      <td>18</td>\n      <td>2018</td>\n      <td>11</td>\n      <td>28</td>\n      <td>00:00</td>\n      <td>2018</td>\n      <td>Baton Rouge SO</td>\n      <td>5d99e8da3c3ab0a8c67482d5b5aa708e</td>\n    </tr>\n    <tr>\n      <th>17</th>\n      <td>1067</td>\n      <td>deputy</td>\n      <td>black</td>\n      <td>female</td>\n      <td>1976</td>\n      <td>public</td>\n      <td>founded</td>\n      <td>5 day suspension</td>\n      <td>parish prison</td>\n      <td>joshua</td>\n      <td>...</td>\n      <td>1998</td>\n      <td>8</td>\n      <td>24</td>\n      <td>2018</td>\n      <td>11</td>\n      <td>30</td>\n      <td>00:00</td>\n      <td>2018</td>\n      <td>Baton Rouge SO</td>\n      <td>d700c5cfceea5a959a7c96fe22d85004</td>\n    </tr>\n  </tbody>\n</table>\n<p>18 rows × 24 columns</p>\n</div>"
     },
     "metadata": {},
     "execution_count": 2
    }
   ],
   "source": [
    "df = clean18()\n",
    "df"
   ]
  },
  {
   "cell_type": "code",
   "execution_count": 5,
   "metadata": {},
   "outputs": [
    {
     "output_type": "execute_result",
     "data": {
      "text/plain": [
       "Index(['badge_no', 'rank_desc', 'race', 'sex', 'birth_year',\n",
       "       'complainant_type', 'disposition', 'action', 'department_desc',\n",
       "       'first_name', 'middle_initial', 'last_name', 'rule_violation',\n",
       "       'rule_code', 'rank_year', 'rank_month', 'rank_day', 'occur_year',\n",
       "       'occur_month', 'occur_day', 'occur_time', 'data_production_year',\n",
       "       'agency', 'uid'],\n",
       "      dtype='object')"
      ]
     },
     "metadata": {},
     "execution_count": 5
    }
   ],
   "source": [
    "df.columns"
   ]
  },
  {
   "cell_type": "code",
   "execution_count": null,
   "metadata": {},
   "outputs": [],
   "source": []
  }
 ]
}
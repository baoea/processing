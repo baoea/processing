{
 "metadata": {
  "language_info": {
   "codemirror_mode": {
    "name": "ipython",
    "version": 3
   },
   "file_extension": ".py",
   "mimetype": "text/x-python",
   "name": "python",
   "nbconvert_exporter": "python",
   "pygments_lexer": "ipython3",
   "version": "3.9.2"
  },
  "orig_nbformat": 4,
  "kernelspec": {
   "name": "python3",
   "display_name": "Python 3.9.2 64-bit ('base': virtualenvwrapper)"
  },
  "interpreter": {
   "hash": "55d6dfa6f6295e03bf132df3e61c1565ff1c22b645ef82a5638b280b97b3597b"
  }
 },
 "nbformat": 4,
 "nbformat_minor": 2,
 "cells": [
  {
   "cell_type": "code",
   "execution_count": 1,
   "metadata": {},
   "outputs": [],
   "source": [
    "import sys; sys.path.append('../')\n",
    "\n",
    "import pandas as pd\n",
    "\n",
    "from clean.ponchatoula_pd import clean"
   ]
  },
  {
   "cell_type": "code",
   "execution_count": 2,
   "metadata": {},
   "outputs": [
    {
     "output_type": "execute_result",
     "data": {
      "text/plain": [
       "    employee_id first_name middle_initial  last_name  class department_desc  \\\n",
       "0         60434     jerome              l   mcdowell     10             pol   \n",
       "1         60469      terry              j   guillory     10             pol   \n",
       "2         60468      donna              v     fisher     10            disp   \n",
       "3         60494   marshall                     price     10             pol   \n",
       "4         60444     morris                 mashon jr     10             pol   \n",
       "..          ...        ...            ...        ...    ...             ...   \n",
       "71        60584      frank              s     tallia     10             pol   \n",
       "72        60520    damieon              r     tanner     10             pol   \n",
       "73        60612    patrick                   trammel     10             pol   \n",
       "74        60547     curtis              j   whitaker     10             pol   \n",
       "75        60531     nicole                  williams     10            disp   \n",
       "\n",
       "   termination_date  salary salary_freq     sex hire_year hire_month hire_day  \\\n",
       "0         2/26/2010   15.02      hourly    male      2006          4        3   \n",
       "1          7/7/2010   12.12      hourly    male      2007          9       28   \n",
       "2          8/8/2010    9.71      hourly  female      2007          9       20   \n",
       "3        12/22/2010   10.99      hourly    male      2009          7       15   \n",
       "4         3/18/2011   13.24      hourly    male      2006          9        1   \n",
       "..              ...     ...         ...     ...       ...        ...      ...   \n",
       "71              NaN   13.74      hourly    male      2017          9       30   \n",
       "72              NaN   17.63      hourly    male      2012          2        6   \n",
       "73              NaN   14.49      hourly    male      2019          8       13   \n",
       "74              NaN   15.70      hourly    male      2015          1       23   \n",
       "75              NaN   14.66      hourly  female      2013          7        6   \n",
       "\n",
       "   data_production_year          agency                               uid  \n",
       "0                  2020  Ponchatoula PD  a4d5f48d22b2b71860772d5b26141107  \n",
       "1                  2020  Ponchatoula PD  65d13a1dc0d21d5c6cf604ddd214bd1c  \n",
       "2                  2020  Ponchatoula PD  bbce9f5fcce59409ffa54584072591a3  \n",
       "3                  2020  Ponchatoula PD  37e24695d53c982014d417d453ae5663  \n",
       "4                  2020  Ponchatoula PD  51ec760ee7744345bae7b42105924ebb  \n",
       "..                  ...             ...                               ...  \n",
       "71                 2020  Ponchatoula PD  5bd47649fcb9d0b089dcedcd6d6139bf  \n",
       "72                 2020  Ponchatoula PD  2fca0b43a7947168ad334eb6f2ca2381  \n",
       "73                 2020  Ponchatoula PD  a83867807b8e43ca32ee806db593ede2  \n",
       "74                 2020  Ponchatoula PD  051301494cbb18ec2574ce6973fc3c00  \n",
       "75                 2020  Ponchatoula PD  a7086182b548320b1c87c7da70eb6598  \n",
       "\n",
       "[76 rows x 16 columns]"
      ],
      "text/html": "<div>\n<style scoped>\n    .dataframe tbody tr th:only-of-type {\n        vertical-align: middle;\n    }\n\n    .dataframe tbody tr th {\n        vertical-align: top;\n    }\n\n    .dataframe thead th {\n        text-align: right;\n    }\n</style>\n<table border=\"1\" class=\"dataframe\">\n  <thead>\n    <tr style=\"text-align: right;\">\n      <th></th>\n      <th>employee_id</th>\n      <th>first_name</th>\n      <th>middle_initial</th>\n      <th>last_name</th>\n      <th>class</th>\n      <th>department_desc</th>\n      <th>termination_date</th>\n      <th>salary</th>\n      <th>salary_freq</th>\n      <th>sex</th>\n      <th>hire_year</th>\n      <th>hire_month</th>\n      <th>hire_day</th>\n      <th>data_production_year</th>\n      <th>agency</th>\n      <th>uid</th>\n    </tr>\n  </thead>\n  <tbody>\n    <tr>\n      <th>0</th>\n      <td>60434</td>\n      <td>jerome</td>\n      <td>l</td>\n      <td>mcdowell</td>\n      <td>10</td>\n      <td>pol</td>\n      <td>2/26/2010</td>\n      <td>15.02</td>\n      <td>hourly</td>\n      <td>male</td>\n      <td>2006</td>\n      <td>4</td>\n      <td>3</td>\n      <td>2020</td>\n      <td>Ponchatoula PD</td>\n      <td>a4d5f48d22b2b71860772d5b26141107</td>\n    </tr>\n    <tr>\n      <th>1</th>\n      <td>60469</td>\n      <td>terry</td>\n      <td>j</td>\n      <td>guillory</td>\n      <td>10</td>\n      <td>pol</td>\n      <td>7/7/2010</td>\n      <td>12.12</td>\n      <td>hourly</td>\n      <td>male</td>\n      <td>2007</td>\n      <td>9</td>\n      <td>28</td>\n      <td>2020</td>\n      <td>Ponchatoula PD</td>\n      <td>65d13a1dc0d21d5c6cf604ddd214bd1c</td>\n    </tr>\n    <tr>\n      <th>2</th>\n      <td>60468</td>\n      <td>donna</td>\n      <td>v</td>\n      <td>fisher</td>\n      <td>10</td>\n      <td>disp</td>\n      <td>8/8/2010</td>\n      <td>9.71</td>\n      <td>hourly</td>\n      <td>female</td>\n      <td>2007</td>\n      <td>9</td>\n      <td>20</td>\n      <td>2020</td>\n      <td>Ponchatoula PD</td>\n      <td>bbce9f5fcce59409ffa54584072591a3</td>\n    </tr>\n    <tr>\n      <th>3</th>\n      <td>60494</td>\n      <td>marshall</td>\n      <td></td>\n      <td>price</td>\n      <td>10</td>\n      <td>pol</td>\n      <td>12/22/2010</td>\n      <td>10.99</td>\n      <td>hourly</td>\n      <td>male</td>\n      <td>2009</td>\n      <td>7</td>\n      <td>15</td>\n      <td>2020</td>\n      <td>Ponchatoula PD</td>\n      <td>37e24695d53c982014d417d453ae5663</td>\n    </tr>\n    <tr>\n      <th>4</th>\n      <td>60444</td>\n      <td>morris</td>\n      <td></td>\n      <td>mashon jr</td>\n      <td>10</td>\n      <td>pol</td>\n      <td>3/18/2011</td>\n      <td>13.24</td>\n      <td>hourly</td>\n      <td>male</td>\n      <td>2006</td>\n      <td>9</td>\n      <td>1</td>\n      <td>2020</td>\n      <td>Ponchatoula PD</td>\n      <td>51ec760ee7744345bae7b42105924ebb</td>\n    </tr>\n    <tr>\n      <th>...</th>\n      <td>...</td>\n      <td>...</td>\n      <td>...</td>\n      <td>...</td>\n      <td>...</td>\n      <td>...</td>\n      <td>...</td>\n      <td>...</td>\n      <td>...</td>\n      <td>...</td>\n      <td>...</td>\n      <td>...</td>\n      <td>...</td>\n      <td>...</td>\n      <td>...</td>\n      <td>...</td>\n    </tr>\n    <tr>\n      <th>71</th>\n      <td>60584</td>\n      <td>frank</td>\n      <td>s</td>\n      <td>tallia</td>\n      <td>10</td>\n      <td>pol</td>\n      <td>NaN</td>\n      <td>13.74</td>\n      <td>hourly</td>\n      <td>male</td>\n      <td>2017</td>\n      <td>9</td>\n      <td>30</td>\n      <td>2020</td>\n      <td>Ponchatoula PD</td>\n      <td>5bd47649fcb9d0b089dcedcd6d6139bf</td>\n    </tr>\n    <tr>\n      <th>72</th>\n      <td>60520</td>\n      <td>damieon</td>\n      <td>r</td>\n      <td>tanner</td>\n      <td>10</td>\n      <td>pol</td>\n      <td>NaN</td>\n      <td>17.63</td>\n      <td>hourly</td>\n      <td>male</td>\n      <td>2012</td>\n      <td>2</td>\n      <td>6</td>\n      <td>2020</td>\n      <td>Ponchatoula PD</td>\n      <td>2fca0b43a7947168ad334eb6f2ca2381</td>\n    </tr>\n    <tr>\n      <th>73</th>\n      <td>60612</td>\n      <td>patrick</td>\n      <td></td>\n      <td>trammel</td>\n      <td>10</td>\n      <td>pol</td>\n      <td>NaN</td>\n      <td>14.49</td>\n      <td>hourly</td>\n      <td>male</td>\n      <td>2019</td>\n      <td>8</td>\n      <td>13</td>\n      <td>2020</td>\n      <td>Ponchatoula PD</td>\n      <td>a83867807b8e43ca32ee806db593ede2</td>\n    </tr>\n    <tr>\n      <th>74</th>\n      <td>60547</td>\n      <td>curtis</td>\n      <td>j</td>\n      <td>whitaker</td>\n      <td>10</td>\n      <td>pol</td>\n      <td>NaN</td>\n      <td>15.70</td>\n      <td>hourly</td>\n      <td>male</td>\n      <td>2015</td>\n      <td>1</td>\n      <td>23</td>\n      <td>2020</td>\n      <td>Ponchatoula PD</td>\n      <td>051301494cbb18ec2574ce6973fc3c00</td>\n    </tr>\n    <tr>\n      <th>75</th>\n      <td>60531</td>\n      <td>nicole</td>\n      <td></td>\n      <td>williams</td>\n      <td>10</td>\n      <td>disp</td>\n      <td>NaN</td>\n      <td>14.66</td>\n      <td>hourly</td>\n      <td>female</td>\n      <td>2013</td>\n      <td>7</td>\n      <td>6</td>\n      <td>2020</td>\n      <td>Ponchatoula PD</td>\n      <td>a7086182b548320b1c87c7da70eb6598</td>\n    </tr>\n  </tbody>\n</table>\n<p>76 rows × 16 columns</p>\n</div>"
     },
     "metadata": {},
     "execution_count": 2
    }
   ],
   "source": [
    "df = clean()\n",
    "df"
   ]
  },
  {
   "cell_type": "code",
   "execution_count": 3,
   "metadata": {},
   "outputs": [
    {
     "output_type": "execute_result",
     "data": {
      "text/plain": [
       "array([10])"
      ]
     },
     "metadata": {},
     "execution_count": 3
    }
   ],
   "source": [
    "df['class'].unique()"
   ]
  },
  {
   "cell_type": "code",
   "execution_count": null,
   "metadata": {},
   "outputs": [],
   "source": []
  }
 ]
}
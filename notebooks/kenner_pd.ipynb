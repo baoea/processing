{
 "metadata": {
  "language_info": {
   "codemirror_mode": {
    "name": "ipython",
    "version": 3
   },
   "file_extension": ".py",
   "mimetype": "text/x-python",
   "name": "python",
   "nbconvert_exporter": "python",
   "pygments_lexer": "ipython3",
   "version": "3.8.3"
  },
  "orig_nbformat": 2,
  "kernelspec": {
   "name": "python383jvsc74a57bd0759d03fc00c4e55187619d7bc1e0b6a3309d14c7c00d43a321634150e05678f8",
   "display_name": "Python 3.8.3 64-bit ('base': conda)"
  }
 },
 "nbformat": 4,
 "nbformat_minor": 2,
 "cells": [
  {
   "cell_type": "code",
   "execution_count": 1,
   "metadata": {},
   "outputs": [],
   "source": [
    "import sys; sys.path.append('../')\n",
    "import pandas as pd\n",
    "\n",
    "from clean.kenner_pd import clean, clean_former_long, clean_former_short, combine_pprrs"
   ]
  },
  {
   "cell_type": "code",
   "execution_count": 2,
   "metadata": {},
   "outputs": [
    {
     "output_type": "stream",
     "name": "stderr",
     "text": [
      "../clean/kenner_pd.py:17: FutureWarning: The default value of regex will change from True to False in a future version.\n  names = df.name.str.replace(r', ?(Jr\\.|III),?', r' \\1,', regex=True)\\\n"
     ]
    },
    {
     "output_type": "execute_result",
     "data": {
      "text/plain": [
       "    employee_id  gender department_desc           rank_desc employment_status  \\\n",
       "0          4674  female     crime scene    crime scene tech         full-time   \n",
       "1          4028    male        reserves     reserve officer         full-time   \n",
       "2         M8311    male      not stated            chaplain         volunteer   \n",
       "3          4943  female     crime scene    crime scene tech         full-time   \n",
       "4          4983    male          patrol             officer         full-time   \n",
       "..          ...     ...             ...                 ...               ...   \n",
       "295        3752    male             cid            sergeant         full-time   \n",
       "296        4862    male  communications  communications off         full-time   \n",
       "297        3942  female         traffic        assistant ii         full-time   \n",
       "298        4979    male          patrol             officer         full-time   \n",
       "299        3573    male          patrol            sergeant         full-time   \n",
       "\n",
       "         sworn officer_inactive  data_production_year     agency  \\\n",
       "0    non-sworn           active                  2020  Kenner PD   \n",
       "1    temporary           former                  2020  Kenner PD   \n",
       "2    non-sworn           active                  2020  Kenner PD   \n",
       "3    non-sworn           former                  2020  Kenner PD   \n",
       "4        sworn           active                  2020  Kenner PD   \n",
       "..         ...              ...                   ...        ...   \n",
       "295      sworn           active                  2020  Kenner PD   \n",
       "296  non-sworn           active                  2020  Kenner PD   \n",
       "297  non-sworn           active                  2020  Kenner PD   \n",
       "298      sworn           active                  2020  Kenner PD   \n",
       "299      sworn           active                  2020  Kenner PD   \n",
       "\n",
       "          last_name first_name middle_name middle_initial hire_year  \\\n",
       "0               mai      nhung           t              t      2010   \n",
       "1       mangano iii   salvador           a              a      2017   \n",
       "2          maniglia      carlo                                 2018   \n",
       "3           marocco    candice           m              m      2014   \n",
       "4    marquez-castro    gabriel           e              e      2015   \n",
       "..              ...        ...         ...            ...       ...   \n",
       "295        herrmann     donald           l              l      2001   \n",
       "296           hesse     corbyn           j              j      2013   \n",
       "297            heyl   charlene           a              a      2003   \n",
       "298            hill       eric           j              j      2015   \n",
       "299           hille    herbert           f              f      2000   \n",
       "\n",
       "    hire_month hire_day  \n",
       "0           11       30  \n",
       "1            7        1  \n",
       "2           10       10  \n",
       "3           11       24  \n",
       "4            7       31  \n",
       "..         ...      ...  \n",
       "295         12       10  \n",
       "296          8       12  \n",
       "297          5        5  \n",
       "298          6       22  \n",
       "299          8        1  \n",
       "\n",
       "[300 rows x 16 columns]"
      ],
      "text/html": "<div>\n<style scoped>\n    .dataframe tbody tr th:only-of-type {\n        vertical-align: middle;\n    }\n\n    .dataframe tbody tr th {\n        vertical-align: top;\n    }\n\n    .dataframe thead th {\n        text-align: right;\n    }\n</style>\n<table border=\"1\" class=\"dataframe\">\n  <thead>\n    <tr style=\"text-align: right;\">\n      <th></th>\n      <th>employee_id</th>\n      <th>gender</th>\n      <th>department_desc</th>\n      <th>rank_desc</th>\n      <th>employment_status</th>\n      <th>sworn</th>\n      <th>officer_inactive</th>\n      <th>data_production_year</th>\n      <th>agency</th>\n      <th>last_name</th>\n      <th>first_name</th>\n      <th>middle_name</th>\n      <th>middle_initial</th>\n      <th>hire_year</th>\n      <th>hire_month</th>\n      <th>hire_day</th>\n    </tr>\n  </thead>\n  <tbody>\n    <tr>\n      <th>0</th>\n      <td>4674</td>\n      <td>female</td>\n      <td>crime scene</td>\n      <td>crime scene tech</td>\n      <td>full-time</td>\n      <td>non-sworn</td>\n      <td>active</td>\n      <td>2020</td>\n      <td>Kenner PD</td>\n      <td>mai</td>\n      <td>nhung</td>\n      <td>t</td>\n      <td>t</td>\n      <td>2010</td>\n      <td>11</td>\n      <td>30</td>\n    </tr>\n    <tr>\n      <th>1</th>\n      <td>4028</td>\n      <td>male</td>\n      <td>reserves</td>\n      <td>reserve officer</td>\n      <td>full-time</td>\n      <td>temporary</td>\n      <td>former</td>\n      <td>2020</td>\n      <td>Kenner PD</td>\n      <td>mangano iii</td>\n      <td>salvador</td>\n      <td>a</td>\n      <td>a</td>\n      <td>2017</td>\n      <td>7</td>\n      <td>1</td>\n    </tr>\n    <tr>\n      <th>2</th>\n      <td>M8311</td>\n      <td>male</td>\n      <td>not stated</td>\n      <td>chaplain</td>\n      <td>volunteer</td>\n      <td>non-sworn</td>\n      <td>active</td>\n      <td>2020</td>\n      <td>Kenner PD</td>\n      <td>maniglia</td>\n      <td>carlo</td>\n      <td></td>\n      <td></td>\n      <td>2018</td>\n      <td>10</td>\n      <td>10</td>\n    </tr>\n    <tr>\n      <th>3</th>\n      <td>4943</td>\n      <td>female</td>\n      <td>crime scene</td>\n      <td>crime scene tech</td>\n      <td>full-time</td>\n      <td>non-sworn</td>\n      <td>former</td>\n      <td>2020</td>\n      <td>Kenner PD</td>\n      <td>marocco</td>\n      <td>candice</td>\n      <td>m</td>\n      <td>m</td>\n      <td>2014</td>\n      <td>11</td>\n      <td>24</td>\n    </tr>\n    <tr>\n      <th>4</th>\n      <td>4983</td>\n      <td>male</td>\n      <td>patrol</td>\n      <td>officer</td>\n      <td>full-time</td>\n      <td>sworn</td>\n      <td>active</td>\n      <td>2020</td>\n      <td>Kenner PD</td>\n      <td>marquez-castro</td>\n      <td>gabriel</td>\n      <td>e</td>\n      <td>e</td>\n      <td>2015</td>\n      <td>7</td>\n      <td>31</td>\n    </tr>\n    <tr>\n      <th>...</th>\n      <td>...</td>\n      <td>...</td>\n      <td>...</td>\n      <td>...</td>\n      <td>...</td>\n      <td>...</td>\n      <td>...</td>\n      <td>...</td>\n      <td>...</td>\n      <td>...</td>\n      <td>...</td>\n      <td>...</td>\n      <td>...</td>\n      <td>...</td>\n      <td>...</td>\n      <td>...</td>\n    </tr>\n    <tr>\n      <th>295</th>\n      <td>3752</td>\n      <td>male</td>\n      <td>cid</td>\n      <td>sergeant</td>\n      <td>full-time</td>\n      <td>sworn</td>\n      <td>active</td>\n      <td>2020</td>\n      <td>Kenner PD</td>\n      <td>herrmann</td>\n      <td>donald</td>\n      <td>l</td>\n      <td>l</td>\n      <td>2001</td>\n      <td>12</td>\n      <td>10</td>\n    </tr>\n    <tr>\n      <th>296</th>\n      <td>4862</td>\n      <td>male</td>\n      <td>communications</td>\n      <td>communications off</td>\n      <td>full-time</td>\n      <td>non-sworn</td>\n      <td>active</td>\n      <td>2020</td>\n      <td>Kenner PD</td>\n      <td>hesse</td>\n      <td>corbyn</td>\n      <td>j</td>\n      <td>j</td>\n      <td>2013</td>\n      <td>8</td>\n      <td>12</td>\n    </tr>\n    <tr>\n      <th>297</th>\n      <td>3942</td>\n      <td>female</td>\n      <td>traffic</td>\n      <td>assistant ii</td>\n      <td>full-time</td>\n      <td>non-sworn</td>\n      <td>active</td>\n      <td>2020</td>\n      <td>Kenner PD</td>\n      <td>heyl</td>\n      <td>charlene</td>\n      <td>a</td>\n      <td>a</td>\n      <td>2003</td>\n      <td>5</td>\n      <td>5</td>\n    </tr>\n    <tr>\n      <th>298</th>\n      <td>4979</td>\n      <td>male</td>\n      <td>patrol</td>\n      <td>officer</td>\n      <td>full-time</td>\n      <td>sworn</td>\n      <td>active</td>\n      <td>2020</td>\n      <td>Kenner PD</td>\n      <td>hill</td>\n      <td>eric</td>\n      <td>j</td>\n      <td>j</td>\n      <td>2015</td>\n      <td>6</td>\n      <td>22</td>\n    </tr>\n    <tr>\n      <th>299</th>\n      <td>3573</td>\n      <td>male</td>\n      <td>patrol</td>\n      <td>sergeant</td>\n      <td>full-time</td>\n      <td>sworn</td>\n      <td>active</td>\n      <td>2020</td>\n      <td>Kenner PD</td>\n      <td>hille</td>\n      <td>herbert</td>\n      <td>f</td>\n      <td>f</td>\n      <td>2000</td>\n      <td>8</td>\n      <td>1</td>\n    </tr>\n  </tbody>\n</table>\n<p>300 rows × 16 columns</p>\n</div>"
     },
     "metadata": {},
     "execution_count": 2
    }
   ],
   "source": [
    "df = clean()\n",
    "df"
   ]
  },
  {
   "cell_type": "code",
   "execution_count": 3,
   "metadata": {},
   "outputs": [
    {
     "output_type": "execute_result",
     "data": {
      "text/plain": [
       "      last_name first_name employee_class                   rank_desc  \\\n",
       "0        marino     joseph        reserve             reserve officer   \n",
       "1         marks      keith       explorer                    explorer   \n",
       "2    marroccoli     joseph         police             reserve officer   \n",
       "3    marroccoli    kenneth        reserve             reserve officer   \n",
       "4        martin    patrick       explorer                    explorer   \n",
       "..          ...        ...            ...                         ...   \n",
       "686       zemek        lou       explorer                    explorer   \n",
       "687        zeno       paul         jailer  correctional peace officer   \n",
       "688    zeringue       rose       civilian                               \n",
       "689   zimmerman      wayne        reserve                     officer   \n",
       "690    zuppardo    jessica        reserve             reserve officer   \n",
       "\n",
       "    employee_id hire_year hire_month hire_day  \n",
       "0         M8726      2010          8       20  \n",
       "1         MM001                                \n",
       "2         M8294      1980          8       14  \n",
       "3         M8350      1998          5       21  \n",
       "4         M2207                                \n",
       "..          ...       ...        ...      ...  \n",
       "686       Z5252                                \n",
       "687       Z7578      1997          2       24  \n",
       "688       Z1402      1988          7       18  \n",
       "689       Z4587      1987          8       13  \n",
       "690       Z4941      2008          4       21  \n",
       "\n",
       "[691 rows x 8 columns]"
      ],
      "text/html": "<div>\n<style scoped>\n    .dataframe tbody tr th:only-of-type {\n        vertical-align: middle;\n    }\n\n    .dataframe tbody tr th {\n        vertical-align: top;\n    }\n\n    .dataframe thead th {\n        text-align: right;\n    }\n</style>\n<table border=\"1\" class=\"dataframe\">\n  <thead>\n    <tr style=\"text-align: right;\">\n      <th></th>\n      <th>last_name</th>\n      <th>first_name</th>\n      <th>employee_class</th>\n      <th>rank_desc</th>\n      <th>employee_id</th>\n      <th>hire_year</th>\n      <th>hire_month</th>\n      <th>hire_day</th>\n    </tr>\n  </thead>\n  <tbody>\n    <tr>\n      <th>0</th>\n      <td>marino</td>\n      <td>joseph</td>\n      <td>reserve</td>\n      <td>reserve officer</td>\n      <td>M8726</td>\n      <td>2010</td>\n      <td>8</td>\n      <td>20</td>\n    </tr>\n    <tr>\n      <th>1</th>\n      <td>marks</td>\n      <td>keith</td>\n      <td>explorer</td>\n      <td>explorer</td>\n      <td>MM001</td>\n      <td></td>\n      <td></td>\n      <td></td>\n    </tr>\n    <tr>\n      <th>2</th>\n      <td>marroccoli</td>\n      <td>joseph</td>\n      <td>police</td>\n      <td>reserve officer</td>\n      <td>M8294</td>\n      <td>1980</td>\n      <td>8</td>\n      <td>14</td>\n    </tr>\n    <tr>\n      <th>3</th>\n      <td>marroccoli</td>\n      <td>kenneth</td>\n      <td>reserve</td>\n      <td>reserve officer</td>\n      <td>M8350</td>\n      <td>1998</td>\n      <td>5</td>\n      <td>21</td>\n    </tr>\n    <tr>\n      <th>4</th>\n      <td>martin</td>\n      <td>patrick</td>\n      <td>explorer</td>\n      <td>explorer</td>\n      <td>M2207</td>\n      <td></td>\n      <td></td>\n      <td></td>\n    </tr>\n    <tr>\n      <th>...</th>\n      <td>...</td>\n      <td>...</td>\n      <td>...</td>\n      <td>...</td>\n      <td>...</td>\n      <td>...</td>\n      <td>...</td>\n      <td>...</td>\n    </tr>\n    <tr>\n      <th>686</th>\n      <td>zemek</td>\n      <td>lou</td>\n      <td>explorer</td>\n      <td>explorer</td>\n      <td>Z5252</td>\n      <td></td>\n      <td></td>\n      <td></td>\n    </tr>\n    <tr>\n      <th>687</th>\n      <td>zeno</td>\n      <td>paul</td>\n      <td>jailer</td>\n      <td>correctional peace officer</td>\n      <td>Z7578</td>\n      <td>1997</td>\n      <td>2</td>\n      <td>24</td>\n    </tr>\n    <tr>\n      <th>688</th>\n      <td>zeringue</td>\n      <td>rose</td>\n      <td>civilian</td>\n      <td></td>\n      <td>Z1402</td>\n      <td>1988</td>\n      <td>7</td>\n      <td>18</td>\n    </tr>\n    <tr>\n      <th>689</th>\n      <td>zimmerman</td>\n      <td>wayne</td>\n      <td>reserve</td>\n      <td>officer</td>\n      <td>Z4587</td>\n      <td>1987</td>\n      <td>8</td>\n      <td>13</td>\n    </tr>\n    <tr>\n      <th>690</th>\n      <td>zuppardo</td>\n      <td>jessica</td>\n      <td>reserve</td>\n      <td>reserve officer</td>\n      <td>Z4941</td>\n      <td>2008</td>\n      <td>4</td>\n      <td>21</td>\n    </tr>\n  </tbody>\n</table>\n<p>691 rows × 8 columns</p>\n</div>"
     },
     "metadata": {},
     "execution_count": 3
    }
   ],
   "source": [
    "fl = clean_former_long()\n",
    "fl"
   ]
  },
  {
   "cell_type": "code",
   "execution_count": 4,
   "metadata": {},
   "outputs": [
    {
     "output_type": "stream",
     "name": "stderr",
     "text": [
      "../clean/kenner_pd.py:17: FutureWarning: The default value of regex will change from True to False in a future version.\n  names = df.name.str.replace(r', ?(Jr\\.|III),?', r' \\1,', regex=True)\\\n"
     ]
    },
    {
     "output_type": "execute_result",
     "data": {
      "text/plain": [
       "    gender employee_id department_desc           rank_desc  \\\n",
       "0     male       17216            jail   drug screen coll.   \n",
       "1   female        4867       custodian           custodian   \n",
       "2   female       A2135       custodian           custodian   \n",
       "3     male       A6770          patrol             officer   \n",
       "4   female        5091            jail  correctional offer   \n",
       "..     ...         ...             ...                 ...   \n",
       "80    male       W5875      not stated             officer   \n",
       "81  female        6012             cid    transcriptionist   \n",
       "82    male       Z3802        reserves     reserve officer   \n",
       "83    male        5039   command staff             captain   \n",
       "84  female       Z4941        reserves     reserve officer   \n",
       "\n",
       "    data_production_year     agency  last_name first_name middle_name  \\\n",
       "0                   2020  Kenner PD     abadie       alan           g   \n",
       "1                   2020  Kenner PD      acuna    lourdes           g   \n",
       "2                   2020  Kenner PD   alvarado   josefina           a   \n",
       "3                   2020  Kenner PD   anderson       ryan               \n",
       "4                   2020  Kenner PD    antoine    brionna           c   \n",
       "..                   ...        ...        ...        ...         ...   \n",
       "80                  2020  Kenner PD  wilkerson     joshua           s   \n",
       "81                  2020  Kenner PD       wong    jessica           k   \n",
       "82                  2020  Kenner PD     zapata    jeffrey           l   \n",
       "83                  2020  Kenner PD  zimmerman       fred               \n",
       "84                  2020  Kenner PD   zuppardo    jessica           c   \n",
       "\n",
       "   middle_initial hire_year hire_month hire_day left_year left_month left_day  \n",
       "0               g      1986         10        2      2020          9       29  \n",
       "1               g      2013          9       21      2020          1       17  \n",
       "2               a      2011          9       26      2019          5       13  \n",
       "3                      2013          4        8      2017          8       17  \n",
       "4               c      2016          9       26      2020          5       29  \n",
       "..            ...       ...        ...      ...       ...        ...      ...  \n",
       "80              s      2003          5        1      2017          2        8  \n",
       "81              k      2016         12        5      2020          9       11  \n",
       "82              l      2006          7        5      2017          4       27  \n",
       "83                     1977         10       27      2019         10       31  \n",
       "84              c      2015         12       17      2019          4        1  \n",
       "\n",
       "[85 rows x 16 columns]"
      ],
      "text/html": "<div>\n<style scoped>\n    .dataframe tbody tr th:only-of-type {\n        vertical-align: middle;\n    }\n\n    .dataframe tbody tr th {\n        vertical-align: top;\n    }\n\n    .dataframe thead th {\n        text-align: right;\n    }\n</style>\n<table border=\"1\" class=\"dataframe\">\n  <thead>\n    <tr style=\"text-align: right;\">\n      <th></th>\n      <th>gender</th>\n      <th>employee_id</th>\n      <th>department_desc</th>\n      <th>rank_desc</th>\n      <th>data_production_year</th>\n      <th>agency</th>\n      <th>last_name</th>\n      <th>first_name</th>\n      <th>middle_name</th>\n      <th>middle_initial</th>\n      <th>hire_year</th>\n      <th>hire_month</th>\n      <th>hire_day</th>\n      <th>left_year</th>\n      <th>left_month</th>\n      <th>left_day</th>\n    </tr>\n  </thead>\n  <tbody>\n    <tr>\n      <th>0</th>\n      <td>male</td>\n      <td>17216</td>\n      <td>jail</td>\n      <td>drug screen coll.</td>\n      <td>2020</td>\n      <td>Kenner PD</td>\n      <td>abadie</td>\n      <td>alan</td>\n      <td>g</td>\n      <td>g</td>\n      <td>1986</td>\n      <td>10</td>\n      <td>2</td>\n      <td>2020</td>\n      <td>9</td>\n      <td>29</td>\n    </tr>\n    <tr>\n      <th>1</th>\n      <td>female</td>\n      <td>4867</td>\n      <td>custodian</td>\n      <td>custodian</td>\n      <td>2020</td>\n      <td>Kenner PD</td>\n      <td>acuna</td>\n      <td>lourdes</td>\n      <td>g</td>\n      <td>g</td>\n      <td>2013</td>\n      <td>9</td>\n      <td>21</td>\n      <td>2020</td>\n      <td>1</td>\n      <td>17</td>\n    </tr>\n    <tr>\n      <th>2</th>\n      <td>female</td>\n      <td>A2135</td>\n      <td>custodian</td>\n      <td>custodian</td>\n      <td>2020</td>\n      <td>Kenner PD</td>\n      <td>alvarado</td>\n      <td>josefina</td>\n      <td>a</td>\n      <td>a</td>\n      <td>2011</td>\n      <td>9</td>\n      <td>26</td>\n      <td>2019</td>\n      <td>5</td>\n      <td>13</td>\n    </tr>\n    <tr>\n      <th>3</th>\n      <td>male</td>\n      <td>A6770</td>\n      <td>patrol</td>\n      <td>officer</td>\n      <td>2020</td>\n      <td>Kenner PD</td>\n      <td>anderson</td>\n      <td>ryan</td>\n      <td></td>\n      <td></td>\n      <td>2013</td>\n      <td>4</td>\n      <td>8</td>\n      <td>2017</td>\n      <td>8</td>\n      <td>17</td>\n    </tr>\n    <tr>\n      <th>4</th>\n      <td>female</td>\n      <td>5091</td>\n      <td>jail</td>\n      <td>correctional offer</td>\n      <td>2020</td>\n      <td>Kenner PD</td>\n      <td>antoine</td>\n      <td>brionna</td>\n      <td>c</td>\n      <td>c</td>\n      <td>2016</td>\n      <td>9</td>\n      <td>26</td>\n      <td>2020</td>\n      <td>5</td>\n      <td>29</td>\n    </tr>\n    <tr>\n      <th>...</th>\n      <td>...</td>\n      <td>...</td>\n      <td>...</td>\n      <td>...</td>\n      <td>...</td>\n      <td>...</td>\n      <td>...</td>\n      <td>...</td>\n      <td>...</td>\n      <td>...</td>\n      <td>...</td>\n      <td>...</td>\n      <td>...</td>\n      <td>...</td>\n      <td>...</td>\n      <td>...</td>\n    </tr>\n    <tr>\n      <th>80</th>\n      <td>male</td>\n      <td>W5875</td>\n      <td>not stated</td>\n      <td>officer</td>\n      <td>2020</td>\n      <td>Kenner PD</td>\n      <td>wilkerson</td>\n      <td>joshua</td>\n      <td>s</td>\n      <td>s</td>\n      <td>2003</td>\n      <td>5</td>\n      <td>1</td>\n      <td>2017</td>\n      <td>2</td>\n      <td>8</td>\n    </tr>\n    <tr>\n      <th>81</th>\n      <td>female</td>\n      <td>6012</td>\n      <td>cid</td>\n      <td>transcriptionist</td>\n      <td>2020</td>\n      <td>Kenner PD</td>\n      <td>wong</td>\n      <td>jessica</td>\n      <td>k</td>\n      <td>k</td>\n      <td>2016</td>\n      <td>12</td>\n      <td>5</td>\n      <td>2020</td>\n      <td>9</td>\n      <td>11</td>\n    </tr>\n    <tr>\n      <th>82</th>\n      <td>male</td>\n      <td>Z3802</td>\n      <td>reserves</td>\n      <td>reserve officer</td>\n      <td>2020</td>\n      <td>Kenner PD</td>\n      <td>zapata</td>\n      <td>jeffrey</td>\n      <td>l</td>\n      <td>l</td>\n      <td>2006</td>\n      <td>7</td>\n      <td>5</td>\n      <td>2017</td>\n      <td>4</td>\n      <td>27</td>\n    </tr>\n    <tr>\n      <th>83</th>\n      <td>male</td>\n      <td>5039</td>\n      <td>command staff</td>\n      <td>captain</td>\n      <td>2020</td>\n      <td>Kenner PD</td>\n      <td>zimmerman</td>\n      <td>fred</td>\n      <td></td>\n      <td></td>\n      <td>1977</td>\n      <td>10</td>\n      <td>27</td>\n      <td>2019</td>\n      <td>10</td>\n      <td>31</td>\n    </tr>\n    <tr>\n      <th>84</th>\n      <td>female</td>\n      <td>Z4941</td>\n      <td>reserves</td>\n      <td>reserve officer</td>\n      <td>2020</td>\n      <td>Kenner PD</td>\n      <td>zuppardo</td>\n      <td>jessica</td>\n      <td>c</td>\n      <td>c</td>\n      <td>2015</td>\n      <td>12</td>\n      <td>17</td>\n      <td>2019</td>\n      <td>4</td>\n      <td>1</td>\n    </tr>\n  </tbody>\n</table>\n<p>85 rows × 16 columns</p>\n</div>"
     },
     "metadata": {},
     "execution_count": 4
    }
   ],
   "source": [
    "fs = clean_former_short()\n",
    "fs"
   ]
  },
  {
   "cell_type": "code",
   "execution_count": 6,
   "metadata": {},
   "outputs": [
    {
     "output_type": "execute_result",
     "data": {
      "text/plain": [
       "    employee_id  gender department_desc                   rank_desc  \\\n",
       "0          4674  female     crime scene            crime scene tech   \n",
       "1          4028    male        reserves             reserve officer   \n",
       "2         M8311    male      not stated                    chaplain   \n",
       "3          4943  female     crime scene            crime scene tech   \n",
       "4          4983    male          patrol                     officer   \n",
       "..          ...     ...             ...                         ...   \n",
       "962       Z4194     NaN             NaN                     officer   \n",
       "963       Z5252     NaN             NaN                    explorer   \n",
       "964       Z7578     NaN             NaN  correctional peace officer   \n",
       "965       Z1402     NaN             NaN                               \n",
       "966       Z4587     NaN             NaN                     officer   \n",
       "\n",
       "    employment_status      sworn officer_inactive  data_production_year  \\\n",
       "0           full-time  non-sworn           active                2020.0   \n",
       "1           full-time  temporary           former                2020.0   \n",
       "2           volunteer  non-sworn           active                2020.0   \n",
       "3           full-time  non-sworn           former                2020.0   \n",
       "4           full-time      sworn           active                2020.0   \n",
       "..                ...        ...              ...                   ...   \n",
       "962               NaN        NaN              NaN                   NaN   \n",
       "963               NaN        NaN              NaN                   NaN   \n",
       "964               NaN        NaN              NaN                   NaN   \n",
       "965               NaN        NaN              NaN                   NaN   \n",
       "966               NaN        NaN              NaN                   NaN   \n",
       "\n",
       "        agency       last_name first_name middle_name middle_initial  \\\n",
       "0    Kenner PD             mai      nhung           t              t   \n",
       "1    Kenner PD     mangano iii   salvador           a              a   \n",
       "2    Kenner PD        maniglia      carlo                              \n",
       "3    Kenner PD         marocco    candice           m              m   \n",
       "4    Kenner PD  marquez-castro    gabriel           e              e   \n",
       "..         ...             ...        ...         ...            ...   \n",
       "962        NaN          zavala     nelson         NaN            NaN   \n",
       "963        NaN           zemek        lou         NaN            NaN   \n",
       "964        NaN            zeno       paul         NaN            NaN   \n",
       "965        NaN        zeringue       rose         NaN            NaN   \n",
       "966        NaN       zimmerman      wayne         NaN            NaN   \n",
       "\n",
       "    hire_year hire_month hire_day left_year left_month left_day employee_class  \n",
       "0        2010         11       30       NaN        NaN      NaN            NaN  \n",
       "1        2017          7        1      2020          3        9            NaN  \n",
       "2        2018         10       10       NaN        NaN      NaN            NaN  \n",
       "3        2014         11       24      2019         10       20            NaN  \n",
       "4        2015          7       31       NaN        NaN      NaN            NaN  \n",
       "..        ...        ...      ...       ...        ...      ...            ...  \n",
       "962      2006         11       10       NaN        NaN      NaN         police  \n",
       "963                                     NaN        NaN      NaN       explorer  \n",
       "964      1997          2       24       NaN        NaN      NaN         jailer  \n",
       "965      1988          7       18       NaN        NaN      NaN       civilian  \n",
       "966      1987          8       13       NaN        NaN      NaN        reserve  \n",
       "\n",
       "[967 rows x 20 columns]"
      ],
      "text/html": "<div>\n<style scoped>\n    .dataframe tbody tr th:only-of-type {\n        vertical-align: middle;\n    }\n\n    .dataframe tbody tr th {\n        vertical-align: top;\n    }\n\n    .dataframe thead th {\n        text-align: right;\n    }\n</style>\n<table border=\"1\" class=\"dataframe\">\n  <thead>\n    <tr style=\"text-align: right;\">\n      <th></th>\n      <th>employee_id</th>\n      <th>gender</th>\n      <th>department_desc</th>\n      <th>rank_desc</th>\n      <th>employment_status</th>\n      <th>sworn</th>\n      <th>officer_inactive</th>\n      <th>data_production_year</th>\n      <th>agency</th>\n      <th>last_name</th>\n      <th>first_name</th>\n      <th>middle_name</th>\n      <th>middle_initial</th>\n      <th>hire_year</th>\n      <th>hire_month</th>\n      <th>hire_day</th>\n      <th>left_year</th>\n      <th>left_month</th>\n      <th>left_day</th>\n      <th>employee_class</th>\n    </tr>\n  </thead>\n  <tbody>\n    <tr>\n      <th>0</th>\n      <td>4674</td>\n      <td>female</td>\n      <td>crime scene</td>\n      <td>crime scene tech</td>\n      <td>full-time</td>\n      <td>non-sworn</td>\n      <td>active</td>\n      <td>2020.0</td>\n      <td>Kenner PD</td>\n      <td>mai</td>\n      <td>nhung</td>\n      <td>t</td>\n      <td>t</td>\n      <td>2010</td>\n      <td>11</td>\n      <td>30</td>\n      <td>NaN</td>\n      <td>NaN</td>\n      <td>NaN</td>\n      <td>NaN</td>\n    </tr>\n    <tr>\n      <th>1</th>\n      <td>4028</td>\n      <td>male</td>\n      <td>reserves</td>\n      <td>reserve officer</td>\n      <td>full-time</td>\n      <td>temporary</td>\n      <td>former</td>\n      <td>2020.0</td>\n      <td>Kenner PD</td>\n      <td>mangano iii</td>\n      <td>salvador</td>\n      <td>a</td>\n      <td>a</td>\n      <td>2017</td>\n      <td>7</td>\n      <td>1</td>\n      <td>2020</td>\n      <td>3</td>\n      <td>9</td>\n      <td>NaN</td>\n    </tr>\n    <tr>\n      <th>2</th>\n      <td>M8311</td>\n      <td>male</td>\n      <td>not stated</td>\n      <td>chaplain</td>\n      <td>volunteer</td>\n      <td>non-sworn</td>\n      <td>active</td>\n      <td>2020.0</td>\n      <td>Kenner PD</td>\n      <td>maniglia</td>\n      <td>carlo</td>\n      <td></td>\n      <td></td>\n      <td>2018</td>\n      <td>10</td>\n      <td>10</td>\n      <td>NaN</td>\n      <td>NaN</td>\n      <td>NaN</td>\n      <td>NaN</td>\n    </tr>\n    <tr>\n      <th>3</th>\n      <td>4943</td>\n      <td>female</td>\n      <td>crime scene</td>\n      <td>crime scene tech</td>\n      <td>full-time</td>\n      <td>non-sworn</td>\n      <td>former</td>\n      <td>2020.0</td>\n      <td>Kenner PD</td>\n      <td>marocco</td>\n      <td>candice</td>\n      <td>m</td>\n      <td>m</td>\n      <td>2014</td>\n      <td>11</td>\n      <td>24</td>\n      <td>2019</td>\n      <td>10</td>\n      <td>20</td>\n      <td>NaN</td>\n    </tr>\n    <tr>\n      <th>4</th>\n      <td>4983</td>\n      <td>male</td>\n      <td>patrol</td>\n      <td>officer</td>\n      <td>full-time</td>\n      <td>sworn</td>\n      <td>active</td>\n      <td>2020.0</td>\n      <td>Kenner PD</td>\n      <td>marquez-castro</td>\n      <td>gabriel</td>\n      <td>e</td>\n      <td>e</td>\n      <td>2015</td>\n      <td>7</td>\n      <td>31</td>\n      <td>NaN</td>\n      <td>NaN</td>\n      <td>NaN</td>\n      <td>NaN</td>\n    </tr>\n    <tr>\n      <th>...</th>\n      <td>...</td>\n      <td>...</td>\n      <td>...</td>\n      <td>...</td>\n      <td>...</td>\n      <td>...</td>\n      <td>...</td>\n      <td>...</td>\n      <td>...</td>\n      <td>...</td>\n      <td>...</td>\n      <td>...</td>\n      <td>...</td>\n      <td>...</td>\n      <td>...</td>\n      <td>...</td>\n      <td>...</td>\n      <td>...</td>\n      <td>...</td>\n      <td>...</td>\n    </tr>\n    <tr>\n      <th>962</th>\n      <td>Z4194</td>\n      <td>NaN</td>\n      <td>NaN</td>\n      <td>officer</td>\n      <td>NaN</td>\n      <td>NaN</td>\n      <td>NaN</td>\n      <td>NaN</td>\n      <td>NaN</td>\n      <td>zavala</td>\n      <td>nelson</td>\n      <td>NaN</td>\n      <td>NaN</td>\n      <td>2006</td>\n      <td>11</td>\n      <td>10</td>\n      <td>NaN</td>\n      <td>NaN</td>\n      <td>NaN</td>\n      <td>police</td>\n    </tr>\n    <tr>\n      <th>963</th>\n      <td>Z5252</td>\n      <td>NaN</td>\n      <td>NaN</td>\n      <td>explorer</td>\n      <td>NaN</td>\n      <td>NaN</td>\n      <td>NaN</td>\n      <td>NaN</td>\n      <td>NaN</td>\n      <td>zemek</td>\n      <td>lou</td>\n      <td>NaN</td>\n      <td>NaN</td>\n      <td></td>\n      <td></td>\n      <td></td>\n      <td>NaN</td>\n      <td>NaN</td>\n      <td>NaN</td>\n      <td>explorer</td>\n    </tr>\n    <tr>\n      <th>964</th>\n      <td>Z7578</td>\n      <td>NaN</td>\n      <td>NaN</td>\n      <td>correctional peace officer</td>\n      <td>NaN</td>\n      <td>NaN</td>\n      <td>NaN</td>\n      <td>NaN</td>\n      <td>NaN</td>\n      <td>zeno</td>\n      <td>paul</td>\n      <td>NaN</td>\n      <td>NaN</td>\n      <td>1997</td>\n      <td>2</td>\n      <td>24</td>\n      <td>NaN</td>\n      <td>NaN</td>\n      <td>NaN</td>\n      <td>jailer</td>\n    </tr>\n    <tr>\n      <th>965</th>\n      <td>Z1402</td>\n      <td>NaN</td>\n      <td>NaN</td>\n      <td></td>\n      <td>NaN</td>\n      <td>NaN</td>\n      <td>NaN</td>\n      <td>NaN</td>\n      <td>NaN</td>\n      <td>zeringue</td>\n      <td>rose</td>\n      <td>NaN</td>\n      <td>NaN</td>\n      <td>1988</td>\n      <td>7</td>\n      <td>18</td>\n      <td>NaN</td>\n      <td>NaN</td>\n      <td>NaN</td>\n      <td>civilian</td>\n    </tr>\n    <tr>\n      <th>966</th>\n      <td>Z4587</td>\n      <td>NaN</td>\n      <td>NaN</td>\n      <td>officer</td>\n      <td>NaN</td>\n      <td>NaN</td>\n      <td>NaN</td>\n      <td>NaN</td>\n      <td>NaN</td>\n      <td>zimmerman</td>\n      <td>wayne</td>\n      <td>NaN</td>\n      <td>NaN</td>\n      <td>1987</td>\n      <td>8</td>\n      <td>13</td>\n      <td>NaN</td>\n      <td>NaN</td>\n      <td>NaN</td>\n      <td>reserve</td>\n    </tr>\n  </tbody>\n</table>\n<p>967 rows × 20 columns</p>\n</div>"
     },
     "metadata": {},
     "execution_count": 6
    }
   ],
   "source": [
    "combine_pprrs(df[df.employee_id.notna()], fl, fs[fs.employee_id.notna()])"
   ]
  },
  {
   "cell_type": "code",
   "execution_count": null,
   "metadata": {},
   "outputs": [],
   "source": []
  }
 ]
}
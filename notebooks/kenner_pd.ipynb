{
 "metadata": {
  "language_info": {
   "codemirror_mode": {
    "name": "ipython",
    "version": 3
   },
   "file_extension": ".py",
   "mimetype": "text/x-python",
   "name": "python",
   "nbconvert_exporter": "python",
   "pygments_lexer": "ipython3",
   "version": "3.9.2"
  },
  "orig_nbformat": 2,
  "kernelspec": {
   "name": "python392jvsc74a57bd055d6dfa6f6295e03bf132df3e61c1565ff1c22b645ef82a5638b280b97b3597b",
   "display_name": "Python 3.9.2 64-bit ('base': virtualenvwrapper)"
  }
 },
 "nbformat": 4,
 "nbformat_minor": 2,
 "cells": [
  {
   "cell_type": "code",
   "execution_count": 1,
   "metadata": {},
   "outputs": [],
   "source": [
    "import sys; sys.path.append('../')\n",
    "import pandas as pd\n",
    "\n",
    "from clean.kenner_pd import clean, clean_former_long, clean_former_short, combine_pprrs"
   ]
  },
  {
   "cell_type": "code",
   "execution_count": 2,
   "metadata": {},
   "outputs": [
    {
     "output_type": "stream",
     "name": "stderr",
     "text": [
      "../clean/kenner_pd.py:18: FutureWarning: The default value of regex will change from True to False in a future version.\n  names = df.name.str.replace(r', ?(Jr\\.|III),?', r' \\1,', regex=True)\\\n"
     ]
    },
    {
     "output_type": "execute_result",
     "data": {
      "text/plain": [
       "    employee_id  gender department_desc           rank_desc employment_status  \\\n",
       "0          4674  female     crime scene    crime scene tech         full-time   \n",
       "1          4028    male        reserves     reserve officer         full-time   \n",
       "2          4943  female     crime scene    crime scene tech         full-time   \n",
       "3          4983    male          patrol             officer         full-time   \n",
       "4          4407  female  communications  communications off         full-time   \n",
       "..          ...     ...             ...                 ...               ...   \n",
       "279        3752    male             cid            sergeant         full-time   \n",
       "280        4862    male  communications  communications off         full-time   \n",
       "281        3942  female         traffic        assistant ii         full-time   \n",
       "282        4979    male          patrol             officer         full-time   \n",
       "283        3573    male          patrol            sergeant         full-time   \n",
       "\n",
       "         sworn officer_inactive       last_name first_name middle_name  \\\n",
       "0    non-sworn           active             mai      nhung           t   \n",
       "1    temporary           former     mangano iii   salvador           a   \n",
       "2    non-sworn           former         marocco    candice           m   \n",
       "3        sworn           active  marquez-castro    gabriel           e   \n",
       "4    non-sworn           active          martin     bianca           d   \n",
       "..         ...              ...             ...        ...         ...   \n",
       "279      sworn           active        herrmann     donald           l   \n",
       "280  non-sworn           active           hesse     corbyn           j   \n",
       "281  non-sworn           active            heyl   charlene           a   \n",
       "282      sworn           active            hill       eric           j   \n",
       "283      sworn           active           hille    herbert           f   \n",
       "\n",
       "    middle_initial hire_year hire_month hire_day  \n",
       "0                t      2010         11       30  \n",
       "1                a      2017          7        1  \n",
       "2                m      2014         11       24  \n",
       "3                e      2015          7       31  \n",
       "4                d      2008          5       19  \n",
       "..             ...       ...        ...      ...  \n",
       "279              l      2001         12       10  \n",
       "280              j      2013          8       12  \n",
       "281              a      2003          5        5  \n",
       "282              j      2015          6       22  \n",
       "283              f      2000          8        1  \n",
       "\n",
       "[284 rows x 14 columns]"
      ],
      "text/html": "<div>\n<style scoped>\n    .dataframe tbody tr th:only-of-type {\n        vertical-align: middle;\n    }\n\n    .dataframe tbody tr th {\n        vertical-align: top;\n    }\n\n    .dataframe thead th {\n        text-align: right;\n    }\n</style>\n<table border=\"1\" class=\"dataframe\">\n  <thead>\n    <tr style=\"text-align: right;\">\n      <th></th>\n      <th>employee_id</th>\n      <th>gender</th>\n      <th>department_desc</th>\n      <th>rank_desc</th>\n      <th>employment_status</th>\n      <th>sworn</th>\n      <th>officer_inactive</th>\n      <th>last_name</th>\n      <th>first_name</th>\n      <th>middle_name</th>\n      <th>middle_initial</th>\n      <th>hire_year</th>\n      <th>hire_month</th>\n      <th>hire_day</th>\n    </tr>\n  </thead>\n  <tbody>\n    <tr>\n      <th>0</th>\n      <td>4674</td>\n      <td>female</td>\n      <td>crime scene</td>\n      <td>crime scene tech</td>\n      <td>full-time</td>\n      <td>non-sworn</td>\n      <td>active</td>\n      <td>mai</td>\n      <td>nhung</td>\n      <td>t</td>\n      <td>t</td>\n      <td>2010</td>\n      <td>11</td>\n      <td>30</td>\n    </tr>\n    <tr>\n      <th>1</th>\n      <td>4028</td>\n      <td>male</td>\n      <td>reserves</td>\n      <td>reserve officer</td>\n      <td>full-time</td>\n      <td>temporary</td>\n      <td>former</td>\n      <td>mangano iii</td>\n      <td>salvador</td>\n      <td>a</td>\n      <td>a</td>\n      <td>2017</td>\n      <td>7</td>\n      <td>1</td>\n    </tr>\n    <tr>\n      <th>2</th>\n      <td>4943</td>\n      <td>female</td>\n      <td>crime scene</td>\n      <td>crime scene tech</td>\n      <td>full-time</td>\n      <td>non-sworn</td>\n      <td>former</td>\n      <td>marocco</td>\n      <td>candice</td>\n      <td>m</td>\n      <td>m</td>\n      <td>2014</td>\n      <td>11</td>\n      <td>24</td>\n    </tr>\n    <tr>\n      <th>3</th>\n      <td>4983</td>\n      <td>male</td>\n      <td>patrol</td>\n      <td>officer</td>\n      <td>full-time</td>\n      <td>sworn</td>\n      <td>active</td>\n      <td>marquez-castro</td>\n      <td>gabriel</td>\n      <td>e</td>\n      <td>e</td>\n      <td>2015</td>\n      <td>7</td>\n      <td>31</td>\n    </tr>\n    <tr>\n      <th>4</th>\n      <td>4407</td>\n      <td>female</td>\n      <td>communications</td>\n      <td>communications off</td>\n      <td>full-time</td>\n      <td>non-sworn</td>\n      <td>active</td>\n      <td>martin</td>\n      <td>bianca</td>\n      <td>d</td>\n      <td>d</td>\n      <td>2008</td>\n      <td>5</td>\n      <td>19</td>\n    </tr>\n    <tr>\n      <th>...</th>\n      <td>...</td>\n      <td>...</td>\n      <td>...</td>\n      <td>...</td>\n      <td>...</td>\n      <td>...</td>\n      <td>...</td>\n      <td>...</td>\n      <td>...</td>\n      <td>...</td>\n      <td>...</td>\n      <td>...</td>\n      <td>...</td>\n      <td>...</td>\n    </tr>\n    <tr>\n      <th>279</th>\n      <td>3752</td>\n      <td>male</td>\n      <td>cid</td>\n      <td>sergeant</td>\n      <td>full-time</td>\n      <td>sworn</td>\n      <td>active</td>\n      <td>herrmann</td>\n      <td>donald</td>\n      <td>l</td>\n      <td>l</td>\n      <td>2001</td>\n      <td>12</td>\n      <td>10</td>\n    </tr>\n    <tr>\n      <th>280</th>\n      <td>4862</td>\n      <td>male</td>\n      <td>communications</td>\n      <td>communications off</td>\n      <td>full-time</td>\n      <td>non-sworn</td>\n      <td>active</td>\n      <td>hesse</td>\n      <td>corbyn</td>\n      <td>j</td>\n      <td>j</td>\n      <td>2013</td>\n      <td>8</td>\n      <td>12</td>\n    </tr>\n    <tr>\n      <th>281</th>\n      <td>3942</td>\n      <td>female</td>\n      <td>traffic</td>\n      <td>assistant ii</td>\n      <td>full-time</td>\n      <td>non-sworn</td>\n      <td>active</td>\n      <td>heyl</td>\n      <td>charlene</td>\n      <td>a</td>\n      <td>a</td>\n      <td>2003</td>\n      <td>5</td>\n      <td>5</td>\n    </tr>\n    <tr>\n      <th>282</th>\n      <td>4979</td>\n      <td>male</td>\n      <td>patrol</td>\n      <td>officer</td>\n      <td>full-time</td>\n      <td>sworn</td>\n      <td>active</td>\n      <td>hill</td>\n      <td>eric</td>\n      <td>j</td>\n      <td>j</td>\n      <td>2015</td>\n      <td>6</td>\n      <td>22</td>\n    </tr>\n    <tr>\n      <th>283</th>\n      <td>3573</td>\n      <td>male</td>\n      <td>patrol</td>\n      <td>sergeant</td>\n      <td>full-time</td>\n      <td>sworn</td>\n      <td>active</td>\n      <td>hille</td>\n      <td>herbert</td>\n      <td>f</td>\n      <td>f</td>\n      <td>2000</td>\n      <td>8</td>\n      <td>1</td>\n    </tr>\n  </tbody>\n</table>\n<p>284 rows × 14 columns</p>\n</div>"
     },
     "metadata": {},
     "execution_count": 2
    }
   ],
   "source": [
    "df = clean()\n",
    "df"
   ]
  },
  {
   "cell_type": "code",
   "execution_count": 3,
   "metadata": {},
   "outputs": [
    {
     "output_type": "execute_result",
     "data": {
      "text/plain": [
       "array(['crime scene tech', 'reserve officer', 'officer',\n",
       "       'communications off', 'admin. assistant i', 'sergeant',\n",
       "       'lieutenant', 'deputy chief', 'director', 'correctional offer',\n",
       "       'process server', 'detective nis', 'detective cid',\n",
       "       'detective - cid', 'grant coordinator', 'assistant ii',\n",
       "       'applicant invest.', 'court liasion offc', 'assistant il',\n",
       "       'reserve sergeant', 'captain', 'vehicle maint',\n",
       "       \"chief's secretary\", 'detective iad', 'transcriptionist',\n",
       "       'drug screen coll.', 'headquarter super', 'crime analyst',\n",
       "       'jail supervisor', 'emerg mgm speci', 'community care co',\n",
       "       'booking officer', 'evidence custodian', 'reserve captain',\n",
       "       'chief', 'recruit'], dtype=object)"
      ]
     },
     "metadata": {},
     "execution_count": 3
    }
   ],
   "source": [
    "df.rank_desc.unique()"
   ]
  },
  {
   "cell_type": "code",
   "execution_count": 4,
   "metadata": {},
   "outputs": [
    {
     "output_type": "execute_result",
     "data": {
      "text/plain": [
       "      last_name first_name employee_class                   rank_desc  \\\n",
       "0        marino     joseph        reserve             reserve officer   \n",
       "1    marroccoli     joseph         police             reserve officer   \n",
       "2    marroccoli    kenneth        reserve             reserve officer   \n",
       "3        martin       paul         police                     officer   \n",
       "4        martin    melissa         jailer  correctional peace officer   \n",
       "..          ...        ...            ...                         ...   \n",
       "484      zapata    jeffrey        reserve             reserve officer   \n",
       "485      zavala     nelson         police                     officer   \n",
       "486        zeno       paul         jailer  correctional peace officer   \n",
       "487   zimmerman      wayne        reserve                     officer   \n",
       "488    zuppardo    jessica        reserve             reserve officer   \n",
       "\n",
       "    employee_id hire_year hire_month hire_day  \n",
       "0         M8726      2010          8       20  \n",
       "1         M8294      1980          8       14  \n",
       "2         M8350      1998          5       21  \n",
       "3         M6757      1980          8       23  \n",
       "4         M0257      2002          2        1  \n",
       "..          ...       ...        ...      ...  \n",
       "484       Z3802      2006          7        5  \n",
       "485       Z4194      2006         11       10  \n",
       "486       Z7578      1997          2       24  \n",
       "487       Z4587      1987          8       13  \n",
       "488       Z4941      2008          4       21  \n",
       "\n",
       "[489 rows x 8 columns]"
      ],
      "text/html": "<div>\n<style scoped>\n    .dataframe tbody tr th:only-of-type {\n        vertical-align: middle;\n    }\n\n    .dataframe tbody tr th {\n        vertical-align: top;\n    }\n\n    .dataframe thead th {\n        text-align: right;\n    }\n</style>\n<table border=\"1\" class=\"dataframe\">\n  <thead>\n    <tr style=\"text-align: right;\">\n      <th></th>\n      <th>last_name</th>\n      <th>first_name</th>\n      <th>employee_class</th>\n      <th>rank_desc</th>\n      <th>employee_id</th>\n      <th>hire_year</th>\n      <th>hire_month</th>\n      <th>hire_day</th>\n    </tr>\n  </thead>\n  <tbody>\n    <tr>\n      <th>0</th>\n      <td>marino</td>\n      <td>joseph</td>\n      <td>reserve</td>\n      <td>reserve officer</td>\n      <td>M8726</td>\n      <td>2010</td>\n      <td>8</td>\n      <td>20</td>\n    </tr>\n    <tr>\n      <th>1</th>\n      <td>marroccoli</td>\n      <td>joseph</td>\n      <td>police</td>\n      <td>reserve officer</td>\n      <td>M8294</td>\n      <td>1980</td>\n      <td>8</td>\n      <td>14</td>\n    </tr>\n    <tr>\n      <th>2</th>\n      <td>marroccoli</td>\n      <td>kenneth</td>\n      <td>reserve</td>\n      <td>reserve officer</td>\n      <td>M8350</td>\n      <td>1998</td>\n      <td>5</td>\n      <td>21</td>\n    </tr>\n    <tr>\n      <th>3</th>\n      <td>martin</td>\n      <td>paul</td>\n      <td>police</td>\n      <td>officer</td>\n      <td>M6757</td>\n      <td>1980</td>\n      <td>8</td>\n      <td>23</td>\n    </tr>\n    <tr>\n      <th>4</th>\n      <td>martin</td>\n      <td>melissa</td>\n      <td>jailer</td>\n      <td>correctional peace officer</td>\n      <td>M0257</td>\n      <td>2002</td>\n      <td>2</td>\n      <td>1</td>\n    </tr>\n    <tr>\n      <th>...</th>\n      <td>...</td>\n      <td>...</td>\n      <td>...</td>\n      <td>...</td>\n      <td>...</td>\n      <td>...</td>\n      <td>...</td>\n      <td>...</td>\n    </tr>\n    <tr>\n      <th>484</th>\n      <td>zapata</td>\n      <td>jeffrey</td>\n      <td>reserve</td>\n      <td>reserve officer</td>\n      <td>Z3802</td>\n      <td>2006</td>\n      <td>7</td>\n      <td>5</td>\n    </tr>\n    <tr>\n      <th>485</th>\n      <td>zavala</td>\n      <td>nelson</td>\n      <td>police</td>\n      <td>officer</td>\n      <td>Z4194</td>\n      <td>2006</td>\n      <td>11</td>\n      <td>10</td>\n    </tr>\n    <tr>\n      <th>486</th>\n      <td>zeno</td>\n      <td>paul</td>\n      <td>jailer</td>\n      <td>correctional peace officer</td>\n      <td>Z7578</td>\n      <td>1997</td>\n      <td>2</td>\n      <td>24</td>\n    </tr>\n    <tr>\n      <th>487</th>\n      <td>zimmerman</td>\n      <td>wayne</td>\n      <td>reserve</td>\n      <td>officer</td>\n      <td>Z4587</td>\n      <td>1987</td>\n      <td>8</td>\n      <td>13</td>\n    </tr>\n    <tr>\n      <th>488</th>\n      <td>zuppardo</td>\n      <td>jessica</td>\n      <td>reserve</td>\n      <td>reserve officer</td>\n      <td>Z4941</td>\n      <td>2008</td>\n      <td>4</td>\n      <td>21</td>\n    </tr>\n  </tbody>\n</table>\n<p>489 rows × 8 columns</p>\n</div>"
     },
     "metadata": {},
     "execution_count": 4
    }
   ],
   "source": [
    "fl = clean_former_long()\n",
    "fl"
   ]
  },
  {
   "cell_type": "code",
   "execution_count": 5,
   "metadata": {},
   "outputs": [
    {
     "output_type": "execute_result",
     "data": {
      "text/plain": [
       "array(['reserve officer', 'officer', 'correctional peace officer',\n",
       "       'communications officer', 'communicaitons officer',\n",
       "       'crime scene technician', 'lieutenant', 'detective',\n",
       "       'administrative assistant ii', 'jailer/correctional peace officer',\n",
       "       'sergeant', 'reserve lieutenant', 'police records clerk',\n",
       "       'police officer', 'communication officer',\n",
       "       'jailer/correctional officer', 'chief', 'correction peace officer',\n",
       "       'captain', 'booking officer', 'administrative assistant i',\n",
       "       'supervisor', 'payroll processor', 'administrative assistant iii',\n",
       "       'jailer', 'communciations officer', 'reserve sergeant',\n",
       "       'public relations specialist', 'crime analysis specialist',\n",
       "       'property management supervisor', 'adminisrative assistant ii',\n",
       "       'director of fiscal affairs and budget services',\n",
       "       'director of human resources',\n",
       "       'dir. of inventory and prop. management', 'reserve captain',\n",
       "       'crime scene tech'], dtype=object)"
      ]
     },
     "metadata": {},
     "execution_count": 5
    }
   ],
   "source": [
    "fl.rank_desc.unique()"
   ]
  },
  {
   "cell_type": "code",
   "execution_count": 6,
   "metadata": {},
   "outputs": [
    {
     "output_type": "stream",
     "name": "stderr",
     "text": [
      "../clean/kenner_pd.py:18: FutureWarning: The default value of regex will change from True to False in a future version.\n  names = df.name.str.replace(r', ?(Jr\\.|III),?', r' \\1,', regex=True)\\\n"
     ]
    },
    {
     "output_type": "execute_result",
     "data": {
      "text/plain": [
       "    gender employee_id department_desc           rank_desc  \\\n",
       "0     male       17216            jail   drug screen coll.   \n",
       "1     male       A6770          patrol             officer   \n",
       "2   female        5091            jail  correctional offer   \n",
       "3     male       13725   vehicle maint   headquarter super   \n",
       "4     male        6002          patrol             officer   \n",
       "..     ...         ...             ...                 ...   \n",
       "71    male       W5875      not stated             officer   \n",
       "72  female        6012             cid    transcriptionist   \n",
       "73    male       Z3802        reserves     reserve officer   \n",
       "74    male        5039   command staff             captain   \n",
       "75  female       Z4941        reserves     reserve officer   \n",
       "\n",
       "    data_production_year     agency  last_name first_name middle_name  \\\n",
       "0                   2020  Kenner PD     abadie       alan           g   \n",
       "1                   2020  Kenner PD   anderson       ryan               \n",
       "2                   2020  Kenner PD    antoine    brionna           c   \n",
       "3                   2020  Kenner PD  arnold jr    richard           a   \n",
       "4                   2020  Kenner PD  arrington     taylor           b   \n",
       "..                   ...        ...        ...        ...         ...   \n",
       "71                  2020  Kenner PD  wilkerson     joshua           s   \n",
       "72                  2020  Kenner PD       wong    jessica           k   \n",
       "73                  2020  Kenner PD     zapata    jeffrey           l   \n",
       "74                  2020  Kenner PD  zimmerman       fred               \n",
       "75                  2020  Kenner PD   zuppardo    jessica           c   \n",
       "\n",
       "   middle_initial hire_year hire_month hire_day left_year left_month left_day  \n",
       "0               g      1986         10        2      2020          9       29  \n",
       "1                      2013          4        8      2017          8       17  \n",
       "2               c      2016          9       26      2020          5       29  \n",
       "3               a      1991          2       18      2020          8       28  \n",
       "4               b      2016         11        4      2020          6       28  \n",
       "..            ...       ...        ...      ...       ...        ...      ...  \n",
       "71              s      2003          5        1      2017          2        8  \n",
       "72              k      2016         12        5      2020          9       11  \n",
       "73              l      2006          7        5      2017          4       27  \n",
       "74                     1977         10       27      2019         10       31  \n",
       "75              c      2015         12       17      2019          4        1  \n",
       "\n",
       "[76 rows x 16 columns]"
      ],
      "text/html": "<div>\n<style scoped>\n    .dataframe tbody tr th:only-of-type {\n        vertical-align: middle;\n    }\n\n    .dataframe tbody tr th {\n        vertical-align: top;\n    }\n\n    .dataframe thead th {\n        text-align: right;\n    }\n</style>\n<table border=\"1\" class=\"dataframe\">\n  <thead>\n    <tr style=\"text-align: right;\">\n      <th></th>\n      <th>gender</th>\n      <th>employee_id</th>\n      <th>department_desc</th>\n      <th>rank_desc</th>\n      <th>data_production_year</th>\n      <th>agency</th>\n      <th>last_name</th>\n      <th>first_name</th>\n      <th>middle_name</th>\n      <th>middle_initial</th>\n      <th>hire_year</th>\n      <th>hire_month</th>\n      <th>hire_day</th>\n      <th>left_year</th>\n      <th>left_month</th>\n      <th>left_day</th>\n    </tr>\n  </thead>\n  <tbody>\n    <tr>\n      <th>0</th>\n      <td>male</td>\n      <td>17216</td>\n      <td>jail</td>\n      <td>drug screen coll.</td>\n      <td>2020</td>\n      <td>Kenner PD</td>\n      <td>abadie</td>\n      <td>alan</td>\n      <td>g</td>\n      <td>g</td>\n      <td>1986</td>\n      <td>10</td>\n      <td>2</td>\n      <td>2020</td>\n      <td>9</td>\n      <td>29</td>\n    </tr>\n    <tr>\n      <th>1</th>\n      <td>male</td>\n      <td>A6770</td>\n      <td>patrol</td>\n      <td>officer</td>\n      <td>2020</td>\n      <td>Kenner PD</td>\n      <td>anderson</td>\n      <td>ryan</td>\n      <td></td>\n      <td></td>\n      <td>2013</td>\n      <td>4</td>\n      <td>8</td>\n      <td>2017</td>\n      <td>8</td>\n      <td>17</td>\n    </tr>\n    <tr>\n      <th>2</th>\n      <td>female</td>\n      <td>5091</td>\n      <td>jail</td>\n      <td>correctional offer</td>\n      <td>2020</td>\n      <td>Kenner PD</td>\n      <td>antoine</td>\n      <td>brionna</td>\n      <td>c</td>\n      <td>c</td>\n      <td>2016</td>\n      <td>9</td>\n      <td>26</td>\n      <td>2020</td>\n      <td>5</td>\n      <td>29</td>\n    </tr>\n    <tr>\n      <th>3</th>\n      <td>male</td>\n      <td>13725</td>\n      <td>vehicle maint</td>\n      <td>headquarter super</td>\n      <td>2020</td>\n      <td>Kenner PD</td>\n      <td>arnold jr</td>\n      <td>richard</td>\n      <td>a</td>\n      <td>a</td>\n      <td>1991</td>\n      <td>2</td>\n      <td>18</td>\n      <td>2020</td>\n      <td>8</td>\n      <td>28</td>\n    </tr>\n    <tr>\n      <th>4</th>\n      <td>male</td>\n      <td>6002</td>\n      <td>patrol</td>\n      <td>officer</td>\n      <td>2020</td>\n      <td>Kenner PD</td>\n      <td>arrington</td>\n      <td>taylor</td>\n      <td>b</td>\n      <td>b</td>\n      <td>2016</td>\n      <td>11</td>\n      <td>4</td>\n      <td>2020</td>\n      <td>6</td>\n      <td>28</td>\n    </tr>\n    <tr>\n      <th>...</th>\n      <td>...</td>\n      <td>...</td>\n      <td>...</td>\n      <td>...</td>\n      <td>...</td>\n      <td>...</td>\n      <td>...</td>\n      <td>...</td>\n      <td>...</td>\n      <td>...</td>\n      <td>...</td>\n      <td>...</td>\n      <td>...</td>\n      <td>...</td>\n      <td>...</td>\n      <td>...</td>\n    </tr>\n    <tr>\n      <th>71</th>\n      <td>male</td>\n      <td>W5875</td>\n      <td>not stated</td>\n      <td>officer</td>\n      <td>2020</td>\n      <td>Kenner PD</td>\n      <td>wilkerson</td>\n      <td>joshua</td>\n      <td>s</td>\n      <td>s</td>\n      <td>2003</td>\n      <td>5</td>\n      <td>1</td>\n      <td>2017</td>\n      <td>2</td>\n      <td>8</td>\n    </tr>\n    <tr>\n      <th>72</th>\n      <td>female</td>\n      <td>6012</td>\n      <td>cid</td>\n      <td>transcriptionist</td>\n      <td>2020</td>\n      <td>Kenner PD</td>\n      <td>wong</td>\n      <td>jessica</td>\n      <td>k</td>\n      <td>k</td>\n      <td>2016</td>\n      <td>12</td>\n      <td>5</td>\n      <td>2020</td>\n      <td>9</td>\n      <td>11</td>\n    </tr>\n    <tr>\n      <th>73</th>\n      <td>male</td>\n      <td>Z3802</td>\n      <td>reserves</td>\n      <td>reserve officer</td>\n      <td>2020</td>\n      <td>Kenner PD</td>\n      <td>zapata</td>\n      <td>jeffrey</td>\n      <td>l</td>\n      <td>l</td>\n      <td>2006</td>\n      <td>7</td>\n      <td>5</td>\n      <td>2017</td>\n      <td>4</td>\n      <td>27</td>\n    </tr>\n    <tr>\n      <th>74</th>\n      <td>male</td>\n      <td>5039</td>\n      <td>command staff</td>\n      <td>captain</td>\n      <td>2020</td>\n      <td>Kenner PD</td>\n      <td>zimmerman</td>\n      <td>fred</td>\n      <td></td>\n      <td></td>\n      <td>1977</td>\n      <td>10</td>\n      <td>27</td>\n      <td>2019</td>\n      <td>10</td>\n      <td>31</td>\n    </tr>\n    <tr>\n      <th>75</th>\n      <td>female</td>\n      <td>Z4941</td>\n      <td>reserves</td>\n      <td>reserve officer</td>\n      <td>2020</td>\n      <td>Kenner PD</td>\n      <td>zuppardo</td>\n      <td>jessica</td>\n      <td>c</td>\n      <td>c</td>\n      <td>2015</td>\n      <td>12</td>\n      <td>17</td>\n      <td>2019</td>\n      <td>4</td>\n      <td>1</td>\n    </tr>\n  </tbody>\n</table>\n<p>76 rows × 16 columns</p>\n</div>"
     },
     "metadata": {},
     "execution_count": 6
    }
   ],
   "source": [
    "fs = clean_former_short()\n",
    "fs"
   ]
  },
  {
   "cell_type": "code",
   "execution_count": 7,
   "metadata": {},
   "outputs": [
    {
     "output_type": "execute_result",
     "data": {
      "text/plain": [
       "array(['drug screen coll.', 'officer', 'correctional offer',\n",
       "       'headquarter super', 'process server', 'community care co',\n",
       "       'crime scene tech', 'admin. assistant i', 'sergeant',\n",
       "       'communications off', 'booking officer', 'transcriptionist',\n",
       "       'recruit', 'detective cid', 'reserve officer', 'lieutenant',\n",
       "       'assistant ii', 'captain'], dtype=object)"
      ]
     },
     "metadata": {},
     "execution_count": 7
    }
   ],
   "source": [
    "fs.rank_desc.unique()"
   ]
  },
  {
   "cell_type": "code",
   "execution_count": 8,
   "metadata": {},
   "outputs": [
    {
     "output_type": "execute_result",
     "data": {
      "text/plain": [
       "    employee_id  gender department_desc                   rank_desc  \\\n",
       "0          4674  female     crime scene      crime scene technician   \n",
       "1          4028    male        reserves             reserve officer   \n",
       "2          4943  female     crime scene      crime scene technician   \n",
       "3          4983    male          patrol                     officer   \n",
       "4          4407  female  communications      communications officer   \n",
       "..          ...     ...             ...                         ...   \n",
       "748       Y2767     NaN             NaN                     officer   \n",
       "749       Y4773     NaN             NaN              police officer   \n",
       "750       Z4194     NaN             NaN                     officer   \n",
       "751       Z7578     NaN             NaN  correctional peace officer   \n",
       "752       Z4587     NaN             NaN                     officer   \n",
       "\n",
       "    employment_status      sworn officer_inactive       last_name first_name  \\\n",
       "0           full-time  non-sworn           active             mai      nhung   \n",
       "1           full-time  temporary           former     mangano iii   salvador   \n",
       "2           full-time  non-sworn           former         marocco    candice   \n",
       "3           full-time      sworn           active  marquez-castro    gabriel   \n",
       "4           full-time  non-sworn           active          martin     bianca   \n",
       "..                ...        ...              ...             ...        ...   \n",
       "748               NaN        NaN              NaN           young        ray   \n",
       "749               NaN        NaN              NaN           young    terence   \n",
       "750               NaN        NaN              NaN          zavala     nelson   \n",
       "751               NaN        NaN              NaN            zeno       paul   \n",
       "752               NaN        NaN              NaN       zimmerman      wayne   \n",
       "\n",
       "    middle_name  ... hire_year hire_month hire_day data_production_year  \\\n",
       "0             t  ...      2010         11       30                 2020   \n",
       "1             a  ...      2017          7        1                 2020   \n",
       "2             m  ...      2014         11       24                 2020   \n",
       "3             e  ...      2015          7       31                 2020   \n",
       "4             d  ...      2008          5       19                 2020   \n",
       "..          ...  ...       ...        ...      ...                  ...   \n",
       "748         NaN  ...      1994          8        5                 2020   \n",
       "749         NaN  ...      2013          4       22                 2020   \n",
       "750         NaN  ...      2006         11       10                 2020   \n",
       "751         NaN  ...      1997          2       24                 2020   \n",
       "752         NaN  ...      1987          8       13                 2020   \n",
       "\n",
       "        agency left_year left_month left_day employee_class  \\\n",
       "0    Kenner PD       NaN        NaN      NaN            NaN   \n",
       "1    Kenner PD      2020          3        9            NaN   \n",
       "2    Kenner PD      2019         10       20            NaN   \n",
       "3    Kenner PD       NaN        NaN      NaN            NaN   \n",
       "4    Kenner PD       NaN        NaN      NaN            NaN   \n",
       "..         ...       ...        ...      ...            ...   \n",
       "748  Kenner PD       NaN        NaN      NaN         police   \n",
       "749  Kenner PD       NaN        NaN      NaN        officer   \n",
       "750  Kenner PD       NaN        NaN      NaN         police   \n",
       "751  Kenner PD       NaN        NaN      NaN         jailer   \n",
       "752  Kenner PD       NaN        NaN      NaN        reserve   \n",
       "\n",
       "                                  uid  \n",
       "0    3c4b393f8d4fae517bab05e1e271fcdc  \n",
       "1    6bc8f2caec6ac7f963522c7152c9c0d0  \n",
       "2    bb490846b2f58fc11d9f84a4c0283508  \n",
       "3    18ee84c92c1cdc073b686d404ae917f3  \n",
       "4    ca79cebf28f22fd17e54cd67ffa229f2  \n",
       "..                                ...  \n",
       "748  604fafeb28083d76fe8a4fe45d289556  \n",
       "749  0c0e645c921d759bb5e07b90851b2754  \n",
       "750  bffbc5b4390ee58b1997668592d01624  \n",
       "751  28e97ceffb637bac19e4ce6195908b1c  \n",
       "752  5a139f9cdff3a23a11640a8b9db327e4  \n",
       "\n",
       "[753 rows x 21 columns]"
      ],
      "text/html": "<div>\n<style scoped>\n    .dataframe tbody tr th:only-of-type {\n        vertical-align: middle;\n    }\n\n    .dataframe tbody tr th {\n        vertical-align: top;\n    }\n\n    .dataframe thead th {\n        text-align: right;\n    }\n</style>\n<table border=\"1\" class=\"dataframe\">\n  <thead>\n    <tr style=\"text-align: right;\">\n      <th></th>\n      <th>employee_id</th>\n      <th>gender</th>\n      <th>department_desc</th>\n      <th>rank_desc</th>\n      <th>employment_status</th>\n      <th>sworn</th>\n      <th>officer_inactive</th>\n      <th>last_name</th>\n      <th>first_name</th>\n      <th>middle_name</th>\n      <th>...</th>\n      <th>hire_year</th>\n      <th>hire_month</th>\n      <th>hire_day</th>\n      <th>data_production_year</th>\n      <th>agency</th>\n      <th>left_year</th>\n      <th>left_month</th>\n      <th>left_day</th>\n      <th>employee_class</th>\n      <th>uid</th>\n    </tr>\n  </thead>\n  <tbody>\n    <tr>\n      <th>0</th>\n      <td>4674</td>\n      <td>female</td>\n      <td>crime scene</td>\n      <td>crime scene technician</td>\n      <td>full-time</td>\n      <td>non-sworn</td>\n      <td>active</td>\n      <td>mai</td>\n      <td>nhung</td>\n      <td>t</td>\n      <td>...</td>\n      <td>2010</td>\n      <td>11</td>\n      <td>30</td>\n      <td>2020</td>\n      <td>Kenner PD</td>\n      <td>NaN</td>\n      <td>NaN</td>\n      <td>NaN</td>\n      <td>NaN</td>\n      <td>3c4b393f8d4fae517bab05e1e271fcdc</td>\n    </tr>\n    <tr>\n      <th>1</th>\n      <td>4028</td>\n      <td>male</td>\n      <td>reserves</td>\n      <td>reserve officer</td>\n      <td>full-time</td>\n      <td>temporary</td>\n      <td>former</td>\n      <td>mangano iii</td>\n      <td>salvador</td>\n      <td>a</td>\n      <td>...</td>\n      <td>2017</td>\n      <td>7</td>\n      <td>1</td>\n      <td>2020</td>\n      <td>Kenner PD</td>\n      <td>2020</td>\n      <td>3</td>\n      <td>9</td>\n      <td>NaN</td>\n      <td>6bc8f2caec6ac7f963522c7152c9c0d0</td>\n    </tr>\n    <tr>\n      <th>2</th>\n      <td>4943</td>\n      <td>female</td>\n      <td>crime scene</td>\n      <td>crime scene technician</td>\n      <td>full-time</td>\n      <td>non-sworn</td>\n      <td>former</td>\n      <td>marocco</td>\n      <td>candice</td>\n      <td>m</td>\n      <td>...</td>\n      <td>2014</td>\n      <td>11</td>\n      <td>24</td>\n      <td>2020</td>\n      <td>Kenner PD</td>\n      <td>2019</td>\n      <td>10</td>\n      <td>20</td>\n      <td>NaN</td>\n      <td>bb490846b2f58fc11d9f84a4c0283508</td>\n    </tr>\n    <tr>\n      <th>3</th>\n      <td>4983</td>\n      <td>male</td>\n      <td>patrol</td>\n      <td>officer</td>\n      <td>full-time</td>\n      <td>sworn</td>\n      <td>active</td>\n      <td>marquez-castro</td>\n      <td>gabriel</td>\n      <td>e</td>\n      <td>...</td>\n      <td>2015</td>\n      <td>7</td>\n      <td>31</td>\n      <td>2020</td>\n      <td>Kenner PD</td>\n      <td>NaN</td>\n      <td>NaN</td>\n      <td>NaN</td>\n      <td>NaN</td>\n      <td>18ee84c92c1cdc073b686d404ae917f3</td>\n    </tr>\n    <tr>\n      <th>4</th>\n      <td>4407</td>\n      <td>female</td>\n      <td>communications</td>\n      <td>communications officer</td>\n      <td>full-time</td>\n      <td>non-sworn</td>\n      <td>active</td>\n      <td>martin</td>\n      <td>bianca</td>\n      <td>d</td>\n      <td>...</td>\n      <td>2008</td>\n      <td>5</td>\n      <td>19</td>\n      <td>2020</td>\n      <td>Kenner PD</td>\n      <td>NaN</td>\n      <td>NaN</td>\n      <td>NaN</td>\n      <td>NaN</td>\n      <td>ca79cebf28f22fd17e54cd67ffa229f2</td>\n    </tr>\n    <tr>\n      <th>...</th>\n      <td>...</td>\n      <td>...</td>\n      <td>...</td>\n      <td>...</td>\n      <td>...</td>\n      <td>...</td>\n      <td>...</td>\n      <td>...</td>\n      <td>...</td>\n      <td>...</td>\n      <td>...</td>\n      <td>...</td>\n      <td>...</td>\n      <td>...</td>\n      <td>...</td>\n      <td>...</td>\n      <td>...</td>\n      <td>...</td>\n      <td>...</td>\n      <td>...</td>\n      <td>...</td>\n    </tr>\n    <tr>\n      <th>748</th>\n      <td>Y2767</td>\n      <td>NaN</td>\n      <td>NaN</td>\n      <td>officer</td>\n      <td>NaN</td>\n      <td>NaN</td>\n      <td>NaN</td>\n      <td>young</td>\n      <td>ray</td>\n      <td>NaN</td>\n      <td>...</td>\n      <td>1994</td>\n      <td>8</td>\n      <td>5</td>\n      <td>2020</td>\n      <td>Kenner PD</td>\n      <td>NaN</td>\n      <td>NaN</td>\n      <td>NaN</td>\n      <td>police</td>\n      <td>604fafeb28083d76fe8a4fe45d289556</td>\n    </tr>\n    <tr>\n      <th>749</th>\n      <td>Y4773</td>\n      <td>NaN</td>\n      <td>NaN</td>\n      <td>police officer</td>\n      <td>NaN</td>\n      <td>NaN</td>\n      <td>NaN</td>\n      <td>young</td>\n      <td>terence</td>\n      <td>NaN</td>\n      <td>...</td>\n      <td>2013</td>\n      <td>4</td>\n      <td>22</td>\n      <td>2020</td>\n      <td>Kenner PD</td>\n      <td>NaN</td>\n      <td>NaN</td>\n      <td>NaN</td>\n      <td>officer</td>\n      <td>0c0e645c921d759bb5e07b90851b2754</td>\n    </tr>\n    <tr>\n      <th>750</th>\n      <td>Z4194</td>\n      <td>NaN</td>\n      <td>NaN</td>\n      <td>officer</td>\n      <td>NaN</td>\n      <td>NaN</td>\n      <td>NaN</td>\n      <td>zavala</td>\n      <td>nelson</td>\n      <td>NaN</td>\n      <td>...</td>\n      <td>2006</td>\n      <td>11</td>\n      <td>10</td>\n      <td>2020</td>\n      <td>Kenner PD</td>\n      <td>NaN</td>\n      <td>NaN</td>\n      <td>NaN</td>\n      <td>police</td>\n      <td>bffbc5b4390ee58b1997668592d01624</td>\n    </tr>\n    <tr>\n      <th>751</th>\n      <td>Z7578</td>\n      <td>NaN</td>\n      <td>NaN</td>\n      <td>correctional peace officer</td>\n      <td>NaN</td>\n      <td>NaN</td>\n      <td>NaN</td>\n      <td>zeno</td>\n      <td>paul</td>\n      <td>NaN</td>\n      <td>...</td>\n      <td>1997</td>\n      <td>2</td>\n      <td>24</td>\n      <td>2020</td>\n      <td>Kenner PD</td>\n      <td>NaN</td>\n      <td>NaN</td>\n      <td>NaN</td>\n      <td>jailer</td>\n      <td>28e97ceffb637bac19e4ce6195908b1c</td>\n    </tr>\n    <tr>\n      <th>752</th>\n      <td>Z4587</td>\n      <td>NaN</td>\n      <td>NaN</td>\n      <td>officer</td>\n      <td>NaN</td>\n      <td>NaN</td>\n      <td>NaN</td>\n      <td>zimmerman</td>\n      <td>wayne</td>\n      <td>NaN</td>\n      <td>...</td>\n      <td>1987</td>\n      <td>8</td>\n      <td>13</td>\n      <td>2020</td>\n      <td>Kenner PD</td>\n      <td>NaN</td>\n      <td>NaN</td>\n      <td>NaN</td>\n      <td>reserve</td>\n      <td>5a139f9cdff3a23a11640a8b9db327e4</td>\n    </tr>\n  </tbody>\n</table>\n<p>753 rows × 21 columns</p>\n</div>"
     },
     "metadata": {},
     "execution_count": 8
    }
   ],
   "source": [
    "combined = combine_pprrs(df[df.employee_id.notna()], fl, fs[fs.employee_id.notna()])\n",
    "combined"
   ]
  },
  {
   "cell_type": "code",
   "execution_count": 12,
   "metadata": {},
   "outputs": [
    {
     "output_type": "execute_result",
     "data": {
      "text/plain": [
       "Index(['employee_id', 'gender', 'department_desc', 'rank_desc',\n",
       "       'employment_status', 'sworn', 'officer_inactive', 'last_name',\n",
       "       'first_name', 'middle_name', 'middle_initial', 'hire_year',\n",
       "       'hire_month', 'hire_day', 'data_production_year', 'agency', 'left_year',\n",
       "       'left_month', 'left_day', 'employee_class', 'uid'],\n",
       "      dtype='object')"
      ]
     },
     "metadata": {},
     "execution_count": 12
    }
   ],
   "source": [
    "combined.columns"
   ]
  },
  {
   "cell_type": "code",
   "execution_count": 17,
   "metadata": {},
   "outputs": [
    {
     "output_type": "execute_result",
     "data": {
      "text/plain": [
       "array([nan, 'police', 'civilian', 'reserve', 'dispatcher', 'jailer',\n",
       "       'jail', 'booking officer', '', 'communications officer', 'officer'],\n",
       "      dtype=object)"
      ]
     },
     "metadata": {},
     "execution_count": 17
    }
   ],
   "source": [
    "combined.employee_class.unique()"
   ]
  },
  {
   "cell_type": "code",
   "execution_count": null,
   "metadata": {},
   "outputs": [],
   "source": []
  }
 ]
}
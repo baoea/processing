{
 "metadata": {
  "language_info": {
   "codemirror_mode": {
    "name": "ipython",
    "version": 3
   },
   "file_extension": ".py",
   "mimetype": "text/x-python",
   "name": "python",
   "nbconvert_exporter": "python",
   "pygments_lexer": "ipython3",
   "version": "3.8.3-final"
  },
  "orig_nbformat": 2,
  "kernelspec": {
   "name": "python3",
   "display_name": "Python 3",
   "language": "python"
  }
 },
 "nbformat": 4,
 "nbformat_minor": 2,
 "cells": [
  {
   "cell_type": "code",
   "execution_count": 1,
   "metadata": {},
   "outputs": [],
   "source": [
    "import re\n",
    "import sys; sys.path.append(\"../\")\n",
    "\n",
    "import pandas as pd\n",
    "\n",
    "from lib.columns import rearrange_personel_columns\n",
    "from lib.textract import realign_series_ws, realign_series_val, parse_textract_datetime"
   ]
  },
  {
   "cell_type": "code",
   "execution_count": 2,
   "metadata": {},
   "outputs": [
    {
     "output_type": "execute_result",
     "data": {
      "text/plain": [
       "                     Name               Rank Hire Date  2018 SALARY\n",
       "0    CHRISTIANA, ANTHONY   Deputy Chief (d.)   4/11/83  $100,754.61\n",
       "1         LLOYD, RUSSELL             Captain   4/11/83   $88,844.60\n",
       "2        JACKSON, JARVIS             Captain   1/30/85   $77,144.08\n",
       "3           COVELL. ERIC             Captain  10/11/86   $40,163.37\n",
       "4          DEBLANC, LILA             Officer   4/20/87   $22,632.79\n",
       "..                    ...                ...       ...          ...\n",
       "111      PITRE, NICHOLAS             Officer   1/26/18   $19,071.06\n",
       "112        CASH, MICHAEL             Officer    5/3/18   $24,579.89\n",
       "113         ELLIS, DANNY             Officer    5/3/18   $21,228.80\n",
       "114   HENDERSON, DOUGLAS             Officer    5/3/18    $9,934.59\n",
       "115     MACHECA, BRANDON             Officer    5/3/18   $21,555.45\n",
       "\n",
       "[116 rows x 4 columns]"
      ],
      "text/html": "<div>\n<style scoped>\n    .dataframe tbody tr th:only-of-type {\n        vertical-align: middle;\n    }\n\n    .dataframe tbody tr th {\n        vertical-align: top;\n    }\n\n    .dataframe thead th {\n        text-align: right;\n    }\n</style>\n<table border=\"1\" class=\"dataframe\">\n  <thead>\n    <tr style=\"text-align: right;\">\n      <th></th>\n      <th>Name</th>\n      <th>Rank</th>\n      <th>Hire Date</th>\n      <th>2018 SALARY</th>\n    </tr>\n  </thead>\n  <tbody>\n    <tr>\n      <th>0</th>\n      <td>CHRISTIANA, ANTHONY</td>\n      <td>Deputy Chief (d.)</td>\n      <td>4/11/83</td>\n      <td>$100,754.61</td>\n    </tr>\n    <tr>\n      <th>1</th>\n      <td>LLOYD, RUSSELL</td>\n      <td>Captain</td>\n      <td>4/11/83</td>\n      <td>$88,844.60</td>\n    </tr>\n    <tr>\n      <th>2</th>\n      <td>JACKSON, JARVIS</td>\n      <td>Captain</td>\n      <td>1/30/85</td>\n      <td>$77,144.08</td>\n    </tr>\n    <tr>\n      <th>3</th>\n      <td>COVELL. ERIC</td>\n      <td>Captain</td>\n      <td>10/11/86</td>\n      <td>$40,163.37</td>\n    </tr>\n    <tr>\n      <th>4</th>\n      <td>DEBLANC, LILA</td>\n      <td>Officer</td>\n      <td>4/20/87</td>\n      <td>$22,632.79</td>\n    </tr>\n    <tr>\n      <th>...</th>\n      <td>...</td>\n      <td>...</td>\n      <td>...</td>\n      <td>...</td>\n    </tr>\n    <tr>\n      <th>111</th>\n      <td>PITRE, NICHOLAS</td>\n      <td>Officer</td>\n      <td>1/26/18</td>\n      <td>$19,071.06</td>\n    </tr>\n    <tr>\n      <th>112</th>\n      <td>CASH, MICHAEL</td>\n      <td>Officer</td>\n      <td>5/3/18</td>\n      <td>$24,579.89</td>\n    </tr>\n    <tr>\n      <th>113</th>\n      <td>ELLIS, DANNY</td>\n      <td>Officer</td>\n      <td>5/3/18</td>\n      <td>$21,228.80</td>\n    </tr>\n    <tr>\n      <th>114</th>\n      <td>HENDERSON, DOUGLAS</td>\n      <td>Officer</td>\n      <td>5/3/18</td>\n      <td>$9,934.59</td>\n    </tr>\n    <tr>\n      <th>115</th>\n      <td>MACHECA, BRANDON</td>\n      <td>Officer</td>\n      <td>5/3/18</td>\n      <td>$21,555.45</td>\n    </tr>\n  </tbody>\n</table>\n<p>116 rows × 4 columns</p>\n</div>"
     },
     "metadata": {},
     "execution_count": 2
    }
   ],
   "source": [
    "df = pd.read_csv(\"../data/Gretna Police Department/Administrative Data/Gretna_PD_PPRR_2018.csv\")\n",
    "df.rename(columns=lambda x: x.strip(), inplace=True)\n",
    "df.loc[:, \"Rank\"] = realign_series_val(df[\"Rank\"], [\"Sergeant Officer\"])\n",
    "df.loc[:, \"Hire Date\"] = realign_series_ws(df[\"Hire Date\"])\n",
    "df.loc[:, \"2018 SALARY\"] = realign_series_ws(df[\"2018 SALARY\"])\n",
    "df"
   ]
  },
  {
   "cell_type": "code",
   "execution_count": 3,
   "metadata": {},
   "outputs": [
    {
     "output_type": "execute_result",
     "data": {
      "text/plain": [
       "      Last Name First Name               Rank  Hire Date  Annual Salary\n",
       "0    Christiana   Anthony   Deputy Chief (d.) 1983-04-11      100754.61\n",
       "1         Lloyd   Russell             Captain 1983-04-11       88844.60\n",
       "2       Jackson    Jarvis             Captain 1985-01-30       77144.08\n",
       "3        Covell      Eric             Captain 1986-10-11       40163.37\n",
       "4       Deblanc      Lila             Officer 1987-04-20       22632.79\n",
       "..          ...        ...                ...        ...            ...\n",
       "111       Pitre  Nicholas             Officer 2018-01-26       19071.06\n",
       "112        Cash   Michael             Officer 2018-05-03       24579.89\n",
       "113       Ellis     Danny             Officer 2018-05-03       21228.80\n",
       "114   Henderson   Douglas             Officer 2018-05-03        9934.59\n",
       "115     Macheca   Brandon             Officer 2018-05-03       21555.45\n",
       "\n",
       "[116 rows x 5 columns]"
      ],
      "text/html": "<div>\n<style scoped>\n    .dataframe tbody tr th:only-of-type {\n        vertical-align: middle;\n    }\n\n    .dataframe tbody tr th {\n        vertical-align: top;\n    }\n\n    .dataframe thead th {\n        text-align: right;\n    }\n</style>\n<table border=\"1\" class=\"dataframe\">\n  <thead>\n    <tr style=\"text-align: right;\">\n      <th></th>\n      <th>Last Name</th>\n      <th>First Name</th>\n      <th>Rank</th>\n      <th>Hire Date</th>\n      <th>Annual Salary</th>\n    </tr>\n  </thead>\n  <tbody>\n    <tr>\n      <th>0</th>\n      <td>Christiana</td>\n      <td>Anthony</td>\n      <td>Deputy Chief (d.)</td>\n      <td>1983-04-11</td>\n      <td>100754.61</td>\n    </tr>\n    <tr>\n      <th>1</th>\n      <td>Lloyd</td>\n      <td>Russell</td>\n      <td>Captain</td>\n      <td>1983-04-11</td>\n      <td>88844.60</td>\n    </tr>\n    <tr>\n      <th>2</th>\n      <td>Jackson</td>\n      <td>Jarvis</td>\n      <td>Captain</td>\n      <td>1985-01-30</td>\n      <td>77144.08</td>\n    </tr>\n    <tr>\n      <th>3</th>\n      <td>Covell</td>\n      <td>Eric</td>\n      <td>Captain</td>\n      <td>1986-10-11</td>\n      <td>40163.37</td>\n    </tr>\n    <tr>\n      <th>4</th>\n      <td>Deblanc</td>\n      <td>Lila</td>\n      <td>Officer</td>\n      <td>1987-04-20</td>\n      <td>22632.79</td>\n    </tr>\n    <tr>\n      <th>...</th>\n      <td>...</td>\n      <td>...</td>\n      <td>...</td>\n      <td>...</td>\n      <td>...</td>\n    </tr>\n    <tr>\n      <th>111</th>\n      <td>Pitre</td>\n      <td>Nicholas</td>\n      <td>Officer</td>\n      <td>2018-01-26</td>\n      <td>19071.06</td>\n    </tr>\n    <tr>\n      <th>112</th>\n      <td>Cash</td>\n      <td>Michael</td>\n      <td>Officer</td>\n      <td>2018-05-03</td>\n      <td>24579.89</td>\n    </tr>\n    <tr>\n      <th>113</th>\n      <td>Ellis</td>\n      <td>Danny</td>\n      <td>Officer</td>\n      <td>2018-05-03</td>\n      <td>21228.80</td>\n    </tr>\n    <tr>\n      <th>114</th>\n      <td>Henderson</td>\n      <td>Douglas</td>\n      <td>Officer</td>\n      <td>2018-05-03</td>\n      <td>9934.59</td>\n    </tr>\n    <tr>\n      <th>115</th>\n      <td>Macheca</td>\n      <td>Brandon</td>\n      <td>Officer</td>\n      <td>2018-05-03</td>\n      <td>21555.45</td>\n    </tr>\n  </tbody>\n</table>\n<p>116 rows × 5 columns</p>\n</div>"
     },
     "metadata": {},
     "execution_count": 3
    }
   ],
   "source": [
    "df2 = df[[\"Rank\", \"Hire Date\", \"2018 SALARY\"]]\n",
    "df2.rename(columns={\n",
    "    \"2018 SALARY\": \"Annual Salary\",\n",
    "}, inplace=True)\n",
    "df2[\"Hire Date\"] = parse_textract_datetime(df2[\"Hire Date\"])\n",
    "df2.loc[:, \"Annual Salary\"] = df2[\"Annual Salary\"].str.replace(\"$\", \"\", regex=False).str.replace(\",\", \"\", regex=False).str.strip().astype(\"float64\")\n",
    "names = df[\"Name\"].str.title().str.replace(\". \", \", \", regex=False).str.split(\", \", expand=True)\n",
    "df2.loc[:, \"First Name\"] = names.iloc[:, 1]\n",
    "df2.loc[:, \"Last Name\"] = names.iloc[:, 0].str.replace(\"(.+)(Ii|Iii|Iv)$\", lambda m: m.group(1) + m.group(2).upper())\n",
    "df2 = rearrange_personel_columns(df2)\n",
    "df2\n"
   ]
  },
  {
   "cell_type": "code",
   "execution_count": 4,
   "metadata": {},
   "outputs": [],
   "source": [
    "df2.to_csv(\"../output/gretna-pd_personel_2018.csv\", index=False)"
   ]
  },
  {
   "cell_type": "code",
   "execution_count": null,
   "metadata": {},
   "outputs": [],
   "source": []
  }
 ]
}
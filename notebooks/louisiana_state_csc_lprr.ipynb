{
 "metadata": {
  "language_info": {
   "codemirror_mode": {
    "name": "ipython",
    "version": 3
   },
   "file_extension": ".py",
   "mimetype": "text/x-python",
   "name": "python",
   "nbconvert_exporter": "python",
   "pygments_lexer": "ipython3",
   "version": "3.8.3-final"
  },
  "orig_nbformat": 2,
  "kernelspec": {
   "name": "python3",
   "display_name": "Python 3",
   "language": "python"
  }
 },
 "nbformat": 4,
 "nbformat_minor": 2,
 "cells": [
  {
   "cell_type": "code",
   "execution_count": 2,
   "metadata": {},
   "outputs": [],
   "source": [
    "import sys; sys.path.append(\"../\")\n",
    "\n",
    "import pandas as pd\n",
    "\n",
    "from lib.explore import show_unique\n",
    "from clean.louisiana_state_csc_lprr import clean\n",
    "from clean.post_pprr import clean as clean_post"
   ]
  },
  {
   "cell_type": "code",
   "execution_count": 3,
   "metadata": {},
   "outputs": [
    {
     "output_type": "execute_result",
     "data": {
      "text/plain": [
       "    docket_no          appellant charging_supervisor  filed_date  \\\n",
       "0    91-01-P              Berry              Flores          NaN   \n",
       "1     91-02-O             Hanna              Flores          NaN   \n",
       "2    91-03-2          Greenwood              Flores          NaN   \n",
       "3    91-04-P              Giles              Flores          NaN   \n",
       "4     91-05-O  Blackweldergetal              Flores          NaN   \n",
       "..        ...                ...                 ...         ...   \n",
       "235  18-243-S        Eric Curlee                   R  11/20/2018   \n",
       "236  19-244-T    Sheldon Perkins                   R   10/1/2019   \n",
       "237  20-245-T      Joey Schouest                   R    3/5/2020   \n",
       "238  20-246-T  Santigo St. Clair                   R    4/6/2020   \n",
       "239  20-247-S       Trahan, John                   R   4/24/2020   \n",
       "\n",
       "    rendered_date    decision    delay appealed  \n",
       "0             NaN     Denied       NaN      Yes  \n",
       "1             NaN    Settled       NaN      NaN  \n",
       "2             NaN     Denied       NaN      NaN  \n",
       "3             NaN     Denied       NaN      NaN  \n",
       "4             NaN  Withdrawn       NaN      NaN  \n",
       "..            ...         ...      ...      ...  \n",
       "235     3/12/2020    Settled   3.8 mos      NaN  \n",
       "236           NaN         NaN      NaN      NaN  \n",
       "237           NaN         NaN      NaN      NaN  \n",
       "238           NaN         NaN      NaN      NaN  \n",
       "239     9/10/2020      denied  3.5 mos      NaN  \n",
       "\n",
       "[240 rows x 8 columns]"
      ],
      "text/html": "<div>\n<style scoped>\n    .dataframe tbody tr th:only-of-type {\n        vertical-align: middle;\n    }\n\n    .dataframe tbody tr th {\n        vertical-align: top;\n    }\n\n    .dataframe thead th {\n        text-align: right;\n    }\n</style>\n<table border=\"1\" class=\"dataframe\">\n  <thead>\n    <tr style=\"text-align: right;\">\n      <th></th>\n      <th>docket_no</th>\n      <th>appellant</th>\n      <th>charging_supervisor</th>\n      <th>filed_date</th>\n      <th>rendered_date</th>\n      <th>decision</th>\n      <th>delay</th>\n      <th>appealed</th>\n    </tr>\n  </thead>\n  <tbody>\n    <tr>\n      <th>0</th>\n      <td>91-01-P</td>\n      <td>Berry</td>\n      <td>Flores</td>\n      <td>NaN</td>\n      <td>NaN</td>\n      <td>Denied</td>\n      <td>NaN</td>\n      <td>Yes</td>\n    </tr>\n    <tr>\n      <th>1</th>\n      <td>91-02-O</td>\n      <td>Hanna</td>\n      <td>Flores</td>\n      <td>NaN</td>\n      <td>NaN</td>\n      <td>Settled</td>\n      <td>NaN</td>\n      <td>NaN</td>\n    </tr>\n    <tr>\n      <th>2</th>\n      <td>91-03-2</td>\n      <td>Greenwood</td>\n      <td>Flores</td>\n      <td>NaN</td>\n      <td>NaN</td>\n      <td>Denied</td>\n      <td>NaN</td>\n      <td>NaN</td>\n    </tr>\n    <tr>\n      <th>3</th>\n      <td>91-04-P</td>\n      <td>Giles</td>\n      <td>Flores</td>\n      <td>NaN</td>\n      <td>NaN</td>\n      <td>Denied</td>\n      <td>NaN</td>\n      <td>NaN</td>\n    </tr>\n    <tr>\n      <th>4</th>\n      <td>91-05-O</td>\n      <td>Blackweldergetal</td>\n      <td>Flores</td>\n      <td>NaN</td>\n      <td>NaN</td>\n      <td>Withdrawn</td>\n      <td>NaN</td>\n      <td>NaN</td>\n    </tr>\n    <tr>\n      <th>...</th>\n      <td>...</td>\n      <td>...</td>\n      <td>...</td>\n      <td>...</td>\n      <td>...</td>\n      <td>...</td>\n      <td>...</td>\n      <td>...</td>\n    </tr>\n    <tr>\n      <th>235</th>\n      <td>18-243-S</td>\n      <td>Eric Curlee</td>\n      <td>R</td>\n      <td>11/20/2018</td>\n      <td>3/12/2020</td>\n      <td>Settled</td>\n      <td>3.8 mos</td>\n      <td>NaN</td>\n    </tr>\n    <tr>\n      <th>236</th>\n      <td>19-244-T</td>\n      <td>Sheldon Perkins</td>\n      <td>R</td>\n      <td>10/1/2019</td>\n      <td>NaN</td>\n      <td>NaN</td>\n      <td>NaN</td>\n      <td>NaN</td>\n    </tr>\n    <tr>\n      <th>237</th>\n      <td>20-245-T</td>\n      <td>Joey Schouest</td>\n      <td>R</td>\n      <td>3/5/2020</td>\n      <td>NaN</td>\n      <td>NaN</td>\n      <td>NaN</td>\n      <td>NaN</td>\n    </tr>\n    <tr>\n      <th>238</th>\n      <td>20-246-T</td>\n      <td>Santigo St. Clair</td>\n      <td>R</td>\n      <td>4/6/2020</td>\n      <td>NaN</td>\n      <td>NaN</td>\n      <td>NaN</td>\n      <td>NaN</td>\n    </tr>\n    <tr>\n      <th>239</th>\n      <td>20-247-S</td>\n      <td>Trahan, John</td>\n      <td>R</td>\n      <td>4/24/2020</td>\n      <td>9/10/2020</td>\n      <td>denied</td>\n      <td>3.5 mos</td>\n      <td>NaN</td>\n    </tr>\n  </tbody>\n</table>\n<p>240 rows × 8 columns</p>\n</div>"
     },
     "metadata": {},
     "execution_count": 3
    }
   ],
   "source": [
    "df = clean()\n",
    "df"
   ]
  },
  {
   "cell_type": "code",
   "execution_count": 4,
   "metadata": {},
   "outputs": [
    {
     "output_type": "stream",
     "name": "stderr",
     "text": [
      "../lib/clean.py:152: FutureWarning: The default value of regex will change from True to False in a future version.\n",
      "  return series.str.strip().str.replace(r\"[^\\w-]+\", \" \").str.replace(r\"\\s+\", \" \")\\\n",
      "../clean/post_pprr.py:13: FutureWarning: The default value of regex will change from True to False in a future version.\n",
      "  df.loc[:, \"agency\"] = df.agency.str.strip()\\\n"
     ]
    },
    {
     "output_type": "execute_result",
     "data": {
      "text/plain": [
       "                   agency  last_name first_name employment_status  \\\n",
       "0      14th jdc da office    abshire     dustin         full-time   \n",
       "1          17th da office      ourso     damian         full-time   \n",
       "2          17th da office     besson      bruce         full-time   \n",
       "3          17th da office      bourg      billy         full-time   \n",
       "4          19th da office  cadarette      steve         full-time   \n",
       "...                   ...        ...        ...               ...   \n",
       "38898      youngsville pd      fruge     hilary           reserve   \n",
       "38899      youngsville pd     mouton       todd           reserve   \n",
       "38900      youngsville pd    hidalgo     jeremy           reserve   \n",
       "38901          zachary pd  viccellio      david           reserve   \n",
       "38902          zachary pd     maurer       john           reserve   \n",
       "\n",
       "      level_1_cert_date last_pc_12_qualification_date data_production_year  \\\n",
       "0            1998-06-11                    2010-10-27                 2020   \n",
       "1            2004-05-13                    2010-10-07                 2020   \n",
       "2                   NaT                    2008-01-26                 2020   \n",
       "3            1991-04-24                    2010-10-07                 2020   \n",
       "4            2003-08-28                    2020-04-28                 2020   \n",
       "...                 ...                           ...                  ...   \n",
       "38898        2010-11-18                    2020-06-22                 2020   \n",
       "38899               NaT                    2020-06-15                 2020   \n",
       "38900               NaT                    2020-07-31                 2020   \n",
       "38901               NaT                    2019-12-04                 2020   \n",
       "38902               NaT                    2019-09-07                 2020   \n",
       "\n",
       "      hire_year hire_month hire_day                               uid  \n",
       "0          2013         06       01  43ee7cb8a15ca49e883372d3c99988e1  \n",
       "1          2008         11       11  8875f7c0749a1de0923c1242a4363622  \n",
       "2          1997         02       11  2c35336b17f9986c7547656bb72508fe  \n",
       "3          1990         10       12  e17ebe5f0a893d9cb6aac11bf9673c32  \n",
       "4          2016         04       11  84a22650eb29e5d7d17721d59c3a2fc6  \n",
       "...         ...        ...      ...                               ...  \n",
       "38898      2017         11       27  2e785e632588b75ebe30c3651f80837c  \n",
       "38899      2017         07       01  e2642ae3d8360270ac3b4cfd5d8c5ea4  \n",
       "38900      2017         12       01  a5ca9eebadff5a86ea4e7dd507ba1f73  \n",
       "38901      2019         12       03  3c6043ea0d02ebbab16968c88c9107f0  \n",
       "38902      2017         05       25  095a275299489ede7eaa839daef8b6fe  \n",
       "\n",
       "[38903 rows x 11 columns]"
      ],
      "text/html": "<div>\n<style scoped>\n    .dataframe tbody tr th:only-of-type {\n        vertical-align: middle;\n    }\n\n    .dataframe tbody tr th {\n        vertical-align: top;\n    }\n\n    .dataframe thead th {\n        text-align: right;\n    }\n</style>\n<table border=\"1\" class=\"dataframe\">\n  <thead>\n    <tr style=\"text-align: right;\">\n      <th></th>\n      <th>agency</th>\n      <th>last_name</th>\n      <th>first_name</th>\n      <th>employment_status</th>\n      <th>level_1_cert_date</th>\n      <th>last_pc_12_qualification_date</th>\n      <th>data_production_year</th>\n      <th>hire_year</th>\n      <th>hire_month</th>\n      <th>hire_day</th>\n      <th>uid</th>\n    </tr>\n  </thead>\n  <tbody>\n    <tr>\n      <th>0</th>\n      <td>14th jdc da office</td>\n      <td>abshire</td>\n      <td>dustin</td>\n      <td>full-time</td>\n      <td>1998-06-11</td>\n      <td>2010-10-27</td>\n      <td>2020</td>\n      <td>2013</td>\n      <td>06</td>\n      <td>01</td>\n      <td>43ee7cb8a15ca49e883372d3c99988e1</td>\n    </tr>\n    <tr>\n      <th>1</th>\n      <td>17th da office</td>\n      <td>ourso</td>\n      <td>damian</td>\n      <td>full-time</td>\n      <td>2004-05-13</td>\n      <td>2010-10-07</td>\n      <td>2020</td>\n      <td>2008</td>\n      <td>11</td>\n      <td>11</td>\n      <td>8875f7c0749a1de0923c1242a4363622</td>\n    </tr>\n    <tr>\n      <th>2</th>\n      <td>17th da office</td>\n      <td>besson</td>\n      <td>bruce</td>\n      <td>full-time</td>\n      <td>NaT</td>\n      <td>2008-01-26</td>\n      <td>2020</td>\n      <td>1997</td>\n      <td>02</td>\n      <td>11</td>\n      <td>2c35336b17f9986c7547656bb72508fe</td>\n    </tr>\n    <tr>\n      <th>3</th>\n      <td>17th da office</td>\n      <td>bourg</td>\n      <td>billy</td>\n      <td>full-time</td>\n      <td>1991-04-24</td>\n      <td>2010-10-07</td>\n      <td>2020</td>\n      <td>1990</td>\n      <td>10</td>\n      <td>12</td>\n      <td>e17ebe5f0a893d9cb6aac11bf9673c32</td>\n    </tr>\n    <tr>\n      <th>4</th>\n      <td>19th da office</td>\n      <td>cadarette</td>\n      <td>steve</td>\n      <td>full-time</td>\n      <td>2003-08-28</td>\n      <td>2020-04-28</td>\n      <td>2020</td>\n      <td>2016</td>\n      <td>04</td>\n      <td>11</td>\n      <td>84a22650eb29e5d7d17721d59c3a2fc6</td>\n    </tr>\n    <tr>\n      <th>...</th>\n      <td>...</td>\n      <td>...</td>\n      <td>...</td>\n      <td>...</td>\n      <td>...</td>\n      <td>...</td>\n      <td>...</td>\n      <td>...</td>\n      <td>...</td>\n      <td>...</td>\n      <td>...</td>\n    </tr>\n    <tr>\n      <th>38898</th>\n      <td>youngsville pd</td>\n      <td>fruge</td>\n      <td>hilary</td>\n      <td>reserve</td>\n      <td>2010-11-18</td>\n      <td>2020-06-22</td>\n      <td>2020</td>\n      <td>2017</td>\n      <td>11</td>\n      <td>27</td>\n      <td>2e785e632588b75ebe30c3651f80837c</td>\n    </tr>\n    <tr>\n      <th>38899</th>\n      <td>youngsville pd</td>\n      <td>mouton</td>\n      <td>todd</td>\n      <td>reserve</td>\n      <td>NaT</td>\n      <td>2020-06-15</td>\n      <td>2020</td>\n      <td>2017</td>\n      <td>07</td>\n      <td>01</td>\n      <td>e2642ae3d8360270ac3b4cfd5d8c5ea4</td>\n    </tr>\n    <tr>\n      <th>38900</th>\n      <td>youngsville pd</td>\n      <td>hidalgo</td>\n      <td>jeremy</td>\n      <td>reserve</td>\n      <td>NaT</td>\n      <td>2020-07-31</td>\n      <td>2020</td>\n      <td>2017</td>\n      <td>12</td>\n      <td>01</td>\n      <td>a5ca9eebadff5a86ea4e7dd507ba1f73</td>\n    </tr>\n    <tr>\n      <th>38901</th>\n      <td>zachary pd</td>\n      <td>viccellio</td>\n      <td>david</td>\n      <td>reserve</td>\n      <td>NaT</td>\n      <td>2019-12-04</td>\n      <td>2020</td>\n      <td>2019</td>\n      <td>12</td>\n      <td>03</td>\n      <td>3c6043ea0d02ebbab16968c88c9107f0</td>\n    </tr>\n    <tr>\n      <th>38902</th>\n      <td>zachary pd</td>\n      <td>maurer</td>\n      <td>john</td>\n      <td>reserve</td>\n      <td>NaT</td>\n      <td>2019-09-07</td>\n      <td>2020</td>\n      <td>2017</td>\n      <td>05</td>\n      <td>25</td>\n      <td>095a275299489ede7eaa839daef8b6fe</td>\n    </tr>\n  </tbody>\n</table>\n<p>38903 rows × 11 columns</p>\n</div>"
     },
     "metadata": {},
     "execution_count": 4
    }
   ],
   "source": [
    "post = clean_post()\n",
    "post"
   ]
  },
  {
   "cell_type": "code",
   "execution_count": 6,
   "metadata": {},
   "outputs": [
    {
     "output_type": "execute_result",
     "data": {
      "text/plain": [
       "13318    la public service commission\n",
       "13319    la public service commission\n",
       "13320    la public service commission\n",
       "Name: agency, dtype: object"
      ]
     },
     "metadata": {},
     "execution_count": 6
    }
   ],
   "source": [
    "post.loc[post.agency.str.contains(\"commission\"), \"agency\"]"
   ]
  },
  {
   "cell_type": "code",
   "execution_count": 7,
   "metadata": {},
   "outputs": [
    {
     "output_type": "execute_result",
     "data": {
      "text/plain": [
       "17813    louisiana office of inspector general\n",
       "17814    louisiana office of inspector general\n",
       "17815    louisiana office of inspector general\n",
       "17816    louisiana office of inspector general\n",
       "17817    louisiana office of inspector general\n",
       "32810             univ. pd - louisiana college\n",
       "Name: agency, dtype: object"
      ]
     },
     "metadata": {},
     "execution_count": 7
    }
   ],
   "source": [
    "post.loc[post.agency.str.contains(\"louisiana\"), \"agency\"]"
   ]
  },
  {
   "cell_type": "code",
   "execution_count": null,
   "metadata": {},
   "outputs": [],
   "source": []
  }
 ]
}
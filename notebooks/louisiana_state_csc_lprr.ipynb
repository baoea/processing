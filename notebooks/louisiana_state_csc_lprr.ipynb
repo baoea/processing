{
 "metadata": {
  "language_info": {
   "codemirror_mode": {
    "name": "ipython",
    "version": 3
   },
   "file_extension": ".py",
   "mimetype": "text/x-python",
   "name": "python",
   "nbconvert_exporter": "python",
   "pygments_lexer": "ipython3",
   "version": "3.8.3-final"
  },
  "orig_nbformat": 2,
  "kernelspec": {
   "name": "python3",
   "display_name": "Python 3",
   "language": "python"
  }
 },
 "nbformat": 4,
 "nbformat_minor": 2,
 "cells": [
  {
   "cell_type": "code",
   "execution_count": 1,
   "metadata": {},
   "outputs": [],
   "source": [
    "import sys; sys.path.append(\"../\")\n",
    "\n",
    "import pandas as pd\n",
    "\n",
    "from lib.explore import show_unique\n",
    "from clean.louisiana_state_csc_lprr import clean\n",
    "from match.louisiana_state_csc import match_post, prepare_post_data"
   ]
  },
  {
   "cell_type": "code",
   "execution_count": 2,
   "metadata": {},
   "outputs": [
    {
     "output_type": "stream",
     "name": "stderr",
     "text": [
      "../clean/louisiana_state_csc_lprr.py:30: FutureWarning: The default value of regex will change from True to False in a future version.\n  df.loc[:, 'appellant'] = df.appellant.str.replace(r'^Matte$', r'John Matte')\\\n../clean/louisiana_state_csc_lprr.py:38: FutureWarning: The default value of regex will change from True to False in a future version.\n  df.loc[:, 'appellant'] = df.appellant.str.replace(r', ', ' ')\\\n../lib/clean.py:166: FutureWarning: The default value of regex will change from True to False in a future version.\n  return series.str.strip().str.replace(r\"[^\\w-]+\", \" \").str.replace(r\"\\s+\", \" \")\\\n../clean/louisiana_state_csc_lprr.py:87: FutureWarning: The default value of regex will change from True to False in a future version.\n  df.loc[:, 'decision'] = df.decision.str.strip().str.lower()\\\n"
     ]
    },
    {
     "output_type": "execute_result",
     "data": {
      "text/plain": [
       "     docket_no         appellant charging_supervisor       decision appealed  \\\n",
       "0      91-01-P             Berry             Flores          denied      Yes   \n",
       "1      91-02-O             Hanna             Flores         settled      NaN   \n",
       "2      91-03-2         Greenwood             Flores          denied      NaN   \n",
       "3      91-04-P             Giles             Flores          denied      NaN   \n",
       "4      91-05-O  Blackweldergetal             Flores       withdrawn      NaN   \n",
       "..         ...               ...                 ...            ...      ...   \n",
       "239    93-34-P           LeBlanc           Fontenot         granted      Yes   \n",
       "240  93-35-R/S        Louis Cook           Fontenot   granted 1,000      Yes   \n",
       "241  93-35-R/S          Williams           Fontenot   granted 1,000      Yes   \n",
       "242   09-180-S    Coddou Hayward                   E      dismissed      NaN   \n",
       "243   09-181-S    Coddou Hayward                   E      dismissed      NaN   \n",
       "\n",
       "            last_name first_name middle_initial filed_year filed_month  \\\n",
       "0               berry                                                    \n",
       "1               hanna                                                    \n",
       "2           greenwood                                                    \n",
       "3               giles                                                    \n",
       "4    blackweldergetal                                                    \n",
       "..                ...        ...            ...        ...         ...   \n",
       "239           leblanc                                                    \n",
       "240             louis       cook                                         \n",
       "241          williams                                                    \n",
       "242            coddou    hayward                      2009           1   \n",
       "243            coddou    hayward                      2009           7   \n",
       "\n",
       "    filed_day rendered_year rendered_month rendered_day  \\\n",
       "0                                                         \n",
       "1                                                         \n",
       "2                                                         \n",
       "3                                                         \n",
       "4                                                         \n",
       "..        ...           ...            ...          ...   \n",
       "239                                                       \n",
       "240                                                       \n",
       "241                                                       \n",
       "242        16          2009              9           17   \n",
       "243        20          2009              9           17   \n",
       "\n",
       "                     agency  data_production_year  \\\n",
       "0    Louisiana State Police                  2020   \n",
       "1    Louisiana State Police                  2020   \n",
       "2    Louisiana State Police                  2020   \n",
       "3    Louisiana State Police                  2020   \n",
       "4    Louisiana State Police                  2020   \n",
       "..                      ...                   ...   \n",
       "239  Louisiana State Police                  2020   \n",
       "240  Louisiana State Police                  2020   \n",
       "241  Louisiana State Police                  2020   \n",
       "242  Louisiana State Police                  2020   \n",
       "243  Louisiana State Police                  2020   \n",
       "\n",
       "                                  uid  \n",
       "0    975c55633484e123aa609b1636149153  \n",
       "1    b2cd1947500c072b64e82be6938d5870  \n",
       "2    aacb329c30d7f8869bf0db008296ef6a  \n",
       "3    865a6ed5c6e19f48b23e68132f1e20b7  \n",
       "4    5ecf4523cfc554609cc46af1b8b136a9  \n",
       "..                                ...  \n",
       "239  bd4dcd4d5ba6c95dc81a1c1d42e15ff9  \n",
       "240  04578b29ad4139f4568129b712dfa1a9  \n",
       "241  f715684990137f9113b125d1ef4ece7d  \n",
       "242  dfb34737599bb79d7e16431ef36b1b35  \n",
       "243  dfb34737599bb79d7e16431ef36b1b35  \n",
       "\n",
       "[244 rows x 17 columns]"
      ],
      "text/html": "<div>\n<style scoped>\n    .dataframe tbody tr th:only-of-type {\n        vertical-align: middle;\n    }\n\n    .dataframe tbody tr th {\n        vertical-align: top;\n    }\n\n    .dataframe thead th {\n        text-align: right;\n    }\n</style>\n<table border=\"1\" class=\"dataframe\">\n  <thead>\n    <tr style=\"text-align: right;\">\n      <th></th>\n      <th>docket_no</th>\n      <th>appellant</th>\n      <th>charging_supervisor</th>\n      <th>decision</th>\n      <th>appealed</th>\n      <th>last_name</th>\n      <th>first_name</th>\n      <th>middle_initial</th>\n      <th>filed_year</th>\n      <th>filed_month</th>\n      <th>filed_day</th>\n      <th>rendered_year</th>\n      <th>rendered_month</th>\n      <th>rendered_day</th>\n      <th>agency</th>\n      <th>data_production_year</th>\n      <th>uid</th>\n    </tr>\n  </thead>\n  <tbody>\n    <tr>\n      <th>0</th>\n      <td>91-01-P</td>\n      <td>Berry</td>\n      <td>Flores</td>\n      <td>denied</td>\n      <td>Yes</td>\n      <td>berry</td>\n      <td></td>\n      <td></td>\n      <td></td>\n      <td></td>\n      <td></td>\n      <td></td>\n      <td></td>\n      <td></td>\n      <td>Louisiana State Police</td>\n      <td>2020</td>\n      <td>975c55633484e123aa609b1636149153</td>\n    </tr>\n    <tr>\n      <th>1</th>\n      <td>91-02-O</td>\n      <td>Hanna</td>\n      <td>Flores</td>\n      <td>settled</td>\n      <td>NaN</td>\n      <td>hanna</td>\n      <td></td>\n      <td></td>\n      <td></td>\n      <td></td>\n      <td></td>\n      <td></td>\n      <td></td>\n      <td></td>\n      <td>Louisiana State Police</td>\n      <td>2020</td>\n      <td>b2cd1947500c072b64e82be6938d5870</td>\n    </tr>\n    <tr>\n      <th>2</th>\n      <td>91-03-2</td>\n      <td>Greenwood</td>\n      <td>Flores</td>\n      <td>denied</td>\n      <td>NaN</td>\n      <td>greenwood</td>\n      <td></td>\n      <td></td>\n      <td></td>\n      <td></td>\n      <td></td>\n      <td></td>\n      <td></td>\n      <td></td>\n      <td>Louisiana State Police</td>\n      <td>2020</td>\n      <td>aacb329c30d7f8869bf0db008296ef6a</td>\n    </tr>\n    <tr>\n      <th>3</th>\n      <td>91-04-P</td>\n      <td>Giles</td>\n      <td>Flores</td>\n      <td>denied</td>\n      <td>NaN</td>\n      <td>giles</td>\n      <td></td>\n      <td></td>\n      <td></td>\n      <td></td>\n      <td></td>\n      <td></td>\n      <td></td>\n      <td></td>\n      <td>Louisiana State Police</td>\n      <td>2020</td>\n      <td>865a6ed5c6e19f48b23e68132f1e20b7</td>\n    </tr>\n    <tr>\n      <th>4</th>\n      <td>91-05-O</td>\n      <td>Blackweldergetal</td>\n      <td>Flores</td>\n      <td>withdrawn</td>\n      <td>NaN</td>\n      <td>blackweldergetal</td>\n      <td></td>\n      <td></td>\n      <td></td>\n      <td></td>\n      <td></td>\n      <td></td>\n      <td></td>\n      <td></td>\n      <td>Louisiana State Police</td>\n      <td>2020</td>\n      <td>5ecf4523cfc554609cc46af1b8b136a9</td>\n    </tr>\n    <tr>\n      <th>...</th>\n      <td>...</td>\n      <td>...</td>\n      <td>...</td>\n      <td>...</td>\n      <td>...</td>\n      <td>...</td>\n      <td>...</td>\n      <td>...</td>\n      <td>...</td>\n      <td>...</td>\n      <td>...</td>\n      <td>...</td>\n      <td>...</td>\n      <td>...</td>\n      <td>...</td>\n      <td>...</td>\n      <td>...</td>\n    </tr>\n    <tr>\n      <th>239</th>\n      <td>93-34-P</td>\n      <td>LeBlanc</td>\n      <td>Fontenot</td>\n      <td>granted</td>\n      <td>Yes</td>\n      <td>leblanc</td>\n      <td></td>\n      <td></td>\n      <td></td>\n      <td></td>\n      <td></td>\n      <td></td>\n      <td></td>\n      <td></td>\n      <td>Louisiana State Police</td>\n      <td>2020</td>\n      <td>bd4dcd4d5ba6c95dc81a1c1d42e15ff9</td>\n    </tr>\n    <tr>\n      <th>240</th>\n      <td>93-35-R/S</td>\n      <td>Louis Cook</td>\n      <td>Fontenot</td>\n      <td>granted 1,000</td>\n      <td>Yes</td>\n      <td>louis</td>\n      <td>cook</td>\n      <td></td>\n      <td></td>\n      <td></td>\n      <td></td>\n      <td></td>\n      <td></td>\n      <td></td>\n      <td>Louisiana State Police</td>\n      <td>2020</td>\n      <td>04578b29ad4139f4568129b712dfa1a9</td>\n    </tr>\n    <tr>\n      <th>241</th>\n      <td>93-35-R/S</td>\n      <td>Williams</td>\n      <td>Fontenot</td>\n      <td>granted 1,000</td>\n      <td>Yes</td>\n      <td>williams</td>\n      <td></td>\n      <td></td>\n      <td></td>\n      <td></td>\n      <td></td>\n      <td></td>\n      <td></td>\n      <td></td>\n      <td>Louisiana State Police</td>\n      <td>2020</td>\n      <td>f715684990137f9113b125d1ef4ece7d</td>\n    </tr>\n    <tr>\n      <th>242</th>\n      <td>09-180-S</td>\n      <td>Coddou Hayward</td>\n      <td>E</td>\n      <td>dismissed</td>\n      <td>NaN</td>\n      <td>coddou</td>\n      <td>hayward</td>\n      <td></td>\n      <td>2009</td>\n      <td>1</td>\n      <td>16</td>\n      <td>2009</td>\n      <td>9</td>\n      <td>17</td>\n      <td>Louisiana State Police</td>\n      <td>2020</td>\n      <td>dfb34737599bb79d7e16431ef36b1b35</td>\n    </tr>\n    <tr>\n      <th>243</th>\n      <td>09-181-S</td>\n      <td>Coddou Hayward</td>\n      <td>E</td>\n      <td>dismissed</td>\n      <td>NaN</td>\n      <td>coddou</td>\n      <td>hayward</td>\n      <td></td>\n      <td>2009</td>\n      <td>7</td>\n      <td>20</td>\n      <td>2009</td>\n      <td>9</td>\n      <td>17</td>\n      <td>Louisiana State Police</td>\n      <td>2020</td>\n      <td>dfb34737599bb79d7e16431ef36b1b35</td>\n    </tr>\n  </tbody>\n</table>\n<p>244 rows × 17 columns</p>\n</div>"
     },
     "metadata": {},
     "execution_count": 2
    }
   ],
   "source": [
    "df = clean()\n",
    "df"
   ]
  },
  {
   "cell_type": "code",
   "execution_count": 3,
   "metadata": {},
   "outputs": [
    {
     "output_type": "execute_result",
     "data": {
      "text/plain": [
       "Empty DataFrame\n",
       "Columns: [docket_no, appellant, charging_supervisor, decision, appealed, last_name, first_name, middle_initial, filed_year, filed_month, filed_day, rendered_year, rendered_month, rendered_day, agency, data_production_year, uid]\n",
       "Index: []"
      ],
      "text/html": "<div>\n<style scoped>\n    .dataframe tbody tr th:only-of-type {\n        vertical-align: middle;\n    }\n\n    .dataframe tbody tr th {\n        vertical-align: top;\n    }\n\n    .dataframe thead th {\n        text-align: right;\n    }\n</style>\n<table border=\"1\" class=\"dataframe\">\n  <thead>\n    <tr style=\"text-align: right;\">\n      <th></th>\n      <th>docket_no</th>\n      <th>appellant</th>\n      <th>charging_supervisor</th>\n      <th>decision</th>\n      <th>appealed</th>\n      <th>last_name</th>\n      <th>first_name</th>\n      <th>middle_initial</th>\n      <th>filed_year</th>\n      <th>filed_month</th>\n      <th>filed_day</th>\n      <th>rendered_year</th>\n      <th>rendered_month</th>\n      <th>rendered_day</th>\n      <th>agency</th>\n      <th>data_production_year</th>\n      <th>uid</th>\n    </tr>\n  </thead>\n  <tbody>\n  </tbody>\n</table>\n</div>"
     },
     "metadata": {},
     "execution_count": 3
    }
   ],
   "source": [
    "df[df.docket_no.isna()]"
   ]
  },
  {
   "cell_type": "code",
   "execution_count": 4,
   "metadata": {},
   "outputs": [
    {
     "output_type": "execute_result",
     "data": {
      "text/plain": [
       "                                           agency last_name first_name  \\\n",
       "uid                                                                      \n",
       "66a38732098548ea5151f425af9d29ec  la state police  guillory     harlan   \n",
       "d44abd0c2d6f2039bf3ace7957b3687c  la state police  williams    derrell   \n",
       "9b595090652ef9540652bc894438906a  la state police  kelleher     adrian   \n",
       "fab77af78b7bd87634e6f4654d5f2ee7  la state police   graphia       greg   \n",
       "79fe2de6c436fca60e8ab93aa7802147  la state police    jordan    phillip   \n",
       "...                                           ...       ...        ...   \n",
       "0ea88c620315d118c14d2a47d85bbdba  la state police    mcneal       cody   \n",
       "4951ce9fd8b46f1bf71b2f53d88bc636  la state police    moreau     hollie   \n",
       "4e348a8e6a1d1e20cbc1d6be73a070f7  la state police  joffrion     thomas   \n",
       "6be61b2d24c704563b9f609bdf2f029a  la state police  bordelon     robert   \n",
       "ff7261eb374e83a41c01d1abcf3e733e  la state police  daughtry       jack   \n",
       "\n",
       "                                 employment_status level_1_cert_date  \\\n",
       "uid                                                                    \n",
       "66a38732098548ea5151f425af9d29ec         full-time        1994-09-26   \n",
       "d44abd0c2d6f2039bf3ace7957b3687c         full-time        1995-09-25   \n",
       "9b595090652ef9540652bc894438906a         full-time        1990-04-12   \n",
       "fab77af78b7bd87634e6f4654d5f2ee7         full-time        1995-09-25   \n",
       "79fe2de6c436fca60e8ab93aa7802147         full-time        1998-05-28   \n",
       "...                                            ...               ...   \n",
       "0ea88c620315d118c14d2a47d85bbdba         full-time        2020-01-29   \n",
       "4951ce9fd8b46f1bf71b2f53d88bc636         full-time               NaN   \n",
       "4e348a8e6a1d1e20cbc1d6be73a070f7         part-time               NaN   \n",
       "6be61b2d24c704563b9f609bdf2f029a         part-time        1990-08-28   \n",
       "ff7261eb374e83a41c01d1abcf3e733e           reserve               NaN   \n",
       "\n",
       "                                 last_pc_12_qualification_date  \\\n",
       "uid                                                              \n",
       "66a38732098548ea5151f425af9d29ec                    2020-10-29   \n",
       "d44abd0c2d6f2039bf3ace7957b3687c                    2020-10-29   \n",
       "9b595090652ef9540652bc894438906a                    2020-10-29   \n",
       "fab77af78b7bd87634e6f4654d5f2ee7                    2020-10-29   \n",
       "79fe2de6c436fca60e8ab93aa7802147                    2020-10-29   \n",
       "...                                                        ...   \n",
       "0ea88c620315d118c14d2a47d85bbdba                           NaN   \n",
       "4951ce9fd8b46f1bf71b2f53d88bc636                           NaN   \n",
       "4e348a8e6a1d1e20cbc1d6be73a070f7                           NaN   \n",
       "6be61b2d24c704563b9f609bdf2f029a                           NaN   \n",
       "ff7261eb374e83a41c01d1abcf3e733e                           NaN   \n",
       "\n",
       "                                  data_production_year  hire_year  hire_month  \\\n",
       "uid                                                                             \n",
       "66a38732098548ea5151f425af9d29ec                  2020     1994.0         6.0   \n",
       "d44abd0c2d6f2039bf3ace7957b3687c                  2020     1995.0         6.0   \n",
       "9b595090652ef9540652bc894438906a                  2020     1990.0         1.0   \n",
       "fab77af78b7bd87634e6f4654d5f2ee7                  2020     1995.0         6.0   \n",
       "79fe2de6c436fca60e8ab93aa7802147                  2020     1998.0         1.0   \n",
       "...                                                ...        ...         ...   \n",
       "0ea88c620315d118c14d2a47d85bbdba                  2020     2019.0         8.0   \n",
       "4951ce9fd8b46f1bf71b2f53d88bc636                  2020     2019.0         8.0   \n",
       "4e348a8e6a1d1e20cbc1d6be73a070f7                  2020     2019.0         2.0   \n",
       "6be61b2d24c704563b9f609bdf2f029a                  2020     2011.0         9.0   \n",
       "ff7261eb374e83a41c01d1abcf3e733e                  2020        NaN         NaN   \n",
       "\n",
       "                                  hire_day                               uid  \n",
       "uid                                                                           \n",
       "66a38732098548ea5151f425af9d29ec      19.0  66a38732098548ea5151f425af9d29ec  \n",
       "d44abd0c2d6f2039bf3ace7957b3687c      18.0  d44abd0c2d6f2039bf3ace7957b3687c  \n",
       "9b595090652ef9540652bc894438906a      20.0  9b595090652ef9540652bc894438906a  \n",
       "fab77af78b7bd87634e6f4654d5f2ee7      18.0  fab77af78b7bd87634e6f4654d5f2ee7  \n",
       "79fe2de6c436fca60e8ab93aa7802147      24.0  79fe2de6c436fca60e8ab93aa7802147  \n",
       "...                                    ...                               ...  \n",
       "0ea88c620315d118c14d2a47d85bbdba      25.0  0ea88c620315d118c14d2a47d85bbdba  \n",
       "4951ce9fd8b46f1bf71b2f53d88bc636      25.0  4951ce9fd8b46f1bf71b2f53d88bc636  \n",
       "4e348a8e6a1d1e20cbc1d6be73a070f7      12.0  4e348a8e6a1d1e20cbc1d6be73a070f7  \n",
       "6be61b2d24c704563b9f609bdf2f029a       2.0  6be61b2d24c704563b9f609bdf2f029a  \n",
       "ff7261eb374e83a41c01d1abcf3e733e       NaN  ff7261eb374e83a41c01d1abcf3e733e  \n",
       "\n",
       "[1464 rows x 11 columns]"
      ],
      "text/html": "<div>\n<style scoped>\n    .dataframe tbody tr th:only-of-type {\n        vertical-align: middle;\n    }\n\n    .dataframe tbody tr th {\n        vertical-align: top;\n    }\n\n    .dataframe thead th {\n        text-align: right;\n    }\n</style>\n<table border=\"1\" class=\"dataframe\">\n  <thead>\n    <tr style=\"text-align: right;\">\n      <th></th>\n      <th>agency</th>\n      <th>last_name</th>\n      <th>first_name</th>\n      <th>employment_status</th>\n      <th>level_1_cert_date</th>\n      <th>last_pc_12_qualification_date</th>\n      <th>data_production_year</th>\n      <th>hire_year</th>\n      <th>hire_month</th>\n      <th>hire_day</th>\n      <th>uid</th>\n    </tr>\n    <tr>\n      <th>uid</th>\n      <th></th>\n      <th></th>\n      <th></th>\n      <th></th>\n      <th></th>\n      <th></th>\n      <th></th>\n      <th></th>\n      <th></th>\n      <th></th>\n      <th></th>\n    </tr>\n  </thead>\n  <tbody>\n    <tr>\n      <th>66a38732098548ea5151f425af9d29ec</th>\n      <td>la state police</td>\n      <td>guillory</td>\n      <td>harlan</td>\n      <td>full-time</td>\n      <td>1994-09-26</td>\n      <td>2020-10-29</td>\n      <td>2020</td>\n      <td>1994.0</td>\n      <td>6.0</td>\n      <td>19.0</td>\n      <td>66a38732098548ea5151f425af9d29ec</td>\n    </tr>\n    <tr>\n      <th>d44abd0c2d6f2039bf3ace7957b3687c</th>\n      <td>la state police</td>\n      <td>williams</td>\n      <td>derrell</td>\n      <td>full-time</td>\n      <td>1995-09-25</td>\n      <td>2020-10-29</td>\n      <td>2020</td>\n      <td>1995.0</td>\n      <td>6.0</td>\n      <td>18.0</td>\n      <td>d44abd0c2d6f2039bf3ace7957b3687c</td>\n    </tr>\n    <tr>\n      <th>9b595090652ef9540652bc894438906a</th>\n      <td>la state police</td>\n      <td>kelleher</td>\n      <td>adrian</td>\n      <td>full-time</td>\n      <td>1990-04-12</td>\n      <td>2020-10-29</td>\n      <td>2020</td>\n      <td>1990.0</td>\n      <td>1.0</td>\n      <td>20.0</td>\n      <td>9b595090652ef9540652bc894438906a</td>\n    </tr>\n    <tr>\n      <th>fab77af78b7bd87634e6f4654d5f2ee7</th>\n      <td>la state police</td>\n      <td>graphia</td>\n      <td>greg</td>\n      <td>full-time</td>\n      <td>1995-09-25</td>\n      <td>2020-10-29</td>\n      <td>2020</td>\n      <td>1995.0</td>\n      <td>6.0</td>\n      <td>18.0</td>\n      <td>fab77af78b7bd87634e6f4654d5f2ee7</td>\n    </tr>\n    <tr>\n      <th>79fe2de6c436fca60e8ab93aa7802147</th>\n      <td>la state police</td>\n      <td>jordan</td>\n      <td>phillip</td>\n      <td>full-time</td>\n      <td>1998-05-28</td>\n      <td>2020-10-29</td>\n      <td>2020</td>\n      <td>1998.0</td>\n      <td>1.0</td>\n      <td>24.0</td>\n      <td>79fe2de6c436fca60e8ab93aa7802147</td>\n    </tr>\n    <tr>\n      <th>...</th>\n      <td>...</td>\n      <td>...</td>\n      <td>...</td>\n      <td>...</td>\n      <td>...</td>\n      <td>...</td>\n      <td>...</td>\n      <td>...</td>\n      <td>...</td>\n      <td>...</td>\n      <td>...</td>\n    </tr>\n    <tr>\n      <th>0ea88c620315d118c14d2a47d85bbdba</th>\n      <td>la state police</td>\n      <td>mcneal</td>\n      <td>cody</td>\n      <td>full-time</td>\n      <td>2020-01-29</td>\n      <td>NaN</td>\n      <td>2020</td>\n      <td>2019.0</td>\n      <td>8.0</td>\n      <td>25.0</td>\n      <td>0ea88c620315d118c14d2a47d85bbdba</td>\n    </tr>\n    <tr>\n      <th>4951ce9fd8b46f1bf71b2f53d88bc636</th>\n      <td>la state police</td>\n      <td>moreau</td>\n      <td>hollie</td>\n      <td>full-time</td>\n      <td>NaN</td>\n      <td>NaN</td>\n      <td>2020</td>\n      <td>2019.0</td>\n      <td>8.0</td>\n      <td>25.0</td>\n      <td>4951ce9fd8b46f1bf71b2f53d88bc636</td>\n    </tr>\n    <tr>\n      <th>4e348a8e6a1d1e20cbc1d6be73a070f7</th>\n      <td>la state police</td>\n      <td>joffrion</td>\n      <td>thomas</td>\n      <td>part-time</td>\n      <td>NaN</td>\n      <td>NaN</td>\n      <td>2020</td>\n      <td>2019.0</td>\n      <td>2.0</td>\n      <td>12.0</td>\n      <td>4e348a8e6a1d1e20cbc1d6be73a070f7</td>\n    </tr>\n    <tr>\n      <th>6be61b2d24c704563b9f609bdf2f029a</th>\n      <td>la state police</td>\n      <td>bordelon</td>\n      <td>robert</td>\n      <td>part-time</td>\n      <td>1990-08-28</td>\n      <td>NaN</td>\n      <td>2020</td>\n      <td>2011.0</td>\n      <td>9.0</td>\n      <td>2.0</td>\n      <td>6be61b2d24c704563b9f609bdf2f029a</td>\n    </tr>\n    <tr>\n      <th>ff7261eb374e83a41c01d1abcf3e733e</th>\n      <td>la state police</td>\n      <td>daughtry</td>\n      <td>jack</td>\n      <td>reserve</td>\n      <td>NaN</td>\n      <td>NaN</td>\n      <td>2020</td>\n      <td>NaN</td>\n      <td>NaN</td>\n      <td>NaN</td>\n      <td>ff7261eb374e83a41c01d1abcf3e733e</td>\n    </tr>\n  </tbody>\n</table>\n<p>1464 rows × 11 columns</p>\n</div>"
     },
     "metadata": {},
     "execution_count": 4
    }
   ],
   "source": [
    "post = prepare_post_data()\n",
    "post"
   ]
  },
  {
   "cell_type": "code",
   "execution_count": 5,
   "metadata": {},
   "outputs": [
    {
     "output_type": "execute_result",
     "data": {
      "text/plain": [
       "     docket_no         appellant charging_supervisor       decision appealed  \\\n",
       "0      91-01-P             Berry             Flores          denied      Yes   \n",
       "1      91-02-O             Hanna             Flores         settled      NaN   \n",
       "2      91-03-2         Greenwood             Flores          denied      NaN   \n",
       "3      91-04-P             Giles             Flores          denied      NaN   \n",
       "4      91-05-O  Blackweldergetal             Flores       withdrawn      NaN   \n",
       "..         ...               ...                 ...            ...      ...   \n",
       "239    93-34-P           LeBlanc           Fontenot         granted      Yes   \n",
       "240  93-35-R/S        Louis Cook           Fontenot   granted 1,000      Yes   \n",
       "241  93-35-R/S          Williams           Fontenot   granted 1,000      Yes   \n",
       "242   09-180-S    Coddou Hayward                   E      dismissed      NaN   \n",
       "243   09-181-S    Coddou Hayward                   E      dismissed      NaN   \n",
       "\n",
       "            last_name first_name middle_initial filed_year filed_month  \\\n",
       "0               berry                                                    \n",
       "1               hanna                                                    \n",
       "2           greenwood                                                    \n",
       "3               giles                                                    \n",
       "4    blackweldergetal                                                    \n",
       "..                ...        ...            ...        ...         ...   \n",
       "239           leblanc                                                    \n",
       "240             louis       cook                                         \n",
       "241          williams                                                    \n",
       "242            coddou    hayward                      2009           1   \n",
       "243            coddou    hayward                      2009           7   \n",
       "\n",
       "    filed_day rendered_year rendered_month rendered_day  \\\n",
       "0                                                         \n",
       "1                                                         \n",
       "2                                                         \n",
       "3                                                         \n",
       "4                                                         \n",
       "..        ...           ...            ...          ...   \n",
       "239                                                       \n",
       "240                                                       \n",
       "241                                                       \n",
       "242        16          2009              9           17   \n",
       "243        20          2009              9           17   \n",
       "\n",
       "                     agency  data_production_year  \\\n",
       "0    Louisiana State Police                  2020   \n",
       "1    Louisiana State Police                  2020   \n",
       "2    Louisiana State Police                  2020   \n",
       "3    Louisiana State Police                  2020   \n",
       "4    Louisiana State Police                  2020   \n",
       "..                      ...                   ...   \n",
       "239  Louisiana State Police                  2020   \n",
       "240  Louisiana State Police                  2020   \n",
       "241  Louisiana State Police                  2020   \n",
       "242  Louisiana State Police                  2020   \n",
       "243  Louisiana State Police                  2020   \n",
       "\n",
       "                                  uid  \n",
       "0    975c55633484e123aa609b1636149153  \n",
       "1    b2cd1947500c072b64e82be6938d5870  \n",
       "2    aacb329c30d7f8869bf0db008296ef6a  \n",
       "3    865a6ed5c6e19f48b23e68132f1e20b7  \n",
       "4    5ecf4523cfc554609cc46af1b8b136a9  \n",
       "..                                ...  \n",
       "239  bd4dcd4d5ba6c95dc81a1c1d42e15ff9  \n",
       "240  04578b29ad4139f4568129b712dfa1a9  \n",
       "241  f715684990137f9113b125d1ef4ece7d  \n",
       "242  dfb34737599bb79d7e16431ef36b1b35  \n",
       "243  dfb34737599bb79d7e16431ef36b1b35  \n",
       "\n",
       "[244 rows x 17 columns]"
      ],
      "text/html": "<div>\n<style scoped>\n    .dataframe tbody tr th:only-of-type {\n        vertical-align: middle;\n    }\n\n    .dataframe tbody tr th {\n        vertical-align: top;\n    }\n\n    .dataframe thead th {\n        text-align: right;\n    }\n</style>\n<table border=\"1\" class=\"dataframe\">\n  <thead>\n    <tr style=\"text-align: right;\">\n      <th></th>\n      <th>docket_no</th>\n      <th>appellant</th>\n      <th>charging_supervisor</th>\n      <th>decision</th>\n      <th>appealed</th>\n      <th>last_name</th>\n      <th>first_name</th>\n      <th>middle_initial</th>\n      <th>filed_year</th>\n      <th>filed_month</th>\n      <th>filed_day</th>\n      <th>rendered_year</th>\n      <th>rendered_month</th>\n      <th>rendered_day</th>\n      <th>agency</th>\n      <th>data_production_year</th>\n      <th>uid</th>\n    </tr>\n  </thead>\n  <tbody>\n    <tr>\n      <th>0</th>\n      <td>91-01-P</td>\n      <td>Berry</td>\n      <td>Flores</td>\n      <td>denied</td>\n      <td>Yes</td>\n      <td>berry</td>\n      <td></td>\n      <td></td>\n      <td></td>\n      <td></td>\n      <td></td>\n      <td></td>\n      <td></td>\n      <td></td>\n      <td>Louisiana State Police</td>\n      <td>2020</td>\n      <td>975c55633484e123aa609b1636149153</td>\n    </tr>\n    <tr>\n      <th>1</th>\n      <td>91-02-O</td>\n      <td>Hanna</td>\n      <td>Flores</td>\n      <td>settled</td>\n      <td>NaN</td>\n      <td>hanna</td>\n      <td></td>\n      <td></td>\n      <td></td>\n      <td></td>\n      <td></td>\n      <td></td>\n      <td></td>\n      <td></td>\n      <td>Louisiana State Police</td>\n      <td>2020</td>\n      <td>b2cd1947500c072b64e82be6938d5870</td>\n    </tr>\n    <tr>\n      <th>2</th>\n      <td>91-03-2</td>\n      <td>Greenwood</td>\n      <td>Flores</td>\n      <td>denied</td>\n      <td>NaN</td>\n      <td>greenwood</td>\n      <td></td>\n      <td></td>\n      <td></td>\n      <td></td>\n      <td></td>\n      <td></td>\n      <td></td>\n      <td></td>\n      <td>Louisiana State Police</td>\n      <td>2020</td>\n      <td>aacb329c30d7f8869bf0db008296ef6a</td>\n    </tr>\n    <tr>\n      <th>3</th>\n      <td>91-04-P</td>\n      <td>Giles</td>\n      <td>Flores</td>\n      <td>denied</td>\n      <td>NaN</td>\n      <td>giles</td>\n      <td></td>\n      <td></td>\n      <td></td>\n      <td></td>\n      <td></td>\n      <td></td>\n      <td></td>\n      <td></td>\n      <td>Louisiana State Police</td>\n      <td>2020</td>\n      <td>865a6ed5c6e19f48b23e68132f1e20b7</td>\n    </tr>\n    <tr>\n      <th>4</th>\n      <td>91-05-O</td>\n      <td>Blackweldergetal</td>\n      <td>Flores</td>\n      <td>withdrawn</td>\n      <td>NaN</td>\n      <td>blackweldergetal</td>\n      <td></td>\n      <td></td>\n      <td></td>\n      <td></td>\n      <td></td>\n      <td></td>\n      <td></td>\n      <td></td>\n      <td>Louisiana State Police</td>\n      <td>2020</td>\n      <td>5ecf4523cfc554609cc46af1b8b136a9</td>\n    </tr>\n    <tr>\n      <th>...</th>\n      <td>...</td>\n      <td>...</td>\n      <td>...</td>\n      <td>...</td>\n      <td>...</td>\n      <td>...</td>\n      <td>...</td>\n      <td>...</td>\n      <td>...</td>\n      <td>...</td>\n      <td>...</td>\n      <td>...</td>\n      <td>...</td>\n      <td>...</td>\n      <td>...</td>\n      <td>...</td>\n      <td>...</td>\n    </tr>\n    <tr>\n      <th>239</th>\n      <td>93-34-P</td>\n      <td>LeBlanc</td>\n      <td>Fontenot</td>\n      <td>granted</td>\n      <td>Yes</td>\n      <td>leblanc</td>\n      <td></td>\n      <td></td>\n      <td></td>\n      <td></td>\n      <td></td>\n      <td></td>\n      <td></td>\n      <td></td>\n      <td>Louisiana State Police</td>\n      <td>2020</td>\n      <td>bd4dcd4d5ba6c95dc81a1c1d42e15ff9</td>\n    </tr>\n    <tr>\n      <th>240</th>\n      <td>93-35-R/S</td>\n      <td>Louis Cook</td>\n      <td>Fontenot</td>\n      <td>granted 1,000</td>\n      <td>Yes</td>\n      <td>louis</td>\n      <td>cook</td>\n      <td></td>\n      <td></td>\n      <td></td>\n      <td></td>\n      <td></td>\n      <td></td>\n      <td></td>\n      <td>Louisiana State Police</td>\n      <td>2020</td>\n      <td>04578b29ad4139f4568129b712dfa1a9</td>\n    </tr>\n    <tr>\n      <th>241</th>\n      <td>93-35-R/S</td>\n      <td>Williams</td>\n      <td>Fontenot</td>\n      <td>granted 1,000</td>\n      <td>Yes</td>\n      <td>williams</td>\n      <td></td>\n      <td></td>\n      <td></td>\n      <td></td>\n      <td></td>\n      <td></td>\n      <td></td>\n      <td></td>\n      <td>Louisiana State Police</td>\n      <td>2020</td>\n      <td>f715684990137f9113b125d1ef4ece7d</td>\n    </tr>\n    <tr>\n      <th>242</th>\n      <td>09-180-S</td>\n      <td>Coddou Hayward</td>\n      <td>E</td>\n      <td>dismissed</td>\n      <td>NaN</td>\n      <td>coddou</td>\n      <td>hayward</td>\n      <td></td>\n      <td>2009</td>\n      <td>1</td>\n      <td>16</td>\n      <td>2009</td>\n      <td>9</td>\n      <td>17</td>\n      <td>Louisiana State Police</td>\n      <td>2020</td>\n      <td>dfb34737599bb79d7e16431ef36b1b35</td>\n    </tr>\n    <tr>\n      <th>243</th>\n      <td>09-181-S</td>\n      <td>Coddou Hayward</td>\n      <td>E</td>\n      <td>dismissed</td>\n      <td>NaN</td>\n      <td>coddou</td>\n      <td>hayward</td>\n      <td></td>\n      <td>2009</td>\n      <td>7</td>\n      <td>20</td>\n      <td>2009</td>\n      <td>9</td>\n      <td>17</td>\n      <td>Louisiana State Police</td>\n      <td>2020</td>\n      <td>dfb34737599bb79d7e16431ef36b1b35</td>\n    </tr>\n  </tbody>\n</table>\n<p>244 rows × 17 columns</p>\n</div>"
     },
     "metadata": {},
     "execution_count": 5
    }
   ],
   "source": [
    "lprr = match_post(df, post)\n",
    "lprr"
   ]
  },
  {
   "cell_type": "code",
   "execution_count": 6,
   "metadata": {},
   "outputs": [
    {
     "output_type": "execute_result",
     "data": {
      "text/plain": [
       "                   colonel            service_years\n",
       "0          Louis F. Guerre  07/28/1936 - 05/13/1940\n",
       "1             Steve Alford  05/14/1940 - 01/31/1943\n",
       "2         Wilbur D. Atkins  02/01/1943 - 05/13/1948\n",
       "3            Goldman Grant  05/14/1948 - 07/09/1950\n",
       "4          Murphy J. Roden  07/10/1950 - 07/01/1951\n",
       "5       Francis Grevemberg  05/13/1952 - 10/10/1955\n",
       "6            John N. Brown  05/15/1956 - 06/26/1959\n",
       "7                E. P. Roy  06/26/1959 - 05/11/1960\n",
       "8           Thomas Burbank  05/11/1960 - 01/31/1969\n",
       "9               David Wade  02/01/1969 - 07/01/1969\n",
       "10       Stanley Berthelot  09/05/1969 - 05/09/1972\n",
       "11    Donald J. Thibodeaux  05/10/1972 - 07/31/1976\n",
       "12       Malcolm R. Millet  08/01/1976 - 11/01/1976\n",
       "13      Grover W. Garrison  11/08/1976 - 01/03/1984\n",
       "14            J. C. Willie  01/01/1984 - 03/12/1984\n",
       "15      Wiley D. McCormick  03/12/1984 - 11/15/1987\n",
       "16            J. C. Willie  11/15/1987 - 03/28/1988\n",
       "17        Marlin A. Flores  03/29/1988 - 01/13/1992\n",
       "18           Paul Fontenot  01/13/1992 - 01/08/1996\n",
       "19  William R. Whittington  01/08/1996 - 07/28/2000\n",
       "20         Terry C. Landry  07/28/2000 - 01/12/2004\n",
       "21         Henry Whitehorn  01/12/2004 - 07/19/2007\n",
       "22         Stanley Griffin  07/19/2007 - 01/14/2008\n",
       "23     Michael D. Edmonson  01/14/2008 - 03/24/2017\n",
       "24         Kevin W. Reeves  03/25/2017 - 10/30/2020\n",
       "25          Lamar A. Davis     10/30/2020 - present"
      ],
      "text/html": "<div>\n<style scoped>\n    .dataframe tbody tr th:only-of-type {\n        vertical-align: middle;\n    }\n\n    .dataframe tbody tr th {\n        vertical-align: top;\n    }\n\n    .dataframe thead th {\n        text-align: right;\n    }\n</style>\n<table border=\"1\" class=\"dataframe\">\n  <thead>\n    <tr style=\"text-align: right;\">\n      <th></th>\n      <th>colonel</th>\n      <th>service_years</th>\n    </tr>\n  </thead>\n  <tbody>\n    <tr>\n      <th>0</th>\n      <td>Louis F. Guerre</td>\n      <td>07/28/1936 - 05/13/1940</td>\n    </tr>\n    <tr>\n      <th>1</th>\n      <td>Steve Alford</td>\n      <td>05/14/1940 - 01/31/1943</td>\n    </tr>\n    <tr>\n      <th>2</th>\n      <td>Wilbur D. Atkins</td>\n      <td>02/01/1943 - 05/13/1948</td>\n    </tr>\n    <tr>\n      <th>3</th>\n      <td>Goldman Grant</td>\n      <td>05/14/1948 - 07/09/1950</td>\n    </tr>\n    <tr>\n      <th>4</th>\n      <td>Murphy J. Roden</td>\n      <td>07/10/1950 - 07/01/1951</td>\n    </tr>\n    <tr>\n      <th>5</th>\n      <td>Francis Grevemberg</td>\n      <td>05/13/1952 - 10/10/1955</td>\n    </tr>\n    <tr>\n      <th>6</th>\n      <td>John N. Brown</td>\n      <td>05/15/1956 - 06/26/1959</td>\n    </tr>\n    <tr>\n      <th>7</th>\n      <td>E. P. Roy</td>\n      <td>06/26/1959 - 05/11/1960</td>\n    </tr>\n    <tr>\n      <th>8</th>\n      <td>Thomas Burbank</td>\n      <td>05/11/1960 - 01/31/1969</td>\n    </tr>\n    <tr>\n      <th>9</th>\n      <td>David Wade</td>\n      <td>02/01/1969 - 07/01/1969</td>\n    </tr>\n    <tr>\n      <th>10</th>\n      <td>Stanley Berthelot</td>\n      <td>09/05/1969 - 05/09/1972</td>\n    </tr>\n    <tr>\n      <th>11</th>\n      <td>Donald J. Thibodeaux</td>\n      <td>05/10/1972 - 07/31/1976</td>\n    </tr>\n    <tr>\n      <th>12</th>\n      <td>Malcolm R. Millet</td>\n      <td>08/01/1976 - 11/01/1976</td>\n    </tr>\n    <tr>\n      <th>13</th>\n      <td>Grover W. Garrison</td>\n      <td>11/08/1976 - 01/03/1984</td>\n    </tr>\n    <tr>\n      <th>14</th>\n      <td>J. C. Willie</td>\n      <td>01/01/1984 - 03/12/1984</td>\n    </tr>\n    <tr>\n      <th>15</th>\n      <td>Wiley D. McCormick</td>\n      <td>03/12/1984 - 11/15/1987</td>\n    </tr>\n    <tr>\n      <th>16</th>\n      <td>J. C. Willie</td>\n      <td>11/15/1987 - 03/28/1988</td>\n    </tr>\n    <tr>\n      <th>17</th>\n      <td>Marlin A. Flores</td>\n      <td>03/29/1988 - 01/13/1992</td>\n    </tr>\n    <tr>\n      <th>18</th>\n      <td>Paul Fontenot</td>\n      <td>01/13/1992 - 01/08/1996</td>\n    </tr>\n    <tr>\n      <th>19</th>\n      <td>William R. Whittington</td>\n      <td>01/08/1996 - 07/28/2000</td>\n    </tr>\n    <tr>\n      <th>20</th>\n      <td>Terry C. Landry</td>\n      <td>07/28/2000 - 01/12/2004</td>\n    </tr>\n    <tr>\n      <th>21</th>\n      <td>Henry Whitehorn</td>\n      <td>01/12/2004 - 07/19/2007</td>\n    </tr>\n    <tr>\n      <th>22</th>\n      <td>Stanley Griffin</td>\n      <td>07/19/2007 - 01/14/2008</td>\n    </tr>\n    <tr>\n      <th>23</th>\n      <td>Michael D. Edmonson</td>\n      <td>01/14/2008 - 03/24/2017</td>\n    </tr>\n    <tr>\n      <th>24</th>\n      <td>Kevin W. Reeves</td>\n      <td>03/25/2017 - 10/30/2020</td>\n    </tr>\n    <tr>\n      <th>25</th>\n      <td>Lamar A. Davis</td>\n      <td>10/30/2020 - present</td>\n    </tr>\n  </tbody>\n</table>\n</div>"
     },
     "metadata": {},
     "execution_count": 6
    }
   ],
   "source": [
    "colonels = pd.read_csv('../data/louisiana_state_csc/colonel_full_names.csv')\n",
    "colonels"
   ]
  },
  {
   "cell_type": "code",
   "execution_count": 20,
   "metadata": {},
   "outputs": [
    {
     "output_type": "execute_result",
     "data": {
      "text/plain": [
       "Empty DataFrame\n",
       "Columns: [agency, last_name, first_name, employment_status, level_1_cert_date, last_pc_12_qualification_date, data_production_year, hire_year, hire_month, hire_day, uid]\n",
       "Index: []"
      ],
      "text/html": "<div>\n<style scoped>\n    .dataframe tbody tr th:only-of-type {\n        vertical-align: middle;\n    }\n\n    .dataframe tbody tr th {\n        vertical-align: top;\n    }\n\n    .dataframe thead th {\n        text-align: right;\n    }\n</style>\n<table border=\"1\" class=\"dataframe\">\n  <thead>\n    <tr style=\"text-align: right;\">\n      <th></th>\n      <th>agency</th>\n      <th>last_name</th>\n      <th>first_name</th>\n      <th>employment_status</th>\n      <th>level_1_cert_date</th>\n      <th>last_pc_12_qualification_date</th>\n      <th>data_production_year</th>\n      <th>hire_year</th>\n      <th>hire_month</th>\n      <th>hire_day</th>\n      <th>uid</th>\n    </tr>\n    <tr>\n      <th>uid</th>\n      <th></th>\n      <th></th>\n      <th></th>\n      <th></th>\n      <th></th>\n      <th></th>\n      <th></th>\n      <th></th>\n      <th></th>\n      <th></th>\n      <th></th>\n    </tr>\n  </thead>\n  <tbody>\n  </tbody>\n</table>\n</div>"
     },
     "metadata": {},
     "execution_count": 20
    }
   ],
   "source": [
    "post[post.last_name == 'Thibodeaux']"
   ]
  },
  {
   "cell_type": "code",
   "execution_count": null,
   "metadata": {},
   "outputs": [],
   "source": []
  }
 ]
}
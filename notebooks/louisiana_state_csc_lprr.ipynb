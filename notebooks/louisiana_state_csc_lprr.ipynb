{
 "metadata": {
  "language_info": {
   "codemirror_mode": {
    "name": "ipython",
    "version": 3
   },
   "file_extension": ".py",
   "mimetype": "text/x-python",
   "name": "python",
   "nbconvert_exporter": "python",
   "pygments_lexer": "ipython3",
   "version": "3.8.3-final"
  },
  "orig_nbformat": 2,
  "kernelspec": {
   "name": "python3",
   "display_name": "Python 3",
   "language": "python"
  }
 },
 "nbformat": 4,
 "nbformat_minor": 2,
 "cells": [
  {
   "cell_type": "code",
   "execution_count": 1,
   "metadata": {},
   "outputs": [],
   "source": [
    "import sys; sys.path.append(\"../\")\n",
    "\n",
    "import pandas as pd\n",
    "\n",
    "from lib.explore import show_unique\n",
    "from clean.louisiana_state_csc_lprr import clean"
   ]
  },
  {
   "cell_type": "code",
   "execution_count": 2,
   "metadata": {},
   "outputs": [
    {
     "output_type": "execute_result",
     "data": {
      "text/plain": [
       "    docket_no          appellant charging_supervisor  filed_date  \\\n",
       "0    91-01-P              Berry              Flores          NaN   \n",
       "1     91-02-O             Hanna              Flores          NaN   \n",
       "2    91-03-2          Greenwood              Flores          NaN   \n",
       "3    91-04-P              Giles              Flores          NaN   \n",
       "4     91-05-O  Blackweldergetal              Flores          NaN   \n",
       "..        ...                ...                 ...         ...   \n",
       "235  18-243-S        Eric Curlee                   R  11/20/2018   \n",
       "236  19-244-T    Sheldon Perkins                   R   10/1/2019   \n",
       "237  20-245-T      Joey Schouest                   R    3/5/2020   \n",
       "238  20-246-T  Santigo St. Clair                   R    4/6/2020   \n",
       "239  20-247-S       Trahan, John                   R   4/24/2020   \n",
       "\n",
       "    rendered_date    decision    delay appealed  \n",
       "0             NaN     Denied       NaN     Yes   \n",
       "1             NaN    Settled       NaN      NaN  \n",
       "2             NaN     Denied       NaN      NaN  \n",
       "3             NaN     Denied       NaN      NaN  \n",
       "4             NaN  Withdrawn       NaN      NaN  \n",
       "..            ...         ...      ...      ...  \n",
       "235     3/12/2020    Settled   3.8 mos      NaN  \n",
       "236           NaN         NaN      NaN      NaN  \n",
       "237           NaN         NaN      NaN      NaN  \n",
       "238           NaN         NaN      NaN      NaN  \n",
       "239     9/10/2020      denied  3.5 mos      NaN  \n",
       "\n",
       "[240 rows x 8 columns]"
      ],
      "text/html": "<div>\n<style scoped>\n    .dataframe tbody tr th:only-of-type {\n        vertical-align: middle;\n    }\n\n    .dataframe tbody tr th {\n        vertical-align: top;\n    }\n\n    .dataframe thead th {\n        text-align: right;\n    }\n</style>\n<table border=\"1\" class=\"dataframe\">\n  <thead>\n    <tr style=\"text-align: right;\">\n      <th></th>\n      <th>docket_no</th>\n      <th>appellant</th>\n      <th>charging_supervisor</th>\n      <th>filed_date</th>\n      <th>rendered_date</th>\n      <th>decision</th>\n      <th>delay</th>\n      <th>appealed</th>\n    </tr>\n  </thead>\n  <tbody>\n    <tr>\n      <th>0</th>\n      <td>91-01-P</td>\n      <td>Berry</td>\n      <td>Flores</td>\n      <td>NaN</td>\n      <td>NaN</td>\n      <td>Denied</td>\n      <td>NaN</td>\n      <td>Yes</td>\n    </tr>\n    <tr>\n      <th>1</th>\n      <td>91-02-O</td>\n      <td>Hanna</td>\n      <td>Flores</td>\n      <td>NaN</td>\n      <td>NaN</td>\n      <td>Settled</td>\n      <td>NaN</td>\n      <td>NaN</td>\n    </tr>\n    <tr>\n      <th>2</th>\n      <td>91-03-2</td>\n      <td>Greenwood</td>\n      <td>Flores</td>\n      <td>NaN</td>\n      <td>NaN</td>\n      <td>Denied</td>\n      <td>NaN</td>\n      <td>NaN</td>\n    </tr>\n    <tr>\n      <th>3</th>\n      <td>91-04-P</td>\n      <td>Giles</td>\n      <td>Flores</td>\n      <td>NaN</td>\n      <td>NaN</td>\n      <td>Denied</td>\n      <td>NaN</td>\n      <td>NaN</td>\n    </tr>\n    <tr>\n      <th>4</th>\n      <td>91-05-O</td>\n      <td>Blackweldergetal</td>\n      <td>Flores</td>\n      <td>NaN</td>\n      <td>NaN</td>\n      <td>Withdrawn</td>\n      <td>NaN</td>\n      <td>NaN</td>\n    </tr>\n    <tr>\n      <th>...</th>\n      <td>...</td>\n      <td>...</td>\n      <td>...</td>\n      <td>...</td>\n      <td>...</td>\n      <td>...</td>\n      <td>...</td>\n      <td>...</td>\n    </tr>\n    <tr>\n      <th>235</th>\n      <td>18-243-S</td>\n      <td>Eric Curlee</td>\n      <td>R</td>\n      <td>11/20/2018</td>\n      <td>3/12/2020</td>\n      <td>Settled</td>\n      <td>3.8 mos</td>\n      <td>NaN</td>\n    </tr>\n    <tr>\n      <th>236</th>\n      <td>19-244-T</td>\n      <td>Sheldon Perkins</td>\n      <td>R</td>\n      <td>10/1/2019</td>\n      <td>NaN</td>\n      <td>NaN</td>\n      <td>NaN</td>\n      <td>NaN</td>\n    </tr>\n    <tr>\n      <th>237</th>\n      <td>20-245-T</td>\n      <td>Joey Schouest</td>\n      <td>R</td>\n      <td>3/5/2020</td>\n      <td>NaN</td>\n      <td>NaN</td>\n      <td>NaN</td>\n      <td>NaN</td>\n    </tr>\n    <tr>\n      <th>238</th>\n      <td>20-246-T</td>\n      <td>Santigo St. Clair</td>\n      <td>R</td>\n      <td>4/6/2020</td>\n      <td>NaN</td>\n      <td>NaN</td>\n      <td>NaN</td>\n      <td>NaN</td>\n    </tr>\n    <tr>\n      <th>239</th>\n      <td>20-247-S</td>\n      <td>Trahan, John</td>\n      <td>R</td>\n      <td>4/24/2020</td>\n      <td>9/10/2020</td>\n      <td>denied</td>\n      <td>3.5 mos</td>\n      <td>NaN</td>\n    </tr>\n  </tbody>\n</table>\n<p>240 rows × 8 columns</p>\n</div>"
     },
     "metadata": {},
     "execution_count": 2
    }
   ],
   "source": [
    "df = clean()\n",
    "df"
   ]
  },
  {
   "cell_type": "code",
   "execution_count": 6,
   "metadata": {},
   "outputs": [
    {
     "output_type": "execute_result",
     "data": {
      "text/plain": [
       "array(['Berry ', 'Hanna ', 'Greenwood ', 'Giles ', 'Blackweldergetal ',\n",
       "       'Lee ', 'Louitere ', 'Guthrie ', 'Little ', 'Piazza ', 'Laveryne ',\n",
       "       'PI Wicker ', 'PI Carpenter ', 'Lewis ', 'Overfelt ', 'Hughes ',\n",
       "       'Sappington ', 'DiBenedetto ', 'Evans ', 'Briscoe ', 'Scott ',\n",
       "       'Hilburn ', 'Matte/Perry ', 'Temple ', 'Lavergne ', 'Rodrigue ',\n",
       "       'Dawson ', 'Gobert ', 'Erwin ', 'Christian ', 'Fox ',\n",
       "       'Allison-LeBlanc ', 'Cook/Williams ', 'Kuhnest ', 'May ',\n",
       "       'Mensman ', 'Smith ', 'Guilbeaux ', 'Vines ', 'Moreau ', 'Achord ',\n",
       "       'Moore ', 'Harrison ', 'Robichaux', 'Baker ', 'Favor ', 'Landry ',\n",
       "       'Lamby ', 'Diddon ', 'Thomas ', 'Mistretta J. ', 'LeBlanc',\n",
       "       'Antoine ', 'Taylor ', 'Johnson ', 'Gibbs. Henderson ',\n",
       "       'Johnson, Kevin ', 'Jordan, Jay ', 'Howard, Bobby ',\n",
       "       'Zaunbrecher, Martin ', 'Temple, Johnell ', 'Lyons, John ',\n",
       "       'Lott, Thomas ', 'Lentini, Joseph ', 'Harrison, Troy ',\n",
       "       'Ross, Clennard ', 'Chisholm, Thomas ', 'Mistretta, Jennifer ',\n",
       "       'Landry, Robert ', 'McGuane, James ', 'Montgomery, RL ',\n",
       "       'Johnson, Ben ', 'Morgan, Dane ', 'English, Malcolm ',\n",
       "       'Derrick, Michael ', 'Bentley, James ', 'Campbell, Steven ',\n",
       "       'Bailey, Kenneth ', 'Shank, Edward ', 'Westerman, Timmy ',\n",
       "       'Brooks, Michael ', 'Cooper, Larry ', 'Smith, Kermit ',\n",
       "       'Sandifer, Jay ', 'Leonard, Michael ', 'Bender, Timnthy ',\n",
       "       'Bailey, Kenneth D.', 'Berry, Jr., Reuben O. ', 'Brown, Robert ',\n",
       "       'Fox, Ricky D.', 'Phenix, Keith', 'Guilbeaux. Robert ',\n",
       "       'Fitzpatrick, Timothy', 'Matte, Blaine', 'Crawford, Stanley',\n",
       "       'Cameron, Bobby', 'Johnson, Walter ', 'Jacobson, James',\n",
       "       'McLeary, Lawrence', 'Bascle, Mark', 'Riley, Ryan',\n",
       "       'Bailey, Kenneth', 'Raley, Ted ', 'Neal, John',\n",
       "       'Hartzog, John W. ', 'McGarity, Chris', 'Chappell, Frederick ',\n",
       "       'Willis, Grattis', 'Pierce, Jr., Donald ', 'Riley, Ryan ',\n",
       "       'Porter, Byron', 'Smith, Hershel', 'Drake, Robert',\n",
       "       'Thaxton. Jimmy ', 'Buchanan, Chris', 'Chappell, Frederick',\n",
       "       'Eskine, Ryan ', 'Barnes, Wade', 'Hanks, Tim', 'Fleming, Richard',\n",
       "       'Moore, Moana', 'Whittaker, Jett, Vaughn', 'Moreau, Danny',\n",
       "       'Argrave, Jeffrey', 'Matte, John B ', 'Peters, John R',\n",
       "       'Baum, Stephen', 'Quispe, Esteban I', 'Thomas, Dominic',\n",
       "       'Jones, Matt', 'Trahan, Rhett', 'Miller, Kevin',\n",
       "       'Mack, Jr., Claudell ', 'Simmons, Christopher ', 'Parker, John ',\n",
       "       'Landry, Derek M', 'Guidry, Craig', 'Midalgo, Randy ',\n",
       "       'Green, William ', \"Raphacter. Nigel'M \", 'Starnes, Jason',\n",
       "       'Vachula, Linda', 'Clesi, Gerard', 'Woodward, William ',\n",
       "       'Rhone, Ronald ', 'Landry, Derek ', 'Boyer, Chad M', 'Huval, Todd',\n",
       "       'McCloud, Brett A', 'Cannon, James', 'Lapeyrolerie, Brian',\n",
       "       'Craig, Timothy', 'Cummings, David', 'Roberts, Ryan',\n",
       "       'Furca, Ronald', 'Ducoti, Michael V', 'Coddou, Hayward',\n",
       "       'Thibodeaux, Benjamin', \"D'Berry, Jr. Reuben\", 'Dauzat, John',\n",
       "       'Coddou, Hywaard', 'Bryant, David', 'Sanders, Ronald',\n",
       "       'Poe, Brandon', 'Poe, Willliam \"Jason\"', 'Bobby, Camarn ',\n",
       "       'Jay, Sandifer ', 'Branton, Barry', 'Belong, Phillip',\n",
       "       'Lamarca, Jason', 'Ivy, Christopher T', 'Woodward, Willam ',\n",
       "       'Gray, Timothy', 'Bordelon, Rohm', 'Summerford, Jones',\n",
       "       'McCloud, Brett', 'Ardoin, Brian ', 'Gregory, Pleasant',\n",
       "       'David Lacroix ', 'Brett McCloud ', 'Ryan Roberts ',\n",
       "       'Jeremy Kimble ', 'Irving Pawl Benoit ', 'Darren Riley ',\n",
       "       'Scott Butler ', 'Ben LaPoint ', 'Adrian Brown ',\n",
       "       'Tracy Plaigance ', 'Damier Dyson ', 'Corey Jackson ',\n",
       "       'Chris, Guillroy', 'Waylon Busby ', 'Rodney Hyatt ',\n",
       "       'Joseph Jones', 'Burnell L. DeDeaux ', 'Eric Curlee ',\n",
       "       'Dereck Clark', 'Wayne Taylor', 'Daryl Thomas', 'Sheldon Perlong',\n",
       "       'Joey Schouest ', 'Tantiago St. Clair', 'Truhan John ',\n",
       "       'Rodney Hyatt', 'Burnell L. Dedeaux', 'Eric Curlee',\n",
       "       'Sheldon Perkins', 'Joey Schouest', 'Santigo St. Clair',\n",
       "       'Trahan, John'], dtype=object)"
      ]
     },
     "metadata": {},
     "execution_count": 6
    }
   ],
   "source": [
    "df.appellant.unique()"
   ]
  },
  {
   "cell_type": "code",
   "execution_count": null,
   "metadata": {},
   "outputs": [],
   "source": []
  }
 ]
}
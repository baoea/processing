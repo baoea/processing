{
 "metadata": {
  "language_info": {
   "codemirror_mode": {
    "name": "ipython",
    "version": 3
   },
   "file_extension": ".py",
   "mimetype": "text/x-python",
   "name": "python",
   "nbconvert_exporter": "python",
   "pygments_lexer": "ipython3",
   "version": "3.8.3-final"
  },
  "orig_nbformat": 2,
  "kernelspec": {
   "name": "python3",
   "display_name": "Python 3",
   "language": "python"
  }
 },
 "nbformat": 4,
 "nbformat_minor": 2,
 "cells": [
  {
   "cell_type": "code",
   "execution_count": 1,
   "metadata": {},
   "outputs": [],
   "source": [
    "import sys; sys.path.append(\"../\")\n",
    "\n",
    "import pandas as pd\n",
    "\n",
    "from lib.explore import show_unique\n",
    "from clean.louisiana_state_csc_lprr import clean"
   ]
  },
  {
   "cell_type": "code",
   "execution_count": 2,
   "metadata": {},
   "outputs": [
    {
     "output_type": "execute_result",
     "data": {
      "text/plain": [
       "    docket_no          appellant charging_supervisor  filed_date  \\\n",
       "0    91-01-P              Berry              Flores          NaN   \n",
       "1     91-02-O             Hanna              Flores          NaN   \n",
       "2    91-03-2          Greenwood              Flores          NaN   \n",
       "3    91-04-P              Giles              Flores          NaN   \n",
       "4     91-05-O  Blackweldergetal              Flores          NaN   \n",
       "..        ...                ...                 ...         ...   \n",
       "235  18-243-S        Eric Curlee                   R  11/20/2018   \n",
       "236  19-244-T    Sheldon Perkins                   R   10/1/2019   \n",
       "237  20-245-T      Joey Schouest                   R    3/5/2020   \n",
       "238  20-246-T  Santigo St. Clair                   R    4/6/2020   \n",
       "239  20-247-S       Trahan, John                   R   4/24/2020   \n",
       "\n",
       "    rendered_date    decision    delay appealed  \n",
       "0             NaN     Denied       NaN     Yes   \n",
       "1             NaN    Settled       NaN      NaN  \n",
       "2             NaN     Denied       NaN      NaN  \n",
       "3             NaN     Denied       NaN      NaN  \n",
       "4             NaN  Withdrawn       NaN      NaN  \n",
       "..            ...         ...      ...      ...  \n",
       "235     3/12/2020    Settled   3.8 mos      NaN  \n",
       "236           NaN         NaN      NaN      NaN  \n",
       "237           NaN         NaN      NaN      NaN  \n",
       "238           NaN         NaN      NaN      NaN  \n",
       "239     9/10/2020      denied  3.5 mos      NaN  \n",
       "\n",
       "[240 rows x 8 columns]"
      ],
      "text/html": "<div>\n<style scoped>\n    .dataframe tbody tr th:only-of-type {\n        vertical-align: middle;\n    }\n\n    .dataframe tbody tr th {\n        vertical-align: top;\n    }\n\n    .dataframe thead th {\n        text-align: right;\n    }\n</style>\n<table border=\"1\" class=\"dataframe\">\n  <thead>\n    <tr style=\"text-align: right;\">\n      <th></th>\n      <th>docket_no</th>\n      <th>appellant</th>\n      <th>charging_supervisor</th>\n      <th>filed_date</th>\n      <th>rendered_date</th>\n      <th>decision</th>\n      <th>delay</th>\n      <th>appealed</th>\n    </tr>\n  </thead>\n  <tbody>\n    <tr>\n      <th>0</th>\n      <td>91-01-P</td>\n      <td>Berry</td>\n      <td>Flores</td>\n      <td>NaN</td>\n      <td>NaN</td>\n      <td>Denied</td>\n      <td>NaN</td>\n      <td>Yes</td>\n    </tr>\n    <tr>\n      <th>1</th>\n      <td>91-02-O</td>\n      <td>Hanna</td>\n      <td>Flores</td>\n      <td>NaN</td>\n      <td>NaN</td>\n      <td>Settled</td>\n      <td>NaN</td>\n      <td>NaN</td>\n    </tr>\n    <tr>\n      <th>2</th>\n      <td>91-03-2</td>\n      <td>Greenwood</td>\n      <td>Flores</td>\n      <td>NaN</td>\n      <td>NaN</td>\n      <td>Denied</td>\n      <td>NaN</td>\n      <td>NaN</td>\n    </tr>\n    <tr>\n      <th>3</th>\n      <td>91-04-P</td>\n      <td>Giles</td>\n      <td>Flores</td>\n      <td>NaN</td>\n      <td>NaN</td>\n      <td>Denied</td>\n      <td>NaN</td>\n      <td>NaN</td>\n    </tr>\n    <tr>\n      <th>4</th>\n      <td>91-05-O</td>\n      <td>Blackweldergetal</td>\n      <td>Flores</td>\n      <td>NaN</td>\n      <td>NaN</td>\n      <td>Withdrawn</td>\n      <td>NaN</td>\n      <td>NaN</td>\n    </tr>\n    <tr>\n      <th>...</th>\n      <td>...</td>\n      <td>...</td>\n      <td>...</td>\n      <td>...</td>\n      <td>...</td>\n      <td>...</td>\n      <td>...</td>\n      <td>...</td>\n    </tr>\n    <tr>\n      <th>235</th>\n      <td>18-243-S</td>\n      <td>Eric Curlee</td>\n      <td>R</td>\n      <td>11/20/2018</td>\n      <td>3/12/2020</td>\n      <td>Settled</td>\n      <td>3.8 mos</td>\n      <td>NaN</td>\n    </tr>\n    <tr>\n      <th>236</th>\n      <td>19-244-T</td>\n      <td>Sheldon Perkins</td>\n      <td>R</td>\n      <td>10/1/2019</td>\n      <td>NaN</td>\n      <td>NaN</td>\n      <td>NaN</td>\n      <td>NaN</td>\n    </tr>\n    <tr>\n      <th>237</th>\n      <td>20-245-T</td>\n      <td>Joey Schouest</td>\n      <td>R</td>\n      <td>3/5/2020</td>\n      <td>NaN</td>\n      <td>NaN</td>\n      <td>NaN</td>\n      <td>NaN</td>\n    </tr>\n    <tr>\n      <th>238</th>\n      <td>20-246-T</td>\n      <td>Santigo St. Clair</td>\n      <td>R</td>\n      <td>4/6/2020</td>\n      <td>NaN</td>\n      <td>NaN</td>\n      <td>NaN</td>\n      <td>NaN</td>\n    </tr>\n    <tr>\n      <th>239</th>\n      <td>20-247-S</td>\n      <td>Trahan, John</td>\n      <td>R</td>\n      <td>4/24/2020</td>\n      <td>9/10/2020</td>\n      <td>denied</td>\n      <td>3.5 mos</td>\n      <td>NaN</td>\n    </tr>\n  </tbody>\n</table>\n<p>240 rows × 8 columns</p>\n</div>"
     },
     "metadata": {},
     "execution_count": 2
    }
   ],
   "source": [
    "df = clean()\n",
    "df"
   ]
  },
  {
   "cell_type": "code",
   "execution_count": 10,
   "metadata": {},
   "outputs": [
    {
     "output_type": "execute_result",
     "data": {
      "text/plain": [
       "   docket_no          appellant charging_supervisor filed_date rendered_date  \\\n",
       "0   91-01-P              Berry              Flores         NaN           NaN   \n",
       "1    91-02-O             Hanna              Flores         NaN           NaN   \n",
       "2   91-03-2          Greenwood              Flores         NaN           NaN   \n",
       "3   91-04-P              Giles              Flores         NaN           NaN   \n",
       "4    91-05-O  Blackweldergetal              Flores         NaN           NaN   \n",
       "..       ...                ...                 ...        ...           ...   \n",
       "59   94-63-O            LeBlanc           Fontenot         NaN           NaN   \n",
       "60   94-64-T           Antoine            Fontenot         NaN           NaN   \n",
       "61   95-65-S            Taylor            Fontenrt         NaN           NaN   \n",
       "62   95-66-S           Johnson            Fontenot         NaN           NaN   \n",
       "63   95-67-S           Hilburn            Fontenot         NaN           NaN   \n",
       "\n",
       "            decision delay appealed  \n",
       "0            Denied    NaN     Yes   \n",
       "1           Settled    NaN      NaN  \n",
       "2            Denied    NaN      NaN  \n",
       "3            Denied    NaN      NaN  \n",
       "4         Withdrawn    NaN      NaN  \n",
       "..               ...   ...      ...  \n",
       "59               NaN   NaN      NaN  \n",
       "60           Denied    NaN     Yes   \n",
       "61  Action Modified    NaN      NaN  \n",
       "62           Denied    NaN      NaN  \n",
       "63       Settlement    NaN      NaN  \n",
       "\n",
       "[61 rows x 8 columns]"
      ],
      "text/html": "<div>\n<style scoped>\n    .dataframe tbody tr th:only-of-type {\n        vertical-align: middle;\n    }\n\n    .dataframe tbody tr th {\n        vertical-align: top;\n    }\n\n    .dataframe thead th {\n        text-align: right;\n    }\n</style>\n<table border=\"1\" class=\"dataframe\">\n  <thead>\n    <tr style=\"text-align: right;\">\n      <th></th>\n      <th>docket_no</th>\n      <th>appellant</th>\n      <th>charging_supervisor</th>\n      <th>filed_date</th>\n      <th>rendered_date</th>\n      <th>decision</th>\n      <th>delay</th>\n      <th>appealed</th>\n    </tr>\n  </thead>\n  <tbody>\n    <tr>\n      <th>0</th>\n      <td>91-01-P</td>\n      <td>Berry</td>\n      <td>Flores</td>\n      <td>NaN</td>\n      <td>NaN</td>\n      <td>Denied</td>\n      <td>NaN</td>\n      <td>Yes</td>\n    </tr>\n    <tr>\n      <th>1</th>\n      <td>91-02-O</td>\n      <td>Hanna</td>\n      <td>Flores</td>\n      <td>NaN</td>\n      <td>NaN</td>\n      <td>Settled</td>\n      <td>NaN</td>\n      <td>NaN</td>\n    </tr>\n    <tr>\n      <th>2</th>\n      <td>91-03-2</td>\n      <td>Greenwood</td>\n      <td>Flores</td>\n      <td>NaN</td>\n      <td>NaN</td>\n      <td>Denied</td>\n      <td>NaN</td>\n      <td>NaN</td>\n    </tr>\n    <tr>\n      <th>3</th>\n      <td>91-04-P</td>\n      <td>Giles</td>\n      <td>Flores</td>\n      <td>NaN</td>\n      <td>NaN</td>\n      <td>Denied</td>\n      <td>NaN</td>\n      <td>NaN</td>\n    </tr>\n    <tr>\n      <th>4</th>\n      <td>91-05-O</td>\n      <td>Blackweldergetal</td>\n      <td>Flores</td>\n      <td>NaN</td>\n      <td>NaN</td>\n      <td>Withdrawn</td>\n      <td>NaN</td>\n      <td>NaN</td>\n    </tr>\n    <tr>\n      <th>...</th>\n      <td>...</td>\n      <td>...</td>\n      <td>...</td>\n      <td>...</td>\n      <td>...</td>\n      <td>...</td>\n      <td>...</td>\n      <td>...</td>\n    </tr>\n    <tr>\n      <th>59</th>\n      <td>94-63-O</td>\n      <td>LeBlanc</td>\n      <td>Fontenot</td>\n      <td>NaN</td>\n      <td>NaN</td>\n      <td>NaN</td>\n      <td>NaN</td>\n      <td>NaN</td>\n    </tr>\n    <tr>\n      <th>60</th>\n      <td>94-64-T</td>\n      <td>Antoine</td>\n      <td>Fontenot</td>\n      <td>NaN</td>\n      <td>NaN</td>\n      <td>Denied</td>\n      <td>NaN</td>\n      <td>Yes</td>\n    </tr>\n    <tr>\n      <th>61</th>\n      <td>95-65-S</td>\n      <td>Taylor</td>\n      <td>Fontenrt</td>\n      <td>NaN</td>\n      <td>NaN</td>\n      <td>Action Modified</td>\n      <td>NaN</td>\n      <td>NaN</td>\n    </tr>\n    <tr>\n      <th>62</th>\n      <td>95-66-S</td>\n      <td>Johnson</td>\n      <td>Fontenot</td>\n      <td>NaN</td>\n      <td>NaN</td>\n      <td>Denied</td>\n      <td>NaN</td>\n      <td>NaN</td>\n    </tr>\n    <tr>\n      <th>63</th>\n      <td>95-67-S</td>\n      <td>Hilburn</td>\n      <td>Fontenot</td>\n      <td>NaN</td>\n      <td>NaN</td>\n      <td>Settlement</td>\n      <td>NaN</td>\n      <td>NaN</td>\n    </tr>\n  </tbody>\n</table>\n<p>61 rows × 8 columns</p>\n</div>"
     },
     "metadata": {},
     "execution_count": 10
    }
   ],
   "source": [
    "df[~df.appellant.str.strip().str.contains(\" \")]"
   ]
  },
  {
   "cell_type": "code",
   "execution_count": null,
   "metadata": {},
   "outputs": [],
   "source": []
  }
 ]
}
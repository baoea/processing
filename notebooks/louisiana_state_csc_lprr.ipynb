{
 "metadata": {
  "language_info": {
   "codemirror_mode": {
    "name": "ipython",
    "version": 3
   },
   "file_extension": ".py",
   "mimetype": "text/x-python",
   "name": "python",
   "nbconvert_exporter": "python",
   "pygments_lexer": "ipython3",
   "version": "3.8.3-final"
  },
  "orig_nbformat": 2,
  "kernelspec": {
   "name": "python3",
   "display_name": "Python 3",
   "language": "python"
  }
 },
 "nbformat": 4,
 "nbformat_minor": 2,
 "cells": [
  {
   "cell_type": "code",
   "execution_count": 1,
   "metadata": {},
   "outputs": [],
   "source": [
    "import sys; sys.path.append(\"../\")\n",
    "\n",
    "import pandas as pd\n",
    "\n",
    "from lib.explore import show_unique\n",
    "from clean.louisiana_state_csc_lprr import clean"
   ]
  },
  {
   "cell_type": "code",
   "execution_count": 2,
   "metadata": {},
   "outputs": [
    {
     "output_type": "execute_result",
     "data": {
      "text/plain": [
       "    docket_no representative resolution             delay appealed  last_name  \\\n",
       "0    07-166-R              w    settled          3 months            woodward   \n",
       "1    20-247-S              r     denied  3 months 14 days              truhan   \n",
       "2    20-246-T              r  withdrawn                              santiago   \n",
       "3    20-245-T              r     denied                                  joey   \n",
       "4    19-244-T              r                                          sheldon   \n",
       "..        ...            ...        ...               ...      ...        ...   \n",
       "171   92-18-O       fontenot  withdrawn                             benedetto   \n",
       "172   92-22-O       fontenot  withdrawn                             benedetto   \n",
       "173   92-23-S       fontenot  withdrawn                                 scott   \n",
       "174   93-28-S       fontenot  withdrawn                              rodrigue   \n",
       "175   93-30-P       fontenot  withdrawn                                gobert   \n",
       "\n",
       "    first_name middle_name middle_initial filed_year filed_month filed_day  \\\n",
       "0      william                                  2007           4        29   \n",
       "1         john                                  2020           4        24   \n",
       "2           st       clair              c       2020           4         6   \n",
       "3     schouest                                  2020           3         5   \n",
       "4      perlong                                  2019          10         1   \n",
       "..         ...         ...            ...        ...         ...       ...   \n",
       "171         di                                                               \n",
       "172         di                                                               \n",
       "173                                                                          \n",
       "174                                                                          \n",
       "175                                                                          \n",
       "\n",
       "    rendered_year rendered_month rendered_day  \\\n",
       "0            2007              5           17   \n",
       "1            2020              9           10   \n",
       "2                                               \n",
       "3                                               \n",
       "4                                               \n",
       "..            ...            ...          ...   \n",
       "171                                             \n",
       "172                                             \n",
       "173                                             \n",
       "174                                             \n",
       "175                                             \n",
       "\n",
       "                                  uid  \n",
       "0    6ca88c219a2112842740f47631679c3e  \n",
       "1    fd05096e9985626b66801cc106095b2c  \n",
       "2    0dbacd4fecf2a44d85b34aabfd0ced8b  \n",
       "3    50cbff1f269a45e2421070f94e4795c3  \n",
       "4    1d018618d920e82a3aca8009469d4c30  \n",
       "..                                ...  \n",
       "171  0ae13b63fe07611d8f3bd1be47136147  \n",
       "172  0ae13b63fe07611d8f3bd1be47136147  \n",
       "173  891d5b2837562ad506199c35864a6c68  \n",
       "174  f3eeb7277a2e0116d2416873b02089d4  \n",
       "175  9c9ecfc7f8bcaeed1c9d3fab0d3d28a0  \n",
       "\n",
       "[176 rows x 16 columns]"
      ],
      "text/html": "<div>\n<style scoped>\n    .dataframe tbody tr th:only-of-type {\n        vertical-align: middle;\n    }\n\n    .dataframe tbody tr th {\n        vertical-align: top;\n    }\n\n    .dataframe thead th {\n        text-align: right;\n    }\n</style>\n<table border=\"1\" class=\"dataframe\">\n  <thead>\n    <tr style=\"text-align: right;\">\n      <th></th>\n      <th>docket_no</th>\n      <th>representative</th>\n      <th>resolution</th>\n      <th>delay</th>\n      <th>appealed</th>\n      <th>last_name</th>\n      <th>first_name</th>\n      <th>middle_name</th>\n      <th>middle_initial</th>\n      <th>filed_year</th>\n      <th>filed_month</th>\n      <th>filed_day</th>\n      <th>rendered_year</th>\n      <th>rendered_month</th>\n      <th>rendered_day</th>\n      <th>uid</th>\n    </tr>\n  </thead>\n  <tbody>\n    <tr>\n      <th>0</th>\n      <td>07-166-R</td>\n      <td>w</td>\n      <td>settled</td>\n      <td>3 months</td>\n      <td></td>\n      <td>woodward</td>\n      <td>william</td>\n      <td></td>\n      <td></td>\n      <td>2007</td>\n      <td>4</td>\n      <td>29</td>\n      <td>2007</td>\n      <td>5</td>\n      <td>17</td>\n      <td>6ca88c219a2112842740f47631679c3e</td>\n    </tr>\n    <tr>\n      <th>1</th>\n      <td>20-247-S</td>\n      <td>r</td>\n      <td>denied</td>\n      <td>3 months 14 days</td>\n      <td></td>\n      <td>truhan</td>\n      <td>john</td>\n      <td></td>\n      <td></td>\n      <td>2020</td>\n      <td>4</td>\n      <td>24</td>\n      <td>2020</td>\n      <td>9</td>\n      <td>10</td>\n      <td>fd05096e9985626b66801cc106095b2c</td>\n    </tr>\n    <tr>\n      <th>2</th>\n      <td>20-246-T</td>\n      <td>r</td>\n      <td>withdrawn</td>\n      <td></td>\n      <td></td>\n      <td>santiago</td>\n      <td>st</td>\n      <td>clair</td>\n      <td>c</td>\n      <td>2020</td>\n      <td>4</td>\n      <td>6</td>\n      <td></td>\n      <td></td>\n      <td></td>\n      <td>0dbacd4fecf2a44d85b34aabfd0ced8b</td>\n    </tr>\n    <tr>\n      <th>3</th>\n      <td>20-245-T</td>\n      <td>r</td>\n      <td>denied</td>\n      <td></td>\n      <td></td>\n      <td>joey</td>\n      <td>schouest</td>\n      <td></td>\n      <td></td>\n      <td>2020</td>\n      <td>3</td>\n      <td>5</td>\n      <td></td>\n      <td></td>\n      <td></td>\n      <td>50cbff1f269a45e2421070f94e4795c3</td>\n    </tr>\n    <tr>\n      <th>4</th>\n      <td>19-244-T</td>\n      <td>r</td>\n      <td></td>\n      <td></td>\n      <td></td>\n      <td>sheldon</td>\n      <td>perlong</td>\n      <td></td>\n      <td></td>\n      <td>2019</td>\n      <td>10</td>\n      <td>1</td>\n      <td></td>\n      <td></td>\n      <td></td>\n      <td>1d018618d920e82a3aca8009469d4c30</td>\n    </tr>\n    <tr>\n      <th>...</th>\n      <td>...</td>\n      <td>...</td>\n      <td>...</td>\n      <td>...</td>\n      <td>...</td>\n      <td>...</td>\n      <td>...</td>\n      <td>...</td>\n      <td>...</td>\n      <td>...</td>\n      <td>...</td>\n      <td>...</td>\n      <td>...</td>\n      <td>...</td>\n      <td>...</td>\n      <td>...</td>\n    </tr>\n    <tr>\n      <th>171</th>\n      <td>92-18-O</td>\n      <td>fontenot</td>\n      <td>withdrawn</td>\n      <td></td>\n      <td></td>\n      <td>benedetto</td>\n      <td>di</td>\n      <td></td>\n      <td></td>\n      <td></td>\n      <td></td>\n      <td></td>\n      <td></td>\n      <td></td>\n      <td></td>\n      <td>0ae13b63fe07611d8f3bd1be47136147</td>\n    </tr>\n    <tr>\n      <th>172</th>\n      <td>92-22-O</td>\n      <td>fontenot</td>\n      <td>withdrawn</td>\n      <td></td>\n      <td></td>\n      <td>benedetto</td>\n      <td>di</td>\n      <td></td>\n      <td></td>\n      <td></td>\n      <td></td>\n      <td></td>\n      <td></td>\n      <td></td>\n      <td></td>\n      <td>0ae13b63fe07611d8f3bd1be47136147</td>\n    </tr>\n    <tr>\n      <th>173</th>\n      <td>92-23-S</td>\n      <td>fontenot</td>\n      <td>withdrawn</td>\n      <td></td>\n      <td></td>\n      <td>scott</td>\n      <td></td>\n      <td></td>\n      <td></td>\n      <td></td>\n      <td></td>\n      <td></td>\n      <td></td>\n      <td></td>\n      <td></td>\n      <td>891d5b2837562ad506199c35864a6c68</td>\n    </tr>\n    <tr>\n      <th>174</th>\n      <td>93-28-S</td>\n      <td>fontenot</td>\n      <td>withdrawn</td>\n      <td></td>\n      <td></td>\n      <td>rodrigue</td>\n      <td></td>\n      <td></td>\n      <td></td>\n      <td></td>\n      <td></td>\n      <td></td>\n      <td></td>\n      <td></td>\n      <td></td>\n      <td>f3eeb7277a2e0116d2416873b02089d4</td>\n    </tr>\n    <tr>\n      <th>175</th>\n      <td>93-30-P</td>\n      <td>fontenot</td>\n      <td>withdrawn</td>\n      <td></td>\n      <td></td>\n      <td>gobert</td>\n      <td></td>\n      <td></td>\n      <td></td>\n      <td></td>\n      <td></td>\n      <td></td>\n      <td></td>\n      <td></td>\n      <td></td>\n      <td>9c9ecfc7f8bcaeed1c9d3fab0d3d28a0</td>\n    </tr>\n  </tbody>\n</table>\n<p>176 rows × 16 columns</p>\n</div>"
     },
     "metadata": {},
     "execution_count": 2
    }
   ],
   "source": [
    "df = clean()\n",
    "df"
   ]
  },
  {
   "cell_type": "code",
   "execution_count": 3,
   "metadata": {},
   "outputs": [
    {
     "output_type": "execute_result",
     "data": {
      "text/plain": [
       "array(['3 months', '3 months 14 days', '', '3 months 21 days', '2 months',\n",
       "       '6 months', '1 year', '11 months', '2 1/2 months',\n",
       "       '3 years 5 months', '7 months', '1 year 10 months', '5 months',\n",
       "       '2 years 6 months', '4 months', '1 year 4 months', '9 months',\n",
       "       '8 months', '1 month', '14 months', '12 months', '13 months',\n",
       "       '16 months', '10 months', '1 year 1 month', '23 months',\n",
       "       '21 months', '29 months', '15 months'], dtype=object)"
      ]
     },
     "metadata": {},
     "execution_count": 3
    }
   ],
   "source": [
    "df.delay.unique()"
   ]
  },
  {
   "cell_type": "code",
   "execution_count": null,
   "metadata": {},
   "outputs": [],
   "source": []
  }
 ]
}
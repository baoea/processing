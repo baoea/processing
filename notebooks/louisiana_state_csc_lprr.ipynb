{
 "metadata": {
  "language_info": {
   "codemirror_mode": {
    "name": "ipython",
    "version": 3
   },
   "file_extension": ".py",
   "mimetype": "text/x-python",
   "name": "python",
   "nbconvert_exporter": "python",
   "pygments_lexer": "ipython3",
   "version": "3.8.3-final"
  },
  "orig_nbformat": 2,
  "kernelspec": {
   "name": "python3",
   "display_name": "Python 3",
   "language": "python"
  }
 },
 "nbformat": 4,
 "nbformat_minor": 2,
 "cells": [
  {
   "cell_type": "code",
   "execution_count": 1,
   "metadata": {},
   "outputs": [],
   "source": [
    "import sys; sys.path.append(\"../\")\n",
    "\n",
    "import pandas as pd\n",
    "\n",
    "from lib.explore import show_unique\n",
    "from clean.louisiana_state_csc_lprr import clean"
   ]
  },
  {
   "cell_type": "code",
   "execution_count": 2,
   "metadata": {},
   "outputs": [
    {
     "output_type": "execute_result",
     "data": {
      "text/plain": [
       "    docket_no representative resolution             delay appealed  last_name  \\\n",
       "0    07-166-R              w    settled          3 months            woodward   \n",
       "1    20-247-S              r     denied  3 months 14 days              truhan   \n",
       "2    20-246-T              r  withdrawn                              santiago   \n",
       "3    20-245-T              r     denied                                  joey   \n",
       "4    19-244-T              r                                          sheldon   \n",
       "..        ...            ...        ...               ...      ...        ...   \n",
       "203                 fontenot  withdrawn                                moreau   \n",
       "204                 fontenot  withdrawn                                achord   \n",
       "205                 fontenot  withdrawn                                landry   \n",
       "206                 fontenot  withdrawn                             mistretta   \n",
       "207                 fontenot                                          leblanc   \n",
       "\n",
       "    first_name middle_name middle_initial filed_year filed_month filed_day  \\\n",
       "0      william                                  2007           4        29   \n",
       "1         john                                  2020           4        24   \n",
       "2           st       clair              c       2020           4         6   \n",
       "3     schouest                                  2020           3         5   \n",
       "4      perlong                                  2019          10         1   \n",
       "..         ...         ...            ...        ...         ...       ...   \n",
       "203                                                                          \n",
       "204                                                                          \n",
       "205                                                                          \n",
       "206          j                                                               \n",
       "207                                                                          \n",
       "\n",
       "    rendered_year rendered_month rendered_day  \\\n",
       "0            2007              5           17   \n",
       "1            2020              9           10   \n",
       "2                                               \n",
       "3                                               \n",
       "4                                               \n",
       "..            ...            ...          ...   \n",
       "203                                             \n",
       "204                                             \n",
       "205                                             \n",
       "206                                             \n",
       "207                                             \n",
       "\n",
       "                                  uid  \n",
       "0    6ca88c219a2112842740f47631679c3e  \n",
       "1    fd05096e9985626b66801cc106095b2c  \n",
       "2    0dbacd4fecf2a44d85b34aabfd0ced8b  \n",
       "3    50cbff1f269a45e2421070f94e4795c3  \n",
       "4    1d018618d920e82a3aca8009469d4c30  \n",
       "..                                ...  \n",
       "203  c774e087d5720d399fc7de39653a197f  \n",
       "204  a1296f0d567ffdd14e785b938ede4ab5  \n",
       "205  b3cd68c2148ffc3f2cfeb17f4367f13d  \n",
       "206  30eb372bca6343c4c8114e42b514cd1e  \n",
       "207  7d7ca23d5ec209c8d9addfffd77aa471  \n",
       "\n",
       "[208 rows x 16 columns]"
      ],
      "text/html": "<div>\n<style scoped>\n    .dataframe tbody tr th:only-of-type {\n        vertical-align: middle;\n    }\n\n    .dataframe tbody tr th {\n        vertical-align: top;\n    }\n\n    .dataframe thead th {\n        text-align: right;\n    }\n</style>\n<table border=\"1\" class=\"dataframe\">\n  <thead>\n    <tr style=\"text-align: right;\">\n      <th></th>\n      <th>docket_no</th>\n      <th>representative</th>\n      <th>resolution</th>\n      <th>delay</th>\n      <th>appealed</th>\n      <th>last_name</th>\n      <th>first_name</th>\n      <th>middle_name</th>\n      <th>middle_initial</th>\n      <th>filed_year</th>\n      <th>filed_month</th>\n      <th>filed_day</th>\n      <th>rendered_year</th>\n      <th>rendered_month</th>\n      <th>rendered_day</th>\n      <th>uid</th>\n    </tr>\n  </thead>\n  <tbody>\n    <tr>\n      <th>0</th>\n      <td>07-166-R</td>\n      <td>w</td>\n      <td>settled</td>\n      <td>3 months</td>\n      <td></td>\n      <td>woodward</td>\n      <td>william</td>\n      <td></td>\n      <td></td>\n      <td>2007</td>\n      <td>4</td>\n      <td>29</td>\n      <td>2007</td>\n      <td>5</td>\n      <td>17</td>\n      <td>6ca88c219a2112842740f47631679c3e</td>\n    </tr>\n    <tr>\n      <th>1</th>\n      <td>20-247-S</td>\n      <td>r</td>\n      <td>denied</td>\n      <td>3 months 14 days</td>\n      <td></td>\n      <td>truhan</td>\n      <td>john</td>\n      <td></td>\n      <td></td>\n      <td>2020</td>\n      <td>4</td>\n      <td>24</td>\n      <td>2020</td>\n      <td>9</td>\n      <td>10</td>\n      <td>fd05096e9985626b66801cc106095b2c</td>\n    </tr>\n    <tr>\n      <th>2</th>\n      <td>20-246-T</td>\n      <td>r</td>\n      <td>withdrawn</td>\n      <td></td>\n      <td></td>\n      <td>santiago</td>\n      <td>st</td>\n      <td>clair</td>\n      <td>c</td>\n      <td>2020</td>\n      <td>4</td>\n      <td>6</td>\n      <td></td>\n      <td></td>\n      <td></td>\n      <td>0dbacd4fecf2a44d85b34aabfd0ced8b</td>\n    </tr>\n    <tr>\n      <th>3</th>\n      <td>20-245-T</td>\n      <td>r</td>\n      <td>denied</td>\n      <td></td>\n      <td></td>\n      <td>joey</td>\n      <td>schouest</td>\n      <td></td>\n      <td></td>\n      <td>2020</td>\n      <td>3</td>\n      <td>5</td>\n      <td></td>\n      <td></td>\n      <td></td>\n      <td>50cbff1f269a45e2421070f94e4795c3</td>\n    </tr>\n    <tr>\n      <th>4</th>\n      <td>19-244-T</td>\n      <td>r</td>\n      <td></td>\n      <td></td>\n      <td></td>\n      <td>sheldon</td>\n      <td>perlong</td>\n      <td></td>\n      <td></td>\n      <td>2019</td>\n      <td>10</td>\n      <td>1</td>\n      <td></td>\n      <td></td>\n      <td></td>\n      <td>1d018618d920e82a3aca8009469d4c30</td>\n    </tr>\n    <tr>\n      <th>...</th>\n      <td>...</td>\n      <td>...</td>\n      <td>...</td>\n      <td>...</td>\n      <td>...</td>\n      <td>...</td>\n      <td>...</td>\n      <td>...</td>\n      <td>...</td>\n      <td>...</td>\n      <td>...</td>\n      <td>...</td>\n      <td>...</td>\n      <td>...</td>\n      <td>...</td>\n      <td>...</td>\n    </tr>\n    <tr>\n      <th>203</th>\n      <td></td>\n      <td>fontenot</td>\n      <td>withdrawn</td>\n      <td></td>\n      <td></td>\n      <td>moreau</td>\n      <td></td>\n      <td></td>\n      <td></td>\n      <td></td>\n      <td></td>\n      <td></td>\n      <td></td>\n      <td></td>\n      <td></td>\n      <td>c774e087d5720d399fc7de39653a197f</td>\n    </tr>\n    <tr>\n      <th>204</th>\n      <td></td>\n      <td>fontenot</td>\n      <td>withdrawn</td>\n      <td></td>\n      <td></td>\n      <td>achord</td>\n      <td></td>\n      <td></td>\n      <td></td>\n      <td></td>\n      <td></td>\n      <td></td>\n      <td></td>\n      <td></td>\n      <td></td>\n      <td>a1296f0d567ffdd14e785b938ede4ab5</td>\n    </tr>\n    <tr>\n      <th>205</th>\n      <td></td>\n      <td>fontenot</td>\n      <td>withdrawn</td>\n      <td></td>\n      <td></td>\n      <td>landry</td>\n      <td></td>\n      <td></td>\n      <td></td>\n      <td></td>\n      <td></td>\n      <td></td>\n      <td></td>\n      <td></td>\n      <td></td>\n      <td>b3cd68c2148ffc3f2cfeb17f4367f13d</td>\n    </tr>\n    <tr>\n      <th>206</th>\n      <td></td>\n      <td>fontenot</td>\n      <td>withdrawn</td>\n      <td></td>\n      <td></td>\n      <td>mistretta</td>\n      <td>j</td>\n      <td></td>\n      <td></td>\n      <td></td>\n      <td></td>\n      <td></td>\n      <td></td>\n      <td></td>\n      <td></td>\n      <td>30eb372bca6343c4c8114e42b514cd1e</td>\n    </tr>\n    <tr>\n      <th>207</th>\n      <td></td>\n      <td>fontenot</td>\n      <td></td>\n      <td></td>\n      <td></td>\n      <td>leblanc</td>\n      <td></td>\n      <td></td>\n      <td></td>\n      <td></td>\n      <td></td>\n      <td></td>\n      <td></td>\n      <td></td>\n      <td></td>\n      <td>7d7ca23d5ec209c8d9addfffd77aa471</td>\n    </tr>\n  </tbody>\n</table>\n<p>208 rows × 16 columns</p>\n</div>"
     },
     "metadata": {},
     "execution_count": 2
    }
   ],
   "source": [
    "df = clean()\n",
    "df"
   ]
  },
  {
   "cell_type": "code",
   "execution_count": 3,
   "metadata": {},
   "outputs": [
    {
     "output_type": "execute_result",
     "data": {
      "text/plain": [
       "array(['07-166-R', '20-247-S', '20-246-T', '20-245-T', '19-244-T',\n",
       "       '18-243-S', '18-242-T', '18-241-T', '18-240-S', '18-239',\n",
       "       '18-238-S', '17-237-S', '17-236-D', '16-220-S', '15-219-R',\n",
       "       '15-218-T', '15-217-T', '14-216-S', '14-215-T', '13-214-S',\n",
       "       '13-212-T', '13-211-O', '13-210-T', '13-213-T', '12-209-T',\n",
       "       '12-208-S', '12-207-D', '12-206-S', '12-205-R', '12-204-S',\n",
       "       '12-203-D', '12-200-S', '11-200-S', '11-199-T', '11-198-S',\n",
       "       '10-197-S', '10-196-S', '10-195-S', '10-194-D', '10-193-T',\n",
       "       '10-192-T', '10-190-R', '10-191-R', '10-189-O', '12-201-R',\n",
       "       '07-167-S', '07-165-S', '07-164-S', '04-163-S', '06-162-O',\n",
       "       '06-141-O', '06-160-S', '05-159-O', '05-158-O', '05-157-S',\n",
       "       '05-156-S', '05-155-S', '05-154-P', '05-153-S', '05-152-S',\n",
       "       '05-151-S', '04-150-P', '04-149-O', '04-148-S', '04-147-S',\n",
       "       '04-146-S', '04-145-S', '04-144-S', '04-143-S', '04-142-T',\n",
       "       '04-141-PT', '04-140-O', '04-138-S', '04-139-S', '04-137-T',\n",
       "       '03-136-S', '03-135-T', '03-134-T', '03-133-T', '03-132-O/S',\n",
       "       '03-131-S', '03-130-S', '03-129-S', '03-128-S', '03-127-S',\n",
       "       '03-125-S', '02-126-S', '03-124-S', '02-123-S', '02-122-S',\n",
       "       '02-121-O', '02-120-S', '02-119-O', '02-118-S', '02-117-T',\n",
       "       '02-116-O', '02-115-O', '02-114-T', '02-113-O', '01-112-O',\n",
       "       '01-111-S', '01-110-O', '01-109-S', '01-108-R', '01-107-O/S',\n",
       "       '01-106-O', '01-105-R', '00-104-D', '00-103-O', '00-102-S',\n",
       "       '00-101-S', '00-100-T', '99-99-O', '99-98-T', '99-97-O', '98-96-O',\n",
       "       '98-95-O', '98-94-O', '98-93-T', '98-92-O', '99-91-S', '98-90-T',\n",
       "       '97-89-O', '97-88-O', '97-87-O', '97-86-S', '97-85-O', '97-84-O',\n",
       "       '97-83-O', '97-82-O', '97-81-S', '96-80-R', '96-79-O', '96-78-PT',\n",
       "       '96-77-O', '95-76-T', '95-75-O', '95-74-PT', '95-73-T', '95-72-S',\n",
       "       '95-71-T', '95-70-S', '95-69-O', '95-68-PT', '', '91-01-P',\n",
       "       '91-03-O', '91-04-P', '31-06-O', '71-09-S', '71-15-S', '92-21-T',\n",
       "       '72-24-O', '93-27-O', '93-31-S', '72-19-S', '92-20-S', '92-26-T',\n",
       "       '91-14-S', '91-02-O', '91-8-O', '91-12-I', '93-32-S', '92-25-S',\n",
       "       '73-29-S', '91-05-O', '71-07-T', '91-10-O', '91-11-P', '11-13-I',\n",
       "       '71-16-R', '91-17-S', '92-18-O', '92-22-O', '92-23-S', '93-28-S',\n",
       "       '93-30-P'], dtype=object)"
      ]
     },
     "metadata": {},
     "execution_count": 3
    }
   ],
   "source": [
    "df.docket_no.unique()"
   ]
  },
  {
   "cell_type": "code",
   "execution_count": null,
   "metadata": {},
   "outputs": [],
   "source": []
  }
 ]
}
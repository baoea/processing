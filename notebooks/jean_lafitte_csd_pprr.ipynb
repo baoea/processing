{
 "metadata": {
  "language_info": {
   "codemirror_mode": {
    "name": "ipython",
    "version": 3
   },
   "file_extension": ".py",
   "mimetype": "text/x-python",
   "name": "python",
   "nbconvert_exporter": "python",
   "pygments_lexer": "ipython3",
   "version": "3.8.3-final"
  },
  "orig_nbformat": 2,
  "kernelspec": {
   "name": "python3",
   "display_name": "Python 3",
   "language": "python"
  }
 },
 "nbformat": 4,
 "nbformat_minor": 2,
 "cells": [
  {
   "cell_type": "code",
   "execution_count": 1,
   "metadata": {},
   "outputs": [],
   "source": [
    "import re\n",
    "from os import listdir\n",
    "import sys; sys.path.append(\"../\")\n",
    "\n",
    "import pandas as pd\n",
    "\n",
    "from lib.columns import rearrange_personel_columns"
   ]
  },
  {
   "cell_type": "code",
   "execution_count": 2,
   "metadata": {},
   "outputs": [],
   "source": [
    "prefix = \"../data/Jean Lafitte Civil Service Department/Administrative Data/\"\n",
    "excel_files = [name for name in listdir(prefix) if name.endswith(\".xlsx\")]\n",
    "input_dfs = {name: pd.read_excel(prefix+name) for name in excel_files}"
   ]
  },
  {
   "cell_type": "code",
   "execution_count": 3,
   "metadata": {},
   "outputs": [
    {
     "output_type": "stream",
     "name": "stdout",
     "text": [
      "                NAME BADGE NUMBER        RANK DATE OF HIRE    SALARY\n0     Darren Dufrene          JL2     Captain   2014-09-23  14935.48\n1      Dennis Gordon          JL5     Captain   2016-07-14   8125.96\n2        Frank Rawle          JL3    Sergeant   2011-12-19  19090.68\n3  Marcell Rodriguez          JL1       Chief   2011-07-01  60265.00\n4      Raymond Funck          JL2  Lieutenant   2010-04-15   2178.84\n                NAME BADGE NUMBER        RANK DATE OF HIRE    SALARY\n0     Darren Dufrene          JL2     Captain   2014-09-23  14935.48\n1      Dennis Gordon          JL5     Captain   2016-07-14   8125.96\n2        Frank Rawle          JL3    Sergeant   2011-12-19  19090.68\n3  Marcell Rodriguez          JL1       Chief   2011-07-01  60265.00\n4      Raymond Funck          JL2  Lieutenant   2010-04-15   2178.84\n                NAME BADGE NUMBER        RANK DATE OF HIRE    SALARY\n0     Darren Dufrene          JL2     Captain   2014-09-23  14935.48\n1      Dennis Gordon          JL5     Captain   2016-07-14   8125.96\n2        Frank Rawle          JL3    Sergeant   2011-12-19  19090.68\n3  Marcell Rodriguez          JL1       Chief   2011-07-01  60265.00\n4      Raymond Funck          JL2  Lieutenant   2010-04-15   2178.84\n                NAME BADGE NUMBER        RANK DATE OF HIRE    SALARY\n0     Darren Dufrene          JL2     Captain   2014-09-23   2764.74\n1        Frank Rawle          JL3    Sergeant   2011-12-19  26999.96\n2  Marcell Rodriguez          JL1       Chief   2011-07-01  46999.94\n3      Raymond Funck          JL2  Lieutenant   2010-04-15  27499.94\n                NAME BADGE NUMBER        RANK DATE OF HIRE    SALARY\n0     Darren Dufrene          JL2     Captain   2014-09-23  14935.48\n1      Dennis Gordon          JL5     Captain   2016-07-14   8125.96\n2        Frank Rawle          JL3    Sergeant   2011-12-19  19090.68\n3  Marcell Rodriguez          JL1       Chief   2011-07-01  60265.00\n4      Raymond Funck          JL2  Lieutenant   2010-04-15   2178.84\n                NAME BADGE NUMBER        RANK DATE OF HIRE    SALARY\n0     Darren Dufrene          JL2     Captain   2014-09-23  14935.48\n1      Dennis Gordon          JL5     Captain   2016-07-14   8125.96\n2        Frank Rawle          JL3    Sergeant   2011-12-19  19090.68\n3  Marcell Rodriguez          JL1       Chief   2011-07-01  60265.00\n4      Raymond Funck          JL2  Lieutenant   2010-04-15   2178.84\n                NAME BADGE NUMBER        RANK DATE OF HIRE    SALARY\n0     Darren Dufrene          JL2     Captain   2014-09-23  15470.13\n1        Frank Rawle          JL3    Sergeant   2011-12-19  16353.17\n2  Marcell Rodriguez          JL1       Chief   2011-07-01  48384.00\n3      Raymond Funck          JL2  Lieutenant   2010-04-15  27880.70\n"
     ]
    }
   ],
   "source": [
    "for df in input_dfs.values():\n",
    "    print(df)"
   ]
  },
  {
   "cell_type": "code",
   "execution_count": 4,
   "metadata": {},
   "outputs": [
    {
     "output_type": "execute_result",
     "data": {
      "text/plain": [
       "   Last Name First Name Badge #        Rank  Hire Date  Annual Salary\n",
       "0    Dufrene     Darren     JL2     Captain 2014-09-23       14935.48\n",
       "1     Gordon     Dennis     JL5     Captain 2016-07-14        8125.96\n",
       "2      Rawle      Frank     JL3    Sergeant 2011-12-19       19090.68\n",
       "3  Rodriguez    Marcell     JL1       Chief 2011-07-01       60265.00\n",
       "4      Funck    Raymond     JL2  Lieutenant 2010-04-15        2178.84"
      ],
      "text/html": "<div>\n<style scoped>\n    .dataframe tbody tr th:only-of-type {\n        vertical-align: middle;\n    }\n\n    .dataframe tbody tr th {\n        vertical-align: top;\n    }\n\n    .dataframe thead th {\n        text-align: right;\n    }\n</style>\n<table border=\"1\" class=\"dataframe\">\n  <thead>\n    <tr style=\"text-align: right;\">\n      <th></th>\n      <th>Last Name</th>\n      <th>First Name</th>\n      <th>Badge #</th>\n      <th>Rank</th>\n      <th>Hire Date</th>\n      <th>Annual Salary</th>\n    </tr>\n  </thead>\n  <tbody>\n    <tr>\n      <th>0</th>\n      <td>Dufrene</td>\n      <td>Darren</td>\n      <td>JL2</td>\n      <td>Captain</td>\n      <td>2014-09-23</td>\n      <td>14935.48</td>\n    </tr>\n    <tr>\n      <th>1</th>\n      <td>Gordon</td>\n      <td>Dennis</td>\n      <td>JL5</td>\n      <td>Captain</td>\n      <td>2016-07-14</td>\n      <td>8125.96</td>\n    </tr>\n    <tr>\n      <th>2</th>\n      <td>Rawle</td>\n      <td>Frank</td>\n      <td>JL3</td>\n      <td>Sergeant</td>\n      <td>2011-12-19</td>\n      <td>19090.68</td>\n    </tr>\n    <tr>\n      <th>3</th>\n      <td>Rodriguez</td>\n      <td>Marcell</td>\n      <td>JL1</td>\n      <td>Chief</td>\n      <td>2011-07-01</td>\n      <td>60265.00</td>\n    </tr>\n    <tr>\n      <th>4</th>\n      <td>Funck</td>\n      <td>Raymond</td>\n      <td>JL2</td>\n      <td>Lieutenant</td>\n      <td>2010-04-15</td>\n      <td>2178.84</td>\n    </tr>\n  </tbody>\n</table>\n</div>"
     },
     "metadata": {},
     "execution_count": 4
    }
   ],
   "source": [
    "output_dfs = dict()\n",
    "\n",
    "for filename, df in input_dfs.items():\n",
    "    name = filename.split(\".\")[0]\n",
    "    df2 = df[[\"BADGE NUMBER\", \"RANK\", \"DATE OF HIRE\", \"SALARY\"]]\n",
    "    df2 = pd.concat([df2, df[\"NAME\"].str.split(\" \", expand=True)], axis=1)\n",
    "    df2.columns = pd.Index([\"Badge #\", \"Rank\", \"Hire Date\", \"Annual Salary\", \"First Name\", \"Last Name\"])\n",
    "    output_dfs[name] = rearrange_personel_columns(df2)\n",
    "\n",
    "output_dfs[\"Jean Lafitte_CSD_PPRR_2016\"]"
   ]
  },
  {
   "cell_type": "code",
   "execution_count": 5,
   "metadata": {},
   "outputs": [],
   "source": [
    "for name, df in output_dfs.items():\n",
    "    df.to_csv(\"../output/%s.csv\" % name, index=False)"
   ]
  },
  {
   "cell_type": "code",
   "execution_count": null,
   "metadata": {},
   "outputs": [],
   "source": []
  }
 ]
}
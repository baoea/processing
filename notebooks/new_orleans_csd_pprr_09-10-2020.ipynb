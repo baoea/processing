{
 "cells": [
  {
   "cell_type": "code",
   "execution_count": 1,
   "metadata": {},
   "outputs": [],
   "source": [
    "import sys; sys.path.insert(0, \"../\")\n",
    "\n",
    "import pandas as pd\n",
    "\n",
    "from lib.name import clean_name\n",
    "from lib.date import to_datetime_series\n",
    "from lib.columns import rearrange_personel_columns"
   ]
  },
  {
   "cell_type": "code",
   "execution_count": 2,
   "metadata": {},
   "outputs": [
    {
     "output_type": "execute_result",
     "data": {
      "text/plain": [
       "      Home Agcy                      ORGN Desc     Last Name First Name  \\\n",
       "0           270  POL MANAGEMNT SERVICES BUREAU         Moore  Charmaine   \n",
       "1           270  POL MANAGEMNT SERVICES BUREAU         Coxen     Shanna   \n",
       "2           270  POL SPECIAL INVESTIGATION DIV  Cavaliere Sr     Morris   \n",
       "3           270             POL FIRST DISTRICT       Fonseca    Norbert   \n",
       "4           270            POL FIFTH  DISTRICT       Hartman     Steven   \n",
       "...         ...                            ...           ...        ...   \n",
       "3681        270  POL MANAGEMNT SERVICES BUREAU       Johnson      Shawn   \n",
       "3682        270            POL SIXTH  DISTRICT       Linehan      Henry   \n",
       "3683        270             POL FIRST DISTRICT      Finneman      David   \n",
       "3684        270  POL MANAGEMNT SERVICES BUREAU          Badr    Mohamed   \n",
       "3685        270  POL MANAGEMNT SERVICES BUREAU       Patrick      Carol   \n",
       "\n",
       "      Birth Date  Hire Date Title Code               Title Desc  \\\n",
       "0     01/01/1901 1996-02-08      C0025      CLERICAL SPECIALIST   \n",
       "1     10/05/1972 1996-09-22      C5201  LABORATORY TECHNICIAN 1   \n",
       "2     07/21/1947 1970-12-21      C7134         POLICE OFFICER 4   \n",
       "3     08/31/1943 1967-08-21      C7112        POLICE LIEUTENANT   \n",
       "4     03/11/1964 1985-02-10      C7112        POLICE LIEUTENANT   \n",
       "...          ...        ...        ...                      ...   \n",
       "3681  06/23/1990 2014-08-17      C7105              POLICE AIDE   \n",
       "3682  08/18/1982 2009-12-27      C7110         POLICE OFFICER 1   \n",
       "3683  12/20/1960 2001-09-16      C7111          POLICE SERGEANT   \n",
       "3684  10/06/1980 2014-08-31      C7105              POLICE AIDE   \n",
       "3685  10/23/1974 2014-08-17      C7105              POLICE AIDE   \n",
       "\n",
       "     Termination Date Pay Prog Start Date  Annual Salary  \n",
       "0          1996-08-28          1996-08-28       11235.83  \n",
       "1          1997-01-01          1997-01-01       14951.72  \n",
       "2          1997-01-04          1997-01-04       29243.06  \n",
       "3          1997-01-04          1997-01-04       39893.17  \n",
       "4          1997-01-04          1997-01-04       33524.95  \n",
       "...               ...                 ...            ...  \n",
       "3681       2014-12-10          2014-08-17       28882.03  \n",
       "3682       2014-12-11          2011-03-13       37490.69  \n",
       "3683       2014-12-13          2013-01-30       50513.12  \n",
       "3684       2014-12-20          2014-08-31       28882.03  \n",
       "3685       2014-12-30          2014-08-17       28882.03  \n",
       "\n",
       "[3686 rows x 11 columns]"
      ],
      "text/html": "<div>\n<style scoped>\n    .dataframe tbody tr th:only-of-type {\n        vertical-align: middle;\n    }\n\n    .dataframe tbody tr th {\n        vertical-align: top;\n    }\n\n    .dataframe thead th {\n        text-align: right;\n    }\n</style>\n<table border=\"1\" class=\"dataframe\">\n  <thead>\n    <tr style=\"text-align: right;\">\n      <th></th>\n      <th>Home Agcy</th>\n      <th>ORGN Desc</th>\n      <th>Last Name</th>\n      <th>First Name</th>\n      <th>Birth Date</th>\n      <th>Hire Date</th>\n      <th>Title Code</th>\n      <th>Title Desc</th>\n      <th>Termination Date</th>\n      <th>Pay Prog Start Date</th>\n      <th>Annual Salary</th>\n    </tr>\n  </thead>\n  <tbody>\n    <tr>\n      <th>0</th>\n      <td>270</td>\n      <td>POL MANAGEMNT SERVICES BUREAU</td>\n      <td>Moore</td>\n      <td>Charmaine</td>\n      <td>01/01/1901</td>\n      <td>1996-02-08</td>\n      <td>C0025</td>\n      <td>CLERICAL SPECIALIST</td>\n      <td>1996-08-28</td>\n      <td>1996-08-28</td>\n      <td>11235.83</td>\n    </tr>\n    <tr>\n      <th>1</th>\n      <td>270</td>\n      <td>POL MANAGEMNT SERVICES BUREAU</td>\n      <td>Coxen</td>\n      <td>Shanna</td>\n      <td>10/05/1972</td>\n      <td>1996-09-22</td>\n      <td>C5201</td>\n      <td>LABORATORY TECHNICIAN 1</td>\n      <td>1997-01-01</td>\n      <td>1997-01-01</td>\n      <td>14951.72</td>\n    </tr>\n    <tr>\n      <th>2</th>\n      <td>270</td>\n      <td>POL SPECIAL INVESTIGATION DIV</td>\n      <td>Cavaliere Sr</td>\n      <td>Morris</td>\n      <td>07/21/1947</td>\n      <td>1970-12-21</td>\n      <td>C7134</td>\n      <td>POLICE OFFICER 4</td>\n      <td>1997-01-04</td>\n      <td>1997-01-04</td>\n      <td>29243.06</td>\n    </tr>\n    <tr>\n      <th>3</th>\n      <td>270</td>\n      <td>POL FIRST DISTRICT</td>\n      <td>Fonseca</td>\n      <td>Norbert</td>\n      <td>08/31/1943</td>\n      <td>1967-08-21</td>\n      <td>C7112</td>\n      <td>POLICE LIEUTENANT</td>\n      <td>1997-01-04</td>\n      <td>1997-01-04</td>\n      <td>39893.17</td>\n    </tr>\n    <tr>\n      <th>4</th>\n      <td>270</td>\n      <td>POL FIFTH  DISTRICT</td>\n      <td>Hartman</td>\n      <td>Steven</td>\n      <td>03/11/1964</td>\n      <td>1985-02-10</td>\n      <td>C7112</td>\n      <td>POLICE LIEUTENANT</td>\n      <td>1997-01-04</td>\n      <td>1997-01-04</td>\n      <td>33524.95</td>\n    </tr>\n    <tr>\n      <th>...</th>\n      <td>...</td>\n      <td>...</td>\n      <td>...</td>\n      <td>...</td>\n      <td>...</td>\n      <td>...</td>\n      <td>...</td>\n      <td>...</td>\n      <td>...</td>\n      <td>...</td>\n      <td>...</td>\n    </tr>\n    <tr>\n      <th>3681</th>\n      <td>270</td>\n      <td>POL MANAGEMNT SERVICES BUREAU</td>\n      <td>Johnson</td>\n      <td>Shawn</td>\n      <td>06/23/1990</td>\n      <td>2014-08-17</td>\n      <td>C7105</td>\n      <td>POLICE AIDE</td>\n      <td>2014-12-10</td>\n      <td>2014-08-17</td>\n      <td>28882.03</td>\n    </tr>\n    <tr>\n      <th>3682</th>\n      <td>270</td>\n      <td>POL SIXTH  DISTRICT</td>\n      <td>Linehan</td>\n      <td>Henry</td>\n      <td>08/18/1982</td>\n      <td>2009-12-27</td>\n      <td>C7110</td>\n      <td>POLICE OFFICER 1</td>\n      <td>2014-12-11</td>\n      <td>2011-03-13</td>\n      <td>37490.69</td>\n    </tr>\n    <tr>\n      <th>3683</th>\n      <td>270</td>\n      <td>POL FIRST DISTRICT</td>\n      <td>Finneman</td>\n      <td>David</td>\n      <td>12/20/1960</td>\n      <td>2001-09-16</td>\n      <td>C7111</td>\n      <td>POLICE SERGEANT</td>\n      <td>2014-12-13</td>\n      <td>2013-01-30</td>\n      <td>50513.12</td>\n    </tr>\n    <tr>\n      <th>3684</th>\n      <td>270</td>\n      <td>POL MANAGEMNT SERVICES BUREAU</td>\n      <td>Badr</td>\n      <td>Mohamed</td>\n      <td>10/06/1980</td>\n      <td>2014-08-31</td>\n      <td>C7105</td>\n      <td>POLICE AIDE</td>\n      <td>2014-12-20</td>\n      <td>2014-08-31</td>\n      <td>28882.03</td>\n    </tr>\n    <tr>\n      <th>3685</th>\n      <td>270</td>\n      <td>POL MANAGEMNT SERVICES BUREAU</td>\n      <td>Patrick</td>\n      <td>Carol</td>\n      <td>10/23/1974</td>\n      <td>2014-08-17</td>\n      <td>C7105</td>\n      <td>POLICE AIDE</td>\n      <td>2014-12-30</td>\n      <td>2014-08-17</td>\n      <td>28882.03</td>\n    </tr>\n  </tbody>\n</table>\n<p>3686 rows × 11 columns</p>\n</div>"
     },
     "metadata": {},
     "execution_count": 2
    }
   ],
   "source": [
    "df1 = pd.read_excel(\"../data/New Orleans Civil Service Department/Administrative Data/PPRR_09-10-2020.xls\")\n",
    "df1"
   ]
  },
  {
   "cell_type": "code",
   "execution_count": 3,
   "metadata": {},
   "outputs": [
    {
     "output_type": "execute_result",
     "data": {
      "text/plain": [
       "         Last Name First Name                     Department Rank Number #  \\\n",
       "0            Moore  Charmaine  POL MANAGEMNT SERVICES BUREAU         C0025   \n",
       "1            Coxen     Shanna  POL MANAGEMNT SERVICES BUREAU         C5201   \n",
       "2     Cavaliere Sr     Morris  POL SPECIAL INVESTIGATION DIV         C7134   \n",
       "3          Fonseca    Norbert             POL FIRST DISTRICT         C7112   \n",
       "4          Hartman     Steven            POL FIFTH  DISTRICT         C7112   \n",
       "...            ...        ...                            ...           ...   \n",
       "3681       Johnson      Shawn  POL MANAGEMNT SERVICES BUREAU         C7105   \n",
       "3682       Linehan      Henry            POL SIXTH  DISTRICT         C7110   \n",
       "3683      Finneman      David             POL FIRST DISTRICT         C7111   \n",
       "3684          Badr    Mohamed  POL MANAGEMNT SERVICES BUREAU         C7105   \n",
       "3685       Patrick      Carol  POL MANAGEMNT SERVICES BUREAU         C7105   \n",
       "\n",
       "                         Rank Birth Date  Hire Date Termination Date  \\\n",
       "0         CLERICAL SPECIALIST 1901-01-01 1996-02-08       1996-08-28   \n",
       "1     LABORATORY TECHNICIAN 1 1972-10-05 1996-09-22       1997-01-01   \n",
       "2            POLICE OFFICER 4 1947-07-21 1970-12-21       1997-01-04   \n",
       "3           POLICE LIEUTENANT 1943-08-31 1967-08-21       1997-01-04   \n",
       "4           POLICE LIEUTENANT 1964-03-11 1985-02-10       1997-01-04   \n",
       "...                       ...        ...        ...              ...   \n",
       "3681              POLICE AIDE 1990-06-23 2014-08-17       2014-12-10   \n",
       "3682         POLICE OFFICER 1 1982-08-18 2009-12-27       2014-12-11   \n",
       "3683          POLICE SERGEANT 1960-12-20 2001-09-16       2014-12-13   \n",
       "3684              POLICE AIDE 1980-10-06 2014-08-31       2014-12-20   \n",
       "3685              POLICE AIDE 1974-10-23 2014-08-17       2014-12-30   \n",
       "\n",
       "     Pay Prog Start Date  Annual Salary  \n",
       "0             1996-08-28       11235.83  \n",
       "1             1997-01-01       14951.72  \n",
       "2             1997-01-04       29243.06  \n",
       "3             1997-01-04       39893.17  \n",
       "4             1997-01-04       33524.95  \n",
       "...                  ...            ...  \n",
       "3681          2014-08-17       28882.03  \n",
       "3682          2011-03-13       37490.69  \n",
       "3683          2013-01-30       50513.12  \n",
       "3684          2014-08-31       28882.03  \n",
       "3685          2014-08-17       28882.03  \n",
       "\n",
       "[3686 rows x 10 columns]"
      ],
      "text/html": "<div>\n<style scoped>\n    .dataframe tbody tr th:only-of-type {\n        vertical-align: middle;\n    }\n\n    .dataframe tbody tr th {\n        vertical-align: top;\n    }\n\n    .dataframe thead th {\n        text-align: right;\n    }\n</style>\n<table border=\"1\" class=\"dataframe\">\n  <thead>\n    <tr style=\"text-align: right;\">\n      <th></th>\n      <th>Last Name</th>\n      <th>First Name</th>\n      <th>Department</th>\n      <th>Rank Number #</th>\n      <th>Rank</th>\n      <th>Birth Date</th>\n      <th>Hire Date</th>\n      <th>Termination Date</th>\n      <th>Pay Prog Start Date</th>\n      <th>Annual Salary</th>\n    </tr>\n  </thead>\n  <tbody>\n    <tr>\n      <th>0</th>\n      <td>Moore</td>\n      <td>Charmaine</td>\n      <td>POL MANAGEMNT SERVICES BUREAU</td>\n      <td>C0025</td>\n      <td>CLERICAL SPECIALIST</td>\n      <td>1901-01-01</td>\n      <td>1996-02-08</td>\n      <td>1996-08-28</td>\n      <td>1996-08-28</td>\n      <td>11235.83</td>\n    </tr>\n    <tr>\n      <th>1</th>\n      <td>Coxen</td>\n      <td>Shanna</td>\n      <td>POL MANAGEMNT SERVICES BUREAU</td>\n      <td>C5201</td>\n      <td>LABORATORY TECHNICIAN 1</td>\n      <td>1972-10-05</td>\n      <td>1996-09-22</td>\n      <td>1997-01-01</td>\n      <td>1997-01-01</td>\n      <td>14951.72</td>\n    </tr>\n    <tr>\n      <th>2</th>\n      <td>Cavaliere Sr</td>\n      <td>Morris</td>\n      <td>POL SPECIAL INVESTIGATION DIV</td>\n      <td>C7134</td>\n      <td>POLICE OFFICER 4</td>\n      <td>1947-07-21</td>\n      <td>1970-12-21</td>\n      <td>1997-01-04</td>\n      <td>1997-01-04</td>\n      <td>29243.06</td>\n    </tr>\n    <tr>\n      <th>3</th>\n      <td>Fonseca</td>\n      <td>Norbert</td>\n      <td>POL FIRST DISTRICT</td>\n      <td>C7112</td>\n      <td>POLICE LIEUTENANT</td>\n      <td>1943-08-31</td>\n      <td>1967-08-21</td>\n      <td>1997-01-04</td>\n      <td>1997-01-04</td>\n      <td>39893.17</td>\n    </tr>\n    <tr>\n      <th>4</th>\n      <td>Hartman</td>\n      <td>Steven</td>\n      <td>POL FIFTH  DISTRICT</td>\n      <td>C7112</td>\n      <td>POLICE LIEUTENANT</td>\n      <td>1964-03-11</td>\n      <td>1985-02-10</td>\n      <td>1997-01-04</td>\n      <td>1997-01-04</td>\n      <td>33524.95</td>\n    </tr>\n    <tr>\n      <th>...</th>\n      <td>...</td>\n      <td>...</td>\n      <td>...</td>\n      <td>...</td>\n      <td>...</td>\n      <td>...</td>\n      <td>...</td>\n      <td>...</td>\n      <td>...</td>\n      <td>...</td>\n    </tr>\n    <tr>\n      <th>3681</th>\n      <td>Johnson</td>\n      <td>Shawn</td>\n      <td>POL MANAGEMNT SERVICES BUREAU</td>\n      <td>C7105</td>\n      <td>POLICE AIDE</td>\n      <td>1990-06-23</td>\n      <td>2014-08-17</td>\n      <td>2014-12-10</td>\n      <td>2014-08-17</td>\n      <td>28882.03</td>\n    </tr>\n    <tr>\n      <th>3682</th>\n      <td>Linehan</td>\n      <td>Henry</td>\n      <td>POL SIXTH  DISTRICT</td>\n      <td>C7110</td>\n      <td>POLICE OFFICER 1</td>\n      <td>1982-08-18</td>\n      <td>2009-12-27</td>\n      <td>2014-12-11</td>\n      <td>2011-03-13</td>\n      <td>37490.69</td>\n    </tr>\n    <tr>\n      <th>3683</th>\n      <td>Finneman</td>\n      <td>David</td>\n      <td>POL FIRST DISTRICT</td>\n      <td>C7111</td>\n      <td>POLICE SERGEANT</td>\n      <td>1960-12-20</td>\n      <td>2001-09-16</td>\n      <td>2014-12-13</td>\n      <td>2013-01-30</td>\n      <td>50513.12</td>\n    </tr>\n    <tr>\n      <th>3684</th>\n      <td>Badr</td>\n      <td>Mohamed</td>\n      <td>POL MANAGEMNT SERVICES BUREAU</td>\n      <td>C7105</td>\n      <td>POLICE AIDE</td>\n      <td>1980-10-06</td>\n      <td>2014-08-31</td>\n      <td>2014-12-20</td>\n      <td>2014-08-31</td>\n      <td>28882.03</td>\n    </tr>\n    <tr>\n      <th>3685</th>\n      <td>Patrick</td>\n      <td>Carol</td>\n      <td>POL MANAGEMNT SERVICES BUREAU</td>\n      <td>C7105</td>\n      <td>POLICE AIDE</td>\n      <td>1974-10-23</td>\n      <td>2014-08-17</td>\n      <td>2014-12-30</td>\n      <td>2014-08-17</td>\n      <td>28882.03</td>\n    </tr>\n  </tbody>\n</table>\n<p>3686 rows × 10 columns</p>\n</div>"
     },
     "metadata": {},
     "execution_count": 3
    }
   ],
   "source": [
    "df2 = df1[[\"ORGN Desc\", \"Last Name\", \"First Name\", \"Birth Date\", \"Hire Date\", \"Title Code\", \"Title Desc\", \"Termination Date\", \"Pay Prog Start Date\", \"Annual Salary\"]]\n",
    "df2.rename(columns={\n",
    "    \"ORGN Desc\": \"Department\",\n",
    "    \"Title Code\": \"Rank Number #\",\n",
    "    \"Title Desc\": \"Rank\",\n",
    "}, inplace=True)\n",
    "df2 = rearrange_personel_columns(df2)\n",
    "for col in [\"Last Name\", \"First Name\"]:\n",
    "    df2.loc[:, col] = df2[col].map(clean_name, na_action=\"ignore\")\n",
    "for col in [\"Birth Date\", \"Hire Date\", \"Termination Date\", \"Pay Prog Start Date\"]:\n",
    "    df2.loc[:, col] = to_datetime_series(df2[col])\n",
    "df2"
   ]
  },
  {
   "cell_type": "code",
   "execution_count": 4,
   "metadata": {},
   "outputs": [],
   "source": [
    "df2.to_csv(\"../output/new-orleans-csd_personel_09-10-2020.csv\", index=False)"
   ]
  },
  {
   "cell_type": "code",
   "execution_count": null,
   "metadata": {},
   "outputs": [],
   "source": []
  }
 ],
 "metadata": {
  "kernelspec": {
   "display_name": "Python 3",
   "language": "python",
   "name": "python3"
  },
  "language_info": {
   "codemirror_mode": {
    "name": "ipython",
    "version": 3
   },
   "file_extension": ".py",
   "mimetype": "text/x-python",
   "name": "python",
   "nbconvert_exporter": "python",
   "pygments_lexer": "ipython3",
   "version": "3.8.3-final"
  }
 },
 "nbformat": 4,
 "nbformat_minor": 4
}
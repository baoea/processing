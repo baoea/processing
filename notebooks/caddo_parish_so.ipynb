{
 "metadata": {
  "language_info": {
   "codemirror_mode": {
    "name": "ipython",
    "version": 3
   },
   "file_extension": ".py",
   "mimetype": "text/x-python",
   "name": "python",
   "nbconvert_exporter": "python",
   "pygments_lexer": "ipython3",
   "version": "3.8.3-final"
  },
  "orig_nbformat": 2,
  "kernelspec": {
   "name": "python383jvsc74a57bd0759d03fc00c4e55187619d7bc1e0b6a3309d14c7c00d43a321634150e05678f8",
   "display_name": "Python 3.8.3 64-bit ('base': conda)"
  }
 },
 "nbformat": 4,
 "nbformat_minor": 2,
 "cells": [
  {
   "cell_type": "code",
   "execution_count": 1,
   "metadata": {},
   "outputs": [],
   "source": [
    "import sys; sys.path.append('../')\n",
    "import pandas as pd\n",
    "\n",
    "from clean.caddo_parish_so_pprr import clean"
   ]
  },
  {
   "cell_type": "code",
   "execution_count": 2,
   "metadata": {},
   "outputs": [
    {
     "output_type": "execute_result",
     "data": {
      "text/plain": [
       "     employee_id                         rank_desc  annual_salary first_name  \\\n",
       "0         199822   deputy - prior service corporal       48347.52       eric   \n",
       "1          82368                        lieutenant       55721.12      james   \n",
       "2         174609  p.o.s.t. part-time employ hourly       19448.00      jimmy   \n",
       "3          64194      chief administrative officer      106751.84      jobie   \n",
       "4          40491                          corporal       57805.28       john   \n",
       "..           ...                               ...            ...        ...   \n",
       "754       203220                            deputy       40649.44   ashantis   \n",
       "755       196517                     senior deputy       42292.64      gavin   \n",
       "756        57533  p.o.s.t. part-time employ hourly       17680.00       john   \n",
       "757        46501                        lieutenant       63539.84     robert   \n",
       "758        71028                           manager       53000.48     ardean   \n",
       "\n",
       "    last_name middle_name middle_initial           agency  \\\n",
       "0       moore        leon              l  Caddo Parish SO   \n",
       "1       moore   frederick              f  Caddo Parish SO   \n",
       "2       moore        dale              d  Caddo Parish SO   \n",
       "3       moore        lynn              l  Caddo Parish SO   \n",
       "4       moore     crayton              c  Caddo Parish SO   \n",
       "..        ...         ...            ...              ...   \n",
       "754  mitchell     brielle              b  Caddo Parish SO   \n",
       "755  mitchell      jerrod              j  Caddo Parish SO   \n",
       "756     mixon        mark              m  Caddo Parish SO   \n",
       "757   montoya      manuel              m  Caddo Parish SO   \n",
       "758     moore       latin              l  Caddo Parish SO   \n",
       "\n",
       "     data_production_year hire_year hire_month hire_day  \\\n",
       "0                    2020      2015          2        2   \n",
       "1                    2020      2002          9       26   \n",
       "2                    2020      2011         12        9   \n",
       "3                    2020      2000          7        1   \n",
       "4                    2020      1998          4        9   \n",
       "..                    ...       ...        ...      ...   \n",
       "754                  2020      2016          6       10   \n",
       "755                  2020      2014          6        9   \n",
       "756                  2020      2017          1       16   \n",
       "757                  2020      1998         10       22   \n",
       "758                  2020      2012         10        8   \n",
       "\n",
       "                                  uid  \n",
       "0    8bc51e074e83c17a598120782ea1aa05  \n",
       "1    732794f3521eddcc58490abc073ede61  \n",
       "2    9828531cc69d9ee6c14f70bfa986c116  \n",
       "3    b2d3c3467da6694f190975e6a02b44fe  \n",
       "4    6dde52434c841b1c318a9eb9adf608a7  \n",
       "..                                ...  \n",
       "754  00b9e0c6761cd93242e8a837d36c2acd  \n",
       "755  f452758a266ed5f7b4813cbc0a2837de  \n",
       "756  4b55a994c781c400c1ef954c1bf2022f  \n",
       "757  5e81d88af67c209f2d0f66461021206c  \n",
       "758  87f23dfac79219a68a143d5140417181  \n",
       "\n",
       "[759 rows x 13 columns]"
      ],
      "text/html": "<div>\n<style scoped>\n    .dataframe tbody tr th:only-of-type {\n        vertical-align: middle;\n    }\n\n    .dataframe tbody tr th {\n        vertical-align: top;\n    }\n\n    .dataframe thead th {\n        text-align: right;\n    }\n</style>\n<table border=\"1\" class=\"dataframe\">\n  <thead>\n    <tr style=\"text-align: right;\">\n      <th></th>\n      <th>employee_id</th>\n      <th>rank_desc</th>\n      <th>annual_salary</th>\n      <th>first_name</th>\n      <th>last_name</th>\n      <th>middle_name</th>\n      <th>middle_initial</th>\n      <th>agency</th>\n      <th>data_production_year</th>\n      <th>hire_year</th>\n      <th>hire_month</th>\n      <th>hire_day</th>\n      <th>uid</th>\n    </tr>\n  </thead>\n  <tbody>\n    <tr>\n      <th>0</th>\n      <td>199822</td>\n      <td>deputy - prior service corporal</td>\n      <td>48347.52</td>\n      <td>eric</td>\n      <td>moore</td>\n      <td>leon</td>\n      <td>l</td>\n      <td>Caddo Parish SO</td>\n      <td>2020</td>\n      <td>2015</td>\n      <td>2</td>\n      <td>2</td>\n      <td>8bc51e074e83c17a598120782ea1aa05</td>\n    </tr>\n    <tr>\n      <th>1</th>\n      <td>82368</td>\n      <td>lieutenant</td>\n      <td>55721.12</td>\n      <td>james</td>\n      <td>moore</td>\n      <td>frederick</td>\n      <td>f</td>\n      <td>Caddo Parish SO</td>\n      <td>2020</td>\n      <td>2002</td>\n      <td>9</td>\n      <td>26</td>\n      <td>732794f3521eddcc58490abc073ede61</td>\n    </tr>\n    <tr>\n      <th>2</th>\n      <td>174609</td>\n      <td>p.o.s.t. part-time employ hourly</td>\n      <td>19448.00</td>\n      <td>jimmy</td>\n      <td>moore</td>\n      <td>dale</td>\n      <td>d</td>\n      <td>Caddo Parish SO</td>\n      <td>2020</td>\n      <td>2011</td>\n      <td>12</td>\n      <td>9</td>\n      <td>9828531cc69d9ee6c14f70bfa986c116</td>\n    </tr>\n    <tr>\n      <th>3</th>\n      <td>64194</td>\n      <td>chief administrative officer</td>\n      <td>106751.84</td>\n      <td>jobie</td>\n      <td>moore</td>\n      <td>lynn</td>\n      <td>l</td>\n      <td>Caddo Parish SO</td>\n      <td>2020</td>\n      <td>2000</td>\n      <td>7</td>\n      <td>1</td>\n      <td>b2d3c3467da6694f190975e6a02b44fe</td>\n    </tr>\n    <tr>\n      <th>4</th>\n      <td>40491</td>\n      <td>corporal</td>\n      <td>57805.28</td>\n      <td>john</td>\n      <td>moore</td>\n      <td>crayton</td>\n      <td>c</td>\n      <td>Caddo Parish SO</td>\n      <td>2020</td>\n      <td>1998</td>\n      <td>4</td>\n      <td>9</td>\n      <td>6dde52434c841b1c318a9eb9adf608a7</td>\n    </tr>\n    <tr>\n      <th>...</th>\n      <td>...</td>\n      <td>...</td>\n      <td>...</td>\n      <td>...</td>\n      <td>...</td>\n      <td>...</td>\n      <td>...</td>\n      <td>...</td>\n      <td>...</td>\n      <td>...</td>\n      <td>...</td>\n      <td>...</td>\n      <td>...</td>\n    </tr>\n    <tr>\n      <th>754</th>\n      <td>203220</td>\n      <td>deputy</td>\n      <td>40649.44</td>\n      <td>ashantis</td>\n      <td>mitchell</td>\n      <td>brielle</td>\n      <td>b</td>\n      <td>Caddo Parish SO</td>\n      <td>2020</td>\n      <td>2016</td>\n      <td>6</td>\n      <td>10</td>\n      <td>00b9e0c6761cd93242e8a837d36c2acd</td>\n    </tr>\n    <tr>\n      <th>755</th>\n      <td>196517</td>\n      <td>senior deputy</td>\n      <td>42292.64</td>\n      <td>gavin</td>\n      <td>mitchell</td>\n      <td>jerrod</td>\n      <td>j</td>\n      <td>Caddo Parish SO</td>\n      <td>2020</td>\n      <td>2014</td>\n      <td>6</td>\n      <td>9</td>\n      <td>f452758a266ed5f7b4813cbc0a2837de</td>\n    </tr>\n    <tr>\n      <th>756</th>\n      <td>57533</td>\n      <td>p.o.s.t. part-time employ hourly</td>\n      <td>17680.00</td>\n      <td>john</td>\n      <td>mixon</td>\n      <td>mark</td>\n      <td>m</td>\n      <td>Caddo Parish SO</td>\n      <td>2020</td>\n      <td>2017</td>\n      <td>1</td>\n      <td>16</td>\n      <td>4b55a994c781c400c1ef954c1bf2022f</td>\n    </tr>\n    <tr>\n      <th>757</th>\n      <td>46501</td>\n      <td>lieutenant</td>\n      <td>63539.84</td>\n      <td>robert</td>\n      <td>montoya</td>\n      <td>manuel</td>\n      <td>m</td>\n      <td>Caddo Parish SO</td>\n      <td>2020</td>\n      <td>1998</td>\n      <td>10</td>\n      <td>22</td>\n      <td>5e81d88af67c209f2d0f66461021206c</td>\n    </tr>\n    <tr>\n      <th>758</th>\n      <td>71028</td>\n      <td>manager</td>\n      <td>53000.48</td>\n      <td>ardean</td>\n      <td>moore</td>\n      <td>latin</td>\n      <td>l</td>\n      <td>Caddo Parish SO</td>\n      <td>2020</td>\n      <td>2012</td>\n      <td>10</td>\n      <td>8</td>\n      <td>87f23dfac79219a68a143d5140417181</td>\n    </tr>\n  </tbody>\n</table>\n<p>759 rows × 13 columns</p>\n</div>"
     },
     "metadata": {},
     "execution_count": 2
    }
   ],
   "source": [
    "df = clean()\n",
    "df"
   ]
  },
  {
   "cell_type": "code",
   "execution_count": 3,
   "metadata": {},
   "outputs": [],
   "source": [
    "# post = pd.read_csv('../data/clean/pprr_post_2020_11_06.csv')\n",
    "# post = post[post.agency == 'caddo parish so'].reset_index(drop=True)"
   ]
  },
  {
   "cell_type": "code",
   "execution_count": null,
   "metadata": {},
   "outputs": [],
   "source": []
  }
 ]
}
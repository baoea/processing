{
 "cells": [
  {
   "cell_type": "code",
   "execution_count": 1,
   "metadata": {},
   "outputs": [],
   "source": [
    "import re\n",
    "import sys; sys.path.append(\"../\")\n",
    "\n",
    "import pandas as pd\n",
    "\n",
    "from lib.new_orleans_pd_pprr import clean_pprr, remove_unnamed_cols"
   ]
  },
  {
   "cell_type": "code",
   "execution_count": 19,
   "metadata": {},
   "outputs": [
    {
     "output_type": "execute_result",
     "data": {
      "text/plain": [
       "      Last Name Middle Name First Name Badge #  Department # Rank Number #  \\\n",
       "0        Conway           D    Corliss   00911       2702736         C7134   \n",
       "1      Kendrick           D      Jamal   01226       2702734         C7110   \n",
       "2      Marshall           M     Tianay   02101       2702734         C7134   \n",
       "3         Weber           L     Tamara   01580       2702750         C7134   \n",
       "4        Pierce           G    Arlinda               2702705         U0018   \n",
       "...         ...         ...        ...     ...           ...           ...   \n",
       "1172     Miller           M    Patrick               2702733         C7110   \n",
       "1173    Collins              Cleveland               2702732         C7110   \n",
       "1174  Broussard           E     Dennis               2702737         C7110   \n",
       "1175    Condoll               Tyneisha               2702737         C7110   \n",
       "1176   Venables           V       Lynn               2702718         C7110   \n",
       "\n",
       "                          Rank  Birth Year          Full Name  Age  \n",
       "0        SENIOR POLICE OFFICER        1963     Corliss Conway   57  \n",
       "1               POLICE OFFICER        1969     Jamal Kendrick   51  \n",
       "2        SENIOR POLICE OFFICER        1978    Tianay Marshall   42  \n",
       "3        SENIOR POLICE OFFICER        1975       Tamara Weber   45  \n",
       "4     ASSISTANT SUPT OF POLICE        1969     Arlinda Pierce   51  \n",
       "...                        ...         ...                ...  ...  \n",
       "1172            POLICE OFFICER        1991     Patrick Miller   29  \n",
       "1173            POLICE OFFICER        1995  Cleveland Collins   25  \n",
       "1174            POLICE OFFICER        1993   Dennis Broussard   27  \n",
       "1175            POLICE OFFICER        1994   Tyneisha Condoll   26  \n",
       "1176            POLICE OFFICER        1953      Lynn Venables   67  \n",
       "\n",
       "[1177 rows x 10 columns]"
      ],
      "text/html": "<div>\n<style scoped>\n    .dataframe tbody tr th:only-of-type {\n        vertical-align: middle;\n    }\n\n    .dataframe tbody tr th {\n        vertical-align: top;\n    }\n\n    .dataframe thead th {\n        text-align: right;\n    }\n</style>\n<table border=\"1\" class=\"dataframe\">\n  <thead>\n    <tr style=\"text-align: right;\">\n      <th></th>\n      <th>Last Name</th>\n      <th>Middle Name</th>\n      <th>First Name</th>\n      <th>Badge #</th>\n      <th>Department #</th>\n      <th>Rank Number #</th>\n      <th>Rank</th>\n      <th>Birth Year</th>\n      <th>Full Name</th>\n      <th>Age</th>\n    </tr>\n  </thead>\n  <tbody>\n    <tr>\n      <th>0</th>\n      <td>Conway</td>\n      <td>D</td>\n      <td>Corliss</td>\n      <td>00911</td>\n      <td>2702736</td>\n      <td>C7134</td>\n      <td>SENIOR POLICE OFFICER</td>\n      <td>1963</td>\n      <td>Corliss Conway</td>\n      <td>57</td>\n    </tr>\n    <tr>\n      <th>1</th>\n      <td>Kendrick</td>\n      <td>D</td>\n      <td>Jamal</td>\n      <td>01226</td>\n      <td>2702734</td>\n      <td>C7110</td>\n      <td>POLICE OFFICER</td>\n      <td>1969</td>\n      <td>Jamal Kendrick</td>\n      <td>51</td>\n    </tr>\n    <tr>\n      <th>2</th>\n      <td>Marshall</td>\n      <td>M</td>\n      <td>Tianay</td>\n      <td>02101</td>\n      <td>2702734</td>\n      <td>C7134</td>\n      <td>SENIOR POLICE OFFICER</td>\n      <td>1978</td>\n      <td>Tianay Marshall</td>\n      <td>42</td>\n    </tr>\n    <tr>\n      <th>3</th>\n      <td>Weber</td>\n      <td>L</td>\n      <td>Tamara</td>\n      <td>01580</td>\n      <td>2702750</td>\n      <td>C7134</td>\n      <td>SENIOR POLICE OFFICER</td>\n      <td>1975</td>\n      <td>Tamara Weber</td>\n      <td>45</td>\n    </tr>\n    <tr>\n      <th>4</th>\n      <td>Pierce</td>\n      <td>G</td>\n      <td>Arlinda</td>\n      <td></td>\n      <td>2702705</td>\n      <td>U0018</td>\n      <td>ASSISTANT SUPT OF POLICE</td>\n      <td>1969</td>\n      <td>Arlinda Pierce</td>\n      <td>51</td>\n    </tr>\n    <tr>\n      <th>...</th>\n      <td>...</td>\n      <td>...</td>\n      <td>...</td>\n      <td>...</td>\n      <td>...</td>\n      <td>...</td>\n      <td>...</td>\n      <td>...</td>\n      <td>...</td>\n      <td>...</td>\n    </tr>\n    <tr>\n      <th>1172</th>\n      <td>Miller</td>\n      <td>M</td>\n      <td>Patrick</td>\n      <td></td>\n      <td>2702733</td>\n      <td>C7110</td>\n      <td>POLICE OFFICER</td>\n      <td>1991</td>\n      <td>Patrick Miller</td>\n      <td>29</td>\n    </tr>\n    <tr>\n      <th>1173</th>\n      <td>Collins</td>\n      <td></td>\n      <td>Cleveland</td>\n      <td></td>\n      <td>2702732</td>\n      <td>C7110</td>\n      <td>POLICE OFFICER</td>\n      <td>1995</td>\n      <td>Cleveland Collins</td>\n      <td>25</td>\n    </tr>\n    <tr>\n      <th>1174</th>\n      <td>Broussard</td>\n      <td>E</td>\n      <td>Dennis</td>\n      <td></td>\n      <td>2702737</td>\n      <td>C7110</td>\n      <td>POLICE OFFICER</td>\n      <td>1993</td>\n      <td>Dennis Broussard</td>\n      <td>27</td>\n    </tr>\n    <tr>\n      <th>1175</th>\n      <td>Condoll</td>\n      <td></td>\n      <td>Tyneisha</td>\n      <td></td>\n      <td>2702737</td>\n      <td>C7110</td>\n      <td>POLICE OFFICER</td>\n      <td>1994</td>\n      <td>Tyneisha Condoll</td>\n      <td>26</td>\n    </tr>\n    <tr>\n      <th>1176</th>\n      <td>Venables</td>\n      <td>V</td>\n      <td>Lynn</td>\n      <td></td>\n      <td>2702718</td>\n      <td>C7110</td>\n      <td>POLICE OFFICER</td>\n      <td>1953</td>\n      <td>Lynn Venables</td>\n      <td>67</td>\n    </tr>\n  </tbody>\n</table>\n<p>1177 rows × 10 columns</p>\n</div>"
     },
     "metadata": {},
     "execution_count": 19
    }
   ],
   "source": [
    "pprr = pd.read_excel(\"../data/New Orleans PD/Complaints Data/New Orleans_PD_PPRR_2019.xls\")\n",
    "pprr = remove_unnamed_cols(pprr)\n",
    "pprr = clean_pprr(pprr)\n",
    "pprr.loc[:, \"Full Name\"] = pprr.loc[:, \"First Name\"].str.cat(pprr.loc[:, \"Last Name\"], sep=\" \")\n",
    "pprr.loc[:, \"Age\"] = 2020 - pprr.loc[:, \"Birth Year\"]\n",
    "pprr"
   ]
  },
  {
   "cell_type": "code",
   "execution_count": 20,
   "metadata": {},
   "outputs": [
    {
     "output_type": "execute_result",
     "data": {
      "text/plain": [
       "     Last Name Middle Name First Name Badge #  Department # Rank Number #  \\\n",
       "116    Palumbo           P     Samuel   00462       2702791         C7111   \n",
       "123   Williams           A    Derrick   02275       2702736         C7134   \n",
       "135      Jones               Lawrence   00209       2702705         C7111   \n",
       "180   Benjamin           C       Rene   00289       2702782         C7111   \n",
       "431    Palumbo                 Samuel   00359       2702736         C7112   \n",
       "476      Jones               Lawrence   01695       2702731         C7134   \n",
       "940   Williams                Derrick   01465       2702731         C7110   \n",
       "1095  Benjamin           C       Rene     602       2702732         C7110   \n",
       "\n",
       "                       Rank  Birth Year         Full Name  Age  \n",
       "116         POLICE SERGEANT        1950    Samuel Palumbo   70  \n",
       "123   SENIOR POLICE OFFICER        1972  Derrick Williams   48  \n",
       "135         POLICE SERGEANT        1971    Lawrence Jones   49  \n",
       "180         POLICE SERGEANT        1965     Rene Benjamin   55  \n",
       "431       POLICE LIEUTENANT        1981    Samuel Palumbo   39  \n",
       "476   SENIOR POLICE OFFICER        1975    Lawrence Jones   45  \n",
       "940          POLICE OFFICER        1983  Derrick Williams   37  \n",
       "1095         POLICE OFFICER        1990     Rene Benjamin   30  "
      ],
      "text/html": "<div>\n<style scoped>\n    .dataframe tbody tr th:only-of-type {\n        vertical-align: middle;\n    }\n\n    .dataframe tbody tr th {\n        vertical-align: top;\n    }\n\n    .dataframe thead th {\n        text-align: right;\n    }\n</style>\n<table border=\"1\" class=\"dataframe\">\n  <thead>\n    <tr style=\"text-align: right;\">\n      <th></th>\n      <th>Last Name</th>\n      <th>Middle Name</th>\n      <th>First Name</th>\n      <th>Badge #</th>\n      <th>Department #</th>\n      <th>Rank Number #</th>\n      <th>Rank</th>\n      <th>Birth Year</th>\n      <th>Full Name</th>\n      <th>Age</th>\n    </tr>\n  </thead>\n  <tbody>\n    <tr>\n      <th>116</th>\n      <td>Palumbo</td>\n      <td>P</td>\n      <td>Samuel</td>\n      <td>00462</td>\n      <td>2702791</td>\n      <td>C7111</td>\n      <td>POLICE SERGEANT</td>\n      <td>1950</td>\n      <td>Samuel Palumbo</td>\n      <td>70</td>\n    </tr>\n    <tr>\n      <th>123</th>\n      <td>Williams</td>\n      <td>A</td>\n      <td>Derrick</td>\n      <td>02275</td>\n      <td>2702736</td>\n      <td>C7134</td>\n      <td>SENIOR POLICE OFFICER</td>\n      <td>1972</td>\n      <td>Derrick Williams</td>\n      <td>48</td>\n    </tr>\n    <tr>\n      <th>135</th>\n      <td>Jones</td>\n      <td></td>\n      <td>Lawrence</td>\n      <td>00209</td>\n      <td>2702705</td>\n      <td>C7111</td>\n      <td>POLICE SERGEANT</td>\n      <td>1971</td>\n      <td>Lawrence Jones</td>\n      <td>49</td>\n    </tr>\n    <tr>\n      <th>180</th>\n      <td>Benjamin</td>\n      <td>C</td>\n      <td>Rene</td>\n      <td>00289</td>\n      <td>2702782</td>\n      <td>C7111</td>\n      <td>POLICE SERGEANT</td>\n      <td>1965</td>\n      <td>Rene Benjamin</td>\n      <td>55</td>\n    </tr>\n    <tr>\n      <th>431</th>\n      <td>Palumbo</td>\n      <td></td>\n      <td>Samuel</td>\n      <td>00359</td>\n      <td>2702736</td>\n      <td>C7112</td>\n      <td>POLICE LIEUTENANT</td>\n      <td>1981</td>\n      <td>Samuel Palumbo</td>\n      <td>39</td>\n    </tr>\n    <tr>\n      <th>476</th>\n      <td>Jones</td>\n      <td></td>\n      <td>Lawrence</td>\n      <td>01695</td>\n      <td>2702731</td>\n      <td>C7134</td>\n      <td>SENIOR POLICE OFFICER</td>\n      <td>1975</td>\n      <td>Lawrence Jones</td>\n      <td>45</td>\n    </tr>\n    <tr>\n      <th>940</th>\n      <td>Williams</td>\n      <td></td>\n      <td>Derrick</td>\n      <td>01465</td>\n      <td>2702731</td>\n      <td>C7110</td>\n      <td>POLICE OFFICER</td>\n      <td>1983</td>\n      <td>Derrick Williams</td>\n      <td>37</td>\n    </tr>\n    <tr>\n      <th>1095</th>\n      <td>Benjamin</td>\n      <td>C</td>\n      <td>Rene</td>\n      <td>602</td>\n      <td>2702732</td>\n      <td>C7110</td>\n      <td>POLICE OFFICER</td>\n      <td>1990</td>\n      <td>Rene Benjamin</td>\n      <td>30</td>\n    </tr>\n  </tbody>\n</table>\n</div>"
     },
     "metadata": {},
     "execution_count": 20
    }
   ],
   "source": [
    "dup_pprr = pprr[pprr[\"Full Name\"].duplicated(keep=False)]\n",
    "dup_pprr"
   ]
  },
  {
   "cell_type": "code",
   "execution_count": 22,
   "metadata": {},
   "outputs": [
    {
     "output_type": "execute_result",
     "data": {
      "text/plain": [
       "array(['Samuel Palumbo', 'Derrick Williams', 'Lawrence Jones',\n",
       "       'Rene Benjamin'], dtype=object)"
      ]
     },
     "metadata": {},
     "execution_count": 22
    }
   ],
   "source": [
    "dup_names = dup_pprr[\"Full Name\"].unique()\n",
    "dup_names"
   ]
  },
  {
   "cell_type": "code",
   "execution_count": 13,
   "metadata": {},
   "outputs": [
    {
     "output_type": "execute_result",
     "data": {
      "text/plain": [
       "    Complaint Tracking Number  Last name First name         Full Name\n",
       "0                 2020-0001-P    Rigamer     Robert    Robert Rigamer\n",
       "1                 2020-0002-P        NaN        NaN               NaN\n",
       "2                 2020-0003-P   Pfeiffer    Michael  Michael Pfeiffer\n",
       "3                 2020-0004-R   Mcmullen     Daniel   Daniel Mcmullen\n",
       "4                 2020-0005-P     Morris    William    William Morris\n",
       "..                        ...        ...        ...               ...\n",
       "687               2020-0585-P   Godchaux       Kira     Kira Godchaux\n",
       "688               2020-0590-R     Samuel   Jennifer   Jennifer Samuel\n",
       "689               2020-0593-P     Arnaud     Lester     Lester Arnaud\n",
       "690               2020-0597-P    Wiedman     Andrew    Andrew Wiedman\n",
       "691               2020-0597-P  Broussard     Elaine  Elaine Broussard\n",
       "\n",
       "[692 rows x 4 columns]"
      ],
      "text/html": "<div>\n<style scoped>\n    .dataframe tbody tr th:only-of-type {\n        vertical-align: middle;\n    }\n\n    .dataframe tbody tr th {\n        vertical-align: top;\n    }\n\n    .dataframe thead th {\n        text-align: right;\n    }\n</style>\n<table border=\"1\" class=\"dataframe\">\n  <thead>\n    <tr style=\"text-align: right;\">\n      <th></th>\n      <th>Complaint Tracking Number</th>\n      <th>Last name</th>\n      <th>First name</th>\n      <th>Full Name</th>\n    </tr>\n  </thead>\n  <tbody>\n    <tr>\n      <th>0</th>\n      <td>2020-0001-P</td>\n      <td>Rigamer</td>\n      <td>Robert</td>\n      <td>Robert Rigamer</td>\n    </tr>\n    <tr>\n      <th>1</th>\n      <td>2020-0002-P</td>\n      <td>NaN</td>\n      <td>NaN</td>\n      <td>NaN</td>\n    </tr>\n    <tr>\n      <th>2</th>\n      <td>2020-0003-P</td>\n      <td>Pfeiffer</td>\n      <td>Michael</td>\n      <td>Michael Pfeiffer</td>\n    </tr>\n    <tr>\n      <th>3</th>\n      <td>2020-0004-R</td>\n      <td>Mcmullen</td>\n      <td>Daniel</td>\n      <td>Daniel Mcmullen</td>\n    </tr>\n    <tr>\n      <th>4</th>\n      <td>2020-0005-P</td>\n      <td>Morris</td>\n      <td>William</td>\n      <td>William Morris</td>\n    </tr>\n    <tr>\n      <th>...</th>\n      <td>...</td>\n      <td>...</td>\n      <td>...</td>\n      <td>...</td>\n    </tr>\n    <tr>\n      <th>687</th>\n      <td>2020-0585-P</td>\n      <td>Godchaux</td>\n      <td>Kira</td>\n      <td>Kira Godchaux</td>\n    </tr>\n    <tr>\n      <th>688</th>\n      <td>2020-0590-R</td>\n      <td>Samuel</td>\n      <td>Jennifer</td>\n      <td>Jennifer Samuel</td>\n    </tr>\n    <tr>\n      <th>689</th>\n      <td>2020-0593-P</td>\n      <td>Arnaud</td>\n      <td>Lester</td>\n      <td>Lester Arnaud</td>\n    </tr>\n    <tr>\n      <th>690</th>\n      <td>2020-0597-P</td>\n      <td>Wiedman</td>\n      <td>Andrew</td>\n      <td>Andrew Wiedman</td>\n    </tr>\n    <tr>\n      <th>691</th>\n      <td>2020-0597-P</td>\n      <td>Broussard</td>\n      <td>Elaine</td>\n      <td>Elaine Broussard</td>\n    </tr>\n  </tbody>\n</table>\n<p>692 rows × 4 columns</p>\n</div>"
     },
     "metadata": {},
     "execution_count": 13
    }
   ],
   "source": [
    "ctn = pd.read_excel(\"../data/New Orleans PD/Complaints Data/New Orleans_PD_Tracking Number_2020.xls\")\n",
    "ctn = ctn[[col for col in ctn.columns if not col.startswith(\"Unnamed:\")]]\n",
    "ctn.loc[:, \"Full Name\"] = ctn.loc[:, \"First name\"].str.cat(ctn.loc[:, \"Last name\"], sep=\" \")\n",
    "ctn"
   ]
  },
  {
   "cell_type": "code",
   "execution_count": 31,
   "metadata": {},
   "outputs": [
    {
     "output_type": "execute_result",
     "data": {
      "text/plain": [
       "2020-0006-P    21\n",
       "2020-0207-R     7\n",
       "2020-0283-P     6\n",
       "2020-0390-P     6\n",
       "2020-0313-P     6\n",
       "               ..\n",
       "2020-0398-P     1\n",
       "2020-0213-P     1\n",
       "2020-0276-P     1\n",
       "2020-0255-P     1\n",
       "2020-0051-R     1\n",
       "Name: Complaint Tracking Number, Length: 446, dtype: int64"
      ]
     },
     "metadata": {},
     "execution_count": 31
    }
   ],
   "source": [
    "# ctn[ctn[\"Complaint Tracking Number\"] == \"2020-0006-P\"]\n",
    "ctn[\"Complaint Tracking Number\"].sort_values().value_counts(dropna=True)"
   ]
  },
  {
   "cell_type": "code",
   "execution_count": 15,
   "metadata": {},
   "outputs": [
    {
     "output_type": "execute_result",
     "data": {
      "text/plain": [
       "        Incident Type Complaint Tracking Number Date Complaint Occurred  \\\n",
       "0    Public Initiated               2020-0001-P              10/19/2014   \n",
       "1    Public Initiated               2020-0002-P              10/27/2019   \n",
       "2    Public Initiated               2020-0003-P                1/1/2020   \n",
       "3      Rank Initiated               2020-0004-R                1/3/2020   \n",
       "4    Public Initiated               2020-0005-P                1/4/2020   \n",
       "..                ...                       ...                     ...   \n",
       "756    Rank Initiated               2020-0625-R              12/19/2020   \n",
       "757    Rank Initiated               2020-0625-R              12/19/2020   \n",
       "758    Rank Initiated               2020-0628-R              12/11/2019   \n",
       "759    Rank Initiated               2020-0628-R              12/11/2019   \n",
       "760  Public Initiated               2020-0724-P              10/17/2019   \n",
       "\n",
       "    Date Complaint Received by NOPD (PIB)  \\\n",
       "0                                1/3/2020   \n",
       "1                                1/3/2020   \n",
       "2                                1/3/2020   \n",
       "3                               1/15/2020   \n",
       "4                                1/5/2020   \n",
       "..                                    ...   \n",
       "756                            12/20/2020   \n",
       "757                            12/20/2020   \n",
       "758                            12/22/2020   \n",
       "759                            12/22/2020   \n",
       "760                            12/11/2019   \n",
       "\n",
       "    Date Complaint Investigation Complete Complaint classification  \\\n",
       "0                                     NaN                     DI-1   \n",
       "1                                3/6/2020                     DI-1   \n",
       "2                                5/4/2020                     DI-1   \n",
       "3                                     NaN                     DI-1   \n",
       "4                               8/31/2020                     DI-1   \n",
       "..                                    ...                      ...   \n",
       "756                                   NaN                     DI-1   \n",
       "757                                   NaN                     DI-1   \n",
       "758                                   NaN                     DI-1   \n",
       "759                                   NaN                     DI-1   \n",
       "760                             1/15/2020                     DI-1   \n",
       "\n",
       "    Investigation status    Disposition  \\\n",
       "0              Forwarded        Pending   \n",
       "1              Completed  Not Sustained   \n",
       "2              Completed      Unfounded   \n",
       "3              Forwarded        Pending   \n",
       "4              Completed      Sustained   \n",
       "..                   ...            ...   \n",
       "756               Active        Pending   \n",
       "757               Active        Pending   \n",
       "758              Initial        Pending   \n",
       "759              Initial        Pending   \n",
       "760            Completed          Other   \n",
       "\n",
       "                       Bureau of Complainant  \\\n",
       "0              FOB - Field Operations Bureau   \n",
       "1                                        NaN   \n",
       "2                                        NaN   \n",
       "3    ISB - Investigations and Support Bureau   \n",
       "4              FOB - Field Operations Bureau   \n",
       "..                                       ...   \n",
       "756            FOB - Field Operations Bureau   \n",
       "757            FOB - Field Operations Bureau   \n",
       "758            FOB - Field Operations Bureau   \n",
       "759            FOB - Field Operations Bureau   \n",
       "760                                      NaN   \n",
       "\n",
       "              Division of Complainant  ...         Rule Violation  \\\n",
       "0                        2nd District  ...  RULE 2: MORAL CONDUCT   \n",
       "1                                 NaN  ...   RULE 3: PROF CONDUCT   \n",
       "2                                 NaN  ...   RULE 3: PROF CONDUCT   \n",
       "3    Criminal Investigations Division  ...   RULE 4: PERF OF DUTY   \n",
       "4                        4th District  ...   RULE 4: PERF OF DUTY   \n",
       "..                                ...  ...                    ...   \n",
       "756                      5th District  ...   RULE 4: PERF OF DUTY   \n",
       "757                      5th District  ...   RULE 4: PERF OF DUTY   \n",
       "758                      3rd District  ...   RULE 4: PERF OF DUTY   \n",
       "759                      3rd District  ...   RULE 4: PERF OF DUTY   \n",
       "760                               NaN  ...   RULE 3: PROF CONDUCT   \n",
       "\n",
       "                                   Paragraph Violation  \\\n",
       "0                      PARAGRAPH 01 - ADHERENCE TO LAW   \n",
       "1                       PARAGRAPH 01 - Professionalism   \n",
       "2                       PARAGRAPH 01 - Professionalism   \n",
       "3    PARAGRAPH 02 - INSTRUCTIONS FROM AUTHORITATIVE...   \n",
       "4                       PARAGRAPH 04 - NEGLECT OF DUTY   \n",
       "..                                                 ...   \n",
       "756                     PARAGRAPH 04 - NEGLECT OF DUTY   \n",
       "757                     PARAGRAPH 04 - NEGLECT OF DUTY   \n",
       "758                     PARAGRAPH 04 - NEGLECT OF DUTY   \n",
       "759                     PARAGRAPH 04 - NEGLECT OF DUTY   \n",
       "760                     PARAGRAPH 01 - Professionalism   \n",
       "\n",
       "    Unique Officer Allegation ID Officer Race Ethnicity Officer Gender  \\\n",
       "0                        55485.0                  White           Male   \n",
       "1                        57204.0                    NaN            NaN   \n",
       "2                        56365.0                  White           Male   \n",
       "3                        55421.0                  White           Male   \n",
       "4                        56821.0                  Black           Male   \n",
       "..                           ...                    ...            ...   \n",
       "756                      57954.0                  Black         Female   \n",
       "757                      57956.0                  Black           Male   \n",
       "758                      57986.0                  White           Male   \n",
       "759                      57987.0                  White         Female   \n",
       "760                      57320.0               Hispanic           Male   \n",
       "\n",
       "    Officer Age  Officer years of service Complainant Gender  \\\n",
       "0            45                       0.0               Male   \n",
       "1           NaN                       0.0                NaN   \n",
       "2            66                       0.0                NaN   \n",
       "3            52                       0.0                NaN   \n",
       "4            33                       0.0             Female   \n",
       "..          ...                       ...                ...   \n",
       "756          33                       0.0                NaN   \n",
       "757          22                       0.0                NaN   \n",
       "758          38                       0.0               Male   \n",
       "759          22                       0.0               Male   \n",
       "760          29                       0.0             Female   \n",
       "\n",
       "    Complainant Ethnicity Complainant Age  \n",
       "0                     NaN             NaN  \n",
       "1                     NaN             NaN  \n",
       "2                   Black             NaN  \n",
       "3                     NaN             NaN  \n",
       "4                   Black            30.0  \n",
       "..                    ...             ...  \n",
       "756                   NaN             NaN  \n",
       "757                   NaN             NaN  \n",
       "758                 White            76.0  \n",
       "759                 White            76.0  \n",
       "760                 Black            45.0  \n",
       "\n",
       "[761 rows x 24 columns]"
      ],
      "text/html": "<div>\n<style scoped>\n    .dataframe tbody tr th:only-of-type {\n        vertical-align: middle;\n    }\n\n    .dataframe tbody tr th {\n        vertical-align: top;\n    }\n\n    .dataframe thead th {\n        text-align: right;\n    }\n</style>\n<table border=\"1\" class=\"dataframe\">\n  <thead>\n    <tr style=\"text-align: right;\">\n      <th></th>\n      <th>Incident Type</th>\n      <th>Complaint Tracking Number</th>\n      <th>Date Complaint Occurred</th>\n      <th>Date Complaint Received by NOPD (PIB)</th>\n      <th>Date Complaint Investigation Complete</th>\n      <th>Complaint classification</th>\n      <th>Investigation status</th>\n      <th>Disposition</th>\n      <th>Bureau of Complainant</th>\n      <th>Division of Complainant</th>\n      <th>...</th>\n      <th>Rule Violation</th>\n      <th>Paragraph Violation</th>\n      <th>Unique Officer Allegation ID</th>\n      <th>Officer Race Ethnicity</th>\n      <th>Officer Gender</th>\n      <th>Officer Age</th>\n      <th>Officer years of service</th>\n      <th>Complainant Gender</th>\n      <th>Complainant Ethnicity</th>\n      <th>Complainant Age</th>\n    </tr>\n  </thead>\n  <tbody>\n    <tr>\n      <th>0</th>\n      <td>Public Initiated</td>\n      <td>2020-0001-P</td>\n      <td>10/19/2014</td>\n      <td>1/3/2020</td>\n      <td>NaN</td>\n      <td>DI-1</td>\n      <td>Forwarded</td>\n      <td>Pending</td>\n      <td>FOB - Field Operations Bureau</td>\n      <td>2nd District</td>\n      <td>...</td>\n      <td>RULE 2: MORAL CONDUCT</td>\n      <td>PARAGRAPH 01 - ADHERENCE TO LAW</td>\n      <td>55485.0</td>\n      <td>White</td>\n      <td>Male</td>\n      <td>45</td>\n      <td>0.0</td>\n      <td>Male</td>\n      <td>NaN</td>\n      <td>NaN</td>\n    </tr>\n    <tr>\n      <th>1</th>\n      <td>Public Initiated</td>\n      <td>2020-0002-P</td>\n      <td>10/27/2019</td>\n      <td>1/3/2020</td>\n      <td>3/6/2020</td>\n      <td>DI-1</td>\n      <td>Completed</td>\n      <td>Not Sustained</td>\n      <td>NaN</td>\n      <td>NaN</td>\n      <td>...</td>\n      <td>RULE 3: PROF CONDUCT</td>\n      <td>PARAGRAPH 01 - Professionalism</td>\n      <td>57204.0</td>\n      <td>NaN</td>\n      <td>NaN</td>\n      <td>NaN</td>\n      <td>0.0</td>\n      <td>NaN</td>\n      <td>NaN</td>\n      <td>NaN</td>\n    </tr>\n    <tr>\n      <th>2</th>\n      <td>Public Initiated</td>\n      <td>2020-0003-P</td>\n      <td>1/1/2020</td>\n      <td>1/3/2020</td>\n      <td>5/4/2020</td>\n      <td>DI-1</td>\n      <td>Completed</td>\n      <td>Unfounded</td>\n      <td>NaN</td>\n      <td>NaN</td>\n      <td>...</td>\n      <td>RULE 3: PROF CONDUCT</td>\n      <td>PARAGRAPH 01 - Professionalism</td>\n      <td>56365.0</td>\n      <td>White</td>\n      <td>Male</td>\n      <td>66</td>\n      <td>0.0</td>\n      <td>NaN</td>\n      <td>Black</td>\n      <td>NaN</td>\n    </tr>\n    <tr>\n      <th>3</th>\n      <td>Rank Initiated</td>\n      <td>2020-0004-R</td>\n      <td>1/3/2020</td>\n      <td>1/15/2020</td>\n      <td>NaN</td>\n      <td>DI-1</td>\n      <td>Forwarded</td>\n      <td>Pending</td>\n      <td>ISB - Investigations and Support Bureau</td>\n      <td>Criminal Investigations Division</td>\n      <td>...</td>\n      <td>RULE 4: PERF OF DUTY</td>\n      <td>PARAGRAPH 02 - INSTRUCTIONS FROM AUTHORITATIVE...</td>\n      <td>55421.0</td>\n      <td>White</td>\n      <td>Male</td>\n      <td>52</td>\n      <td>0.0</td>\n      <td>NaN</td>\n      <td>NaN</td>\n      <td>NaN</td>\n    </tr>\n    <tr>\n      <th>4</th>\n      <td>Public Initiated</td>\n      <td>2020-0005-P</td>\n      <td>1/4/2020</td>\n      <td>1/5/2020</td>\n      <td>8/31/2020</td>\n      <td>DI-1</td>\n      <td>Completed</td>\n      <td>Sustained</td>\n      <td>FOB - Field Operations Bureau</td>\n      <td>4th District</td>\n      <td>...</td>\n      <td>RULE 4: PERF OF DUTY</td>\n      <td>PARAGRAPH 04 - NEGLECT OF DUTY</td>\n      <td>56821.0</td>\n      <td>Black</td>\n      <td>Male</td>\n      <td>33</td>\n      <td>0.0</td>\n      <td>Female</td>\n      <td>Black</td>\n      <td>30.0</td>\n    </tr>\n    <tr>\n      <th>...</th>\n      <td>...</td>\n      <td>...</td>\n      <td>...</td>\n      <td>...</td>\n      <td>...</td>\n      <td>...</td>\n      <td>...</td>\n      <td>...</td>\n      <td>...</td>\n      <td>...</td>\n      <td>...</td>\n      <td>...</td>\n      <td>...</td>\n      <td>...</td>\n      <td>...</td>\n      <td>...</td>\n      <td>...</td>\n      <td>...</td>\n      <td>...</td>\n      <td>...</td>\n      <td>...</td>\n    </tr>\n    <tr>\n      <th>756</th>\n      <td>Rank Initiated</td>\n      <td>2020-0625-R</td>\n      <td>12/19/2020</td>\n      <td>12/20/2020</td>\n      <td>NaN</td>\n      <td>DI-1</td>\n      <td>Active</td>\n      <td>Pending</td>\n      <td>FOB - Field Operations Bureau</td>\n      <td>5th District</td>\n      <td>...</td>\n      <td>RULE 4: PERF OF DUTY</td>\n      <td>PARAGRAPH 04 - NEGLECT OF DUTY</td>\n      <td>57954.0</td>\n      <td>Black</td>\n      <td>Female</td>\n      <td>33</td>\n      <td>0.0</td>\n      <td>NaN</td>\n      <td>NaN</td>\n      <td>NaN</td>\n    </tr>\n    <tr>\n      <th>757</th>\n      <td>Rank Initiated</td>\n      <td>2020-0625-R</td>\n      <td>12/19/2020</td>\n      <td>12/20/2020</td>\n      <td>NaN</td>\n      <td>DI-1</td>\n      <td>Active</td>\n      <td>Pending</td>\n      <td>FOB - Field Operations Bureau</td>\n      <td>5th District</td>\n      <td>...</td>\n      <td>RULE 4: PERF OF DUTY</td>\n      <td>PARAGRAPH 04 - NEGLECT OF DUTY</td>\n      <td>57956.0</td>\n      <td>Black</td>\n      <td>Male</td>\n      <td>22</td>\n      <td>0.0</td>\n      <td>NaN</td>\n      <td>NaN</td>\n      <td>NaN</td>\n    </tr>\n    <tr>\n      <th>758</th>\n      <td>Rank Initiated</td>\n      <td>2020-0628-R</td>\n      <td>12/11/2019</td>\n      <td>12/22/2020</td>\n      <td>NaN</td>\n      <td>DI-1</td>\n      <td>Initial</td>\n      <td>Pending</td>\n      <td>FOB - Field Operations Bureau</td>\n      <td>3rd District</td>\n      <td>...</td>\n      <td>RULE 4: PERF OF DUTY</td>\n      <td>PARAGRAPH 04 - NEGLECT OF DUTY</td>\n      <td>57986.0</td>\n      <td>White</td>\n      <td>Male</td>\n      <td>38</td>\n      <td>0.0</td>\n      <td>Male</td>\n      <td>White</td>\n      <td>76.0</td>\n    </tr>\n    <tr>\n      <th>759</th>\n      <td>Rank Initiated</td>\n      <td>2020-0628-R</td>\n      <td>12/11/2019</td>\n      <td>12/22/2020</td>\n      <td>NaN</td>\n      <td>DI-1</td>\n      <td>Initial</td>\n      <td>Pending</td>\n      <td>FOB - Field Operations Bureau</td>\n      <td>3rd District</td>\n      <td>...</td>\n      <td>RULE 4: PERF OF DUTY</td>\n      <td>PARAGRAPH 04 - NEGLECT OF DUTY</td>\n      <td>57987.0</td>\n      <td>White</td>\n      <td>Female</td>\n      <td>22</td>\n      <td>0.0</td>\n      <td>Male</td>\n      <td>White</td>\n      <td>76.0</td>\n    </tr>\n    <tr>\n      <th>760</th>\n      <td>Public Initiated</td>\n      <td>2020-0724-P</td>\n      <td>10/17/2019</td>\n      <td>12/11/2019</td>\n      <td>1/15/2020</td>\n      <td>DI-1</td>\n      <td>Completed</td>\n      <td>Other</td>\n      <td>NaN</td>\n      <td>NaN</td>\n      <td>...</td>\n      <td>RULE 3: PROF CONDUCT</td>\n      <td>PARAGRAPH 01 - Professionalism</td>\n      <td>57320.0</td>\n      <td>Hispanic</td>\n      <td>Male</td>\n      <td>29</td>\n      <td>0.0</td>\n      <td>Female</td>\n      <td>Black</td>\n      <td>45.0</td>\n    </tr>\n  </tbody>\n</table>\n<p>761 rows × 24 columns</p>\n</div>"
     },
     "metadata": {},
     "execution_count": 15
    }
   ],
   "source": [
    "cprr = pd.read_csv(\"../data/New Orleans PD/Complaints Data/New Orleans_PD_CPRR_2020.csv\")\n",
    "cprr"
   ]
  },
  {
   "cell_type": "code",
   "execution_count": 16,
   "metadata": {},
   "outputs": [
    {
     "output_type": "execute_result",
     "data": {
      "text/plain": [
       "Index(['Incident Type', 'Complaint Tracking Number', 'Date Complaint Occurred',\n",
       "       'Date Complaint Received by NOPD (PIB)',\n",
       "       'Date Complaint Investigation Complete', 'Complaint classification',\n",
       "       'Investigation status', 'Disposition', 'Bureau of Complainant',\n",
       "       'Division of Complainant', 'Unit of Complainant',\n",
       "       'Unit Additional Details of Complainant',\n",
       "       'Working Status of Complainant', 'Shift of Complainant',\n",
       "       'Rule Violation', 'Paragraph Violation', 'Unique Officer Allegation ID',\n",
       "       'Officer Race Ethnicity', 'Officer Gender', 'Officer Age',\n",
       "       'Officer years of service', 'Complainant Gender',\n",
       "       'Complainant Ethnicity', 'Complainant Age'],\n",
       "      dtype='object')"
      ]
     },
     "metadata": {},
     "execution_count": 16
    }
   ],
   "source": [
    "cprr.columns"
   ]
  },
  {
   "cell_type": "code",
   "execution_count": 35,
   "metadata": {},
   "outputs": [
    {
     "output_type": "stream",
     "name": "stdout",
     "text": [
      "2020-0575-P: 1 != 2\n2020-0414-R: 1 != 2\n"
     ]
    }
   ],
   "source": [
    "# cprr[cprr[\"Complaint Tracking Number\"] == \"2020-0006-P\"]\n",
    "sr1 = ctn[\"Complaint Tracking Number\"].sort_values().value_counts(dropna=True)\n",
    "sr2 = cprr[\"Complaint Tracking Number\"].sort_values().value_counts(dropna=True)\n",
    "for ind, val in sr1.items():\n",
    "    if ind not in sr2:\n",
    "        continue\n",
    "    if val != sr2[ind]:\n",
    "        print(\"%s: %d != %d\" % (ind, val, sr2[ind]))"
   ]
  },
  {
   "cell_type": "code",
   "execution_count": 27,
   "metadata": {},
   "outputs": [
    {
     "output_type": "execute_result",
     "data": {
      "text/plain": [
       "      Incident Type Complaint Tracking Number Date Complaint Occurred  \\\n",
       "508  Rank Initiated               2020-0409-R                     NaN   \n",
       "509  Rank Initiated               2020-0409-R                     NaN   \n",
       "678  Rank Initiated               2020-0560-R                     NaN   \n",
       "679  Rank Initiated               2020-0560-R                     NaN   \n",
       "\n",
       "    Date Complaint Received by NOPD (PIB)  \\\n",
       "508                             8/17/2020   \n",
       "509                             8/17/2020   \n",
       "678                             11/9/2020   \n",
       "679                             11/9/2020   \n",
       "\n",
       "    Date Complaint Investigation Complete Complaint classification  \\\n",
       "508                                   NaN                     DI-1   \n",
       "509                                   NaN                     DI-1   \n",
       "678                                   NaN                     DI-1   \n",
       "679                                   NaN                     DI-1   \n",
       "\n",
       "    Investigation status Disposition                Bureau of Complainant  \\\n",
       "508               Active     Pending     MSB - Management Services Bureau   \n",
       "509               Active     Pending     MSB - Management Services Bureau   \n",
       "678              Initial     Pending  ISB - Investigative Services Bureau   \n",
       "679              Initial     Pending  ISB - Investigative Services Bureau   \n",
       "\n",
       "    Division of Complainant  ...        Rule Violation  \\\n",
       "508                     NaN  ...  RULE 3: PROF CONDUCT   \n",
       "509                     NaN  ...  RULE 3: PROF CONDUCT   \n",
       "678        Reserve Division  ...   Unknown Shift Hours   \n",
       "679        Reserve Division  ...   Unknown Shift Hours   \n",
       "\n",
       "          Paragraph Violation Unique Officer Allegation ID  \\\n",
       "508  PARAGRAPH 04 - Accepting                          NaN   \n",
       "509  PARAGRAPH 04 - Accepting                          NaN   \n",
       "678      RULE 3: PROF CONDUCT                          NaN   \n",
       "679      RULE 3: PROF CONDUCT                          NaN   \n",
       "\n",
       "             Officer Race Ethnicity Officer Gender Officer Age  \\\n",
       "508        Giving Anything of Value          White        Male   \n",
       "509        Giving Anything of Value          Black      Female   \n",
       "678  PARAGRAPH 01 - Professionalism            NaN         NaN   \n",
       "679  PARAGRAPH 01 - Professionalism          Black      Female   \n",
       "\n",
       "     Officer years of service Complainant Gender Complainant Ethnicity  \\\n",
       "508                       NaN                  0                   NaN   \n",
       "509                       NaN                  0                   NaN   \n",
       "678                       NaN                  0                   NaN   \n",
       "679                       NaN                  0                   NaN   \n",
       "\n",
       "    Complainant Age  \n",
       "508             NaN  \n",
       "509             NaN  \n",
       "678             NaN  \n",
       "679             NaN  \n",
       "\n",
       "[4 rows x 24 columns]"
      ],
      "text/html": "<div>\n<style scoped>\n    .dataframe tbody tr th:only-of-type {\n        vertical-align: middle;\n    }\n\n    .dataframe tbody tr th {\n        vertical-align: top;\n    }\n\n    .dataframe thead th {\n        text-align: right;\n    }\n</style>\n<table border=\"1\" class=\"dataframe\">\n  <thead>\n    <tr style=\"text-align: right;\">\n      <th></th>\n      <th>Incident Type</th>\n      <th>Complaint Tracking Number</th>\n      <th>Date Complaint Occurred</th>\n      <th>Date Complaint Received by NOPD (PIB)</th>\n      <th>Date Complaint Investigation Complete</th>\n      <th>Complaint classification</th>\n      <th>Investigation status</th>\n      <th>Disposition</th>\n      <th>Bureau of Complainant</th>\n      <th>Division of Complainant</th>\n      <th>...</th>\n      <th>Rule Violation</th>\n      <th>Paragraph Violation</th>\n      <th>Unique Officer Allegation ID</th>\n      <th>Officer Race Ethnicity</th>\n      <th>Officer Gender</th>\n      <th>Officer Age</th>\n      <th>Officer years of service</th>\n      <th>Complainant Gender</th>\n      <th>Complainant Ethnicity</th>\n      <th>Complainant Age</th>\n    </tr>\n  </thead>\n  <tbody>\n    <tr>\n      <th>508</th>\n      <td>Rank Initiated</td>\n      <td>2020-0409-R</td>\n      <td>NaN</td>\n      <td>8/17/2020</td>\n      <td>NaN</td>\n      <td>DI-1</td>\n      <td>Active</td>\n      <td>Pending</td>\n      <td>MSB - Management Services Bureau</td>\n      <td>NaN</td>\n      <td>...</td>\n      <td>RULE 3: PROF CONDUCT</td>\n      <td>PARAGRAPH 04 - Accepting</td>\n      <td>NaN</td>\n      <td>Giving Anything of Value</td>\n      <td>White</td>\n      <td>Male</td>\n      <td>NaN</td>\n      <td>0</td>\n      <td>NaN</td>\n      <td>NaN</td>\n    </tr>\n    <tr>\n      <th>509</th>\n      <td>Rank Initiated</td>\n      <td>2020-0409-R</td>\n      <td>NaN</td>\n      <td>8/17/2020</td>\n      <td>NaN</td>\n      <td>DI-1</td>\n      <td>Active</td>\n      <td>Pending</td>\n      <td>MSB - Management Services Bureau</td>\n      <td>NaN</td>\n      <td>...</td>\n      <td>RULE 3: PROF CONDUCT</td>\n      <td>PARAGRAPH 04 - Accepting</td>\n      <td>NaN</td>\n      <td>Giving Anything of Value</td>\n      <td>Black</td>\n      <td>Female</td>\n      <td>NaN</td>\n      <td>0</td>\n      <td>NaN</td>\n      <td>NaN</td>\n    </tr>\n    <tr>\n      <th>678</th>\n      <td>Rank Initiated</td>\n      <td>2020-0560-R</td>\n      <td>NaN</td>\n      <td>11/9/2020</td>\n      <td>NaN</td>\n      <td>DI-1</td>\n      <td>Initial</td>\n      <td>Pending</td>\n      <td>ISB - Investigative Services Bureau</td>\n      <td>Reserve Division</td>\n      <td>...</td>\n      <td>Unknown Shift Hours</td>\n      <td>RULE 3: PROF CONDUCT</td>\n      <td>NaN</td>\n      <td>PARAGRAPH 01 - Professionalism</td>\n      <td>NaN</td>\n      <td>NaN</td>\n      <td>NaN</td>\n      <td>0</td>\n      <td>NaN</td>\n      <td>NaN</td>\n    </tr>\n    <tr>\n      <th>679</th>\n      <td>Rank Initiated</td>\n      <td>2020-0560-R</td>\n      <td>NaN</td>\n      <td>11/9/2020</td>\n      <td>NaN</td>\n      <td>DI-1</td>\n      <td>Initial</td>\n      <td>Pending</td>\n      <td>ISB - Investigative Services Bureau</td>\n      <td>Reserve Division</td>\n      <td>...</td>\n      <td>Unknown Shift Hours</td>\n      <td>RULE 3: PROF CONDUCT</td>\n      <td>NaN</td>\n      <td>PARAGRAPH 01 - Professionalism</td>\n      <td>Black</td>\n      <td>Female</td>\n      <td>NaN</td>\n      <td>0</td>\n      <td>NaN</td>\n      <td>NaN</td>\n    </tr>\n  </tbody>\n</table>\n<p>4 rows × 24 columns</p>\n</div>"
     },
     "metadata": {},
     "execution_count": 27
    }
   ],
   "source": [
    "cprr[cprr[\"Unique Officer Allegation ID\"].duplicated()]"
   ]
  },
  {
   "cell_type": "code",
   "execution_count": null,
   "metadata": {},
   "outputs": [],
   "source": []
  }
 ],
 "metadata": {
  "kernelspec": {
   "display_name": "Python 3",
   "language": "python",
   "name": "python3"
  },
  "language_info": {
   "codemirror_mode": {
    "name": "ipython",
    "version": 3
   },
   "file_extension": ".py",
   "mimetype": "text/x-python",
   "name": "python",
   "nbconvert_exporter": "python",
   "pygments_lexer": "ipython3",
   "version": "3.8.3-final"
  }
 },
 "nbformat": 4,
 "nbformat_minor": 4
}
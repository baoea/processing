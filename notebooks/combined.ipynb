{
 "metadata": {
  "language_info": {
   "codemirror_mode": {
    "name": "ipython",
    "version": 3
   },
   "file_extension": ".py",
   "mimetype": "text/x-python",
   "name": "python",
   "nbconvert_exporter": "python",
   "pygments_lexer": "ipython3",
   "version": "3.8.3-final"
  },
  "orig_nbformat": 2,
  "kernelspec": {
   "name": "python383jvsc74a57bd0759d03fc00c4e55187619d7bc1e0b6a3309d14c7c00d43a321634150e05678f8",
   "display_name": "Python 3.8.3 64-bit ('base': conda)"
  }
 },
 "nbformat": 4,
 "nbformat_minor": 2,
 "cells": [
  {
   "cell_type": "code",
   "execution_count": 1,
   "metadata": {},
   "outputs": [],
   "source": [
    "import sys; sys.path.append(\"../\")\n",
    "import pandas as pd\n",
    "\n",
    "from lib.columns import rearrange_complaint_columns,rearrange_personnel_history_columns\n",
    "from lib.path import data_file_path"
   ]
  },
  {
   "cell_type": "code",
   "execution_count": 2,
   "metadata": {},
   "outputs": [],
   "source": [
    "df = rearrange_personnel_history_columns(pd.concat([\n",
    "    pd.read_csv(data_file_path(\"fuse/perhist_baton_rouge_pd.csv\")),\n",
    "    pd.read_csv(data_file_path(\"fuse/perhist_baton_rouge_so.csv\")),\n",
    "    pd.read_csv(data_file_path(\"fuse/perhist_new_orleans_harbor_pd.csv\")),\n",
    "    pd.read_csv(data_file_path(\"fuse/perhist_new_orleans_pd.csv\")),\n",
    "    pd.read_csv(data_file_path(\"fuse/perhist_brusly_pd.csv\")),\n",
    "    pd.read_csv(data_file_path(\"fuse/perhist_port_allen_pd.csv\")),\n",
    "    pd.read_csv(data_file_path(\"fuse/perhist_madisonville_pd.csv\")),\n",
    "    pd.read_csv(data_file_path(\"fuse/perhist_greenwood_pd.csv\")),\n",
    "    pd.read_csv(data_file_path(\"fuse/perhist_st_tammany_so.csv\")),\n",
    "    pd.read_csv(data_file_path(\"fuse/perhist_plaquemines_so.csv\")),\n",
    "    pd.read_csv(data_file_path(\"fuse/perhist_louisiana_state_police.csv\")),\n",
    "])).sort_values(['agency', 'data_production_year', 'perhist_uid'], ignore_index=True)"
   ]
  },
  {
   "cell_type": "code",
   "execution_count": 4,
   "metadata": {},
   "outputs": [
    {
     "output_type": "execute_result",
     "data": {
      "text/plain": [
       "Empty DataFrame\n",
       "Columns: [perhist_uid, uid, badge_no, employee_id, department_code, department_desc, division_desc, sub_division_a_desc, sub_division_b_desc, current_supervisor, rank_code, rank_desc, rank_year, rank_month, rank_day, dept_year, dept_month, dept_day, hire_year, hire_month, hire_day, term_year, term_month, term_day, resign_year, resign_month, resign_day, pay_effective_year, pay_effective_month, pay_effective_day, employment_status, officer_inactive, employee_type, years_employed, annual_salary, hourly_salary, data_production_year, agency]\n",
       "Index: []\n",
       "\n",
       "[0 rows x 38 columns]"
      ],
      "text/html": "<div>\n<style scoped>\n    .dataframe tbody tr th:only-of-type {\n        vertical-align: middle;\n    }\n\n    .dataframe tbody tr th {\n        vertical-align: top;\n    }\n\n    .dataframe thead th {\n        text-align: right;\n    }\n</style>\n<table border=\"1\" class=\"dataframe\">\n  <thead>\n    <tr style=\"text-align: right;\">\n      <th></th>\n      <th>perhist_uid</th>\n      <th>uid</th>\n      <th>badge_no</th>\n      <th>employee_id</th>\n      <th>department_code</th>\n      <th>department_desc</th>\n      <th>division_desc</th>\n      <th>sub_division_a_desc</th>\n      <th>sub_division_b_desc</th>\n      <th>current_supervisor</th>\n      <th>...</th>\n      <th>pay_effective_month</th>\n      <th>pay_effective_day</th>\n      <th>employment_status</th>\n      <th>officer_inactive</th>\n      <th>employee_type</th>\n      <th>years_employed</th>\n      <th>annual_salary</th>\n      <th>hourly_salary</th>\n      <th>data_production_year</th>\n      <th>agency</th>\n    </tr>\n  </thead>\n  <tbody>\n  </tbody>\n</table>\n<p>0 rows × 38 columns</p>\n</div>"
     },
     "metadata": {},
     "execution_count": 4
    }
   ],
   "source": [
    "df.loc[df.perhist_uid.duplicated()]"
   ]
  },
  {
   "cell_type": "code",
   "execution_count": null,
   "metadata": {},
   "outputs": [],
   "source": []
  }
 ]
}
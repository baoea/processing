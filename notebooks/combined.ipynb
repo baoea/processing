{
 "metadata": {
  "language_info": {
   "codemirror_mode": {
    "name": "ipython",
    "version": 3
   },
   "file_extension": ".py",
   "mimetype": "text/x-python",
   "name": "python",
   "nbconvert_exporter": "python",
   "pygments_lexer": "ipython3",
   "version": "3.9.2"
  },
  "orig_nbformat": 2,
  "kernelspec": {
   "name": "python392jvsc74a57bd055d6dfa6f6295e03bf132df3e61c1565ff1c22b645ef82a5638b280b97b3597b",
   "display_name": "Python 3.9.2 64-bit ('base': virtualenvwrapper)"
  }
 },
 "nbformat": 4,
 "nbformat_minor": 2,
 "cells": [
  {
   "cell_type": "code",
   "execution_count": 2,
   "metadata": {},
   "outputs": [],
   "source": [
    "import sys; sys.path.append(\"../\")\n",
    "import pandas as pd"
   ]
  },
  {
   "cell_type": "code",
   "execution_count": 4,
   "metadata": {},
   "outputs": [
    {
     "output_type": "stream",
     "name": "stderr",
     "text": [
      "/Users/khoipham/.virtualenvs/base/lib/python3.9/site-packages/IPython/core/interactiveshell.py:3169: DtypeWarning: Columns (3,5,6,11,19,22,26,27,28,35) have mixed types.Specify dtype option on import or set low_memory=False.\n",
      "  has_raised = await self.run_ast_nodes(code_ast.body, cell_name,\n",
      "/Users/khoipham/.virtualenvs/base/lib/python3.9/site-packages/IPython/core/interactiveshell.py:3169: DtypeWarning: Columns (5,9,10,12,13,14,15,16,17,18,19,20,21,23,24,25,26,29,30,31) have mixed types.Specify dtype option on import or set low_memory=False.\n",
      "  has_raised = await self.run_ast_nodes(code_ast.body, cell_name,\n"
     ]
    }
   ],
   "source": [
    "per = pd.read_csv('../data/fuse/personnel.csv')\n",
    "com = pd.read_csv('../data/fuse/complaint.csv')\n",
    "event = pd.read_csv('../data/fuse/event.csv')\n",
    "uof = pd.read_csv('../data/fuse/use_of_force.csv')"
   ]
  },
  {
   "cell_type": "code",
   "execution_count": 6,
   "metadata": {},
   "outputs": [
    {
     "output_type": "execute_result",
     "data": {
      "text/plain": [
       "uid               00569b9fe98010b4bc1205e8d31b3994\n",
       "last_name                                  Lagarde\n",
       "middle_name                                      B\n",
       "middle_initial                                   B\n",
       "first_name                                   Emily\n",
       "birth_year                                  1954.0\n",
       "birth_month                                    NaN\n",
       "birth_day                                      NaN\n",
       "race                      black / african american\n",
       "sex                                         female\n",
       "Name: 27, dtype: object"
      ]
     },
     "metadata": {},
     "execution_count": 6
    }
   ],
   "source": [
    "per.loc[27, 'uid']"
   ]
  },
  {
   "cell_type": "code",
   "execution_count": 8,
   "metadata": {},
   "outputs": [
    {
     "output_type": "execute_result",
     "data": {
      "text/plain": [
       "64779     New Orleans PD\n",
       "78581     New Orleans PD\n",
       "133698    New Orleans PD\n",
       "Name: agency, dtype: object"
      ]
     },
     "metadata": {},
     "execution_count": 8
    }
   ],
   "source": [
    "event.loc[event.uid == '00569b9fe98010b4bc1205e8d31b3994', 'agency']"
   ]
  },
  {
   "cell_type": "code",
   "execution_count": 11,
   "metadata": {},
   "outputs": [
    {
     "output_type": "execute_result",
     "data": {
      "text/plain": [
       "'2206'"
      ]
     },
     "metadata": {},
     "execution_count": 11
    }
   ],
   "source": [
    "com.loc[141, ['agency', 'badge_no']]\n",
    "com.loc[141, 'badge_no']"
   ]
  },
  {
   "cell_type": "code",
   "execution_count": 13,
   "metadata": {},
   "outputs": [
    {
     "output_type": "execute_result",
     "data": {
      "text/plain": [
       "array(['2206', '1711', '1308', '1534', '2527', '1797', '769', '2067',\n",
       "       '1519', '2363', '1053', '2592', '2571', '2414', '2528', '1067',\n",
       "       'HP-50', 'HP-56', 'HP-33', 'PA-23', 'PA-18', 'PA-20', 'PA-28',\n",
       "       'PA-11', 'PA-8', 'PA-13', 'PA-6', 'PA-9', 'PA-17', 'PA-5', 'PA-4'],\n",
       "      dtype=object)"
      ]
     },
     "metadata": {},
     "execution_count": 13
    }
   ],
   "source": [
    "com.loc[com.badge_no.notna(), 'badge_no'].unique()"
   ]
  },
  {
   "cell_type": "code",
   "execution_count": 15,
   "metadata": {},
   "outputs": [
    {
     "output_type": "execute_result",
     "data": {
      "text/plain": [
       "event_uid              39d2deb2d646df2b319958680921260e\n",
       "kind                                 complaint_incident\n",
       "year                                               2016\n",
       "month                                              11.0\n",
       "day                                                 9.0\n",
       "time                                               5:20\n",
       "raw_date                                            NaN\n",
       "uid                    dc12c1ae54c2d5827fa9d4215cbd8f5a\n",
       "complaint_uid          8ab9947940a4b18a826508328b5607b5\n",
       "appeal_uid                                          NaN\n",
       "uof_uid                                             NaN\n",
       "agency                                    Port Allen PD\n",
       "badge_no                                          PA-18\n",
       "employee_id                                         NaN\n",
       "department_code                                     NaN\n",
       "department_desc                          uniform patrol\n",
       "division_desc                                       NaN\n",
       "sub_division_a_desc                                 NaN\n",
       "sub_division_b_desc                                 NaN\n",
       "current_supervisor                                  NaN\n",
       "employee_class                                      NaN\n",
       "rank_code                                           NaN\n",
       "rank_desc                                      corporal\n",
       "employment_status                                   NaN\n",
       "sworn                                               NaN\n",
       "officer_inactive                                    NaN\n",
       "employee_type                                       NaN\n",
       "years_employed                                      NaN\n",
       "salary                                              NaN\n",
       "salary_freq                                         NaN\n",
       "award                                               NaN\n",
       "award_comments                                      NaN\n",
       "Name: 141972, dtype: object"
      ]
     },
     "metadata": {},
     "execution_count": 15
    }
   ],
   "source": [
    "event.loc[141972]"
   ]
  },
  {
   "cell_type": "code",
   "execution_count": null,
   "metadata": {},
   "outputs": [],
   "source": []
  }
 ]
}
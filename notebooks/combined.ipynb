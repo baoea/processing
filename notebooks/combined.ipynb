{
 "metadata": {
  "language_info": {
   "codemirror_mode": {
    "name": "ipython",
    "version": 3
   },
   "file_extension": ".py",
   "mimetype": "text/x-python",
   "name": "python",
   "nbconvert_exporter": "python",
   "pygments_lexer": "ipython3",
   "version": "3.9.2"
  },
  "orig_nbformat": 2,
  "kernelspec": {
   "name": "python3",
   "display_name": "Python 3.9.2 64-bit ('base': virtualenvwrapper)"
  },
  "interpreter": {
   "hash": "55d6dfa6f6295e03bf132df3e61c1565ff1c22b645ef82a5638b280b97b3597b"
  }
 },
 "nbformat": 4,
 "nbformat_minor": 2,
 "cells": [
  {
   "cell_type": "code",
   "execution_count": 15,
   "source": [
    "import sys; sys.path.append(\"../\")\n",
    "import pandas as pd"
   ],
   "outputs": [],
   "metadata": {}
  },
  {
   "cell_type": "code",
   "execution_count": 16,
   "source": [
    "per = pd.read_csv('../data/fuse/personnel.csv')\n",
    "com = pd.read_csv('../data/fuse/complaint.csv')\n",
    "event = pd.read_csv('../data/fuse/event.csv')\n",
    "uof = pd.read_csv('../data/fuse/use_of_force.csv')"
   ],
   "outputs": [
    {
     "output_type": "stream",
     "name": "stderr",
     "text": [
      "/Users/khoipham/.virtualenvs/base/lib/python3.9/site-packages/IPython/core/interactiveshell.py:3169: DtypeWarning: Columns (3,4,9,17,18,20,24,25,32,39,40) have mixed types.Specify dtype option on import or set low_memory=False.\n",
      "  has_raised = await self.run_ast_nodes(code_ast.body, cell_name,\n",
      "/Users/khoipham/.virtualenvs/base/lib/python3.9/site-packages/IPython/core/interactiveshell.py:3169: DtypeWarning: Columns (9,10,12,13,14,16,17,18,19,20,24,25,26,29,30,31) have mixed types.Specify dtype option on import or set low_memory=False.\n",
      "  has_raised = await self.run_ast_nodes(code_ast.body, cell_name,\n"
     ]
    }
   ],
   "metadata": {}
  },
  {
   "cell_type": "code",
   "execution_count": 20,
   "source": [
    "per.loc[per.race == 'black; black', 'uid']"
   ],
   "outputs": [
    {
     "output_type": "execute_result",
     "data": {
      "text/plain": [
       "26       00569b9fe98010b4bc1205e8d31b3994\n",
       "30       005c1f000b8a6eb089ea4e8fbdcb560c\n",
       "33       005ecc49d5b215718e5e6a61b8ec84ef\n",
       "35       0068c1c0b56b967b5afc16d9afe721fa\n",
       "39       0070ae19b61af6ebb9f54ee1ebd48120\n",
       "                       ...               \n",
       "18831    ffa3c861cbd4d30351432f5bdd85fb79\n",
       "18833    ffa975e76e0127bbfa0615104c62c9bb\n",
       "18835    ffb3d108e2479d1877f6f7dd715791c3\n",
       "18846    ffd422d45bc8ae5e26fc2fdf16bfd1df\n",
       "18849    ffdd895d8b94797c12222c4747c18854\n",
       "Name: uid, Length: 3365, dtype: object"
      ]
     },
     "metadata": {},
     "execution_count": 20
    }
   ],
   "metadata": {}
  },
  {
   "cell_type": "code",
   "execution_count": 21,
   "source": [
    "event.loc[event.uid == '00569b9fe98010b4bc1205e8d31b3994', 'agency'].unique()"
   ],
   "outputs": [
    {
     "output_type": "execute_result",
     "data": {
      "text/plain": [
       "array(['New Orleans PD'], dtype=object)"
      ]
     },
     "metadata": {},
     "execution_count": 21
    }
   ],
   "metadata": {}
  },
  {
   "cell_type": "code",
   "execution_count": 19,
   "source": [
    "com.loc[com.badge_no.notna(), 'badge_no'].unique()"
   ],
   "outputs": [
    {
     "output_type": "execute_result",
     "data": {
      "text/plain": [
       "array(['2067', '2414', '2527', '1534', '2528', '2571', '2363', '2592',\n",
       "       '1308', '1067', '1053', '769', '1519', '1711', '2206', '1797',\n",
       "       'HP-50', 'HP-56', 'HP-33', 'PA-23', 'PA-18', 'PA-20', 'PA-28',\n",
       "       'PA-11', 'PA-8', 'PA-13', 'PA-6', 'PA-9', 'PA-17', 'PA-5', 'PA-4'],\n",
       "      dtype=object)"
      ]
     },
     "metadata": {},
     "execution_count": 19
    }
   ],
   "metadata": {}
  },
  {
   "cell_type": "code",
   "execution_count": null,
   "source": [],
   "outputs": [],
   "metadata": {}
  }
 ]
}
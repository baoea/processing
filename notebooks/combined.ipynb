{
 "metadata": {
  "language_info": {
   "codemirror_mode": {
    "name": "ipython",
    "version": 3
   },
   "file_extension": ".py",
   "mimetype": "text/x-python",
   "name": "python",
   "nbconvert_exporter": "python",
   "pygments_lexer": "ipython3",
   "version": "3.8.3-final"
  },
  "orig_nbformat": 2,
  "kernelspec": {
   "name": "python383jvsc74a57bd0759d03fc00c4e55187619d7bc1e0b6a3309d14c7c00d43a321634150e05678f8",
   "display_name": "Python 3.8.3 64-bit ('base': conda)"
  }
 },
 "nbformat": 4,
 "nbformat_minor": 2,
 "cells": [
  {
   "cell_type": "code",
   "execution_count": 1,
   "metadata": {},
   "outputs": [],
   "source": [
    "import sys; sys.path.append(\"../\")\n",
    "import pandas as pd\n",
    "\n",
    "from lib.columns import rearrange_complaint_columns\n",
    "from lib.path import data_file_path"
   ]
  },
  {
   "cell_type": "code",
   "execution_count": 2,
   "metadata": {},
   "outputs": [
    {
     "output_type": "execute_result",
     "data": {
      "text/plain": [
       "                                    uid tracking_number  \\\n",
       "0      ea1d167e2b56323b4b75a21d33c2a750        2018-024   \n",
       "1      f8bf269c323f6e8010380abb99ce4b81        2018-018   \n",
       "2      f8bf269c323f6e8010380abb99ce4b81        2018-018   \n",
       "3      f8bf269c323f6e8010380abb99ce4b81        2018-018   \n",
       "4      f8bf269c323f6e8010380abb99ce4b81        2018-018   \n",
       "...                                 ...             ...   \n",
       "27635  2e89877ae1e6b03f2c756070bf948785             NaN   \n",
       "27636  6a11325a6a46a4555357d97f10912397             NaN   \n",
       "27637  1764125d8fdc3c7b2def85c5884b8071             NaN   \n",
       "27638  3882f61369a40dbbed395f18fccabdcc             NaN   \n",
       "27639  9d302adc0f8ef637e2fcc1bec1271e0e             NaN   \n",
       "\n",
       "                          complaint_uid allegation_uid  \\\n",
       "0      449ecdaa4c33e9b35647ae710e5d9bab            NaN   \n",
       "1      e172a17667d764b4b886f738b2648013            NaN   \n",
       "2      e172a17667d764b4b886f738b2648013            NaN   \n",
       "3      e172a17667d764b4b886f738b2648013            NaN   \n",
       "4      e172a17667d764b4b886f738b2648013            NaN   \n",
       "...                                 ...            ...   \n",
       "27635  1a5bcdd039f9412c1771ecf16b244411            NaN   \n",
       "27636  fc9fcc283b708affaf706478c5a0ca51            NaN   \n",
       "27637  9738177c01fc08529da4e19bd4bee8bc            NaN   \n",
       "27638  849b9b6487cbc4dcd019c29773998b35            NaN   \n",
       "27639  fe847e10e93eb99c1c3510c72ba0cfc9            NaN   \n",
       "\n",
       "                             charge_uid occur_year occur_month occur_day  \\\n",
       "0      1c62700dcd98dff7cfcd32bd45709ce5       2015                         \n",
       "1      a7df8e80a11d586860084f76953cd7c1       2016           7         2   \n",
       "2      31b1b4223a5a35849289dfed34cadbb9       2016           7         2   \n",
       "3      6d568bf47f37b2905800cf5914b43683       2016           7         2   \n",
       "4      30645ef9d3cc479758fe89162bbc5c77       2016           7         2   \n",
       "...                                 ...        ...         ...       ...   \n",
       "27635  3903c1145b378614def4bf3d55ff6a16       2021           2        22   \n",
       "27636  332a3b56a5e8ad7d9f9846b10912f14c       2021           2         4   \n",
       "27637  05db2485580bff20cc1f052333b28c71       2020           5        31   \n",
       "27638  6d8128a11d6d3b37bd2049985093f466       2021           1        28   \n",
       "27639  b4afc8f226bbb43e17245be08cdc1ec5       2020           1         1   \n",
       "\n",
       "      raw_occur_date occur_time  ... complainant_type complainant_sex  \\\n",
       "0                NaN        NaN  ...              NaN             NaN   \n",
       "1                NaN        NaN  ...              NaN             NaN   \n",
       "2                NaN        NaN  ...              NaN             NaN   \n",
       "3                NaN        NaN  ...              NaN             NaN   \n",
       "4                NaN        NaN  ...              NaN             NaN   \n",
       "...              ...        ...  ...              ...             ...   \n",
       "27635      2/22/2021        NaN  ...              NaN             NaN   \n",
       "27636       2/4/2021        NaN  ...              NaN             NaN   \n",
       "27637      5/31/2020        NaN  ...              NaN             NaN   \n",
       "27638      1/28/2021        NaN  ...              NaN             NaN   \n",
       "27639       1/1/2020        NaN  ...              NaN             NaN   \n",
       "\n",
       "      complainant_race  recommended_action            action  \\\n",
       "0                  NaN                 NaN         counseled   \n",
       "1                  NaN                 NaN  hold in abeyance   \n",
       "2                  NaN                 NaN  hold in abeyance   \n",
       "3                  NaN                 NaN  hold in abeyance   \n",
       "4                  NaN                 NaN  hold in abeyance   \n",
       "...                ...                 ...               ...   \n",
       "27635              NaN                 NaN               NaN   \n",
       "27636              NaN                 NaN               NaN   \n",
       "27637              NaN                 NaN               NaN   \n",
       "27638              NaN                 NaN               NaN   \n",
       "27639              NaN                 NaN               NaN   \n",
       "\n",
       "       data_production_year          agency incident_type supervisor_uid  \\\n",
       "0                      2015  Baton Rouge PD           NaN            NaN   \n",
       "1                      2016  Baton Rouge PD           NaN            NaN   \n",
       "2                      2016  Baton Rouge PD           NaN            NaN   \n",
       "3                      2016  Baton Rouge PD           NaN            NaN   \n",
       "4                      2016  Baton Rouge PD           NaN            NaN   \n",
       "...                     ...             ...           ...            ...   \n",
       "27635                  2021  St. Tammany SO           NaN            NaN   \n",
       "27636                  2021  St. Tammany SO           NaN            NaN   \n",
       "27637                  2021  St. Tammany SO           NaN            NaN   \n",
       "27638                  2021  St. Tammany SO           NaN            NaN   \n",
       "27639                  2021  St. Tammany SO           NaN            NaN   \n",
       "\n",
       "      supervisor_rank  \n",
       "0                 NaN  \n",
       "1                 NaN  \n",
       "2                 NaN  \n",
       "3                 NaN  \n",
       "4                 NaN  \n",
       "...               ...  \n",
       "27635             NaN  \n",
       "27636             NaN  \n",
       "27637             NaN  \n",
       "27638             NaN  \n",
       "27639             NaN  \n",
       "\n",
       "[27640 rows x 54 columns]"
      ],
      "text/html": "<div>\n<style scoped>\n    .dataframe tbody tr th:only-of-type {\n        vertical-align: middle;\n    }\n\n    .dataframe tbody tr th {\n        vertical-align: top;\n    }\n\n    .dataframe thead th {\n        text-align: right;\n    }\n</style>\n<table border=\"1\" class=\"dataframe\">\n  <thead>\n    <tr style=\"text-align: right;\">\n      <th></th>\n      <th>uid</th>\n      <th>tracking_number</th>\n      <th>complaint_uid</th>\n      <th>allegation_uid</th>\n      <th>charge_uid</th>\n      <th>occur_year</th>\n      <th>occur_month</th>\n      <th>occur_day</th>\n      <th>raw_occur_date</th>\n      <th>occur_time</th>\n      <th>...</th>\n      <th>complainant_type</th>\n      <th>complainant_sex</th>\n      <th>complainant_race</th>\n      <th>recommended_action</th>\n      <th>action</th>\n      <th>data_production_year</th>\n      <th>agency</th>\n      <th>incident_type</th>\n      <th>supervisor_uid</th>\n      <th>supervisor_rank</th>\n    </tr>\n  </thead>\n  <tbody>\n    <tr>\n      <th>0</th>\n      <td>ea1d167e2b56323b4b75a21d33c2a750</td>\n      <td>2018-024</td>\n      <td>449ecdaa4c33e9b35647ae710e5d9bab</td>\n      <td>NaN</td>\n      <td>1c62700dcd98dff7cfcd32bd45709ce5</td>\n      <td>2015</td>\n      <td></td>\n      <td></td>\n      <td>NaN</td>\n      <td>NaN</td>\n      <td>...</td>\n      <td>NaN</td>\n      <td>NaN</td>\n      <td>NaN</td>\n      <td>NaN</td>\n      <td>counseled</td>\n      <td>2015</td>\n      <td>Baton Rouge PD</td>\n      <td>NaN</td>\n      <td>NaN</td>\n      <td>NaN</td>\n    </tr>\n    <tr>\n      <th>1</th>\n      <td>f8bf269c323f6e8010380abb99ce4b81</td>\n      <td>2018-018</td>\n      <td>e172a17667d764b4b886f738b2648013</td>\n      <td>NaN</td>\n      <td>a7df8e80a11d586860084f76953cd7c1</td>\n      <td>2016</td>\n      <td>7</td>\n      <td>2</td>\n      <td>NaN</td>\n      <td>NaN</td>\n      <td>...</td>\n      <td>NaN</td>\n      <td>NaN</td>\n      <td>NaN</td>\n      <td>NaN</td>\n      <td>hold in abeyance</td>\n      <td>2016</td>\n      <td>Baton Rouge PD</td>\n      <td>NaN</td>\n      <td>NaN</td>\n      <td>NaN</td>\n    </tr>\n    <tr>\n      <th>2</th>\n      <td>f8bf269c323f6e8010380abb99ce4b81</td>\n      <td>2018-018</td>\n      <td>e172a17667d764b4b886f738b2648013</td>\n      <td>NaN</td>\n      <td>31b1b4223a5a35849289dfed34cadbb9</td>\n      <td>2016</td>\n      <td>7</td>\n      <td>2</td>\n      <td>NaN</td>\n      <td>NaN</td>\n      <td>...</td>\n      <td>NaN</td>\n      <td>NaN</td>\n      <td>NaN</td>\n      <td>NaN</td>\n      <td>hold in abeyance</td>\n      <td>2016</td>\n      <td>Baton Rouge PD</td>\n      <td>NaN</td>\n      <td>NaN</td>\n      <td>NaN</td>\n    </tr>\n    <tr>\n      <th>3</th>\n      <td>f8bf269c323f6e8010380abb99ce4b81</td>\n      <td>2018-018</td>\n      <td>e172a17667d764b4b886f738b2648013</td>\n      <td>NaN</td>\n      <td>6d568bf47f37b2905800cf5914b43683</td>\n      <td>2016</td>\n      <td>7</td>\n      <td>2</td>\n      <td>NaN</td>\n      <td>NaN</td>\n      <td>...</td>\n      <td>NaN</td>\n      <td>NaN</td>\n      <td>NaN</td>\n      <td>NaN</td>\n      <td>hold in abeyance</td>\n      <td>2016</td>\n      <td>Baton Rouge PD</td>\n      <td>NaN</td>\n      <td>NaN</td>\n      <td>NaN</td>\n    </tr>\n    <tr>\n      <th>4</th>\n      <td>f8bf269c323f6e8010380abb99ce4b81</td>\n      <td>2018-018</td>\n      <td>e172a17667d764b4b886f738b2648013</td>\n      <td>NaN</td>\n      <td>30645ef9d3cc479758fe89162bbc5c77</td>\n      <td>2016</td>\n      <td>7</td>\n      <td>2</td>\n      <td>NaN</td>\n      <td>NaN</td>\n      <td>...</td>\n      <td>NaN</td>\n      <td>NaN</td>\n      <td>NaN</td>\n      <td>NaN</td>\n      <td>hold in abeyance</td>\n      <td>2016</td>\n      <td>Baton Rouge PD</td>\n      <td>NaN</td>\n      <td>NaN</td>\n      <td>NaN</td>\n    </tr>\n    <tr>\n      <th>...</th>\n      <td>...</td>\n      <td>...</td>\n      <td>...</td>\n      <td>...</td>\n      <td>...</td>\n      <td>...</td>\n      <td>...</td>\n      <td>...</td>\n      <td>...</td>\n      <td>...</td>\n      <td>...</td>\n      <td>...</td>\n      <td>...</td>\n      <td>...</td>\n      <td>...</td>\n      <td>...</td>\n      <td>...</td>\n      <td>...</td>\n      <td>...</td>\n      <td>...</td>\n      <td>...</td>\n    </tr>\n    <tr>\n      <th>27635</th>\n      <td>2e89877ae1e6b03f2c756070bf948785</td>\n      <td>NaN</td>\n      <td>1a5bcdd039f9412c1771ecf16b244411</td>\n      <td>NaN</td>\n      <td>3903c1145b378614def4bf3d55ff6a16</td>\n      <td>2021</td>\n      <td>2</td>\n      <td>22</td>\n      <td>2/22/2021</td>\n      <td>NaN</td>\n      <td>...</td>\n      <td>NaN</td>\n      <td>NaN</td>\n      <td>NaN</td>\n      <td>NaN</td>\n      <td>NaN</td>\n      <td>2021</td>\n      <td>St. Tammany SO</td>\n      <td>NaN</td>\n      <td>NaN</td>\n      <td>NaN</td>\n    </tr>\n    <tr>\n      <th>27636</th>\n      <td>6a11325a6a46a4555357d97f10912397</td>\n      <td>NaN</td>\n      <td>fc9fcc283b708affaf706478c5a0ca51</td>\n      <td>NaN</td>\n      <td>332a3b56a5e8ad7d9f9846b10912f14c</td>\n      <td>2021</td>\n      <td>2</td>\n      <td>4</td>\n      <td>2/4/2021</td>\n      <td>NaN</td>\n      <td>...</td>\n      <td>NaN</td>\n      <td>NaN</td>\n      <td>NaN</td>\n      <td>NaN</td>\n      <td>NaN</td>\n      <td>2021</td>\n      <td>St. Tammany SO</td>\n      <td>NaN</td>\n      <td>NaN</td>\n      <td>NaN</td>\n    </tr>\n    <tr>\n      <th>27637</th>\n      <td>1764125d8fdc3c7b2def85c5884b8071</td>\n      <td>NaN</td>\n      <td>9738177c01fc08529da4e19bd4bee8bc</td>\n      <td>NaN</td>\n      <td>05db2485580bff20cc1f052333b28c71</td>\n      <td>2020</td>\n      <td>5</td>\n      <td>31</td>\n      <td>5/31/2020</td>\n      <td>NaN</td>\n      <td>...</td>\n      <td>NaN</td>\n      <td>NaN</td>\n      <td>NaN</td>\n      <td>NaN</td>\n      <td>NaN</td>\n      <td>2021</td>\n      <td>St. Tammany SO</td>\n      <td>NaN</td>\n      <td>NaN</td>\n      <td>NaN</td>\n    </tr>\n    <tr>\n      <th>27638</th>\n      <td>3882f61369a40dbbed395f18fccabdcc</td>\n      <td>NaN</td>\n      <td>849b9b6487cbc4dcd019c29773998b35</td>\n      <td>NaN</td>\n      <td>6d8128a11d6d3b37bd2049985093f466</td>\n      <td>2021</td>\n      <td>1</td>\n      <td>28</td>\n      <td>1/28/2021</td>\n      <td>NaN</td>\n      <td>...</td>\n      <td>NaN</td>\n      <td>NaN</td>\n      <td>NaN</td>\n      <td>NaN</td>\n      <td>NaN</td>\n      <td>2021</td>\n      <td>St. Tammany SO</td>\n      <td>NaN</td>\n      <td>NaN</td>\n      <td>NaN</td>\n    </tr>\n    <tr>\n      <th>27639</th>\n      <td>9d302adc0f8ef637e2fcc1bec1271e0e</td>\n      <td>NaN</td>\n      <td>fe847e10e93eb99c1c3510c72ba0cfc9</td>\n      <td>NaN</td>\n      <td>b4afc8f226bbb43e17245be08cdc1ec5</td>\n      <td>2020</td>\n      <td>1</td>\n      <td>1</td>\n      <td>1/1/2020</td>\n      <td>NaN</td>\n      <td>...</td>\n      <td>NaN</td>\n      <td>NaN</td>\n      <td>NaN</td>\n      <td>NaN</td>\n      <td>NaN</td>\n      <td>2021</td>\n      <td>St. Tammany SO</td>\n      <td>NaN</td>\n      <td>NaN</td>\n      <td>NaN</td>\n    </tr>\n  </tbody>\n</table>\n<p>27640 rows × 54 columns</p>\n</div>"
     },
     "metadata": {},
     "execution_count": 2
    }
   ],
   "source": [
    "df = rearrange_complaint_columns(pd.concat([\n",
    "    pd.read_csv(data_file_path(\"fuse/com_baton_rouge_pd.csv\")),\n",
    "    pd.read_csv(data_file_path(\"fuse/com_baton_rouge_so.csv\")),\n",
    "    pd.read_csv(data_file_path(\"fuse/com_new_orleans_harbor_pd.csv\")),\n",
    "    pd.read_csv(data_file_path(\"fuse/com_brusly_pd.csv\")),\n",
    "    pd.read_csv(data_file_path(\"fuse/com_port_allen_pd.csv\")),\n",
    "    pd.read_csv(data_file_path(\"fuse/com_madisonville_pd.csv\")),\n",
    "    pd.read_csv(data_file_path(\"fuse/com_greenwood_pd.csv\")),\n",
    "    pd.read_csv(data_file_path(\"fuse/com_new_orleans_pd.csv\")),\n",
    "    pd.read_csv(data_file_path(\"fuse/com_st_tammany_so.csv\")),\n",
    "    pd.read_csv(data_file_path(\"fuse/com_plaquemines_so.csv\")),\n",
    "])).sort_values(['agency', 'data_production_year', 'tracking_number'], ignore_index=True)\n",
    "df"
   ]
  },
  {
   "cell_type": "code",
   "execution_count": 5,
   "metadata": {},
   "outputs": [
    {
     "output_type": "execute_result",
     "data": {
      "text/plain": [
       "Empty DataFrame\n",
       "Columns: [uid, tracking_number, complaint_uid, allegation_uid, charge_uid, occur_year, occur_month, occur_day, raw_occur_date, occur_time, receive_year, receive_month, receive_day, allegation_create_year, allegation_create_month, allegation_create_day, investigation_complete_year, investigation_complete_month, investigation_complete_day, suspension_start_year, suspension_start_month, suspension_start_day, suspension_end_year, suspension_end_month, suspension_end_day, investigation_type, investigation_status, assigned_unit, assigned_department, assigned_division, assigned_sub_division_a, body_worn_camera_available, app_used, citizen_arrested, allegation_finding, allegation, allegation_class, citizen, disposition, rule_code, rule_violation, paragraph_code, paragraph_violation, charges, complainant_type, complainant_sex, complainant_race, recommended_action, action, data_production_year, agency, incident_type, supervisor_uid, supervisor_rank]\n",
       "Index: []\n",
       "\n",
       "[0 rows x 54 columns]"
      ],
      "text/html": "<div>\n<style scoped>\n    .dataframe tbody tr th:only-of-type {\n        vertical-align: middle;\n    }\n\n    .dataframe tbody tr th {\n        vertical-align: top;\n    }\n\n    .dataframe thead th {\n        text-align: right;\n    }\n</style>\n<table border=\"1\" class=\"dataframe\">\n  <thead>\n    <tr style=\"text-align: right;\">\n      <th></th>\n      <th>uid</th>\n      <th>tracking_number</th>\n      <th>complaint_uid</th>\n      <th>allegation_uid</th>\n      <th>charge_uid</th>\n      <th>occur_year</th>\n      <th>occur_month</th>\n      <th>occur_day</th>\n      <th>raw_occur_date</th>\n      <th>occur_time</th>\n      <th>...</th>\n      <th>complainant_type</th>\n      <th>complainant_sex</th>\n      <th>complainant_race</th>\n      <th>recommended_action</th>\n      <th>action</th>\n      <th>data_production_year</th>\n      <th>agency</th>\n      <th>incident_type</th>\n      <th>supervisor_uid</th>\n      <th>supervisor_rank</th>\n    </tr>\n  </thead>\n  <tbody>\n  </tbody>\n</table>\n<p>0 rows × 54 columns</p>\n</div>"
     },
     "metadata": {},
     "execution_count": 5
    }
   ],
   "source": [
    "df[df.duplicated(subset=['complaint_uid', 'charge_uid', 'allegation_uid'])]"
   ]
  },
  {
   "cell_type": "code",
   "execution_count": null,
   "metadata": {},
   "outputs": [],
   "source": []
  }
 ]
}
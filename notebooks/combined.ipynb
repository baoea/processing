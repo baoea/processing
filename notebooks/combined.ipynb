{
 "metadata": {
  "language_info": {
   "codemirror_mode": {
    "name": "ipython",
    "version": 3
   },
   "file_extension": ".py",
   "mimetype": "text/x-python",
   "name": "python",
   "nbconvert_exporter": "python",
   "pygments_lexer": "ipython3",
   "version": "3.9.2"
  },
  "orig_nbformat": 2,
  "kernelspec": {
   "name": "python3",
   "display_name": "Python 3.9.2 64-bit ('base': virtualenvwrapper)"
  },
  "interpreter": {
   "hash": "55d6dfa6f6295e03bf132df3e61c1565ff1c22b645ef82a5638b280b97b3597b"
  }
 },
 "nbformat": 4,
 "nbformat_minor": 2,
 "cells": [
  {
   "cell_type": "code",
   "execution_count": 1,
   "source": [
    "import sys; sys.path.append(\"../\")\n",
    "import pandas as pd"
   ],
   "outputs": [],
   "metadata": {}
  },
  {
   "cell_type": "code",
   "execution_count": 2,
   "source": [
    "per = pd.read_csv('../data/fuse/personnel.csv')\n",
    "com = pd.read_csv('../data/fuse/complaint.csv')\n",
    "event = pd.read_csv('../data/fuse/event.csv')\n",
    "uof = pd.read_csv('../data/fuse/use_of_force.csv')"
   ],
   "outputs": [
    {
     "output_type": "stream",
     "name": "stderr",
     "text": [
      "/Users/khoipham/.virtualenvs/base/lib/python3.9/site-packages/IPython/core/interactiveshell.py:3169: DtypeWarning: Columns (3,4,9,17,18,20,24,25,32,39,40) have mixed types.Specify dtype option on import or set low_memory=False.\n",
      "  has_raised = await self.run_ast_nodes(code_ast.body, cell_name,\n",
      "/Users/khoipham/.virtualenvs/base/lib/python3.9/site-packages/IPython/core/interactiveshell.py:3169: DtypeWarning: Columns (9,10,12,13,14,16,17,18,19,20,24,25,26,29,30,31) have mixed types.Specify dtype option on import or set low_memory=False.\n",
      "  has_raised = await self.run_ast_nodes(code_ast.body, cell_name,\n"
     ]
    }
   ],
   "metadata": {}
  },
  {
   "cell_type": "code",
   "execution_count": 8,
   "source": [
    "per.loc[per.race == 'asian', 'uid']"
   ],
   "outputs": [
    {
     "output_type": "execute_result",
     "data": {
      "text/plain": [
       "826      0b2d2193738b8217121b7044ee189799\n",
       "6445     594d529867eb652748fad65436573504\n",
       "18149    f661a013ec2411855d84e1b959552a02\n",
       "Name: uid, dtype: object"
      ]
     },
     "metadata": {},
     "execution_count": 8
    }
   ],
   "metadata": {}
  },
  {
   "cell_type": "code",
   "execution_count": 14,
   "source": [
    "event.loc[(event.year > 2021) & (event.agency == 'Tangipahoa SO')]"
   ],
   "outputs": [
    {
     "output_type": "execute_result",
     "data": {
      "text/plain": [
       "                               event_uid                    kind  year  month  \\\n",
       "136492  f003ef429f616c71287428abdedf0635  investigation_complete  2028    8.0   \n",
       "\n",
       "         day time raw_date                               uid  \\\n",
       "136492  24.0  NaN      NaN  da61ac8bcbafdb240f7c83024a495080   \n",
       "\n",
       "                           complaint_uid appeal_uid  ... rank_desc  \\\n",
       "136492  4dd575fa0e8a7166fdbccdbf4c752e1b        NaN  ...       NaN   \n",
       "\n",
       "       employment_status sworn officer_inactive employee_type years_employed  \\\n",
       "136492               NaN   NaN              NaN           NaN            NaN   \n",
       "\n",
       "       salary salary_freq award award_comments  \n",
       "136492    NaN         NaN   NaN            NaN  \n",
       "\n",
       "[1 rows x 32 columns]"
      ],
      "text/html": [
       "<div>\n",
       "<style scoped>\n",
       "    .dataframe tbody tr th:only-of-type {\n",
       "        vertical-align: middle;\n",
       "    }\n",
       "\n",
       "    .dataframe tbody tr th {\n",
       "        vertical-align: top;\n",
       "    }\n",
       "\n",
       "    .dataframe thead th {\n",
       "        text-align: right;\n",
       "    }\n",
       "</style>\n",
       "<table border=\"1\" class=\"dataframe\">\n",
       "  <thead>\n",
       "    <tr style=\"text-align: right;\">\n",
       "      <th></th>\n",
       "      <th>event_uid</th>\n",
       "      <th>kind</th>\n",
       "      <th>year</th>\n",
       "      <th>month</th>\n",
       "      <th>day</th>\n",
       "      <th>time</th>\n",
       "      <th>raw_date</th>\n",
       "      <th>uid</th>\n",
       "      <th>complaint_uid</th>\n",
       "      <th>appeal_uid</th>\n",
       "      <th>...</th>\n",
       "      <th>rank_desc</th>\n",
       "      <th>employment_status</th>\n",
       "      <th>sworn</th>\n",
       "      <th>officer_inactive</th>\n",
       "      <th>employee_type</th>\n",
       "      <th>years_employed</th>\n",
       "      <th>salary</th>\n",
       "      <th>salary_freq</th>\n",
       "      <th>award</th>\n",
       "      <th>award_comments</th>\n",
       "    </tr>\n",
       "  </thead>\n",
       "  <tbody>\n",
       "    <tr>\n",
       "      <th>136492</th>\n",
       "      <td>f003ef429f616c71287428abdedf0635</td>\n",
       "      <td>investigation_complete</td>\n",
       "      <td>2028</td>\n",
       "      <td>8.0</td>\n",
       "      <td>24.0</td>\n",
       "      <td>NaN</td>\n",
       "      <td>NaN</td>\n",
       "      <td>da61ac8bcbafdb240f7c83024a495080</td>\n",
       "      <td>4dd575fa0e8a7166fdbccdbf4c752e1b</td>\n",
       "      <td>NaN</td>\n",
       "      <td>...</td>\n",
       "      <td>NaN</td>\n",
       "      <td>NaN</td>\n",
       "      <td>NaN</td>\n",
       "      <td>NaN</td>\n",
       "      <td>NaN</td>\n",
       "      <td>NaN</td>\n",
       "      <td>NaN</td>\n",
       "      <td>NaN</td>\n",
       "      <td>NaN</td>\n",
       "      <td>NaN</td>\n",
       "    </tr>\n",
       "  </tbody>\n",
       "</table>\n",
       "<p>1 rows × 32 columns</p>\n",
       "</div>"
      ]
     },
     "metadata": {},
     "execution_count": 14
    }
   ],
   "metadata": {}
  },
  {
   "cell_type": "code",
   "execution_count": 6,
   "source": [
    "com.loc[com.badge_no.notna(), 'badge_no'].unique()"
   ],
   "outputs": [
    {
     "output_type": "execute_result",
     "data": {
      "text/plain": [
       "array(['2067', '2414', '2527', '1534', '2528', '2571', '2363', '2592',\n",
       "       '1308', '1067', '1053', '769', '1519', '1711', '2206', '1797',\n",
       "       'HP-50', 'HP-56', 'HP-33', 'PA-23', 'PA-18', 'PA-20', 'PA-28',\n",
       "       'PA-11', 'PA-8', 'PA-13', 'PA-6', 'PA-9', 'PA-17', 'PA-5', 'PA-4'],\n",
       "      dtype=object)"
      ]
     },
     "metadata": {},
     "execution_count": 6
    }
   ],
   "metadata": {}
  },
  {
   "cell_type": "code",
   "execution_count": null,
   "source": [],
   "outputs": [],
   "metadata": {}
  }
 ]
}
{
 "cells": [
  {
   "cell_type": "code",
   "execution_count": 1,
   "metadata": {},
   "outputs": [],
   "source": [
    "import sys; sys.path.append(\"../\")\n",
    "\n",
    "import pandas as pd\n",
    "\n",
    "from lib.name import clean_name\n",
    "from lib.date import to_datetime_series\n",
    "from lib.columns import rearrange_personel_columns"
   ]
  },
  {
   "cell_type": "code",
   "execution_count": 2,
   "metadata": {},
   "outputs": [
    {
     "output_type": "execute_result",
     "data": {
      "text/plain": [
       "                      Orgn Desc    Last Name   First Name Titl E Code  \\\n",
       "0             FISCAL MANAGEMENT       ABBOTT  CHRISTOPHER       C7134   \n",
       "1                       TRAFFIC       ABBOTT        DAVID       C7134   \n",
       "2               POLICE RECRUITS        ABRAM      SHELTON       C7109   \n",
       "3             FISCAL MANAGEMENT        ADAMS        JAMES       C7133   \n",
       "4              PUBLIC INTEGRITY        ADAMS        BRUCE       U0018   \n",
       "...                         ...          ...          ...         ...   \n",
       "1976            POLICE RECRUITS        YOUNT      JEFFREY         NaN   \n",
       "1977  TECHNICIAL SERVICES BUREA     ZALDIVAR         SARA         NaN   \n",
       "1978            SIXTH  DISTRICT       ZAPICO       DANIEL         NaN   \n",
       "1979            THIRD  DISTRICT       ZOLLER          RON         NaN   \n",
       "1980           PUBLIC INTEGRITY  ZSCHIEDRICH       WALTER         NaN   \n",
       "\n",
       "                     Title Desc  Term Date Pay Prog Start Date  Annual Salary  \n",
       "0              POLICE OFFICER 4        NaT          1992-09-02     46885.0056  \n",
       "1              POLICE OFFICER 4        NaT          1987-01-11     48064.4565  \n",
       "2        POLICE RECRUIT ACADEMY        NaT          2009-06-09     34797.9137  \n",
       "3              POLICE OFFICER 3 2009-08-30          1987-06-09     45734.4971  \n",
       "4      ASSISTANT SUPT OF POLICE        NaT          1975-10-16    106440.2966  \n",
       "...                         ...        ...                 ...            ...  \n",
       "1976     POLICE RECRUIT ACADEMY        NaT                 NaT     34797.9137  \n",
       "1977  POLICE COMPLAINT OPERATOR        NaT                 NaT     25508.0588  \n",
       "1978           POLICE OFFICER 1        NaT                 NaT     36570.7051  \n",
       "1979           POLICE OFFICER 4        NaT                 NaT     44612.2209  \n",
       "1980            POLICE SERGEANT        NaT                 NaT     63170.5615  \n",
       "\n",
       "[1981 rows x 8 columns]"
      ],
      "text/html": "<div>\n<style scoped>\n    .dataframe tbody tr th:only-of-type {\n        vertical-align: middle;\n    }\n\n    .dataframe tbody tr th {\n        vertical-align: top;\n    }\n\n    .dataframe thead th {\n        text-align: right;\n    }\n</style>\n<table border=\"1\" class=\"dataframe\">\n  <thead>\n    <tr style=\"text-align: right;\">\n      <th></th>\n      <th>Orgn Desc</th>\n      <th>Last Name</th>\n      <th>First Name</th>\n      <th>Titl E Code</th>\n      <th>Title Desc</th>\n      <th>Term Date</th>\n      <th>Pay Prog Start Date</th>\n      <th>Annual Salary</th>\n    </tr>\n  </thead>\n  <tbody>\n    <tr>\n      <th>0</th>\n      <td>FISCAL MANAGEMENT</td>\n      <td>ABBOTT</td>\n      <td>CHRISTOPHER</td>\n      <td>C7134</td>\n      <td>POLICE OFFICER 4</td>\n      <td>NaT</td>\n      <td>1992-09-02</td>\n      <td>46885.0056</td>\n    </tr>\n    <tr>\n      <th>1</th>\n      <td>TRAFFIC</td>\n      <td>ABBOTT</td>\n      <td>DAVID</td>\n      <td>C7134</td>\n      <td>POLICE OFFICER 4</td>\n      <td>NaT</td>\n      <td>1987-01-11</td>\n      <td>48064.4565</td>\n    </tr>\n    <tr>\n      <th>2</th>\n      <td>POLICE RECRUITS</td>\n      <td>ABRAM</td>\n      <td>SHELTON</td>\n      <td>C7109</td>\n      <td>POLICE RECRUIT ACADEMY</td>\n      <td>NaT</td>\n      <td>2009-06-09</td>\n      <td>34797.9137</td>\n    </tr>\n    <tr>\n      <th>3</th>\n      <td>FISCAL MANAGEMENT</td>\n      <td>ADAMS</td>\n      <td>JAMES</td>\n      <td>C7133</td>\n      <td>POLICE OFFICER 3</td>\n      <td>2009-08-30</td>\n      <td>1987-06-09</td>\n      <td>45734.4971</td>\n    </tr>\n    <tr>\n      <th>4</th>\n      <td>PUBLIC INTEGRITY</td>\n      <td>ADAMS</td>\n      <td>BRUCE</td>\n      <td>U0018</td>\n      <td>ASSISTANT SUPT OF POLICE</td>\n      <td>NaT</td>\n      <td>1975-10-16</td>\n      <td>106440.2966</td>\n    </tr>\n    <tr>\n      <th>...</th>\n      <td>...</td>\n      <td>...</td>\n      <td>...</td>\n      <td>...</td>\n      <td>...</td>\n      <td>...</td>\n      <td>...</td>\n      <td>...</td>\n    </tr>\n    <tr>\n      <th>1976</th>\n      <td>POLICE RECRUITS</td>\n      <td>YOUNT</td>\n      <td>JEFFREY</td>\n      <td>NaN</td>\n      <td>POLICE RECRUIT ACADEMY</td>\n      <td>NaT</td>\n      <td>NaT</td>\n      <td>34797.9137</td>\n    </tr>\n    <tr>\n      <th>1977</th>\n      <td>TECHNICIAL SERVICES BUREA</td>\n      <td>ZALDIVAR</td>\n      <td>SARA</td>\n      <td>NaN</td>\n      <td>POLICE COMPLAINT OPERATOR</td>\n      <td>NaT</td>\n      <td>NaT</td>\n      <td>25508.0588</td>\n    </tr>\n    <tr>\n      <th>1978</th>\n      <td>SIXTH  DISTRICT</td>\n      <td>ZAPICO</td>\n      <td>DANIEL</td>\n      <td>NaN</td>\n      <td>POLICE OFFICER 1</td>\n      <td>NaT</td>\n      <td>NaT</td>\n      <td>36570.7051</td>\n    </tr>\n    <tr>\n      <th>1979</th>\n      <td>THIRD  DISTRICT</td>\n      <td>ZOLLER</td>\n      <td>RON</td>\n      <td>NaN</td>\n      <td>POLICE OFFICER 4</td>\n      <td>NaT</td>\n      <td>NaT</td>\n      <td>44612.2209</td>\n    </tr>\n    <tr>\n      <th>1980</th>\n      <td>PUBLIC INTEGRITY</td>\n      <td>ZSCHIEDRICH</td>\n      <td>WALTER</td>\n      <td>NaN</td>\n      <td>POLICE SERGEANT</td>\n      <td>NaT</td>\n      <td>NaT</td>\n      <td>63170.5615</td>\n    </tr>\n  </tbody>\n</table>\n<p>1981 rows × 8 columns</p>\n</div>"
     },
     "metadata": {},
     "execution_count": 2
    }
   ],
   "source": [
    "df1 = pd.read_excel(\"../data/New Orleans Civil Service Department/Administrative Data/PPRR_09-15-2020.xlsx\")\n",
    "df1 = df1[[name for name in df1.columns if not name.startswith(\"Unnamed:\")]]\n",
    "df1.rename(columns={name: name.title() for name in df1.columns}, inplace=True)\n",
    "df1"
   ]
  },
  {
   "cell_type": "code",
   "execution_count": 3,
   "metadata": {},
   "outputs": [
    {
     "output_type": "execute_result",
     "data": {
      "text/plain": [
       "        Last Name   First Name                 Department Rank Number #  \\\n",
       "0          Abbott  Christopher          FISCAL MANAGEMENT         C7134   \n",
       "1          Abbott        David                    TRAFFIC         C7134   \n",
       "2           Abram      Shelton            POLICE RECRUITS         C7109   \n",
       "3           Adams        James          FISCAL MANAGEMENT         C7133   \n",
       "4           Adams        Bruce           PUBLIC INTEGRITY         U0018   \n",
       "...           ...          ...                        ...           ...   \n",
       "1976        Yount      Jeffrey            POLICE RECRUITS           NaN   \n",
       "1977     Zaldivar         Sara  TECHNICIAL SERVICES BUREA           NaN   \n",
       "1978       Zapico       Daniel            SIXTH  DISTRICT           NaN   \n",
       "1979       Zoller          Ron            THIRD  DISTRICT           NaN   \n",
       "1980  Zschiedrich       Walter           PUBLIC INTEGRITY           NaN   \n",
       "\n",
       "                           Rank Termination Date Pay Prog Start Date  \\\n",
       "0              POLICE OFFICER 4              NaT          1992-09-02   \n",
       "1              POLICE OFFICER 4              NaT          1987-01-11   \n",
       "2        POLICE RECRUIT ACADEMY              NaT          2009-06-09   \n",
       "3              POLICE OFFICER 3       2009-08-30          1987-06-09   \n",
       "4      ASSISTANT SUPT OF POLICE              NaT          1975-10-16   \n",
       "...                         ...              ...                 ...   \n",
       "1976     POLICE RECRUIT ACADEMY              NaT                 NaT   \n",
       "1977  POLICE COMPLAINT OPERATOR              NaT                 NaT   \n",
       "1978           POLICE OFFICER 1              NaT                 NaT   \n",
       "1979           POLICE OFFICER 4              NaT                 NaT   \n",
       "1980            POLICE SERGEANT              NaT                 NaT   \n",
       "\n",
       "      Annual Salary  \n",
       "0        46885.0056  \n",
       "1        48064.4565  \n",
       "2        34797.9137  \n",
       "3        45734.4971  \n",
       "4       106440.2966  \n",
       "...             ...  \n",
       "1976     34797.9137  \n",
       "1977     25508.0588  \n",
       "1978     36570.7051  \n",
       "1979     44612.2209  \n",
       "1980     63170.5615  \n",
       "\n",
       "[1981 rows x 8 columns]"
      ],
      "text/html": "<div>\n<style scoped>\n    .dataframe tbody tr th:only-of-type {\n        vertical-align: middle;\n    }\n\n    .dataframe tbody tr th {\n        vertical-align: top;\n    }\n\n    .dataframe thead th {\n        text-align: right;\n    }\n</style>\n<table border=\"1\" class=\"dataframe\">\n  <thead>\n    <tr style=\"text-align: right;\">\n      <th></th>\n      <th>Last Name</th>\n      <th>First Name</th>\n      <th>Department</th>\n      <th>Rank Number #</th>\n      <th>Rank</th>\n      <th>Termination Date</th>\n      <th>Pay Prog Start Date</th>\n      <th>Annual Salary</th>\n    </tr>\n  </thead>\n  <tbody>\n    <tr>\n      <th>0</th>\n      <td>Abbott</td>\n      <td>Christopher</td>\n      <td>FISCAL MANAGEMENT</td>\n      <td>C7134</td>\n      <td>POLICE OFFICER 4</td>\n      <td>NaT</td>\n      <td>1992-09-02</td>\n      <td>46885.0056</td>\n    </tr>\n    <tr>\n      <th>1</th>\n      <td>Abbott</td>\n      <td>David</td>\n      <td>TRAFFIC</td>\n      <td>C7134</td>\n      <td>POLICE OFFICER 4</td>\n      <td>NaT</td>\n      <td>1987-01-11</td>\n      <td>48064.4565</td>\n    </tr>\n    <tr>\n      <th>2</th>\n      <td>Abram</td>\n      <td>Shelton</td>\n      <td>POLICE RECRUITS</td>\n      <td>C7109</td>\n      <td>POLICE RECRUIT ACADEMY</td>\n      <td>NaT</td>\n      <td>2009-06-09</td>\n      <td>34797.9137</td>\n    </tr>\n    <tr>\n      <th>3</th>\n      <td>Adams</td>\n      <td>James</td>\n      <td>FISCAL MANAGEMENT</td>\n      <td>C7133</td>\n      <td>POLICE OFFICER 3</td>\n      <td>2009-08-30</td>\n      <td>1987-06-09</td>\n      <td>45734.4971</td>\n    </tr>\n    <tr>\n      <th>4</th>\n      <td>Adams</td>\n      <td>Bruce</td>\n      <td>PUBLIC INTEGRITY</td>\n      <td>U0018</td>\n      <td>ASSISTANT SUPT OF POLICE</td>\n      <td>NaT</td>\n      <td>1975-10-16</td>\n      <td>106440.2966</td>\n    </tr>\n    <tr>\n      <th>...</th>\n      <td>...</td>\n      <td>...</td>\n      <td>...</td>\n      <td>...</td>\n      <td>...</td>\n      <td>...</td>\n      <td>...</td>\n      <td>...</td>\n    </tr>\n    <tr>\n      <th>1976</th>\n      <td>Yount</td>\n      <td>Jeffrey</td>\n      <td>POLICE RECRUITS</td>\n      <td>NaN</td>\n      <td>POLICE RECRUIT ACADEMY</td>\n      <td>NaT</td>\n      <td>NaT</td>\n      <td>34797.9137</td>\n    </tr>\n    <tr>\n      <th>1977</th>\n      <td>Zaldivar</td>\n      <td>Sara</td>\n      <td>TECHNICIAL SERVICES BUREA</td>\n      <td>NaN</td>\n      <td>POLICE COMPLAINT OPERATOR</td>\n      <td>NaT</td>\n      <td>NaT</td>\n      <td>25508.0588</td>\n    </tr>\n    <tr>\n      <th>1978</th>\n      <td>Zapico</td>\n      <td>Daniel</td>\n      <td>SIXTH  DISTRICT</td>\n      <td>NaN</td>\n      <td>POLICE OFFICER 1</td>\n      <td>NaT</td>\n      <td>NaT</td>\n      <td>36570.7051</td>\n    </tr>\n    <tr>\n      <th>1979</th>\n      <td>Zoller</td>\n      <td>Ron</td>\n      <td>THIRD  DISTRICT</td>\n      <td>NaN</td>\n      <td>POLICE OFFICER 4</td>\n      <td>NaT</td>\n      <td>NaT</td>\n      <td>44612.2209</td>\n    </tr>\n    <tr>\n      <th>1980</th>\n      <td>Zschiedrich</td>\n      <td>Walter</td>\n      <td>PUBLIC INTEGRITY</td>\n      <td>NaN</td>\n      <td>POLICE SERGEANT</td>\n      <td>NaT</td>\n      <td>NaT</td>\n      <td>63170.5615</td>\n    </tr>\n  </tbody>\n</table>\n<p>1981 rows × 8 columns</p>\n</div>"
     },
     "metadata": {},
     "execution_count": 3
    }
   ],
   "source": [
    "df2 = df1[[\"Orgn Desc\", \"First Name\", \"Last Name\", \"Titl E Code\", \"Title Desc\", \"Term Date\", \"Pay Prog Start Date\", \"Annual Salary\"]]\n",
    "df2.rename(columns={\n",
    "    \"Term Date\": \"Termination Date\",\n",
    "    \"Orgn Desc\": \"Department\",\n",
    "    \"Titl E Code\": \"Rank Number #\",\n",
    "    \"Title Desc\": \"Rank\",\n",
    "}, inplace=True)\n",
    "df2 = rearrange_personel_columns(df2)\n",
    "for col in [\"Last Name\", \"First Name\"]:\n",
    "    df2.loc[:, col] = df2[col].map(clean_name, na_action=\"ignore\")\n",
    "for col in [\"Termination Date\", \"Pay Prog Start Date\"]:\n",
    "    df2.loc[:, col] = to_datetime_series(df2[col])\n",
    "df2"
   ]
  },
  {
   "cell_type": "code",
   "execution_count": 4,
   "metadata": {},
   "outputs": [],
   "source": [
    "df2.to_csv(\"../output/new-orleans-csd_personel_09-15-2020.csv\", index=False)"
   ]
  },
  {
   "cell_type": "code",
   "execution_count": null,
   "metadata": {},
   "outputs": [],
   "source": []
  }
 ],
 "metadata": {
  "kernelspec": {
   "display_name": "Python 3",
   "language": "python",
   "name": "python3"
  },
  "language_info": {
   "codemirror_mode": {
    "name": "ipython",
    "version": 3
   },
   "file_extension": ".py",
   "mimetype": "text/x-python",
   "name": "python",
   "nbconvert_exporter": "python",
   "pygments_lexer": "ipython3",
   "version": "3.8.3-final"
  }
 },
 "nbformat": 4,
 "nbformat_minor": 4
}
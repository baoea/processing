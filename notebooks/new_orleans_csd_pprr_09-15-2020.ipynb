{
 "cells": [
  {
   "cell_type": "code",
   "execution_count": 1,
   "metadata": {},
   "outputs": [],
   "source": [
    "import sys; sys.path.append(\"../\")\n",
    "\n",
    "import pandas as pd\n",
    "\n",
    "from lib.name import clean_name\n",
    "from lib.excel import remove_unnamed_cols\n",
    "from lib.date import to_datetime_series\n",
    "from lib.match_records import gen_uid\n",
    "from lib.columns import (\n",
    "    rearrange_personel_columns, rearrange_personel_history_columns\n",
    ")"
   ]
  },
  {
   "cell_type": "code",
   "execution_count": 2,
   "metadata": {},
   "outputs": [
    {
     "output_type": "execute_result",
     "data": {
      "text/plain": [
       "                      Orgn Desc    Last Name   First Name Titl E Code  \\\n",
       "0             FISCAL MANAGEMENT       ABBOTT  CHRISTOPHER       C7134   \n",
       "1                       TRAFFIC       ABBOTT        DAVID       C7134   \n",
       "2               POLICE RECRUITS        ABRAM      SHELTON       C7109   \n",
       "3             FISCAL MANAGEMENT        ADAMS        JAMES       C7133   \n",
       "4              PUBLIC INTEGRITY        ADAMS        BRUCE       U0018   \n",
       "...                         ...          ...          ...         ...   \n",
       "1976            POLICE RECRUITS        YOUNT      JEFFREY         NaN   \n",
       "1977  TECHNICIAL SERVICES BUREA     ZALDIVAR         SARA         NaN   \n",
       "1978            SIXTH  DISTRICT       ZAPICO       DANIEL         NaN   \n",
       "1979            THIRD  DISTRICT       ZOLLER          RON         NaN   \n",
       "1980           PUBLIC INTEGRITY  ZSCHIEDRICH       WALTER         NaN   \n",
       "\n",
       "                     Title Desc  Term Date Pay Prog Start Date  Annual Salary  \n",
       "0              POLICE OFFICER 4        NaT          1992-09-02     46885.0056  \n",
       "1              POLICE OFFICER 4        NaT          1987-01-11     48064.4565  \n",
       "2        POLICE RECRUIT ACADEMY        NaT          2009-06-09     34797.9137  \n",
       "3              POLICE OFFICER 3 2009-08-30          1987-06-09     45734.4971  \n",
       "4      ASSISTANT SUPT OF POLICE        NaT          1975-10-16    106440.2966  \n",
       "...                         ...        ...                 ...            ...  \n",
       "1976     POLICE RECRUIT ACADEMY        NaT                 NaT     34797.9137  \n",
       "1977  POLICE COMPLAINT OPERATOR        NaT                 NaT     25508.0588  \n",
       "1978           POLICE OFFICER 1        NaT                 NaT     36570.7051  \n",
       "1979           POLICE OFFICER 4        NaT                 NaT     44612.2209  \n",
       "1980            POLICE SERGEANT        NaT                 NaT     63170.5615  \n",
       "\n",
       "[1981 rows x 8 columns]"
      ],
      "text/html": "<div>\n<style scoped>\n    .dataframe tbody tr th:only-of-type {\n        vertical-align: middle;\n    }\n\n    .dataframe tbody tr th {\n        vertical-align: top;\n    }\n\n    .dataframe thead th {\n        text-align: right;\n    }\n</style>\n<table border=\"1\" class=\"dataframe\">\n  <thead>\n    <tr style=\"text-align: right;\">\n      <th></th>\n      <th>Orgn Desc</th>\n      <th>Last Name</th>\n      <th>First Name</th>\n      <th>Titl E Code</th>\n      <th>Title Desc</th>\n      <th>Term Date</th>\n      <th>Pay Prog Start Date</th>\n      <th>Annual Salary</th>\n    </tr>\n  </thead>\n  <tbody>\n    <tr>\n      <th>0</th>\n      <td>FISCAL MANAGEMENT</td>\n      <td>ABBOTT</td>\n      <td>CHRISTOPHER</td>\n      <td>C7134</td>\n      <td>POLICE OFFICER 4</td>\n      <td>NaT</td>\n      <td>1992-09-02</td>\n      <td>46885.0056</td>\n    </tr>\n    <tr>\n      <th>1</th>\n      <td>TRAFFIC</td>\n      <td>ABBOTT</td>\n      <td>DAVID</td>\n      <td>C7134</td>\n      <td>POLICE OFFICER 4</td>\n      <td>NaT</td>\n      <td>1987-01-11</td>\n      <td>48064.4565</td>\n    </tr>\n    <tr>\n      <th>2</th>\n      <td>POLICE RECRUITS</td>\n      <td>ABRAM</td>\n      <td>SHELTON</td>\n      <td>C7109</td>\n      <td>POLICE RECRUIT ACADEMY</td>\n      <td>NaT</td>\n      <td>2009-06-09</td>\n      <td>34797.9137</td>\n    </tr>\n    <tr>\n      <th>3</th>\n      <td>FISCAL MANAGEMENT</td>\n      <td>ADAMS</td>\n      <td>JAMES</td>\n      <td>C7133</td>\n      <td>POLICE OFFICER 3</td>\n      <td>2009-08-30</td>\n      <td>1987-06-09</td>\n      <td>45734.4971</td>\n    </tr>\n    <tr>\n      <th>4</th>\n      <td>PUBLIC INTEGRITY</td>\n      <td>ADAMS</td>\n      <td>BRUCE</td>\n      <td>U0018</td>\n      <td>ASSISTANT SUPT OF POLICE</td>\n      <td>NaT</td>\n      <td>1975-10-16</td>\n      <td>106440.2966</td>\n    </tr>\n    <tr>\n      <th>...</th>\n      <td>...</td>\n      <td>...</td>\n      <td>...</td>\n      <td>...</td>\n      <td>...</td>\n      <td>...</td>\n      <td>...</td>\n      <td>...</td>\n    </tr>\n    <tr>\n      <th>1976</th>\n      <td>POLICE RECRUITS</td>\n      <td>YOUNT</td>\n      <td>JEFFREY</td>\n      <td>NaN</td>\n      <td>POLICE RECRUIT ACADEMY</td>\n      <td>NaT</td>\n      <td>NaT</td>\n      <td>34797.9137</td>\n    </tr>\n    <tr>\n      <th>1977</th>\n      <td>TECHNICIAL SERVICES BUREA</td>\n      <td>ZALDIVAR</td>\n      <td>SARA</td>\n      <td>NaN</td>\n      <td>POLICE COMPLAINT OPERATOR</td>\n      <td>NaT</td>\n      <td>NaT</td>\n      <td>25508.0588</td>\n    </tr>\n    <tr>\n      <th>1978</th>\n      <td>SIXTH  DISTRICT</td>\n      <td>ZAPICO</td>\n      <td>DANIEL</td>\n      <td>NaN</td>\n      <td>POLICE OFFICER 1</td>\n      <td>NaT</td>\n      <td>NaT</td>\n      <td>36570.7051</td>\n    </tr>\n    <tr>\n      <th>1979</th>\n      <td>THIRD  DISTRICT</td>\n      <td>ZOLLER</td>\n      <td>RON</td>\n      <td>NaN</td>\n      <td>POLICE OFFICER 4</td>\n      <td>NaT</td>\n      <td>NaT</td>\n      <td>44612.2209</td>\n    </tr>\n    <tr>\n      <th>1980</th>\n      <td>PUBLIC INTEGRITY</td>\n      <td>ZSCHIEDRICH</td>\n      <td>WALTER</td>\n      <td>NaN</td>\n      <td>POLICE SERGEANT</td>\n      <td>NaT</td>\n      <td>NaT</td>\n      <td>63170.5615</td>\n    </tr>\n  </tbody>\n</table>\n<p>1981 rows × 8 columns</p>\n</div>"
     },
     "metadata": {},
     "execution_count": 2
    }
   ],
   "source": [
    "df1 = pd.read_excel(\"../data/New Orleans Civil Service Department/Administrative Data/New Orleans_CSD_PPRR_2009.xlsx\")\n",
    "df1 = remove_unnamed_cols(df1)\n",
    "df1.rename(columns={name: name.title() for name in df1.columns}, inplace=True)\n",
    "df1"
   ]
  },
  {
   "cell_type": "code",
   "execution_count": 3,
   "metadata": {},
   "outputs": [],
   "source": [
    "df2 = df1[[\"Orgn Desc\", \"First Name\", \"Last Name\", \"Titl E Code\", \"Title Desc\", \"Term Date\", \"Pay Prog Start Date\", \"Annual Salary\"]]\n",
    "df2.rename(columns={\n",
    "    \"Term Date\": \"Termination Date\",\n",
    "    \"Orgn Desc\": \"Department\",\n",
    "    \"Titl E Code\": \"Rank Number #\",\n",
    "    \"Title Desc\": \"Rank\",\n",
    "}, inplace=True)\n",
    "for col in [\"Last Name\", \"First Name\"]:\n",
    "    df2.loc[:, col] = df2[col].map(clean_name, na_action=\"ignore\")\n",
    "for col in [\"Termination Date\", \"Pay Prog Start Date\"]:\n",
    "    df2.loc[:, col] = to_datetime_series(df2[col])\n",
    "df2 = gen_uid(df2, [\"Last Name\", \"First Name\"])\n",
    "personel = rearrange_personel_columns(df2)\n",
    "history = rearrange_personel_history_columns(df2)"
   ]
  },
  {
   "cell_type": "code",
   "execution_count": 4,
   "metadata": {},
   "outputs": [
    {
     "output_type": "execute_result",
     "data": {
      "text/plain": [
       "             UID    Last Name   First Name\n",
       "0     f596663dc3       Abbott  Christopher\n",
       "1     dfb1a08325       Abbott        David\n",
       "2     b8566ab933        Abram      Shelton\n",
       "3     75953b7ab7        Adams        James\n",
       "4     54cf218c0b        Adams        Bruce\n",
       "...          ...          ...          ...\n",
       "1506  ed1dbff904        Yount      Jeffrey\n",
       "1507  4b6f2f301a     Zaldivar         Sara\n",
       "1508  0f2b01d7a4       Zapico       Daniel\n",
       "1509  1ebbd049e0       Zoller          Ron\n",
       "1510  e5666b225d  Zschiedrich       Walter\n",
       "\n",
       "[1511 rows x 3 columns]"
      ],
      "text/html": "<div>\n<style scoped>\n    .dataframe tbody tr th:only-of-type {\n        vertical-align: middle;\n    }\n\n    .dataframe tbody tr th {\n        vertical-align: top;\n    }\n\n    .dataframe thead th {\n        text-align: right;\n    }\n</style>\n<table border=\"1\" class=\"dataframe\">\n  <thead>\n    <tr style=\"text-align: right;\">\n      <th></th>\n      <th>UID</th>\n      <th>Last Name</th>\n      <th>First Name</th>\n    </tr>\n  </thead>\n  <tbody>\n    <tr>\n      <th>0</th>\n      <td>f596663dc3</td>\n      <td>Abbott</td>\n      <td>Christopher</td>\n    </tr>\n    <tr>\n      <th>1</th>\n      <td>dfb1a08325</td>\n      <td>Abbott</td>\n      <td>David</td>\n    </tr>\n    <tr>\n      <th>2</th>\n      <td>b8566ab933</td>\n      <td>Abram</td>\n      <td>Shelton</td>\n    </tr>\n    <tr>\n      <th>3</th>\n      <td>75953b7ab7</td>\n      <td>Adams</td>\n      <td>James</td>\n    </tr>\n    <tr>\n      <th>4</th>\n      <td>54cf218c0b</td>\n      <td>Adams</td>\n      <td>Bruce</td>\n    </tr>\n    <tr>\n      <th>...</th>\n      <td>...</td>\n      <td>...</td>\n      <td>...</td>\n    </tr>\n    <tr>\n      <th>1506</th>\n      <td>ed1dbff904</td>\n      <td>Yount</td>\n      <td>Jeffrey</td>\n    </tr>\n    <tr>\n      <th>1507</th>\n      <td>4b6f2f301a</td>\n      <td>Zaldivar</td>\n      <td>Sara</td>\n    </tr>\n    <tr>\n      <th>1508</th>\n      <td>0f2b01d7a4</td>\n      <td>Zapico</td>\n      <td>Daniel</td>\n    </tr>\n    <tr>\n      <th>1509</th>\n      <td>1ebbd049e0</td>\n      <td>Zoller</td>\n      <td>Ron</td>\n    </tr>\n    <tr>\n      <th>1510</th>\n      <td>e5666b225d</td>\n      <td>Zschiedrich</td>\n      <td>Walter</td>\n    </tr>\n  </tbody>\n</table>\n<p>1511 rows × 3 columns</p>\n</div>"
     },
     "metadata": {},
     "execution_count": 4
    }
   ],
   "source": [
    "personel"
   ]
  },
  {
   "cell_type": "code",
   "execution_count": 5,
   "metadata": {},
   "outputs": [
    {
     "output_type": "execute_result",
     "data": {
      "text/plain": [
       "             UID                 Department Rank Number #  \\\n",
       "0     f596663dc3          FISCAL MANAGEMENT         C7134   \n",
       "1     dfb1a08325                    TRAFFIC         C7134   \n",
       "2     b8566ab933            POLICE RECRUITS         C7109   \n",
       "3     75953b7ab7          FISCAL MANAGEMENT         C7133   \n",
       "4     54cf218c0b           PUBLIC INTEGRITY         U0018   \n",
       "...          ...                        ...           ...   \n",
       "1972  ed1dbff904            POLICE RECRUITS           NaN   \n",
       "1973  4b6f2f301a  TECHNICIAL SERVICES BUREA           NaN   \n",
       "1974  0f2b01d7a4            SIXTH  DISTRICT           NaN   \n",
       "1975  1ebbd049e0            THIRD  DISTRICT           NaN   \n",
       "1976  e5666b225d           PUBLIC INTEGRITY           NaN   \n",
       "\n",
       "                           Rank Termination Date Pay Prog Start Date  \\\n",
       "0              POLICE OFFICER 4              NaT          1992-09-02   \n",
       "1              POLICE OFFICER 4              NaT          1987-01-11   \n",
       "2        POLICE RECRUIT ACADEMY              NaT          2009-06-09   \n",
       "3              POLICE OFFICER 3       2009-08-30          1987-06-09   \n",
       "4      ASSISTANT SUPT OF POLICE              NaT          1975-10-16   \n",
       "...                         ...              ...                 ...   \n",
       "1972     POLICE RECRUIT ACADEMY              NaT                 NaT   \n",
       "1973  POLICE COMPLAINT OPERATOR              NaT                 NaT   \n",
       "1974           POLICE OFFICER 1              NaT                 NaT   \n",
       "1975           POLICE OFFICER 4              NaT                 NaT   \n",
       "1976            POLICE SERGEANT              NaT                 NaT   \n",
       "\n",
       "      Annual Salary  \n",
       "0        46885.0056  \n",
       "1        48064.4565  \n",
       "2        34797.9137  \n",
       "3        45734.4971  \n",
       "4       106440.2966  \n",
       "...             ...  \n",
       "1972     34797.9137  \n",
       "1973     25508.0588  \n",
       "1974     36570.7051  \n",
       "1975     44612.2209  \n",
       "1976     63170.5615  \n",
       "\n",
       "[1977 rows x 7 columns]"
      ],
      "text/html": "<div>\n<style scoped>\n    .dataframe tbody tr th:only-of-type {\n        vertical-align: middle;\n    }\n\n    .dataframe tbody tr th {\n        vertical-align: top;\n    }\n\n    .dataframe thead th {\n        text-align: right;\n    }\n</style>\n<table border=\"1\" class=\"dataframe\">\n  <thead>\n    <tr style=\"text-align: right;\">\n      <th></th>\n      <th>UID</th>\n      <th>Department</th>\n      <th>Rank Number #</th>\n      <th>Rank</th>\n      <th>Termination Date</th>\n      <th>Pay Prog Start Date</th>\n      <th>Annual Salary</th>\n    </tr>\n  </thead>\n  <tbody>\n    <tr>\n      <th>0</th>\n      <td>f596663dc3</td>\n      <td>FISCAL MANAGEMENT</td>\n      <td>C7134</td>\n      <td>POLICE OFFICER 4</td>\n      <td>NaT</td>\n      <td>1992-09-02</td>\n      <td>46885.0056</td>\n    </tr>\n    <tr>\n      <th>1</th>\n      <td>dfb1a08325</td>\n      <td>TRAFFIC</td>\n      <td>C7134</td>\n      <td>POLICE OFFICER 4</td>\n      <td>NaT</td>\n      <td>1987-01-11</td>\n      <td>48064.4565</td>\n    </tr>\n    <tr>\n      <th>2</th>\n      <td>b8566ab933</td>\n      <td>POLICE RECRUITS</td>\n      <td>C7109</td>\n      <td>POLICE RECRUIT ACADEMY</td>\n      <td>NaT</td>\n      <td>2009-06-09</td>\n      <td>34797.9137</td>\n    </tr>\n    <tr>\n      <th>3</th>\n      <td>75953b7ab7</td>\n      <td>FISCAL MANAGEMENT</td>\n      <td>C7133</td>\n      <td>POLICE OFFICER 3</td>\n      <td>2009-08-30</td>\n      <td>1987-06-09</td>\n      <td>45734.4971</td>\n    </tr>\n    <tr>\n      <th>4</th>\n      <td>54cf218c0b</td>\n      <td>PUBLIC INTEGRITY</td>\n      <td>U0018</td>\n      <td>ASSISTANT SUPT OF POLICE</td>\n      <td>NaT</td>\n      <td>1975-10-16</td>\n      <td>106440.2966</td>\n    </tr>\n    <tr>\n      <th>...</th>\n      <td>...</td>\n      <td>...</td>\n      <td>...</td>\n      <td>...</td>\n      <td>...</td>\n      <td>...</td>\n      <td>...</td>\n    </tr>\n    <tr>\n      <th>1972</th>\n      <td>ed1dbff904</td>\n      <td>POLICE RECRUITS</td>\n      <td>NaN</td>\n      <td>POLICE RECRUIT ACADEMY</td>\n      <td>NaT</td>\n      <td>NaT</td>\n      <td>34797.9137</td>\n    </tr>\n    <tr>\n      <th>1973</th>\n      <td>4b6f2f301a</td>\n      <td>TECHNICIAL SERVICES BUREA</td>\n      <td>NaN</td>\n      <td>POLICE COMPLAINT OPERATOR</td>\n      <td>NaT</td>\n      <td>NaT</td>\n      <td>25508.0588</td>\n    </tr>\n    <tr>\n      <th>1974</th>\n      <td>0f2b01d7a4</td>\n      <td>SIXTH  DISTRICT</td>\n      <td>NaN</td>\n      <td>POLICE OFFICER 1</td>\n      <td>NaT</td>\n      <td>NaT</td>\n      <td>36570.7051</td>\n    </tr>\n    <tr>\n      <th>1975</th>\n      <td>1ebbd049e0</td>\n      <td>THIRD  DISTRICT</td>\n      <td>NaN</td>\n      <td>POLICE OFFICER 4</td>\n      <td>NaT</td>\n      <td>NaT</td>\n      <td>44612.2209</td>\n    </tr>\n    <tr>\n      <th>1976</th>\n      <td>e5666b225d</td>\n      <td>PUBLIC INTEGRITY</td>\n      <td>NaN</td>\n      <td>POLICE SERGEANT</td>\n      <td>NaT</td>\n      <td>NaT</td>\n      <td>63170.5615</td>\n    </tr>\n  </tbody>\n</table>\n<p>1977 rows × 7 columns</p>\n</div>"
     },
     "metadata": {},
     "execution_count": 5
    }
   ],
   "source": [
    "history"
   ]
  }
 ],
 "metadata": {
  "kernelspec": {
   "display_name": "Python 3",
   "language": "python",
   "name": "python3"
  },
  "language_info": {
   "codemirror_mode": {
    "name": "ipython",
    "version": 3
   },
   "file_extension": ".py",
   "mimetype": "text/x-python",
   "name": "python",
   "nbconvert_exporter": "python",
   "pygments_lexer": "ipython3",
   "version": "3.8.3-final"
  }
 },
 "nbformat": 4,
 "nbformat_minor": 4
}
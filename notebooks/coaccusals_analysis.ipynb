{
 "cells": [
  {
   "cell_type": "code",
   "execution_count": 748,
   "metadata": {},
   "outputs": [],
   "source": [
    "import pandas as pd\n",
    "import numpy as np\n",
    "import networkx as nx\n",
    "from itertools import combinations\n",
    "import os\n",
    "import seaborn as sns\n",
    "import statistics as stat\n",
    "from collections import Counter\n",
    "from matplotlib.pyplot import figure\n",
    "import matplotlib.pyplot as plt\n",
    "from community import community_louvain\n",
    "import random"
   ]
  },
  {
   "cell_type": "code",
   "execution_count": 749,
   "metadata": {},
   "outputs": [],
   "source": [
    "def read():\n",
    "    df = pd.read_csv(\"../data/analysis/cprr_new_orleans_pd_ipm.csv\")\n",
    "    return df"
   ]
  },
  {
   "cell_type": "code",
   "execution_count": 750,
   "metadata": {},
   "outputs": [
    {
     "data": {
      "text/plain": [
       "(1592, 4)"
      ]
     },
     "execution_count": 750,
     "metadata": {},
     "output_type": "execute_result"
    }
   ],
   "source": [
    "df = read()\n",
    "df.shape"
   ]
  },
  {
   "cell_type": "code",
   "execution_count": 751,
   "metadata": {},
   "outputs": [
    {
     "data": {
      "text/html": [
       "<div>\n",
       "<style scoped>\n",
       "    .dataframe tbody tr th:only-of-type {\n",
       "        vertical-align: middle;\n",
       "    }\n",
       "\n",
       "    .dataframe tbody tr th {\n",
       "        vertical-align: top;\n",
       "    }\n",
       "\n",
       "    .dataframe thead th {\n",
       "        text-align: right;\n",
       "    }\n",
       "</style>\n",
       "<table border=\"1\" class=\"dataframe\">\n",
       "  <thead>\n",
       "    <tr style=\"text-align: right;\">\n",
       "      <th></th>\n",
       "      <th>tracking_id</th>\n",
       "      <th>allegation_uid</th>\n",
       "      <th>uid</th>\n",
       "      <th>agency</th>\n",
       "    </tr>\n",
       "  </thead>\n",
       "  <tbody>\n",
       "    <tr>\n",
       "      <th>0</th>\n",
       "      <td>d1356ddced7c750ae9fd9bd14c783fb1</td>\n",
       "      <td>0100c9d8db4f18b74605ec274bb9054e</td>\n",
       "      <td>3d3927213902a514d5a26598e7d187e2</td>\n",
       "      <td>baton-rouge-pd</td>\n",
       "    </tr>\n",
       "    <tr>\n",
       "      <th>1</th>\n",
       "      <td>43c61a17b39d7204c0ab781173d09bb9</td>\n",
       "      <td>e7133a746d397a8632c739c9470265d5</td>\n",
       "      <td>f112f1a632d003cb85cf54870a062e33</td>\n",
       "      <td>baton-rouge-pd</td>\n",
       "    </tr>\n",
       "    <tr>\n",
       "      <th>2</th>\n",
       "      <td>43c61a17b39d7204c0ab781173d09bb9</td>\n",
       "      <td>280d116f5cfc2944e76ca755b179fd60</td>\n",
       "      <td>ccaec2cf4522039c49f28de6d2a56237</td>\n",
       "      <td>baton-rouge-pd</td>\n",
       "    </tr>\n",
       "    <tr>\n",
       "      <th>3</th>\n",
       "      <td>43c61a17b39d7204c0ab781173d09bb9</td>\n",
       "      <td>4e174a7d1af88e06f8a6f81b1afb29f8</td>\n",
       "      <td>9fe99b15a84be0f3efb2ef5a02bcefcb</td>\n",
       "      <td>baton-rouge-pd</td>\n",
       "    </tr>\n",
       "    <tr>\n",
       "      <th>4</th>\n",
       "      <td>43c61a17b39d7204c0ab781173d09bb9</td>\n",
       "      <td>bca21d7d7edf095512e8fe2994e4518a</td>\n",
       "      <td>78272e05dacca625247a0e3e40cd1ec6</td>\n",
       "      <td>baton-rouge-pd</td>\n",
       "    </tr>\n",
       "    <tr>\n",
       "      <th>...</th>\n",
       "      <td>...</td>\n",
       "      <td>...</td>\n",
       "      <td>...</td>\n",
       "      <td>...</td>\n",
       "    </tr>\n",
       "    <tr>\n",
       "      <th>1587</th>\n",
       "      <td>f63d0e1d8625f89deb7f51c772c92f81</td>\n",
       "      <td>95fba0e0b6c74437b93292f4f6ee2a54</td>\n",
       "      <td>cf18298bd155af4021dd4465f11f67c2</td>\n",
       "      <td>rayne-pd</td>\n",
       "    </tr>\n",
       "    <tr>\n",
       "      <th>1588</th>\n",
       "      <td>f63d0e1d8625f89deb7f51c772c92f81</td>\n",
       "      <td>24cee9fdf5c627c4a8bba173ba5283a6</td>\n",
       "      <td>2004e0009f7e68620cc5f55cbe35c6d8</td>\n",
       "      <td>rayne-pd</td>\n",
       "    </tr>\n",
       "    <tr>\n",
       "      <th>1589</th>\n",
       "      <td>f63d0e1d8625f89deb7f51c772c92f81</td>\n",
       "      <td>a5d7e783064f5fc20abd19d577dbfa09</td>\n",
       "      <td>5e168f97495eb5021900c9bb71eac3dd</td>\n",
       "      <td>rayne-pd</td>\n",
       "    </tr>\n",
       "    <tr>\n",
       "      <th>1590</th>\n",
       "      <td>ab46e7d18efc6f9e02fb0eca160b84df</td>\n",
       "      <td>42211ade146adf06ed1f26f0d8b9116d</td>\n",
       "      <td>9913191ea301550e36df2f3a3c4e4cd5</td>\n",
       "      <td>rayne-pd</td>\n",
       "    </tr>\n",
       "    <tr>\n",
       "      <th>1591</th>\n",
       "      <td>ab46e7d18efc6f9e02fb0eca160b84df</td>\n",
       "      <td>47e9f6596d01ee22e5c40232a0c48c39</td>\n",
       "      <td>2004e0009f7e68620cc5f55cbe35c6d8</td>\n",
       "      <td>rayne-pd</td>\n",
       "    </tr>\n",
       "  </tbody>\n",
       "</table>\n",
       "<p>1592 rows × 4 columns</p>\n",
       "</div>"
      ],
      "text/plain": [
       "                           tracking_id                    allegation_uid  \\\n",
       "0     d1356ddced7c750ae9fd9bd14c783fb1  0100c9d8db4f18b74605ec274bb9054e   \n",
       "1     43c61a17b39d7204c0ab781173d09bb9  e7133a746d397a8632c739c9470265d5   \n",
       "2     43c61a17b39d7204c0ab781173d09bb9  280d116f5cfc2944e76ca755b179fd60   \n",
       "3     43c61a17b39d7204c0ab781173d09bb9  4e174a7d1af88e06f8a6f81b1afb29f8   \n",
       "4     43c61a17b39d7204c0ab781173d09bb9  bca21d7d7edf095512e8fe2994e4518a   \n",
       "...                                ...                               ...   \n",
       "1587  f63d0e1d8625f89deb7f51c772c92f81  95fba0e0b6c74437b93292f4f6ee2a54   \n",
       "1588  f63d0e1d8625f89deb7f51c772c92f81  24cee9fdf5c627c4a8bba173ba5283a6   \n",
       "1589  f63d0e1d8625f89deb7f51c772c92f81  a5d7e783064f5fc20abd19d577dbfa09   \n",
       "1590  ab46e7d18efc6f9e02fb0eca160b84df  42211ade146adf06ed1f26f0d8b9116d   \n",
       "1591  ab46e7d18efc6f9e02fb0eca160b84df  47e9f6596d01ee22e5c40232a0c48c39   \n",
       "\n",
       "                                   uid          agency  \n",
       "0     3d3927213902a514d5a26598e7d187e2  baton-rouge-pd  \n",
       "1     f112f1a632d003cb85cf54870a062e33  baton-rouge-pd  \n",
       "2     ccaec2cf4522039c49f28de6d2a56237  baton-rouge-pd  \n",
       "3     9fe99b15a84be0f3efb2ef5a02bcefcb  baton-rouge-pd  \n",
       "4     78272e05dacca625247a0e3e40cd1ec6  baton-rouge-pd  \n",
       "...                                ...             ...  \n",
       "1587  cf18298bd155af4021dd4465f11f67c2        rayne-pd  \n",
       "1588  2004e0009f7e68620cc5f55cbe35c6d8        rayne-pd  \n",
       "1589  5e168f97495eb5021900c9bb71eac3dd        rayne-pd  \n",
       "1590  9913191ea301550e36df2f3a3c4e4cd5        rayne-pd  \n",
       "1591  2004e0009f7e68620cc5f55cbe35c6d8        rayne-pd  \n",
       "\n",
       "[1592 rows x 4 columns]"
      ]
     },
     "execution_count": 751,
     "metadata": {},
     "output_type": "execute_result"
    }
   ],
   "source": [
    "df"
   ]
  },
  {
   "cell_type": "code",
   "execution_count": 752,
   "metadata": {},
   "outputs": [],
   "source": [
    "# remove outliers \n",
    "df = df[~df.tracking_id.isin(df.tracking_id.value_counts().loc[lambda x: x >= 30 ].index)]"
   ]
  },
  {
   "cell_type": "code",
   "execution_count": 753,
   "metadata": {},
   "outputs": [
    {
     "name": "stdout",
     "output_type": "stream",
     "text": [
      " 100.00% complete  \n",
      "Graph with 325 nodes and 1042 edges\n",
      "Graph with 253 nodes and 439 edges\n"
     ]
    },
    {
     "name": "stderr",
     "output_type": "stream",
     "text": [
      "C:\\Users\\PC\\AppData\\Local\\Temp\\ipykernel_16592\\579980390.py:6: SettingWithCopyWarning: \n",
      "A value is trying to be set on a copy of a slice from a DataFrame.\n",
      "Try using .loc[row_indexer,col_indexer] = value instead\n",
      "\n",
      "See the caveats in the documentation: https://pandas.pydata.org/pandas-docs/stable/user_guide/indexing.html#returning-a-view-versus-a-copy\n",
      "  df[\"count\"] = 1\n",
      "C:\\Users\\PC\\AppData\\Local\\Temp\\ipykernel_16592\\579980390.py:28: DeprecationWarning: info is deprecated and will be removed in version 3.0.\n",
      "\n",
      "  print(nx.info(g))\n",
      "C:\\Users\\PC\\AppData\\Local\\Temp\\ipykernel_16592\\579980390.py:35: DeprecationWarning: info is deprecated and will be removed in version 3.0.\n",
      "\n",
      "  print(nx.info(g))\n"
     ]
    }
   ],
   "source": [
    "d0 = df.groupby('tracking_id').count()\n",
    "d1 = d0[d0.uid > 1]\n",
    "group_complaints = list(set(d1.index))\n",
    "\n",
    "\n",
    "df[\"count\"] = 1\n",
    "df_perUID = df.drop_duplicates(subset=[\"tracking_id\", \"uid\"])\n",
    "df_perUID = df_perUID.pivot_table(index=[\"tracking_id\"], values=[\"count\"], aggfunc=\"sum\").reset_index()\n",
    "df_perUID = df_perUID.rename(columns={\"count\": \"no_of_officers\"})\n",
    "df_perUID\n",
    "\n",
    "dict_PerComplaint = dict(zip(df_perUID.tracking_id, df_perUID.no_of_officers))\n",
    "\n",
    "g = nx.Graph()\n",
    "for incident in group_complaints:\n",
    "    numberPer = dict_PerComplaint.get(incident)\n",
    "    node_pairs = list(combinations(df[df.tracking_id == incident]['uid'].tolist(), 2))\n",
    "    for node_pair in node_pairs:\n",
    "        if g.has_edge(node_pair[0], node_pair[1]):\n",
    "            g[node_pair[0]][node_pair[1]]['weight'] += (1+1/numberPer)\n",
    "        else:\n",
    "            g.add_edge(node_pair[0], node_pair[1], weight = (1+1/numberPer))\n",
    "    if group_complaints.index(incident)%100==0:\n",
    "        value = str(group_complaints.index(incident)/len(group_complaints)*100)[:5] +  \"% complete \"\n",
    "print (\"\\r \", value, end = \" \\r \"),\n",
    "print(\"\\r 100.00% complete\")\n",
    "\n",
    "print(nx.info(g))\n",
    "\n",
    "edgeList = list(g.edges)\n",
    "toRemove = [nodes for nodes in edgeList if g[nodes[0]][nodes[1]]['weight'] <=2]\n",
    "g.remove_edges_from(toRemove)\n",
    "g.remove_nodes_from(list(nx.isolates(g)))\n",
    "\n",
    "print(nx.info(g))"
   ]
  },
  {
   "cell_type": "code",
   "execution_count": 754,
   "metadata": {},
   "outputs": [],
   "source": [
    "comms = community_louvain.best_partition(g)\n",
    "random.seed(1)"
   ]
  },
  {
   "cell_type": "code",
   "execution_count": 755,
   "metadata": {},
   "outputs": [
    {
     "data": {
      "image/png": "[encoded data removed]",
      "text/plain": [
       "<Figure size 640x480 with 1 Axes>"
      ]
     },
     "metadata": {},
     "output_type": "display_data"
    }
   ],
   "source": [
    "unique_coms = np.unique(list(comms.values()))\n",
    "unique_coms\n",
    "\n",
    "pos = nx.spring_layout(g)\n",
    "nx.draw(g, pos, node_size = 64, alpha = 1)\n",
    "plt.show()"
   ]
  },
  {
   "cell_type": "code",
   "execution_count": 756,
   "metadata": {},
   "outputs": [],
   "source": [
    "comm_df = pd.DataFrame.from_dict(comms, orient=\"index\").reset_index()\n",
    "comm_df = comm_df.rename(columns={comm_df.columns[1]: \"community\", \"index\": \"uid\"})"
   ]
  },
  {
   "cell_type": "code",
   "execution_count": 757,
   "metadata": {},
   "outputs": [
    {
     "data": {
      "text/html": [
       "<div>\n",
       "<style scoped>\n",
       "    .dataframe tbody tr th:only-of-type {\n",
       "        vertical-align: middle;\n",
       "    }\n",
       "\n",
       "    .dataframe tbody tr th {\n",
       "        vertical-align: top;\n",
       "    }\n",
       "\n",
       "    .dataframe thead th {\n",
       "        text-align: right;\n",
       "    }\n",
       "</style>\n",
       "<table border=\"1\" class=\"dataframe\">\n",
       "  <thead>\n",
       "    <tr style=\"text-align: right;\">\n",
       "      <th></th>\n",
       "      <th>uid</th>\n",
       "      <th>community</th>\n",
       "    </tr>\n",
       "  </thead>\n",
       "  <tbody>\n",
       "    <tr>\n",
       "      <th>0</th>\n",
       "      <td>67f8aab6360c7505e388bc3aa06eaeef</td>\n",
       "      <td>0</td>\n",
       "    </tr>\n",
       "    <tr>\n",
       "      <th>1</th>\n",
       "      <td>c113815f7edb95d166e6dec223958088</td>\n",
       "      <td>0</td>\n",
       "    </tr>\n",
       "    <tr>\n",
       "      <th>2</th>\n",
       "      <td>caaeb2ca801f4fd4600764e1599268c3</td>\n",
       "      <td>0</td>\n",
       "    </tr>\n",
       "    <tr>\n",
       "      <th>3</th>\n",
       "      <td>637a9f80f424ecfeec0940e40e541b23</td>\n",
       "      <td>0</td>\n",
       "    </tr>\n",
       "    <tr>\n",
       "      <th>4</th>\n",
       "      <td>c2162541177e50d835f1f951df52e7ac</td>\n",
       "      <td>2</td>\n",
       "    </tr>\n",
       "    <tr>\n",
       "      <th>...</th>\n",
       "      <td>...</td>\n",
       "      <td>...</td>\n",
       "    </tr>\n",
       "    <tr>\n",
       "      <th>248</th>\n",
       "      <td>7e7b7ca7cb37bd250555e0b9ad1a0521</td>\n",
       "      <td>19</td>\n",
       "    </tr>\n",
       "    <tr>\n",
       "      <th>249</th>\n",
       "      <td>a9db00243c7df7dd419a610fb1e5dee7</td>\n",
       "      <td>19</td>\n",
       "    </tr>\n",
       "    <tr>\n",
       "      <th>250</th>\n",
       "      <td>8b958903d72d7ad49c4465cd63b03cfc</td>\n",
       "      <td>19</td>\n",
       "    </tr>\n",
       "    <tr>\n",
       "      <th>251</th>\n",
       "      <td>97236c5998424733987b2f43eac22399</td>\n",
       "      <td>19</td>\n",
       "    </tr>\n",
       "    <tr>\n",
       "      <th>252</th>\n",
       "      <td>f0f7b28597e5d775f621e7b0e0e70b01</td>\n",
       "      <td>19</td>\n",
       "    </tr>\n",
       "  </tbody>\n",
       "</table>\n",
       "<p>253 rows × 2 columns</p>\n",
       "</div>"
      ],
      "text/plain": [
       "                                  uid  community\n",
       "0    67f8aab6360c7505e388bc3aa06eaeef          0\n",
       "1    c113815f7edb95d166e6dec223958088          0\n",
       "2    caaeb2ca801f4fd4600764e1599268c3          0\n",
       "3    637a9f80f424ecfeec0940e40e541b23          0\n",
       "4    c2162541177e50d835f1f951df52e7ac          2\n",
       "..                                ...        ...\n",
       "248  7e7b7ca7cb37bd250555e0b9ad1a0521         19\n",
       "249  a9db00243c7df7dd419a610fb1e5dee7         19\n",
       "250  8b958903d72d7ad49c4465cd63b03cfc         19\n",
       "251  97236c5998424733987b2f43eac22399         19\n",
       "252  f0f7b28597e5d775f621e7b0e0e70b01         19\n",
       "\n",
       "[253 rows x 2 columns]"
      ]
     },
     "execution_count": 757,
     "metadata": {},
     "output_type": "execute_result"
    }
   ],
   "source": [
    "comm_df"
   ]
  },
  {
   "cell_type": "code",
   "execution_count": 758,
   "metadata": {},
   "outputs": [
    {
     "data": {
      "text/html": [
       "<div>\n",
       "<style scoped>\n",
       "    .dataframe tbody tr th:only-of-type {\n",
       "        vertical-align: middle;\n",
       "    }\n",
       "\n",
       "    .dataframe tbody tr th {\n",
       "        vertical-align: top;\n",
       "    }\n",
       "\n",
       "    .dataframe thead th {\n",
       "        text-align: right;\n",
       "    }\n",
       "</style>\n",
       "<table border=\"1\" class=\"dataframe\">\n",
       "  <thead>\n",
       "    <tr style=\"text-align: right;\">\n",
       "      <th></th>\n",
       "      <th>uid</th>\n",
       "      <th>community</th>\n",
       "    </tr>\n",
       "  </thead>\n",
       "  <tbody>\n",
       "    <tr>\n",
       "      <th>9</th>\n",
       "      <td>fb036150c482a9acf676136f7d6a1fd0</td>\n",
       "      <td>4</td>\n",
       "    </tr>\n",
       "    <tr>\n",
       "      <th>10</th>\n",
       "      <td>b3bec247905818f3c6e2eb132526f7df</td>\n",
       "      <td>4</td>\n",
       "    </tr>\n",
       "  </tbody>\n",
       "</table>\n",
       "</div>"
      ],
      "text/plain": [
       "                                 uid  community\n",
       "9   fb036150c482a9acf676136f7d6a1fd0          4\n",
       "10  b3bec247905818f3c6e2eb132526f7df          4"
      ]
     },
     "execution_count": 758,
     "metadata": {},
     "output_type": "execute_result"
    }
   ],
   "source": [
    "comm_24 = comm_df[comm_df.community.astype(str).isin([\"4\"])]\n",
    "comm_24"
   ]
  },
  {
   "cell_type": "code",
   "execution_count": 759,
   "metadata": {},
   "outputs": [
    {
     "data": {
      "text/html": [
       "<div>\n",
       "<style scoped>\n",
       "    .dataframe tbody tr th:only-of-type {\n",
       "        vertical-align: middle;\n",
       "    }\n",
       "\n",
       "    .dataframe tbody tr th {\n",
       "        vertical-align: top;\n",
       "    }\n",
       "\n",
       "    .dataframe thead th {\n",
       "        text-align: right;\n",
       "    }\n",
       "</style>\n",
       "<table border=\"1\" class=\"dataframe\">\n",
       "  <thead>\n",
       "    <tr style=\"text-align: right;\">\n",
       "      <th></th>\n",
       "      <th>tracking_id</th>\n",
       "      <th>allegation_uid</th>\n",
       "      <th>uid</th>\n",
       "      <th>agency</th>\n",
       "      <th>count</th>\n",
       "    </tr>\n",
       "  </thead>\n",
       "  <tbody>\n",
       "    <tr>\n",
       "      <th>1250</th>\n",
       "      <td>ebf4a9f606deca124f12111f5873b0c5</td>\n",
       "      <td>dbacebae110de9f6923632fb88171b00</td>\n",
       "      <td>c2162541177e50d835f1f951df52e7ac</td>\n",
       "      <td>new-orleans-pd</td>\n",
       "      <td>1</td>\n",
       "    </tr>\n",
       "    <tr>\n",
       "      <th>1251</th>\n",
       "      <td>ebf4a9f606deca124f12111f5873b0c5</td>\n",
       "      <td>c6e0ce7b7f2624b7df1a249c55836d9d</td>\n",
       "      <td>66a62a489db3a1d1ed5ce194543d9a97</td>\n",
       "      <td>new-orleans-pd</td>\n",
       "      <td>1</td>\n",
       "    </tr>\n",
       "    <tr>\n",
       "      <th>1252</th>\n",
       "      <td>ebf4a9f606deca124f12111f5873b0c5</td>\n",
       "      <td>2b21c6bcc0ed0939c08dff455c8a2be9</td>\n",
       "      <td>28171586e6d7f52e01faab022a75ff92</td>\n",
       "      <td>new-orleans-pd</td>\n",
       "      <td>1</td>\n",
       "    </tr>\n",
       "  </tbody>\n",
       "</table>\n",
       "</div>"
      ],
      "text/plain": [
       "                           tracking_id                    allegation_uid  \\\n",
       "1250  ebf4a9f606deca124f12111f5873b0c5  dbacebae110de9f6923632fb88171b00   \n",
       "1251  ebf4a9f606deca124f12111f5873b0c5  c6e0ce7b7f2624b7df1a249c55836d9d   \n",
       "1252  ebf4a9f606deca124f12111f5873b0c5  2b21c6bcc0ed0939c08dff455c8a2be9   \n",
       "\n",
       "                                   uid          agency  count  \n",
       "1250  c2162541177e50d835f1f951df52e7ac  new-orleans-pd      1  \n",
       "1251  66a62a489db3a1d1ed5ce194543d9a97  new-orleans-pd      1  \n",
       "1252  28171586e6d7f52e01faab022a75ff92  new-orleans-pd      1  "
      ]
     },
     "execution_count": 759,
     "metadata": {},
     "output_type": "execute_result"
    }
   ],
   "source": [
    "review_comms = df[df.tracking_id.isin([\"ebf4a9f606deca124f12111f5873b0c5\"])]\n",
    "review_comms"
   ]
  }
 ],
 "metadata": {
  "kernelspec": {
   "display_name": "Python 3",
   "language": "python",
   "name": "python3"
  },
  "language_info": {
   "codemirror_mode": {
    "name": "ipython",
    "version": 3
   },
   "file_extension": ".py",
   "mimetype": "text/x-python",
   "name": "python",
   "nbconvert_exporter": "python",
   "pygments_lexer": "ipython3",
   "version": "3.9.11 (tags/v3.9.11:2de452f, Mar 16 2022, 14:33:45) [MSC v.1929 64 bit (AMD64)]"
  },
  "orig_nbformat": 4,
  "vscode": {
   "interpreter": {
    "hash": "f6c8f846148a3e4d140e6ddf63c190cff559dcf260a4a21539f0978f2b58638c"
   }
  }
 },
 "nbformat": 4,
 "nbformat_minor": 2
}

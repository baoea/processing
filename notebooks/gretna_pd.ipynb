{
 "metadata": {
  "language_info": {
   "codemirror_mode": {
    "name": "ipython",
    "version": 3
   },
   "file_extension": ".py",
   "mimetype": "text/x-python",
   "name": "python",
   "nbconvert_exporter": "python",
   "pygments_lexer": "ipython3",
   "version": "3.9.2"
  },
  "orig_nbformat": 2,
  "kernelspec": {
   "name": "python392jvsc74a57bd055d6dfa6f6295e03bf132df3e61c1565ff1c22b645ef82a5638b280b97b3597b",
   "display_name": "Python 3.9.2 64-bit ('base': virtualenvwrapper)"
  }
 },
 "nbformat": 4,
 "nbformat_minor": 2,
 "cells": [
  {
   "cell_type": "code",
   "execution_count": 1,
   "metadata": {},
   "outputs": [],
   "source": [
    "import sys; sys.path.append('../')\n",
    "import pandas as pd\n",
    "\n",
    "from clean.gretna_pd import clean"
   ]
  },
  {
   "cell_type": "code",
   "execution_count": 2,
   "metadata": {},
   "outputs": [
    {
     "output_type": "execute_result",
     "data": {
      "text/plain": [
       "             rank_desc  annual_salary first_name middle_name   last_name  \\\n",
       "0    deputy chief (d.)      100754.61    anthony              christiana   \n",
       "1              captain       88844.60    russell                   lloyd   \n",
       "2              captain       77144.08     jarvis                 jackson   \n",
       "3              captain       40163.37       eric                  covell   \n",
       "4              officer       22632.79       lila                 deblanc   \n",
       "..                 ...            ...        ...         ...         ...   \n",
       "105            officer       19071.06   nicholas                   pitre   \n",
       "106            officer       24579.89    michael                    cash   \n",
       "107            officer       21228.80      danny                   ellis   \n",
       "108            officer        9934.59    douglas               henderson   \n",
       "109            officer       21555.45    brandon                 macheca   \n",
       "\n",
       "    middle_initial hire_year hire_month hire_day  data_production_year  \\\n",
       "0                       1983          4       11                  2018   \n",
       "1                       1983          4       11                  2018   \n",
       "2                       1985          1       30                  2018   \n",
       "3                       1986         10       11                  2018   \n",
       "4                       1987          4       20                  2018   \n",
       "..             ...       ...        ...      ...                   ...   \n",
       "105                     2018          1       26                  2018   \n",
       "106                     2018          5        3                  2018   \n",
       "107                     2018          5        3                  2018   \n",
       "108                     2018          5        3                  2018   \n",
       "109                     2018          5        3                  2018   \n",
       "\n",
       "        agency                               uid  \n",
       "0    Gretna PD  6ce83f306c9f6e30070391860ce7e1ed  \n",
       "1    Gretna PD  bc74e0ebd9b856c77bfa2592a160a09b  \n",
       "2    Gretna PD  fd09f3b93f0c1b3d9cdcc57e6b9d7793  \n",
       "3    Gretna PD  4aaa3f20df8ba60e250fce10fb337249  \n",
       "4    Gretna PD  4e4d248ea55513762d55521c17ba8aa2  \n",
       "..         ...                               ...  \n",
       "105  Gretna PD  0c97f808a36c2fc1ebbdb1ee309a8278  \n",
       "106  Gretna PD  529ed1daf06c06c83b783009880b40e8  \n",
       "107  Gretna PD  277e24f46bfc855cb1ffc63dcc6c96fd  \n",
       "108  Gretna PD  5c7d50149e6e5fa68c7ec5304f6f3b5f  \n",
       "109  Gretna PD  fc89024ff743b779c485cce5370adea8  \n",
       "\n",
       "[110 rows x 12 columns]"
      ],
      "text/html": "<div>\n<style scoped>\n    .dataframe tbody tr th:only-of-type {\n        vertical-align: middle;\n    }\n\n    .dataframe tbody tr th {\n        vertical-align: top;\n    }\n\n    .dataframe thead th {\n        text-align: right;\n    }\n</style>\n<table border=\"1\" class=\"dataframe\">\n  <thead>\n    <tr style=\"text-align: right;\">\n      <th></th>\n      <th>rank_desc</th>\n      <th>annual_salary</th>\n      <th>first_name</th>\n      <th>middle_name</th>\n      <th>last_name</th>\n      <th>middle_initial</th>\n      <th>hire_year</th>\n      <th>hire_month</th>\n      <th>hire_day</th>\n      <th>data_production_year</th>\n      <th>agency</th>\n      <th>uid</th>\n    </tr>\n  </thead>\n  <tbody>\n    <tr>\n      <th>0</th>\n      <td>deputy chief (d.)</td>\n      <td>100754.61</td>\n      <td>anthony</td>\n      <td></td>\n      <td>christiana</td>\n      <td></td>\n      <td>1983</td>\n      <td>4</td>\n      <td>11</td>\n      <td>2018</td>\n      <td>Gretna PD</td>\n      <td>6ce83f306c9f6e30070391860ce7e1ed</td>\n    </tr>\n    <tr>\n      <th>1</th>\n      <td>captain</td>\n      <td>88844.60</td>\n      <td>russell</td>\n      <td></td>\n      <td>lloyd</td>\n      <td></td>\n      <td>1983</td>\n      <td>4</td>\n      <td>11</td>\n      <td>2018</td>\n      <td>Gretna PD</td>\n      <td>bc74e0ebd9b856c77bfa2592a160a09b</td>\n    </tr>\n    <tr>\n      <th>2</th>\n      <td>captain</td>\n      <td>77144.08</td>\n      <td>jarvis</td>\n      <td></td>\n      <td>jackson</td>\n      <td></td>\n      <td>1985</td>\n      <td>1</td>\n      <td>30</td>\n      <td>2018</td>\n      <td>Gretna PD</td>\n      <td>fd09f3b93f0c1b3d9cdcc57e6b9d7793</td>\n    </tr>\n    <tr>\n      <th>3</th>\n      <td>captain</td>\n      <td>40163.37</td>\n      <td>eric</td>\n      <td></td>\n      <td>covell</td>\n      <td></td>\n      <td>1986</td>\n      <td>10</td>\n      <td>11</td>\n      <td>2018</td>\n      <td>Gretna PD</td>\n      <td>4aaa3f20df8ba60e250fce10fb337249</td>\n    </tr>\n    <tr>\n      <th>4</th>\n      <td>officer</td>\n      <td>22632.79</td>\n      <td>lila</td>\n      <td></td>\n      <td>deblanc</td>\n      <td></td>\n      <td>1987</td>\n      <td>4</td>\n      <td>20</td>\n      <td>2018</td>\n      <td>Gretna PD</td>\n      <td>4e4d248ea55513762d55521c17ba8aa2</td>\n    </tr>\n    <tr>\n      <th>...</th>\n      <td>...</td>\n      <td>...</td>\n      <td>...</td>\n      <td>...</td>\n      <td>...</td>\n      <td>...</td>\n      <td>...</td>\n      <td>...</td>\n      <td>...</td>\n      <td>...</td>\n      <td>...</td>\n      <td>...</td>\n    </tr>\n    <tr>\n      <th>105</th>\n      <td>officer</td>\n      <td>19071.06</td>\n      <td>nicholas</td>\n      <td></td>\n      <td>pitre</td>\n      <td></td>\n      <td>2018</td>\n      <td>1</td>\n      <td>26</td>\n      <td>2018</td>\n      <td>Gretna PD</td>\n      <td>0c97f808a36c2fc1ebbdb1ee309a8278</td>\n    </tr>\n    <tr>\n      <th>106</th>\n      <td>officer</td>\n      <td>24579.89</td>\n      <td>michael</td>\n      <td></td>\n      <td>cash</td>\n      <td></td>\n      <td>2018</td>\n      <td>5</td>\n      <td>3</td>\n      <td>2018</td>\n      <td>Gretna PD</td>\n      <td>529ed1daf06c06c83b783009880b40e8</td>\n    </tr>\n    <tr>\n      <th>107</th>\n      <td>officer</td>\n      <td>21228.80</td>\n      <td>danny</td>\n      <td></td>\n      <td>ellis</td>\n      <td></td>\n      <td>2018</td>\n      <td>5</td>\n      <td>3</td>\n      <td>2018</td>\n      <td>Gretna PD</td>\n      <td>277e24f46bfc855cb1ffc63dcc6c96fd</td>\n    </tr>\n    <tr>\n      <th>108</th>\n      <td>officer</td>\n      <td>9934.59</td>\n      <td>douglas</td>\n      <td></td>\n      <td>henderson</td>\n      <td></td>\n      <td>2018</td>\n      <td>5</td>\n      <td>3</td>\n      <td>2018</td>\n      <td>Gretna PD</td>\n      <td>5c7d50149e6e5fa68c7ec5304f6f3b5f</td>\n    </tr>\n    <tr>\n      <th>109</th>\n      <td>officer</td>\n      <td>21555.45</td>\n      <td>brandon</td>\n      <td></td>\n      <td>macheca</td>\n      <td></td>\n      <td>2018</td>\n      <td>5</td>\n      <td>3</td>\n      <td>2018</td>\n      <td>Gretna PD</td>\n      <td>fc89024ff743b779c485cce5370adea8</td>\n    </tr>\n  </tbody>\n</table>\n<p>110 rows × 12 columns</p>\n</div>"
     },
     "metadata": {},
     "execution_count": 2
    }
   ],
   "source": [
    "df = clean()\n",
    "df"
   ]
  },
  {
   "cell_type": "code",
   "execution_count": 3,
   "metadata": {},
   "outputs": [
    {
     "output_type": "execute_result",
     "data": {
      "text/plain": [
       "Empty DataFrame\n",
       "Columns: [rank_desc, annual_salary, first_name, middle_name, last_name, middle_initial, hire_year, hire_month, hire_day, data_production_year, agency, uid]\n",
       "Index: []"
      ],
      "text/html": "<div>\n<style scoped>\n    .dataframe tbody tr th:only-of-type {\n        vertical-align: middle;\n    }\n\n    .dataframe tbody tr th {\n        vertical-align: top;\n    }\n\n    .dataframe thead th {\n        text-align: right;\n    }\n</style>\n<table border=\"1\" class=\"dataframe\">\n  <thead>\n    <tr style=\"text-align: right;\">\n      <th></th>\n      <th>rank_desc</th>\n      <th>annual_salary</th>\n      <th>first_name</th>\n      <th>middle_name</th>\n      <th>last_name</th>\n      <th>middle_initial</th>\n      <th>hire_year</th>\n      <th>hire_month</th>\n      <th>hire_day</th>\n      <th>data_production_year</th>\n      <th>agency</th>\n      <th>uid</th>\n    </tr>\n  </thead>\n  <tbody>\n  </tbody>\n</table>\n</div>"
     },
     "metadata": {},
     "execution_count": 3
    }
   ],
   "source": [
    "df[df.uid.duplicated(keep=False)]"
   ]
  },
  {
   "cell_type": "code",
   "execution_count": null,
   "metadata": {},
   "outputs": [],
   "source": []
  }
 ]
}
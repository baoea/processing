{
 "metadata": {
  "language_info": {
   "codemirror_mode": {
    "name": "ipython",
    "version": 3
   },
   "file_extension": ".py",
   "mimetype": "text/x-python",
   "name": "python",
   "nbconvert_exporter": "python",
   "pygments_lexer": "ipython3",
   "version": "3.8.3-final"
  },
  "orig_nbformat": 2,
  "kernelspec": {
   "name": "python3",
   "display_name": "Python 3.8.3 64-bit ('base': conda)",
   "metadata": {
    "interpreter": {
     "hash": "759d03fc00c4e55187619d7bc1e0b6a3309d14c7c00d43a321634150e05678f8"
    }
   }
  }
 },
 "nbformat": 4,
 "nbformat_minor": 2,
 "cells": [
  {
   "cell_type": "code",
   "execution_count": 1,
   "metadata": {},
   "outputs": [],
   "source": [
    "import sys; sys.path.append('../')\n",
    "import pandas as pd\n",
    "\n",
    "from clean.plaquemines_so_cprr import clean\n",
    "from clean.post_pprr import clean as clean_post\n",
    "from match.plaquemines_so import match_post, prepare_post_data"
   ]
  },
  {
   "cell_type": "code",
   "execution_count": 2,
   "metadata": {},
   "outputs": [
    {
     "output_type": "stream",
     "name": "stderr",
     "text": [
      "../lib/clean.py:166: FutureWarning: The default value of regex will change from True to False in a future version.\n  return series.str.strip().str.replace(r\"[^\\w-]+\", \" \").str.replace(r\"\\s+\", \" \")\\\n"
     ]
    },
    {
     "output_type": "execute_result",
     "data": {
      "text/plain": [
       "  tracking_number first_name middle_initial    middle_name   last_name  \\\n",
       "0         19-003     natalie              d              d  fitzgerald   \n",
       "1         19-007       holly              h  hardin daniel       swear   \n",
       "2         19-008     maxwell                                  morovich   \n",
       "3         19-009        brad                                williamson   \n",
       "4         19-010        mark                                    morice   \n",
       "5         19-012      joseph                                   frances   \n",
       "6         19-013        adam                                   barrois   \n",
       "7         19-016      justin                                    arendt   \n",
       "8         19-017       kenny                                barthelemy   \n",
       "9         19-019       dylan                                      goff   \n",
       "\n",
       "                                  charges                    disposition  \\\n",
       "0                releasing juvenile info                      unfounded    \n",
       "1  not conducting thorough investigation                      unfounded    \n",
       "2   failure to notify rank of infraction                       sustained   \n",
       "3                domestic issue off-duty   unfounded; performance issue    \n",
       "4                      performance issue                      unfounded    \n",
       "5             unsatisfactory performance                       sustained   \n",
       "6             unsatisfactory performance                      unfounded    \n",
       "7                     conduct unbecoming                      unfounded    \n",
       "8                    standard of conduct                      unfounded    \n",
       "9                      performance issue                      unfounded    \n",
       "\n",
       "              action  receive_year  receive_day  receive_month  \\\n",
       "0                NaN          2019           30              1   \n",
       "1                NaN          2019           29              3   \n",
       "2  30 day suspension          2019           17              4   \n",
       "3                NaN          2019           13              5   \n",
       "4                NaN          2019           21              5   \n",
       "5     verbal counsel          2019           29              5   \n",
       "6                NaN          2019           24              5   \n",
       "7                NaN          2019           23              7   \n",
       "8                NaN          2019           11              9   \n",
       "9                NaN          2019           27              8   \n",
       "\n",
       "   data_production_year          agency                               uid  \\\n",
       "0                  2019  Plaquemines SO  56d1683725c0396d4e0995796d601d67   \n",
       "1                  2019  Plaquemines SO  d89b8d4dddec585d85a9de68b1e83ea9   \n",
       "2                  2019  Plaquemines SO  fa154c14a342e16bff07c5173340c42d   \n",
       "3                  2019  Plaquemines SO  724f5fabc34a248afbed269c1983c1ea   \n",
       "4                  2019  Plaquemines SO  d7c81f8d6c6877add472892d0809ab80   \n",
       "5                  2019  Plaquemines SO  ba72aa38fef9f5f3fa63b3bf1f45271d   \n",
       "6                  2019  Plaquemines SO  126a3b0f3ef4a646f2a7377f25ef319c   \n",
       "7                  2019  Plaquemines SO  6619524fccfe281b67ae0654a541432b   \n",
       "8                  2019  Plaquemines SO  9241039b0e81a613b3d0beaef6ae92ca   \n",
       "9                  2019  Plaquemines SO  e3f20792f117f678747f35361eb7fbe3   \n",
       "\n",
       "                      complaint_uid  \n",
       "0  10c4398cd3a287f8e6ebc33d10ef12f3  \n",
       "1  228fce9d686a2f87524f6f493226de9e  \n",
       "2  88f9aee78eba7bbda0eaa48580b169c5  \n",
       "3  346271e904094d5a3ebc3a53807942e0  \n",
       "4  55857ecfe36b5e53101d2e863ad2f968  \n",
       "5  1fd2261e3be5b79b78b201489e97e315  \n",
       "6  df0f6a966bd1fa81f9d34fae0b37b79a  \n",
       "7  fe35d1c938a5f7130845e743ff85cdf9  \n",
       "8  9c0c1fb3172a1319713e77d871bb79df  \n",
       "9  f092fdeb33e9afc9ea1983ebf4409308  "
      ],
      "text/html": "<div>\n<style scoped>\n    .dataframe tbody tr th:only-of-type {\n        vertical-align: middle;\n    }\n\n    .dataframe tbody tr th {\n        vertical-align: top;\n    }\n\n    .dataframe thead th {\n        text-align: right;\n    }\n</style>\n<table border=\"1\" class=\"dataframe\">\n  <thead>\n    <tr style=\"text-align: right;\">\n      <th></th>\n      <th>tracking_number</th>\n      <th>first_name</th>\n      <th>middle_initial</th>\n      <th>middle_name</th>\n      <th>last_name</th>\n      <th>charges</th>\n      <th>disposition</th>\n      <th>action</th>\n      <th>receive_year</th>\n      <th>receive_day</th>\n      <th>receive_month</th>\n      <th>data_production_year</th>\n      <th>agency</th>\n      <th>uid</th>\n      <th>complaint_uid</th>\n    </tr>\n  </thead>\n  <tbody>\n    <tr>\n      <th>0</th>\n      <td>19-003</td>\n      <td>natalie</td>\n      <td>d</td>\n      <td>d</td>\n      <td>fitzgerald</td>\n      <td>releasing juvenile info</td>\n      <td>unfounded</td>\n      <td>NaN</td>\n      <td>2019</td>\n      <td>30</td>\n      <td>1</td>\n      <td>2019</td>\n      <td>Plaquemines SO</td>\n      <td>56d1683725c0396d4e0995796d601d67</td>\n      <td>10c4398cd3a287f8e6ebc33d10ef12f3</td>\n    </tr>\n    <tr>\n      <th>1</th>\n      <td>19-007</td>\n      <td>holly</td>\n      <td>h</td>\n      <td>hardin daniel</td>\n      <td>swear</td>\n      <td>not conducting thorough investigation</td>\n      <td>unfounded</td>\n      <td>NaN</td>\n      <td>2019</td>\n      <td>29</td>\n      <td>3</td>\n      <td>2019</td>\n      <td>Plaquemines SO</td>\n      <td>d89b8d4dddec585d85a9de68b1e83ea9</td>\n      <td>228fce9d686a2f87524f6f493226de9e</td>\n    </tr>\n    <tr>\n      <th>2</th>\n      <td>19-008</td>\n      <td>maxwell</td>\n      <td></td>\n      <td></td>\n      <td>morovich</td>\n      <td>failure to notify rank of infraction</td>\n      <td>sustained</td>\n      <td>30 day suspension</td>\n      <td>2019</td>\n      <td>17</td>\n      <td>4</td>\n      <td>2019</td>\n      <td>Plaquemines SO</td>\n      <td>fa154c14a342e16bff07c5173340c42d</td>\n      <td>88f9aee78eba7bbda0eaa48580b169c5</td>\n    </tr>\n    <tr>\n      <th>3</th>\n      <td>19-009</td>\n      <td>brad</td>\n      <td></td>\n      <td></td>\n      <td>williamson</td>\n      <td>domestic issue off-duty</td>\n      <td>unfounded; performance issue</td>\n      <td>NaN</td>\n      <td>2019</td>\n      <td>13</td>\n      <td>5</td>\n      <td>2019</td>\n      <td>Plaquemines SO</td>\n      <td>724f5fabc34a248afbed269c1983c1ea</td>\n      <td>346271e904094d5a3ebc3a53807942e0</td>\n    </tr>\n    <tr>\n      <th>4</th>\n      <td>19-010</td>\n      <td>mark</td>\n      <td></td>\n      <td></td>\n      <td>morice</td>\n      <td>performance issue</td>\n      <td>unfounded</td>\n      <td>NaN</td>\n      <td>2019</td>\n      <td>21</td>\n      <td>5</td>\n      <td>2019</td>\n      <td>Plaquemines SO</td>\n      <td>d7c81f8d6c6877add472892d0809ab80</td>\n      <td>55857ecfe36b5e53101d2e863ad2f968</td>\n    </tr>\n    <tr>\n      <th>5</th>\n      <td>19-012</td>\n      <td>joseph</td>\n      <td></td>\n      <td></td>\n      <td>frances</td>\n      <td>unsatisfactory performance</td>\n      <td>sustained</td>\n      <td>verbal counsel</td>\n      <td>2019</td>\n      <td>29</td>\n      <td>5</td>\n      <td>2019</td>\n      <td>Plaquemines SO</td>\n      <td>ba72aa38fef9f5f3fa63b3bf1f45271d</td>\n      <td>1fd2261e3be5b79b78b201489e97e315</td>\n    </tr>\n    <tr>\n      <th>6</th>\n      <td>19-013</td>\n      <td>adam</td>\n      <td></td>\n      <td></td>\n      <td>barrois</td>\n      <td>unsatisfactory performance</td>\n      <td>unfounded</td>\n      <td>NaN</td>\n      <td>2019</td>\n      <td>24</td>\n      <td>5</td>\n      <td>2019</td>\n      <td>Plaquemines SO</td>\n      <td>126a3b0f3ef4a646f2a7377f25ef319c</td>\n      <td>df0f6a966bd1fa81f9d34fae0b37b79a</td>\n    </tr>\n    <tr>\n      <th>7</th>\n      <td>19-016</td>\n      <td>justin</td>\n      <td></td>\n      <td></td>\n      <td>arendt</td>\n      <td>conduct unbecoming</td>\n      <td>unfounded</td>\n      <td>NaN</td>\n      <td>2019</td>\n      <td>23</td>\n      <td>7</td>\n      <td>2019</td>\n      <td>Plaquemines SO</td>\n      <td>6619524fccfe281b67ae0654a541432b</td>\n      <td>fe35d1c938a5f7130845e743ff85cdf9</td>\n    </tr>\n    <tr>\n      <th>8</th>\n      <td>19-017</td>\n      <td>kenny</td>\n      <td></td>\n      <td></td>\n      <td>barthelemy</td>\n      <td>standard of conduct</td>\n      <td>unfounded</td>\n      <td>NaN</td>\n      <td>2019</td>\n      <td>11</td>\n      <td>9</td>\n      <td>2019</td>\n      <td>Plaquemines SO</td>\n      <td>9241039b0e81a613b3d0beaef6ae92ca</td>\n      <td>9c0c1fb3172a1319713e77d871bb79df</td>\n    </tr>\n    <tr>\n      <th>9</th>\n      <td>19-019</td>\n      <td>dylan</td>\n      <td></td>\n      <td></td>\n      <td>goff</td>\n      <td>performance issue</td>\n      <td>unfounded</td>\n      <td>NaN</td>\n      <td>2019</td>\n      <td>27</td>\n      <td>8</td>\n      <td>2019</td>\n      <td>Plaquemines SO</td>\n      <td>e3f20792f117f678747f35361eb7fbe3</td>\n      <td>f092fdeb33e9afc9ea1983ebf4409308</td>\n    </tr>\n  </tbody>\n</table>\n</div>"
     },
     "metadata": {},
     "execution_count": 2
    }
   ],
   "source": [
    "df = clean()\n",
    "df"
   ]
  },
  {
   "cell_type": "code",
   "execution_count": 3,
   "metadata": {},
   "outputs": [
    {
     "output_type": "execute_result",
     "data": {
      "text/plain": [
       "                                              agency  last_name first_name  \\\n",
       "uid                                                                          \n",
       "bb7770c7d60767fbe09865398f0e95df  plaquemines par so   beninate       john   \n",
       "7a91645d728b273f36a2ec8eb5b91c63  plaquemines par so    laigast     connor   \n",
       "b596f916b97a3c6a89992a8d9fbd4216  plaquemines par so  boudreaux       bret   \n",
       "4179b2be9f58326093382e4c4d895409  plaquemines par so     madere    jacques   \n",
       "1893e52f0c750359634603a12a7e605b  plaquemines par so     guidry     dalton   \n",
       "...                                              ...        ...        ...   \n",
       "57d97ee832bdb809c2496af940f048e5  plaquemines par so      hamel    timothy   \n",
       "16484f660fab2ebe16c4532e3ae2fb51  plaquemines par so   hijuelos    deborah   \n",
       "2f0437edc0a4d0a336b22223544f473d  plaquemines par so     gibson    russell   \n",
       "5e85b47fa9bd1af923c89f93430063de  plaquemines par so  savastano       dion   \n",
       "3f315f4f214a6de2a1c9be01dc8905be  plaquemines par so      owens       jack   \n",
       "\n",
       "                                 employment_status level_1_cert_date  \\\n",
       "uid                                                                    \n",
       "bb7770c7d60767fbe09865398f0e95df           reserve               NaN   \n",
       "7a91645d728b273f36a2ec8eb5b91c63         full-time               NaN   \n",
       "b596f916b97a3c6a89992a8d9fbd4216         full-time               NaN   \n",
       "4179b2be9f58326093382e4c4d895409           reserve        2015-08-20   \n",
       "1893e52f0c750359634603a12a7e605b         full-time        2018-11-16   \n",
       "...                                            ...               ...   \n",
       "57d97ee832bdb809c2496af940f048e5           reserve        1995-11-15   \n",
       "16484f660fab2ebe16c4532e3ae2fb51           reserve        1995-11-15   \n",
       "2f0437edc0a4d0a336b22223544f473d           reserve        1993-12-08   \n",
       "5e85b47fa9bd1af923c89f93430063de           reserve        1993-12-08   \n",
       "3f315f4f214a6de2a1c9be01dc8905be           reserve               NaN   \n",
       "\n",
       "                                 last_pc_12_qualification_date  \\\n",
       "uid                                                              \n",
       "bb7770c7d60767fbe09865398f0e95df                    2020-10-16   \n",
       "7a91645d728b273f36a2ec8eb5b91c63                    2020-10-16   \n",
       "b596f916b97a3c6a89992a8d9fbd4216                    2020-10-05   \n",
       "4179b2be9f58326093382e4c4d895409                    2020-09-09   \n",
       "1893e52f0c750359634603a12a7e605b                    2020-09-01   \n",
       "...                                                        ...   \n",
       "57d97ee832bdb809c2496af940f048e5                           NaN   \n",
       "16484f660fab2ebe16c4532e3ae2fb51                           NaN   \n",
       "2f0437edc0a4d0a336b22223544f473d                           NaN   \n",
       "5e85b47fa9bd1af923c89f93430063de                           NaN   \n",
       "3f315f4f214a6de2a1c9be01dc8905be                           NaN   \n",
       "\n",
       "                                  data_production_year  hire_year  hire_month  \\\n",
       "uid                                                                             \n",
       "bb7770c7d60767fbe09865398f0e95df                  2020     1994.0         4.0   \n",
       "7a91645d728b273f36a2ec8eb5b91c63                  2020     2020.0         9.0   \n",
       "b596f916b97a3c6a89992a8d9fbd4216                  2020     2020.0         2.0   \n",
       "4179b2be9f58326093382e4c4d895409                  2020     2018.0         9.0   \n",
       "1893e52f0c750359634603a12a7e605b                  2020     2020.0         8.0   \n",
       "...                                                ...        ...         ...   \n",
       "57d97ee832bdb809c2496af940f048e5                  2020        NaN         NaN   \n",
       "16484f660fab2ebe16c4532e3ae2fb51                  2020        NaN         NaN   \n",
       "2f0437edc0a4d0a336b22223544f473d                  2020     1993.0         6.0   \n",
       "5e85b47fa9bd1af923c89f93430063de                  2020     1993.0         6.0   \n",
       "3f315f4f214a6de2a1c9be01dc8905be                  2020     2019.0         8.0   \n",
       "\n",
       "                                  hire_day                               uid  \n",
       "uid                                                                           \n",
       "bb7770c7d60767fbe09865398f0e95df      15.0  bb7770c7d60767fbe09865398f0e95df  \n",
       "7a91645d728b273f36a2ec8eb5b91c63      28.0  7a91645d728b273f36a2ec8eb5b91c63  \n",
       "b596f916b97a3c6a89992a8d9fbd4216      28.0  b596f916b97a3c6a89992a8d9fbd4216  \n",
       "4179b2be9f58326093382e4c4d895409      27.0  4179b2be9f58326093382e4c4d895409  \n",
       "1893e52f0c750359634603a12a7e605b      24.0  1893e52f0c750359634603a12a7e605b  \n",
       "...                                    ...                               ...  \n",
       "57d97ee832bdb809c2496af940f048e5       NaN  57d97ee832bdb809c2496af940f048e5  \n",
       "16484f660fab2ebe16c4532e3ae2fb51       NaN  16484f660fab2ebe16c4532e3ae2fb51  \n",
       "2f0437edc0a4d0a336b22223544f473d       8.0  2f0437edc0a4d0a336b22223544f473d  \n",
       "5e85b47fa9bd1af923c89f93430063de       8.0  5e85b47fa9bd1af923c89f93430063de  \n",
       "3f315f4f214a6de2a1c9be01dc8905be      16.0  3f315f4f214a6de2a1c9be01dc8905be  \n",
       "\n",
       "[394 rows x 11 columns]"
      ],
      "text/html": "<div>\n<style scoped>\n    .dataframe tbody tr th:only-of-type {\n        vertical-align: middle;\n    }\n\n    .dataframe tbody tr th {\n        vertical-align: top;\n    }\n\n    .dataframe thead th {\n        text-align: right;\n    }\n</style>\n<table border=\"1\" class=\"dataframe\">\n  <thead>\n    <tr style=\"text-align: right;\">\n      <th></th>\n      <th>agency</th>\n      <th>last_name</th>\n      <th>first_name</th>\n      <th>employment_status</th>\n      <th>level_1_cert_date</th>\n      <th>last_pc_12_qualification_date</th>\n      <th>data_production_year</th>\n      <th>hire_year</th>\n      <th>hire_month</th>\n      <th>hire_day</th>\n      <th>uid</th>\n    </tr>\n    <tr>\n      <th>uid</th>\n      <th></th>\n      <th></th>\n      <th></th>\n      <th></th>\n      <th></th>\n      <th></th>\n      <th></th>\n      <th></th>\n      <th></th>\n      <th></th>\n      <th></th>\n    </tr>\n  </thead>\n  <tbody>\n    <tr>\n      <th>bb7770c7d60767fbe09865398f0e95df</th>\n      <td>plaquemines par so</td>\n      <td>beninate</td>\n      <td>john</td>\n      <td>reserve</td>\n      <td>NaN</td>\n      <td>2020-10-16</td>\n      <td>2020</td>\n      <td>1994.0</td>\n      <td>4.0</td>\n      <td>15.0</td>\n      <td>bb7770c7d60767fbe09865398f0e95df</td>\n    </tr>\n    <tr>\n      <th>7a91645d728b273f36a2ec8eb5b91c63</th>\n      <td>plaquemines par so</td>\n      <td>laigast</td>\n      <td>connor</td>\n      <td>full-time</td>\n      <td>NaN</td>\n      <td>2020-10-16</td>\n      <td>2020</td>\n      <td>2020.0</td>\n      <td>9.0</td>\n      <td>28.0</td>\n      <td>7a91645d728b273f36a2ec8eb5b91c63</td>\n    </tr>\n    <tr>\n      <th>b596f916b97a3c6a89992a8d9fbd4216</th>\n      <td>plaquemines par so</td>\n      <td>boudreaux</td>\n      <td>bret</td>\n      <td>full-time</td>\n      <td>NaN</td>\n      <td>2020-10-05</td>\n      <td>2020</td>\n      <td>2020.0</td>\n      <td>2.0</td>\n      <td>28.0</td>\n      <td>b596f916b97a3c6a89992a8d9fbd4216</td>\n    </tr>\n    <tr>\n      <th>4179b2be9f58326093382e4c4d895409</th>\n      <td>plaquemines par so</td>\n      <td>madere</td>\n      <td>jacques</td>\n      <td>reserve</td>\n      <td>2015-08-20</td>\n      <td>2020-09-09</td>\n      <td>2020</td>\n      <td>2018.0</td>\n      <td>9.0</td>\n      <td>27.0</td>\n      <td>4179b2be9f58326093382e4c4d895409</td>\n    </tr>\n    <tr>\n      <th>1893e52f0c750359634603a12a7e605b</th>\n      <td>plaquemines par so</td>\n      <td>guidry</td>\n      <td>dalton</td>\n      <td>full-time</td>\n      <td>2018-11-16</td>\n      <td>2020-09-01</td>\n      <td>2020</td>\n      <td>2020.0</td>\n      <td>8.0</td>\n      <td>24.0</td>\n      <td>1893e52f0c750359634603a12a7e605b</td>\n    </tr>\n    <tr>\n      <th>...</th>\n      <td>...</td>\n      <td>...</td>\n      <td>...</td>\n      <td>...</td>\n      <td>...</td>\n      <td>...</td>\n      <td>...</td>\n      <td>...</td>\n      <td>...</td>\n      <td>...</td>\n      <td>...</td>\n    </tr>\n    <tr>\n      <th>57d97ee832bdb809c2496af940f048e5</th>\n      <td>plaquemines par so</td>\n      <td>hamel</td>\n      <td>timothy</td>\n      <td>reserve</td>\n      <td>1995-11-15</td>\n      <td>NaN</td>\n      <td>2020</td>\n      <td>NaN</td>\n      <td>NaN</td>\n      <td>NaN</td>\n      <td>57d97ee832bdb809c2496af940f048e5</td>\n    </tr>\n    <tr>\n      <th>16484f660fab2ebe16c4532e3ae2fb51</th>\n      <td>plaquemines par so</td>\n      <td>hijuelos</td>\n      <td>deborah</td>\n      <td>reserve</td>\n      <td>1995-11-15</td>\n      <td>NaN</td>\n      <td>2020</td>\n      <td>NaN</td>\n      <td>NaN</td>\n      <td>NaN</td>\n      <td>16484f660fab2ebe16c4532e3ae2fb51</td>\n    </tr>\n    <tr>\n      <th>2f0437edc0a4d0a336b22223544f473d</th>\n      <td>plaquemines par so</td>\n      <td>gibson</td>\n      <td>russell</td>\n      <td>reserve</td>\n      <td>1993-12-08</td>\n      <td>NaN</td>\n      <td>2020</td>\n      <td>1993.0</td>\n      <td>6.0</td>\n      <td>8.0</td>\n      <td>2f0437edc0a4d0a336b22223544f473d</td>\n    </tr>\n    <tr>\n      <th>5e85b47fa9bd1af923c89f93430063de</th>\n      <td>plaquemines par so</td>\n      <td>savastano</td>\n      <td>dion</td>\n      <td>reserve</td>\n      <td>1993-12-08</td>\n      <td>NaN</td>\n      <td>2020</td>\n      <td>1993.0</td>\n      <td>6.0</td>\n      <td>8.0</td>\n      <td>5e85b47fa9bd1af923c89f93430063de</td>\n    </tr>\n    <tr>\n      <th>3f315f4f214a6de2a1c9be01dc8905be</th>\n      <td>plaquemines par so</td>\n      <td>owens</td>\n      <td>jack</td>\n      <td>reserve</td>\n      <td>NaN</td>\n      <td>NaN</td>\n      <td>2020</td>\n      <td>2019.0</td>\n      <td>8.0</td>\n      <td>16.0</td>\n      <td>3f315f4f214a6de2a1c9be01dc8905be</td>\n    </tr>\n  </tbody>\n</table>\n<p>394 rows × 11 columns</p>\n</div>"
     },
     "metadata": {},
     "execution_count": 3
    }
   ],
   "source": [
    "post = prepare_post_data()\n",
    "post"
   ]
  },
  {
   "cell_type": "code",
   "execution_count": 4,
   "metadata": {},
   "outputs": [
    {
     "output_type": "execute_result",
     "data": {
      "text/plain": [
       "  tracking_number first_name middle_initial    middle_name   last_name  \\\n",
       "0         19-003     natalie              d              d  fitzgerald   \n",
       "1         19-007       holly              h  hardin daniel       swear   \n",
       "2         19-008     maxwell                                  morovich   \n",
       "3         19-009        brad                                williamson   \n",
       "4         19-010        mark                                    morice   \n",
       "5         19-012      joseph                                   frances   \n",
       "6         19-013        adam                                   barrois   \n",
       "7         19-016      justin                                    arendt   \n",
       "8         19-017       kenny                                barthelemy   \n",
       "9         19-019       dylan                                      goff   \n",
       "\n",
       "                                  charges                    disposition  \\\n",
       "0                releasing juvenile info                      unfounded    \n",
       "1  not conducting thorough investigation                      unfounded    \n",
       "2   failure to notify rank of infraction                       sustained   \n",
       "3                domestic issue off-duty   unfounded; performance issue    \n",
       "4                      performance issue                      unfounded    \n",
       "5             unsatisfactory performance                       sustained   \n",
       "6             unsatisfactory performance                      unfounded    \n",
       "7                     conduct unbecoming                      unfounded    \n",
       "8                    standard of conduct                      unfounded    \n",
       "9                      performance issue                      unfounded    \n",
       "\n",
       "              action  receive_year  receive_day  receive_month  \\\n",
       "0                NaN          2019           30              1   \n",
       "1                NaN          2019           29              3   \n",
       "2  30 day suspension          2019           17              4   \n",
       "3                NaN          2019           13              5   \n",
       "4                NaN          2019           21              5   \n",
       "5     verbal counsel          2019           29              5   \n",
       "6                NaN          2019           24              5   \n",
       "7                NaN          2019           23              7   \n",
       "8                NaN          2019           11              9   \n",
       "9                NaN          2019           27              8   \n",
       "\n",
       "   data_production_year          agency                               uid  \\\n",
       "0                  2019  Plaquemines SO  44fd733ab524af201faa82eeb7228320   \n",
       "1                  2019  Plaquemines SO  346df54d1e391023fc79e436546e45f0   \n",
       "2                  2019  Plaquemines SO  7de99fc7d70f69ca6fcabce0bb953525   \n",
       "3                  2019  Plaquemines SO  c9d2df30a229470c069fb649b9cb0982   \n",
       "4                  2019  Plaquemines SO  a17ef385010b0ebaba24a827535af9d4   \n",
       "5                  2019  Plaquemines SO  c6f44d056ac5c36e68f7a402aedb5279   \n",
       "6                  2019  Plaquemines SO  adc02aa6d42c190d403263e56bd45950   \n",
       "7                  2019  Plaquemines SO  b89aa9c26e553aac9a42da5e18b76804   \n",
       "8                  2019  Plaquemines SO  4541a7a8ccabbaa018190d0a394936af   \n",
       "9                  2019  Plaquemines SO  d33d627653401f7fec8869e7331786c3   \n",
       "\n",
       "                      complaint_uid  \n",
       "0  10c4398cd3a287f8e6ebc33d10ef12f3  \n",
       "1  228fce9d686a2f87524f6f493226de9e  \n",
       "2  88f9aee78eba7bbda0eaa48580b169c5  \n",
       "3  346271e904094d5a3ebc3a53807942e0  \n",
       "4  55857ecfe36b5e53101d2e863ad2f968  \n",
       "5  1fd2261e3be5b79b78b201489e97e315  \n",
       "6  df0f6a966bd1fa81f9d34fae0b37b79a  \n",
       "7  fe35d1c938a5f7130845e743ff85cdf9  \n",
       "8  9c0c1fb3172a1319713e77d871bb79df  \n",
       "9  f092fdeb33e9afc9ea1983ebf4409308  "
      ],
      "text/html": "<div>\n<style scoped>\n    .dataframe tbody tr th:only-of-type {\n        vertical-align: middle;\n    }\n\n    .dataframe tbody tr th {\n        vertical-align: top;\n    }\n\n    .dataframe thead th {\n        text-align: right;\n    }\n</style>\n<table border=\"1\" class=\"dataframe\">\n  <thead>\n    <tr style=\"text-align: right;\">\n      <th></th>\n      <th>tracking_number</th>\n      <th>first_name</th>\n      <th>middle_initial</th>\n      <th>middle_name</th>\n      <th>last_name</th>\n      <th>charges</th>\n      <th>disposition</th>\n      <th>action</th>\n      <th>receive_year</th>\n      <th>receive_day</th>\n      <th>receive_month</th>\n      <th>data_production_year</th>\n      <th>agency</th>\n      <th>uid</th>\n      <th>complaint_uid</th>\n    </tr>\n  </thead>\n  <tbody>\n    <tr>\n      <th>0</th>\n      <td>19-003</td>\n      <td>natalie</td>\n      <td>d</td>\n      <td>d</td>\n      <td>fitzgerald</td>\n      <td>releasing juvenile info</td>\n      <td>unfounded</td>\n      <td>NaN</td>\n      <td>2019</td>\n      <td>30</td>\n      <td>1</td>\n      <td>2019</td>\n      <td>Plaquemines SO</td>\n      <td>44fd733ab524af201faa82eeb7228320</td>\n      <td>10c4398cd3a287f8e6ebc33d10ef12f3</td>\n    </tr>\n    <tr>\n      <th>1</th>\n      <td>19-007</td>\n      <td>holly</td>\n      <td>h</td>\n      <td>hardin daniel</td>\n      <td>swear</td>\n      <td>not conducting thorough investigation</td>\n      <td>unfounded</td>\n      <td>NaN</td>\n      <td>2019</td>\n      <td>29</td>\n      <td>3</td>\n      <td>2019</td>\n      <td>Plaquemines SO</td>\n      <td>346df54d1e391023fc79e436546e45f0</td>\n      <td>228fce9d686a2f87524f6f493226de9e</td>\n    </tr>\n    <tr>\n      <th>2</th>\n      <td>19-008</td>\n      <td>maxwell</td>\n      <td></td>\n      <td></td>\n      <td>morovich</td>\n      <td>failure to notify rank of infraction</td>\n      <td>sustained</td>\n      <td>30 day suspension</td>\n      <td>2019</td>\n      <td>17</td>\n      <td>4</td>\n      <td>2019</td>\n      <td>Plaquemines SO</td>\n      <td>7de99fc7d70f69ca6fcabce0bb953525</td>\n      <td>88f9aee78eba7bbda0eaa48580b169c5</td>\n    </tr>\n    <tr>\n      <th>3</th>\n      <td>19-009</td>\n      <td>brad</td>\n      <td></td>\n      <td></td>\n      <td>williamson</td>\n      <td>domestic issue off-duty</td>\n      <td>unfounded; performance issue</td>\n      <td>NaN</td>\n      <td>2019</td>\n      <td>13</td>\n      <td>5</td>\n      <td>2019</td>\n      <td>Plaquemines SO</td>\n      <td>c9d2df30a229470c069fb649b9cb0982</td>\n      <td>346271e904094d5a3ebc3a53807942e0</td>\n    </tr>\n    <tr>\n      <th>4</th>\n      <td>19-010</td>\n      <td>mark</td>\n      <td></td>\n      <td></td>\n      <td>morice</td>\n      <td>performance issue</td>\n      <td>unfounded</td>\n      <td>NaN</td>\n      <td>2019</td>\n      <td>21</td>\n      <td>5</td>\n      <td>2019</td>\n      <td>Plaquemines SO</td>\n      <td>a17ef385010b0ebaba24a827535af9d4</td>\n      <td>55857ecfe36b5e53101d2e863ad2f968</td>\n    </tr>\n    <tr>\n      <th>5</th>\n      <td>19-012</td>\n      <td>joseph</td>\n      <td></td>\n      <td></td>\n      <td>frances</td>\n      <td>unsatisfactory performance</td>\n      <td>sustained</td>\n      <td>verbal counsel</td>\n      <td>2019</td>\n      <td>29</td>\n      <td>5</td>\n      <td>2019</td>\n      <td>Plaquemines SO</td>\n      <td>c6f44d056ac5c36e68f7a402aedb5279</td>\n      <td>1fd2261e3be5b79b78b201489e97e315</td>\n    </tr>\n    <tr>\n      <th>6</th>\n      <td>19-013</td>\n      <td>adam</td>\n      <td></td>\n      <td></td>\n      <td>barrois</td>\n      <td>unsatisfactory performance</td>\n      <td>unfounded</td>\n      <td>NaN</td>\n      <td>2019</td>\n      <td>24</td>\n      <td>5</td>\n      <td>2019</td>\n      <td>Plaquemines SO</td>\n      <td>adc02aa6d42c190d403263e56bd45950</td>\n      <td>df0f6a966bd1fa81f9d34fae0b37b79a</td>\n    </tr>\n    <tr>\n      <th>7</th>\n      <td>19-016</td>\n      <td>justin</td>\n      <td></td>\n      <td></td>\n      <td>arendt</td>\n      <td>conduct unbecoming</td>\n      <td>unfounded</td>\n      <td>NaN</td>\n      <td>2019</td>\n      <td>23</td>\n      <td>7</td>\n      <td>2019</td>\n      <td>Plaquemines SO</td>\n      <td>b89aa9c26e553aac9a42da5e18b76804</td>\n      <td>fe35d1c938a5f7130845e743ff85cdf9</td>\n    </tr>\n    <tr>\n      <th>8</th>\n      <td>19-017</td>\n      <td>kenny</td>\n      <td></td>\n      <td></td>\n      <td>barthelemy</td>\n      <td>standard of conduct</td>\n      <td>unfounded</td>\n      <td>NaN</td>\n      <td>2019</td>\n      <td>11</td>\n      <td>9</td>\n      <td>2019</td>\n      <td>Plaquemines SO</td>\n      <td>4541a7a8ccabbaa018190d0a394936af</td>\n      <td>9c0c1fb3172a1319713e77d871bb79df</td>\n    </tr>\n    <tr>\n      <th>9</th>\n      <td>19-019</td>\n      <td>dylan</td>\n      <td></td>\n      <td></td>\n      <td>goff</td>\n      <td>performance issue</td>\n      <td>unfounded</td>\n      <td>NaN</td>\n      <td>2019</td>\n      <td>27</td>\n      <td>8</td>\n      <td>2019</td>\n      <td>Plaquemines SO</td>\n      <td>d33d627653401f7fec8869e7331786c3</td>\n      <td>f092fdeb33e9afc9ea1983ebf4409308</td>\n    </tr>\n  </tbody>\n</table>\n</div>"
     },
     "metadata": {},
     "execution_count": 4
    }
   ],
   "source": [
    "cprr = match_post(df, post)\n",
    "cprr"
   ]
  },
  {
   "cell_type": "code",
   "execution_count": 5,
   "metadata": {},
   "outputs": [
    {
     "output_type": "execute_result",
     "data": {
      "text/plain": [
       "Empty DataFrame\n",
       "Columns: [tracking_number, first_name, middle_initial, middle_name, last_name, charges, disposition, action, receive_year, receive_day, receive_month, data_production_year, agency, uid, complaint_uid]\n",
       "Index: []"
      ],
      "text/html": "<div>\n<style scoped>\n    .dataframe tbody tr th:only-of-type {\n        vertical-align: middle;\n    }\n\n    .dataframe tbody tr th {\n        vertical-align: top;\n    }\n\n    .dataframe thead th {\n        text-align: right;\n    }\n</style>\n<table border=\"1\" class=\"dataframe\">\n  <thead>\n    <tr style=\"text-align: right;\">\n      <th></th>\n      <th>tracking_number</th>\n      <th>first_name</th>\n      <th>middle_initial</th>\n      <th>middle_name</th>\n      <th>last_name</th>\n      <th>charges</th>\n      <th>disposition</th>\n      <th>action</th>\n      <th>receive_year</th>\n      <th>receive_day</th>\n      <th>receive_month</th>\n      <th>data_production_year</th>\n      <th>agency</th>\n      <th>uid</th>\n      <th>complaint_uid</th>\n    </tr>\n  </thead>\n  <tbody>\n  </tbody>\n</table>\n</div>"
     },
     "metadata": {},
     "execution_count": 5
    }
   ],
   "source": [
    "df[df.uid == 'bb7770c7d60767fbe09865398f0e95df']"
   ]
  },
  {
   "cell_type": "code",
   "execution_count": null,
   "metadata": {},
   "outputs": [],
   "source": []
  }
 ]
}
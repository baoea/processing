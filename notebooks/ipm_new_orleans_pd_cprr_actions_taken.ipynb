{
 "metadata": {
  "language_info": {
   "codemirror_mode": {
    "name": "ipython",
    "version": 3
   },
   "file_extension": ".py",
   "mimetype": "text/x-python",
   "name": "python",
   "nbconvert_exporter": "python",
   "pygments_lexer": "ipython3",
   "version": "3.8.3-final"
  },
  "orig_nbformat": 2,
  "kernelspec": {
   "name": "python3",
   "display_name": "Python 3.8.3 64-bit ('base': conda)",
   "metadata": {
    "interpreter": {
     "hash": "759d03fc00c4e55187619d7bc1e0b6a3309d14c7c00d43a321634150e05678f8"
    }
   }
  }
 },
 "nbformat": 4,
 "nbformat_minor": 2,
 "cells": [
  {
   "cell_type": "code",
   "execution_count": 1,
   "metadata": {},
   "outputs": [],
   "source": [
    "import sys; sys.path.append(\"../\")\n",
    "import pandas as pd\n",
    "\n",
    "from lib.split_schema import detect_unique_columns_subset\n",
    "from clean.ipm_new_orleans_pd_cprr_actions_taken import clean"
   ]
  },
  {
   "source": [
    "## Observations\n",
    "- There are some allegations (95 rows) found here that could not be found in `new_orleans_pd_cprr_allegations_1931-2020.csv` (send over for review)\n",
    "- There are no new column for allegation table"
   ],
   "cell_type": "markdown",
   "metadata": {}
  },
  {
   "cell_type": "code",
   "execution_count": 2,
   "metadata": {},
   "outputs": [
    {
     "output_type": "execute_result",
     "data": {
      "text/plain": [
       "       allegation_primary_key  action_primary_key action_taken_date  \\\n",
       "0                         NaN                 100               NaN   \n",
       "1                         NaN                 101               NaN   \n",
       "2                         NaN                 102               NaN   \n",
       "3                         NaN                 103               NaN   \n",
       "4                         NaN                 104               NaN   \n",
       "...                       ...                 ...               ...   \n",
       "23656                 26268.0               25238           2/14/19   \n",
       "23657                 26274.0               25240           1/23/19   \n",
       "23658                 26280.0               25242           1/28/19   \n",
       "23659                 26281.0               25243           1/28/19   \n",
       "23660                 26284.0               25244           2/20/19   \n",
       "\n",
       "       action_taken_year  action_taken_month action_taken_completed  \\\n",
       "0                    NaN                 NaN                    NaN   \n",
       "1                    NaN                 NaN                    NaN   \n",
       "2                    NaN                 NaN                    NaN   \n",
       "3                    NaN                 NaN                    NaN   \n",
       "4                    NaN                 NaN                    NaN   \n",
       "...                  ...                 ...                    ...   \n",
       "23656             2019.0                 2.0                     No   \n",
       "23657             2019.0                 1.0                     No   \n",
       "23658             2019.0                 1.0                     No   \n",
       "23659             2019.0                 1.0                     No   \n",
       "23660             2019.0                 2.0                     No   \n",
       "\n",
       "              action_taken_category       action_taken     action_taken_oipm  \n",
       "0                               NaN          Counseled  Illegitimate outcome  \n",
       "1                               NaN          Counseled  Illegitimate outcome  \n",
       "2                               NaN          Counseled  Illegitimate outcome  \n",
       "3                               NaN          Counseled  Illegitimate outcome  \n",
       "4                               NaN          Counseled  Illegitimate outcome  \n",
       "...                             ...                ...                   ...  \n",
       "23656  Administrative Investigation   Awaiting Hearing  Illegitimate outcome  \n",
       "23657  Administrative Investigation   Awaiting Hearing  Illegitimate outcome  \n",
       "23658        Criminal Investigation   None - Unfounded                  None  \n",
       "23659        Criminal Investigation   None - Unfounded                  None  \n",
       "23660        Criminal Investigation  None - Exonerated                  None  \n",
       "\n",
       "[23661 rows x 9 columns]"
      ],
      "text/html": "<div>\n<style scoped>\n    .dataframe tbody tr th:only-of-type {\n        vertical-align: middle;\n    }\n\n    .dataframe tbody tr th {\n        vertical-align: top;\n    }\n\n    .dataframe thead th {\n        text-align: right;\n    }\n</style>\n<table border=\"1\" class=\"dataframe\">\n  <thead>\n    <tr style=\"text-align: right;\">\n      <th></th>\n      <th>allegation_primary_key</th>\n      <th>action_primary_key</th>\n      <th>action_taken_date</th>\n      <th>action_taken_year</th>\n      <th>action_taken_month</th>\n      <th>action_taken_completed</th>\n      <th>action_taken_category</th>\n      <th>action_taken</th>\n      <th>action_taken_oipm</th>\n    </tr>\n  </thead>\n  <tbody>\n    <tr>\n      <th>0</th>\n      <td>NaN</td>\n      <td>100</td>\n      <td>NaN</td>\n      <td>NaN</td>\n      <td>NaN</td>\n      <td>NaN</td>\n      <td>NaN</td>\n      <td>Counseled</td>\n      <td>Illegitimate outcome</td>\n    </tr>\n    <tr>\n      <th>1</th>\n      <td>NaN</td>\n      <td>101</td>\n      <td>NaN</td>\n      <td>NaN</td>\n      <td>NaN</td>\n      <td>NaN</td>\n      <td>NaN</td>\n      <td>Counseled</td>\n      <td>Illegitimate outcome</td>\n    </tr>\n    <tr>\n      <th>2</th>\n      <td>NaN</td>\n      <td>102</td>\n      <td>NaN</td>\n      <td>NaN</td>\n      <td>NaN</td>\n      <td>NaN</td>\n      <td>NaN</td>\n      <td>Counseled</td>\n      <td>Illegitimate outcome</td>\n    </tr>\n    <tr>\n      <th>3</th>\n      <td>NaN</td>\n      <td>103</td>\n      <td>NaN</td>\n      <td>NaN</td>\n      <td>NaN</td>\n      <td>NaN</td>\n      <td>NaN</td>\n      <td>Counseled</td>\n      <td>Illegitimate outcome</td>\n    </tr>\n    <tr>\n      <th>4</th>\n      <td>NaN</td>\n      <td>104</td>\n      <td>NaN</td>\n      <td>NaN</td>\n      <td>NaN</td>\n      <td>NaN</td>\n      <td>NaN</td>\n      <td>Counseled</td>\n      <td>Illegitimate outcome</td>\n    </tr>\n    <tr>\n      <th>...</th>\n      <td>...</td>\n      <td>...</td>\n      <td>...</td>\n      <td>...</td>\n      <td>...</td>\n      <td>...</td>\n      <td>...</td>\n      <td>...</td>\n      <td>...</td>\n    </tr>\n    <tr>\n      <th>23656</th>\n      <td>26268.0</td>\n      <td>25238</td>\n      <td>2/14/19</td>\n      <td>2019.0</td>\n      <td>2.0</td>\n      <td>No</td>\n      <td>Administrative Investigation</td>\n      <td>Awaiting Hearing</td>\n      <td>Illegitimate outcome</td>\n    </tr>\n    <tr>\n      <th>23657</th>\n      <td>26274.0</td>\n      <td>25240</td>\n      <td>1/23/19</td>\n      <td>2019.0</td>\n      <td>1.0</td>\n      <td>No</td>\n      <td>Administrative Investigation</td>\n      <td>Awaiting Hearing</td>\n      <td>Illegitimate outcome</td>\n    </tr>\n    <tr>\n      <th>23658</th>\n      <td>26280.0</td>\n      <td>25242</td>\n      <td>1/28/19</td>\n      <td>2019.0</td>\n      <td>1.0</td>\n      <td>No</td>\n      <td>Criminal Investigation</td>\n      <td>None - Unfounded</td>\n      <td>None</td>\n    </tr>\n    <tr>\n      <th>23659</th>\n      <td>26281.0</td>\n      <td>25243</td>\n      <td>1/28/19</td>\n      <td>2019.0</td>\n      <td>1.0</td>\n      <td>No</td>\n      <td>Criminal Investigation</td>\n      <td>None - Unfounded</td>\n      <td>None</td>\n    </tr>\n    <tr>\n      <th>23660</th>\n      <td>26284.0</td>\n      <td>25244</td>\n      <td>2/20/19</td>\n      <td>2019.0</td>\n      <td>2.0</td>\n      <td>No</td>\n      <td>Criminal Investigation</td>\n      <td>None - Exonerated</td>\n      <td>None</td>\n    </tr>\n  </tbody>\n</table>\n<p>23661 rows × 9 columns</p>\n</div>"
     },
     "metadata": {},
     "execution_count": 2
    }
   ],
   "source": [
    "allegations, action_takens = clean()\n",
    "action_takens"
   ]
  },
  {
   "cell_type": "code",
   "execution_count": 3,
   "metadata": {},
   "outputs": [
    {
     "output_type": "execute_result",
     "data": {
      "text/plain": [
       "       allegation_incident_officer_id  allegation_primary_key  \\\n",
       "10770                             1.0                     1.0   \n",
       "10771                            15.0                     8.0   \n",
       "10772                            16.0                     9.0   \n",
       "10773                            16.0                    10.0   \n",
       "10774                            15.0                    11.0   \n",
       "...                               ...                     ...   \n",
       "23656                         50220.0                 26268.0   \n",
       "23657                         48776.0                 26274.0   \n",
       "23658                         49460.0                 26280.0   \n",
       "23659                         49462.0                 26281.0   \n",
       "23660                         50278.0                 26284.0   \n",
       "\n",
       "                                       allegation   allegation_finding  \\\n",
       "10770              PARAGRAPH 04 - NEGLECT OF DUTY            NFIM CASE   \n",
       "10771             PARAGRAPH 01 - ADHERENCE TO LAW  NOT SUSTAINED - RUI   \n",
       "10772             PARAGRAPH 01 - ADHERENCE TO LAW        NOT SUSTAINED   \n",
       "10773  PARAGRAPH 02 - FALSE OR INACCURATE REPORTS        NOT SUSTAINED   \n",
       "10774  PARAGRAPH 02 - FALSE OR INACCURATE REPORTS  NOT SUSTAINED - RUI   \n",
       "...                                           ...                  ...   \n",
       "23656              PARAGRAPH 01 - Professionalism            SUSTAINED   \n",
       "23657              PARAGRAPH 04 - NEGLECT OF DUTY            SUSTAINED   \n",
       "23658             PARAGRAPH 01 - ADHERENCE TO LAW            UNFOUNDED   \n",
       "23659             PARAGRAPH 01 - ADHERENCE TO LAW            UNFOUNDED   \n",
       "23660             PARAGRAPH 01 - ADHERENCE TO LAW           EXONERATED   \n",
       "\n",
       "      allegation_final_disposition allegation_created_date  \\\n",
       "10770                    NFIM CASE                 3/25/11   \n",
       "10771          NOT SUSTAINED - RUI                  4/7/11   \n",
       "10772                NOT SUSTAINED                  4/7/11   \n",
       "10773                NOT SUSTAINED                  4/7/11   \n",
       "10774          NOT SUSTAINED - RUI                  4/7/11   \n",
       "...                            ...                     ...   \n",
       "23656             AWAITING HEARING                 2/14/19   \n",
       "23657                          NaN                 2/18/19   \n",
       "23658                          NaN                 2/19/19   \n",
       "23659                          NaN                 2/19/19   \n",
       "23660                          NaN                 2/20/19   \n",
       "\n",
       "       allegation_year_created  allegation_month_created  \\\n",
       "10770                   2011.0                       3.0   \n",
       "10771                   2011.0                       4.0   \n",
       "10772                   2011.0                       4.0   \n",
       "10773                   2011.0                       4.0   \n",
       "10774                   2011.0                       4.0   \n",
       "...                        ...                       ...   \n",
       "23656                   2019.0                       2.0   \n",
       "23657                   2019.0                       2.0   \n",
       "23658                   2019.0                       2.0   \n",
       "23659                   2019.0                       2.0   \n",
       "23660                   2019.0                       2.0   \n",
       "\n",
       "      allegation_finding_date allegation_created_on  \\\n",
       "10770            1/29/11 0:00          3/25/11 0:00   \n",
       "10771            4/15/14 0:00           4/7/11 0:00   \n",
       "10772            4/15/14 0:00           4/7/11 0:00   \n",
       "10773            4/15/14 0:00           4/7/11 0:00   \n",
       "10774            4/15/14 0:00           4/7/11 0:00   \n",
       "...                       ...                   ...   \n",
       "23656             2/8/19 0:00          2/14/19 0:00   \n",
       "23657            1/23/19 0:00          2/18/19 0:00   \n",
       "23658            1/28/19 0:00          2/19/19 0:00   \n",
       "23659            1/28/19 0:00          2/19/19 0:00   \n",
       "23660            2/20/19 0:00          2/20/19 0:00   \n",
       "\n",
       "      allegation_final_disposition_date  \\\n",
       "10770                           5/10/11   \n",
       "10771                           4/15/14   \n",
       "10772                           4/15/14   \n",
       "10773                           4/15/14   \n",
       "10774                           4/15/14   \n",
       "...                                 ...   \n",
       "23656                           2/14/19   \n",
       "23657                               NaN   \n",
       "23658                               NaN   \n",
       "23659                               NaN   \n",
       "23660                               NaN   \n",
       "\n",
       "                                    allegation_directive  \n",
       "10770  RULE 4: PERFORMANCE OF DUTY - PARAGRAPH 04 - N...  \n",
       "10771                                                NaN  \n",
       "10772                                  Relative to Theft  \n",
       "10773                                                NaN  \n",
       "10774                                                NaN  \n",
       "...                                                  ...  \n",
       "23656                                                NaN  \n",
       "23657  NOPD Policy: Chapter 1.3.6 - Reporting Use of ...  \n",
       "23658                       R.S. 14:67 Relative to theft  \n",
       "23659                       R.S. 14:67 Relative to theft  \n",
       "23660                                                NaN  \n",
       "\n",
       "[12874 rows x 12 columns]"
      ],
      "text/html": "<div>\n<style scoped>\n    .dataframe tbody tr th:only-of-type {\n        vertical-align: middle;\n    }\n\n    .dataframe tbody tr th {\n        vertical-align: top;\n    }\n\n    .dataframe thead th {\n        text-align: right;\n    }\n</style>\n<table border=\"1\" class=\"dataframe\">\n  <thead>\n    <tr style=\"text-align: right;\">\n      <th></th>\n      <th>allegation_incident_officer_id</th>\n      <th>allegation_primary_key</th>\n      <th>allegation</th>\n      <th>allegation_finding</th>\n      <th>allegation_final_disposition</th>\n      <th>allegation_created_date</th>\n      <th>allegation_year_created</th>\n      <th>allegation_month_created</th>\n      <th>allegation_finding_date</th>\n      <th>allegation_created_on</th>\n      <th>allegation_final_disposition_date</th>\n      <th>allegation_directive</th>\n    </tr>\n  </thead>\n  <tbody>\n    <tr>\n      <th>10770</th>\n      <td>1.0</td>\n      <td>1.0</td>\n      <td>PARAGRAPH 04 - NEGLECT OF DUTY</td>\n      <td>NFIM CASE</td>\n      <td>NFIM CASE</td>\n      <td>3/25/11</td>\n      <td>2011.0</td>\n      <td>3.0</td>\n      <td>1/29/11 0:00</td>\n      <td>3/25/11 0:00</td>\n      <td>5/10/11</td>\n      <td>RULE 4: PERFORMANCE OF DUTY - PARAGRAPH 04 - N...</td>\n    </tr>\n    <tr>\n      <th>10771</th>\n      <td>15.0</td>\n      <td>8.0</td>\n      <td>PARAGRAPH 01 - ADHERENCE TO LAW</td>\n      <td>NOT SUSTAINED - RUI</td>\n      <td>NOT SUSTAINED - RUI</td>\n      <td>4/7/11</td>\n      <td>2011.0</td>\n      <td>4.0</td>\n      <td>4/15/14 0:00</td>\n      <td>4/7/11 0:00</td>\n      <td>4/15/14</td>\n      <td>NaN</td>\n    </tr>\n    <tr>\n      <th>10772</th>\n      <td>16.0</td>\n      <td>9.0</td>\n      <td>PARAGRAPH 01 - ADHERENCE TO LAW</td>\n      <td>NOT SUSTAINED</td>\n      <td>NOT SUSTAINED</td>\n      <td>4/7/11</td>\n      <td>2011.0</td>\n      <td>4.0</td>\n      <td>4/15/14 0:00</td>\n      <td>4/7/11 0:00</td>\n      <td>4/15/14</td>\n      <td>Relative to Theft</td>\n    </tr>\n    <tr>\n      <th>10773</th>\n      <td>16.0</td>\n      <td>10.0</td>\n      <td>PARAGRAPH 02 - FALSE OR INACCURATE REPORTS</td>\n      <td>NOT SUSTAINED</td>\n      <td>NOT SUSTAINED</td>\n      <td>4/7/11</td>\n      <td>2011.0</td>\n      <td>4.0</td>\n      <td>4/15/14 0:00</td>\n      <td>4/7/11 0:00</td>\n      <td>4/15/14</td>\n      <td>NaN</td>\n    </tr>\n    <tr>\n      <th>10774</th>\n      <td>15.0</td>\n      <td>11.0</td>\n      <td>PARAGRAPH 02 - FALSE OR INACCURATE REPORTS</td>\n      <td>NOT SUSTAINED - RUI</td>\n      <td>NOT SUSTAINED - RUI</td>\n      <td>4/7/11</td>\n      <td>2011.0</td>\n      <td>4.0</td>\n      <td>4/15/14 0:00</td>\n      <td>4/7/11 0:00</td>\n      <td>4/15/14</td>\n      <td>NaN</td>\n    </tr>\n    <tr>\n      <th>...</th>\n      <td>...</td>\n      <td>...</td>\n      <td>...</td>\n      <td>...</td>\n      <td>...</td>\n      <td>...</td>\n      <td>...</td>\n      <td>...</td>\n      <td>...</td>\n      <td>...</td>\n      <td>...</td>\n      <td>...</td>\n    </tr>\n    <tr>\n      <th>23656</th>\n      <td>50220.0</td>\n      <td>26268.0</td>\n      <td>PARAGRAPH 01 - Professionalism</td>\n      <td>SUSTAINED</td>\n      <td>AWAITING HEARING</td>\n      <td>2/14/19</td>\n      <td>2019.0</td>\n      <td>2.0</td>\n      <td>2/8/19 0:00</td>\n      <td>2/14/19 0:00</td>\n      <td>2/14/19</td>\n      <td>NaN</td>\n    </tr>\n    <tr>\n      <th>23657</th>\n      <td>48776.0</td>\n      <td>26274.0</td>\n      <td>PARAGRAPH 04 - NEGLECT OF DUTY</td>\n      <td>SUSTAINED</td>\n      <td>NaN</td>\n      <td>2/18/19</td>\n      <td>2019.0</td>\n      <td>2.0</td>\n      <td>1/23/19 0:00</td>\n      <td>2/18/19 0:00</td>\n      <td>NaN</td>\n      <td>NOPD Policy: Chapter 1.3.6 - Reporting Use of ...</td>\n    </tr>\n    <tr>\n      <th>23658</th>\n      <td>49460.0</td>\n      <td>26280.0</td>\n      <td>PARAGRAPH 01 - ADHERENCE TO LAW</td>\n      <td>UNFOUNDED</td>\n      <td>NaN</td>\n      <td>2/19/19</td>\n      <td>2019.0</td>\n      <td>2.0</td>\n      <td>1/28/19 0:00</td>\n      <td>2/19/19 0:00</td>\n      <td>NaN</td>\n      <td>R.S. 14:67 Relative to theft</td>\n    </tr>\n    <tr>\n      <th>23659</th>\n      <td>49462.0</td>\n      <td>26281.0</td>\n      <td>PARAGRAPH 01 - ADHERENCE TO LAW</td>\n      <td>UNFOUNDED</td>\n      <td>NaN</td>\n      <td>2/19/19</td>\n      <td>2019.0</td>\n      <td>2.0</td>\n      <td>1/28/19 0:00</td>\n      <td>2/19/19 0:00</td>\n      <td>NaN</td>\n      <td>R.S. 14:67 Relative to theft</td>\n    </tr>\n    <tr>\n      <th>23660</th>\n      <td>50278.0</td>\n      <td>26284.0</td>\n      <td>PARAGRAPH 01 - ADHERENCE TO LAW</td>\n      <td>EXONERATED</td>\n      <td>NaN</td>\n      <td>2/20/19</td>\n      <td>2019.0</td>\n      <td>2.0</td>\n      <td>2/20/19 0:00</td>\n      <td>2/20/19 0:00</td>\n      <td>NaN</td>\n      <td>NaN</td>\n    </tr>\n  </tbody>\n</table>\n<p>12874 rows × 12 columns</p>\n</div>"
     },
     "metadata": {},
     "execution_count": 3
    }
   ],
   "source": [
    "allegations"
   ]
  },
  {
   "cell_type": "code",
   "execution_count": 4,
   "metadata": {},
   "outputs": [
    {
     "output_type": "execute_result",
     "data": {
      "text/plain": [
       "       allegation_primary_key  action_primary_key action_taken_date  \\\n",
       "0                         NaN                 100               NaN   \n",
       "1                         NaN                 101               NaN   \n",
       "2                         NaN                 102               NaN   \n",
       "3                         NaN                 103               NaN   \n",
       "4                         NaN                 104               NaN   \n",
       "...                       ...                 ...               ...   \n",
       "23656                 26268.0               25238           2/14/19   \n",
       "23657                 26274.0               25240           1/23/19   \n",
       "23658                 26280.0               25242           1/28/19   \n",
       "23659                 26281.0               25243           1/28/19   \n",
       "23660                 26284.0               25244           2/20/19   \n",
       "\n",
       "       action_taken_year  action_taken_month action_taken_completed  \\\n",
       "0                    NaN                 NaN                    NaN   \n",
       "1                    NaN                 NaN                    NaN   \n",
       "2                    NaN                 NaN                    NaN   \n",
       "3                    NaN                 NaN                    NaN   \n",
       "4                    NaN                 NaN                    NaN   \n",
       "...                  ...                 ...                    ...   \n",
       "23656             2019.0                 2.0                     No   \n",
       "23657             2019.0                 1.0                     No   \n",
       "23658             2019.0                 1.0                     No   \n",
       "23659             2019.0                 1.0                     No   \n",
       "23660             2019.0                 2.0                     No   \n",
       "\n",
       "              action_taken_category       action_taken     action_taken_oipm  \n",
       "0                               NaN          Counseled  Illegitimate outcome  \n",
       "1                               NaN          Counseled  Illegitimate outcome  \n",
       "2                               NaN          Counseled  Illegitimate outcome  \n",
       "3                               NaN          Counseled  Illegitimate outcome  \n",
       "4                               NaN          Counseled  Illegitimate outcome  \n",
       "...                             ...                ...                   ...  \n",
       "23656  Administrative Investigation   Awaiting Hearing  Illegitimate outcome  \n",
       "23657  Administrative Investigation   Awaiting Hearing  Illegitimate outcome  \n",
       "23658        Criminal Investigation   None - Unfounded                  None  \n",
       "23659        Criminal Investigation   None - Unfounded                  None  \n",
       "23660        Criminal Investigation  None - Exonerated                  None  \n",
       "\n",
       "[23661 rows x 9 columns]"
      ],
      "text/html": "<div>\n<style scoped>\n    .dataframe tbody tr th:only-of-type {\n        vertical-align: middle;\n    }\n\n    .dataframe tbody tr th {\n        vertical-align: top;\n    }\n\n    .dataframe thead th {\n        text-align: right;\n    }\n</style>\n<table border=\"1\" class=\"dataframe\">\n  <thead>\n    <tr style=\"text-align: right;\">\n      <th></th>\n      <th>allegation_primary_key</th>\n      <th>action_primary_key</th>\n      <th>action_taken_date</th>\n      <th>action_taken_year</th>\n      <th>action_taken_month</th>\n      <th>action_taken_completed</th>\n      <th>action_taken_category</th>\n      <th>action_taken</th>\n      <th>action_taken_oipm</th>\n    </tr>\n  </thead>\n  <tbody>\n    <tr>\n      <th>0</th>\n      <td>NaN</td>\n      <td>100</td>\n      <td>NaN</td>\n      <td>NaN</td>\n      <td>NaN</td>\n      <td>NaN</td>\n      <td>NaN</td>\n      <td>Counseled</td>\n      <td>Illegitimate outcome</td>\n    </tr>\n    <tr>\n      <th>1</th>\n      <td>NaN</td>\n      <td>101</td>\n      <td>NaN</td>\n      <td>NaN</td>\n      <td>NaN</td>\n      <td>NaN</td>\n      <td>NaN</td>\n      <td>Counseled</td>\n      <td>Illegitimate outcome</td>\n    </tr>\n    <tr>\n      <th>2</th>\n      <td>NaN</td>\n      <td>102</td>\n      <td>NaN</td>\n      <td>NaN</td>\n      <td>NaN</td>\n      <td>NaN</td>\n      <td>NaN</td>\n      <td>Counseled</td>\n      <td>Illegitimate outcome</td>\n    </tr>\n    <tr>\n      <th>3</th>\n      <td>NaN</td>\n      <td>103</td>\n      <td>NaN</td>\n      <td>NaN</td>\n      <td>NaN</td>\n      <td>NaN</td>\n      <td>NaN</td>\n      <td>Counseled</td>\n      <td>Illegitimate outcome</td>\n    </tr>\n    <tr>\n      <th>4</th>\n      <td>NaN</td>\n      <td>104</td>\n      <td>NaN</td>\n      <td>NaN</td>\n      <td>NaN</td>\n      <td>NaN</td>\n      <td>NaN</td>\n      <td>Counseled</td>\n      <td>Illegitimate outcome</td>\n    </tr>\n    <tr>\n      <th>...</th>\n      <td>...</td>\n      <td>...</td>\n      <td>...</td>\n      <td>...</td>\n      <td>...</td>\n      <td>...</td>\n      <td>...</td>\n      <td>...</td>\n      <td>...</td>\n    </tr>\n    <tr>\n      <th>23656</th>\n      <td>26268.0</td>\n      <td>25238</td>\n      <td>2/14/19</td>\n      <td>2019.0</td>\n      <td>2.0</td>\n      <td>No</td>\n      <td>Administrative Investigation</td>\n      <td>Awaiting Hearing</td>\n      <td>Illegitimate outcome</td>\n    </tr>\n    <tr>\n      <th>23657</th>\n      <td>26274.0</td>\n      <td>25240</td>\n      <td>1/23/19</td>\n      <td>2019.0</td>\n      <td>1.0</td>\n      <td>No</td>\n      <td>Administrative Investigation</td>\n      <td>Awaiting Hearing</td>\n      <td>Illegitimate outcome</td>\n    </tr>\n    <tr>\n      <th>23658</th>\n      <td>26280.0</td>\n      <td>25242</td>\n      <td>1/28/19</td>\n      <td>2019.0</td>\n      <td>1.0</td>\n      <td>No</td>\n      <td>Criminal Investigation</td>\n      <td>None - Unfounded</td>\n      <td>None</td>\n    </tr>\n    <tr>\n      <th>23659</th>\n      <td>26281.0</td>\n      <td>25243</td>\n      <td>1/28/19</td>\n      <td>2019.0</td>\n      <td>1.0</td>\n      <td>No</td>\n      <td>Criminal Investigation</td>\n      <td>None - Unfounded</td>\n      <td>None</td>\n    </tr>\n    <tr>\n      <th>23660</th>\n      <td>26284.0</td>\n      <td>25244</td>\n      <td>2/20/19</td>\n      <td>2019.0</td>\n      <td>2.0</td>\n      <td>No</td>\n      <td>Criminal Investigation</td>\n      <td>None - Exonerated</td>\n      <td>None</td>\n    </tr>\n  </tbody>\n</table>\n<p>23661 rows × 9 columns</p>\n</div>"
     },
     "metadata": {},
     "execution_count": 4
    }
   ],
   "source": [
    "action_takens"
   ]
  },
  {
   "cell_type": "code",
   "execution_count": 5,
   "metadata": {},
   "outputs": [
    {
     "output_type": "execute_result",
     "data": {
      "text/plain": [
       "       allegation_primary_key  action_primary_key action_taken_date  \\\n",
       "1                         NaN                 101               NaN   \n",
       "2                         NaN                 102               NaN   \n",
       "3                         NaN                 103               NaN   \n",
       "4                         NaN                 104               NaN   \n",
       "5                         NaN                 105               NaN   \n",
       "...                       ...                 ...               ...   \n",
       "19892                 21446.0               21038           9/19/16   \n",
       "20558                 22240.0               22228           3/23/17   \n",
       "22276                 24358.0               24848           4/27/18   \n",
       "23139                 25427.0               24974          11/27/18   \n",
       "23287                 25606.0               24880          10/24/18   \n",
       "\n",
       "       action_taken_year  action_taken_month action_taken_completed  \\\n",
       "1                    NaN                 NaN                    NaN   \n",
       "2                    NaN                 NaN                    NaN   \n",
       "3                    NaN                 NaN                    NaN   \n",
       "4                    NaN                 NaN                    NaN   \n",
       "5                    NaN                 NaN                    NaN   \n",
       "...                  ...                 ...                    ...   \n",
       "19892             2016.0                 9.0                     No   \n",
       "20558             2017.0                 3.0                     No   \n",
       "22276             2018.0                 4.0                    Yes   \n",
       "23139             2018.0                11.0                     No   \n",
       "23287             2018.0                10.0                     No   \n",
       "\n",
       "              action_taken_category          action_taken  \\\n",
       "1                               NaN             Counseled   \n",
       "2                               NaN             Counseled   \n",
       "3                               NaN             Counseled   \n",
       "4                               NaN             Counseled   \n",
       "5                               NaN             Counseled   \n",
       "...                             ...                   ...   \n",
       "19892  Administrative Investigation      None - Unfounded   \n",
       "20558  Administrative Investigation  None - Not Sustained   \n",
       "22276  Administrative Investigation      None - Unfounded   \n",
       "23139  Administrative Investigation  None - Not Sustained   \n",
       "23287                           NaN           Redirection   \n",
       "\n",
       "          action_taken_oipm  \n",
       "1      Illegitimate outcome  \n",
       "2      Illegitimate outcome  \n",
       "3      Illegitimate outcome  \n",
       "4      Illegitimate outcome  \n",
       "5      Illegitimate outcome  \n",
       "...                     ...  \n",
       "19892                  None  \n",
       "20558                  None  \n",
       "22276                  None  \n",
       "23139                  None  \n",
       "23287                  DI-2  \n",
       "\n",
       "[10786 rows x 9 columns]"
      ],
      "text/html": "<div>\n<style scoped>\n    .dataframe tbody tr th:only-of-type {\n        vertical-align: middle;\n    }\n\n    .dataframe tbody tr th {\n        vertical-align: top;\n    }\n\n    .dataframe thead th {\n        text-align: right;\n    }\n</style>\n<table border=\"1\" class=\"dataframe\">\n  <thead>\n    <tr style=\"text-align: right;\">\n      <th></th>\n      <th>allegation_primary_key</th>\n      <th>action_primary_key</th>\n      <th>action_taken_date</th>\n      <th>action_taken_year</th>\n      <th>action_taken_month</th>\n      <th>action_taken_completed</th>\n      <th>action_taken_category</th>\n      <th>action_taken</th>\n      <th>action_taken_oipm</th>\n    </tr>\n  </thead>\n  <tbody>\n    <tr>\n      <th>1</th>\n      <td>NaN</td>\n      <td>101</td>\n      <td>NaN</td>\n      <td>NaN</td>\n      <td>NaN</td>\n      <td>NaN</td>\n      <td>NaN</td>\n      <td>Counseled</td>\n      <td>Illegitimate outcome</td>\n    </tr>\n    <tr>\n      <th>2</th>\n      <td>NaN</td>\n      <td>102</td>\n      <td>NaN</td>\n      <td>NaN</td>\n      <td>NaN</td>\n      <td>NaN</td>\n      <td>NaN</td>\n      <td>Counseled</td>\n      <td>Illegitimate outcome</td>\n    </tr>\n    <tr>\n      <th>3</th>\n      <td>NaN</td>\n      <td>103</td>\n      <td>NaN</td>\n      <td>NaN</td>\n      <td>NaN</td>\n      <td>NaN</td>\n      <td>NaN</td>\n      <td>Counseled</td>\n      <td>Illegitimate outcome</td>\n    </tr>\n    <tr>\n      <th>4</th>\n      <td>NaN</td>\n      <td>104</td>\n      <td>NaN</td>\n      <td>NaN</td>\n      <td>NaN</td>\n      <td>NaN</td>\n      <td>NaN</td>\n      <td>Counseled</td>\n      <td>Illegitimate outcome</td>\n    </tr>\n    <tr>\n      <th>5</th>\n      <td>NaN</td>\n      <td>105</td>\n      <td>NaN</td>\n      <td>NaN</td>\n      <td>NaN</td>\n      <td>NaN</td>\n      <td>NaN</td>\n      <td>Counseled</td>\n      <td>Illegitimate outcome</td>\n    </tr>\n    <tr>\n      <th>...</th>\n      <td>...</td>\n      <td>...</td>\n      <td>...</td>\n      <td>...</td>\n      <td>...</td>\n      <td>...</td>\n      <td>...</td>\n      <td>...</td>\n      <td>...</td>\n    </tr>\n    <tr>\n      <th>19892</th>\n      <td>21446.0</td>\n      <td>21038</td>\n      <td>9/19/16</td>\n      <td>2016.0</td>\n      <td>9.0</td>\n      <td>No</td>\n      <td>Administrative Investigation</td>\n      <td>None - Unfounded</td>\n      <td>None</td>\n    </tr>\n    <tr>\n      <th>20558</th>\n      <td>22240.0</td>\n      <td>22228</td>\n      <td>3/23/17</td>\n      <td>2017.0</td>\n      <td>3.0</td>\n      <td>No</td>\n      <td>Administrative Investigation</td>\n      <td>None - Not Sustained</td>\n      <td>None</td>\n    </tr>\n    <tr>\n      <th>22276</th>\n      <td>24358.0</td>\n      <td>24848</td>\n      <td>4/27/18</td>\n      <td>2018.0</td>\n      <td>4.0</td>\n      <td>Yes</td>\n      <td>Administrative Investigation</td>\n      <td>None - Unfounded</td>\n      <td>None</td>\n    </tr>\n    <tr>\n      <th>23139</th>\n      <td>25427.0</td>\n      <td>24974</td>\n      <td>11/27/18</td>\n      <td>2018.0</td>\n      <td>11.0</td>\n      <td>No</td>\n      <td>Administrative Investigation</td>\n      <td>None - Not Sustained</td>\n      <td>None</td>\n    </tr>\n    <tr>\n      <th>23287</th>\n      <td>25606.0</td>\n      <td>24880</td>\n      <td>10/24/18</td>\n      <td>2018.0</td>\n      <td>10.0</td>\n      <td>No</td>\n      <td>NaN</td>\n      <td>Redirection</td>\n      <td>DI-2</td>\n    </tr>\n  </tbody>\n</table>\n<p>10786 rows × 9 columns</p>\n</div>"
     },
     "metadata": {},
     "execution_count": 5
    }
   ],
   "source": [
    "action_takens[action_takens.allegation_primary_key.duplicated()]"
   ]
  },
  {
   "cell_type": "code",
   "execution_count": null,
   "metadata": {},
   "outputs": [],
   "source": []
  }
 ]
}
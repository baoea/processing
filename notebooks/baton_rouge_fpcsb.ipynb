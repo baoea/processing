{
 "metadata": {
  "language_info": {
   "codemirror_mode": {
    "name": "ipython",
    "version": 3
   },
   "file_extension": ".py",
   "mimetype": "text/x-python",
   "name": "python",
   "nbconvert_exporter": "python",
   "pygments_lexer": "ipython3",
   "version": "3.8.3-final"
  },
  "orig_nbformat": 2,
  "kernelspec": {
   "name": "python3",
   "display_name": "Python 3",
   "language": "python"
  }
 },
 "nbformat": 4,
 "nbformat_minor": 2,
 "cells": [
  {
   "cell_type": "code",
   "execution_count": 1,
   "metadata": {},
   "outputs": [],
   "source": [
    "import sys; sys.path.append(\"../\")\n",
    "import re\n",
    "import datetime\n",
    "import io\n",
    "\n",
    "import pandas as pd\n",
    "\n",
    "from clean.baton_rouge_fpcsb_lprr import clean\n",
    "from lib.rows import duplicate_row\n",
    "from lib.explore import show_unique"
   ]
  },
  {
   "cell_type": "code",
   "execution_count": 2,
   "metadata": {},
   "outputs": [
    {
     "output_type": "stream",
     "name": "stdout",
     "text": [
      "standardize_from_lookup_table: unmatched sequences:\n  {'', '/', ' - ', ' & ', ' / ', '-', ' '}\n"
     ]
    },
    {
     "output_type": "execute_result",
     "data": {
      "text/plain": [
       "    docket_no             action  \\\n",
       "0       10-03  20-day suspension   \n",
       "1       11-10        termination   \n",
       "2       11-11  15-day suspension   \n",
       "3       12-03        termination   \n",
       "4       11-10        termination   \n",
       "..        ...                ...   \n",
       "429     07-05   1-day suspension   \n",
       "430     07-06        termination   \n",
       "431     07-02        termination   \n",
       "432     07-06        termination   \n",
       "433     07-07        termination   \n",
       "\n",
       "                                            resolution hearing_year  \\\n",
       "0                     Overturned by Board (01-19-2012)         2012   \n",
       "1    Board approved Continuance to May 17, 2012 per...         2012   \n",
       "2                                          Rescheduled         2012   \n",
       "3     Board upheld Chief White's decision to terminate         2012   \n",
       "4                      Appealed to 19th Judicial Court         2012   \n",
       "..                                                 ...          ...   \n",
       "429                                       Board upheld         2007   \n",
       "430                      Stayed Criminal INVestigation         2007   \n",
       "431            Board Voted 4 - 1 to uphold Chief Smith         2007   \n",
       "432                                                NaN         2007   \n",
       "433                                                NaN         2008   \n",
       "\n",
       "    hearing_month hearing_day representative rank_desc   last_name first_name  \\\n",
       "0               1          15                              nacoste       otis   \n",
       "1               2          16                                moore     alicia   \n",
       "2               3          15                            schilling     robert   \n",
       "3               4          19                               hollis     pamela   \n",
       "4               5          17                                moore     alicia   \n",
       "..            ...         ...            ...       ...         ...        ...   \n",
       "429            10          18          dirks            landry iii    carroll   \n",
       "430            12          16          dirks                 davis     nathan   \n",
       "431            12          15           tate                 handy       todd   \n",
       "432            12          20                                davis     nathan   \n",
       "433             1           1                               nauman      james   \n",
       "\n",
       "    middle_name middle_initial  \n",
       "0                               \n",
       "1                            m  \n",
       "2                               \n",
       "3                            b  \n",
       "4                            m  \n",
       "..          ...            ...  \n",
       "429                          j  \n",
       "430                             \n",
       "431                             \n",
       "432                             \n",
       "433                             \n",
       "\n",
       "[434 rows x 12 columns]"
      ],
      "text/html": "<div>\n<style scoped>\n    .dataframe tbody tr th:only-of-type {\n        vertical-align: middle;\n    }\n\n    .dataframe tbody tr th {\n        vertical-align: top;\n    }\n\n    .dataframe thead th {\n        text-align: right;\n    }\n</style>\n<table border=\"1\" class=\"dataframe\">\n  <thead>\n    <tr style=\"text-align: right;\">\n      <th></th>\n      <th>docket_no</th>\n      <th>action</th>\n      <th>resolution</th>\n      <th>hearing_year</th>\n      <th>hearing_month</th>\n      <th>hearing_day</th>\n      <th>representative</th>\n      <th>rank_desc</th>\n      <th>last_name</th>\n      <th>first_name</th>\n      <th>middle_name</th>\n      <th>middle_initial</th>\n    </tr>\n  </thead>\n  <tbody>\n    <tr>\n      <th>0</th>\n      <td>10-03</td>\n      <td>20-day suspension</td>\n      <td>Overturned by Board (01-19-2012)</td>\n      <td>2012</td>\n      <td>1</td>\n      <td>15</td>\n      <td></td>\n      <td></td>\n      <td>nacoste</td>\n      <td>otis</td>\n      <td></td>\n      <td></td>\n    </tr>\n    <tr>\n      <th>1</th>\n      <td>11-10</td>\n      <td>termination</td>\n      <td>Board approved Continuance to May 17, 2012 per...</td>\n      <td>2012</td>\n      <td>2</td>\n      <td>16</td>\n      <td></td>\n      <td></td>\n      <td>moore</td>\n      <td>alicia</td>\n      <td></td>\n      <td>m</td>\n    </tr>\n    <tr>\n      <th>2</th>\n      <td>11-11</td>\n      <td>15-day suspension</td>\n      <td>Rescheduled</td>\n      <td>2012</td>\n      <td>3</td>\n      <td>15</td>\n      <td></td>\n      <td></td>\n      <td>schilling</td>\n      <td>robert</td>\n      <td></td>\n      <td></td>\n    </tr>\n    <tr>\n      <th>3</th>\n      <td>12-03</td>\n      <td>termination</td>\n      <td>Board upheld Chief White's decision to terminate</td>\n      <td>2012</td>\n      <td>4</td>\n      <td>19</td>\n      <td></td>\n      <td></td>\n      <td>hollis</td>\n      <td>pamela</td>\n      <td></td>\n      <td>b</td>\n    </tr>\n    <tr>\n      <th>4</th>\n      <td>11-10</td>\n      <td>termination</td>\n      <td>Appealed to 19th Judicial Court</td>\n      <td>2012</td>\n      <td>5</td>\n      <td>17</td>\n      <td></td>\n      <td></td>\n      <td>moore</td>\n      <td>alicia</td>\n      <td></td>\n      <td>m</td>\n    </tr>\n    <tr>\n      <th>...</th>\n      <td>...</td>\n      <td>...</td>\n      <td>...</td>\n      <td>...</td>\n      <td>...</td>\n      <td>...</td>\n      <td>...</td>\n      <td>...</td>\n      <td>...</td>\n      <td>...</td>\n      <td>...</td>\n      <td>...</td>\n    </tr>\n    <tr>\n      <th>429</th>\n      <td>07-05</td>\n      <td>1-day suspension</td>\n      <td>Board upheld</td>\n      <td>2007</td>\n      <td>10</td>\n      <td>18</td>\n      <td>dirks</td>\n      <td></td>\n      <td>landry iii</td>\n      <td>carroll</td>\n      <td></td>\n      <td>j</td>\n    </tr>\n    <tr>\n      <th>430</th>\n      <td>07-06</td>\n      <td>termination</td>\n      <td>Stayed Criminal INVestigation</td>\n      <td>2007</td>\n      <td>12</td>\n      <td>16</td>\n      <td>dirks</td>\n      <td></td>\n      <td>davis</td>\n      <td>nathan</td>\n      <td></td>\n      <td></td>\n    </tr>\n    <tr>\n      <th>431</th>\n      <td>07-02</td>\n      <td>termination</td>\n      <td>Board Voted 4 - 1 to uphold Chief Smith</td>\n      <td>2007</td>\n      <td>12</td>\n      <td>15</td>\n      <td>tate</td>\n      <td></td>\n      <td>handy</td>\n      <td>todd</td>\n      <td></td>\n      <td></td>\n    </tr>\n    <tr>\n      <th>432</th>\n      <td>07-06</td>\n      <td>termination</td>\n      <td>NaN</td>\n      <td>2007</td>\n      <td>12</td>\n      <td>20</td>\n      <td></td>\n      <td></td>\n      <td>davis</td>\n      <td>nathan</td>\n      <td></td>\n      <td></td>\n    </tr>\n    <tr>\n      <th>433</th>\n      <td>07-07</td>\n      <td>termination</td>\n      <td>NaN</td>\n      <td>2008</td>\n      <td>1</td>\n      <td>1</td>\n      <td></td>\n      <td></td>\n      <td>nauman</td>\n      <td>james</td>\n      <td></td>\n      <td></td>\n    </tr>\n  </tbody>\n</table>\n<p>434 rows × 12 columns</p>\n</div>"
     },
     "metadata": {},
     "execution_count": 2
    }
   ],
   "source": [
    "df = clean()\n",
    "\n",
    "df"
   ]
  },
  {
   "cell_type": "code",
   "execution_count": 5,
   "metadata": {},
   "outputs": [
    {
     "output_type": "execute_result",
     "data": {
      "text/plain": [
       "array(['', 'fire dept', 'dirks', 'crystal lafleur', 'dirk',\n",
       "       'floyd falcon', 'none', 'floyd', 'police', 'w robert gill',\n",
       "       'falcon', 'farrugia', 'moore', 'dirks iii', 'falcon jr', 'davis',\n",
       "       'moore iii', 'tate'], dtype=object)"
      ]
     },
     "metadata": {},
     "execution_count": 5
    }
   ],
   "source": [
    "df.representative.unique()"
   ]
  },
  {
   "cell_type": "code",
   "execution_count": 6,
   "metadata": {},
   "outputs": [
    {
     "output_type": "execute_result",
     "data": {
      "text/plain": [
       "    docket_no       action    resolution hearing_year hearing_month  \\\n",
       "224     99-33  termination  Chief Upheld         2000             2   \n",
       "\n",
       "    hearing_day representative rank_desc last_name first_name middle_name  \\\n",
       "224          17         police               davis      daryl               \n",
       "\n",
       "    middle_initial  \n",
       "224              w  "
      ],
      "text/html": "<div>\n<style scoped>\n    .dataframe tbody tr th:only-of-type {\n        vertical-align: middle;\n    }\n\n    .dataframe tbody tr th {\n        vertical-align: top;\n    }\n\n    .dataframe thead th {\n        text-align: right;\n    }\n</style>\n<table border=\"1\" class=\"dataframe\">\n  <thead>\n    <tr style=\"text-align: right;\">\n      <th></th>\n      <th>docket_no</th>\n      <th>action</th>\n      <th>resolution</th>\n      <th>hearing_year</th>\n      <th>hearing_month</th>\n      <th>hearing_day</th>\n      <th>representative</th>\n      <th>rank_desc</th>\n      <th>last_name</th>\n      <th>first_name</th>\n      <th>middle_name</th>\n      <th>middle_initial</th>\n    </tr>\n  </thead>\n  <tbody>\n    <tr>\n      <th>224</th>\n      <td>99-33</td>\n      <td>termination</td>\n      <td>Chief Upheld</td>\n      <td>2000</td>\n      <td>2</td>\n      <td>17</td>\n      <td>police</td>\n      <td></td>\n      <td>davis</td>\n      <td>daryl</td>\n      <td></td>\n      <td>w</td>\n    </tr>\n  </tbody>\n</table>\n</div>"
     },
     "metadata": {},
     "execution_count": 6
    }
   ],
   "source": [
    "df[df.representative == \"police\"]"
   ]
  },
  {
   "cell_type": "code",
   "execution_count": null,
   "metadata": {},
   "outputs": [],
   "source": []
  }
 ]
}
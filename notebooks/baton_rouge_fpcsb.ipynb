{
 "metadata": {
  "language_info": {
   "codemirror_mode": {
    "name": "ipython",
    "version": 3
   },
   "file_extension": ".py",
   "mimetype": "text/x-python",
   "name": "python",
   "nbconvert_exporter": "python",
   "pygments_lexer": "ipython3",
   "version": "3.8.3-final"
  },
  "orig_nbformat": 2,
  "kernelspec": {
   "name": "python3",
   "display_name": "Python 3",
   "language": "python"
  }
 },
 "nbformat": 4,
 "nbformat_minor": 2,
 "cells": [
  {
   "cell_type": "code",
   "execution_count": 1,
   "metadata": {},
   "outputs": [],
   "source": [
    "import sys; sys.path.append(\"../\")\n",
    "import re\n",
    "import datetime\n",
    "import io\n",
    "\n",
    "import pandas as pd\n",
    "\n",
    "from clean.baton_rouge_fpcsb_lprr import clean\n",
    "from lib.rows import duplicate_row\n",
    "from lib.explore import show_unique"
   ]
  },
  {
   "cell_type": "code",
   "execution_count": 2,
   "metadata": {},
   "outputs": [
    {
     "output_type": "stream",
     "name": "stdout",
     "text": [
      "standardize_from_lookup_table: unmatched sequences:\n  {'', ' - ', '-', ' / ', '/', ' ', ' & '}\n"
     ]
    },
    {
     "output_type": "execute_result",
     "data": {
      "text/plain": [
       "    docket_no             action  \\\n",
       "0       10-03  20-day suspension   \n",
       "1       11-10        termination   \n",
       "2       11-11  15-day suspension   \n",
       "3       12-03        termination   \n",
       "4       11-10        termination   \n",
       "..        ...                ...   \n",
       "416     07-05   1-day suspension   \n",
       "417     07-06        termination   \n",
       "418     07-02        termination   \n",
       "419     07-06        termination   \n",
       "420     07-07        termination   \n",
       "\n",
       "                                            resolution hearing_year  \\\n",
       "0                     Overturned by Board (01-19-2012)         2012   \n",
       "1    Board approved Continuance to May 17, 2012 per...         2012   \n",
       "2                                          Rescheduled         2012   \n",
       "3     Board upheld Chief White's decision to terminate         2012   \n",
       "4                      Appealed to 19th Judicial Court         2012   \n",
       "..                                                 ...          ...   \n",
       "416                                       Board upheld         2007   \n",
       "417                      Stayed Criminal INVestigation         2007   \n",
       "418            Board Voted 4 - 1 to uphold Chief Smith         2007   \n",
       "419                                                NaN         2007   \n",
       "420                                                NaN         2008   \n",
       "\n",
       "    hearing_month hearing_day counsel rank_desc   last_name first_name  \\\n",
       "0               1          15                       nacoste       otis   \n",
       "1               2          16                         moore     alicia   \n",
       "2               3          15                     schilling     robert   \n",
       "3               4          19                        hollis     pamela   \n",
       "4               5          17                         moore     alicia   \n",
       "..            ...         ...     ...       ...         ...        ...   \n",
       "416            10          18   dirks            landry iii    carroll   \n",
       "417            12          16   dirks                 davis     nathan   \n",
       "418            12          15    tate                 handy       todd   \n",
       "419            12          20                         davis     nathan   \n",
       "420             1           1                        nauman      james   \n",
       "\n",
       "    middle_name middle_initial                               uid  \n",
       "0                               c0172a50191cccaf374a7391cbea298e  \n",
       "1                            m  69b8369b4b4750733b2785bbf54567de  \n",
       "2                               8df55a0a8dc3fc3271efc68c0bbc60af  \n",
       "3                            b  8de3a1a8d7d7169b33753fce208443ac  \n",
       "4                            m  69b8369b4b4750733b2785bbf54567de  \n",
       "..          ...            ...                               ...  \n",
       "416                          j  5181a5c2da43a8f9537da12efbdf1c31  \n",
       "417                             3a346b57aec3ad6d2e6d05c481ca4564  \n",
       "418                             32f252a6c08bdcb641b2693add02fd1b  \n",
       "419                             3a346b57aec3ad6d2e6d05c481ca4564  \n",
       "420                             b14d80e46ce694709511caada6daf6cd  \n",
       "\n",
       "[421 rows x 13 columns]"
      ],
      "text/html": "<div>\n<style scoped>\n    .dataframe tbody tr th:only-of-type {\n        vertical-align: middle;\n    }\n\n    .dataframe tbody tr th {\n        vertical-align: top;\n    }\n\n    .dataframe thead th {\n        text-align: right;\n    }\n</style>\n<table border=\"1\" class=\"dataframe\">\n  <thead>\n    <tr style=\"text-align: right;\">\n      <th></th>\n      <th>docket_no</th>\n      <th>action</th>\n      <th>resolution</th>\n      <th>hearing_year</th>\n      <th>hearing_month</th>\n      <th>hearing_day</th>\n      <th>counsel</th>\n      <th>rank_desc</th>\n      <th>last_name</th>\n      <th>first_name</th>\n      <th>middle_name</th>\n      <th>middle_initial</th>\n      <th>uid</th>\n    </tr>\n  </thead>\n  <tbody>\n    <tr>\n      <th>0</th>\n      <td>10-03</td>\n      <td>20-day suspension</td>\n      <td>Overturned by Board (01-19-2012)</td>\n      <td>2012</td>\n      <td>1</td>\n      <td>15</td>\n      <td></td>\n      <td></td>\n      <td>nacoste</td>\n      <td>otis</td>\n      <td></td>\n      <td></td>\n      <td>c0172a50191cccaf374a7391cbea298e</td>\n    </tr>\n    <tr>\n      <th>1</th>\n      <td>11-10</td>\n      <td>termination</td>\n      <td>Board approved Continuance to May 17, 2012 per...</td>\n      <td>2012</td>\n      <td>2</td>\n      <td>16</td>\n      <td></td>\n      <td></td>\n      <td>moore</td>\n      <td>alicia</td>\n      <td></td>\n      <td>m</td>\n      <td>69b8369b4b4750733b2785bbf54567de</td>\n    </tr>\n    <tr>\n      <th>2</th>\n      <td>11-11</td>\n      <td>15-day suspension</td>\n      <td>Rescheduled</td>\n      <td>2012</td>\n      <td>3</td>\n      <td>15</td>\n      <td></td>\n      <td></td>\n      <td>schilling</td>\n      <td>robert</td>\n      <td></td>\n      <td></td>\n      <td>8df55a0a8dc3fc3271efc68c0bbc60af</td>\n    </tr>\n    <tr>\n      <th>3</th>\n      <td>12-03</td>\n      <td>termination</td>\n      <td>Board upheld Chief White's decision to terminate</td>\n      <td>2012</td>\n      <td>4</td>\n      <td>19</td>\n      <td></td>\n      <td></td>\n      <td>hollis</td>\n      <td>pamela</td>\n      <td></td>\n      <td>b</td>\n      <td>8de3a1a8d7d7169b33753fce208443ac</td>\n    </tr>\n    <tr>\n      <th>4</th>\n      <td>11-10</td>\n      <td>termination</td>\n      <td>Appealed to 19th Judicial Court</td>\n      <td>2012</td>\n      <td>5</td>\n      <td>17</td>\n      <td></td>\n      <td></td>\n      <td>moore</td>\n      <td>alicia</td>\n      <td></td>\n      <td>m</td>\n      <td>69b8369b4b4750733b2785bbf54567de</td>\n    </tr>\n    <tr>\n      <th>...</th>\n      <td>...</td>\n      <td>...</td>\n      <td>...</td>\n      <td>...</td>\n      <td>...</td>\n      <td>...</td>\n      <td>...</td>\n      <td>...</td>\n      <td>...</td>\n      <td>...</td>\n      <td>...</td>\n      <td>...</td>\n      <td>...</td>\n    </tr>\n    <tr>\n      <th>416</th>\n      <td>07-05</td>\n      <td>1-day suspension</td>\n      <td>Board upheld</td>\n      <td>2007</td>\n      <td>10</td>\n      <td>18</td>\n      <td>dirks</td>\n      <td></td>\n      <td>landry iii</td>\n      <td>carroll</td>\n      <td></td>\n      <td>j</td>\n      <td>5181a5c2da43a8f9537da12efbdf1c31</td>\n    </tr>\n    <tr>\n      <th>417</th>\n      <td>07-06</td>\n      <td>termination</td>\n      <td>Stayed Criminal INVestigation</td>\n      <td>2007</td>\n      <td>12</td>\n      <td>16</td>\n      <td>dirks</td>\n      <td></td>\n      <td>davis</td>\n      <td>nathan</td>\n      <td></td>\n      <td></td>\n      <td>3a346b57aec3ad6d2e6d05c481ca4564</td>\n    </tr>\n    <tr>\n      <th>418</th>\n      <td>07-02</td>\n      <td>termination</td>\n      <td>Board Voted 4 - 1 to uphold Chief Smith</td>\n      <td>2007</td>\n      <td>12</td>\n      <td>15</td>\n      <td>tate</td>\n      <td></td>\n      <td>handy</td>\n      <td>todd</td>\n      <td></td>\n      <td></td>\n      <td>32f252a6c08bdcb641b2693add02fd1b</td>\n    </tr>\n    <tr>\n      <th>419</th>\n      <td>07-06</td>\n      <td>termination</td>\n      <td>NaN</td>\n      <td>2007</td>\n      <td>12</td>\n      <td>20</td>\n      <td></td>\n      <td></td>\n      <td>davis</td>\n      <td>nathan</td>\n      <td></td>\n      <td></td>\n      <td>3a346b57aec3ad6d2e6d05c481ca4564</td>\n    </tr>\n    <tr>\n      <th>420</th>\n      <td>07-07</td>\n      <td>termination</td>\n      <td>NaN</td>\n      <td>2008</td>\n      <td>1</td>\n      <td>1</td>\n      <td></td>\n      <td></td>\n      <td>nauman</td>\n      <td>james</td>\n      <td></td>\n      <td></td>\n      <td>b14d80e46ce694709511caada6daf6cd</td>\n    </tr>\n  </tbody>\n</table>\n<p>421 rows × 13 columns</p>\n</div>"
     },
     "metadata": {},
     "execution_count": 2
    }
   ],
   "source": [
    "df = clean()\n",
    "\n",
    "df"
   ]
  },
  {
   "cell_type": "code",
   "execution_count": 3,
   "metadata": {},
   "outputs": [
    {
     "output_type": "execute_result",
     "data": {
      "text/plain": [
       "    docket_no             action  \\\n",
       "0       10-03  20-day suspension   \n",
       "1       11-10        termination   \n",
       "2       11-11  15-day suspension   \n",
       "3       12-03        termination   \n",
       "4       11-10        termination   \n",
       "..        ...                ...   \n",
       "415     06-05   1-day suspension   \n",
       "417     07-06        termination   \n",
       "418     07-02        termination   \n",
       "419     07-06        termination   \n",
       "420     07-07        termination   \n",
       "\n",
       "                                            resolution hearing_year  \\\n",
       "0                     Overturned by Board (01-19-2012)         2012   \n",
       "1    Board approved Continuance to May 17, 2012 per...         2012   \n",
       "2                                          Rescheduled         2012   \n",
       "3     Board upheld Chief White's decision to terminate         2012   \n",
       "4                      Appealed to 19th Judicial Court         2012   \n",
       "..                                                 ...          ...   \n",
       "415              Board upheld Chief Le Duff's decision         2007   \n",
       "417                      Stayed Criminal INVestigation         2007   \n",
       "418            Board Voted 4 - 1 to uphold Chief Smith         2007   \n",
       "419                                                NaN         2007   \n",
       "420                                                NaN         2008   \n",
       "\n",
       "    hearing_month hearing_day counsel rank_desc  last_name first_name  \\\n",
       "0               1          15                      nacoste       otis   \n",
       "1               2          16                        moore     alicia   \n",
       "2               3          15                    schilling     robert   \n",
       "3               4          19                       hollis     pamela   \n",
       "4               5          17                        moore     alicia   \n",
       "..            ...         ...     ...       ...        ...        ...   \n",
       "415            10          18  falcon              batiste   nicholas   \n",
       "417            12          16   dirks                davis     nathan   \n",
       "418            12          15    tate                handy       todd   \n",
       "419            12          20                        davis     nathan   \n",
       "420             1           1                       nauman      james   \n",
       "\n",
       "    middle_name middle_initial                               uid  \n",
       "0                               c0172a50191cccaf374a7391cbea298e  \n",
       "1                            m  69b8369b4b4750733b2785bbf54567de  \n",
       "2                               8df55a0a8dc3fc3271efc68c0bbc60af  \n",
       "3                            b  8de3a1a8d7d7169b33753fce208443ac  \n",
       "4                            m  69b8369b4b4750733b2785bbf54567de  \n",
       "..          ...            ...                               ...  \n",
       "415                          k  a9cda2b8465a997ffcfba19fe836a8bb  \n",
       "417                             3a346b57aec3ad6d2e6d05c481ca4564  \n",
       "418                             32f252a6c08bdcb641b2693add02fd1b  \n",
       "419                             3a346b57aec3ad6d2e6d05c481ca4564  \n",
       "420                             b14d80e46ce694709511caada6daf6cd  \n",
       "\n",
       "[214 rows x 13 columns]"
      ],
      "text/html": "<div>\n<style scoped>\n    .dataframe tbody tr th:only-of-type {\n        vertical-align: middle;\n    }\n\n    .dataframe tbody tr th {\n        vertical-align: top;\n    }\n\n    .dataframe thead th {\n        text-align: right;\n    }\n</style>\n<table border=\"1\" class=\"dataframe\">\n  <thead>\n    <tr style=\"text-align: right;\">\n      <th></th>\n      <th>docket_no</th>\n      <th>action</th>\n      <th>resolution</th>\n      <th>hearing_year</th>\n      <th>hearing_month</th>\n      <th>hearing_day</th>\n      <th>counsel</th>\n      <th>rank_desc</th>\n      <th>last_name</th>\n      <th>first_name</th>\n      <th>middle_name</th>\n      <th>middle_initial</th>\n      <th>uid</th>\n    </tr>\n  </thead>\n  <tbody>\n    <tr>\n      <th>0</th>\n      <td>10-03</td>\n      <td>20-day suspension</td>\n      <td>Overturned by Board (01-19-2012)</td>\n      <td>2012</td>\n      <td>1</td>\n      <td>15</td>\n      <td></td>\n      <td></td>\n      <td>nacoste</td>\n      <td>otis</td>\n      <td></td>\n      <td></td>\n      <td>c0172a50191cccaf374a7391cbea298e</td>\n    </tr>\n    <tr>\n      <th>1</th>\n      <td>11-10</td>\n      <td>termination</td>\n      <td>Board approved Continuance to May 17, 2012 per...</td>\n      <td>2012</td>\n      <td>2</td>\n      <td>16</td>\n      <td></td>\n      <td></td>\n      <td>moore</td>\n      <td>alicia</td>\n      <td></td>\n      <td>m</td>\n      <td>69b8369b4b4750733b2785bbf54567de</td>\n    </tr>\n    <tr>\n      <th>2</th>\n      <td>11-11</td>\n      <td>15-day suspension</td>\n      <td>Rescheduled</td>\n      <td>2012</td>\n      <td>3</td>\n      <td>15</td>\n      <td></td>\n      <td></td>\n      <td>schilling</td>\n      <td>robert</td>\n      <td></td>\n      <td></td>\n      <td>8df55a0a8dc3fc3271efc68c0bbc60af</td>\n    </tr>\n    <tr>\n      <th>3</th>\n      <td>12-03</td>\n      <td>termination</td>\n      <td>Board upheld Chief White's decision to terminate</td>\n      <td>2012</td>\n      <td>4</td>\n      <td>19</td>\n      <td></td>\n      <td></td>\n      <td>hollis</td>\n      <td>pamela</td>\n      <td></td>\n      <td>b</td>\n      <td>8de3a1a8d7d7169b33753fce208443ac</td>\n    </tr>\n    <tr>\n      <th>4</th>\n      <td>11-10</td>\n      <td>termination</td>\n      <td>Appealed to 19th Judicial Court</td>\n      <td>2012</td>\n      <td>5</td>\n      <td>17</td>\n      <td></td>\n      <td></td>\n      <td>moore</td>\n      <td>alicia</td>\n      <td></td>\n      <td>m</td>\n      <td>69b8369b4b4750733b2785bbf54567de</td>\n    </tr>\n    <tr>\n      <th>...</th>\n      <td>...</td>\n      <td>...</td>\n      <td>...</td>\n      <td>...</td>\n      <td>...</td>\n      <td>...</td>\n      <td>...</td>\n      <td>...</td>\n      <td>...</td>\n      <td>...</td>\n      <td>...</td>\n      <td>...</td>\n      <td>...</td>\n    </tr>\n    <tr>\n      <th>415</th>\n      <td>06-05</td>\n      <td>1-day suspension</td>\n      <td>Board upheld Chief Le Duff's decision</td>\n      <td>2007</td>\n      <td>10</td>\n      <td>18</td>\n      <td>falcon</td>\n      <td></td>\n      <td>batiste</td>\n      <td>nicholas</td>\n      <td></td>\n      <td>k</td>\n      <td>a9cda2b8465a997ffcfba19fe836a8bb</td>\n    </tr>\n    <tr>\n      <th>417</th>\n      <td>07-06</td>\n      <td>termination</td>\n      <td>Stayed Criminal INVestigation</td>\n      <td>2007</td>\n      <td>12</td>\n      <td>16</td>\n      <td>dirks</td>\n      <td></td>\n      <td>davis</td>\n      <td>nathan</td>\n      <td></td>\n      <td></td>\n      <td>3a346b57aec3ad6d2e6d05c481ca4564</td>\n    </tr>\n    <tr>\n      <th>418</th>\n      <td>07-02</td>\n      <td>termination</td>\n      <td>Board Voted 4 - 1 to uphold Chief Smith</td>\n      <td>2007</td>\n      <td>12</td>\n      <td>15</td>\n      <td>tate</td>\n      <td></td>\n      <td>handy</td>\n      <td>todd</td>\n      <td></td>\n      <td></td>\n      <td>32f252a6c08bdcb641b2693add02fd1b</td>\n    </tr>\n    <tr>\n      <th>419</th>\n      <td>07-06</td>\n      <td>termination</td>\n      <td>NaN</td>\n      <td>2007</td>\n      <td>12</td>\n      <td>20</td>\n      <td></td>\n      <td></td>\n      <td>davis</td>\n      <td>nathan</td>\n      <td></td>\n      <td></td>\n      <td>3a346b57aec3ad6d2e6d05c481ca4564</td>\n    </tr>\n    <tr>\n      <th>420</th>\n      <td>07-07</td>\n      <td>termination</td>\n      <td>NaN</td>\n      <td>2008</td>\n      <td>1</td>\n      <td>1</td>\n      <td></td>\n      <td></td>\n      <td>nauman</td>\n      <td>james</td>\n      <td></td>\n      <td></td>\n      <td>b14d80e46ce694709511caada6daf6cd</td>\n    </tr>\n  </tbody>\n</table>\n<p>214 rows × 13 columns</p>\n</div>"
     },
     "metadata": {},
     "execution_count": 3
    }
   ],
   "source": [
    "df[df.docket_no.duplicated(keep=False)]"
   ]
  },
  {
   "cell_type": "code",
   "execution_count": null,
   "metadata": {},
   "outputs": [],
   "source": []
  }
 ]
}
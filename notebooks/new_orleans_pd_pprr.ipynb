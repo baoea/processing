{
 "cells": [
  {
   "cell_type": "code",
   "execution_count": 1,
   "metadata": {},
   "outputs": [],
   "source": [
    "import sys; sys.path.append(\"../\")\n",
    "\n",
    "import pandas as pd\n",
    "\n",
    "from lib.explore import show_unique\n",
    "from clean.new_orleans_pd import clean"
   ]
  },
  {
   "cell_type": "code",
   "execution_count": 2,
   "metadata": {
    "tags": []
   },
   "outputs": [
    {
     "output_type": "execute_result",
     "data": {
      "text/plain": [
       "      employee_id birth_year  department_code rank_code  \\\n",
       "0             569       1963          2702736     C7134   \n",
       "1            1369       1969          2702734     C7110   \n",
       "2            1391       1978          2702734     C7134   \n",
       "3            1599       1975          2702750     C7134   \n",
       "4            2507       1969          2702705     U0018   \n",
       "...           ...        ...              ...       ...   \n",
       "1597        10445       1971          2702731     C7110   \n",
       "1598        10446       1974          2702731     C7110   \n",
       "1599        10898       1952          2702736     C7134   \n",
       "1600        11432       1973          2702780     C7110   \n",
       "1601        13861       1957          2702737     C7133   \n",
       "\n",
       "                     rank_desc badge_no   last_name   first_name  \\\n",
       "0        Senior Police Officer    00911      conway      corliss   \n",
       "1               Police Officer    01226    kendrick        jamal   \n",
       "2        Senior Police Officer    02101    marshall       tianay   \n",
       "3        Senior Police Officer    01580       weber       tamara   \n",
       "4     Assistant Supt Of Police               pierce      arlinda   \n",
       "...                        ...      ...         ...          ...   \n",
       "1597            Police Officer               gagnon         chad   \n",
       "1598            Police Officer               martin  christopher   \n",
       "1599     Senior Police Officer               talley        david   \n",
       "1600            Police Officer                  gex       nathan   \n",
       "1601          Police Officer 3           guggenheim         gary   \n",
       "\n",
       "     middle_initial data_production_year          agency  \\\n",
       "0                 d                 2019  New Orleans PD   \n",
       "1                 d                 2019  New Orleans PD   \n",
       "2                 m                 2019  New Orleans PD   \n",
       "3                 l                 2019  New Orleans PD   \n",
       "4                 g                 2019  New Orleans PD   \n",
       "...             ...                  ...             ...   \n",
       "1597              c                 1999  New Orleans PD   \n",
       "1598              d                 1999  New Orleans PD   \n",
       "1599                                1999  New Orleans PD   \n",
       "1600                                1999  New Orleans PD   \n",
       "1601                                1999  New Orleans PD   \n",
       "\n",
       "                                   uid middle_name department_desc hire_date  \n",
       "0     8b16ebc056e613024c057be590b542eb         NaN             NaN       NaT  \n",
       "1     0e3a37aa85a14e359df74fa77eded3f6         NaN             NaN       NaT  \n",
       "2     7f53f8c6c730af6aeb52e66eb74d8507         NaN             NaN       NaT  \n",
       "3     83e8ef518174e1eb6be4a0778d050c9d         NaN             NaN       NaT  \n",
       "4     83691715fdc5baf20ed0742b0b85785b         NaN             NaN       NaT  \n",
       "...                                ...         ...             ...       ...  \n",
       "1597  35c5ce55d4c6015406e3f53558e5bed2         NaN             NaN       NaT  \n",
       "1598  0d5501edb21a59a43435efa67f200828         NaN             NaN       NaT  \n",
       "1599  3bbca1d243b01b47c2bf42b29a8b265c         NaN             NaN       NaT  \n",
       "1600  57335eb19f0669886d99414968f976c3         NaN             NaN       NaT  \n",
       "1601  320274ee8b7f2e8a82d37d07f64c0e0b         NaN             NaN       NaT  \n",
       "\n",
       "[28315 rows x 15 columns]"
      ],
      "text/html": "<div>\n<style scoped>\n    .dataframe tbody tr th:only-of-type {\n        vertical-align: middle;\n    }\n\n    .dataframe tbody tr th {\n        vertical-align: top;\n    }\n\n    .dataframe thead th {\n        text-align: right;\n    }\n</style>\n<table border=\"1\" class=\"dataframe\">\n  <thead>\n    <tr style=\"text-align: right;\">\n      <th></th>\n      <th>employee_id</th>\n      <th>birth_year</th>\n      <th>department_code</th>\n      <th>rank_code</th>\n      <th>rank_desc</th>\n      <th>badge_no</th>\n      <th>last_name</th>\n      <th>first_name</th>\n      <th>middle_initial</th>\n      <th>data_production_year</th>\n      <th>agency</th>\n      <th>uid</th>\n      <th>middle_name</th>\n      <th>department_desc</th>\n      <th>hire_date</th>\n    </tr>\n  </thead>\n  <tbody>\n    <tr>\n      <th>0</th>\n      <td>569</td>\n      <td>1963</td>\n      <td>2702736</td>\n      <td>C7134</td>\n      <td>Senior Police Officer</td>\n      <td>00911</td>\n      <td>conway</td>\n      <td>corliss</td>\n      <td>d</td>\n      <td>2019</td>\n      <td>New Orleans PD</td>\n      <td>8b16ebc056e613024c057be590b542eb</td>\n      <td>NaN</td>\n      <td>NaN</td>\n      <td>NaT</td>\n    </tr>\n    <tr>\n      <th>1</th>\n      <td>1369</td>\n      <td>1969</td>\n      <td>2702734</td>\n      <td>C7110</td>\n      <td>Police Officer</td>\n      <td>01226</td>\n      <td>kendrick</td>\n      <td>jamal</td>\n      <td>d</td>\n      <td>2019</td>\n      <td>New Orleans PD</td>\n      <td>0e3a37aa85a14e359df74fa77eded3f6</td>\n      <td>NaN</td>\n      <td>NaN</td>\n      <td>NaT</td>\n    </tr>\n    <tr>\n      <th>2</th>\n      <td>1391</td>\n      <td>1978</td>\n      <td>2702734</td>\n      <td>C7134</td>\n      <td>Senior Police Officer</td>\n      <td>02101</td>\n      <td>marshall</td>\n      <td>tianay</td>\n      <td>m</td>\n      <td>2019</td>\n      <td>New Orleans PD</td>\n      <td>7f53f8c6c730af6aeb52e66eb74d8507</td>\n      <td>NaN</td>\n      <td>NaN</td>\n      <td>NaT</td>\n    </tr>\n    <tr>\n      <th>3</th>\n      <td>1599</td>\n      <td>1975</td>\n      <td>2702750</td>\n      <td>C7134</td>\n      <td>Senior Police Officer</td>\n      <td>01580</td>\n      <td>weber</td>\n      <td>tamara</td>\n      <td>l</td>\n      <td>2019</td>\n      <td>New Orleans PD</td>\n      <td>83e8ef518174e1eb6be4a0778d050c9d</td>\n      <td>NaN</td>\n      <td>NaN</td>\n      <td>NaT</td>\n    </tr>\n    <tr>\n      <th>4</th>\n      <td>2507</td>\n      <td>1969</td>\n      <td>2702705</td>\n      <td>U0018</td>\n      <td>Assistant Supt Of Police</td>\n      <td></td>\n      <td>pierce</td>\n      <td>arlinda</td>\n      <td>g</td>\n      <td>2019</td>\n      <td>New Orleans PD</td>\n      <td>83691715fdc5baf20ed0742b0b85785b</td>\n      <td>NaN</td>\n      <td>NaN</td>\n      <td>NaT</td>\n    </tr>\n    <tr>\n      <th>...</th>\n      <td>...</td>\n      <td>...</td>\n      <td>...</td>\n      <td>...</td>\n      <td>...</td>\n      <td>...</td>\n      <td>...</td>\n      <td>...</td>\n      <td>...</td>\n      <td>...</td>\n      <td>...</td>\n      <td>...</td>\n      <td>...</td>\n      <td>...</td>\n      <td>...</td>\n    </tr>\n    <tr>\n      <th>1597</th>\n      <td>10445</td>\n      <td>1971</td>\n      <td>2702731</td>\n      <td>C7110</td>\n      <td>Police Officer</td>\n      <td></td>\n      <td>gagnon</td>\n      <td>chad</td>\n      <td>c</td>\n      <td>1999</td>\n      <td>New Orleans PD</td>\n      <td>35c5ce55d4c6015406e3f53558e5bed2</td>\n      <td>NaN</td>\n      <td>NaN</td>\n      <td>NaT</td>\n    </tr>\n    <tr>\n      <th>1598</th>\n      <td>10446</td>\n      <td>1974</td>\n      <td>2702731</td>\n      <td>C7110</td>\n      <td>Police Officer</td>\n      <td></td>\n      <td>martin</td>\n      <td>christopher</td>\n      <td>d</td>\n      <td>1999</td>\n      <td>New Orleans PD</td>\n      <td>0d5501edb21a59a43435efa67f200828</td>\n      <td>NaN</td>\n      <td>NaN</td>\n      <td>NaT</td>\n    </tr>\n    <tr>\n      <th>1599</th>\n      <td>10898</td>\n      <td>1952</td>\n      <td>2702736</td>\n      <td>C7134</td>\n      <td>Senior Police Officer</td>\n      <td></td>\n      <td>talley</td>\n      <td>david</td>\n      <td></td>\n      <td>1999</td>\n      <td>New Orleans PD</td>\n      <td>3bbca1d243b01b47c2bf42b29a8b265c</td>\n      <td>NaN</td>\n      <td>NaN</td>\n      <td>NaT</td>\n    </tr>\n    <tr>\n      <th>1600</th>\n      <td>11432</td>\n      <td>1973</td>\n      <td>2702780</td>\n      <td>C7110</td>\n      <td>Police Officer</td>\n      <td></td>\n      <td>gex</td>\n      <td>nathan</td>\n      <td></td>\n      <td>1999</td>\n      <td>New Orleans PD</td>\n      <td>57335eb19f0669886d99414968f976c3</td>\n      <td>NaN</td>\n      <td>NaN</td>\n      <td>NaT</td>\n    </tr>\n    <tr>\n      <th>1601</th>\n      <td>13861</td>\n      <td>1957</td>\n      <td>2702737</td>\n      <td>C7133</td>\n      <td>Police Officer 3</td>\n      <td></td>\n      <td>guggenheim</td>\n      <td>gary</td>\n      <td></td>\n      <td>1999</td>\n      <td>New Orleans PD</td>\n      <td>320274ee8b7f2e8a82d37d07f64c0e0b</td>\n      <td>NaN</td>\n      <td>NaN</td>\n      <td>NaT</td>\n    </tr>\n  </tbody>\n</table>\n<p>28315 rows × 15 columns</p>\n</div>"
     },
     "metadata": {},
     "execution_count": 2
    }
   ],
   "source": [
    "df = clean()\n",
    "df"
   ]
  },
  {
   "cell_type": "code",
   "execution_count": 5,
   "metadata": {},
   "outputs": [
    {
     "output_type": "stream",
     "name": "stdout",
     "text": [
      "28315 rows\nemployee_id (int64):\n    unique: 3098\nbirth_year (object):\n    unique: 66\n        ['1963' '1969' '1978' '1975' '1976' '1965' '1971' '1979' '1967' '1964'\n '1966' '1961' '1959' '1953' '1973' '1957' '1962' '1974' '1968' '1955'\n '1960' '1972' '1977' '1958' '1970' '1950' '1949' '1932' '1941' '1947'\n '1956' '1951' '1983' '1980' '1982' '1981' '1985' '1984' '1989' '1986'\n '1987' '1988' '1992' '1993' '1990' '1991' '1994' '1995' '1996' '1997'\n '1998' nan '1946' '1954' '1925' '1952' '1944' '1945' '1948' '1933' '1943'\n '1867' '1942' '1940' '1938' '1927']\ndepartment_code (int64):\n    unique: 33\n        [2702736 2702734 2702750 2702705 2702760 2702732 2702735 2702780 2702731\n 2702702 2702738 2702733 2702740 2702737 2702739 2702720 2702769 2702791\n 2702711 2702782 2702718 2702746 2702747 2702784 2702795 2702779 2702749\n 2702758 2702759 2702787 2702799 2702751 2702764]\nrank_code (object):\n    unique: 13\n        ['C7134' 'C7110' 'U0018' 'C7111' 'C7112' 'C7113' 'U0138' 'C7122' 'C7109'\n 'C7132' 'C7133' 'C7115' 'U7114']\nrank_desc (object):\n    unique: 13\n        ['Senior Police Officer' 'Police Officer' 'Assistant Supt Of Police'\n 'Police Sergeant' 'Police Lieutenant' 'Police Captain'\n 'Superintendent Of Police' 'Police Major' 'Police Recruit'\n 'Police Officer 2' 'Police Officer 3' 'Deputy Supt Of Police-Fisc&Per'\n 'Police Commander']\nbadge_no (object):\n    unique: 1505\nlast_name (object):\n    unique: 2030\nfirst_name (object):\n    unique: 1106\nmiddle_initial (object):\n    unique: 27\n        ['d' 'm' 'l' 'g' 'p' 'o' 'e' 'a' 'r' '' 'f' 'j' 'h' 'w' 'n' 'c' 'b' 's'\n 't' 'v' 'k' 'q' 'i' 'x' 'z' 'u' 'of']\ndata_production_year (object):\n    unique: 21\n        ['2019' '2018' '2008' '2009' '2010' '2004' '2005' '2011' '2007' '2013'\n '2012' '2006' '2002' '2016' '2017' '2003' '2015' '2001' '2000' '2014'\n '1999']\nagency (object):\n    unique: 1\n        ['New Orleans PD']\nuid (object):\n    unique: 3098\nmiddle_name (object):\n    unique: 19\n        [nan '' 'roland' 'monique' 'ann' 'smothers' 'booth' 'anne' 'brian'\n 'norbert' 'samuel' 'taylor' 'bernita' 'michelle' 'nahdege' 'tanika'\n 'trashalle' 'tobias' 'patrick']\ndepartment_desc (object):\n    unique: 22\n        [nan 'POL POLICE RECRUITS' 'POL FISCAL MANAGEMENT' 'POL SEVENTH DISTRICT'\n 'POL FIFTH  DISTRICT' 'POL SECOND DISTRICT' 'POL THIRD  DISTRICT'\n 'POL EIGHTH DISTRICT' 'POL SIXTH  DISTRICT' 'POL FIRST DISTRICT'\n 'POL FOURTH DISTRICT' 'POL FIELD OPERATIONS' 'POL PUBLIC INTEGRITY'\n 'POL MANAGEMNT SERVICES BUREAU' 'POL SPECIAL INVESTIGATION DIV'\n 'POL SPECIAL OPERATIONS' 'POL INVESTIGATIONS & SPRT BURE' 'POL TRAFFIC'\n 'POL OFF OF THE SUPERINTENDENT' 'POL MID CITY'\n 'POL LAKEVIEW CRIME PREVENT DST' 'POL PUBLIC AFFAIRS']\nhire_date (datetime64[ns]):\n    unique: 578\n"
     ]
    }
   ],
   "source": [
    "show_unique(df)"
   ]
  },
  {
   "cell_type": "code",
   "execution_count": 3,
   "metadata": {},
   "outputs": [],
   "source": [
    "df.to_csv(\"../data/clean/pprr_new_orleans_pd.csv\", index=False)"
   ]
  },
  {
   "cell_type": "code",
   "execution_count": 11,
   "metadata": {},
   "outputs": [],
   "source": [
    "for k, df in dfs.items():\n",
    "    assert len(df) == len(df.employee_id.unique())"
   ]
  },
  {
   "cell_type": "code",
   "execution_count": 5,
   "metadata": {},
   "outputs": [
    {
     "output_type": "error",
     "ename": "NameError",
     "evalue": "name 'input_dfs' is not defined",
     "traceback": [
      "\u001b[0;31m---------------------------------------------------------------------------\u001b[0m",
      "\u001b[0;31mNameError\u001b[0m                                 Traceback (most recent call last)",
      "\u001b[0;32m<ipython-input-5-4122a7793775>\u001b[0m in \u001b[0;36m<module>\u001b[0;34m\u001b[0m\n\u001b[0;32m----> 1\u001b[0;31m \u001b[0mdf\u001b[0m \u001b[0;34m=\u001b[0m \u001b[0minput_dfs\u001b[0m\u001b[0;34m[\u001b[0m\u001b[0;34m'new_orleans_pd_pprr_2018.csv'\u001b[0m\u001b[0;34m]\u001b[0m\u001b[0;34m[\u001b[0m\u001b[0;34m[\u001b[0m\u001b[0;34m\"home_orgn\"\u001b[0m\u001b[0;34m,\u001b[0m \u001b[0;34m\"orgn_desc\"\u001b[0m\u001b[0;34m]\u001b[0m\u001b[0;34m]\u001b[0m\u001b[0;34m.\u001b[0m\u001b[0mdrop_duplicates\u001b[0m\u001b[0;34m(\u001b[0m\u001b[0;34m)\u001b[0m\u001b[0;31m\\\u001b[0m\u001b[0;34m\u001b[0m\u001b[0;34m\u001b[0m\u001b[0m\n\u001b[0m\u001b[1;32m      2\u001b[0m     \u001b[0;34m.\u001b[0m\u001b[0msort_values\u001b[0m\u001b[0;34m(\u001b[0m\u001b[0;34m\"home_orgn\"\u001b[0m\u001b[0;34m)\u001b[0m\u001b[0;34m.\u001b[0m\u001b[0mreset_index\u001b[0m\u001b[0;34m(\u001b[0m\u001b[0mdrop\u001b[0m\u001b[0;34m=\u001b[0m\u001b[0;32mTrue\u001b[0m\u001b[0;34m)\u001b[0m\u001b[0;34m\u001b[0m\u001b[0;34m\u001b[0m\u001b[0m\n\u001b[1;32m      3\u001b[0m \u001b[0mdf\u001b[0m\u001b[0;34m.\u001b[0m\u001b[0mcolumns\u001b[0m \u001b[0;34m=\u001b[0m \u001b[0;34m[\u001b[0m\u001b[0;34m\"department_code\"\u001b[0m\u001b[0;34m,\u001b[0m \u001b[0;34m\"department_desc\"\u001b[0m\u001b[0;34m]\u001b[0m\u001b[0;34m\u001b[0m\u001b[0;34m\u001b[0m\u001b[0m\n\u001b[1;32m      4\u001b[0m \u001b[0mdf\u001b[0m\u001b[0;34m.\u001b[0m\u001b[0miloc\u001b[0m\u001b[0;34m[\u001b[0m\u001b[0;34m:\u001b[0m\u001b[0;34m,\u001b[0m \u001b[0;36m0\u001b[0m\u001b[0;34m]\u001b[0m \u001b[0;34m=\u001b[0m \u001b[0mdf\u001b[0m\u001b[0;34m.\u001b[0m\u001b[0miloc\u001b[0m\u001b[0;34m[\u001b[0m\u001b[0;34m:\u001b[0m\u001b[0;34m,\u001b[0m \u001b[0;36m0\u001b[0m\u001b[0;34m]\u001b[0m\u001b[0;34m.\u001b[0m\u001b[0mastype\u001b[0m\u001b[0;34m(\u001b[0m\u001b[0;34m\"str\"\u001b[0m\u001b[0;34m)\u001b[0m\u001b[0;34m.\u001b[0m\u001b[0mmap\u001b[0m\u001b[0;34m(\u001b[0m\u001b[0;32mlambda\u001b[0m \u001b[0mx\u001b[0m\u001b[0;34m:\u001b[0m \u001b[0;34m\"%s027%s\"\u001b[0m \u001b[0;34m%\u001b[0m \u001b[0;34m(\u001b[0m\u001b[0mx\u001b[0m\u001b[0;34m[\u001b[0m\u001b[0;34m:\u001b[0m\u001b[0;36m2\u001b[0m\u001b[0;34m]\u001b[0m\u001b[0;34m,\u001b[0m \u001b[0mx\u001b[0m\u001b[0;34m[\u001b[0m\u001b[0;36m2\u001b[0m\u001b[0;34m:\u001b[0m\u001b[0;34m]\u001b[0m\u001b[0;34m)\u001b[0m\u001b[0;34m)\u001b[0m\u001b[0;34m\u001b[0m\u001b[0;34m\u001b[0m\u001b[0m\n\u001b[1;32m      5\u001b[0m \u001b[0mdf\u001b[0m\u001b[0;34m\u001b[0m\u001b[0;34m\u001b[0m\u001b[0m\n",
      "\u001b[0;31mNameError\u001b[0m: name 'input_dfs' is not defined"
     ]
    }
   ],
   "source": [
    "df = input_dfs['new_orleans_pd_pprr_2018.csv'][[\"home_orgn\", \"orgn_desc\"]].drop_duplicates()\\\n",
    "    .sort_values(\"home_orgn\").reset_index(drop=True)\n",
    "df.columns = [\"department_code\", \"department_desc\"]\n",
    "df.iloc[:, 0] = df.iloc[:, 0].astype(\"str\").map(lambda x: \"%s027%s\" % (x[:2], x[2:]))\n",
    "df"
   ]
  },
  {
   "cell_type": "code",
   "execution_count": 8,
   "metadata": {},
   "outputs": [
    {
     "output_type": "execute_result",
     "data": {
      "text/plain": [
       "    department_code                                    department_desc\n",
       "0           2702702                             Superintendent Office \n",
       "1           2702705                                                PIB\n",
       "2           2702720                           Compliance Bureau Staff \n",
       "3           2702731                                      1st District \n",
       "4           2702732                                      2nd District \n",
       "5           2702733                                      3rd District \n",
       "6           2702734                                      4th District \n",
       "7           2702735                                      5th District \n",
       "8           2702736                                      6th District \n",
       "9           2702737                                      7th District \n",
       "10          2702738                                8th District/Mount \n",
       "11          2702739                         Gun Hotline/SOD/Mount/K-9 \n",
       "12          2702740  False Alarm Reduction/MSB/Communications/NCIC/...\n",
       "13          2702746                                    SCID/Crime Lab \n",
       "14          2702750                                            A.D.D. \n",
       "15          2702751                                          LHSC/SOD \n",
       "16          2702760          CID Juvenile/Sex Crimes/ISB/CID Homicide \n",
       "17          2702779                     Citywide Quality of Life Team \n",
       "18          2702780                     FOB/Lakeview Crime Prevention \n",
       "19          2702784                                 RTA Police Transit\n",
       "20          2702791                        Mid City Security District \n",
       "21          2702795                         FOB Electronic Monitoring "
      ],
      "text/html": "<div>\n<style scoped>\n    .dataframe tbody tr th:only-of-type {\n        vertical-align: middle;\n    }\n\n    .dataframe tbody tr th {\n        vertical-align: top;\n    }\n\n    .dataframe thead th {\n        text-align: right;\n    }\n</style>\n<table border=\"1\" class=\"dataframe\">\n  <thead>\n    <tr style=\"text-align: right;\">\n      <th></th>\n      <th>department_code</th>\n      <th>department_desc</th>\n    </tr>\n  </thead>\n  <tbody>\n    <tr>\n      <th>0</th>\n      <td>2702702</td>\n      <td>Superintendent Office</td>\n    </tr>\n    <tr>\n      <th>1</th>\n      <td>2702705</td>\n      <td>PIB</td>\n    </tr>\n    <tr>\n      <th>2</th>\n      <td>2702720</td>\n      <td>Compliance Bureau Staff</td>\n    </tr>\n    <tr>\n      <th>3</th>\n      <td>2702731</td>\n      <td>1st District</td>\n    </tr>\n    <tr>\n      <th>4</th>\n      <td>2702732</td>\n      <td>2nd District</td>\n    </tr>\n    <tr>\n      <th>5</th>\n      <td>2702733</td>\n      <td>3rd District</td>\n    </tr>\n    <tr>\n      <th>6</th>\n      <td>2702734</td>\n      <td>4th District</td>\n    </tr>\n    <tr>\n      <th>7</th>\n      <td>2702735</td>\n      <td>5th District</td>\n    </tr>\n    <tr>\n      <th>8</th>\n      <td>2702736</td>\n      <td>6th District</td>\n    </tr>\n    <tr>\n      <th>9</th>\n      <td>2702737</td>\n      <td>7th District</td>\n    </tr>\n    <tr>\n      <th>10</th>\n      <td>2702738</td>\n      <td>8th District/Mount</td>\n    </tr>\n    <tr>\n      <th>11</th>\n      <td>2702739</td>\n      <td>Gun Hotline/SOD/Mount/K-9</td>\n    </tr>\n    <tr>\n      <th>12</th>\n      <td>2702740</td>\n      <td>False Alarm Reduction/MSB/Communications/NCIC/...</td>\n    </tr>\n    <tr>\n      <th>13</th>\n      <td>2702746</td>\n      <td>SCID/Crime Lab</td>\n    </tr>\n    <tr>\n      <th>14</th>\n      <td>2702750</td>\n      <td>A.D.D.</td>\n    </tr>\n    <tr>\n      <th>15</th>\n      <td>2702751</td>\n      <td>LHSC/SOD</td>\n    </tr>\n    <tr>\n      <th>16</th>\n      <td>2702760</td>\n      <td>CID Juvenile/Sex Crimes/ISB/CID Homicide</td>\n    </tr>\n    <tr>\n      <th>17</th>\n      <td>2702779</td>\n      <td>Citywide Quality of Life Team</td>\n    </tr>\n    <tr>\n      <th>18</th>\n      <td>2702780</td>\n      <td>FOB/Lakeview Crime Prevention</td>\n    </tr>\n    <tr>\n      <th>19</th>\n      <td>2702784</td>\n      <td>RTA Police Transit</td>\n    </tr>\n    <tr>\n      <th>20</th>\n      <td>2702791</td>\n      <td>Mid City Security District</td>\n    </tr>\n    <tr>\n      <th>21</th>\n      <td>2702795</td>\n      <td>FOB Electronic Monitoring</td>\n    </tr>\n  </tbody>\n</table>\n</div>"
     },
     "metadata": {},
     "execution_count": 8
    }
   ],
   "source": [
    "dept_df = pd.read_csv(\"../data/new_orleans_pd/department_id_description_list.csv\")\n",
    "dept_df.columns = [\"department_code\", \"department_desc\"]\n",
    "dept_df.sort_values(\"department_code\").reset_index(drop=True)\n",
    "# so much conflicts with the above table"
   ]
  },
  {
   "cell_type": "code",
   "execution_count": null,
   "metadata": {},
   "outputs": [],
   "source": []
  }
 ],
 "metadata": {
  "kernelspec": {
   "display_name": "Python 3",
   "language": "python",
   "name": "python3"
  },
  "language_info": {
   "codemirror_mode": {
    "name": "ipython",
    "version": 3
   },
   "file_extension": ".py",
   "mimetype": "text/x-python",
   "name": "python",
   "nbconvert_exporter": "python",
   "pygments_lexer": "ipython3",
   "version": "3.8.3-final"
  }
 },
 "nbformat": 4,
 "nbformat_minor": 4
}
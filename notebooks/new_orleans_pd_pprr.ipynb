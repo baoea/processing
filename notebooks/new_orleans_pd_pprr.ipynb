{
 "cells": [
  {
   "cell_type": "code",
   "execution_count": 1,
   "metadata": {},
   "outputs": [],
   "source": [
    "import sys; sys.path.append(\"../\")\n",
    "\n",
    "from clean.new_orleans_pd import read_csv_files"
   ]
  },
  {
   "cell_type": "code",
   "execution_count": 4,
   "metadata": {},
   "outputs": [
    {
     "output_type": "execute_result",
     "data": {
      "text/plain": [
       "['new_orleans_pd_pprr_1999.csv',\n",
       " 'new_orleans_pd_pprr_2000.csv',\n",
       " 'new_orleans_pd_pprr_2001.csv',\n",
       " 'new_orleans_pd_pprr_2002.csv',\n",
       " 'new_orleans_pd_pprr_2003.csv',\n",
       " 'new_orleans_pd_pprr_2004.csv',\n",
       " 'new_orleans_pd_pprr_2005.csv',\n",
       " 'new_orleans_pd_pprr_2006.csv',\n",
       " 'new_orleans_pd_pprr_2007.csv',\n",
       " 'new_orleans_pd_pprr_2008.csv',\n",
       " 'new_orleans_pd_pprr_2009.csv',\n",
       " 'new_orleans_pd_pprr_2010.csv',\n",
       " 'new_orleans_pd_pprr_2011.csv',\n",
       " 'new_orleans_pd_pprr_2012.csv',\n",
       " 'new_orleans_pd_pprr_2013.csv',\n",
       " 'new_orleans_pd_pprr_2014.csv',\n",
       " 'new_orleans_pd_pprr_2015.csv',\n",
       " 'new_orleans_pd_pprr_2016.csv',\n",
       " 'new_orleans_pd_pprr_2017.csv',\n",
       " 'new_orleans_pd_pprr_2018.csv',\n",
       " 'new_orleans_pd_pprr_2019.csv']"
      ]
     },
     "metadata": {},
     "execution_count": 4
    }
   ],
   "source": [
    "input_dfs = read_csv_files()\n",
    "input_keys = list(input_dfs.keys())\n",
    "input_keys.sort()\n",
    "input_keys"
   ]
  },
  {
   "cell_type": "code",
   "execution_count": 5,
   "metadata": {},
   "outputs": [
    {
     "output_type": "execute_result",
     "data": {
      "text/plain": [
       "     pay_group_job_dta  empl_id   name_personal_dta  birthdate_personal_dta  \\\n",
       "0                  POL      569    Conway,Corliss D                    1963   \n",
       "1                  POL     1369    Kendrick,Jamal D                    1969   \n",
       "2                  POL     1391   Marshall,Tianay M                    1978   \n",
       "3                  POL     1599      Weber,Tamara L                    1975   \n",
       "4                  POL     2507    Pierce,Arlinda G                    1969   \n",
       "...                ...      ...                 ...                     ...   \n",
       "1172               POL    31419    Miller,Patrick M                    1991   \n",
       "1173               POL    31426   Collins,Cleveland                    1995   \n",
       "1174               POL    31429  Broussard,Dennis E                    1993   \n",
       "1175               POL    31431    Condoll,Tyneisha                    1994   \n",
       "1176               POL    31634     Venables,Lynn V                    1953   \n",
       "\n",
       "      department_id_job_dta job_code_job_dta description_job_code_info  \\\n",
       "0                   2702736            C7134     SENIOR POLICE OFFICER   \n",
       "1                   2702734            C7110            POLICE OFFICER   \n",
       "2                   2702734            C7134     SENIOR POLICE OFFICER   \n",
       "3                   2702750            C7134     SENIOR POLICE OFFICER   \n",
       "4                   2702705            U0018  ASSISTANT SUPT OF POLICE   \n",
       "...                     ...              ...                       ...   \n",
       "1172                2702733            C7110            POLICE OFFICER   \n",
       "1173                2702732            C7110            POLICE OFFICER   \n",
       "1174                2702737            C7110            POLICE OFFICER   \n",
       "1175                2702737            C7110            POLICE OFFICER   \n",
       "1176                2702718            C7110            POLICE OFFICER   \n",
       "\n",
       "     badge_nbr  \n",
       "0        00911  \n",
       "1        01226  \n",
       "2        02101  \n",
       "3        01580  \n",
       "4               \n",
       "...        ...  \n",
       "1172            \n",
       "1173            \n",
       "1174            \n",
       "1175            \n",
       "1176            \n",
       "\n",
       "[1177 rows x 8 columns]"
      ],
      "text/html": "<div>\n<style scoped>\n    .dataframe tbody tr th:only-of-type {\n        vertical-align: middle;\n    }\n\n    .dataframe tbody tr th {\n        vertical-align: top;\n    }\n\n    .dataframe thead th {\n        text-align: right;\n    }\n</style>\n<table border=\"1\" class=\"dataframe\">\n  <thead>\n    <tr style=\"text-align: right;\">\n      <th></th>\n      <th>pay_group_job_dta</th>\n      <th>empl_id</th>\n      <th>name_personal_dta</th>\n      <th>birthdate_personal_dta</th>\n      <th>department_id_job_dta</th>\n      <th>job_code_job_dta</th>\n      <th>description_job_code_info</th>\n      <th>badge_nbr</th>\n    </tr>\n  </thead>\n  <tbody>\n    <tr>\n      <th>0</th>\n      <td>POL</td>\n      <td>569</td>\n      <td>Conway,Corliss D</td>\n      <td>1963</td>\n      <td>2702736</td>\n      <td>C7134</td>\n      <td>SENIOR POLICE OFFICER</td>\n      <td>00911</td>\n    </tr>\n    <tr>\n      <th>1</th>\n      <td>POL</td>\n      <td>1369</td>\n      <td>Kendrick,Jamal D</td>\n      <td>1969</td>\n      <td>2702734</td>\n      <td>C7110</td>\n      <td>POLICE OFFICER</td>\n      <td>01226</td>\n    </tr>\n    <tr>\n      <th>2</th>\n      <td>POL</td>\n      <td>1391</td>\n      <td>Marshall,Tianay M</td>\n      <td>1978</td>\n      <td>2702734</td>\n      <td>C7134</td>\n      <td>SENIOR POLICE OFFICER</td>\n      <td>02101</td>\n    </tr>\n    <tr>\n      <th>3</th>\n      <td>POL</td>\n      <td>1599</td>\n      <td>Weber,Tamara L</td>\n      <td>1975</td>\n      <td>2702750</td>\n      <td>C7134</td>\n      <td>SENIOR POLICE OFFICER</td>\n      <td>01580</td>\n    </tr>\n    <tr>\n      <th>4</th>\n      <td>POL</td>\n      <td>2507</td>\n      <td>Pierce,Arlinda G</td>\n      <td>1969</td>\n      <td>2702705</td>\n      <td>U0018</td>\n      <td>ASSISTANT SUPT OF POLICE</td>\n      <td></td>\n    </tr>\n    <tr>\n      <th>...</th>\n      <td>...</td>\n      <td>...</td>\n      <td>...</td>\n      <td>...</td>\n      <td>...</td>\n      <td>...</td>\n      <td>...</td>\n      <td>...</td>\n    </tr>\n    <tr>\n      <th>1172</th>\n      <td>POL</td>\n      <td>31419</td>\n      <td>Miller,Patrick M</td>\n      <td>1991</td>\n      <td>2702733</td>\n      <td>C7110</td>\n      <td>POLICE OFFICER</td>\n      <td></td>\n    </tr>\n    <tr>\n      <th>1173</th>\n      <td>POL</td>\n      <td>31426</td>\n      <td>Collins,Cleveland</td>\n      <td>1995</td>\n      <td>2702732</td>\n      <td>C7110</td>\n      <td>POLICE OFFICER</td>\n      <td></td>\n    </tr>\n    <tr>\n      <th>1174</th>\n      <td>POL</td>\n      <td>31429</td>\n      <td>Broussard,Dennis E</td>\n      <td>1993</td>\n      <td>2702737</td>\n      <td>C7110</td>\n      <td>POLICE OFFICER</td>\n      <td></td>\n    </tr>\n    <tr>\n      <th>1175</th>\n      <td>POL</td>\n      <td>31431</td>\n      <td>Condoll,Tyneisha</td>\n      <td>1994</td>\n      <td>2702737</td>\n      <td>C7110</td>\n      <td>POLICE OFFICER</td>\n      <td></td>\n    </tr>\n    <tr>\n      <th>1176</th>\n      <td>POL</td>\n      <td>31634</td>\n      <td>Venables,Lynn V</td>\n      <td>1953</td>\n      <td>2702718</td>\n      <td>C7110</td>\n      <td>POLICE OFFICER</td>\n      <td></td>\n    </tr>\n  </tbody>\n</table>\n<p>1177 rows × 8 columns</p>\n</div>"
     },
     "metadata": {},
     "execution_count": 5
    }
   ],
   "source": [
    "input_dfs[\"new_orleans_pd_pprr_2019.csv\"]"
   ]
  },
  {
   "cell_type": "code",
   "execution_count": 6,
   "metadata": {},
   "outputs": [
    {
     "output_type": "execute_result",
     "data": {
      "text/plain": [
       "      empl_id  last_name    first_name middle_name  home_orgn work_loc  \\\n",
       "0       30937  Gittleson         Karis                   2718  27331CB   \n",
       "1       31032      Kratt        Shelly           L       2718  27331CB   \n",
       "2       31036  Blanchard         Blaze          M.       2718  27331CB   \n",
       "3       29501      Simko       Mallory           V       2750  27601NA   \n",
       "4       30817    Carolan  Sean-Michael                   2718  27341DB   \n",
       "...       ...        ...           ...         ...        ...      ...   \n",
       "1198    25623     Murphy        Daniel     Patrick       2720  27201AA   \n",
       "1199     2507     Pierce       Arlinda           G       2705  27051AA   \n",
       "1200     7113     Goodly   Christopher                   2740  27401HA   \n",
       "1201     9325     Thomas          John           D       2760  27801KA   \n",
       "1202     7121   Harrison       Michael           S       2702  27021AA   \n",
       "\n",
       "                           orgn_desc title_code                title_desc  \\\n",
       "0                POL POLICE RECRUITS      C7109            POLICE RECRUIT   \n",
       "1                POL POLICE RECRUITS      C7109            POLICE RECRUIT   \n",
       "2                POL POLICE RECRUITS      C7109            POLICE RECRUIT   \n",
       "3              POL FISCAL MANAGEMENT      C7109            POLICE RECRUIT   \n",
       "4                POL POLICE RECRUITS      C7109            POLICE RECRUIT   \n",
       "...                              ...        ...                       ...   \n",
       "1198   POL SPECIAL INVESTIGATION DIV      U0018  ASSISTANT SUPT OF POLICE   \n",
       "1199            POL PUBLIC INTEGRITY      U0018  ASSISTANT SUPT OF POLICE   \n",
       "1200   POL MANAGEMNT SERVICES BUREAU      U0018  ASSISTANT SUPT OF POLICE   \n",
       "1201  POL INVESTIGATIONS & SPRT BURE      U0018  ASSISTANT SUPT OF POLICE   \n",
       "1202   POL OFF OF THE SUPERINTENDENT      U0138  SUPERINTENDENT OF POLICE   \n",
       "\n",
       "     badge_number hire_date_employment_dta  \n",
       "0             513               09/16/2018  \n",
       "1            2179               11/11/2018  \n",
       "2             668               11/11/2018  \n",
       "3                               10/16/2016  \n",
       "4             796               07/15/2018  \n",
       "...           ...                      ...  \n",
       "1198                            05/25/2014  \n",
       "1199                            06/09/1989  \n",
       "1200        00076               04/06/1997  \n",
       "1201        00031               06/11/1984  \n",
       "1202        00120               11/10/1991  \n",
       "\n",
       "[1203 rows x 11 columns]"
      ],
      "text/html": "<div>\n<style scoped>\n    .dataframe tbody tr th:only-of-type {\n        vertical-align: middle;\n    }\n\n    .dataframe tbody tr th {\n        vertical-align: top;\n    }\n\n    .dataframe thead th {\n        text-align: right;\n    }\n</style>\n<table border=\"1\" class=\"dataframe\">\n  <thead>\n    <tr style=\"text-align: right;\">\n      <th></th>\n      <th>empl_id</th>\n      <th>last_name</th>\n      <th>first_name</th>\n      <th>middle_name</th>\n      <th>home_orgn</th>\n      <th>work_loc</th>\n      <th>orgn_desc</th>\n      <th>title_code</th>\n      <th>title_desc</th>\n      <th>badge_number</th>\n      <th>hire_date_employment_dta</th>\n    </tr>\n  </thead>\n  <tbody>\n    <tr>\n      <th>0</th>\n      <td>30937</td>\n      <td>Gittleson</td>\n      <td>Karis</td>\n      <td></td>\n      <td>2718</td>\n      <td>27331CB</td>\n      <td>POL POLICE RECRUITS</td>\n      <td>C7109</td>\n      <td>POLICE RECRUIT</td>\n      <td>513</td>\n      <td>09/16/2018</td>\n    </tr>\n    <tr>\n      <th>1</th>\n      <td>31032</td>\n      <td>Kratt</td>\n      <td>Shelly</td>\n      <td>L</td>\n      <td>2718</td>\n      <td>27331CB</td>\n      <td>POL POLICE RECRUITS</td>\n      <td>C7109</td>\n      <td>POLICE RECRUIT</td>\n      <td>2179</td>\n      <td>11/11/2018</td>\n    </tr>\n    <tr>\n      <th>2</th>\n      <td>31036</td>\n      <td>Blanchard</td>\n      <td>Blaze</td>\n      <td>M.</td>\n      <td>2718</td>\n      <td>27331CB</td>\n      <td>POL POLICE RECRUITS</td>\n      <td>C7109</td>\n      <td>POLICE RECRUIT</td>\n      <td>668</td>\n      <td>11/11/2018</td>\n    </tr>\n    <tr>\n      <th>3</th>\n      <td>29501</td>\n      <td>Simko</td>\n      <td>Mallory</td>\n      <td>V</td>\n      <td>2750</td>\n      <td>27601NA</td>\n      <td>POL FISCAL MANAGEMENT</td>\n      <td>C7109</td>\n      <td>POLICE RECRUIT</td>\n      <td></td>\n      <td>10/16/2016</td>\n    </tr>\n    <tr>\n      <th>4</th>\n      <td>30817</td>\n      <td>Carolan</td>\n      <td>Sean-Michael</td>\n      <td></td>\n      <td>2718</td>\n      <td>27341DB</td>\n      <td>POL POLICE RECRUITS</td>\n      <td>C7109</td>\n      <td>POLICE RECRUIT</td>\n      <td>796</td>\n      <td>07/15/2018</td>\n    </tr>\n    <tr>\n      <th>...</th>\n      <td>...</td>\n      <td>...</td>\n      <td>...</td>\n      <td>...</td>\n      <td>...</td>\n      <td>...</td>\n      <td>...</td>\n      <td>...</td>\n      <td>...</td>\n      <td>...</td>\n      <td>...</td>\n    </tr>\n    <tr>\n      <th>1198</th>\n      <td>25623</td>\n      <td>Murphy</td>\n      <td>Daniel</td>\n      <td>Patrick</td>\n      <td>2720</td>\n      <td>27201AA</td>\n      <td>POL SPECIAL INVESTIGATION DIV</td>\n      <td>U0018</td>\n      <td>ASSISTANT SUPT OF POLICE</td>\n      <td></td>\n      <td>05/25/2014</td>\n    </tr>\n    <tr>\n      <th>1199</th>\n      <td>2507</td>\n      <td>Pierce</td>\n      <td>Arlinda</td>\n      <td>G</td>\n      <td>2705</td>\n      <td>27051AA</td>\n      <td>POL PUBLIC INTEGRITY</td>\n      <td>U0018</td>\n      <td>ASSISTANT SUPT OF POLICE</td>\n      <td></td>\n      <td>06/09/1989</td>\n    </tr>\n    <tr>\n      <th>1200</th>\n      <td>7113</td>\n      <td>Goodly</td>\n      <td>Christopher</td>\n      <td></td>\n      <td>2740</td>\n      <td>27401HA</td>\n      <td>POL MANAGEMNT SERVICES BUREAU</td>\n      <td>U0018</td>\n      <td>ASSISTANT SUPT OF POLICE</td>\n      <td>00076</td>\n      <td>04/06/1997</td>\n    </tr>\n    <tr>\n      <th>1201</th>\n      <td>9325</td>\n      <td>Thomas</td>\n      <td>John</td>\n      <td>D</td>\n      <td>2760</td>\n      <td>27801KA</td>\n      <td>POL INVESTIGATIONS &amp; SPRT BURE</td>\n      <td>U0018</td>\n      <td>ASSISTANT SUPT OF POLICE</td>\n      <td>00031</td>\n      <td>06/11/1984</td>\n    </tr>\n    <tr>\n      <th>1202</th>\n      <td>7121</td>\n      <td>Harrison</td>\n      <td>Michael</td>\n      <td>S</td>\n      <td>2702</td>\n      <td>27021AA</td>\n      <td>POL OFF OF THE SUPERINTENDENT</td>\n      <td>U0138</td>\n      <td>SUPERINTENDENT OF POLICE</td>\n      <td>00120</td>\n      <td>11/10/1991</td>\n    </tr>\n  </tbody>\n</table>\n<p>1203 rows × 11 columns</p>\n</div>"
     },
     "metadata": {},
     "execution_count": 6
    }
   ],
   "source": [
    "input_dfs[ 'new_orleans_pd_pprr_2018.csv']"
   ]
  },
  {
   "cell_type": "code",
   "execution_count": null,
   "metadata": {},
   "outputs": [],
   "source": []
  }
 ],
 "metadata": {
  "kernelspec": {
   "display_name": "Python 3",
   "language": "python",
   "name": "python3"
  },
  "language_info": {
   "codemirror_mode": {
    "name": "ipython",
    "version": 3
   },
   "file_extension": ".py",
   "mimetype": "text/x-python",
   "name": "python",
   "nbconvert_exporter": "python",
   "pygments_lexer": "ipython3",
   "version": "3.8.3-final"
  }
 },
 "nbformat": 4,
 "nbformat_minor": 4
}
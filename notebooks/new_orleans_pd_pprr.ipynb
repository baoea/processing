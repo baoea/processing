{
 "cells": [
  {
   "cell_type": "code",
   "execution_count": 1,
   "metadata": {},
   "outputs": [],
   "source": [
    "import sys; sys.path.append(\"../\")\n",
    "\n",
    "import pandas as pd\n",
    "\n",
    "from lib.explore import show_unique, print_df\n",
    "from lib.path import data_file_path\n",
    "from lib.match import (\n",
    "    ColumnsIndex, StringSimilarity, JaroWinklerSimilarity, DateSimilarity, ThresholdMatcher\n",
    ")\n",
    "from lib.date import combine_date_columns\n",
    "from clean.new_orleans_pd_pprr import clean\n",
    "from clean.new_orleans_csd_pprr import clean_2014 as clean_csd_2014, clean_2009 as clean_csd_2009"
   ]
  },
  {
   "source": [
    "# New Orleans PPRR"
   ],
   "cell_type": "markdown",
   "metadata": {}
  },
  {
   "source": [
    "## Cleaning 1999-2020 NO PD PPRR"
   ],
   "cell_type": "markdown",
   "metadata": {}
  },
  {
   "cell_type": "code",
   "execution_count": 2,
   "metadata": {},
   "outputs": [
    {
     "output_type": "execute_result",
     "data": {
      "text/plain": [
       "      employee_id birth_year  department_code rank_code  \\\n",
       "0             569       1963          2702736     C7134   \n",
       "1            1142       1958          2702740     C7134   \n",
       "2            1391       1978          2702735     C7132   \n",
       "3            1573       1970          2702731     C7133   \n",
       "4            1599       1975          2702750     C7110   \n",
       "...           ...        ...              ...       ...   \n",
       "1417        19778       1970          2702750     C7110   \n",
       "1418        19782       1977          2702733     C7110   \n",
       "1419        19805       1970          2702736     C7110   \n",
       "1420        19938       1977          2702732     C7110   \n",
       "1421        20056       1982          2702731     C7110   \n",
       "\n",
       "                  rank_desc badge_no  last_name first_name middle_initial  \\\n",
       "0     senior police officer    00911     conway    corliss              d   \n",
       "1     senior police officer           plustache     daniel                  \n",
       "2          police officer 2            marshall     tianay              m   \n",
       "3          police officer 3              austin    larissa              j   \n",
       "4            police officer               weber     tamara              l   \n",
       "...                     ...      ...        ...        ...            ...   \n",
       "1417         police officer              powell    jeffrey                  \n",
       "1418         police officer            cummings     eugene                  \n",
       "1419         police officer            burnette   jonathan                  \n",
       "1420         police officer               moore    michael                  \n",
       "1421         police officer             carwile     joshua                  \n",
       "\n",
       "     data_production_year          agency                               uid  \\\n",
       "0                    2009  New Orleans PD  8b16ebc056e613024c057be590b542eb   \n",
       "1                    2009  New Orleans PD  8ce6790cc6a94e65f17f908f462fae85   \n",
       "2                    2009  New Orleans PD  7f53f8c6c730af6aeb52e66eb74d8507   \n",
       "3                    2009  New Orleans PD  a1afc58c6ca9540d057299ec3016d726   \n",
       "4                    2009  New Orleans PD  83e8ef518174e1eb6be4a0778d050c9d   \n",
       "...                   ...             ...                               ...   \n",
       "1417                 2009  New Orleans PD  9d203879c2650125412c8c1e894be590   \n",
       "1418                 2009  New Orleans PD  8651920f3ba2e5f8bcd3e58ba0b48584   \n",
       "1419                 2009  New Orleans PD  2aa49677fddf127f4230c74ece40b8a7   \n",
       "1420                 2009  New Orleans PD  bea274dd9c29a248928ccf211b52750f   \n",
       "1421                 2009  New Orleans PD  b1823297adf46a9cadba8244c11655ad   \n",
       "\n",
       "     middle_name department_desc hire_year hire_month hire_day  \n",
       "0            NaN             NaN       NaN        NaN      NaN  \n",
       "1            NaN             NaN       NaN        NaN      NaN  \n",
       "2            NaN             NaN       NaN        NaN      NaN  \n",
       "3            NaN             NaN       NaN        NaN      NaN  \n",
       "4            NaN             NaN       NaN        NaN      NaN  \n",
       "...          ...             ...       ...        ...      ...  \n",
       "1417         NaN             NaN       NaN        NaN      NaN  \n",
       "1418         NaN             NaN       NaN        NaN      NaN  \n",
       "1419         NaN             NaN       NaN        NaN      NaN  \n",
       "1420         NaN             NaN       NaN        NaN      NaN  \n",
       "1421         NaN             NaN       NaN        NaN      NaN  \n",
       "\n",
       "[1422 rows x 17 columns]"
      ],
      "text/html": "<div>\n<style scoped>\n    .dataframe tbody tr th:only-of-type {\n        vertical-align: middle;\n    }\n\n    .dataframe tbody tr th {\n        vertical-align: top;\n    }\n\n    .dataframe thead th {\n        text-align: right;\n    }\n</style>\n<table border=\"1\" class=\"dataframe\">\n  <thead>\n    <tr style=\"text-align: right;\">\n      <th></th>\n      <th>employee_id</th>\n      <th>birth_year</th>\n      <th>department_code</th>\n      <th>rank_code</th>\n      <th>rank_desc</th>\n      <th>badge_no</th>\n      <th>last_name</th>\n      <th>first_name</th>\n      <th>middle_initial</th>\n      <th>data_production_year</th>\n      <th>agency</th>\n      <th>uid</th>\n      <th>middle_name</th>\n      <th>department_desc</th>\n      <th>hire_year</th>\n      <th>hire_month</th>\n      <th>hire_day</th>\n    </tr>\n  </thead>\n  <tbody>\n    <tr>\n      <th>0</th>\n      <td>569</td>\n      <td>1963</td>\n      <td>2702736</td>\n      <td>C7134</td>\n      <td>senior police officer</td>\n      <td>00911</td>\n      <td>conway</td>\n      <td>corliss</td>\n      <td>d</td>\n      <td>2009</td>\n      <td>New Orleans PD</td>\n      <td>8b16ebc056e613024c057be590b542eb</td>\n      <td>NaN</td>\n      <td>NaN</td>\n      <td>NaN</td>\n      <td>NaN</td>\n      <td>NaN</td>\n    </tr>\n    <tr>\n      <th>1</th>\n      <td>1142</td>\n      <td>1958</td>\n      <td>2702740</td>\n      <td>C7134</td>\n      <td>senior police officer</td>\n      <td></td>\n      <td>plustache</td>\n      <td>daniel</td>\n      <td></td>\n      <td>2009</td>\n      <td>New Orleans PD</td>\n      <td>8ce6790cc6a94e65f17f908f462fae85</td>\n      <td>NaN</td>\n      <td>NaN</td>\n      <td>NaN</td>\n      <td>NaN</td>\n      <td>NaN</td>\n    </tr>\n    <tr>\n      <th>2</th>\n      <td>1391</td>\n      <td>1978</td>\n      <td>2702735</td>\n      <td>C7132</td>\n      <td>police officer 2</td>\n      <td></td>\n      <td>marshall</td>\n      <td>tianay</td>\n      <td>m</td>\n      <td>2009</td>\n      <td>New Orleans PD</td>\n      <td>7f53f8c6c730af6aeb52e66eb74d8507</td>\n      <td>NaN</td>\n      <td>NaN</td>\n      <td>NaN</td>\n      <td>NaN</td>\n      <td>NaN</td>\n    </tr>\n    <tr>\n      <th>3</th>\n      <td>1573</td>\n      <td>1970</td>\n      <td>2702731</td>\n      <td>C7133</td>\n      <td>police officer 3</td>\n      <td></td>\n      <td>austin</td>\n      <td>larissa</td>\n      <td>j</td>\n      <td>2009</td>\n      <td>New Orleans PD</td>\n      <td>a1afc58c6ca9540d057299ec3016d726</td>\n      <td>NaN</td>\n      <td>NaN</td>\n      <td>NaN</td>\n      <td>NaN</td>\n      <td>NaN</td>\n    </tr>\n    <tr>\n      <th>4</th>\n      <td>1599</td>\n      <td>1975</td>\n      <td>2702750</td>\n      <td>C7110</td>\n      <td>police officer</td>\n      <td></td>\n      <td>weber</td>\n      <td>tamara</td>\n      <td>l</td>\n      <td>2009</td>\n      <td>New Orleans PD</td>\n      <td>83e8ef518174e1eb6be4a0778d050c9d</td>\n      <td>NaN</td>\n      <td>NaN</td>\n      <td>NaN</td>\n      <td>NaN</td>\n      <td>NaN</td>\n    </tr>\n    <tr>\n      <th>...</th>\n      <td>...</td>\n      <td>...</td>\n      <td>...</td>\n      <td>...</td>\n      <td>...</td>\n      <td>...</td>\n      <td>...</td>\n      <td>...</td>\n      <td>...</td>\n      <td>...</td>\n      <td>...</td>\n      <td>...</td>\n      <td>...</td>\n      <td>...</td>\n      <td>...</td>\n      <td>...</td>\n      <td>...</td>\n    </tr>\n    <tr>\n      <th>1417</th>\n      <td>19778</td>\n      <td>1970</td>\n      <td>2702750</td>\n      <td>C7110</td>\n      <td>police officer</td>\n      <td></td>\n      <td>powell</td>\n      <td>jeffrey</td>\n      <td></td>\n      <td>2009</td>\n      <td>New Orleans PD</td>\n      <td>9d203879c2650125412c8c1e894be590</td>\n      <td>NaN</td>\n      <td>NaN</td>\n      <td>NaN</td>\n      <td>NaN</td>\n      <td>NaN</td>\n    </tr>\n    <tr>\n      <th>1418</th>\n      <td>19782</td>\n      <td>1977</td>\n      <td>2702733</td>\n      <td>C7110</td>\n      <td>police officer</td>\n      <td></td>\n      <td>cummings</td>\n      <td>eugene</td>\n      <td></td>\n      <td>2009</td>\n      <td>New Orleans PD</td>\n      <td>8651920f3ba2e5f8bcd3e58ba0b48584</td>\n      <td>NaN</td>\n      <td>NaN</td>\n      <td>NaN</td>\n      <td>NaN</td>\n      <td>NaN</td>\n    </tr>\n    <tr>\n      <th>1419</th>\n      <td>19805</td>\n      <td>1970</td>\n      <td>2702736</td>\n      <td>C7110</td>\n      <td>police officer</td>\n      <td></td>\n      <td>burnette</td>\n      <td>jonathan</td>\n      <td></td>\n      <td>2009</td>\n      <td>New Orleans PD</td>\n      <td>2aa49677fddf127f4230c74ece40b8a7</td>\n      <td>NaN</td>\n      <td>NaN</td>\n      <td>NaN</td>\n      <td>NaN</td>\n      <td>NaN</td>\n    </tr>\n    <tr>\n      <th>1420</th>\n      <td>19938</td>\n      <td>1977</td>\n      <td>2702732</td>\n      <td>C7110</td>\n      <td>police officer</td>\n      <td></td>\n      <td>moore</td>\n      <td>michael</td>\n      <td></td>\n      <td>2009</td>\n      <td>New Orleans PD</td>\n      <td>bea274dd9c29a248928ccf211b52750f</td>\n      <td>NaN</td>\n      <td>NaN</td>\n      <td>NaN</td>\n      <td>NaN</td>\n      <td>NaN</td>\n    </tr>\n    <tr>\n      <th>1421</th>\n      <td>20056</td>\n      <td>1982</td>\n      <td>2702731</td>\n      <td>C7110</td>\n      <td>police officer</td>\n      <td></td>\n      <td>carwile</td>\n      <td>joshua</td>\n      <td></td>\n      <td>2009</td>\n      <td>New Orleans PD</td>\n      <td>b1823297adf46a9cadba8244c11655ad</td>\n      <td>NaN</td>\n      <td>NaN</td>\n      <td>NaN</td>\n      <td>NaN</td>\n      <td>NaN</td>\n    </tr>\n  </tbody>\n</table>\n<p>1422 rows × 17 columns</p>\n</div>"
     },
     "metadata": {},
     "execution_count": 2
    }
   ],
   "source": [
    "pd_pprr = clean()\n",
    "pd_pprr[pd_pprr.data_production_year == \"2009\"]"
   ]
  },
  {
   "source": [
    "## Matching 2014 PD PPRR against 2014 CSD PPRR "
   ],
   "cell_type": "markdown",
   "metadata": {}
  },
  {
   "cell_type": "code",
   "execution_count": 3,
   "metadata": {},
   "outputs": [],
   "source": [
    "csd_pprr_14 = clean_csd_2014()\n",
    "\n",
    "pddf = pd_pprr.loc[pd_pprr.data_production_year == \"2014\", [\"uid\", \"first_name\", \"last_name\", \"birth_year\"]]\n",
    "pddf = pddf.drop_duplicates([\"uid\"]).set_index(\"uid\", drop=True)\n",
    "\n",
    "csddf = csd_pprr_14[[\"mid\", \"first_name\", \"last_name\", \"birth_year\"]]\n",
    "# csddf.loc[:, \"hire_date\"] = combine_date_columns(csd_pprr, \"hire_year\", \"hire_month\", \"hire_day\")\n",
    "csddf = csddf.drop_duplicates([\"mid\"]).set_index(\"mid\", drop=True)\n",
    "\n",
    "matcher = ThresholdMatcher(pddf, csddf, ColumnsIndex([\"birth_year\"]), {\n",
    "    \"last_name\": JaroWinklerSimilarity(),\n",
    "    \"first_name\": JaroWinklerSimilarity(),\n",
    "})"
   ]
  },
  {
   "cell_type": "code",
   "execution_count": 4,
   "metadata": {},
   "outputs": [
    {
     "output_type": "stream",
     "name": "stdout",
     "text": [
      "                                                                  first_name last_name birth_year\nscore_range pair_idx sim_score row_key                                                           \n1.00-0.95   0        1.000000  c0d447b768342332a35134881a57bef6       jeremy    wilcox       1979\n                               31aba9fa946fd7d6dd581abff346d82b       jeremy    wilcox       1979\n            1        1.000000  60a6c4002cc7b29142def8871531281a         gary       lee       1951\n                               e5e77467097e3373f9021d7a2ad9443f         gary       lee       1951\n            2        1.000000  6e96be832cf8bc6b35a956e8fb66c76a    christian      hart       1972\n                               b69d075343200394cbbf4a4cef2c95df    christian      hart       1972\n            3        0.993770  6504909ab81edf8086a8ec6982a1099a      michael  kitchens       1970\n                               50a6219da7b5ce39635575821a844c4b      michael   kitchen       1970\n            4        0.963230  caf14d79a71090573d8741986b4ae1a4       andrew  whitaker       1975\n                               739563bbebcc254baca6272050227dcb       andrew     white       1975\n0.95-0.90   0        0.920016  f67cd61e7bcf9f4d6b2c3e19e2c2d36d  christopher   johnson       1982\n                               6c24e78daa0da16dd158aa121985edd6  christopher     jones       1982\n            1        0.910609  8b2dfbe0c1d43f9537dae01e96458ff1      charles    miller       1963\n                               5fec10a691f8080db4f4c7a1fa2837d1        carol    miller       1963\n            2        0.901347  4ddb5b8d603f88e9de689f3230234b47        angel  williams       1974\n                               a52c764f08ae3af1e536a05f79b44fce      janelle  williams       1974\n"
     ]
    }
   ],
   "source": [
    "print_df(matcher.get_sample_pairs(lower_bound=0.9))"
   ]
  },
  {
   "cell_type": "code",
   "execution_count": 5,
   "metadata": {},
   "outputs": [
    {
     "output_type": "stream",
     "name": "stdout",
     "text": [
      "13 matched pairs for 2014 (1% of PD records, 0% of CSD records)\n"
     ]
    }
   ],
   "source": [
    "pairs = matcher.get_index_pairs_within_thresholds(lower_bound=0.97)\n",
    "num_pairs = len(pairs)\n",
    "print(\"%d matched pairs for 2014 (%d%% of PD records, %d%% of CSD records)\" % (num_pairs, num_pairs / pddf.shape[0] * 100, num_pairs / csddf.shape[0] * 100))"
   ]
  },
  {
   "source": [
    "## Matching 2009 PD PPRR against 2009 CSD PPRR "
   ],
   "cell_type": "markdown",
   "metadata": {}
  },
  {
   "cell_type": "code",
   "execution_count": 6,
   "metadata": {},
   "outputs": [],
   "source": [
    "csd_pprr_09 = clean_csd_2009()\n",
    "\n",
    "pddf2 = pd_pprr.loc[pd_pprr.data_production_year == \"2009\", [\"uid\", \"first_name\", \"last_name\", \"rank_code\", \"rank_desc\"]]\n",
    "pddf2 = pddf2.drop_duplicates([\"uid\"]).set_index(\"uid\", drop=True)\n",
    "pddf2.loc[:, \"fc\"] = pddf2.first_name.map(lambda x: x[:1])\n",
    "\n",
    "csddf2 = csd_pprr_09[[\"mid\", \"first_name\", \"last_name\", \"rank_code\", \"rank_desc\"]]\n",
    "csddf2 = csddf2.drop_duplicates([\"mid\"]).set_index(\"mid\", drop=True)\n",
    "csddf2.loc[:, \"fc\"] = csddf2.first_name.map(lambda x: x[:1])\n",
    "\n",
    "matcher2 = ThresholdMatcher(pddf2, csddf2, ColumnsIndex([\"fc\"]), {\n",
    "    \"last_name\": JaroWinklerSimilarity(),\n",
    "    \"first_name\": JaroWinklerSimilarity(),\n",
    "})"
   ]
  },
  {
   "cell_type": "code",
   "execution_count": 7,
   "metadata": {},
   "outputs": [
    {
     "output_type": "stream",
     "name": "stdout",
     "text": [
      "                                                                  first_name        last_name rank_code                       rank_desc fc\nscore_range pair_idx sim_score row_key                                                                                                    \n1.00-0.97   0        0.990951  d60743aab4b625940d39b3b51c3c6a78     sterling         williams     C7111                 police sergeant  s\n                               f237583945fdd1e7c083ee4e9f5a04c1     sterling      williams jr     C7111                 police sergeant  s\n            1        0.990951  6613167eafbef4130c088f48920bfdea        eddie         williams     C7110                  police officer  e\n                               63e3bf02e9b027ddc4f40c59cd37504e        eddie      williams sr     C7143     police technical specialist  e\n            2        0.985297  16d459c4b261f3015061a7cc7362851c       monica         mclaurin     C7110                  police officer  m\n                               e8479c7a46d4edde888f348df4e167c7       monica        mc laurin     C7110                police officer 1  m\n            3        0.985114  84d2f3b46b8baf9d28b497f803e7f46d         john          richard     C7110                  police officer  j\n                               fc14dde188e0a0e173bdb00367428768         john       richardson       NaN  protective services officer iv  j\n            4        0.978030  a2487e8950121487ee653a97ba29d020      jeffrey           vappie     C7134           senior police officer  j\n                               159899c80f7097283c2299862d948fde      jeffrey        vappie ii     C7134                police officer 4  j\n0.97-0.95   0        0.962659  faa98789cfb692431ffb52e13497443a       emelda           blanco     C7111                 police sergeant  e\n                               a584036fa70b30e0a519e7b25b33c618       emelda   blanco-alveris     C7111                 police sergeant  e\n            1        0.960999  c783eed3cfc1c978fe76e15af007e0d0      christy         williams     C7112               police lieutenant  c\n                               6f1dcc433cf7219e203e5897f7a7d83e  christopher         williams     C7109          police recruit academy  c\n            2        0.960833  7296d81c3d5e425bc1785994bea8a0d2       pamela  jordan whiticar     C7134           senior police officer  p\n                               65d7a5e55ae60e14edf511b3b57614c3       pamela           jordan     C7134                police officer 4  p\n            3        0.958102  2c601ad9d2ff9bc8b282670cdd54f69f        bruce          bono jr     C7110                  police officer  b\n                               0bc7a7740b7448f2e8b9401f56690c8d        bruce             bono     C7111                 police sergeant  b\n            4        0.954701  91129851a366bb9990d7d0ad5808678e     terrence           wilson     C7110                  police officer  t\n                               300ef5cdbcd24b21b707c3bfdeac6d7d     terrance           wilson     C7110                police officer 1  t\n0.95-0.92   0        0.943472  7b8bc3700ce886e8627f41e799fe764f         eric         williams     C7111                 police sergeant  e\n                               69229d78b128f4626069191482e6c457         eris         williams     C7141             police technician 1  e\n            1        0.936815  afb79a9be5cd9762572a008088d3153e       steven          gilliam     C7111                 police sergeant  s\n                               f397ac13e4b80cc0404037ed6acb7b82       steven         williams     C7134                police officer 4  s\n            2        0.935711  741adf496ee8c2d3e8c864e9567211af  christopher            avist     C7110                  police officer  c\n                               105eaa6467149029cf6ffa66fd327dc2  christopher            davis     C7134                police officer 4  c\n            3        0.932631  91129851a366bb9990d7d0ad5808678e     terrence           wilson     C7110                  police officer  t\n                               89f0a4629be9f21c09e42c3c5d17d1fa        terry           wilson     C7111                 police sergeant  t\n            4        0.932631  0118a063b4aae95277f0bc1752c75abf        terry           wilson     C7111                 police sergeant  t\n                               300ef5cdbcd24b21b707c3bfdeac6d7d     terrance           wilson     C7110                police officer 1  t\n0.92-0.90   0        0.905539  81a1e36d1d8c565e1554959779ce2aad       demond            davis     C7110                  police officer  d\n                               7dde3a5abdc344055672cb635373fc3c       donald            davis     C7134                police officer 4  d\n            1        0.905539  7070baed1f0e21d1234a4b00082a1bea       donald            davis     C7134           senior police officer  d\n                               32db1f862717a6253ed38a942cce524c       demond            davis     C7110                police officer 1  d\n            2        0.904884  e4d8163c7a068b65a64c89bd745ec360        james            allen     C7134           senior police officer  j\n                               ef465469b609a42cc1a2ea50f3a4d0a4        james        alexander     C7134                police officer 4  j\n            3        0.903905  ba347fcc9a79fb74e95670b24848164f  christopher        cambiotti     C7112               police lieutenant  c\n                               a83da7a1db81c75a740615457b6c743c  christopher           abbott     C7134                police officer 4  c\n            4        0.902276  7464d29c8432f9d1590f037f0972dd0b         sean        mc elrath     C7110                  police officer  s\n                               6100476873fea4c3e479ce2948c8783f         sean           mc key     C7109          police recruit academy  s\n0.90-0.87   0        0.875471  4ddb5b8d603f88e9de689f3230234b47        angel         williams     C7134           senior police officer  a\n                               b0214384803d59471b83bf02b6aaa726       arnold         williams     C7111                 police sergeant  a\n            1        0.875471  886ad506e0c115cf590d18ebb6c26561        david            liang     C7111                 police sergeant  d\n                               218f3c9a1d93d3b9b73bb6aac71f2762        david           lapene     C7132                police officer 2  d\n            2        0.875471  f8aee2c37235d0f679aa23371280367e       cedric        davillier     C7132                police officer 2  c\n                               b2c5ab517fdb88c17a52dbd404eafc9a        cyril        davillier     C7111                 police sergeant  c\n            3        0.875471  05ec04f7fb3bc3281f1db83bfc1a2490        cyril        davillier     C7111                 police sergeant  c\n                               b1d078a2a7d170c2a61ddc444443f176       cedric        davillier     C7132                police officer 2  c\n            4        0.875471  fb4d518989bdeae9784d99c398f86f1f      william            marek     C7110                  police officer  w\n                               f4f50fdb483b5e75e1644526dd19fce2      william           mcdade     C7134                police officer 4  w\n0.87-0.85   0        0.851146  9fb2c3bda2393ae337242f405c93a010        karla            allen     C7134           senior police officer  k\n                               ba6a56e76a3fcba1b9b9634c0b8d41c4         kirk            allen     C7134                police officer 4  k\n            1        0.851146  b58f7d184743106a8a66028b7a28937c         kirk            allen     C7134           senior police officer  k\n                               2b2018817499e01c7e2fa38eeff96e4d        karla            allen     C7134                police officer 4  k\n            2        0.851084  e6e97acfea8d0d3b34ffd456ab9f665c      matthew            white     C7110                  police officer  m\n                               0767c4bd1afc2901617cd6eafea7adc9    marcellus            white     C7134                police officer 4  m\n            3        0.851084  a95aa4e62b22c9bc5bca4e83cadfaa82    marcellus            white     C7134           senior police officer  m\n                               bc782cfd5ebe560cd468d76a7d446ab7      matthew            white     C7108            police recruit field  m\n            4        0.850304  008a0e182c42176b099db8424e01efb9      matthew            moore     C7132                police officer 2  m\n                               18bd0ea420d9d364ec0e5c70a7f6bc58      michael            moore     C7110                police officer 1  m\n0.85-0.82   0        0.825055  2e09811007f834b96935dc13e91fabbc      stephen         rodrigue     C7133                police officer 3  s\n                               bc1abd426e63535554f5cfebae649ec8      stephen          kriebel     C7110                police officer 1  s\n            1        0.825055  066999ed9322bd434f20ad5ec4dd6b48        kevin          boswell     C7134           senior police officer  k\n                               9346d666a52bc6df38252e1b835b4759        kevin         williams     C7110                police officer 1  k\n            2        0.825055  066999ed9322bd434f20ad5ec4dd6b48        kevin          boswell     C7134           senior police officer  k\n                               ab610224113ea144162548fe25ab9c34        kevin         williams     C7111                 police sergeant  k\n            3        0.825055  7a576629fef88f3e636afd33b09e8289        kevin          guillot     C7111                 police sergeant  k\n                               9346d666a52bc6df38252e1b835b4759        kevin         williams     C7110                police officer 1  k\n            4        0.825055  7a576629fef88f3e636afd33b09e8289        kevin          guillot     C7111                 police sergeant  k\n                               ab610224113ea144162548fe25ab9c34        kevin         williams     C7111                 police sergeant  k\n0.82-0.80   0        0.800527  68f5f3544600e4839d80e3e5be1b9b09       marcia    willis-watson     C7110                  police officer  m\n                               376ec11ab495030f222d154f1e35dcf0        maria     villavicecio     C7110                police officer 1  m\n            1        0.800281  ef7a3d1d2f039be1cb6a695f856b5ca6      william       charbonnet     C7134           senior police officer  w\n                               2acd7685a205fae0537d2fd725ca5dce      william              cox     C7110                police officer 1  w\n            2        0.800281  c055dcc749c2632fd4dd806301f05ba6         john              ray     C7132                police officer 2  j\n                               fc14dde188e0a0e173bdb00367428768         john       richardson       NaN  protective services officer iv  j\n            3        0.800113  c2937f3a1b3a177d2408574da0245a19         paul             noel     C7112               police lieutenant  p\n                               275a889bad877aa4fdd2a9ae51983910      pauline             polk     C7162           school crossing guard  p\n            4        0.800071  e8257cae02495b31c4e89a4ae812499c        maria    villavicencio     C7110                  police officer  m\n                               cfcd02ed05e337c443fb83faebea9218       marcia    willis-watson     C7110                police officer 1  m\n"
     ]
    }
   ],
   "source": [
    "print_df(matcher2.get_sample_pairs(step=0.025, lower_bound=0.8))"
   ]
  },
  {
   "cell_type": "code",
   "execution_count": 20,
   "metadata": {},
   "outputs": [
    {
     "output_type": "stream",
     "name": "stdout",
     "text": [
      "for threshold 0.970:\n  572 matched pairs (40% of A, 29% of B)\n"
     ]
    }
   ],
   "source": [
    "matcher2.print_decision(0.97)"
   ]
  },
  {
   "cell_type": "code",
   "execution_count": 9,
   "metadata": {},
   "outputs": [],
   "source": [
    "matcher2.save_pairs_to_excel(data_file_path(\"new_orleans_2.xlsx\"), 0.96, lower_bound=0.9)"
   ]
  },
  {
   "source": [
    "## Matching 1999-2020 PD PPRR against 2014 CSD PPRR "
   ],
   "cell_type": "markdown",
   "metadata": {}
  },
  {
   "cell_type": "code",
   "execution_count": 10,
   "metadata": {},
   "outputs": [],
   "source": [
    "pddf3 = pd_pprr.loc[pd_pprr.data_production_year != \"2018\", [\"uid\", \"first_name\", \"last_name\", \"birth_year\"]]\n",
    "pddf3 = pddf3.drop_duplicates([\"uid\"]).set_index(\"uid\", drop=True)\n",
    "\n",
    "csddf3 = csd_pprr_14[[\"mid\", \"first_name\", \"last_name\", \"birth_year\"]]\n",
    "csddf3 = csddf3.drop_duplicates([\"mid\"]).set_index(\"mid\", drop=True)\n",
    "\n",
    "matcher3 = ThresholdMatcher(pddf3, csddf3, ColumnsIndex([\"birth_year\"]), {\n",
    "    \"last_name\": JaroWinklerSimilarity(),\n",
    "    \"first_name\": JaroWinklerSimilarity(),\n",
    "})"
   ]
  },
  {
   "cell_type": "code",
   "execution_count": 11,
   "metadata": {},
   "outputs": [
    {
     "output_type": "stream",
     "name": "stdout",
     "text": [
      "                                                                   first_name    last_name birth_year\nscore_range pair_idx sim_score row_key                                                               \n1.00-0.95   0        0.985297  16d459c4b261f3015061a7cc7362851c        monica     mclaurin       1982\n                               e8479c7a46d4edde888f348df4e167c7        monica    mc laurin       1982\n            1        0.983475  967c2ae04b169f07e7fa8fdfd110551e        currin  guillory jr       1953\n                               560c02d765705f8d642eb55c7818970e      currin c  guillory jr       1953\n            2        0.978030  33beffd09a1b020d1187c6b4b264014a         henry       newton       1944\n                               cf2c24441fa36a5ed959c0902edbb0de         henry    newton jr       1944\n            3        0.978030  c6ae9174774e254650073722e5b92a8f          john       brunet       1954\n                               8f68dd8f3eb97136dfdc4e208c1619b8          john    brunet jr       1954\n            4        0.963230  caf14d79a71090573d8741986b4ae1a4        andrew     whitaker       1975\n                               739563bbebcc254baca6272050227dcb        andrew        white       1975\n0.95-0.90   0        0.920016  f67cd61e7bcf9f4d6b2c3e19e2c2d36d   christopher      johnson       1982\n                               6c24e78daa0da16dd158aa121985edd6   christopher        jones       1982\n            1        0.916686  9fc64354454711c97058db6110b3a369           est      scanlan       1951\n                               cd4f4a4a200abd39f9bc0725472c8d2b  est of cindy      scanlan       1951\n            2        0.910609  8b2dfbe0c1d43f9537dae01e96458ff1       charles       miller       1963\n                               5fec10a691f8080db4f4c7a1fa2837d1         carol       miller       1963\n            3        0.905539  838aac83e00e8c5ca0f839c96d6cb3be             k      karanja       1973\n                               6af9a9493c6e2024641d241a991a1dbb           k k      karanja       1973\n            4        0.901347  4ddb5b8d603f88e9de689f3230234b47         angel     williams       1974\n                               a52c764f08ae3af1e536a05f79b44fce       janelle     williams       1974\n0.90-0.85   0        0.853119  3198dfd0aef271d22f7bcddd6f12f5cb          john     reynolds       1951\n                               30db2921820f58f0ccbf666e6c082e3c          john          ray       1951\n            1        0.853119  c055dcc749c2632fd4dd806301f05ba6          john          ray       1951\n                               d7864787e84ab99ea685b9e15e34f848          john     reynolds       1951\n            2        0.851918  b33ab78dc0e9072a05258918507b3e6f         brian      shubert       1976\n                               446961bd29c07ed65e1a61eb377b3140         brian    robertson       1976\n            3        0.851918  8576a5108a045a711b0927e2408d4b34          paul    bourgeois       1963\n                               007d1613016d6c8ddca147eb2a21d924          paul      moretti       1963\n            4        0.851368  b49b0133825194a67e0660a5557deb0a       michael         cure       1971\n                               b65d9ee30d885cfe3cc2bdd6b282ac62      michelle       causey       1971\n0.85-0.80   0        0.800860  ea2d131c2a2c1b6b2956919af13a76c5       stephen      mortell       1980\n                               1ba4bc8b2ff79ebca75baf1c988b6e5f       stephen       arnold       1980\n            1        0.800860  ddabb258dc2a7d5b5a7204fa68fe522f   christopher       harris       1980\n                               539ba4c37e15e9f16eb59915bae2b997   christopher      painter       1980\n            2        0.800860  6cb5da3513bd26085ee3fad631ebb37a        alexis      hawkins       1962\n                               d286acc5f35f79f73dfc74a8c54ab011       chelita      hawkins       1962\n            3        0.800860  6ddbcfc5780466b4939637df65b65c3d        ronald      skrokov       1968\n                               64bc38bd1f397d52bd550f607fc8177d        ronald       brisco       1968\n            4        0.800487  44ee402de1e0951498478dbb5e5a175d        shanda      charles       1984\n                               a76a2fc7e3b0aad18fd0da134a90c0dd        savana     chatters       1984\n"
     ]
    }
   ],
   "source": [
    "print_df(matcher3.get_sample_pairs(lower_bound=0.8))"
   ]
  },
  {
   "cell_type": "code",
   "execution_count": 12,
   "metadata": {},
   "outputs": [
    {
     "output_type": "stream",
     "name": "stdout",
     "text": [
      "1544 matched pairs for PD all years vs CSD 2014 (50% of PD records, 42% of CSD records)\n"
     ]
    }
   ],
   "source": [
    "pairs = matcher3.get_index_pairs_within_thresholds(lower_bound=0.97)\n",
    "num_pairs = len(pairs)\n",
    "print(\"%d matched pairs for PD all years vs CSD 2014 (%d%% of PD records, %d%% of CSD records)\" %\n",
    "    (num_pairs, num_pairs / pddf3.shape[0] * 100, num_pairs / csddf3.shape[0] * 100))"
   ]
  },
  {
   "source": [
    "## Matching 1999-2020 PD PPRR against 2009 CSD PPRR "
   ],
   "cell_type": "markdown",
   "metadata": {}
  },
  {
   "cell_type": "code",
   "execution_count": 13,
   "metadata": {},
   "outputs": [],
   "source": [
    "pddf4 = pd_pprr.loc[pd_pprr.data_production_year != \"2018\", [\"uid\", \"first_name\", \"last_name\", \"rank_code\", \"rank_desc\"]]\n",
    "pddf4 = pddf4.drop_duplicates([\"uid\"]).set_index(\"uid\", drop=True)\n",
    "pddf4.loc[:, \"fc\"] = pddf4.first_name.map(lambda x: x[:1])\n",
    "\n",
    "csddf4 = csd_pprr_09[[\"mid\", \"first_name\", \"last_name\", \"rank_code\", \"rank_desc\"]]\n",
    "csddf4 = csddf4.drop_duplicates([\"mid\"]).set_index(\"mid\", drop=True)\n",
    "csddf4.loc[:, \"fc\"] = csddf4.first_name.map(lambda x: x[:1])\n",
    "\n",
    "matcher4 = ThresholdMatcher(pddf4, csddf4, ColumnsIndex([\"fc\"]), {\n",
    "    \"last_name\": JaroWinklerSimilarity(),\n",
    "    \"first_name\": JaroWinklerSimilarity(),\n",
    "})"
   ]
  },
  {
   "cell_type": "code",
   "execution_count": 14,
   "metadata": {},
   "outputs": [
    {
     "output_type": "stream",
     "name": "stdout",
     "text": [
      "                                                                first_name   last_name rank_code                       rank_desc fc\nscore_range pair_idx sim_score row_key                                                                                             \n1.00-0.97   0        0.985114  84d2f3b46b8baf9d28b497f803e7f46d       john     richard     C7134           senior police officer  j\n                               fc14dde188e0a0e173bdb00367428768       john  richardson       NaN  protective services officer iv  j\n            1        0.980204  629cfb1750e1aafd9fd8b37d5fa6e982      erica    williams     C7110                  police officer  e\n                               507498fd06ac7f9ceb34d6d2e0a31d2f       eric    williams     C7111                 police sergeant  e\n            2        0.978030  c8194823937cbafcfcef5b0c21de59bd    jeffrey      vappie     C7111                 police sergeant  j\n                               159899c80f7097283c2299862d948fde    jeffrey   vappie ii     C7134                police officer 4  j\n            3        0.978030  000a91f3e374e6147d58ed1814247508       juan      barnes     C7110                  police officer  j\n                               225027a3c62f4aa5fe65b1df12d0ebe2       juan   barnes sr     C7134                police officer 4  j\n            4        0.978030  a2487e8950121487ee653a97ba29d020    jeffrey      vappie     C7134           senior police officer  j\n                               159899c80f7097283c2299862d948fde    jeffrey   vappie ii     C7134                police officer 4  j\n0.97-0.95   0        0.958102  5c5bc7df3d37b2a7ea29e1b47b2bd4ab      bruce        bono     C7111                 police sergeant  b\n                               0dc8a7e9f945f459be32f594a472bcfb      bruce     bono jr     C7110                police officer 1  b\n            1        0.958102  2c601ad9d2ff9bc8b282670cdd54f69f      bruce     bono jr     C7110                  police officer  b\n                               0bc7a7740b7448f2e8b9401f56690c8d      bruce        bono     C7111                 police sergeant  b\n            2        0.956589  14798b412a98c8fffb47d0778b6b7c74     joseph        lane     C7110                  police officer  j\n                               d244314b83610b9f6d929342c87b9d90     joseph      lainez     C7134                police officer 4  j\n            3        0.954701  91129851a366bb9990d7d0ad5808678e   terrence      wilson     C7111                 police sergeant  t\n                               300ef5cdbcd24b21b707c3bfdeac6d7d   terrance      wilson     C7110                police officer 1  t\n            4        0.951315  44590aa922914066f965ae67be0222d2    michael        rice     C7111                 police sergeant  m\n                               553131c8f633c2fcd9714f11ef39e83c    michael     richter     C7134                police officer 4  m\n0.95-0.92   0        0.932631  0118a063b4aae95277f0bc1752c75abf      terry      wilson     C7111                 police sergeant  t\n                               300ef5cdbcd24b21b707c3bfdeac6d7d   terrance      wilson     C7110                police officer 1  t\n            1        0.932631  91129851a366bb9990d7d0ad5808678e   terrence      wilson     C7111                 police sergeant  t\n                               89f0a4629be9f21c09e42c3c5d17d1fa      terry      wilson     C7111                 police sergeant  t\n            2        0.931607  1f10c3650a3aa5912dccc5789fd515e8     derwin      joseph     C7110                  police officer  d\n                               f83f19dfe1c58a73fa20a85f83a9419e      devin      joseph     C7134                police officer 4  d\n            3        0.927273  629cfb1750e1aafd9fd8b37d5fa6e982      erica    williams     C7110                  police officer  e\n                               84fef8981c906373a971f32c046de219       erin    williams     C7101       police complaint operator  e\n            4        0.927273  629cfb1750e1aafd9fd8b37d5fa6e982      erica    williams     C7110                  police officer  e\n                               69229d78b128f4626069191482e6c457       eris    williams     C7141             police technician 1  e\n0.92-0.90   0        0.902276  7464d29c8432f9d1590f037f0972dd0b       sean   mc elrath     C7110                  police officer  s\n                               6100476873fea4c3e479ce2948c8783f       sean      mc key     C7109          police recruit academy  s\n            1        0.901625  7d128c1d4a33165a8676d1650d8ff828    patrick       barre     C7133                police officer 3  p\n                               9576182a239ad35a0d570c8ccdf009e1    patrick      baxter     C7111                 police sergeant  p\n            2        0.901625  412af43c2ecf83c17726748a97a527f2      bryan       boyer     C7110                  police officer  b\n                               bd8954e2e714c6cf37693514d856fd26      bryan      bordes     C7134                police officer 4  b\n            3        0.901347  ab2ce2a4bbb59dab4f43dada87ef0e23      james     waiters     C7110                  police officer  j\n                               d03838d908486529284c0f13d543f2d5      james       bates     C7112               police lieutenant  j\n            4        0.900043  95424358822e753eb993c97ee76a9076     tyrone       smith     C7111                 police sergeant  t\n                               952100f4c0007259820b4f1efebe5069       troy       smith     C7134                police officer 4  t\n"
     ]
    }
   ],
   "source": [
    "print_df(matcher4.get_sample_pairs(step=0.025, lower_bound=0.9))"
   ]
  },
  {
   "cell_type": "code",
   "execution_count": 15,
   "metadata": {},
   "outputs": [
    {
     "output_type": "stream",
     "name": "stdout",
     "text": [
      "for threshold 0.970:\n  656 matched pairs (21% of A, 34% of B)\n"
     ]
    }
   ],
   "source": [
    "matcher4.print_decision(0.97)"
   ]
  },
  {
   "cell_type": "code",
   "execution_count": 16,
   "metadata": {},
   "outputs": [],
   "source": [
    "matcher4.save_pairs_to_excel(data_file_path(\"new_orleans_4.xlsx\"), 0.97, lower_bound=0.9)"
   ]
  },
  {
   "cell_type": "code",
   "execution_count": 17,
   "metadata": {},
   "outputs": [
    {
     "output_type": "execute_result",
     "data": {
      "text/plain": [
       "array(['C7134', 'C7109', 'C7133', 'U0018', 'C7110', 'C7132', 'C0020',\n",
       "       'C7104', 'C7113', 'C7112', 'C7101', 'C7111', 'C7142', 'C7108',\n",
       "       'C0363', 'C0402', 'C0070', 'C6170', 'C7102', 'C7162', 'C1116',\n",
       "       'C7141', 'C6026', 'C0145', 'C7122', 'C7106', 'C7143', 'C0061',\n",
       "       'C0029', 'C0364', 'C7107', 'C7105', nan, 'C7103', 'C0365', 'C5251',\n",
       "       'C0032', 'C0060', 'C6120', 'C5250', 'C2323', 'C7144', 'C0171',\n",
       "       'C2501', 'C0420', 'C6027', 'C0161', 'C0410', 'C0238', 'C2502'],\n",
       "      dtype=object)"
      ]
     },
     "metadata": {},
     "execution_count": 17
    }
   ],
   "source": [
    "csd_pprr_09.rank_code.unique()"
   ]
  },
  {
   "cell_type": "code",
   "execution_count": 18,
   "metadata": {},
   "outputs": [
    {
     "output_type": "execute_result",
     "data": {
      "text/plain": [
       "array(['C0025', 'C5201', 'C7134', 'C7112', 'C7132', 'C7110', 'C7109',\n",
       "       'C7162', 'C0413', 'C7107', 'C7133', 'C7101', 'C7111', 'C6205',\n",
       "       'C7106', 'C7141', 'C7105', 'C7170', 'C7113', 'C0020', 'C0100',\n",
       "       'C7150', 'C0043', 'C0140', 'C7108', 'C7171', 'C0322', 'C0420',\n",
       "       'C7143', 'C5250', 'C0141', 'C6025', 'C0023', 'C0061', 'C0022',\n",
       "       'C0102', 'C7142', 'C7159', 'C7102', 'C6026', 'C0101', 'C7172',\n",
       "       'C0132', 'C7122', 'C2320', 'C0030', 'C7173', 'C0021', 'C1116',\n",
       "       'C2501', 'C0238', 'C0244', 'C4048', 'C0246', 'C6033', 'R9999',\n",
       "       'C1741', 'U0138', 'U0018', 'C0070', 'C0243', 'C6027', 'C0162',\n",
       "       'C5251', 'C7186', 'C7185', 'C2500', 'C0145', 'C7103', 'C0403',\n",
       "       'C0249', 'C0409', 'C2502', 'C7104', 'C0363', 'C2322', 'C0421',\n",
       "       'U0003', 'C0360', 'C6170', 'C5253', 'C0032', 'C0060', 'C2323',\n",
       "       'C0364', 'C0361', 'C0402', 'C5256', 'C0366', 'C0410', 'C5252',\n",
       "       'C2321', 'U6080', 'C0178', 'C0362', 'C7144'], dtype=object)"
      ]
     },
     "metadata": {},
     "execution_count": 18
    }
   ],
   "source": [
    "csd_pprr_14.rank_code.unique()"
   ]
  },
  {
   "cell_type": "code",
   "execution_count": 19,
   "metadata": {},
   "outputs": [
    {
     "output_type": "stream",
     "name": "stdout",
     "text": [
      "1491 (out of 1910 so 78%)\n"
     ]
    }
   ],
   "source": [
    "pd_rank_code = pd_pprr.rank_code.unique().tolist()\n",
    "l1 = csd_pprr_09[csd_pprr_09.rank_code.isin(pd_rank_code)].drop_duplicates([\"mid\"]).shape[0]\n",
    "l2 = csd_pprr_09.drop_duplicates([\"mid\"]).shape[0]\n",
    "print(\"%d (out of %d so %d%%)\" % (l1, l2, l1 / l2 * 100))"
   ]
  },
  {
   "cell_type": "code",
   "execution_count": null,
   "metadata": {},
   "outputs": [],
   "source": []
  }
 ],
 "metadata": {
  "kernelspec": {
   "display_name": "Python 3",
   "language": "python",
   "name": "python3"
  },
  "language_info": {
   "codemirror_mode": {
    "name": "ipython",
    "version": 3
   },
   "file_extension": ".py",
   "mimetype": "text/x-python",
   "name": "python",
   "nbconvert_exporter": "python",
   "pygments_lexer": "ipython3",
   "version": "3.8.3-final"
  }
 },
 "nbformat": 4,
 "nbformat_minor": 4
}
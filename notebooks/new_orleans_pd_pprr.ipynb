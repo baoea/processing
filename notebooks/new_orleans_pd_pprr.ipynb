{
 "cells": [
  {
   "cell_type": "code",
   "execution_count": 1,
   "metadata": {},
   "outputs": [],
   "source": [
    "import re\n",
    "from os import listdir\n",
    "import sys; sys.path.append(\"../\")\n",
    "\n",
    "import pandas as pd\n",
    "\n",
    "from lib.name import clean_name\n",
    "from lib.date import to_datetime_series\n",
    "from lib.new_orleans_pd_pprr import clean_pprr, remove_unnamed_cols"
   ]
  },
  {
   "cell_type": "code",
   "execution_count": 2,
   "metadata": {},
   "outputs": [
    {
     "output_type": "execute_result",
     "data": {
      "text/plain": [
       "     Pay Group - Job Dta  Empl ID     Name - Personal Dta  \\\n",
       "0                    POL     6000        Germann,Jayson R   \n",
       "1                    POL     6003  Burkhart,Christopher J   \n",
       "2                    POL     6006       Fihlman,Matthew E   \n",
       "3                    POL     6008    Mitchell  Jr,Brian J   \n",
       "4                    POL     6009         Mc Court,Mark A   \n",
       "...                  ...      ...                     ...   \n",
       "1597                 POL    10445           Gagnon,Chad C   \n",
       "1598                 POL    10446    Martin,Christopher D   \n",
       "1599                 POL    10898            Talley,David   \n",
       "1600                 POL    11432              Gex,Nathan   \n",
       "1601                 POL    13861         Guggenheim,Gary   \n",
       "\n",
       "      Birthdate - Personal Dta  Department ID - Job Dta Job Code - Job Dta  \\\n",
       "0                         1975                  2702737              C7110   \n",
       "1                         1971                  2702735              C7110   \n",
       "2                         1973                  2702731              C7110   \n",
       "3                         1968                  2702731              C7110   \n",
       "4                         1976                  2702735              C7110   \n",
       "...                        ...                      ...                ...   \n",
       "1597                      1971                  2702731              C7110   \n",
       "1598                      1974                  2702731              C7110   \n",
       "1599                      1952                  2702736              C7134   \n",
       "1600                      1973                  2702780              C7110   \n",
       "1601                      1957                  2702737              C7133   \n",
       "\n",
       "     Description - Job Code Info  Badge Nbr  \n",
       "0               POLICE OFFICER 1        NaN  \n",
       "1               POLICE OFFICER 1        NaN  \n",
       "2               POLICE OFFICER 1        NaN  \n",
       "3               POLICE OFFICER 1        NaN  \n",
       "4               POLICE OFFICER 1        NaN  \n",
       "...                          ...        ...  \n",
       "1597            POLICE OFFICER 1        NaN  \n",
       "1598            POLICE OFFICER 1        NaN  \n",
       "1599            POLICE OFFICER 4        NaN  \n",
       "1600            POLICE OFFICER 1        NaN  \n",
       "1601            POLICE OFFICER 3        NaN  \n",
       "\n",
       "[1602 rows x 8 columns]"
      ],
      "text/html": "<div>\n<style scoped>\n    .dataframe tbody tr th:only-of-type {\n        vertical-align: middle;\n    }\n\n    .dataframe tbody tr th {\n        vertical-align: top;\n    }\n\n    .dataframe thead th {\n        text-align: right;\n    }\n</style>\n<table border=\"1\" class=\"dataframe\">\n  <thead>\n    <tr style=\"text-align: right;\">\n      <th></th>\n      <th>Pay Group - Job Dta</th>\n      <th>Empl ID</th>\n      <th>Name - Personal Dta</th>\n      <th>Birthdate - Personal Dta</th>\n      <th>Department ID - Job Dta</th>\n      <th>Job Code - Job Dta</th>\n      <th>Description - Job Code Info</th>\n      <th>Badge Nbr</th>\n    </tr>\n  </thead>\n  <tbody>\n    <tr>\n      <th>0</th>\n      <td>POL</td>\n      <td>6000</td>\n      <td>Germann,Jayson R</td>\n      <td>1975</td>\n      <td>2702737</td>\n      <td>C7110</td>\n      <td>POLICE OFFICER 1</td>\n      <td>NaN</td>\n    </tr>\n    <tr>\n      <th>1</th>\n      <td>POL</td>\n      <td>6003</td>\n      <td>Burkhart,Christopher J</td>\n      <td>1971</td>\n      <td>2702735</td>\n      <td>C7110</td>\n      <td>POLICE OFFICER 1</td>\n      <td>NaN</td>\n    </tr>\n    <tr>\n      <th>2</th>\n      <td>POL</td>\n      <td>6006</td>\n      <td>Fihlman,Matthew E</td>\n      <td>1973</td>\n      <td>2702731</td>\n      <td>C7110</td>\n      <td>POLICE OFFICER 1</td>\n      <td>NaN</td>\n    </tr>\n    <tr>\n      <th>3</th>\n      <td>POL</td>\n      <td>6008</td>\n      <td>Mitchell  Jr,Brian J</td>\n      <td>1968</td>\n      <td>2702731</td>\n      <td>C7110</td>\n      <td>POLICE OFFICER 1</td>\n      <td>NaN</td>\n    </tr>\n    <tr>\n      <th>4</th>\n      <td>POL</td>\n      <td>6009</td>\n      <td>Mc Court,Mark A</td>\n      <td>1976</td>\n      <td>2702735</td>\n      <td>C7110</td>\n      <td>POLICE OFFICER 1</td>\n      <td>NaN</td>\n    </tr>\n    <tr>\n      <th>...</th>\n      <td>...</td>\n      <td>...</td>\n      <td>...</td>\n      <td>...</td>\n      <td>...</td>\n      <td>...</td>\n      <td>...</td>\n      <td>...</td>\n    </tr>\n    <tr>\n      <th>1597</th>\n      <td>POL</td>\n      <td>10445</td>\n      <td>Gagnon,Chad C</td>\n      <td>1971</td>\n      <td>2702731</td>\n      <td>C7110</td>\n      <td>POLICE OFFICER 1</td>\n      <td>NaN</td>\n    </tr>\n    <tr>\n      <th>1598</th>\n      <td>POL</td>\n      <td>10446</td>\n      <td>Martin,Christopher D</td>\n      <td>1974</td>\n      <td>2702731</td>\n      <td>C7110</td>\n      <td>POLICE OFFICER 1</td>\n      <td>NaN</td>\n    </tr>\n    <tr>\n      <th>1599</th>\n      <td>POL</td>\n      <td>10898</td>\n      <td>Talley,David</td>\n      <td>1952</td>\n      <td>2702736</td>\n      <td>C7134</td>\n      <td>POLICE OFFICER 4</td>\n      <td>NaN</td>\n    </tr>\n    <tr>\n      <th>1600</th>\n      <td>POL</td>\n      <td>11432</td>\n      <td>Gex,Nathan</td>\n      <td>1973</td>\n      <td>2702780</td>\n      <td>C7110</td>\n      <td>POLICE OFFICER 1</td>\n      <td>NaN</td>\n    </tr>\n    <tr>\n      <th>1601</th>\n      <td>POL</td>\n      <td>13861</td>\n      <td>Guggenheim,Gary</td>\n      <td>1957</td>\n      <td>2702737</td>\n      <td>C7133</td>\n      <td>POLICE OFFICER 3</td>\n      <td>NaN</td>\n    </tr>\n  </tbody>\n</table>\n<p>1602 rows × 8 columns</p>\n</div>"
     },
     "metadata": {},
     "execution_count": 2
    }
   ],
   "source": [
    "df1 = pd.read_excel(\"../data/New Orleans PD/Administrative Data/New Orleans_PD_PPRR_1999.xls\")\n",
    "df1"
   ]
  },
  {
   "cell_type": "code",
   "execution_count": 3,
   "metadata": {},
   "outputs": [],
   "source": [
    "prefix = \"../data/New Orleans PD/Administrative Data/\"\n",
    "excel_files = [name for name in listdir(prefix) if name.endswith(\".xls\")]\n",
    "input_dfs = {name: pd.read_excel(prefix+name) for name in excel_files}\n",
    "for k, df in input_dfs.items():\n",
    "    input_dfs[k] = remove_unnamed_cols(df)"
   ]
  },
  {
   "cell_type": "code",
   "execution_count": 4,
   "metadata": {},
   "outputs": [],
   "source": [
    "for k, df in input_dfs.items():\n",
    "    df.to_csv(\"../output/%s.csv\" % k[:-4])"
   ]
  },
  {
   "cell_type": "code",
   "execution_count": 5,
   "metadata": {},
   "outputs": [],
   "source": [
    "output_dfs = dict()\n",
    "for name, df1 in input_dfs.items():\n",
    "    df2 = clean_pprr(df1)\n",
    "    output_dfs[name] = df2"
   ]
  },
  {
   "cell_type": "code",
   "execution_count": 6,
   "metadata": {},
   "outputs": [
    {
     "output_type": "execute_result",
     "data": {
      "text/plain": [
       "         Last Name Middle Name   First Name  Badge #  Department #  \\\n",
       "0          Germann           R       Jayson      NaN       2702737   \n",
       "1         Burkhart           J  Christopher      NaN       2702735   \n",
       "2          Fihlman           E      Matthew      NaN       2702731   \n",
       "3     Mitchell  Jr           J        Brian      NaN       2702731   \n",
       "4         Mc Court           A         Mark      NaN       2702735   \n",
       "...            ...         ...          ...      ...           ...   \n",
       "1597        Gagnon           C         Chad      NaN       2702731   \n",
       "1598        Martin           D  Christopher      NaN       2702731   \n",
       "1599        Talley                    David      NaN       2702736   \n",
       "1600           Gex                   Nathan      NaN       2702780   \n",
       "1601    Guggenheim                     Gary      NaN       2702737   \n",
       "\n",
       "     Rank Number #              Rank  Birth Year  \n",
       "0            C7110  POLICE OFFICER 1        1975  \n",
       "1            C7110  POLICE OFFICER 1        1971  \n",
       "2            C7110  POLICE OFFICER 1        1973  \n",
       "3            C7110  POLICE OFFICER 1        1968  \n",
       "4            C7110  POLICE OFFICER 1        1976  \n",
       "...            ...               ...         ...  \n",
       "1597         C7110  POLICE OFFICER 1        1971  \n",
       "1598         C7110  POLICE OFFICER 1        1974  \n",
       "1599         C7134  POLICE OFFICER 4        1952  \n",
       "1600         C7110  POLICE OFFICER 1        1973  \n",
       "1601         C7133  POLICE OFFICER 3        1957  \n",
       "\n",
       "[1602 rows x 8 columns]"
      ],
      "text/html": "<div>\n<style scoped>\n    .dataframe tbody tr th:only-of-type {\n        vertical-align: middle;\n    }\n\n    .dataframe tbody tr th {\n        vertical-align: top;\n    }\n\n    .dataframe thead th {\n        text-align: right;\n    }\n</style>\n<table border=\"1\" class=\"dataframe\">\n  <thead>\n    <tr style=\"text-align: right;\">\n      <th></th>\n      <th>Last Name</th>\n      <th>Middle Name</th>\n      <th>First Name</th>\n      <th>Badge #</th>\n      <th>Department #</th>\n      <th>Rank Number #</th>\n      <th>Rank</th>\n      <th>Birth Year</th>\n    </tr>\n  </thead>\n  <tbody>\n    <tr>\n      <th>0</th>\n      <td>Germann</td>\n      <td>R</td>\n      <td>Jayson</td>\n      <td>NaN</td>\n      <td>2702737</td>\n      <td>C7110</td>\n      <td>POLICE OFFICER 1</td>\n      <td>1975</td>\n    </tr>\n    <tr>\n      <th>1</th>\n      <td>Burkhart</td>\n      <td>J</td>\n      <td>Christopher</td>\n      <td>NaN</td>\n      <td>2702735</td>\n      <td>C7110</td>\n      <td>POLICE OFFICER 1</td>\n      <td>1971</td>\n    </tr>\n    <tr>\n      <th>2</th>\n      <td>Fihlman</td>\n      <td>E</td>\n      <td>Matthew</td>\n      <td>NaN</td>\n      <td>2702731</td>\n      <td>C7110</td>\n      <td>POLICE OFFICER 1</td>\n      <td>1973</td>\n    </tr>\n    <tr>\n      <th>3</th>\n      <td>Mitchell  Jr</td>\n      <td>J</td>\n      <td>Brian</td>\n      <td>NaN</td>\n      <td>2702731</td>\n      <td>C7110</td>\n      <td>POLICE OFFICER 1</td>\n      <td>1968</td>\n    </tr>\n    <tr>\n      <th>4</th>\n      <td>Mc Court</td>\n      <td>A</td>\n      <td>Mark</td>\n      <td>NaN</td>\n      <td>2702735</td>\n      <td>C7110</td>\n      <td>POLICE OFFICER 1</td>\n      <td>1976</td>\n    </tr>\n    <tr>\n      <th>...</th>\n      <td>...</td>\n      <td>...</td>\n      <td>...</td>\n      <td>...</td>\n      <td>...</td>\n      <td>...</td>\n      <td>...</td>\n      <td>...</td>\n    </tr>\n    <tr>\n      <th>1597</th>\n      <td>Gagnon</td>\n      <td>C</td>\n      <td>Chad</td>\n      <td>NaN</td>\n      <td>2702731</td>\n      <td>C7110</td>\n      <td>POLICE OFFICER 1</td>\n      <td>1971</td>\n    </tr>\n    <tr>\n      <th>1598</th>\n      <td>Martin</td>\n      <td>D</td>\n      <td>Christopher</td>\n      <td>NaN</td>\n      <td>2702731</td>\n      <td>C7110</td>\n      <td>POLICE OFFICER 1</td>\n      <td>1974</td>\n    </tr>\n    <tr>\n      <th>1599</th>\n      <td>Talley</td>\n      <td></td>\n      <td>David</td>\n      <td>NaN</td>\n      <td>2702736</td>\n      <td>C7134</td>\n      <td>POLICE OFFICER 4</td>\n      <td>1952</td>\n    </tr>\n    <tr>\n      <th>1600</th>\n      <td>Gex</td>\n      <td></td>\n      <td>Nathan</td>\n      <td>NaN</td>\n      <td>2702780</td>\n      <td>C7110</td>\n      <td>POLICE OFFICER 1</td>\n      <td>1973</td>\n    </tr>\n    <tr>\n      <th>1601</th>\n      <td>Guggenheim</td>\n      <td></td>\n      <td>Gary</td>\n      <td>NaN</td>\n      <td>2702737</td>\n      <td>C7133</td>\n      <td>POLICE OFFICER 3</td>\n      <td>1957</td>\n    </tr>\n  </tbody>\n</table>\n<p>1602 rows × 8 columns</p>\n</div>"
     },
     "metadata": {},
     "execution_count": 6
    }
   ],
   "source": [
    "output_dfs[\"New Orleans_PD_PPRR_1999.xls\"]"
   ]
  },
  {
   "cell_type": "code",
   "execution_count": null,
   "metadata": {},
   "outputs": [],
   "source": []
  }
 ],
 "metadata": {
  "kernelspec": {
   "display_name": "Python 3",
   "language": "python",
   "name": "python3"
  },
  "language_info": {
   "codemirror_mode": {
    "name": "ipython",
    "version": 3
   },
   "file_extension": ".py",
   "mimetype": "text/x-python",
   "name": "python",
   "nbconvert_exporter": "python",
   "pygments_lexer": "ipython3",
   "version": "3.8.3-final"
  }
 },
 "nbformat": 4,
 "nbformat_minor": 4
}
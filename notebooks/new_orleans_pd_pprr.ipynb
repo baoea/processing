{
 "cells": [
  {
   "cell_type": "code",
   "execution_count": 1,
   "metadata": {},
   "outputs": [],
   "source": [
    "import sys; sys.path.append(\"../\")\n",
    "\n",
    "import pandas as pd\n",
    "\n",
    "from lib.explore import show_unique, print_df\n",
    "from lib.path import data_file_path\n",
    "from clean.new_orleans_pd_pprr import clean\n",
    "from clean.new_orleans_csd_pprr import clean_2014 as clean_csd_2014"
   ]
  },
  {
   "cell_type": "code",
   "execution_count": 2,
   "metadata": {
    "tags": []
   },
   "outputs": [
    {
     "output_type": "execute_result",
     "data": {
      "text/plain": [
       "      employee_id birth_year  department_code rank_code  \\\n",
       "0             569       1963          2702736     C7134   \n",
       "1            1369       1969          2702734     C7110   \n",
       "2            1391       1978          2702734     C7134   \n",
       "3            1599       1975          2702750     C7134   \n",
       "4            2507       1969          2702705     U0018   \n",
       "...           ...        ...              ...       ...   \n",
       "1597        10445       1971          2702731     C7110   \n",
       "1598        10446       1974          2702731     C7110   \n",
       "1599        10898       1952          2702736     C7134   \n",
       "1600        11432       1973          2702780     C7110   \n",
       "1601        13861       1957          2702737     C7133   \n",
       "\n",
       "                     rank_desc badge_no   last_name   first_name  \\\n",
       "0        senior police officer    00911      conway      corliss   \n",
       "1               police officer    01226    kendrick        jamal   \n",
       "2        senior police officer    02101    marshall       tianay   \n",
       "3        senior police officer    01580       weber       tamara   \n",
       "4     assistant supt of police               pierce      arlinda   \n",
       "...                        ...      ...         ...          ...   \n",
       "1597            police officer               gagnon         chad   \n",
       "1598            police officer               martin  christopher   \n",
       "1599     senior police officer               talley        david   \n",
       "1600            police officer                  gex       nathan   \n",
       "1601          police officer 3           guggenheim         gary   \n",
       "\n",
       "     middle_initial data_production_year          agency  \\\n",
       "0                 d                 2019  New Orleans PD   \n",
       "1                 d                 2019  New Orleans PD   \n",
       "2                 m                 2019  New Orleans PD   \n",
       "3                 l                 2019  New Orleans PD   \n",
       "4                 g                 2019  New Orleans PD   \n",
       "...             ...                  ...             ...   \n",
       "1597              c                 1999  New Orleans PD   \n",
       "1598              d                 1999  New Orleans PD   \n",
       "1599                                1999  New Orleans PD   \n",
       "1600                                1999  New Orleans PD   \n",
       "1601                                1999  New Orleans PD   \n",
       "\n",
       "                                   uid middle_name department_desc hire_year  \\\n",
       "0     8b16ebc056e613024c057be590b542eb         NaN             NaN       NaN   \n",
       "1     0e3a37aa85a14e359df74fa77eded3f6         NaN             NaN       NaN   \n",
       "2     7f53f8c6c730af6aeb52e66eb74d8507         NaN             NaN       NaN   \n",
       "3     83e8ef518174e1eb6be4a0778d050c9d         NaN             NaN       NaN   \n",
       "4     83691715fdc5baf20ed0742b0b85785b         NaN             NaN       NaN   \n",
       "...                                ...         ...             ...       ...   \n",
       "1597  35c5ce55d4c6015406e3f53558e5bed2         NaN             NaN       NaN   \n",
       "1598  0d5501edb21a59a43435efa67f200828         NaN             NaN       NaN   \n",
       "1599  3bbca1d243b01b47c2bf42b29a8b265c         NaN             NaN       NaN   \n",
       "1600  57335eb19f0669886d99414968f976c3         NaN             NaN       NaN   \n",
       "1601  320274ee8b7f2e8a82d37d07f64c0e0b         NaN             NaN       NaN   \n",
       "\n",
       "     hire_month hire_day  \n",
       "0           NaN      NaN  \n",
       "1           NaN      NaN  \n",
       "2           NaN      NaN  \n",
       "3           NaN      NaN  \n",
       "4           NaN      NaN  \n",
       "...         ...      ...  \n",
       "1597        NaN      NaN  \n",
       "1598        NaN      NaN  \n",
       "1599        NaN      NaN  \n",
       "1600        NaN      NaN  \n",
       "1601        NaN      NaN  \n",
       "\n",
       "[28315 rows x 17 columns]"
      ],
      "text/html": "<div>\n<style scoped>\n    .dataframe tbody tr th:only-of-type {\n        vertical-align: middle;\n    }\n\n    .dataframe tbody tr th {\n        vertical-align: top;\n    }\n\n    .dataframe thead th {\n        text-align: right;\n    }\n</style>\n<table border=\"1\" class=\"dataframe\">\n  <thead>\n    <tr style=\"text-align: right;\">\n      <th></th>\n      <th>employee_id</th>\n      <th>birth_year</th>\n      <th>department_code</th>\n      <th>rank_code</th>\n      <th>rank_desc</th>\n      <th>badge_no</th>\n      <th>last_name</th>\n      <th>first_name</th>\n      <th>middle_initial</th>\n      <th>data_production_year</th>\n      <th>agency</th>\n      <th>uid</th>\n      <th>middle_name</th>\n      <th>department_desc</th>\n      <th>hire_year</th>\n      <th>hire_month</th>\n      <th>hire_day</th>\n    </tr>\n  </thead>\n  <tbody>\n    <tr>\n      <th>0</th>\n      <td>569</td>\n      <td>1963</td>\n      <td>2702736</td>\n      <td>C7134</td>\n      <td>senior police officer</td>\n      <td>00911</td>\n      <td>conway</td>\n      <td>corliss</td>\n      <td>d</td>\n      <td>2019</td>\n      <td>New Orleans PD</td>\n      <td>8b16ebc056e613024c057be590b542eb</td>\n      <td>NaN</td>\n      <td>NaN</td>\n      <td>NaN</td>\n      <td>NaN</td>\n      <td>NaN</td>\n    </tr>\n    <tr>\n      <th>1</th>\n      <td>1369</td>\n      <td>1969</td>\n      <td>2702734</td>\n      <td>C7110</td>\n      <td>police officer</td>\n      <td>01226</td>\n      <td>kendrick</td>\n      <td>jamal</td>\n      <td>d</td>\n      <td>2019</td>\n      <td>New Orleans PD</td>\n      <td>0e3a37aa85a14e359df74fa77eded3f6</td>\n      <td>NaN</td>\n      <td>NaN</td>\n      <td>NaN</td>\n      <td>NaN</td>\n      <td>NaN</td>\n    </tr>\n    <tr>\n      <th>2</th>\n      <td>1391</td>\n      <td>1978</td>\n      <td>2702734</td>\n      <td>C7134</td>\n      <td>senior police officer</td>\n      <td>02101</td>\n      <td>marshall</td>\n      <td>tianay</td>\n      <td>m</td>\n      <td>2019</td>\n      <td>New Orleans PD</td>\n      <td>7f53f8c6c730af6aeb52e66eb74d8507</td>\n      <td>NaN</td>\n      <td>NaN</td>\n      <td>NaN</td>\n      <td>NaN</td>\n      <td>NaN</td>\n    </tr>\n    <tr>\n      <th>3</th>\n      <td>1599</td>\n      <td>1975</td>\n      <td>2702750</td>\n      <td>C7134</td>\n      <td>senior police officer</td>\n      <td>01580</td>\n      <td>weber</td>\n      <td>tamara</td>\n      <td>l</td>\n      <td>2019</td>\n      <td>New Orleans PD</td>\n      <td>83e8ef518174e1eb6be4a0778d050c9d</td>\n      <td>NaN</td>\n      <td>NaN</td>\n      <td>NaN</td>\n      <td>NaN</td>\n      <td>NaN</td>\n    </tr>\n    <tr>\n      <th>4</th>\n      <td>2507</td>\n      <td>1969</td>\n      <td>2702705</td>\n      <td>U0018</td>\n      <td>assistant supt of police</td>\n      <td></td>\n      <td>pierce</td>\n      <td>arlinda</td>\n      <td>g</td>\n      <td>2019</td>\n      <td>New Orleans PD</td>\n      <td>83691715fdc5baf20ed0742b0b85785b</td>\n      <td>NaN</td>\n      <td>NaN</td>\n      <td>NaN</td>\n      <td>NaN</td>\n      <td>NaN</td>\n    </tr>\n    <tr>\n      <th>...</th>\n      <td>...</td>\n      <td>...</td>\n      <td>...</td>\n      <td>...</td>\n      <td>...</td>\n      <td>...</td>\n      <td>...</td>\n      <td>...</td>\n      <td>...</td>\n      <td>...</td>\n      <td>...</td>\n      <td>...</td>\n      <td>...</td>\n      <td>...</td>\n      <td>...</td>\n      <td>...</td>\n      <td>...</td>\n    </tr>\n    <tr>\n      <th>1597</th>\n      <td>10445</td>\n      <td>1971</td>\n      <td>2702731</td>\n      <td>C7110</td>\n      <td>police officer</td>\n      <td></td>\n      <td>gagnon</td>\n      <td>chad</td>\n      <td>c</td>\n      <td>1999</td>\n      <td>New Orleans PD</td>\n      <td>35c5ce55d4c6015406e3f53558e5bed2</td>\n      <td>NaN</td>\n      <td>NaN</td>\n      <td>NaN</td>\n      <td>NaN</td>\n      <td>NaN</td>\n    </tr>\n    <tr>\n      <th>1598</th>\n      <td>10446</td>\n      <td>1974</td>\n      <td>2702731</td>\n      <td>C7110</td>\n      <td>police officer</td>\n      <td></td>\n      <td>martin</td>\n      <td>christopher</td>\n      <td>d</td>\n      <td>1999</td>\n      <td>New Orleans PD</td>\n      <td>0d5501edb21a59a43435efa67f200828</td>\n      <td>NaN</td>\n      <td>NaN</td>\n      <td>NaN</td>\n      <td>NaN</td>\n      <td>NaN</td>\n    </tr>\n    <tr>\n      <th>1599</th>\n      <td>10898</td>\n      <td>1952</td>\n      <td>2702736</td>\n      <td>C7134</td>\n      <td>senior police officer</td>\n      <td></td>\n      <td>talley</td>\n      <td>david</td>\n      <td></td>\n      <td>1999</td>\n      <td>New Orleans PD</td>\n      <td>3bbca1d243b01b47c2bf42b29a8b265c</td>\n      <td>NaN</td>\n      <td>NaN</td>\n      <td>NaN</td>\n      <td>NaN</td>\n      <td>NaN</td>\n    </tr>\n    <tr>\n      <th>1600</th>\n      <td>11432</td>\n      <td>1973</td>\n      <td>2702780</td>\n      <td>C7110</td>\n      <td>police officer</td>\n      <td></td>\n      <td>gex</td>\n      <td>nathan</td>\n      <td></td>\n      <td>1999</td>\n      <td>New Orleans PD</td>\n      <td>57335eb19f0669886d99414968f976c3</td>\n      <td>NaN</td>\n      <td>NaN</td>\n      <td>NaN</td>\n      <td>NaN</td>\n      <td>NaN</td>\n    </tr>\n    <tr>\n      <th>1601</th>\n      <td>13861</td>\n      <td>1957</td>\n      <td>2702737</td>\n      <td>C7133</td>\n      <td>police officer 3</td>\n      <td></td>\n      <td>guggenheim</td>\n      <td>gary</td>\n      <td></td>\n      <td>1999</td>\n      <td>New Orleans PD</td>\n      <td>320274ee8b7f2e8a82d37d07f64c0e0b</td>\n      <td>NaN</td>\n      <td>NaN</td>\n      <td>NaN</td>\n      <td>NaN</td>\n      <td>NaN</td>\n    </tr>\n  </tbody>\n</table>\n<p>28315 rows × 17 columns</p>\n</div>"
     },
     "metadata": {},
     "execution_count": 2
    }
   ],
   "source": [
    "pd_pprr = clean()\n",
    "pd_pprr"
   ]
  },
  {
   "cell_type": "code",
   "execution_count": 3,
   "metadata": {},
   "outputs": [
    {
     "output_type": "execute_result",
     "data": {
      "text/plain": [
       "                    department_desc     last_name first_name rank_code  \\\n",
       "0     pol managemnt services bureau         moore  charmaine     C0025   \n",
       "1     pol managemnt services bureau         coxen     shanna     C5201   \n",
       "2     pol special investigation div  cavaliere sr     morris     C7134   \n",
       "3                pol first district       fonseca    norbert     C7112   \n",
       "4               pol fifth  district       hartman     steven     C7112   \n",
       "...                             ...           ...        ...       ...   \n",
       "3681  pol managemnt services bureau       johnson      shawn     C7105   \n",
       "3682            pol sixth  district       linehan      henry     C7110   \n",
       "3683             pol first district      finneman      david     C7111   \n",
       "3684  pol managemnt services bureau          badr    mohamed     C7105   \n",
       "3685  pol managemnt services bureau       patrick      carol     C7105   \n",
       "\n",
       "                    rank_desc  annual_salary birth_year birth_month birth_day  \\\n",
       "0         clerical specialist       11235.83       1901           1         1   \n",
       "1     laboratory technician 1       14951.72       1972          10         5   \n",
       "2            police officer 4       29243.06       1947           7        21   \n",
       "3           police lieutenant       39893.17       1943           8        31   \n",
       "4           police lieutenant       33524.95       1964           3        11   \n",
       "...                       ...            ...        ...         ...       ...   \n",
       "3681              police aide       28882.03       1990           6        23   \n",
       "3682         police officer 1       37490.69       1982           8        18   \n",
       "3683          police sergeant       50513.12       1960          12        20   \n",
       "3684              police aide       28882.03       1980          10         6   \n",
       "3685              police aide       28882.03       1974          10        23   \n",
       "\n",
       "     hire_year  ... hire_day term_year term_month term_day  \\\n",
       "0         1996  ...        8      1996          8       28   \n",
       "1         1996  ...       22      1997          1        1   \n",
       "2         1970  ...       21      1997          1        4   \n",
       "3         1967  ...       21      1997          1        4   \n",
       "4         1985  ...       10      1997          1        4   \n",
       "...        ...  ...      ...       ...        ...      ...   \n",
       "3681      2014  ...       17      2014         12       10   \n",
       "3682      2009  ...       27      2014         12       11   \n",
       "3683      2001  ...       16      2014         12       13   \n",
       "3684      2014  ...       31      2014         12       20   \n",
       "3685      2014  ...       17      2014         12       30   \n",
       "\n",
       "     pay_prog_start_year pay_prog_start_month pay_prog_start_day  \\\n",
       "0                   1996                    8                 28   \n",
       "1                   1997                    1                  1   \n",
       "2                   1997                    1                  4   \n",
       "3                   1997                    1                  4   \n",
       "4                   1997                    1                  4   \n",
       "...                  ...                  ...                ...   \n",
       "3681                2014                    8                 17   \n",
       "3682                2011                    3                 13   \n",
       "3683                2013                    1                 30   \n",
       "3684                2014                    8                 31   \n",
       "3685                2014                    8                 17   \n",
       "\n",
       "                                   mid data_production_year           agency  \n",
       "0     d9b2bb8829f4b2e4fd97290ea93ee56e                 2014  New Orleans CSD  \n",
       "1     693a1967b92e800cfca8b5f800030d47                 2014  New Orleans CSD  \n",
       "2     0e1583f54d720cd899d9ce17c5d12869                 2014  New Orleans CSD  \n",
       "3     fff2935b97640caa5e15508cf21a871c                 2014  New Orleans CSD  \n",
       "4     7b5f6f0e0cd3b2cfe3718d64a535ac43                 2014  New Orleans CSD  \n",
       "...                                ...                  ...              ...  \n",
       "3681  3e28e9f4250a2e3ae76d6f36345c6153                 2014  New Orleans CSD  \n",
       "3682  7693cd75ee286e1b018fe5df832f79dc                 2014  New Orleans CSD  \n",
       "3683  a4180ae4b9be2d1a19f2f68088cc6254                 2014  New Orleans CSD  \n",
       "3684  eb56dc40d6c443298c510e1925494a56                 2014  New Orleans CSD  \n",
       "3685  77a4b1e86f03f8413931593458db3ee2                 2014  New Orleans CSD  \n",
       "\n",
       "[3686 rows x 21 columns]"
      ],
      "text/html": "<div>\n<style scoped>\n    .dataframe tbody tr th:only-of-type {\n        vertical-align: middle;\n    }\n\n    .dataframe tbody tr th {\n        vertical-align: top;\n    }\n\n    .dataframe thead th {\n        text-align: right;\n    }\n</style>\n<table border=\"1\" class=\"dataframe\">\n  <thead>\n    <tr style=\"text-align: right;\">\n      <th></th>\n      <th>department_desc</th>\n      <th>last_name</th>\n      <th>first_name</th>\n      <th>rank_code</th>\n      <th>rank_desc</th>\n      <th>annual_salary</th>\n      <th>birth_year</th>\n      <th>birth_month</th>\n      <th>birth_day</th>\n      <th>hire_year</th>\n      <th>...</th>\n      <th>hire_day</th>\n      <th>term_year</th>\n      <th>term_month</th>\n      <th>term_day</th>\n      <th>pay_prog_start_year</th>\n      <th>pay_prog_start_month</th>\n      <th>pay_prog_start_day</th>\n      <th>mid</th>\n      <th>data_production_year</th>\n      <th>agency</th>\n    </tr>\n  </thead>\n  <tbody>\n    <tr>\n      <th>0</th>\n      <td>pol managemnt services bureau</td>\n      <td>moore</td>\n      <td>charmaine</td>\n      <td>C0025</td>\n      <td>clerical specialist</td>\n      <td>11235.83</td>\n      <td>1901</td>\n      <td>1</td>\n      <td>1</td>\n      <td>1996</td>\n      <td>...</td>\n      <td>8</td>\n      <td>1996</td>\n      <td>8</td>\n      <td>28</td>\n      <td>1996</td>\n      <td>8</td>\n      <td>28</td>\n      <td>d9b2bb8829f4b2e4fd97290ea93ee56e</td>\n      <td>2014</td>\n      <td>New Orleans CSD</td>\n    </tr>\n    <tr>\n      <th>1</th>\n      <td>pol managemnt services bureau</td>\n      <td>coxen</td>\n      <td>shanna</td>\n      <td>C5201</td>\n      <td>laboratory technician 1</td>\n      <td>14951.72</td>\n      <td>1972</td>\n      <td>10</td>\n      <td>5</td>\n      <td>1996</td>\n      <td>...</td>\n      <td>22</td>\n      <td>1997</td>\n      <td>1</td>\n      <td>1</td>\n      <td>1997</td>\n      <td>1</td>\n      <td>1</td>\n      <td>693a1967b92e800cfca8b5f800030d47</td>\n      <td>2014</td>\n      <td>New Orleans CSD</td>\n    </tr>\n    <tr>\n      <th>2</th>\n      <td>pol special investigation div</td>\n      <td>cavaliere sr</td>\n      <td>morris</td>\n      <td>C7134</td>\n      <td>police officer 4</td>\n      <td>29243.06</td>\n      <td>1947</td>\n      <td>7</td>\n      <td>21</td>\n      <td>1970</td>\n      <td>...</td>\n      <td>21</td>\n      <td>1997</td>\n      <td>1</td>\n      <td>4</td>\n      <td>1997</td>\n      <td>1</td>\n      <td>4</td>\n      <td>0e1583f54d720cd899d9ce17c5d12869</td>\n      <td>2014</td>\n      <td>New Orleans CSD</td>\n    </tr>\n    <tr>\n      <th>3</th>\n      <td>pol first district</td>\n      <td>fonseca</td>\n      <td>norbert</td>\n      <td>C7112</td>\n      <td>police lieutenant</td>\n      <td>39893.17</td>\n      <td>1943</td>\n      <td>8</td>\n      <td>31</td>\n      <td>1967</td>\n      <td>...</td>\n      <td>21</td>\n      <td>1997</td>\n      <td>1</td>\n      <td>4</td>\n      <td>1997</td>\n      <td>1</td>\n      <td>4</td>\n      <td>fff2935b97640caa5e15508cf21a871c</td>\n      <td>2014</td>\n      <td>New Orleans CSD</td>\n    </tr>\n    <tr>\n      <th>4</th>\n      <td>pol fifth  district</td>\n      <td>hartman</td>\n      <td>steven</td>\n      <td>C7112</td>\n      <td>police lieutenant</td>\n      <td>33524.95</td>\n      <td>1964</td>\n      <td>3</td>\n      <td>11</td>\n      <td>1985</td>\n      <td>...</td>\n      <td>10</td>\n      <td>1997</td>\n      <td>1</td>\n      <td>4</td>\n      <td>1997</td>\n      <td>1</td>\n      <td>4</td>\n      <td>7b5f6f0e0cd3b2cfe3718d64a535ac43</td>\n      <td>2014</td>\n      <td>New Orleans CSD</td>\n    </tr>\n    <tr>\n      <th>...</th>\n      <td>...</td>\n      <td>...</td>\n      <td>...</td>\n      <td>...</td>\n      <td>...</td>\n      <td>...</td>\n      <td>...</td>\n      <td>...</td>\n      <td>...</td>\n      <td>...</td>\n      <td>...</td>\n      <td>...</td>\n      <td>...</td>\n      <td>...</td>\n      <td>...</td>\n      <td>...</td>\n      <td>...</td>\n      <td>...</td>\n      <td>...</td>\n      <td>...</td>\n      <td>...</td>\n    </tr>\n    <tr>\n      <th>3681</th>\n      <td>pol managemnt services bureau</td>\n      <td>johnson</td>\n      <td>shawn</td>\n      <td>C7105</td>\n      <td>police aide</td>\n      <td>28882.03</td>\n      <td>1990</td>\n      <td>6</td>\n      <td>23</td>\n      <td>2014</td>\n      <td>...</td>\n      <td>17</td>\n      <td>2014</td>\n      <td>12</td>\n      <td>10</td>\n      <td>2014</td>\n      <td>8</td>\n      <td>17</td>\n      <td>3e28e9f4250a2e3ae76d6f36345c6153</td>\n      <td>2014</td>\n      <td>New Orleans CSD</td>\n    </tr>\n    <tr>\n      <th>3682</th>\n      <td>pol sixth  district</td>\n      <td>linehan</td>\n      <td>henry</td>\n      <td>C7110</td>\n      <td>police officer 1</td>\n      <td>37490.69</td>\n      <td>1982</td>\n      <td>8</td>\n      <td>18</td>\n      <td>2009</td>\n      <td>...</td>\n      <td>27</td>\n      <td>2014</td>\n      <td>12</td>\n      <td>11</td>\n      <td>2011</td>\n      <td>3</td>\n      <td>13</td>\n      <td>7693cd75ee286e1b018fe5df832f79dc</td>\n      <td>2014</td>\n      <td>New Orleans CSD</td>\n    </tr>\n    <tr>\n      <th>3683</th>\n      <td>pol first district</td>\n      <td>finneman</td>\n      <td>david</td>\n      <td>C7111</td>\n      <td>police sergeant</td>\n      <td>50513.12</td>\n      <td>1960</td>\n      <td>12</td>\n      <td>20</td>\n      <td>2001</td>\n      <td>...</td>\n      <td>16</td>\n      <td>2014</td>\n      <td>12</td>\n      <td>13</td>\n      <td>2013</td>\n      <td>1</td>\n      <td>30</td>\n      <td>a4180ae4b9be2d1a19f2f68088cc6254</td>\n      <td>2014</td>\n      <td>New Orleans CSD</td>\n    </tr>\n    <tr>\n      <th>3684</th>\n      <td>pol managemnt services bureau</td>\n      <td>badr</td>\n      <td>mohamed</td>\n      <td>C7105</td>\n      <td>police aide</td>\n      <td>28882.03</td>\n      <td>1980</td>\n      <td>10</td>\n      <td>6</td>\n      <td>2014</td>\n      <td>...</td>\n      <td>31</td>\n      <td>2014</td>\n      <td>12</td>\n      <td>20</td>\n      <td>2014</td>\n      <td>8</td>\n      <td>31</td>\n      <td>eb56dc40d6c443298c510e1925494a56</td>\n      <td>2014</td>\n      <td>New Orleans CSD</td>\n    </tr>\n    <tr>\n      <th>3685</th>\n      <td>pol managemnt services bureau</td>\n      <td>patrick</td>\n      <td>carol</td>\n      <td>C7105</td>\n      <td>police aide</td>\n      <td>28882.03</td>\n      <td>1974</td>\n      <td>10</td>\n      <td>23</td>\n      <td>2014</td>\n      <td>...</td>\n      <td>17</td>\n      <td>2014</td>\n      <td>12</td>\n      <td>30</td>\n      <td>2014</td>\n      <td>8</td>\n      <td>17</td>\n      <td>77a4b1e86f03f8413931593458db3ee2</td>\n      <td>2014</td>\n      <td>New Orleans CSD</td>\n    </tr>\n  </tbody>\n</table>\n<p>3686 rows × 21 columns</p>\n</div>"
     },
     "metadata": {},
     "execution_count": 3
    }
   ],
   "source": [
    "csd_pprr = clean_csd_2014()\n",
    "csd_pprr"
   ]
  },
  {
   "cell_type": "code",
   "execution_count": 4,
   "metadata": {},
   "outputs": [],
   "source": [
    "from lib.match import (\n",
    "    ColumnsIndex, StringSimilarity, JaroWinklerSimilarity, DateSimilarity, ThresholdMatcher\n",
    ")\n",
    "from lib.date import combine_date_columns\n",
    "\n",
    "pddf = pd_pprr.loc[pd_pprr.data_production_year != \"2018\", [\"uid\", \"first_name\", \"last_name\", \"birth_year\"]]\n",
    "pddf = pddf.drop_duplicates([\"uid\"]).set_index(\"uid\", drop=True)\n",
    "\n",
    "csddf = csd_pprr[[\"mid\", \"first_name\", \"last_name\", \"birth_year\"]]\n",
    "# csddf.loc[:, \"hire_date\"] = combine_date_columns(csd_pprr, \"hire_year\", \"hire_month\", \"hire_day\")\n",
    "csddf = csddf.drop_duplicates([\"mid\"]).set_index(\"mid\", drop=True)\n",
    "\n",
    "matcher = ThresholdMatcher(pddf, csddf, ColumnsIndex([\"birth_year\"]), {\n",
    "    \"last_name\": JaroWinklerSimilarity(),\n",
    "    \"first_name\": JaroWinklerSimilarity(),\n",
    "})"
   ]
  },
  {
   "cell_type": "code",
   "execution_count": 5,
   "metadata": {},
   "outputs": [
    {
     "output_type": "stream",
     "name": "stdout",
     "text": [
      "                                                                   first_name    last_name birth_year\nscore_range pair_idx sim_score row_key                                                               \n1.00-0.95   0        0.985297  16d459c4b261f3015061a7cc7362851c        monica     mclaurin       1982\n                               e8479c7a46d4edde888f348df4e167c7        monica    mc laurin       1982\n            1        0.983475  967c2ae04b169f07e7fa8fdfd110551e        currin  guillory jr       1953\n                               560c02d765705f8d642eb55c7818970e      currin c  guillory jr       1953\n            2        0.978030  c6ae9174774e254650073722e5b92a8f          john       brunet       1954\n                               8f68dd8f3eb97136dfdc4e208c1619b8          john    brunet jr       1954\n            3        0.978030  33beffd09a1b020d1187c6b4b264014a         henry       newton       1944\n                               cf2c24441fa36a5ed959c0902edbb0de         henry    newton jr       1944\n            4        0.963230  caf14d79a71090573d8741986b4ae1a4        andrew     whitaker       1975\n                               739563bbebcc254baca6272050227dcb        andrew        white       1975\n0.95-0.90   0        0.920016  f67cd61e7bcf9f4d6b2c3e19e2c2d36d   christopher      johnson       1982\n                               6c24e78daa0da16dd158aa121985edd6   christopher        jones       1982\n            1        0.916686  9fc64354454711c97058db6110b3a369           est      scanlan       1951\n                               cd4f4a4a200abd39f9bc0725472c8d2b  est of cindy      scanlan       1951\n            2        0.910609  8b2dfbe0c1d43f9537dae01e96458ff1       charles       miller       1963\n                               5fec10a691f8080db4f4c7a1fa2837d1         carol       miller       1963\n            3        0.905539  838aac83e00e8c5ca0f839c96d6cb3be             k      karanja       1973\n                               6af9a9493c6e2024641d241a991a1dbb           k k      karanja       1973\n            4        0.901347  4ddb5b8d603f88e9de689f3230234b47         angel     williams       1974\n                               a52c764f08ae3af1e536a05f79b44fce       janelle     williams       1974\n"
     ]
    }
   ],
   "source": [
    "print_df(matcher.get_sample_pairs(lower_bound=0.9))"
   ]
  },
  {
   "cell_type": "code",
   "execution_count": 6,
   "metadata": {},
   "outputs": [],
   "source": [
    "matcher.save_pairs_to_excel(data_file_path(\"new_orleans_pd_pprr_vs_new_orleans_csd_pprr.xlsx\"), lower_bound=0.9)"
   ]
  },
  {
   "cell_type": "code",
   "execution_count": 12,
   "metadata": {},
   "outputs": [],
   "source": [
    "pddf18 = pd_pprr.loc[(pd_pprr.data_production_year == \"2018\") & ~(pd_pprr.uid.isin(pddf.index)), [\"uid\", \"first_name\", \"last_name\"]]\n",
    "pddf18.loc[:, \"hire_date\"] = combine_date_columns(pd_pprr.loc[pd_pprr.data_production_year == \"2018\"], \"hire_year\", \"hire_month\", \"hire_day\")\n",
    "pddf18 = pddf18.drop_duplicates([\"uid\"]).set_index(\"uid\", drop=True)\n",
    "pddf18.loc[:, \"fc\"] = pddf18.first_name.map(lambda x: x[:1])\n",
    "\n",
    "csddf2 = csd_pprr[[\"mid\", \"first_name\", \"last_name\"]]\n",
    "csddf2.loc[:, \"hire_date\"] = combine_date_columns(csd_pprr, \"hire_year\", \"hire_month\", \"hire_day\")\n",
    "csddf2 = csddf2.drop_duplicates([\"mid\"]).set_index(\"mid\", drop=True)\n",
    "csddf2.loc[:, \"fc\"] = csddf2.first_name.map(lambda x: x[:1])\n",
    "\n",
    "matcher2 = ThresholdMatcher(pddf18, csddf2, ColumnsIndex([\"fc\"]), {\n",
    "    \"last_name\": JaroWinklerSimilarity(),\n",
    "    \"first_name\": JaroWinklerSimilarity(),\n",
    "    \"hire_date\": DateSimilarity()\n",
    "})"
   ]
  },
  {
   "cell_type": "code",
   "execution_count": 17,
   "metadata": {},
   "outputs": [
    {
     "output_type": "stream",
     "name": "stdout",
     "text": [
      "                                                                  first_name   last_name  hire_date fc\nscore_range pair_idx sim_score row_key                                                                \n0.80-0.75   0        0.762781  bf30b691391de03fdaa2df43a58e76c1       steven   friedrich 2018-04-01  s\n                               3ac264cf0c7749e212d90f12ef7ad404       steven    friedman 2000-02-13  s\n0.75-0.70   0        0.709508  77161bf6b433fd5a7d8f2b6da38384d9        james     gilbert 2017-09-03  j\n                               f9198d16211f134ab64a871e9be8dad9        james     schiler 2000-04-09  j\n            1        0.708529  78cfc36b921a50fba024eca72d6a458e         jose      romero 2018-07-15  j\n                               ccbfc4c3c3262ed0508d7cd390be7288          joe     roberts 1982-01-03  j\n            2        0.704746  471c96afb06d58297ee23ae23d6e18fd  christopher  washington 2018-03-18  c\n                               0a18f9e98d7d5de3cd8a44c7bfe8133b  christopher    johnston 1970-07-20  c\n            3        0.704746  92b5e0ad1382ba82f334752f24ca70ef         eric       alsup 2018-02-18  e\n                               8b3fc35a1579d71e07b7fd292ec29065         eric      biskup 1998-01-25  e\n            4        0.702911  bf30b691391de03fdaa2df43a58e76c1       steven   friedrich 2018-04-01  s\n                               99748e37b8f20515876f2e287468f1cd       steven        rice 1989-08-28  s\n"
     ]
    }
   ],
   "source": [
    "print_df(matcher2.get_sample_pairs(lower_bound=0.7))"
   ]
  },
  {
   "cell_type": "code",
   "execution_count": 18,
   "metadata": {},
   "outputs": [],
   "source": [
    "matcher2.save_pairs_to_excel(data_file_path(\"new_orleans_pd_pprr_2018_vs_new_orleans_csd_pprr.xlsx\"), lower_bound=0.7)"
   ]
  },
  {
   "cell_type": "code",
   "execution_count": null,
   "metadata": {},
   "outputs": [],
   "source": []
  }
 ],
 "metadata": {
  "kernelspec": {
   "display_name": "Python 3",
   "language": "python",
   "name": "python3"
  },
  "language_info": {
   "codemirror_mode": {
    "name": "ipython",
    "version": 3
   },
   "file_extension": ".py",
   "mimetype": "text/x-python",
   "name": "python",
   "nbconvert_exporter": "python",
   "pygments_lexer": "ipython3",
   "version": "3.8.3-final"
  }
 },
 "nbformat": 4,
 "nbformat_minor": 4
}
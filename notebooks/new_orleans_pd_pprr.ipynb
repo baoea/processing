{
 "cells": [
  {
   "cell_type": "code",
   "execution_count": 1,
   "metadata": {},
   "outputs": [],
   "source": [
    "import sys; sys.path.append(\"../\")\n",
    "\n",
    "import pandas as pd\n",
    "\n",
    "from lib.explore import show_unique\n",
    "from clean.new_orleans_pd_pprr import clean"
   ]
  },
  {
   "cell_type": "code",
   "execution_count": 2,
   "metadata": {
    "tags": []
   },
   "outputs": [
    {
     "output_type": "execute_result",
     "data": {
      "text/plain": [
       "      employee_id birth_year  department_code rank_code  \\\n",
       "0             569       1963          2702736     C7134   \n",
       "1            1369       1969          2702734     C7110   \n",
       "2            1391       1978          2702734     C7134   \n",
       "3            1599       1975          2702750     C7134   \n",
       "4            2507       1969          2702705     U0018   \n",
       "...           ...        ...              ...       ...   \n",
       "1597        10445       1971          2702731     C7110   \n",
       "1598        10446       1974          2702731     C7110   \n",
       "1599        10898       1952          2702736     C7134   \n",
       "1600        11432       1973          2702780     C7110   \n",
       "1601        13861       1957          2702737     C7133   \n",
       "\n",
       "                     rank_desc badge_no   last_name   first_name  \\\n",
       "0        senior police officer    00911      conway      corliss   \n",
       "1               police officer    01226    kendrick        jamal   \n",
       "2        senior police officer    02101    marshall       tianay   \n",
       "3        senior police officer    01580       weber       tamara   \n",
       "4     assistant supt of police               pierce      arlinda   \n",
       "...                        ...      ...         ...          ...   \n",
       "1597            police officer               gagnon         chad   \n",
       "1598            police officer               martin  christopher   \n",
       "1599     senior police officer               talley        david   \n",
       "1600            police officer                  gex       nathan   \n",
       "1601          police officer 3           guggenheim         gary   \n",
       "\n",
       "     middle_initial data_production_year          agency  \\\n",
       "0                 d                 2019  New Orleans PD   \n",
       "1                 d                 2019  New Orleans PD   \n",
       "2                 m                 2019  New Orleans PD   \n",
       "3                 l                 2019  New Orleans PD   \n",
       "4                 g                 2019  New Orleans PD   \n",
       "...             ...                  ...             ...   \n",
       "1597              c                 1999  New Orleans PD   \n",
       "1598              d                 1999  New Orleans PD   \n",
       "1599                                1999  New Orleans PD   \n",
       "1600                                1999  New Orleans PD   \n",
       "1601                                1999  New Orleans PD   \n",
       "\n",
       "                                   uid middle_name department_desc hire_year  \\\n",
       "0     8b16ebc056e613024c057be590b542eb         NaN             NaN       NaN   \n",
       "1     0e3a37aa85a14e359df74fa77eded3f6         NaN             NaN       NaN   \n",
       "2     7f53f8c6c730af6aeb52e66eb74d8507         NaN             NaN       NaN   \n",
       "3     83e8ef518174e1eb6be4a0778d050c9d         NaN             NaN       NaN   \n",
       "4     83691715fdc5baf20ed0742b0b85785b         NaN             NaN       NaN   \n",
       "...                                ...         ...             ...       ...   \n",
       "1597  35c5ce55d4c6015406e3f53558e5bed2         NaN             NaN       NaN   \n",
       "1598  0d5501edb21a59a43435efa67f200828         NaN             NaN       NaN   \n",
       "1599  3bbca1d243b01b47c2bf42b29a8b265c         NaN             NaN       NaN   \n",
       "1600  57335eb19f0669886d99414968f976c3         NaN             NaN       NaN   \n",
       "1601  320274ee8b7f2e8a82d37d07f64c0e0b         NaN             NaN       NaN   \n",
       "\n",
       "     hire_month hire_day  \n",
       "0           NaN      NaN  \n",
       "1           NaN      NaN  \n",
       "2           NaN      NaN  \n",
       "3           NaN      NaN  \n",
       "4           NaN      NaN  \n",
       "...         ...      ...  \n",
       "1597        NaN      NaN  \n",
       "1598        NaN      NaN  \n",
       "1599        NaN      NaN  \n",
       "1600        NaN      NaN  \n",
       "1601        NaN      NaN  \n",
       "\n",
       "[28315 rows x 17 columns]"
      ],
      "text/html": "<div>\n<style scoped>\n    .dataframe tbody tr th:only-of-type {\n        vertical-align: middle;\n    }\n\n    .dataframe tbody tr th {\n        vertical-align: top;\n    }\n\n    .dataframe thead th {\n        text-align: right;\n    }\n</style>\n<table border=\"1\" class=\"dataframe\">\n  <thead>\n    <tr style=\"text-align: right;\">\n      <th></th>\n      <th>employee_id</th>\n      <th>birth_year</th>\n      <th>department_code</th>\n      <th>rank_code</th>\n      <th>rank_desc</th>\n      <th>badge_no</th>\n      <th>last_name</th>\n      <th>first_name</th>\n      <th>middle_initial</th>\n      <th>data_production_year</th>\n      <th>agency</th>\n      <th>uid</th>\n      <th>middle_name</th>\n      <th>department_desc</th>\n      <th>hire_year</th>\n      <th>hire_month</th>\n      <th>hire_day</th>\n    </tr>\n  </thead>\n  <tbody>\n    <tr>\n      <th>0</th>\n      <td>569</td>\n      <td>1963</td>\n      <td>2702736</td>\n      <td>C7134</td>\n      <td>senior police officer</td>\n      <td>00911</td>\n      <td>conway</td>\n      <td>corliss</td>\n      <td>d</td>\n      <td>2019</td>\n      <td>New Orleans PD</td>\n      <td>8b16ebc056e613024c057be590b542eb</td>\n      <td>NaN</td>\n      <td>NaN</td>\n      <td>NaN</td>\n      <td>NaN</td>\n      <td>NaN</td>\n    </tr>\n    <tr>\n      <th>1</th>\n      <td>1369</td>\n      <td>1969</td>\n      <td>2702734</td>\n      <td>C7110</td>\n      <td>police officer</td>\n      <td>01226</td>\n      <td>kendrick</td>\n      <td>jamal</td>\n      <td>d</td>\n      <td>2019</td>\n      <td>New Orleans PD</td>\n      <td>0e3a37aa85a14e359df74fa77eded3f6</td>\n      <td>NaN</td>\n      <td>NaN</td>\n      <td>NaN</td>\n      <td>NaN</td>\n      <td>NaN</td>\n    </tr>\n    <tr>\n      <th>2</th>\n      <td>1391</td>\n      <td>1978</td>\n      <td>2702734</td>\n      <td>C7134</td>\n      <td>senior police officer</td>\n      <td>02101</td>\n      <td>marshall</td>\n      <td>tianay</td>\n      <td>m</td>\n      <td>2019</td>\n      <td>New Orleans PD</td>\n      <td>7f53f8c6c730af6aeb52e66eb74d8507</td>\n      <td>NaN</td>\n      <td>NaN</td>\n      <td>NaN</td>\n      <td>NaN</td>\n      <td>NaN</td>\n    </tr>\n    <tr>\n      <th>3</th>\n      <td>1599</td>\n      <td>1975</td>\n      <td>2702750</td>\n      <td>C7134</td>\n      <td>senior police officer</td>\n      <td>01580</td>\n      <td>weber</td>\n      <td>tamara</td>\n      <td>l</td>\n      <td>2019</td>\n      <td>New Orleans PD</td>\n      <td>83e8ef518174e1eb6be4a0778d050c9d</td>\n      <td>NaN</td>\n      <td>NaN</td>\n      <td>NaN</td>\n      <td>NaN</td>\n      <td>NaN</td>\n    </tr>\n    <tr>\n      <th>4</th>\n      <td>2507</td>\n      <td>1969</td>\n      <td>2702705</td>\n      <td>U0018</td>\n      <td>assistant supt of police</td>\n      <td></td>\n      <td>pierce</td>\n      <td>arlinda</td>\n      <td>g</td>\n      <td>2019</td>\n      <td>New Orleans PD</td>\n      <td>83691715fdc5baf20ed0742b0b85785b</td>\n      <td>NaN</td>\n      <td>NaN</td>\n      <td>NaN</td>\n      <td>NaN</td>\n      <td>NaN</td>\n    </tr>\n    <tr>\n      <th>...</th>\n      <td>...</td>\n      <td>...</td>\n      <td>...</td>\n      <td>...</td>\n      <td>...</td>\n      <td>...</td>\n      <td>...</td>\n      <td>...</td>\n      <td>...</td>\n      <td>...</td>\n      <td>...</td>\n      <td>...</td>\n      <td>...</td>\n      <td>...</td>\n      <td>...</td>\n      <td>...</td>\n      <td>...</td>\n    </tr>\n    <tr>\n      <th>1597</th>\n      <td>10445</td>\n      <td>1971</td>\n      <td>2702731</td>\n      <td>C7110</td>\n      <td>police officer</td>\n      <td></td>\n      <td>gagnon</td>\n      <td>chad</td>\n      <td>c</td>\n      <td>1999</td>\n      <td>New Orleans PD</td>\n      <td>35c5ce55d4c6015406e3f53558e5bed2</td>\n      <td>NaN</td>\n      <td>NaN</td>\n      <td>NaN</td>\n      <td>NaN</td>\n      <td>NaN</td>\n    </tr>\n    <tr>\n      <th>1598</th>\n      <td>10446</td>\n      <td>1974</td>\n      <td>2702731</td>\n      <td>C7110</td>\n      <td>police officer</td>\n      <td></td>\n      <td>martin</td>\n      <td>christopher</td>\n      <td>d</td>\n      <td>1999</td>\n      <td>New Orleans PD</td>\n      <td>0d5501edb21a59a43435efa67f200828</td>\n      <td>NaN</td>\n      <td>NaN</td>\n      <td>NaN</td>\n      <td>NaN</td>\n      <td>NaN</td>\n    </tr>\n    <tr>\n      <th>1599</th>\n      <td>10898</td>\n      <td>1952</td>\n      <td>2702736</td>\n      <td>C7134</td>\n      <td>senior police officer</td>\n      <td></td>\n      <td>talley</td>\n      <td>david</td>\n      <td></td>\n      <td>1999</td>\n      <td>New Orleans PD</td>\n      <td>3bbca1d243b01b47c2bf42b29a8b265c</td>\n      <td>NaN</td>\n      <td>NaN</td>\n      <td>NaN</td>\n      <td>NaN</td>\n      <td>NaN</td>\n    </tr>\n    <tr>\n      <th>1600</th>\n      <td>11432</td>\n      <td>1973</td>\n      <td>2702780</td>\n      <td>C7110</td>\n      <td>police officer</td>\n      <td></td>\n      <td>gex</td>\n      <td>nathan</td>\n      <td></td>\n      <td>1999</td>\n      <td>New Orleans PD</td>\n      <td>57335eb19f0669886d99414968f976c3</td>\n      <td>NaN</td>\n      <td>NaN</td>\n      <td>NaN</td>\n      <td>NaN</td>\n      <td>NaN</td>\n    </tr>\n    <tr>\n      <th>1601</th>\n      <td>13861</td>\n      <td>1957</td>\n      <td>2702737</td>\n      <td>C7133</td>\n      <td>police officer 3</td>\n      <td></td>\n      <td>guggenheim</td>\n      <td>gary</td>\n      <td></td>\n      <td>1999</td>\n      <td>New Orleans PD</td>\n      <td>320274ee8b7f2e8a82d37d07f64c0e0b</td>\n      <td>NaN</td>\n      <td>NaN</td>\n      <td>NaN</td>\n      <td>NaN</td>\n      <td>NaN</td>\n    </tr>\n  </tbody>\n</table>\n<p>28315 rows × 17 columns</p>\n</div>"
     },
     "metadata": {},
     "execution_count": 2
    }
   ],
   "source": [
    "df = clean()\n",
    "df"
   ]
  },
  {
   "cell_type": "code",
   "execution_count": 3,
   "metadata": {},
   "outputs": [
    {
     "output_type": "execute_result",
     "data": {
      "text/plain": [
       "array([nan, 'pol police recruits', 'pol fiscal management',\n",
       "       'pol seventh district', 'pol fifth  district',\n",
       "       'pol second district', 'pol third  district',\n",
       "       'pol eighth district', 'pol sixth  district', 'pol first district',\n",
       "       'pol fourth district', 'pol field operations',\n",
       "       'pol public integrity', 'pol managemnt services bureau',\n",
       "       'pol special investigation div', 'pol special operations',\n",
       "       'pol investigations & sprt bure', 'pol traffic',\n",
       "       'pol off of the superintendent', 'pol mid city',\n",
       "       'pol lakeview crime prevent dst', 'pol public affairs'],\n",
       "      dtype=object)"
      ]
     },
     "metadata": {},
     "execution_count": 3
    }
   ],
   "source": [
    "df.department_desc.unique()"
   ]
  }
 ],
 "metadata": {
  "kernelspec": {
   "display_name": "Python 3",
   "language": "python",
   "name": "python3"
  },
  "language_info": {
   "codemirror_mode": {
    "name": "ipython",
    "version": 3
   },
   "file_extension": ".py",
   "mimetype": "text/x-python",
   "name": "python",
   "nbconvert_exporter": "python",
   "pygments_lexer": "ipython3",
   "version": "3.8.3-final"
  }
 },
 "nbformat": 4,
 "nbformat_minor": 4
}
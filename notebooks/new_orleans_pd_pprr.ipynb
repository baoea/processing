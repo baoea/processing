{
 "cells": [
  {
   "cell_type": "code",
   "execution_count": 1,
   "metadata": {},
   "outputs": [],
   "source": [
    "import sys; sys.path.append(\"../\")\n",
    "\n",
    "from clean.new_orleans_pd import clean_personel"
   ]
  },
  {
   "cell_type": "code",
   "execution_count": 2,
   "metadata": {},
   "outputs": [],
   "source": [
    "history, personel = clean_personel()"
   ]
  },
  {
   "cell_type": "code",
   "execution_count": 3,
   "metadata": {},
   "outputs": [
    {
     "output_type": "execute_result",
     "data": {
      "text/plain": [
       "             UID  Last Name Middle Name First Name Birth Year Employee ID #\n",
       "0     d2bd686e63     Conway           D    Corliss       1963        000569\n",
       "1     abf77e9ac2  Plustache                 Daniel       1958        001142\n",
       "2     a630a41313   Marshall           M     Tianay       1978        001391\n",
       "3     cd2570679d     Austin           J    Larissa       1970        001573\n",
       "4     9bea94b52c      Weber           L     Tamara       1975        001599\n",
       "...          ...        ...         ...        ...        ...           ...\n",
       "3766  7cab5fcdac     Denton                  Frank       1935           NaN\n",
       "3767  45fd2da539     Robert                    May                      NaN\n",
       "3768  b29a51a000     Jerome                  Moore                      NaN\n",
       "3769  2ca682ee94      Henry                 Newton                      NaN\n",
       "3770  ed9de24db6       Alex                  Sider                      NaN\n",
       "\n",
       "[3771 rows x 6 columns]"
      ],
      "text/html": "<div>\n<style scoped>\n    .dataframe tbody tr th:only-of-type {\n        vertical-align: middle;\n    }\n\n    .dataframe tbody tr th {\n        vertical-align: top;\n    }\n\n    .dataframe thead th {\n        text-align: right;\n    }\n</style>\n<table border=\"1\" class=\"dataframe\">\n  <thead>\n    <tr style=\"text-align: right;\">\n      <th></th>\n      <th>UID</th>\n      <th>Last Name</th>\n      <th>Middle Name</th>\n      <th>First Name</th>\n      <th>Birth Year</th>\n      <th>Employee ID #</th>\n    </tr>\n  </thead>\n  <tbody>\n    <tr>\n      <th>0</th>\n      <td>d2bd686e63</td>\n      <td>Conway</td>\n      <td>D</td>\n      <td>Corliss</td>\n      <td>1963</td>\n      <td>000569</td>\n    </tr>\n    <tr>\n      <th>1</th>\n      <td>abf77e9ac2</td>\n      <td>Plustache</td>\n      <td></td>\n      <td>Daniel</td>\n      <td>1958</td>\n      <td>001142</td>\n    </tr>\n    <tr>\n      <th>2</th>\n      <td>a630a41313</td>\n      <td>Marshall</td>\n      <td>M</td>\n      <td>Tianay</td>\n      <td>1978</td>\n      <td>001391</td>\n    </tr>\n    <tr>\n      <th>3</th>\n      <td>cd2570679d</td>\n      <td>Austin</td>\n      <td>J</td>\n      <td>Larissa</td>\n      <td>1970</td>\n      <td>001573</td>\n    </tr>\n    <tr>\n      <th>4</th>\n      <td>9bea94b52c</td>\n      <td>Weber</td>\n      <td>L</td>\n      <td>Tamara</td>\n      <td>1975</td>\n      <td>001599</td>\n    </tr>\n    <tr>\n      <th>...</th>\n      <td>...</td>\n      <td>...</td>\n      <td>...</td>\n      <td>...</td>\n      <td>...</td>\n      <td>...</td>\n    </tr>\n    <tr>\n      <th>3766</th>\n      <td>7cab5fcdac</td>\n      <td>Denton</td>\n      <td></td>\n      <td>Frank</td>\n      <td>1935</td>\n      <td>NaN</td>\n    </tr>\n    <tr>\n      <th>3767</th>\n      <td>45fd2da539</td>\n      <td>Robert</td>\n      <td></td>\n      <td>May</td>\n      <td></td>\n      <td>NaN</td>\n    </tr>\n    <tr>\n      <th>3768</th>\n      <td>b29a51a000</td>\n      <td>Jerome</td>\n      <td></td>\n      <td>Moore</td>\n      <td></td>\n      <td>NaN</td>\n    </tr>\n    <tr>\n      <th>3769</th>\n      <td>2ca682ee94</td>\n      <td>Henry</td>\n      <td></td>\n      <td>Newton</td>\n      <td></td>\n      <td>NaN</td>\n    </tr>\n    <tr>\n      <th>3770</th>\n      <td>ed9de24db6</td>\n      <td>Alex</td>\n      <td></td>\n      <td>Sider</td>\n      <td></td>\n      <td>NaN</td>\n    </tr>\n  </tbody>\n</table>\n<p>3771 rows × 6 columns</p>\n</div>"
     },
     "metadata": {},
     "execution_count": 3
    }
   ],
   "source": [
    "personel"
   ]
  },
  {
   "cell_type": "code",
   "execution_count": 4,
   "metadata": {},
   "outputs": [
    {
     "output_type": "execute_result",
     "data": {
      "text/plain": [
       "             UID Department # Badge # Rank Number #               Rank  Year  \\\n",
       "0     d2bd686e63      2702736   00911         C7134   Police Officer 4  2009   \n",
       "1     abf77e9ac2      2702740                 C7134   Police Officer 4  2009   \n",
       "2     a630a41313      2702735                 C7132   Police Officer 2  2009   \n",
       "3     cd2570679d      2702731                 C7133   Police Officer 3  2009   \n",
       "4     9bea94b52c      2702750                 C7110   Police Officer 1  2009   \n",
       "...          ...          ...     ...           ...                ...   ...   \n",
       "1353  7cab5fcdac                10138                Reserve Officers   2018   \n",
       "1354  45fd2da539                10128                Reserve Officers   2018   \n",
       "1355  b29a51a000                10153                Reserve Officers   2018   \n",
       "1356  2ca682ee94                10082                Reserve Officers   2018   \n",
       "1357  ed9de24db6                10174                Reserve Officers   2018   \n",
       "\n",
       "     Police Department  \n",
       "0       New Orleans PD  \n",
       "1       New Orleans PD  \n",
       "2       New Orleans PD  \n",
       "3       New Orleans PD  \n",
       "4       New Orleans PD  \n",
       "...                ...  \n",
       "1353    New Orleans PD  \n",
       "1354    New Orleans PD  \n",
       "1355    New Orleans PD  \n",
       "1356    New Orleans PD  \n",
       "1357    New Orleans PD  \n",
       "\n",
       "[28470 rows x 7 columns]"
      ],
      "text/html": "<div>\n<style scoped>\n    .dataframe tbody tr th:only-of-type {\n        vertical-align: middle;\n    }\n\n    .dataframe tbody tr th {\n        vertical-align: top;\n    }\n\n    .dataframe thead th {\n        text-align: right;\n    }\n</style>\n<table border=\"1\" class=\"dataframe\">\n  <thead>\n    <tr style=\"text-align: right;\">\n      <th></th>\n      <th>UID</th>\n      <th>Department #</th>\n      <th>Badge #</th>\n      <th>Rank Number #</th>\n      <th>Rank</th>\n      <th>Year</th>\n      <th>Police Department</th>\n    </tr>\n  </thead>\n  <tbody>\n    <tr>\n      <th>0</th>\n      <td>d2bd686e63</td>\n      <td>2702736</td>\n      <td>00911</td>\n      <td>C7134</td>\n      <td>Police Officer 4</td>\n      <td>2009</td>\n      <td>New Orleans PD</td>\n    </tr>\n    <tr>\n      <th>1</th>\n      <td>abf77e9ac2</td>\n      <td>2702740</td>\n      <td></td>\n      <td>C7134</td>\n      <td>Police Officer 4</td>\n      <td>2009</td>\n      <td>New Orleans PD</td>\n    </tr>\n    <tr>\n      <th>2</th>\n      <td>a630a41313</td>\n      <td>2702735</td>\n      <td></td>\n      <td>C7132</td>\n      <td>Police Officer 2</td>\n      <td>2009</td>\n      <td>New Orleans PD</td>\n    </tr>\n    <tr>\n      <th>3</th>\n      <td>cd2570679d</td>\n      <td>2702731</td>\n      <td></td>\n      <td>C7133</td>\n      <td>Police Officer 3</td>\n      <td>2009</td>\n      <td>New Orleans PD</td>\n    </tr>\n    <tr>\n      <th>4</th>\n      <td>9bea94b52c</td>\n      <td>2702750</td>\n      <td></td>\n      <td>C7110</td>\n      <td>Police Officer 1</td>\n      <td>2009</td>\n      <td>New Orleans PD</td>\n    </tr>\n    <tr>\n      <th>...</th>\n      <td>...</td>\n      <td>...</td>\n      <td>...</td>\n      <td>...</td>\n      <td>...</td>\n      <td>...</td>\n      <td>...</td>\n    </tr>\n    <tr>\n      <th>1353</th>\n      <td>7cab5fcdac</td>\n      <td></td>\n      <td>10138</td>\n      <td></td>\n      <td>Reserve Officers</td>\n      <td>2018</td>\n      <td>New Orleans PD</td>\n    </tr>\n    <tr>\n      <th>1354</th>\n      <td>45fd2da539</td>\n      <td></td>\n      <td>10128</td>\n      <td></td>\n      <td>Reserve Officers</td>\n      <td>2018</td>\n      <td>New Orleans PD</td>\n    </tr>\n    <tr>\n      <th>1355</th>\n      <td>b29a51a000</td>\n      <td></td>\n      <td>10153</td>\n      <td></td>\n      <td>Reserve Officers</td>\n      <td>2018</td>\n      <td>New Orleans PD</td>\n    </tr>\n    <tr>\n      <th>1356</th>\n      <td>2ca682ee94</td>\n      <td></td>\n      <td>10082</td>\n      <td></td>\n      <td>Reserve Officers</td>\n      <td>2018</td>\n      <td>New Orleans PD</td>\n    </tr>\n    <tr>\n      <th>1357</th>\n      <td>ed9de24db6</td>\n      <td></td>\n      <td>10174</td>\n      <td></td>\n      <td>Reserve Officers</td>\n      <td>2018</td>\n      <td>New Orleans PD</td>\n    </tr>\n  </tbody>\n</table>\n<p>28470 rows × 7 columns</p>\n</div>"
     },
     "metadata": {},
     "execution_count": 4
    }
   ],
   "source": [
    "history"
   ]
  },
  {
   "cell_type": "code",
   "execution_count": null,
   "metadata": {},
   "outputs": [],
   "source": []
  }
 ],
 "metadata": {
  "kernelspec": {
   "display_name": "Python 3",
   "language": "python",
   "name": "python3"
  },
  "language_info": {
   "codemirror_mode": {
    "name": "ipython",
    "version": 3
   },
   "file_extension": ".py",
   "mimetype": "text/x-python",
   "name": "python",
   "nbconvert_exporter": "python",
   "pygments_lexer": "ipython3",
   "version": "3.8.3-final"
  }
 },
 "nbformat": 4,
 "nbformat_minor": 4
}
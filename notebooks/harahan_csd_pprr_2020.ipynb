{
 "metadata": {
  "language_info": {
   "codemirror_mode": {
    "name": "ipython",
    "version": 3
   },
   "file_extension": ".py",
   "mimetype": "text/x-python",
   "name": "python",
   "nbconvert_exporter": "python",
   "pygments_lexer": "ipython3",
   "version": "3.8.3-final"
  },
  "orig_nbformat": 2,
  "kernelspec": {
   "name": "python3",
   "display_name": "Python 3",
   "language": "python"
  }
 },
 "nbformat": 4,
 "nbformat_minor": 2,
 "cells": [
  {
   "cell_type": "code",
   "execution_count": 1,
   "metadata": {},
   "outputs": [],
   "source": [
    "import re\n",
    "import sys; sys.path.append(\"../\")\n",
    "\n",
    "import numpy as np\n",
    "import pandas as pd\n",
    "\n",
    "from lib.columns import rearrange_personel_columns\n",
    "from lib.textract import parse_textract_datetime"
   ]
  },
  {
   "cell_type": "code",
   "execution_count": 2,
   "metadata": {},
   "outputs": [
    {
     "output_type": "execute_result",
     "data": {
      "text/plain": [
       "                           dept_no     annual status  \\\n",
       "emp_no name                                            \n",
       "2146   Adams, Manuel J     010-112  66,044.16     T    \n",
       "2308   Bagley, Chase M     010-112  40,906.32     T    \n",
       "2335   Barnett, Michael    010-112  40,513.20     A    \n",
       "2270   Binder, Gregory J   010-112  16,640.00     T    \n",
       "2268   Blackwell, Aaron J  010-112  50,000.08     T    \n",
       "...                            ...        ...    ...   \n",
       "1082   Walker, Robert T    010-112  56,000.10     A    \n",
       "2301   Ward, Carley A      010-112  40,906.32     T    \n",
       "2278   Whittle, Tracy M    010-112  42,681.60     T    \n",
       "2287   Wright, Michael P   010-112  37,850.90     T    \n",
       "2205   Yeadon, Andrew D    010-112  30,500.08     T    \n",
       "\n",
       "                                                rank  \n",
       "emp_no name                                           \n",
       "2146   Adams, Manuel J                       Captain  \n",
       "2308   Bagley, Chase M                Police Officer  \n",
       "2335   Barnett, Michael               Police Officer  \n",
       "2270   Binder, Gregory J             I/T Coordinator  \n",
       "2268   Blackwell, Aaron J  Assistant Chief Of Police  \n",
       "...                                              ...  \n",
       "1082   Walker, Robert T                 Police Chief  \n",
       "2301   Ward, Carley A                 Police Officer  \n",
       "2278   Whittle, Tracy M     Secretary - Police Chief  \n",
       "2287   Wright, Michael P             Police Sergeant  \n",
       "2205   Yeadon, Andrew D               Police Officer  \n",
       "\n",
       "[99 rows x 4 columns]"
      ],
      "text/html": "<div>\n<style scoped>\n    .dataframe tbody tr th:only-of-type {\n        vertical-align: middle;\n    }\n\n    .dataframe tbody tr th {\n        vertical-align: top;\n    }\n\n    .dataframe thead th {\n        text-align: right;\n    }\n</style>\n<table border=\"1\" class=\"dataframe\">\n  <thead>\n    <tr style=\"text-align: right;\">\n      <th></th>\n      <th></th>\n      <th>dept_no</th>\n      <th>annual</th>\n      <th>status</th>\n      <th>rank</th>\n    </tr>\n    <tr>\n      <th>emp_no</th>\n      <th>name</th>\n      <th></th>\n      <th></th>\n      <th></th>\n      <th></th>\n    </tr>\n  </thead>\n  <tbody>\n    <tr>\n      <th>2146</th>\n      <th>Adams, Manuel J</th>\n      <td>010-112</td>\n      <td>66,044.16</td>\n      <td>T</td>\n      <td>Captain</td>\n    </tr>\n    <tr>\n      <th>2308</th>\n      <th>Bagley, Chase M</th>\n      <td>010-112</td>\n      <td>40,906.32</td>\n      <td>T</td>\n      <td>Police Officer</td>\n    </tr>\n    <tr>\n      <th>2335</th>\n      <th>Barnett, Michael</th>\n      <td>010-112</td>\n      <td>40,513.20</td>\n      <td>A</td>\n      <td>Police Officer</td>\n    </tr>\n    <tr>\n      <th>2270</th>\n      <th>Binder, Gregory J</th>\n      <td>010-112</td>\n      <td>16,640.00</td>\n      <td>T</td>\n      <td>I/T Coordinator</td>\n    </tr>\n    <tr>\n      <th>2268</th>\n      <th>Blackwell, Aaron J</th>\n      <td>010-112</td>\n      <td>50,000.08</td>\n      <td>T</td>\n      <td>Assistant Chief Of Police</td>\n    </tr>\n    <tr>\n      <th>...</th>\n      <th>...</th>\n      <td>...</td>\n      <td>...</td>\n      <td>...</td>\n      <td>...</td>\n    </tr>\n    <tr>\n      <th>1082</th>\n      <th>Walker, Robert T</th>\n      <td>010-112</td>\n      <td>56,000.10</td>\n      <td>A</td>\n      <td>Police Chief</td>\n    </tr>\n    <tr>\n      <th>2301</th>\n      <th>Ward, Carley A</th>\n      <td>010-112</td>\n      <td>40,906.32</td>\n      <td>T</td>\n      <td>Police Officer</td>\n    </tr>\n    <tr>\n      <th>2278</th>\n      <th>Whittle, Tracy M</th>\n      <td>010-112</td>\n      <td>42,681.60</td>\n      <td>T</td>\n      <td>Secretary - Police Chief</td>\n    </tr>\n    <tr>\n      <th>2287</th>\n      <th>Wright, Michael P</th>\n      <td>010-112</td>\n      <td>37,850.90</td>\n      <td>T</td>\n      <td>Police Sergeant</td>\n    </tr>\n    <tr>\n      <th>2205</th>\n      <th>Yeadon, Andrew D</th>\n      <td>010-112</td>\n      <td>30,500.08</td>\n      <td>T</td>\n      <td>Police Officer</td>\n    </tr>\n  </tbody>\n</table>\n<p>99 rows × 4 columns</p>\n</div>"
     },
     "metadata": {},
     "execution_count": 2
    }
   ],
   "source": [
    "pprr = pd.read_csv(\"../data/Harahan Civil Service Department/Administrative Data/Harahan_CSD_PPRR_2020.csv\")\n",
    "pprr.rename(columns=lambda x: x.strip(), inplace=True)\n",
    "pprr.fillna(\"\", inplace=True)\n",
    "\n",
    "pat = re.compile(r\"^([^\\d]*)(\\d{2}-\\d{4})?([^\\d]*)$\")\n",
    "pat2 = re.compile(r\"^(.+, \\w{2,}(?: \\w)?) (\\w{2,}.*)$\")\n",
    "rank_whitelist = set(['Captain', 'Police Officer', 'I/T Coordinator',\n",
    "       'Assistant Chief Of Police', 'It Technician', 'Sergeant',\n",
    "       'Jailer / Dispatch Provisional', 'Police Lieutenant',\n",
    "       'Probational Police Officer', 'Secretary',\n",
    "       'Jailer / Dispatch Probational', 'Police Mechanic', 'Police Sgt.',\n",
    "       'Police Property Manager', 'Part Time Police Officer', 'Jailer',\n",
    "       'Jailer/Dispatch', 'Provisional Sergeant',\n",
    "       'Records Clerk', 'Police Captain', 'Police Chief Secretary',\n",
    "       'Assist Chief Of Police', 'Police Dept. Agent',\n",
    "       'Provisional Chief Secretary', 'Assistant Police Chief',\n",
    "       'Police Records Clerk', 'Maintenance Man', 'Police Jailer',\n",
    "       'Police Sgt', 'Mechanic', 'Police M/C Mechanic',\n",
    "       'Dispatch / Jailer', 'Police Sergeant', 'Police Officer Sgt',\n",
    "       'Police Chief', 'Secretary - Police Chief'])\n",
    "record = dict()\n",
    "records = []\n",
    "for _, row in pprr.iterrows():\n",
    "    match = pat.match(row[0])\n",
    "    rank = (match.group(1) or \"\").title().strip()\n",
    "    emp_no = match.group(2) or \"\"\n",
    "    name = (match.group(3) or \"\").title().strip()\n",
    "    if rank != \"\":\n",
    "        record[\"rank\"] = rank\n",
    "        rank = \"\"\n",
    "    if emp_no != \"\":\n",
    "        if len(record) > 0:\n",
    "            records.append(record)\n",
    "            record = dict()\n",
    "        record[\"emp_no\"] = int(emp_no[3:])\n",
    "    if name != \"\":\n",
    "        record[\"name\"] = name\n",
    "        match2 = pat2.match(name)\n",
    "        if match2 is not None and match2.group(2) in rank_whitelist:\n",
    "            record[\"name\"] = match2.group(1)\n",
    "            record[\"rank\"] = match2.group(2)\n",
    "    if row[1] != \"\":\n",
    "        record[\"dept_no\"] = row[1].strip()\n",
    "        record[\"annual\"] = row[2]\n",
    "        record[\"status\"] = row[3]\n",
    "\n",
    "if len(record) > 0:\n",
    "    records.append(record)\n",
    "    record = dict()\n",
    "\n",
    "pprr = pd.DataFrame.from_records(records)\n",
    "pprr.loc[23, \"rank\"] = \"Police Officer\"\n",
    "pprr.loc[48, \"rank\"] = \"Sergeant\"\n",
    "pprr.loc[73, \"rank\"] = \"Jailer\"\n",
    "pprr.loc[98, \"rank\"] = \"Police Officer\"\n",
    "pprr.set_index([\"emp_no\", \"name\"], inplace=True, verify_integrity=True)\n",
    "pprr"
   ]
  },
  {
   "cell_type": "code",
   "execution_count": 3,
   "metadata": {},
   "outputs": [
    {
     "output_type": "execute_result",
     "data": {
      "text/plain": [
       "                          status p_f  dept_no     hire termination\n",
       "emp_no name                                                       \n",
       "2146   Adams, Manuel J        T    F  010-112   1/2/02     6/29/20\n",
       "2308   Bagley, Chase M        T    F  010-112  2/24/19    10/16/20\n",
       "2335   Barnett, Michael       A    F  010-112  2/17/20         NaN\n",
       "2270   Binder, Gregory J      T    F  010-112  12/4/13         NaN\n",
       "2268   Blackwell, Aaron J     T    E  010-112  11/3/13      5/9/14\n",
       "...                          ...  ..      ...      ...         ...\n",
       "2278   Whittle, Tracy M       T    F  010-112   6/2/14     5/29/19\n",
       "2287   Wright, Michael P      T    F  010-112   8/2/15    12/19/18\n",
       "2205   Yeadon, Andrew D       T    F  010-112   4/2/08     1/29/09\n",
       "2199   Yeadon, Robert M       T    F  010-112   7/6/07      8/2/08\n",
       "2256   Yeager, Melissa G      T    F  010-112  2/17/13     1/25/16\n",
       "\n",
       "[126 rows x 5 columns]"
      ],
      "text/html": "<div>\n<style scoped>\n    .dataframe tbody tr th:only-of-type {\n        vertical-align: middle;\n    }\n\n    .dataframe tbody tr th {\n        vertical-align: top;\n    }\n\n    .dataframe thead th {\n        text-align: right;\n    }\n</style>\n<table border=\"1\" class=\"dataframe\">\n  <thead>\n    <tr style=\"text-align: right;\">\n      <th></th>\n      <th></th>\n      <th>status</th>\n      <th>p_f</th>\n      <th>dept_no</th>\n      <th>hire</th>\n      <th>termination</th>\n    </tr>\n    <tr>\n      <th>emp_no</th>\n      <th>name</th>\n      <th></th>\n      <th></th>\n      <th></th>\n      <th></th>\n      <th></th>\n    </tr>\n  </thead>\n  <tbody>\n    <tr>\n      <th>2146</th>\n      <th>Adams, Manuel J</th>\n      <td>T</td>\n      <td>F</td>\n      <td>010-112</td>\n      <td>1/2/02</td>\n      <td>6/29/20</td>\n    </tr>\n    <tr>\n      <th>2308</th>\n      <th>Bagley, Chase M</th>\n      <td>T</td>\n      <td>F</td>\n      <td>010-112</td>\n      <td>2/24/19</td>\n      <td>10/16/20</td>\n    </tr>\n    <tr>\n      <th>2335</th>\n      <th>Barnett, Michael</th>\n      <td>A</td>\n      <td>F</td>\n      <td>010-112</td>\n      <td>2/17/20</td>\n      <td>NaN</td>\n    </tr>\n    <tr>\n      <th>2270</th>\n      <th>Binder, Gregory J</th>\n      <td>T</td>\n      <td>F</td>\n      <td>010-112</td>\n      <td>12/4/13</td>\n      <td>NaN</td>\n    </tr>\n    <tr>\n      <th>2268</th>\n      <th>Blackwell, Aaron J</th>\n      <td>T</td>\n      <td>E</td>\n      <td>010-112</td>\n      <td>11/3/13</td>\n      <td>5/9/14</td>\n    </tr>\n    <tr>\n      <th>...</th>\n      <th>...</th>\n      <td>...</td>\n      <td>...</td>\n      <td>...</td>\n      <td>...</td>\n      <td>...</td>\n    </tr>\n    <tr>\n      <th>2278</th>\n      <th>Whittle, Tracy M</th>\n      <td>T</td>\n      <td>F</td>\n      <td>010-112</td>\n      <td>6/2/14</td>\n      <td>5/29/19</td>\n    </tr>\n    <tr>\n      <th>2287</th>\n      <th>Wright, Michael P</th>\n      <td>T</td>\n      <td>F</td>\n      <td>010-112</td>\n      <td>8/2/15</td>\n      <td>12/19/18</td>\n    </tr>\n    <tr>\n      <th>2205</th>\n      <th>Yeadon, Andrew D</th>\n      <td>T</td>\n      <td>F</td>\n      <td>010-112</td>\n      <td>4/2/08</td>\n      <td>1/29/09</td>\n    </tr>\n    <tr>\n      <th>2199</th>\n      <th>Yeadon, Robert M</th>\n      <td>T</td>\n      <td>F</td>\n      <td>010-112</td>\n      <td>7/6/07</td>\n      <td>8/2/08</td>\n    </tr>\n    <tr>\n      <th>2256</th>\n      <th>Yeager, Melissa G</th>\n      <td>T</td>\n      <td>F</td>\n      <td>010-112</td>\n      <td>2/17/13</td>\n      <td>1/25/16</td>\n    </tr>\n  </tbody>\n</table>\n<p>126 rows × 5 columns</p>\n</div>"
     },
     "metadata": {},
     "execution_count": 3
    }
   ],
   "source": [
    "payroll = pd.read_csv(\"../data/Harahan Civil Service Department/Administrative Data/Harahan_CSD_Payroll Report_2020_.csv\")\n",
    "payroll.rename(columns=lambda x: x.strip(), inplace=True)\n",
    "payroll.iloc[:, 0] = payroll.iloc[:, 0].fillna(0).astype(\"int32\")\n",
    "payroll.iloc[:, 1] = payroll.iloc[:, 1].str.replace(\". . \", \"., \", regex=False)\\\n",
    "    .str.strip().str.title()\n",
    "\n",
    "records = []\n",
    "record = dict()\n",
    "for _, row in payroll.iterrows():\n",
    "    if row[0] != 0:\n",
    "        record[\"emp_no\"] = row[0]\n",
    "        record[\"name\"] = row[1]\n",
    "    else:\n",
    "        record[\"emp_no\"] = row[1][:4]\n",
    "        record[\"name\"] = row[1][5:]\n",
    "    record[\"status\"] = row[2]\n",
    "    record[\"p_f\"] = row[3][0]\n",
    "    record[\"dept_no\"] = row[3][2:].strip()\n",
    "    record[\"hire\"] = row[4]\n",
    "    record[\"termination\"] = row[5]\n",
    "    records.append(record)\n",
    "    record = dict()\n",
    "payroll = pd.DataFrame.from_records(records)\n",
    "payroll.drop_duplicates(inplace=True)\n",
    "payroll.set_index([\"emp_no\", \"name\"], inplace=True, verify_integrity=True)\n",
    "\n",
    "payroll"
   ]
  },
  {
   "cell_type": "code",
   "execution_count": 4,
   "metadata": {},
   "outputs": [
    {
     "output_type": "execute_result",
     "data": {
      "text/plain": [
       "                          status p_f  dept_no     hire termination     annual  \\\n",
       "emp_no name                                                                     \n",
       "2146   Adams, Manuel J        T    F  010-112   1/2/02     6/29/20  66,044.16   \n",
       "2308   Bagley, Chase M        T    F  010-112  2/24/19    10/16/20  40,906.32   \n",
       "2335   Barnett, Michael       A    F  010-112  2/17/20         NaN  40,513.20   \n",
       "2270   Binder, Gregory J      T    F  010-112  12/4/13         NaN  16,640.00   \n",
       "2268   Blackwell, Aaron J     T    E  010-112  11/3/13      5/9/14  50,000.08   \n",
       "...                          ...  ..      ...      ...         ...        ...   \n",
       "2278   Whittle, Tracy M       T    F  010-112   6/2/14     5/29/19        NaN   \n",
       "2287   Wright, Michael P      T    F  010-112   8/2/15    12/19/18        NaN   \n",
       "2205   Yeadon, Andrew D       T    F  010-112   4/2/08     1/29/09        NaN   \n",
       "2199   Yeadon, Robert M       T    F  010-112   7/6/07      8/2/08        NaN   \n",
       "2256   Yeager, Melissa G      T    F  010-112  2/17/13     1/25/16        NaN   \n",
       "\n",
       "                                                rank  \n",
       "emp_no name                                           \n",
       "2146   Adams, Manuel J                       Captain  \n",
       "2308   Bagley, Chase M                Police Officer  \n",
       "2335   Barnett, Michael               Police Officer  \n",
       "2270   Binder, Gregory J             I/T Coordinator  \n",
       "2268   Blackwell, Aaron J  Assistant Chief Of Police  \n",
       "...                                              ...  \n",
       "2278   Whittle, Tracy M                          NaN  \n",
       "2287   Wright, Michael P                         NaN  \n",
       "2205   Yeadon, Andrew D                          NaN  \n",
       "2199   Yeadon, Robert M                          NaN  \n",
       "2256   Yeager, Melissa G                         NaN  \n",
       "\n",
       "[126 rows x 7 columns]"
      ],
      "text/html": "<div>\n<style scoped>\n    .dataframe tbody tr th:only-of-type {\n        vertical-align: middle;\n    }\n\n    .dataframe tbody tr th {\n        vertical-align: top;\n    }\n\n    .dataframe thead th {\n        text-align: right;\n    }\n</style>\n<table border=\"1\" class=\"dataframe\">\n  <thead>\n    <tr style=\"text-align: right;\">\n      <th></th>\n      <th></th>\n      <th>status</th>\n      <th>p_f</th>\n      <th>dept_no</th>\n      <th>hire</th>\n      <th>termination</th>\n      <th>annual</th>\n      <th>rank</th>\n    </tr>\n    <tr>\n      <th>emp_no</th>\n      <th>name</th>\n      <th></th>\n      <th></th>\n      <th></th>\n      <th></th>\n      <th></th>\n      <th></th>\n      <th></th>\n    </tr>\n  </thead>\n  <tbody>\n    <tr>\n      <th>2146</th>\n      <th>Adams, Manuel J</th>\n      <td>T</td>\n      <td>F</td>\n      <td>010-112</td>\n      <td>1/2/02</td>\n      <td>6/29/20</td>\n      <td>66,044.16</td>\n      <td>Captain</td>\n    </tr>\n    <tr>\n      <th>2308</th>\n      <th>Bagley, Chase M</th>\n      <td>T</td>\n      <td>F</td>\n      <td>010-112</td>\n      <td>2/24/19</td>\n      <td>10/16/20</td>\n      <td>40,906.32</td>\n      <td>Police Officer</td>\n    </tr>\n    <tr>\n      <th>2335</th>\n      <th>Barnett, Michael</th>\n      <td>A</td>\n      <td>F</td>\n      <td>010-112</td>\n      <td>2/17/20</td>\n      <td>NaN</td>\n      <td>40,513.20</td>\n      <td>Police Officer</td>\n    </tr>\n    <tr>\n      <th>2270</th>\n      <th>Binder, Gregory J</th>\n      <td>T</td>\n      <td>F</td>\n      <td>010-112</td>\n      <td>12/4/13</td>\n      <td>NaN</td>\n      <td>16,640.00</td>\n      <td>I/T Coordinator</td>\n    </tr>\n    <tr>\n      <th>2268</th>\n      <th>Blackwell, Aaron J</th>\n      <td>T</td>\n      <td>E</td>\n      <td>010-112</td>\n      <td>11/3/13</td>\n      <td>5/9/14</td>\n      <td>50,000.08</td>\n      <td>Assistant Chief Of Police</td>\n    </tr>\n    <tr>\n      <th>...</th>\n      <th>...</th>\n      <td>...</td>\n      <td>...</td>\n      <td>...</td>\n      <td>...</td>\n      <td>...</td>\n      <td>...</td>\n      <td>...</td>\n    </tr>\n    <tr>\n      <th>2278</th>\n      <th>Whittle, Tracy M</th>\n      <td>T</td>\n      <td>F</td>\n      <td>010-112</td>\n      <td>6/2/14</td>\n      <td>5/29/19</td>\n      <td>NaN</td>\n      <td>NaN</td>\n    </tr>\n    <tr>\n      <th>2287</th>\n      <th>Wright, Michael P</th>\n      <td>T</td>\n      <td>F</td>\n      <td>010-112</td>\n      <td>8/2/15</td>\n      <td>12/19/18</td>\n      <td>NaN</td>\n      <td>NaN</td>\n    </tr>\n    <tr>\n      <th>2205</th>\n      <th>Yeadon, Andrew D</th>\n      <td>T</td>\n      <td>F</td>\n      <td>010-112</td>\n      <td>4/2/08</td>\n      <td>1/29/09</td>\n      <td>NaN</td>\n      <td>NaN</td>\n    </tr>\n    <tr>\n      <th>2199</th>\n      <th>Yeadon, Robert M</th>\n      <td>T</td>\n      <td>F</td>\n      <td>010-112</td>\n      <td>7/6/07</td>\n      <td>8/2/08</td>\n      <td>NaN</td>\n      <td>NaN</td>\n    </tr>\n    <tr>\n      <th>2256</th>\n      <th>Yeager, Melissa G</th>\n      <td>T</td>\n      <td>F</td>\n      <td>010-112</td>\n      <td>2/17/13</td>\n      <td>1/25/16</td>\n      <td>NaN</td>\n      <td>NaN</td>\n    </tr>\n  </tbody>\n</table>\n<p>126 rows × 7 columns</p>\n</div>"
     },
     "metadata": {},
     "execution_count": 4
    }
   ],
   "source": [
    "joined = payroll.join(pprr[[\"annual\", \"rank\"]])\n",
    "joined"
   ]
  },
  {
   "cell_type": "code",
   "execution_count": 5,
   "metadata": {},
   "outputs": [
    {
     "output_type": "execute_result",
     "data": {
      "text/plain": [
       "     Last Name Middle Name First Name Employee ID # Department #  \\\n",
       "0        Adams           J     Manuel          2146      010-112   \n",
       "1       Bagley           M      Chase          2308      010-112   \n",
       "2      Barnett         NaN    Michael          2335      010-112   \n",
       "3       Binder           J    Gregory          2270      010-112   \n",
       "4    Blackwell           J      Aaron          2268      010-112   \n",
       "..         ...         ...        ...           ...          ...   \n",
       "121    Whittle           M      Tracy          2278      010-112   \n",
       "122     Wright           P    Michael          2287      010-112   \n",
       "123     Yeadon           D     Andrew          2205      010-112   \n",
       "124     Yeadon           M     Robert          2199      010-112   \n",
       "125     Yeager           G    Melissa          2256      010-112   \n",
       "\n",
       "                          Rank  Hire Date Termination Date  Annual Salary  \n",
       "0                      Captain 2002-01-02       2020-06-29       66044.16  \n",
       "1               Police Officer 2019-02-24       2020-10-16       40906.32  \n",
       "2               Police Officer 2020-02-17              NaT       40513.20  \n",
       "3              I/T Coordinator 2013-12-04              NaT       16640.00  \n",
       "4    Assistant Chief Of Police 2013-11-03       2014-05-09       50000.08  \n",
       "..                         ...        ...              ...            ...  \n",
       "121                        NaN 2014-06-02       2019-05-29            NaN  \n",
       "122                        NaN 2015-08-02       2018-12-19            NaN  \n",
       "123                        NaN 2008-04-02       2009-01-29            NaN  \n",
       "124                        NaN 2007-07-06       2008-08-02            NaN  \n",
       "125                        NaN 2013-02-17       2016-01-25            NaN  \n",
       "\n",
       "[126 rows x 9 columns]"
      ],
      "text/html": "<div>\n<style scoped>\n    .dataframe tbody tr th:only-of-type {\n        vertical-align: middle;\n    }\n\n    .dataframe tbody tr th {\n        vertical-align: top;\n    }\n\n    .dataframe thead th {\n        text-align: right;\n    }\n</style>\n<table border=\"1\" class=\"dataframe\">\n  <thead>\n    <tr style=\"text-align: right;\">\n      <th></th>\n      <th>Last Name</th>\n      <th>Middle Name</th>\n      <th>First Name</th>\n      <th>Employee ID #</th>\n      <th>Department #</th>\n      <th>Rank</th>\n      <th>Hire Date</th>\n      <th>Termination Date</th>\n      <th>Annual Salary</th>\n    </tr>\n  </thead>\n  <tbody>\n    <tr>\n      <th>0</th>\n      <td>Adams</td>\n      <td>J</td>\n      <td>Manuel</td>\n      <td>2146</td>\n      <td>010-112</td>\n      <td>Captain</td>\n      <td>2002-01-02</td>\n      <td>2020-06-29</td>\n      <td>66044.16</td>\n    </tr>\n    <tr>\n      <th>1</th>\n      <td>Bagley</td>\n      <td>M</td>\n      <td>Chase</td>\n      <td>2308</td>\n      <td>010-112</td>\n      <td>Police Officer</td>\n      <td>2019-02-24</td>\n      <td>2020-10-16</td>\n      <td>40906.32</td>\n    </tr>\n    <tr>\n      <th>2</th>\n      <td>Barnett</td>\n      <td>NaN</td>\n      <td>Michael</td>\n      <td>2335</td>\n      <td>010-112</td>\n      <td>Police Officer</td>\n      <td>2020-02-17</td>\n      <td>NaT</td>\n      <td>40513.20</td>\n    </tr>\n    <tr>\n      <th>3</th>\n      <td>Binder</td>\n      <td>J</td>\n      <td>Gregory</td>\n      <td>2270</td>\n      <td>010-112</td>\n      <td>I/T Coordinator</td>\n      <td>2013-12-04</td>\n      <td>NaT</td>\n      <td>16640.00</td>\n    </tr>\n    <tr>\n      <th>4</th>\n      <td>Blackwell</td>\n      <td>J</td>\n      <td>Aaron</td>\n      <td>2268</td>\n      <td>010-112</td>\n      <td>Assistant Chief Of Police</td>\n      <td>2013-11-03</td>\n      <td>2014-05-09</td>\n      <td>50000.08</td>\n    </tr>\n    <tr>\n      <th>...</th>\n      <td>...</td>\n      <td>...</td>\n      <td>...</td>\n      <td>...</td>\n      <td>...</td>\n      <td>...</td>\n      <td>...</td>\n      <td>...</td>\n      <td>...</td>\n    </tr>\n    <tr>\n      <th>121</th>\n      <td>Whittle</td>\n      <td>M</td>\n      <td>Tracy</td>\n      <td>2278</td>\n      <td>010-112</td>\n      <td>NaN</td>\n      <td>2014-06-02</td>\n      <td>2019-05-29</td>\n      <td>NaN</td>\n    </tr>\n    <tr>\n      <th>122</th>\n      <td>Wright</td>\n      <td>P</td>\n      <td>Michael</td>\n      <td>2287</td>\n      <td>010-112</td>\n      <td>NaN</td>\n      <td>2015-08-02</td>\n      <td>2018-12-19</td>\n      <td>NaN</td>\n    </tr>\n    <tr>\n      <th>123</th>\n      <td>Yeadon</td>\n      <td>D</td>\n      <td>Andrew</td>\n      <td>2205</td>\n      <td>010-112</td>\n      <td>NaN</td>\n      <td>2008-04-02</td>\n      <td>2009-01-29</td>\n      <td>NaN</td>\n    </tr>\n    <tr>\n      <th>124</th>\n      <td>Yeadon</td>\n      <td>M</td>\n      <td>Robert</td>\n      <td>2199</td>\n      <td>010-112</td>\n      <td>NaN</td>\n      <td>2007-07-06</td>\n      <td>2008-08-02</td>\n      <td>NaN</td>\n    </tr>\n    <tr>\n      <th>125</th>\n      <td>Yeager</td>\n      <td>G</td>\n      <td>Melissa</td>\n      <td>2256</td>\n      <td>010-112</td>\n      <td>NaN</td>\n      <td>2013-02-17</td>\n      <td>2016-01-25</td>\n      <td>NaN</td>\n    </tr>\n  </tbody>\n</table>\n<p>126 rows × 9 columns</p>\n</div>"
     },
     "metadata": {},
     "execution_count": 5
    }
   ],
   "source": [
    "df = joined[[\"dept_no\", \"hire\", \"termination\", \"annual\", \"rank\"]]\n",
    "df.reset_index(inplace=True)\n",
    "\n",
    "names = df[\"name\"].str.replace(\". . \", \"., \", regex=False)\\\n",
    "    .str.rsplit(\", \", n=1, expand=True)\n",
    "df.loc[:, \"Last Name\"] = names.iloc[:, 0].str.replace(\", \", \" \", regex=False)\\\n",
    "    .str.replace(\"(.+)(Ii|Iii|Iv)$\", lambda m: m.group(1) + m.group(2).upper())\n",
    "names = names.iloc[:, 1].str.split(\" \", expand=True)\n",
    "df.loc[:, \"First Name\"] = names.iloc[:, 0]\n",
    "df.loc[:, \"Middle Name\"] = names.iloc[:, 1]\\\n",
    "    .where(names.iloc[:, 1].notnull(), np.NaN)\n",
    "\n",
    "df.rename(columns={\n",
    "    \"dept_no\": \"Department #\",\n",
    "    \"hire\": \"Hire Date\",\n",
    "    \"termination\": \"Termination Date\",\n",
    "    \"annual\": \"Annual Salary\",\n",
    "    \"rank\": \"Rank\",\n",
    "    \"emp_no\": \"Employee ID #\",\n",
    "}, inplace=True)\n",
    "\n",
    "df.loc[:, \"Annual Salary\"] = df[\"Annual Salary\"]\\\n",
    "    .str.replace(\",\", \"\", regex=False).astype(\"float64\")\n",
    "df.loc[:, \"Hire Date\"] = parse_textract_datetime(df[\"Hire Date\"])\n",
    "df.loc[:, \"Termination Date\"] = parse_textract_datetime(df[\"Termination Date\"])\n",
    "df = rearrange_personel_columns(df)\n",
    "df"
   ]
  },
  {
   "cell_type": "code",
   "execution_count": 6,
   "metadata": {},
   "outputs": [],
   "source": [
    "df.to_csv(\"../output/harahan-csd_personel_2020.csv\", index=False)"
   ]
  },
  {
   "cell_type": "code",
   "execution_count": null,
   "metadata": {},
   "outputs": [],
   "source": []
  }
 ]
}
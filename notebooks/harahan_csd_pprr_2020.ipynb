{
 "metadata": {
  "language_info": {
   "codemirror_mode": {
    "name": "ipython",
    "version": 3
   },
   "file_extension": ".py",
   "mimetype": "text/x-python",
   "name": "python",
   "nbconvert_exporter": "python",
   "pygments_lexer": "ipython3",
   "version": "3.9.2"
  },
  "orig_nbformat": 2,
  "kernelspec": {
   "name": "python392jvsc74a57bd055d6dfa6f6295e03bf132df3e61c1565ff1c22b645ef82a5638b280b97b3597b",
   "display_name": "Python 3.9.2 64-bit ('base': virtualenvwrapper)"
  }
 },
 "nbformat": 4,
 "nbformat_minor": 2,
 "cells": [
  {
   "cell_type": "code",
   "execution_count": 1,
   "metadata": {},
   "outputs": [],
   "source": [
    "import re\n",
    "import sys; sys.path.append(\"../\")\n",
    "\n",
    "import numpy as np\n",
    "import pandas as pd\n",
    "\n",
    "from clean.harahan_csd import clean\n",
    "from clean.harahan_pd import clean as clean_pd"
   ]
  },
  {
   "cell_type": "code",
   "execution_count": 2,
   "metadata": {},
   "outputs": [
    {
     "output_type": "execute_result",
     "data": {
      "text/plain": [
       "     employee_id  annual_salary employment_status  \\\n",
       "0           2146       66044.16          inactive   \n",
       "1           2308       40906.32          inactive   \n",
       "2           2335       40513.20            active   \n",
       "3           2270       16640.00          inactive   \n",
       "4           2268       50000.08          inactive   \n",
       "..           ...            ...               ...   \n",
       "121         2278       42681.60          inactive   \n",
       "122         2287       37850.90          inactive   \n",
       "123         2205       30500.08          inactive   \n",
       "124         2199       30500.08          inactive   \n",
       "125         2256       29396.64          inactive   \n",
       "\n",
       "                            rank first_name middle_name middle_initial  \\\n",
       "0                        captain     manuel           j              j   \n",
       "1                 police officer      chase           m              m   \n",
       "2                 police officer    michael                              \n",
       "3                i/t coordinator    gregory           j              j   \n",
       "4      assistant chief of police      aaron           j              j   \n",
       "..                           ...        ...         ...            ...   \n",
       "121     secretary - police chief      tracy           m              m   \n",
       "122              police sergeant    michael           p              p   \n",
       "123               police officer     andrew           d              d   \n",
       "124               police officer     robert           m              m   \n",
       "125  probational jailer/dispatch    melissa           g              g   \n",
       "\n",
       "     last_name left_date hire_year hire_month hire_day  data_production_year  \\\n",
       "0        adams   6/29/20      2002          1        2                  2020   \n",
       "1       bagley  10/16/20      2019          2       24                  2020   \n",
       "2      barnett       NaN      2020          2       17                  2020   \n",
       "3       binder       NaN      2013         12        4                  2020   \n",
       "4    blackwell    5/9/14      2013         11        3                  2020   \n",
       "..         ...       ...       ...        ...      ...                   ...   \n",
       "121    whittle   5/29/19      2014          6        2                  2020   \n",
       "122     wright  12/19/18      2015          8        2                  2020   \n",
       "123     yeadon   1/29/09      2008          4        2                  2020   \n",
       "124     yeadon    8/2/08      2007          7        6                  2020   \n",
       "125     yeager   1/25/16      2013          2       17                  2020   \n",
       "\n",
       "          agency  \n",
       "0    Harahan CSD  \n",
       "1    Harahan CSD  \n",
       "2    Harahan CSD  \n",
       "3    Harahan CSD  \n",
       "4    Harahan CSD  \n",
       "..           ...  \n",
       "121  Harahan CSD  \n",
       "122  Harahan CSD  \n",
       "123  Harahan CSD  \n",
       "124  Harahan CSD  \n",
       "125  Harahan CSD  \n",
       "\n",
       "[126 rows x 14 columns]"
      ],
      "text/html": "<div>\n<style scoped>\n    .dataframe tbody tr th:only-of-type {\n        vertical-align: middle;\n    }\n\n    .dataframe tbody tr th {\n        vertical-align: top;\n    }\n\n    .dataframe thead th {\n        text-align: right;\n    }\n</style>\n<table border=\"1\" class=\"dataframe\">\n  <thead>\n    <tr style=\"text-align: right;\">\n      <th></th>\n      <th>employee_id</th>\n      <th>annual_salary</th>\n      <th>employment_status</th>\n      <th>rank</th>\n      <th>first_name</th>\n      <th>middle_name</th>\n      <th>middle_initial</th>\n      <th>last_name</th>\n      <th>left_date</th>\n      <th>hire_year</th>\n      <th>hire_month</th>\n      <th>hire_day</th>\n      <th>data_production_year</th>\n      <th>agency</th>\n    </tr>\n  </thead>\n  <tbody>\n    <tr>\n      <th>0</th>\n      <td>2146</td>\n      <td>66044.16</td>\n      <td>inactive</td>\n      <td>captain</td>\n      <td>manuel</td>\n      <td>j</td>\n      <td>j</td>\n      <td>adams</td>\n      <td>6/29/20</td>\n      <td>2002</td>\n      <td>1</td>\n      <td>2</td>\n      <td>2020</td>\n      <td>Harahan CSD</td>\n    </tr>\n    <tr>\n      <th>1</th>\n      <td>2308</td>\n      <td>40906.32</td>\n      <td>inactive</td>\n      <td>police officer</td>\n      <td>chase</td>\n      <td>m</td>\n      <td>m</td>\n      <td>bagley</td>\n      <td>10/16/20</td>\n      <td>2019</td>\n      <td>2</td>\n      <td>24</td>\n      <td>2020</td>\n      <td>Harahan CSD</td>\n    </tr>\n    <tr>\n      <th>2</th>\n      <td>2335</td>\n      <td>40513.20</td>\n      <td>active</td>\n      <td>police officer</td>\n      <td>michael</td>\n      <td></td>\n      <td></td>\n      <td>barnett</td>\n      <td>NaN</td>\n      <td>2020</td>\n      <td>2</td>\n      <td>17</td>\n      <td>2020</td>\n      <td>Harahan CSD</td>\n    </tr>\n    <tr>\n      <th>3</th>\n      <td>2270</td>\n      <td>16640.00</td>\n      <td>inactive</td>\n      <td>i/t coordinator</td>\n      <td>gregory</td>\n      <td>j</td>\n      <td>j</td>\n      <td>binder</td>\n      <td>NaN</td>\n      <td>2013</td>\n      <td>12</td>\n      <td>4</td>\n      <td>2020</td>\n      <td>Harahan CSD</td>\n    </tr>\n    <tr>\n      <th>4</th>\n      <td>2268</td>\n      <td>50000.08</td>\n      <td>inactive</td>\n      <td>assistant chief of police</td>\n      <td>aaron</td>\n      <td>j</td>\n      <td>j</td>\n      <td>blackwell</td>\n      <td>5/9/14</td>\n      <td>2013</td>\n      <td>11</td>\n      <td>3</td>\n      <td>2020</td>\n      <td>Harahan CSD</td>\n    </tr>\n    <tr>\n      <th>...</th>\n      <td>...</td>\n      <td>...</td>\n      <td>...</td>\n      <td>...</td>\n      <td>...</td>\n      <td>...</td>\n      <td>...</td>\n      <td>...</td>\n      <td>...</td>\n      <td>...</td>\n      <td>...</td>\n      <td>...</td>\n      <td>...</td>\n      <td>...</td>\n    </tr>\n    <tr>\n      <th>121</th>\n      <td>2278</td>\n      <td>42681.60</td>\n      <td>inactive</td>\n      <td>secretary - police chief</td>\n      <td>tracy</td>\n      <td>m</td>\n      <td>m</td>\n      <td>whittle</td>\n      <td>5/29/19</td>\n      <td>2014</td>\n      <td>6</td>\n      <td>2</td>\n      <td>2020</td>\n      <td>Harahan CSD</td>\n    </tr>\n    <tr>\n      <th>122</th>\n      <td>2287</td>\n      <td>37850.90</td>\n      <td>inactive</td>\n      <td>police sergeant</td>\n      <td>michael</td>\n      <td>p</td>\n      <td>p</td>\n      <td>wright</td>\n      <td>12/19/18</td>\n      <td>2015</td>\n      <td>8</td>\n      <td>2</td>\n      <td>2020</td>\n      <td>Harahan CSD</td>\n    </tr>\n    <tr>\n      <th>123</th>\n      <td>2205</td>\n      <td>30500.08</td>\n      <td>inactive</td>\n      <td>police officer</td>\n      <td>andrew</td>\n      <td>d</td>\n      <td>d</td>\n      <td>yeadon</td>\n      <td>1/29/09</td>\n      <td>2008</td>\n      <td>4</td>\n      <td>2</td>\n      <td>2020</td>\n      <td>Harahan CSD</td>\n    </tr>\n    <tr>\n      <th>124</th>\n      <td>2199</td>\n      <td>30500.08</td>\n      <td>inactive</td>\n      <td>police officer</td>\n      <td>robert</td>\n      <td>m</td>\n      <td>m</td>\n      <td>yeadon</td>\n      <td>8/2/08</td>\n      <td>2007</td>\n      <td>7</td>\n      <td>6</td>\n      <td>2020</td>\n      <td>Harahan CSD</td>\n    </tr>\n    <tr>\n      <th>125</th>\n      <td>2256</td>\n      <td>29396.64</td>\n      <td>inactive</td>\n      <td>probational jailer/dispatch</td>\n      <td>melissa</td>\n      <td>g</td>\n      <td>g</td>\n      <td>yeager</td>\n      <td>1/25/16</td>\n      <td>2013</td>\n      <td>2</td>\n      <td>17</td>\n      <td>2020</td>\n      <td>Harahan CSD</td>\n    </tr>\n  </tbody>\n</table>\n<p>126 rows × 14 columns</p>\n</div>"
     },
     "metadata": {},
     "execution_count": 2
    }
   ],
   "source": [
    "pprr = clean()\n",
    "pprr"
   ]
  },
  {
   "cell_type": "code",
   "execution_count": 3,
   "metadata": {},
   "outputs": [
    {
     "output_type": "execute_result",
     "data": {
      "text/plain": [
       "array([2146, 2308, 2335, 2270, 2268, 2321, 2282, 2300, 2289, 2292, 2299,\n",
       "       2294, 2302, 2209, 2258, 2204, 2207, 2296, 2136, 2073, 2140, 2150,\n",
       "       2260, 2172, 2345, 2264, 2304, 2295, 2284, 2183, 2254, 2347, 2202,\n",
       "       2230, 2166, 2212, 2246, 2305, 2286, 2208, 2220, 2227, 2226, 2221,\n",
       "       2319, 2211, 2224, 2297, 2331, 2216, 2343, 2242, 2201, 2266, 2291,\n",
       "       2315, 2203, 2276, 2350, 2214, 2206, 2193, 2119, 2317, 2174, 2248,\n",
       "       2190, 2323, 2250, 2312, 2311, 2223, 2280, 2303, 2327, 2234, 2180,\n",
       "       2244, 2238, 2274, 2210, 2232, 2310, 2044, 2219, 2252, 2313, 2092,\n",
       "       2047, 2225, 2290, 2218, 2170, 2288, 2329, 2333, 2240, 2195, 2325,\n",
       "       2217, 2306, 2161, 2351, 2337, 2156, 2236, 2339, 2245, 2298, 2192,\n",
       "       2141, 2147, 2349, 2293, 2341, 2262, 2213, 2197, 1082, 2301, 2278,\n",
       "       2287, 2205, 2199, 2256])"
      ]
     },
     "metadata": {},
     "execution_count": 3
    }
   ],
   "source": [
    "pprr.employee_id.unique()"
   ]
  },
  {
   "cell_type": "code",
   "execution_count": 4,
   "metadata": {},
   "outputs": [
    {
     "output_type": "execute_result",
     "data": {
      "text/plain": [
       "          last_name first_name  badge_no rank_desc rank_year rank_month  \\\n",
       "0            walker        tim         1                                  \n",
       "1            bagley      chase       187                                  \n",
       "2           bloomer     jordon       195  sergeant      2019         10   \n",
       "3          crovetto       eric       117  sergeant      2013          3   \n",
       "4            darwin      david       106  sergeant      2019          5   \n",
       "5            deacon       drew       129  sergeant      2020          3   \n",
       "6           dunning       john       201                                  \n",
       "7             evans   benjamin       194                                  \n",
       "8            hadden      susan       189                                  \n",
       "9           hammond      chris       163                                  \n",
       "10           hendon   gabrille       190                                  \n",
       "11          johnson     daniel       166                                  \n",
       "12       jovanovich       mark       188  sergeant      2019          5   \n",
       "13         lombardi       sean       186  sergeant      2020          4   \n",
       "14            lopez      angel       125                                  \n",
       "15             lowe     austin       196                                  \n",
       "16           meyers       eric       123                                  \n",
       "17         mitchell      david       113  sergeant      2020          3   \n",
       "18            nacio     allena       191                                  \n",
       "19         rumbelow      david       122                                  \n",
       "20           salaun      daryl       177                                  \n",
       "21        schneider   nicholas       124                                  \n",
       "22         stiebing      bruce       138                                  \n",
       "23          stoulig     janeth       127                                  \n",
       "24            sylve      eddie       202                                  \n",
       "25  trochez-sanchez       elsa       144                                  \n",
       "26        velasquez      issac       111                                  \n",
       "\n",
       "   rank_day  \n",
       "0            \n",
       "1            \n",
       "2        14  \n",
       "3        14  \n",
       "4        15  \n",
       "5         2  \n",
       "6            \n",
       "7            \n",
       "8            \n",
       "9            \n",
       "10           \n",
       "11           \n",
       "12       15  \n",
       "13       19  \n",
       "14           \n",
       "15           \n",
       "16           \n",
       "17        2  \n",
       "18           \n",
       "19           \n",
       "20           \n",
       "21           \n",
       "22           \n",
       "23           \n",
       "24           \n",
       "25           \n",
       "26           "
      ],
      "text/html": "<div>\n<style scoped>\n    .dataframe tbody tr th:only-of-type {\n        vertical-align: middle;\n    }\n\n    .dataframe tbody tr th {\n        vertical-align: top;\n    }\n\n    .dataframe thead th {\n        text-align: right;\n    }\n</style>\n<table border=\"1\" class=\"dataframe\">\n  <thead>\n    <tr style=\"text-align: right;\">\n      <th></th>\n      <th>last_name</th>\n      <th>first_name</th>\n      <th>badge_no</th>\n      <th>rank_desc</th>\n      <th>rank_year</th>\n      <th>rank_month</th>\n      <th>rank_day</th>\n    </tr>\n  </thead>\n  <tbody>\n    <tr>\n      <th>0</th>\n      <td>walker</td>\n      <td>tim</td>\n      <td>1</td>\n      <td></td>\n      <td></td>\n      <td></td>\n      <td></td>\n    </tr>\n    <tr>\n      <th>1</th>\n      <td>bagley</td>\n      <td>chase</td>\n      <td>187</td>\n      <td></td>\n      <td></td>\n      <td></td>\n      <td></td>\n    </tr>\n    <tr>\n      <th>2</th>\n      <td>bloomer</td>\n      <td>jordon</td>\n      <td>195</td>\n      <td>sergeant</td>\n      <td>2019</td>\n      <td>10</td>\n      <td>14</td>\n    </tr>\n    <tr>\n      <th>3</th>\n      <td>crovetto</td>\n      <td>eric</td>\n      <td>117</td>\n      <td>sergeant</td>\n      <td>2013</td>\n      <td>3</td>\n      <td>14</td>\n    </tr>\n    <tr>\n      <th>4</th>\n      <td>darwin</td>\n      <td>david</td>\n      <td>106</td>\n      <td>sergeant</td>\n      <td>2019</td>\n      <td>5</td>\n      <td>15</td>\n    </tr>\n    <tr>\n      <th>5</th>\n      <td>deacon</td>\n      <td>drew</td>\n      <td>129</td>\n      <td>sergeant</td>\n      <td>2020</td>\n      <td>3</td>\n      <td>2</td>\n    </tr>\n    <tr>\n      <th>6</th>\n      <td>dunning</td>\n      <td>john</td>\n      <td>201</td>\n      <td></td>\n      <td></td>\n      <td></td>\n      <td></td>\n    </tr>\n    <tr>\n      <th>7</th>\n      <td>evans</td>\n      <td>benjamin</td>\n      <td>194</td>\n      <td></td>\n      <td></td>\n      <td></td>\n      <td></td>\n    </tr>\n    <tr>\n      <th>8</th>\n      <td>hadden</td>\n      <td>susan</td>\n      <td>189</td>\n      <td></td>\n      <td></td>\n      <td></td>\n      <td></td>\n    </tr>\n    <tr>\n      <th>9</th>\n      <td>hammond</td>\n      <td>chris</td>\n      <td>163</td>\n      <td></td>\n      <td></td>\n      <td></td>\n      <td></td>\n    </tr>\n    <tr>\n      <th>10</th>\n      <td>hendon</td>\n      <td>gabrille</td>\n      <td>190</td>\n      <td></td>\n      <td></td>\n      <td></td>\n      <td></td>\n    </tr>\n    <tr>\n      <th>11</th>\n      <td>johnson</td>\n      <td>daniel</td>\n      <td>166</td>\n      <td></td>\n      <td></td>\n      <td></td>\n      <td></td>\n    </tr>\n    <tr>\n      <th>12</th>\n      <td>jovanovich</td>\n      <td>mark</td>\n      <td>188</td>\n      <td>sergeant</td>\n      <td>2019</td>\n      <td>5</td>\n      <td>15</td>\n    </tr>\n    <tr>\n      <th>13</th>\n      <td>lombardi</td>\n      <td>sean</td>\n      <td>186</td>\n      <td>sergeant</td>\n      <td>2020</td>\n      <td>4</td>\n      <td>19</td>\n    </tr>\n    <tr>\n      <th>14</th>\n      <td>lopez</td>\n      <td>angel</td>\n      <td>125</td>\n      <td></td>\n      <td></td>\n      <td></td>\n      <td></td>\n    </tr>\n    <tr>\n      <th>15</th>\n      <td>lowe</td>\n      <td>austin</td>\n      <td>196</td>\n      <td></td>\n      <td></td>\n      <td></td>\n      <td></td>\n    </tr>\n    <tr>\n      <th>16</th>\n      <td>meyers</td>\n      <td>eric</td>\n      <td>123</td>\n      <td></td>\n      <td></td>\n      <td></td>\n      <td></td>\n    </tr>\n    <tr>\n      <th>17</th>\n      <td>mitchell</td>\n      <td>david</td>\n      <td>113</td>\n      <td>sergeant</td>\n      <td>2020</td>\n      <td>3</td>\n      <td>2</td>\n    </tr>\n    <tr>\n      <th>18</th>\n      <td>nacio</td>\n      <td>allena</td>\n      <td>191</td>\n      <td></td>\n      <td></td>\n      <td></td>\n      <td></td>\n    </tr>\n    <tr>\n      <th>19</th>\n      <td>rumbelow</td>\n      <td>david</td>\n      <td>122</td>\n      <td></td>\n      <td></td>\n      <td></td>\n      <td></td>\n    </tr>\n    <tr>\n      <th>20</th>\n      <td>salaun</td>\n      <td>daryl</td>\n      <td>177</td>\n      <td></td>\n      <td></td>\n      <td></td>\n      <td></td>\n    </tr>\n    <tr>\n      <th>21</th>\n      <td>schneider</td>\n      <td>nicholas</td>\n      <td>124</td>\n      <td></td>\n      <td></td>\n      <td></td>\n      <td></td>\n    </tr>\n    <tr>\n      <th>22</th>\n      <td>stiebing</td>\n      <td>bruce</td>\n      <td>138</td>\n      <td></td>\n      <td></td>\n      <td></td>\n      <td></td>\n    </tr>\n    <tr>\n      <th>23</th>\n      <td>stoulig</td>\n      <td>janeth</td>\n      <td>127</td>\n      <td></td>\n      <td></td>\n      <td></td>\n      <td></td>\n    </tr>\n    <tr>\n      <th>24</th>\n      <td>sylve</td>\n      <td>eddie</td>\n      <td>202</td>\n      <td></td>\n      <td></td>\n      <td></td>\n      <td></td>\n    </tr>\n    <tr>\n      <th>25</th>\n      <td>trochez-sanchez</td>\n      <td>elsa</td>\n      <td>144</td>\n      <td></td>\n      <td></td>\n      <td></td>\n      <td></td>\n    </tr>\n    <tr>\n      <th>26</th>\n      <td>velasquez</td>\n      <td>issac</td>\n      <td>111</td>\n      <td></td>\n      <td></td>\n      <td></td>\n      <td></td>\n    </tr>\n  </tbody>\n</table>\n</div>"
     },
     "metadata": {},
     "execution_count": 4
    }
   ],
   "source": [
    "pdpprr = clean_pd()\n",
    "pdpprr"
   ]
  },
  {
   "cell_type": "code",
   "execution_count": null,
   "metadata": {},
   "outputs": [],
   "source": []
  }
 ]
}
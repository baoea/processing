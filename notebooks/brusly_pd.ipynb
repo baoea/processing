{
 "metadata": {
  "language_info": {
   "codemirror_mode": {
    "name": "ipython",
    "version": 3
   },
   "file_extension": ".py",
   "mimetype": "text/x-python",
   "name": "python",
   "nbconvert_exporter": "python",
   "pygments_lexer": "ipython3",
   "version": "3.8.3-final"
  },
  "orig_nbformat": 2,
  "kernelspec": {
   "name": "python3",
   "display_name": "Python 3",
   "language": "python"
  }
 },
 "nbformat": 4,
 "nbformat_minor": 2,
 "cells": [
  {
   "cell_type": "code",
   "execution_count": 1,
   "metadata": {},
   "outputs": [],
   "source": [
    "import sys; sys.path.append(\"../\")\n",
    "\n",
    "import pandas as pd\n",
    "\n",
    "from clean.brusly_pd import clean_cprr, clean_pprr\n",
    "from lib.match import (\n",
    "    ThresholdMatcher, NoopIndex, JaroWinklerSimilarity\n",
    ")\n",
    "from lib.explore import print_df\n",
    "from match.brusly_pd import add_uid_to_complaint, add_supervisor_uid_to_complaint"
   ]
  },
  {
   "cell_type": "code",
   "execution_count": 2,
   "metadata": {},
   "outputs": [
    {
     "output_type": "stream",
     "name": "stderr",
     "text": [
      "../lib/clean.py:166: FutureWarning: The default value of regex will change from True to False in a future version.\n  return series.str.strip().str.replace(r\"[^\\w-]+\", \" \").str.replace(r\"\\s+\", \" \")\\\n../clean/brusly_pd.py:19: FutureWarning: The default value of regex will change from True to False in a future version.\n  sup = df.supervisor.str.replace(\n../clean/brusly_pd.py:21: FutureWarning: The default value of regex will change from True to False in a future version.\n  df.loc[:, \"supervisor_rank\"] = sup.loc[:, 0].str.lower()\\\n"
     ]
    },
    {
     "output_type": "execute_result",
     "data": {
      "text/plain": [
       "                                charges                    action last_name  \\\n",
       "0  failure to report in a timely manner  first offense counseling   portier   \n",
       "1      conduct unbecoming of an officer     suspended without pay   johnson   \n",
       "\n",
       "  first_name  supervisor_rank supervisor_first_name supervisor_last_name  \\\n",
       "0      brett  assistant chief                   tom              southon   \n",
       "1      david       lieutenant                 jason             fontenot   \n",
       "\n",
       "  receive_year receive_month receive_day  ... occur_month occur_day  \\\n",
       "0         2019             5           3  ...           5         3   \n",
       "1         2020             5           5  ...           4        29   \n",
       "\n",
       "  suspension_start_year suspension_start_month suspension_start_day  \\\n",
       "0                                                                     \n",
       "1                  2020                      5                   13   \n",
       "\n",
       "  suspension_end_year suspension_end_month suspension_end_day     agency  \\\n",
       "0                                                              Brusly PD   \n",
       "1                2020                    5                 29  Brusly PD   \n",
       "\n",
       "  data_production_year  \n",
       "0                 2020  \n",
       "1                 2020  \n",
       "\n",
       "[2 rows x 21 columns]"
      ],
      "text/html": "<div>\n<style scoped>\n    .dataframe tbody tr th:only-of-type {\n        vertical-align: middle;\n    }\n\n    .dataframe tbody tr th {\n        vertical-align: top;\n    }\n\n    .dataframe thead th {\n        text-align: right;\n    }\n</style>\n<table border=\"1\" class=\"dataframe\">\n  <thead>\n    <tr style=\"text-align: right;\">\n      <th></th>\n      <th>charges</th>\n      <th>action</th>\n      <th>last_name</th>\n      <th>first_name</th>\n      <th>supervisor_rank</th>\n      <th>supervisor_first_name</th>\n      <th>supervisor_last_name</th>\n      <th>receive_year</th>\n      <th>receive_month</th>\n      <th>receive_day</th>\n      <th>...</th>\n      <th>occur_month</th>\n      <th>occur_day</th>\n      <th>suspension_start_year</th>\n      <th>suspension_start_month</th>\n      <th>suspension_start_day</th>\n      <th>suspension_end_year</th>\n      <th>suspension_end_month</th>\n      <th>suspension_end_day</th>\n      <th>agency</th>\n      <th>data_production_year</th>\n    </tr>\n  </thead>\n  <tbody>\n    <tr>\n      <th>0</th>\n      <td>failure to report in a timely manner</td>\n      <td>first offense counseling</td>\n      <td>portier</td>\n      <td>brett</td>\n      <td>assistant chief</td>\n      <td>tom</td>\n      <td>southon</td>\n      <td>2019</td>\n      <td>5</td>\n      <td>3</td>\n      <td>...</td>\n      <td>5</td>\n      <td>3</td>\n      <td></td>\n      <td></td>\n      <td></td>\n      <td></td>\n      <td></td>\n      <td></td>\n      <td>Brusly PD</td>\n      <td>2020</td>\n    </tr>\n    <tr>\n      <th>1</th>\n      <td>conduct unbecoming of an officer</td>\n      <td>suspended without pay</td>\n      <td>johnson</td>\n      <td>david</td>\n      <td>lieutenant</td>\n      <td>jason</td>\n      <td>fontenot</td>\n      <td>2020</td>\n      <td>5</td>\n      <td>5</td>\n      <td>...</td>\n      <td>4</td>\n      <td>29</td>\n      <td>2020</td>\n      <td>5</td>\n      <td>13</td>\n      <td>2020</td>\n      <td>5</td>\n      <td>29</td>\n      <td>Brusly PD</td>\n      <td>2020</td>\n    </tr>\n  </tbody>\n</table>\n<p>2 rows × 21 columns</p>\n</div>"
     },
     "metadata": {},
     "execution_count": 2
    }
   ],
   "source": [
    "cprr = clean_cprr()\n",
    "cprr"
   ]
  },
  {
   "cell_type": "code",
   "execution_count": 3,
   "metadata": {},
   "outputs": [
    {
     "output_type": "stream",
     "name": "stdout",
     "text": [
      "                                                                first_name last_name\nscore_range pair_idx sim_score row_key                                              \n1.00-0.95   0        1.0       1                                     david   johnson\n                               311a373584f02b60ff5d902d7dc319e5      david   johnson\n            1        1.0       0                                     brett   portier\n                               fbc660d7fcef80a66e904f71b51bbced      brett   portier\n"
     ]
    }
   ],
   "source": [
    "post = pd.read_csv('../data/clean/pprr_post_2020_11_06.csv')\n",
    "post = post[post.agency == 'brusly pd']\n",
    "\n",
    "dfa = cprr[[\"first_name\", \"last_name\"]]\n",
    "dfb = post[[\"uid\", \"first_name\", \"last_name\"]].set_index(\"uid\", drop=True)\n",
    "\n",
    "matcher = ThresholdMatcher(dfa, dfb, NoopIndex(), {\n",
    "    \"first_name\": JaroWinklerSimilarity(),\n",
    "    \"last_name\": JaroWinklerSimilarity()\n",
    "})\n",
    "print_df(matcher.get_sample_pairs())"
   ]
  },
  {
   "cell_type": "code",
   "execution_count": null,
   "metadata": {},
   "outputs": [],
   "source": []
  }
 ]
}
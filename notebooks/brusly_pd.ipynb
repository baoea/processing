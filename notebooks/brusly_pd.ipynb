{
 "metadata": {
  "language_info": {
   "codemirror_mode": {
    "name": "ipython",
    "version": 3
   },
   "file_extension": ".py",
   "mimetype": "text/x-python",
   "name": "python",
   "nbconvert_exporter": "python",
   "pygments_lexer": "ipython3",
   "version": "3.8.3"
  },
  "orig_nbformat": 2,
  "kernelspec": {
   "name": "python383jvsc74a57bd0759d03fc00c4e55187619d7bc1e0b6a3309d14c7c00d43a321634150e05678f8",
   "display_name": "Python 3.8.3 64-bit ('base': conda)"
  }
 },
 "nbformat": 4,
 "nbformat_minor": 2,
 "cells": [
  {
   "cell_type": "code",
   "execution_count": 1,
   "metadata": {},
   "outputs": [],
   "source": [
    "import sys; sys.path.append(\"../\")\n",
    "\n",
    "import pandas as pd\n",
    "\n",
    "from clean.brusly_pd import clean_cprr, clean_pprr, clean_award\n",
    "from lib.match import (\n",
    "    ThresholdMatcher, NoopIndex, JaroWinklerSimilarity\n",
    ")\n",
    "from lib.explore import print_df\n",
    "from match.brusly_pd import add_uid_to_complaint, add_supervisor_uid_to_complaint"
   ]
  },
  {
   "cell_type": "code",
   "execution_count": 2,
   "metadata": {},
   "outputs": [],
   "source": [
    "# cprr = clean_cprr()\n",
    "# cprr"
   ]
  },
  {
   "cell_type": "code",
   "execution_count": 3,
   "metadata": {},
   "outputs": [
    {
     "output_type": "execute_result",
     "data": {
      "text/plain": [
       "     l_name    f_name                         award  receive_year  \\\n",
       "0    yetman    garret              life saver award          2018   \n",
       "1      ross     robyn              life saver award          2018   \n",
       "2   mitchel    daniel           officer of the year          2019   \n",
       "3   southon       tom           officer of the year          2016   \n",
       "4   southon       tom           officer of the year          2017   \n",
       "5  fontenot     jason           officer of the year          2018   \n",
       "6    wallis    steven           officer of the year          2020   \n",
       "7   southon       tom  hard work appreciation award          2016   \n",
       "8   lefeaux  jonathan  hard work appreciation award          2016   \n",
       "\n",
       "                                            comments  \n",
       "0  yetman arrived on scene and performed necessar...  \n",
       "1  ross arrived on scene and performed necessary ...  \n",
       "2                                                NaN  \n",
       "3                                                NaN  \n",
       "4                                                NaN  \n",
       "5                                                NaN  \n",
       "6                                                NaN  \n",
       "7                                                NaN  \n",
       "8                                                NaN  "
      ],
      "text/html": "<div>\n<style scoped>\n    .dataframe tbody tr th:only-of-type {\n        vertical-align: middle;\n    }\n\n    .dataframe tbody tr th {\n        vertical-align: top;\n    }\n\n    .dataframe thead th {\n        text-align: right;\n    }\n</style>\n<table border=\"1\" class=\"dataframe\">\n  <thead>\n    <tr style=\"text-align: right;\">\n      <th></th>\n      <th>l_name</th>\n      <th>f_name</th>\n      <th>award</th>\n      <th>receive_year</th>\n      <th>comments</th>\n    </tr>\n  </thead>\n  <tbody>\n    <tr>\n      <th>0</th>\n      <td>yetman</td>\n      <td>garret</td>\n      <td>life saver award</td>\n      <td>2018</td>\n      <td>yetman arrived on scene and performed necessar...</td>\n    </tr>\n    <tr>\n      <th>1</th>\n      <td>ross</td>\n      <td>robyn</td>\n      <td>life saver award</td>\n      <td>2018</td>\n      <td>ross arrived on scene and performed necessary ...</td>\n    </tr>\n    <tr>\n      <th>2</th>\n      <td>mitchel</td>\n      <td>daniel</td>\n      <td>officer of the year</td>\n      <td>2019</td>\n      <td>NaN</td>\n    </tr>\n    <tr>\n      <th>3</th>\n      <td>southon</td>\n      <td>tom</td>\n      <td>officer of the year</td>\n      <td>2016</td>\n      <td>NaN</td>\n    </tr>\n    <tr>\n      <th>4</th>\n      <td>southon</td>\n      <td>tom</td>\n      <td>officer of the year</td>\n      <td>2017</td>\n      <td>NaN</td>\n    </tr>\n    <tr>\n      <th>5</th>\n      <td>fontenot</td>\n      <td>jason</td>\n      <td>officer of the year</td>\n      <td>2018</td>\n      <td>NaN</td>\n    </tr>\n    <tr>\n      <th>6</th>\n      <td>wallis</td>\n      <td>steven</td>\n      <td>officer of the year</td>\n      <td>2020</td>\n      <td>NaN</td>\n    </tr>\n    <tr>\n      <th>7</th>\n      <td>southon</td>\n      <td>tom</td>\n      <td>hard work appreciation award</td>\n      <td>2016</td>\n      <td>NaN</td>\n    </tr>\n    <tr>\n      <th>8</th>\n      <td>lefeaux</td>\n      <td>jonathan</td>\n      <td>hard work appreciation award</td>\n      <td>2016</td>\n      <td>NaN</td>\n    </tr>\n  </tbody>\n</table>\n</div>"
     },
     "metadata": {},
     "execution_count": 3
    }
   ],
   "source": [
    "award = clean_award()\n",
    "award"
   ]
  },
  {
   "cell_type": "code",
   "execution_count": null,
   "metadata": {},
   "outputs": [],
   "source": []
  }
 ]
}
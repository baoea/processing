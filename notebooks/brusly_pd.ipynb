{
 "metadata": {
  "language_info": {
   "codemirror_mode": {
    "name": "ipython",
    "version": 3
   },
   "file_extension": ".py",
   "mimetype": "text/x-python",
   "name": "python",
   "nbconvert_exporter": "python",
   "pygments_lexer": "ipython3",
   "version": "3.8.3-final"
  },
  "orig_nbformat": 2,
  "kernelspec": {
   "name": "python3",
   "display_name": "Python 3",
   "language": "python"
  }
 },
 "nbformat": 4,
 "nbformat_minor": 2,
 "cells": [
  {
   "cell_type": "code",
   "execution_count": 1,
   "metadata": {},
   "outputs": [],
   "source": [
    "import sys; sys.path.append(\"../\")\n",
    "\n",
    "import pandas as pd\n",
    "\n",
    "from clean.brusly_pd import clean_cprr, clean_pprr\n",
    "from match.brusly_pd import add_uid_to_complaint, add_supervisor_uid_to_complaint"
   ]
  },
  {
   "cell_type": "code",
   "execution_count": 2,
   "metadata": {},
   "outputs": [
    {
     "output_type": "execute_result",
     "data": {
      "text/plain": [
       "                         rule_violation                    action last_name  \\\n",
       "0  failure to report in a timely manner  first offense counseling   portier   \n",
       "1      conduct unbecoming of an officer     suspended without pay   johnson   \n",
       "\n",
       "  first_name  supervisor_rank supervisor_first_name supervisor_last_name  \\\n",
       "0      brett  assistant chief                   tom              southon   \n",
       "1      david       lieutenant                 jason             fontenot   \n",
       "\n",
       "  receive_year receive_month receive_day  ... occur_month occur_day  \\\n",
       "0         2019             5           3  ...           5         3   \n",
       "1         2020             5           5  ...           4        29   \n",
       "\n",
       "  suspension_start_year suspension_start_month suspension_start_day  \\\n",
       "0                                                                     \n",
       "1                  2020                      5                   13   \n",
       "\n",
       "  suspension_end_year suspension_end_month suspension_end_day     agency  \\\n",
       "0                                                              Brusly PD   \n",
       "1                2020                    5                 29  Brusly PD   \n",
       "\n",
       "  data_production_year  \n",
       "0                 2020  \n",
       "1                 2020  \n",
       "\n",
       "[2 rows x 21 columns]"
      ],
      "text/html": "<div>\n<style scoped>\n    .dataframe tbody tr th:only-of-type {\n        vertical-align: middle;\n    }\n\n    .dataframe tbody tr th {\n        vertical-align: top;\n    }\n\n    .dataframe thead th {\n        text-align: right;\n    }\n</style>\n<table border=\"1\" class=\"dataframe\">\n  <thead>\n    <tr style=\"text-align: right;\">\n      <th></th>\n      <th>rule_violation</th>\n      <th>action</th>\n      <th>last_name</th>\n      <th>first_name</th>\n      <th>supervisor_rank</th>\n      <th>supervisor_first_name</th>\n      <th>supervisor_last_name</th>\n      <th>receive_year</th>\n      <th>receive_month</th>\n      <th>receive_day</th>\n      <th>...</th>\n      <th>occur_month</th>\n      <th>occur_day</th>\n      <th>suspension_start_year</th>\n      <th>suspension_start_month</th>\n      <th>suspension_start_day</th>\n      <th>suspension_end_year</th>\n      <th>suspension_end_month</th>\n      <th>suspension_end_day</th>\n      <th>agency</th>\n      <th>data_production_year</th>\n    </tr>\n  </thead>\n  <tbody>\n    <tr>\n      <th>0</th>\n      <td>failure to report in a timely manner</td>\n      <td>first offense counseling</td>\n      <td>portier</td>\n      <td>brett</td>\n      <td>assistant chief</td>\n      <td>tom</td>\n      <td>southon</td>\n      <td>2019</td>\n      <td>5</td>\n      <td>3</td>\n      <td>...</td>\n      <td>5</td>\n      <td>3</td>\n      <td></td>\n      <td></td>\n      <td></td>\n      <td></td>\n      <td></td>\n      <td></td>\n      <td>Brusly PD</td>\n      <td>2020</td>\n    </tr>\n    <tr>\n      <th>1</th>\n      <td>conduct unbecoming of an officer</td>\n      <td>suspended without pay</td>\n      <td>johnson</td>\n      <td>david</td>\n      <td>lieutenant</td>\n      <td>jason</td>\n      <td>fontenot</td>\n      <td>2020</td>\n      <td>5</td>\n      <td>5</td>\n      <td>...</td>\n      <td>4</td>\n      <td>29</td>\n      <td>2020</td>\n      <td>5</td>\n      <td>13</td>\n      <td>2020</td>\n      <td>5</td>\n      <td>29</td>\n      <td>Brusly PD</td>\n      <td>2020</td>\n    </tr>\n  </tbody>\n</table>\n<p>2 rows × 21 columns</p>\n</div>"
     },
     "metadata": {},
     "execution_count": 2
    }
   ],
   "source": [
    "cprr = clean_cprr()\n",
    "cprr"
   ]
  },
  {
   "cell_type": "code",
   "execution_count": 4,
   "metadata": {},
   "outputs": [
    {
     "output_type": "execute_result",
     "data": {
      "text/plain": [
       "Index(['rule_violation', 'action', 'last_name', 'first_name',\n",
       "       'supervisor_rank', 'supervisor_first_name', 'supervisor_last_name',\n",
       "       'receive_year', 'receive_month', 'receive_day', 'occur_year',\n",
       "       'occur_month', 'occur_day', 'suspension_start_year',\n",
       "       'suspension_start_month', 'suspension_start_day', 'suspension_end_year',\n",
       "       'suspension_end_month', 'suspension_end_day', 'agency',\n",
       "       'data_production_year'],\n",
       "      dtype='object')"
      ]
     },
     "metadata": {},
     "execution_count": 4
    }
   ],
   "source": [
    "cprr.columns"
   ]
  },
  {
   "cell_type": "code",
   "execution_count": 3,
   "metadata": {},
   "outputs": [
    {
     "output_type": "execute_result",
     "data": {
      "text/plain": [
       "         rank_desc  annual_salary last_name first_name middle_initial  \\\n",
       "0   police officer       43614.48    dupree    anthony              r   \n",
       "1   police officer       42609.84  cipriano     daniel              d   \n",
       "2   police officer       43024.80   johnson      david              d   \n",
       "3   police officer       37876.80  cacioppo       gwen              l   \n",
       "4   police officer       39770.64  mcintyre       ivan              j   \n",
       "5   police officer       37848.72      ward     jordan              e   \n",
       "6     police chief       48000.00   lefeaux   jonathan              j   \n",
       "7   police officer       50734.32  fontenot      jason              p   \n",
       "8   police officer       39769.60   maranto    shellie              e   \n",
       "9   police officer       54097.68   southon     thomas              e   \n",
       "10  police officer       24960.00     leray        ron                  \n",
       "11  police officer       31200.00  cavalier       neal                  \n",
       "12  police officer       38176.32   mitchel   danielle                  \n",
       "13  police officer       39770.64      ross      robyn              h   \n",
       "14  police officer       37128.00    yetman    garrett                  \n",
       "15  police officer       39355.68   portier      brett                  \n",
       "16  police officer       31200.00    comeau    michael                  \n",
       "17  police officer       35992.32   zachary     jordan                  \n",
       "18  police officer       24960.00     oubre    sylvest              j   \n",
       "19  police officer       37870.56    wallis    stephen                  \n",
       "20  police officer       40098.24  thompson     jeremy              s   \n",
       "21  police officer       35642.88    tetzel     ronald              a   \n",
       "22  police officer       33945.60      byrd      devin              e   \n",
       "\n",
       "   birth_year birth_month birth_day hire_year hire_month hire_day term_year  \\\n",
       "0        1972           5        25      2015          9        8      2018   \n",
       "1        1972           5         7      2012          8       24      2018   \n",
       "2        1968           7        29      2010          8        9             \n",
       "3        1966           8        16      2014         12       22      2017   \n",
       "4        1968           1        16      2016          4       11      2017   \n",
       "5        1992           8        28      2016          8       24      2017   \n",
       "6        1979           3         9      2014         11       14             \n",
       "7        1975           2         2      2012          5       15             \n",
       "8        1977           3        21      2014          8        1      2017   \n",
       "9        1982          11        17      2009          8        9             \n",
       "10       1979           8         7      2015          8       11      2018   \n",
       "11       1965           7        20      2005          4       20             \n",
       "12       1977           7         7      2017          5       15             \n",
       "13       1980           6        16      2017          8       11      2019   \n",
       "14       1993           9         9      2017          9       24      2019   \n",
       "15       1988          11        14      2017         10       10             \n",
       "16       1971           6         9      2018          6       11      2019   \n",
       "17       1994           4        22      2018         11        1      2020   \n",
       "18       1977           7         5      2019          3       25      2019   \n",
       "19       1957          10         1      2019          4       16             \n",
       "20       1975           5        31      2019          7        8             \n",
       "21       1969           2         7      2019          8       12             \n",
       "22       1983           9        10      2020          2        3             \n",
       "\n",
       "   term_month term_day                               uid     agency  \\\n",
       "0          11        8  5b90bab1c7732760721915f50094657c  Brusly PD   \n",
       "1          11        8  e005f33e81149c13b9ad13a6d62fe982  Brusly PD   \n",
       "2                       9942549487bc163aa5d4a2461a2989d2  Brusly PD   \n",
       "3           2       24  9cf1067d592aec9382c31d0d20a90c9e  Brusly PD   \n",
       "4           9       20  27601c41ed0747bebd4a5645a19a35fd  Brusly PD   \n",
       "5           7       25  296180b8322983f1750bf5da63adcc2e  Brusly PD   \n",
       "6                       c20ee6d572f7d5e77386f7b584f9654b  Brusly PD   \n",
       "7                       dbf9a5fca980823dbf5bcc80df4d7588  Brusly PD   \n",
       "8           4        1  be67f802c25fca2673c21226067f09df  Brusly PD   \n",
       "9                       356b15773506e6a753aed10f642ee64a  Brusly PD   \n",
       "10          9        6  9e43a4c7f2982e82f25f250ac9717bfe  Brusly PD   \n",
       "11                      15389161322fb6111ef6275b782d79dc  Brusly PD   \n",
       "12                      c39bdb41f89eaed49274aa06ab5e525e  Brusly PD   \n",
       "13          7       15  922b8cfac0c11a8075dec9f8fccf8e50  Brusly PD   \n",
       "14          8       15  79b5ecc48e5bd91ed7c2511ec28789c1  Brusly PD   \n",
       "15                      d6a96b162f22d89d91b354dc5862c663  Brusly PD   \n",
       "16          5       31  fe5b20b4f712e9350edf794f993a3b03  Brusly PD   \n",
       "17          1       26  47f5020da0b3319c4a346e95dfaf93be  Brusly PD   \n",
       "18          5       31  43c827bf135a5e359ab2355791896f74  Brusly PD   \n",
       "19                      713808fcbd7f9011a8320d355b6991a8  Brusly PD   \n",
       "20                      80d0f954b5d8bd1b6d776f46eec38dd7  Brusly PD   \n",
       "21                      81c6c24fa3d1392a1ce881c8bcf569dd  Brusly PD   \n",
       "22                      edf4b91c0835d5b4559ed37c9619d5a7  Brusly PD   \n",
       "\n",
       "   data_production_year  \n",
       "0                  2020  \n",
       "1                  2020  \n",
       "2                  2020  \n",
       "3                  2020  \n",
       "4                  2020  \n",
       "5                  2020  \n",
       "6                  2020  \n",
       "7                  2020  \n",
       "8                  2020  \n",
       "9                  2020  \n",
       "10                 2020  \n",
       "11                 2020  \n",
       "12                 2020  \n",
       "13                 2020  \n",
       "14                 2020  \n",
       "15                 2020  \n",
       "16                 2020  \n",
       "17                 2020  \n",
       "18                 2020  \n",
       "19                 2020  \n",
       "20                 2020  \n",
       "21                 2020  \n",
       "22                 2020  "
      ],
      "text/html": "<div>\n<style scoped>\n    .dataframe tbody tr th:only-of-type {\n        vertical-align: middle;\n    }\n\n    .dataframe tbody tr th {\n        vertical-align: top;\n    }\n\n    .dataframe thead th {\n        text-align: right;\n    }\n</style>\n<table border=\"1\" class=\"dataframe\">\n  <thead>\n    <tr style=\"text-align: right;\">\n      <th></th>\n      <th>rank_desc</th>\n      <th>annual_salary</th>\n      <th>last_name</th>\n      <th>first_name</th>\n      <th>middle_initial</th>\n      <th>birth_year</th>\n      <th>birth_month</th>\n      <th>birth_day</th>\n      <th>hire_year</th>\n      <th>hire_month</th>\n      <th>hire_day</th>\n      <th>term_year</th>\n      <th>term_month</th>\n      <th>term_day</th>\n      <th>uid</th>\n      <th>agency</th>\n      <th>data_production_year</th>\n    </tr>\n  </thead>\n  <tbody>\n    <tr>\n      <th>0</th>\n      <td>police officer</td>\n      <td>43614.48</td>\n      <td>dupree</td>\n      <td>anthony</td>\n      <td>r</td>\n      <td>1972</td>\n      <td>5</td>\n      <td>25</td>\n      <td>2015</td>\n      <td>9</td>\n      <td>8</td>\n      <td>2018</td>\n      <td>11</td>\n      <td>8</td>\n      <td>5b90bab1c7732760721915f50094657c</td>\n      <td>Brusly PD</td>\n      <td>2020</td>\n    </tr>\n    <tr>\n      <th>1</th>\n      <td>police officer</td>\n      <td>42609.84</td>\n      <td>cipriano</td>\n      <td>daniel</td>\n      <td>d</td>\n      <td>1972</td>\n      <td>5</td>\n      <td>7</td>\n      <td>2012</td>\n      <td>8</td>\n      <td>24</td>\n      <td>2018</td>\n      <td>11</td>\n      <td>8</td>\n      <td>e005f33e81149c13b9ad13a6d62fe982</td>\n      <td>Brusly PD</td>\n      <td>2020</td>\n    </tr>\n    <tr>\n      <th>2</th>\n      <td>police officer</td>\n      <td>43024.80</td>\n      <td>johnson</td>\n      <td>david</td>\n      <td>d</td>\n      <td>1968</td>\n      <td>7</td>\n      <td>29</td>\n      <td>2010</td>\n      <td>8</td>\n      <td>9</td>\n      <td></td>\n      <td></td>\n      <td></td>\n      <td>9942549487bc163aa5d4a2461a2989d2</td>\n      <td>Brusly PD</td>\n      <td>2020</td>\n    </tr>\n    <tr>\n      <th>3</th>\n      <td>police officer</td>\n      <td>37876.80</td>\n      <td>cacioppo</td>\n      <td>gwen</td>\n      <td>l</td>\n      <td>1966</td>\n      <td>8</td>\n      <td>16</td>\n      <td>2014</td>\n      <td>12</td>\n      <td>22</td>\n      <td>2017</td>\n      <td>2</td>\n      <td>24</td>\n      <td>9cf1067d592aec9382c31d0d20a90c9e</td>\n      <td>Brusly PD</td>\n      <td>2020</td>\n    </tr>\n    <tr>\n      <th>4</th>\n      <td>police officer</td>\n      <td>39770.64</td>\n      <td>mcintyre</td>\n      <td>ivan</td>\n      <td>j</td>\n      <td>1968</td>\n      <td>1</td>\n      <td>16</td>\n      <td>2016</td>\n      <td>4</td>\n      <td>11</td>\n      <td>2017</td>\n      <td>9</td>\n      <td>20</td>\n      <td>27601c41ed0747bebd4a5645a19a35fd</td>\n      <td>Brusly PD</td>\n      <td>2020</td>\n    </tr>\n    <tr>\n      <th>5</th>\n      <td>police officer</td>\n      <td>37848.72</td>\n      <td>ward</td>\n      <td>jordan</td>\n      <td>e</td>\n      <td>1992</td>\n      <td>8</td>\n      <td>28</td>\n      <td>2016</td>\n      <td>8</td>\n      <td>24</td>\n      <td>2017</td>\n      <td>7</td>\n      <td>25</td>\n      <td>296180b8322983f1750bf5da63adcc2e</td>\n      <td>Brusly PD</td>\n      <td>2020</td>\n    </tr>\n    <tr>\n      <th>6</th>\n      <td>police chief</td>\n      <td>48000.00</td>\n      <td>lefeaux</td>\n      <td>jonathan</td>\n      <td>j</td>\n      <td>1979</td>\n      <td>3</td>\n      <td>9</td>\n      <td>2014</td>\n      <td>11</td>\n      <td>14</td>\n      <td></td>\n      <td></td>\n      <td></td>\n      <td>c20ee6d572f7d5e77386f7b584f9654b</td>\n      <td>Brusly PD</td>\n      <td>2020</td>\n    </tr>\n    <tr>\n      <th>7</th>\n      <td>police officer</td>\n      <td>50734.32</td>\n      <td>fontenot</td>\n      <td>jason</td>\n      <td>p</td>\n      <td>1975</td>\n      <td>2</td>\n      <td>2</td>\n      <td>2012</td>\n      <td>5</td>\n      <td>15</td>\n      <td></td>\n      <td></td>\n      <td></td>\n      <td>dbf9a5fca980823dbf5bcc80df4d7588</td>\n      <td>Brusly PD</td>\n      <td>2020</td>\n    </tr>\n    <tr>\n      <th>8</th>\n      <td>police officer</td>\n      <td>39769.60</td>\n      <td>maranto</td>\n      <td>shellie</td>\n      <td>e</td>\n      <td>1977</td>\n      <td>3</td>\n      <td>21</td>\n      <td>2014</td>\n      <td>8</td>\n      <td>1</td>\n      <td>2017</td>\n      <td>4</td>\n      <td>1</td>\n      <td>be67f802c25fca2673c21226067f09df</td>\n      <td>Brusly PD</td>\n      <td>2020</td>\n    </tr>\n    <tr>\n      <th>9</th>\n      <td>police officer</td>\n      <td>54097.68</td>\n      <td>southon</td>\n      <td>thomas</td>\n      <td>e</td>\n      <td>1982</td>\n      <td>11</td>\n      <td>17</td>\n      <td>2009</td>\n      <td>8</td>\n      <td>9</td>\n      <td></td>\n      <td></td>\n      <td></td>\n      <td>356b15773506e6a753aed10f642ee64a</td>\n      <td>Brusly PD</td>\n      <td>2020</td>\n    </tr>\n    <tr>\n      <th>10</th>\n      <td>police officer</td>\n      <td>24960.00</td>\n      <td>leray</td>\n      <td>ron</td>\n      <td></td>\n      <td>1979</td>\n      <td>8</td>\n      <td>7</td>\n      <td>2015</td>\n      <td>8</td>\n      <td>11</td>\n      <td>2018</td>\n      <td>9</td>\n      <td>6</td>\n      <td>9e43a4c7f2982e82f25f250ac9717bfe</td>\n      <td>Brusly PD</td>\n      <td>2020</td>\n    </tr>\n    <tr>\n      <th>11</th>\n      <td>police officer</td>\n      <td>31200.00</td>\n      <td>cavalier</td>\n      <td>neal</td>\n      <td></td>\n      <td>1965</td>\n      <td>7</td>\n      <td>20</td>\n      <td>2005</td>\n      <td>4</td>\n      <td>20</td>\n      <td></td>\n      <td></td>\n      <td></td>\n      <td>15389161322fb6111ef6275b782d79dc</td>\n      <td>Brusly PD</td>\n      <td>2020</td>\n    </tr>\n    <tr>\n      <th>12</th>\n      <td>police officer</td>\n      <td>38176.32</td>\n      <td>mitchel</td>\n      <td>danielle</td>\n      <td></td>\n      <td>1977</td>\n      <td>7</td>\n      <td>7</td>\n      <td>2017</td>\n      <td>5</td>\n      <td>15</td>\n      <td></td>\n      <td></td>\n      <td></td>\n      <td>c39bdb41f89eaed49274aa06ab5e525e</td>\n      <td>Brusly PD</td>\n      <td>2020</td>\n    </tr>\n    <tr>\n      <th>13</th>\n      <td>police officer</td>\n      <td>39770.64</td>\n      <td>ross</td>\n      <td>robyn</td>\n      <td>h</td>\n      <td>1980</td>\n      <td>6</td>\n      <td>16</td>\n      <td>2017</td>\n      <td>8</td>\n      <td>11</td>\n      <td>2019</td>\n      <td>7</td>\n      <td>15</td>\n      <td>922b8cfac0c11a8075dec9f8fccf8e50</td>\n      <td>Brusly PD</td>\n      <td>2020</td>\n    </tr>\n    <tr>\n      <th>14</th>\n      <td>police officer</td>\n      <td>37128.00</td>\n      <td>yetman</td>\n      <td>garrett</td>\n      <td></td>\n      <td>1993</td>\n      <td>9</td>\n      <td>9</td>\n      <td>2017</td>\n      <td>9</td>\n      <td>24</td>\n      <td>2019</td>\n      <td>8</td>\n      <td>15</td>\n      <td>79b5ecc48e5bd91ed7c2511ec28789c1</td>\n      <td>Brusly PD</td>\n      <td>2020</td>\n    </tr>\n    <tr>\n      <th>15</th>\n      <td>police officer</td>\n      <td>39355.68</td>\n      <td>portier</td>\n      <td>brett</td>\n      <td></td>\n      <td>1988</td>\n      <td>11</td>\n      <td>14</td>\n      <td>2017</td>\n      <td>10</td>\n      <td>10</td>\n      <td></td>\n      <td></td>\n      <td></td>\n      <td>d6a96b162f22d89d91b354dc5862c663</td>\n      <td>Brusly PD</td>\n      <td>2020</td>\n    </tr>\n    <tr>\n      <th>16</th>\n      <td>police officer</td>\n      <td>31200.00</td>\n      <td>comeau</td>\n      <td>michael</td>\n      <td></td>\n      <td>1971</td>\n      <td>6</td>\n      <td>9</td>\n      <td>2018</td>\n      <td>6</td>\n      <td>11</td>\n      <td>2019</td>\n      <td>5</td>\n      <td>31</td>\n      <td>fe5b20b4f712e9350edf794f993a3b03</td>\n      <td>Brusly PD</td>\n      <td>2020</td>\n    </tr>\n    <tr>\n      <th>17</th>\n      <td>police officer</td>\n      <td>35992.32</td>\n      <td>zachary</td>\n      <td>jordan</td>\n      <td></td>\n      <td>1994</td>\n      <td>4</td>\n      <td>22</td>\n      <td>2018</td>\n      <td>11</td>\n      <td>1</td>\n      <td>2020</td>\n      <td>1</td>\n      <td>26</td>\n      <td>47f5020da0b3319c4a346e95dfaf93be</td>\n      <td>Brusly PD</td>\n      <td>2020</td>\n    </tr>\n    <tr>\n      <th>18</th>\n      <td>police officer</td>\n      <td>24960.00</td>\n      <td>oubre</td>\n      <td>sylvest</td>\n      <td>j</td>\n      <td>1977</td>\n      <td>7</td>\n      <td>5</td>\n      <td>2019</td>\n      <td>3</td>\n      <td>25</td>\n      <td>2019</td>\n      <td>5</td>\n      <td>31</td>\n      <td>43c827bf135a5e359ab2355791896f74</td>\n      <td>Brusly PD</td>\n      <td>2020</td>\n    </tr>\n    <tr>\n      <th>19</th>\n      <td>police officer</td>\n      <td>37870.56</td>\n      <td>wallis</td>\n      <td>stephen</td>\n      <td></td>\n      <td>1957</td>\n      <td>10</td>\n      <td>1</td>\n      <td>2019</td>\n      <td>4</td>\n      <td>16</td>\n      <td></td>\n      <td></td>\n      <td></td>\n      <td>713808fcbd7f9011a8320d355b6991a8</td>\n      <td>Brusly PD</td>\n      <td>2020</td>\n    </tr>\n    <tr>\n      <th>20</th>\n      <td>police officer</td>\n      <td>40098.24</td>\n      <td>thompson</td>\n      <td>jeremy</td>\n      <td>s</td>\n      <td>1975</td>\n      <td>5</td>\n      <td>31</td>\n      <td>2019</td>\n      <td>7</td>\n      <td>8</td>\n      <td></td>\n      <td></td>\n      <td></td>\n      <td>80d0f954b5d8bd1b6d776f46eec38dd7</td>\n      <td>Brusly PD</td>\n      <td>2020</td>\n    </tr>\n    <tr>\n      <th>21</th>\n      <td>police officer</td>\n      <td>35642.88</td>\n      <td>tetzel</td>\n      <td>ronald</td>\n      <td>a</td>\n      <td>1969</td>\n      <td>2</td>\n      <td>7</td>\n      <td>2019</td>\n      <td>8</td>\n      <td>12</td>\n      <td></td>\n      <td></td>\n      <td></td>\n      <td>81c6c24fa3d1392a1ce881c8bcf569dd</td>\n      <td>Brusly PD</td>\n      <td>2020</td>\n    </tr>\n    <tr>\n      <th>22</th>\n      <td>police officer</td>\n      <td>33945.60</td>\n      <td>byrd</td>\n      <td>devin</td>\n      <td>e</td>\n      <td>1983</td>\n      <td>9</td>\n      <td>10</td>\n      <td>2020</td>\n      <td>2</td>\n      <td>3</td>\n      <td></td>\n      <td></td>\n      <td></td>\n      <td>edf4b91c0835d5b4559ed37c9619d5a7</td>\n      <td>Brusly PD</td>\n      <td>2020</td>\n    </tr>\n  </tbody>\n</table>\n</div>"
     },
     "metadata": {},
     "execution_count": 3
    }
   ],
   "source": [
    "pprr = clean_pprr()\n",
    "pprr"
   ]
  },
  {
   "cell_type": "code",
   "execution_count": 4,
   "metadata": {},
   "outputs": [
    {
     "output_type": "execute_result",
     "data": {
      "text/plain": [
       "                         rule_violation                    action  \\\n",
       "0  failure to report in a timely manner  first offense counseling   \n",
       "1      conduct unbecoming of an officer     suspended without pay   \n",
       "\n",
       "   supervisor_rank supervisor_first_name supervisor_last_name receive_year  \\\n",
       "0  assistant chief                   tom              southon         2019   \n",
       "1       lieutenant                 jason             fontenot         2020   \n",
       "\n",
       "  receive_month receive_day occur_year occur_month occur_day  \\\n",
       "0             5           3       2019           5         3   \n",
       "1             5           5       2020           4        29   \n",
       "\n",
       "  suspension_start_year suspension_start_month suspension_start_day  \\\n",
       "0                                                                     \n",
       "1                  2020                      5                   13   \n",
       "\n",
       "  suspension_end_year suspension_end_month suspension_end_day     agency  \\\n",
       "0                                                              Brusly PD   \n",
       "1                2020                    5                 29  Brusly PD   \n",
       "\n",
       "  data_production_year                               uid  \n",
       "0                 2020  d6a96b162f22d89d91b354dc5862c663  \n",
       "1                 2020  9942549487bc163aa5d4a2461a2989d2  "
      ],
      "text/html": "<div>\n<style scoped>\n    .dataframe tbody tr th:only-of-type {\n        vertical-align: middle;\n    }\n\n    .dataframe tbody tr th {\n        vertical-align: top;\n    }\n\n    .dataframe thead th {\n        text-align: right;\n    }\n</style>\n<table border=\"1\" class=\"dataframe\">\n  <thead>\n    <tr style=\"text-align: right;\">\n      <th></th>\n      <th>rule_violation</th>\n      <th>action</th>\n      <th>supervisor_rank</th>\n      <th>supervisor_first_name</th>\n      <th>supervisor_last_name</th>\n      <th>receive_year</th>\n      <th>receive_month</th>\n      <th>receive_day</th>\n      <th>occur_year</th>\n      <th>occur_month</th>\n      <th>occur_day</th>\n      <th>suspension_start_year</th>\n      <th>suspension_start_month</th>\n      <th>suspension_start_day</th>\n      <th>suspension_end_year</th>\n      <th>suspension_end_month</th>\n      <th>suspension_end_day</th>\n      <th>agency</th>\n      <th>data_production_year</th>\n      <th>uid</th>\n    </tr>\n  </thead>\n  <tbody>\n    <tr>\n      <th>0</th>\n      <td>failure to report in a timely manner</td>\n      <td>first offense counseling</td>\n      <td>assistant chief</td>\n      <td>tom</td>\n      <td>southon</td>\n      <td>2019</td>\n      <td>5</td>\n      <td>3</td>\n      <td>2019</td>\n      <td>5</td>\n      <td>3</td>\n      <td></td>\n      <td></td>\n      <td></td>\n      <td></td>\n      <td></td>\n      <td></td>\n      <td>Brusly PD</td>\n      <td>2020</td>\n      <td>d6a96b162f22d89d91b354dc5862c663</td>\n    </tr>\n    <tr>\n      <th>1</th>\n      <td>conduct unbecoming of an officer</td>\n      <td>suspended without pay</td>\n      <td>lieutenant</td>\n      <td>jason</td>\n      <td>fontenot</td>\n      <td>2020</td>\n      <td>5</td>\n      <td>5</td>\n      <td>2020</td>\n      <td>4</td>\n      <td>29</td>\n      <td>2020</td>\n      <td>5</td>\n      <td>13</td>\n      <td>2020</td>\n      <td>5</td>\n      <td>29</td>\n      <td>Brusly PD</td>\n      <td>2020</td>\n      <td>9942549487bc163aa5d4a2461a2989d2</td>\n    </tr>\n  </tbody>\n</table>\n</div>"
     },
     "metadata": {},
     "execution_count": 4
    }
   ],
   "source": [
    "cprr = add_uid_to_complaint(cprr, pprr)\n",
    "cprr"
   ]
  },
  {
   "cell_type": "code",
   "execution_count": 5,
   "metadata": {},
   "outputs": [
    {
     "output_type": "execute_result",
     "data": {
      "text/plain": [
       "                         rule_violation                    action  \\\n",
       "0  failure to report in a timely manner  first offense counseling   \n",
       "1      conduct unbecoming of an officer     suspended without pay   \n",
       "\n",
       "   supervisor_rank receive_year receive_month receive_day occur_year  \\\n",
       "0  assistant chief         2019             5           3       2019   \n",
       "1       lieutenant         2020             5           5       2020   \n",
       "\n",
       "  occur_month occur_day suspension_start_year suspension_start_month  \\\n",
       "0           5         3                                                \n",
       "1           4        29                  2020                      5   \n",
       "\n",
       "  suspension_start_day suspension_end_year suspension_end_month  \\\n",
       "0                                                                 \n",
       "1                   13                2020                    5   \n",
       "\n",
       "  suspension_end_day     agency data_production_year  \\\n",
       "0                     Brusly PD                 2020   \n",
       "1                 29  Brusly PD                 2020   \n",
       "\n",
       "                                uid                    supervisor_uid  \n",
       "0  d6a96b162f22d89d91b354dc5862c663  356b15773506e6a753aed10f642ee64a  \n",
       "1  9942549487bc163aa5d4a2461a2989d2  dbf9a5fca980823dbf5bcc80df4d7588  "
      ],
      "text/html": "<div>\n<style scoped>\n    .dataframe tbody tr th:only-of-type {\n        vertical-align: middle;\n    }\n\n    .dataframe tbody tr th {\n        vertical-align: top;\n    }\n\n    .dataframe thead th {\n        text-align: right;\n    }\n</style>\n<table border=\"1\" class=\"dataframe\">\n  <thead>\n    <tr style=\"text-align: right;\">\n      <th></th>\n      <th>rule_violation</th>\n      <th>action</th>\n      <th>supervisor_rank</th>\n      <th>receive_year</th>\n      <th>receive_month</th>\n      <th>receive_day</th>\n      <th>occur_year</th>\n      <th>occur_month</th>\n      <th>occur_day</th>\n      <th>suspension_start_year</th>\n      <th>suspension_start_month</th>\n      <th>suspension_start_day</th>\n      <th>suspension_end_year</th>\n      <th>suspension_end_month</th>\n      <th>suspension_end_day</th>\n      <th>agency</th>\n      <th>data_production_year</th>\n      <th>uid</th>\n      <th>supervisor_uid</th>\n    </tr>\n  </thead>\n  <tbody>\n    <tr>\n      <th>0</th>\n      <td>failure to report in a timely manner</td>\n      <td>first offense counseling</td>\n      <td>assistant chief</td>\n      <td>2019</td>\n      <td>5</td>\n      <td>3</td>\n      <td>2019</td>\n      <td>5</td>\n      <td>3</td>\n      <td></td>\n      <td></td>\n      <td></td>\n      <td></td>\n      <td></td>\n      <td></td>\n      <td>Brusly PD</td>\n      <td>2020</td>\n      <td>d6a96b162f22d89d91b354dc5862c663</td>\n      <td>356b15773506e6a753aed10f642ee64a</td>\n    </tr>\n    <tr>\n      <th>1</th>\n      <td>conduct unbecoming of an officer</td>\n      <td>suspended without pay</td>\n      <td>lieutenant</td>\n      <td>2020</td>\n      <td>5</td>\n      <td>5</td>\n      <td>2020</td>\n      <td>4</td>\n      <td>29</td>\n      <td>2020</td>\n      <td>5</td>\n      <td>13</td>\n      <td>2020</td>\n      <td>5</td>\n      <td>29</td>\n      <td>Brusly PD</td>\n      <td>2020</td>\n      <td>9942549487bc163aa5d4a2461a2989d2</td>\n      <td>dbf9a5fca980823dbf5bcc80df4d7588</td>\n    </tr>\n  </tbody>\n</table>\n</div>"
     },
     "metadata": {},
     "execution_count": 5
    }
   ],
   "source": [
    "cprr = add_supervisor_uid_to_complaint(cprr, pprr)\n",
    "cprr"
   ]
  },
  {
   "cell_type": "code",
   "execution_count": null,
   "metadata": {},
   "outputs": [],
   "source": []
  }
 ]
}
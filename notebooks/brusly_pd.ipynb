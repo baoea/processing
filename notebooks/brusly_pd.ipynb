{
 "metadata": {
  "language_info": {
   "codemirror_mode": {
    "name": "ipython",
    "version": 3
   },
   "file_extension": ".py",
   "mimetype": "text/x-python",
   "name": "python",
   "nbconvert_exporter": "python",
   "pygments_lexer": "ipython3",
   "version": "3.8.3-final"
  },
  "orig_nbformat": 2,
  "kernelspec": {
   "name": "python3",
   "display_name": "Python 3",
   "language": "python"
  }
 },
 "nbformat": 4,
 "nbformat_minor": 2,
 "cells": [
  {
   "cell_type": "code",
   "execution_count": 1,
   "metadata": {},
   "outputs": [],
   "source": [
    "import sys; sys.path.append(\"../\")\n",
    "\n",
    "import pandas as pd\n",
    "\n",
    "from clean.brusly_pd_cprr_2020 import clean as clean_cprr"
   ]
  },
  {
   "cell_type": "code",
   "execution_count": 2,
   "metadata": {},
   "outputs": [
    {
     "output_type": "execute_result",
     "data": {
      "text/plain": [
       "  date_of_notice date_of_incident   officer_name          supervisor_name  \\\n",
       "0         5/3/19           5/3/19  Brett Portier  Asst. Chief Tom Southon   \n",
       "1         5/5/20          4/29/20  David Johnson       Lt. Jason Fontenot   \n",
       "\n",
       "                              violation              action_taken start_date  \\\n",
       "0  Failure to Report in a Timely Manner  First Offense Counseling        NaN   \n",
       "1      Conduct Unbecoming of an Officer     Suspended Without Pay    5/13/20   \n",
       "\n",
       "  return_date  \n",
       "0         NaN  \n",
       "1     5/29/20  "
      ],
      "text/html": "<div>\n<style scoped>\n    .dataframe tbody tr th:only-of-type {\n        vertical-align: middle;\n    }\n\n    .dataframe tbody tr th {\n        vertical-align: top;\n    }\n\n    .dataframe thead th {\n        text-align: right;\n    }\n</style>\n<table border=\"1\" class=\"dataframe\">\n  <thead>\n    <tr style=\"text-align: right;\">\n      <th></th>\n      <th>date_of_notice</th>\n      <th>date_of_incident</th>\n      <th>officer_name</th>\n      <th>supervisor_name</th>\n      <th>violation</th>\n      <th>action_taken</th>\n      <th>start_date</th>\n      <th>return_date</th>\n    </tr>\n  </thead>\n  <tbody>\n    <tr>\n      <th>0</th>\n      <td>5/3/19</td>\n      <td>5/3/19</td>\n      <td>Brett Portier</td>\n      <td>Asst. Chief Tom Southon</td>\n      <td>Failure to Report in a Timely Manner</td>\n      <td>First Offense Counseling</td>\n      <td>NaN</td>\n      <td>NaN</td>\n    </tr>\n    <tr>\n      <th>1</th>\n      <td>5/5/20</td>\n      <td>4/29/20</td>\n      <td>David Johnson</td>\n      <td>Lt. Jason Fontenot</td>\n      <td>Conduct Unbecoming of an Officer</td>\n      <td>Suspended Without Pay</td>\n      <td>5/13/20</td>\n      <td>5/29/20</td>\n    </tr>\n  </tbody>\n</table>\n</div>"
     },
     "metadata": {},
     "execution_count": 2
    }
   ],
   "source": [
    "df = clean_cprr()\n",
    "df"
   ]
  },
  {
   "cell_type": "code",
   "execution_count": 3,
   "metadata": {},
   "outputs": [
    {
     "output_type": "execute_result",
     "data": {
      "text/plain": [
       "Index(['date_of_notice', 'date_of_incident', 'officer_name', 'supervisor_name',\n",
       "       'violation', 'action_taken', 'start_date', 'return_date'],\n",
       "      dtype='object')"
      ]
     },
     "metadata": {},
     "execution_count": 3
    }
   ],
   "source": [
    "df.columns"
   ]
  },
  {
   "cell_type": "code",
   "execution_count": null,
   "metadata": {},
   "outputs": [],
   "source": []
  }
 ]
}
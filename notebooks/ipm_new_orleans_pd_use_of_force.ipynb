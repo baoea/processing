{
 "metadata": {
  "language_info": {
   "codemirror_mode": {
    "name": "ipython",
    "version": 3
   },
   "file_extension": ".py",
   "mimetype": "text/x-python",
   "name": "python",
   "nbconvert_exporter": "python",
   "pygments_lexer": "ipython3",
   "version": "3.8.3-final"
  },
  "orig_nbformat": 2,
  "kernelspec": {
   "name": "python3",
   "display_name": "Python 3.8.3 64-bit ('base': conda)",
   "metadata": {
    "interpreter": {
     "hash": "759d03fc00c4e55187619d7bc1e0b6a3309d14c7c00d43a321634150e05678f8"
    }
   }
  }
 },
 "nbformat": 4,
 "nbformat_minor": 2,
 "cells": [
  {
   "cell_type": "code",
   "execution_count": 1,
   "metadata": {},
   "outputs": [],
   "source": [
    "import sys; sys.path.append('../')\n",
    "import pandas as pd\n",
    "\n",
    "from clean.ipm_new_orleans_pd_use_of_force import clean\n",
    "from lib.explore import show_unique"
   ]
  },
  {
   "cell_type": "code",
   "execution_count": 2,
   "metadata": {},
   "outputs": [
    {
     "output_type": "stream",
     "name": "stderr",
     "text": [
      "../clean/ipm_new_orleans_pd_use_of_force.py:14: FutureWarning: The default value of regex will change from True to False in a future version.\n  df.loc[:, col] = df[col].str.replace(r' \\d:\\d\\d$', '')\n../clean/ipm_new_orleans_pd_use_of_force.py:19: FutureWarning: The default value of regex will change from True to False in a future version.\n  df.loc[:, 'occur_day'] = df.occur_date.str.replace(\n../clean/ipm_new_orleans_pd_use_of_force.py:27: FutureWarning: The default value of regex will change from True to False in a future version.\n  df.occur_minute.str.replace(r'\\:.+', ''), sep=':')\n../lib/clean.py:134: FutureWarning: The default value of regex will change from True to False in a future version.\n  df.loc[:, col] = df[col].str.strip().str.lower()\\\n../lib/clean.py:142: FutureWarning: The default value of regex will change from True to False in a future version.\n  df.loc[:, col] = df[col].str.strip().str.lower()\\\n"
     ]
    },
    {
     "output_type": "execute_result",
     "data": {
      "text/plain": [
       "     uof_tracking_number  report_year  occur_year  occur_month  \\\n",
       "0           FTN2019-0054         2019        2019            2   \n",
       "1           FTN2019-0054         2019        2019            2   \n",
       "2           FTN2019-0046         2019        2019            2   \n",
       "3           FTN2019-0046         2019        2019            2   \n",
       "4           FTN2019-0047         2019        2019            2   \n",
       "...                  ...          ...         ...          ...   \n",
       "4907        FTN2016-0549         2016        2015           11   \n",
       "4908        FTN2016-0549         2016        2015           11   \n",
       "4909        FTN2016-0644         2016        2012           12   \n",
       "4910        FTN2016-0644         2016        2012           12   \n",
       "4911        FTN2016-0644         2016        2012           12   \n",
       "\n",
       "     officer_primary_key citizen_primary_key        force_description  \\\n",
       "0                   1455               13857   L2-Takedown (w/injury)   \n",
       "1                   6080               13857   L2-Takedown (w/injury)   \n",
       "2                   6150               13840  L1-Takedown (no injury)   \n",
       "3                   6127               13840  L1-Takedown (no injury)   \n",
       "4                    731               13842  L3-Baton/PR-24 (Strike)   \n",
       "...                  ...                 ...                      ...   \n",
       "4907                5904               10747   L1-Force (Escort Tech)   \n",
       "4908                5905               10747   L1-Force (Escort Tech)   \n",
       "4909                5956               10955   L1-No Force by Officer   \n",
       "4910                3555               10955   L1-Firearm (Exhibited)   \n",
       "4911                2251               10955   L1-CEW Exhibited/Laser   \n",
       "\n",
       "                force_type force_level effective_uof  ... officer_years_exp  \\\n",
       "0      Takedown (w/injury)          L2           yes  ...                12   \n",
       "1      Takedown (w/injury)          L2           yes  ...                 3   \n",
       "2     Takedown (no injury)          L1           yes  ...                 3   \n",
       "3     Takedown (no injury)          L1           yes  ...                 3   \n",
       "4     Baton/PR-24 (Strike)          L3            no  ...                29   \n",
       "...                    ...         ...           ...  ...               ...   \n",
       "4907   Hands / Escort tech          L1           yes  ...                     \n",
       "4908   Hands / Escort tech          L1           yes  ...                     \n",
       "4909   No Force by Officer          L1           yes  ...                -3   \n",
       "4910     Firearm Exhibited          L1           yes  ...                21   \n",
       "4911       Taser Exhibited          L1           yes  ...                21   \n",
       "\n",
       "     officer_years_with_unit      officer_type officer_employment_status  \\\n",
       "0                          6      commissioned                    active   \n",
       "1                          3      commissioned                    active   \n",
       "2                          3      commissioned                    active   \n",
       "3                          3      commissioned                    active   \n",
       "4                          6      commissioned                    active   \n",
       "...                      ...               ...                       ...   \n",
       "4907                          non-commissioned                    active   \n",
       "4908                          non-commissioned                    active   \n",
       "4909                      -3      commissioned                terminated   \n",
       "4910                              commissioned                    active   \n",
       "4911                      -2      commissioned                    active   \n",
       "\n",
       "                   officer_department                officer_division  \\\n",
       "0       FOB - Field Operations Bureau                             NaN   \n",
       "1       FOB - Field Operations Bureau                  Third District   \n",
       "2       FOB - Field Operations Bureau                             NaN   \n",
       "3       FOB - Field Operations Bureau                  Third District   \n",
       "4       FOB - Field Operations Bureau                 Eighth District   \n",
       "...                               ...                             ...   \n",
       "4907    FOB - Field Operations Bureau                  First District   \n",
       "4908    FOB - Field Operations Bureau                  First District   \n",
       "4909    FOB - Field Operations Bureau                Seventh District   \n",
       "4910  MSB - Management Service Bureau  Administrative Duties Services   \n",
       "4911  MSB - Management Service Bureau  Administrative Duties Services   \n",
       "\n",
       "     officer_sub_division_a officer_sub_division_b occur_day occur_time  \n",
       "0                       NaN                    NaN        12      12:37  \n",
       "1                 B Platoon                    NaN        12      12:37  \n",
       "2                       NaN                    NaN         6      12:59  \n",
       "3                 C Platoon                    NaN         6      12:59  \n",
       "4                 A Platoon                    NaN         6      12:52  \n",
       "...                     ...                    ...       ...        ...  \n",
       "4907            1st Platoon                    NaN         5      17:50  \n",
       "4908            1st Platoon                    NaN         5      17:50  \n",
       "4909            Night Watch                    NaN        26      03:07  \n",
       "4910                   LWOP                    NaN        26      03:07  \n",
       "4911  Workmans Compensation                    NaN        26      03:07  \n",
       "\n",
       "[4912 rows x 53 columns]"
      ],
      "text/html": "<div>\n<style scoped>\n    .dataframe tbody tr th:only-of-type {\n        vertical-align: middle;\n    }\n\n    .dataframe tbody tr th {\n        vertical-align: top;\n    }\n\n    .dataframe thead th {\n        text-align: right;\n    }\n</style>\n<table border=\"1\" class=\"dataframe\">\n  <thead>\n    <tr style=\"text-align: right;\">\n      <th></th>\n      <th>uof_tracking_number</th>\n      <th>report_year</th>\n      <th>occur_year</th>\n      <th>occur_month</th>\n      <th>officer_primary_key</th>\n      <th>citizen_primary_key</th>\n      <th>force_description</th>\n      <th>force_type</th>\n      <th>force_level</th>\n      <th>effective_uof</th>\n      <th>...</th>\n      <th>officer_years_exp</th>\n      <th>officer_years_with_unit</th>\n      <th>officer_type</th>\n      <th>officer_employment_status</th>\n      <th>officer_department</th>\n      <th>officer_division</th>\n      <th>officer_sub_division_a</th>\n      <th>officer_sub_division_b</th>\n      <th>occur_day</th>\n      <th>occur_time</th>\n    </tr>\n  </thead>\n  <tbody>\n    <tr>\n      <th>0</th>\n      <td>FTN2019-0054</td>\n      <td>2019</td>\n      <td>2019</td>\n      <td>2</td>\n      <td>1455</td>\n      <td>13857</td>\n      <td>L2-Takedown (w/injury)</td>\n      <td>Takedown (w/injury)</td>\n      <td>L2</td>\n      <td>yes</td>\n      <td>...</td>\n      <td>12</td>\n      <td>6</td>\n      <td>commissioned</td>\n      <td>active</td>\n      <td>FOB - Field Operations Bureau</td>\n      <td>NaN</td>\n      <td>NaN</td>\n      <td>NaN</td>\n      <td>12</td>\n      <td>12:37</td>\n    </tr>\n    <tr>\n      <th>1</th>\n      <td>FTN2019-0054</td>\n      <td>2019</td>\n      <td>2019</td>\n      <td>2</td>\n      <td>6080</td>\n      <td>13857</td>\n      <td>L2-Takedown (w/injury)</td>\n      <td>Takedown (w/injury)</td>\n      <td>L2</td>\n      <td>yes</td>\n      <td>...</td>\n      <td>3</td>\n      <td>3</td>\n      <td>commissioned</td>\n      <td>active</td>\n      <td>FOB - Field Operations Bureau</td>\n      <td>Third District</td>\n      <td>B Platoon</td>\n      <td>NaN</td>\n      <td>12</td>\n      <td>12:37</td>\n    </tr>\n    <tr>\n      <th>2</th>\n      <td>FTN2019-0046</td>\n      <td>2019</td>\n      <td>2019</td>\n      <td>2</td>\n      <td>6150</td>\n      <td>13840</td>\n      <td>L1-Takedown (no injury)</td>\n      <td>Takedown (no injury)</td>\n      <td>L1</td>\n      <td>yes</td>\n      <td>...</td>\n      <td>3</td>\n      <td>3</td>\n      <td>commissioned</td>\n      <td>active</td>\n      <td>FOB - Field Operations Bureau</td>\n      <td>NaN</td>\n      <td>NaN</td>\n      <td>NaN</td>\n      <td>6</td>\n      <td>12:59</td>\n    </tr>\n    <tr>\n      <th>3</th>\n      <td>FTN2019-0046</td>\n      <td>2019</td>\n      <td>2019</td>\n      <td>2</td>\n      <td>6127</td>\n      <td>13840</td>\n      <td>L1-Takedown (no injury)</td>\n      <td>Takedown (no injury)</td>\n      <td>L1</td>\n      <td>yes</td>\n      <td>...</td>\n      <td>3</td>\n      <td>3</td>\n      <td>commissioned</td>\n      <td>active</td>\n      <td>FOB - Field Operations Bureau</td>\n      <td>Third District</td>\n      <td>C Platoon</td>\n      <td>NaN</td>\n      <td>6</td>\n      <td>12:59</td>\n    </tr>\n    <tr>\n      <th>4</th>\n      <td>FTN2019-0047</td>\n      <td>2019</td>\n      <td>2019</td>\n      <td>2</td>\n      <td>731</td>\n      <td>13842</td>\n      <td>L3-Baton/PR-24 (Strike)</td>\n      <td>Baton/PR-24 (Strike)</td>\n      <td>L3</td>\n      <td>no</td>\n      <td>...</td>\n      <td>29</td>\n      <td>6</td>\n      <td>commissioned</td>\n      <td>active</td>\n      <td>FOB - Field Operations Bureau</td>\n      <td>Eighth District</td>\n      <td>A Platoon</td>\n      <td>NaN</td>\n      <td>6</td>\n      <td>12:52</td>\n    </tr>\n    <tr>\n      <th>...</th>\n      <td>...</td>\n      <td>...</td>\n      <td>...</td>\n      <td>...</td>\n      <td>...</td>\n      <td>...</td>\n      <td>...</td>\n      <td>...</td>\n      <td>...</td>\n      <td>...</td>\n      <td>...</td>\n      <td>...</td>\n      <td>...</td>\n      <td>...</td>\n      <td>...</td>\n      <td>...</td>\n      <td>...</td>\n      <td>...</td>\n      <td>...</td>\n      <td>...</td>\n      <td>...</td>\n    </tr>\n    <tr>\n      <th>4907</th>\n      <td>FTN2016-0549</td>\n      <td>2016</td>\n      <td>2015</td>\n      <td>11</td>\n      <td>5904</td>\n      <td>10747</td>\n      <td>L1-Force (Escort Tech)</td>\n      <td>Hands / Escort tech</td>\n      <td>L1</td>\n      <td>yes</td>\n      <td>...</td>\n      <td></td>\n      <td></td>\n      <td>non-commissioned</td>\n      <td>active</td>\n      <td>FOB - Field Operations Bureau</td>\n      <td>First District</td>\n      <td>1st Platoon</td>\n      <td>NaN</td>\n      <td>5</td>\n      <td>17:50</td>\n    </tr>\n    <tr>\n      <th>4908</th>\n      <td>FTN2016-0549</td>\n      <td>2016</td>\n      <td>2015</td>\n      <td>11</td>\n      <td>5905</td>\n      <td>10747</td>\n      <td>L1-Force (Escort Tech)</td>\n      <td>Hands / Escort tech</td>\n      <td>L1</td>\n      <td>yes</td>\n      <td>...</td>\n      <td></td>\n      <td></td>\n      <td>non-commissioned</td>\n      <td>active</td>\n      <td>FOB - Field Operations Bureau</td>\n      <td>First District</td>\n      <td>1st Platoon</td>\n      <td>NaN</td>\n      <td>5</td>\n      <td>17:50</td>\n    </tr>\n    <tr>\n      <th>4909</th>\n      <td>FTN2016-0644</td>\n      <td>2016</td>\n      <td>2012</td>\n      <td>12</td>\n      <td>5956</td>\n      <td>10955</td>\n      <td>L1-No Force by Officer</td>\n      <td>No Force by Officer</td>\n      <td>L1</td>\n      <td>yes</td>\n      <td>...</td>\n      <td>-3</td>\n      <td>-3</td>\n      <td>commissioned</td>\n      <td>terminated</td>\n      <td>FOB - Field Operations Bureau</td>\n      <td>Seventh District</td>\n      <td>Night Watch</td>\n      <td>NaN</td>\n      <td>26</td>\n      <td>03:07</td>\n    </tr>\n    <tr>\n      <th>4910</th>\n      <td>FTN2016-0644</td>\n      <td>2016</td>\n      <td>2012</td>\n      <td>12</td>\n      <td>3555</td>\n      <td>10955</td>\n      <td>L1-Firearm (Exhibited)</td>\n      <td>Firearm Exhibited</td>\n      <td>L1</td>\n      <td>yes</td>\n      <td>...</td>\n      <td>21</td>\n      <td></td>\n      <td>commissioned</td>\n      <td>active</td>\n      <td>MSB - Management Service Bureau</td>\n      <td>Administrative Duties Services</td>\n      <td>LWOP</td>\n      <td>NaN</td>\n      <td>26</td>\n      <td>03:07</td>\n    </tr>\n    <tr>\n      <th>4911</th>\n      <td>FTN2016-0644</td>\n      <td>2016</td>\n      <td>2012</td>\n      <td>12</td>\n      <td>2251</td>\n      <td>10955</td>\n      <td>L1-CEW Exhibited/Laser</td>\n      <td>Taser Exhibited</td>\n      <td>L1</td>\n      <td>yes</td>\n      <td>...</td>\n      <td>21</td>\n      <td>-2</td>\n      <td>commissioned</td>\n      <td>active</td>\n      <td>MSB - Management Service Bureau</td>\n      <td>Administrative Duties Services</td>\n      <td>Workmans Compensation</td>\n      <td>NaN</td>\n      <td>26</td>\n      <td>03:07</td>\n    </tr>\n  </tbody>\n</table>\n<p>4912 rows × 53 columns</p>\n</div>"
     },
     "metadata": {},
     "execution_count": 2
    }
   ],
   "source": [
    "df = clean()\n",
    "df"
   ]
  },
  {
   "cell_type": "code",
   "execution_count": null,
   "metadata": {},
   "outputs": [],
   "source": []
  }
 ]
}
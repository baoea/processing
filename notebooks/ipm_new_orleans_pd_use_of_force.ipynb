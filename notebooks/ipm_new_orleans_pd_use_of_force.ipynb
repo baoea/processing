{
 "metadata": {
  "language_info": {
   "codemirror_mode": {
    "name": "ipython",
    "version": 3
   },
   "file_extension": ".py",
   "mimetype": "text/x-python",
   "name": "python",
   "nbconvert_exporter": "python",
   "pygments_lexer": "ipython3",
   "version": "3.8.3-final"
  },
  "orig_nbformat": 2,
  "kernelspec": {
   "name": "python3",
   "display_name": "Python 3.8.3 64-bit ('base': conda)",
   "metadata": {
    "interpreter": {
     "hash": "759d03fc00c4e55187619d7bc1e0b6a3309d14c7c00d43a321634150e05678f8"
    }
   }
  }
 },
 "nbformat": 4,
 "nbformat_minor": 2,
 "cells": [
  {
   "cell_type": "code",
   "execution_count": 1,
   "metadata": {},
   "outputs": [],
   "source": [
    "import sys; sys.path.append('../')\n",
    "import pandas as pd\n",
    "\n",
    "from clean.ipm_new_orleans_pd_use_of_force import clean\n",
    "from lib.explore import show_unique"
   ]
  },
  {
   "cell_type": "code",
   "execution_count": 2,
   "metadata": {},
   "outputs": [
    {
     "output_type": "stream",
     "name": "stderr",
     "text": [
      "../clean/ipm_new_orleans_pd_use_of_force.py:13: FutureWarning: The default value of regex will change from True to False in a future version.\n  df.loc[:, col] = df[col].str.replace(r' 0:00$', '')\n../lib/clean.py:120: FutureWarning: The default value of regex will change from True to False in a future version.\n  df.loc[:, col] = df[col].str.strip().str.lower()\\\n../lib/clean.py:128: FutureWarning: The default value of regex will change from True to False in a future version.\n  df.loc[:, col] = df[col].str.strip().str.lower()\\\n"
     ]
    },
    {
     "output_type": "execute_result",
     "data": {
      "text/plain": [
       "        fit_number  report_year  occur_year occur_date  occur_month  \\\n",
       "0     FTN2019-0054         2019        2019    2/12/19            2   \n",
       "1     FTN2019-0054         2019        2019    2/12/19            2   \n",
       "2     FTN2019-0046         2019        2019     2/6/19            2   \n",
       "3     FTN2019-0046         2019        2019     2/6/19            2   \n",
       "4     FTN2019-0047         2019        2019     2/6/19            2   \n",
       "...            ...          ...         ...        ...          ...   \n",
       "4907  FTN2016-0549         2016        2015    11/5/15           11   \n",
       "4908  FTN2016-0549         2016        2015    11/5/15           11   \n",
       "4909  FTN2016-0644         2016        2012   12/26/12           12   \n",
       "4910  FTN2016-0644         2016        2012   12/26/12           12   \n",
       "4911  FTN2016-0644         2016        2012   12/26/12           12   \n",
       "\n",
       "     officer_primary_key     description_of_force            force_type  \\\n",
       "0                   1455   L2-Takedown (w/injury)   Takedown (w/injury)   \n",
       "1                   6080   L2-Takedown (w/injury)   Takedown (w/injury)   \n",
       "2                   6150  L1-Takedown (no injury)  Takedown (no injury)   \n",
       "3                   6127  L1-Takedown (no injury)  Takedown (no injury)   \n",
       "4                    731  L3-Baton/PR-24 (Strike)  Baton/PR-24 (Strike)   \n",
       "...                  ...                      ...                   ...   \n",
       "4907                5904   L1-Force (Escort Tech)   Hands / Escort tech   \n",
       "4908                5905   L1-Force (Escort Tech)   Hands / Escort tech   \n",
       "4909                5956   L1-No Force by Officer   No Force by Officer   \n",
       "4910                3555   L1-Firearm (Exhibited)     Firearm Exhibited   \n",
       "4911                2251   L1-CEW Exhibited/Laser       Taser Exhibited   \n",
       "\n",
       "     force_level uof_effective  ... officer_hospital officer_age  \\\n",
       "0             L2           yes  ...               no          54   \n",
       "1             L2           yes  ...               no          26   \n",
       "2             L1           yes  ...               no          35   \n",
       "3             L1           yes  ...               no          42   \n",
       "4             L3            no  ...               no          59   \n",
       "...          ...           ...  ...              ...         ...   \n",
       "4907          L1           yes  ...              yes          23   \n",
       "4908          L1           yes  ...              yes          21   \n",
       "4909          L1           yes  ...               no          34   \n",
       "4910          L1           yes  ...               no          45   \n",
       "4911          L1           yes  ...               no          43   \n",
       "\n",
       "     officer_years_exp officer_years_with_unit      officer_type  \\\n",
       "0                   12                       6      commissioned   \n",
       "1                    3                       3      commissioned   \n",
       "2                    3                       3      commissioned   \n",
       "3                    3                       3      commissioned   \n",
       "4                   29                       6      commissioned   \n",
       "...                ...                     ...               ...   \n",
       "4907                                            non-commissioned   \n",
       "4908                                            non-commissioned   \n",
       "4909                -3                      -3      commissioned   \n",
       "4910                21                              commissioned   \n",
       "4911                21                      -2      commissioned   \n",
       "\n",
       "     officer_employment_status               officer_department  \\\n",
       "0                       active    FOB - Field Operations Bureau   \n",
       "1                       active    FOB - Field Operations Bureau   \n",
       "2                       active    FOB - Field Operations Bureau   \n",
       "3                       active    FOB - Field Operations Bureau   \n",
       "4                       active    FOB - Field Operations Bureau   \n",
       "...                        ...                              ...   \n",
       "4907                    active    FOB - Field Operations Bureau   \n",
       "4908                    active    FOB - Field Operations Bureau   \n",
       "4909                terminated    FOB - Field Operations Bureau   \n",
       "4910                    active  MSB - Management Service Bureau   \n",
       "4911                    active  MSB - Management Service Bureau   \n",
       "\n",
       "                    officer_division officer_sub_division_a  \\\n",
       "0                                NaN                    NaN   \n",
       "1                     Third District              B Platoon   \n",
       "2                                NaN                    NaN   \n",
       "3                     Third District              C Platoon   \n",
       "4                    Eighth District              A Platoon   \n",
       "...                              ...                    ...   \n",
       "4907                  First District            1st Platoon   \n",
       "4908                  First District            1st Platoon   \n",
       "4909                Seventh District            Night Watch   \n",
       "4910  Administrative Duties Services                   LWOP   \n",
       "4911  Administrative Duties Services  Workmans Compensation   \n",
       "\n",
       "     officer_sub_division_b  \n",
       "0                       NaN  \n",
       "1                       NaN  \n",
       "2                       NaN  \n",
       "3                       NaN  \n",
       "4                       NaN  \n",
       "...                     ...  \n",
       "4907                    NaN  \n",
       "4908                    NaN  \n",
       "4909                    NaN  \n",
       "4910                    NaN  \n",
       "4911                    NaN  \n",
       "\n",
       "[4912 rows x 89 columns]"
      ],
      "text/html": "<div>\n<style scoped>\n    .dataframe tbody tr th:only-of-type {\n        vertical-align: middle;\n    }\n\n    .dataframe tbody tr th {\n        vertical-align: top;\n    }\n\n    .dataframe thead th {\n        text-align: right;\n    }\n</style>\n<table border=\"1\" class=\"dataframe\">\n  <thead>\n    <tr style=\"text-align: right;\">\n      <th></th>\n      <th>fit_number</th>\n      <th>report_year</th>\n      <th>occur_year</th>\n      <th>occur_date</th>\n      <th>occur_month</th>\n      <th>officer_primary_key</th>\n      <th>description_of_force</th>\n      <th>force_type</th>\n      <th>force_level</th>\n      <th>uof_effective</th>\n      <th>...</th>\n      <th>officer_hospital</th>\n      <th>officer_age</th>\n      <th>officer_years_exp</th>\n      <th>officer_years_with_unit</th>\n      <th>officer_type</th>\n      <th>officer_employment_status</th>\n      <th>officer_department</th>\n      <th>officer_division</th>\n      <th>officer_sub_division_a</th>\n      <th>officer_sub_division_b</th>\n    </tr>\n  </thead>\n  <tbody>\n    <tr>\n      <th>0</th>\n      <td>FTN2019-0054</td>\n      <td>2019</td>\n      <td>2019</td>\n      <td>2/12/19</td>\n      <td>2</td>\n      <td>1455</td>\n      <td>L2-Takedown (w/injury)</td>\n      <td>Takedown (w/injury)</td>\n      <td>L2</td>\n      <td>yes</td>\n      <td>...</td>\n      <td>no</td>\n      <td>54</td>\n      <td>12</td>\n      <td>6</td>\n      <td>commissioned</td>\n      <td>active</td>\n      <td>FOB - Field Operations Bureau</td>\n      <td>NaN</td>\n      <td>NaN</td>\n      <td>NaN</td>\n    </tr>\n    <tr>\n      <th>1</th>\n      <td>FTN2019-0054</td>\n      <td>2019</td>\n      <td>2019</td>\n      <td>2/12/19</td>\n      <td>2</td>\n      <td>6080</td>\n      <td>L2-Takedown (w/injury)</td>\n      <td>Takedown (w/injury)</td>\n      <td>L2</td>\n      <td>yes</td>\n      <td>...</td>\n      <td>no</td>\n      <td>26</td>\n      <td>3</td>\n      <td>3</td>\n      <td>commissioned</td>\n      <td>active</td>\n      <td>FOB - Field Operations Bureau</td>\n      <td>Third District</td>\n      <td>B Platoon</td>\n      <td>NaN</td>\n    </tr>\n    <tr>\n      <th>2</th>\n      <td>FTN2019-0046</td>\n      <td>2019</td>\n      <td>2019</td>\n      <td>2/6/19</td>\n      <td>2</td>\n      <td>6150</td>\n      <td>L1-Takedown (no injury)</td>\n      <td>Takedown (no injury)</td>\n      <td>L1</td>\n      <td>yes</td>\n      <td>...</td>\n      <td>no</td>\n      <td>35</td>\n      <td>3</td>\n      <td>3</td>\n      <td>commissioned</td>\n      <td>active</td>\n      <td>FOB - Field Operations Bureau</td>\n      <td>NaN</td>\n      <td>NaN</td>\n      <td>NaN</td>\n    </tr>\n    <tr>\n      <th>3</th>\n      <td>FTN2019-0046</td>\n      <td>2019</td>\n      <td>2019</td>\n      <td>2/6/19</td>\n      <td>2</td>\n      <td>6127</td>\n      <td>L1-Takedown (no injury)</td>\n      <td>Takedown (no injury)</td>\n      <td>L1</td>\n      <td>yes</td>\n      <td>...</td>\n      <td>no</td>\n      <td>42</td>\n      <td>3</td>\n      <td>3</td>\n      <td>commissioned</td>\n      <td>active</td>\n      <td>FOB - Field Operations Bureau</td>\n      <td>Third District</td>\n      <td>C Platoon</td>\n      <td>NaN</td>\n    </tr>\n    <tr>\n      <th>4</th>\n      <td>FTN2019-0047</td>\n      <td>2019</td>\n      <td>2019</td>\n      <td>2/6/19</td>\n      <td>2</td>\n      <td>731</td>\n      <td>L3-Baton/PR-24 (Strike)</td>\n      <td>Baton/PR-24 (Strike)</td>\n      <td>L3</td>\n      <td>no</td>\n      <td>...</td>\n      <td>no</td>\n      <td>59</td>\n      <td>29</td>\n      <td>6</td>\n      <td>commissioned</td>\n      <td>active</td>\n      <td>FOB - Field Operations Bureau</td>\n      <td>Eighth District</td>\n      <td>A Platoon</td>\n      <td>NaN</td>\n    </tr>\n    <tr>\n      <th>...</th>\n      <td>...</td>\n      <td>...</td>\n      <td>...</td>\n      <td>...</td>\n      <td>...</td>\n      <td>...</td>\n      <td>...</td>\n      <td>...</td>\n      <td>...</td>\n      <td>...</td>\n      <td>...</td>\n      <td>...</td>\n      <td>...</td>\n      <td>...</td>\n      <td>...</td>\n      <td>...</td>\n      <td>...</td>\n      <td>...</td>\n      <td>...</td>\n      <td>...</td>\n      <td>...</td>\n    </tr>\n    <tr>\n      <th>4907</th>\n      <td>FTN2016-0549</td>\n      <td>2016</td>\n      <td>2015</td>\n      <td>11/5/15</td>\n      <td>11</td>\n      <td>5904</td>\n      <td>L1-Force (Escort Tech)</td>\n      <td>Hands / Escort tech</td>\n      <td>L1</td>\n      <td>yes</td>\n      <td>...</td>\n      <td>yes</td>\n      <td>23</td>\n      <td></td>\n      <td></td>\n      <td>non-commissioned</td>\n      <td>active</td>\n      <td>FOB - Field Operations Bureau</td>\n      <td>First District</td>\n      <td>1st Platoon</td>\n      <td>NaN</td>\n    </tr>\n    <tr>\n      <th>4908</th>\n      <td>FTN2016-0549</td>\n      <td>2016</td>\n      <td>2015</td>\n      <td>11/5/15</td>\n      <td>11</td>\n      <td>5905</td>\n      <td>L1-Force (Escort Tech)</td>\n      <td>Hands / Escort tech</td>\n      <td>L1</td>\n      <td>yes</td>\n      <td>...</td>\n      <td>yes</td>\n      <td>21</td>\n      <td></td>\n      <td></td>\n      <td>non-commissioned</td>\n      <td>active</td>\n      <td>FOB - Field Operations Bureau</td>\n      <td>First District</td>\n      <td>1st Platoon</td>\n      <td>NaN</td>\n    </tr>\n    <tr>\n      <th>4909</th>\n      <td>FTN2016-0644</td>\n      <td>2016</td>\n      <td>2012</td>\n      <td>12/26/12</td>\n      <td>12</td>\n      <td>5956</td>\n      <td>L1-No Force by Officer</td>\n      <td>No Force by Officer</td>\n      <td>L1</td>\n      <td>yes</td>\n      <td>...</td>\n      <td>no</td>\n      <td>34</td>\n      <td>-3</td>\n      <td>-3</td>\n      <td>commissioned</td>\n      <td>terminated</td>\n      <td>FOB - Field Operations Bureau</td>\n      <td>Seventh District</td>\n      <td>Night Watch</td>\n      <td>NaN</td>\n    </tr>\n    <tr>\n      <th>4910</th>\n      <td>FTN2016-0644</td>\n      <td>2016</td>\n      <td>2012</td>\n      <td>12/26/12</td>\n      <td>12</td>\n      <td>3555</td>\n      <td>L1-Firearm (Exhibited)</td>\n      <td>Firearm Exhibited</td>\n      <td>L1</td>\n      <td>yes</td>\n      <td>...</td>\n      <td>no</td>\n      <td>45</td>\n      <td>21</td>\n      <td></td>\n      <td>commissioned</td>\n      <td>active</td>\n      <td>MSB - Management Service Bureau</td>\n      <td>Administrative Duties Services</td>\n      <td>LWOP</td>\n      <td>NaN</td>\n    </tr>\n    <tr>\n      <th>4911</th>\n      <td>FTN2016-0644</td>\n      <td>2016</td>\n      <td>2012</td>\n      <td>12/26/12</td>\n      <td>12</td>\n      <td>2251</td>\n      <td>L1-CEW Exhibited/Laser</td>\n      <td>Taser Exhibited</td>\n      <td>L1</td>\n      <td>yes</td>\n      <td>...</td>\n      <td>no</td>\n      <td>43</td>\n      <td>21</td>\n      <td>-2</td>\n      <td>commissioned</td>\n      <td>active</td>\n      <td>MSB - Management Service Bureau</td>\n      <td>Administrative Duties Services</td>\n      <td>Workmans Compensation</td>\n      <td>NaN</td>\n    </tr>\n  </tbody>\n</table>\n<p>4912 rows × 89 columns</p>\n</div>"
     },
     "metadata": {},
     "execution_count": 2
    }
   ],
   "source": [
    "df = clean()\n",
    "df"
   ]
  },
  {
   "cell_type": "code",
   "execution_count": 3,
   "metadata": {},
   "outputs": [
    {
     "output_type": "stream",
     "name": "stdout",
     "text": [
      "4912 rows\nfit_number:\n    dtype: object\n    unique: 1808\nreport_year:\n    dtype: int64\n    unique: 5\n        [2019 2018 2017 2016 2015]\noccur_year:\n    dtype: int64\n    unique: 6\n        [2019 2018 2017 2016 2015 2012]\noccur_date:\n    dtype: object\n    unique: 905\noccur_month:\n    dtype: int64\n    unique: 12\n        [ 2  1 12 11 10  9  8  7  6  5  4  3]\nofficer_primary_key:\n    dtype: object\n    unique: 799\ndescription_of_force:\n    dtype: object\n    unique: 31\n        ['L2-Takedown (w/injury)' 'L1-Takedown (no injury)'\n 'L3-Baton/PR-24 (Strike)' 'L2-CEW Deployment' nan\n 'L1-Firearm (Exhibited)' 'L1-Force (Escort Tech)' 'L1-Hands'\n 'L1-No Force by Officer' 'L2-Force (Defense Tech)' 'L2-Force (Take Down)'\n 'L1-Rifle (Pointed)' 'L4-Handcuffed Subject' 'L3-Head Strike (No Wep)'\n 'L2-Canine (No Bite)' 'L1-CEW Exhibited/Laser' 'L1-Baton (non-strike)'\n 'L1-Other' 'L4-CEW' 'L3-Other' 'L4-NonTrad Impact Weapon'\n 'L1-Shotgun (Pointed)' 'L2-Baton/PR-24(NonStrk)'\n 'L4-Firearm (Discharged)' 'L3-Canine (Contact)' 'L2-Other'\n 'L2-Baton/PR-24 (Miss)' 'L1-Canine (No Bite)' 'L4-Rifle (Discharged)'\n 'L4-Other' 'L4-Canine (Bite)']\nforce_type:\n    dtype: object\n    unique: 24\n        ['Takedown (w/injury)' 'Takedown (no injury)' 'Baton/PR-24 (Strike)'\n 'L2-Taser' 'Not reported' 'Firearm Exhibited' 'Hands / Escort tech'\n 'No Force by Officer' 'Defense Tech / Take-down'\n 'Head strike while Hancuffed' 'Head Strike (No Wep)' 'Canine (No Bite)'\n 'Taser Exhibited' 'Baton (non-strike)' 'L1-Other' 'L4-Taser' 'Other'\n 'NonTrad Impact Weapon' 'Baton Miss' 'Firearm Discharged'\n 'Canine (Contact)' 'L2-Other' 'Rifle (Discharged)' 'Canine (Bite)']\nforce_level:\n    dtype: object\n    unique: 5\n        ['L2' 'L1' 'L3' 'Not reported' 'L4']\nuof_effective:\n    dtype: object\n    unique: 4\n        ['yes' 'no' '' 'limited']\naccidental_discharge:\n    dtype: object\n    unique: 2\n        ['' 'no']\ndeployed_only:\n    dtype: object\n    unique: 3\n        ['no' '' 'yes']\narc_display_only:\n    dtype: object\n    unique: 3\n        ['' 'no' 'yes']\nds_contact:\n    dtype: object\n    unique: 2\n        ['' 'yes']\nds_injury:\n    dtype: object\n    unique: 3\n        ['' 'yes' 'no']\nproj_contact:\n    dtype: object\n    unique: 2\n        ['' 'yes']\nproj_injury:\n    dtype: object\n    unique: 3\n        ['' 'no' 'yes']\nskin_penetration:\n    dtype: object\n    unique: 3\n        ['' 'yes' 'no']\nds_num:\n    dtype: object\n    unique: 2\n        ['' '1']\nair_cart_num:\n    dtype: object\n    unique: 3\n        ['' '1' '2']\ncycles_num:\n    dtype: object\n    unique: 6\n        ['' '1' '2' '3' '5' '4']\nnum_darts_hit:\n    dtype: object\n    unique: 4\n        ['' '2' '1' '4']\nnum_darts_used:\n    dtype: object\n    unique: 4\n        ['' '2' '1' '4']\nless_than_lethal:\n    dtype: object\n    unique: 2\n        ['' 'yes']\ncitizen_painted:\n    dtype: object\n    unique: 3\n        ['' 'no' 'yes']\ncartridge_attached:\n    dtype: object\n    unique: 3\n        ['' 'no' 'yes']\nfollow_up_discharge:\n    dtype: object\n    unique: 3\n        ['' 'no' 'yes']\nadditional_cartridge:\n    dtype: object\n    unique: 3\n        ['' 'no' 'yes']\nday_of_week:\n    dtype: object\n    unique: 7\n        ['tuesday' 'wednesday' 'sunday' 'friday' 'monday' 'saturday' 'thursday']\nhour_of_day:\n    dtype: object\n    unique: 24\n        ['12' '6' '14' '15' '3' '22' '10' '19' '11' '23' '16' '18' '13' '2' '1'\n '17' '' '21' '9' '4' '20' '7' '8' '5']\nocurred_time:\n    dtype: object\n    unique: 61\n        ['37:00.0' '59:00.0' '52:00.0' '25:00.0' '10:00.0' '03:00.0' '09:00.0'\n '04:00.0' '23:00.0' '11:00.0' '20:00.0' '30:00.0' '00:00.0' '05:00.0'\n '53:00.0' '50:00.0' '32:00.0' '48:00.0' '13:00.0' '38:00.0' '41:00.0'\n '21:00.0' '17:00.0' '34:00.0' '55:00.0' '02:00.0' '01:00.0' '27:00.0'\n '40:00.0' '08:00.0' '36:00.0' '45:00.0' '44:00.0' '47:00.0' '33:00.0'\n '35:00.0' '16:00.0' '57:00.0' '15:00.0' '07:00.0' '06:00.0' '54:00.0'\n '46:00.0' '28:00.0' '39:00.0' '12:00.0' nan '58:00.0' '18:00.0' '43:00.0'\n '19:00.0' '14:00.0' '31:00.0' '42:00.0' '51:00.0' '22:00.0' '29:00.0'\n '24:00.0' '49:00.0' '26:00.0' '56:00.0']\nreceive_date:\n    dtype: object\n    unique: 556\nopen_date:\n    dtype: object\n    unique: 6\n        [nan '9/6/18' '7/3/18' '2/7/18' '1/13/18' '9/13/16']\ndue_date:\n    dtype: object\n    unique: 785\nassigned_date:\n    dtype: object\n    unique: 2\n        [nan '1/7/18']\ncompleted_date:\n    dtype: object\n    unique: 494\ncreated_date:\n    dtype: object\n    unique: 868\nassigned_unit:\n    dtype: object\n    unique: 10\n        ['FOB - Field Operation Bureau' 'MSB' 'ISB - Investigative Service Bureau'\n 'PIB F.I.T.' 'FBI - Federal Bureau of Investigation'\n \"Superintendent's Office\" 'PIB Staff' 'PIB Special Operations'\n 'PIB Administrative' 'Non-PIB Personnel']\nbureau:\n    dtype: object\n    unique: 7\n        ['FOB - Field Operations Bureau' 'PIB - Public Integrity Bureau'\n 'MSB - Management Services Bureau' 'ISB - Investigative Services Bureau'\n 'MSB - Management Service Bureau'\n 'ISB - Investigations and Support Bureau' 'Office of the Superintendant']\ndivision_assignment:\n    dtype: object\n    unique: 57\n        ['Task Force' 'A Platoon' nan 'Task Force A' 'C Platoon' 'B Platoon'\n 'D.I.U.' 'Extended Sick' '2nd Platoon' '5th District' 'CID Staff'\n 'Narcotics' 'Day Watch' 'Tactical Section' '3rd Platoon' 'Investigations'\n 'Neighborhood Policing' 'K9 Section' 'Limited Duty'\n 'School Resource Officers' 'Bourbon Promenade' 'Night Watch'\n 'Juvenile Section' '1st Platoon' 'Evening Watch' 'Traffic Section'\n 'Admin' 'Staff' 'Street Gang Unit' 'Intelligence Section' '4th District'\n '7th District' 'Narcotics Section' 'Compliance Section'\n 'Central Evidence & Property Section' 'Special Victims  Section'\n 'ISB Staff' 'Records & I.D.' 'Homicide Section' 'Recruitment Division'\n 'Mid-City' '2nd District' 'Support Services' '1st District'\n '8th District' 'Administration' '3rd District' '6th District' 'Day Beats'\n 'LWOP' 'Force Investigation Team' 'Mounted' 'Detailed/Other'\n 'Training Section' 'Unknown' 'Court Liaison'\n 'Crime Prevention/Quality of Life']\nunit_assignment:\n    dtype: object\n    unique: 39\n        ['Task Force A' nan 'A' 'Patrol' 'B' 'Squad 2' 'Bourbon Street'\n '1st Platoon' 'Squad 3' 'Persons' 'Special Assignment' 'V.O.W.S. Unit'\n 'Property' 'Staff' 'Narcotics' 'Implementation Unit' 'DWI Unit' 'RESERVE'\n 'Squad B' 'patr' '3rd Platoon' 'Squad A' 'Platoon B'\n 'Sex Crimes Platoon 1' 'Task Force B' 'Squad 1' 'Criminal Records'\n 'Squad E' 'Risk Management Section' 'patrol' 'Investigations' 'Squad C'\n 'Platoon A' 'Adminstrative Staff' 'Special Officers Section'\n '2nd Platoon' 'Unknown' 'Domestic Violence Unit' 'A Platoon']\nworking_status:\n    dtype: object\n    unique: 10\n        ['Regular Working' nan 'Unknown Working Status' 'Paid Detail' 'Off Duty'\n 'Resigned' 'Detailed Temporarily' 'Re-Assigned' 'RUI 2012-0947-C'\n 'DUI 2009-0665-R']\nshift_details:\n    dtype: object\n    unique: 6\n        ['Between 7am-3pm' nan 'Unknown Shift Hours' 'Between 11pm-7am'\n 'Between 3pm-11pm' '8a-4p']\nstatus:\n    dtype: object\n    unique: 3\n        ['Completed' 'Initial' 'Suspended']\nsource:\n    dtype: object\n    unique: 2\n        [nan 'NOPD Employee']\nservice_type:\n    dtype: object\n    unique: 8\n        ['Arresting' 'Call for Service' 'Traffic Stop' 'Pedestrian Stop'\n 'Serving a Warrant' 'Other' 'Not Used' nan]\ncit_complaint:\n    dtype: object\n    unique: 1\n        ['no']\nunidentified_officer:\n    dtype: object\n    unique: 1\n        ['no']\ncounty:\n    dtype: object\n    unique: 5\n        ['Orleans Parish' 'Jefferson Parish' nan 'Plaquemines Parish'\n 'Feliciana Parish']\ntraffic_stop:\n    dtype: object\n    unique: 1\n        ['no']\nfield_unit_level:\n    dtype: object\n    unique: 2\n        ['yes' 'no']\nlength_of_job:\n    dtype: float64\n    unique: 104\nsustained:\n    dtype: object\n    unique: 1\n        ['no']\nreason_for_force:\n    dtype: object\n    unique: 13\n        ['resisting lawful arrest' 'refuse verbal commands'\n 'battery on police officer' 'weapon exhibited' 'tactical deployments'\n 'flight from an officer' 'room clearing' 'resisting officer w/weapon'\n 'escape' 'other' 'possibly armed subject' 'battery on reporting person'\n '']\nother_incidents:\n    dtype: object\n    unique: 2\n        ['no' 'yes']\nlight_condition:\n    dtype: object\n    unique: 3\n        ['good' 'poor' '']\nweather_condition:\n    dtype: object\n    unique: 7\n        ['rainy conditions - medium' 'clear conditions' 'rainy conditions - heavy'\n 'other' 'rainy conditions - light' 'foggy condition' '']\ndistance_from_officer:\n    dtype: object\n    unique: 9\n        ['0 feet to 1 feet' '1 feet to 3 feet' '4 feet to 6 feet'\n '11 feet to 14 feet' nan '19 feet to 21 feet' '7 feet to 10 feet'\n '22 feet to 25 feet' '15 feet to 18 feet']\nbody_worn_camera_available:\n    dtype: object\n    unique: 1\n        ['yes']\napp_used:\n    dtype: object\n    unique: 1\n        ['blueteam']\ncitizen_arrested:\n    dtype: object\n    unique: 2\n        ['yes' 'no']\ncitizen_hospitalized:\n    dtype: object\n    unique: 2\n        ['no' 'yes']\ncitizen_injured:\n    dtype: object\n    unique: 2\n        ['yes' 'no']\ncitizen_build:\n    dtype: object\n    unique: 5\n        ['medium' 'large' 'small' 'xlarge' '']\ncitizen_height:\n    dtype: object\n    unique: 8\n        [\"5'4'' to 5'6''\" \"5'7'' to 5'9''\" \"5'10'' to 6'0''\" \"6'1'' to 6'3''\"\n \"< 5'0''\" \"5'0'' to 5'3''\" \"> 6'3''\" nan]\ncitizen_age:\n    dtype: object\n    unique: 72\n        ['54' '29' '63' '59' '25' '16' '31' '15' '44' '42' '43' '40' '35' '22'\n '50' '38' '28' '36' '30' '' '64' '39' '45' '55' '26' '27' '33' '34' '18'\n '20' '19' '47' '17' '14' '58' '66' '13' '23' '46' '8' '49' '32' '24' '41'\n '51' '69' '21' '52' '37' '60' '57' '53' '56' '76' '12' '48' '10' '9' '75'\n '61' '68' '62' '4' '73' '67' '65' '11' '78' '85' '71' '7' '5']\ncitizen_involvement:\n    dtype: object\n    unique: 2\n        ['complainant' '']\ncitizen_num_shots:\n    dtype: object\n    unique: 1\n        ['']\ncitizen_inmate:\n    dtype: object\n    unique: 2\n        ['' 'no']\ncitizen_role:\n    dtype: object\n    unique: 6\n        [nan '3rd. Party Complaintant - \\\\E-Mail\\\\\"\"'\n '3rd. Party Complaintant - Phone Call' 'Complaintant - Walk In'\n 'Complaintant - Phone Call' '3rd. Party Complaintant - Walk In']\ndisposition:\n    dtype: object\n    unique: 14\n        ['UOF Justified' nan 'UOF Force Used Against Officer' 'UOF Not Justified'\n 'UOF Justified With Policy Violation' 'UOF Justified With Training'\n 'UOF No Reportable Force Used by Officer'\n 'UOF Complaint of Injury/No Reportable Force Used' 'Authorized'\n 'Cancelled - Investigation Cancelled' 'Cancel FIT FTN'\n 'Force Used Against Officer' 'Not Authorized' 'Pending']\ndistrict_or_division:\n    dtype: object\n    unique: 11\n        ['3rd District' 'Other' '5th District' '4th District' '2nd District'\n '7th District' '6th District' '1st District' '8th District'\n 'Special Operations' 'Special or Criminal Investigations']\ncitizen_sex:\n    dtype: object\n    unique: 3\n        ['male' 'female' 'unknown']\ncitizen_race:\n    dtype: object\n    unique: 4\n        ['black' 'white' 'hispanic' 'unknown']\ncitizen_age_1:\n    dtype: object\n    unique: 72\n        ['54' '30' '64' '60' '25' '17' '32' '16' '45' '43' '44' '41' '36' '26'\n '22' '51' '39' '29' '37' '15' '31' '' '65' '40' '23' '55' '27' '33' '34'\n '18' '20' '19' '47' '14' '35' '38' '59' '66' '28' '13' '46' '8' '49' '24'\n '50' '69' '52' '21' '58' '42' '57' '53' '56' '48' '77' '11' '10' '76'\n '61' '68' '62' '12' '63' '4' '9' '74' '1' '70' '78' '86' '72' '6']\nofficer_db_primary_key:\n    dtype: object\n    unique: 799\nofficer_current_supervisor:\n    dtype: object\n    unique: 219\nofficer_title:\n    dtype: object\n    unique: 17\n        ['senior police officer' 'police officer' 'police lieutenant'\n 'police recruit' 'police recruit academy' 'police sergeant' ''\n 'police officer 1' 'reserve officers' 'assistant supt of police'\n 'police captain' 'police technical specialist' 'police officer 2'\n 'police recruit field' 'police commander' 'police tech specialist iii'\n 'police officer 3']\nofficer_injured:\n    dtype: object\n    unique: 2\n        ['no' 'yes']\nofficer_hospital:\n    dtype: object\n    unique: 2\n        ['no' 'yes']\nofficer_age:\n    dtype: object\n    unique: 48\n        ['54' '26' '35' '42' '59' '57' '28' '58' '32' '49' '41' '31' '29' '40'\n '33' '34' '27' '24' '45' '30' '46' '' '50' '25' '36' '53' '47' '38' '39'\n '23' '37' '22' '48' '43' '55' '44' '61' '52' '51' '56' '83' '63' '60'\n '76' '64' '69' '115' '21']\nofficer_years_exp:\n    dtype: object\n    unique: 43\n        ['12' '3' '29' '22' '2' '28' '5' '10' '6' '1' '13' '4' '14' '11' '' '15'\n '23' '7' '32' '27' '9' '16' '8' '21' '20' '17' '31' '18' '37' '43' '35'\n '19' '30' '24' '34' '26' '42' '25' '39' '36' '33' '38' '-3']\nofficer_years_with_unit:\n    dtype: object\n    unique: 20\n        ['6' '3' '10' '2' '4' '5' '7' '1' '' '15' '20' '9' '8' '13' '18' '12' '17'\n '11' '-3' '-2']\nofficer_type:\n    dtype: object\n    unique: 6\n        ['commissioned' 'non-commissioned' 'non-commisioned' '' 'recruit'\n 'commisioned']\nofficer_employment_status:\n    dtype: object\n    unique: 3\n        ['active' '' 'terminated']\nofficer_department:\n    dtype: object\n    unique: 6\n        ['FOB - Field Operations Bureau' 'MSB - Management Service Bureau' nan\n 'ISB - Investigations and Support Bureau' 'PIB - Public Integrity Bureau'\n 'Office of the Superintendant']\nofficer_division:\n    dtype: object\n    unique: 26\n        [nan 'Third District' 'Eighth District' 'Police Recruits'\n 'Fourth District' 'Fifth District' 'Second District' 'Seventh District'\n 'Administrative Duties Services' 'Sixth District' 'First District'\n 'Special Investigations Division' 'Criminal Investigations Division'\n 'Special Operations Division' 'Districts' 'Reserve Division'\n 'Alternative Police Response' 'Staff' 'Crime Lab and Evidence Division'\n 'Records & Identification / Support Services Divisi' 'Staff Division '\n 'ISB Staff' 'Education/Training & Recruitment Division'\n 'Criminal Investigation Section' 'Special Events'\n 'Force Investigation Team']\nofficer_sub_division_a:\n    dtype: object\n    unique: 54\n        [nan 'B Platoon' 'C Platoon' 'A Platoon' 'Staff' 'Task Force'\n 'Task Force A' 'Investigations' 'D.I.U.' 'Extended Sick' '2nd Platoon'\n 'Workmans Compensation' 'Narcotics' 'Street Gang Unit'\n 'Bourbon Promenade' 'CID Staff' '3rd Platoon' 'Day Watch'\n 'Tactical Section' 'Military Leave' 'Neighborhood Policing' 'K9 Section'\n 'Evening Watch' 'Limited Duty' 'Night Watch' 'School Resource Officers'\n '8th District' 'Juvenile Section' '1st Platoon' 'Intelligence Section'\n 'Traffic Section' '7th District' 'Support Services' 'Records & I.D.'\n 'Homicide Section' 'Special Victims  Section' 'Narcotics Section'\n 'Detailed/Other' 'Compliance Section'\n 'Central Evidence & Property Section ' 'ISB Staff' 'LWOP'\n 'Training Section' 'Recruitment Division' 'Building Security'\n '5th District' 'I.O.D.' 'Criminal Investigation Section'\n 'Multi-Agency Gang Unit' 'Force Investigation Team'\n 'District Attorney Section' 'Mounted' 'Court Liaison'\n 'Property Crimes Section']\nofficer_sub_division_b:\n    dtype: object\n    unique: 37\n        [nan 'A' 'Squad 2' 'B' 'Squad A' 'Property' '1st Platoon' 'Squad 3'\n 'Patrol' '3rd Platoon' 'V.O.W.S. Unit' 'Staff' 'DWI Unit' 'Persons'\n 'Squad 1' 'Squad B' 'Criminal Records' 'Armory Unit' 'Squad C'\n 'Child Abuse Platoon 2' 'Platoon B' 'Sex Crimes Platoon 1'\n 'Fatality Unit' 'Risk Management Section' 'Motorcycle 1st Platoon'\n 'Platoon A' 'Admin Unit' 'Special Officers Section' 'Public Records'\n 'Sex Crimes Platoon 3' 'Unknown' 'Marine and Bomb Unit'\n 'Domestic Violence Unit' 'Squad E' 'Detailed Officers'\n 'Motorcycle 2nd Platoon' 'Sex Crimes Staff']\n"
     ]
    }
   ],
   "source": [
    "show_unique(df)"
   ]
  },
  {
   "cell_type": "code",
   "execution_count": 4,
   "metadata": {},
   "outputs": [
    {
     "output_type": "execute_result",
     "data": {
      "text/plain": [
       "array(['yes', 'no'], dtype=object)"
      ]
     },
     "metadata": {},
     "execution_count": 4
    }
   ],
   "source": [
    "df.citizen_injured.unique()"
   ]
  },
  {
   "cell_type": "code",
   "execution_count": 5,
   "metadata": {},
   "outputs": [
    {
     "output_type": "execute_result",
     "data": {
      "text/plain": [
       "array([       nan,  1.300e+01, -1.000e+00,  1.100e+01,  3.650e+02,\n",
       "        5.400e+01,  5.300e+01, -2.400e+01, -2.380e+02,  1.110e+02,\n",
       "        2.200e+01,  2.100e+01,  3.700e+01,  4.300e+01,  1.170e+02,\n",
       "        1.210e+02, -3.000e+00,  1.000e+01,  2.000e+00,  6.000e+00,\n",
       "        3.400e+01,  7.600e+01,  5.000e+01, -3.650e+02, -1.300e+01,\n",
       "        5.000e+00, -2.000e+01,  1.800e+01,  7.700e+01,  3.100e+01,\n",
       "        1.500e+01,  4.500e+01, -2.000e+00,  3.500e+01,  3.200e+01,\n",
       "        6.300e+01, -6.000e+00, -1.096e+03,  1.530e+02,  6.900e+01,\n",
       "        5.900e+01, -2.500e+01,  8.600e+01,  1.000e+00,  7.400e+01,\n",
       "        9.700e+01,  2.300e+01, -9.600e+01,  1.300e+02,  4.000e+00,\n",
       "        1.430e+02,  2.600e+01,  2.460e+02,  3.600e+01,  1.230e+02,\n",
       "        1.700e+01, -4.400e+01,  1.320e+02,  2.420e+02,  2.700e+01,\n",
       "        4.080e+02,  4.700e+01,  2.400e+01,  9.000e+00,  9.900e+01,\n",
       "        2.340e+02,  3.300e+01,  7.000e+00,  4.800e+01,  5.200e+01,\n",
       "       -7.500e+01,  8.000e+00,  1.290e+02, -2.200e+01,  3.660e+02,\n",
       "        2.500e+01,  3.000e+00,  3.000e+01,  5.100e+01, -8.000e+00,\n",
       "        1.200e+01, -5.000e+00,  1.600e+01,  1.900e+01,  4.400e+01,\n",
       "        2.800e+01,  4.100e+01,  3.900e+01,  1.400e+01,  2.000e+01,\n",
       "       -3.100e+01,  6.800e+01, -7.000e+00, -1.290e+02,  2.900e+01,\n",
       "        5.600e+01,  7.000e+01,  6.200e+01,  3.800e+01,  6.400e+01,\n",
       "        1.120e+02,  6.500e+01, -1.600e+01,  6.100e+01])"
      ]
     },
     "metadata": {},
     "execution_count": 5
    }
   ],
   "source": [
    "# length_of_job is very strange\n",
    "df.length_of_job.unique()"
   ]
  },
  {
   "cell_type": "code",
   "execution_count": null,
   "metadata": {},
   "outputs": [],
   "source": []
  }
 ]
}
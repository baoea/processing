{
 "metadata": {
  "language_info": {
   "codemirror_mode": {
    "name": "ipython",
    "version": 3
   },
   "file_extension": ".py",
   "mimetype": "text/x-python",
   "name": "python",
   "nbconvert_exporter": "python",
   "pygments_lexer": "ipython3",
   "version": "3.9.2"
  },
  "orig_nbformat": 2,
  "kernelspec": {
   "name": "python392jvsc74a57bd055d6dfa6f6295e03bf132df3e61c1565ff1c22b645ef82a5638b280b97b3597b",
   "display_name": "Python 3.9.2 64-bit ('base': virtualenvwrapper)"
  }
 },
 "nbformat": 4,
 "nbformat_minor": 2,
 "cells": [
  {
   "cell_type": "code",
   "execution_count": 1,
   "metadata": {},
   "outputs": [],
   "source": [
    "import sys; sys.path.append('../')\n",
    "import pandas as pd\n",
    "\n",
    "from clean.ipm_new_orleans_pd_use_of_force import clean\n",
    "from lib.explore import show_unique, show_columns_with_differences"
   ]
  },
  {
   "cell_type": "code",
   "execution_count": 2,
   "metadata": {},
   "outputs": [
    {
     "output_type": "execute_result",
     "data": {
      "text/plain": [
       "     uof_tracking_number  report_year  occur_year  occur_month  \\\n",
       "0           FTN2019-0054         2019        2019            2   \n",
       "1           FTN2019-0054         2019        2019            2   \n",
       "2           FTN2019-0046         2019        2019            2   \n",
       "3           FTN2019-0046         2019        2019            2   \n",
       "4           FTN2019-0047         2019        2019            2   \n",
       "...                  ...          ...         ...          ...   \n",
       "4907        FTN2016-0549         2016        2015           11   \n",
       "4908        FTN2016-0549         2016        2015           11   \n",
       "4909        FTN2016-0644         2016        2012           12   \n",
       "4910        FTN2016-0644         2016        2012           12   \n",
       "4911        FTN2016-0644         2016        2012           12   \n",
       "\n",
       "     officer_primary_key        force_description            force_type  \\\n",
       "0                   1455   L2-Takedown (w/injury)   Takedown (w/injury)   \n",
       "1                   6080   L2-Takedown (w/injury)   Takedown (w/injury)   \n",
       "2                   6150  L1-Takedown (no injury)  Takedown (no injury)   \n",
       "3                   6127  L1-Takedown (no injury)  Takedown (no injury)   \n",
       "4                    731  L3-Baton/PR-24 (Strike)  Baton/PR-24 (Strike)   \n",
       "...                  ...                      ...                   ...   \n",
       "4907                5904   L1-Force (Escort Tech)   Hands / Escort tech   \n",
       "4908                5905   L1-Force (Escort Tech)   Hands / Escort tech   \n",
       "4909                5956   L1-No Force by Officer   No Force by Officer   \n",
       "4910                3555   L1-Firearm (Exhibited)     Firearm Exhibited   \n",
       "4911                2251   L1-CEW Exhibited/Laser       Taser Exhibited   \n",
       "\n",
       "     force_level effective_uof accidental_discharge  ...  \\\n",
       "0             L2           yes                       ...   \n",
       "1             L2           yes                       ...   \n",
       "2             L1           yes                       ...   \n",
       "3             L1           yes                       ...   \n",
       "4             L3            no                       ...   \n",
       "...          ...           ...                  ...  ...   \n",
       "4907          L1           yes                       ...   \n",
       "4908          L1           yes                       ...   \n",
       "4909          L1           yes                       ...   \n",
       "4910          L1           yes                       ...   \n",
       "4911          L1           yes                       ...   \n",
       "\n",
       "     officer_employment_status               officer_department  \\\n",
       "0                       active    FOB - Field Operations Bureau   \n",
       "1                       active    FOB - Field Operations Bureau   \n",
       "2                       active    FOB - Field Operations Bureau   \n",
       "3                       active    FOB - Field Operations Bureau   \n",
       "4                       active    FOB - Field Operations Bureau   \n",
       "...                        ...                              ...   \n",
       "4907                    active    FOB - Field Operations Bureau   \n",
       "4908                    active    FOB - Field Operations Bureau   \n",
       "4909                terminated    FOB - Field Operations Bureau   \n",
       "4910                    active  MSB - Management Service Bureau   \n",
       "4911                    active  MSB - Management Service Bureau   \n",
       "\n",
       "                    officer_division officer_sub_division_a  \\\n",
       "0                                NaN                    NaN   \n",
       "1                     Third District              B Platoon   \n",
       "2                                NaN                    NaN   \n",
       "3                     Third District              C Platoon   \n",
       "4                    Eighth District              A Platoon   \n",
       "...                              ...                    ...   \n",
       "4907                  First District            1st Platoon   \n",
       "4908                  First District            1st Platoon   \n",
       "4909                Seventh District            Night Watch   \n",
       "4910  Administrative Duties Services                   LWOP   \n",
       "4911  Administrative Duties Services  Workmans Compensation   \n",
       "\n",
       "     officer_sub_division_b occur_day occur_time data_production_year  \\\n",
       "0                       NaN        12      12:37                 2019   \n",
       "1                       NaN        12      12:37                 2019   \n",
       "2                       NaN         6      12:59                 2019   \n",
       "3                       NaN         6      12:59                 2019   \n",
       "4                       NaN         6      12:52                 2019   \n",
       "...                     ...       ...        ...                  ...   \n",
       "4907                    NaN         5      17:50                 2019   \n",
       "4908                    NaN         5      17:50                 2019   \n",
       "4909                    NaN        26      03:07                 2019   \n",
       "4910                    NaN        26      03:07                 2019   \n",
       "4911                    NaN        26      03:07                 2019   \n",
       "\n",
       "              agency                           uof_uid  \n",
       "0     New Orleans PD  46c1df5007bfc7f0fee1ac661d3da269  \n",
       "1     New Orleans PD  7391df4901d01591381010bde79b124a  \n",
       "2     New Orleans PD  9af90757eff1354c6aefccdd07d2ad85  \n",
       "3     New Orleans PD  ac58b58e3cf2e70ae530da93ec6c1c1e  \n",
       "4     New Orleans PD  e3e15693cf8313d434cb1f8793e62a6d  \n",
       "...              ...                               ...  \n",
       "4907  New Orleans PD  25a42707e78221a746308e4a721ad9f8  \n",
       "4908  New Orleans PD  5cc8aba00fec3871535c425b8fe4756d  \n",
       "4909  New Orleans PD  5d7b35e12ee7ddf4dd8f7bed638f201b  \n",
       "4910  New Orleans PD  219e868349a432812329883982134d78  \n",
       "4911  New Orleans PD  44256bc5da34998eb4449067761094e3  \n",
       "\n",
       "[4750 rows x 55 columns]"
      ],
      "text/html": "<div>\n<style scoped>\n    .dataframe tbody tr th:only-of-type {\n        vertical-align: middle;\n    }\n\n    .dataframe tbody tr th {\n        vertical-align: top;\n    }\n\n    .dataframe thead th {\n        text-align: right;\n    }\n</style>\n<table border=\"1\" class=\"dataframe\">\n  <thead>\n    <tr style=\"text-align: right;\">\n      <th></th>\n      <th>uof_tracking_number</th>\n      <th>report_year</th>\n      <th>occur_year</th>\n      <th>occur_month</th>\n      <th>officer_primary_key</th>\n      <th>force_description</th>\n      <th>force_type</th>\n      <th>force_level</th>\n      <th>effective_uof</th>\n      <th>accidental_discharge</th>\n      <th>...</th>\n      <th>officer_employment_status</th>\n      <th>officer_department</th>\n      <th>officer_division</th>\n      <th>officer_sub_division_a</th>\n      <th>officer_sub_division_b</th>\n      <th>occur_day</th>\n      <th>occur_time</th>\n      <th>data_production_year</th>\n      <th>agency</th>\n      <th>uof_uid</th>\n    </tr>\n  </thead>\n  <tbody>\n    <tr>\n      <th>0</th>\n      <td>FTN2019-0054</td>\n      <td>2019</td>\n      <td>2019</td>\n      <td>2</td>\n      <td>1455</td>\n      <td>L2-Takedown (w/injury)</td>\n      <td>Takedown (w/injury)</td>\n      <td>L2</td>\n      <td>yes</td>\n      <td></td>\n      <td>...</td>\n      <td>active</td>\n      <td>FOB - Field Operations Bureau</td>\n      <td>NaN</td>\n      <td>NaN</td>\n      <td>NaN</td>\n      <td>12</td>\n      <td>12:37</td>\n      <td>2019</td>\n      <td>New Orleans PD</td>\n      <td>46c1df5007bfc7f0fee1ac661d3da269</td>\n    </tr>\n    <tr>\n      <th>1</th>\n      <td>FTN2019-0054</td>\n      <td>2019</td>\n      <td>2019</td>\n      <td>2</td>\n      <td>6080</td>\n      <td>L2-Takedown (w/injury)</td>\n      <td>Takedown (w/injury)</td>\n      <td>L2</td>\n      <td>yes</td>\n      <td></td>\n      <td>...</td>\n      <td>active</td>\n      <td>FOB - Field Operations Bureau</td>\n      <td>Third District</td>\n      <td>B Platoon</td>\n      <td>NaN</td>\n      <td>12</td>\n      <td>12:37</td>\n      <td>2019</td>\n      <td>New Orleans PD</td>\n      <td>7391df4901d01591381010bde79b124a</td>\n    </tr>\n    <tr>\n      <th>2</th>\n      <td>FTN2019-0046</td>\n      <td>2019</td>\n      <td>2019</td>\n      <td>2</td>\n      <td>6150</td>\n      <td>L1-Takedown (no injury)</td>\n      <td>Takedown (no injury)</td>\n      <td>L1</td>\n      <td>yes</td>\n      <td></td>\n      <td>...</td>\n      <td>active</td>\n      <td>FOB - Field Operations Bureau</td>\n      <td>NaN</td>\n      <td>NaN</td>\n      <td>NaN</td>\n      <td>6</td>\n      <td>12:59</td>\n      <td>2019</td>\n      <td>New Orleans PD</td>\n      <td>9af90757eff1354c6aefccdd07d2ad85</td>\n    </tr>\n    <tr>\n      <th>3</th>\n      <td>FTN2019-0046</td>\n      <td>2019</td>\n      <td>2019</td>\n      <td>2</td>\n      <td>6127</td>\n      <td>L1-Takedown (no injury)</td>\n      <td>Takedown (no injury)</td>\n      <td>L1</td>\n      <td>yes</td>\n      <td></td>\n      <td>...</td>\n      <td>active</td>\n      <td>FOB - Field Operations Bureau</td>\n      <td>Third District</td>\n      <td>C Platoon</td>\n      <td>NaN</td>\n      <td>6</td>\n      <td>12:59</td>\n      <td>2019</td>\n      <td>New Orleans PD</td>\n      <td>ac58b58e3cf2e70ae530da93ec6c1c1e</td>\n    </tr>\n    <tr>\n      <th>4</th>\n      <td>FTN2019-0047</td>\n      <td>2019</td>\n      <td>2019</td>\n      <td>2</td>\n      <td>731</td>\n      <td>L3-Baton/PR-24 (Strike)</td>\n      <td>Baton/PR-24 (Strike)</td>\n      <td>L3</td>\n      <td>no</td>\n      <td></td>\n      <td>...</td>\n      <td>active</td>\n      <td>FOB - Field Operations Bureau</td>\n      <td>Eighth District</td>\n      <td>A Platoon</td>\n      <td>NaN</td>\n      <td>6</td>\n      <td>12:52</td>\n      <td>2019</td>\n      <td>New Orleans PD</td>\n      <td>e3e15693cf8313d434cb1f8793e62a6d</td>\n    </tr>\n    <tr>\n      <th>...</th>\n      <td>...</td>\n      <td>...</td>\n      <td>...</td>\n      <td>...</td>\n      <td>...</td>\n      <td>...</td>\n      <td>...</td>\n      <td>...</td>\n      <td>...</td>\n      <td>...</td>\n      <td>...</td>\n      <td>...</td>\n      <td>...</td>\n      <td>...</td>\n      <td>...</td>\n      <td>...</td>\n      <td>...</td>\n      <td>...</td>\n      <td>...</td>\n      <td>...</td>\n      <td>...</td>\n    </tr>\n    <tr>\n      <th>4907</th>\n      <td>FTN2016-0549</td>\n      <td>2016</td>\n      <td>2015</td>\n      <td>11</td>\n      <td>5904</td>\n      <td>L1-Force (Escort Tech)</td>\n      <td>Hands / Escort tech</td>\n      <td>L1</td>\n      <td>yes</td>\n      <td></td>\n      <td>...</td>\n      <td>active</td>\n      <td>FOB - Field Operations Bureau</td>\n      <td>First District</td>\n      <td>1st Platoon</td>\n      <td>NaN</td>\n      <td>5</td>\n      <td>17:50</td>\n      <td>2019</td>\n      <td>New Orleans PD</td>\n      <td>25a42707e78221a746308e4a721ad9f8</td>\n    </tr>\n    <tr>\n      <th>4908</th>\n      <td>FTN2016-0549</td>\n      <td>2016</td>\n      <td>2015</td>\n      <td>11</td>\n      <td>5905</td>\n      <td>L1-Force (Escort Tech)</td>\n      <td>Hands / Escort tech</td>\n      <td>L1</td>\n      <td>yes</td>\n      <td></td>\n      <td>...</td>\n      <td>active</td>\n      <td>FOB - Field Operations Bureau</td>\n      <td>First District</td>\n      <td>1st Platoon</td>\n      <td>NaN</td>\n      <td>5</td>\n      <td>17:50</td>\n      <td>2019</td>\n      <td>New Orleans PD</td>\n      <td>5cc8aba00fec3871535c425b8fe4756d</td>\n    </tr>\n    <tr>\n      <th>4909</th>\n      <td>FTN2016-0644</td>\n      <td>2016</td>\n      <td>2012</td>\n      <td>12</td>\n      <td>5956</td>\n      <td>L1-No Force by Officer</td>\n      <td>No Force by Officer</td>\n      <td>L1</td>\n      <td>yes</td>\n      <td></td>\n      <td>...</td>\n      <td>terminated</td>\n      <td>FOB - Field Operations Bureau</td>\n      <td>Seventh District</td>\n      <td>Night Watch</td>\n      <td>NaN</td>\n      <td>26</td>\n      <td>03:07</td>\n      <td>2019</td>\n      <td>New Orleans PD</td>\n      <td>5d7b35e12ee7ddf4dd8f7bed638f201b</td>\n    </tr>\n    <tr>\n      <th>4910</th>\n      <td>FTN2016-0644</td>\n      <td>2016</td>\n      <td>2012</td>\n      <td>12</td>\n      <td>3555</td>\n      <td>L1-Firearm (Exhibited)</td>\n      <td>Firearm Exhibited</td>\n      <td>L1</td>\n      <td>yes</td>\n      <td></td>\n      <td>...</td>\n      <td>active</td>\n      <td>MSB - Management Service Bureau</td>\n      <td>Administrative Duties Services</td>\n      <td>LWOP</td>\n      <td>NaN</td>\n      <td>26</td>\n      <td>03:07</td>\n      <td>2019</td>\n      <td>New Orleans PD</td>\n      <td>219e868349a432812329883982134d78</td>\n    </tr>\n    <tr>\n      <th>4911</th>\n      <td>FTN2016-0644</td>\n      <td>2016</td>\n      <td>2012</td>\n      <td>12</td>\n      <td>2251</td>\n      <td>L1-CEW Exhibited/Laser</td>\n      <td>Taser Exhibited</td>\n      <td>L1</td>\n      <td>yes</td>\n      <td></td>\n      <td>...</td>\n      <td>active</td>\n      <td>MSB - Management Service Bureau</td>\n      <td>Administrative Duties Services</td>\n      <td>Workmans Compensation</td>\n      <td>NaN</td>\n      <td>26</td>\n      <td>03:07</td>\n      <td>2019</td>\n      <td>New Orleans PD</td>\n      <td>44256bc5da34998eb4449067761094e3</td>\n    </tr>\n  </tbody>\n</table>\n<p>4750 rows × 55 columns</p>\n</div>"
     },
     "metadata": {},
     "execution_count": 2
    }
   ],
   "source": [
    "df = clean()\n",
    "df"
   ]
  },
  {
   "cell_type": "code",
   "execution_count": 3,
   "metadata": {},
   "outputs": [
    {
     "output_type": "execute_result",
     "data": {
      "text/plain": [
       "     officer_primary_key citizen_age citizen_sex citizen_age_1  \\\n",
       "1145                2061          23        male            24   \n",
       "1146                2061          27        male            28   \n",
       "1147                2061          22      female            23   \n",
       "1148                2061          25      female            26   \n",
       "1149                2669          25      female            26   \n",
       "1150                2669          22      female            23   \n",
       "1151                2669          27        male            28   \n",
       "1152                2669          23        male            24   \n",
       "\n",
       "     officer_current_supervisor officer_age                           uof_uid  \n",
       "1145                       2089          50  9fffa68421ccb3e5a430fce9005df0f5  \n",
       "1146                       2089          50  f123f1e0134d48a3df0deb61f17db807  \n",
       "1147                       2089          50  7d6088e20fdc5209f416b6f64e4e95ae  \n",
       "1148                       2089          50  1c3348444a7eb6c3d8a23d8ba045c444  \n",
       "1149                       3585          46  b011eb9222f444e2fd59d6954a943c78  \n",
       "1150                       3585          46  feab139ee1573ebfb81f35877460cdc1  \n",
       "1151                       3585          46  fbebe8c178bc0dbf981fad1d8d2662ca  \n",
       "1152                       3585          46  1473d079541c6b3bc46d07313510c70a  "
      ],
      "text/html": "<div>\n<style scoped>\n    .dataframe tbody tr th:only-of-type {\n        vertical-align: middle;\n    }\n\n    .dataframe tbody tr th {\n        vertical-align: top;\n    }\n\n    .dataframe thead th {\n        text-align: right;\n    }\n</style>\n<table border=\"1\" class=\"dataframe\">\n  <thead>\n    <tr style=\"text-align: right;\">\n      <th></th>\n      <th>officer_primary_key</th>\n      <th>citizen_age</th>\n      <th>citizen_sex</th>\n      <th>citizen_age_1</th>\n      <th>officer_current_supervisor</th>\n      <th>officer_age</th>\n      <th>uof_uid</th>\n    </tr>\n  </thead>\n  <tbody>\n    <tr>\n      <th>1145</th>\n      <td>2061</td>\n      <td>23</td>\n      <td>male</td>\n      <td>24</td>\n      <td>2089</td>\n      <td>50</td>\n      <td>9fffa68421ccb3e5a430fce9005df0f5</td>\n    </tr>\n    <tr>\n      <th>1146</th>\n      <td>2061</td>\n      <td>27</td>\n      <td>male</td>\n      <td>28</td>\n      <td>2089</td>\n      <td>50</td>\n      <td>f123f1e0134d48a3df0deb61f17db807</td>\n    </tr>\n    <tr>\n      <th>1147</th>\n      <td>2061</td>\n      <td>22</td>\n      <td>female</td>\n      <td>23</td>\n      <td>2089</td>\n      <td>50</td>\n      <td>7d6088e20fdc5209f416b6f64e4e95ae</td>\n    </tr>\n    <tr>\n      <th>1148</th>\n      <td>2061</td>\n      <td>25</td>\n      <td>female</td>\n      <td>26</td>\n      <td>2089</td>\n      <td>50</td>\n      <td>1c3348444a7eb6c3d8a23d8ba045c444</td>\n    </tr>\n    <tr>\n      <th>1149</th>\n      <td>2669</td>\n      <td>25</td>\n      <td>female</td>\n      <td>26</td>\n      <td>3585</td>\n      <td>46</td>\n      <td>b011eb9222f444e2fd59d6954a943c78</td>\n    </tr>\n    <tr>\n      <th>1150</th>\n      <td>2669</td>\n      <td>22</td>\n      <td>female</td>\n      <td>23</td>\n      <td>3585</td>\n      <td>46</td>\n      <td>feab139ee1573ebfb81f35877460cdc1</td>\n    </tr>\n    <tr>\n      <th>1151</th>\n      <td>2669</td>\n      <td>27</td>\n      <td>male</td>\n      <td>28</td>\n      <td>3585</td>\n      <td>46</td>\n      <td>fbebe8c178bc0dbf981fad1d8d2662ca</td>\n    </tr>\n    <tr>\n      <th>1152</th>\n      <td>2669</td>\n      <td>23</td>\n      <td>male</td>\n      <td>24</td>\n      <td>3585</td>\n      <td>46</td>\n      <td>1473d079541c6b3bc46d07313510c70a</td>\n    </tr>\n  </tbody>\n</table>\n</div>"
     },
     "metadata": {},
     "execution_count": 3
    }
   ],
   "source": [
    "show_columns_with_differences(df[df.uof_tracking_number == 'FTN2018-0069'])\n",
    "# show_columns_with_differences(df[(df.uof_tracking_number == 'FTN2017-0285') & (df.officer_primary_key == '1663')])"
   ]
  },
  {
   "cell_type": "code",
   "execution_count": 4,
   "metadata": {},
   "outputs": [
    {
     "output_type": "execute_result",
     "data": {
      "text/plain": [
       "Index(['uof_tracking_number', 'report_year', 'occur_year', 'occur_month',\n",
       "       'officer_primary_key', 'force_description', 'force_type', 'force_level',\n",
       "       'effective_uof', 'accidental_discharge', 'less_than_lethal',\n",
       "       'receive_date', 'due_datetime', 'assigned_date', 'completed_date',\n",
       "       'created_date', 'status', 'source', 'service_type', 'county',\n",
       "       'traffic_stop', 'sustained', 'force_reason', 'weather_description',\n",
       "       'distance_from_officer', 'body_worn_camera_available', 'app_used',\n",
       "       'citizen_arrested', 'citizen_hospitalized', 'citizen_injured',\n",
       "       'citizen_body_type', 'citizen_height', 'citizen_age',\n",
       "       'citizen_involvement', 'disposition', 'citizen_sex', 'citizen_race',\n",
       "       'citizen_age_1', 'officer_current_supervisor', 'officer_title',\n",
       "       'officer_injured', 'officer_age', 'officer_years_exp',\n",
       "       'officer_years_with_unit', 'officer_type', 'officer_employment_status',\n",
       "       'officer_department', 'officer_division', 'officer_sub_division_a',\n",
       "       'officer_sub_division_b', 'occur_day', 'occur_time',\n",
       "       'data_production_year', 'agency', 'uof_uid'],\n",
       "      dtype='object')"
      ]
     },
     "metadata": {},
     "execution_count": 4
    }
   ],
   "source": [
    "df.columns"
   ]
  },
  {
   "cell_type": "code",
   "execution_count": null,
   "metadata": {},
   "outputs": [],
   "source": []
  }
 ]
}
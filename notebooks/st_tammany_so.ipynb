{
 "metadata": {
  "language_info": {
   "codemirror_mode": {
    "name": "ipython",
    "version": 3
   },
   "file_extension": ".py",
   "mimetype": "text/x-python",
   "name": "python",
   "nbconvert_exporter": "python",
   "pygments_lexer": "ipython3",
   "version": "3.8.3-final"
  },
  "orig_nbformat": 2,
  "kernelspec": {
   "name": "python3",
   "display_name": "Python 3.8.3 64-bit ('anaconda3': virtualenv)",
   "metadata": {
    "interpreter": {
     "hash": "759d03fc00c4e55187619d7bc1e0b6a3309d14c7c00d43a321634150e05678f8"
    }
   }
  }
 },
 "nbformat": 4,
 "nbformat_minor": 2,
 "cells": [
  {
   "cell_type": "code",
   "execution_count": 1,
   "metadata": {},
   "outputs": [],
   "source": [
    "import sys; sys.path.append(\"../\")\n",
    "import pandas as pd\n",
    "\n",
    "from clean.st_tammany_so_pprr import clean\n",
    "from clean.st_tammany_so_cprr import clean as clean_cprr, clean_depts"
   ]
  },
  {
   "cell_type": "code",
   "execution_count": 2,
   "metadata": {},
   "outputs": [
    {
     "output_type": "stream",
     "name": "stderr",
     "text": [
      "../lib/clean.py:152: FutureWarning: The default value of regex will change from True to False in a future version.\n  return series.str.strip().str.replace(r\"[^\\w-]+\", \" \").str.replace(r\"\\s+\", \" \")\\\n"
     ]
    },
    {
     "output_type": "execute_result",
     "data": {
      "text/plain": [
       "      employee_id   last_name   first_name birth_year rank_code  \\\n",
       "0               1  divincenti        frank       1923      CG01   \n",
       "1               2      husser        linda       1949      EX04   \n",
       "2               3     jenkins       dickie       1955       MJ3   \n",
       "3               4     ranatza         gary       1964      M101   \n",
       "4               5       kelly       robert       1926      CG01   \n",
       "...           ...         ...          ...        ...       ...   \n",
       "3117        80996       beyer       justin       1974      RESV   \n",
       "3118        80997   barberito  christopher       1990      RESV   \n",
       "3119        80998    scarlato      michael       1980      RESV   \n",
       "3120        80999      rogers        keith       1962      RESV   \n",
       "3121        81000       byers       dustin       1995      RESV   \n",
       "\n",
       "                           rank_desc pay_group hire_year hire_month hire_day  \\\n",
       "0              school crossing guard      PSAF      1984         09       10   \n",
       "1                         consultant       AUX      2010         08       03   \n",
       "2              mj3 corr/comm/crt sec       AUX      1980         11       14   \n",
       "3     lieutenant protective services      PSAF      1996         09       26   \n",
       "4              school crossing guard      PSAF      1994         08       16   \n",
       "...                              ...       ...       ...        ...      ...   \n",
       "3117                reserve deputies       NaN      2020         01       14   \n",
       "3118                reserve deputies       NaN      2020         01       28   \n",
       "3119                reserve deputies       NaN      2020         02       13   \n",
       "3120                reserve deputies       NaN      2020         06       16   \n",
       "3121                reserve deputies       NaN      2020         07       09   \n",
       "\n",
       "     term_year term_month term_day                               uid  \n",
       "0                                   6a22a802ff4f5072bdb2ef289c443e26  \n",
       "1         2016         06       30  af8f11a2cbd55d7e4de29ffaafffbe0d  \n",
       "2         2006         02       03  70e5ff989ccf16676d48d668a08fcbd1  \n",
       "3         2019         12       12  16e8d29524c6e31728c219dba5945aeb  \n",
       "4         2001         10       31  3b029846b7b4037fb1ccf5a41ace73d0  \n",
       "...        ...        ...      ...                               ...  \n",
       "3117                                85f7e3e5d76557cc71dfbb8b84b56731  \n",
       "3118                                892431106b06f986346afabf739f6169  \n",
       "3119                                e937a1d07bbe01d1c467a04e6d985cf6  \n",
       "3120                                84821a28cb1e0cec69382c7ec578f973  \n",
       "3121                                2be0151797b9b0f6b5d4b3c8324a3645  \n",
       "\n",
       "[3122 rows x 14 columns]"
      ],
      "text/html": "<div>\n<style scoped>\n    .dataframe tbody tr th:only-of-type {\n        vertical-align: middle;\n    }\n\n    .dataframe tbody tr th {\n        vertical-align: top;\n    }\n\n    .dataframe thead th {\n        text-align: right;\n    }\n</style>\n<table border=\"1\" class=\"dataframe\">\n  <thead>\n    <tr style=\"text-align: right;\">\n      <th></th>\n      <th>employee_id</th>\n      <th>last_name</th>\n      <th>first_name</th>\n      <th>birth_year</th>\n      <th>rank_code</th>\n      <th>rank_desc</th>\n      <th>pay_group</th>\n      <th>hire_year</th>\n      <th>hire_month</th>\n      <th>hire_day</th>\n      <th>term_year</th>\n      <th>term_month</th>\n      <th>term_day</th>\n      <th>uid</th>\n    </tr>\n  </thead>\n  <tbody>\n    <tr>\n      <th>0</th>\n      <td>1</td>\n      <td>divincenti</td>\n      <td>frank</td>\n      <td>1923</td>\n      <td>CG01</td>\n      <td>school crossing guard</td>\n      <td>PSAF</td>\n      <td>1984</td>\n      <td>09</td>\n      <td>10</td>\n      <td></td>\n      <td></td>\n      <td></td>\n      <td>6a22a802ff4f5072bdb2ef289c443e26</td>\n    </tr>\n    <tr>\n      <th>1</th>\n      <td>2</td>\n      <td>husser</td>\n      <td>linda</td>\n      <td>1949</td>\n      <td>EX04</td>\n      <td>consultant</td>\n      <td>AUX</td>\n      <td>2010</td>\n      <td>08</td>\n      <td>03</td>\n      <td>2016</td>\n      <td>06</td>\n      <td>30</td>\n      <td>af8f11a2cbd55d7e4de29ffaafffbe0d</td>\n    </tr>\n    <tr>\n      <th>2</th>\n      <td>3</td>\n      <td>jenkins</td>\n      <td>dickie</td>\n      <td>1955</td>\n      <td>MJ3</td>\n      <td>mj3 corr/comm/crt sec</td>\n      <td>AUX</td>\n      <td>1980</td>\n      <td>11</td>\n      <td>14</td>\n      <td>2006</td>\n      <td>02</td>\n      <td>03</td>\n      <td>70e5ff989ccf16676d48d668a08fcbd1</td>\n    </tr>\n    <tr>\n      <th>3</th>\n      <td>4</td>\n      <td>ranatza</td>\n      <td>gary</td>\n      <td>1964</td>\n      <td>M101</td>\n      <td>lieutenant protective services</td>\n      <td>PSAF</td>\n      <td>1996</td>\n      <td>09</td>\n      <td>26</td>\n      <td>2019</td>\n      <td>12</td>\n      <td>12</td>\n      <td>16e8d29524c6e31728c219dba5945aeb</td>\n    </tr>\n    <tr>\n      <th>4</th>\n      <td>5</td>\n      <td>kelly</td>\n      <td>robert</td>\n      <td>1926</td>\n      <td>CG01</td>\n      <td>school crossing guard</td>\n      <td>PSAF</td>\n      <td>1994</td>\n      <td>08</td>\n      <td>16</td>\n      <td>2001</td>\n      <td>10</td>\n      <td>31</td>\n      <td>3b029846b7b4037fb1ccf5a41ace73d0</td>\n    </tr>\n    <tr>\n      <th>...</th>\n      <td>...</td>\n      <td>...</td>\n      <td>...</td>\n      <td>...</td>\n      <td>...</td>\n      <td>...</td>\n      <td>...</td>\n      <td>...</td>\n      <td>...</td>\n      <td>...</td>\n      <td>...</td>\n      <td>...</td>\n      <td>...</td>\n      <td>...</td>\n    </tr>\n    <tr>\n      <th>3117</th>\n      <td>80996</td>\n      <td>beyer</td>\n      <td>justin</td>\n      <td>1974</td>\n      <td>RESV</td>\n      <td>reserve deputies</td>\n      <td>NaN</td>\n      <td>2020</td>\n      <td>01</td>\n      <td>14</td>\n      <td></td>\n      <td></td>\n      <td></td>\n      <td>85f7e3e5d76557cc71dfbb8b84b56731</td>\n    </tr>\n    <tr>\n      <th>3118</th>\n      <td>80997</td>\n      <td>barberito</td>\n      <td>christopher</td>\n      <td>1990</td>\n      <td>RESV</td>\n      <td>reserve deputies</td>\n      <td>NaN</td>\n      <td>2020</td>\n      <td>01</td>\n      <td>28</td>\n      <td></td>\n      <td></td>\n      <td></td>\n      <td>892431106b06f986346afabf739f6169</td>\n    </tr>\n    <tr>\n      <th>3119</th>\n      <td>80998</td>\n      <td>scarlato</td>\n      <td>michael</td>\n      <td>1980</td>\n      <td>RESV</td>\n      <td>reserve deputies</td>\n      <td>NaN</td>\n      <td>2020</td>\n      <td>02</td>\n      <td>13</td>\n      <td></td>\n      <td></td>\n      <td></td>\n      <td>e937a1d07bbe01d1c467a04e6d985cf6</td>\n    </tr>\n    <tr>\n      <th>3120</th>\n      <td>80999</td>\n      <td>rogers</td>\n      <td>keith</td>\n      <td>1962</td>\n      <td>RESV</td>\n      <td>reserve deputies</td>\n      <td>NaN</td>\n      <td>2020</td>\n      <td>06</td>\n      <td>16</td>\n      <td></td>\n      <td></td>\n      <td></td>\n      <td>84821a28cb1e0cec69382c7ec578f973</td>\n    </tr>\n    <tr>\n      <th>3121</th>\n      <td>81000</td>\n      <td>byers</td>\n      <td>dustin</td>\n      <td>1995</td>\n      <td>RESV</td>\n      <td>reserve deputies</td>\n      <td>NaN</td>\n      <td>2020</td>\n      <td>07</td>\n      <td>09</td>\n      <td></td>\n      <td></td>\n      <td></td>\n      <td>2be0151797b9b0f6b5d4b3c8324a3645</td>\n    </tr>\n  </tbody>\n</table>\n<p>3122 rows × 14 columns</p>\n</div>"
     },
     "metadata": {},
     "execution_count": 2
    }
   ],
   "source": [
    "pprr = clean()\n",
    "pprr"
   ]
  },
  {
   "cell_type": "code",
   "execution_count": 3,
   "metadata": {},
   "outputs": [
    {
     "output_type": "execute_result",
     "data": {
      "text/plain": [
       "      employee_id last_name first_name birth_year rank_code  \\\n",
       "116           119  smith jr    charles       1948      M202   \n",
       "795           922     smith    charles       1963      A101   \n",
       "1376         1666     smith    charles       1962      P101   \n",
       "\n",
       "                   rank_desc pay_group hire_year hire_month hire_day  \\\n",
       "116         corrections capt       AUX      1981         10       28   \n",
       "795   deputy/admin auxillary       AUX      2017         09       26   \n",
       "1376                  deputy      PSAF      2006         08       02   \n",
       "\n",
       "     term_year term_month term_day                               uid  \n",
       "116       2002         04       11  854e9bbf9f908b776b5004c50eb61712  \n",
       "795       2019         12       18  9a8ad62809baf86d2ed47d49543a99d5  \n",
       "1376                                ea1566bfddd6ffdb639ae513803e5c04  "
      ],
      "text/html": "<div>\n<style scoped>\n    .dataframe tbody tr th:only-of-type {\n        vertical-align: middle;\n    }\n\n    .dataframe tbody tr th {\n        vertical-align: top;\n    }\n\n    .dataframe thead th {\n        text-align: right;\n    }\n</style>\n<table border=\"1\" class=\"dataframe\">\n  <thead>\n    <tr style=\"text-align: right;\">\n      <th></th>\n      <th>employee_id</th>\n      <th>last_name</th>\n      <th>first_name</th>\n      <th>birth_year</th>\n      <th>rank_code</th>\n      <th>rank_desc</th>\n      <th>pay_group</th>\n      <th>hire_year</th>\n      <th>hire_month</th>\n      <th>hire_day</th>\n      <th>term_year</th>\n      <th>term_month</th>\n      <th>term_day</th>\n      <th>uid</th>\n    </tr>\n  </thead>\n  <tbody>\n    <tr>\n      <th>116</th>\n      <td>119</td>\n      <td>smith jr</td>\n      <td>charles</td>\n      <td>1948</td>\n      <td>M202</td>\n      <td>corrections capt</td>\n      <td>AUX</td>\n      <td>1981</td>\n      <td>10</td>\n      <td>28</td>\n      <td>2002</td>\n      <td>04</td>\n      <td>11</td>\n      <td>854e9bbf9f908b776b5004c50eb61712</td>\n    </tr>\n    <tr>\n      <th>795</th>\n      <td>922</td>\n      <td>smith</td>\n      <td>charles</td>\n      <td>1963</td>\n      <td>A101</td>\n      <td>deputy/admin auxillary</td>\n      <td>AUX</td>\n      <td>2017</td>\n      <td>09</td>\n      <td>26</td>\n      <td>2019</td>\n      <td>12</td>\n      <td>18</td>\n      <td>9a8ad62809baf86d2ed47d49543a99d5</td>\n    </tr>\n    <tr>\n      <th>1376</th>\n      <td>1666</td>\n      <td>smith</td>\n      <td>charles</td>\n      <td>1962</td>\n      <td>P101</td>\n      <td>deputy</td>\n      <td>PSAF</td>\n      <td>2006</td>\n      <td>08</td>\n      <td>02</td>\n      <td></td>\n      <td></td>\n      <td></td>\n      <td>ea1566bfddd6ffdb639ae513803e5c04</td>\n    </tr>\n  </tbody>\n</table>\n</div>"
     },
     "metadata": {},
     "execution_count": 3
    }
   ],
   "source": [
    "pprr[(pprr.first_name == 'charles') & (pprr.last_name.str.startswith('smith'))]"
   ]
  },
  {
   "cell_type": "code",
   "execution_count": 4,
   "metadata": {},
   "outputs": [
    {
     "output_type": "stream",
     "name": "stderr",
     "text": [
      "../clean/st_tammany_so_cprr.py:11: FutureWarning: The default value of regex will change from True to False in a future version.\n  df.loc[:, col] = df[col].str.replace(r'(\\d)\\r\\n(\\d)', r'\\1\\2')\\\n"
     ]
    },
    {
     "output_type": "execute_result",
     "data": {
      "text/plain": [
       "                 full_name              incident_date department_code  \\\n",
       "0              Cody Talley                  1/16/2015              36   \n",
       "1             Shawn Barrow                  1/18/2015              20   \n",
       "2          Kendall Twillie                   2/7/2015              20   \n",
       "3             Robert Jones                  2/13/2015              12   \n",
       "4               Ryan Suhre                  2/27/2015              36   \n",
       "..                     ...                        ...             ...   \n",
       "273  Charles \"Chuck\" Smith  11/5,6,8,13,14,15,26/2019              20   \n",
       "274     Jonathan Thornhill                 12/19/2019              34   \n",
       "275        Timothy Scanlan                   1/1/2020              34   \n",
       "276       Alexandria Payne               Oct-Dec 2019              20   \n",
       "277          Edward Briggs                 12/31/2019              20   \n",
       "\n",
       "                                            infraction  first_name  \\\n",
       "0     DR.07:0200.400 - Maintenance and care of Vehi...        cody   \n",
       "1    DR.03:09.970.01 (a) - Job Performance - wanton...       shawn   \n",
       "2    DR.03:09.934.01 - Failure to report - refusal ...     kendall   \n",
       "3    DR.03:09.500.01 - disruptive or abusive behavi...      robert   \n",
       "4    SOP.1100:02.000- Property and Evidence Control...        ryan   \n",
       "..                                                 ...         ...   \n",
       "273  DR.03:09.932.01 Failure to follow supervisor i...     charles   \n",
       "274  DR.03:09.957.01 Willful disregard of Agency ru...    jonathan   \n",
       "275                  DR. 03:09.977.01 Sleeping on duty     timothy   \n",
       "276    DR.03:09.916.01C Unsatifactory work performance  alexandria   \n",
       "277      DR.03:09.931.02 Failure to Act when necessary      edward   \n",
       "\n",
       "    middle_name  last_name  \n",
       "0                   talley  \n",
       "1                   barrow  \n",
       "2                  twillie  \n",
       "3                    jones  \n",
       "4                    suhre  \n",
       "..          ...        ...  \n",
       "273                  smith  \n",
       "274              thornhill  \n",
       "275                scanlan  \n",
       "276                  payne  \n",
       "277                 briggs  \n",
       "\n",
       "[278 rows x 7 columns]"
      ],
      "text/html": "<div>\n<style scoped>\n    .dataframe tbody tr th:only-of-type {\n        vertical-align: middle;\n    }\n\n    .dataframe tbody tr th {\n        vertical-align: top;\n    }\n\n    .dataframe thead th {\n        text-align: right;\n    }\n</style>\n<table border=\"1\" class=\"dataframe\">\n  <thead>\n    <tr style=\"text-align: right;\">\n      <th></th>\n      <th>full_name</th>\n      <th>incident_date</th>\n      <th>department_code</th>\n      <th>infraction</th>\n      <th>first_name</th>\n      <th>middle_name</th>\n      <th>last_name</th>\n    </tr>\n  </thead>\n  <tbody>\n    <tr>\n      <th>0</th>\n      <td>Cody Talley</td>\n      <td>1/16/2015</td>\n      <td>36</td>\n      <td>DR.07:0200.400 - Maintenance and care of Vehi...</td>\n      <td>cody</td>\n      <td></td>\n      <td>talley</td>\n    </tr>\n    <tr>\n      <th>1</th>\n      <td>Shawn Barrow</td>\n      <td>1/18/2015</td>\n      <td>20</td>\n      <td>DR.03:09.970.01 (a) - Job Performance - wanton...</td>\n      <td>shawn</td>\n      <td></td>\n      <td>barrow</td>\n    </tr>\n    <tr>\n      <th>2</th>\n      <td>Kendall Twillie</td>\n      <td>2/7/2015</td>\n      <td>20</td>\n      <td>DR.03:09.934.01 - Failure to report - refusal ...</td>\n      <td>kendall</td>\n      <td></td>\n      <td>twillie</td>\n    </tr>\n    <tr>\n      <th>3</th>\n      <td>Robert Jones</td>\n      <td>2/13/2015</td>\n      <td>12</td>\n      <td>DR.03:09.500.01 - disruptive or abusive behavi...</td>\n      <td>robert</td>\n      <td></td>\n      <td>jones</td>\n    </tr>\n    <tr>\n      <th>4</th>\n      <td>Ryan Suhre</td>\n      <td>2/27/2015</td>\n      <td>36</td>\n      <td>SOP.1100:02.000- Property and Evidence Control...</td>\n      <td>ryan</td>\n      <td></td>\n      <td>suhre</td>\n    </tr>\n    <tr>\n      <th>...</th>\n      <td>...</td>\n      <td>...</td>\n      <td>...</td>\n      <td>...</td>\n      <td>...</td>\n      <td>...</td>\n      <td>...</td>\n    </tr>\n    <tr>\n      <th>273</th>\n      <td>Charles \"Chuck\" Smith</td>\n      <td>11/5,6,8,13,14,15,26/2019</td>\n      <td>20</td>\n      <td>DR.03:09.932.01 Failure to follow supervisor i...</td>\n      <td>charles</td>\n      <td></td>\n      <td>smith</td>\n    </tr>\n    <tr>\n      <th>274</th>\n      <td>Jonathan Thornhill</td>\n      <td>12/19/2019</td>\n      <td>34</td>\n      <td>DR.03:09.957.01 Willful disregard of Agency ru...</td>\n      <td>jonathan</td>\n      <td></td>\n      <td>thornhill</td>\n    </tr>\n    <tr>\n      <th>275</th>\n      <td>Timothy Scanlan</td>\n      <td>1/1/2020</td>\n      <td>34</td>\n      <td>DR. 03:09.977.01 Sleeping on duty</td>\n      <td>timothy</td>\n      <td></td>\n      <td>scanlan</td>\n    </tr>\n    <tr>\n      <th>276</th>\n      <td>Alexandria Payne</td>\n      <td>Oct-Dec 2019</td>\n      <td>20</td>\n      <td>DR.03:09.916.01C Unsatifactory work performance</td>\n      <td>alexandria</td>\n      <td></td>\n      <td>payne</td>\n    </tr>\n    <tr>\n      <th>277</th>\n      <td>Edward Briggs</td>\n      <td>12/31/2019</td>\n      <td>20</td>\n      <td>DR.03:09.931.02 Failure to Act when necessary</td>\n      <td>edward</td>\n      <td></td>\n      <td>briggs</td>\n    </tr>\n  </tbody>\n</table>\n<p>278 rows × 7 columns</p>\n</div>"
     },
     "metadata": {},
     "execution_count": 4
    }
   ],
   "source": [
    "cprr = clean_cprr()\n",
    "cprr"
   ]
  },
  {
   "cell_type": "code",
   "execution_count": 5,
   "metadata": {},
   "outputs": [
    {
     "output_type": "execute_result",
     "data": {
      "text/plain": [
       "   department_code                department_desc\n",
       "15              20                      Jail Fund\n",
       "16              20                Commissary Fund\n",
       "18              20  St. Tammany Parish Government\n",
       "19              20                        Jail K9"
      ],
      "text/html": "<div>\n<style scoped>\n    .dataframe tbody tr th:only-of-type {\n        vertical-align: middle;\n    }\n\n    .dataframe tbody tr th {\n        vertical-align: top;\n    }\n\n    .dataframe thead th {\n        text-align: right;\n    }\n</style>\n<table border=\"1\" class=\"dataframe\">\n  <thead>\n    <tr style=\"text-align: right;\">\n      <th></th>\n      <th>department_code</th>\n      <th>department_desc</th>\n    </tr>\n  </thead>\n  <tbody>\n    <tr>\n      <th>15</th>\n      <td>20</td>\n      <td>Jail Fund</td>\n    </tr>\n    <tr>\n      <th>16</th>\n      <td>20</td>\n      <td>Commissary Fund</td>\n    </tr>\n    <tr>\n      <th>18</th>\n      <td>20</td>\n      <td>St. Tammany Parish Government</td>\n    </tr>\n    <tr>\n      <th>19</th>\n      <td>20</td>\n      <td>Jail K9</td>\n    </tr>\n  </tbody>\n</table>\n</div>"
     },
     "metadata": {},
     "execution_count": 5
    }
   ],
   "source": [
    "depts = clean_depts()\n",
    "depts[depts.department_code.duplicated(keep=False)]"
   ]
  },
  {
   "cell_type": "code",
   "execution_count": 7,
   "metadata": {},
   "outputs": [
    {
     "output_type": "execute_result",
     "data": {
      "text/plain": [
       "array(['36', '20', '12', '10', '18', '15', '17', '28', '07', '26', '34',\n",
       "       '35', '39', '47', '19', '42', '09', '24', '', '37', '22', '29',\n",
       "       '06', '30', '45', '25', '50', '40', '21', '71'], dtype=object)"
      ]
     },
     "metadata": {},
     "execution_count": 7
    }
   ],
   "source": [
    "cprr.department_code.unique()"
   ]
  },
  {
   "cell_type": "code",
   "execution_count": null,
   "metadata": {},
   "outputs": [],
   "source": []
  }
 ]
}
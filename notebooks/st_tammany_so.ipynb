{
 "metadata": {
  "language_info": {
   "codemirror_mode": {
    "name": "ipython",
    "version": 3
   },
   "file_extension": ".py",
   "mimetype": "text/x-python",
   "name": "python",
   "nbconvert_exporter": "python",
   "pygments_lexer": "ipython3",
   "version": "3.8.3-final"
  },
  "orig_nbformat": 2,
  "kernelspec": {
   "name": "python3",
   "display_name": "Python 3.8.3 64-bit ('base': conda)",
   "metadata": {
    "interpreter": {
     "hash": "759d03fc00c4e55187619d7bc1e0b6a3309d14c7c00d43a321634150e05678f8"
    }
   }
  }
 },
 "nbformat": 4,
 "nbformat_minor": 2,
 "cells": [
  {
   "cell_type": "code",
   "execution_count": 1,
   "metadata": {},
   "outputs": [],
   "source": [
    "import sys; sys.path.append(\"../\")\n",
    "import pandas as pd\n",
    "\n",
    "from lib.match import (\n",
    "    ColumnsIndex, JaroWinklerSimilarity, StringSimilarity, DateSimilarity, ThresholdMatcher\n",
    ")\n",
    "from lib.date import combine_date_columns\n",
    "from clean.st_tammany_so_pprr import clean\n",
    "from clean.st_tammany_so_cprr import clean as clean_cprr\n",
    "from match.st_tammany_so import match_cprr, prepare_post_data, match_cprr_and_post"
   ]
  },
  {
   "cell_type": "code",
   "execution_count": 2,
   "metadata": {},
   "outputs": [
    {
     "output_type": "stream",
     "name": "stderr",
     "text": [
      "../lib/clean.py:166: FutureWarning: The default value of regex will change from True to False in a future version.\n  return series.str.strip().str.replace(r\"[^\\w-]+\", \" \").str.replace(r\"\\s+\", \" \")\\\n"
     ]
    },
    {
     "output_type": "execute_result",
     "data": {
      "text/plain": [
       "      employee_id   last_name   first_name birth_year rank_code  \\\n",
       "0               1  divincenti        frank       1923      CG01   \n",
       "1               2      husser        linda       1949      EX04   \n",
       "2               3     jenkins       dickie       1955       MJ3   \n",
       "3               4     ranatza         gary       1964      M101   \n",
       "4               5       kelly       robert       1926      CG01   \n",
       "...           ...         ...          ...        ...       ...   \n",
       "3117        80996       beyer       justin       1974      RESV   \n",
       "3118        80997   barberito  christopher       1990      RESV   \n",
       "3119        80998    scarlato      michael       1980      RESV   \n",
       "3120        80999      rogers        keith       1962      RESV   \n",
       "3121        81000       byers       dustin       1995      RESV   \n",
       "\n",
       "                           rank_desc pay_group hire_year hire_month hire_day  \\\n",
       "0              school crossing guard      PSAF      1984         09       10   \n",
       "1                         consultant       AUX      2010         08       03   \n",
       "2              mj3 corr/comm/crt sec       AUX      1980         11       14   \n",
       "3     lieutenant protective services      PSAF      1996         09       26   \n",
       "4              school crossing guard      PSAF      1994         08       16   \n",
       "...                              ...       ...       ...        ...      ...   \n",
       "3117                reserve deputies       NaN      2020         01       14   \n",
       "3118                reserve deputies       NaN      2020         01       28   \n",
       "3119                reserve deputies       NaN      2020         02       13   \n",
       "3120                reserve deputies       NaN      2020         06       16   \n",
       "3121                reserve deputies       NaN      2020         07       09   \n",
       "\n",
       "     term_year term_month term_day                               uid  \n",
       "0                                   6a22a802ff4f5072bdb2ef289c443e26  \n",
       "1         2016         06       30  af8f11a2cbd55d7e4de29ffaafffbe0d  \n",
       "2         2006         02       03  70e5ff989ccf16676d48d668a08fcbd1  \n",
       "3         2019         12       12  16e8d29524c6e31728c219dba5945aeb  \n",
       "4         2001         10       31  3b029846b7b4037fb1ccf5a41ace73d0  \n",
       "...        ...        ...      ...                               ...  \n",
       "3117                                85f7e3e5d76557cc71dfbb8b84b56731  \n",
       "3118                                892431106b06f986346afabf739f6169  \n",
       "3119                                e937a1d07bbe01d1c467a04e6d985cf6  \n",
       "3120                                84821a28cb1e0cec69382c7ec578f973  \n",
       "3121                                2be0151797b9b0f6b5d4b3c8324a3645  \n",
       "\n",
       "[3122 rows x 14 columns]"
      ],
      "text/html": "<div>\n<style scoped>\n    .dataframe tbody tr th:only-of-type {\n        vertical-align: middle;\n    }\n\n    .dataframe tbody tr th {\n        vertical-align: top;\n    }\n\n    .dataframe thead th {\n        text-align: right;\n    }\n</style>\n<table border=\"1\" class=\"dataframe\">\n  <thead>\n    <tr style=\"text-align: right;\">\n      <th></th>\n      <th>employee_id</th>\n      <th>last_name</th>\n      <th>first_name</th>\n      <th>birth_year</th>\n      <th>rank_code</th>\n      <th>rank_desc</th>\n      <th>pay_group</th>\n      <th>hire_year</th>\n      <th>hire_month</th>\n      <th>hire_day</th>\n      <th>term_year</th>\n      <th>term_month</th>\n      <th>term_day</th>\n      <th>uid</th>\n    </tr>\n  </thead>\n  <tbody>\n    <tr>\n      <th>0</th>\n      <td>1</td>\n      <td>divincenti</td>\n      <td>frank</td>\n      <td>1923</td>\n      <td>CG01</td>\n      <td>school crossing guard</td>\n      <td>PSAF</td>\n      <td>1984</td>\n      <td>09</td>\n      <td>10</td>\n      <td></td>\n      <td></td>\n      <td></td>\n      <td>6a22a802ff4f5072bdb2ef289c443e26</td>\n    </tr>\n    <tr>\n      <th>1</th>\n      <td>2</td>\n      <td>husser</td>\n      <td>linda</td>\n      <td>1949</td>\n      <td>EX04</td>\n      <td>consultant</td>\n      <td>AUX</td>\n      <td>2010</td>\n      <td>08</td>\n      <td>03</td>\n      <td>2016</td>\n      <td>06</td>\n      <td>30</td>\n      <td>af8f11a2cbd55d7e4de29ffaafffbe0d</td>\n    </tr>\n    <tr>\n      <th>2</th>\n      <td>3</td>\n      <td>jenkins</td>\n      <td>dickie</td>\n      <td>1955</td>\n      <td>MJ3</td>\n      <td>mj3 corr/comm/crt sec</td>\n      <td>AUX</td>\n      <td>1980</td>\n      <td>11</td>\n      <td>14</td>\n      <td>2006</td>\n      <td>02</td>\n      <td>03</td>\n      <td>70e5ff989ccf16676d48d668a08fcbd1</td>\n    </tr>\n    <tr>\n      <th>3</th>\n      <td>4</td>\n      <td>ranatza</td>\n      <td>gary</td>\n      <td>1964</td>\n      <td>M101</td>\n      <td>lieutenant protective services</td>\n      <td>PSAF</td>\n      <td>1996</td>\n      <td>09</td>\n      <td>26</td>\n      <td>2019</td>\n      <td>12</td>\n      <td>12</td>\n      <td>16e8d29524c6e31728c219dba5945aeb</td>\n    </tr>\n    <tr>\n      <th>4</th>\n      <td>5</td>\n      <td>kelly</td>\n      <td>robert</td>\n      <td>1926</td>\n      <td>CG01</td>\n      <td>school crossing guard</td>\n      <td>PSAF</td>\n      <td>1994</td>\n      <td>08</td>\n      <td>16</td>\n      <td>2001</td>\n      <td>10</td>\n      <td>31</td>\n      <td>3b029846b7b4037fb1ccf5a41ace73d0</td>\n    </tr>\n    <tr>\n      <th>...</th>\n      <td>...</td>\n      <td>...</td>\n      <td>...</td>\n      <td>...</td>\n      <td>...</td>\n      <td>...</td>\n      <td>...</td>\n      <td>...</td>\n      <td>...</td>\n      <td>...</td>\n      <td>...</td>\n      <td>...</td>\n      <td>...</td>\n      <td>...</td>\n    </tr>\n    <tr>\n      <th>3117</th>\n      <td>80996</td>\n      <td>beyer</td>\n      <td>justin</td>\n      <td>1974</td>\n      <td>RESV</td>\n      <td>reserve deputies</td>\n      <td>NaN</td>\n      <td>2020</td>\n      <td>01</td>\n      <td>14</td>\n      <td></td>\n      <td></td>\n      <td></td>\n      <td>85f7e3e5d76557cc71dfbb8b84b56731</td>\n    </tr>\n    <tr>\n      <th>3118</th>\n      <td>80997</td>\n      <td>barberito</td>\n      <td>christopher</td>\n      <td>1990</td>\n      <td>RESV</td>\n      <td>reserve deputies</td>\n      <td>NaN</td>\n      <td>2020</td>\n      <td>01</td>\n      <td>28</td>\n      <td></td>\n      <td></td>\n      <td></td>\n      <td>892431106b06f986346afabf739f6169</td>\n    </tr>\n    <tr>\n      <th>3119</th>\n      <td>80998</td>\n      <td>scarlato</td>\n      <td>michael</td>\n      <td>1980</td>\n      <td>RESV</td>\n      <td>reserve deputies</td>\n      <td>NaN</td>\n      <td>2020</td>\n      <td>02</td>\n      <td>13</td>\n      <td></td>\n      <td></td>\n      <td></td>\n      <td>e937a1d07bbe01d1c467a04e6d985cf6</td>\n    </tr>\n    <tr>\n      <th>3120</th>\n      <td>80999</td>\n      <td>rogers</td>\n      <td>keith</td>\n      <td>1962</td>\n      <td>RESV</td>\n      <td>reserve deputies</td>\n      <td>NaN</td>\n      <td>2020</td>\n      <td>06</td>\n      <td>16</td>\n      <td></td>\n      <td></td>\n      <td></td>\n      <td>84821a28cb1e0cec69382c7ec578f973</td>\n    </tr>\n    <tr>\n      <th>3121</th>\n      <td>81000</td>\n      <td>byers</td>\n      <td>dustin</td>\n      <td>1995</td>\n      <td>RESV</td>\n      <td>reserve deputies</td>\n      <td>NaN</td>\n      <td>2020</td>\n      <td>07</td>\n      <td>09</td>\n      <td></td>\n      <td></td>\n      <td></td>\n      <td>2be0151797b9b0f6b5d4b3c8324a3645</td>\n    </tr>\n  </tbody>\n</table>\n<p>3122 rows × 14 columns</p>\n</div>"
     },
     "metadata": {},
     "execution_count": 2
    }
   ],
   "source": [
    "pprr = clean()\n",
    "pprr"
   ]
  },
  {
   "cell_type": "code",
   "execution_count": 3,
   "metadata": {},
   "outputs": [
    {
     "output_type": "execute_result",
     "data": {
      "text/plain": [
       "                                                agency last_name first_name  \\\n",
       "uid                                                                           \n",
       "00e1eab0baad6550566abd8df81c5c40  st tammany parish so   tullier       paul   \n",
       "26f859fb158376a3ca411a56d2c05363  st tammany parish so   bennett  georgiana   \n",
       "a3645eb912d70d7395338814a82a77ed  st tammany parish so  pohlmann      dalan   \n",
       "05a5b881f096cd969a099697b95ff3fd  st tammany parish so     sharp        jed   \n",
       "2d57b0e3135a3b223195c615c52a5fc8  st tammany parish so    fandal       tina   \n",
       "...                                                ...       ...        ...   \n",
       "aff4f2a63ba429f9d4afa46440343055  st tammany parish so    morris    phillip   \n",
       "2bb5f1bdcc198b551423720cf507aafd  st tammany parish so   reuther     robert   \n",
       "96c34ff637f32735f979a4724509f388  st tammany parish so     rizan       troy   \n",
       "f65d8183f85ef43ca93accaee175fdbd  st tammany parish so    schaff     austin   \n",
       "88423a89cb4fbd8f1a4ac29a94dda070  st tammany parish so    piwetz     dudley   \n",
       "\n",
       "                                 employment_status level_1_cert_date  \\\n",
       "uid                                                                    \n",
       "00e1eab0baad6550566abd8df81c5c40         full-time        2013-04-23   \n",
       "26f859fb158376a3ca411a56d2c05363         full-time               NaN   \n",
       "a3645eb912d70d7395338814a82a77ed         full-time        2017-11-22   \n",
       "05a5b881f096cd969a099697b95ff3fd         full-time        2004-03-24   \n",
       "2d57b0e3135a3b223195c615c52a5fc8         full-time        2010-03-23   \n",
       "...                                            ...               ...   \n",
       "aff4f2a63ba429f9d4afa46440343055         full-time               NaN   \n",
       "2bb5f1bdcc198b551423720cf507aafd         full-time               NaN   \n",
       "96c34ff637f32735f979a4724509f388         full-time               NaN   \n",
       "f65d8183f85ef43ca93accaee175fdbd         full-time               NaN   \n",
       "88423a89cb4fbd8f1a4ac29a94dda070           reserve               NaN   \n",
       "\n",
       "                                 last_pc_12_qualification_date  \\\n",
       "uid                                                              \n",
       "00e1eab0baad6550566abd8df81c5c40                    2020-11-05   \n",
       "26f859fb158376a3ca411a56d2c05363                    2020-11-05   \n",
       "a3645eb912d70d7395338814a82a77ed                    2020-11-05   \n",
       "05a5b881f096cd969a099697b95ff3fd                    2020-11-05   \n",
       "2d57b0e3135a3b223195c615c52a5fc8                    2020-11-05   \n",
       "...                                                        ...   \n",
       "aff4f2a63ba429f9d4afa46440343055                           NaN   \n",
       "2bb5f1bdcc198b551423720cf507aafd                           NaN   \n",
       "96c34ff637f32735f979a4724509f388                           NaN   \n",
       "f65d8183f85ef43ca93accaee175fdbd                           NaN   \n",
       "88423a89cb4fbd8f1a4ac29a94dda070                           NaN   \n",
       "\n",
       "                                  data_production_year  hire_year  hire_month  \\\n",
       "uid                                                                             \n",
       "00e1eab0baad6550566abd8df81c5c40                  2020     2012.0        10.0   \n",
       "26f859fb158376a3ca411a56d2c05363                  2020     1992.0         4.0   \n",
       "a3645eb912d70d7395338814a82a77ed                  2020     2014.0        11.0   \n",
       "05a5b881f096cd969a099697b95ff3fd                  2020     2001.0         6.0   \n",
       "2d57b0e3135a3b223195c615c52a5fc8                  2020     1996.0         1.0   \n",
       "...                                                ...        ...         ...   \n",
       "aff4f2a63ba429f9d4afa46440343055                  2020     2020.0         4.0   \n",
       "2bb5f1bdcc198b551423720cf507aafd                  2020     2020.0         3.0   \n",
       "96c34ff637f32735f979a4724509f388                  2020     2020.0         4.0   \n",
       "f65d8183f85ef43ca93accaee175fdbd                  2020     2020.0         4.0   \n",
       "88423a89cb4fbd8f1a4ac29a94dda070                  2020     2018.0         7.0   \n",
       "\n",
       "                                  hire_day                               uid  \n",
       "uid                                                                           \n",
       "00e1eab0baad6550566abd8df81c5c40      23.0  00e1eab0baad6550566abd8df81c5c40  \n",
       "26f859fb158376a3ca411a56d2c05363      21.0  26f859fb158376a3ca411a56d2c05363  \n",
       "a3645eb912d70d7395338814a82a77ed      10.0  a3645eb912d70d7395338814a82a77ed  \n",
       "05a5b881f096cd969a099697b95ff3fd       4.0  05a5b881f096cd969a099697b95ff3fd  \n",
       "2d57b0e3135a3b223195c615c52a5fc8      19.0  2d57b0e3135a3b223195c615c52a5fc8  \n",
       "...                                    ...                               ...  \n",
       "aff4f2a63ba429f9d4afa46440343055       2.0  aff4f2a63ba429f9d4afa46440343055  \n",
       "2bb5f1bdcc198b551423720cf507aafd      11.0  2bb5f1bdcc198b551423720cf507aafd  \n",
       "96c34ff637f32735f979a4724509f388      22.0  96c34ff637f32735f979a4724509f388  \n",
       "f65d8183f85ef43ca93accaee175fdbd      22.0  f65d8183f85ef43ca93accaee175fdbd  \n",
       "88423a89cb4fbd8f1a4ac29a94dda070      25.0  88423a89cb4fbd8f1a4ac29a94dda070  \n",
       "\n",
       "[554 rows x 11 columns]"
      ],
      "text/html": "<div>\n<style scoped>\n    .dataframe tbody tr th:only-of-type {\n        vertical-align: middle;\n    }\n\n    .dataframe tbody tr th {\n        vertical-align: top;\n    }\n\n    .dataframe thead th {\n        text-align: right;\n    }\n</style>\n<table border=\"1\" class=\"dataframe\">\n  <thead>\n    <tr style=\"text-align: right;\">\n      <th></th>\n      <th>agency</th>\n      <th>last_name</th>\n      <th>first_name</th>\n      <th>employment_status</th>\n      <th>level_1_cert_date</th>\n      <th>last_pc_12_qualification_date</th>\n      <th>data_production_year</th>\n      <th>hire_year</th>\n      <th>hire_month</th>\n      <th>hire_day</th>\n      <th>uid</th>\n    </tr>\n    <tr>\n      <th>uid</th>\n      <th></th>\n      <th></th>\n      <th></th>\n      <th></th>\n      <th></th>\n      <th></th>\n      <th></th>\n      <th></th>\n      <th></th>\n      <th></th>\n      <th></th>\n    </tr>\n  </thead>\n  <tbody>\n    <tr>\n      <th>00e1eab0baad6550566abd8df81c5c40</th>\n      <td>st tammany parish so</td>\n      <td>tullier</td>\n      <td>paul</td>\n      <td>full-time</td>\n      <td>2013-04-23</td>\n      <td>2020-11-05</td>\n      <td>2020</td>\n      <td>2012.0</td>\n      <td>10.0</td>\n      <td>23.0</td>\n      <td>00e1eab0baad6550566abd8df81c5c40</td>\n    </tr>\n    <tr>\n      <th>26f859fb158376a3ca411a56d2c05363</th>\n      <td>st tammany parish so</td>\n      <td>bennett</td>\n      <td>georgiana</td>\n      <td>full-time</td>\n      <td>NaN</td>\n      <td>2020-11-05</td>\n      <td>2020</td>\n      <td>1992.0</td>\n      <td>4.0</td>\n      <td>21.0</td>\n      <td>26f859fb158376a3ca411a56d2c05363</td>\n    </tr>\n    <tr>\n      <th>a3645eb912d70d7395338814a82a77ed</th>\n      <td>st tammany parish so</td>\n      <td>pohlmann</td>\n      <td>dalan</td>\n      <td>full-time</td>\n      <td>2017-11-22</td>\n      <td>2020-11-05</td>\n      <td>2020</td>\n      <td>2014.0</td>\n      <td>11.0</td>\n      <td>10.0</td>\n      <td>a3645eb912d70d7395338814a82a77ed</td>\n    </tr>\n    <tr>\n      <th>05a5b881f096cd969a099697b95ff3fd</th>\n      <td>st tammany parish so</td>\n      <td>sharp</td>\n      <td>jed</td>\n      <td>full-time</td>\n      <td>2004-03-24</td>\n      <td>2020-11-05</td>\n      <td>2020</td>\n      <td>2001.0</td>\n      <td>6.0</td>\n      <td>4.0</td>\n      <td>05a5b881f096cd969a099697b95ff3fd</td>\n    </tr>\n    <tr>\n      <th>2d57b0e3135a3b223195c615c52a5fc8</th>\n      <td>st tammany parish so</td>\n      <td>fandal</td>\n      <td>tina</td>\n      <td>full-time</td>\n      <td>2010-03-23</td>\n      <td>2020-11-05</td>\n      <td>2020</td>\n      <td>1996.0</td>\n      <td>1.0</td>\n      <td>19.0</td>\n      <td>2d57b0e3135a3b223195c615c52a5fc8</td>\n    </tr>\n    <tr>\n      <th>...</th>\n      <td>...</td>\n      <td>...</td>\n      <td>...</td>\n      <td>...</td>\n      <td>...</td>\n      <td>...</td>\n      <td>...</td>\n      <td>...</td>\n      <td>...</td>\n      <td>...</td>\n      <td>...</td>\n    </tr>\n    <tr>\n      <th>aff4f2a63ba429f9d4afa46440343055</th>\n      <td>st tammany parish so</td>\n      <td>morris</td>\n      <td>phillip</td>\n      <td>full-time</td>\n      <td>NaN</td>\n      <td>NaN</td>\n      <td>2020</td>\n      <td>2020.0</td>\n      <td>4.0</td>\n      <td>2.0</td>\n      <td>aff4f2a63ba429f9d4afa46440343055</td>\n    </tr>\n    <tr>\n      <th>2bb5f1bdcc198b551423720cf507aafd</th>\n      <td>st tammany parish so</td>\n      <td>reuther</td>\n      <td>robert</td>\n      <td>full-time</td>\n      <td>NaN</td>\n      <td>NaN</td>\n      <td>2020</td>\n      <td>2020.0</td>\n      <td>3.0</td>\n      <td>11.0</td>\n      <td>2bb5f1bdcc198b551423720cf507aafd</td>\n    </tr>\n    <tr>\n      <th>96c34ff637f32735f979a4724509f388</th>\n      <td>st tammany parish so</td>\n      <td>rizan</td>\n      <td>troy</td>\n      <td>full-time</td>\n      <td>NaN</td>\n      <td>NaN</td>\n      <td>2020</td>\n      <td>2020.0</td>\n      <td>4.0</td>\n      <td>22.0</td>\n      <td>96c34ff637f32735f979a4724509f388</td>\n    </tr>\n    <tr>\n      <th>f65d8183f85ef43ca93accaee175fdbd</th>\n      <td>st tammany parish so</td>\n      <td>schaff</td>\n      <td>austin</td>\n      <td>full-time</td>\n      <td>NaN</td>\n      <td>NaN</td>\n      <td>2020</td>\n      <td>2020.0</td>\n      <td>4.0</td>\n      <td>22.0</td>\n      <td>f65d8183f85ef43ca93accaee175fdbd</td>\n    </tr>\n    <tr>\n      <th>88423a89cb4fbd8f1a4ac29a94dda070</th>\n      <td>st tammany parish so</td>\n      <td>piwetz</td>\n      <td>dudley</td>\n      <td>reserve</td>\n      <td>NaN</td>\n      <td>NaN</td>\n      <td>2020</td>\n      <td>2018.0</td>\n      <td>7.0</td>\n      <td>25.0</td>\n      <td>88423a89cb4fbd8f1a4ac29a94dda070</td>\n    </tr>\n  </tbody>\n</table>\n<p>554 rows × 11 columns</p>\n</div>"
     },
     "metadata": {},
     "execution_count": 3
    }
   ],
   "source": [
    "post = prepare_post_data()\n",
    "post"
   ]
  },
  {
   "cell_type": "code",
   "execution_count": 4,
   "metadata": {},
   "outputs": [
    {
     "output_type": "stream",
     "name": "stderr",
     "text": [
      "../clean/st_tammany_so_cprr.py:12: FutureWarning: The default value of regex will change from True to False in a future version.\n  df.loc[:, col] = df[col].str.replace(r'(\\d)\\r\\n(\\d)', r'\\1\\2')\\\n../lib/clean.py:166: FutureWarning: The default value of regex will change from True to False in a future version.\n  return series.str.strip().str.replace(r\"[^\\w-]+\", \" \").str.replace(r\"\\s+\", \" \")\\\n../clean/st_tammany_so_cprr.py:28: FutureWarning: The default value of regex will change from True to False in a future version.\n  dept_df.loc[:, 'loc'] = dept_df.loc[:, 'loc'].str.replace(r'\\*$', '')\n../clean/st_tammany_so_cprr.py:39: FutureWarning: The default value of regex will change from True to False in a future version.\n  df.loc[:, 'occur_year'] = df.raw_occur_date.fillna(\n"
     ]
    },
    {
     "output_type": "execute_result",
     "data": {
      "text/plain": [
       "                raw_occur_date department_code  \\\n",
       "0                    1/16/2015              36   \n",
       "1                    1/18/2015              20   \n",
       "2                     2/7/2015              20   \n",
       "3                    2/13/2015              12   \n",
       "4                    2/27/2015              36   \n",
       "..                         ...             ...   \n",
       "273  11/5,6,8,13,14,15,26/2019              20   \n",
       "274                 12/19/2019              34   \n",
       "275                   1/1/2020              34   \n",
       "276               Oct-Dec 2019              20   \n",
       "277                 12/31/2019              20   \n",
       "\n",
       "                                               charges  first_name  \\\n",
       "0     DR.07:0200.400 - Maintenance and care of Vehi...        cody   \n",
       "1    DR.03:09.970.01 (a) - Job Performance - wanton...       shawn   \n",
       "2    DR.03:09.934.01 - Failure to report - refusal ...     kendall   \n",
       "3    DR.03:09.500.01 - disruptive or abusive behavi...      robert   \n",
       "4    SOP.1100:02.000- Property and Evidence Control...        ryan   \n",
       "..                                                 ...         ...   \n",
       "273  DR.03:09.932.01 Failure to follow supervisor i...     charles   \n",
       "274  DR.03:09.957.01 Willful disregard of Agency ru...    jonathan   \n",
       "275                  DR. 03:09.977.01 Sleeping on duty     timothy   \n",
       "276    DR.03:09.916.01C Unsatifactory work performance  alexandria   \n",
       "277      DR.03:09.931.02 Failure to Act when necessary      edward   \n",
       "\n",
       "    middle_name  last_name          department_desc occur_year occur_month  \\\n",
       "0                   talley          Criminal Patrol       2015           1   \n",
       "1                   barrow  St. Tammany Parish Jail       2015           1   \n",
       "2                  twillie  St. Tammany Parish Jail       2015           2   \n",
       "3                    jones           Court Security       2015           2   \n",
       "4                    suhre          Criminal Patrol       2015           2   \n",
       "..          ...        ...                      ...        ...         ...   \n",
       "273                  smith  St. Tammany Parish Jail       2019         NaN   \n",
       "274              thornhill          Criminal Patrol       2019          12   \n",
       "275                scanlan          Criminal Patrol       2020           1   \n",
       "276                  payne  St. Tammany Parish Jail       2019         NaN   \n",
       "277                 briggs  St. Tammany Parish Jail       2019          12   \n",
       "\n",
       "    occur_day          agency  data_production_year  \\\n",
       "0          16  St. Tammany SO                  2019   \n",
       "1          18  St. Tammany SO                  2019   \n",
       "2           7  St. Tammany SO                  2019   \n",
       "3          13  St. Tammany SO                  2019   \n",
       "4          27  St. Tammany SO                  2019   \n",
       "..        ...             ...                   ...   \n",
       "273       NaN  St. Tammany SO                  2019   \n",
       "274        19  St. Tammany SO                  2019   \n",
       "275         1  St. Tammany SO                  2019   \n",
       "276       NaN  St. Tammany SO                  2019   \n",
       "277        31  St. Tammany SO                  2019   \n",
       "\n",
       "                                  uid                     complaint_uid  \n",
       "0    703204a95f12a52f3c782d450a41813d  078bd22ddd94d4b991e6d768800944f4  \n",
       "1    9e74be39b860aff9b3c14edd764a9ac2  21e15fe83936ad07328d152fad87346d  \n",
       "2    00711b033c1b668f21bc65ecc48d8797  392dce325c8cb572f4ec068ea8cd8abe  \n",
       "3    d096442b876232add846ec2636c31e98  6c95c979806a914b9a8964e236eebe26  \n",
       "4    a0b2227cb977f432c3ca3103e5fdee06  cd88d9b429a9ea9fb488ba534592abba  \n",
       "..                                ...                               ...  \n",
       "273  6313b37cedc742b0ba20f1de5165401e  722e688cc9fcae3abf92fe69b0d0ec44  \n",
       "274  62aac7a19b72499e45cf88b606fe9820  aa17777916de576025281de3a811ee8e  \n",
       "275  1dfc9ef8d18f61fc578df45681503313  fe847e10e93eb99c1c3510c72ba0cfc9  \n",
       "276  81e28636c9ea5f88265d8be7faea268b  290e53ef6df3dc61b5c92e9df990784d  \n",
       "277  7bc2689939e772d5e0831e53a91f8584  1f135947d7852a20f22dae06c4cc5ba4  \n",
       "\n",
       "[278 rows x 14 columns]"
      ],
      "text/html": "<div>\n<style scoped>\n    .dataframe tbody tr th:only-of-type {\n        vertical-align: middle;\n    }\n\n    .dataframe tbody tr th {\n        vertical-align: top;\n    }\n\n    .dataframe thead th {\n        text-align: right;\n    }\n</style>\n<table border=\"1\" class=\"dataframe\">\n  <thead>\n    <tr style=\"text-align: right;\">\n      <th></th>\n      <th>raw_occur_date</th>\n      <th>department_code</th>\n      <th>charges</th>\n      <th>first_name</th>\n      <th>middle_name</th>\n      <th>last_name</th>\n      <th>department_desc</th>\n      <th>occur_year</th>\n      <th>occur_month</th>\n      <th>occur_day</th>\n      <th>agency</th>\n      <th>data_production_year</th>\n      <th>uid</th>\n      <th>complaint_uid</th>\n    </tr>\n  </thead>\n  <tbody>\n    <tr>\n      <th>0</th>\n      <td>1/16/2015</td>\n      <td>36</td>\n      <td>DR.07:0200.400 - Maintenance and care of Vehi...</td>\n      <td>cody</td>\n      <td></td>\n      <td>talley</td>\n      <td>Criminal Patrol</td>\n      <td>2015</td>\n      <td>1</td>\n      <td>16</td>\n      <td>St. Tammany SO</td>\n      <td>2019</td>\n      <td>703204a95f12a52f3c782d450a41813d</td>\n      <td>078bd22ddd94d4b991e6d768800944f4</td>\n    </tr>\n    <tr>\n      <th>1</th>\n      <td>1/18/2015</td>\n      <td>20</td>\n      <td>DR.03:09.970.01 (a) - Job Performance - wanton...</td>\n      <td>shawn</td>\n      <td></td>\n      <td>barrow</td>\n      <td>St. Tammany Parish Jail</td>\n      <td>2015</td>\n      <td>1</td>\n      <td>18</td>\n      <td>St. Tammany SO</td>\n      <td>2019</td>\n      <td>9e74be39b860aff9b3c14edd764a9ac2</td>\n      <td>21e15fe83936ad07328d152fad87346d</td>\n    </tr>\n    <tr>\n      <th>2</th>\n      <td>2/7/2015</td>\n      <td>20</td>\n      <td>DR.03:09.934.01 - Failure to report - refusal ...</td>\n      <td>kendall</td>\n      <td></td>\n      <td>twillie</td>\n      <td>St. Tammany Parish Jail</td>\n      <td>2015</td>\n      <td>2</td>\n      <td>7</td>\n      <td>St. Tammany SO</td>\n      <td>2019</td>\n      <td>00711b033c1b668f21bc65ecc48d8797</td>\n      <td>392dce325c8cb572f4ec068ea8cd8abe</td>\n    </tr>\n    <tr>\n      <th>3</th>\n      <td>2/13/2015</td>\n      <td>12</td>\n      <td>DR.03:09.500.01 - disruptive or abusive behavi...</td>\n      <td>robert</td>\n      <td></td>\n      <td>jones</td>\n      <td>Court Security</td>\n      <td>2015</td>\n      <td>2</td>\n      <td>13</td>\n      <td>St. Tammany SO</td>\n      <td>2019</td>\n      <td>d096442b876232add846ec2636c31e98</td>\n      <td>6c95c979806a914b9a8964e236eebe26</td>\n    </tr>\n    <tr>\n      <th>4</th>\n      <td>2/27/2015</td>\n      <td>36</td>\n      <td>SOP.1100:02.000- Property and Evidence Control...</td>\n      <td>ryan</td>\n      <td></td>\n      <td>suhre</td>\n      <td>Criminal Patrol</td>\n      <td>2015</td>\n      <td>2</td>\n      <td>27</td>\n      <td>St. Tammany SO</td>\n      <td>2019</td>\n      <td>a0b2227cb977f432c3ca3103e5fdee06</td>\n      <td>cd88d9b429a9ea9fb488ba534592abba</td>\n    </tr>\n    <tr>\n      <th>...</th>\n      <td>...</td>\n      <td>...</td>\n      <td>...</td>\n      <td>...</td>\n      <td>...</td>\n      <td>...</td>\n      <td>...</td>\n      <td>...</td>\n      <td>...</td>\n      <td>...</td>\n      <td>...</td>\n      <td>...</td>\n      <td>...</td>\n      <td>...</td>\n    </tr>\n    <tr>\n      <th>273</th>\n      <td>11/5,6,8,13,14,15,26/2019</td>\n      <td>20</td>\n      <td>DR.03:09.932.01 Failure to follow supervisor i...</td>\n      <td>charles</td>\n      <td></td>\n      <td>smith</td>\n      <td>St. Tammany Parish Jail</td>\n      <td>2019</td>\n      <td>NaN</td>\n      <td>NaN</td>\n      <td>St. Tammany SO</td>\n      <td>2019</td>\n      <td>6313b37cedc742b0ba20f1de5165401e</td>\n      <td>722e688cc9fcae3abf92fe69b0d0ec44</td>\n    </tr>\n    <tr>\n      <th>274</th>\n      <td>12/19/2019</td>\n      <td>34</td>\n      <td>DR.03:09.957.01 Willful disregard of Agency ru...</td>\n      <td>jonathan</td>\n      <td></td>\n      <td>thornhill</td>\n      <td>Criminal Patrol</td>\n      <td>2019</td>\n      <td>12</td>\n      <td>19</td>\n      <td>St. Tammany SO</td>\n      <td>2019</td>\n      <td>62aac7a19b72499e45cf88b606fe9820</td>\n      <td>aa17777916de576025281de3a811ee8e</td>\n    </tr>\n    <tr>\n      <th>275</th>\n      <td>1/1/2020</td>\n      <td>34</td>\n      <td>DR. 03:09.977.01 Sleeping on duty</td>\n      <td>timothy</td>\n      <td></td>\n      <td>scanlan</td>\n      <td>Criminal Patrol</td>\n      <td>2020</td>\n      <td>1</td>\n      <td>1</td>\n      <td>St. Tammany SO</td>\n      <td>2019</td>\n      <td>1dfc9ef8d18f61fc578df45681503313</td>\n      <td>fe847e10e93eb99c1c3510c72ba0cfc9</td>\n    </tr>\n    <tr>\n      <th>276</th>\n      <td>Oct-Dec 2019</td>\n      <td>20</td>\n      <td>DR.03:09.916.01C Unsatifactory work performance</td>\n      <td>alexandria</td>\n      <td></td>\n      <td>payne</td>\n      <td>St. Tammany Parish Jail</td>\n      <td>2019</td>\n      <td>NaN</td>\n      <td>NaN</td>\n      <td>St. Tammany SO</td>\n      <td>2019</td>\n      <td>81e28636c9ea5f88265d8be7faea268b</td>\n      <td>290e53ef6df3dc61b5c92e9df990784d</td>\n    </tr>\n    <tr>\n      <th>277</th>\n      <td>12/31/2019</td>\n      <td>20</td>\n      <td>DR.03:09.931.02 Failure to Act when necessary</td>\n      <td>edward</td>\n      <td></td>\n      <td>briggs</td>\n      <td>St. Tammany Parish Jail</td>\n      <td>2019</td>\n      <td>12</td>\n      <td>31</td>\n      <td>St. Tammany SO</td>\n      <td>2019</td>\n      <td>7bc2689939e772d5e0831e53a91f8584</td>\n      <td>1f135947d7852a20f22dae06c4cc5ba4</td>\n    </tr>\n  </tbody>\n</table>\n<p>278 rows × 14 columns</p>\n</div>"
     },
     "metadata": {},
     "execution_count": 4
    }
   ],
   "source": [
    "cprr = clean_cprr()\n",
    "cprr"
   ]
  },
  {
   "cell_type": "code",
   "execution_count": 8,
   "metadata": {},
   "outputs": [
    {
     "output_type": "execute_result",
     "data": {
      "text/plain": [
       "Empty DataFrame\n",
       "Columns: [raw_occur_date, department_code, charges, first_name, middle_name, last_name, department_desc, occur_year, occur_month, occur_day, agency, data_production_year, uid, complaint_uid]\n",
       "Index: []"
      ],
      "text/html": "<div>\n<style scoped>\n    .dataframe tbody tr th:only-of-type {\n        vertical-align: middle;\n    }\n\n    .dataframe tbody tr th {\n        vertical-align: top;\n    }\n\n    .dataframe thead th {\n        text-align: right;\n    }\n</style>\n<table border=\"1\" class=\"dataframe\">\n  <thead>\n    <tr style=\"text-align: right;\">\n      <th></th>\n      <th>raw_occur_date</th>\n      <th>department_code</th>\n      <th>charges</th>\n      <th>first_name</th>\n      <th>middle_name</th>\n      <th>last_name</th>\n      <th>department_desc</th>\n      <th>occur_year</th>\n      <th>occur_month</th>\n      <th>occur_day</th>\n      <th>agency</th>\n      <th>data_production_year</th>\n      <th>uid</th>\n      <th>complaint_uid</th>\n    </tr>\n  </thead>\n  <tbody>\n  </tbody>\n</table>\n</div>"
     },
     "metadata": {},
     "execution_count": 8
    }
   ],
   "source": [
    "cprr[cprr.duplicated(subset=['complaint_uid', 'charges'])]"
   ]
  },
  {
   "cell_type": "code",
   "execution_count": null,
   "metadata": {},
   "outputs": [],
   "source": []
  }
 ]
}
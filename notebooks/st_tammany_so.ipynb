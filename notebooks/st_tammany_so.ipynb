{
 "metadata": {
  "language_info": {
   "codemirror_mode": {
    "name": "ipython",
    "version": 3
   },
   "file_extension": ".py",
   "mimetype": "text/x-python",
   "name": "python",
   "nbconvert_exporter": "python",
   "pygments_lexer": "ipython3",
   "version": "3.8.3"
  },
  "orig_nbformat": 2,
  "kernelspec": {
   "name": "python383jvsc74a57bd0759d03fc00c4e55187619d7bc1e0b6a3309d14c7c00d43a321634150e05678f8",
   "display_name": "Python 3.8.3 64-bit ('base': conda)"
  }
 },
 "nbformat": 4,
 "nbformat_minor": 2,
 "cells": [
  {
   "cell_type": "code",
   "execution_count": 1,
   "metadata": {},
   "outputs": [],
   "source": [
    "import sys; sys.path.append(\"../\")\n",
    "import pandas as pd\n",
    "\n",
    "from lib.match import (\n",
    "    ColumnsIndex, JaroWinklerSimilarity, StringSimilarity, DateSimilarity, ThresholdMatcher\n",
    ")\n",
    "from lib.date import combine_date_columns\n",
    "from clean.st_tammany_so_pprr import clean\n",
    "from clean.st_tammany_so_cprr import clean as clean_cprr\n",
    "from match.st_tammany_so import match_cprr, prepare_post_data, match_cprr_and_post"
   ]
  },
  {
   "cell_type": "code",
   "execution_count": 2,
   "metadata": {},
   "outputs": [
    {
     "output_type": "stream",
     "name": "stderr",
     "text": [
      "../clean/st_tammany_so_cprr.py:28: FutureWarning: The default value of regex will change from True to False in a future version.\n  dept_df.loc[:, 'loc'] = dept_df.loc[:, 'loc'].str.replace(r'\\*$', '')\n../clean/st_tammany_so_cprr.py:39: FutureWarning: The default value of regex will change from True to False in a future version.\n  df.loc[:, 'occur_year'] = df.occur_raw_date.fillna(\n../clean/st_tammany_so_cprr.py:60: FutureWarning: The default value of regex will change from True to False in a future version.\n  df.loc[:, 'charges'] = df.charges.str.replace(r'(\\n|\\r)\\s*', ' ')\n"
     ]
    },
    {
     "output_type": "execute_result",
     "data": {
      "text/plain": [
       "    occur_raw_date department_code  \\\n",
       "0        4/22/2011              15   \n",
       "1       12/10/2011              20   \n",
       "2       12/15/2011              35   \n",
       "3       12/20/2011              40   \n",
       "4        1/23/2012              20   \n",
       "..             ...             ...   \n",
       "545      2/22/2021             NaN   \n",
       "546       2/4/2021             NaN   \n",
       "547      5/31/2020             NaN   \n",
       "548      1/28/2021             NaN   \n",
       "549       1/1/2020             NaN   \n",
       "\n",
       "                                               charges   first_name  \\\n",
       "0       Group 2 - DR.03:09.932 b - 24 hours suspension  christopher   \n",
       "1                  Violation of Rules/Policy - Warning      jessica   \n",
       "2    Physical Fitness Program - DR.04:02.040 - 16 h...        jason   \n",
       "3    Physical Fitness Program - DR.04:02.040 - 16 h...       rachel   \n",
       "4    Group 2- DR.03:09.032 a. - Insubordination - f...       billie   \n",
       "..                                                 ...          ...   \n",
       "545  DR.03:09.916.01 B - Inadequate or unsatifactor...      shannon   \n",
       "546  Group 2- DR.03:09.032 a. - Insubordination - f...       stacey   \n",
       "547  DR.03:09.933.01 insulting language or conduct ...       taylor   \n",
       "548  DR.03:09.931.01  Group 2 Fialure to Act © Fail...       thomas   \n",
       "549                  DR. 03:09.977.01 Sleeping on duty      timothy   \n",
       "\n",
       "    middle_name last_name          department_desc occur_year occur_month  \\\n",
       "0                  harmon                    Civil       2011           4   \n",
       "1                   roden  St. Tammany Parish Jail       2011          12   \n",
       "2                   felts          Criminal Patrol       2011          12   \n",
       "3                   smith               Detectives       2011          12   \n",
       "4                  anglin  St. Tammany Parish Jail       2012           1   \n",
       "..          ...       ...                      ...        ...         ...   \n",
       "545              steadman                                2021           2   \n",
       "546               griffin                                2021           2   \n",
       "547                 poche                                2020           5   \n",
       "548              williams                                2021           1   \n",
       "549               scanlan                                2020           1   \n",
       "\n",
       "    occur_day          agency  data_production_year middle_initial  \\\n",
       "0          22  St. Tammany SO                  2021                  \n",
       "1          10  St. Tammany SO                  2021                  \n",
       "2          15  St. Tammany SO                  2021                  \n",
       "3          20  St. Tammany SO                  2021                  \n",
       "4          23  St. Tammany SO                  2021                  \n",
       "..        ...             ...                   ...            ...   \n",
       "545        22  St. Tammany SO                  2021                  \n",
       "546         4  St. Tammany SO                  2021                  \n",
       "547        31  St. Tammany SO                  2021                  \n",
       "548        28  St. Tammany SO                  2021                  \n",
       "549         1  St. Tammany SO                  2021                  \n",
       "\n",
       "                                  uid                        charge_uid  \\\n",
       "0    db6bfd6d4be2ef1732ceef26f3585769  618156efef4bf9f21b39b57081d66e38   \n",
       "1    e172d3efd739eb25262855d2a860977f  479189a44ce7afd44eb2a07fce4a14e0   \n",
       "2    805b870f51997cc3ede1ea3a94b6af27  7fd3e59653be2ce49afb89524ded5962   \n",
       "3    d0c150ea7cd3f0237edcf4b3a94bfe4f  990ac25736dc2ca1b0f3b2e17659d9d3   \n",
       "4    02c998d88b43a4939e4f3e2fbf963680  ef3aa8a3f677b2e226825533b825e4f0   \n",
       "..                                ...                               ...   \n",
       "545  6ae3fc00af46b26b62c50e9167f9c64e  938a0bb9f00279de1050ec680290bd1d   \n",
       "546  f917aafa619588d84993d64a743e8164  c4cc551cbb8a3ed21811d797902b09ad   \n",
       "547  a60381f1718a08b9c232607559f31ebf  ee78ac111cc4887bee4e597adcc37f66   \n",
       "548  a99564b4d94fd5ed653f220c14313a27  5864841ecbd193170b2fbade4ae5be06   \n",
       "549  1dfc9ef8d18f61fc578df45681503313  d65813128010f520a8ee65fa5eca0d24   \n",
       "\n",
       "                        complaint_uid  \n",
       "0    76466707be3b7af6bc531555ed7d0324  \n",
       "1    003d76e69c7a61e58acd63b8a9a8f228  \n",
       "2    32a288161f80fbb6badb824727251a15  \n",
       "3    148f419bf37c7eb413e91ac4dc4b5288  \n",
       "4    bee6caa28e4d053aa482cdfac99f2f73  \n",
       "..                                ...  \n",
       "545  4565307267bdc07c99c0a805041c0c43  \n",
       "546  69c1c83b99fb350bd66c0edfd9e4285f  \n",
       "547  6d58c631f65a3ee0f34bd6f9711420e9  \n",
       "548  c6ba6c8391492755e14c488c8b6f2f2c  \n",
       "549  c145166c2b7a21edc7e8efdb03a9a623  \n",
       "\n",
       "[550 rows x 16 columns]"
      ],
      "text/html": "<div>\n<style scoped>\n    .dataframe tbody tr th:only-of-type {\n        vertical-align: middle;\n    }\n\n    .dataframe tbody tr th {\n        vertical-align: top;\n    }\n\n    .dataframe thead th {\n        text-align: right;\n    }\n</style>\n<table border=\"1\" class=\"dataframe\">\n  <thead>\n    <tr style=\"text-align: right;\">\n      <th></th>\n      <th>occur_raw_date</th>\n      <th>department_code</th>\n      <th>charges</th>\n      <th>first_name</th>\n      <th>middle_name</th>\n      <th>last_name</th>\n      <th>department_desc</th>\n      <th>occur_year</th>\n      <th>occur_month</th>\n      <th>occur_day</th>\n      <th>agency</th>\n      <th>data_production_year</th>\n      <th>middle_initial</th>\n      <th>uid</th>\n      <th>charge_uid</th>\n      <th>complaint_uid</th>\n    </tr>\n  </thead>\n  <tbody>\n    <tr>\n      <th>0</th>\n      <td>4/22/2011</td>\n      <td>15</td>\n      <td>Group 2 - DR.03:09.932 b - 24 hours suspension</td>\n      <td>christopher</td>\n      <td></td>\n      <td>harmon</td>\n      <td>Civil</td>\n      <td>2011</td>\n      <td>4</td>\n      <td>22</td>\n      <td>St. Tammany SO</td>\n      <td>2021</td>\n      <td></td>\n      <td>db6bfd6d4be2ef1732ceef26f3585769</td>\n      <td>618156efef4bf9f21b39b57081d66e38</td>\n      <td>76466707be3b7af6bc531555ed7d0324</td>\n    </tr>\n    <tr>\n      <th>1</th>\n      <td>12/10/2011</td>\n      <td>20</td>\n      <td>Violation of Rules/Policy - Warning</td>\n      <td>jessica</td>\n      <td></td>\n      <td>roden</td>\n      <td>St. Tammany Parish Jail</td>\n      <td>2011</td>\n      <td>12</td>\n      <td>10</td>\n      <td>St. Tammany SO</td>\n      <td>2021</td>\n      <td></td>\n      <td>e172d3efd739eb25262855d2a860977f</td>\n      <td>479189a44ce7afd44eb2a07fce4a14e0</td>\n      <td>003d76e69c7a61e58acd63b8a9a8f228</td>\n    </tr>\n    <tr>\n      <th>2</th>\n      <td>12/15/2011</td>\n      <td>35</td>\n      <td>Physical Fitness Program - DR.04:02.040 - 16 h...</td>\n      <td>jason</td>\n      <td></td>\n      <td>felts</td>\n      <td>Criminal Patrol</td>\n      <td>2011</td>\n      <td>12</td>\n      <td>15</td>\n      <td>St. Tammany SO</td>\n      <td>2021</td>\n      <td></td>\n      <td>805b870f51997cc3ede1ea3a94b6af27</td>\n      <td>7fd3e59653be2ce49afb89524ded5962</td>\n      <td>32a288161f80fbb6badb824727251a15</td>\n    </tr>\n    <tr>\n      <th>3</th>\n      <td>12/20/2011</td>\n      <td>40</td>\n      <td>Physical Fitness Program - DR.04:02.040 - 16 h...</td>\n      <td>rachel</td>\n      <td></td>\n      <td>smith</td>\n      <td>Detectives</td>\n      <td>2011</td>\n      <td>12</td>\n      <td>20</td>\n      <td>St. Tammany SO</td>\n      <td>2021</td>\n      <td></td>\n      <td>d0c150ea7cd3f0237edcf4b3a94bfe4f</td>\n      <td>990ac25736dc2ca1b0f3b2e17659d9d3</td>\n      <td>148f419bf37c7eb413e91ac4dc4b5288</td>\n    </tr>\n    <tr>\n      <th>4</th>\n      <td>1/23/2012</td>\n      <td>20</td>\n      <td>Group 2- DR.03:09.032 a. - Insubordination - f...</td>\n      <td>billie</td>\n      <td></td>\n      <td>anglin</td>\n      <td>St. Tammany Parish Jail</td>\n      <td>2012</td>\n      <td>1</td>\n      <td>23</td>\n      <td>St. Tammany SO</td>\n      <td>2021</td>\n      <td></td>\n      <td>02c998d88b43a4939e4f3e2fbf963680</td>\n      <td>ef3aa8a3f677b2e226825533b825e4f0</td>\n      <td>bee6caa28e4d053aa482cdfac99f2f73</td>\n    </tr>\n    <tr>\n      <th>...</th>\n      <td>...</td>\n      <td>...</td>\n      <td>...</td>\n      <td>...</td>\n      <td>...</td>\n      <td>...</td>\n      <td>...</td>\n      <td>...</td>\n      <td>...</td>\n      <td>...</td>\n      <td>...</td>\n      <td>...</td>\n      <td>...</td>\n      <td>...</td>\n      <td>...</td>\n      <td>...</td>\n    </tr>\n    <tr>\n      <th>545</th>\n      <td>2/22/2021</td>\n      <td>NaN</td>\n      <td>DR.03:09.916.01 B - Inadequate or unsatifactor...</td>\n      <td>shannon</td>\n      <td></td>\n      <td>steadman</td>\n      <td></td>\n      <td>2021</td>\n      <td>2</td>\n      <td>22</td>\n      <td>St. Tammany SO</td>\n      <td>2021</td>\n      <td></td>\n      <td>6ae3fc00af46b26b62c50e9167f9c64e</td>\n      <td>938a0bb9f00279de1050ec680290bd1d</td>\n      <td>4565307267bdc07c99c0a805041c0c43</td>\n    </tr>\n    <tr>\n      <th>546</th>\n      <td>2/4/2021</td>\n      <td>NaN</td>\n      <td>Group 2- DR.03:09.032 a. - Insubordination - f...</td>\n      <td>stacey</td>\n      <td></td>\n      <td>griffin</td>\n      <td></td>\n      <td>2021</td>\n      <td>2</td>\n      <td>4</td>\n      <td>St. Tammany SO</td>\n      <td>2021</td>\n      <td></td>\n      <td>f917aafa619588d84993d64a743e8164</td>\n      <td>c4cc551cbb8a3ed21811d797902b09ad</td>\n      <td>69c1c83b99fb350bd66c0edfd9e4285f</td>\n    </tr>\n    <tr>\n      <th>547</th>\n      <td>5/31/2020</td>\n      <td>NaN</td>\n      <td>DR.03:09.933.01 insulting language or conduct ...</td>\n      <td>taylor</td>\n      <td></td>\n      <td>poche</td>\n      <td></td>\n      <td>2020</td>\n      <td>5</td>\n      <td>31</td>\n      <td>St. Tammany SO</td>\n      <td>2021</td>\n      <td></td>\n      <td>a60381f1718a08b9c232607559f31ebf</td>\n      <td>ee78ac111cc4887bee4e597adcc37f66</td>\n      <td>6d58c631f65a3ee0f34bd6f9711420e9</td>\n    </tr>\n    <tr>\n      <th>548</th>\n      <td>1/28/2021</td>\n      <td>NaN</td>\n      <td>DR.03:09.931.01  Group 2 Fialure to Act © Fail...</td>\n      <td>thomas</td>\n      <td></td>\n      <td>williams</td>\n      <td></td>\n      <td>2021</td>\n      <td>1</td>\n      <td>28</td>\n      <td>St. Tammany SO</td>\n      <td>2021</td>\n      <td></td>\n      <td>a99564b4d94fd5ed653f220c14313a27</td>\n      <td>5864841ecbd193170b2fbade4ae5be06</td>\n      <td>c6ba6c8391492755e14c488c8b6f2f2c</td>\n    </tr>\n    <tr>\n      <th>549</th>\n      <td>1/1/2020</td>\n      <td>NaN</td>\n      <td>DR. 03:09.977.01 Sleeping on duty</td>\n      <td>timothy</td>\n      <td></td>\n      <td>scanlan</td>\n      <td></td>\n      <td>2020</td>\n      <td>1</td>\n      <td>1</td>\n      <td>St. Tammany SO</td>\n      <td>2021</td>\n      <td></td>\n      <td>1dfc9ef8d18f61fc578df45681503313</td>\n      <td>d65813128010f520a8ee65fa5eca0d24</td>\n      <td>c145166c2b7a21edc7e8efdb03a9a623</td>\n    </tr>\n  </tbody>\n</table>\n<p>550 rows × 16 columns</p>\n</div>"
     },
     "metadata": {},
     "execution_count": 2
    }
   ],
   "source": [
    "cprr = clean_cprr()\n",
    "cprr"
   ]
  },
  {
   "cell_type": "code",
   "execution_count": null,
   "metadata": {},
   "outputs": [],
   "source": []
  }
 ]
}
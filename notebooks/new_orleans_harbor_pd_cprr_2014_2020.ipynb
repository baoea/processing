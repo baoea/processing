{
 "metadata": {
  "language_info": {
   "codemirror_mode": {
    "name": "ipython",
    "version": 3
   },
   "file_extension": ".py",
   "mimetype": "text/x-python",
   "name": "python",
   "nbconvert_exporter": "python",
   "pygments_lexer": "ipython3",
   "version": "3.8.3-final"
  },
  "orig_nbformat": 2,
  "kernelspec": {
   "name": "python3",
   "display_name": "Python 3",
   "language": "python"
  }
 },
 "nbformat": 4,
 "nbformat_minor": 2,
 "cells": [
  {
   "cell_type": "code",
   "execution_count": 1,
   "metadata": {},
   "outputs": [],
   "source": [
    "import sys; sys.path.append(\"../\")\n",
    "import pandas as pd\n",
    "\n",
    "from lib.explore import show_unique\n",
    "from lib.uid import gen_uid\n",
    "from clean.new_orleans_harbor_pd_cprr import clean as clean_cprr\n",
    "from clean.new_orleans_harbor_pd_pprr import clean_personnel\n",
    "from match.new_orleans_harbor_pd import match_uid_with_cprr"
   ]
  },
  {
   "cell_type": "code",
   "execution_count": 2,
   "metadata": {},
   "outputs": [
    {
     "output_type": "stream",
     "name": "stderr",
     "text": [
      "../lib/clean.py:166: FutureWarning: The default value of regex will change from True to False in a future version.\n  return series.str.strip().str.replace(r\"[^\\w-]+\", \" \").str.replace(r\"\\s+\", \" \")\\\n../clean/new_orleans_harbor_pd_cprr.py:29: FutureWarning: The default value of regex will change from True to False in a future version.\n  df.loc[:, \"badge_no\"] = df.badge_no.str.strip(\n../lib/clean.py:134: FutureWarning: The default value of regex will change from True to False in a future version.\n  df.loc[:, col] = df[col].str.strip().str.lower()\\\n../lib/clean.py:142: FutureWarning: The default value of regex will change from True to False in a future version.\n  df.loc[:, col] = df[col].str.strip().str.lower()\\\n"
     ]
    },
    {
     "output_type": "execute_result",
     "data": {
      "text/plain": [
       "  badge_no   sex   department_desc           rank_desc rule_code  \\\n",
       "0    HP-56  male   off-duty detail  police officer 2-a         2   \n",
       "1    HP-50  male   off-duty detail  police officer 2-a         2   \n",
       "2    HP-50  male   off-duty detail  police officer 2-a         2   \n",
       "3    HP-50  male   off-duty detail  police officer 2-a         2   \n",
       "4    HP-33  male  bicycle division            corporal       1.3   \n",
       "5    HP-56  male                    police officer 2-a         2   \n",
       "\n",
       "  paragraph_code       recommended_action                   action  \\\n",
       "0              3                     none                            \n",
       "1              3                     none                            \n",
       "2              3                     none                            \n",
       "3              3                     none                            \n",
       "4              2                     none                            \n",
       "5              3  counselling memorrandum  counselling memmorandum   \n",
       "\n",
       "  incident_type tracking_number  ... occur_month occur_day receive_year  \\\n",
       "0   discourtesy          2015-3  ...           7         5         2015   \n",
       "1   discourtesy          2015-2  ...           3        22         2015   \n",
       "2   discourtesy          2016-3  ...           6        25         2016   \n",
       "3   discourtesy          2016-5  ...          11        20         2016   \n",
       "4  use of force          2017-7  ...           7        15         2017   \n",
       "5   discourtesy          2017-1  ...          12        24         2017   \n",
       "\n",
       "  receive_month receive_day investigation_complete_year  \\\n",
       "0             7           9                        2015   \n",
       "1             4           1                        2015   \n",
       "2             6          27                        2016   \n",
       "3            12          21                        2017   \n",
       "4             7          15                        2017   \n",
       "5             1          10                        2017   \n",
       "\n",
       "  investigation_complete_month investigation_complete_day  \\\n",
       "0                            8                          4   \n",
       "1                            6                         29   \n",
       "2                            7                         29   \n",
       "3                            1                         11   \n",
       "4                            8                         29   \n",
       "5                            2                         20   \n",
       "\n",
       "                  agency data_production_year  \n",
       "0  New Orleans Harbor PD                 2020  \n",
       "1  New Orleans Harbor PD                 2020  \n",
       "2  New Orleans Harbor PD                 2020  \n",
       "3  New Orleans Harbor PD                 2020  \n",
       "4  New Orleans Harbor PD                 2020  \n",
       "5  New Orleans Harbor PD                 2020  \n",
       "\n",
       "[6 rows x 30 columns]"
      ],
      "text/html": "<div>\n<style scoped>\n    .dataframe tbody tr th:only-of-type {\n        vertical-align: middle;\n    }\n\n    .dataframe tbody tr th {\n        vertical-align: top;\n    }\n\n    .dataframe thead th {\n        text-align: right;\n    }\n</style>\n<table border=\"1\" class=\"dataframe\">\n  <thead>\n    <tr style=\"text-align: right;\">\n      <th></th>\n      <th>badge_no</th>\n      <th>sex</th>\n      <th>department_desc</th>\n      <th>rank_desc</th>\n      <th>rule_code</th>\n      <th>paragraph_code</th>\n      <th>recommended_action</th>\n      <th>action</th>\n      <th>incident_type</th>\n      <th>tracking_number</th>\n      <th>...</th>\n      <th>occur_month</th>\n      <th>occur_day</th>\n      <th>receive_year</th>\n      <th>receive_month</th>\n      <th>receive_day</th>\n      <th>investigation_complete_year</th>\n      <th>investigation_complete_month</th>\n      <th>investigation_complete_day</th>\n      <th>agency</th>\n      <th>data_production_year</th>\n    </tr>\n  </thead>\n  <tbody>\n    <tr>\n      <th>0</th>\n      <td>HP-56</td>\n      <td>male</td>\n      <td>off-duty detail</td>\n      <td>police officer 2-a</td>\n      <td>2</td>\n      <td>3</td>\n      <td>none</td>\n      <td></td>\n      <td>discourtesy</td>\n      <td>2015-3</td>\n      <td>...</td>\n      <td>7</td>\n      <td>5</td>\n      <td>2015</td>\n      <td>7</td>\n      <td>9</td>\n      <td>2015</td>\n      <td>8</td>\n      <td>4</td>\n      <td>New Orleans Harbor PD</td>\n      <td>2020</td>\n    </tr>\n    <tr>\n      <th>1</th>\n      <td>HP-50</td>\n      <td>male</td>\n      <td>off-duty detail</td>\n      <td>police officer 2-a</td>\n      <td>2</td>\n      <td>3</td>\n      <td>none</td>\n      <td></td>\n      <td>discourtesy</td>\n      <td>2015-2</td>\n      <td>...</td>\n      <td>3</td>\n      <td>22</td>\n      <td>2015</td>\n      <td>4</td>\n      <td>1</td>\n      <td>2015</td>\n      <td>6</td>\n      <td>29</td>\n      <td>New Orleans Harbor PD</td>\n      <td>2020</td>\n    </tr>\n    <tr>\n      <th>2</th>\n      <td>HP-50</td>\n      <td>male</td>\n      <td>off-duty detail</td>\n      <td>police officer 2-a</td>\n      <td>2</td>\n      <td>3</td>\n      <td>none</td>\n      <td></td>\n      <td>discourtesy</td>\n      <td>2016-3</td>\n      <td>...</td>\n      <td>6</td>\n      <td>25</td>\n      <td>2016</td>\n      <td>6</td>\n      <td>27</td>\n      <td>2016</td>\n      <td>7</td>\n      <td>29</td>\n      <td>New Orleans Harbor PD</td>\n      <td>2020</td>\n    </tr>\n    <tr>\n      <th>3</th>\n      <td>HP-50</td>\n      <td>male</td>\n      <td>off-duty detail</td>\n      <td>police officer 2-a</td>\n      <td>2</td>\n      <td>3</td>\n      <td>none</td>\n      <td></td>\n      <td>discourtesy</td>\n      <td>2016-5</td>\n      <td>...</td>\n      <td>11</td>\n      <td>20</td>\n      <td>2016</td>\n      <td>12</td>\n      <td>21</td>\n      <td>2017</td>\n      <td>1</td>\n      <td>11</td>\n      <td>New Orleans Harbor PD</td>\n      <td>2020</td>\n    </tr>\n    <tr>\n      <th>4</th>\n      <td>HP-33</td>\n      <td>male</td>\n      <td>bicycle division</td>\n      <td>corporal</td>\n      <td>1.3</td>\n      <td>2</td>\n      <td>none</td>\n      <td></td>\n      <td>use of force</td>\n      <td>2017-7</td>\n      <td>...</td>\n      <td>7</td>\n      <td>15</td>\n      <td>2017</td>\n      <td>7</td>\n      <td>15</td>\n      <td>2017</td>\n      <td>8</td>\n      <td>29</td>\n      <td>New Orleans Harbor PD</td>\n      <td>2020</td>\n    </tr>\n    <tr>\n      <th>5</th>\n      <td>HP-56</td>\n      <td>male</td>\n      <td></td>\n      <td>police officer 2-a</td>\n      <td>2</td>\n      <td>3</td>\n      <td>counselling memorrandum</td>\n      <td>counselling memmorandum</td>\n      <td>discourtesy</td>\n      <td>2017-1</td>\n      <td>...</td>\n      <td>12</td>\n      <td>24</td>\n      <td>2017</td>\n      <td>1</td>\n      <td>10</td>\n      <td>2017</td>\n      <td>2</td>\n      <td>20</td>\n      <td>New Orleans Harbor PD</td>\n      <td>2020</td>\n    </tr>\n  </tbody>\n</table>\n<p>6 rows × 30 columns</p>\n</div>"
     },
     "metadata": {},
     "execution_count": 2
    }
   ],
   "source": [
    "cprr = clean_cprr()\n",
    "cprr"
   ]
  },
  {
   "cell_type": "code",
   "execution_count": 3,
   "metadata": {},
   "outputs": [
    {
     "output_type": "stream",
     "name": "stderr",
     "text": [
      "/Users/khoipham/opt/anaconda3/lib/python3.8/site-packages/pandas/core/frame.py:4438: SettingWithCopyWarning: \nA value is trying to be set on a copy of a slice from a DataFrame\n\nSee the caveats in the documentation: https://pandas.pydata.org/pandas-docs/stable/user_guide/indexing.html#returning-a-view-versus-a-copy\n  return super().rename(\n../lib/clean.py:166: FutureWarning: The default value of regex will change from True to False in a future version.\n  return series.str.strip().str.replace(r\"[^\\w-]+\", \" \").str.replace(r\"\\s+\", \" \")\\\n/Users/khoipham/opt/anaconda3/lib/python3.8/site-packages/pandas/core/indexing.py:1842: SettingWithCopyWarning: \nA value is trying to be set on a copy of a slice from a DataFrame.\nTry using .loc[row_indexer,col_indexer] = value instead\n\nSee the caveats in the documentation: https://pandas.pydata.org/pandas-docs/stable/user_guide/indexing.html#returning-a-view-versus-a-copy\n  self.obj[item_labels[indexer[info_axis]]] = value\n../lib/clean.py:156: FutureWarning: The default value of regex will change from True to False in a future version.\n  return series.str.strip().str.replace(r\"[^\\d\\.]\", \"\").astype(\"float64\")\n"
     ]
    },
    {
     "output_type": "execute_result",
     "data": {
      "text/plain": [
       "    first_name last_name              rank_desc  hourly_salary middle_initial  \\\n",
       "0        casey     adams  police sergeant--port          17.00              m   \n",
       "1        casey     adams  police sergeant--port          17.68              m   \n",
       "2        casey     adams  police sergeant--port          18.39              m   \n",
       "3        casey     adams  police sergeant--port          19.13              m   \n",
       "4        casey     adams      police sergeant-a          19.13              m   \n",
       "..         ...       ...                    ...            ...            ...   \n",
       "910    brianne    waters     police officer 3-a          21.60              m   \n",
       "911    brianne    waters      police sergeant-a          24.34              m   \n",
       "912    brianne    waters      police sergeant-a          25.07              m   \n",
       "913    brianne    waters      police sergeant-a          25.07              m   \n",
       "914    brianne    waters      police sergeant-a          25.82              m   \n",
       "\n",
       "    term_year term_month term_day hire_year hire_month hire_day  \\\n",
       "0        2010          2       28      1980          1       31   \n",
       "1        2010          2       28      1980          1       31   \n",
       "2        2010          2       28      1980          1       31   \n",
       "3        2010          2       28      1980          1       31   \n",
       "4        2010          2       28      1980          1       31   \n",
       "..        ...        ...      ...       ...        ...      ...   \n",
       "910      2020          5       11      2001          3        5   \n",
       "911      2020          5       11      2001          3        5   \n",
       "912      2020          5       11      2001          3        5   \n",
       "913      2020          5       11      2001          3        5   \n",
       "914      2020          5       11      2001          3        5   \n",
       "\n",
       "    pay_effective_year pay_effective_month pay_effective_day  \\\n",
       "0                 1997                   4                14   \n",
       "1                 2003                  12                10   \n",
       "2                 2004                   8                10   \n",
       "3                 2005                   8                10   \n",
       "4                 2005                   8                29   \n",
       "..                 ...                 ...               ...   \n",
       "910               2015                  10                 1   \n",
       "911               2018                   5                14   \n",
       "912               2018                   7                15   \n",
       "913               2018                   7                15   \n",
       "914               2019                   7                15   \n",
       "\n",
       "                                  uid                 agency  \\\n",
       "0    0e62eddff885ed636a82cd726b390596  New Orleans Harbor PD   \n",
       "1    0e62eddff885ed636a82cd726b390596  New Orleans Harbor PD   \n",
       "2    0e62eddff885ed636a82cd726b390596  New Orleans Harbor PD   \n",
       "3    0e62eddff885ed636a82cd726b390596  New Orleans Harbor PD   \n",
       "4    0e62eddff885ed636a82cd726b390596  New Orleans Harbor PD   \n",
       "..                                ...                    ...   \n",
       "910  b1014901a4b7ddee9ecd880405127d81  New Orleans Harbor PD   \n",
       "911  b1014901a4b7ddee9ecd880405127d81  New Orleans Harbor PD   \n",
       "912  b1014901a4b7ddee9ecd880405127d81  New Orleans Harbor PD   \n",
       "913  b1014901a4b7ddee9ecd880405127d81  New Orleans Harbor PD   \n",
       "914  b1014901a4b7ddee9ecd880405127d81  New Orleans Harbor PD   \n",
       "\n",
       "     data_production_year  \n",
       "0                    2020  \n",
       "1                    2020  \n",
       "2                    2020  \n",
       "3                    2020  \n",
       "4                    2020  \n",
       "..                    ...  \n",
       "910                  2020  \n",
       "911                  2020  \n",
       "912                  2020  \n",
       "913                  2020  \n",
       "914                  2020  \n",
       "\n",
       "[915 rows x 17 columns]"
      ],
      "text/html": "<div>\n<style scoped>\n    .dataframe tbody tr th:only-of-type {\n        vertical-align: middle;\n    }\n\n    .dataframe tbody tr th {\n        vertical-align: top;\n    }\n\n    .dataframe thead th {\n        text-align: right;\n    }\n</style>\n<table border=\"1\" class=\"dataframe\">\n  <thead>\n    <tr style=\"text-align: right;\">\n      <th></th>\n      <th>first_name</th>\n      <th>last_name</th>\n      <th>rank_desc</th>\n      <th>hourly_salary</th>\n      <th>middle_initial</th>\n      <th>term_year</th>\n      <th>term_month</th>\n      <th>term_day</th>\n      <th>hire_year</th>\n      <th>hire_month</th>\n      <th>hire_day</th>\n      <th>pay_effective_year</th>\n      <th>pay_effective_month</th>\n      <th>pay_effective_day</th>\n      <th>uid</th>\n      <th>agency</th>\n      <th>data_production_year</th>\n    </tr>\n  </thead>\n  <tbody>\n    <tr>\n      <th>0</th>\n      <td>casey</td>\n      <td>adams</td>\n      <td>police sergeant--port</td>\n      <td>17.00</td>\n      <td>m</td>\n      <td>2010</td>\n      <td>2</td>\n      <td>28</td>\n      <td>1980</td>\n      <td>1</td>\n      <td>31</td>\n      <td>1997</td>\n      <td>4</td>\n      <td>14</td>\n      <td>0e62eddff885ed636a82cd726b390596</td>\n      <td>New Orleans Harbor PD</td>\n      <td>2020</td>\n    </tr>\n    <tr>\n      <th>1</th>\n      <td>casey</td>\n      <td>adams</td>\n      <td>police sergeant--port</td>\n      <td>17.68</td>\n      <td>m</td>\n      <td>2010</td>\n      <td>2</td>\n      <td>28</td>\n      <td>1980</td>\n      <td>1</td>\n      <td>31</td>\n      <td>2003</td>\n      <td>12</td>\n      <td>10</td>\n      <td>0e62eddff885ed636a82cd726b390596</td>\n      <td>New Orleans Harbor PD</td>\n      <td>2020</td>\n    </tr>\n    <tr>\n      <th>2</th>\n      <td>casey</td>\n      <td>adams</td>\n      <td>police sergeant--port</td>\n      <td>18.39</td>\n      <td>m</td>\n      <td>2010</td>\n      <td>2</td>\n      <td>28</td>\n      <td>1980</td>\n      <td>1</td>\n      <td>31</td>\n      <td>2004</td>\n      <td>8</td>\n      <td>10</td>\n      <td>0e62eddff885ed636a82cd726b390596</td>\n      <td>New Orleans Harbor PD</td>\n      <td>2020</td>\n    </tr>\n    <tr>\n      <th>3</th>\n      <td>casey</td>\n      <td>adams</td>\n      <td>police sergeant--port</td>\n      <td>19.13</td>\n      <td>m</td>\n      <td>2010</td>\n      <td>2</td>\n      <td>28</td>\n      <td>1980</td>\n      <td>1</td>\n      <td>31</td>\n      <td>2005</td>\n      <td>8</td>\n      <td>10</td>\n      <td>0e62eddff885ed636a82cd726b390596</td>\n      <td>New Orleans Harbor PD</td>\n      <td>2020</td>\n    </tr>\n    <tr>\n      <th>4</th>\n      <td>casey</td>\n      <td>adams</td>\n      <td>police sergeant-a</td>\n      <td>19.13</td>\n      <td>m</td>\n      <td>2010</td>\n      <td>2</td>\n      <td>28</td>\n      <td>1980</td>\n      <td>1</td>\n      <td>31</td>\n      <td>2005</td>\n      <td>8</td>\n      <td>29</td>\n      <td>0e62eddff885ed636a82cd726b390596</td>\n      <td>New Orleans Harbor PD</td>\n      <td>2020</td>\n    </tr>\n    <tr>\n      <th>...</th>\n      <td>...</td>\n      <td>...</td>\n      <td>...</td>\n      <td>...</td>\n      <td>...</td>\n      <td>...</td>\n      <td>...</td>\n      <td>...</td>\n      <td>...</td>\n      <td>...</td>\n      <td>...</td>\n      <td>...</td>\n      <td>...</td>\n      <td>...</td>\n      <td>...</td>\n      <td>...</td>\n      <td>...</td>\n    </tr>\n    <tr>\n      <th>910</th>\n      <td>brianne</td>\n      <td>waters</td>\n      <td>police officer 3-a</td>\n      <td>21.60</td>\n      <td>m</td>\n      <td>2020</td>\n      <td>5</td>\n      <td>11</td>\n      <td>2001</td>\n      <td>3</td>\n      <td>5</td>\n      <td>2015</td>\n      <td>10</td>\n      <td>1</td>\n      <td>b1014901a4b7ddee9ecd880405127d81</td>\n      <td>New Orleans Harbor PD</td>\n      <td>2020</td>\n    </tr>\n    <tr>\n      <th>911</th>\n      <td>brianne</td>\n      <td>waters</td>\n      <td>police sergeant-a</td>\n      <td>24.34</td>\n      <td>m</td>\n      <td>2020</td>\n      <td>5</td>\n      <td>11</td>\n      <td>2001</td>\n      <td>3</td>\n      <td>5</td>\n      <td>2018</td>\n      <td>5</td>\n      <td>14</td>\n      <td>b1014901a4b7ddee9ecd880405127d81</td>\n      <td>New Orleans Harbor PD</td>\n      <td>2020</td>\n    </tr>\n    <tr>\n      <th>912</th>\n      <td>brianne</td>\n      <td>waters</td>\n      <td>police sergeant-a</td>\n      <td>25.07</td>\n      <td>m</td>\n      <td>2020</td>\n      <td>5</td>\n      <td>11</td>\n      <td>2001</td>\n      <td>3</td>\n      <td>5</td>\n      <td>2018</td>\n      <td>7</td>\n      <td>15</td>\n      <td>b1014901a4b7ddee9ecd880405127d81</td>\n      <td>New Orleans Harbor PD</td>\n      <td>2020</td>\n    </tr>\n    <tr>\n      <th>913</th>\n      <td>brianne</td>\n      <td>waters</td>\n      <td>police sergeant-a</td>\n      <td>25.07</td>\n      <td>m</td>\n      <td>2020</td>\n      <td>5</td>\n      <td>11</td>\n      <td>2001</td>\n      <td>3</td>\n      <td>5</td>\n      <td>2018</td>\n      <td>7</td>\n      <td>15</td>\n      <td>b1014901a4b7ddee9ecd880405127d81</td>\n      <td>New Orleans Harbor PD</td>\n      <td>2020</td>\n    </tr>\n    <tr>\n      <th>914</th>\n      <td>brianne</td>\n      <td>waters</td>\n      <td>police sergeant-a</td>\n      <td>25.82</td>\n      <td>m</td>\n      <td>2020</td>\n      <td>5</td>\n      <td>11</td>\n      <td>2001</td>\n      <td>3</td>\n      <td>5</td>\n      <td>2019</td>\n      <td>7</td>\n      <td>15</td>\n      <td>b1014901a4b7ddee9ecd880405127d81</td>\n      <td>New Orleans Harbor PD</td>\n      <td>2020</td>\n    </tr>\n  </tbody>\n</table>\n<p>915 rows × 17 columns</p>\n</div>"
     },
     "metadata": {},
     "execution_count": 3
    }
   ],
   "source": [
    "pprr = clean_personnel()\n",
    "pprr"
   ]
  },
  {
   "cell_type": "code",
   "execution_count": 4,
   "metadata": {},
   "outputs": [
    {
     "output_type": "execute_result",
     "data": {
      "text/plain": [
       "                                                                first_name  \\\n",
       "score_range pair_idx sim_score row_key                                       \n",
       "1.00-0.95   0        1.0000    c550f567113a27df7d07ea462fb1a5a5      bryan   \n",
       "                               e6278fa24d4f3a03c7b1fc41f07dd6de      bryan   \n",
       "            1        1.0000    e0afe1e6553097708bcd87c772cc4141     howard   \n",
       "                               2e448f6aba55cd31091991480f1af231     howard   \n",
       "0.95-0.90   0        0.9375    9d9e4d8548e120eee8f80b9a459e7b5a      lamus   \n",
       "                               cac9967e392f4edf4da41c4e478f96b5      lamus   \n",
       "\n",
       "                                                                last_name  \n",
       "score_range pair_idx sim_score row_key                                     \n",
       "1.00-0.95   0        1.0000    c550f567113a27df7d07ea462fb1a5a5     arena  \n",
       "                               e6278fa24d4f3a03c7b1fc41f07dd6de     arena  \n",
       "            1        1.0000    e0afe1e6553097708bcd87c772cc4141  dennison  \n",
       "                               2e448f6aba55cd31091991480f1af231  dennison  \n",
       "0.95-0.90   0        0.9375    9d9e4d8548e120eee8f80b9a459e7b5a     lundy  \n",
       "                               cac9967e392f4edf4da41c4e478f96b5  lundy jr  "
      ],
      "text/html": "<div>\n<style scoped>\n    .dataframe tbody tr th:only-of-type {\n        vertical-align: middle;\n    }\n\n    .dataframe tbody tr th {\n        vertical-align: top;\n    }\n\n    .dataframe thead th {\n        text-align: right;\n    }\n</style>\n<table border=\"1\" class=\"dataframe\">\n  <thead>\n    <tr style=\"text-align: right;\">\n      <th></th>\n      <th></th>\n      <th></th>\n      <th></th>\n      <th>first_name</th>\n      <th>last_name</th>\n    </tr>\n    <tr>\n      <th>score_range</th>\n      <th>pair_idx</th>\n      <th>sim_score</th>\n      <th>row_key</th>\n      <th></th>\n      <th></th>\n    </tr>\n  </thead>\n  <tbody>\n    <tr>\n      <th rowspan=\"4\" valign=\"top\">1.00-0.95</th>\n      <th rowspan=\"2\" valign=\"top\">0</th>\n      <th rowspan=\"2\" valign=\"top\">1.0000</th>\n      <th>c550f567113a27df7d07ea462fb1a5a5</th>\n      <td>bryan</td>\n      <td>arena</td>\n    </tr>\n    <tr>\n      <th>e6278fa24d4f3a03c7b1fc41f07dd6de</th>\n      <td>bryan</td>\n      <td>arena</td>\n    </tr>\n    <tr>\n      <th rowspan=\"2\" valign=\"top\">1</th>\n      <th rowspan=\"2\" valign=\"top\">1.0000</th>\n      <th>e0afe1e6553097708bcd87c772cc4141</th>\n      <td>howard</td>\n      <td>dennison</td>\n    </tr>\n    <tr>\n      <th>2e448f6aba55cd31091991480f1af231</th>\n      <td>howard</td>\n      <td>dennison</td>\n    </tr>\n    <tr>\n      <th rowspan=\"2\" valign=\"top\">0.95-0.90</th>\n      <th rowspan=\"2\" valign=\"top\">0</th>\n      <th rowspan=\"2\" valign=\"top\">0.9375</th>\n      <th>9d9e4d8548e120eee8f80b9a459e7b5a</th>\n      <td>lamus</td>\n      <td>lundy</td>\n    </tr>\n    <tr>\n      <th>cac9967e392f4edf4da41c4e478f96b5</th>\n      <td>lamus</td>\n      <td>lundy jr</td>\n    </tr>\n  </tbody>\n</table>\n</div>"
     },
     "metadata": {},
     "execution_count": 4
    }
   ],
   "source": [
    "matcher = match_uid_with_cprr(cprr, pprr)\n",
    "matcher.get_sample_pairs()"
   ]
  },
  {
   "cell_type": "code",
   "execution_count": 5,
   "metadata": {},
   "outputs": [
    {
     "output_type": "execute_result",
     "data": {
      "text/plain": [
       "array(['9d9e4d8548e120eee8f80b9a459e7b5a',\n",
       "       'e0afe1e6553097708bcd87c772cc4141',\n",
       "       'c550f567113a27df7d07ea462fb1a5a5'], dtype=object)"
      ]
     },
     "metadata": {},
     "execution_count": 5
    }
   ],
   "source": [
    "cprr.mid.unique()"
   ]
  },
  {
   "cell_type": "code",
   "execution_count": null,
   "metadata": {},
   "outputs": [],
   "source": []
  }
 ]
}
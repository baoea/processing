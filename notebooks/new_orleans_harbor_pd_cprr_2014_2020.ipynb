{
 "metadata": {
  "language_info": {
   "codemirror_mode": {
    "name": "ipython",
    "version": 3
   },
   "file_extension": ".py",
   "mimetype": "text/x-python",
   "name": "python",
   "nbconvert_exporter": "python",
   "pygments_lexer": "ipython3",
   "version": "3.8.3-final"
  },
  "orig_nbformat": 2,
  "kernelspec": {
   "name": "python3",
   "display_name": "Python 3",
   "language": "python"
  }
 },
 "nbformat": 4,
 "nbformat_minor": 2,
 "cells": [
  {
   "cell_type": "code",
   "execution_count": 1,
   "metadata": {},
   "outputs": [],
   "source": [
    "import sys; sys.path.append(\"../\")\n",
    "import pandas as pd\n",
    "\n",
    "from lib.explore import show_unique\n",
    "from lib.columns import rearrange_personel_history_columns, rearrange_personel_columns\n",
    "from lib.match import (\n",
    "    ThresholdClassifier, ColumnsIndex, StringSimilarity,\n",
    "    DateSimilarity, match_records, print_match_result\n",
    ")\n",
    "from lib.uid import gen_uid\n",
    "from clean.new_orleans_harbor_pd_cprr import clean as clean_cprr\n",
    "from clean.new_orleans_harbor_pd_pprr import clean_personel"
   ]
  },
  {
   "cell_type": "code",
   "execution_count": 2,
   "metadata": {},
   "outputs": [
    {
     "output_type": "execute_result",
     "data": {
      "text/plain": [
       "  badge_no   sex   department_desc           rank_desc rule_code  \\\n",
       "0    HP-56  male   off-duty detail  police officer 2-a         2   \n",
       "1    HP-50  male   off-duty detail  police officer 2-a         2   \n",
       "2    HP-50  male   off-duty detail  police officer 2-a         2   \n",
       "3    HP-50  male   off-duty detail  police officer 2-a         2   \n",
       "4    HP-33  male  bicycle division            corporal       1.3   \n",
       "5    HP-56  male                    police officer 2-a         2   \n",
       "\n",
       "  paragraph_code       recommended_action                   action  \\\n",
       "0              3                     none                            \n",
       "1              3                     none                            \n",
       "2              3                     none                            \n",
       "3              3                     none                            \n",
       "4              2                     none                            \n",
       "5              3  counselling memorrandum  counselling memmorandum   \n",
       "\n",
       "  incident_type tracking_number  ... occur_month occur_day receive_year  \\\n",
       "0   discourtesy          2015-3  ...           7         5         2015   \n",
       "1   discourtesy          2015-2  ...           3        22         2015   \n",
       "2   discourtesy          2016-3  ...           6        25         2016   \n",
       "3   discourtesy          2016-5  ...          11        20         2016   \n",
       "4  use of force          2017-7  ...           7        15         2017   \n",
       "5   discourtesy          2017-1  ...          12        24         2017   \n",
       "\n",
       "  receive_month receive_day investigation_complete_year  \\\n",
       "0             7           9                        2015   \n",
       "1             4           1                        2015   \n",
       "2             6          27                        2016   \n",
       "3            12          21                        2017   \n",
       "4             7          15                        2017   \n",
       "5             1          10                        2017   \n",
       "\n",
       "  investigation_complete_month investigation_complete_day  \\\n",
       "0                            8                          4   \n",
       "1                            6                         29   \n",
       "2                            7                         29   \n",
       "3                            1                         11   \n",
       "4                            8                         29   \n",
       "5                            2                         20   \n",
       "\n",
       "                  agency data_production_year  \n",
       "0  New Orleans Harbor PD                 2020  \n",
       "1  New Orleans Harbor PD                 2020  \n",
       "2  New Orleans Harbor PD                 2020  \n",
       "3  New Orleans Harbor PD                 2020  \n",
       "4  New Orleans Harbor PD                 2020  \n",
       "5  New Orleans Harbor PD                 2020  \n",
       "\n",
       "[6 rows x 30 columns]"
      ],
      "text/html": "<div>\n<style scoped>\n    .dataframe tbody tr th:only-of-type {\n        vertical-align: middle;\n    }\n\n    .dataframe tbody tr th {\n        vertical-align: top;\n    }\n\n    .dataframe thead th {\n        text-align: right;\n    }\n</style>\n<table border=\"1\" class=\"dataframe\">\n  <thead>\n    <tr style=\"text-align: right;\">\n      <th></th>\n      <th>badge_no</th>\n      <th>sex</th>\n      <th>department_desc</th>\n      <th>rank_desc</th>\n      <th>rule_code</th>\n      <th>paragraph_code</th>\n      <th>recommended_action</th>\n      <th>action</th>\n      <th>incident_type</th>\n      <th>tracking_number</th>\n      <th>...</th>\n      <th>occur_month</th>\n      <th>occur_day</th>\n      <th>receive_year</th>\n      <th>receive_month</th>\n      <th>receive_day</th>\n      <th>investigation_complete_year</th>\n      <th>investigation_complete_month</th>\n      <th>investigation_complete_day</th>\n      <th>agency</th>\n      <th>data_production_year</th>\n    </tr>\n  </thead>\n  <tbody>\n    <tr>\n      <th>0</th>\n      <td>HP-56</td>\n      <td>male</td>\n      <td>off-duty detail</td>\n      <td>police officer 2-a</td>\n      <td>2</td>\n      <td>3</td>\n      <td>none</td>\n      <td></td>\n      <td>discourtesy</td>\n      <td>2015-3</td>\n      <td>...</td>\n      <td>7</td>\n      <td>5</td>\n      <td>2015</td>\n      <td>7</td>\n      <td>9</td>\n      <td>2015</td>\n      <td>8</td>\n      <td>4</td>\n      <td>New Orleans Harbor PD</td>\n      <td>2020</td>\n    </tr>\n    <tr>\n      <th>1</th>\n      <td>HP-50</td>\n      <td>male</td>\n      <td>off-duty detail</td>\n      <td>police officer 2-a</td>\n      <td>2</td>\n      <td>3</td>\n      <td>none</td>\n      <td></td>\n      <td>discourtesy</td>\n      <td>2015-2</td>\n      <td>...</td>\n      <td>3</td>\n      <td>22</td>\n      <td>2015</td>\n      <td>4</td>\n      <td>1</td>\n      <td>2015</td>\n      <td>6</td>\n      <td>29</td>\n      <td>New Orleans Harbor PD</td>\n      <td>2020</td>\n    </tr>\n    <tr>\n      <th>2</th>\n      <td>HP-50</td>\n      <td>male</td>\n      <td>off-duty detail</td>\n      <td>police officer 2-a</td>\n      <td>2</td>\n      <td>3</td>\n      <td>none</td>\n      <td></td>\n      <td>discourtesy</td>\n      <td>2016-3</td>\n      <td>...</td>\n      <td>6</td>\n      <td>25</td>\n      <td>2016</td>\n      <td>6</td>\n      <td>27</td>\n      <td>2016</td>\n      <td>7</td>\n      <td>29</td>\n      <td>New Orleans Harbor PD</td>\n      <td>2020</td>\n    </tr>\n    <tr>\n      <th>3</th>\n      <td>HP-50</td>\n      <td>male</td>\n      <td>off-duty detail</td>\n      <td>police officer 2-a</td>\n      <td>2</td>\n      <td>3</td>\n      <td>none</td>\n      <td></td>\n      <td>discourtesy</td>\n      <td>2016-5</td>\n      <td>...</td>\n      <td>11</td>\n      <td>20</td>\n      <td>2016</td>\n      <td>12</td>\n      <td>21</td>\n      <td>2017</td>\n      <td>1</td>\n      <td>11</td>\n      <td>New Orleans Harbor PD</td>\n      <td>2020</td>\n    </tr>\n    <tr>\n      <th>4</th>\n      <td>HP-33</td>\n      <td>male</td>\n      <td>bicycle division</td>\n      <td>corporal</td>\n      <td>1.3</td>\n      <td>2</td>\n      <td>none</td>\n      <td></td>\n      <td>use of force</td>\n      <td>2017-7</td>\n      <td>...</td>\n      <td>7</td>\n      <td>15</td>\n      <td>2017</td>\n      <td>7</td>\n      <td>15</td>\n      <td>2017</td>\n      <td>8</td>\n      <td>29</td>\n      <td>New Orleans Harbor PD</td>\n      <td>2020</td>\n    </tr>\n    <tr>\n      <th>5</th>\n      <td>HP-56</td>\n      <td>male</td>\n      <td></td>\n      <td>police officer 2-a</td>\n      <td>2</td>\n      <td>3</td>\n      <td>counselling memorrandum</td>\n      <td>counselling memmorandum</td>\n      <td>discourtesy</td>\n      <td>2017-1</td>\n      <td>...</td>\n      <td>12</td>\n      <td>24</td>\n      <td>2017</td>\n      <td>1</td>\n      <td>10</td>\n      <td>2017</td>\n      <td>2</td>\n      <td>20</td>\n      <td>New Orleans Harbor PD</td>\n      <td>2020</td>\n    </tr>\n  </tbody>\n</table>\n<p>6 rows × 30 columns</p>\n</div>"
     },
     "metadata": {},
     "execution_count": 2
    }
   ],
   "source": [
    "cprr = clean_cprr()\n",
    "cprr"
   ]
  },
  {
   "cell_type": "code",
   "execution_count": 3,
   "metadata": {},
   "outputs": [
    {
     "output_type": "execute_result",
     "data": {
      "text/plain": [
       "    first_name last_name              rank_desc  hourly_salary middle_initial  \\\n",
       "0        casey     adams  police sergeant--port          17.00              m   \n",
       "1        casey     adams  police sergeant--port          17.68              m   \n",
       "2        casey     adams  police sergeant--port          18.39              m   \n",
       "3        casey     adams  police sergeant--port          19.13              m   \n",
       "4        casey     adams      police sergeant-a          19.13              m   \n",
       "..         ...       ...                    ...            ...            ...   \n",
       "910    brianne    waters     police officer 3-a          21.60              m   \n",
       "911    brianne    waters      police sergeant-a          24.34              m   \n",
       "912    brianne    waters      police sergeant-a          25.07              m   \n",
       "913    brianne    waters      police sergeant-a          25.07              m   \n",
       "914    brianne    waters      police sergeant-a          25.82              m   \n",
       "\n",
       "    term_year term_month term_day hire_year hire_month hire_day  \\\n",
       "0        2010          2       28      1980          1       31   \n",
       "1        2010          2       28      1980          1       31   \n",
       "2        2010          2       28      1980          1       31   \n",
       "3        2010          2       28      1980          1       31   \n",
       "4        2010          2       28      1980          1       31   \n",
       "..        ...        ...      ...       ...        ...      ...   \n",
       "910      2020          5       11      2001          3        5   \n",
       "911      2020          5       11      2001          3        5   \n",
       "912      2020          5       11      2001          3        5   \n",
       "913      2020          5       11      2001          3        5   \n",
       "914      2020          5       11      2001          3        5   \n",
       "\n",
       "    pay_effective_year pay_effective_month pay_effective_day  \\\n",
       "0                 1997                   4                14   \n",
       "1                 2003                  12                10   \n",
       "2                 2004                   8                10   \n",
       "3                 2005                   8                10   \n",
       "4                 2005                   8                29   \n",
       "..                 ...                 ...               ...   \n",
       "910               2015                  10                 1   \n",
       "911               2018                   5                14   \n",
       "912               2018                   7                15   \n",
       "913               2018                   7                15   \n",
       "914               2019                   7                15   \n",
       "\n",
       "                                  uid                 agency  \\\n",
       "0    0e62eddff885ed636a82cd726b390596  New Orleans Harbor PD   \n",
       "1    0e62eddff885ed636a82cd726b390596  New Orleans Harbor PD   \n",
       "2    0e62eddff885ed636a82cd726b390596  New Orleans Harbor PD   \n",
       "3    0e62eddff885ed636a82cd726b390596  New Orleans Harbor PD   \n",
       "4    0e62eddff885ed636a82cd726b390596  New Orleans Harbor PD   \n",
       "..                                ...                    ...   \n",
       "910  b1014901a4b7ddee9ecd880405127d81  New Orleans Harbor PD   \n",
       "911  b1014901a4b7ddee9ecd880405127d81  New Orleans Harbor PD   \n",
       "912  b1014901a4b7ddee9ecd880405127d81  New Orleans Harbor PD   \n",
       "913  b1014901a4b7ddee9ecd880405127d81  New Orleans Harbor PD   \n",
       "914  b1014901a4b7ddee9ecd880405127d81  New Orleans Harbor PD   \n",
       "\n",
       "     data_production_year  \n",
       "0                    2020  \n",
       "1                    2020  \n",
       "2                    2020  \n",
       "3                    2020  \n",
       "4                    2020  \n",
       "..                    ...  \n",
       "910                  2020  \n",
       "911                  2020  \n",
       "912                  2020  \n",
       "913                  2020  \n",
       "914                  2020  \n",
       "\n",
       "[915 rows x 17 columns]"
      ],
      "text/html": "<div>\n<style scoped>\n    .dataframe tbody tr th:only-of-type {\n        vertical-align: middle;\n    }\n\n    .dataframe tbody tr th {\n        vertical-align: top;\n    }\n\n    .dataframe thead th {\n        text-align: right;\n    }\n</style>\n<table border=\"1\" class=\"dataframe\">\n  <thead>\n    <tr style=\"text-align: right;\">\n      <th></th>\n      <th>first_name</th>\n      <th>last_name</th>\n      <th>rank_desc</th>\n      <th>hourly_salary</th>\n      <th>middle_initial</th>\n      <th>term_year</th>\n      <th>term_month</th>\n      <th>term_day</th>\n      <th>hire_year</th>\n      <th>hire_month</th>\n      <th>hire_day</th>\n      <th>pay_effective_year</th>\n      <th>pay_effective_month</th>\n      <th>pay_effective_day</th>\n      <th>uid</th>\n      <th>agency</th>\n      <th>data_production_year</th>\n    </tr>\n  </thead>\n  <tbody>\n    <tr>\n      <th>0</th>\n      <td>casey</td>\n      <td>adams</td>\n      <td>police sergeant--port</td>\n      <td>17.00</td>\n      <td>m</td>\n      <td>2010</td>\n      <td>2</td>\n      <td>28</td>\n      <td>1980</td>\n      <td>1</td>\n      <td>31</td>\n      <td>1997</td>\n      <td>4</td>\n      <td>14</td>\n      <td>0e62eddff885ed636a82cd726b390596</td>\n      <td>New Orleans Harbor PD</td>\n      <td>2020</td>\n    </tr>\n    <tr>\n      <th>1</th>\n      <td>casey</td>\n      <td>adams</td>\n      <td>police sergeant--port</td>\n      <td>17.68</td>\n      <td>m</td>\n      <td>2010</td>\n      <td>2</td>\n      <td>28</td>\n      <td>1980</td>\n      <td>1</td>\n      <td>31</td>\n      <td>2003</td>\n      <td>12</td>\n      <td>10</td>\n      <td>0e62eddff885ed636a82cd726b390596</td>\n      <td>New Orleans Harbor PD</td>\n      <td>2020</td>\n    </tr>\n    <tr>\n      <th>2</th>\n      <td>casey</td>\n      <td>adams</td>\n      <td>police sergeant--port</td>\n      <td>18.39</td>\n      <td>m</td>\n      <td>2010</td>\n      <td>2</td>\n      <td>28</td>\n      <td>1980</td>\n      <td>1</td>\n      <td>31</td>\n      <td>2004</td>\n      <td>8</td>\n      <td>10</td>\n      <td>0e62eddff885ed636a82cd726b390596</td>\n      <td>New Orleans Harbor PD</td>\n      <td>2020</td>\n    </tr>\n    <tr>\n      <th>3</th>\n      <td>casey</td>\n      <td>adams</td>\n      <td>police sergeant--port</td>\n      <td>19.13</td>\n      <td>m</td>\n      <td>2010</td>\n      <td>2</td>\n      <td>28</td>\n      <td>1980</td>\n      <td>1</td>\n      <td>31</td>\n      <td>2005</td>\n      <td>8</td>\n      <td>10</td>\n      <td>0e62eddff885ed636a82cd726b390596</td>\n      <td>New Orleans Harbor PD</td>\n      <td>2020</td>\n    </tr>\n    <tr>\n      <th>4</th>\n      <td>casey</td>\n      <td>adams</td>\n      <td>police sergeant-a</td>\n      <td>19.13</td>\n      <td>m</td>\n      <td>2010</td>\n      <td>2</td>\n      <td>28</td>\n      <td>1980</td>\n      <td>1</td>\n      <td>31</td>\n      <td>2005</td>\n      <td>8</td>\n      <td>29</td>\n      <td>0e62eddff885ed636a82cd726b390596</td>\n      <td>New Orleans Harbor PD</td>\n      <td>2020</td>\n    </tr>\n    <tr>\n      <th>...</th>\n      <td>...</td>\n      <td>...</td>\n      <td>...</td>\n      <td>...</td>\n      <td>...</td>\n      <td>...</td>\n      <td>...</td>\n      <td>...</td>\n      <td>...</td>\n      <td>...</td>\n      <td>...</td>\n      <td>...</td>\n      <td>...</td>\n      <td>...</td>\n      <td>...</td>\n      <td>...</td>\n      <td>...</td>\n    </tr>\n    <tr>\n      <th>910</th>\n      <td>brianne</td>\n      <td>waters</td>\n      <td>police officer 3-a</td>\n      <td>21.60</td>\n      <td>m</td>\n      <td>2020</td>\n      <td>5</td>\n      <td>11</td>\n      <td>2001</td>\n      <td>3</td>\n      <td>5</td>\n      <td>2015</td>\n      <td>10</td>\n      <td>1</td>\n      <td>b1014901a4b7ddee9ecd880405127d81</td>\n      <td>New Orleans Harbor PD</td>\n      <td>2020</td>\n    </tr>\n    <tr>\n      <th>911</th>\n      <td>brianne</td>\n      <td>waters</td>\n      <td>police sergeant-a</td>\n      <td>24.34</td>\n      <td>m</td>\n      <td>2020</td>\n      <td>5</td>\n      <td>11</td>\n      <td>2001</td>\n      <td>3</td>\n      <td>5</td>\n      <td>2018</td>\n      <td>5</td>\n      <td>14</td>\n      <td>b1014901a4b7ddee9ecd880405127d81</td>\n      <td>New Orleans Harbor PD</td>\n      <td>2020</td>\n    </tr>\n    <tr>\n      <th>912</th>\n      <td>brianne</td>\n      <td>waters</td>\n      <td>police sergeant-a</td>\n      <td>25.07</td>\n      <td>m</td>\n      <td>2020</td>\n      <td>5</td>\n      <td>11</td>\n      <td>2001</td>\n      <td>3</td>\n      <td>5</td>\n      <td>2018</td>\n      <td>7</td>\n      <td>15</td>\n      <td>b1014901a4b7ddee9ecd880405127d81</td>\n      <td>New Orleans Harbor PD</td>\n      <td>2020</td>\n    </tr>\n    <tr>\n      <th>913</th>\n      <td>brianne</td>\n      <td>waters</td>\n      <td>police sergeant-a</td>\n      <td>25.07</td>\n      <td>m</td>\n      <td>2020</td>\n      <td>5</td>\n      <td>11</td>\n      <td>2001</td>\n      <td>3</td>\n      <td>5</td>\n      <td>2018</td>\n      <td>7</td>\n      <td>15</td>\n      <td>b1014901a4b7ddee9ecd880405127d81</td>\n      <td>New Orleans Harbor PD</td>\n      <td>2020</td>\n    </tr>\n    <tr>\n      <th>914</th>\n      <td>brianne</td>\n      <td>waters</td>\n      <td>police sergeant-a</td>\n      <td>25.82</td>\n      <td>m</td>\n      <td>2020</td>\n      <td>5</td>\n      <td>11</td>\n      <td>2001</td>\n      <td>3</td>\n      <td>5</td>\n      <td>2019</td>\n      <td>7</td>\n      <td>15</td>\n      <td>b1014901a4b7ddee9ecd880405127d81</td>\n      <td>New Orleans Harbor PD</td>\n      <td>2020</td>\n    </tr>\n  </tbody>\n</table>\n<p>915 rows × 17 columns</p>\n</div>"
     },
     "metadata": {},
     "execution_count": 3
    }
   ],
   "source": [
    "pprr = clean_personel()\n",
    "pprr"
   ]
  },
  {
   "cell_type": "code",
   "execution_count": 4,
   "metadata": {},
   "outputs": [],
   "source": [
    "# cprr[[\"first_name\", \"last_name\", \"appoint_year\", \"appoint_month\", \"appoint_day\"]]\n",
    "cprr_appoint_dates = cprr[[\"appoint_year\", \"appoint_month\", \"appoint_day\"]]\n",
    "cprr_appoint_dates.columns = [\"year\", \"month\", \"day\"]\n",
    "cprr.loc[:, \"hire_date\"] = pd.to_datetime(cprr_appoint_dates)\n",
    "cprr = gen_uid(cprr, [\"first_name\", \"last_name\", \"appoint_year\", \"appoint_month\", \"appoint_day\"], \"mid\")\n",
    "\n",
    "pprr_hire_dates = pprr[[\"hire_year\", \"hire_month\", \"hire_day\"]]\n",
    "pprr_hire_dates.columns = [\"year\", \"month\", \"day\"]\n",
    "pprr.loc[:, \"hire_date\"] = pd.to_datetime(pprr_hire_dates)"
   ]
  },
  {
   "cell_type": "code",
   "execution_count": 5,
   "metadata": {
    "tags": []
   },
   "outputs": [
    {
     "output_type": "stream",
     "name": "stdout",
     "text": [
      "*** MATCHES ***\n                                 first_name last_name  hire_date\nee52e3e61460449f9f78c04324d676c5      bryan     arena 2013-10-21\ne6278fa24d4f3a03c7b1fc41f07dd6de      bryan     arena 2013-10-21\n\n*** POTENTIAL MATCHES ***\n                                 first_name last_name  hire_date\neda7bfbaa2d650b819233c6eb0e8e44f      lamus     lundy 2011-02-28\ncac9967e392f4edf4da41c4e478f96b5      lamus  lundy jr 2011-02-28\n\n                                 first_name last_name  hire_date\n34a7cb7ba8141fd146dea1a9da9b47ed      lamus     lundy 2019-02-28\ncac9967e392f4edf4da41c4e478f96b5      lamus  lundy jr 2011-02-28\n\n                                 first_name last_name  hire_date\ndd88a725950340ca1286ed3e719ab7a5     howard  dennison 1998-02-19\n2e448f6aba55cd31091991480f1af231     howard  dennison 1998-03-02\n\n"
     ]
    }
   ],
   "source": [
    "dfa = cprr[[\"mid\", \"first_name\", \"last_name\", \"hire_date\"]].drop_duplicates()\n",
    "dfa = dfa.set_index(\"mid\", drop=True)\n",
    "dfb = pprr[[\"uid\", \"first_name\", \"last_name\", \"hire_date\"]].drop_duplicates()\n",
    "dfb = dfb.set_index(\"uid\", drop=True)\n",
    "matches, potential_matches, non_matches = match_records(\n",
    "    ColumnsIndex([\"first_name\"]),\n",
    "    ThresholdClassifier(\n",
    "        fields={\n",
    "            \"last_name\": StringSimilarity(),\n",
    "            \"hire_date\": DateSimilarity()\n",
    "        },\n",
    "        thresholds=[1, 0.5]\n",
    "    ),\n",
    "    dfa,\n",
    "    dfb\n",
    ")\n",
    "print_match_result(dfa, dfb, matches, potential_matches, non_matches)"
   ]
  },
  {
   "cell_type": "code",
   "execution_count": 6,
   "metadata": {},
   "outputs": [
    {
     "output_type": "execute_result",
     "data": {
      "text/plain": [
       "  badge_no   sex   department_desc           rank_desc rule_code  \\\n",
       "0    HP-56  male   off-duty detail  police officer 2-a         2   \n",
       "1    HP-50  male   off-duty detail  police officer 2-a         2   \n",
       "2    HP-50  male   off-duty detail  police officer 2-a         2   \n",
       "3    HP-50  male   off-duty detail  police officer 2-a         2   \n",
       "4    HP-33  male  bicycle division            corporal       1.3   \n",
       "5    HP-56  male                    police officer 2-a         2   \n",
       "\n",
       "  paragraph_code       recommended_action                   action  \\\n",
       "0              3                     none                            \n",
       "1              3                     none                            \n",
       "2              3                     none                            \n",
       "3              3                     none                            \n",
       "4              2                     none                            \n",
       "5              3  counselling memorrandum  counselling memmorandum   \n",
       "\n",
       "  incident_type tracking_number  ... occur_day receive_year receive_month  \\\n",
       "0   discourtesy          2015-3  ...         5         2015             7   \n",
       "1   discourtesy          2015-2  ...        22         2015             4   \n",
       "2   discourtesy          2016-3  ...        25         2016             6   \n",
       "3   discourtesy          2016-5  ...        20         2016            12   \n",
       "4  use of force          2017-7  ...        15         2017             7   \n",
       "5   discourtesy          2017-1  ...        24         2017             1   \n",
       "\n",
       "  receive_day investigation_complete_year investigation_complete_month  \\\n",
       "0           9                        2015                            8   \n",
       "1           1                        2015                            6   \n",
       "2          27                        2016                            7   \n",
       "3          21                        2017                            1   \n",
       "4          15                        2017                            8   \n",
       "5          10                        2017                            2   \n",
       "\n",
       "  investigation_complete_day                 agency data_production_year  \\\n",
       "0                          4  New Orleans Harbor PD                 2020   \n",
       "1                         29  New Orleans Harbor PD                 2020   \n",
       "2                         29  New Orleans Harbor PD                 2020   \n",
       "3                         11  New Orleans Harbor PD                 2020   \n",
       "4                         29  New Orleans Harbor PD                 2020   \n",
       "5                         20  New Orleans Harbor PD                 2020   \n",
       "\n",
       "                                uid  \n",
       "0  cac9967e392f4edf4da41c4e478f96b5  \n",
       "1  2e448f6aba55cd31091991480f1af231  \n",
       "2  2e448f6aba55cd31091991480f1af231  \n",
       "3  2e448f6aba55cd31091991480f1af231  \n",
       "4  e6278fa24d4f3a03c7b1fc41f07dd6de  \n",
       "5  cac9967e392f4edf4da41c4e478f96b5  \n",
       "\n",
       "[6 rows x 31 columns]"
      ],
      "text/html": "<div>\n<style scoped>\n    .dataframe tbody tr th:only-of-type {\n        vertical-align: middle;\n    }\n\n    .dataframe tbody tr th {\n        vertical-align: top;\n    }\n\n    .dataframe thead th {\n        text-align: right;\n    }\n</style>\n<table border=\"1\" class=\"dataframe\">\n  <thead>\n    <tr style=\"text-align: right;\">\n      <th></th>\n      <th>badge_no</th>\n      <th>sex</th>\n      <th>department_desc</th>\n      <th>rank_desc</th>\n      <th>rule_code</th>\n      <th>paragraph_code</th>\n      <th>recommended_action</th>\n      <th>action</th>\n      <th>incident_type</th>\n      <th>tracking_number</th>\n      <th>...</th>\n      <th>occur_day</th>\n      <th>receive_year</th>\n      <th>receive_month</th>\n      <th>receive_day</th>\n      <th>investigation_complete_year</th>\n      <th>investigation_complete_month</th>\n      <th>investigation_complete_day</th>\n      <th>agency</th>\n      <th>data_production_year</th>\n      <th>uid</th>\n    </tr>\n  </thead>\n  <tbody>\n    <tr>\n      <th>0</th>\n      <td>HP-56</td>\n      <td>male</td>\n      <td>off-duty detail</td>\n      <td>police officer 2-a</td>\n      <td>2</td>\n      <td>3</td>\n      <td>none</td>\n      <td></td>\n      <td>discourtesy</td>\n      <td>2015-3</td>\n      <td>...</td>\n      <td>5</td>\n      <td>2015</td>\n      <td>7</td>\n      <td>9</td>\n      <td>2015</td>\n      <td>8</td>\n      <td>4</td>\n      <td>New Orleans Harbor PD</td>\n      <td>2020</td>\n      <td>cac9967e392f4edf4da41c4e478f96b5</td>\n    </tr>\n    <tr>\n      <th>1</th>\n      <td>HP-50</td>\n      <td>male</td>\n      <td>off-duty detail</td>\n      <td>police officer 2-a</td>\n      <td>2</td>\n      <td>3</td>\n      <td>none</td>\n      <td></td>\n      <td>discourtesy</td>\n      <td>2015-2</td>\n      <td>...</td>\n      <td>22</td>\n      <td>2015</td>\n      <td>4</td>\n      <td>1</td>\n      <td>2015</td>\n      <td>6</td>\n      <td>29</td>\n      <td>New Orleans Harbor PD</td>\n      <td>2020</td>\n      <td>2e448f6aba55cd31091991480f1af231</td>\n    </tr>\n    <tr>\n      <th>2</th>\n      <td>HP-50</td>\n      <td>male</td>\n      <td>off-duty detail</td>\n      <td>police officer 2-a</td>\n      <td>2</td>\n      <td>3</td>\n      <td>none</td>\n      <td></td>\n      <td>discourtesy</td>\n      <td>2016-3</td>\n      <td>...</td>\n      <td>25</td>\n      <td>2016</td>\n      <td>6</td>\n      <td>27</td>\n      <td>2016</td>\n      <td>7</td>\n      <td>29</td>\n      <td>New Orleans Harbor PD</td>\n      <td>2020</td>\n      <td>2e448f6aba55cd31091991480f1af231</td>\n    </tr>\n    <tr>\n      <th>3</th>\n      <td>HP-50</td>\n      <td>male</td>\n      <td>off-duty detail</td>\n      <td>police officer 2-a</td>\n      <td>2</td>\n      <td>3</td>\n      <td>none</td>\n      <td></td>\n      <td>discourtesy</td>\n      <td>2016-5</td>\n      <td>...</td>\n      <td>20</td>\n      <td>2016</td>\n      <td>12</td>\n      <td>21</td>\n      <td>2017</td>\n      <td>1</td>\n      <td>11</td>\n      <td>New Orleans Harbor PD</td>\n      <td>2020</td>\n      <td>2e448f6aba55cd31091991480f1af231</td>\n    </tr>\n    <tr>\n      <th>4</th>\n      <td>HP-33</td>\n      <td>male</td>\n      <td>bicycle division</td>\n      <td>corporal</td>\n      <td>1.3</td>\n      <td>2</td>\n      <td>none</td>\n      <td></td>\n      <td>use of force</td>\n      <td>2017-7</td>\n      <td>...</td>\n      <td>15</td>\n      <td>2017</td>\n      <td>7</td>\n      <td>15</td>\n      <td>2017</td>\n      <td>8</td>\n      <td>29</td>\n      <td>New Orleans Harbor PD</td>\n      <td>2020</td>\n      <td>e6278fa24d4f3a03c7b1fc41f07dd6de</td>\n    </tr>\n    <tr>\n      <th>5</th>\n      <td>HP-56</td>\n      <td>male</td>\n      <td></td>\n      <td>police officer 2-a</td>\n      <td>2</td>\n      <td>3</td>\n      <td>counselling memorrandum</td>\n      <td>counselling memmorandum</td>\n      <td>discourtesy</td>\n      <td>2017-1</td>\n      <td>...</td>\n      <td>24</td>\n      <td>2017</td>\n      <td>1</td>\n      <td>10</td>\n      <td>2017</td>\n      <td>2</td>\n      <td>20</td>\n      <td>New Orleans Harbor PD</td>\n      <td>2020</td>\n      <td>cac9967e392f4edf4da41c4e478f96b5</td>\n    </tr>\n  </tbody>\n</table>\n<p>6 rows × 31 columns</p>\n</div>"
     },
     "metadata": {},
     "execution_count": 6
    }
   ],
   "source": [
    "mid_to_uid_d = dict(matches + potential_matches)\n",
    "cprr.loc[:, \"uid\"] = cprr[\"mid\"].map(lambda v: mid_to_uid_d[v])\n",
    "cprr = cprr.drop(columns=[\"mid\", \"hire_date\"])\n",
    "cprr"
   ]
  },
  {
   "cell_type": "code",
   "execution_count": null,
   "metadata": {},
   "outputs": [],
   "source": []
  }
 ]
}
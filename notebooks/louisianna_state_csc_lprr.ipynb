{
 "metadata": {
  "language_info": {
   "codemirror_mode": {
    "name": "ipython",
    "version": 3
   },
   "file_extension": ".py",
   "mimetype": "text/x-python",
   "name": "python",
   "nbconvert_exporter": "python",
   "pygments_lexer": "ipython3",
   "version": "3.8.3-final"
  },
  "orig_nbformat": 2,
  "kernelspec": {
   "name": "python3",
   "display_name": "Python 3",
   "language": "python"
  }
 },
 "nbformat": 4,
 "nbformat_minor": 2,
 "cells": [
  {
   "cell_type": "code",
   "execution_count": 1,
   "metadata": {},
   "outputs": [],
   "source": [
    "import sys; sys.path.append(\"../\")\n",
    "\n",
    "import pandas as pd\n",
    "\n",
    "from lib.explore import show_unique"
   ]
  },
  {
   "cell_type": "code",
   "execution_count": 2,
   "metadata": {},
   "outputs": [
    {
     "output_type": "execute_result",
     "data": {
      "text/plain": [
       "    Docket No.            Appellant       Col.    Filed  Rendered   \\\n",
       "0      07-166R     Woodward,William          W   4/29/07   5/17/07   \n",
       "1     20-247-5         Truhan, John          R   4/24/20   9/10/20   \n",
       "2     20-246-T   Santiago, St. Clair         R    4/6/20       NaN   \n",
       "3     20-245-T        Joey Schouest          R    3/5/20       NaN   \n",
       "4      19-244-       Sheldon Perlong         R   10/1/19       NaN   \n",
       "..          ...                  ...        ...      ...       ...   \n",
       "203         NaN              Moreau   Fontenot       NaN       NaN   \n",
       "204         NaN              Achord   Fontenot       NaN       NaN   \n",
       "205         NaN              Landry   Fontenot       NaN       NaN   \n",
       "206         NaN        Mistretta J.   Fontenot       NaN       NaN   \n",
       "207         NaN              Leblanc  Fontenot       NaN       NaN   \n",
       "\n",
       "      Decision             Delay  Appealed?   \n",
       "0      Settled              3 mos        NaN  \n",
       "1       Denied   3 months 14 days        NaN  \n",
       "2     Withdrawn               NaN        NaN  \n",
       "3       Denied                NaN        NaN  \n",
       "4           NaN               NaN        NaN  \n",
       "..          ...               ...        ...  \n",
       "203  Withdrawn                NaN        NaN  \n",
       "204  Withdrawn                NaN        NaN  \n",
       "205  Withdrawn                NaN        NaN  \n",
       "206  Withdrawn                NaN        NaN  \n",
       "207         NaN               NaN        NaN  \n",
       "\n",
       "[208 rows x 8 columns]"
      ],
      "text/html": "<div>\n<style scoped>\n    .dataframe tbody tr th:only-of-type {\n        vertical-align: middle;\n    }\n\n    .dataframe tbody tr th {\n        vertical-align: top;\n    }\n\n    .dataframe thead th {\n        text-align: right;\n    }\n</style>\n<table border=\"1\" class=\"dataframe\">\n  <thead>\n    <tr style=\"text-align: right;\">\n      <th></th>\n      <th>Docket No.</th>\n      <th>Appellant</th>\n      <th>Col.</th>\n      <th>Filed</th>\n      <th>Rendered</th>\n      <th>Decision</th>\n      <th>Delay</th>\n      <th>Appealed?</th>\n    </tr>\n  </thead>\n  <tbody>\n    <tr>\n      <th>0</th>\n      <td>07-166R</td>\n      <td>Woodward,William</td>\n      <td>W</td>\n      <td>4/29/07</td>\n      <td>5/17/07</td>\n      <td>Settled</td>\n      <td>3 mos</td>\n      <td>NaN</td>\n    </tr>\n    <tr>\n      <th>1</th>\n      <td>20-247-5</td>\n      <td>Truhan, John</td>\n      <td>R</td>\n      <td>4/24/20</td>\n      <td>9/10/20</td>\n      <td>Denied</td>\n      <td>3 months 14 days</td>\n      <td>NaN</td>\n    </tr>\n    <tr>\n      <th>2</th>\n      <td>20-246-T</td>\n      <td>Santiago, St. Clair</td>\n      <td>R</td>\n      <td>4/6/20</td>\n      <td>NaN</td>\n      <td>Withdrawn</td>\n      <td>NaN</td>\n      <td>NaN</td>\n    </tr>\n    <tr>\n      <th>3</th>\n      <td>20-245-T</td>\n      <td>Joey Schouest</td>\n      <td>R</td>\n      <td>3/5/20</td>\n      <td>NaN</td>\n      <td>Denied</td>\n      <td>NaN</td>\n      <td>NaN</td>\n    </tr>\n    <tr>\n      <th>4</th>\n      <td>19-244-</td>\n      <td>Sheldon Perlong</td>\n      <td>R</td>\n      <td>10/1/19</td>\n      <td>NaN</td>\n      <td>NaN</td>\n      <td>NaN</td>\n      <td>NaN</td>\n    </tr>\n    <tr>\n      <th>...</th>\n      <td>...</td>\n      <td>...</td>\n      <td>...</td>\n      <td>...</td>\n      <td>...</td>\n      <td>...</td>\n      <td>...</td>\n      <td>...</td>\n    </tr>\n    <tr>\n      <th>203</th>\n      <td>NaN</td>\n      <td>Moreau</td>\n      <td>Fontenot</td>\n      <td>NaN</td>\n      <td>NaN</td>\n      <td>Withdrawn</td>\n      <td>NaN</td>\n      <td>NaN</td>\n    </tr>\n    <tr>\n      <th>204</th>\n      <td>NaN</td>\n      <td>Achord</td>\n      <td>Fontenot</td>\n      <td>NaN</td>\n      <td>NaN</td>\n      <td>Withdrawn</td>\n      <td>NaN</td>\n      <td>NaN</td>\n    </tr>\n    <tr>\n      <th>205</th>\n      <td>NaN</td>\n      <td>Landry</td>\n      <td>Fontenot</td>\n      <td>NaN</td>\n      <td>NaN</td>\n      <td>Withdrawn</td>\n      <td>NaN</td>\n      <td>NaN</td>\n    </tr>\n    <tr>\n      <th>206</th>\n      <td>NaN</td>\n      <td>Mistretta J.</td>\n      <td>Fontenot</td>\n      <td>NaN</td>\n      <td>NaN</td>\n      <td>Withdrawn</td>\n      <td>NaN</td>\n      <td>NaN</td>\n    </tr>\n    <tr>\n      <th>207</th>\n      <td>NaN</td>\n      <td>Leblanc</td>\n      <td>Fontenot</td>\n      <td>NaN</td>\n      <td>NaN</td>\n      <td>NaN</td>\n      <td>NaN</td>\n      <td>NaN</td>\n    </tr>\n  </tbody>\n</table>\n<p>208 rows × 8 columns</p>\n</div>"
     },
     "metadata": {},
     "execution_count": 2
    }
   ],
   "source": [
    "df = pd.read_csv(\"../data/louisianna_state_csc/louisianastate_csc_lprr_1991-2020.csv\")\n",
    "df"
   ]
  },
  {
   "cell_type": "code",
   "execution_count": null,
   "metadata": {},
   "outputs": [],
   "source": []
  }
 ]
}
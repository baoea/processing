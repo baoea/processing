{
 "metadata": {
  "language_info": {
   "codemirror_mode": {
    "name": "ipython",
    "version": 3
   },
   "file_extension": ".py",
   "mimetype": "text/x-python",
   "name": "python",
   "nbconvert_exporter": "python",
   "pygments_lexer": "ipython3",
   "version": "3.9.2"
  },
  "orig_nbformat": 2,
  "kernelspec": {
   "name": "python392jvsc74a57bd055d6dfa6f6295e03bf132df3e61c1565ff1c22b645ef82a5638b280b97b3597b",
   "display_name": "Python 3.9.2 64-bit ('base': virtualenvwrapper)"
  }
 },
 "nbformat": 4,
 "nbformat_minor": 2,
 "cells": [
  {
   "cell_type": "code",
   "execution_count": 1,
   "metadata": {},
   "outputs": [],
   "source": [
    "import sys; sys.path.append(\"../\")\n",
    "import pandas as pd\n",
    "\n",
    "from lib.explore import show_unique, show_columns_with_differences\n",
    "from lib.split_schema import detect_unique_columns_subset\n",
    "from clean.ipm_new_orleans_pd_cprr_allegations import clean\n",
    "from clean.ipm_new_orleans_pd_cprr_actions_taken import clean as clean_at\n",
    "from lib import events\n"
   ]
  },
  {
   "cell_type": "code",
   "execution_count": 2,
   "metadata": {},
   "outputs": [
    {
     "output_type": "stream",
     "name": "stderr",
     "text": [
      "/Users/khoipham/.virtualenvs/base/lib/python3.9/site-packages/IPython/core/interactiveshell.py:3441: DtypeWarning: Columns (63,74) have mixed types.Specify dtype option on import or set low_memory=False.\n  exec(code_obj, self.user_global_ns, self.user_ns)\n"
     ]
    }
   ],
   "source": [
    "complaints = clean()"
   ]
  },
  {
   "cell_type": "code",
   "execution_count": 3,
   "metadata": {},
   "outputs": [
    {
     "output_type": "execute_result",
     "data": {
      "text/plain": [
       "      tracking_number     incident_type officer_primary_key  \\\n",
       "0         1993-0549-R    rank initiated                2251   \n",
       "1         1994-0132-R    rank initiated                 770   \n",
       "2         1994-0238-C  public initiated                2251   \n",
       "3         1994-0294-R    rank initiated                2320   \n",
       "4         1994-0531-C  public initiated                2251   \n",
       "...               ...               ...                 ...   \n",
       "23609     2019-0112-P  public initiated                 882   \n",
       "23610     2019-0112-P  public initiated                3719   \n",
       "23611     2019-0112-P  public initiated                       \n",
       "23612     2019-0112-P  public initiated                5404   \n",
       "23613          Feb-09    rank initiated                2064   \n",
       "\n",
       "      allegation_primary_key  \\\n",
       "0                      15567   \n",
       "1                      14996   \n",
       "2                      15568   \n",
       "3                      15529   \n",
       "4                      15569   \n",
       "...                      ...   \n",
       "23609                  26291   \n",
       "23610                  26293   \n",
       "23611                          \n",
       "23612                  26292   \n",
       "23613                  12442   \n",
       "\n",
       "                                              allegation    disposition  \\\n",
       "0      paragraph 02 - instructions from authoritative...      sustained   \n",
       "1                      paragraph 06 - unauthorized force  not sustained   \n",
       "2                        paragraph 01 - adherence to law  not sustained   \n",
       "3                        paragraph 01 - adherence to law      sustained   \n",
       "4                         paragraph 04 - neglect of duty  not sustained   \n",
       "...                                                  ...            ...   \n",
       "23609                     paragraph 04 - neglect of duty        pending   \n",
       "23610                     paragraph 04 - neglect of duty        pending   \n",
       "23611                                                           pending   \n",
       "23612                     paragraph 04 - neglect of duty        pending   \n",
       "23613                                                           pending   \n",
       "\n",
       "      allegation_finding       allegation_class occur_time  \\\n",
       "0              sustained   rule 4: perf of duty        NaN   \n",
       "1          not sustained  rule 2: moral conduct        NaN   \n",
       "2          not sustained  rule 2: moral conduct        NaN   \n",
       "3              sustained  rule 2: moral conduct        NaN   \n",
       "4          not sustained   rule 4: perf of duty        NaN   \n",
       "...                  ...                    ...        ...   \n",
       "23609            pending   rule 4: perf of duty      20:00   \n",
       "23610            pending   rule 4: perf of duty      20:00   \n",
       "23611            pending          unknown class      20:00   \n",
       "23612            pending   rule 4: perf of duty      20:00   \n",
       "23613            pending          unknown class        NaN   \n",
       "\n",
       "                 assigned_unit  ... allegation_create_year  \\\n",
       "0                  Un-assigned  ...                   2014   \n",
       "1                  Un-assigned  ...                   2013   \n",
       "2                  Un-assigned  ...                   2014   \n",
       "3                  Un-assigned  ...                   2014   \n",
       "4                  Un-assigned  ...                   2014   \n",
       "...                        ...  ...                    ...   \n",
       "23609       PIB Intake Section  ...                   2019   \n",
       "23610       PIB Intake Section  ...                   2019   \n",
       "23611       PIB Intake Section  ...                          \n",
       "23612       PIB Intake Section  ...                   2019   \n",
       "23613  Management Serv. Bureau  ...                   2012   \n",
       "\n",
       "      allegation_create_month allegation_create_day occur_year occur_month  \\\n",
       "0                           2                    20                          \n",
       "1                          11                    13                          \n",
       "2                           2                    20                          \n",
       "3                           2                    13                          \n",
       "4                           2                    20                          \n",
       "...                       ...                   ...        ...         ...   \n",
       "23609                       2                    21       2018           8   \n",
       "23610                       2                    21       2018           8   \n",
       "23611                                                     2018           8   \n",
       "23612                       2                    21       2018           8   \n",
       "23613                      10                     9                          \n",
       "\n",
       "      occur_day                                            charges  \\\n",
       "0                rule 4: perf of duty; paragraph 02 - instructi...   \n",
       "1                                                                    \n",
       "2                rule 2: moral conduct; paragraph 01 - adherenc...   \n",
       "3                rule 2: moral conduct; paragraph 01 - adherenc...   \n",
       "4                rule 4: perf of duty; paragraph 04 - neglect o...   \n",
       "...         ...                                                ...   \n",
       "23609        14  rule 4: perf of duty; paragraph 04 - neglect o...   \n",
       "23610        14  rule 4: perf of duty; paragraph 04 - neglect o...   \n",
       "23611        14  rule 4: perf of duty; paragraph 04 - neglect o...   \n",
       "23612        14  rule 4: perf of duty; paragraph 04 - neglect o...   \n",
       "23613                                                                \n",
       "\n",
       "      data_production_year          agency                     complaint_uid  \n",
       "0                     2020  New Orleans PD  250d3eb480a0faf7dd617828ff016c32  \n",
       "1                     2020  New Orleans PD  2ca0081231c5c2fe04555df869ecc73e  \n",
       "2                     2020  New Orleans PD  d1491bb478bbb53f884f3b0aae691256  \n",
       "3                     2020  New Orleans PD  959a5da0afcafb8f6eba20e804fb2272  \n",
       "4                     2020  New Orleans PD  53ab420da0944f6ca734541f6a676c63  \n",
       "...                    ...             ...                               ...  \n",
       "23609                 2020  New Orleans PD  21085554cca128e5d624844ccd8505f8  \n",
       "23610                 2020  New Orleans PD  446639a636a68ceff09b8e3dc62ed2a9  \n",
       "23611                 2020  New Orleans PD  542be7c1d3fccec18aca84559baae92d  \n",
       "23612                 2020  New Orleans PD  f7633db738644c5012a282726eb2b47d  \n",
       "23613                 2020  New Orleans PD  dd53c6b9c9cdea07823de29f6f27461d  \n",
       "\n",
       "[23614 rows x 33 columns]"
      ],
      "text/html": "<div>\n<style scoped>\n    .dataframe tbody tr th:only-of-type {\n        vertical-align: middle;\n    }\n\n    .dataframe tbody tr th {\n        vertical-align: top;\n    }\n\n    .dataframe thead th {\n        text-align: right;\n    }\n</style>\n<table border=\"1\" class=\"dataframe\">\n  <thead>\n    <tr style=\"text-align: right;\">\n      <th></th>\n      <th>tracking_number</th>\n      <th>incident_type</th>\n      <th>officer_primary_key</th>\n      <th>allegation_primary_key</th>\n      <th>allegation</th>\n      <th>disposition</th>\n      <th>allegation_finding</th>\n      <th>allegation_class</th>\n      <th>occur_time</th>\n      <th>assigned_unit</th>\n      <th>...</th>\n      <th>allegation_create_year</th>\n      <th>allegation_create_month</th>\n      <th>allegation_create_day</th>\n      <th>occur_year</th>\n      <th>occur_month</th>\n      <th>occur_day</th>\n      <th>charges</th>\n      <th>data_production_year</th>\n      <th>agency</th>\n      <th>complaint_uid</th>\n    </tr>\n  </thead>\n  <tbody>\n    <tr>\n      <th>0</th>\n      <td>1993-0549-R</td>\n      <td>rank initiated</td>\n      <td>2251</td>\n      <td>15567</td>\n      <td>paragraph 02 - instructions from authoritative...</td>\n      <td>sustained</td>\n      <td>sustained</td>\n      <td>rule 4: perf of duty</td>\n      <td>NaN</td>\n      <td>Un-assigned</td>\n      <td>...</td>\n      <td>2014</td>\n      <td>2</td>\n      <td>20</td>\n      <td></td>\n      <td></td>\n      <td></td>\n      <td>rule 4: perf of duty; paragraph 02 - instructi...</td>\n      <td>2020</td>\n      <td>New Orleans PD</td>\n      <td>250d3eb480a0faf7dd617828ff016c32</td>\n    </tr>\n    <tr>\n      <th>1</th>\n      <td>1994-0132-R</td>\n      <td>rank initiated</td>\n      <td>770</td>\n      <td>14996</td>\n      <td>paragraph 06 - unauthorized force</td>\n      <td>not sustained</td>\n      <td>not sustained</td>\n      <td>rule 2: moral conduct</td>\n      <td>NaN</td>\n      <td>Un-assigned</td>\n      <td>...</td>\n      <td>2013</td>\n      <td>11</td>\n      <td>13</td>\n      <td></td>\n      <td></td>\n      <td></td>\n      <td></td>\n      <td>2020</td>\n      <td>New Orleans PD</td>\n      <td>2ca0081231c5c2fe04555df869ecc73e</td>\n    </tr>\n    <tr>\n      <th>2</th>\n      <td>1994-0238-C</td>\n      <td>public initiated</td>\n      <td>2251</td>\n      <td>15568</td>\n      <td>paragraph 01 - adherence to law</td>\n      <td>not sustained</td>\n      <td>not sustained</td>\n      <td>rule 2: moral conduct</td>\n      <td>NaN</td>\n      <td>Un-assigned</td>\n      <td>...</td>\n      <td>2014</td>\n      <td>2</td>\n      <td>20</td>\n      <td></td>\n      <td></td>\n      <td></td>\n      <td>rule 2: moral conduct; paragraph 01 - adherenc...</td>\n      <td>2020</td>\n      <td>New Orleans PD</td>\n      <td>d1491bb478bbb53f884f3b0aae691256</td>\n    </tr>\n    <tr>\n      <th>3</th>\n      <td>1994-0294-R</td>\n      <td>rank initiated</td>\n      <td>2320</td>\n      <td>15529</td>\n      <td>paragraph 01 - adherence to law</td>\n      <td>sustained</td>\n      <td>sustained</td>\n      <td>rule 2: moral conduct</td>\n      <td>NaN</td>\n      <td>Un-assigned</td>\n      <td>...</td>\n      <td>2014</td>\n      <td>2</td>\n      <td>13</td>\n      <td></td>\n      <td></td>\n      <td></td>\n      <td>rule 2: moral conduct; paragraph 01 - adherenc...</td>\n      <td>2020</td>\n      <td>New Orleans PD</td>\n      <td>959a5da0afcafb8f6eba20e804fb2272</td>\n    </tr>\n    <tr>\n      <th>4</th>\n      <td>1994-0531-C</td>\n      <td>public initiated</td>\n      <td>2251</td>\n      <td>15569</td>\n      <td>paragraph 04 - neglect of duty</td>\n      <td>not sustained</td>\n      <td>not sustained</td>\n      <td>rule 4: perf of duty</td>\n      <td>NaN</td>\n      <td>Un-assigned</td>\n      <td>...</td>\n      <td>2014</td>\n      <td>2</td>\n      <td>20</td>\n      <td></td>\n      <td></td>\n      <td></td>\n      <td>rule 4: perf of duty; paragraph 04 - neglect o...</td>\n      <td>2020</td>\n      <td>New Orleans PD</td>\n      <td>53ab420da0944f6ca734541f6a676c63</td>\n    </tr>\n    <tr>\n      <th>...</th>\n      <td>...</td>\n      <td>...</td>\n      <td>...</td>\n      <td>...</td>\n      <td>...</td>\n      <td>...</td>\n      <td>...</td>\n      <td>...</td>\n      <td>...</td>\n      <td>...</td>\n      <td>...</td>\n      <td>...</td>\n      <td>...</td>\n      <td>...</td>\n      <td>...</td>\n      <td>...</td>\n      <td>...</td>\n      <td>...</td>\n      <td>...</td>\n      <td>...</td>\n      <td>...</td>\n    </tr>\n    <tr>\n      <th>23609</th>\n      <td>2019-0112-P</td>\n      <td>public initiated</td>\n      <td>882</td>\n      <td>26291</td>\n      <td>paragraph 04 - neglect of duty</td>\n      <td>pending</td>\n      <td>pending</td>\n      <td>rule 4: perf of duty</td>\n      <td>20:00</td>\n      <td>PIB Intake Section</td>\n      <td>...</td>\n      <td>2019</td>\n      <td>2</td>\n      <td>21</td>\n      <td>2018</td>\n      <td>8</td>\n      <td>14</td>\n      <td>rule 4: perf of duty; paragraph 04 - neglect o...</td>\n      <td>2020</td>\n      <td>New Orleans PD</td>\n      <td>21085554cca128e5d624844ccd8505f8</td>\n    </tr>\n    <tr>\n      <th>23610</th>\n      <td>2019-0112-P</td>\n      <td>public initiated</td>\n      <td>3719</td>\n      <td>26293</td>\n      <td>paragraph 04 - neglect of duty</td>\n      <td>pending</td>\n      <td>pending</td>\n      <td>rule 4: perf of duty</td>\n      <td>20:00</td>\n      <td>PIB Intake Section</td>\n      <td>...</td>\n      <td>2019</td>\n      <td>2</td>\n      <td>21</td>\n      <td>2018</td>\n      <td>8</td>\n      <td>14</td>\n      <td>rule 4: perf of duty; paragraph 04 - neglect o...</td>\n      <td>2020</td>\n      <td>New Orleans PD</td>\n      <td>446639a636a68ceff09b8e3dc62ed2a9</td>\n    </tr>\n    <tr>\n      <th>23611</th>\n      <td>2019-0112-P</td>\n      <td>public initiated</td>\n      <td></td>\n      <td></td>\n      <td></td>\n      <td>pending</td>\n      <td>pending</td>\n      <td>unknown class</td>\n      <td>20:00</td>\n      <td>PIB Intake Section</td>\n      <td>...</td>\n      <td></td>\n      <td></td>\n      <td></td>\n      <td>2018</td>\n      <td>8</td>\n      <td>14</td>\n      <td>rule 4: perf of duty; paragraph 04 - neglect o...</td>\n      <td>2020</td>\n      <td>New Orleans PD</td>\n      <td>542be7c1d3fccec18aca84559baae92d</td>\n    </tr>\n    <tr>\n      <th>23612</th>\n      <td>2019-0112-P</td>\n      <td>public initiated</td>\n      <td>5404</td>\n      <td>26292</td>\n      <td>paragraph 04 - neglect of duty</td>\n      <td>pending</td>\n      <td>pending</td>\n      <td>rule 4: perf of duty</td>\n      <td>20:00</td>\n      <td>PIB Intake Section</td>\n      <td>...</td>\n      <td>2019</td>\n      <td>2</td>\n      <td>21</td>\n      <td>2018</td>\n      <td>8</td>\n      <td>14</td>\n      <td>rule 4: perf of duty; paragraph 04 - neglect o...</td>\n      <td>2020</td>\n      <td>New Orleans PD</td>\n      <td>f7633db738644c5012a282726eb2b47d</td>\n    </tr>\n    <tr>\n      <th>23613</th>\n      <td>Feb-09</td>\n      <td>rank initiated</td>\n      <td>2064</td>\n      <td>12442</td>\n      <td></td>\n      <td>pending</td>\n      <td>pending</td>\n      <td>unknown class</td>\n      <td>NaN</td>\n      <td>Management Serv. Bureau</td>\n      <td>...</td>\n      <td>2012</td>\n      <td>10</td>\n      <td>9</td>\n      <td></td>\n      <td></td>\n      <td></td>\n      <td></td>\n      <td>2020</td>\n      <td>New Orleans PD</td>\n      <td>dd53c6b9c9cdea07823de29f6f27461d</td>\n    </tr>\n  </tbody>\n</table>\n<p>23614 rows × 33 columns</p>\n</div>"
     },
     "metadata": {},
     "execution_count": 3
    }
   ],
   "source": [
    "complaints"
   ]
  },
  {
   "cell_type": "code",
   "execution_count": 7,
   "metadata": {},
   "outputs": [
    {
     "output_type": "execute_result",
     "data": {
      "text/plain": [
       "      tracking_number   incident_type officer_primary_key  \\\n",
       "23613          Feb-09  rank initiated                2064   \n",
       "\n",
       "      allegation_primary_key allegation disposition allegation_finding  \\\n",
       "23613                  12442                pending            pending   \n",
       "\n",
       "      allegation_class occur_time            assigned_unit  ...  \\\n",
       "23613    unknown class        NaN  Management Serv. Bureau  ...   \n",
       "\n",
       "      allegation_create_year allegation_create_month allegation_create_day  \\\n",
       "23613                   2012                      10                     9   \n",
       "\n",
       "      occur_year occur_month occur_day charges data_production_year  \\\n",
       "23613                                                          2020   \n",
       "\n",
       "               agency                     complaint_uid  \n",
       "23613  New Orleans PD  dd53c6b9c9cdea07823de29f6f27461d  \n",
       "\n",
       "[1 rows x 33 columns]"
      ],
      "text/html": "<div>\n<style scoped>\n    .dataframe tbody tr th:only-of-type {\n        vertical-align: middle;\n    }\n\n    .dataframe tbody tr th {\n        vertical-align: top;\n    }\n\n    .dataframe thead th {\n        text-align: right;\n    }\n</style>\n<table border=\"1\" class=\"dataframe\">\n  <thead>\n    <tr style=\"text-align: right;\">\n      <th></th>\n      <th>tracking_number</th>\n      <th>incident_type</th>\n      <th>officer_primary_key</th>\n      <th>allegation_primary_key</th>\n      <th>allegation</th>\n      <th>disposition</th>\n      <th>allegation_finding</th>\n      <th>allegation_class</th>\n      <th>occur_time</th>\n      <th>assigned_unit</th>\n      <th>...</th>\n      <th>allegation_create_year</th>\n      <th>allegation_create_month</th>\n      <th>allegation_create_day</th>\n      <th>occur_year</th>\n      <th>occur_month</th>\n      <th>occur_day</th>\n      <th>charges</th>\n      <th>data_production_year</th>\n      <th>agency</th>\n      <th>complaint_uid</th>\n    </tr>\n  </thead>\n  <tbody>\n    <tr>\n      <th>23613</th>\n      <td>Feb-09</td>\n      <td>rank initiated</td>\n      <td>2064</td>\n      <td>12442</td>\n      <td></td>\n      <td>pending</td>\n      <td>pending</td>\n      <td>unknown class</td>\n      <td>NaN</td>\n      <td>Management Serv. Bureau</td>\n      <td>...</td>\n      <td>2012</td>\n      <td>10</td>\n      <td>9</td>\n      <td></td>\n      <td></td>\n      <td></td>\n      <td></td>\n      <td>2020</td>\n      <td>New Orleans PD</td>\n      <td>dd53c6b9c9cdea07823de29f6f27461d</td>\n    </tr>\n  </tbody>\n</table>\n<p>1 rows × 33 columns</p>\n</div>"
     },
     "metadata": {},
     "execution_count": 7
    }
   ],
   "source": [
    "complaints.loc[~complaints.tracking_number.str.match(r'^\\d+-.+')]"
   ]
  },
  {
   "cell_type": "code",
   "execution_count": 5,
   "metadata": {},
   "outputs": [],
   "source": [
    "# complaints[(complaints.allegation_finding == 'sustained') & (complaints.disposition != 'sustained')].to_csv('../data/complaints_with_non_sustained_disposition.csv', index=False)"
   ]
  },
  {
   "cell_type": "code",
   "execution_count": null,
   "metadata": {},
   "outputs": [],
   "source": []
  }
 ]
}
{
 "metadata": {
  "language_info": {
   "codemirror_mode": {
    "name": "ipython",
    "version": 3
   },
   "file_extension": ".py",
   "mimetype": "text/x-python",
   "name": "python",
   "nbconvert_exporter": "python",
   "pygments_lexer": "ipython3",
   "version": "3.8.3-final"
  },
  "orig_nbformat": 2,
  "kernelspec": {
   "name": "python3",
   "display_name": "Python 3.8.3 64-bit ('anaconda3': virtualenv)",
   "metadata": {
    "interpreter": {
     "hash": "759d03fc00c4e55187619d7bc1e0b6a3309d14c7c00d43a321634150e05678f8"
    }
   }
  }
 },
 "nbformat": 4,
 "nbformat_minor": 2,
 "cells": [
  {
   "cell_type": "code",
   "execution_count": 1,
   "metadata": {},
   "outputs": [],
   "source": [
    "import sys; sys.path.append(\"../\")\n",
    "import pandas as pd\n",
    "\n",
    "from lib.explore import show_unique\n",
    "from lib.split_schema import detect_unique_columns_subset\n",
    "from clean.ipm_new_orleans_pd_cprr_allegations import clean\n",
    "from clean.ipm_new_orleans_pd_cprr_actions_taken import clean as clean_at\n"
   ]
  },
  {
   "cell_type": "code",
   "execution_count": 2,
   "metadata": {},
   "outputs": [],
   "source": [
    "# complaints = clean()"
   ]
  },
  {
   "source": [
    "## Questions\n",
    "- What is `pib_control_number`? Is it the same as `tracking_number`?\n",
    "- Does `officer_primary_key` reference `officer_number` in PPRR?\n",
    "- What is `officer_unknown_id`?\n",
    "- There are 2474 rows with empty `officer_primary_key`, should we keep them?\n",
    "- Should we keep `citizens` as a table? What should we name it?\n",
    "- There are 2049 rows with empty `allegation_primary_key`, and none of them are sustained. Should we keep them?\n",
    "- Is `status` column `investigation_status`?\n",
    "- Go through each field in allegations and decide whether we want to keep them"
   ],
   "cell_type": "markdown",
   "metadata": {}
  },
  {
   "cell_type": "code",
   "execution_count": 3,
   "metadata": {},
   "outputs": [],
   "source": [
    "# complaints"
   ]
  },
  {
   "cell_type": "code",
   "execution_count": 4,
   "metadata": {},
   "outputs": [
    {
     "output_type": "stream",
     "name": "stderr",
     "text": [
      "../clean/ipm_new_orleans_pd_cprr_actions_taken.py:35: FutureWarning: The default value of regex will change from True to False in a future version.\n  df.action_taken_date.fillna('').str.replace(\n../clean/ipm_new_orleans_pd_cprr_actions_taken.py:32: FutureWarning: The default value of regex will change from True to False in a future version.\n  df.loc[:, 'action_taken_date'] = df.action_taken_year.str.cat(\n"
     ]
    },
    {
     "output_type": "execute_result",
     "data": {
      "text/plain": [
       "      allegation_primary_key  \\\n",
       "0                          1   \n",
       "1                         10   \n",
       "2                      10005   \n",
       "3                      10007   \n",
       "4                      10024   \n",
       "...                      ...   \n",
       "12869                   9989   \n",
       "12870                   9990   \n",
       "12871                   9996   \n",
       "12872                   9997   \n",
       "12873                   9998   \n",
       "\n",
       "                                                  action  \n",
       "0      Category: Administrative Investigation; Date: ...  \n",
       "1      Category: Criminal Investigation; Date: 2014-0...  \n",
       "2      Category: Administrative Investigation; Date: ...  \n",
       "3      Category: Administrative Investigation; Date: ...  \n",
       "4      Category: Administrative Investigation; Date: ...  \n",
       "...                                                  ...  \n",
       "12869  Category: Administrative Investigation; Date: ...  \n",
       "12870  Category: Administrative Investigation; Date: ...  \n",
       "12871  Category: Administrative Investigation; Date: ...  \n",
       "12872  Category: Administrative Investigation; Date: ...  \n",
       "12873  Category: Administrative Investigation; Date: ...  \n",
       "\n",
       "[12874 rows x 2 columns]"
      ],
      "text/html": "<div>\n<style scoped>\n    .dataframe tbody tr th:only-of-type {\n        vertical-align: middle;\n    }\n\n    .dataframe tbody tr th {\n        vertical-align: top;\n    }\n\n    .dataframe thead th {\n        text-align: right;\n    }\n</style>\n<table border=\"1\" class=\"dataframe\">\n  <thead>\n    <tr style=\"text-align: right;\">\n      <th></th>\n      <th>allegation_primary_key</th>\n      <th>action</th>\n    </tr>\n  </thead>\n  <tbody>\n    <tr>\n      <th>0</th>\n      <td>1</td>\n      <td>Category: Administrative Investigation; Date: ...</td>\n    </tr>\n    <tr>\n      <th>1</th>\n      <td>10</td>\n      <td>Category: Criminal Investigation; Date: 2014-0...</td>\n    </tr>\n    <tr>\n      <th>2</th>\n      <td>10005</td>\n      <td>Category: Administrative Investigation; Date: ...</td>\n    </tr>\n    <tr>\n      <th>3</th>\n      <td>10007</td>\n      <td>Category: Administrative Investigation; Date: ...</td>\n    </tr>\n    <tr>\n      <th>4</th>\n      <td>10024</td>\n      <td>Category: Administrative Investigation; Date: ...</td>\n    </tr>\n    <tr>\n      <th>...</th>\n      <td>...</td>\n      <td>...</td>\n    </tr>\n    <tr>\n      <th>12869</th>\n      <td>9989</td>\n      <td>Category: Administrative Investigation; Date: ...</td>\n    </tr>\n    <tr>\n      <th>12870</th>\n      <td>9990</td>\n      <td>Category: Administrative Investigation; Date: ...</td>\n    </tr>\n    <tr>\n      <th>12871</th>\n      <td>9996</td>\n      <td>Category: Administrative Investigation; Date: ...</td>\n    </tr>\n    <tr>\n      <th>12872</th>\n      <td>9997</td>\n      <td>Category: Administrative Investigation; Date: ...</td>\n    </tr>\n    <tr>\n      <th>12873</th>\n      <td>9998</td>\n      <td>Category: Administrative Investigation; Date: ...</td>\n    </tr>\n  </tbody>\n</table>\n<p>12874 rows × 2 columns</p>\n</div>"
     },
     "metadata": {},
     "execution_count": 4
    }
   ],
   "source": [
    "actions_taken = clean_at()\n",
    "actions_taken"
   ]
  },
  {
   "cell_type": "code",
   "execution_count": 5,
   "metadata": {},
   "outputs": [
    {
     "output_type": "execute_result",
     "data": {
      "text/plain": [
       "array(['Category: Administrative Investigation; Date: 2014-08-05; None - NFIM; OIPM: None; Completed',\n",
       "       'Category: Criminal Investigation; Date: 2014-04-15; None - Not Sustained; OIPM: None; Completed',\n",
       "       'Category: Administrative Investigation; Date: 2014-03-18; None - NFIM; OIPM: None; Completed',\n",
       "       ...,\n",
       "       'Category: Criminal Investigation; Date: 2012-08-03; None; OIPM: None; Completed',\n",
       "       'Category: Administrative Investigation; Date: 2013-10-02; Letter of Reprimand; OIPM: Letter of Reprimand; Completed',\n",
       "       'Category: Administrative Investigation; Date: 2014-05-21; Letter of Reprimand; OIPM: Letter of Reprimand; Completed'],\n",
       "      dtype=object)"
      ]
     },
     "metadata": {},
     "execution_count": 5
    }
   ],
   "source": [
    "actions_taken.action.unique()"
   ]
  },
  {
   "cell_type": "code",
   "execution_count": null,
   "metadata": {},
   "outputs": [],
   "source": []
  }
 ]
}
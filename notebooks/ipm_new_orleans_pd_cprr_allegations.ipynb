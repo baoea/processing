{
 "metadata": {
  "language_info": {
   "codemirror_mode": {
    "name": "ipython",
    "version": 3
   },
   "file_extension": ".py",
   "mimetype": "text/x-python",
   "name": "python",
   "nbconvert_exporter": "python",
   "pygments_lexer": "ipython3",
   "version": "3.8.3-final"
  },
  "orig_nbformat": 2,
  "kernelspec": {
   "name": "python3",
   "display_name": "Python 3.8.3 64-bit ('anaconda3': virtualenv)",
   "metadata": {
    "interpreter": {
     "hash": "759d03fc00c4e55187619d7bc1e0b6a3309d14c7c00d43a321634150e05678f8"
    }
   }
  }
 },
 "nbformat": 4,
 "nbformat_minor": 2,
 "cells": [
  {
   "cell_type": "code",
   "execution_count": 1,
   "metadata": {},
   "outputs": [],
   "source": [
    "import sys; sys.path.append(\"../\")\n",
    "import pandas as pd\n",
    "\n",
    "from lib.explore import show_unique\n",
    "from lib.split_schema import detect_unique_columns_subset\n",
    "from clean.ipm_new_orleans_pd_cprr_allegations import clean\n",
    "from clean.ipm_new_orleans_pd_cprr_actions_taken import clean as clean_at\n"
   ]
  },
  {
   "cell_type": "code",
   "execution_count": 2,
   "metadata": {},
   "outputs": [],
   "source": [
    "officers, citizens, complaints, allegations, allegation_citizens = clean()\n",
    "at_allegations, action_takens = clean_at()"
   ]
  },
  {
   "source": [
    "## Questions\n",
    "- What is `pib_control_number`? Is it the same as `tracking_number`?\n",
    "- Does `officer_primary_key` reference `officer_number` in PPRR?\n",
    "- What is `officer_unknown_id`?\n",
    "- There are 2474 rows with empty `officer_primary_key`, should we keep them?\n",
    "- Should we keep `citizens` as a table? What should we name it?\n",
    "- There are 2049 rows with empty `allegation_primary_key`, and none of them are sustained. Should we keep them?\n",
    "- Is `status` column `investigation_status`?\n",
    "- Go through each field in allegations and decide whether we want to keep them"
   ],
   "cell_type": "markdown",
   "metadata": {}
  },
  {
   "cell_type": "code",
   "execution_count": 3,
   "metadata": {},
   "outputs": [
    {
     "output_type": "execute_result",
     "data": {
      "text/plain": [
       "      allegation_incident_officer_id allegation_primary_key  \\\n",
       "10770                              1                      1   \n",
       "10771                             15                      8   \n",
       "10772                             16                      9   \n",
       "10773                             16                     10   \n",
       "10774                             15                     11   \n",
       "...                              ...                    ...   \n",
       "23656                          50220                  26268   \n",
       "23657                          48776                  26274   \n",
       "23658                          49460                  26280   \n",
       "23659                          49462                  26281   \n",
       "23660                          50278                  26284   \n",
       "\n",
       "                                       allegation   allegation_finding  \\\n",
       "10770              PARAGRAPH 04 - NEGLECT OF DUTY            NFIM CASE   \n",
       "10771             PARAGRAPH 01 - ADHERENCE TO LAW  NOT SUSTAINED - RUI   \n",
       "10772             PARAGRAPH 01 - ADHERENCE TO LAW        NOT SUSTAINED   \n",
       "10773  PARAGRAPH 02 - FALSE OR INACCURATE REPORTS        NOT SUSTAINED   \n",
       "10774  PARAGRAPH 02 - FALSE OR INACCURATE REPORTS  NOT SUSTAINED - RUI   \n",
       "...                                           ...                  ...   \n",
       "23656              PARAGRAPH 01 - Professionalism            SUSTAINED   \n",
       "23657              PARAGRAPH 04 - NEGLECT OF DUTY            SUSTAINED   \n",
       "23658             PARAGRAPH 01 - ADHERENCE TO LAW            UNFOUNDED   \n",
       "23659             PARAGRAPH 01 - ADHERENCE TO LAW            UNFOUNDED   \n",
       "23660             PARAGRAPH 01 - ADHERENCE TO LAW           EXONERATED   \n",
       "\n",
       "      allegation_final_disposition allegation_created_date  \\\n",
       "10770                    NFIM CASE                 3/25/11   \n",
       "10771          NOT SUSTAINED - RUI                  4/7/11   \n",
       "10772                NOT SUSTAINED                  4/7/11   \n",
       "10773                NOT SUSTAINED                  4/7/11   \n",
       "10774          NOT SUSTAINED - RUI                  4/7/11   \n",
       "...                            ...                     ...   \n",
       "23656             AWAITING HEARING                 2/14/19   \n",
       "23657                          NaN                 2/18/19   \n",
       "23658                          NaN                 2/19/19   \n",
       "23659                          NaN                 2/19/19   \n",
       "23660                          NaN                 2/20/19   \n",
       "\n",
       "      allegation_year_created allegation_month_created  \\\n",
       "10770                    2011                        3   \n",
       "10771                    2011                        4   \n",
       "10772                    2011                        4   \n",
       "10773                    2011                        4   \n",
       "10774                    2011                        4   \n",
       "...                       ...                      ...   \n",
       "23656                    2019                        2   \n",
       "23657                    2019                        2   \n",
       "23658                    2019                        2   \n",
       "23659                    2019                        2   \n",
       "23660                    2019                        2   \n",
       "\n",
       "      allegation_finding_date allegation_created_on  \\\n",
       "10770            1/29/11 0:00          3/25/11 0:00   \n",
       "10771            4/15/14 0:00           4/7/11 0:00   \n",
       "10772            4/15/14 0:00           4/7/11 0:00   \n",
       "10773            4/15/14 0:00           4/7/11 0:00   \n",
       "10774            4/15/14 0:00           4/7/11 0:00   \n",
       "...                       ...                   ...   \n",
       "23656             2/8/19 0:00          2/14/19 0:00   \n",
       "23657            1/23/19 0:00          2/18/19 0:00   \n",
       "23658            1/28/19 0:00          2/19/19 0:00   \n",
       "23659            1/28/19 0:00          2/19/19 0:00   \n",
       "23660            2/20/19 0:00          2/20/19 0:00   \n",
       "\n",
       "      allegation_final_disposition_date  \\\n",
       "10770                           5/10/11   \n",
       "10771                           4/15/14   \n",
       "10772                           4/15/14   \n",
       "10773                           4/15/14   \n",
       "10774                           4/15/14   \n",
       "...                                 ...   \n",
       "23656                           2/14/19   \n",
       "23657                               NaN   \n",
       "23658                               NaN   \n",
       "23659                               NaN   \n",
       "23660                               NaN   \n",
       "\n",
       "                                    allegation_directive  \n",
       "10770  RULE 4: PERFORMANCE OF DUTY - PARAGRAPH 04 - N...  \n",
       "10771                                                NaN  \n",
       "10772                                  Relative to Theft  \n",
       "10773                                                NaN  \n",
       "10774                                                NaN  \n",
       "...                                                  ...  \n",
       "23656                                                NaN  \n",
       "23657  NOPD Policy: Chapter 1.3.6 - Reporting Use of ...  \n",
       "23658                       R.S. 14:67 Relative to theft  \n",
       "23659                       R.S. 14:67 Relative to theft  \n",
       "23660                                                NaN  \n",
       "\n",
       "[12874 rows x 12 columns]"
      ],
      "text/html": "<div>\n<style scoped>\n    .dataframe tbody tr th:only-of-type {\n        vertical-align: middle;\n    }\n\n    .dataframe tbody tr th {\n        vertical-align: top;\n    }\n\n    .dataframe thead th {\n        text-align: right;\n    }\n</style>\n<table border=\"1\" class=\"dataframe\">\n  <thead>\n    <tr style=\"text-align: right;\">\n      <th></th>\n      <th>allegation_incident_officer_id</th>\n      <th>allegation_primary_key</th>\n      <th>allegation</th>\n      <th>allegation_finding</th>\n      <th>allegation_final_disposition</th>\n      <th>allegation_created_date</th>\n      <th>allegation_year_created</th>\n      <th>allegation_month_created</th>\n      <th>allegation_finding_date</th>\n      <th>allegation_created_on</th>\n      <th>allegation_final_disposition_date</th>\n      <th>allegation_directive</th>\n    </tr>\n  </thead>\n  <tbody>\n    <tr>\n      <th>10770</th>\n      <td>1</td>\n      <td>1</td>\n      <td>PARAGRAPH 04 - NEGLECT OF DUTY</td>\n      <td>NFIM CASE</td>\n      <td>NFIM CASE</td>\n      <td>3/25/11</td>\n      <td>2011</td>\n      <td>3</td>\n      <td>1/29/11 0:00</td>\n      <td>3/25/11 0:00</td>\n      <td>5/10/11</td>\n      <td>RULE 4: PERFORMANCE OF DUTY - PARAGRAPH 04 - N...</td>\n    </tr>\n    <tr>\n      <th>10771</th>\n      <td>15</td>\n      <td>8</td>\n      <td>PARAGRAPH 01 - ADHERENCE TO LAW</td>\n      <td>NOT SUSTAINED - RUI</td>\n      <td>NOT SUSTAINED - RUI</td>\n      <td>4/7/11</td>\n      <td>2011</td>\n      <td>4</td>\n      <td>4/15/14 0:00</td>\n      <td>4/7/11 0:00</td>\n      <td>4/15/14</td>\n      <td>NaN</td>\n    </tr>\n    <tr>\n      <th>10772</th>\n      <td>16</td>\n      <td>9</td>\n      <td>PARAGRAPH 01 - ADHERENCE TO LAW</td>\n      <td>NOT SUSTAINED</td>\n      <td>NOT SUSTAINED</td>\n      <td>4/7/11</td>\n      <td>2011</td>\n      <td>4</td>\n      <td>4/15/14 0:00</td>\n      <td>4/7/11 0:00</td>\n      <td>4/15/14</td>\n      <td>Relative to Theft</td>\n    </tr>\n    <tr>\n      <th>10773</th>\n      <td>16</td>\n      <td>10</td>\n      <td>PARAGRAPH 02 - FALSE OR INACCURATE REPORTS</td>\n      <td>NOT SUSTAINED</td>\n      <td>NOT SUSTAINED</td>\n      <td>4/7/11</td>\n      <td>2011</td>\n      <td>4</td>\n      <td>4/15/14 0:00</td>\n      <td>4/7/11 0:00</td>\n      <td>4/15/14</td>\n      <td>NaN</td>\n    </tr>\n    <tr>\n      <th>10774</th>\n      <td>15</td>\n      <td>11</td>\n      <td>PARAGRAPH 02 - FALSE OR INACCURATE REPORTS</td>\n      <td>NOT SUSTAINED - RUI</td>\n      <td>NOT SUSTAINED - RUI</td>\n      <td>4/7/11</td>\n      <td>2011</td>\n      <td>4</td>\n      <td>4/15/14 0:00</td>\n      <td>4/7/11 0:00</td>\n      <td>4/15/14</td>\n      <td>NaN</td>\n    </tr>\n    <tr>\n      <th>...</th>\n      <td>...</td>\n      <td>...</td>\n      <td>...</td>\n      <td>...</td>\n      <td>...</td>\n      <td>...</td>\n      <td>...</td>\n      <td>...</td>\n      <td>...</td>\n      <td>...</td>\n      <td>...</td>\n      <td>...</td>\n    </tr>\n    <tr>\n      <th>23656</th>\n      <td>50220</td>\n      <td>26268</td>\n      <td>PARAGRAPH 01 - Professionalism</td>\n      <td>SUSTAINED</td>\n      <td>AWAITING HEARING</td>\n      <td>2/14/19</td>\n      <td>2019</td>\n      <td>2</td>\n      <td>2/8/19 0:00</td>\n      <td>2/14/19 0:00</td>\n      <td>2/14/19</td>\n      <td>NaN</td>\n    </tr>\n    <tr>\n      <th>23657</th>\n      <td>48776</td>\n      <td>26274</td>\n      <td>PARAGRAPH 04 - NEGLECT OF DUTY</td>\n      <td>SUSTAINED</td>\n      <td>NaN</td>\n      <td>2/18/19</td>\n      <td>2019</td>\n      <td>2</td>\n      <td>1/23/19 0:00</td>\n      <td>2/18/19 0:00</td>\n      <td>NaN</td>\n      <td>NOPD Policy: Chapter 1.3.6 - Reporting Use of ...</td>\n    </tr>\n    <tr>\n      <th>23658</th>\n      <td>49460</td>\n      <td>26280</td>\n      <td>PARAGRAPH 01 - ADHERENCE TO LAW</td>\n      <td>UNFOUNDED</td>\n      <td>NaN</td>\n      <td>2/19/19</td>\n      <td>2019</td>\n      <td>2</td>\n      <td>1/28/19 0:00</td>\n      <td>2/19/19 0:00</td>\n      <td>NaN</td>\n      <td>R.S. 14:67 Relative to theft</td>\n    </tr>\n    <tr>\n      <th>23659</th>\n      <td>49462</td>\n      <td>26281</td>\n      <td>PARAGRAPH 01 - ADHERENCE TO LAW</td>\n      <td>UNFOUNDED</td>\n      <td>NaN</td>\n      <td>2/19/19</td>\n      <td>2019</td>\n      <td>2</td>\n      <td>1/28/19 0:00</td>\n      <td>2/19/19 0:00</td>\n      <td>NaN</td>\n      <td>R.S. 14:67 Relative to theft</td>\n    </tr>\n    <tr>\n      <th>23660</th>\n      <td>50278</td>\n      <td>26284</td>\n      <td>PARAGRAPH 01 - ADHERENCE TO LAW</td>\n      <td>EXONERATED</td>\n      <td>NaN</td>\n      <td>2/20/19</td>\n      <td>2019</td>\n      <td>2</td>\n      <td>2/20/19 0:00</td>\n      <td>2/20/19 0:00</td>\n      <td>NaN</td>\n      <td>NaN</td>\n    </tr>\n  </tbody>\n</table>\n<p>12874 rows × 12 columns</p>\n</div>"
     },
     "metadata": {},
     "execution_count": 3
    }
   ],
   "source": [
    "at_allegations"
   ]
  },
  {
   "cell_type": "code",
   "execution_count": 6,
   "metadata": {},
   "outputs": [],
   "source": [
    "pks = allegations.allegation_primary_key.unique().tolist()\n",
    "at_allegations.loc[~at_allegations.allegation_primary_key.isin(pks)].to_csv(\"../data/missing_allegations.csv\", index=False)"
   ]
  },
  {
   "cell_type": "code",
   "execution_count": null,
   "metadata": {},
   "outputs": [],
   "source": []
  }
 ]
}
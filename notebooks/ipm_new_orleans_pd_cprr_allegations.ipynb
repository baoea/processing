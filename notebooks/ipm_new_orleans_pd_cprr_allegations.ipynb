{
 "metadata": {
  "language_info": {
   "codemirror_mode": {
    "name": "ipython",
    "version": 3
   },
   "file_extension": ".py",
   "mimetype": "text/x-python",
   "name": "python",
   "nbconvert_exporter": "python",
   "pygments_lexer": "ipython3",
   "version": "3.8.3-final"
  },
  "orig_nbformat": 2,
  "kernelspec": {
   "name": "python3",
   "display_name": "Python 3.8.3 64-bit ('base': conda)",
   "metadata": {
    "interpreter": {
     "hash": "759d03fc00c4e55187619d7bc1e0b6a3309d14c7c00d43a321634150e05678f8"
    }
   }
  }
 },
 "nbformat": 4,
 "nbformat_minor": 2,
 "cells": [
  {
   "cell_type": "code",
   "execution_count": 1,
   "metadata": {},
   "outputs": [],
   "source": [
    "import sys; sys.path.append(\"../\")\n",
    "import pandas as pd\n",
    "\n",
    "from lib.explore import show_unique\n",
    "from lib.split_schema import detect_unique_columns_subset\n",
    "from clean.ipm_new_orleans_pd_cprr_allegations import clean\n",
    "from clean.ipm_new_orleans_pd_cprr_actions_taken import clean as clean_at\n"
   ]
  },
  {
   "cell_type": "code",
   "execution_count": 2,
   "metadata": {},
   "outputs": [
    {
     "output_type": "stream",
     "name": "stderr",
     "text": [
      "/Users/khoipham/opt/anaconda3/lib/python3.8/site-packages/IPython/core/interactiveshell.py:3343: DtypeWarning: Columns (63,74) have mixed types.Specify dtype option on import or set low_memory=False.\n",
      "  exec(code_obj, self.user_global_ns, self.user_ns)\n",
      "../lib/clean.py:134: FutureWarning: The default value of regex will change from True to False in a future version.\n",
      "  df.loc[:, col] = df[col].str.strip().str.lower()\\\n",
      "../lib/clean.py:142: FutureWarning: The default value of regex will change from True to False in a future version.\n",
      "  df.loc[:, col] = df[col].str.strip().str.lower()\\\n",
      "../clean/ipm_new_orleans_pd_cprr_allegations.py:77: FutureWarning: The default value of regex will change from True to False in a future version.\n",
      "  df.loc[:, 'occur_time'] = df.occur_time.str.replace(r'\\.0$', '')\n",
      "../clean/ipm_new_orleans_pd_cprr_allegations.py:83: FutureWarning: The default value of regex will change from True to False in a future version.\n",
      "  df.loc[:, col] = df[col].str.replace(r' 0:00$', '')\n",
      "../clean/ipm_new_orleans_pd_cprr_allegations.py:88: FutureWarning: The default value of regex will change from True to False in a future version.\n",
      "  df.loc[:, 'complainant_type'] = df.complainant_type.str.lower().str.strip()\\\n",
      "../clean/ipm_new_orleans_pd_cprr_allegations.py:95: FutureWarning: The default value of regex will change from True to False in a future version.\n",
      "  df.loc[:, \"charges\"] = df.rule_violation.str.cat(df.paragraph_violation, sep='; ')\\\n"
     ]
    }
   ],
   "source": [
    "complaints = clean()"
   ]
  },
  {
   "source": [
    "## Questions\n",
    "- What is `pib_control_number`? Is it the same as `tracking_number`?\n",
    "- Does `officer_primary_key` reference `officer_number` in PPRR?\n",
    "- What is `officer_unknown_id`?\n",
    "- There are 2474 rows with empty `officer_primary_key`, should we keep them?\n",
    "- Should we keep `citizens` as a table? What should we name it?\n",
    "- There are 2049 rows with empty `allegation_primary_key`, and none of them are sustained. Should we keep them?\n",
    "- Is `status` column `investigation_status`?\n",
    "- Go through each field in allegations and decide whether we want to keep them"
   ],
   "cell_type": "markdown",
   "metadata": {}
  },
  {
   "cell_type": "code",
   "execution_count": 3,
   "metadata": {},
   "outputs": [
    {
     "output_type": "execute_result",
     "data": {
      "text/plain": [
       "      tracking_number     incident_type raw_occur_date occur_year occur_month  \\\n",
       "0         2011-1288-N  public initiated            NaN                          \n",
       "1         2011-1270-N  public initiated            NaN                          \n",
       "2         2011-1268-N  public initiated            NaN                          \n",
       "3         2011-1261-N  public initiated            NaN                          \n",
       "4         2011-1260-D    rank initiated            NaN                          \n",
       "...               ...               ...            ...        ...         ...   \n",
       "25932     2019-0112-P  public initiated        8/14/18       2018           8   \n",
       "25933     2019-0112-P  public initiated        8/14/18       2018           8   \n",
       "25934     2019-0112-P  public initiated        8/14/18       2018           8   \n",
       "25935     2019-0112-P  public initiated        8/14/18       2018           8   \n",
       "25936     2019-0089-P  public initiated            NaN                          \n",
       "\n",
       "      disposition occur_time           assigned_unit  \\\n",
       "0         pending        NaN      PIB Intake Section   \n",
       "1         pending        NaN      PIB Intake Section   \n",
       "2         pending        NaN      PIB Administrative   \n",
       "3         pending        NaN      PIB Intake Section   \n",
       "4         pending        NaN  Field Operation Bureau   \n",
       "...           ...        ...                     ...   \n",
       "25932     pending      20:00      PIB Intake Section   \n",
       "25933     pending      20:00      PIB Intake Section   \n",
       "25934     pending      20:00      PIB Intake Section   \n",
       "25935     pending      20:00      PIB Intake Section   \n",
       "25936     pending        NaN      PIB Intake Section   \n",
       "\n",
       "                 assigned_department assigned_division  ... receive_year  \\\n",
       "0                                NaN               NaN  ...         2011   \n",
       "1                                NaN               NaN  ...         2011   \n",
       "2                                NaN               NaN  ...         2011   \n",
       "3                                NaN               NaN  ...         2011   \n",
       "4                                NaN               NaN  ...         2011   \n",
       "...                              ...               ...  ...          ...   \n",
       "25932  FOB - Field Operations Bureau    Sixth District  ...         2019   \n",
       "25933  FOB - Field Operations Bureau    Sixth District  ...         2019   \n",
       "25934  FOB - Field Operations Bureau    Sixth District  ...         2019   \n",
       "25935  FOB - Field Operations Bureau    Sixth District  ...         2019   \n",
       "25936                            NaN               NaN  ...         2019   \n",
       "\n",
       "      receive_month receive_day allegation_create_year  \\\n",
       "0                11          21                          \n",
       "1                11          15                          \n",
       "2                11          15                          \n",
       "3                11          14                          \n",
       "4                11          14                          \n",
       "...             ...         ...                    ...   \n",
       "25932             2          21                   2019   \n",
       "25933             2          21                   2019   \n",
       "25934             2          21                   2019   \n",
       "25935             2          21                          \n",
       "25936             2          11                   2019   \n",
       "\n",
       "      allegation_create_month allegation_create_day  \\\n",
       "0                                                     \n",
       "1                                                     \n",
       "2                                                     \n",
       "3                                                     \n",
       "4                                                     \n",
       "...                       ...                   ...   \n",
       "25932                       2                    21   \n",
       "25933                       2                    21   \n",
       "25934                       2                    21   \n",
       "25935                                                 \n",
       "25936                       2                    21   \n",
       "\n",
       "                                                 charges data_production_year  \\\n",
       "0                                                                        2020   \n",
       "1                                                                        2020   \n",
       "2                                                                        2020   \n",
       "3                                                                        2020   \n",
       "4                                                                        2020   \n",
       "...                                                  ...                  ...   \n",
       "25932  rule 4: perf of duty; paragraph 04 - neglect o...                 2020   \n",
       "25933  rule 4: perf of duty; paragraph 04 - neglect o...                 2020   \n",
       "25934  rule 4: perf of duty; paragraph 04 - neglect o...                 2020   \n",
       "25935  rule 4: perf of duty; paragraph 04 - neglect o...                 2020   \n",
       "25936                                                                    2020   \n",
       "\n",
       "               agency                    allegation_uid  \n",
       "0      New Orleans PD  6427102418e1d5577d7768af38b035b1  \n",
       "1      New Orleans PD  116f373e429cb068957ddc91bcd9e847  \n",
       "2      New Orleans PD  e951407a303580d6b6d35110739f6d37  \n",
       "3      New Orleans PD  5c90f62030fd8735558c82e42905ae0f  \n",
       "4      New Orleans PD  c38355e5663edad2d42b32798afed43c  \n",
       "...               ...                               ...  \n",
       "25932  New Orleans PD  dac6f33f681a11beea70976e21f0db6d  \n",
       "25933  New Orleans PD  5da10c194da240cd371e48c3f3637da7  \n",
       "25934  New Orleans PD  06bdd9106633434e1a725a1cc423c141  \n",
       "25935  New Orleans PD  6a3e596c349234eb7d745014a5bc6ae2  \n",
       "25936  New Orleans PD  c1fd805d39ace6ad4947e12876ac6355  \n",
       "\n",
       "[25937 rows x 33 columns]"
      ],
      "text/html": "<div>\n<style scoped>\n    .dataframe tbody tr th:only-of-type {\n        vertical-align: middle;\n    }\n\n    .dataframe tbody tr th {\n        vertical-align: top;\n    }\n\n    .dataframe thead th {\n        text-align: right;\n    }\n</style>\n<table border=\"1\" class=\"dataframe\">\n  <thead>\n    <tr style=\"text-align: right;\">\n      <th></th>\n      <th>tracking_number</th>\n      <th>incident_type</th>\n      <th>raw_occur_date</th>\n      <th>occur_year</th>\n      <th>occur_month</th>\n      <th>disposition</th>\n      <th>occur_time</th>\n      <th>assigned_unit</th>\n      <th>assigned_department</th>\n      <th>assigned_division</th>\n      <th>...</th>\n      <th>receive_year</th>\n      <th>receive_month</th>\n      <th>receive_day</th>\n      <th>allegation_create_year</th>\n      <th>allegation_create_month</th>\n      <th>allegation_create_day</th>\n      <th>charges</th>\n      <th>data_production_year</th>\n      <th>agency</th>\n      <th>allegation_uid</th>\n    </tr>\n  </thead>\n  <tbody>\n    <tr>\n      <th>0</th>\n      <td>2011-1288-N</td>\n      <td>public initiated</td>\n      <td>NaN</td>\n      <td></td>\n      <td></td>\n      <td>pending</td>\n      <td>NaN</td>\n      <td>PIB Intake Section</td>\n      <td>NaN</td>\n      <td>NaN</td>\n      <td>...</td>\n      <td>2011</td>\n      <td>11</td>\n      <td>21</td>\n      <td></td>\n      <td></td>\n      <td></td>\n      <td></td>\n      <td>2020</td>\n      <td>New Orleans PD</td>\n      <td>6427102418e1d5577d7768af38b035b1</td>\n    </tr>\n    <tr>\n      <th>1</th>\n      <td>2011-1270-N</td>\n      <td>public initiated</td>\n      <td>NaN</td>\n      <td></td>\n      <td></td>\n      <td>pending</td>\n      <td>NaN</td>\n      <td>PIB Intake Section</td>\n      <td>NaN</td>\n      <td>NaN</td>\n      <td>...</td>\n      <td>2011</td>\n      <td>11</td>\n      <td>15</td>\n      <td></td>\n      <td></td>\n      <td></td>\n      <td></td>\n      <td>2020</td>\n      <td>New Orleans PD</td>\n      <td>116f373e429cb068957ddc91bcd9e847</td>\n    </tr>\n    <tr>\n      <th>2</th>\n      <td>2011-1268-N</td>\n      <td>public initiated</td>\n      <td>NaN</td>\n      <td></td>\n      <td></td>\n      <td>pending</td>\n      <td>NaN</td>\n      <td>PIB Administrative</td>\n      <td>NaN</td>\n      <td>NaN</td>\n      <td>...</td>\n      <td>2011</td>\n      <td>11</td>\n      <td>15</td>\n      <td></td>\n      <td></td>\n      <td></td>\n      <td></td>\n      <td>2020</td>\n      <td>New Orleans PD</td>\n      <td>e951407a303580d6b6d35110739f6d37</td>\n    </tr>\n    <tr>\n      <th>3</th>\n      <td>2011-1261-N</td>\n      <td>public initiated</td>\n      <td>NaN</td>\n      <td></td>\n      <td></td>\n      <td>pending</td>\n      <td>NaN</td>\n      <td>PIB Intake Section</td>\n      <td>NaN</td>\n      <td>NaN</td>\n      <td>...</td>\n      <td>2011</td>\n      <td>11</td>\n      <td>14</td>\n      <td></td>\n      <td></td>\n      <td></td>\n      <td></td>\n      <td>2020</td>\n      <td>New Orleans PD</td>\n      <td>5c90f62030fd8735558c82e42905ae0f</td>\n    </tr>\n    <tr>\n      <th>4</th>\n      <td>2011-1260-D</td>\n      <td>rank initiated</td>\n      <td>NaN</td>\n      <td></td>\n      <td></td>\n      <td>pending</td>\n      <td>NaN</td>\n      <td>Field Operation Bureau</td>\n      <td>NaN</td>\n      <td>NaN</td>\n      <td>...</td>\n      <td>2011</td>\n      <td>11</td>\n      <td>14</td>\n      <td></td>\n      <td></td>\n      <td></td>\n      <td></td>\n      <td>2020</td>\n      <td>New Orleans PD</td>\n      <td>c38355e5663edad2d42b32798afed43c</td>\n    </tr>\n    <tr>\n      <th>...</th>\n      <td>...</td>\n      <td>...</td>\n      <td>...</td>\n      <td>...</td>\n      <td>...</td>\n      <td>...</td>\n      <td>...</td>\n      <td>...</td>\n      <td>...</td>\n      <td>...</td>\n      <td>...</td>\n      <td>...</td>\n      <td>...</td>\n      <td>...</td>\n      <td>...</td>\n      <td>...</td>\n      <td>...</td>\n      <td>...</td>\n      <td>...</td>\n      <td>...</td>\n      <td>...</td>\n    </tr>\n    <tr>\n      <th>25932</th>\n      <td>2019-0112-P</td>\n      <td>public initiated</td>\n      <td>8/14/18</td>\n      <td>2018</td>\n      <td>8</td>\n      <td>pending</td>\n      <td>20:00</td>\n      <td>PIB Intake Section</td>\n      <td>FOB - Field Operations Bureau</td>\n      <td>Sixth District</td>\n      <td>...</td>\n      <td>2019</td>\n      <td>2</td>\n      <td>21</td>\n      <td>2019</td>\n      <td>2</td>\n      <td>21</td>\n      <td>rule 4: perf of duty; paragraph 04 - neglect o...</td>\n      <td>2020</td>\n      <td>New Orleans PD</td>\n      <td>dac6f33f681a11beea70976e21f0db6d</td>\n    </tr>\n    <tr>\n      <th>25933</th>\n      <td>2019-0112-P</td>\n      <td>public initiated</td>\n      <td>8/14/18</td>\n      <td>2018</td>\n      <td>8</td>\n      <td>pending</td>\n      <td>20:00</td>\n      <td>PIB Intake Section</td>\n      <td>FOB - Field Operations Bureau</td>\n      <td>Sixth District</td>\n      <td>...</td>\n      <td>2019</td>\n      <td>2</td>\n      <td>21</td>\n      <td>2019</td>\n      <td>2</td>\n      <td>21</td>\n      <td>rule 4: perf of duty; paragraph 04 - neglect o...</td>\n      <td>2020</td>\n      <td>New Orleans PD</td>\n      <td>5da10c194da240cd371e48c3f3637da7</td>\n    </tr>\n    <tr>\n      <th>25934</th>\n      <td>2019-0112-P</td>\n      <td>public initiated</td>\n      <td>8/14/18</td>\n      <td>2018</td>\n      <td>8</td>\n      <td>pending</td>\n      <td>20:00</td>\n      <td>PIB Intake Section</td>\n      <td>FOB - Field Operations Bureau</td>\n      <td>Sixth District</td>\n      <td>...</td>\n      <td>2019</td>\n      <td>2</td>\n      <td>21</td>\n      <td>2019</td>\n      <td>2</td>\n      <td>21</td>\n      <td>rule 4: perf of duty; paragraph 04 - neglect o...</td>\n      <td>2020</td>\n      <td>New Orleans PD</td>\n      <td>06bdd9106633434e1a725a1cc423c141</td>\n    </tr>\n    <tr>\n      <th>25935</th>\n      <td>2019-0112-P</td>\n      <td>public initiated</td>\n      <td>8/14/18</td>\n      <td>2018</td>\n      <td>8</td>\n      <td>pending</td>\n      <td>20:00</td>\n      <td>PIB Intake Section</td>\n      <td>FOB - Field Operations Bureau</td>\n      <td>Sixth District</td>\n      <td>...</td>\n      <td>2019</td>\n      <td>2</td>\n      <td>21</td>\n      <td></td>\n      <td></td>\n      <td></td>\n      <td>rule 4: perf of duty; paragraph 04 - neglect o...</td>\n      <td>2020</td>\n      <td>New Orleans PD</td>\n      <td>6a3e596c349234eb7d745014a5bc6ae2</td>\n    </tr>\n    <tr>\n      <th>25936</th>\n      <td>2019-0089-P</td>\n      <td>public initiated</td>\n      <td>NaN</td>\n      <td></td>\n      <td></td>\n      <td>pending</td>\n      <td>NaN</td>\n      <td>PIB Intake Section</td>\n      <td>NaN</td>\n      <td>NaN</td>\n      <td>...</td>\n      <td>2019</td>\n      <td>2</td>\n      <td>11</td>\n      <td>2019</td>\n      <td>2</td>\n      <td>21</td>\n      <td></td>\n      <td>2020</td>\n      <td>New Orleans PD</td>\n      <td>c1fd805d39ace6ad4947e12876ac6355</td>\n    </tr>\n  </tbody>\n</table>\n<p>25937 rows × 33 columns</p>\n</div>"
     },
     "metadata": {},
     "execution_count": 3
    }
   ],
   "source": [
    "complaints"
   ]
  },
  {
   "cell_type": "code",
   "execution_count": null,
   "metadata": {},
   "outputs": [],
   "source": []
  }
 ]
}
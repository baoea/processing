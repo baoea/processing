{
 "metadata": {
  "language_info": {
   "codemirror_mode": {
    "name": "ipython",
    "version": 3
   },
   "file_extension": ".py",
   "mimetype": "text/x-python",
   "name": "python",
   "nbconvert_exporter": "python",
   "pygments_lexer": "ipython3",
   "version": "3.8.3-final"
  },
  "orig_nbformat": 2,
  "kernelspec": {
   "name": "python383jvsc74a57bd0759d03fc00c4e55187619d7bc1e0b6a3309d14c7c00d43a321634150e05678f8",
   "display_name": "Python 3.8.3 64-bit ('anaconda3': virtualenv)"
  }
 },
 "nbformat": 4,
 "nbformat_minor": 2,
 "cells": [
  {
   "cell_type": "code",
   "execution_count": 1,
   "metadata": {},
   "outputs": [],
   "source": [
    "import sys; sys.path.append(\"../\")\n",
    "import pandas as pd\n",
    "\n",
    "from lib.explore import show_unique\n",
    "from lib.split_schema import detect_unique_columns_subset\n",
    "from clean.ipm_new_orleans_pd_cprr_allegations import clean\n",
    "from clean.ipm_new_orleans_pd_cprr_actions_taken import clean as clean_at\n",
    "from lib import events\n"
   ]
  },
  {
   "cell_type": "code",
   "execution_count": 2,
   "metadata": {},
   "outputs": [
    {
     "output_type": "stream",
     "name": "stderr",
     "text": [
      "/Users/khoipham/opt/anaconda3/lib/python3.8/site-packages/IPython/core/interactiveshell.py:3343: DtypeWarning: Columns (63,74) have mixed types.Specify dtype option on import or set low_memory=False.\n",
      "  exec(code_obj, self.user_global_ns, self.user_ns)\n",
      "../lib/clean.py:134: FutureWarning: The default value of regex will change from True to False in a future version.\n",
      "  df.loc[:, col] = df[col].str.strip().str.lower()\\\n",
      "../lib/clean.py:142: FutureWarning: The default value of regex will change from True to False in a future version.\n",
      "  df.loc[:, col] = df[col].str.strip().str.lower()\\\n",
      "../clean/ipm_new_orleans_pd_cprr_allegations.py:75: FutureWarning: The default value of regex will change from True to False in a future version.\n",
      "  df.loc[:, 'occur_time'] = df.occur_time.str.replace(r'\\.0$', '')\n",
      "../clean/ipm_new_orleans_pd_cprr_allegations.py:81: FutureWarning: The default value of regex will change from True to False in a future version.\n",
      "  df.loc[:, col] = df[col].str.replace(r' 0:00$', '')\n",
      "../clean/ipm_new_orleans_pd_cprr_allegations.py:86: FutureWarning: The default value of regex will change from True to False in a future version.\n",
      "  df.loc[:, 'complainant_type'] = df.complainant_type.str.lower().str.strip()\\\n",
      "../clean/ipm_new_orleans_pd_cprr_allegations.py:93: FutureWarning: The default value of regex will change from True to False in a future version.\n",
      "  df.loc[:, \"charges\"] = df.rule_violation.str.cat(df.paragraph_violation, sep='; ')\\\n"
     ]
    }
   ],
   "source": [
    "complaints = clean()"
   ]
  },
  {
   "cell_type": "code",
   "execution_count": 3,
   "metadata": {},
   "outputs": [
    {
     "output_type": "execute_result",
     "data": {
      "text/plain": [
       "      tracking_number     incident_type disposition occur_time  \\\n",
       "0         2011-1288-N  public initiated     pending        NaN   \n",
       "1         2011-1270-N  public initiated     pending        NaN   \n",
       "2         2011-1268-N  public initiated     pending        NaN   \n",
       "3         2011-1261-N  public initiated     pending        NaN   \n",
       "4         2011-1260-D    rank initiated     pending        NaN   \n",
       "...               ...               ...         ...        ...   \n",
       "25932     2019-0112-P  public initiated     pending      20:00   \n",
       "25933     2019-0112-P  public initiated     pending      20:00   \n",
       "25934     2019-0112-P  public initiated     pending      20:00   \n",
       "25935     2019-0112-P  public initiated     pending      20:00   \n",
       "25936     2019-0089-P  public initiated     pending        NaN   \n",
       "\n",
       "                assigned_unit            assigned_department  \\\n",
       "0          PIB Intake Section                            NaN   \n",
       "1          PIB Intake Section                            NaN   \n",
       "2          PIB Administrative                            NaN   \n",
       "3          PIB Intake Section                            NaN   \n",
       "4      Field Operation Bureau                            NaN   \n",
       "...                       ...                            ...   \n",
       "25932      PIB Intake Section  FOB - Field Operations Bureau   \n",
       "25933      PIB Intake Section  FOB - Field Operations Bureau   \n",
       "25934      PIB Intake Section  FOB - Field Operations Bureau   \n",
       "25935      PIB Intake Section  FOB - Field Operations Bureau   \n",
       "25936      PIB Intake Section                            NaN   \n",
       "\n",
       "      assigned_division assigned_sub_division_a assigned_sub_division_b  \\\n",
       "0                   NaN                     NaN                     NaN   \n",
       "1                   NaN                     NaN                     NaN   \n",
       "2                   NaN                     NaN                     NaN   \n",
       "3                   NaN                     NaN                     NaN   \n",
       "4                   NaN                     NaN                     NaN   \n",
       "...                 ...                     ...                     ...   \n",
       "25932    Sixth District               C Platoon                 Persons   \n",
       "25933    Sixth District               C Platoon                 Persons   \n",
       "25934    Sixth District               C Platoon                 Persons   \n",
       "25935    Sixth District               C Platoon                 Persons   \n",
       "25936               NaN                     NaN                     NaN   \n",
       "\n",
       "      complainant_type  ... allegation_create_month allegation_create_day  \\\n",
       "0              citizen  ...                                                 \n",
       "1              citizen  ...                                                 \n",
       "2              citizen  ...                                                 \n",
       "3              citizen  ...                                                 \n",
       "4        nopd employee  ...                                                 \n",
       "...                ...  ...                     ...                   ...   \n",
       "25932              ipm  ...                       2                    21   \n",
       "25933              ipm  ...                       2                    21   \n",
       "25934              ipm  ...                       2                    21   \n",
       "25935              ipm  ...                                                 \n",
       "25936          citizen  ...                       2                    21   \n",
       "\n",
       "      occur_year occur_month occur_day  \\\n",
       "0                                        \n",
       "1                                        \n",
       "2                                        \n",
       "3                                        \n",
       "4                                        \n",
       "...          ...         ...       ...   \n",
       "25932       2018           8        14   \n",
       "25933       2018           8        14   \n",
       "25934       2018           8        14   \n",
       "25935       2018           8        14   \n",
       "25936                                    \n",
       "\n",
       "                                                 charges data_production_year  \\\n",
       "0                                                                        2020   \n",
       "1                                                                        2020   \n",
       "2                                                                        2020   \n",
       "3                                                                        2020   \n",
       "4                                                                        2020   \n",
       "...                                                  ...                  ...   \n",
       "25932  rule 4: perf of duty; paragraph 04 - neglect o...                 2020   \n",
       "25933  rule 4: perf of duty; paragraph 04 - neglect o...                 2020   \n",
       "25934  rule 4: perf of duty; paragraph 04 - neglect o...                 2020   \n",
       "25935  rule 4: perf of duty; paragraph 04 - neglect o...                 2020   \n",
       "25936                                                                    2020   \n",
       "\n",
       "               agency                     complaint_uid  \\\n",
       "0      New Orleans PD  89f5da1968e87d34a20ed804aab24a4e   \n",
       "1      New Orleans PD  7bf648226b9a53b2ea31a88cd56d3ae0   \n",
       "2      New Orleans PD  f44bc0e1e682c86d745ab8bf6db13a58   \n",
       "3      New Orleans PD  d60a53cb61f9301632667f4d2ca15ef6   \n",
       "4      New Orleans PD  ee7c10a33351dfb8965b9a48b664460b   \n",
       "...               ...                               ...   \n",
       "25932  New Orleans PD  f5c9c41ef701d77e92722cc7f22af420   \n",
       "25933  New Orleans PD  f5c9c41ef701d77e92722cc7f22af420   \n",
       "25934  New Orleans PD  f5c9c41ef701d77e92722cc7f22af420   \n",
       "25935  New Orleans PD  f5c9c41ef701d77e92722cc7f22af420   \n",
       "25936  New Orleans PD  c5b51931510825712ba8800bb86e9995   \n",
       "\n",
       "                         allegation_uid  \n",
       "0      e593fd422a660c07e9fd2631ea8c5bde  \n",
       "1      f8f363d02b127fa1c963f09c7f77907a  \n",
       "2      95d603cd0b4da035f79f51f3b3342507  \n",
       "3      9e5b41c5667b2eb32fe3fc4d4e9c2224  \n",
       "4      747f01b74e38209667a3c9ffe768b090  \n",
       "...                                 ...  \n",
       "25932  ac4238593e37b02bf9b5c000191d3131  \n",
       "25933  86a43dcf505dd5ff9c0e2b355efa482a  \n",
       "25934  71c9174dda005c5e583591b0a0783de1  \n",
       "25935  1015b9906d4984171bd40b3f4a96d347  \n",
       "25936  2081710da45ea61eb53c8c82fc7fa7ec  \n",
       "\n",
       "[25937 rows x 34 columns]"
      ],
      "text/html": "<div>\n<style scoped>\n    .dataframe tbody tr th:only-of-type {\n        vertical-align: middle;\n    }\n\n    .dataframe tbody tr th {\n        vertical-align: top;\n    }\n\n    .dataframe thead th {\n        text-align: right;\n    }\n</style>\n<table border=\"1\" class=\"dataframe\">\n  <thead>\n    <tr style=\"text-align: right;\">\n      <th></th>\n      <th>tracking_number</th>\n      <th>incident_type</th>\n      <th>disposition</th>\n      <th>occur_time</th>\n      <th>assigned_unit</th>\n      <th>assigned_department</th>\n      <th>assigned_division</th>\n      <th>assigned_sub_division_a</th>\n      <th>assigned_sub_division_b</th>\n      <th>complainant_type</th>\n      <th>...</th>\n      <th>allegation_create_month</th>\n      <th>allegation_create_day</th>\n      <th>occur_year</th>\n      <th>occur_month</th>\n      <th>occur_day</th>\n      <th>charges</th>\n      <th>data_production_year</th>\n      <th>agency</th>\n      <th>complaint_uid</th>\n      <th>allegation_uid</th>\n    </tr>\n  </thead>\n  <tbody>\n    <tr>\n      <th>0</th>\n      <td>2011-1288-N</td>\n      <td>public initiated</td>\n      <td>pending</td>\n      <td>NaN</td>\n      <td>PIB Intake Section</td>\n      <td>NaN</td>\n      <td>NaN</td>\n      <td>NaN</td>\n      <td>NaN</td>\n      <td>citizen</td>\n      <td>...</td>\n      <td></td>\n      <td></td>\n      <td></td>\n      <td></td>\n      <td></td>\n      <td></td>\n      <td>2020</td>\n      <td>New Orleans PD</td>\n      <td>89f5da1968e87d34a20ed804aab24a4e</td>\n      <td>e593fd422a660c07e9fd2631ea8c5bde</td>\n    </tr>\n    <tr>\n      <th>1</th>\n      <td>2011-1270-N</td>\n      <td>public initiated</td>\n      <td>pending</td>\n      <td>NaN</td>\n      <td>PIB Intake Section</td>\n      <td>NaN</td>\n      <td>NaN</td>\n      <td>NaN</td>\n      <td>NaN</td>\n      <td>citizen</td>\n      <td>...</td>\n      <td></td>\n      <td></td>\n      <td></td>\n      <td></td>\n      <td></td>\n      <td></td>\n      <td>2020</td>\n      <td>New Orleans PD</td>\n      <td>7bf648226b9a53b2ea31a88cd56d3ae0</td>\n      <td>f8f363d02b127fa1c963f09c7f77907a</td>\n    </tr>\n    <tr>\n      <th>2</th>\n      <td>2011-1268-N</td>\n      <td>public initiated</td>\n      <td>pending</td>\n      <td>NaN</td>\n      <td>PIB Administrative</td>\n      <td>NaN</td>\n      <td>NaN</td>\n      <td>NaN</td>\n      <td>NaN</td>\n      <td>citizen</td>\n      <td>...</td>\n      <td></td>\n      <td></td>\n      <td></td>\n      <td></td>\n      <td></td>\n      <td></td>\n      <td>2020</td>\n      <td>New Orleans PD</td>\n      <td>f44bc0e1e682c86d745ab8bf6db13a58</td>\n      <td>95d603cd0b4da035f79f51f3b3342507</td>\n    </tr>\n    <tr>\n      <th>3</th>\n      <td>2011-1261-N</td>\n      <td>public initiated</td>\n      <td>pending</td>\n      <td>NaN</td>\n      <td>PIB Intake Section</td>\n      <td>NaN</td>\n      <td>NaN</td>\n      <td>NaN</td>\n      <td>NaN</td>\n      <td>citizen</td>\n      <td>...</td>\n      <td></td>\n      <td></td>\n      <td></td>\n      <td></td>\n      <td></td>\n      <td></td>\n      <td>2020</td>\n      <td>New Orleans PD</td>\n      <td>d60a53cb61f9301632667f4d2ca15ef6</td>\n      <td>9e5b41c5667b2eb32fe3fc4d4e9c2224</td>\n    </tr>\n    <tr>\n      <th>4</th>\n      <td>2011-1260-D</td>\n      <td>rank initiated</td>\n      <td>pending</td>\n      <td>NaN</td>\n      <td>Field Operation Bureau</td>\n      <td>NaN</td>\n      <td>NaN</td>\n      <td>NaN</td>\n      <td>NaN</td>\n      <td>nopd employee</td>\n      <td>...</td>\n      <td></td>\n      <td></td>\n      <td></td>\n      <td></td>\n      <td></td>\n      <td></td>\n      <td>2020</td>\n      <td>New Orleans PD</td>\n      <td>ee7c10a33351dfb8965b9a48b664460b</td>\n      <td>747f01b74e38209667a3c9ffe768b090</td>\n    </tr>\n    <tr>\n      <th>...</th>\n      <td>...</td>\n      <td>...</td>\n      <td>...</td>\n      <td>...</td>\n      <td>...</td>\n      <td>...</td>\n      <td>...</td>\n      <td>...</td>\n      <td>...</td>\n      <td>...</td>\n      <td>...</td>\n      <td>...</td>\n      <td>...</td>\n      <td>...</td>\n      <td>...</td>\n      <td>...</td>\n      <td>...</td>\n      <td>...</td>\n      <td>...</td>\n      <td>...</td>\n      <td>...</td>\n    </tr>\n    <tr>\n      <th>25932</th>\n      <td>2019-0112-P</td>\n      <td>public initiated</td>\n      <td>pending</td>\n      <td>20:00</td>\n      <td>PIB Intake Section</td>\n      <td>FOB - Field Operations Bureau</td>\n      <td>Sixth District</td>\n      <td>C Platoon</td>\n      <td>Persons</td>\n      <td>ipm</td>\n      <td>...</td>\n      <td>2</td>\n      <td>21</td>\n      <td>2018</td>\n      <td>8</td>\n      <td>14</td>\n      <td>rule 4: perf of duty; paragraph 04 - neglect o...</td>\n      <td>2020</td>\n      <td>New Orleans PD</td>\n      <td>f5c9c41ef701d77e92722cc7f22af420</td>\n      <td>ac4238593e37b02bf9b5c000191d3131</td>\n    </tr>\n    <tr>\n      <th>25933</th>\n      <td>2019-0112-P</td>\n      <td>public initiated</td>\n      <td>pending</td>\n      <td>20:00</td>\n      <td>PIB Intake Section</td>\n      <td>FOB - Field Operations Bureau</td>\n      <td>Sixth District</td>\n      <td>C Platoon</td>\n      <td>Persons</td>\n      <td>ipm</td>\n      <td>...</td>\n      <td>2</td>\n      <td>21</td>\n      <td>2018</td>\n      <td>8</td>\n      <td>14</td>\n      <td>rule 4: perf of duty; paragraph 04 - neglect o...</td>\n      <td>2020</td>\n      <td>New Orleans PD</td>\n      <td>f5c9c41ef701d77e92722cc7f22af420</td>\n      <td>86a43dcf505dd5ff9c0e2b355efa482a</td>\n    </tr>\n    <tr>\n      <th>25934</th>\n      <td>2019-0112-P</td>\n      <td>public initiated</td>\n      <td>pending</td>\n      <td>20:00</td>\n      <td>PIB Intake Section</td>\n      <td>FOB - Field Operations Bureau</td>\n      <td>Sixth District</td>\n      <td>C Platoon</td>\n      <td>Persons</td>\n      <td>ipm</td>\n      <td>...</td>\n      <td>2</td>\n      <td>21</td>\n      <td>2018</td>\n      <td>8</td>\n      <td>14</td>\n      <td>rule 4: perf of duty; paragraph 04 - neglect o...</td>\n      <td>2020</td>\n      <td>New Orleans PD</td>\n      <td>f5c9c41ef701d77e92722cc7f22af420</td>\n      <td>71c9174dda005c5e583591b0a0783de1</td>\n    </tr>\n    <tr>\n      <th>25935</th>\n      <td>2019-0112-P</td>\n      <td>public initiated</td>\n      <td>pending</td>\n      <td>20:00</td>\n      <td>PIB Intake Section</td>\n      <td>FOB - Field Operations Bureau</td>\n      <td>Sixth District</td>\n      <td>C Platoon</td>\n      <td>Persons</td>\n      <td>ipm</td>\n      <td>...</td>\n      <td></td>\n      <td></td>\n      <td>2018</td>\n      <td>8</td>\n      <td>14</td>\n      <td>rule 4: perf of duty; paragraph 04 - neglect o...</td>\n      <td>2020</td>\n      <td>New Orleans PD</td>\n      <td>f5c9c41ef701d77e92722cc7f22af420</td>\n      <td>1015b9906d4984171bd40b3f4a96d347</td>\n    </tr>\n    <tr>\n      <th>25936</th>\n      <td>2019-0089-P</td>\n      <td>public initiated</td>\n      <td>pending</td>\n      <td>NaN</td>\n      <td>PIB Intake Section</td>\n      <td>NaN</td>\n      <td>NaN</td>\n      <td>NaN</td>\n      <td>NaN</td>\n      <td>citizen</td>\n      <td>...</td>\n      <td>2</td>\n      <td>21</td>\n      <td></td>\n      <td></td>\n      <td></td>\n      <td></td>\n      <td>2020</td>\n      <td>New Orleans PD</td>\n      <td>c5b51931510825712ba8800bb86e9995</td>\n      <td>2081710da45ea61eb53c8c82fc7fa7ec</td>\n    </tr>\n  </tbody>\n</table>\n<p>25937 rows × 34 columns</p>\n</div>"
     },
     "metadata": {},
     "execution_count": 3
    }
   ],
   "source": [
    "complaints"
   ]
  },
  {
   "cell_type": "code",
   "execution_count": 4,
   "metadata": {},
   "outputs": [
    {
     "output_type": "execute_result",
     "data": {
      "text/plain": [
       "Index(['tracking_number', 'incident_type', 'disposition', 'occur_time',\n",
       "       'assigned_unit', 'assigned_department', 'assigned_division',\n",
       "       'assigned_sub_division_a', 'assigned_sub_division_b',\n",
       "       'complainant_type', 'traffic_stop', 'body_worn_camera_available',\n",
       "       'app_used', 'citizen_arrested', 'officer_primary_key',\n",
       "       'allegation_primary_key', 'allegation_finding', 'allegation',\n",
       "       'allegation_class', 'citizen', 'receive_year', 'receive_month',\n",
       "       'receive_day', 'allegation_create_year', 'allegation_create_month',\n",
       "       'allegation_create_day', 'occur_year', 'occur_month', 'occur_day',\n",
       "       'charges', 'data_production_year', 'agency', 'complaint_uid',\n",
       "       'allegation_uid'],\n",
       "      dtype='object')"
      ]
     },
     "metadata": {},
     "execution_count": 4
    }
   ],
   "source": [
    "complaints.columns"
   ]
  },
  {
   "cell_type": "code",
   "execution_count": 5,
   "metadata": {},
   "outputs": [
    {
     "output_type": "error",
     "ename": "AttributeError",
     "evalue": "'DataFrame' object has no attribute 'raw_occur_date'",
     "traceback": [
      "\u001b[0;31m---------------------------------------------------------------------------\u001b[0m",
      "\u001b[0;31mAttributeError\u001b[0m                            Traceback (most recent call last)",
      "\u001b[0;32m<ipython-input-5-a71197e44a15>\u001b[0m in \u001b[0;36m<module>\u001b[0;34m\u001b[0m\n\u001b[1;32m      1\u001b[0m complaints.loc[\n\u001b[0;32m----> 2\u001b[0;31m     \u001b[0;34m~\u001b[0m\u001b[0mcomplaints\u001b[0m\u001b[0;34m.\u001b[0m\u001b[0mraw_occur_date\u001b[0m\u001b[0;34m.\u001b[0m\u001b[0mfillna\u001b[0m\u001b[0;34m(\u001b[0m\u001b[0;34m''\u001b[0m\u001b[0;34m)\u001b[0m\u001b[0;34m.\u001b[0m\u001b[0mstr\u001b[0m\u001b[0;34m.\u001b[0m\u001b[0mmatch\u001b[0m\u001b[0;34m(\u001b[0m\u001b[0;34mr'^\\d+\\/\\d+\\/\\d+$'\u001b[0m\u001b[0;34m)\u001b[0m\u001b[0;34m,\u001b[0m\u001b[0;34m\u001b[0m\u001b[0;34m\u001b[0m\u001b[0m\n\u001b[0m\u001b[1;32m      3\u001b[0m     'raw_occur_date'].unique()\n",
      "\u001b[0;32m~/opt/anaconda3/lib/python3.8/site-packages/pandas/core/generic.py\u001b[0m in \u001b[0;36m__getattr__\u001b[0;34m(self, name)\u001b[0m\n\u001b[1;32m   5458\u001b[0m             \u001b[0;32mif\u001b[0m \u001b[0mself\u001b[0m\u001b[0;34m.\u001b[0m\u001b[0m_info_axis\u001b[0m\u001b[0;34m.\u001b[0m\u001b[0m_can_hold_identifiers_and_holds_name\u001b[0m\u001b[0;34m(\u001b[0m\u001b[0mname\u001b[0m\u001b[0;34m)\u001b[0m\u001b[0;34m:\u001b[0m\u001b[0;34m\u001b[0m\u001b[0;34m\u001b[0m\u001b[0m\n\u001b[1;32m   5459\u001b[0m                 \u001b[0;32mreturn\u001b[0m \u001b[0mself\u001b[0m\u001b[0;34m[\u001b[0m\u001b[0mname\u001b[0m\u001b[0;34m]\u001b[0m\u001b[0;34m\u001b[0m\u001b[0;34m\u001b[0m\u001b[0m\n\u001b[0;32m-> 5460\u001b[0;31m             \u001b[0;32mreturn\u001b[0m \u001b[0mobject\u001b[0m\u001b[0;34m.\u001b[0m\u001b[0m__getattribute__\u001b[0m\u001b[0;34m(\u001b[0m\u001b[0mself\u001b[0m\u001b[0;34m,\u001b[0m \u001b[0mname\u001b[0m\u001b[0;34m)\u001b[0m\u001b[0;34m\u001b[0m\u001b[0;34m\u001b[0m\u001b[0m\n\u001b[0m\u001b[1;32m   5461\u001b[0m \u001b[0;34m\u001b[0m\u001b[0m\n\u001b[1;32m   5462\u001b[0m     \u001b[0;32mdef\u001b[0m \u001b[0m__setattr__\u001b[0m\u001b[0;34m(\u001b[0m\u001b[0mself\u001b[0m\u001b[0;34m,\u001b[0m \u001b[0mname\u001b[0m\u001b[0;34m:\u001b[0m \u001b[0mstr\u001b[0m\u001b[0;34m,\u001b[0m \u001b[0mvalue\u001b[0m\u001b[0;34m)\u001b[0m \u001b[0;34m->\u001b[0m \u001b[0;32mNone\u001b[0m\u001b[0;34m:\u001b[0m\u001b[0;34m\u001b[0m\u001b[0;34m\u001b[0m\u001b[0m\n",
      "\u001b[0;31mAttributeError\u001b[0m: 'DataFrame' object has no attribute 'raw_occur_date'"
     ]
    }
   ],
   "source": [
    "complaints.loc[\n",
    "    ~complaints.raw_occur_date.fillna('').str.match(r'^\\d+\\/\\d+\\/\\d+$'),\n",
    "    'raw_occur_date'].unique()"
   ]
  },
  {
   "cell_type": "code",
   "execution_count": null,
   "metadata": {},
   "outputs": [],
   "source": []
  }
 ]
}
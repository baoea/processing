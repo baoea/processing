{
 "metadata": {
  "language_info": {
   "codemirror_mode": {
    "name": "ipython",
    "version": 3
   },
   "file_extension": ".py",
   "mimetype": "text/x-python",
   "name": "python",
   "nbconvert_exporter": "python",
   "pygments_lexer": "ipython3",
   "version": "3.8.3-final"
  },
  "orig_nbformat": 2,
  "kernelspec": {
   "name": "python3",
   "display_name": "Python 3.8.3 64-bit ('base': conda)",
   "metadata": {
    "interpreter": {
     "hash": "759d03fc00c4e55187619d7bc1e0b6a3309d14c7c00d43a321634150e05678f8"
    }
   }
  }
 },
 "nbformat": 4,
 "nbformat_minor": 2,
 "cells": [
  {
   "cell_type": "code",
   "execution_count": 1,
   "metadata": {},
   "outputs": [],
   "source": [
    "import sys; sys.path.append(\"../\")\n",
    "import pandas as pd\n",
    "\n",
    "from lib.explore import show_unique\n",
    "from lib.split_schema import detect_unique_columns_subset\n",
    "from clean.ipm_new_orleans_pd_cprr_allegations import clean\n",
    "from clean.ipm_new_orleans_pd_cprr_actions_taken import clean as clean_at\n"
   ]
  },
  {
   "cell_type": "code",
   "execution_count": 2,
   "metadata": {},
   "outputs": [],
   "source": [
    "officers, citizens, complaints, allegations, allegation_citizens = clean()\n",
    "at_allegations, action_takens = clean_at()"
   ]
  },
  {
   "source": [
    "## Questions\n",
    "- What is `pib_control_number`? Is it the same as `tracking_number`?\n",
    "- Does `officer_primary_key` reference `officer_number` in PPRR?\n",
    "- What is `officer_unknown_id`?\n",
    "- There are 2474 rows with empty `officer_primary_key`, should we keep them?\n",
    "- Should we keep `citizens` as a table? What should we name it?\n",
    "- There are 2049 rows with empty `allegation_primary_key`, and none of them are sustained. Should we keep them?\n",
    "- Is `status` column `investigation_status`?\n",
    "- Go through each field in allegations and decide whether we want to keep them"
   ],
   "cell_type": "markdown",
   "metadata": {}
  },
  {
   "cell_type": "code",
   "execution_count": 3,
   "metadata": {},
   "outputs": [
    {
     "output_type": "execute_result",
     "data": {
      "text/plain": [
       "      pib_control_number officer_primary_key allegation_primary_key  \\\n",
       "559          2011-0001-N                2326                      1   \n",
       "560          2011-0003-C                3667                      2   \n",
       "561          2011-0015-R                1404                      4   \n",
       "562          2011-0015-R                 974                      3   \n",
       "563          2011-0335-R                1220                      5   \n",
       "...                  ...                 ...                    ...   \n",
       "26320        2019-0080-P                1025                  26288   \n",
       "26321        2019-0112-P                 882                  26291   \n",
       "26322        2019-0112-P                5404                  26292   \n",
       "26323        2019-0112-P                3719                  26293   \n",
       "26325        2019-0089-P                2101                  26294   \n",
       "\n",
       "                                              allegation  \\\n",
       "559                       paragraph 04 - neglect of duty   \n",
       "560                       paragraph 01 - professionalism   \n",
       "561    paragraph 02 - instructions from authoritative...   \n",
       "562    paragraph 02 - instructions from authoritative...   \n",
       "563                       paragraph 04 - neglect of duty   \n",
       "...                                                  ...   \n",
       "26320                     paragraph 04 - neglect of duty   \n",
       "26321                     paragraph 04 - neglect of duty   \n",
       "26322                     paragraph 04 - neglect of duty   \n",
       "26323                     paragraph 04 - neglect of duty   \n",
       "26325                     paragraph 04 - neglect of duty   \n",
       "\n",
       "          allegation_finding allegation_final_disposition  \\\n",
       "559                nfim case                    nfim case   \n",
       "560                nfim case                    nfim case   \n",
       "561                sustained                    sustained   \n",
       "562                sustained                    sustained   \n",
       "563               exonerated                   exonerated   \n",
       "...                      ...                          ...   \n",
       "26320  pending investigation                                \n",
       "26321                                                       \n",
       "26322                                                       \n",
       "26323                                                       \n",
       "26325  pending investigation                                \n",
       "\n",
       "                all_findings disposition_oipm_by_officer  \\\n",
       "559                nfim case                        nfim   \n",
       "560                nfim case                        nfim   \n",
       "561                sustained                   sustained   \n",
       "562                sustained                   sustained   \n",
       "563               exonerated                  exonerated   \n",
       "...                      ...                         ...   \n",
       "26320  pending investigation                     pending   \n",
       "26321                                            pending   \n",
       "26322                                            pending   \n",
       "26323                                            pending   \n",
       "26325  pending investigation                     pending   \n",
       "\n",
       "      allegation_finding_oipm                            allegation_1  ...  \\\n",
       "559                      nfim                         neglect of duty  ...   \n",
       "560                      nfim                         professionalism  ...   \n",
       "561                 sustained  instructions from authoritative source  ...   \n",
       "562                 sustained  instructions from authoritative source  ...   \n",
       "563                exonerated                         neglect of duty  ...   \n",
       "...                       ...                                     ...  ...   \n",
       "26320                 pending                         neglect of duty  ...   \n",
       "26321                 pending                         neglect of duty  ...   \n",
       "26322                 pending                         neglect of duty  ...   \n",
       "26323                 pending                         neglect of duty  ...   \n",
       "26325                 pending                         neglect of duty  ...   \n",
       "\n",
       "               officer_title officer_age_at_time_of_uof  \\\n",
       "559          POLICE SERGEANT                       45.0   \n",
       "560          POLICE SERGEANT                       45.0   \n",
       "561           POLICE OFFICER                       29.0   \n",
       "562    SENIOR POLICE OFFICER                       23.0   \n",
       "563         POLICE OFFICER 3                       27.0   \n",
       "...                      ...                        ...   \n",
       "26320  SENIOR POLICE OFFICER                       40.0   \n",
       "26321  SENIOR POLICE OFFICER                       45.0   \n",
       "26322  SENIOR POLICE OFFICER                       36.0   \n",
       "26323        POLICE SERGEANT                       52.0   \n",
       "26325  SENIOR POLICE OFFICER                        NaN   \n",
       "\n",
       "      officer_years_exp_at_time_of_uof officer_years_with_unit  officer_type  \\\n",
       "559                               18.0                    -3.0  Commissioned   \n",
       "560                               24.0                    -3.0  Commissioned   \n",
       "561                                3.0                    -1.0  Commissioned   \n",
       "562                                2.0                    -1.0  Commissioned   \n",
       "563                                3.0                    -2.0  Commissioned   \n",
       "...                                ...                     ...           ...   \n",
       "26320                             11.0                     7.0  Commissioned   \n",
       "26321                             10.0                     5.0  Commissioned   \n",
       "26322                              5.0                     4.0  Commissioned   \n",
       "26323                             31.0                     4.0  Commissioned   \n",
       "26325                              NaN                     NaN  Commissioned   \n",
       "\n",
       "      officer_employment_status                       officer_department  \\\n",
       "559                      Active            FOB - Field Operations Bureau   \n",
       "560                      Active            FOB - Field Operations Bureau   \n",
       "561                  Terminated          MSB - Management Service Bureau   \n",
       "562                      Active  ISB - Investigations and Support Bureau   \n",
       "563                  Terminated            FOB - Field Operations Bureau   \n",
       "...                         ...                                      ...   \n",
       "26320                    Active            FOB - Field Operations Bureau   \n",
       "26321                    Active            FOB - Field Operations Bureau   \n",
       "26322                    Active            FOB - Field Operations Bureau   \n",
       "26323                    Active            FOB - Field Operations Bureau   \n",
       "26325                    Active            FOB - Field Operations Bureau   \n",
       "\n",
       "                      officer_division    officer_sub_division_a  \\\n",
       "559                     First District               2nd Platoon   \n",
       "560        Special Operations Division           Traffic Section   \n",
       "561     Administrative Duties Services                     Staff   \n",
       "562    Special Investigations Division          Street Gang Unit   \n",
       "563                   Seventh District                     Staff   \n",
       "...                                ...                       ...   \n",
       "26320                  Second District                 B Platoon   \n",
       "26321                   Sixth District                 C Platoon   \n",
       "26322                   Sixth District                    D.I.U.   \n",
       "26323                   Sixth District                Task Force   \n",
       "26325                   Fifth District  School Resource Officers   \n",
       "\n",
       "       officer_sub_division_b  \n",
       "559                       NaN  \n",
       "560                  DWI Unit  \n",
       "561                       NaN  \n",
       "562                   Squad A  \n",
       "563                       NaN  \n",
       "...                       ...  \n",
       "26320                     NaN  \n",
       "26321                     NaN  \n",
       "26322                 Persons  \n",
       "26323                       B  \n",
       "26325                     NaN  \n",
       "\n",
       "[24168 rows x 33 columns]"
      ],
      "text/html": "<div>\n<style scoped>\n    .dataframe tbody tr th:only-of-type {\n        vertical-align: middle;\n    }\n\n    .dataframe tbody tr th {\n        vertical-align: top;\n    }\n\n    .dataframe thead th {\n        text-align: right;\n    }\n</style>\n<table border=\"1\" class=\"dataframe\">\n  <thead>\n    <tr style=\"text-align: right;\">\n      <th></th>\n      <th>pib_control_number</th>\n      <th>officer_primary_key</th>\n      <th>allegation_primary_key</th>\n      <th>allegation</th>\n      <th>allegation_finding</th>\n      <th>allegation_final_disposition</th>\n      <th>all_findings</th>\n      <th>disposition_oipm_by_officer</th>\n      <th>allegation_finding_oipm</th>\n      <th>allegation_1</th>\n      <th>...</th>\n      <th>officer_title</th>\n      <th>officer_age_at_time_of_uof</th>\n      <th>officer_years_exp_at_time_of_uof</th>\n      <th>officer_years_with_unit</th>\n      <th>officer_type</th>\n      <th>officer_employment_status</th>\n      <th>officer_department</th>\n      <th>officer_division</th>\n      <th>officer_sub_division_a</th>\n      <th>officer_sub_division_b</th>\n    </tr>\n  </thead>\n  <tbody>\n    <tr>\n      <th>559</th>\n      <td>2011-0001-N</td>\n      <td>2326</td>\n      <td>1</td>\n      <td>paragraph 04 - neglect of duty</td>\n      <td>nfim case</td>\n      <td>nfim case</td>\n      <td>nfim case</td>\n      <td>nfim</td>\n      <td>nfim</td>\n      <td>neglect of duty</td>\n      <td>...</td>\n      <td>POLICE SERGEANT</td>\n      <td>45.0</td>\n      <td>18.0</td>\n      <td>-3.0</td>\n      <td>Commissioned</td>\n      <td>Active</td>\n      <td>FOB - Field Operations Bureau</td>\n      <td>First District</td>\n      <td>2nd Platoon</td>\n      <td>NaN</td>\n    </tr>\n    <tr>\n      <th>560</th>\n      <td>2011-0003-C</td>\n      <td>3667</td>\n      <td>2</td>\n      <td>paragraph 01 - professionalism</td>\n      <td>nfim case</td>\n      <td>nfim case</td>\n      <td>nfim case</td>\n      <td>nfim</td>\n      <td>nfim</td>\n      <td>professionalism</td>\n      <td>...</td>\n      <td>POLICE SERGEANT</td>\n      <td>45.0</td>\n      <td>24.0</td>\n      <td>-3.0</td>\n      <td>Commissioned</td>\n      <td>Active</td>\n      <td>FOB - Field Operations Bureau</td>\n      <td>Special Operations Division</td>\n      <td>Traffic Section</td>\n      <td>DWI Unit</td>\n    </tr>\n    <tr>\n      <th>561</th>\n      <td>2011-0015-R</td>\n      <td>1404</td>\n      <td>4</td>\n      <td>paragraph 02 - instructions from authoritative...</td>\n      <td>sustained</td>\n      <td>sustained</td>\n      <td>sustained</td>\n      <td>sustained</td>\n      <td>sustained</td>\n      <td>instructions from authoritative source</td>\n      <td>...</td>\n      <td>POLICE OFFICER</td>\n      <td>29.0</td>\n      <td>3.0</td>\n      <td>-1.0</td>\n      <td>Commissioned</td>\n      <td>Terminated</td>\n      <td>MSB - Management Service Bureau</td>\n      <td>Administrative Duties Services</td>\n      <td>Staff</td>\n      <td>NaN</td>\n    </tr>\n    <tr>\n      <th>562</th>\n      <td>2011-0015-R</td>\n      <td>974</td>\n      <td>3</td>\n      <td>paragraph 02 - instructions from authoritative...</td>\n      <td>sustained</td>\n      <td>sustained</td>\n      <td>sustained</td>\n      <td>sustained</td>\n      <td>sustained</td>\n      <td>instructions from authoritative source</td>\n      <td>...</td>\n      <td>SENIOR POLICE OFFICER</td>\n      <td>23.0</td>\n      <td>2.0</td>\n      <td>-1.0</td>\n      <td>Commissioned</td>\n      <td>Active</td>\n      <td>ISB - Investigations and Support Bureau</td>\n      <td>Special Investigations Division</td>\n      <td>Street Gang Unit</td>\n      <td>Squad A</td>\n    </tr>\n    <tr>\n      <th>563</th>\n      <td>2011-0335-R</td>\n      <td>1220</td>\n      <td>5</td>\n      <td>paragraph 04 - neglect of duty</td>\n      <td>exonerated</td>\n      <td>exonerated</td>\n      <td>exonerated</td>\n      <td>exonerated</td>\n      <td>exonerated</td>\n      <td>neglect of duty</td>\n      <td>...</td>\n      <td>POLICE OFFICER 3</td>\n      <td>27.0</td>\n      <td>3.0</td>\n      <td>-2.0</td>\n      <td>Commissioned</td>\n      <td>Terminated</td>\n      <td>FOB - Field Operations Bureau</td>\n      <td>Seventh District</td>\n      <td>Staff</td>\n      <td>NaN</td>\n    </tr>\n    <tr>\n      <th>...</th>\n      <td>...</td>\n      <td>...</td>\n      <td>...</td>\n      <td>...</td>\n      <td>...</td>\n      <td>...</td>\n      <td>...</td>\n      <td>...</td>\n      <td>...</td>\n      <td>...</td>\n      <td>...</td>\n      <td>...</td>\n      <td>...</td>\n      <td>...</td>\n      <td>...</td>\n      <td>...</td>\n      <td>...</td>\n      <td>...</td>\n      <td>...</td>\n      <td>...</td>\n      <td>...</td>\n    </tr>\n    <tr>\n      <th>26320</th>\n      <td>2019-0080-P</td>\n      <td>1025</td>\n      <td>26288</td>\n      <td>paragraph 04 - neglect of duty</td>\n      <td>pending investigation</td>\n      <td></td>\n      <td>pending investigation</td>\n      <td>pending</td>\n      <td>pending</td>\n      <td>neglect of duty</td>\n      <td>...</td>\n      <td>SENIOR POLICE OFFICER</td>\n      <td>40.0</td>\n      <td>11.0</td>\n      <td>7.0</td>\n      <td>Commissioned</td>\n      <td>Active</td>\n      <td>FOB - Field Operations Bureau</td>\n      <td>Second District</td>\n      <td>B Platoon</td>\n      <td>NaN</td>\n    </tr>\n    <tr>\n      <th>26321</th>\n      <td>2019-0112-P</td>\n      <td>882</td>\n      <td>26291</td>\n      <td>paragraph 04 - neglect of duty</td>\n      <td></td>\n      <td></td>\n      <td></td>\n      <td>pending</td>\n      <td>pending</td>\n      <td>neglect of duty</td>\n      <td>...</td>\n      <td>SENIOR POLICE OFFICER</td>\n      <td>45.0</td>\n      <td>10.0</td>\n      <td>5.0</td>\n      <td>Commissioned</td>\n      <td>Active</td>\n      <td>FOB - Field Operations Bureau</td>\n      <td>Sixth District</td>\n      <td>C Platoon</td>\n      <td>NaN</td>\n    </tr>\n    <tr>\n      <th>26322</th>\n      <td>2019-0112-P</td>\n      <td>5404</td>\n      <td>26292</td>\n      <td>paragraph 04 - neglect of duty</td>\n      <td></td>\n      <td></td>\n      <td></td>\n      <td>pending</td>\n      <td>pending</td>\n      <td>neglect of duty</td>\n      <td>...</td>\n      <td>SENIOR POLICE OFFICER</td>\n      <td>36.0</td>\n      <td>5.0</td>\n      <td>4.0</td>\n      <td>Commissioned</td>\n      <td>Active</td>\n      <td>FOB - Field Operations Bureau</td>\n      <td>Sixth District</td>\n      <td>D.I.U.</td>\n      <td>Persons</td>\n    </tr>\n    <tr>\n      <th>26323</th>\n      <td>2019-0112-P</td>\n      <td>3719</td>\n      <td>26293</td>\n      <td>paragraph 04 - neglect of duty</td>\n      <td></td>\n      <td></td>\n      <td></td>\n      <td>pending</td>\n      <td>pending</td>\n      <td>neglect of duty</td>\n      <td>...</td>\n      <td>POLICE SERGEANT</td>\n      <td>52.0</td>\n      <td>31.0</td>\n      <td>4.0</td>\n      <td>Commissioned</td>\n      <td>Active</td>\n      <td>FOB - Field Operations Bureau</td>\n      <td>Sixth District</td>\n      <td>Task Force</td>\n      <td>B</td>\n    </tr>\n    <tr>\n      <th>26325</th>\n      <td>2019-0089-P</td>\n      <td>2101</td>\n      <td>26294</td>\n      <td>paragraph 04 - neglect of duty</td>\n      <td>pending investigation</td>\n      <td></td>\n      <td>pending investigation</td>\n      <td>pending</td>\n      <td>pending</td>\n      <td>neglect of duty</td>\n      <td>...</td>\n      <td>SENIOR POLICE OFFICER</td>\n      <td>NaN</td>\n      <td>NaN</td>\n      <td>NaN</td>\n      <td>Commissioned</td>\n      <td>Active</td>\n      <td>FOB - Field Operations Bureau</td>\n      <td>Fifth District</td>\n      <td>School Resource Officers</td>\n      <td>NaN</td>\n    </tr>\n  </tbody>\n</table>\n<p>24168 rows × 33 columns</p>\n</div>"
     },
     "metadata": {},
     "execution_count": 3
    }
   ],
   "source": [
    "allegations"
   ]
  },
  {
   "cell_type": "code",
   "execution_count": 6,
   "metadata": {},
   "outputs": [
    {
     "output_type": "stream",
     "name": "stdout",
     "text": [
      "Index(['pib_control_number', 'officer_primary_key', 'allegation_primary_key',\n       'allegation', 'allegation_finding', 'allegation_final_disposition',\n       'all_findings', 'disposition_oipm_by_officer',\n       'allegation_finding_oipm', 'allegation_1', 'allegation_class',\n       'allegation_finding_date', 'allegation_created_on',\n       'allegation_class_1', 'allegation_final_disposition_date',\n       'allegation_directive', 'allegation_alert_processed',\n       'allegation_alert_processed_date', 'citizen_age', 'citizen_num_shots',\n       'is_anonymous', 'officer_badge_number', 'officer_current_supervisor',\n       'officer_title', 'officer_age_at_time_of_uof',\n       'officer_years_exp_at_time_of_uof', 'officer_years_with_unit',\n       'officer_type', 'officer_employment_status', 'officer_department',\n       'officer_division', 'officer_sub_division_a', 'officer_sub_division_b'],\n      dtype='object')\n"
     ]
    },
    {
     "output_type": "execute_result",
     "data": {
      "text/plain": [
       "                         allegation allegation_finding  \\\n",
       "559  paragraph 04 - neglect of duty          nfim case   \n",
       "\n",
       "    allegation_final_disposition allegation_created_on  \\\n",
       "559                    nfim case          3/25/11 0:00   \n",
       "\n",
       "    allegation_finding_date allegation_final_disposition_date  \\\n",
       "559            1/29/11 0:00                           5/10/11   \n",
       "\n",
       "                                  allegation_directive  \n",
       "559  rule 4: performance of duty - paragraph 04 - n...  "
      ],
      "text/html": "<div>\n<style scoped>\n    .dataframe tbody tr th:only-of-type {\n        vertical-align: middle;\n    }\n\n    .dataframe tbody tr th {\n        vertical-align: top;\n    }\n\n    .dataframe thead th {\n        text-align: right;\n    }\n</style>\n<table border=\"1\" class=\"dataframe\">\n  <thead>\n    <tr style=\"text-align: right;\">\n      <th></th>\n      <th>allegation</th>\n      <th>allegation_finding</th>\n      <th>allegation_final_disposition</th>\n      <th>allegation_created_on</th>\n      <th>allegation_finding_date</th>\n      <th>allegation_final_disposition_date</th>\n      <th>allegation_directive</th>\n    </tr>\n  </thead>\n  <tbody>\n    <tr>\n      <th>559</th>\n      <td>paragraph 04 - neglect of duty</td>\n      <td>nfim case</td>\n      <td>nfim case</td>\n      <td>3/25/11 0:00</td>\n      <td>1/29/11 0:00</td>\n      <td>5/10/11</td>\n      <td>rule 4: performance of duty - paragraph 04 - n...</td>\n    </tr>\n  </tbody>\n</table>\n</div>"
     },
     "metadata": {},
     "execution_count": 6
    }
   ],
   "source": [
    "print(allegations.columns)\n",
    "allegations.loc[allegations.allegation_primary_key == \"1\", [\n",
    "    \"allegation\", \"allegation_finding\", \"allegation_final_disposition\", \"allegation_created_on\", \"allegation_finding_date\",\n",
    "    \"allegation_final_disposition_date\", \"allegation_directive\"\n",
    "]]"
   ]
  },
  {
   "cell_type": "code",
   "execution_count": 11,
   "metadata": {},
   "outputs": [
    {
     "output_type": "execute_result",
     "data": {
      "text/plain": [
       "array([  nan, 2016., 2018., 2019.])"
      ]
     },
     "metadata": {},
     "execution_count": 11
    }
   ],
   "source": [
    "at_allegations.loc[:, 'allegation_primary_key'] = at_allegations.allegation_primary_key.fillna(0).astype(\"int64\").astype(str).str.replace(r\"^0$\", \"\", regex=True)\n",
    "at_allegations.loc[~at_allegations.allegation_primary_key.isin(allegations.allegation_primary_key.to_list()), \"allegation_year_created\"].unique()"
   ]
  },
  {
   "cell_type": "code",
   "execution_count": 12,
   "metadata": {},
   "outputs": [
    {
     "output_type": "execute_result",
     "data": {
      "text/plain": [
       "array(['3/25/11 0:00', '3/28/11 0:00', '4/6/11 0:00', ..., '2/20/19 0:00',\n",
       "       '2/15/19 0:00', '2/21/19 0:00'], dtype=object)"
      ]
     },
     "metadata": {},
     "execution_count": 12
    }
   ],
   "source": [
    "allegations.allegation_created_on.unique()"
   ]
  },
  {
   "cell_type": "code",
   "execution_count": null,
   "metadata": {},
   "outputs": [],
   "source": []
  }
 ]
}
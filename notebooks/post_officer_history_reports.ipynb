{
 "cells": [
  {
   "cell_type": "code",
   "execution_count": 83,
   "metadata": {},
   "outputs": [],
   "source": [
    "# import os\n",
    "# os.chdir(\"../\")"
   ]
  },
  {
   "cell_type": "code",
   "execution_count": 84,
   "metadata": {},
   "outputs": [],
   "source": [
    "import pandas as pd\n",
    "\n",
    "from clean.post_officer_history import clean"
   ]
  },
  {
   "cell_type": "code",
   "execution_count": null,
   "metadata": {},
   "outputs": [],
   "source": [
    "df = clean()"
   ]
  },
  {
   "cell_type": "code",
   "execution_count": 86,
   "metadata": {},
   "outputs": [
    {
     "data": {
      "text/html": [
       "<div>\n",
       "<style scoped>\n",
       "    .dataframe tbody tr th:only-of-type {\n",
       "        vertical-align: middle;\n",
       "    }\n",
       "\n",
       "    .dataframe tbody tr th {\n",
       "        vertical-align: top;\n",
       "    }\n",
       "\n",
       "    .dataframe thead th {\n",
       "        text-align: right;\n",
       "    }\n",
       "</style>\n",
       "<table border=\"1\" class=\"dataframe\">\n",
       "  <thead>\n",
       "    <tr style=\"text-align: right;\">\n",
       "      <th></th>\n",
       "      <th>history_id</th>\n",
       "      <th>agency</th>\n",
       "      <th>last_name</th>\n",
       "      <th>first_name</th>\n",
       "      <th>middle_name</th>\n",
       "      <th>employment_status</th>\n",
       "      <th>hire_date</th>\n",
       "      <th>left_date</th>\n",
       "      <th>left_reason</th>\n",
       "      <th>uid</th>\n",
       "      <th>switched_job</th>\n",
       "      <th>source_agency</th>\n",
       "    </tr>\n",
       "  </thead>\n",
       "  <tbody>\n",
       "    <tr>\n",
       "      <th>0</th>\n",
       "      <td>0</td>\n",
       "      <td>jefferson-so</td>\n",
       "      <td>Alvarado</td>\n",
       "      <td>Julio</td>\n",
       "      <td>C</td>\n",
       "      <td>full-time</td>\n",
       "      <td>2/28/2005</td>\n",
       "      <td></td>\n",
       "      <td>NaN</td>\n",
       "      <td>66897cf8c5224b79d790b64667833fde</td>\n",
       "      <td>True</td>\n",
       "      <td>post</td>\n",
       "    </tr>\n",
       "    <tr>\n",
       "      <th>1</th>\n",
       "      <td>0</td>\n",
       "      <td>new-orleans-so</td>\n",
       "      <td>Alvarado</td>\n",
       "      <td>Julio</td>\n",
       "      <td>C</td>\n",
       "      <td>full-time</td>\n",
       "      <td>5/17/2002</td>\n",
       "      <td></td>\n",
       "      <td>NaN</td>\n",
       "      <td>40fdc709a831e5733b559bbc1ad72a38</td>\n",
       "      <td>True</td>\n",
       "      <td>post</td>\n",
       "    </tr>\n",
       "    <tr>\n",
       "      <th>3</th>\n",
       "      <td>1</td>\n",
       "      <td>new-orleans-pd</td>\n",
       "      <td>Vaught</td>\n",
       "      <td>Ryan</td>\n",
       "      <td>Clinton</td>\n",
       "      <td>full-time</td>\n",
       "      <td>10/7/2004</td>\n",
       "      <td>9/17/2016</td>\n",
       "      <td>NaN</td>\n",
       "      <td>810516627f30ab189a1103203f9204a7</td>\n",
       "      <td>True</td>\n",
       "      <td>post</td>\n",
       "    </tr>\n",
       "    <tr>\n",
       "      <th>4</th>\n",
       "      <td>1</td>\n",
       "      <td>jefferson-so</td>\n",
       "      <td>Vaught</td>\n",
       "      <td>Ryan</td>\n",
       "      <td>Clinton</td>\n",
       "      <td>reserve</td>\n",
       "      <td>9/19/2016</td>\n",
       "      <td></td>\n",
       "      <td>NaN</td>\n",
       "      <td>e4ec1491e19f281af7d7bbfcffdc672a</td>\n",
       "      <td>True</td>\n",
       "      <td>post</td>\n",
       "    </tr>\n",
       "    <tr>\n",
       "      <th>5</th>\n",
       "      <td>2</td>\n",
       "      <td>harahan-pd</td>\n",
       "      <td>Mehrtens</td>\n",
       "      <td>Steven</td>\n",
       "      <td>Allen</td>\n",
       "      <td>full-time</td>\n",
       "      <td>9/1/2011</td>\n",
       "      <td></td>\n",
       "      <td>NaN</td>\n",
       "      <td>7839c6dbc1517d6fc1d35152b9e66b62</td>\n",
       "      <td>True</td>\n",
       "      <td>post</td>\n",
       "    </tr>\n",
       "    <tr>\n",
       "      <th>6</th>\n",
       "      <td>2</td>\n",
       "      <td>jefferson-so</td>\n",
       "      <td>Mehrtens</td>\n",
       "      <td>Steven</td>\n",
       "      <td>Allen</td>\n",
       "      <td>full-time</td>\n",
       "      <td>10/3/2016</td>\n",
       "      <td></td>\n",
       "      <td>NaN</td>\n",
       "      <td>90fabdab9684f2bc078e29c613bceeb0</td>\n",
       "      <td>True</td>\n",
       "      <td>post</td>\n",
       "    </tr>\n",
       "    <tr>\n",
       "      <th>8</th>\n",
       "      <td>4</td>\n",
       "      <td>jefferson-so</td>\n",
       "      <td>Gaudet</td>\n",
       "      <td>Myron</td>\n",
       "      <td>A</td>\n",
       "      <td>full-time</td>\n",
       "      <td>8/14/1992</td>\n",
       "      <td></td>\n",
       "      <td>NaN</td>\n",
       "      <td>2b7ce427485d5241f8c773a939ab4a45</td>\n",
       "      <td>False</td>\n",
       "      <td>post</td>\n",
       "    </tr>\n",
       "    <tr>\n",
       "      <th>9</th>\n",
       "      <td>5</td>\n",
       "      <td>new-orleans-so</td>\n",
       "      <td>Dowling</td>\n",
       "      <td>Keith</td>\n",
       "      <td>Edward</td>\n",
       "      <td>full-time</td>\n",
       "      <td>7/1/1993</td>\n",
       "      <td>4/1/1994</td>\n",
       "      <td>NaN</td>\n",
       "      <td>2c0469f74e0a9a4ff5bd393d0f4abb52</td>\n",
       "      <td>True</td>\n",
       "      <td>post</td>\n",
       "    </tr>\n",
       "    <tr>\n",
       "      <th>10</th>\n",
       "      <td>5</td>\n",
       "      <td>st-bernard-so</td>\n",
       "      <td>Dowling</td>\n",
       "      <td>Keith</td>\n",
       "      <td>Edward</td>\n",
       "      <td>full-time</td>\n",
       "      <td>1/12/1998</td>\n",
       "      <td>2/1/2001</td>\n",
       "      <td>NaN</td>\n",
       "      <td>bb2d75cd88c9e93e5ba32a8da336d49e</td>\n",
       "      <td>True</td>\n",
       "      <td>post</td>\n",
       "    </tr>\n",
       "    <tr>\n",
       "      <th>11</th>\n",
       "      <td>5</td>\n",
       "      <td>st-tammany-so</td>\n",
       "      <td>Dowling</td>\n",
       "      <td>Keith</td>\n",
       "      <td>Edward</td>\n",
       "      <td>full-time</td>\n",
       "      <td>11/15/2002</td>\n",
       "      <td></td>\n",
       "      <td>NaN</td>\n",
       "      <td>9e1227ee32b7afdb2cad16201c6b70e5</td>\n",
       "      <td>True</td>\n",
       "      <td>post</td>\n",
       "    </tr>\n",
       "  </tbody>\n",
       "</table>\n",
       "</div>"
      ],
      "text/plain": [
       "    history_id          agency  ... switched_job source_agency\n",
       "0            0    jefferson-so  ...         True          post\n",
       "1            0  new-orleans-so  ...         True          post\n",
       "3            1  new-orleans-pd  ...         True          post\n",
       "4            1    jefferson-so  ...         True          post\n",
       "5            2      harahan-pd  ...         True          post\n",
       "6            2    jefferson-so  ...         True          post\n",
       "8            4    jefferson-so  ...        False          post\n",
       "9            5  new-orleans-so  ...         True          post\n",
       "10           5   st-bernard-so  ...         True          post\n",
       "11           5   st-tammany-so  ...         True          post\n",
       "\n",
       "[10 rows x 12 columns]"
      ]
     },
     "execution_count": 86,
     "metadata": {},
     "output_type": "execute_result"
    }
   ],
   "source": [
    "df.head(10)"
   ]
  },
  {
   "cell_type": "code",
   "execution_count": 87,
   "metadata": {},
   "outputs": [],
   "source": [
    "\"\"\"\n",
    "Filter out officers who haven't switched employers\n",
    "\"\"\"\n",
    "df = df[df.switched_job == True]"
   ]
  },
  {
   "cell_type": "code",
   "execution_count": 88,
   "metadata": {},
   "outputs": [
    {
     "data": {
      "text/plain": [
       "459"
      ]
     },
     "execution_count": 88,
     "metadata": {},
     "output_type": "execute_result"
    }
   ],
   "source": [
    "\"\"\"\n",
    "Number of officers who have switched a job, at any point in their career\n",
    "\"\"\"\n",
    "df.history_id.nunique()"
   ]
  },
  {
   "cell_type": "code",
   "execution_count": 89,
   "metadata": {},
   "outputs": [
    {
     "data": {
      "text/plain": [
       "172"
      ]
     },
     "execution_count": 89,
     "metadata": {},
     "output_type": "execute_result"
    }
   ],
   "source": [
    "\"\"\"\n",
    "Number officers, who have switched a job, have moved between 172 agencies\n",
    "\"\"\"\n",
    "df.agency.nunique()"
   ]
  },
  {
   "cell_type": "code",
   "execution_count": 90,
   "metadata": {},
   "outputs": [],
   "source": [
    "df.loc[:, \"left_reason\"] = df.left_reason.fillna(\"n/a\")"
   ]
  },
  {
   "cell_type": "code",
   "execution_count": 91,
   "metadata": {},
   "outputs": [
    {
     "data": {
      "text/plain": [
       "n/a                        0.865766\n",
       "voluntary resignation      0.076577\n",
       "resignation                0.036937\n",
       "termination                0.019820\n",
       "involuntary resignation    0.000901\n",
       "Name: left_reason, dtype: float64"
      ]
     },
     "execution_count": 91,
     "metadata": {},
     "output_type": "execute_result"
    }
   ],
   "source": [
    "\"\"\"\n",
    "A left reason is provided for 13% of the data\n",
    "\"\"\"\n",
    "df.left_reason.value_counts(normalize=True)"
   ]
  },
  {
   "cell_type": "code",
   "execution_count": 92,
   "metadata": {},
   "outputs": [],
   "source": [
    "def drop_na_rows(df):\n",
    "    df.loc[:, \"left_reason\"] = df.left_reason.str.replace(r\"^n\\/a$\", \"\", regex=True)\n",
    "    return df[~((df.left_reason == \"\"))]"
   ]
  },
  {
   "cell_type": "code",
   "execution_count": 93,
   "metadata": {},
   "outputs": [],
   "source": [
    "df = df.pipe(drop_na_rows)"
   ]
  },
  {
   "cell_type": "code",
   "execution_count": 94,
   "metadata": {},
   "outputs": [
    {
     "data": {
      "text/plain": [
       "voluntary resignation      0.570470\n",
       "resignation                0.275168\n",
       "termination                0.147651\n",
       "involuntary resignation    0.006711\n",
       "Name: left_reason, dtype: float64"
      ]
     },
     "execution_count": 94,
     "metadata": {},
     "output_type": "execute_result"
    }
   ],
   "source": [
    "\"\"\"\n",
    "Of the 13%: 57% were voluntary resignations, 28% were resignations, and 15% were terminations\n",
    "\"\"\"\n",
    "df.left_reason.value_counts(normalize=True)"
   ]
  }
 ],
 "metadata": {
  "kernelspec": {
   "display_name": "Python 3.9.11 64-bit",
   "language": "python",
   "name": "python3"
  },
  "language_info": {
   "codemirror_mode": {
    "name": "ipython",
    "version": 3
   },
   "file_extension": ".py",
   "mimetype": "text/x-python",
   "name": "python",
   "nbconvert_exporter": "python",
   "pygments_lexer": "ipython3",
   "version": "3.9.11"
  },
  "orig_nbformat": 4,
  "vscode": {
   "interpreter": {
    "hash": "f6c8f846148a3e4d140e6ddf63c190cff559dcf260a4a21539f0978f2b58638c"
   }
  }
 },
 "nbformat": 4,
 "nbformat_minor": 2
}

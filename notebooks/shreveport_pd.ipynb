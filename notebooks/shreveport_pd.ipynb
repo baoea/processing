{
 "metadata": {
  "language_info": {
   "codemirror_mode": {
    "name": "ipython",
    "version": 3
   },
   "file_extension": ".py",
   "mimetype": "text/x-python",
   "name": "python",
   "nbconvert_exporter": "python",
   "pygments_lexer": "ipython3",
   "version": "3.9.2"
  },
  "orig_nbformat": 4,
  "kernelspec": {
   "name": "python3",
   "display_name": "Python 3.9.2 64-bit ('base': virtualenvwrapper)"
  },
  "interpreter": {
   "hash": "55d6dfa6f6295e03bf132df3e61c1565ff1c22b645ef82a5638b280b97b3597b"
  }
 },
 "nbformat": 4,
 "nbformat_minor": 2,
 "cells": [
  {
   "cell_type": "code",
   "execution_count": 1,
   "metadata": {},
   "outputs": [],
   "source": [
    "import sys; sys.path.append('../')\n",
    "import pandas as pd\n",
    "\n",
    "from clean.shreveport_pd_cprr import clean_cprr, clean_codebook"
   ]
  },
  {
   "cell_type": "code",
   "execution_count": 2,
   "metadata": {},
   "outputs": [
    {
     "output_type": "stream",
     "name": "stderr",
     "text": [
      "/Users/khoipham/.virtualenvs/base/lib/python3.9/site-packages/pandas/core/indexing.py:1597: SettingWithCopyWarning: \nA value is trying to be set on a copy of a slice from a DataFrame.\nTry using .loc[row_indexer,col_indexer] = value instead\n\nSee the caveats in the documentation: https://pandas.pydata.org/pandas-docs/stable/user_guide/indexing.html#returning-a-view-versus-a-copy\n  self.obj[key] = value\n/Users/khoipham/.virtualenvs/base/lib/python3.9/site-packages/pandas/core/indexing.py:1676: SettingWithCopyWarning: \nA value is trying to be set on a copy of a slice from a DataFrame.\nTry using .loc[row_indexer,col_indexer] = value instead\n\nSee the caveats in the documentation: https://pandas.pydata.org/pandas-docs/stable/user_guide/indexing.html#returning-a-view-versus-a-copy\n  self._setitem_single_column(ilocs[0], value, pi)\n/Users/khoipham/.virtualenvs/base/lib/python3.9/site-packages/pandas/core/indexing.py:1843: SettingWithCopyWarning: \nA value is trying to be set on a copy of a slice from a DataFrame.\nTry using .loc[row_indexer,col_indexer] = value instead\n\nSee the caveats in the documentation: https://pandas.pydata.org/pandas-docs/stable/user_guide/indexing.html#returning-a-view-versus-a-copy\n  self.obj[item_labels[indexer[info_axis]]] = value\n"
     ]
    },
    {
     "output_type": "execute_result",
     "data": {
      "text/plain": [
       "    receive_date tracking_number                 allegation    disposition  \\\n",
       "0     01/08/2018        N 01-001             701.01 communi            NaN   \n",
       "1     01/08/2018        N 01-001              306.01 duties      SUSTAINED   \n",
       "2     01/08/2018        N 01-001            606.10 firearms      SUSTAINED   \n",
       "3     01/08/2018        N 01-002          a-105 iii, (c) (4  NOT SUSTAINED   \n",
       "4     01/08/2018        N 01-002            306.01 duties &  NOT SUSTAINED   \n",
       "..           ...             ...                        ...            ...   \n",
       "350   12/20/2018        N 12-212        404.01 completion o            NaN   \n",
       "351   12/28/2018        N 12-213       501.06 police vehicl            NaN   \n",
       "352   12/28/2018        N 12-214        404.01 completion o            NaN   \n",
       "353   12/28/2018        N 12-214  602.01 traffic crash inve            NaN   \n",
       "354   12/28/2018        N 12-215        404.01 completion o            NaN   \n",
       "\n",
       "            agency data_production_year                               uid  \\\n",
       "0    Shreveport PD                 2018                               NaN   \n",
       "1    Shreveport PD                 2018                               NaN   \n",
       "2    Shreveport PD                 2018                               NaN   \n",
       "3    Shreveport PD                 2018                               NaN   \n",
       "4    Shreveport PD                 2018                               NaN   \n",
       "..             ...                  ...                               ...   \n",
       "350  Shreveport PD                 2018  3407f73afee796ec143c57db964be646   \n",
       "351  Shreveport PD                 2018  a2fdb843916725ce82c0775cef7279a8   \n",
       "352  Shreveport PD                 2018  2fa8f986e10deb410d5ee8cc7961dcf2   \n",
       "353  Shreveport PD                 2018  2fa8f986e10deb410d5ee8cc7961dcf2   \n",
       "354  Shreveport PD                 2018  ad532aedb39a1def4924afd4d962781c   \n",
       "\n",
       "    first_name last_name middle_name middle_initial  complainant_name  \\\n",
       "0          NaN       NaN         NaN            NaN               NaN   \n",
       "1          NaN       NaN         NaN            NaN               NaN   \n",
       "2          NaN       NaN         NaN            NaN               NaN   \n",
       "3          NaN       NaN         NaN            NaN               NaN   \n",
       "4          NaN       NaN         NaN            NaN               NaN   \n",
       "..         ...       ...         ...            ...               ...   \n",
       "350      henry     burak                                 Mims, Katie    \n",
       "351   treveion    brooks                                Grant, Keith    \n",
       "352    michael   flentge                             Miles, LaShunda    \n",
       "353    michael   flentge                             Miles, LaShunda    \n",
       "354      dylan    hudson                                Brown, Keith    \n",
       "\n",
       "                        complaint_uid  \n",
       "0    815e5cd224fa80da88ce7615df567126  \n",
       "1    9e443ab830bb4dc4d7608e7f5906a259  \n",
       "2    b13ba4310bb22e5bbe4fdd0e927fc3a1  \n",
       "3    4749037a0a526a6cfff3a73a4b25e0ef  \n",
       "4    b688cfc73a57789baf98f6e252a1b68e  \n",
       "..                                ...  \n",
       "350  a9e151c07ff7f629b1d6a2a6ec41baa7  \n",
       "351  dd176dae434659ad20cd43f1f9a9738a  \n",
       "352  deaa7d0604377f88dad33bdffa15295d  \n",
       "353  ecd1f71eb155bead8e8ebae29e49199c  \n",
       "354  955e6ac8ad7ab9b453379a43cb5b262d  \n",
       "\n",
       "[355 rows x 13 columns]"
      ],
      "text/html": "<div>\n<style scoped>\n    .dataframe tbody tr th:only-of-type {\n        vertical-align: middle;\n    }\n\n    .dataframe tbody tr th {\n        vertical-align: top;\n    }\n\n    .dataframe thead th {\n        text-align: right;\n    }\n</style>\n<table border=\"1\" class=\"dataframe\">\n  <thead>\n    <tr style=\"text-align: right;\">\n      <th></th>\n      <th>receive_date</th>\n      <th>tracking_number</th>\n      <th>allegation</th>\n      <th>disposition</th>\n      <th>agency</th>\n      <th>data_production_year</th>\n      <th>uid</th>\n      <th>first_name</th>\n      <th>last_name</th>\n      <th>middle_name</th>\n      <th>middle_initial</th>\n      <th>complainant_name</th>\n      <th>complaint_uid</th>\n    </tr>\n  </thead>\n  <tbody>\n    <tr>\n      <th>0</th>\n      <td>01/08/2018</td>\n      <td>N 01-001</td>\n      <td>701.01 communi</td>\n      <td>NaN</td>\n      <td>Shreveport PD</td>\n      <td>2018</td>\n      <td>NaN</td>\n      <td>NaN</td>\n      <td>NaN</td>\n      <td>NaN</td>\n      <td>NaN</td>\n      <td>NaN</td>\n      <td>815e5cd224fa80da88ce7615df567126</td>\n    </tr>\n    <tr>\n      <th>1</th>\n      <td>01/08/2018</td>\n      <td>N 01-001</td>\n      <td>306.01 duties</td>\n      <td>SUSTAINED</td>\n      <td>Shreveport PD</td>\n      <td>2018</td>\n      <td>NaN</td>\n      <td>NaN</td>\n      <td>NaN</td>\n      <td>NaN</td>\n      <td>NaN</td>\n      <td>NaN</td>\n      <td>9e443ab830bb4dc4d7608e7f5906a259</td>\n    </tr>\n    <tr>\n      <th>2</th>\n      <td>01/08/2018</td>\n      <td>N 01-001</td>\n      <td>606.10 firearms</td>\n      <td>SUSTAINED</td>\n      <td>Shreveport PD</td>\n      <td>2018</td>\n      <td>NaN</td>\n      <td>NaN</td>\n      <td>NaN</td>\n      <td>NaN</td>\n      <td>NaN</td>\n      <td>NaN</td>\n      <td>b13ba4310bb22e5bbe4fdd0e927fc3a1</td>\n    </tr>\n    <tr>\n      <th>3</th>\n      <td>01/08/2018</td>\n      <td>N 01-002</td>\n      <td>a-105 iii, (c) (4</td>\n      <td>NOT SUSTAINED</td>\n      <td>Shreveport PD</td>\n      <td>2018</td>\n      <td>NaN</td>\n      <td>NaN</td>\n      <td>NaN</td>\n      <td>NaN</td>\n      <td>NaN</td>\n      <td>NaN</td>\n      <td>4749037a0a526a6cfff3a73a4b25e0ef</td>\n    </tr>\n    <tr>\n      <th>4</th>\n      <td>01/08/2018</td>\n      <td>N 01-002</td>\n      <td>306.01 duties &amp;</td>\n      <td>NOT SUSTAINED</td>\n      <td>Shreveport PD</td>\n      <td>2018</td>\n      <td>NaN</td>\n      <td>NaN</td>\n      <td>NaN</td>\n      <td>NaN</td>\n      <td>NaN</td>\n      <td>NaN</td>\n      <td>b688cfc73a57789baf98f6e252a1b68e</td>\n    </tr>\n    <tr>\n      <th>...</th>\n      <td>...</td>\n      <td>...</td>\n      <td>...</td>\n      <td>...</td>\n      <td>...</td>\n      <td>...</td>\n      <td>...</td>\n      <td>...</td>\n      <td>...</td>\n      <td>...</td>\n      <td>...</td>\n      <td>...</td>\n      <td>...</td>\n    </tr>\n    <tr>\n      <th>350</th>\n      <td>12/20/2018</td>\n      <td>N 12-212</td>\n      <td>404.01 completion o</td>\n      <td>NaN</td>\n      <td>Shreveport PD</td>\n      <td>2018</td>\n      <td>3407f73afee796ec143c57db964be646</td>\n      <td>henry</td>\n      <td>burak</td>\n      <td></td>\n      <td></td>\n      <td>Mims, Katie</td>\n      <td>a9e151c07ff7f629b1d6a2a6ec41baa7</td>\n    </tr>\n    <tr>\n      <th>351</th>\n      <td>12/28/2018</td>\n      <td>N 12-213</td>\n      <td>501.06 police vehicl</td>\n      <td>NaN</td>\n      <td>Shreveport PD</td>\n      <td>2018</td>\n      <td>a2fdb843916725ce82c0775cef7279a8</td>\n      <td>treveion</td>\n      <td>brooks</td>\n      <td></td>\n      <td></td>\n      <td>Grant, Keith</td>\n      <td>dd176dae434659ad20cd43f1f9a9738a</td>\n    </tr>\n    <tr>\n      <th>352</th>\n      <td>12/28/2018</td>\n      <td>N 12-214</td>\n      <td>404.01 completion o</td>\n      <td>NaN</td>\n      <td>Shreveport PD</td>\n      <td>2018</td>\n      <td>2fa8f986e10deb410d5ee8cc7961dcf2</td>\n      <td>michael</td>\n      <td>flentge</td>\n      <td></td>\n      <td></td>\n      <td>Miles, LaShunda</td>\n      <td>deaa7d0604377f88dad33bdffa15295d</td>\n    </tr>\n    <tr>\n      <th>353</th>\n      <td>12/28/2018</td>\n      <td>N 12-214</td>\n      <td>602.01 traffic crash inve</td>\n      <td>NaN</td>\n      <td>Shreveport PD</td>\n      <td>2018</td>\n      <td>2fa8f986e10deb410d5ee8cc7961dcf2</td>\n      <td>michael</td>\n      <td>flentge</td>\n      <td></td>\n      <td></td>\n      <td>Miles, LaShunda</td>\n      <td>ecd1f71eb155bead8e8ebae29e49199c</td>\n    </tr>\n    <tr>\n      <th>354</th>\n      <td>12/28/2018</td>\n      <td>N 12-215</td>\n      <td>404.01 completion o</td>\n      <td>NaN</td>\n      <td>Shreveport PD</td>\n      <td>2018</td>\n      <td>ad532aedb39a1def4924afd4d962781c</td>\n      <td>dylan</td>\n      <td>hudson</td>\n      <td></td>\n      <td></td>\n      <td>Brown, Keith</td>\n      <td>955e6ac8ad7ab9b453379a43cb5b262d</td>\n    </tr>\n  </tbody>\n</table>\n<p>355 rows × 13 columns</p>\n</div>"
     },
     "metadata": {},
     "execution_count": 2
    }
   ],
   "source": [
    "df = clean_cprr('shreveport_pd/shreveport_pd_cprr_dispositions_2018.csv', 'shreveport_pd/shreveport_pd_cprr_names_2018.csv', '2018')\n",
    "# df = clean_cprr(\n",
    "#     'shreveport_pd/shreveport_pd_cprr_dispositions_2019.csv',\n",
    "#     'shreveport_pd/shreveport_pd_cprr_names_2019.csv',\n",
    "#     '2019',\n",
    "# )\n",
    "df"
   ]
  },
  {
   "cell_type": "code",
   "execution_count": 3,
   "metadata": {},
   "outputs": [
    {
     "output_type": "execute_result",
     "data": {
      "text/plain": [
       "array(['701.01 communi', '306.01 duties', '606.10 firearms',\n",
       "       'a-105 iii, (c) (4', '306.01 duties &', '301.06 sick leave',\n",
       "       '604.03 felony/', '306.01 courtesy', '701.01 commu',\n",
       "       '604.03 felony', '601.10 use of force', '502.01 evidencence',\n",
       "       '303.03 police t', '305.12 supervi', '601.01 arrests',\n",
       "       '606.01 vehicle', '606.13 mvs', '306.01 duties a',\n",
       "       '601.01 arrest ge', '306.02 supervi', '100c.7 unbecoming',\n",
       "       '100c.9 disobedience', 'rules & regulation', '501.01 depart',\n",
       "       '306.01 commis', '306.01 knowledg', '404.01 complet',\n",
       "       '902.03 police 1', '402.05 missing p', '601.01 juvenile/',\n",
       "       'rules & regula  lrs 33:2500 statue', '306.01 professi',\n",
       "       '306.01 general', '306.01 chain of command', '602.01 traffic',\n",
       "       '301.05 legal pr', '603.01 radio c', '603.01 radio co',\n",
       "       '306.01 reporti', '306.01 duties an', '306.01 cooperati',\n",
       "       '606.10 firearm', '606.12 use of force', '604.03 felony/misde',\n",
       "       '306.01 duties & res', '601.01 arrests g', '501.06 police v',\n",
       "       '404.02 field int', '404.02 field intervie', '602.04 vehicle',\n",
       "       'chain of command courtesy', '601.01 arrests gene',\n",
       "       '301.13 absence', '306.01 knowle', '304.05 dept. v',\n",
       "       '304.05 dept. vehicle', '602.01traffic cra', '502.01 evidence',\n",
       "       '306.01 knowledge o', '502.01 evidence handling',\n",
       "       '604.03 felony/mi', '604.03 felony/misd inves',\n",
       "       '604.03 felony/misd. inves', '', '501.01 departme',\n",
       "       '606.16 handcuffi', '402.05 missing', 'a 104 jailer duti',\n",
       "       '501.01 dept. pro', '306.01 knowledge of law', '603.01 radio comm',\n",
       "       '606.17 forcible', '606.17 forcible entr', '404.01 completio',\n",
       "       '601.10', '404.01 completi', '404.01 completion o',\n",
       "       '603.03 traffic', '501.04 wearing o', '306.01 unbecoming',\n",
       "       's-100 jail security', 's 114 door acces', '403.02 initial rep',\n",
       "       '601.01 use of force', '305.09 substan', '306.01 profession',\n",
       "       '602.04 vehicle to', '306.01 chain-o', '602.01 traffic cra',\n",
       "       '604.03 felony/misd.', '100 c.4 courte', '306.02 superviso',\n",
       "       '502.01 evidence/pro', '302.06 ethics', '606.01 arrests',\n",
       "       '606.25 conducte', '606.13 recording', '306.01 b knowl',\n",
       "       '306.01 d chain of command', '501.04 wearing b', '305.14 persona',\n",
       "       '305.04 special ev', '302.01 uniform', '501.06 police vehicl',\n",
       "       '602.01 traffic crash inve'], dtype=object)"
      ]
     },
     "metadata": {},
     "execution_count": 3
    }
   ],
   "source": [
    "df.allegation.unique()"
   ]
  },
  {
   "cell_type": "code",
   "execution_count": 4,
   "metadata": {},
   "outputs": [
    {
     "output_type": "execute_result",
     "data": {
      "text/plain": [
       "array([nan, '100'], dtype=object)"
      ]
     },
     "metadata": {},
     "execution_count": 4
    }
   ],
   "source": [
    "df2 = df.allegation.str.extract(r'^(\\w{3,4}) (.+)')\n",
    "df2.loc[:, 0].unique()"
   ]
  },
  {
   "cell_type": "code",
   "execution_count": 5,
   "metadata": {},
   "outputs": [
    {
     "output_type": "execute_result",
     "data": {
      "text/plain": [
       "                                         name    code\n",
       "0                            abo / sob; absob  606.21\n",
       "1                           absence from work  301.06\n",
       "2                                 absenteeism  301.06\n",
       "3                              abuse of leave  301.06\n",
       "4                                     academy  307.01\n",
       "..                                        ...     ...\n",
       "926                        work, absence from  301.06\n",
       "927                   workplace relationships  302.03\n",
       "928                     worksheet, assignment  404.03\n",
       "929                                 work week  203.05\n",
       "930  wreckers, use of for towing, paying fees  602.04\n",
       "\n",
       "[931 rows x 2 columns]"
      ],
      "text/html": "<div>\n<style scoped>\n    .dataframe tbody tr th:only-of-type {\n        vertical-align: middle;\n    }\n\n    .dataframe tbody tr th {\n        vertical-align: top;\n    }\n\n    .dataframe thead th {\n        text-align: right;\n    }\n</style>\n<table border=\"1\" class=\"dataframe\">\n  <thead>\n    <tr style=\"text-align: right;\">\n      <th></th>\n      <th>name</th>\n      <th>code</th>\n    </tr>\n  </thead>\n  <tbody>\n    <tr>\n      <th>0</th>\n      <td>abo / sob; absob</td>\n      <td>606.21</td>\n    </tr>\n    <tr>\n      <th>1</th>\n      <td>absence from work</td>\n      <td>301.06</td>\n    </tr>\n    <tr>\n      <th>2</th>\n      <td>absenteeism</td>\n      <td>301.06</td>\n    </tr>\n    <tr>\n      <th>3</th>\n      <td>abuse of leave</td>\n      <td>301.06</td>\n    </tr>\n    <tr>\n      <th>4</th>\n      <td>academy</td>\n      <td>307.01</td>\n    </tr>\n    <tr>\n      <th>...</th>\n      <td>...</td>\n      <td>...</td>\n    </tr>\n    <tr>\n      <th>926</th>\n      <td>work, absence from</td>\n      <td>301.06</td>\n    </tr>\n    <tr>\n      <th>927</th>\n      <td>workplace relationships</td>\n      <td>302.03</td>\n    </tr>\n    <tr>\n      <th>928</th>\n      <td>worksheet, assignment</td>\n      <td>404.03</td>\n    </tr>\n    <tr>\n      <th>929</th>\n      <td>work week</td>\n      <td>203.05</td>\n    </tr>\n    <tr>\n      <th>930</th>\n      <td>wreckers, use of for towing, paying fees</td>\n      <td>602.04</td>\n    </tr>\n  </tbody>\n</table>\n<p>931 rows × 2 columns</p>\n</div>"
     },
     "metadata": {},
     "execution_count": 5
    }
   ],
   "source": [
    "cb = clean_codebook()\n",
    "cb"
   ]
  },
  {
   "cell_type": "code",
   "execution_count": 8,
   "metadata": {},
   "outputs": [
    {
     "output_type": "execute_result",
     "data": {
      "text/plain": [
       "Empty DataFrame\n",
       "Columns: [name, code]\n",
       "Index: []"
      ],
      "text/html": "<div>\n<style scoped>\n    .dataframe tbody tr th:only-of-type {\n        vertical-align: middle;\n    }\n\n    .dataframe tbody tr th {\n        vertical-align: top;\n    }\n\n    .dataframe thead th {\n        text-align: right;\n    }\n</style>\n<table border=\"1\" class=\"dataframe\">\n  <thead>\n    <tr style=\"text-align: right;\">\n      <th></th>\n      <th>name</th>\n      <th>code</th>\n    </tr>\n  </thead>\n  <tbody>\n  </tbody>\n</table>\n</div>"
     },
     "metadata": {},
     "execution_count": 8
    }
   ],
   "source": [
    "# cb[cb.name.fillna('').str.contains(\"rules\")]\n",
    "cb.loc[(cb.code == '306.01') & (cb.name.str.contains('professi'))]"
   ]
  },
  {
   "cell_type": "code",
   "execution_count": null,
   "metadata": {},
   "outputs": [],
   "source": []
  }
 ]
}

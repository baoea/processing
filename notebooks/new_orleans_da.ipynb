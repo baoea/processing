{
 "metadata": {
  "language_info": {
   "codemirror_mode": {
    "name": "ipython",
    "version": 3
   },
   "file_extension": ".py",
   "mimetype": "text/x-python",
   "name": "python",
   "nbconvert_exporter": "python",
   "pygments_lexer": "ipython3",
   "version": "3.9.2"
  },
  "orig_nbformat": 4,
  "kernelspec": {
   "name": "python3",
   "display_name": "Python 3.9.2 64-bit ('base': virtualenvwrapper)"
  },
  "interpreter": {
   "hash": "55d6dfa6f6295e03bf132df3e61c1565ff1c22b645ef82a5638b280b97b3597b"
  }
 },
 "nbformat": 4,
 "nbformat_minor": 2,
 "cells": [
  {
   "cell_type": "code",
   "execution_count": 1,
   "metadata": {},
   "outputs": [],
   "source": [
    "import sys; sys.path.append('../')\n",
    "import pandas as pd\n",
    "\n",
    "from clean.new_orleans_da_cprr_2021_brady import clean"
   ]
  },
  {
   "cell_type": "code",
   "execution_count": 3,
   "metadata": {},
   "outputs": [
    {
     "output_type": "stream",
     "name": "stderr",
     "text": [
      "../clean/new_orleans_da_cprr_2021_brady.py:61: FutureWarning: The default value of regex will change from True to False in a future version.\n  df.loc[:, 'disposition'] = df.disposition.str.lower().str.strip()\\\n../clean/new_orleans_da_cprr_2021_brady.py:100: FutureWarning: The default value of regex will change from True to False in a future version.\n  df.loc[:, 'allegation_class'] = df.directive.str.lower().str.strip()\\\n../clean/new_orleans_da_cprr_2021_brady.py:30: FutureWarning: The default value of regex will change from True to False in a future version.\n  df.loc[:, 'charges'] = df.charges.str.lower().str.strip()\\\n../clean/new_orleans_da_cprr_2021_brady.py:30: FutureWarning: The default value of regex will change from True to False in a future version. In addition, single character regular expressions will*not* be treated as literal strings when regex=True.\n  df.loc[:, 'charges'] = df.charges.str.lower().str.strip()\\\n../clean/new_orleans_da_cprr_2021_brady.py:83: FutureWarning: The default value of regex will change from True to False in a future version.\n  df.loc[:, 'finding'] = df.finding.str.lower().str.strip()\\\n"
     ]
    },
    {
     "output_type": "execute_result",
     "data": {
      "text/plain": [
       "    first_name   last_name                                finding  \\\n",
       "0        james  cunningham                              sustained   \n",
       "1        james  cunningham                              sustained   \n",
       "2        james  cunningham                              sustained   \n",
       "3        james  cunningham                              sustained   \n",
       "4      caitlyn       smith                              sustained   \n",
       "..         ...         ...                                    ...   \n",
       "240    charles      miller  sustained|retired under investigation   \n",
       "242    charles      miller  sustained|retired under investigation   \n",
       "248     carlos     peralta  sustained|retired under investigation   \n",
       "249     carlos     peralta  sustained|retired under investigation   \n",
       "250     carlos     peralta  sustained|retired under investigation   \n",
       "\n",
       "                                           disposition tracking_number  \\\n",
       "0                        dismissed under investigation    2015-0480-P    \n",
       "1                        dismissed under investigation    2015-0480-P    \n",
       "2    dui (driving under the influence) from another...    2013-0790-C    \n",
       "3    dui (driving under the influence) from another...    2013-0790-C    \n",
       "4                                negotiated settlement    2019-0465-R    \n",
       "..                                                 ...             ...   \n",
       "240              sustained|retired under investigation    2014-0193-R    \n",
       "242              sustained|retired under investigation   2014-0193-R'    \n",
       "248             sustained|resigned under investigation    2018-0667-R    \n",
       "249             sustained|resigned under investigation    2018-0667-R    \n",
       "250             sustained|resigned under investigation    2018-0667-R    \n",
       "\n",
       "                                               charges  \\\n",
       "0    rule 2: moral conduct;paragraph  01 adherence ...   \n",
       "1    rule 2: moral conduct;paragraph 01 adherence t...   \n",
       "2    rule 2: moral conduct;paragraph 01 adherence t...   \n",
       "3    rule 2: moral conduct;paragraph 03 honesty and...   \n",
       "4    rule 2: moral conduct;paragraph 01 adherence t...   \n",
       "..                                                 ...   \n",
       "240  rule 2: moral conduct;paragraph 01 adherence t...   \n",
       "242  rule 2: moral conduct;paragraph 01 adherence t...   \n",
       "248  rule 2: moral conduct;paragraph 01 adherence t...   \n",
       "249  rule 2: moral conduct;paragraph 01 adherence t...   \n",
       "250  rule 2: moral conduct;paragraph 01 adherence t...   \n",
       "\n",
       "                                      allegation_class receive_year  \\\n",
       "0      r.s. 14:35.3 relative to domestic abuse battery         2015   \n",
       "1             r.s. 14:46 relative to false imprisoment         2015   \n",
       "2                                                              2013   \n",
       "3                                                              2013   \n",
       "4    r.s. 32:415 relative to operating a motor vehi...         2019   \n",
       "..                                                 ...          ...   \n",
       "240                                                            2014   \n",
       "242                                                            2014   \n",
       "248  r.s.  14:98 relative to operating a vehicle wh...         2018   \n",
       "249  r.s. 14:99 relative to reckless operation of a...         2018   \n",
       "250  r.s. 4:108.1 relative to resisting an officer/...         2018   \n",
       "\n",
       "    receive_month receive_day  data_production_year          agency  \\\n",
       "0                                              2021  New Orleans DA   \n",
       "1                                              2021  New Orleans DA   \n",
       "2                                              2021  New Orleans DA   \n",
       "3                                              2021  New Orleans DA   \n",
       "4                                              2021  New Orleans DA   \n",
       "..            ...         ...                   ...             ...   \n",
       "240                                            2021  New Orleans DA   \n",
       "242                                            2021  New Orleans DA   \n",
       "248                                            2021  New Orleans DA   \n",
       "249                                            2021  New Orleans DA   \n",
       "250                                            2021  New Orleans DA   \n",
       "\n",
       "                                  uid                     complaint_uid  \n",
       "0    3c11fe66cbe42d4eb1c3bff3470360b0  b6c03e971c3527ed1cbb53dd6471a8ba  \n",
       "1    3c11fe66cbe42d4eb1c3bff3470360b0  79ac0b44609be2d1fb60818099143117  \n",
       "2    3c11fe66cbe42d4eb1c3bff3470360b0  9075a8c42c71d86de7f671c2ed7257d6  \n",
       "3    3c11fe66cbe42d4eb1c3bff3470360b0  1c89b881932eab0dce656f71a27ea466  \n",
       "4    682855db7be06f05f97f32bc25e81de1  0bf1b8ae26eaae3c1e327b34786e51ca  \n",
       "..                                ...                               ...  \n",
       "240  0227357cfaa75b7252bb93ba61b57006  9386bba317310f0355549e3b797a6799  \n",
       "242  0227357cfaa75b7252bb93ba61b57006  7f2b379b045a6d09e89fbdafe2405246  \n",
       "248  3ba69c1a5bb5a2ab9b2b9a5a011f7aef  4edb8fc6b59be6c05749a210ffb24267  \n",
       "249  3ba69c1a5bb5a2ab9b2b9a5a011f7aef  58232c5d6de893ae2d11e812bd208990  \n",
       "250  3ba69c1a5bb5a2ab9b2b9a5a011f7aef  68683a802a7c983ae03d1594b4c7e87f  \n",
       "\n",
       "[224 rows x 14 columns]"
      ],
      "text/html": "<div>\n<style scoped>\n    .dataframe tbody tr th:only-of-type {\n        vertical-align: middle;\n    }\n\n    .dataframe tbody tr th {\n        vertical-align: top;\n    }\n\n    .dataframe thead th {\n        text-align: right;\n    }\n</style>\n<table border=\"1\" class=\"dataframe\">\n  <thead>\n    <tr style=\"text-align: right;\">\n      <th></th>\n      <th>first_name</th>\n      <th>last_name</th>\n      <th>finding</th>\n      <th>disposition</th>\n      <th>tracking_number</th>\n      <th>charges</th>\n      <th>allegation_class</th>\n      <th>receive_year</th>\n      <th>receive_month</th>\n      <th>receive_day</th>\n      <th>data_production_year</th>\n      <th>agency</th>\n      <th>uid</th>\n      <th>complaint_uid</th>\n    </tr>\n  </thead>\n  <tbody>\n    <tr>\n      <th>0</th>\n      <td>james</td>\n      <td>cunningham</td>\n      <td>sustained</td>\n      <td>dismissed under investigation</td>\n      <td>2015-0480-P</td>\n      <td>rule 2: moral conduct;paragraph  01 adherence ...</td>\n      <td>r.s. 14:35.3 relative to domestic abuse battery</td>\n      <td>2015</td>\n      <td></td>\n      <td></td>\n      <td>2021</td>\n      <td>New Orleans DA</td>\n      <td>3c11fe66cbe42d4eb1c3bff3470360b0</td>\n      <td>b6c03e971c3527ed1cbb53dd6471a8ba</td>\n    </tr>\n    <tr>\n      <th>1</th>\n      <td>james</td>\n      <td>cunningham</td>\n      <td>sustained</td>\n      <td>dismissed under investigation</td>\n      <td>2015-0480-P</td>\n      <td>rule 2: moral conduct;paragraph 01 adherence t...</td>\n      <td>r.s. 14:46 relative to false imprisoment</td>\n      <td>2015</td>\n      <td></td>\n      <td></td>\n      <td>2021</td>\n      <td>New Orleans DA</td>\n      <td>3c11fe66cbe42d4eb1c3bff3470360b0</td>\n      <td>79ac0b44609be2d1fb60818099143117</td>\n    </tr>\n    <tr>\n      <th>2</th>\n      <td>james</td>\n      <td>cunningham</td>\n      <td>sustained</td>\n      <td>dui (driving under the influence) from another...</td>\n      <td>2013-0790-C</td>\n      <td>rule 2: moral conduct;paragraph 01 adherence t...</td>\n      <td></td>\n      <td>2013</td>\n      <td></td>\n      <td></td>\n      <td>2021</td>\n      <td>New Orleans DA</td>\n      <td>3c11fe66cbe42d4eb1c3bff3470360b0</td>\n      <td>9075a8c42c71d86de7f671c2ed7257d6</td>\n    </tr>\n    <tr>\n      <th>3</th>\n      <td>james</td>\n      <td>cunningham</td>\n      <td>sustained</td>\n      <td>dui (driving under the influence) from another...</td>\n      <td>2013-0790-C</td>\n      <td>rule 2: moral conduct;paragraph 03 honesty and...</td>\n      <td></td>\n      <td>2013</td>\n      <td></td>\n      <td></td>\n      <td>2021</td>\n      <td>New Orleans DA</td>\n      <td>3c11fe66cbe42d4eb1c3bff3470360b0</td>\n      <td>1c89b881932eab0dce656f71a27ea466</td>\n    </tr>\n    <tr>\n      <th>4</th>\n      <td>caitlyn</td>\n      <td>smith</td>\n      <td>sustained</td>\n      <td>negotiated settlement</td>\n      <td>2019-0465-R</td>\n      <td>rule 2: moral conduct;paragraph 01 adherence t...</td>\n      <td>r.s. 32:415 relative to operating a motor vehi...</td>\n      <td>2019</td>\n      <td></td>\n      <td></td>\n      <td>2021</td>\n      <td>New Orleans DA</td>\n      <td>682855db7be06f05f97f32bc25e81de1</td>\n      <td>0bf1b8ae26eaae3c1e327b34786e51ca</td>\n    </tr>\n    <tr>\n      <th>...</th>\n      <td>...</td>\n      <td>...</td>\n      <td>...</td>\n      <td>...</td>\n      <td>...</td>\n      <td>...</td>\n      <td>...</td>\n      <td>...</td>\n      <td>...</td>\n      <td>...</td>\n      <td>...</td>\n      <td>...</td>\n      <td>...</td>\n      <td>...</td>\n    </tr>\n    <tr>\n      <th>240</th>\n      <td>charles</td>\n      <td>miller</td>\n      <td>sustained|retired under investigation</td>\n      <td>sustained|retired under investigation</td>\n      <td>2014-0193-R</td>\n      <td>rule 2: moral conduct;paragraph 01 adherence t...</td>\n      <td></td>\n      <td>2014</td>\n      <td></td>\n      <td></td>\n      <td>2021</td>\n      <td>New Orleans DA</td>\n      <td>0227357cfaa75b7252bb93ba61b57006</td>\n      <td>9386bba317310f0355549e3b797a6799</td>\n    </tr>\n    <tr>\n      <th>242</th>\n      <td>charles</td>\n      <td>miller</td>\n      <td>sustained|retired under investigation</td>\n      <td>sustained|retired under investigation</td>\n      <td>2014-0193-R'</td>\n      <td>rule 2: moral conduct;paragraph 01 adherence t...</td>\n      <td></td>\n      <td>2014</td>\n      <td></td>\n      <td></td>\n      <td>2021</td>\n      <td>New Orleans DA</td>\n      <td>0227357cfaa75b7252bb93ba61b57006</td>\n      <td>7f2b379b045a6d09e89fbdafe2405246</td>\n    </tr>\n    <tr>\n      <th>248</th>\n      <td>carlos</td>\n      <td>peralta</td>\n      <td>sustained|retired under investigation</td>\n      <td>sustained|resigned under investigation</td>\n      <td>2018-0667-R</td>\n      <td>rule 2: moral conduct;paragraph 01 adherence t...</td>\n      <td>r.s.  14:98 relative to operating a vehicle wh...</td>\n      <td>2018</td>\n      <td></td>\n      <td></td>\n      <td>2021</td>\n      <td>New Orleans DA</td>\n      <td>3ba69c1a5bb5a2ab9b2b9a5a011f7aef</td>\n      <td>4edb8fc6b59be6c05749a210ffb24267</td>\n    </tr>\n    <tr>\n      <th>249</th>\n      <td>carlos</td>\n      <td>peralta</td>\n      <td>sustained|retired under investigation</td>\n      <td>sustained|resigned under investigation</td>\n      <td>2018-0667-R</td>\n      <td>rule 2: moral conduct;paragraph 01 adherence t...</td>\n      <td>r.s. 14:99 relative to reckless operation of a...</td>\n      <td>2018</td>\n      <td></td>\n      <td></td>\n      <td>2021</td>\n      <td>New Orleans DA</td>\n      <td>3ba69c1a5bb5a2ab9b2b9a5a011f7aef</td>\n      <td>58232c5d6de893ae2d11e812bd208990</td>\n    </tr>\n    <tr>\n      <th>250</th>\n      <td>carlos</td>\n      <td>peralta</td>\n      <td>sustained|retired under investigation</td>\n      <td>sustained|resigned under investigation</td>\n      <td>2018-0667-R</td>\n      <td>rule 2: moral conduct;paragraph 01 adherence t...</td>\n      <td>r.s. 4:108.1 relative to resisting an officer/...</td>\n      <td>2018</td>\n      <td></td>\n      <td></td>\n      <td>2021</td>\n      <td>New Orleans DA</td>\n      <td>3ba69c1a5bb5a2ab9b2b9a5a011f7aef</td>\n      <td>68683a802a7c983ae03d1594b4c7e87f</td>\n    </tr>\n  </tbody>\n</table>\n<p>224 rows × 14 columns</p>\n</div>"
     },
     "metadata": {},
     "execution_count": 3
    }
   ],
   "source": [
    "df = clean()\n",
    "df"
   ]
  },
  {
   "cell_type": "code",
   "execution_count": null,
   "metadata": {},
   "outputs": [],
   "source": []
  }
 ]
}
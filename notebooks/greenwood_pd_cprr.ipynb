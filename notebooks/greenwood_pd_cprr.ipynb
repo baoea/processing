{
 "metadata": {
  "language_info": {
   "codemirror_mode": {
    "name": "ipython",
    "version": 3
   },
   "file_extension": ".py",
   "mimetype": "text/x-python",
   "name": "python",
   "nbconvert_exporter": "python",
   "pygments_lexer": "ipython3",
   "version": "3.8.3-final"
  },
  "orig_nbformat": 2,
  "kernelspec": {
   "name": "python3",
   "display_name": "Python 3.8.3 64-bit ('base': conda)",
   "metadata": {
    "interpreter": {
     "hash": "759d03fc00c4e55187619d7bc1e0b6a3309d14c7c00d43a321634150e05678f8"
    }
   }
  }
 },
 "nbformat": 4,
 "nbformat_minor": 2,
 "cells": [
  {
   "cell_type": "code",
   "execution_count": 1,
   "metadata": {},
   "outputs": [],
   "source": [
    "import sys; sys.path.append(\"../\")\n",
    "import pandas as pd\n",
    "\n",
    "from clean.greenwood_pd_cprr import clean\n",
    "from clean.post_pprr import clean as clean_post\n",
    "from match.greenwood_pd import match\n",
    "from fuse.greenwood_pd import fuse"
   ]
  },
  {
   "cell_type": "code",
   "execution_count": 2,
   "metadata": {},
   "outputs": [
    {
     "output_type": "execute_result",
     "data": {
      "text/plain": [
       "        rank_desc    first_name last_name comission_number  \\\n",
       "0         officer  christopher     farris                    \n",
       "1  senior officer  christopher     farris              235   \n",
       "\n",
       "             investigation_type       rule_violation paragraph_violation  \\\n",
       "0  administrative investigation  dereliction of duty                   u   \n",
       "1                           NaN  attendance in court         section 11    \n",
       "\n",
       "                         action disposition complainant_type  \\\n",
       "0  1 day suspension without pay   sustained       civillian    \n",
       "1             no further action         NaN              NaN   \n",
       "\n",
       "   complainant_name complainant_race complainant_sex occur_year occur_month  \\\n",
       "0  Ms. April Fields            black          female       2015          12   \n",
       "1               NaN              NaN             NaN       2015           1   \n",
       "\n",
       "  occur_day receive_year receive_month receive_day  \\\n",
       "0        26         2015            12          28   \n",
       "1        29         2015             1          29   \n",
       "\n",
       "                                mid  \n",
       "0  c38e24e231e0202c1d207726353b7804  \n",
       "1  c38e24e231e0202c1d207726353b7804  "
      ],
      "text/html": "<div>\n<style scoped>\n    .dataframe tbody tr th:only-of-type {\n        vertical-align: middle;\n    }\n\n    .dataframe tbody tr th {\n        vertical-align: top;\n    }\n\n    .dataframe thead th {\n        text-align: right;\n    }\n</style>\n<table border=\"1\" class=\"dataframe\">\n  <thead>\n    <tr style=\"text-align: right;\">\n      <th></th>\n      <th>rank_desc</th>\n      <th>first_name</th>\n      <th>last_name</th>\n      <th>comission_number</th>\n      <th>investigation_type</th>\n      <th>rule_violation</th>\n      <th>paragraph_violation</th>\n      <th>action</th>\n      <th>disposition</th>\n      <th>complainant_type</th>\n      <th>complainant_name</th>\n      <th>complainant_race</th>\n      <th>complainant_sex</th>\n      <th>occur_year</th>\n      <th>occur_month</th>\n      <th>occur_day</th>\n      <th>receive_year</th>\n      <th>receive_month</th>\n      <th>receive_day</th>\n      <th>mid</th>\n    </tr>\n  </thead>\n  <tbody>\n    <tr>\n      <th>0</th>\n      <td>officer</td>\n      <td>christopher</td>\n      <td>farris</td>\n      <td></td>\n      <td>administrative investigation</td>\n      <td>dereliction of duty</td>\n      <td>u</td>\n      <td>1 day suspension without pay</td>\n      <td>sustained</td>\n      <td>civillian</td>\n      <td>Ms. April Fields</td>\n      <td>black</td>\n      <td>female</td>\n      <td>2015</td>\n      <td>12</td>\n      <td>26</td>\n      <td>2015</td>\n      <td>12</td>\n      <td>28</td>\n      <td>c38e24e231e0202c1d207726353b7804</td>\n    </tr>\n    <tr>\n      <th>1</th>\n      <td>senior officer</td>\n      <td>christopher</td>\n      <td>farris</td>\n      <td>235</td>\n      <td>NaN</td>\n      <td>attendance in court</td>\n      <td>section 11</td>\n      <td>no further action</td>\n      <td>NaN</td>\n      <td>NaN</td>\n      <td>NaN</td>\n      <td>NaN</td>\n      <td>NaN</td>\n      <td>2015</td>\n      <td>1</td>\n      <td>29</td>\n      <td>2015</td>\n      <td>1</td>\n      <td>29</td>\n      <td>c38e24e231e0202c1d207726353b7804</td>\n    </tr>\n  </tbody>\n</table>\n</div>"
     },
     "metadata": {},
     "execution_count": 2
    }
   ],
   "source": [
    "gw_cprr = clean()\n",
    "gw_cprr"
   ]
  },
  {
   "cell_type": "code",
   "execution_count": 3,
   "metadata": {},
   "outputs": [
    {
     "output_type": "stream",
     "name": "stderr",
     "text": [
      "../lib/clean.py:145: FutureWarning: The default value of regex will change from True to False in a future version.\n",
      "  return series.str.strip().str.replace(r\"[^\\w-]+\", \" \").str.replace(r\"\\s+\", \" \")\\\n",
      "../clean/post_pprr.py:13: FutureWarning: The default value of regex will change from True to False in a future version.\n",
      "  df.loc[:, \"agency\"] = df.agency.str.strip()\\\n"
     ]
    }
   ],
   "source": [
    "post_pprr = clean_post()"
   ]
  },
  {
   "cell_type": "code",
   "execution_count": 4,
   "metadata": {},
   "outputs": [
    {
     "output_type": "execute_result",
     "data": {
      "text/plain": [
       "        rank_desc    first_name last_name comission_number  \\\n",
       "0         officer  christopher     farris                    \n",
       "1  senior officer  christopher     farris              235   \n",
       "\n",
       "             investigation_type       rule_violation paragraph_violation  \\\n",
       "0  administrative investigation  dereliction of duty                   u   \n",
       "1                           NaN  attendance in court         section 11    \n",
       "\n",
       "                         action disposition complainant_type  ...  \\\n",
       "0  1 day suspension without pay   sustained       civillian   ...   \n",
       "1             no further action         NaN              NaN  ...   \n",
       "\n",
       "  complainant_sex occur_year occur_month occur_day receive_year receive_month  \\\n",
       "0          female       2015          12        26         2015            12   \n",
       "1             NaN       2015           1        29         2015             1   \n",
       "\n",
       "  receive_day                               uid level_1_cert_date  \\\n",
       "0          28  ab37efbb09035fb1cca26e4024637957        04/07/2010   \n",
       "1          29  ab37efbb09035fb1cca26e4024637957        04/07/2010   \n",
       "\n",
       "  last_pc_12_qualification_date  \n",
       "0                    10/21/2020  \n",
       "1                    10/21/2020  \n",
       "\n",
       "[2 rows x 22 columns]"
      ],
      "text/html": "<div>\n<style scoped>\n    .dataframe tbody tr th:only-of-type {\n        vertical-align: middle;\n    }\n\n    .dataframe tbody tr th {\n        vertical-align: top;\n    }\n\n    .dataframe thead th {\n        text-align: right;\n    }\n</style>\n<table border=\"1\" class=\"dataframe\">\n  <thead>\n    <tr style=\"text-align: right;\">\n      <th></th>\n      <th>rank_desc</th>\n      <th>first_name</th>\n      <th>last_name</th>\n      <th>comission_number</th>\n      <th>investigation_type</th>\n      <th>rule_violation</th>\n      <th>paragraph_violation</th>\n      <th>action</th>\n      <th>disposition</th>\n      <th>complainant_type</th>\n      <th>...</th>\n      <th>complainant_sex</th>\n      <th>occur_year</th>\n      <th>occur_month</th>\n      <th>occur_day</th>\n      <th>receive_year</th>\n      <th>receive_month</th>\n      <th>receive_day</th>\n      <th>uid</th>\n      <th>level_1_cert_date</th>\n      <th>last_pc_12_qualification_date</th>\n    </tr>\n  </thead>\n  <tbody>\n    <tr>\n      <th>0</th>\n      <td>officer</td>\n      <td>christopher</td>\n      <td>farris</td>\n      <td></td>\n      <td>administrative investigation</td>\n      <td>dereliction of duty</td>\n      <td>u</td>\n      <td>1 day suspension without pay</td>\n      <td>sustained</td>\n      <td>civillian</td>\n      <td>...</td>\n      <td>female</td>\n      <td>2015</td>\n      <td>12</td>\n      <td>26</td>\n      <td>2015</td>\n      <td>12</td>\n      <td>28</td>\n      <td>ab37efbb09035fb1cca26e4024637957</td>\n      <td>04/07/2010</td>\n      <td>10/21/2020</td>\n    </tr>\n    <tr>\n      <th>1</th>\n      <td>senior officer</td>\n      <td>christopher</td>\n      <td>farris</td>\n      <td>235</td>\n      <td>NaN</td>\n      <td>attendance in court</td>\n      <td>section 11</td>\n      <td>no further action</td>\n      <td>NaN</td>\n      <td>NaN</td>\n      <td>...</td>\n      <td>NaN</td>\n      <td>2015</td>\n      <td>1</td>\n      <td>29</td>\n      <td>2015</td>\n      <td>1</td>\n      <td>29</td>\n      <td>ab37efbb09035fb1cca26e4024637957</td>\n      <td>04/07/2010</td>\n      <td>10/21/2020</td>\n    </tr>\n  </tbody>\n</table>\n<p>2 rows × 22 columns</p>\n</div>"
     },
     "metadata": {},
     "execution_count": 4
    }
   ],
   "source": [
    "\n",
    "gw_cprr = match(gw_cprr, post_pprr)\n",
    "gw_cprr"
   ]
  },
  {
   "cell_type": "code",
   "execution_count": 5,
   "metadata": {},
   "outputs": [
    {
     "output_type": "stream",
     "name": "stderr",
     "text": [
      "../lib/clean.py:155: FutureWarning: The default value of regex will change from True to False in a future version.\n  df.loc[:, col] = df[col].str.title()\\\n"
     ]
    },
    {
     "output_type": "execute_result",
     "data": {
      "text/plain": [
       "                                uid last_name    first_name level_1_cert_date  \\\n",
       "0  ab37efbb09035fb1cca26e4024637957    Farris  Christopher         04/07/2010   \n",
       "\n",
       "  last_pc_12_qualification_date  \n",
       "0                    10/21/2020  "
      ],
      "text/html": "<div>\n<style scoped>\n    .dataframe tbody tr th:only-of-type {\n        vertical-align: middle;\n    }\n\n    .dataframe tbody tr th {\n        vertical-align: top;\n    }\n\n    .dataframe thead th {\n        text-align: right;\n    }\n</style>\n<table border=\"1\" class=\"dataframe\">\n  <thead>\n    <tr style=\"text-align: right;\">\n      <th></th>\n      <th>uid</th>\n      <th>last_name</th>\n      <th>first_name</th>\n      <th>level_1_cert_date</th>\n      <th>last_pc_12_qualification_date</th>\n    </tr>\n  </thead>\n  <tbody>\n    <tr>\n      <th>0</th>\n      <td>ab37efbb09035fb1cca26e4024637957</td>\n      <td>Farris</td>\n      <td>Christopher</td>\n      <td>04/07/2010</td>\n      <td>10/21/2020</td>\n    </tr>\n  </tbody>\n</table>\n</div>"
     },
     "metadata": {},
     "execution_count": 5
    }
   ],
   "source": [
    "per, com, perhist = fuse(gw_cprr)\n",
    "per"
   ]
  },
  {
   "cell_type": "code",
   "execution_count": 6,
   "metadata": {},
   "outputs": [
    {
     "output_type": "execute_result",
     "data": {
      "text/plain": [
       "                                uid                    allegation_uid  \\\n",
       "0  ab37efbb09035fb1cca26e4024637957  5ad25b5ff928c6def1bb8cce05e7f18f   \n",
       "1  ab37efbb09035fb1cca26e4024637957  e6051001226bdacd9df2157c9a87aa27   \n",
       "\n",
       "  occur_year occur_month occur_day receive_year receive_month receive_day  \\\n",
       "0       2015          12        26         2015            12          28   \n",
       "1       2015           1        29         2015             1          29   \n",
       "\n",
       "             investigation_type disposition       rule_violation  \\\n",
       "0  administrative investigation   sustained  dereliction of duty   \n",
       "1                           NaN         NaN  attendance in court   \n",
       "\n",
       "  paragraph_violation complainant_type  complainant_name complainant_sex  \\\n",
       "0                   u       civillian   Ms. April Fields          female   \n",
       "1         section 11               NaN               NaN             NaN   \n",
       "\n",
       "  complainant_race                        action complainant_type  \n",
       "0            black  1 day suspension without pay       civillian   \n",
       "1              NaN             no further action              NaN  "
      ],
      "text/html": "<div>\n<style scoped>\n    .dataframe tbody tr th:only-of-type {\n        vertical-align: middle;\n    }\n\n    .dataframe tbody tr th {\n        vertical-align: top;\n    }\n\n    .dataframe thead th {\n        text-align: right;\n    }\n</style>\n<table border=\"1\" class=\"dataframe\">\n  <thead>\n    <tr style=\"text-align: right;\">\n      <th></th>\n      <th>uid</th>\n      <th>allegation_uid</th>\n      <th>occur_year</th>\n      <th>occur_month</th>\n      <th>occur_day</th>\n      <th>receive_year</th>\n      <th>receive_month</th>\n      <th>receive_day</th>\n      <th>investigation_type</th>\n      <th>disposition</th>\n      <th>rule_violation</th>\n      <th>paragraph_violation</th>\n      <th>complainant_type</th>\n      <th>complainant_name</th>\n      <th>complainant_sex</th>\n      <th>complainant_race</th>\n      <th>action</th>\n      <th>complainant_type</th>\n    </tr>\n  </thead>\n  <tbody>\n    <tr>\n      <th>0</th>\n      <td>ab37efbb09035fb1cca26e4024637957</td>\n      <td>5ad25b5ff928c6def1bb8cce05e7f18f</td>\n      <td>2015</td>\n      <td>12</td>\n      <td>26</td>\n      <td>2015</td>\n      <td>12</td>\n      <td>28</td>\n      <td>administrative investigation</td>\n      <td>sustained</td>\n      <td>dereliction of duty</td>\n      <td>u</td>\n      <td>civillian</td>\n      <td>Ms. April Fields</td>\n      <td>female</td>\n      <td>black</td>\n      <td>1 day suspension without pay</td>\n      <td>civillian</td>\n    </tr>\n    <tr>\n      <th>1</th>\n      <td>ab37efbb09035fb1cca26e4024637957</td>\n      <td>e6051001226bdacd9df2157c9a87aa27</td>\n      <td>2015</td>\n      <td>1</td>\n      <td>29</td>\n      <td>2015</td>\n      <td>1</td>\n      <td>29</td>\n      <td>NaN</td>\n      <td>NaN</td>\n      <td>attendance in court</td>\n      <td>section 11</td>\n      <td>NaN</td>\n      <td>NaN</td>\n      <td>NaN</td>\n      <td>NaN</td>\n      <td>no further action</td>\n      <td>NaN</td>\n    </tr>\n  </tbody>\n</table>\n</div>"
     },
     "metadata": {},
     "execution_count": 6
    }
   ],
   "source": [
    "com"
   ]
  },
  {
   "cell_type": "code",
   "execution_count": 7,
   "metadata": {},
   "outputs": [
    {
     "output_type": "execute_result",
     "data": {
      "text/plain": [
       "                                uid       rank_desc rank_year rank_month  \\\n",
       "0  ab37efbb09035fb1cca26e4024637957         officer      2015         12   \n",
       "1  ab37efbb09035fb1cca26e4024637957  senior officer      2015          1   \n",
       "\n",
       "  rank_day  \n",
       "0       26  \n",
       "1       29  "
      ],
      "text/html": "<div>\n<style scoped>\n    .dataframe tbody tr th:only-of-type {\n        vertical-align: middle;\n    }\n\n    .dataframe tbody tr th {\n        vertical-align: top;\n    }\n\n    .dataframe thead th {\n        text-align: right;\n    }\n</style>\n<table border=\"1\" class=\"dataframe\">\n  <thead>\n    <tr style=\"text-align: right;\">\n      <th></th>\n      <th>uid</th>\n      <th>rank_desc</th>\n      <th>rank_year</th>\n      <th>rank_month</th>\n      <th>rank_day</th>\n    </tr>\n  </thead>\n  <tbody>\n    <tr>\n      <th>0</th>\n      <td>ab37efbb09035fb1cca26e4024637957</td>\n      <td>officer</td>\n      <td>2015</td>\n      <td>12</td>\n      <td>26</td>\n    </tr>\n    <tr>\n      <th>1</th>\n      <td>ab37efbb09035fb1cca26e4024637957</td>\n      <td>senior officer</td>\n      <td>2015</td>\n      <td>1</td>\n      <td>29</td>\n    </tr>\n  </tbody>\n</table>\n</div>"
     },
     "metadata": {},
     "execution_count": 7
    }
   ],
   "source": [
    "perhist"
   ]
  },
  {
   "cell_type": "code",
   "execution_count": null,
   "metadata": {},
   "outputs": [],
   "source": []
  }
 ]
}
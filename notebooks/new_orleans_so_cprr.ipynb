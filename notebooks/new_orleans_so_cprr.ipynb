{
 "metadata": {
  "language_info": {
   "codemirror_mode": {
    "name": "ipython",
    "version": 3
   },
   "file_extension": ".py",
   "mimetype": "text/x-python",
   "name": "python",
   "nbconvert_exporter": "python",
   "pygments_lexer": "ipython3",
   "version": "3.9.2"
  },
  "orig_nbformat": 2,
  "kernelspec": {
   "name": "python392jvsc74a57bd055d6dfa6f6295e03bf132df3e61c1565ff1c22b645ef82a5638b280b97b3597b",
   "display_name": "Python 3.9.2 64-bit ('base': virtualenvwrapper)"
  }
 },
 "nbformat": 4,
 "nbformat_minor": 2,
 "cells": [
  {
   "cell_type": "code",
   "execution_count": 1,
   "metadata": {},
   "outputs": [],
   "source": [
    "import sys; sys.path.append(\"../\")\n",
    "import pandas as pd\n",
    "\n",
    "from lib.clean import clean_names\n",
    "from lib.explore import show_unique\n",
    "from clean.new_orleans_so_cprr import clean"
   ]
  },
  {
   "cell_type": "code",
   "execution_count": 2,
   "metadata": {},
   "outputs": [
    {
     "output_type": "stream",
     "name": "stderr",
     "text": [
      "../clean/new_orleans_so_cprr.py:21: FutureWarning: The default value of regex will change from True to False in a future version.\n  df.loc[:, col] = df[col].str.replace(r\"-\\r\", r\"-\")\\\n../clean/new_orleans_so_cprr.py:31: FutureWarning: The default value of regex will change from True to False in a future version.\n  series = series.str.replace(pat, r'\\2').str.strip()\n"
     ]
    },
    {
     "output_type": "execute_result",
     "data": {
      "text/plain": [
       "    receive_date tracking_number department_desc investigating_supervisor  \\\n",
       "0      01/4/2019        A-001-19             ojc      Major Carlos Louque   \n",
       "1      01/4/2019        A-003-19             fit         Agent Tina Ellis   \n",
       "2      01/7/2019        A-004-19             fit    Agent Julian Augustus   \n",
       "3      01/7/2019        A-005-19         reserve    Sergeant Larry Taplin   \n",
       "4      01/7/2019        A-005-19         reserve    Sergeant Larry Taplin   \n",
       "..           ...             ...             ...                      ...   \n",
       "556   12/20/2019        L-035-19           class       Agent Kevin Talley   \n",
       "557   12/23/2019        L-036-19              hr         Agent Tina Ellis   \n",
       "558   12/27/2019        L-037-19             cdc    Sergeant Larry Taplin   \n",
       "559   12/27/2019        L-038-19             ojc      Sergeant Karen Gant   \n",
       "560   12/30/2019        L-039-19             cdc       Agent Kevin Talley   \n",
       "\n",
       "    rank_desc employee_id                                            charges  \\\n",
       "0      deputy      105071       Reporting for Duty and Knowledge of Policies   \n",
       "1       agent      104339           Unauthorized Force/Physical Intimidation   \n",
       "2     recruit      105334  Unauthorized Force/Physical Intimidation and P...   \n",
       "3      deputy         NaN  Unauthorized Force/Physical Intimidation, Inst...   \n",
       "4     captain         NaN                        Supervisory Respnsibilities   \n",
       "..        ...         ...                                                ...   \n",
       "556   manager      105362  Instructions from Supervisor or Higher Rank an...   \n",
       "557  sergeant      104356                                    Professionalism   \n",
       "558    deputy      105662  Neglect of Duty, Neglect of Duty-Failure to Ac...   \n",
       "559    deputy      104087  Neglect of Duty and Instructions from Supervis...   \n",
       "560  sergeant      103859  Neglect of Duty and Neglect of Duty-Failure to...   \n",
       "\n",
       "    investigation_start_date investigation_complete_date  \\\n",
       "0                 01/10/2019                  01/10/2019   \n",
       "1                   1/4/2019                   1/11/2019   \n",
       "2                   1/7/2019                   1/16/2019   \n",
       "3                  2/17/2019                   3/22/2019   \n",
       "4                  2/17/2019                   3/22/2019   \n",
       "..                       ...                         ...   \n",
       "556               12/19/2019                   8/10/2020   \n",
       "557               12/18/2019                   1/29/2020   \n",
       "558               12/31/2019                   1/27/2020   \n",
       "559                3/25/2020                   3/25/2020   \n",
       "560                      NaN                         NaN   \n",
       "\n",
       "                                           disposition  \\\n",
       "0                                                        \n",
       "1                                  Non-Sustained (FIT)   \n",
       "2    Unauthorized Force/Physical Intimidation 5 day...   \n",
       "3                                           TERMINATED   \n",
       "4                                              15 days   \n",
       "..                                                 ...   \n",
       "556                                                      \n",
       "557                                          Unfounded   \n",
       "558  Neglect of Duty 5 days, Neglect of Duty-Failur...   \n",
       "559                                                      \n",
       "560                                                      \n",
       "\n",
       "                                                action  \\\n",
       "0                                                  NaN   \n",
       "1                                                  NaN   \n",
       "2                                                  NaN   \n",
       "3    Terminated by Disciplinary review board 04/04/...   \n",
       "4                                                  NaN   \n",
       "..                                                 ...   \n",
       "556                                                NaN   \n",
       "557  Accused of spreading a rumor of a sexual relat...   \n",
       "558  Terminated by Disciplinary review board on 02/...   \n",
       "559  Resigned prior to start of investigation 03/25...   \n",
       "560                                under investigation   \n",
       "\n",
       "                                               summary first_name  \\\n",
       "0                              Reported late for duty.      dwane   \n",
       "1    Accused of pushing a civilian with both hands ...   sharonda   \n",
       "2    Observed via video footage to have struck an i...       tyla   \n",
       "3    Observed pushing a woman to ground prior to ar...      shawn   \n",
       "4    Failed to effect is supervisory duties on IHOP...      ellis   \n",
       "..                                                 ...        ...   \n",
       "556  Failed to complete a transfer sheet upon compl...       irma   \n",
       "557                                Shaka Milton 105074      louis   \n",
       "558  Left her gun in an unsecure area at which time...     ermika   \n",
       "559                             Failed to serve papers       paul   \n",
       "560     Failed to notify rank of incident on his watch      steve   \n",
       "\n",
       "    middle_initial  last_name          agency data_production_year  \\\n",
       "0                       davis  New Orleans SO                 2019   \n",
       "1                      hadley  New Orleans SO                 2019   \n",
       "2                    sterling  New Orleans SO                 2019   \n",
       "3                     madison  New Orleans SO                 2019   \n",
       "4                      wilson  New Orleans SO                 2019   \n",
       "..             ...        ...             ...                  ...   \n",
       "556                      dunn  New Orleans SO                 2019   \n",
       "557                     evans  New Orleans SO                 2019   \n",
       "558                    wilson  New Orleans SO                 2019   \n",
       "559                 mckendall  New Orleans SO                 2019   \n",
       "560                    shafer  New Orleans SO                 2019   \n",
       "\n",
       "                                  uid                     complaint_uid  \\\n",
       "0    41ffb825e65ff4e982b7b33b5b603113  30139daa2ba4c13d69baa6f68ad60f29   \n",
       "1    f4e15158f10ff004128f94455026ed2f  e99e7bacba2a2e3906cc4204ff0a7db8   \n",
       "2    99ccc53c2b11ee929345d834579d314a  10222d1808b3927573c97b54a8b9d672   \n",
       "3    1c32fb1e04e8ae76e35ca13dcc5b7526  4a596b9e7f4cfb952632f4e11a522fe7   \n",
       "4    5e2f1920d9b8fe90e881d3269285da2b  4a596b9e7f4cfb952632f4e11a522fe7   \n",
       "..                                ...                               ...   \n",
       "556  371bd4394106fe2ac2a73b3da0d7580e  2270dfc5bd2608afd0a97a52f52d2c01   \n",
       "557  1ddf0d3c05424f8d09136a8df762f270  29dd63bb5f7c4b217f5acee9152c8846   \n",
       "558  34e007b15cbbc0b07c9af6e94cf8486d  9719c953642268a878f73edebefa64a9   \n",
       "559  5302b0cf4a7ce03080d43515aa04ad63  9b695cbfbeb7613009aa652a37196ac5   \n",
       "560  f14ae7c1ca928687b7a142c7f2071f6f  d3bcf0c26ac473a88617bd92781be9e2   \n",
       "\n",
       "                       allegation_uid  \n",
       "0    6f13301e4d9225276e8cfd42998f02e1  \n",
       "1    1ee9208d76c53ba3990bc6163f8fbb4e  \n",
       "2    7559380e0f54164f7505ec8ba19cdf28  \n",
       "3    150403d067af1409cb4b4606e000d439  \n",
       "4    7e3da5600187e492dbea637a4e880a4b  \n",
       "..                                ...  \n",
       "556  d081339b9aeefd122ca6433142578b22  \n",
       "557  79bb59483b5b2717f0e7a39496e9c903  \n",
       "558  072619687ec9043cac1fd11f30ca94f8  \n",
       "559  a3945200e36a571544fbf2cd67680b93  \n",
       "560  f2ca63656d36b6ba533eb6a9efc66b25  \n",
       "\n",
       "[561 rows x 20 columns]"
      ],
      "text/html": "<div>\n<style scoped>\n    .dataframe tbody tr th:only-of-type {\n        vertical-align: middle;\n    }\n\n    .dataframe tbody tr th {\n        vertical-align: top;\n    }\n\n    .dataframe thead th {\n        text-align: right;\n    }\n</style>\n<table border=\"1\" class=\"dataframe\">\n  <thead>\n    <tr style=\"text-align: right;\">\n      <th></th>\n      <th>receive_date</th>\n      <th>tracking_number</th>\n      <th>department_desc</th>\n      <th>investigating_supervisor</th>\n      <th>rank_desc</th>\n      <th>employee_id</th>\n      <th>charges</th>\n      <th>investigation_start_date</th>\n      <th>investigation_complete_date</th>\n      <th>disposition</th>\n      <th>action</th>\n      <th>summary</th>\n      <th>first_name</th>\n      <th>middle_initial</th>\n      <th>last_name</th>\n      <th>agency</th>\n      <th>data_production_year</th>\n      <th>uid</th>\n      <th>complaint_uid</th>\n      <th>allegation_uid</th>\n    </tr>\n  </thead>\n  <tbody>\n    <tr>\n      <th>0</th>\n      <td>01/4/2019</td>\n      <td>A-001-19</td>\n      <td>ojc</td>\n      <td>Major Carlos Louque</td>\n      <td>deputy</td>\n      <td>105071</td>\n      <td>Reporting for Duty and Knowledge of Policies</td>\n      <td>01/10/2019</td>\n      <td>01/10/2019</td>\n      <td></td>\n      <td>NaN</td>\n      <td>Reported late for duty.</td>\n      <td>dwane</td>\n      <td></td>\n      <td>davis</td>\n      <td>New Orleans SO</td>\n      <td>2019</td>\n      <td>41ffb825e65ff4e982b7b33b5b603113</td>\n      <td>30139daa2ba4c13d69baa6f68ad60f29</td>\n      <td>6f13301e4d9225276e8cfd42998f02e1</td>\n    </tr>\n    <tr>\n      <th>1</th>\n      <td>01/4/2019</td>\n      <td>A-003-19</td>\n      <td>fit</td>\n      <td>Agent Tina Ellis</td>\n      <td>agent</td>\n      <td>104339</td>\n      <td>Unauthorized Force/Physical Intimidation</td>\n      <td>1/4/2019</td>\n      <td>1/11/2019</td>\n      <td>Non-Sustained (FIT)</td>\n      <td>NaN</td>\n      <td>Accused of pushing a civilian with both hands ...</td>\n      <td>sharonda</td>\n      <td></td>\n      <td>hadley</td>\n      <td>New Orleans SO</td>\n      <td>2019</td>\n      <td>f4e15158f10ff004128f94455026ed2f</td>\n      <td>e99e7bacba2a2e3906cc4204ff0a7db8</td>\n      <td>1ee9208d76c53ba3990bc6163f8fbb4e</td>\n    </tr>\n    <tr>\n      <th>2</th>\n      <td>01/7/2019</td>\n      <td>A-004-19</td>\n      <td>fit</td>\n      <td>Agent Julian Augustus</td>\n      <td>recruit</td>\n      <td>105334</td>\n      <td>Unauthorized Force/Physical Intimidation and P...</td>\n      <td>1/7/2019</td>\n      <td>1/16/2019</td>\n      <td>Unauthorized Force/Physical Intimidation 5 day...</td>\n      <td>NaN</td>\n      <td>Observed via video footage to have struck an i...</td>\n      <td>tyla</td>\n      <td></td>\n      <td>sterling</td>\n      <td>New Orleans SO</td>\n      <td>2019</td>\n      <td>99ccc53c2b11ee929345d834579d314a</td>\n      <td>10222d1808b3927573c97b54a8b9d672</td>\n      <td>7559380e0f54164f7505ec8ba19cdf28</td>\n    </tr>\n    <tr>\n      <th>3</th>\n      <td>01/7/2019</td>\n      <td>A-005-19</td>\n      <td>reserve</td>\n      <td>Sergeant Larry Taplin</td>\n      <td>deputy</td>\n      <td>NaN</td>\n      <td>Unauthorized Force/Physical Intimidation, Inst...</td>\n      <td>2/17/2019</td>\n      <td>3/22/2019</td>\n      <td>TERMINATED</td>\n      <td>Terminated by Disciplinary review board 04/04/...</td>\n      <td>Observed pushing a woman to ground prior to ar...</td>\n      <td>shawn</td>\n      <td></td>\n      <td>madison</td>\n      <td>New Orleans SO</td>\n      <td>2019</td>\n      <td>1c32fb1e04e8ae76e35ca13dcc5b7526</td>\n      <td>4a596b9e7f4cfb952632f4e11a522fe7</td>\n      <td>150403d067af1409cb4b4606e000d439</td>\n    </tr>\n    <tr>\n      <th>4</th>\n      <td>01/7/2019</td>\n      <td>A-005-19</td>\n      <td>reserve</td>\n      <td>Sergeant Larry Taplin</td>\n      <td>captain</td>\n      <td>NaN</td>\n      <td>Supervisory Respnsibilities</td>\n      <td>2/17/2019</td>\n      <td>3/22/2019</td>\n      <td>15 days</td>\n      <td>NaN</td>\n      <td>Failed to effect is supervisory duties on IHOP...</td>\n      <td>ellis</td>\n      <td></td>\n      <td>wilson</td>\n      <td>New Orleans SO</td>\n      <td>2019</td>\n      <td>5e2f1920d9b8fe90e881d3269285da2b</td>\n      <td>4a596b9e7f4cfb952632f4e11a522fe7</td>\n      <td>7e3da5600187e492dbea637a4e880a4b</td>\n    </tr>\n    <tr>\n      <th>...</th>\n      <td>...</td>\n      <td>...</td>\n      <td>...</td>\n      <td>...</td>\n      <td>...</td>\n      <td>...</td>\n      <td>...</td>\n      <td>...</td>\n      <td>...</td>\n      <td>...</td>\n      <td>...</td>\n      <td>...</td>\n      <td>...</td>\n      <td>...</td>\n      <td>...</td>\n      <td>...</td>\n      <td>...</td>\n      <td>...</td>\n      <td>...</td>\n      <td>...</td>\n    </tr>\n    <tr>\n      <th>556</th>\n      <td>12/20/2019</td>\n      <td>L-035-19</td>\n      <td>class</td>\n      <td>Agent Kevin Talley</td>\n      <td>manager</td>\n      <td>105362</td>\n      <td>Instructions from Supervisor or Higher Rank an...</td>\n      <td>12/19/2019</td>\n      <td>8/10/2020</td>\n      <td></td>\n      <td>NaN</td>\n      <td>Failed to complete a transfer sheet upon compl...</td>\n      <td>irma</td>\n      <td></td>\n      <td>dunn</td>\n      <td>New Orleans SO</td>\n      <td>2019</td>\n      <td>371bd4394106fe2ac2a73b3da0d7580e</td>\n      <td>2270dfc5bd2608afd0a97a52f52d2c01</td>\n      <td>d081339b9aeefd122ca6433142578b22</td>\n    </tr>\n    <tr>\n      <th>557</th>\n      <td>12/23/2019</td>\n      <td>L-036-19</td>\n      <td>hr</td>\n      <td>Agent Tina Ellis</td>\n      <td>sergeant</td>\n      <td>104356</td>\n      <td>Professionalism</td>\n      <td>12/18/2019</td>\n      <td>1/29/2020</td>\n      <td>Unfounded</td>\n      <td>Accused of spreading a rumor of a sexual relat...</td>\n      <td>Shaka Milton 105074</td>\n      <td>louis</td>\n      <td></td>\n      <td>evans</td>\n      <td>New Orleans SO</td>\n      <td>2019</td>\n      <td>1ddf0d3c05424f8d09136a8df762f270</td>\n      <td>29dd63bb5f7c4b217f5acee9152c8846</td>\n      <td>79bb59483b5b2717f0e7a39496e9c903</td>\n    </tr>\n    <tr>\n      <th>558</th>\n      <td>12/27/2019</td>\n      <td>L-037-19</td>\n      <td>cdc</td>\n      <td>Sergeant Larry Taplin</td>\n      <td>deputy</td>\n      <td>105662</td>\n      <td>Neglect of Duty, Neglect of Duty-Failure to Ac...</td>\n      <td>12/31/2019</td>\n      <td>1/27/2020</td>\n      <td>Neglect of Duty 5 days, Neglect of Duty-Failur...</td>\n      <td>Terminated by Disciplinary review board on 02/...</td>\n      <td>Left her gun in an unsecure area at which time...</td>\n      <td>ermika</td>\n      <td></td>\n      <td>wilson</td>\n      <td>New Orleans SO</td>\n      <td>2019</td>\n      <td>34e007b15cbbc0b07c9af6e94cf8486d</td>\n      <td>9719c953642268a878f73edebefa64a9</td>\n      <td>072619687ec9043cac1fd11f30ca94f8</td>\n    </tr>\n    <tr>\n      <th>559</th>\n      <td>12/27/2019</td>\n      <td>L-038-19</td>\n      <td>ojc</td>\n      <td>Sergeant Karen Gant</td>\n      <td>deputy</td>\n      <td>104087</td>\n      <td>Neglect of Duty and Instructions from Supervis...</td>\n      <td>3/25/2020</td>\n      <td>3/25/2020</td>\n      <td></td>\n      <td>Resigned prior to start of investigation 03/25...</td>\n      <td>Failed to serve papers</td>\n      <td>paul</td>\n      <td></td>\n      <td>mckendall</td>\n      <td>New Orleans SO</td>\n      <td>2019</td>\n      <td>5302b0cf4a7ce03080d43515aa04ad63</td>\n      <td>9b695cbfbeb7613009aa652a37196ac5</td>\n      <td>a3945200e36a571544fbf2cd67680b93</td>\n    </tr>\n    <tr>\n      <th>560</th>\n      <td>12/30/2019</td>\n      <td>L-039-19</td>\n      <td>cdc</td>\n      <td>Agent Kevin Talley</td>\n      <td>sergeant</td>\n      <td>103859</td>\n      <td>Neglect of Duty and Neglect of Duty-Failure to...</td>\n      <td>NaN</td>\n      <td>NaN</td>\n      <td></td>\n      <td>under investigation</td>\n      <td>Failed to notify rank of incident on his watch</td>\n      <td>steve</td>\n      <td></td>\n      <td>shafer</td>\n      <td>New Orleans SO</td>\n      <td>2019</td>\n      <td>f14ae7c1ca928687b7a142c7f2071f6f</td>\n      <td>d3bcf0c26ac473a88617bd92781be9e2</td>\n      <td>f2ca63656d36b6ba533eb6a9efc66b25</td>\n    </tr>\n  </tbody>\n</table>\n<p>561 rows × 20 columns</p>\n</div>"
     },
     "metadata": {},
     "execution_count": 2
    }
   ],
   "source": [
    "df = clean()\n",
    "df"
   ]
  },
  {
   "cell_type": "code",
   "execution_count": 12,
   "metadata": {},
   "outputs": [
    {
     "output_type": "execute_result",
     "data": {
      "text/plain": [
       "array([\"new orleans constable's office\", 'new orleans criminal court',\n",
       "       'new orleans fire dept.', 'new orleans harbor pd',\n",
       "       'new orleans pd'], dtype=object)"
      ]
     },
     "metadata": {},
     "execution_count": 12
    }
   ],
   "source": [
    "post = pd.read_csv('../data/clean/pprr_post_2020_11_06.csv')\n",
    "post.loc[post.agency.str.contains('new orleans'), 'agency'].unique()"
   ]
  },
  {
   "cell_type": "code",
   "execution_count": null,
   "metadata": {},
   "outputs": [],
   "source": []
  }
 ]
}
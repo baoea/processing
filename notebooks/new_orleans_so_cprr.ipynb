{
 "metadata": {
  "language_info": {
   "codemirror_mode": {
    "name": "ipython",
    "version": 3
   },
   "file_extension": ".py",
   "mimetype": "text/x-python",
   "name": "python",
   "nbconvert_exporter": "python",
   "pygments_lexer": "ipython3",
   "version": "3.8.3"
  },
  "orig_nbformat": 2,
  "kernelspec": {
   "name": "python383jvsc74a57bd0759d03fc00c4e55187619d7bc1e0b6a3309d14c7c00d43a321634150e05678f8",
   "display_name": "Python 3.8.3 64-bit ('base': conda)"
  }
 },
 "nbformat": 4,
 "nbformat_minor": 2,
 "cells": [
  {
   "cell_type": "code",
   "execution_count": 1,
   "metadata": {},
   "outputs": [],
   "source": [
    "import sys; sys.path.append(\"../\")\n",
    "import pandas as pd\n",
    "\n",
    "from lib.clean import clean_names\n",
    "from lib.explore import show_unique\n",
    "from clean.new_orleans_so_cprr import clean"
   ]
  },
  {
   "cell_type": "code",
   "execution_count": 2,
   "metadata": {},
   "outputs": [
    {
     "output_type": "stream",
     "name": "stderr",
     "text": [
      "../clean/new_orleans_so_cprr.py:31: FutureWarning: The default value of regex will change from True to False in a future version.\n  df.loc[:, col] = df[col].str.replace(r\"-\\r\", r\"-\")\\\n../clean/new_orleans_so_cprr.py:41: FutureWarning: The default value of regex will change from True to False in a future version.\n  series = series.str.replace(pat, r'\\2').str.strip()\n"
     ]
    },
    {
     "output_type": "execute_result",
     "data": {
      "text/plain": [
       "    receive_date tracking_number intial_action department_desc  \\\n",
       "0      01/4/2019        A-001-19          DM-2             OJC   \n",
       "1      01/4/2019        A-003-19          DM-2             FIT   \n",
       "2      01/7/2019        A-004-19          DM-2             FIT   \n",
       "3      01/7/2019        A-005-19          DM-2         RESERVE   \n",
       "4      01/7/2019        A-005-19          DM-2         RESERVE   \n",
       "..           ...             ...           ...             ...   \n",
       "557   12/20/2019        L-035-19          DM-2           CLASS   \n",
       "558   12/23/2019        L-036-19          DM-1              HR   \n",
       "559   12/27/2019        L-037-19          DM-2             CDC   \n",
       "560   12/27/2019        L-038-19          DM-2             OJC   \n",
       "561   12/30/2019        L-039-19          DM-2             CDC   \n",
       "\n",
       "    investigating_supervisor rank_desc  emp_no  \\\n",
       "0        Major Carlos Louque    Deputy  105071   \n",
       "1           Agent Tina Ellis     Agent  104339   \n",
       "2      Agent Julian Augustus   Recruit  105334   \n",
       "3      Sergeant Larry Taplin    Deputy     NaN   \n",
       "4      Sergeant Larry Taplin   Captain     NaN   \n",
       "..                       ...       ...     ...   \n",
       "557       Agent Kevin Talley   Manager  105362   \n",
       "558         Agent Tina Ellis  Sergeant  104356   \n",
       "559    Sergeant Larry Taplin    Deputy  105662   \n",
       "560      Sergeant Karen Gant    Deputy  104087   \n",
       "561       Agent Kevin Talley  Sergeant  103859   \n",
       "\n",
       "                                               charges inmate_grievance  \\\n",
       "0         Reporting for Duty and Knowledge of Policies                N   \n",
       "1             Unauthorized Force/Physical Intimidation                N   \n",
       "2    Unauthorized Force/Physical Intimidation and P...                N   \n",
       "3    Unauthorized Force/Physical Intimidation, Inst...                N   \n",
       "4                          Supervisory Respnsibilities                N   \n",
       "..                                                 ...              ...   \n",
       "557  Instructions from Supervisor or Higher Rank an...                N   \n",
       "558                                    Professionalism                N   \n",
       "559  Neglect of Duty, Neglect of Duty-Failure to Ac...                N   \n",
       "560  Neglect of Duty and Instructions from Supervis...                N   \n",
       "561  Neglect of Duty and Neglect of Duty-Failure to...                N   \n",
       "\n",
       "    referred_by date_started date_completed date_of_board  \\\n",
       "0           OJC   01/10/2019     01/10/2019    01/10/2019   \n",
       "1           FIT     1/4/2019      1/11/2019           NaN   \n",
       "2           FIT     1/7/2019      1/16/2019     1/24/2019   \n",
       "3           FIT    2/17/2019      3/22/2019      4/4/2019   \n",
       "4           FIT    2/17/2019      3/22/2019      4/4/2019   \n",
       "..          ...          ...            ...           ...   \n",
       "557       ADMIN   12/19/2019      8/10/2020           NaN   \n",
       "558          HR   12/18/2019      1/29/2020           NaN   \n",
       "559         CDC   12/31/2019      1/27/2020     2/11/2020   \n",
       "560         OJC    3/25/2020      3/25/2020           NaN   \n",
       "561         OJC          NaN            NaN           NaN   \n",
       "\n",
       "                                           disposition  \\\n",
       "0         Reporting for Duty and Knowledge of Policies   \n",
       "1    Unauthorized Force/Physical Intimidation- Non-...   \n",
       "2    Unauthorized Force/Physical Intimidation 5 day...   \n",
       "3    Unauthorized Force/Physical Intimidation, Inst...   \n",
       "4                 Supervisory Respnsibilities- 15 days   \n",
       "..                                                 ...   \n",
       "557  Instructions from Supervisor or Higher Rank an...   \n",
       "558                          Professionalism-Unfounded   \n",
       "559  Neglect of Duty 5 days, Neglect of Duty-Failur...   \n",
       "560  Neglect of Duty and Instructions from Supervis...   \n",
       "561  Neglect of Duty and Neglect of Duty-Failure to...   \n",
       "\n",
       "                                   terminated_resigned  \\\n",
       "0                                                  NaN   \n",
       "1                                                  NaN   \n",
       "2                                                  NaN   \n",
       "3                         Terminated by DRB 04/04/2019   \n",
       "4                                                  NaN   \n",
       "..                                                 ...   \n",
       "557                                                NaN   \n",
       "558  Accused of spreading a rumor of a sexual relat...   \n",
       "559                    Terminated by DRB on 02/11/2020   \n",
       "560  Resigned prior to start of investigation 03/25...   \n",
       "561                                under investigation   \n",
       "\n",
       "                                               summary a_i first_name  \\\n",
       "0                              Reported late for duty.   0      dwane   \n",
       "1    Accused of pushing a civilian with both hands ...   0   sharonda   \n",
       "2    Observed via video footage to have struck an i...   0       tyla   \n",
       "3    Observed pushing a woman to ground prior to ar...   0      shawn   \n",
       "4    Failed to effect is supervisory duties on IHOP...   0      ellis   \n",
       "..                                                 ...  ..        ...   \n",
       "557  Failed to complete a transfer sheet upon compl...   0       irma   \n",
       "558                                Shaka Milton 105074   0      louis   \n",
       "559  Left her gun in an unsecure area at which time...   0     ermika   \n",
       "560                             Failed to serve papers   0       paul   \n",
       "561     Failed to notify rank of incident on his watch   1      steve   \n",
       "\n",
       "    middle_initial  last_name  \n",
       "0                       davis  \n",
       "1                      hadley  \n",
       "2                    sterling  \n",
       "3                     madison  \n",
       "4                      wilson  \n",
       "..             ...        ...  \n",
       "557                      dunn  \n",
       "558                     evans  \n",
       "559                    wilson  \n",
       "560                 mckendall  \n",
       "561                    shafer  \n",
       "\n",
       "[562 rows x 20 columns]"
      ],
      "text/html": "<div>\n<style scoped>\n    .dataframe tbody tr th:only-of-type {\n        vertical-align: middle;\n    }\n\n    .dataframe tbody tr th {\n        vertical-align: top;\n    }\n\n    .dataframe thead th {\n        text-align: right;\n    }\n</style>\n<table border=\"1\" class=\"dataframe\">\n  <thead>\n    <tr style=\"text-align: right;\">\n      <th></th>\n      <th>receive_date</th>\n      <th>tracking_number</th>\n      <th>intial_action</th>\n      <th>department_desc</th>\n      <th>investigating_supervisor</th>\n      <th>rank_desc</th>\n      <th>emp_no</th>\n      <th>charges</th>\n      <th>inmate_grievance</th>\n      <th>referred_by</th>\n      <th>date_started</th>\n      <th>date_completed</th>\n      <th>date_of_board</th>\n      <th>disposition</th>\n      <th>terminated_resigned</th>\n      <th>summary</th>\n      <th>a_i</th>\n      <th>first_name</th>\n      <th>middle_initial</th>\n      <th>last_name</th>\n    </tr>\n  </thead>\n  <tbody>\n    <tr>\n      <th>0</th>\n      <td>01/4/2019</td>\n      <td>A-001-19</td>\n      <td>DM-2</td>\n      <td>OJC</td>\n      <td>Major Carlos Louque</td>\n      <td>Deputy</td>\n      <td>105071</td>\n      <td>Reporting for Duty and Knowledge of Policies</td>\n      <td>N</td>\n      <td>OJC</td>\n      <td>01/10/2019</td>\n      <td>01/10/2019</td>\n      <td>01/10/2019</td>\n      <td>Reporting for Duty and Knowledge of Policies</td>\n      <td>NaN</td>\n      <td>Reported late for duty.</td>\n      <td>0</td>\n      <td>dwane</td>\n      <td></td>\n      <td>davis</td>\n    </tr>\n    <tr>\n      <th>1</th>\n      <td>01/4/2019</td>\n      <td>A-003-19</td>\n      <td>DM-2</td>\n      <td>FIT</td>\n      <td>Agent Tina Ellis</td>\n      <td>Agent</td>\n      <td>104339</td>\n      <td>Unauthorized Force/Physical Intimidation</td>\n      <td>N</td>\n      <td>FIT</td>\n      <td>1/4/2019</td>\n      <td>1/11/2019</td>\n      <td>NaN</td>\n      <td>Unauthorized Force/Physical Intimidation- Non-...</td>\n      <td>NaN</td>\n      <td>Accused of pushing a civilian with both hands ...</td>\n      <td>0</td>\n      <td>sharonda</td>\n      <td></td>\n      <td>hadley</td>\n    </tr>\n    <tr>\n      <th>2</th>\n      <td>01/7/2019</td>\n      <td>A-004-19</td>\n      <td>DM-2</td>\n      <td>FIT</td>\n      <td>Agent Julian Augustus</td>\n      <td>Recruit</td>\n      <td>105334</td>\n      <td>Unauthorized Force/Physical Intimidation and P...</td>\n      <td>N</td>\n      <td>FIT</td>\n      <td>1/7/2019</td>\n      <td>1/16/2019</td>\n      <td>1/24/2019</td>\n      <td>Unauthorized Force/Physical Intimidation 5 day...</td>\n      <td>NaN</td>\n      <td>Observed via video footage to have struck an i...</td>\n      <td>0</td>\n      <td>tyla</td>\n      <td></td>\n      <td>sterling</td>\n    </tr>\n    <tr>\n      <th>3</th>\n      <td>01/7/2019</td>\n      <td>A-005-19</td>\n      <td>DM-2</td>\n      <td>RESERVE</td>\n      <td>Sergeant Larry Taplin</td>\n      <td>Deputy</td>\n      <td>NaN</td>\n      <td>Unauthorized Force/Physical Intimidation, Inst...</td>\n      <td>N</td>\n      <td>FIT</td>\n      <td>2/17/2019</td>\n      <td>3/22/2019</td>\n      <td>4/4/2019</td>\n      <td>Unauthorized Force/Physical Intimidation, Inst...</td>\n      <td>Terminated by DRB 04/04/2019</td>\n      <td>Observed pushing a woman to ground prior to ar...</td>\n      <td>0</td>\n      <td>shawn</td>\n      <td></td>\n      <td>madison</td>\n    </tr>\n    <tr>\n      <th>4</th>\n      <td>01/7/2019</td>\n      <td>A-005-19</td>\n      <td>DM-2</td>\n      <td>RESERVE</td>\n      <td>Sergeant Larry Taplin</td>\n      <td>Captain</td>\n      <td>NaN</td>\n      <td>Supervisory Respnsibilities</td>\n      <td>N</td>\n      <td>FIT</td>\n      <td>2/17/2019</td>\n      <td>3/22/2019</td>\n      <td>4/4/2019</td>\n      <td>Supervisory Respnsibilities- 15 days</td>\n      <td>NaN</td>\n      <td>Failed to effect is supervisory duties on IHOP...</td>\n      <td>0</td>\n      <td>ellis</td>\n      <td></td>\n      <td>wilson</td>\n    </tr>\n    <tr>\n      <th>...</th>\n      <td>...</td>\n      <td>...</td>\n      <td>...</td>\n      <td>...</td>\n      <td>...</td>\n      <td>...</td>\n      <td>...</td>\n      <td>...</td>\n      <td>...</td>\n      <td>...</td>\n      <td>...</td>\n      <td>...</td>\n      <td>...</td>\n      <td>...</td>\n      <td>...</td>\n      <td>...</td>\n      <td>...</td>\n      <td>...</td>\n      <td>...</td>\n      <td>...</td>\n    </tr>\n    <tr>\n      <th>557</th>\n      <td>12/20/2019</td>\n      <td>L-035-19</td>\n      <td>DM-2</td>\n      <td>CLASS</td>\n      <td>Agent Kevin Talley</td>\n      <td>Manager</td>\n      <td>105362</td>\n      <td>Instructions from Supervisor or Higher Rank an...</td>\n      <td>N</td>\n      <td>ADMIN</td>\n      <td>12/19/2019</td>\n      <td>8/10/2020</td>\n      <td>NaN</td>\n      <td>Instructions from Supervisor or Higher Rank an...</td>\n      <td>NaN</td>\n      <td>Failed to complete a transfer sheet upon compl...</td>\n      <td>0</td>\n      <td>irma</td>\n      <td></td>\n      <td>dunn</td>\n    </tr>\n    <tr>\n      <th>558</th>\n      <td>12/23/2019</td>\n      <td>L-036-19</td>\n      <td>DM-1</td>\n      <td>HR</td>\n      <td>Agent Tina Ellis</td>\n      <td>Sergeant</td>\n      <td>104356</td>\n      <td>Professionalism</td>\n      <td>N</td>\n      <td>HR</td>\n      <td>12/18/2019</td>\n      <td>1/29/2020</td>\n      <td>NaN</td>\n      <td>Professionalism-Unfounded</td>\n      <td>Accused of spreading a rumor of a sexual relat...</td>\n      <td>Shaka Milton 105074</td>\n      <td>0</td>\n      <td>louis</td>\n      <td></td>\n      <td>evans</td>\n    </tr>\n    <tr>\n      <th>559</th>\n      <td>12/27/2019</td>\n      <td>L-037-19</td>\n      <td>DM-2</td>\n      <td>CDC</td>\n      <td>Sergeant Larry Taplin</td>\n      <td>Deputy</td>\n      <td>105662</td>\n      <td>Neglect of Duty, Neglect of Duty-Failure to Ac...</td>\n      <td>N</td>\n      <td>CDC</td>\n      <td>12/31/2019</td>\n      <td>1/27/2020</td>\n      <td>2/11/2020</td>\n      <td>Neglect of Duty 5 days, Neglect of Duty-Failur...</td>\n      <td>Terminated by DRB on 02/11/2020</td>\n      <td>Left her gun in an unsecure area at which time...</td>\n      <td>0</td>\n      <td>ermika</td>\n      <td></td>\n      <td>wilson</td>\n    </tr>\n    <tr>\n      <th>560</th>\n      <td>12/27/2019</td>\n      <td>L-038-19</td>\n      <td>DM-2</td>\n      <td>OJC</td>\n      <td>Sergeant Karen Gant</td>\n      <td>Deputy</td>\n      <td>104087</td>\n      <td>Neglect of Duty and Instructions from Supervis...</td>\n      <td>N</td>\n      <td>OJC</td>\n      <td>3/25/2020</td>\n      <td>3/25/2020</td>\n      <td>NaN</td>\n      <td>Neglect of Duty and Instructions from Supervis...</td>\n      <td>Resigned prior to start of investigation 03/25...</td>\n      <td>Failed to serve papers</td>\n      <td>0</td>\n      <td>paul</td>\n      <td></td>\n      <td>mckendall</td>\n    </tr>\n    <tr>\n      <th>561</th>\n      <td>12/30/2019</td>\n      <td>L-039-19</td>\n      <td>DM-2</td>\n      <td>CDC</td>\n      <td>Agent Kevin Talley</td>\n      <td>Sergeant</td>\n      <td>103859</td>\n      <td>Neglect of Duty and Neglect of Duty-Failure to...</td>\n      <td>N</td>\n      <td>OJC</td>\n      <td>NaN</td>\n      <td>NaN</td>\n      <td>NaN</td>\n      <td>Neglect of Duty and Neglect of Duty-Failure to...</td>\n      <td>under investigation</td>\n      <td>Failed to notify rank of incident on his watch</td>\n      <td>1</td>\n      <td>steve</td>\n      <td></td>\n      <td>shafer</td>\n    </tr>\n  </tbody>\n</table>\n<p>562 rows × 20 columns</p>\n</div>"
     },
     "metadata": {},
     "execution_count": 2
    }
   ],
   "source": [
    "df = clean()\n",
    "df"
   ]
  },
  {
   "cell_type": "code",
   "execution_count": 9,
   "metadata": {},
   "outputs": [],
   "source": [
    "# df.loc[df.terminated_resigned.notna() & df.terminated_resigned.str.contains(r'DM-'), ['intial_action', 'terminated_resigned']]\n",
    "df.loc[df.terminated_resigned.notna(), ['tracking_number', 'charges', 'terminated_resigned']].drop_duplicates(subset=['terminated_resigned']).to_csv('../data/new_orleans_so_cprr_terminated_resigned.csv', index=False)"
   ]
  },
  {
   "cell_type": "code",
   "execution_count": 4,
   "metadata": {},
   "outputs": [
    {
     "output_type": "execute_result",
     "data": {
      "text/plain": [
       "     emp_no last_name first_name middle_initial\n",
       "328  101488     blake      lauri               \n",
       "112  101488     lauri      blake               \n",
       "346  101895     beech    freedie               \n",
       "196  101895     beech    freddie               \n",
       "402  102025  williams       gina               \n",
       "..      ...       ...        ...            ...\n",
       "366  105776   mangrum       dron               \n",
       "528  105776   mangrum        don               \n",
       "457  105776   mangrum       dion               \n",
       "61    35305    haynes      terry               \n",
       "171   35305     hayes      terry               \n",
       "\n",
       "[93 rows x 4 columns]"
      ],
      "text/html": "<div>\n<style scoped>\n    .dataframe tbody tr th:only-of-type {\n        vertical-align: middle;\n    }\n\n    .dataframe tbody tr th {\n        vertical-align: top;\n    }\n\n    .dataframe thead th {\n        text-align: right;\n    }\n</style>\n<table border=\"1\" class=\"dataframe\">\n  <thead>\n    <tr style=\"text-align: right;\">\n      <th></th>\n      <th>emp_no</th>\n      <th>last_name</th>\n      <th>first_name</th>\n      <th>middle_initial</th>\n    </tr>\n  </thead>\n  <tbody>\n    <tr>\n      <th>328</th>\n      <td>101488</td>\n      <td>blake</td>\n      <td>lauri</td>\n      <td></td>\n    </tr>\n    <tr>\n      <th>112</th>\n      <td>101488</td>\n      <td>lauri</td>\n      <td>blake</td>\n      <td></td>\n    </tr>\n    <tr>\n      <th>346</th>\n      <td>101895</td>\n      <td>beech</td>\n      <td>freedie</td>\n      <td></td>\n    </tr>\n    <tr>\n      <th>196</th>\n      <td>101895</td>\n      <td>beech</td>\n      <td>freddie</td>\n      <td></td>\n    </tr>\n    <tr>\n      <th>402</th>\n      <td>102025</td>\n      <td>williams</td>\n      <td>gina</td>\n      <td></td>\n    </tr>\n    <tr>\n      <th>...</th>\n      <td>...</td>\n      <td>...</td>\n      <td>...</td>\n      <td>...</td>\n    </tr>\n    <tr>\n      <th>366</th>\n      <td>105776</td>\n      <td>mangrum</td>\n      <td>dron</td>\n      <td></td>\n    </tr>\n    <tr>\n      <th>528</th>\n      <td>105776</td>\n      <td>mangrum</td>\n      <td>don</td>\n      <td></td>\n    </tr>\n    <tr>\n      <th>457</th>\n      <td>105776</td>\n      <td>mangrum</td>\n      <td>dion</td>\n      <td></td>\n    </tr>\n    <tr>\n      <th>61</th>\n      <td>35305</td>\n      <td>haynes</td>\n      <td>terry</td>\n      <td></td>\n    </tr>\n    <tr>\n      <th>171</th>\n      <td>35305</td>\n      <td>hayes</td>\n      <td>terry</td>\n      <td></td>\n    </tr>\n  </tbody>\n</table>\n<p>93 rows × 4 columns</p>\n</div>"
     },
     "metadata": {},
     "execution_count": 4
    }
   ],
   "source": [
    "df2 = df[['emp_no', 'last_name', 'first_name', 'middle_initial']].drop_duplicates()\n",
    "df2[(df2.emp_no.notna()) & (df2.emp_no.duplicated(keep=False))].sort_values('emp_no')\n"
   ]
  },
  {
   "cell_type": "code",
   "execution_count": null,
   "metadata": {},
   "outputs": [],
   "source": []
  }
 ]
}
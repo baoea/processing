{
 "metadata": {
  "language_info": {
   "codemirror_mode": {
    "name": "ipython",
    "version": 3
   },
   "file_extension": ".py",
   "mimetype": "text/x-python",
   "name": "python",
   "nbconvert_exporter": "python",
   "pygments_lexer": "ipython3",
   "version": "3.8.3-final"
  },
  "orig_nbformat": 2,
  "kernelspec": {
   "name": "python3",
   "display_name": "Python 3",
   "language": "python"
  }
 },
 "nbformat": 4,
 "nbformat_minor": 2,
 "cells": [
  {
   "cell_type": "code",
   "execution_count": 1,
   "metadata": {},
   "outputs": [],
   "source": [
    "import re\n",
    "import sys; sys.path.append(\"../\")\n",
    "\n",
    "import numpy as np\n",
    "import pandas as pd\n",
    "\n",
    "from lib.columns import rearrange_personnel_columns"
   ]
  },
  {
   "cell_type": "code",
   "execution_count": 7,
   "metadata": {},
   "outputs": [
    {
     "output_type": "execute_result",
     "data": {
      "text/plain": [
       "          Last Name First Name Badge #   Date of Rank\n",
       "0            Walker        Tim       1            NaN\n",
       "1            Bagley      Chase     187            NaN\n",
       "2           Bloomer     Jordon     195  Sgt  10-14-19\n",
       "3          Crovetto       Eric     117  Sgt  03-14-13\n",
       "4            Darwin      David     106  Sgt  05-15-19\n",
       "5            Deacon       Drew     129  Sgt  03-02-20\n",
       "6           Dunning       John     201            NaN\n",
       "7             Evans   Benjamin     194            NaN\n",
       "8            Hadden      Susan     189            NaN\n",
       "9           Hammond     Chris      163            NaN\n",
       "10           Hendon   Gabrille     190            NaN\n",
       "11          Johnson     Daniel     166            NaN\n",
       "12       Jovanovich       Mark     188  Sgt  05-15-19\n",
       "13         Lombardi       Sean     186  Sgt  04-19-20\n",
       "14            Lopez      Angel     125            NaN\n",
       "15             Lowe     Austin     196            NaN\n",
       "16           Meyers       Eric     123            NaN\n",
       "17         Mitchell      David     113  Sgt  03-02-20\n",
       "18            Nacio     Allena     191            NaN\n",
       "19         Rumbelow      David     122            NaN\n",
       "20           Salaun      Daryl     177            NaN\n",
       "21        Schneider   Nicholas     124            NaN\n",
       "22         Stiebing      Bruce     138            NaN\n",
       "23          Stoulig     Janeth     127            NaN\n",
       "24            Sylve      Eddie     202            NaN\n",
       "25  Trochez-Sanchez       Elsa     144            NaN\n",
       "26        Velasquez      Issac     111            NaN"
      ],
      "text/html": "<div>\n<style scoped>\n    .dataframe tbody tr th:only-of-type {\n        vertical-align: middle;\n    }\n\n    .dataframe tbody tr th {\n        vertical-align: top;\n    }\n\n    .dataframe thead th {\n        text-align: right;\n    }\n</style>\n<table border=\"1\" class=\"dataframe\">\n  <thead>\n    <tr style=\"text-align: right;\">\n      <th></th>\n      <th>Last Name</th>\n      <th>First Name</th>\n      <th>Badge #</th>\n      <th>Date of Rank</th>\n    </tr>\n  </thead>\n  <tbody>\n    <tr>\n      <th>0</th>\n      <td>Walker</td>\n      <td>Tim</td>\n      <td>1</td>\n      <td>NaN</td>\n    </tr>\n    <tr>\n      <th>1</th>\n      <td>Bagley</td>\n      <td>Chase</td>\n      <td>187</td>\n      <td>NaN</td>\n    </tr>\n    <tr>\n      <th>2</th>\n      <td>Bloomer</td>\n      <td>Jordon</td>\n      <td>195</td>\n      <td>Sgt  10-14-19</td>\n    </tr>\n    <tr>\n      <th>3</th>\n      <td>Crovetto</td>\n      <td>Eric</td>\n      <td>117</td>\n      <td>Sgt  03-14-13</td>\n    </tr>\n    <tr>\n      <th>4</th>\n      <td>Darwin</td>\n      <td>David</td>\n      <td>106</td>\n      <td>Sgt  05-15-19</td>\n    </tr>\n    <tr>\n      <th>5</th>\n      <td>Deacon</td>\n      <td>Drew</td>\n      <td>129</td>\n      <td>Sgt  03-02-20</td>\n    </tr>\n    <tr>\n      <th>6</th>\n      <td>Dunning</td>\n      <td>John</td>\n      <td>201</td>\n      <td>NaN</td>\n    </tr>\n    <tr>\n      <th>7</th>\n      <td>Evans</td>\n      <td>Benjamin</td>\n      <td>194</td>\n      <td>NaN</td>\n    </tr>\n    <tr>\n      <th>8</th>\n      <td>Hadden</td>\n      <td>Susan</td>\n      <td>189</td>\n      <td>NaN</td>\n    </tr>\n    <tr>\n      <th>9</th>\n      <td>Hammond</td>\n      <td>Chris</td>\n      <td>163</td>\n      <td>NaN</td>\n    </tr>\n    <tr>\n      <th>10</th>\n      <td>Hendon</td>\n      <td>Gabrille</td>\n      <td>190</td>\n      <td>NaN</td>\n    </tr>\n    <tr>\n      <th>11</th>\n      <td>Johnson</td>\n      <td>Daniel</td>\n      <td>166</td>\n      <td>NaN</td>\n    </tr>\n    <tr>\n      <th>12</th>\n      <td>Jovanovich</td>\n      <td>Mark</td>\n      <td>188</td>\n      <td>Sgt  05-15-19</td>\n    </tr>\n    <tr>\n      <th>13</th>\n      <td>Lombardi</td>\n      <td>Sean</td>\n      <td>186</td>\n      <td>Sgt  04-19-20</td>\n    </tr>\n    <tr>\n      <th>14</th>\n      <td>Lopez</td>\n      <td>Angel</td>\n      <td>125</td>\n      <td>NaN</td>\n    </tr>\n    <tr>\n      <th>15</th>\n      <td>Lowe</td>\n      <td>Austin</td>\n      <td>196</td>\n      <td>NaN</td>\n    </tr>\n    <tr>\n      <th>16</th>\n      <td>Meyers</td>\n      <td>Eric</td>\n      <td>123</td>\n      <td>NaN</td>\n    </tr>\n    <tr>\n      <th>17</th>\n      <td>Mitchell</td>\n      <td>David</td>\n      <td>113</td>\n      <td>Sgt  03-02-20</td>\n    </tr>\n    <tr>\n      <th>18</th>\n      <td>Nacio</td>\n      <td>Allena</td>\n      <td>191</td>\n      <td>NaN</td>\n    </tr>\n    <tr>\n      <th>19</th>\n      <td>Rumbelow</td>\n      <td>David</td>\n      <td>122</td>\n      <td>NaN</td>\n    </tr>\n    <tr>\n      <th>20</th>\n      <td>Salaun</td>\n      <td>Daryl</td>\n      <td>177</td>\n      <td>NaN</td>\n    </tr>\n    <tr>\n      <th>21</th>\n      <td>Schneider</td>\n      <td>Nicholas</td>\n      <td>124</td>\n      <td>NaN</td>\n    </tr>\n    <tr>\n      <th>22</th>\n      <td>Stiebing</td>\n      <td>Bruce</td>\n      <td>138</td>\n      <td>NaN</td>\n    </tr>\n    <tr>\n      <th>23</th>\n      <td>Stoulig</td>\n      <td>Janeth</td>\n      <td>127</td>\n      <td>NaN</td>\n    </tr>\n    <tr>\n      <th>24</th>\n      <td>Sylve</td>\n      <td>Eddie</td>\n      <td>202</td>\n      <td>NaN</td>\n    </tr>\n    <tr>\n      <th>25</th>\n      <td>Trochez-Sanchez</td>\n      <td>Elsa</td>\n      <td>144</td>\n      <td>NaN</td>\n    </tr>\n    <tr>\n      <th>26</th>\n      <td>Velasquez</td>\n      <td>Issac</td>\n      <td>111</td>\n      <td>NaN</td>\n    </tr>\n  </tbody>\n</table>\n</div>"
     },
     "metadata": {},
     "execution_count": 7
    }
   ],
   "source": [
    "pprr = pd.read_excel(\"../data/Harahan Police Department/Administrative Data/Harahan_PD_PPRR_2020.xlsx\")\n",
    "pprr = pprr.iloc[3:]\n",
    "pprr.columns = pd.Index([\"Last Name\", \"First Name\", \"Badge #\", \"Date of Rank\"])\n",
    "pprr.reset_index(drop=True, inplace=True)\n",
    "pprr.dropna(how=\"all\", inplace=True)\n",
    "pprr"
   ]
  },
  {
   "cell_type": "code",
   "execution_count": null,
   "metadata": {},
   "outputs": [],
   "source": []
  }
 ]
}
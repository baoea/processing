{
 "metadata": {
  "language_info": {
   "codemirror_mode": {
    "name": "ipython",
    "version": 3
   },
   "file_extension": ".py",
   "mimetype": "text/x-python",
   "name": "python",
   "nbconvert_exporter": "python",
   "pygments_lexer": "ipython3",
   "version": "3.9.2"
  },
  "orig_nbformat": 4,
  "kernelspec": {
   "name": "python3",
   "display_name": "Python 3.9.2 64-bit ('base': virtualenvwrapper)"
  },
  "interpreter": {
   "hash": "55d6dfa6f6295e03bf132df3e61c1565ff1c22b645ef82a5638b280b97b3597b"
  }
 },
 "nbformat": 4,
 "nbformat_minor": 2,
 "cells": [
  {
   "cell_type": "code",
   "execution_count": 1,
   "metadata": {},
   "outputs": [],
   "source": [
    "import sys; sys.path.append('../')\n",
    "\n",
    "import pandas as pd\n",
    "\n",
    "from clean.lafayette_pd import clean_pprr, clean_cprr"
   ]
  },
  {
   "cell_type": "code",
   "execution_count": 2,
   "metadata": {},
   "outputs": [
    {
     "output_type": "stream",
     "name": "stdout",
     "text": [
      "standardize_from_lookup_table: unmatched sequences:\n  {' ', '-', '/ ', '/'}\nstandardize_from_lookup_table: unmatched sequences:\n  {'', '- bajat- ', '; allred- ', '/', ') kyle ', ' - trent (overturned - ', ' - ', ' ', ':', ' -', '; ', '/ ', ': ', ' - -', './', '.', ' /', '- ', '-'}\n"
     ]
    },
    {
     "output_type": "execute_result",
     "data": {
      "text/plain": [
       "    tracking_number                     allegation receive_date complete_date  \\\n",
       "0        AD2015-001                           cubo    2/12/2015     3/31/2015   \n",
       "1        AD2015-001                           cubo    2/12/2015     3/31/2015   \n",
       "2        AD2015-002             falsifying records    3/24/2015     5/28/2015   \n",
       "3        AD2015-003  violation of informant policy    5/22/2015     7/20/2015   \n",
       "4        AD2015-003        destruction of evidence    5/22/2015     7/20/2015   \n",
       "..              ...                            ...          ...           ...   \n",
       "248      SL2020-011           professional conduct   11/10/2020           NaN   \n",
       "249      SL2020-013                                  12/23/2020           NaN   \n",
       "250      SL2020-013                                  12/23/2020           NaN   \n",
       "251      SL2020-013           failure to supervise   12/23/2020           NaN   \n",
       "252      SL2020-013           professional conduct   12/23/2020           NaN   \n",
       "\n",
       "                   investigator disposition rank_desc first_name  last_name  \\\n",
       "0        detective ronald clark   sustained       NaN               cormier   \n",
       "1        detective ronald clark   sustained  corporal                 chris   \n",
       "2      detective patrick pattum   sustained   officer      galen     conrad   \n",
       "3    detective jonathan sanchez         NaN   officer   kenderis      handy   \n",
       "4    detective jonathan sanchez         NaN   officer   kenderis      handy   \n",
       "..                          ...         ...       ...        ...        ...   \n",
       "248       lieutenant washington         NaN       NaN      daryl  boudreaux   \n",
       "249   lieutenant brooks reviere         NaN       NaN     thomas   marceaux   \n",
       "250   lieutenant brooks reviere         NaN       NaN      david     mouton   \n",
       "251   lieutenant brooks reviere         NaN       NaN       paul    trouard   \n",
       "252   lieutenant brooks reviere         NaN       NaN       paul    trouard   \n",
       "\n",
       "    investigator_rank investigator_first_name investigator_last_name  \\\n",
       "0           detective                  ronald                  clark   \n",
       "1           detective                  ronald                  clark   \n",
       "2           detective                 patrick                 pattum   \n",
       "3           detective                jonathan                sanchez   \n",
       "4           detective                jonathan                sanchez   \n",
       "..                ...                     ...                    ...   \n",
       "248        lieutenant                                     washington   \n",
       "249        lieutenant                  brooks                reviere   \n",
       "250        lieutenant                  brooks                reviere   \n",
       "251        lieutenant                  brooks                reviere   \n",
       "252        lieutenant                  brooks                reviere   \n",
       "\n",
       "                  action  data_production_year        agency  \\\n",
       "0    letter of reprimand                  2020  Lafayette PD   \n",
       "1    letter of reprimand                  2020  Lafayette PD   \n",
       "2            termination                  2020  Lafayette PD   \n",
       "3         training issue                  2020  Lafayette PD   \n",
       "4      letter of caution                  2020  Lafayette PD   \n",
       "..                   ...                   ...           ...   \n",
       "248                                       2020  Lafayette PD   \n",
       "249                                       2020  Lafayette PD   \n",
       "250                                       2020  Lafayette PD   \n",
       "251                                       2020  Lafayette PD   \n",
       "252                                       2020  Lafayette PD   \n",
       "\n",
       "                                  uid                  investigator_uid  \\\n",
       "0    230f14061664b195ff51d65a4e86cb38  b9232ceb0e4db1a5a08f23be655a683c   \n",
       "1    331218d5fadac6ea7b274ee7cfa5f916  b9232ceb0e4db1a5a08f23be655a683c   \n",
       "2    3380088a263a2a126d6591633ef22f9e  7c46cb5690cf1d6c743f90f76cbbdd8f   \n",
       "3    c6c0d5824bf4ec693a4c855b281484fa  f8c1550f15ce790f9fcf2e58bf7f5cd2   \n",
       "4    c6c0d5824bf4ec693a4c855b281484fa  f8c1550f15ce790f9fcf2e58bf7f5cd2   \n",
       "..                                ...                               ...   \n",
       "248  72b7574e984e06133db4698ad651d580  a898e22eb25bf5d917bc113e009b6472   \n",
       "249  fdec9808e0bcaddf615a11e03323c2a4  ed7e77b01f946ec819bf8c51d1020051   \n",
       "250  ac52d3799c0bc0871b91a6ed3f816cab  ed7e77b01f946ec819bf8c51d1020051   \n",
       "251  c7a1416b47ae99c74a9b0fc2ba5eb8ad  ed7e77b01f946ec819bf8c51d1020051   \n",
       "252  c7a1416b47ae99c74a9b0fc2ba5eb8ad  ed7e77b01f946ec819bf8c51d1020051   \n",
       "\n",
       "                        complaint_uid  \n",
       "0    ba9e19c5151eca60aaf13aa36c49f2d4  \n",
       "1    26dcf638dc6fea0879e8ccb6bdfe0783  \n",
       "2    340bdec8269cc723889b949a26a60166  \n",
       "3    341d80683674744becaaf2c26b6e8828  \n",
       "4    685f6529a21ef78e37bf95a138d4ddbb  \n",
       "..                                ...  \n",
       "248  410da2c849fc61ed7036d1ba88b571d5  \n",
       "249  109c5a4452e4bf531f50e6e598544465  \n",
       "250  a65ad0b3532b43a8d5848fc6e4dde809  \n",
       "251  c99af8c1459e166bd005ea0ce7f20532  \n",
       "252  5b19482aeec22919c50efc62205cea6d  \n",
       "\n",
       "[253 rows x 18 columns]"
      ],
      "text/html": "<div>\n<style scoped>\n    .dataframe tbody tr th:only-of-type {\n        vertical-align: middle;\n    }\n\n    .dataframe tbody tr th {\n        vertical-align: top;\n    }\n\n    .dataframe thead th {\n        text-align: right;\n    }\n</style>\n<table border=\"1\" class=\"dataframe\">\n  <thead>\n    <tr style=\"text-align: right;\">\n      <th></th>\n      <th>tracking_number</th>\n      <th>allegation</th>\n      <th>receive_date</th>\n      <th>complete_date</th>\n      <th>investigator</th>\n      <th>disposition</th>\n      <th>rank_desc</th>\n      <th>first_name</th>\n      <th>last_name</th>\n      <th>investigator_rank</th>\n      <th>investigator_first_name</th>\n      <th>investigator_last_name</th>\n      <th>action</th>\n      <th>data_production_year</th>\n      <th>agency</th>\n      <th>uid</th>\n      <th>investigator_uid</th>\n      <th>complaint_uid</th>\n    </tr>\n  </thead>\n  <tbody>\n    <tr>\n      <th>0</th>\n      <td>AD2015-001</td>\n      <td>cubo</td>\n      <td>2/12/2015</td>\n      <td>3/31/2015</td>\n      <td>detective ronald clark</td>\n      <td>sustained</td>\n      <td>NaN</td>\n      <td></td>\n      <td>cormier</td>\n      <td>detective</td>\n      <td>ronald</td>\n      <td>clark</td>\n      <td>letter of reprimand</td>\n      <td>2020</td>\n      <td>Lafayette PD</td>\n      <td>230f14061664b195ff51d65a4e86cb38</td>\n      <td>b9232ceb0e4db1a5a08f23be655a683c</td>\n      <td>ba9e19c5151eca60aaf13aa36c49f2d4</td>\n    </tr>\n    <tr>\n      <th>1</th>\n      <td>AD2015-001</td>\n      <td>cubo</td>\n      <td>2/12/2015</td>\n      <td>3/31/2015</td>\n      <td>detective ronald clark</td>\n      <td>sustained</td>\n      <td>corporal</td>\n      <td></td>\n      <td>chris</td>\n      <td>detective</td>\n      <td>ronald</td>\n      <td>clark</td>\n      <td>letter of reprimand</td>\n      <td>2020</td>\n      <td>Lafayette PD</td>\n      <td>331218d5fadac6ea7b274ee7cfa5f916</td>\n      <td>b9232ceb0e4db1a5a08f23be655a683c</td>\n      <td>26dcf638dc6fea0879e8ccb6bdfe0783</td>\n    </tr>\n    <tr>\n      <th>2</th>\n      <td>AD2015-002</td>\n      <td>falsifying records</td>\n      <td>3/24/2015</td>\n      <td>5/28/2015</td>\n      <td>detective patrick pattum</td>\n      <td>sustained</td>\n      <td>officer</td>\n      <td>galen</td>\n      <td>conrad</td>\n      <td>detective</td>\n      <td>patrick</td>\n      <td>pattum</td>\n      <td>termination</td>\n      <td>2020</td>\n      <td>Lafayette PD</td>\n      <td>3380088a263a2a126d6591633ef22f9e</td>\n      <td>7c46cb5690cf1d6c743f90f76cbbdd8f</td>\n      <td>340bdec8269cc723889b949a26a60166</td>\n    </tr>\n    <tr>\n      <th>3</th>\n      <td>AD2015-003</td>\n      <td>violation of informant policy</td>\n      <td>5/22/2015</td>\n      <td>7/20/2015</td>\n      <td>detective jonathan sanchez</td>\n      <td>NaN</td>\n      <td>officer</td>\n      <td>kenderis</td>\n      <td>handy</td>\n      <td>detective</td>\n      <td>jonathan</td>\n      <td>sanchez</td>\n      <td>training issue</td>\n      <td>2020</td>\n      <td>Lafayette PD</td>\n      <td>c6c0d5824bf4ec693a4c855b281484fa</td>\n      <td>f8c1550f15ce790f9fcf2e58bf7f5cd2</td>\n      <td>341d80683674744becaaf2c26b6e8828</td>\n    </tr>\n    <tr>\n      <th>4</th>\n      <td>AD2015-003</td>\n      <td>destruction of evidence</td>\n      <td>5/22/2015</td>\n      <td>7/20/2015</td>\n      <td>detective jonathan sanchez</td>\n      <td>NaN</td>\n      <td>officer</td>\n      <td>kenderis</td>\n      <td>handy</td>\n      <td>detective</td>\n      <td>jonathan</td>\n      <td>sanchez</td>\n      <td>letter of caution</td>\n      <td>2020</td>\n      <td>Lafayette PD</td>\n      <td>c6c0d5824bf4ec693a4c855b281484fa</td>\n      <td>f8c1550f15ce790f9fcf2e58bf7f5cd2</td>\n      <td>685f6529a21ef78e37bf95a138d4ddbb</td>\n    </tr>\n    <tr>\n      <th>...</th>\n      <td>...</td>\n      <td>...</td>\n      <td>...</td>\n      <td>...</td>\n      <td>...</td>\n      <td>...</td>\n      <td>...</td>\n      <td>...</td>\n      <td>...</td>\n      <td>...</td>\n      <td>...</td>\n      <td>...</td>\n      <td>...</td>\n      <td>...</td>\n      <td>...</td>\n      <td>...</td>\n      <td>...</td>\n      <td>...</td>\n    </tr>\n    <tr>\n      <th>248</th>\n      <td>SL2020-011</td>\n      <td>professional conduct</td>\n      <td>11/10/2020</td>\n      <td>NaN</td>\n      <td>lieutenant washington</td>\n      <td>NaN</td>\n      <td>NaN</td>\n      <td>daryl</td>\n      <td>boudreaux</td>\n      <td>lieutenant</td>\n      <td></td>\n      <td>washington</td>\n      <td></td>\n      <td>2020</td>\n      <td>Lafayette PD</td>\n      <td>72b7574e984e06133db4698ad651d580</td>\n      <td>a898e22eb25bf5d917bc113e009b6472</td>\n      <td>410da2c849fc61ed7036d1ba88b571d5</td>\n    </tr>\n    <tr>\n      <th>249</th>\n      <td>SL2020-013</td>\n      <td></td>\n      <td>12/23/2020</td>\n      <td>NaN</td>\n      <td>lieutenant brooks reviere</td>\n      <td>NaN</td>\n      <td>NaN</td>\n      <td>thomas</td>\n      <td>marceaux</td>\n      <td>lieutenant</td>\n      <td>brooks</td>\n      <td>reviere</td>\n      <td></td>\n      <td>2020</td>\n      <td>Lafayette PD</td>\n      <td>fdec9808e0bcaddf615a11e03323c2a4</td>\n      <td>ed7e77b01f946ec819bf8c51d1020051</td>\n      <td>109c5a4452e4bf531f50e6e598544465</td>\n    </tr>\n    <tr>\n      <th>250</th>\n      <td>SL2020-013</td>\n      <td></td>\n      <td>12/23/2020</td>\n      <td>NaN</td>\n      <td>lieutenant brooks reviere</td>\n      <td>NaN</td>\n      <td>NaN</td>\n      <td>david</td>\n      <td>mouton</td>\n      <td>lieutenant</td>\n      <td>brooks</td>\n      <td>reviere</td>\n      <td></td>\n      <td>2020</td>\n      <td>Lafayette PD</td>\n      <td>ac52d3799c0bc0871b91a6ed3f816cab</td>\n      <td>ed7e77b01f946ec819bf8c51d1020051</td>\n      <td>a65ad0b3532b43a8d5848fc6e4dde809</td>\n    </tr>\n    <tr>\n      <th>251</th>\n      <td>SL2020-013</td>\n      <td>failure to supervise</td>\n      <td>12/23/2020</td>\n      <td>NaN</td>\n      <td>lieutenant brooks reviere</td>\n      <td>NaN</td>\n      <td>NaN</td>\n      <td>paul</td>\n      <td>trouard</td>\n      <td>lieutenant</td>\n      <td>brooks</td>\n      <td>reviere</td>\n      <td></td>\n      <td>2020</td>\n      <td>Lafayette PD</td>\n      <td>c7a1416b47ae99c74a9b0fc2ba5eb8ad</td>\n      <td>ed7e77b01f946ec819bf8c51d1020051</td>\n      <td>c99af8c1459e166bd005ea0ce7f20532</td>\n    </tr>\n    <tr>\n      <th>252</th>\n      <td>SL2020-013</td>\n      <td>professional conduct</td>\n      <td>12/23/2020</td>\n      <td>NaN</td>\n      <td>lieutenant brooks reviere</td>\n      <td>NaN</td>\n      <td>NaN</td>\n      <td>paul</td>\n      <td>trouard</td>\n      <td>lieutenant</td>\n      <td>brooks</td>\n      <td>reviere</td>\n      <td></td>\n      <td>2020</td>\n      <td>Lafayette PD</td>\n      <td>c7a1416b47ae99c74a9b0fc2ba5eb8ad</td>\n      <td>ed7e77b01f946ec819bf8c51d1020051</td>\n      <td>5b19482aeec22919c50efc62205cea6d</td>\n    </tr>\n  </tbody>\n</table>\n<p>253 rows × 18 columns</p>\n</div>"
     },
     "metadata": {},
     "execution_count": 2
    }
   ],
   "source": [
    "cprr = clean_cprr()\n",
    "cprr"
   ]
  },
  {
   "cell_type": "code",
   "execution_count": 3,
   "metadata": {},
   "outputs": [
    {
     "output_type": "execute_result",
     "data": {
      "text/plain": [
       "array(['sustained', nan, 'unfounded', 'not sustained', 'exonerated'],\n",
       "      dtype=object)"
      ]
     },
     "metadata": {},
     "execution_count": 3
    }
   ],
   "source": [
    "cprr.disposition.unique()"
   ]
  },
  {
   "cell_type": "code",
   "execution_count": 8,
   "metadata": {},
   "outputs": [
    {
     "output_type": "execute_result",
     "data": {
      "text/plain": [
       "Empty DataFrame\n",
       "Columns: [tracking_number, allegation, receive_date, complete_date, investigator, disposition, rank_desc, first_name, last_name, investigator_rank, investigator_first_name, investigator_last_name, action, data_production_year, agency, uid, investigator_uid, complaint_uid]\n",
       "Index: []"
      ],
      "text/html": "<div>\n<style scoped>\n    .dataframe tbody tr th:only-of-type {\n        vertical-align: middle;\n    }\n\n    .dataframe tbody tr th {\n        vertical-align: top;\n    }\n\n    .dataframe thead th {\n        text-align: right;\n    }\n</style>\n<table border=\"1\" class=\"dataframe\">\n  <thead>\n    <tr style=\"text-align: right;\">\n      <th></th>\n      <th>tracking_number</th>\n      <th>allegation</th>\n      <th>receive_date</th>\n      <th>complete_date</th>\n      <th>investigator</th>\n      <th>disposition</th>\n      <th>rank_desc</th>\n      <th>first_name</th>\n      <th>last_name</th>\n      <th>investigator_rank</th>\n      <th>investigator_first_name</th>\n      <th>investigator_last_name</th>\n      <th>action</th>\n      <th>data_production_year</th>\n      <th>agency</th>\n      <th>uid</th>\n      <th>investigator_uid</th>\n      <th>complaint_uid</th>\n    </tr>\n  </thead>\n  <tbody>\n  </tbody>\n</table>\n</div>"
     },
     "metadata": {},
     "execution_count": 8
    }
   ],
   "source": [
    "cprr[cprr.complaint_uid.duplicated()]"
   ]
  },
  {
   "cell_type": "code",
   "execution_count": 5,
   "metadata": {},
   "outputs": [
    {
     "output_type": "execute_result",
     "data": {
      "text/plain": [
       "        sex   race birth_year    salary   hire_date  left_date  \\\n",
       "0      male  white       1988  56726.59   12/1/2015        NaN   \n",
       "1      male  white       1982  70340.19    2/8/2006        NaN   \n",
       "2      male  white       1969  81716.34   9/28/1998   2/2/2021   \n",
       "3      male  white       1988  49778.77    1/3/2017        NaN   \n",
       "4      male  white       1984  57706.27   4/27/2015        NaN   \n",
       "..      ...    ...        ...       ...         ...        ...   \n",
       "638    male  black       1952  20800.00    9/8/2020        NaN   \n",
       "639    male  white       1992  47940.05  12/26/2018        NaN   \n",
       "640    male  black       1985  42830.53    4/7/2008  7/10/2014   \n",
       "641    male  black       1997  48921.39   8/15/2018        NaN   \n",
       "642  female  white       1995  47940.05   1/27/2019        NaN   \n",
       "\n",
       "                  rank_desc salary_freq data_production_year        agency  \\\n",
       "0           police corporal      yearly                 2021  Lafayette PD   \n",
       "1    police senior corporal      yearly                 2021  Lafayette PD   \n",
       "2           police sergeant      yearly                 2021  Lafayette PD   \n",
       "3            police officer      yearly                 2021  Lafayette PD   \n",
       "4           police corporal      yearly                 2021  Lafayette PD   \n",
       "..                      ...         ...                  ...           ...   \n",
       "638   school crossing guard      yearly                 2021  Lafayette PD   \n",
       "639          police officer      yearly                 2021  Lafayette PD   \n",
       "640          police officer      yearly                 2021  Lafayette PD   \n",
       "641          police officer      yearly                 2021  Lafayette PD   \n",
       "642          police officer      yearly                 2021  Lafayette PD   \n",
       "\n",
       "      last_name first_name middle_initial                               uid  \n",
       "0       esterly     mathew              a  15fc8c2f635c978eabecddabad0b2930  \n",
       "1        mcnair      aaron              c  8a72325adb28ae2d367e05453de7fa8b  \n",
       "2    thibodeaux      aaron              w  8c9353fdaa5da5b083797ee02926f93c  \n",
       "3        arnett       adam              g  994b680d7d4680103b81a8f10a7802e1  \n",
       "4      bradford       adam              f  967c686e4217c6fd2dfbe71814c6f4c3  \n",
       "..          ...        ...            ...                               ...  \n",
       "638     ventroy     willis              j  f3799d811e280db8a2bb0934a4822d48  \n",
       "639      trahan    zachary              t  50f1adb76992bd481a0caab99b3eeca5  \n",
       "640    guillory   zairrick                 bd592852ae89985af6a5e7833d7368cf  \n",
       "641    narcisse    zakarie              t  b244a19fc5cbfd064874f4efe835391c  \n",
       "642    lavergne       zoie              j  90c0b92e25795b979c98406b61e361c8  \n",
       "\n",
       "[642 rows x 14 columns]"
      ],
      "text/html": "<div>\n<style scoped>\n    .dataframe tbody tr th:only-of-type {\n        vertical-align: middle;\n    }\n\n    .dataframe tbody tr th {\n        vertical-align: top;\n    }\n\n    .dataframe thead th {\n        text-align: right;\n    }\n</style>\n<table border=\"1\" class=\"dataframe\">\n  <thead>\n    <tr style=\"text-align: right;\">\n      <th></th>\n      <th>sex</th>\n      <th>race</th>\n      <th>birth_year</th>\n      <th>salary</th>\n      <th>hire_date</th>\n      <th>left_date</th>\n      <th>rank_desc</th>\n      <th>salary_freq</th>\n      <th>data_production_year</th>\n      <th>agency</th>\n      <th>last_name</th>\n      <th>first_name</th>\n      <th>middle_initial</th>\n      <th>uid</th>\n    </tr>\n  </thead>\n  <tbody>\n    <tr>\n      <th>0</th>\n      <td>male</td>\n      <td>white</td>\n      <td>1988</td>\n      <td>56726.59</td>\n      <td>12/1/2015</td>\n      <td>NaN</td>\n      <td>police corporal</td>\n      <td>yearly</td>\n      <td>2021</td>\n      <td>Lafayette PD</td>\n      <td>esterly</td>\n      <td>mathew</td>\n      <td>a</td>\n      <td>15fc8c2f635c978eabecddabad0b2930</td>\n    </tr>\n    <tr>\n      <th>1</th>\n      <td>male</td>\n      <td>white</td>\n      <td>1982</td>\n      <td>70340.19</td>\n      <td>2/8/2006</td>\n      <td>NaN</td>\n      <td>police senior corporal</td>\n      <td>yearly</td>\n      <td>2021</td>\n      <td>Lafayette PD</td>\n      <td>mcnair</td>\n      <td>aaron</td>\n      <td>c</td>\n      <td>8a72325adb28ae2d367e05453de7fa8b</td>\n    </tr>\n    <tr>\n      <th>2</th>\n      <td>male</td>\n      <td>white</td>\n      <td>1969</td>\n      <td>81716.34</td>\n      <td>9/28/1998</td>\n      <td>2/2/2021</td>\n      <td>police sergeant</td>\n      <td>yearly</td>\n      <td>2021</td>\n      <td>Lafayette PD</td>\n      <td>thibodeaux</td>\n      <td>aaron</td>\n      <td>w</td>\n      <td>8c9353fdaa5da5b083797ee02926f93c</td>\n    </tr>\n    <tr>\n      <th>3</th>\n      <td>male</td>\n      <td>white</td>\n      <td>1988</td>\n      <td>49778.77</td>\n      <td>1/3/2017</td>\n      <td>NaN</td>\n      <td>police officer</td>\n      <td>yearly</td>\n      <td>2021</td>\n      <td>Lafayette PD</td>\n      <td>arnett</td>\n      <td>adam</td>\n      <td>g</td>\n      <td>994b680d7d4680103b81a8f10a7802e1</td>\n    </tr>\n    <tr>\n      <th>4</th>\n      <td>male</td>\n      <td>white</td>\n      <td>1984</td>\n      <td>57706.27</td>\n      <td>4/27/2015</td>\n      <td>NaN</td>\n      <td>police corporal</td>\n      <td>yearly</td>\n      <td>2021</td>\n      <td>Lafayette PD</td>\n      <td>bradford</td>\n      <td>adam</td>\n      <td>f</td>\n      <td>967c686e4217c6fd2dfbe71814c6f4c3</td>\n    </tr>\n    <tr>\n      <th>...</th>\n      <td>...</td>\n      <td>...</td>\n      <td>...</td>\n      <td>...</td>\n      <td>...</td>\n      <td>...</td>\n      <td>...</td>\n      <td>...</td>\n      <td>...</td>\n      <td>...</td>\n      <td>...</td>\n      <td>...</td>\n      <td>...</td>\n      <td>...</td>\n    </tr>\n    <tr>\n      <th>638</th>\n      <td>male</td>\n      <td>black</td>\n      <td>1952</td>\n      <td>20800.00</td>\n      <td>9/8/2020</td>\n      <td>NaN</td>\n      <td>school crossing guard</td>\n      <td>yearly</td>\n      <td>2021</td>\n      <td>Lafayette PD</td>\n      <td>ventroy</td>\n      <td>willis</td>\n      <td>j</td>\n      <td>f3799d811e280db8a2bb0934a4822d48</td>\n    </tr>\n    <tr>\n      <th>639</th>\n      <td>male</td>\n      <td>white</td>\n      <td>1992</td>\n      <td>47940.05</td>\n      <td>12/26/2018</td>\n      <td>NaN</td>\n      <td>police officer</td>\n      <td>yearly</td>\n      <td>2021</td>\n      <td>Lafayette PD</td>\n      <td>trahan</td>\n      <td>zachary</td>\n      <td>t</td>\n      <td>50f1adb76992bd481a0caab99b3eeca5</td>\n    </tr>\n    <tr>\n      <th>640</th>\n      <td>male</td>\n      <td>black</td>\n      <td>1985</td>\n      <td>42830.53</td>\n      <td>4/7/2008</td>\n      <td>7/10/2014</td>\n      <td>police officer</td>\n      <td>yearly</td>\n      <td>2021</td>\n      <td>Lafayette PD</td>\n      <td>guillory</td>\n      <td>zairrick</td>\n      <td></td>\n      <td>bd592852ae89985af6a5e7833d7368cf</td>\n    </tr>\n    <tr>\n      <th>641</th>\n      <td>male</td>\n      <td>black</td>\n      <td>1997</td>\n      <td>48921.39</td>\n      <td>8/15/2018</td>\n      <td>NaN</td>\n      <td>police officer</td>\n      <td>yearly</td>\n      <td>2021</td>\n      <td>Lafayette PD</td>\n      <td>narcisse</td>\n      <td>zakarie</td>\n      <td>t</td>\n      <td>b244a19fc5cbfd064874f4efe835391c</td>\n    </tr>\n    <tr>\n      <th>642</th>\n      <td>female</td>\n      <td>white</td>\n      <td>1995</td>\n      <td>47940.05</td>\n      <td>1/27/2019</td>\n      <td>NaN</td>\n      <td>police officer</td>\n      <td>yearly</td>\n      <td>2021</td>\n      <td>Lafayette PD</td>\n      <td>lavergne</td>\n      <td>zoie</td>\n      <td>j</td>\n      <td>90c0b92e25795b979c98406b61e361c8</td>\n    </tr>\n  </tbody>\n</table>\n<p>642 rows × 14 columns</p>\n</div>"
     },
     "metadata": {},
     "execution_count": 5
    }
   ],
   "source": [
    "pprr = clean_pprr()\n",
    "pprr"
   ]
  },
  {
   "cell_type": "code",
   "execution_count": 6,
   "metadata": {},
   "outputs": [
    {
     "output_type": "execute_result",
     "data": {
      "text/plain": [
       "Empty DataFrame\n",
       "Columns: [sex, race, birth_year, salary, hire_date, left_date, rank_desc, salary_freq, data_production_year, agency, last_name, first_name, middle_initial, uid]\n",
       "Index: []"
      ],
      "text/html": "<div>\n<style scoped>\n    .dataframe tbody tr th:only-of-type {\n        vertical-align: middle;\n    }\n\n    .dataframe tbody tr th {\n        vertical-align: top;\n    }\n\n    .dataframe thead th {\n        text-align: right;\n    }\n</style>\n<table border=\"1\" class=\"dataframe\">\n  <thead>\n    <tr style=\"text-align: right;\">\n      <th></th>\n      <th>sex</th>\n      <th>race</th>\n      <th>birth_year</th>\n      <th>salary</th>\n      <th>hire_date</th>\n      <th>left_date</th>\n      <th>rank_desc</th>\n      <th>salary_freq</th>\n      <th>data_production_year</th>\n      <th>agency</th>\n      <th>last_name</th>\n      <th>first_name</th>\n      <th>middle_initial</th>\n      <th>uid</th>\n    </tr>\n  </thead>\n  <tbody>\n  </tbody>\n</table>\n</div>"
     },
     "metadata": {},
     "execution_count": 6
    }
   ],
   "source": [
    "pprr[pprr.uid.duplicated()]"
   ]
  },
  {
   "cell_type": "code",
   "execution_count": null,
   "metadata": {},
   "outputs": [],
   "source": []
  }
 ]
}
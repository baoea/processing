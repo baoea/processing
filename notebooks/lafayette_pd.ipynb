{
 "metadata": {
  "language_info": {
   "codemirror_mode": {
    "name": "ipython",
    "version": 3
   },
   "file_extension": ".py",
   "mimetype": "text/x-python",
   "name": "python",
   "nbconvert_exporter": "python",
   "pygments_lexer": "ipython3",
   "version": "3.9.2"
  },
  "orig_nbformat": 4,
  "kernelspec": {
   "name": "python3",
   "display_name": "Python 3.9.2 64-bit ('base': virtualenvwrapper)"
  },
  "interpreter": {
   "hash": "55d6dfa6f6295e03bf132df3e61c1565ff1c22b645ef82a5638b280b97b3597b"
  }
 },
 "nbformat": 4,
 "nbformat_minor": 2,
 "cells": [
  {
   "cell_type": "code",
   "execution_count": 1,
   "metadata": {},
   "outputs": [],
   "source": [
    "import sys; sys.path.append('../')\n",
    "\n",
    "import pandas as pd\n",
    "\n",
    "from clean.lafayette_pd import clean_pprr, clean_cprr"
   ]
  },
  {
   "cell_type": "code",
   "execution_count": 2,
   "metadata": {},
   "outputs": [
    {
     "output_type": "stream",
     "name": "stdout",
     "text": [
      "standardize_from_lookup_table: unmatched sequences:\n  {'-', '/', ' ', '/ '}\nstandardize_from_lookup_table: unmatched sequences:\n  {'', '-', ' - ', '- bajat- ', '- ', ') kyle ', '; allred- ', '/', './', ' /', ' - trent (overturned - ', ' -', '; ', ':', '/ ', ' - -', ': ', '.', ' '}\n"
     ]
    },
    {
     "output_type": "execute_result",
     "data": {
      "text/plain": [
       "    tracking_number                                         allegation  \\\n",
       "0        AD2015-001                                               cubo   \n",
       "1        AD2015-001                                               cubo   \n",
       "2        AD2015-002                                 falsifying records   \n",
       "3        AD2015-003  destruction of evidence; violation of informan...   \n",
       "4        AD2015-004                                               cubo   \n",
       "..              ...                                                ...   \n",
       "220      SL2020-010       violation of pursuit policy; bwc; untruthful   \n",
       "221      SL2020-011                               professional conduct   \n",
       "222      SL2020-013                                                      \n",
       "223      SL2020-013                                                      \n",
       "224      SL2020-013         professional conduct; failure to supervise   \n",
       "\n",
       "    receive_date complete_date                investigator  \\\n",
       "0      2/12/2015     3/31/2015      detective ronald clark   \n",
       "1      2/12/2015     3/31/2015      detective ronald clark   \n",
       "2      3/24/2015     5/28/2015    detective patrick pattum   \n",
       "3      5/22/2015     7/20/2015  detective jonathan sanchez   \n",
       "4      5/22/2015     7/16/2015    detective patrick pattum   \n",
       "..           ...           ...                         ...   \n",
       "220   10/29/2020           NaN       lieutenant washington   \n",
       "221   11/10/2020           NaN       lieutenant washington   \n",
       "222   12/23/2020           NaN   lieutenant brooks reviere   \n",
       "223   12/23/2020           NaN   lieutenant brooks reviere   \n",
       "224   12/23/2020           NaN   lieutenant brooks reviere   \n",
       "\n",
       "                           disposition rank_desc first_name   last_name  \\\n",
       "0       sustained; letter of reprimand       NaN        NaN     cormier   \n",
       "1       sustained; letter of reprimand  corporal        NaN       chris   \n",
       "2               sustained; termination   officer      galen      conrad   \n",
       "3    letter of caution; training issue   officer   kenderis       handy   \n",
       "4                            unfounded   officer     dustin    lavergne   \n",
       "..                                 ...       ...        ...         ...   \n",
       "220                                          NaN         j.  desormeaux   \n",
       "221                                          NaN      daryl   boudreaux   \n",
       "222                                          NaN     thomas    marceaux   \n",
       "223                                          NaN      david      mouton   \n",
       "224                                          NaN       paul     trouard   \n",
       "\n",
       "    investigator_rank investigator_first_name investigator_last_name  \n",
       "0           detective                  ronald                  clark  \n",
       "1           detective                  ronald                  clark  \n",
       "2           detective                 patrick                 pattum  \n",
       "3           detective                jonathan                sanchez  \n",
       "4           detective                 patrick                 pattum  \n",
       "..                ...                     ...                    ...  \n",
       "220        lieutenant                     NaN             washington  \n",
       "221        lieutenant                     NaN             washington  \n",
       "222        lieutenant                  brooks                reviere  \n",
       "223        lieutenant                  brooks                reviere  \n",
       "224        lieutenant                  brooks                reviere  \n",
       "\n",
       "[224 rows x 12 columns]"
      ],
      "text/html": "<div>\n<style scoped>\n    .dataframe tbody tr th:only-of-type {\n        vertical-align: middle;\n    }\n\n    .dataframe tbody tr th {\n        vertical-align: top;\n    }\n\n    .dataframe thead th {\n        text-align: right;\n    }\n</style>\n<table border=\"1\" class=\"dataframe\">\n  <thead>\n    <tr style=\"text-align: right;\">\n      <th></th>\n      <th>tracking_number</th>\n      <th>allegation</th>\n      <th>receive_date</th>\n      <th>complete_date</th>\n      <th>investigator</th>\n      <th>disposition</th>\n      <th>rank_desc</th>\n      <th>first_name</th>\n      <th>last_name</th>\n      <th>investigator_rank</th>\n      <th>investigator_first_name</th>\n      <th>investigator_last_name</th>\n    </tr>\n  </thead>\n  <tbody>\n    <tr>\n      <th>0</th>\n      <td>AD2015-001</td>\n      <td>cubo</td>\n      <td>2/12/2015</td>\n      <td>3/31/2015</td>\n      <td>detective ronald clark</td>\n      <td>sustained; letter of reprimand</td>\n      <td>NaN</td>\n      <td>NaN</td>\n      <td>cormier</td>\n      <td>detective</td>\n      <td>ronald</td>\n      <td>clark</td>\n    </tr>\n    <tr>\n      <th>1</th>\n      <td>AD2015-001</td>\n      <td>cubo</td>\n      <td>2/12/2015</td>\n      <td>3/31/2015</td>\n      <td>detective ronald clark</td>\n      <td>sustained; letter of reprimand</td>\n      <td>corporal</td>\n      <td>NaN</td>\n      <td>chris</td>\n      <td>detective</td>\n      <td>ronald</td>\n      <td>clark</td>\n    </tr>\n    <tr>\n      <th>2</th>\n      <td>AD2015-002</td>\n      <td>falsifying records</td>\n      <td>3/24/2015</td>\n      <td>5/28/2015</td>\n      <td>detective patrick pattum</td>\n      <td>sustained; termination</td>\n      <td>officer</td>\n      <td>galen</td>\n      <td>conrad</td>\n      <td>detective</td>\n      <td>patrick</td>\n      <td>pattum</td>\n    </tr>\n    <tr>\n      <th>3</th>\n      <td>AD2015-003</td>\n      <td>destruction of evidence; violation of informan...</td>\n      <td>5/22/2015</td>\n      <td>7/20/2015</td>\n      <td>detective jonathan sanchez</td>\n      <td>letter of caution; training issue</td>\n      <td>officer</td>\n      <td>kenderis</td>\n      <td>handy</td>\n      <td>detective</td>\n      <td>jonathan</td>\n      <td>sanchez</td>\n    </tr>\n    <tr>\n      <th>4</th>\n      <td>AD2015-004</td>\n      <td>cubo</td>\n      <td>5/22/2015</td>\n      <td>7/16/2015</td>\n      <td>detective patrick pattum</td>\n      <td>unfounded</td>\n      <td>officer</td>\n      <td>dustin</td>\n      <td>lavergne</td>\n      <td>detective</td>\n      <td>patrick</td>\n      <td>pattum</td>\n    </tr>\n    <tr>\n      <th>...</th>\n      <td>...</td>\n      <td>...</td>\n      <td>...</td>\n      <td>...</td>\n      <td>...</td>\n      <td>...</td>\n      <td>...</td>\n      <td>...</td>\n      <td>...</td>\n      <td>...</td>\n      <td>...</td>\n      <td>...</td>\n    </tr>\n    <tr>\n      <th>220</th>\n      <td>SL2020-010</td>\n      <td>violation of pursuit policy; bwc; untruthful</td>\n      <td>10/29/2020</td>\n      <td>NaN</td>\n      <td>lieutenant washington</td>\n      <td></td>\n      <td>NaN</td>\n      <td>j.</td>\n      <td>desormeaux</td>\n      <td>lieutenant</td>\n      <td>NaN</td>\n      <td>washington</td>\n    </tr>\n    <tr>\n      <th>221</th>\n      <td>SL2020-011</td>\n      <td>professional conduct</td>\n      <td>11/10/2020</td>\n      <td>NaN</td>\n      <td>lieutenant washington</td>\n      <td></td>\n      <td>NaN</td>\n      <td>daryl</td>\n      <td>boudreaux</td>\n      <td>lieutenant</td>\n      <td>NaN</td>\n      <td>washington</td>\n    </tr>\n    <tr>\n      <th>222</th>\n      <td>SL2020-013</td>\n      <td></td>\n      <td>12/23/2020</td>\n      <td>NaN</td>\n      <td>lieutenant brooks reviere</td>\n      <td></td>\n      <td>NaN</td>\n      <td>thomas</td>\n      <td>marceaux</td>\n      <td>lieutenant</td>\n      <td>brooks</td>\n      <td>reviere</td>\n    </tr>\n    <tr>\n      <th>223</th>\n      <td>SL2020-013</td>\n      <td></td>\n      <td>12/23/2020</td>\n      <td>NaN</td>\n      <td>lieutenant brooks reviere</td>\n      <td></td>\n      <td>NaN</td>\n      <td>david</td>\n      <td>mouton</td>\n      <td>lieutenant</td>\n      <td>brooks</td>\n      <td>reviere</td>\n    </tr>\n    <tr>\n      <th>224</th>\n      <td>SL2020-013</td>\n      <td>professional conduct; failure to supervise</td>\n      <td>12/23/2020</td>\n      <td>NaN</td>\n      <td>lieutenant brooks reviere</td>\n      <td></td>\n      <td>NaN</td>\n      <td>paul</td>\n      <td>trouard</td>\n      <td>lieutenant</td>\n      <td>brooks</td>\n      <td>reviere</td>\n    </tr>\n  </tbody>\n</table>\n<p>224 rows × 12 columns</p>\n</div>"
     },
     "metadata": {},
     "execution_count": 2
    }
   ],
   "source": [
    "cprr = clean_cprr()\n",
    "cprr"
   ]
  },
  {
   "cell_type": "code",
   "execution_count": 8,
   "metadata": {},
   "outputs": [
    {
     "output_type": "execute_result",
     "data": {
      "text/plain": [
       "array(['sustained; letter of reprimand', 'sustained; termination',\n",
       "       'letter of caution; training issue', 'unfounded',\n",
       "       'sustained; suspension 3 days', 'letter of caution',\n",
       "       'not sustained', 'justified use of force',\n",
       "       'sustained; training issue; suspension 90 days',\n",
       "       'sustained; letter of caution; counseling form',\n",
       "       'sustained; counseling form', 'letter of reprimand', 'termination',\n",
       "       'suspension 5 days', 'counseling form', 'suspension 3 days',\n",
       "       'suspension 2 days', 'sustained; resigned', 'justified',\n",
       "       'suspension 1 day', 'sustained; suspension 1 day',\n",
       "       'suspension 45 days', 'termination; resigned',\n",
       "       'counseling form; suspension', 'retired', 'letter of counseling',\n",
       "       'sustained; deficiency',\n",
       "       'termination; suspension 3 days; suspension 10 days',\n",
       "       'sustained; not sustained; suspension; excessive force; cubo; eap; disobey direct order',\n",
       "       'sustained; suspension', 'sustained; suspension 2 days',\n",
       "       'sustained; suspension 5 days',\n",
       "       'suspension 7 days; 1 year no vehicle; 40 hours driving course',\n",
       "       'suspension 10 days; 6 months probation; sensitivity training',\n",
       "       'suspension 1 day; terminated overturned by civil service',\n",
       "       'demotion',\n",
       "       'not sustained; performance log; proffessional conduct; evidence',\n",
       "       'justified shooting', 'suspension 14 days', 'resigned',\n",
       "       'counseling form for not using necessary force', 'sustained',\n",
       "       'suspension 60 days', 'sustained; suspension 30 days',\n",
       "       'exonerated', '', 'complaint withdrawn',\n",
       "       'suspension 10 days; complaint withdrawn',\n",
       "       'sustained; performance log',\n",
       "       'not sustained; counseling form; excessive force; bwc',\n",
       "       'sustained; suspension 5 days; special evaluation',\n",
       "       'suspension 10 days', 'performance log'], dtype=object)"
      ]
     },
     "metadata": {},
     "execution_count": 8
    }
   ],
   "source": [
    "cprr.disposition.unique()\n",
    "# cprr[cprr.disposition == 'justified']\n",
    "# cprr[cprr.tracking_number == 'AD2019-004']"
   ]
  },
  {
   "cell_type": "code",
   "execution_count": 4,
   "metadata": {},
   "outputs": [
    {
     "output_type": "execute_result",
     "data": {
      "text/plain": [
       "        sex   race birth_year    salary   hire_date  left_date  \\\n",
       "0      male  white       1988  56726.59   12/1/2015        NaN   \n",
       "1      male  white       1982  70340.19    2/8/2006        NaN   \n",
       "2      male  white       1969  81716.34   9/28/1998   2/2/2021   \n",
       "3      male  white       1988  49778.77    1/3/2017        NaN   \n",
       "4      male  white       1984  57706.27   4/27/2015        NaN   \n",
       "..      ...    ...        ...       ...         ...        ...   \n",
       "638    male  black       1952  20800.00    9/8/2020        NaN   \n",
       "639    male  white       1992  47940.05  12/26/2018        NaN   \n",
       "640    male  black       1985  42830.53    4/7/2008  7/10/2014   \n",
       "641    male  black       1997  48921.39   8/15/2018        NaN   \n",
       "642  female  white       1995  47940.05   1/27/2019        NaN   \n",
       "\n",
       "                  rank_desc salary_freq data_production_year        agency  \\\n",
       "0           police corporal      yearly                 2021  Lafayette PD   \n",
       "1    police senior corporal      yearly                 2021  Lafayette PD   \n",
       "2           police sergeant      yearly                 2021  Lafayette PD   \n",
       "3            police officer      yearly                 2021  Lafayette PD   \n",
       "4           police corporal      yearly                 2021  Lafayette PD   \n",
       "..                      ...         ...                  ...           ...   \n",
       "638   school crossing guard      yearly                 2021  Lafayette PD   \n",
       "639          police officer      yearly                 2021  Lafayette PD   \n",
       "640          police officer      yearly                 2021  Lafayette PD   \n",
       "641          police officer      yearly                 2021  Lafayette PD   \n",
       "642          police officer      yearly                 2021  Lafayette PD   \n",
       "\n",
       "      last_name first_name middle_initial  \n",
       "0       esterly     mathew              a  \n",
       "1        mcnair      aaron              c  \n",
       "2    thibodeaux      aaron              w  \n",
       "3        arnett       adam              g  \n",
       "4      bradford       adam              f  \n",
       "..          ...        ...            ...  \n",
       "638     ventroy     willis              j  \n",
       "639      trahan    zachary              t  \n",
       "640    guillory   zairrick                 \n",
       "641    narcisse    zakarie              t  \n",
       "642    lavergne       zoie              j  \n",
       "\n",
       "[642 rows x 13 columns]"
      ],
      "text/html": "<div>\n<style scoped>\n    .dataframe tbody tr th:only-of-type {\n        vertical-align: middle;\n    }\n\n    .dataframe tbody tr th {\n        vertical-align: top;\n    }\n\n    .dataframe thead th {\n        text-align: right;\n    }\n</style>\n<table border=\"1\" class=\"dataframe\">\n  <thead>\n    <tr style=\"text-align: right;\">\n      <th></th>\n      <th>sex</th>\n      <th>race</th>\n      <th>birth_year</th>\n      <th>salary</th>\n      <th>hire_date</th>\n      <th>left_date</th>\n      <th>rank_desc</th>\n      <th>salary_freq</th>\n      <th>data_production_year</th>\n      <th>agency</th>\n      <th>last_name</th>\n      <th>first_name</th>\n      <th>middle_initial</th>\n    </tr>\n  </thead>\n  <tbody>\n    <tr>\n      <th>0</th>\n      <td>male</td>\n      <td>white</td>\n      <td>1988</td>\n      <td>56726.59</td>\n      <td>12/1/2015</td>\n      <td>NaN</td>\n      <td>police corporal</td>\n      <td>yearly</td>\n      <td>2021</td>\n      <td>Lafayette PD</td>\n      <td>esterly</td>\n      <td>mathew</td>\n      <td>a</td>\n    </tr>\n    <tr>\n      <th>1</th>\n      <td>male</td>\n      <td>white</td>\n      <td>1982</td>\n      <td>70340.19</td>\n      <td>2/8/2006</td>\n      <td>NaN</td>\n      <td>police senior corporal</td>\n      <td>yearly</td>\n      <td>2021</td>\n      <td>Lafayette PD</td>\n      <td>mcnair</td>\n      <td>aaron</td>\n      <td>c</td>\n    </tr>\n    <tr>\n      <th>2</th>\n      <td>male</td>\n      <td>white</td>\n      <td>1969</td>\n      <td>81716.34</td>\n      <td>9/28/1998</td>\n      <td>2/2/2021</td>\n      <td>police sergeant</td>\n      <td>yearly</td>\n      <td>2021</td>\n      <td>Lafayette PD</td>\n      <td>thibodeaux</td>\n      <td>aaron</td>\n      <td>w</td>\n    </tr>\n    <tr>\n      <th>3</th>\n      <td>male</td>\n      <td>white</td>\n      <td>1988</td>\n      <td>49778.77</td>\n      <td>1/3/2017</td>\n      <td>NaN</td>\n      <td>police officer</td>\n      <td>yearly</td>\n      <td>2021</td>\n      <td>Lafayette PD</td>\n      <td>arnett</td>\n      <td>adam</td>\n      <td>g</td>\n    </tr>\n    <tr>\n      <th>4</th>\n      <td>male</td>\n      <td>white</td>\n      <td>1984</td>\n      <td>57706.27</td>\n      <td>4/27/2015</td>\n      <td>NaN</td>\n      <td>police corporal</td>\n      <td>yearly</td>\n      <td>2021</td>\n      <td>Lafayette PD</td>\n      <td>bradford</td>\n      <td>adam</td>\n      <td>f</td>\n    </tr>\n    <tr>\n      <th>...</th>\n      <td>...</td>\n      <td>...</td>\n      <td>...</td>\n      <td>...</td>\n      <td>...</td>\n      <td>...</td>\n      <td>...</td>\n      <td>...</td>\n      <td>...</td>\n      <td>...</td>\n      <td>...</td>\n      <td>...</td>\n      <td>...</td>\n    </tr>\n    <tr>\n      <th>638</th>\n      <td>male</td>\n      <td>black</td>\n      <td>1952</td>\n      <td>20800.00</td>\n      <td>9/8/2020</td>\n      <td>NaN</td>\n      <td>school crossing guard</td>\n      <td>yearly</td>\n      <td>2021</td>\n      <td>Lafayette PD</td>\n      <td>ventroy</td>\n      <td>willis</td>\n      <td>j</td>\n    </tr>\n    <tr>\n      <th>639</th>\n      <td>male</td>\n      <td>white</td>\n      <td>1992</td>\n      <td>47940.05</td>\n      <td>12/26/2018</td>\n      <td>NaN</td>\n      <td>police officer</td>\n      <td>yearly</td>\n      <td>2021</td>\n      <td>Lafayette PD</td>\n      <td>trahan</td>\n      <td>zachary</td>\n      <td>t</td>\n    </tr>\n    <tr>\n      <th>640</th>\n      <td>male</td>\n      <td>black</td>\n      <td>1985</td>\n      <td>42830.53</td>\n      <td>4/7/2008</td>\n      <td>7/10/2014</td>\n      <td>police officer</td>\n      <td>yearly</td>\n      <td>2021</td>\n      <td>Lafayette PD</td>\n      <td>guillory</td>\n      <td>zairrick</td>\n      <td></td>\n    </tr>\n    <tr>\n      <th>641</th>\n      <td>male</td>\n      <td>black</td>\n      <td>1997</td>\n      <td>48921.39</td>\n      <td>8/15/2018</td>\n      <td>NaN</td>\n      <td>police officer</td>\n      <td>yearly</td>\n      <td>2021</td>\n      <td>Lafayette PD</td>\n      <td>narcisse</td>\n      <td>zakarie</td>\n      <td>t</td>\n    </tr>\n    <tr>\n      <th>642</th>\n      <td>female</td>\n      <td>white</td>\n      <td>1995</td>\n      <td>47940.05</td>\n      <td>1/27/2019</td>\n      <td>NaN</td>\n      <td>police officer</td>\n      <td>yearly</td>\n      <td>2021</td>\n      <td>Lafayette PD</td>\n      <td>lavergne</td>\n      <td>zoie</td>\n      <td>j</td>\n    </tr>\n  </tbody>\n</table>\n<p>642 rows × 13 columns</p>\n</div>"
     },
     "metadata": {},
     "execution_count": 4
    }
   ],
   "source": [
    "pprr = clean_pprr()\n",
    "pprr"
   ]
  },
  {
   "cell_type": "code",
   "execution_count": 5,
   "metadata": {},
   "outputs": [
    {
     "output_type": "execute_result",
     "data": {
      "text/plain": [
       "      sex   race birth_year    salary hire_date left_date  \\\n",
       "540  male  white       1981  70340.19  3/2/2006       NaN   \n",
       "\n",
       "                  rank_desc salary_freq data_production_year        agency  \\\n",
       "540  police senior corporal      yearly                 2021  Lafayette PD   \n",
       "\n",
       "    last_name first_name middle_initial  \n",
       "540     clark     ronald              r  "
      ],
      "text/html": "<div>\n<style scoped>\n    .dataframe tbody tr th:only-of-type {\n        vertical-align: middle;\n    }\n\n    .dataframe tbody tr th {\n        vertical-align: top;\n    }\n\n    .dataframe thead th {\n        text-align: right;\n    }\n</style>\n<table border=\"1\" class=\"dataframe\">\n  <thead>\n    <tr style=\"text-align: right;\">\n      <th></th>\n      <th>sex</th>\n      <th>race</th>\n      <th>birth_year</th>\n      <th>salary</th>\n      <th>hire_date</th>\n      <th>left_date</th>\n      <th>rank_desc</th>\n      <th>salary_freq</th>\n      <th>data_production_year</th>\n      <th>agency</th>\n      <th>last_name</th>\n      <th>first_name</th>\n      <th>middle_initial</th>\n    </tr>\n  </thead>\n  <tbody>\n    <tr>\n      <th>540</th>\n      <td>male</td>\n      <td>white</td>\n      <td>1981</td>\n      <td>70340.19</td>\n      <td>3/2/2006</td>\n      <td>NaN</td>\n      <td>police senior corporal</td>\n      <td>yearly</td>\n      <td>2021</td>\n      <td>Lafayette PD</td>\n      <td>clark</td>\n      <td>ronald</td>\n      <td>r</td>\n    </tr>\n  </tbody>\n</table>\n</div>"
     },
     "metadata": {},
     "execution_count": 5
    }
   ],
   "source": [
    "pprr[pprr.last_name == 'clark']"
   ]
  },
  {
   "cell_type": "code",
   "execution_count": null,
   "metadata": {},
   "outputs": [],
   "source": []
  }
 ]
}
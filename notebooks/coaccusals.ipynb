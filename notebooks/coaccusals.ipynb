{
 "cells": [
  {
   "cell_type": "code",
   "execution_count": 109,
   "metadata": {},
   "outputs": [],
   "source": [
    "import pandas as pd\n",
    "from datamatch import ThresholdMatcher, ColumnsIndex\n",
    "from pandas_dedupe import dedupe_dataframe"
   ]
  },
  {
   "cell_type": "code",
   "execution_count": 110,
   "metadata": {},
   "outputs": [],
   "source": [
    "def read_data():\n",
    "    df = pd.read_csv(\"../data/clean/cprr_new_orleans_da_2016_2020.csv\")\n",
    "    return df "
   ]
  },
  {
   "cell_type": "code",
   "execution_count": 111,
   "metadata": {},
   "outputs": [],
   "source": [
    "df = read_data()"
   ]
  },
  {
   "cell_type": "code",
   "execution_count": 112,
   "metadata": {},
   "outputs": [
    {
     "name": "stdout",
     "output_type": "stream",
     "text": [
      "                                                          uids\n",
      "tracking_id                                                   \n",
      "2016-0002-p  {434b621243d937ef55512025f0d58db1, 0ab2aef4eca...\n",
      "2016-0003-p  {e6fca608c23c46d70382a399583dd92f, 7dfafbf330d...\n",
      "2016-0011-n  {1e627908dda6e4daf06d731626847c08, 3340f27a6e7...\n",
      "2016-0012-p  {a105afa36afe06e9767ac37dd1855d4e, 6b77433bdd5...\n",
      "2016-0017-p  {8d754fd559d5a5ee01c6dc7d2449ab74, 837ad8a9382...\n",
      "2016-0021-p  {1e627908dda6e4daf06d731626847c08, 3340f27a6e7...\n",
      "2016-0026-p  {e7cb1a1d0479532fe16e18d371404e1e, 3748477a4db...\n",
      "2016-0031-p  {9679eb18d20c8deadce08ef195567b15, b5993f42a85...\n",
      "2016-0032-r  {9d17a33032a02b75f229af641199097e, 2fd8d61bb52...\n",
      "2016-0033-n  {32c5967f611b1944c848aa45edc8779b, 2ad879caff0...\n"
     ]
    },
    {
     "name": "stderr",
     "output_type": "stream",
     "text": [
      "scoring pairs: 2733it [00:00, 6568.08it/s]\n"
     ]
    },
    {
     "name": "stdout",
     "output_type": "stream",
     "text": [
      "                                                                                         uids\n",
      "cluster_idx pair_idx sim_score row_key                                                       \n",
      "0           0        1.000000  2019-0674-p  {3e36baf29d012aaa856dd542f6c2417e, ecce1003ca7...\n",
      "                               2020-0165-p  {3e36baf29d012aaa856dd542f6c2417e, ecce1003ca7...\n",
      "            1        1.000000  2019-0444-r  {3e36baf29d012aaa856dd542f6c2417e, ecce1003ca7...\n",
      "                               2020-0165-p  {3e36baf29d012aaa856dd542f6c2417e, ecce1003ca7...\n",
      "            2        1.000000  2019-0444-r  {3e36baf29d012aaa856dd542f6c2417e, ecce1003ca7...\n",
      "...                                                                                       ...\n",
      "63          0        0.444444  2020-0261-r  {3bdf1d0d12052ba2c3609c74ef41c35c, c8ac774d0c6...\n",
      "64          0        0.444444  2016-0289-p  {f0f7b28597e5d775f621e7b0e0e70b01, 7e7b7ca7cb3...\n",
      "                               2016-0464-p  {97236c5998424733987b2f43eac22399, d1f39bb65d2...\n",
      "65          0        0.173913  2020-0006-p  {4965dd2847f92c5b1d87357714b87e7f, ac3b8cd657b...\n",
      "                               2020-0321-r  {b9cf8d87df2873cfa7728c8283824ee8, 4965dd2847f...\n",
      "\n",
      "[268 rows x 1 columns]\n"
     ]
    }
   ],
   "source": [
    "def create_clusters(df):\n",
    "    # filter and group uids with tracking number\n",
    "    df = df.loc[df.tracking_id.notna(), ['uid', 'tracking_id']]\\\n",
    "        .drop_duplicates()\\\n",
    "        .groupby('tracking_id').filter(lambda x: len(x) >= 2)\n",
    "    df = pd.DataFrame(\n",
    "        # we're storing set of uids under \"uids\" column because set operations\n",
    "        # are very fast compared to string operations\n",
    "        ((tn, set(sr.tolist())) for tn, sr in df.groupby('tracking_id')['uid']),\n",
    "        columns=['tracking_id', 'uids']\n",
    "    ).set_index('tracking_id', drop=True)\n",
    "    print(df.head(10))\n",
    "    #                                                               uids\n",
    "    # tracking_number\n",
    "    # 1999-0001-r      {fbe767d5226abd0ad6a5465d2f4ca1c8, 137328460cc...\n",
    "    # 1999-0518-r      {77268e8c7996e93bed5dc4c1dc99fcc4, 77660eca405...\n",
    "    # 2001-0519-c      {44da9db0f4c0705a37bacda5fba54219, 4225c320079...\n",
    "    # 2002-0125-c      {3263d4b5b2790fe60b7a4d89ac76209e, fe0ea64005a...\n",
    "    # 2003-0441-r      {3d6163a35d00431dc1a3044b207e471f, fe0ea64005a...\n",
    "    # ...                                                            ...\n",
    "    # 2019-0093-r      {c75e6823cc3de53f0c4129af057acb4a, da5d8837e26...\n",
    "    # 2019-0095-n      {defb38a6722004c4dd6a7377946a3082, ca9c3b0f3ca...\n",
    "    # 2019-0100-p      {3c72799f0a8079f0d080bbf2004dd860, c8283035ac0...\n",
    "    # 2019-0109-p      {0717b9f92b35d1bca92c01a3a447ef31, 0d9a340272e...\n",
    "    # 2019-0112-p      {29f585a7614321b970e865092bdb553c, b3cea4d1738...\n",
    "    #\n",
    "    # [2737 rows x 1 columns]\n",
    "\n",
    "    # our custom scoring function\n",
    "    def scorer(a: pd.Series, b: pd.Series) -> float:\n",
    "        # x_len is the number of shared uid between 2 tracking numbers\n",
    "        x_len = len(a.uids & b.uids)\n",
    "        # if they only share 1 uid then they are not a match\n",
    "        if x_len < 2:\n",
    "            return 0\n",
    "        # returns the ratio of shared uids\n",
    "        # if the uids are exactly the same then the ratio will be 1\n",
    "        # if no uid are shared then the ratio will be 0\n",
    "        # but of course, we have already discarded such pairs in the above condition\n",
    "        return x_len * 2 / (len(a.uids) + len(b.uids))\n",
    "\n",
    "    matcher = ThresholdMatcher(\n",
    "        # Splitting the \"uids\" column into distinct uid and index with those\n",
    "        # distinct uid because index_elements is set to True.\n",
    "        # As always, only the tracking_number that share a uid will be matched\n",
    "        index=ColumnsIndex('uids', index_elements=True),\n",
    "        # use the above scoring function\n",
    "        scorer=scorer,\n",
    "        dfa=df,\n",
    "        show_progress=True\n",
    "    )\n",
    "    # decision is set to very low (but above 0)\n",
    "    # to include pairs that score as low as 0.307692\n",
    "    decision = 0.1\n",
    "    matcher.save_clusters_to_excel((\"analysis/nopd_allegation_clusters_kh.xlsx\"), decision, decision\n",
    "    )\n",
    "    return matcher.get_clusters_within_threshold(decision)\n",
    "\n",
    "clusters = create_clusters(df)\n",
    "print(clusters)\n",
    "    #                                                                                          uids\n",
    "    # cluster_idx pair_idx sim_score row_key                                                       \n",
    "    # 0           0        1.000000  2010-1039-i  {81ce213189ee816017229582c6d337ad, 009cbd42a2d...\n",
    "    #                                2011-0565-c  {81ce213189ee816017229582c6d337ad, 009cbd42a2d...\n",
    "    # 1           0        1.000000  2007-0510-c  {8e76e6643edc61dd8a6958a25a347c49, 40c2bcc1073...\n",
    "    #                                2009-1223-n  {8e76e6643edc61dd8a6958a25a347c49, 40c2bcc1073...\n",
    "    # 2           0        1.000000  2006-0195-n  {2d2cad8b9201f9d047ed71b5f54265f1, 7fc8478fc39...\n",
    "    # ...                                                                                       ...\n",
    "    # 345         0        0.307692  2018-0347-p  {a5b0b01a80ec49ecf72f1a270b8bfcbd, 12d38303dd2...\n",
    "    # 346         0        0.307692  2013-0644-r  {ad896612811f86e9e6cd8e4bd40cadb9, 8a26726c831...\n",
    "    #                                2014-0775-r  {dbbf11e24b26c9fd6fba88efa78c7581, 1142f363167...\n",
    "    # 347         0        0.307692  2006-0449-c  {53b5a1a4f69b655d689a1ef9fdf2492f, 1a610dbe081...\n",
    "    #                                2008-0165-n  {75fef3bbdf8abc3b622947f0a27d10d1, 18c1402fa57...\n",
    "\n",
    "    # [1892 rows x 1 columns]\n",
    "# clusters.to_csv(('analysis/allegation_clusters_nopd_by_tracking_number_kh.csv'), index=False)"
   ]
  },
  {
   "cell_type": "code",
   "execution_count": 113,
   "metadata": {},
   "outputs": [],
   "source": []
  },
  {
   "cell_type": "code",
   "execution_count": 114,
   "metadata": {},
   "outputs": [
    {
     "name": "stdout",
     "output_type": "stream",
     "text": [
      "Importing data ...\n"
     ]
    },
    {
     "name": "stderr",
     "output_type": "stream",
     "text": [
      "c:\\Users\\PC\\AppData\\Local\\Programs\\Python\\Python39\\lib\\site-packages\\pandas_dedupe\\utility_functions.py:17: FutureWarning: The default value of regex will change from True to False in a future version.\n",
      "  df[i] = df[i].str.replace('[^\\w\\s\\.\\-\\(\\)\\,\\:\\/\\\\\\\\]','')\n",
      "uids : b66c2280e5a4f2dfe84132bdff621053, 6c4464b737f36f8a7cb98d8583c6812b, 2ad879caff05957ef76a0ed30c8b56af, 13d5ef70954980f90f0d5ca75c1fee3a, a21ac925aff5528824450f8acbce145f\n",
      "\n",
      "uids : b66c2280e5a4f2dfe84132bdff621053, 6c4464b737f36f8a7cb98d8583c6812b, 2ad879caff05957ef76a0ed30c8b56af, 13d5ef70954980f90f0d5ca75c1fee3a, a21ac925aff5528824450f8acbce145f, 6b6a7b9dd06135d4538513a444ba73d1\n",
      "\n",
      "0/10 positive, 0/10 negative\n",
      "Do these records refer to the same thing?\n",
      "(y)es / (n)o / (u)nsure / (f)inished\n"
     ]
    },
    {
     "name": "stdout",
     "output_type": "stream",
     "text": [
      "Starting active labeling...\n"
     ]
    }
   ],
   "source": [
    "dfa = read_data()\n",
    "clusters = cluster(dfa)\n",
    "clusters"
   ]
  },
  {
   "cell_type": "code",
   "execution_count": null,
   "metadata": {},
   "outputs": [],
   "source": [
    "yes"
   ]
  }
 ],
 "metadata": {
  "kernelspec": {
   "display_name": "Python 3.9.11 64-bit",
   "language": "python",
   "name": "python3"
  },
  "language_info": {
   "codemirror_mode": {
    "name": "ipython",
    "version": 3
   },
   "file_extension": ".py",
   "mimetype": "text/x-python",
   "name": "python",
   "nbconvert_exporter": "python",
   "pygments_lexer": "ipython3",
   "version": "3.9.11"
  },
  "orig_nbformat": 4,
  "vscode": {
   "interpreter": {
    "hash": "f6c8f846148a3e4d140e6ddf63c190cff559dcf260a4a21539f0978f2b58638c"
   }
  }
 },
 "nbformat": 4,
 "nbformat_minor": 2
}

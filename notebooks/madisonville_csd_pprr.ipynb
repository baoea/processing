{
 "metadata": {
  "language_info": {
   "codemirror_mode": {
    "name": "ipython",
    "version": 3
   },
   "file_extension": ".py",
   "mimetype": "text/x-python",
   "name": "python",
   "nbconvert_exporter": "python",
   "pygments_lexer": "ipython3",
   "version": "3.8.3-final"
  },
  "orig_nbformat": 2,
  "kernelspec": {
   "name": "python383jvsc74a57bd0759d03fc00c4e55187619d7bc1e0b6a3309d14c7c00d43a321634150e05678f8",
   "display_name": "Python 3.8.3 64-bit ('base': conda)"
  }
 },
 "nbformat": 4,
 "nbformat_minor": 2,
 "cells": [
  {
   "cell_type": "code",
   "execution_count": 1,
   "metadata": {},
   "outputs": [],
   "source": [
    "import sys; sys.path.append(\"../\")\n",
    "\n",
    "import pandas as pd\n",
    "\n",
    "from lib.match import (\n",
    "    ColumnsIndex, JaroWinklerSimilarity, StringSimilarity, DateSimilarity, ThresholdMatcher\n",
    ")\n",
    "from lib.date import combine_date_columns\n",
    "from clean.madisonville_csd_pprr import clean as clean_pprr\n",
    "from clean.madisonville_pd_cprr import clean as clean_cprr"
   ]
  },
  {
   "cell_type": "code",
   "execution_count": 2,
   "metadata": {},
   "outputs": [
    {
     "output_type": "stream",
     "name": "stderr",
     "text": [
      "../lib/clean.py:166: FutureWarning: The default value of regex will change from True to False in a future version.\n  return series.str.strip().str.replace(r\"[^\\w-]+\", \" \").str.replace(r\"\\s+\", \" \")\\\n"
     ]
    },
    {
     "output_type": "execute_result",
     "data": {
      "text/plain": [
       "   badge_no first_name last_name hire_year hire_month hire_day  annual_salary  \\\n",
       "0     11713    kenneth    bailey      2005          8       13       41365.94   \n",
       "1     11713    kenneth    bailey      2005          8       13       36658.13   \n",
       "2     11713    kenneth    bailey      2005          8       13       38276.15   \n",
       "3     11713    kenneth    bailey      2005          8       13       38316.92   \n",
       "4     11713    kenneth    bailey      2005          8       13        8902.50   \n",
       "..      ...        ...       ...       ...        ...      ...            ...   \n",
       "91    11708    leonard  holloway      2018         12        4        1742.70   \n",
       "92    11708    leonard  holloway      2018         12        4       32377.95   \n",
       "93    11701     barney    tyrney                                     47282.56   \n",
       "94    11701     barney    tyrney                                     55846.08   \n",
       "95    11710       john     dupuy                                     14165.45   \n",
       "\n",
       "   pay_effective_year            agency  data_production_year  \\\n",
       "0                2012  Madisonville CSD                  2019   \n",
       "1                2013  Madisonville CSD                  2019   \n",
       "2                2014  Madisonville CSD                  2019   \n",
       "3                2015  Madisonville CSD                  2019   \n",
       "4                2016  Madisonville CSD                  2019   \n",
       "..                ...               ...                   ...   \n",
       "91               2018  Madisonville CSD                  2019   \n",
       "92               2019  Madisonville CSD                  2019   \n",
       "93               2018  Madisonville CSD                  2019   \n",
       "94               2019  Madisonville CSD                  2019   \n",
       "95               2019  Madisonville CSD                  2019   \n",
       "\n",
       "                                 uid                       perhist_uid  \n",
       "0   6ef571b7611d3707ac039bdb9169809e  dd3e277f336a353ed25762d5bb8cb43e  \n",
       "1   6ef571b7611d3707ac039bdb9169809e  7d6368988ceffe3173b73252cca1be0e  \n",
       "2   6ef571b7611d3707ac039bdb9169809e  a4ac6a5a4f75466bd888601f6c2907b7  \n",
       "3   6ef571b7611d3707ac039bdb9169809e  60b172b67cf6748dc283dc68d49800ca  \n",
       "4   6ef571b7611d3707ac039bdb9169809e  e4174bf48704a340d290752e1ce51a05  \n",
       "..                               ...                               ...  \n",
       "91  2ebc557785c183760a7a4cf7addfba41  09a5ca483ade1aac4dceeabba4d0951f  \n",
       "92  2ebc557785c183760a7a4cf7addfba41  e85ba63436b81f228d1b3df1967accdf  \n",
       "93  34097b96e780a03178ae664aeb9b7115  d8649175755af9abe8e737ab68bb5413  \n",
       "94  34097b96e780a03178ae664aeb9b7115  11045a6525d970fb107985df110102e4  \n",
       "95  a6bb431fdd4926d98afb58c6a6e260c0  990759d189da2a3709f95ea19cf26bda  \n",
       "\n",
       "[96 rows x 12 columns]"
      ],
      "text/html": "<div>\n<style scoped>\n    .dataframe tbody tr th:only-of-type {\n        vertical-align: middle;\n    }\n\n    .dataframe tbody tr th {\n        vertical-align: top;\n    }\n\n    .dataframe thead th {\n        text-align: right;\n    }\n</style>\n<table border=\"1\" class=\"dataframe\">\n  <thead>\n    <tr style=\"text-align: right;\">\n      <th></th>\n      <th>badge_no</th>\n      <th>first_name</th>\n      <th>last_name</th>\n      <th>hire_year</th>\n      <th>hire_month</th>\n      <th>hire_day</th>\n      <th>annual_salary</th>\n      <th>pay_effective_year</th>\n      <th>agency</th>\n      <th>data_production_year</th>\n      <th>uid</th>\n      <th>perhist_uid</th>\n    </tr>\n  </thead>\n  <tbody>\n    <tr>\n      <th>0</th>\n      <td>11713</td>\n      <td>kenneth</td>\n      <td>bailey</td>\n      <td>2005</td>\n      <td>8</td>\n      <td>13</td>\n      <td>41365.94</td>\n      <td>2012</td>\n      <td>Madisonville CSD</td>\n      <td>2019</td>\n      <td>6ef571b7611d3707ac039bdb9169809e</td>\n      <td>dd3e277f336a353ed25762d5bb8cb43e</td>\n    </tr>\n    <tr>\n      <th>1</th>\n      <td>11713</td>\n      <td>kenneth</td>\n      <td>bailey</td>\n      <td>2005</td>\n      <td>8</td>\n      <td>13</td>\n      <td>36658.13</td>\n      <td>2013</td>\n      <td>Madisonville CSD</td>\n      <td>2019</td>\n      <td>6ef571b7611d3707ac039bdb9169809e</td>\n      <td>7d6368988ceffe3173b73252cca1be0e</td>\n    </tr>\n    <tr>\n      <th>2</th>\n      <td>11713</td>\n      <td>kenneth</td>\n      <td>bailey</td>\n      <td>2005</td>\n      <td>8</td>\n      <td>13</td>\n      <td>38276.15</td>\n      <td>2014</td>\n      <td>Madisonville CSD</td>\n      <td>2019</td>\n      <td>6ef571b7611d3707ac039bdb9169809e</td>\n      <td>a4ac6a5a4f75466bd888601f6c2907b7</td>\n    </tr>\n    <tr>\n      <th>3</th>\n      <td>11713</td>\n      <td>kenneth</td>\n      <td>bailey</td>\n      <td>2005</td>\n      <td>8</td>\n      <td>13</td>\n      <td>38316.92</td>\n      <td>2015</td>\n      <td>Madisonville CSD</td>\n      <td>2019</td>\n      <td>6ef571b7611d3707ac039bdb9169809e</td>\n      <td>60b172b67cf6748dc283dc68d49800ca</td>\n    </tr>\n    <tr>\n      <th>4</th>\n      <td>11713</td>\n      <td>kenneth</td>\n      <td>bailey</td>\n      <td>2005</td>\n      <td>8</td>\n      <td>13</td>\n      <td>8902.50</td>\n      <td>2016</td>\n      <td>Madisonville CSD</td>\n      <td>2019</td>\n      <td>6ef571b7611d3707ac039bdb9169809e</td>\n      <td>e4174bf48704a340d290752e1ce51a05</td>\n    </tr>\n    <tr>\n      <th>...</th>\n      <td>...</td>\n      <td>...</td>\n      <td>...</td>\n      <td>...</td>\n      <td>...</td>\n      <td>...</td>\n      <td>...</td>\n      <td>...</td>\n      <td>...</td>\n      <td>...</td>\n      <td>...</td>\n      <td>...</td>\n    </tr>\n    <tr>\n      <th>91</th>\n      <td>11708</td>\n      <td>leonard</td>\n      <td>holloway</td>\n      <td>2018</td>\n      <td>12</td>\n      <td>4</td>\n      <td>1742.70</td>\n      <td>2018</td>\n      <td>Madisonville CSD</td>\n      <td>2019</td>\n      <td>2ebc557785c183760a7a4cf7addfba41</td>\n      <td>09a5ca483ade1aac4dceeabba4d0951f</td>\n    </tr>\n    <tr>\n      <th>92</th>\n      <td>11708</td>\n      <td>leonard</td>\n      <td>holloway</td>\n      <td>2018</td>\n      <td>12</td>\n      <td>4</td>\n      <td>32377.95</td>\n      <td>2019</td>\n      <td>Madisonville CSD</td>\n      <td>2019</td>\n      <td>2ebc557785c183760a7a4cf7addfba41</td>\n      <td>e85ba63436b81f228d1b3df1967accdf</td>\n    </tr>\n    <tr>\n      <th>93</th>\n      <td>11701</td>\n      <td>barney</td>\n      <td>tyrney</td>\n      <td></td>\n      <td></td>\n      <td></td>\n      <td>47282.56</td>\n      <td>2018</td>\n      <td>Madisonville CSD</td>\n      <td>2019</td>\n      <td>34097b96e780a03178ae664aeb9b7115</td>\n      <td>d8649175755af9abe8e737ab68bb5413</td>\n    </tr>\n    <tr>\n      <th>94</th>\n      <td>11701</td>\n      <td>barney</td>\n      <td>tyrney</td>\n      <td></td>\n      <td></td>\n      <td></td>\n      <td>55846.08</td>\n      <td>2019</td>\n      <td>Madisonville CSD</td>\n      <td>2019</td>\n      <td>34097b96e780a03178ae664aeb9b7115</td>\n      <td>11045a6525d970fb107985df110102e4</td>\n    </tr>\n    <tr>\n      <th>95</th>\n      <td>11710</td>\n      <td>john</td>\n      <td>dupuy</td>\n      <td></td>\n      <td></td>\n      <td></td>\n      <td>14165.45</td>\n      <td>2019</td>\n      <td>Madisonville CSD</td>\n      <td>2019</td>\n      <td>a6bb431fdd4926d98afb58c6a6e260c0</td>\n      <td>990759d189da2a3709f95ea19cf26bda</td>\n    </tr>\n  </tbody>\n</table>\n<p>96 rows × 12 columns</p>\n</div>"
     },
     "metadata": {},
     "execution_count": 2
    }
   ],
   "source": [
    "pprr = clean_pprr()\n",
    "pprr"
   ]
  },
  {
   "cell_type": "code",
   "execution_count": 5,
   "metadata": {},
   "outputs": [
    {
     "output_type": "execute_result",
     "data": {
      "text/plain": [
       "Empty DataFrame\n",
       "Columns: [badge_no, first_name, last_name, hire_year, hire_month, hire_day, annual_salary, pay_effective_year, agency, data_production_year, uid, perhist_uid]\n",
       "Index: []"
      ],
      "text/html": "<div>\n<style scoped>\n    .dataframe tbody tr th:only-of-type {\n        vertical-align: middle;\n    }\n\n    .dataframe tbody tr th {\n        vertical-align: top;\n    }\n\n    .dataframe thead th {\n        text-align: right;\n    }\n</style>\n<table border=\"1\" class=\"dataframe\">\n  <thead>\n    <tr style=\"text-align: right;\">\n      <th></th>\n      <th>badge_no</th>\n      <th>first_name</th>\n      <th>last_name</th>\n      <th>hire_year</th>\n      <th>hire_month</th>\n      <th>hire_day</th>\n      <th>annual_salary</th>\n      <th>pay_effective_year</th>\n      <th>agency</th>\n      <th>data_production_year</th>\n      <th>uid</th>\n      <th>perhist_uid</th>\n    </tr>\n  </thead>\n  <tbody>\n  </tbody>\n</table>\n</div>"
     },
     "metadata": {},
     "execution_count": 5
    }
   ],
   "source": [
    "pprr[pprr.perhist_uid.duplicated()]"
   ]
  },
  {
   "cell_type": "code",
   "execution_count": 3,
   "metadata": {},
   "outputs": [
    {
     "output_type": "stream",
     "name": "stderr",
     "text": [
      "../clean/madisonville_pd_cprr.py:22: FutureWarning: The default value of regex will change from True to False in a future version.\n  df.loc[:, \"complainant_name\"] = df.complainant_name.str.replace(\n../lib/clean.py:166: FutureWarning: The default value of regex will change from True to False in a future version.\n  return series.str.strip().str.replace(r\"[^\\w-]+\", \" \").str.replace(r\"\\s+\", \" \")\\\n"
     ]
    },
    {
     "output_type": "execute_result",
     "data": {
      "text/plain": [
       "  rank_desc last_name first_name tracking_number complainant_name  \\\n",
       "0   officer  woessner      shawn     12-6478-018     joe mahon jr   \n",
       "1   officer    bailey    kenneth     13-6547-003      becky white   \n",
       "\n",
       "  complainant_sex occur_year occur_month occur_day data_production_year  \\\n",
       "0            male       2012          10        20                 2020   \n",
       "1          female                     11        14                 2020   \n",
       "\n",
       "            agency                     complaint_uid  \n",
       "0  Madisonville PD  8f5c89fcf309d180cfc17abdc875a4ba  \n",
       "1  Madisonville PD  ff8aae15c0bec316ecb6a7101071fd67  "
      ],
      "text/html": "<div>\n<style scoped>\n    .dataframe tbody tr th:only-of-type {\n        vertical-align: middle;\n    }\n\n    .dataframe tbody tr th {\n        vertical-align: top;\n    }\n\n    .dataframe thead th {\n        text-align: right;\n    }\n</style>\n<table border=\"1\" class=\"dataframe\">\n  <thead>\n    <tr style=\"text-align: right;\">\n      <th></th>\n      <th>rank_desc</th>\n      <th>last_name</th>\n      <th>first_name</th>\n      <th>tracking_number</th>\n      <th>complainant_name</th>\n      <th>complainant_sex</th>\n      <th>occur_year</th>\n      <th>occur_month</th>\n      <th>occur_day</th>\n      <th>data_production_year</th>\n      <th>agency</th>\n      <th>complaint_uid</th>\n    </tr>\n  </thead>\n  <tbody>\n    <tr>\n      <th>0</th>\n      <td>officer</td>\n      <td>woessner</td>\n      <td>shawn</td>\n      <td>12-6478-018</td>\n      <td>joe mahon jr</td>\n      <td>male</td>\n      <td>2012</td>\n      <td>10</td>\n      <td>20</td>\n      <td>2020</td>\n      <td>Madisonville PD</td>\n      <td>8f5c89fcf309d180cfc17abdc875a4ba</td>\n    </tr>\n    <tr>\n      <th>1</th>\n      <td>officer</td>\n      <td>bailey</td>\n      <td>kenneth</td>\n      <td>13-6547-003</td>\n      <td>becky white</td>\n      <td>female</td>\n      <td></td>\n      <td>11</td>\n      <td>14</td>\n      <td>2020</td>\n      <td>Madisonville PD</td>\n      <td>ff8aae15c0bec316ecb6a7101071fd67</td>\n    </tr>\n  </tbody>\n</table>\n</div>"
     },
     "metadata": {},
     "execution_count": 3
    }
   ],
   "source": [
    "cprr = clean_cprr()\n",
    "cprr"
   ]
  },
  {
   "cell_type": "code",
   "execution_count": 4,
   "metadata": {},
   "outputs": [
    {
     "output_type": "error",
     "ename": "NameError",
     "evalue": "name 'match' is not defined",
     "traceback": [
      "\u001b[0;31m---------------------------------------------------------------------------\u001b[0m",
      "\u001b[0;31mNameError\u001b[0m                                 Traceback (most recent call last)",
      "\u001b[0;32m<ipython-input-4-c117d2b73c8b>\u001b[0m in \u001b[0;36m<module>\u001b[0;34m\u001b[0m\n\u001b[0;32m----> 1\u001b[0;31m \u001b[0mcprr\u001b[0m \u001b[0;34m=\u001b[0m \u001b[0mmatch\u001b[0m\u001b[0;34m(\u001b[0m\u001b[0mcprr\u001b[0m\u001b[0;34m,\u001b[0m \u001b[0mpprr\u001b[0m\u001b[0;34m)\u001b[0m\u001b[0;34m\u001b[0m\u001b[0;34m\u001b[0m\u001b[0m\n\u001b[0m\u001b[1;32m      2\u001b[0m \u001b[0mcprr\u001b[0m\u001b[0;34m\u001b[0m\u001b[0;34m\u001b[0m\u001b[0m\n",
      "\u001b[0;31mNameError\u001b[0m: name 'match' is not defined"
     ]
    }
   ],
   "source": [
    "cprr = match(cprr, pprr)\n",
    "cprr"
   ]
  },
  {
   "cell_type": "code",
   "execution_count": 5,
   "metadata": {},
   "outputs": [
    {
     "output_type": "execute_result",
     "data": {
      "text/plain": [
       "                                           agency    last_name   first_name  \\\n",
       "uid                                                                           \n",
       "01632bc4efa8f03a238474db1c60d357  madisonville pd     woessner        shawn   \n",
       "5139a558a784f3f692f5f4df5649996d  madisonville pd       tyrney       barney   \n",
       "f91dbd73483a13fe58d6a4e284a8d107  madisonville pd        stark      stephen   \n",
       "96342c40cc206c3b031d86fd321d2e96  madisonville pd     stephens      brandon   \n",
       "2da9a51d940cecd63dbaae92760ebbd2  madisonville pd  quatrevingt         paul   \n",
       "9e45851b4480e99bae4e5cbb65b22395  madisonville pd         kast      michael   \n",
       "0ab81f04cd14d20e2bc8d0cb74afc46c  madisonville pd     bertucci  christopher   \n",
       "23b23b1807328cf3f5b8f9b9a1f06374  madisonville pd       tangus         alex   \n",
       "62ede7f5ab5a5d0c5a17f6e08fd630b8  madisonville pd        wolfe       angela   \n",
       "\n",
       "                                 employment_status level_1_cert_date  \\\n",
       "uid                                                                    \n",
       "01632bc4efa8f03a238474db1c60d357         full-time               NaN   \n",
       "5139a558a784f3f692f5f4df5649996d         full-time        1990-09-20   \n",
       "f91dbd73483a13fe58d6a4e284a8d107         full-time        1989-02-23   \n",
       "96342c40cc206c3b031d86fd321d2e96         full-time        2006-03-09   \n",
       "2da9a51d940cecd63dbaae92760ebbd2         full-time        2009-07-27   \n",
       "9e45851b4480e99bae4e5cbb65b22395         full-time               NaN   \n",
       "0ab81f04cd14d20e2bc8d0cb74afc46c         full-time        2017-11-09   \n",
       "23b23b1807328cf3f5b8f9b9a1f06374         full-time               NaN   \n",
       "62ede7f5ab5a5d0c5a17f6e08fd630b8         full-time        1992-11-05   \n",
       "\n",
       "                                 last_pc_12_qualification_date  \\\n",
       "uid                                                              \n",
       "01632bc4efa8f03a238474db1c60d357                    2020-06-25   \n",
       "5139a558a784f3f692f5f4df5649996d                    2020-06-25   \n",
       "f91dbd73483a13fe58d6a4e284a8d107                    2020-06-18   \n",
       "96342c40cc206c3b031d86fd321d2e96                    2020-06-18   \n",
       "2da9a51d940cecd63dbaae92760ebbd2                    2020-06-11   \n",
       "9e45851b4480e99bae4e5cbb65b22395                    2020-06-02   \n",
       "0ab81f04cd14d20e2bc8d0cb74afc46c                    2020-05-06   \n",
       "23b23b1807328cf3f5b8f9b9a1f06374                    2019-09-07   \n",
       "62ede7f5ab5a5d0c5a17f6e08fd630b8                           NaN   \n",
       "\n",
       "                                  data_production_year  hire_year  hire_month  \\\n",
       "uid                                                                             \n",
       "01632bc4efa8f03a238474db1c60d357                  2020     2012.0         1.0   \n",
       "5139a558a784f3f692f5f4df5649996d                  2020     2018.0         3.0   \n",
       "f91dbd73483a13fe58d6a4e284a8d107                  2020     2005.0         2.0   \n",
       "96342c40cc206c3b031d86fd321d2e96                  2020     2020.0         6.0   \n",
       "2da9a51d940cecd63dbaae92760ebbd2                  2020     2010.0        10.0   \n",
       "9e45851b4480e99bae4e5cbb65b22395                  2020        NaN         NaN   \n",
       "0ab81f04cd14d20e2bc8d0cb74afc46c                  2020     2020.0         7.0   \n",
       "23b23b1807328cf3f5b8f9b9a1f06374                  2020     2015.0         1.0   \n",
       "62ede7f5ab5a5d0c5a17f6e08fd630b8                  2020     1992.0         6.0   \n",
       "\n",
       "                                  hire_day                               uid  \n",
       "uid                                                                           \n",
       "01632bc4efa8f03a238474db1c60d357      17.0  01632bc4efa8f03a238474db1c60d357  \n",
       "5139a558a784f3f692f5f4df5649996d       1.0  5139a558a784f3f692f5f4df5649996d  \n",
       "f91dbd73483a13fe58d6a4e284a8d107       1.0  f91dbd73483a13fe58d6a4e284a8d107  \n",
       "96342c40cc206c3b031d86fd321d2e96       5.0  96342c40cc206c3b031d86fd321d2e96  \n",
       "2da9a51d940cecd63dbaae92760ebbd2      30.0  2da9a51d940cecd63dbaae92760ebbd2  \n",
       "9e45851b4480e99bae4e5cbb65b22395       NaN  9e45851b4480e99bae4e5cbb65b22395  \n",
       "0ab81f04cd14d20e2bc8d0cb74afc46c      16.0  0ab81f04cd14d20e2bc8d0cb74afc46c  \n",
       "23b23b1807328cf3f5b8f9b9a1f06374      27.0  23b23b1807328cf3f5b8f9b9a1f06374  \n",
       "62ede7f5ab5a5d0c5a17f6e08fd630b8      12.0  62ede7f5ab5a5d0c5a17f6e08fd630b8  "
      ],
      "text/html": "<div>\n<style scoped>\n    .dataframe tbody tr th:only-of-type {\n        vertical-align: middle;\n    }\n\n    .dataframe tbody tr th {\n        vertical-align: top;\n    }\n\n    .dataframe thead th {\n        text-align: right;\n    }\n</style>\n<table border=\"1\" class=\"dataframe\">\n  <thead>\n    <tr style=\"text-align: right;\">\n      <th></th>\n      <th>agency</th>\n      <th>last_name</th>\n      <th>first_name</th>\n      <th>employment_status</th>\n      <th>level_1_cert_date</th>\n      <th>last_pc_12_qualification_date</th>\n      <th>data_production_year</th>\n      <th>hire_year</th>\n      <th>hire_month</th>\n      <th>hire_day</th>\n      <th>uid</th>\n    </tr>\n    <tr>\n      <th>uid</th>\n      <th></th>\n      <th></th>\n      <th></th>\n      <th></th>\n      <th></th>\n      <th></th>\n      <th></th>\n      <th></th>\n      <th></th>\n      <th></th>\n      <th></th>\n    </tr>\n  </thead>\n  <tbody>\n    <tr>\n      <th>01632bc4efa8f03a238474db1c60d357</th>\n      <td>madisonville pd</td>\n      <td>woessner</td>\n      <td>shawn</td>\n      <td>full-time</td>\n      <td>NaN</td>\n      <td>2020-06-25</td>\n      <td>2020</td>\n      <td>2012.0</td>\n      <td>1.0</td>\n      <td>17.0</td>\n      <td>01632bc4efa8f03a238474db1c60d357</td>\n    </tr>\n    <tr>\n      <th>5139a558a784f3f692f5f4df5649996d</th>\n      <td>madisonville pd</td>\n      <td>tyrney</td>\n      <td>barney</td>\n      <td>full-time</td>\n      <td>1990-09-20</td>\n      <td>2020-06-25</td>\n      <td>2020</td>\n      <td>2018.0</td>\n      <td>3.0</td>\n      <td>1.0</td>\n      <td>5139a558a784f3f692f5f4df5649996d</td>\n    </tr>\n    <tr>\n      <th>f91dbd73483a13fe58d6a4e284a8d107</th>\n      <td>madisonville pd</td>\n      <td>stark</td>\n      <td>stephen</td>\n      <td>full-time</td>\n      <td>1989-02-23</td>\n      <td>2020-06-18</td>\n      <td>2020</td>\n      <td>2005.0</td>\n      <td>2.0</td>\n      <td>1.0</td>\n      <td>f91dbd73483a13fe58d6a4e284a8d107</td>\n    </tr>\n    <tr>\n      <th>96342c40cc206c3b031d86fd321d2e96</th>\n      <td>madisonville pd</td>\n      <td>stephens</td>\n      <td>brandon</td>\n      <td>full-time</td>\n      <td>2006-03-09</td>\n      <td>2020-06-18</td>\n      <td>2020</td>\n      <td>2020.0</td>\n      <td>6.0</td>\n      <td>5.0</td>\n      <td>96342c40cc206c3b031d86fd321d2e96</td>\n    </tr>\n    <tr>\n      <th>2da9a51d940cecd63dbaae92760ebbd2</th>\n      <td>madisonville pd</td>\n      <td>quatrevingt</td>\n      <td>paul</td>\n      <td>full-time</td>\n      <td>2009-07-27</td>\n      <td>2020-06-11</td>\n      <td>2020</td>\n      <td>2010.0</td>\n      <td>10.0</td>\n      <td>30.0</td>\n      <td>2da9a51d940cecd63dbaae92760ebbd2</td>\n    </tr>\n    <tr>\n      <th>9e45851b4480e99bae4e5cbb65b22395</th>\n      <td>madisonville pd</td>\n      <td>kast</td>\n      <td>michael</td>\n      <td>full-time</td>\n      <td>NaN</td>\n      <td>2020-06-02</td>\n      <td>2020</td>\n      <td>NaN</td>\n      <td>NaN</td>\n      <td>NaN</td>\n      <td>9e45851b4480e99bae4e5cbb65b22395</td>\n    </tr>\n    <tr>\n      <th>0ab81f04cd14d20e2bc8d0cb74afc46c</th>\n      <td>madisonville pd</td>\n      <td>bertucci</td>\n      <td>christopher</td>\n      <td>full-time</td>\n      <td>2017-11-09</td>\n      <td>2020-05-06</td>\n      <td>2020</td>\n      <td>2020.0</td>\n      <td>7.0</td>\n      <td>16.0</td>\n      <td>0ab81f04cd14d20e2bc8d0cb74afc46c</td>\n    </tr>\n    <tr>\n      <th>23b23b1807328cf3f5b8f9b9a1f06374</th>\n      <td>madisonville pd</td>\n      <td>tangus</td>\n      <td>alex</td>\n      <td>full-time</td>\n      <td>NaN</td>\n      <td>2019-09-07</td>\n      <td>2020</td>\n      <td>2015.0</td>\n      <td>1.0</td>\n      <td>27.0</td>\n      <td>23b23b1807328cf3f5b8f9b9a1f06374</td>\n    </tr>\n    <tr>\n      <th>62ede7f5ab5a5d0c5a17f6e08fd630b8</th>\n      <td>madisonville pd</td>\n      <td>wolfe</td>\n      <td>angela</td>\n      <td>full-time</td>\n      <td>1992-11-05</td>\n      <td>NaN</td>\n      <td>2020</td>\n      <td>1992.0</td>\n      <td>6.0</td>\n      <td>12.0</td>\n      <td>62ede7f5ab5a5d0c5a17f6e08fd630b8</td>\n    </tr>\n  </tbody>\n</table>\n</div>"
     },
     "metadata": {},
     "execution_count": 5
    }
   ],
   "source": [
    "post = prepare_post_data()\n",
    "post"
   ]
  },
  {
   "cell_type": "code",
   "execution_count": 9,
   "metadata": {},
   "outputs": [
    {
     "output_type": "stream",
     "name": "stderr",
     "text": [
      "/Users/khoipham/opt/anaconda3/lib/python3.8/site-packages/pandas/core/indexing.py:1596: SettingWithCopyWarning: \nA value is trying to be set on a copy of a slice from a DataFrame.\nTry using .loc[row_indexer,col_indexer] = value instead\n\nSee the caveats in the documentation: https://pandas.pydata.org/pandas-docs/stable/user_guide/indexing.html#returning-a-view-versus-a-copy\n  self.obj[key] = value\n/Users/khoipham/opt/anaconda3/lib/python3.8/site-packages/pandas/core/indexing.py:1675: SettingWithCopyWarning: \nA value is trying to be set on a copy of a slice from a DataFrame.\nTry using .loc[row_indexer,col_indexer] = value instead\n\nSee the caveats in the documentation: https://pandas.pydata.org/pandas-docs/stable/user_guide/indexing.html#returning-a-view-versus-a-copy\n  self._setitem_single_column(ilocs[0], value, pi)\n"
     ]
    },
    {
     "output_type": "execute_result",
     "data": {
      "text/plain": [
       "                                                                  first_name  \\\n",
       "score_range pair_idx sim_score row_key                                         \n",
       "1.00-0.95   0        1.000000  c5112265f8eaf64a16dc0b1bce99ead2       barney   \n",
       "                               5139a558a784f3f692f5f4df5649996d       barney   \n",
       "            1        1.000000  a5cffdd4bce9362fb3a27caeda9ffad6      michael   \n",
       "                               9e45851b4480e99bae4e5cbb65b22395      michael   \n",
       "            2        1.000000  db0976c18333f113dc0b56ce42b28af7        shawn   \n",
       "                               01632bc4efa8f03a238474db1c60d357        shawn   \n",
       "            3        1.000000  03259be45a4edddc5f68f0ce3cf29773      stephen   \n",
       "                               f91dbd73483a13fe58d6a4e284a8d107      stephen   \n",
       "            4        0.996974  166a889259d7728ce18ffc18ed84135c         paul   \n",
       "                               2da9a51d940cecd63dbaae92760ebbd2         paul   \n",
       "            5        0.988167  d4a4ad071619a018195fbcf85ceaa785         alex   \n",
       "                               23b23b1807328cf3f5b8f9b9a1f06374         alex   \n",
       "            6        0.955627  16daac5e776c4dbb103939f16460604a        chris   \n",
       "                               0ab81f04cd14d20e2bc8d0cb74afc46c  christopher   \n",
       "\n",
       "                                                                   last_name  \\\n",
       "score_range pair_idx sim_score row_key                                         \n",
       "1.00-0.95   0        1.000000  c5112265f8eaf64a16dc0b1bce99ead2       tyrney   \n",
       "                               5139a558a784f3f692f5f4df5649996d       tyrney   \n",
       "            1        1.000000  a5cffdd4bce9362fb3a27caeda9ffad6         kast   \n",
       "                               9e45851b4480e99bae4e5cbb65b22395         kast   \n",
       "            2        1.000000  db0976c18333f113dc0b56ce42b28af7     woessner   \n",
       "                               01632bc4efa8f03a238474db1c60d357     woessner   \n",
       "            3        1.000000  03259be45a4edddc5f68f0ce3cf29773        stark   \n",
       "                               f91dbd73483a13fe58d6a4e284a8d107        stark   \n",
       "            4        0.996974  166a889259d7728ce18ffc18ed84135c  quatrevignt   \n",
       "                               2da9a51d940cecd63dbaae92760ebbd2  quatrevingt   \n",
       "            5        0.988167  d4a4ad071619a018195fbcf85ceaa785      tanguis   \n",
       "                               23b23b1807328cf3f5b8f9b9a1f06374       tangus   \n",
       "            6        0.955627  16daac5e776c4dbb103939f16460604a     bertucci   \n",
       "                               0ab81f04cd14d20e2bc8d0cb74afc46c     bertucci   \n",
       "\n",
       "                                                                fc  \n",
       "score_range pair_idx sim_score row_key                              \n",
       "1.00-0.95   0        1.000000  c5112265f8eaf64a16dc0b1bce99ead2  b  \n",
       "                               5139a558a784f3f692f5f4df5649996d  b  \n",
       "            1        1.000000  a5cffdd4bce9362fb3a27caeda9ffad6  m  \n",
       "                               9e45851b4480e99bae4e5cbb65b22395  m  \n",
       "            2        1.000000  db0976c18333f113dc0b56ce42b28af7  s  \n",
       "                               01632bc4efa8f03a238474db1c60d357  s  \n",
       "            3        1.000000  03259be45a4edddc5f68f0ce3cf29773  s  \n",
       "                               f91dbd73483a13fe58d6a4e284a8d107  s  \n",
       "            4        0.996974  166a889259d7728ce18ffc18ed84135c  p  \n",
       "                               2da9a51d940cecd63dbaae92760ebbd2  p  \n",
       "            5        0.988167  d4a4ad071619a018195fbcf85ceaa785  a  \n",
       "                               23b23b1807328cf3f5b8f9b9a1f06374  a  \n",
       "            6        0.955627  16daac5e776c4dbb103939f16460604a  c  \n",
       "                               0ab81f04cd14d20e2bc8d0cb74afc46c  c  "
      ],
      "text/html": "<div>\n<style scoped>\n    .dataframe tbody tr th:only-of-type {\n        vertical-align: middle;\n    }\n\n    .dataframe tbody tr th {\n        vertical-align: top;\n    }\n\n    .dataframe thead th {\n        text-align: right;\n    }\n</style>\n<table border=\"1\" class=\"dataframe\">\n  <thead>\n    <tr style=\"text-align: right;\">\n      <th></th>\n      <th></th>\n      <th></th>\n      <th></th>\n      <th>first_name</th>\n      <th>last_name</th>\n      <th>fc</th>\n    </tr>\n    <tr>\n      <th>score_range</th>\n      <th>pair_idx</th>\n      <th>sim_score</th>\n      <th>row_key</th>\n      <th></th>\n      <th></th>\n      <th></th>\n    </tr>\n  </thead>\n  <tbody>\n    <tr>\n      <th rowspan=\"14\" valign=\"top\">1.00-0.95</th>\n      <th rowspan=\"2\" valign=\"top\">0</th>\n      <th rowspan=\"2\" valign=\"top\">1.000000</th>\n      <th>c5112265f8eaf64a16dc0b1bce99ead2</th>\n      <td>barney</td>\n      <td>tyrney</td>\n      <td>b</td>\n    </tr>\n    <tr>\n      <th>5139a558a784f3f692f5f4df5649996d</th>\n      <td>barney</td>\n      <td>tyrney</td>\n      <td>b</td>\n    </tr>\n    <tr>\n      <th rowspan=\"2\" valign=\"top\">1</th>\n      <th rowspan=\"2\" valign=\"top\">1.000000</th>\n      <th>a5cffdd4bce9362fb3a27caeda9ffad6</th>\n      <td>michael</td>\n      <td>kast</td>\n      <td>m</td>\n    </tr>\n    <tr>\n      <th>9e45851b4480e99bae4e5cbb65b22395</th>\n      <td>michael</td>\n      <td>kast</td>\n      <td>m</td>\n    </tr>\n    <tr>\n      <th rowspan=\"2\" valign=\"top\">2</th>\n      <th rowspan=\"2\" valign=\"top\">1.000000</th>\n      <th>db0976c18333f113dc0b56ce42b28af7</th>\n      <td>shawn</td>\n      <td>woessner</td>\n      <td>s</td>\n    </tr>\n    <tr>\n      <th>01632bc4efa8f03a238474db1c60d357</th>\n      <td>shawn</td>\n      <td>woessner</td>\n      <td>s</td>\n    </tr>\n    <tr>\n      <th rowspan=\"2\" valign=\"top\">3</th>\n      <th rowspan=\"2\" valign=\"top\">1.000000</th>\n      <th>03259be45a4edddc5f68f0ce3cf29773</th>\n      <td>stephen</td>\n      <td>stark</td>\n      <td>s</td>\n    </tr>\n    <tr>\n      <th>f91dbd73483a13fe58d6a4e284a8d107</th>\n      <td>stephen</td>\n      <td>stark</td>\n      <td>s</td>\n    </tr>\n    <tr>\n      <th rowspan=\"2\" valign=\"top\">4</th>\n      <th rowspan=\"2\" valign=\"top\">0.996974</th>\n      <th>166a889259d7728ce18ffc18ed84135c</th>\n      <td>paul</td>\n      <td>quatrevignt</td>\n      <td>p</td>\n    </tr>\n    <tr>\n      <th>2da9a51d940cecd63dbaae92760ebbd2</th>\n      <td>paul</td>\n      <td>quatrevingt</td>\n      <td>p</td>\n    </tr>\n    <tr>\n      <th rowspan=\"2\" valign=\"top\">5</th>\n      <th rowspan=\"2\" valign=\"top\">0.988167</th>\n      <th>d4a4ad071619a018195fbcf85ceaa785</th>\n      <td>alex</td>\n      <td>tanguis</td>\n      <td>a</td>\n    </tr>\n    <tr>\n      <th>23b23b1807328cf3f5b8f9b9a1f06374</th>\n      <td>alex</td>\n      <td>tangus</td>\n      <td>a</td>\n    </tr>\n    <tr>\n      <th rowspan=\"2\" valign=\"top\">6</th>\n      <th rowspan=\"2\" valign=\"top\">0.955627</th>\n      <th>16daac5e776c4dbb103939f16460604a</th>\n      <td>chris</td>\n      <td>bertucci</td>\n      <td>c</td>\n    </tr>\n    <tr>\n      <th>0ab81f04cd14d20e2bc8d0cb74afc46c</th>\n      <td>christopher</td>\n      <td>bertucci</td>\n      <td>c</td>\n    </tr>\n  </tbody>\n</table>\n</div>"
     },
     "metadata": {},
     "execution_count": 9
    }
   ],
   "source": [
    "\n",
    "dfa = pprr[['uid', 'first_name', 'last_name']]\n",
    "dfa.loc[:, 'fc'] = dfa.first_name.map(lambda x: x[:1])\n",
    "dfa = dfa.drop_duplicates(subset=['uid']).set_index('uid')\n",
    "\n",
    "dfb = post[['uid', 'first_name', 'last_name']]\n",
    "dfb.loc[:, 'fc'] = dfb.first_name.map(lambda x: x[:1])\n",
    "dfb = dfb.drop_duplicates(subset=['uid']).set_index('uid')\n",
    "\n",
    "matcher = ThresholdMatcher(dfa, dfb, ColumnsIndex([\"fc\"]), {\n",
    "    \"last_name\": JaroWinklerSimilarity(),\n",
    "    \"first_name\": JaroWinklerSimilarity(),\n",
    "})\n",
    "matcher.get_sample_pairs(sample_counts=10)"
   ]
  },
  {
   "cell_type": "code",
   "execution_count": 7,
   "metadata": {},
   "outputs": [
    {
     "output_type": "execute_result",
     "data": {
      "text/plain": [
       "   badge_no first_name last_name hire_year hire_month hire_day  \\\n",
       "13    11704    michael      kast                                 \n",
       "14    11704    michael      kast                                 \n",
       "15    11704    michael      kast                                 \n",
       "16    11704    michael      kast                                 \n",
       "17    11704    michael      kast                                 \n",
       "18    11704    michael      kast                                 \n",
       "19    11704    michael      kast                                 \n",
       "20    11704    michael      kast                                 \n",
       "\n",
       "                                 uid  annual_salary data_production_year  \\\n",
       "13  a5cffdd4bce9362fb3a27caeda9ffad6       37722.76                 2012   \n",
       "14  a5cffdd4bce9362fb3a27caeda9ffad6       34799.84                 2013   \n",
       "15  a5cffdd4bce9362fb3a27caeda9ffad6       36448.31                 2014   \n",
       "16  a5cffdd4bce9362fb3a27caeda9ffad6       35755.47                 2015   \n",
       "17  a5cffdd4bce9362fb3a27caeda9ffad6       35502.84                 2016   \n",
       "18  a5cffdd4bce9362fb3a27caeda9ffad6       36162.00                 2017   \n",
       "19  a5cffdd4bce9362fb3a27caeda9ffad6       39546.50                 2018   \n",
       "20  a5cffdd4bce9362fb3a27caeda9ffad6       38989.57                 2019   \n",
       "\n",
       "              agency  \n",
       "13  Madisonville CSD  \n",
       "14  Madisonville CSD  \n",
       "15  Madisonville CSD  \n",
       "16  Madisonville CSD  \n",
       "17  Madisonville CSD  \n",
       "18  Madisonville CSD  \n",
       "19  Madisonville CSD  \n",
       "20  Madisonville CSD  "
      ],
      "text/html": "<div>\n<style scoped>\n    .dataframe tbody tr th:only-of-type {\n        vertical-align: middle;\n    }\n\n    .dataframe tbody tr th {\n        vertical-align: top;\n    }\n\n    .dataframe thead th {\n        text-align: right;\n    }\n</style>\n<table border=\"1\" class=\"dataframe\">\n  <thead>\n    <tr style=\"text-align: right;\">\n      <th></th>\n      <th>badge_no</th>\n      <th>first_name</th>\n      <th>last_name</th>\n      <th>hire_year</th>\n      <th>hire_month</th>\n      <th>hire_day</th>\n      <th>uid</th>\n      <th>annual_salary</th>\n      <th>data_production_year</th>\n      <th>agency</th>\n    </tr>\n  </thead>\n  <tbody>\n    <tr>\n      <th>13</th>\n      <td>11704</td>\n      <td>michael</td>\n      <td>kast</td>\n      <td></td>\n      <td></td>\n      <td></td>\n      <td>a5cffdd4bce9362fb3a27caeda9ffad6</td>\n      <td>37722.76</td>\n      <td>2012</td>\n      <td>Madisonville CSD</td>\n    </tr>\n    <tr>\n      <th>14</th>\n      <td>11704</td>\n      <td>michael</td>\n      <td>kast</td>\n      <td></td>\n      <td></td>\n      <td></td>\n      <td>a5cffdd4bce9362fb3a27caeda9ffad6</td>\n      <td>34799.84</td>\n      <td>2013</td>\n      <td>Madisonville CSD</td>\n    </tr>\n    <tr>\n      <th>15</th>\n      <td>11704</td>\n      <td>michael</td>\n      <td>kast</td>\n      <td></td>\n      <td></td>\n      <td></td>\n      <td>a5cffdd4bce9362fb3a27caeda9ffad6</td>\n      <td>36448.31</td>\n      <td>2014</td>\n      <td>Madisonville CSD</td>\n    </tr>\n    <tr>\n      <th>16</th>\n      <td>11704</td>\n      <td>michael</td>\n      <td>kast</td>\n      <td></td>\n      <td></td>\n      <td></td>\n      <td>a5cffdd4bce9362fb3a27caeda9ffad6</td>\n      <td>35755.47</td>\n      <td>2015</td>\n      <td>Madisonville CSD</td>\n    </tr>\n    <tr>\n      <th>17</th>\n      <td>11704</td>\n      <td>michael</td>\n      <td>kast</td>\n      <td></td>\n      <td></td>\n      <td></td>\n      <td>a5cffdd4bce9362fb3a27caeda9ffad6</td>\n      <td>35502.84</td>\n      <td>2016</td>\n      <td>Madisonville CSD</td>\n    </tr>\n    <tr>\n      <th>18</th>\n      <td>11704</td>\n      <td>michael</td>\n      <td>kast</td>\n      <td></td>\n      <td></td>\n      <td></td>\n      <td>a5cffdd4bce9362fb3a27caeda9ffad6</td>\n      <td>36162.00</td>\n      <td>2017</td>\n      <td>Madisonville CSD</td>\n    </tr>\n    <tr>\n      <th>19</th>\n      <td>11704</td>\n      <td>michael</td>\n      <td>kast</td>\n      <td></td>\n      <td></td>\n      <td></td>\n      <td>a5cffdd4bce9362fb3a27caeda9ffad6</td>\n      <td>39546.50</td>\n      <td>2018</td>\n      <td>Madisonville CSD</td>\n    </tr>\n    <tr>\n      <th>20</th>\n      <td>11704</td>\n      <td>michael</td>\n      <td>kast</td>\n      <td></td>\n      <td></td>\n      <td></td>\n      <td>a5cffdd4bce9362fb3a27caeda9ffad6</td>\n      <td>38989.57</td>\n      <td>2019</td>\n      <td>Madisonville CSD</td>\n    </tr>\n  </tbody>\n</table>\n</div>"
     },
     "metadata": {},
     "execution_count": 7
    }
   ],
   "source": [
    "pprr[pprr.uid == 'a5cffdd4bce9362fb3a27caeda9ffad6']"
   ]
  },
  {
   "cell_type": "code",
   "execution_count": null,
   "metadata": {},
   "outputs": [],
   "source": []
  }
 ]
}
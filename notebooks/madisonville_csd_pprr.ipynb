{
 "metadata": {
  "language_info": {
   "codemirror_mode": {
    "name": "ipython",
    "version": 3
   },
   "file_extension": ".py",
   "mimetype": "text/x-python",
   "name": "python",
   "nbconvert_exporter": "python",
   "pygments_lexer": "ipython3",
   "version": "3.8.3-final"
  },
  "orig_nbformat": 2,
  "kernelspec": {
   "name": "python3",
   "display_name": "Python 3",
   "language": "python"
  }
 },
 "nbformat": 4,
 "nbformat_minor": 2,
 "cells": [
  {
   "cell_type": "code",
   "execution_count": 1,
   "metadata": {},
   "outputs": [],
   "source": [
    "import sys; sys.path.append(\"../\")\n",
    "\n",
    "import pandas as pd\n",
    "\n",
    "from match.madisonville_pd import match\n",
    "from clean.madisonville_csd_pprr import clean as clean_pprr\n",
    "from clean.madisonville_pd_cprr import clean as clean_cprr"
   ]
  },
  {
   "cell_type": "code",
   "execution_count": 2,
   "metadata": {},
   "outputs": [
    {
     "output_type": "execute_result",
     "data": {
      "text/plain": [
       "   badge_no first_name last_name hire_year hire_month hire_day  \\\n",
       "0     11713    kenneth    bailey      2005          8       13   \n",
       "1     11713    kenneth    bailey      2005          8       13   \n",
       "2     11713    kenneth    bailey      2005          8       13   \n",
       "3     11713    kenneth    bailey      2005          8       13   \n",
       "4     11713    kenneth    bailey      2005          8       13   \n",
       "..      ...        ...       ...       ...        ...      ...   \n",
       "91    11708    leonard  holloway      2018         12        4   \n",
       "92    11708    leonard  holloway      2018         12        4   \n",
       "93    11701     barney    tyrney                                 \n",
       "94    11701     barney    tyrney                                 \n",
       "95    11710       john     dupuy                                 \n",
       "\n",
       "                                 uid  annual_salary data_production_year  \\\n",
       "0   d21e71a16134f5f6a1036e1451913294       41365.94                 2012   \n",
       "1   d21e71a16134f5f6a1036e1451913294       36658.13                 2013   \n",
       "2   d21e71a16134f5f6a1036e1451913294       38276.15                 2014   \n",
       "3   d21e71a16134f5f6a1036e1451913294       38316.92                 2015   \n",
       "4   d21e71a16134f5f6a1036e1451913294        8902.50                 2016   \n",
       "..                               ...            ...                  ...   \n",
       "91  64d446e5085ca8eae7140740d0269f5d        1742.70                 2018   \n",
       "92  64d446e5085ca8eae7140740d0269f5d       32377.95                 2019   \n",
       "93  c5112265f8eaf64a16dc0b1bce99ead2       47282.56                 2018   \n",
       "94  c5112265f8eaf64a16dc0b1bce99ead2       55846.08                 2019   \n",
       "95  987e8c3dfa1a61ae85fc92e38fac8e00       14165.45                 2019   \n",
       "\n",
       "              agency  \n",
       "0   Madisonville CSD  \n",
       "1   Madisonville CSD  \n",
       "2   Madisonville CSD  \n",
       "3   Madisonville CSD  \n",
       "4   Madisonville CSD  \n",
       "..               ...  \n",
       "91  Madisonville CSD  \n",
       "92  Madisonville CSD  \n",
       "93  Madisonville CSD  \n",
       "94  Madisonville CSD  \n",
       "95  Madisonville CSD  \n",
       "\n",
       "[96 rows x 10 columns]"
      ],
      "text/html": "<div>\n<style scoped>\n    .dataframe tbody tr th:only-of-type {\n        vertical-align: middle;\n    }\n\n    .dataframe tbody tr th {\n        vertical-align: top;\n    }\n\n    .dataframe thead th {\n        text-align: right;\n    }\n</style>\n<table border=\"1\" class=\"dataframe\">\n  <thead>\n    <tr style=\"text-align: right;\">\n      <th></th>\n      <th>badge_no</th>\n      <th>first_name</th>\n      <th>last_name</th>\n      <th>hire_year</th>\n      <th>hire_month</th>\n      <th>hire_day</th>\n      <th>uid</th>\n      <th>annual_salary</th>\n      <th>data_production_year</th>\n      <th>agency</th>\n    </tr>\n  </thead>\n  <tbody>\n    <tr>\n      <th>0</th>\n      <td>11713</td>\n      <td>kenneth</td>\n      <td>bailey</td>\n      <td>2005</td>\n      <td>8</td>\n      <td>13</td>\n      <td>d21e71a16134f5f6a1036e1451913294</td>\n      <td>41365.94</td>\n      <td>2012</td>\n      <td>Madisonville CSD</td>\n    </tr>\n    <tr>\n      <th>1</th>\n      <td>11713</td>\n      <td>kenneth</td>\n      <td>bailey</td>\n      <td>2005</td>\n      <td>8</td>\n      <td>13</td>\n      <td>d21e71a16134f5f6a1036e1451913294</td>\n      <td>36658.13</td>\n      <td>2013</td>\n      <td>Madisonville CSD</td>\n    </tr>\n    <tr>\n      <th>2</th>\n      <td>11713</td>\n      <td>kenneth</td>\n      <td>bailey</td>\n      <td>2005</td>\n      <td>8</td>\n      <td>13</td>\n      <td>d21e71a16134f5f6a1036e1451913294</td>\n      <td>38276.15</td>\n      <td>2014</td>\n      <td>Madisonville CSD</td>\n    </tr>\n    <tr>\n      <th>3</th>\n      <td>11713</td>\n      <td>kenneth</td>\n      <td>bailey</td>\n      <td>2005</td>\n      <td>8</td>\n      <td>13</td>\n      <td>d21e71a16134f5f6a1036e1451913294</td>\n      <td>38316.92</td>\n      <td>2015</td>\n      <td>Madisonville CSD</td>\n    </tr>\n    <tr>\n      <th>4</th>\n      <td>11713</td>\n      <td>kenneth</td>\n      <td>bailey</td>\n      <td>2005</td>\n      <td>8</td>\n      <td>13</td>\n      <td>d21e71a16134f5f6a1036e1451913294</td>\n      <td>8902.50</td>\n      <td>2016</td>\n      <td>Madisonville CSD</td>\n    </tr>\n    <tr>\n      <th>...</th>\n      <td>...</td>\n      <td>...</td>\n      <td>...</td>\n      <td>...</td>\n      <td>...</td>\n      <td>...</td>\n      <td>...</td>\n      <td>...</td>\n      <td>...</td>\n      <td>...</td>\n    </tr>\n    <tr>\n      <th>91</th>\n      <td>11708</td>\n      <td>leonard</td>\n      <td>holloway</td>\n      <td>2018</td>\n      <td>12</td>\n      <td>4</td>\n      <td>64d446e5085ca8eae7140740d0269f5d</td>\n      <td>1742.70</td>\n      <td>2018</td>\n      <td>Madisonville CSD</td>\n    </tr>\n    <tr>\n      <th>92</th>\n      <td>11708</td>\n      <td>leonard</td>\n      <td>holloway</td>\n      <td>2018</td>\n      <td>12</td>\n      <td>4</td>\n      <td>64d446e5085ca8eae7140740d0269f5d</td>\n      <td>32377.95</td>\n      <td>2019</td>\n      <td>Madisonville CSD</td>\n    </tr>\n    <tr>\n      <th>93</th>\n      <td>11701</td>\n      <td>barney</td>\n      <td>tyrney</td>\n      <td></td>\n      <td></td>\n      <td></td>\n      <td>c5112265f8eaf64a16dc0b1bce99ead2</td>\n      <td>47282.56</td>\n      <td>2018</td>\n      <td>Madisonville CSD</td>\n    </tr>\n    <tr>\n      <th>94</th>\n      <td>11701</td>\n      <td>barney</td>\n      <td>tyrney</td>\n      <td></td>\n      <td></td>\n      <td></td>\n      <td>c5112265f8eaf64a16dc0b1bce99ead2</td>\n      <td>55846.08</td>\n      <td>2019</td>\n      <td>Madisonville CSD</td>\n    </tr>\n    <tr>\n      <th>95</th>\n      <td>11710</td>\n      <td>john</td>\n      <td>dupuy</td>\n      <td></td>\n      <td></td>\n      <td></td>\n      <td>987e8c3dfa1a61ae85fc92e38fac8e00</td>\n      <td>14165.45</td>\n      <td>2019</td>\n      <td>Madisonville CSD</td>\n    </tr>\n  </tbody>\n</table>\n<p>96 rows × 10 columns</p>\n</div>"
     },
     "metadata": {},
     "execution_count": 2
    }
   ],
   "source": [
    "pprr = clean_pprr()\n",
    "pprr"
   ]
  },
  {
   "cell_type": "code",
   "execution_count": 3,
   "metadata": {},
   "outputs": [
    {
     "output_type": "execute_result",
     "data": {
      "text/plain": [
       "  rank_desc last_name first_name tracking_number complainant_name  \\\n",
       "0   officer  woessner      shawn     12-6478-018     joe mahon jr   \n",
       "1   officer    bailey    kenneth     13-6547-003      becky white   \n",
       "\n",
       "  complainant_sex occur_year occur_month occur_day data_production_year  \\\n",
       "0            male       2012          10        20                 2020   \n",
       "1          female                     11        14                 2020   \n",
       "\n",
       "            agency  \n",
       "0  Madisonville PD  \n",
       "1  Madisonville PD  "
      ],
      "text/html": "<div>\n<style scoped>\n    .dataframe tbody tr th:only-of-type {\n        vertical-align: middle;\n    }\n\n    .dataframe tbody tr th {\n        vertical-align: top;\n    }\n\n    .dataframe thead th {\n        text-align: right;\n    }\n</style>\n<table border=\"1\" class=\"dataframe\">\n  <thead>\n    <tr style=\"text-align: right;\">\n      <th></th>\n      <th>rank_desc</th>\n      <th>last_name</th>\n      <th>first_name</th>\n      <th>tracking_number</th>\n      <th>complainant_name</th>\n      <th>complainant_sex</th>\n      <th>occur_year</th>\n      <th>occur_month</th>\n      <th>occur_day</th>\n      <th>data_production_year</th>\n      <th>agency</th>\n    </tr>\n  </thead>\n  <tbody>\n    <tr>\n      <th>0</th>\n      <td>officer</td>\n      <td>woessner</td>\n      <td>shawn</td>\n      <td>12-6478-018</td>\n      <td>joe mahon jr</td>\n      <td>male</td>\n      <td>2012</td>\n      <td>10</td>\n      <td>20</td>\n      <td>2020</td>\n      <td>Madisonville PD</td>\n    </tr>\n    <tr>\n      <th>1</th>\n      <td>officer</td>\n      <td>bailey</td>\n      <td>kenneth</td>\n      <td>13-6547-003</td>\n      <td>becky white</td>\n      <td>female</td>\n      <td></td>\n      <td>11</td>\n      <td>14</td>\n      <td>2020</td>\n      <td>Madisonville PD</td>\n    </tr>\n  </tbody>\n</table>\n</div>"
     },
     "metadata": {},
     "execution_count": 3
    }
   ],
   "source": [
    "cprr = clean_cprr()\n",
    "cprr"
   ]
  },
  {
   "cell_type": "code",
   "execution_count": 4,
   "metadata": {},
   "outputs": [
    {
     "output_type": "execute_result",
     "data": {
      "text/plain": [
       "  rank_desc tracking_number complainant_name complainant_sex occur_year  \\\n",
       "0   officer     12-6478-018     joe mahon jr            male       2012   \n",
       "1   officer     13-6547-003      becky white          female              \n",
       "\n",
       "  occur_month occur_day data_production_year           agency  \\\n",
       "0          10        20                 2020  Madisonville PD   \n",
       "1          11        14                 2020  Madisonville PD   \n",
       "\n",
       "                                uid  \n",
       "0  db0976c18333f113dc0b56ce42b28af7  \n",
       "1  d21e71a16134f5f6a1036e1451913294  "
      ],
      "text/html": "<div>\n<style scoped>\n    .dataframe tbody tr th:only-of-type {\n        vertical-align: middle;\n    }\n\n    .dataframe tbody tr th {\n        vertical-align: top;\n    }\n\n    .dataframe thead th {\n        text-align: right;\n    }\n</style>\n<table border=\"1\" class=\"dataframe\">\n  <thead>\n    <tr style=\"text-align: right;\">\n      <th></th>\n      <th>rank_desc</th>\n      <th>tracking_number</th>\n      <th>complainant_name</th>\n      <th>complainant_sex</th>\n      <th>occur_year</th>\n      <th>occur_month</th>\n      <th>occur_day</th>\n      <th>data_production_year</th>\n      <th>agency</th>\n      <th>uid</th>\n    </tr>\n  </thead>\n  <tbody>\n    <tr>\n      <th>0</th>\n      <td>officer</td>\n      <td>12-6478-018</td>\n      <td>joe mahon jr</td>\n      <td>male</td>\n      <td>2012</td>\n      <td>10</td>\n      <td>20</td>\n      <td>2020</td>\n      <td>Madisonville PD</td>\n      <td>db0976c18333f113dc0b56ce42b28af7</td>\n    </tr>\n    <tr>\n      <th>1</th>\n      <td>officer</td>\n      <td>13-6547-003</td>\n      <td>becky white</td>\n      <td>female</td>\n      <td></td>\n      <td>11</td>\n      <td>14</td>\n      <td>2020</td>\n      <td>Madisonville PD</td>\n      <td>d21e71a16134f5f6a1036e1451913294</td>\n    </tr>\n  </tbody>\n</table>\n</div>"
     },
     "metadata": {},
     "execution_count": 4
    }
   ],
   "source": [
    "cprr = match(cprr, pprr)\n",
    "cprr"
   ]
  },
  {
   "cell_type": "code",
   "execution_count": null,
   "metadata": {},
   "outputs": [],
   "source": []
  }
 ]
}
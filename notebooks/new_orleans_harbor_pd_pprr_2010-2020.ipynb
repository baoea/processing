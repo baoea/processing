{
 "cells": [
  {
   "cell_type": "code",
   "execution_count": 1,
   "metadata": {},
   "outputs": [],
   "source": [
    "import sys; sys.path.append(\"../\")\n",
    "\n",
    "import pandas as pd\n",
    "\n",
    "from clean.new_orleans_harbor_pd_pprr import clean_personel\n",
    "from lib.columns import rearrange_personel_columns, rearrange_personel_history_columns"
   ]
  },
  {
   "cell_type": "code",
   "execution_count": 2,
   "metadata": {},
   "outputs": [
    {
     "output_type": "execute_result",
     "data": {
      "text/plain": [
       "    first_name last_name              rank_desc   hire_date   term_date  \\\n",
       "0        casey     adams  police sergeant--port  1980-01-31  2010-02-28   \n",
       "1        casey     adams  police sergeant--port  1980-01-31  2010-02-28   \n",
       "2        casey     adams  police sergeant--port  1980-01-31  2010-02-28   \n",
       "3        casey     adams  police sergeant--port  1980-01-31  2010-02-28   \n",
       "4        casey     adams      police sergeant-a  1980-01-31  2010-02-28   \n",
       "..         ...       ...                    ...         ...         ...   \n",
       "910    brianne    waters     police officer 3-a  2001-03-05  2020-05-11   \n",
       "911    brianne    waters      police sergeant-a  2001-03-05  2020-05-11   \n",
       "912    brianne    waters      police sergeant-a  2001-03-05  2020-05-11   \n",
       "913    brianne    waters      police sergeant-a  2001-03-05  2020-05-11   \n",
       "914    brianne    waters      police sergeant-a  2001-03-05  2020-05-11   \n",
       "\n",
       "     hourly_salary middle_initial pay_effective_date  \\\n",
       "0            17.00              m         1997-04-14   \n",
       "1            17.68              m         2003-12-10   \n",
       "2            18.39              m         2004-08-10   \n",
       "3            19.13              m         2005-08-10   \n",
       "4            19.13              m         2005-08-29   \n",
       "..             ...            ...                ...   \n",
       "910          21.60              m         2015-10-01   \n",
       "911          24.34              m         2018-05-14   \n",
       "912          25.07              m         2018-07-15   \n",
       "913          25.07              m         2018-07-15   \n",
       "914          25.82              m         2019-07-15   \n",
       "\n",
       "                                  uid  \n",
       "0    ac49c8119fcc397e1b00941594b68f61  \n",
       "1    ac49c8119fcc397e1b00941594b68f61  \n",
       "2    ac49c8119fcc397e1b00941594b68f61  \n",
       "3    ac49c8119fcc397e1b00941594b68f61  \n",
       "4    ac49c8119fcc397e1b00941594b68f61  \n",
       "..                                ...  \n",
       "910  d9be138289d5fdba1e41f7df1a95aefc  \n",
       "911  d9be138289d5fdba1e41f7df1a95aefc  \n",
       "912  d9be138289d5fdba1e41f7df1a95aefc  \n",
       "913  d9be138289d5fdba1e41f7df1a95aefc  \n",
       "914  d9be138289d5fdba1e41f7df1a95aefc  \n",
       "\n",
       "[915 rows x 9 columns]"
      ],
      "text/html": "<div>\n<style scoped>\n    .dataframe tbody tr th:only-of-type {\n        vertical-align: middle;\n    }\n\n    .dataframe tbody tr th {\n        vertical-align: top;\n    }\n\n    .dataframe thead th {\n        text-align: right;\n    }\n</style>\n<table border=\"1\" class=\"dataframe\">\n  <thead>\n    <tr style=\"text-align: right;\">\n      <th></th>\n      <th>first_name</th>\n      <th>last_name</th>\n      <th>rank_desc</th>\n      <th>hire_date</th>\n      <th>term_date</th>\n      <th>hourly_salary</th>\n      <th>middle_initial</th>\n      <th>pay_effective_date</th>\n      <th>uid</th>\n    </tr>\n  </thead>\n  <tbody>\n    <tr>\n      <th>0</th>\n      <td>casey</td>\n      <td>adams</td>\n      <td>police sergeant--port</td>\n      <td>1980-01-31</td>\n      <td>2010-02-28</td>\n      <td>17.00</td>\n      <td>m</td>\n      <td>1997-04-14</td>\n      <td>ac49c8119fcc397e1b00941594b68f61</td>\n    </tr>\n    <tr>\n      <th>1</th>\n      <td>casey</td>\n      <td>adams</td>\n      <td>police sergeant--port</td>\n      <td>1980-01-31</td>\n      <td>2010-02-28</td>\n      <td>17.68</td>\n      <td>m</td>\n      <td>2003-12-10</td>\n      <td>ac49c8119fcc397e1b00941594b68f61</td>\n    </tr>\n    <tr>\n      <th>2</th>\n      <td>casey</td>\n      <td>adams</td>\n      <td>police sergeant--port</td>\n      <td>1980-01-31</td>\n      <td>2010-02-28</td>\n      <td>18.39</td>\n      <td>m</td>\n      <td>2004-08-10</td>\n      <td>ac49c8119fcc397e1b00941594b68f61</td>\n    </tr>\n    <tr>\n      <th>3</th>\n      <td>casey</td>\n      <td>adams</td>\n      <td>police sergeant--port</td>\n      <td>1980-01-31</td>\n      <td>2010-02-28</td>\n      <td>19.13</td>\n      <td>m</td>\n      <td>2005-08-10</td>\n      <td>ac49c8119fcc397e1b00941594b68f61</td>\n    </tr>\n    <tr>\n      <th>4</th>\n      <td>casey</td>\n      <td>adams</td>\n      <td>police sergeant-a</td>\n      <td>1980-01-31</td>\n      <td>2010-02-28</td>\n      <td>19.13</td>\n      <td>m</td>\n      <td>2005-08-29</td>\n      <td>ac49c8119fcc397e1b00941594b68f61</td>\n    </tr>\n    <tr>\n      <th>...</th>\n      <td>...</td>\n      <td>...</td>\n      <td>...</td>\n      <td>...</td>\n      <td>...</td>\n      <td>...</td>\n      <td>...</td>\n      <td>...</td>\n      <td>...</td>\n    </tr>\n    <tr>\n      <th>910</th>\n      <td>brianne</td>\n      <td>waters</td>\n      <td>police officer 3-a</td>\n      <td>2001-03-05</td>\n      <td>2020-05-11</td>\n      <td>21.60</td>\n      <td>m</td>\n      <td>2015-10-01</td>\n      <td>d9be138289d5fdba1e41f7df1a95aefc</td>\n    </tr>\n    <tr>\n      <th>911</th>\n      <td>brianne</td>\n      <td>waters</td>\n      <td>police sergeant-a</td>\n      <td>2001-03-05</td>\n      <td>2020-05-11</td>\n      <td>24.34</td>\n      <td>m</td>\n      <td>2018-05-14</td>\n      <td>d9be138289d5fdba1e41f7df1a95aefc</td>\n    </tr>\n    <tr>\n      <th>912</th>\n      <td>brianne</td>\n      <td>waters</td>\n      <td>police sergeant-a</td>\n      <td>2001-03-05</td>\n      <td>2020-05-11</td>\n      <td>25.07</td>\n      <td>m</td>\n      <td>2018-07-15</td>\n      <td>d9be138289d5fdba1e41f7df1a95aefc</td>\n    </tr>\n    <tr>\n      <th>913</th>\n      <td>brianne</td>\n      <td>waters</td>\n      <td>police sergeant-a</td>\n      <td>2001-03-05</td>\n      <td>2020-05-11</td>\n      <td>25.07</td>\n      <td>m</td>\n      <td>2018-07-15</td>\n      <td>d9be138289d5fdba1e41f7df1a95aefc</td>\n    </tr>\n    <tr>\n      <th>914</th>\n      <td>brianne</td>\n      <td>waters</td>\n      <td>police sergeant-a</td>\n      <td>2001-03-05</td>\n      <td>2020-05-11</td>\n      <td>25.82</td>\n      <td>m</td>\n      <td>2019-07-15</td>\n      <td>d9be138289d5fdba1e41f7df1a95aefc</td>\n    </tr>\n  </tbody>\n</table>\n<p>915 rows × 9 columns</p>\n</div>"
     },
     "metadata": {},
     "execution_count": 2
    }
   ],
   "source": [
    "df = clean_personel()\n",
    "df"
   ]
  },
  {
   "cell_type": "code",
   "execution_count": 8,
   "metadata": {},
   "outputs": [
    {
     "output_type": "execute_result",
     "data": {
      "text/plain": [
       "            uid    last_name middle_initial first_name\n",
       "0    ac49c8119f        adams              m      casey\n",
       "1    4500bb1616      additon              p    bernard\n",
       "2    3d75f7a67d    allsbrook              l    michael\n",
       "3    b81578b705  anderson jr            NaN     melvin\n",
       "4    25cd1eb87e        arena              p      bryan\n",
       "..          ...          ...            ...        ...\n",
       "113  27d88f2164       walker            NaN    winston\n",
       "114  ec61f23394       walton              m      byron\n",
       "115  2306549e7a   washington              m     ardiel\n",
       "116  753604c68d   washington              w       ryan\n",
       "117  d9be138289       waters              m    brianne\n",
       "\n",
       "[118 rows x 4 columns]"
      ],
      "text/html": "<div>\n<style scoped>\n    .dataframe tbody tr th:only-of-type {\n        vertical-align: middle;\n    }\n\n    .dataframe tbody tr th {\n        vertical-align: top;\n    }\n\n    .dataframe thead th {\n        text-align: right;\n    }\n</style>\n<table border=\"1\" class=\"dataframe\">\n  <thead>\n    <tr style=\"text-align: right;\">\n      <th></th>\n      <th>uid</th>\n      <th>last_name</th>\n      <th>middle_initial</th>\n      <th>first_name</th>\n    </tr>\n  </thead>\n  <tbody>\n    <tr>\n      <th>0</th>\n      <td>ac49c8119f</td>\n      <td>adams</td>\n      <td>m</td>\n      <td>casey</td>\n    </tr>\n    <tr>\n      <th>1</th>\n      <td>4500bb1616</td>\n      <td>additon</td>\n      <td>p</td>\n      <td>bernard</td>\n    </tr>\n    <tr>\n      <th>2</th>\n      <td>3d75f7a67d</td>\n      <td>allsbrook</td>\n      <td>l</td>\n      <td>michael</td>\n    </tr>\n    <tr>\n      <th>3</th>\n      <td>b81578b705</td>\n      <td>anderson jr</td>\n      <td>NaN</td>\n      <td>melvin</td>\n    </tr>\n    <tr>\n      <th>4</th>\n      <td>25cd1eb87e</td>\n      <td>arena</td>\n      <td>p</td>\n      <td>bryan</td>\n    </tr>\n    <tr>\n      <th>...</th>\n      <td>...</td>\n      <td>...</td>\n      <td>...</td>\n      <td>...</td>\n    </tr>\n    <tr>\n      <th>113</th>\n      <td>27d88f2164</td>\n      <td>walker</td>\n      <td>NaN</td>\n      <td>winston</td>\n    </tr>\n    <tr>\n      <th>114</th>\n      <td>ec61f23394</td>\n      <td>walton</td>\n      <td>m</td>\n      <td>byron</td>\n    </tr>\n    <tr>\n      <th>115</th>\n      <td>2306549e7a</td>\n      <td>washington</td>\n      <td>m</td>\n      <td>ardiel</td>\n    </tr>\n    <tr>\n      <th>116</th>\n      <td>753604c68d</td>\n      <td>washington</td>\n      <td>w</td>\n      <td>ryan</td>\n    </tr>\n    <tr>\n      <th>117</th>\n      <td>d9be138289</td>\n      <td>waters</td>\n      <td>m</td>\n      <td>brianne</td>\n    </tr>\n  </tbody>\n</table>\n<p>118 rows × 4 columns</p>\n</div>"
     },
     "metadata": {},
     "execution_count": 8
    }
   ],
   "source": [
    "rearrange_personel_columns(df)"
   ]
  },
  {
   "cell_type": "code",
   "execution_count": 9,
   "metadata": {},
   "outputs": [
    {
     "output_type": "execute_result",
     "data": {
      "text/plain": [
       "array(['police sergeant--port', 'police sergeant-a', 'police officer 1-a',\n",
       "       'police officer 2--port', 'police officer 2-a',\n",
       "       'police officer 3-a', 'police officer 1--port',\n",
       "       'police corporal--port', 'police lieutenant-a',\n",
       "       'police lieutenant--port', 'policy planner 4',\n",
       "       'police chief--port', 'police chief-a', 'admin specialist 2',\n",
       "       'admin program specialist--a', 'police captain-a',\n",
       "       'police captain--port'], dtype=object)"
      ]
     },
     "metadata": {},
     "execution_count": 9
    }
   ],
   "source": [
    "hist = rearrange_personel_history_columns(df)\n",
    "hist.rank_desc.unique()"
   ]
  },
  {
   "cell_type": "code",
   "execution_count": null,
   "metadata": {},
   "outputs": [],
   "source": []
  }
 ],
 "metadata": {
  "kernelspec": {
   "display_name": "Python 3",
   "language": "python",
   "name": "python3"
  },
  "language_info": {
   "codemirror_mode": {
    "name": "ipython",
    "version": 3
   },
   "file_extension": ".py",
   "mimetype": "text/x-python",
   "name": "python",
   "nbconvert_exporter": "python",
   "pygments_lexer": "ipython3",
   "version": "3.8.3-final"
  }
 },
 "nbformat": 4,
 "nbformat_minor": 4
}
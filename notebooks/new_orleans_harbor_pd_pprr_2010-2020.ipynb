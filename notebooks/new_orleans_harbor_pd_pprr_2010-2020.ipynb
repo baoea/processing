{
 "cells": [
  {
   "cell_type": "code",
   "execution_count": 1,
   "metadata": {},
   "outputs": [],
   "source": [
    "import sys; sys.path.append(\"../\")\n",
    "\n",
    "import pandas as pd\n",
    "\n",
    "from lib.match import (\n",
    "    ColumnsIndex, JaroWinklerSimilarity, StringSimilarity, DateSimilarity, ThresholdMatcher\n",
    ")\n",
    "from lib.date import combine_date_columns\n",
    "from clean.new_orleans_harbor_pd_pprr import clean_personnel_2008, clean_personnel_2020\n",
    "from match.new_orleans_harbor_pd import prepare_post_data, match_uid_with_cprr\n",
    "from lib.columns import rearrange_personnel_columns, rearrange_personnel_history_columns"
   ]
  },
  {
   "cell_type": "code",
   "execution_count": 2,
   "metadata": {},
   "outputs": [
    {
     "output_type": "stream",
     "name": "stderr",
     "text": [
      "/Users/khoipham/opt/anaconda3/lib/python3.8/site-packages/pandas/core/frame.py:4438: SettingWithCopyWarning: \nA value is trying to be set on a copy of a slice from a DataFrame\n\nSee the caveats in the documentation: https://pandas.pydata.org/pandas-docs/stable/user_guide/indexing.html#returning-a-view-versus-a-copy\n  return super().rename(\n../lib/clean.py:166: FutureWarning: The default value of regex will change from True to False in a future version.\n  return series.str.strip().str.replace(r\"[^\\w-]+\", \" \").str.replace(r\"\\s+\", \" \")\\\n/Users/khoipham/opt/anaconda3/lib/python3.8/site-packages/pandas/core/indexing.py:1842: SettingWithCopyWarning: \nA value is trying to be set on a copy of a slice from a DataFrame.\nTry using .loc[row_indexer,col_indexer] = value instead\n\nSee the caveats in the documentation: https://pandas.pydata.org/pandas-docs/stable/user_guide/indexing.html#returning-a-view-versus-a-copy\n  self.obj[item_labels[indexer[info_axis]]] = value\n../lib/clean.py:156: FutureWarning: The default value of regex will change from True to False in a future version.\n  return series.str.strip().str.replace(r\"[^\\d\\.]\", \"\").astype(\"float64\")\n"
     ]
    },
    {
     "output_type": "execute_result",
     "data": {
      "text/plain": [
       "    first_name last_name              rank_desc  hourly_salary middle_initial  \\\n",
       "0        casey     adams  police sergeant--port          17.00              m   \n",
       "1        casey     adams  police sergeant--port          17.68              m   \n",
       "2        casey     adams  police sergeant--port          18.39              m   \n",
       "3        casey     adams  police sergeant--port          19.13              m   \n",
       "4        casey     adams      police sergeant-a          19.13              m   \n",
       "..         ...       ...                    ...            ...            ...   \n",
       "910    brianne    waters     police officer 3-a          21.60              m   \n",
       "911    brianne    waters      police sergeant-a          24.34              m   \n",
       "912    brianne    waters      police sergeant-a          25.07              m   \n",
       "913    brianne    waters      police sergeant-a          25.07              m   \n",
       "914    brianne    waters      police sergeant-a          25.82              m   \n",
       "\n",
       "    term_year term_month term_day hire_year hire_month hire_day  \\\n",
       "0        2010          2       28      1980          1       31   \n",
       "1        2010          2       28      1980          1       31   \n",
       "2        2010          2       28      1980          1       31   \n",
       "3        2010          2       28      1980          1       31   \n",
       "4        2010          2       28      1980          1       31   \n",
       "..        ...        ...      ...       ...        ...      ...   \n",
       "910      2020          5       11      2001          3        5   \n",
       "911      2020          5       11      2001          3        5   \n",
       "912      2020          5       11      2001          3        5   \n",
       "913      2020          5       11      2001          3        5   \n",
       "914      2020          5       11      2001          3        5   \n",
       "\n",
       "    pay_effective_year pay_effective_month pay_effective_day  \\\n",
       "0                 1997                   4                14   \n",
       "1                 2003                  12                10   \n",
       "2                 2004                   8                10   \n",
       "3                 2005                   8                10   \n",
       "4                 2005                   8                29   \n",
       "..                 ...                 ...               ...   \n",
       "910               2015                  10                 1   \n",
       "911               2018                   5                14   \n",
       "912               2018                   7                15   \n",
       "913               2018                   7                15   \n",
       "914               2019                   7                15   \n",
       "\n",
       "                                  uid                 agency  \\\n",
       "0    0e62eddff885ed636a82cd726b390596  New Orleans Harbor PD   \n",
       "1    0e62eddff885ed636a82cd726b390596  New Orleans Harbor PD   \n",
       "2    0e62eddff885ed636a82cd726b390596  New Orleans Harbor PD   \n",
       "3    0e62eddff885ed636a82cd726b390596  New Orleans Harbor PD   \n",
       "4    0e62eddff885ed636a82cd726b390596  New Orleans Harbor PD   \n",
       "..                                ...                    ...   \n",
       "910  b1014901a4b7ddee9ecd880405127d81  New Orleans Harbor PD   \n",
       "911  b1014901a4b7ddee9ecd880405127d81  New Orleans Harbor PD   \n",
       "912  b1014901a4b7ddee9ecd880405127d81  New Orleans Harbor PD   \n",
       "913  b1014901a4b7ddee9ecd880405127d81  New Orleans Harbor PD   \n",
       "914  b1014901a4b7ddee9ecd880405127d81  New Orleans Harbor PD   \n",
       "\n",
       "     data_production_year  \n",
       "0                    2020  \n",
       "1                    2020  \n",
       "2                    2020  \n",
       "3                    2020  \n",
       "4                    2020  \n",
       "..                    ...  \n",
       "910                  2020  \n",
       "911                  2020  \n",
       "912                  2020  \n",
       "913                  2020  \n",
       "914                  2020  \n",
       "\n",
       "[915 rows x 17 columns]"
      ],
      "text/html": "<div>\n<style scoped>\n    .dataframe tbody tr th:only-of-type {\n        vertical-align: middle;\n    }\n\n    .dataframe tbody tr th {\n        vertical-align: top;\n    }\n\n    .dataframe thead th {\n        text-align: right;\n    }\n</style>\n<table border=\"1\" class=\"dataframe\">\n  <thead>\n    <tr style=\"text-align: right;\">\n      <th></th>\n      <th>first_name</th>\n      <th>last_name</th>\n      <th>rank_desc</th>\n      <th>hourly_salary</th>\n      <th>middle_initial</th>\n      <th>term_year</th>\n      <th>term_month</th>\n      <th>term_day</th>\n      <th>hire_year</th>\n      <th>hire_month</th>\n      <th>hire_day</th>\n      <th>pay_effective_year</th>\n      <th>pay_effective_month</th>\n      <th>pay_effective_day</th>\n      <th>uid</th>\n      <th>agency</th>\n      <th>data_production_year</th>\n    </tr>\n  </thead>\n  <tbody>\n    <tr>\n      <th>0</th>\n      <td>casey</td>\n      <td>adams</td>\n      <td>police sergeant--port</td>\n      <td>17.00</td>\n      <td>m</td>\n      <td>2010</td>\n      <td>2</td>\n      <td>28</td>\n      <td>1980</td>\n      <td>1</td>\n      <td>31</td>\n      <td>1997</td>\n      <td>4</td>\n      <td>14</td>\n      <td>0e62eddff885ed636a82cd726b390596</td>\n      <td>New Orleans Harbor PD</td>\n      <td>2020</td>\n    </tr>\n    <tr>\n      <th>1</th>\n      <td>casey</td>\n      <td>adams</td>\n      <td>police sergeant--port</td>\n      <td>17.68</td>\n      <td>m</td>\n      <td>2010</td>\n      <td>2</td>\n      <td>28</td>\n      <td>1980</td>\n      <td>1</td>\n      <td>31</td>\n      <td>2003</td>\n      <td>12</td>\n      <td>10</td>\n      <td>0e62eddff885ed636a82cd726b390596</td>\n      <td>New Orleans Harbor PD</td>\n      <td>2020</td>\n    </tr>\n    <tr>\n      <th>2</th>\n      <td>casey</td>\n      <td>adams</td>\n      <td>police sergeant--port</td>\n      <td>18.39</td>\n      <td>m</td>\n      <td>2010</td>\n      <td>2</td>\n      <td>28</td>\n      <td>1980</td>\n      <td>1</td>\n      <td>31</td>\n      <td>2004</td>\n      <td>8</td>\n      <td>10</td>\n      <td>0e62eddff885ed636a82cd726b390596</td>\n      <td>New Orleans Harbor PD</td>\n      <td>2020</td>\n    </tr>\n    <tr>\n      <th>3</th>\n      <td>casey</td>\n      <td>adams</td>\n      <td>police sergeant--port</td>\n      <td>19.13</td>\n      <td>m</td>\n      <td>2010</td>\n      <td>2</td>\n      <td>28</td>\n      <td>1980</td>\n      <td>1</td>\n      <td>31</td>\n      <td>2005</td>\n      <td>8</td>\n      <td>10</td>\n      <td>0e62eddff885ed636a82cd726b390596</td>\n      <td>New Orleans Harbor PD</td>\n      <td>2020</td>\n    </tr>\n    <tr>\n      <th>4</th>\n      <td>casey</td>\n      <td>adams</td>\n      <td>police sergeant-a</td>\n      <td>19.13</td>\n      <td>m</td>\n      <td>2010</td>\n      <td>2</td>\n      <td>28</td>\n      <td>1980</td>\n      <td>1</td>\n      <td>31</td>\n      <td>2005</td>\n      <td>8</td>\n      <td>29</td>\n      <td>0e62eddff885ed636a82cd726b390596</td>\n      <td>New Orleans Harbor PD</td>\n      <td>2020</td>\n    </tr>\n    <tr>\n      <th>...</th>\n      <td>...</td>\n      <td>...</td>\n      <td>...</td>\n      <td>...</td>\n      <td>...</td>\n      <td>...</td>\n      <td>...</td>\n      <td>...</td>\n      <td>...</td>\n      <td>...</td>\n      <td>...</td>\n      <td>...</td>\n      <td>...</td>\n      <td>...</td>\n      <td>...</td>\n      <td>...</td>\n      <td>...</td>\n    </tr>\n    <tr>\n      <th>910</th>\n      <td>brianne</td>\n      <td>waters</td>\n      <td>police officer 3-a</td>\n      <td>21.60</td>\n      <td>m</td>\n      <td>2020</td>\n      <td>5</td>\n      <td>11</td>\n      <td>2001</td>\n      <td>3</td>\n      <td>5</td>\n      <td>2015</td>\n      <td>10</td>\n      <td>1</td>\n      <td>b1014901a4b7ddee9ecd880405127d81</td>\n      <td>New Orleans Harbor PD</td>\n      <td>2020</td>\n    </tr>\n    <tr>\n      <th>911</th>\n      <td>brianne</td>\n      <td>waters</td>\n      <td>police sergeant-a</td>\n      <td>24.34</td>\n      <td>m</td>\n      <td>2020</td>\n      <td>5</td>\n      <td>11</td>\n      <td>2001</td>\n      <td>3</td>\n      <td>5</td>\n      <td>2018</td>\n      <td>5</td>\n      <td>14</td>\n      <td>b1014901a4b7ddee9ecd880405127d81</td>\n      <td>New Orleans Harbor PD</td>\n      <td>2020</td>\n    </tr>\n    <tr>\n      <th>912</th>\n      <td>brianne</td>\n      <td>waters</td>\n      <td>police sergeant-a</td>\n      <td>25.07</td>\n      <td>m</td>\n      <td>2020</td>\n      <td>5</td>\n      <td>11</td>\n      <td>2001</td>\n      <td>3</td>\n      <td>5</td>\n      <td>2018</td>\n      <td>7</td>\n      <td>15</td>\n      <td>b1014901a4b7ddee9ecd880405127d81</td>\n      <td>New Orleans Harbor PD</td>\n      <td>2020</td>\n    </tr>\n    <tr>\n      <th>913</th>\n      <td>brianne</td>\n      <td>waters</td>\n      <td>police sergeant-a</td>\n      <td>25.07</td>\n      <td>m</td>\n      <td>2020</td>\n      <td>5</td>\n      <td>11</td>\n      <td>2001</td>\n      <td>3</td>\n      <td>5</td>\n      <td>2018</td>\n      <td>7</td>\n      <td>15</td>\n      <td>b1014901a4b7ddee9ecd880405127d81</td>\n      <td>New Orleans Harbor PD</td>\n      <td>2020</td>\n    </tr>\n    <tr>\n      <th>914</th>\n      <td>brianne</td>\n      <td>waters</td>\n      <td>police sergeant-a</td>\n      <td>25.82</td>\n      <td>m</td>\n      <td>2020</td>\n      <td>5</td>\n      <td>11</td>\n      <td>2001</td>\n      <td>3</td>\n      <td>5</td>\n      <td>2019</td>\n      <td>7</td>\n      <td>15</td>\n      <td>b1014901a4b7ddee9ecd880405127d81</td>\n      <td>New Orleans Harbor PD</td>\n      <td>2020</td>\n    </tr>\n  </tbody>\n</table>\n<p>915 rows × 17 columns</p>\n</div>"
     },
     "metadata": {},
     "execution_count": 2
    }
   ],
   "source": [
    "df20 = clean_personnel_2020()\n",
    "df20"
   ]
  },
  {
   "cell_type": "code",
   "execution_count": 3,
   "metadata": {},
   "outputs": [
    {
     "output_type": "stream",
     "name": "stderr",
     "text": [
      "../lib/clean.py:166: FutureWarning: The default value of regex will change from True to False in a future version.\n  return series.str.strip().str.replace(r\"[^\\w-]+\", \" \").str.replace(r\"\\s+\", \" \")\\\n../lib/clean.py:156: FutureWarning: The default value of regex will change from True to False in a future version.\n  return series.str.strip().str.replace(r\"[^\\d\\.]\", \"\").astype(\"float64\")\n"
     ]
    },
    {
     "output_type": "execute_result",
     "data": {
      "text/plain": [
       "    first_name middle_initial  last_name                rank_desc  \\\n",
       "0        gregg              j    wanciak   police officer 2--port   \n",
       "1        david              c    forchia   police officer 2--port   \n",
       "2       ronald              j  scully jr   police officer 2--port   \n",
       "3       albert              j      perry  police lieutenant--port   \n",
       "4        james              b    bingham   police officer 2--port   \n",
       "..         ...            ...        ...                      ...   \n",
       "164     robert              w    lincoln       police officer 3-a   \n",
       "165     robert              w    lincoln       police officer 3-a   \n",
       "166     robert              w    lincoln       police officer 3-a   \n",
       "167     robert              w    lincoln       police officer 3-a   \n",
       "168     robert              w    lincoln       police officer 3-a   \n",
       "\n",
       "     hourly_salary hire_year hire_month hire_day term_year term_month  \\\n",
       "0             6.63      1990         11        9      1991          3   \n",
       "1             9.74      1980          3       13      1991          4   \n",
       "2             6.89      1990          4       14      1991          5   \n",
       "3            12.33      1973          8       30      1991          9   \n",
       "4             7.98      1989          1       30      1991          9   \n",
       "..             ...       ...        ...      ...       ...        ...   \n",
       "164          15.89      1997          8        4      2008         12   \n",
       "165          16.53      1997          8        4      2008         12   \n",
       "166          17.25      1997          8        4      2008         12   \n",
       "167          18.98      1997          8        4      2008         12   \n",
       "168          19.74      1997          8        4      2008         12   \n",
       "\n",
       "    term_day pay_effective_year pay_effective_month pay_effective_day  \\\n",
       "0         29               1991                   3                29   \n",
       "1         26               1991                   4                26   \n",
       "2          9               1991                   5                 9   \n",
       "3         12               1991                   9                12   \n",
       "4         23               1991                   9                23   \n",
       "..       ...                ...                 ...               ...   \n",
       "164       15               2006                   2                 4   \n",
       "165       15               2007                   2                 4   \n",
       "166       15               2007                   7                 1   \n",
       "167       15               2007                  11                 1   \n",
       "168       15               2008                   2                 4   \n",
       "\n",
       "                    agency  data_production_year  \\\n",
       "0    New Orleans Harbor PD                  2008   \n",
       "1    New Orleans Harbor PD                  2008   \n",
       "2    New Orleans Harbor PD                  2008   \n",
       "3    New Orleans Harbor PD                  2008   \n",
       "4    New Orleans Harbor PD                  2008   \n",
       "..                     ...                   ...   \n",
       "164  New Orleans Harbor PD                  2008   \n",
       "165  New Orleans Harbor PD                  2008   \n",
       "166  New Orleans Harbor PD                  2008   \n",
       "167  New Orleans Harbor PD                  2008   \n",
       "168  New Orleans Harbor PD                  2008   \n",
       "\n",
       "                                  uid  \n",
       "0    f4840b946dd5a85d51e5005995f31924  \n",
       "1    52dc0a6aae3cbedb6ed08b62df2cd3db  \n",
       "2    f100f89da914eaaa8d1e92d73dfd2da4  \n",
       "3    0e51be31402e56750127160ed6f914e9  \n",
       "4    74fbc9c91b06481b5b2ca88bdcc32a6f  \n",
       "..                                ...  \n",
       "164  9f8d86f6e844de7b7371123cc6c7b704  \n",
       "165  9f8d86f6e844de7b7371123cc6c7b704  \n",
       "166  9f8d86f6e844de7b7371123cc6c7b704  \n",
       "167  9f8d86f6e844de7b7371123cc6c7b704  \n",
       "168  9f8d86f6e844de7b7371123cc6c7b704  \n",
       "\n",
       "[169 rows x 17 columns]"
      ],
      "text/html": "<div>\n<style scoped>\n    .dataframe tbody tr th:only-of-type {\n        vertical-align: middle;\n    }\n\n    .dataframe tbody tr th {\n        vertical-align: top;\n    }\n\n    .dataframe thead th {\n        text-align: right;\n    }\n</style>\n<table border=\"1\" class=\"dataframe\">\n  <thead>\n    <tr style=\"text-align: right;\">\n      <th></th>\n      <th>first_name</th>\n      <th>middle_initial</th>\n      <th>last_name</th>\n      <th>rank_desc</th>\n      <th>hourly_salary</th>\n      <th>hire_year</th>\n      <th>hire_month</th>\n      <th>hire_day</th>\n      <th>term_year</th>\n      <th>term_month</th>\n      <th>term_day</th>\n      <th>pay_effective_year</th>\n      <th>pay_effective_month</th>\n      <th>pay_effective_day</th>\n      <th>agency</th>\n      <th>data_production_year</th>\n      <th>uid</th>\n    </tr>\n  </thead>\n  <tbody>\n    <tr>\n      <th>0</th>\n      <td>gregg</td>\n      <td>j</td>\n      <td>wanciak</td>\n      <td>police officer 2--port</td>\n      <td>6.63</td>\n      <td>1990</td>\n      <td>11</td>\n      <td>9</td>\n      <td>1991</td>\n      <td>3</td>\n      <td>29</td>\n      <td>1991</td>\n      <td>3</td>\n      <td>29</td>\n      <td>New Orleans Harbor PD</td>\n      <td>2008</td>\n      <td>f4840b946dd5a85d51e5005995f31924</td>\n    </tr>\n    <tr>\n      <th>1</th>\n      <td>david</td>\n      <td>c</td>\n      <td>forchia</td>\n      <td>police officer 2--port</td>\n      <td>9.74</td>\n      <td>1980</td>\n      <td>3</td>\n      <td>13</td>\n      <td>1991</td>\n      <td>4</td>\n      <td>26</td>\n      <td>1991</td>\n      <td>4</td>\n      <td>26</td>\n      <td>New Orleans Harbor PD</td>\n      <td>2008</td>\n      <td>52dc0a6aae3cbedb6ed08b62df2cd3db</td>\n    </tr>\n    <tr>\n      <th>2</th>\n      <td>ronald</td>\n      <td>j</td>\n      <td>scully jr</td>\n      <td>police officer 2--port</td>\n      <td>6.89</td>\n      <td>1990</td>\n      <td>4</td>\n      <td>14</td>\n      <td>1991</td>\n      <td>5</td>\n      <td>9</td>\n      <td>1991</td>\n      <td>5</td>\n      <td>9</td>\n      <td>New Orleans Harbor PD</td>\n      <td>2008</td>\n      <td>f100f89da914eaaa8d1e92d73dfd2da4</td>\n    </tr>\n    <tr>\n      <th>3</th>\n      <td>albert</td>\n      <td>j</td>\n      <td>perry</td>\n      <td>police lieutenant--port</td>\n      <td>12.33</td>\n      <td>1973</td>\n      <td>8</td>\n      <td>30</td>\n      <td>1991</td>\n      <td>9</td>\n      <td>12</td>\n      <td>1991</td>\n      <td>9</td>\n      <td>12</td>\n      <td>New Orleans Harbor PD</td>\n      <td>2008</td>\n      <td>0e51be31402e56750127160ed6f914e9</td>\n    </tr>\n    <tr>\n      <th>4</th>\n      <td>james</td>\n      <td>b</td>\n      <td>bingham</td>\n      <td>police officer 2--port</td>\n      <td>7.98</td>\n      <td>1989</td>\n      <td>1</td>\n      <td>30</td>\n      <td>1991</td>\n      <td>9</td>\n      <td>23</td>\n      <td>1991</td>\n      <td>9</td>\n      <td>23</td>\n      <td>New Orleans Harbor PD</td>\n      <td>2008</td>\n      <td>74fbc9c91b06481b5b2ca88bdcc32a6f</td>\n    </tr>\n    <tr>\n      <th>...</th>\n      <td>...</td>\n      <td>...</td>\n      <td>...</td>\n      <td>...</td>\n      <td>...</td>\n      <td>...</td>\n      <td>...</td>\n      <td>...</td>\n      <td>...</td>\n      <td>...</td>\n      <td>...</td>\n      <td>...</td>\n      <td>...</td>\n      <td>...</td>\n      <td>...</td>\n      <td>...</td>\n      <td>...</td>\n    </tr>\n    <tr>\n      <th>164</th>\n      <td>robert</td>\n      <td>w</td>\n      <td>lincoln</td>\n      <td>police officer 3-a</td>\n      <td>15.89</td>\n      <td>1997</td>\n      <td>8</td>\n      <td>4</td>\n      <td>2008</td>\n      <td>12</td>\n      <td>15</td>\n      <td>2006</td>\n      <td>2</td>\n      <td>4</td>\n      <td>New Orleans Harbor PD</td>\n      <td>2008</td>\n      <td>9f8d86f6e844de7b7371123cc6c7b704</td>\n    </tr>\n    <tr>\n      <th>165</th>\n      <td>robert</td>\n      <td>w</td>\n      <td>lincoln</td>\n      <td>police officer 3-a</td>\n      <td>16.53</td>\n      <td>1997</td>\n      <td>8</td>\n      <td>4</td>\n      <td>2008</td>\n      <td>12</td>\n      <td>15</td>\n      <td>2007</td>\n      <td>2</td>\n      <td>4</td>\n      <td>New Orleans Harbor PD</td>\n      <td>2008</td>\n      <td>9f8d86f6e844de7b7371123cc6c7b704</td>\n    </tr>\n    <tr>\n      <th>166</th>\n      <td>robert</td>\n      <td>w</td>\n      <td>lincoln</td>\n      <td>police officer 3-a</td>\n      <td>17.25</td>\n      <td>1997</td>\n      <td>8</td>\n      <td>4</td>\n      <td>2008</td>\n      <td>12</td>\n      <td>15</td>\n      <td>2007</td>\n      <td>7</td>\n      <td>1</td>\n      <td>New Orleans Harbor PD</td>\n      <td>2008</td>\n      <td>9f8d86f6e844de7b7371123cc6c7b704</td>\n    </tr>\n    <tr>\n      <th>167</th>\n      <td>robert</td>\n      <td>w</td>\n      <td>lincoln</td>\n      <td>police officer 3-a</td>\n      <td>18.98</td>\n      <td>1997</td>\n      <td>8</td>\n      <td>4</td>\n      <td>2008</td>\n      <td>12</td>\n      <td>15</td>\n      <td>2007</td>\n      <td>11</td>\n      <td>1</td>\n      <td>New Orleans Harbor PD</td>\n      <td>2008</td>\n      <td>9f8d86f6e844de7b7371123cc6c7b704</td>\n    </tr>\n    <tr>\n      <th>168</th>\n      <td>robert</td>\n      <td>w</td>\n      <td>lincoln</td>\n      <td>police officer 3-a</td>\n      <td>19.74</td>\n      <td>1997</td>\n      <td>8</td>\n      <td>4</td>\n      <td>2008</td>\n      <td>12</td>\n      <td>15</td>\n      <td>2008</td>\n      <td>2</td>\n      <td>4</td>\n      <td>New Orleans Harbor PD</td>\n      <td>2008</td>\n      <td>9f8d86f6e844de7b7371123cc6c7b704</td>\n    </tr>\n  </tbody>\n</table>\n<p>169 rows × 17 columns</p>\n</div>"
     },
     "metadata": {},
     "execution_count": 3
    }
   ],
   "source": [
    "df08 = clean_personnel_2008()\n",
    "df08"
   ]
  },
  {
   "cell_type": "code",
   "execution_count": 6,
   "metadata": {},
   "outputs": [],
   "source": [
    "cprr = pd.read_csv(\"../data/clean/cprr_new_orleans_harbor_pd_2020.csv\")\n",
    "matcher = match_uid_with_cprr(cprr, df20)"
   ]
  },
  {
   "cell_type": "code",
   "execution_count": 7,
   "metadata": {},
   "outputs": [
    {
     "output_type": "execute_result",
     "data": {
      "text/plain": [
       "                                                                first_name  \\\n",
       "score_range pair_idx sim_score row_key                                       \n",
       "1.00-0.95   0        1.000000  c550f567113a27df7d07ea462fb1a5a5      bryan   \n",
       "                               e6278fa24d4f3a03c7b1fc41f07dd6de      bryan   \n",
       "            1        1.000000  e0afe1e6553097708bcd87c772cc4141     howard   \n",
       "                               2e448f6aba55cd31091991480f1af231     howard   \n",
       "            2        0.969254  9d9e4d8548e120eee8f80b9a459e7b5a      lamus   \n",
       "                               cac9967e392f4edf4da41c4e478f96b5      lamus   \n",
       "\n",
       "                                                                last_name fc  \n",
       "score_range pair_idx sim_score row_key                                        \n",
       "1.00-0.95   0        1.000000  c550f567113a27df7d07ea462fb1a5a5     arena  b  \n",
       "                               e6278fa24d4f3a03c7b1fc41f07dd6de     arena  b  \n",
       "            1        1.000000  e0afe1e6553097708bcd87c772cc4141  dennison  h  \n",
       "                               2e448f6aba55cd31091991480f1af231  dennison  h  \n",
       "            2        0.969254  9d9e4d8548e120eee8f80b9a459e7b5a     lundy  l  \n",
       "                               cac9967e392f4edf4da41c4e478f96b5  lundy jr  l  "
      ],
      "text/html": "<div>\n<style scoped>\n    .dataframe tbody tr th:only-of-type {\n        vertical-align: middle;\n    }\n\n    .dataframe tbody tr th {\n        vertical-align: top;\n    }\n\n    .dataframe thead th {\n        text-align: right;\n    }\n</style>\n<table border=\"1\" class=\"dataframe\">\n  <thead>\n    <tr style=\"text-align: right;\">\n      <th></th>\n      <th></th>\n      <th></th>\n      <th></th>\n      <th>first_name</th>\n      <th>last_name</th>\n      <th>fc</th>\n    </tr>\n    <tr>\n      <th>score_range</th>\n      <th>pair_idx</th>\n      <th>sim_score</th>\n      <th>row_key</th>\n      <th></th>\n      <th></th>\n      <th></th>\n    </tr>\n  </thead>\n  <tbody>\n    <tr>\n      <th rowspan=\"6\" valign=\"top\">1.00-0.95</th>\n      <th rowspan=\"2\" valign=\"top\">0</th>\n      <th rowspan=\"2\" valign=\"top\">1.000000</th>\n      <th>c550f567113a27df7d07ea462fb1a5a5</th>\n      <td>bryan</td>\n      <td>arena</td>\n      <td>b</td>\n    </tr>\n    <tr>\n      <th>e6278fa24d4f3a03c7b1fc41f07dd6de</th>\n      <td>bryan</td>\n      <td>arena</td>\n      <td>b</td>\n    </tr>\n    <tr>\n      <th rowspan=\"2\" valign=\"top\">1</th>\n      <th rowspan=\"2\" valign=\"top\">1.000000</th>\n      <th>e0afe1e6553097708bcd87c772cc4141</th>\n      <td>howard</td>\n      <td>dennison</td>\n      <td>h</td>\n    </tr>\n    <tr>\n      <th>2e448f6aba55cd31091991480f1af231</th>\n      <td>howard</td>\n      <td>dennison</td>\n      <td>h</td>\n    </tr>\n    <tr>\n      <th rowspan=\"2\" valign=\"top\">2</th>\n      <th rowspan=\"2\" valign=\"top\">0.969254</th>\n      <th>9d9e4d8548e120eee8f80b9a459e7b5a</th>\n      <td>lamus</td>\n      <td>lundy</td>\n      <td>l</td>\n    </tr>\n    <tr>\n      <th>cac9967e392f4edf4da41c4e478f96b5</th>\n      <td>lamus</td>\n      <td>lundy jr</td>\n      <td>l</td>\n    </tr>\n  </tbody>\n</table>\n</div>"
     },
     "metadata": {},
     "execution_count": 7
    }
   ],
   "source": [
    "matcher.get_sample_pairs()"
   ]
  },
  {
   "cell_type": "code",
   "execution_count": null,
   "metadata": {},
   "outputs": [],
   "source": []
  }
 ],
 "metadata": {
  "kernelspec": {
   "name": "python383jvsc74a57bd0759d03fc00c4e55187619d7bc1e0b6a3309d14c7c00d43a321634150e05678f8",
   "display_name": "Python 3.8.3 64-bit ('base': conda)"
  },
  "language_info": {
   "codemirror_mode": {
    "name": "ipython",
    "version": 3
   },
   "file_extension": ".py",
   "mimetype": "text/x-python",
   "name": "python",
   "nbconvert_exporter": "python",
   "pygments_lexer": "ipython3",
   "version": "3.8.3-final"
  }
 },
 "nbformat": 4,
 "nbformat_minor": 4
}
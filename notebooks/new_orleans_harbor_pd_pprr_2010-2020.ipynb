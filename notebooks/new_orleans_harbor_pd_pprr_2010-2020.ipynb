{
 "cells": [
  {
   "cell_type": "code",
   "execution_count": 1,
   "metadata": {},
   "outputs": [],
   "source": [
    "import sys; sys.path.append(\"../\")\n",
    "\n",
    "import pandas as pd\n",
    "\n",
    "from clean.new_orleans_harbor_pd_pprr import clean_personnel\n",
    "from lib.columns import rearrange_personnel_columns, rearrange_personnel_history_columns"
   ]
  },
  {
   "cell_type": "code",
   "execution_count": 2,
   "metadata": {},
   "outputs": [
    {
     "output_type": "execute_result",
     "data": {
      "text/plain": [
       "    first_name last_name              rank_desc  hourly_salary middle_initial  \\\n",
       "0        casey     adams  police sergeant--port          17.00              m   \n",
       "1        casey     adams  police sergeant--port          17.68              m   \n",
       "2        casey     adams  police sergeant--port          18.39              m   \n",
       "3        casey     adams  police sergeant--port          19.13              m   \n",
       "4        casey     adams      police sergeant-a          19.13              m   \n",
       "..         ...       ...                    ...            ...            ...   \n",
       "910    brianne    waters     police officer 3-a          21.60              m   \n",
       "911    brianne    waters      police sergeant-a          24.34              m   \n",
       "912    brianne    waters      police sergeant-a          25.07              m   \n",
       "913    brianne    waters      police sergeant-a          25.07              m   \n",
       "914    brianne    waters      police sergeant-a          25.82              m   \n",
       "\n",
       "    term_year term_month term_day hire_year hire_month hire_day  \\\n",
       "0        2010          2       28      1980          1       31   \n",
       "1        2010          2       28      1980          1       31   \n",
       "2        2010          2       28      1980          1       31   \n",
       "3        2010          2       28      1980          1       31   \n",
       "4        2010          2       28      1980          1       31   \n",
       "..        ...        ...      ...       ...        ...      ...   \n",
       "910      2020          5       11      2001          3        5   \n",
       "911      2020          5       11      2001          3        5   \n",
       "912      2020          5       11      2001          3        5   \n",
       "913      2020          5       11      2001          3        5   \n",
       "914      2020          5       11      2001          3        5   \n",
       "\n",
       "    pay_effective_year pay_effective_month pay_effective_day  \\\n",
       "0                 1997                   4                14   \n",
       "1                 2003                  12                10   \n",
       "2                 2004                   8                10   \n",
       "3                 2005                   8                10   \n",
       "4                 2005                   8                29   \n",
       "..                 ...                 ...               ...   \n",
       "910               2015                  10                 1   \n",
       "911               2018                   5                14   \n",
       "912               2018                   7                15   \n",
       "913               2018                   7                15   \n",
       "914               2019                   7                15   \n",
       "\n",
       "                                  uid                 agency  \\\n",
       "0    83d0f42cf88270c9180153b13339b727  New Orleans Harbor PD   \n",
       "1    83d0f42cf88270c9180153b13339b727  New Orleans Harbor PD   \n",
       "2    83d0f42cf88270c9180153b13339b727  New Orleans Harbor PD   \n",
       "3    83d0f42cf88270c9180153b13339b727  New Orleans Harbor PD   \n",
       "4    83d0f42cf88270c9180153b13339b727  New Orleans Harbor PD   \n",
       "..                                ...                    ...   \n",
       "910  03bdf56f995a6f875d5aa9be240c0ce9  New Orleans Harbor PD   \n",
       "911  03bdf56f995a6f875d5aa9be240c0ce9  New Orleans Harbor PD   \n",
       "912  03bdf56f995a6f875d5aa9be240c0ce9  New Orleans Harbor PD   \n",
       "913  03bdf56f995a6f875d5aa9be240c0ce9  New Orleans Harbor PD   \n",
       "914  03bdf56f995a6f875d5aa9be240c0ce9  New Orleans Harbor PD   \n",
       "\n",
       "     data_production_year  \n",
       "0                    2020  \n",
       "1                    2020  \n",
       "2                    2020  \n",
       "3                    2020  \n",
       "4                    2020  \n",
       "..                    ...  \n",
       "910                  2020  \n",
       "911                  2020  \n",
       "912                  2020  \n",
       "913                  2020  \n",
       "914                  2020  \n",
       "\n",
       "[915 rows x 17 columns]"
      ],
      "text/html": "<div>\n<style scoped>\n    .dataframe tbody tr th:only-of-type {\n        vertical-align: middle;\n    }\n\n    .dataframe tbody tr th {\n        vertical-align: top;\n    }\n\n    .dataframe thead th {\n        text-align: right;\n    }\n</style>\n<table border=\"1\" class=\"dataframe\">\n  <thead>\n    <tr style=\"text-align: right;\">\n      <th></th>\n      <th>first_name</th>\n      <th>last_name</th>\n      <th>rank_desc</th>\n      <th>hourly_salary</th>\n      <th>middle_initial</th>\n      <th>term_year</th>\n      <th>term_month</th>\n      <th>term_day</th>\n      <th>hire_year</th>\n      <th>hire_month</th>\n      <th>hire_day</th>\n      <th>pay_effective_year</th>\n      <th>pay_effective_month</th>\n      <th>pay_effective_day</th>\n      <th>uid</th>\n      <th>agency</th>\n      <th>data_production_year</th>\n    </tr>\n  </thead>\n  <tbody>\n    <tr>\n      <th>0</th>\n      <td>casey</td>\n      <td>adams</td>\n      <td>police sergeant--port</td>\n      <td>17.00</td>\n      <td>m</td>\n      <td>2010</td>\n      <td>2</td>\n      <td>28</td>\n      <td>1980</td>\n      <td>1</td>\n      <td>31</td>\n      <td>1997</td>\n      <td>4</td>\n      <td>14</td>\n      <td>83d0f42cf88270c9180153b13339b727</td>\n      <td>New Orleans Harbor PD</td>\n      <td>2020</td>\n    </tr>\n    <tr>\n      <th>1</th>\n      <td>casey</td>\n      <td>adams</td>\n      <td>police sergeant--port</td>\n      <td>17.68</td>\n      <td>m</td>\n      <td>2010</td>\n      <td>2</td>\n      <td>28</td>\n      <td>1980</td>\n      <td>1</td>\n      <td>31</td>\n      <td>2003</td>\n      <td>12</td>\n      <td>10</td>\n      <td>83d0f42cf88270c9180153b13339b727</td>\n      <td>New Orleans Harbor PD</td>\n      <td>2020</td>\n    </tr>\n    <tr>\n      <th>2</th>\n      <td>casey</td>\n      <td>adams</td>\n      <td>police sergeant--port</td>\n      <td>18.39</td>\n      <td>m</td>\n      <td>2010</td>\n      <td>2</td>\n      <td>28</td>\n      <td>1980</td>\n      <td>1</td>\n      <td>31</td>\n      <td>2004</td>\n      <td>8</td>\n      <td>10</td>\n      <td>83d0f42cf88270c9180153b13339b727</td>\n      <td>New Orleans Harbor PD</td>\n      <td>2020</td>\n    </tr>\n    <tr>\n      <th>3</th>\n      <td>casey</td>\n      <td>adams</td>\n      <td>police sergeant--port</td>\n      <td>19.13</td>\n      <td>m</td>\n      <td>2010</td>\n      <td>2</td>\n      <td>28</td>\n      <td>1980</td>\n      <td>1</td>\n      <td>31</td>\n      <td>2005</td>\n      <td>8</td>\n      <td>10</td>\n      <td>83d0f42cf88270c9180153b13339b727</td>\n      <td>New Orleans Harbor PD</td>\n      <td>2020</td>\n    </tr>\n    <tr>\n      <th>4</th>\n      <td>casey</td>\n      <td>adams</td>\n      <td>police sergeant-a</td>\n      <td>19.13</td>\n      <td>m</td>\n      <td>2010</td>\n      <td>2</td>\n      <td>28</td>\n      <td>1980</td>\n      <td>1</td>\n      <td>31</td>\n      <td>2005</td>\n      <td>8</td>\n      <td>29</td>\n      <td>83d0f42cf88270c9180153b13339b727</td>\n      <td>New Orleans Harbor PD</td>\n      <td>2020</td>\n    </tr>\n    <tr>\n      <th>...</th>\n      <td>...</td>\n      <td>...</td>\n      <td>...</td>\n      <td>...</td>\n      <td>...</td>\n      <td>...</td>\n      <td>...</td>\n      <td>...</td>\n      <td>...</td>\n      <td>...</td>\n      <td>...</td>\n      <td>...</td>\n      <td>...</td>\n      <td>...</td>\n      <td>...</td>\n      <td>...</td>\n      <td>...</td>\n    </tr>\n    <tr>\n      <th>910</th>\n      <td>brianne</td>\n      <td>waters</td>\n      <td>police officer 3-a</td>\n      <td>21.60</td>\n      <td>m</td>\n      <td>2020</td>\n      <td>5</td>\n      <td>11</td>\n      <td>2001</td>\n      <td>3</td>\n      <td>5</td>\n      <td>2015</td>\n      <td>10</td>\n      <td>1</td>\n      <td>03bdf56f995a6f875d5aa9be240c0ce9</td>\n      <td>New Orleans Harbor PD</td>\n      <td>2020</td>\n    </tr>\n    <tr>\n      <th>911</th>\n      <td>brianne</td>\n      <td>waters</td>\n      <td>police sergeant-a</td>\n      <td>24.34</td>\n      <td>m</td>\n      <td>2020</td>\n      <td>5</td>\n      <td>11</td>\n      <td>2001</td>\n      <td>3</td>\n      <td>5</td>\n      <td>2018</td>\n      <td>5</td>\n      <td>14</td>\n      <td>03bdf56f995a6f875d5aa9be240c0ce9</td>\n      <td>New Orleans Harbor PD</td>\n      <td>2020</td>\n    </tr>\n    <tr>\n      <th>912</th>\n      <td>brianne</td>\n      <td>waters</td>\n      <td>police sergeant-a</td>\n      <td>25.07</td>\n      <td>m</td>\n      <td>2020</td>\n      <td>5</td>\n      <td>11</td>\n      <td>2001</td>\n      <td>3</td>\n      <td>5</td>\n      <td>2018</td>\n      <td>7</td>\n      <td>15</td>\n      <td>03bdf56f995a6f875d5aa9be240c0ce9</td>\n      <td>New Orleans Harbor PD</td>\n      <td>2020</td>\n    </tr>\n    <tr>\n      <th>913</th>\n      <td>brianne</td>\n      <td>waters</td>\n      <td>police sergeant-a</td>\n      <td>25.07</td>\n      <td>m</td>\n      <td>2020</td>\n      <td>5</td>\n      <td>11</td>\n      <td>2001</td>\n      <td>3</td>\n      <td>5</td>\n      <td>2018</td>\n      <td>7</td>\n      <td>15</td>\n      <td>03bdf56f995a6f875d5aa9be240c0ce9</td>\n      <td>New Orleans Harbor PD</td>\n      <td>2020</td>\n    </tr>\n    <tr>\n      <th>914</th>\n      <td>brianne</td>\n      <td>waters</td>\n      <td>police sergeant-a</td>\n      <td>25.82</td>\n      <td>m</td>\n      <td>2020</td>\n      <td>5</td>\n      <td>11</td>\n      <td>2001</td>\n      <td>3</td>\n      <td>5</td>\n      <td>2019</td>\n      <td>7</td>\n      <td>15</td>\n      <td>03bdf56f995a6f875d5aa9be240c0ce9</td>\n      <td>New Orleans Harbor PD</td>\n      <td>2020</td>\n    </tr>\n  </tbody>\n</table>\n<p>915 rows × 17 columns</p>\n</div>"
     },
     "metadata": {},
     "execution_count": 2
    }
   ],
   "source": [
    "df = clean_personnel()\n",
    "df"
   ]
  },
  {
   "cell_type": "code",
   "execution_count": 8,
   "metadata": {},
   "outputs": [
    {
     "output_type": "execute_result",
     "data": {
      "text/plain": [
       "            uid    last_name middle_initial first_name\n",
       "0    ac49c8119f        adams              m      casey\n",
       "1    4500bb1616      additon              p    bernard\n",
       "2    3d75f7a67d    allsbrook              l    michael\n",
       "3    b81578b705  anderson jr            NaN     melvin\n",
       "4    25cd1eb87e        arena              p      bryan\n",
       "..          ...          ...            ...        ...\n",
       "113  27d88f2164       walker            NaN    winston\n",
       "114  ec61f23394       walton              m      byron\n",
       "115  2306549e7a   washington              m     ardiel\n",
       "116  753604c68d   washington              w       ryan\n",
       "117  d9be138289       waters              m    brianne\n",
       "\n",
       "[118 rows x 4 columns]"
      ],
      "text/html": "<div>\n<style scoped>\n    .dataframe tbody tr th:only-of-type {\n        vertical-align: middle;\n    }\n\n    .dataframe tbody tr th {\n        vertical-align: top;\n    }\n\n    .dataframe thead th {\n        text-align: right;\n    }\n</style>\n<table border=\"1\" class=\"dataframe\">\n  <thead>\n    <tr style=\"text-align: right;\">\n      <th></th>\n      <th>uid</th>\n      <th>last_name</th>\n      <th>middle_initial</th>\n      <th>first_name</th>\n    </tr>\n  </thead>\n  <tbody>\n    <tr>\n      <th>0</th>\n      <td>ac49c8119f</td>\n      <td>adams</td>\n      <td>m</td>\n      <td>casey</td>\n    </tr>\n    <tr>\n      <th>1</th>\n      <td>4500bb1616</td>\n      <td>additon</td>\n      <td>p</td>\n      <td>bernard</td>\n    </tr>\n    <tr>\n      <th>2</th>\n      <td>3d75f7a67d</td>\n      <td>allsbrook</td>\n      <td>l</td>\n      <td>michael</td>\n    </tr>\n    <tr>\n      <th>3</th>\n      <td>b81578b705</td>\n      <td>anderson jr</td>\n      <td>NaN</td>\n      <td>melvin</td>\n    </tr>\n    <tr>\n      <th>4</th>\n      <td>25cd1eb87e</td>\n      <td>arena</td>\n      <td>p</td>\n      <td>bryan</td>\n    </tr>\n    <tr>\n      <th>...</th>\n      <td>...</td>\n      <td>...</td>\n      <td>...</td>\n      <td>...</td>\n    </tr>\n    <tr>\n      <th>113</th>\n      <td>27d88f2164</td>\n      <td>walker</td>\n      <td>NaN</td>\n      <td>winston</td>\n    </tr>\n    <tr>\n      <th>114</th>\n      <td>ec61f23394</td>\n      <td>walton</td>\n      <td>m</td>\n      <td>byron</td>\n    </tr>\n    <tr>\n      <th>115</th>\n      <td>2306549e7a</td>\n      <td>washington</td>\n      <td>m</td>\n      <td>ardiel</td>\n    </tr>\n    <tr>\n      <th>116</th>\n      <td>753604c68d</td>\n      <td>washington</td>\n      <td>w</td>\n      <td>ryan</td>\n    </tr>\n    <tr>\n      <th>117</th>\n      <td>d9be138289</td>\n      <td>waters</td>\n      <td>m</td>\n      <td>brianne</td>\n    </tr>\n  </tbody>\n</table>\n<p>118 rows × 4 columns</p>\n</div>"
     },
     "metadata": {},
     "execution_count": 8
    }
   ],
   "source": [
    "rearrange_personnel_columns(df)"
   ]
  },
  {
   "cell_type": "code",
   "execution_count": 9,
   "metadata": {},
   "outputs": [
    {
     "output_type": "execute_result",
     "data": {
      "text/plain": [
       "array(['police sergeant--port', 'police sergeant-a', 'police officer 1-a',\n",
       "       'police officer 2--port', 'police officer 2-a',\n",
       "       'police officer 3-a', 'police officer 1--port',\n",
       "       'police corporal--port', 'police lieutenant-a',\n",
       "       'police lieutenant--port', 'policy planner 4',\n",
       "       'police chief--port', 'police chief-a', 'admin specialist 2',\n",
       "       'admin program specialist--a', 'police captain-a',\n",
       "       'police captain--port'], dtype=object)"
      ]
     },
     "metadata": {},
     "execution_count": 9
    }
   ],
   "source": [
    "hist = rearrange_personnel_history_columns(df)\n",
    "hist.rank_desc.unique()"
   ]
  },
  {
   "cell_type": "code",
   "execution_count": null,
   "metadata": {},
   "outputs": [],
   "source": []
  }
 ],
 "metadata": {
  "kernelspec": {
   "display_name": "Python 3",
   "language": "python",
   "name": "python3"
  },
  "language_info": {
   "codemirror_mode": {
    "name": "ipython",
    "version": 3
   },
   "file_extension": ".py",
   "mimetype": "text/x-python",
   "name": "python",
   "nbconvert_exporter": "python",
   "pygments_lexer": "ipython3",
   "version": "3.8.3-final"
  }
 },
 "nbformat": 4,
 "nbformat_minor": 4
}
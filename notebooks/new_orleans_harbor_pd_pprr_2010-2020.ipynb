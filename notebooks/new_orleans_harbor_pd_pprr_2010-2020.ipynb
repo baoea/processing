{
 "cells": [
  {
   "cell_type": "code",
   "execution_count": 1,
   "metadata": {},
   "outputs": [],
   "source": [
    "import sys; sys.path.append(\"../\")\n",
    "\n",
    "import pandas as pd\n",
    "\n",
    "from clean.new_orleans_harbor_pd import clean_personel"
   ]
  },
  {
   "cell_type": "code",
   "execution_count": 2,
   "metadata": {},
   "outputs": [],
   "source": [
    "history, personel = clean_personel()"
   ]
  },
  {
   "cell_type": "code",
   "execution_count": 3,
   "metadata": {},
   "outputs": [
    {
     "output_type": "execute_result",
     "data": {
      "text/plain": [
       "            UID   Last Name Middle Name First Name\n",
       "0    b0d2aa6537       Adams           M      Casey\n",
       "1    0b6f48d717     Additon           P    Bernard\n",
       "2    0466ce6483   Allsbrook           L    Michael\n",
       "3    4511208ab8  Andersonjr         NaN     Melvin\n",
       "4    d9ee2a1f50       Arena           P      Bryan\n",
       "..          ...         ...         ...        ...\n",
       "113  b3a37ae12f      Walker         NaN    Winston\n",
       "114  886d44b18f      Walton           M      Byron\n",
       "115  bd41124ecb  Washington           M     Ardiel\n",
       "116  a6cd9f7e6f  Washington           W       Ryan\n",
       "117  6b8d199576      Waters           M    Brianne\n",
       "\n",
       "[118 rows x 4 columns]"
      ],
      "text/html": "<div>\n<style scoped>\n    .dataframe tbody tr th:only-of-type {\n        vertical-align: middle;\n    }\n\n    .dataframe tbody tr th {\n        vertical-align: top;\n    }\n\n    .dataframe thead th {\n        text-align: right;\n    }\n</style>\n<table border=\"1\" class=\"dataframe\">\n  <thead>\n    <tr style=\"text-align: right;\">\n      <th></th>\n      <th>UID</th>\n      <th>Last Name</th>\n      <th>Middle Name</th>\n      <th>First Name</th>\n    </tr>\n  </thead>\n  <tbody>\n    <tr>\n      <th>0</th>\n      <td>b0d2aa6537</td>\n      <td>Adams</td>\n      <td>M</td>\n      <td>Casey</td>\n    </tr>\n    <tr>\n      <th>1</th>\n      <td>0b6f48d717</td>\n      <td>Additon</td>\n      <td>P</td>\n      <td>Bernard</td>\n    </tr>\n    <tr>\n      <th>2</th>\n      <td>0466ce6483</td>\n      <td>Allsbrook</td>\n      <td>L</td>\n      <td>Michael</td>\n    </tr>\n    <tr>\n      <th>3</th>\n      <td>4511208ab8</td>\n      <td>Andersonjr</td>\n      <td>NaN</td>\n      <td>Melvin</td>\n    </tr>\n    <tr>\n      <th>4</th>\n      <td>d9ee2a1f50</td>\n      <td>Arena</td>\n      <td>P</td>\n      <td>Bryan</td>\n    </tr>\n    <tr>\n      <th>...</th>\n      <td>...</td>\n      <td>...</td>\n      <td>...</td>\n      <td>...</td>\n    </tr>\n    <tr>\n      <th>113</th>\n      <td>b3a37ae12f</td>\n      <td>Walker</td>\n      <td>NaN</td>\n      <td>Winston</td>\n    </tr>\n    <tr>\n      <th>114</th>\n      <td>886d44b18f</td>\n      <td>Walton</td>\n      <td>M</td>\n      <td>Byron</td>\n    </tr>\n    <tr>\n      <th>115</th>\n      <td>bd41124ecb</td>\n      <td>Washington</td>\n      <td>M</td>\n      <td>Ardiel</td>\n    </tr>\n    <tr>\n      <th>116</th>\n      <td>a6cd9f7e6f</td>\n      <td>Washington</td>\n      <td>W</td>\n      <td>Ryan</td>\n    </tr>\n    <tr>\n      <th>117</th>\n      <td>6b8d199576</td>\n      <td>Waters</td>\n      <td>M</td>\n      <td>Brianne</td>\n    </tr>\n  </tbody>\n</table>\n<p>118 rows × 4 columns</p>\n</div>"
     },
     "metadata": {},
     "execution_count": 3
    }
   ],
   "source": [
    "personel"
   ]
  },
  {
   "cell_type": "code",
   "execution_count": 4,
   "metadata": {},
   "outputs": [
    {
     "output_type": "execute_result",
     "data": {
      "text/plain": [
       "            UID                   Rank  Hire Date Termination Date  \\\n",
       "0    b0d2aa6537  POLICE SERGEANT--PORT 1980-01-31       2010-02-28   \n",
       "1    b0d2aa6537  POLICE SERGEANT--PORT 1980-01-31       2010-02-28   \n",
       "2    b0d2aa6537  POLICE SERGEANT--PORT 1980-01-31       2010-02-28   \n",
       "3    b0d2aa6537  POLICE SERGEANT--PORT 1980-01-31       2010-02-28   \n",
       "4    b0d2aa6537      POLICE SERGEANT-A 1980-01-31       2010-02-28   \n",
       "..          ...                    ...        ...              ...   \n",
       "897  6b8d199576     POLICE OFFICER 3-A 2001-03-05       2020-05-11   \n",
       "898  6b8d199576     POLICE OFFICER 3-A 2001-03-05       2020-05-11   \n",
       "899  6b8d199576      POLICE SERGEANT-A 2001-03-05       2020-05-11   \n",
       "900  6b8d199576      POLICE SERGEANT-A 2001-03-05       2020-05-11   \n",
       "901  6b8d199576      POLICE SERGEANT-A 2001-03-05       2020-05-11   \n",
       "\n",
       "    Pay Effective Date  Hourly Salary  \n",
       "0           1997-04-14          17.00  \n",
       "1           2003-12-10          17.68  \n",
       "2           2004-08-10          18.39  \n",
       "3           2005-08-10          19.13  \n",
       "4           2005-08-29          19.13  \n",
       "..                 ...            ...  \n",
       "897         2014-10-01          20.77  \n",
       "898         2015-10-01          21.60  \n",
       "899         2018-05-14          24.34  \n",
       "900         2018-07-15          25.07  \n",
       "901         2019-07-15          25.82  \n",
       "\n",
       "[902 rows x 6 columns]"
      ],
      "text/html": "<div>\n<style scoped>\n    .dataframe tbody tr th:only-of-type {\n        vertical-align: middle;\n    }\n\n    .dataframe tbody tr th {\n        vertical-align: top;\n    }\n\n    .dataframe thead th {\n        text-align: right;\n    }\n</style>\n<table border=\"1\" class=\"dataframe\">\n  <thead>\n    <tr style=\"text-align: right;\">\n      <th></th>\n      <th>UID</th>\n      <th>Rank</th>\n      <th>Hire Date</th>\n      <th>Termination Date</th>\n      <th>Pay Effective Date</th>\n      <th>Hourly Salary</th>\n    </tr>\n  </thead>\n  <tbody>\n    <tr>\n      <th>0</th>\n      <td>b0d2aa6537</td>\n      <td>POLICE SERGEANT--PORT</td>\n      <td>1980-01-31</td>\n      <td>2010-02-28</td>\n      <td>1997-04-14</td>\n      <td>17.00</td>\n    </tr>\n    <tr>\n      <th>1</th>\n      <td>b0d2aa6537</td>\n      <td>POLICE SERGEANT--PORT</td>\n      <td>1980-01-31</td>\n      <td>2010-02-28</td>\n      <td>2003-12-10</td>\n      <td>17.68</td>\n    </tr>\n    <tr>\n      <th>2</th>\n      <td>b0d2aa6537</td>\n      <td>POLICE SERGEANT--PORT</td>\n      <td>1980-01-31</td>\n      <td>2010-02-28</td>\n      <td>2004-08-10</td>\n      <td>18.39</td>\n    </tr>\n    <tr>\n      <th>3</th>\n      <td>b0d2aa6537</td>\n      <td>POLICE SERGEANT--PORT</td>\n      <td>1980-01-31</td>\n      <td>2010-02-28</td>\n      <td>2005-08-10</td>\n      <td>19.13</td>\n    </tr>\n    <tr>\n      <th>4</th>\n      <td>b0d2aa6537</td>\n      <td>POLICE SERGEANT-A</td>\n      <td>1980-01-31</td>\n      <td>2010-02-28</td>\n      <td>2005-08-29</td>\n      <td>19.13</td>\n    </tr>\n    <tr>\n      <th>...</th>\n      <td>...</td>\n      <td>...</td>\n      <td>...</td>\n      <td>...</td>\n      <td>...</td>\n      <td>...</td>\n    </tr>\n    <tr>\n      <th>897</th>\n      <td>6b8d199576</td>\n      <td>POLICE OFFICER 3-A</td>\n      <td>2001-03-05</td>\n      <td>2020-05-11</td>\n      <td>2014-10-01</td>\n      <td>20.77</td>\n    </tr>\n    <tr>\n      <th>898</th>\n      <td>6b8d199576</td>\n      <td>POLICE OFFICER 3-A</td>\n      <td>2001-03-05</td>\n      <td>2020-05-11</td>\n      <td>2015-10-01</td>\n      <td>21.60</td>\n    </tr>\n    <tr>\n      <th>899</th>\n      <td>6b8d199576</td>\n      <td>POLICE SERGEANT-A</td>\n      <td>2001-03-05</td>\n      <td>2020-05-11</td>\n      <td>2018-05-14</td>\n      <td>24.34</td>\n    </tr>\n    <tr>\n      <th>900</th>\n      <td>6b8d199576</td>\n      <td>POLICE SERGEANT-A</td>\n      <td>2001-03-05</td>\n      <td>2020-05-11</td>\n      <td>2018-07-15</td>\n      <td>25.07</td>\n    </tr>\n    <tr>\n      <th>901</th>\n      <td>6b8d199576</td>\n      <td>POLICE SERGEANT-A</td>\n      <td>2001-03-05</td>\n      <td>2020-05-11</td>\n      <td>2019-07-15</td>\n      <td>25.82</td>\n    </tr>\n  </tbody>\n</table>\n<p>902 rows × 6 columns</p>\n</div>"
     },
     "metadata": {},
     "execution_count": 4
    }
   ],
   "source": [
    "history"
   ]
  },
  {
   "cell_type": "code",
   "execution_count": null,
   "metadata": {},
   "outputs": [],
   "source": []
  }
 ],
 "metadata": {
  "kernelspec": {
   "display_name": "Python 3",
   "language": "python",
   "name": "python3"
  },
  "language_info": {
   "codemirror_mode": {
    "name": "ipython",
    "version": 3
   },
   "file_extension": ".py",
   "mimetype": "text/x-python",
   "name": "python",
   "nbconvert_exporter": "python",
   "pygments_lexer": "ipython3",
   "version": "3.8.3-final"
  }
 },
 "nbformat": 4,
 "nbformat_minor": 4
}
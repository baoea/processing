{
 "cells": [
  {
   "cell_type": "code",
   "execution_count": 4,
   "metadata": {},
   "outputs": [],
   "source": [
    "import sys; sys.path.append(\"../\")\n",
    "\n",
    "import pandas as pd\n",
    "\n",
    "from lib.name import clean_name\n",
    "from lib.date import to_datetime_series\n",
    "from lib.columns import rearrange_personel_columns"
   ]
  },
  {
   "cell_type": "code",
   "execution_count": 5,
   "metadata": {},
   "outputs": [
    {
     "output_type": "execute_result",
     "data": {
      "text/plain": [
       "     First Name   Mi Last Name Date Hired  Term Date          Position/Rank  \\\n",
       "0         CASEY    M     ADAMS 1980-01-31 2010-02-28  POLICE SERGEANT--PORT   \n",
       "1         CASEY    M     ADAMS 1980-01-31 2010-02-28  POLICE SERGEANT--PORT   \n",
       "2         CASEY    M     ADAMS 1980-01-31 2010-02-28  POLICE SERGEANT--PORT   \n",
       "3         CASEY    M     ADAMS 1980-01-31 2010-02-28  POLICE SERGEANT--PORT   \n",
       "4         CASEY    M     ADAMS 1980-01-31 2010-02-28      POLICE SERGEANT-A   \n",
       "...         ...  ...       ...        ...        ...                    ...   \n",
       "1454        NaN  NaN       NaN        NaT        NaT                    NaN   \n",
       "1455        NaN  NaN       NaN        NaT        NaT                    NaN   \n",
       "1456        NaN  NaN       NaN        NaT        NaT                    NaN   \n",
       "1457        NaN  NaN       NaN        NaT        NaT                    NaN   \n",
       "1458        NaN  NaN       NaN        NaT        NaT                    NaN   \n",
       "\n",
       "      Hourly Pay Pay Effective Date Call Sign  Unnamed: 9  Unnamed: 10  \n",
       "0          17.00         1997-04-14       NaN         NaN          NaN  \n",
       "1          17.68         2003-12-10       NaN         NaN          NaN  \n",
       "2          18.39         2004-08-10       NaN         NaN          NaN  \n",
       "3          19.13         2005-08-10       NaN         NaN          NaN  \n",
       "4          19.13         2005-08-29       NaN         NaN          NaN  \n",
       "...          ...                ...       ...         ...          ...  \n",
       "1454         NaN                NaT       NaN         NaN          NaN  \n",
       "1455         NaN                NaT       NaN         NaN          NaN  \n",
       "1456         NaN                NaT       NaN         NaN          NaN  \n",
       "1457         NaN                NaT       NaN         NaN          NaN  \n",
       "1458         NaN                NaT       NaN         NaN          NaN  \n",
       "\n",
       "[1459 rows x 11 columns]"
      ],
      "text/html": "<div>\n<style scoped>\n    .dataframe tbody tr th:only-of-type {\n        vertical-align: middle;\n    }\n\n    .dataframe tbody tr th {\n        vertical-align: top;\n    }\n\n    .dataframe thead th {\n        text-align: right;\n    }\n</style>\n<table border=\"1\" class=\"dataframe\">\n  <thead>\n    <tr style=\"text-align: right;\">\n      <th></th>\n      <th>First Name</th>\n      <th>Mi</th>\n      <th>Last Name</th>\n      <th>Date Hired</th>\n      <th>Term Date</th>\n      <th>Position/Rank</th>\n      <th>Hourly Pay</th>\n      <th>Pay Effective Date</th>\n      <th>Call Sign</th>\n      <th>Unnamed: 9</th>\n      <th>Unnamed: 10</th>\n    </tr>\n  </thead>\n  <tbody>\n    <tr>\n      <th>0</th>\n      <td>CASEY</td>\n      <td>M</td>\n      <td>ADAMS</td>\n      <td>1980-01-31</td>\n      <td>2010-02-28</td>\n      <td>POLICE SERGEANT--PORT</td>\n      <td>17.00</td>\n      <td>1997-04-14</td>\n      <td>NaN</td>\n      <td>NaN</td>\n      <td>NaN</td>\n    </tr>\n    <tr>\n      <th>1</th>\n      <td>CASEY</td>\n      <td>M</td>\n      <td>ADAMS</td>\n      <td>1980-01-31</td>\n      <td>2010-02-28</td>\n      <td>POLICE SERGEANT--PORT</td>\n      <td>17.68</td>\n      <td>2003-12-10</td>\n      <td>NaN</td>\n      <td>NaN</td>\n      <td>NaN</td>\n    </tr>\n    <tr>\n      <th>2</th>\n      <td>CASEY</td>\n      <td>M</td>\n      <td>ADAMS</td>\n      <td>1980-01-31</td>\n      <td>2010-02-28</td>\n      <td>POLICE SERGEANT--PORT</td>\n      <td>18.39</td>\n      <td>2004-08-10</td>\n      <td>NaN</td>\n      <td>NaN</td>\n      <td>NaN</td>\n    </tr>\n    <tr>\n      <th>3</th>\n      <td>CASEY</td>\n      <td>M</td>\n      <td>ADAMS</td>\n      <td>1980-01-31</td>\n      <td>2010-02-28</td>\n      <td>POLICE SERGEANT--PORT</td>\n      <td>19.13</td>\n      <td>2005-08-10</td>\n      <td>NaN</td>\n      <td>NaN</td>\n      <td>NaN</td>\n    </tr>\n    <tr>\n      <th>4</th>\n      <td>CASEY</td>\n      <td>M</td>\n      <td>ADAMS</td>\n      <td>1980-01-31</td>\n      <td>2010-02-28</td>\n      <td>POLICE SERGEANT-A</td>\n      <td>19.13</td>\n      <td>2005-08-29</td>\n      <td>NaN</td>\n      <td>NaN</td>\n      <td>NaN</td>\n    </tr>\n    <tr>\n      <th>...</th>\n      <td>...</td>\n      <td>...</td>\n      <td>...</td>\n      <td>...</td>\n      <td>...</td>\n      <td>...</td>\n      <td>...</td>\n      <td>...</td>\n      <td>...</td>\n      <td>...</td>\n      <td>...</td>\n    </tr>\n    <tr>\n      <th>1454</th>\n      <td>NaN</td>\n      <td>NaN</td>\n      <td>NaN</td>\n      <td>NaT</td>\n      <td>NaT</td>\n      <td>NaN</td>\n      <td>NaN</td>\n      <td>NaT</td>\n      <td>NaN</td>\n      <td>NaN</td>\n      <td>NaN</td>\n    </tr>\n    <tr>\n      <th>1455</th>\n      <td>NaN</td>\n      <td>NaN</td>\n      <td>NaN</td>\n      <td>NaT</td>\n      <td>NaT</td>\n      <td>NaN</td>\n      <td>NaN</td>\n      <td>NaT</td>\n      <td>NaN</td>\n      <td>NaN</td>\n      <td>NaN</td>\n    </tr>\n    <tr>\n      <th>1456</th>\n      <td>NaN</td>\n      <td>NaN</td>\n      <td>NaN</td>\n      <td>NaT</td>\n      <td>NaT</td>\n      <td>NaN</td>\n      <td>NaN</td>\n      <td>NaT</td>\n      <td>NaN</td>\n      <td>NaN</td>\n      <td>NaN</td>\n    </tr>\n    <tr>\n      <th>1457</th>\n      <td>NaN</td>\n      <td>NaN</td>\n      <td>NaN</td>\n      <td>NaT</td>\n      <td>NaT</td>\n      <td>NaN</td>\n      <td>NaN</td>\n      <td>NaT</td>\n      <td>NaN</td>\n      <td>NaN</td>\n      <td>NaN</td>\n    </tr>\n    <tr>\n      <th>1458</th>\n      <td>NaN</td>\n      <td>NaN</td>\n      <td>NaN</td>\n      <td>NaT</td>\n      <td>NaT</td>\n      <td>NaN</td>\n      <td>NaN</td>\n      <td>NaT</td>\n      <td>NaN</td>\n      <td>NaN</td>\n      <td>NaN</td>\n    </tr>\n  </tbody>\n</table>\n<p>1459 rows × 11 columns</p>\n</div>"
     },
     "metadata": {},
     "execution_count": 5
    }
   ],
   "source": [
    "df1 = pd.read_excel(\"../data/New Orleans Harbor PD/Administrative Data/New Orleans_Harbor PD_PPRR_2020.xlsx\")\n",
    "df1.rename(columns={name: \" \".join(name.title().split()) for name in df1.columns}, inplace=True)\n",
    "df1"
   ]
  },
  {
   "cell_type": "code",
   "execution_count": 6,
   "metadata": {},
   "outputs": [
    {
     "output_type": "execute_result",
     "data": {
      "text/plain": [
       "Index(['First Name', 'Mi', 'Last Name', 'Date Hired', 'Term Date',\n",
       "       'Position/Rank', 'Hourly Pay', 'Pay Effective Date', 'Call Sign',\n",
       "       'Unnamed: 9', 'Unnamed: 10'],\n",
       "      dtype='object')"
      ]
     },
     "metadata": {},
     "execution_count": 6
    }
   ],
   "source": [
    "df1.columns"
   ]
  },
  {
   "cell_type": "code",
   "execution_count": 7,
   "metadata": {},
   "outputs": [
    {
     "output_type": "execute_result",
     "data": {
      "text/plain": [
       "     Last Name Middle Name First Name                   Rank  Hire Date  \\\n",
       "0        Adams           M      Casey  POLICE SERGEANT--PORT 1980-01-31   \n",
       "1        Adams           M      Casey  POLICE SERGEANT--PORT 1980-01-31   \n",
       "2        Adams           M      Casey  POLICE SERGEANT--PORT 1980-01-31   \n",
       "3        Adams           M      Casey  POLICE SERGEANT--PORT 1980-01-31   \n",
       "4        Adams           M      Casey      POLICE SERGEANT-A 1980-01-31   \n",
       "...        ...         ...        ...                    ...        ...   \n",
       "1454       NaN         NaN        NaN                    NaN        NaT   \n",
       "1455       NaN         NaN        NaN                    NaN        NaT   \n",
       "1456       NaN         NaN        NaN                    NaN        NaT   \n",
       "1457       NaN         NaN        NaN                    NaN        NaT   \n",
       "1458       NaN         NaN        NaN                    NaN        NaT   \n",
       "\n",
       "     Termination Date  Hourly Salary  \n",
       "0          2010-02-28          17.00  \n",
       "1          2010-02-28          17.68  \n",
       "2          2010-02-28          18.39  \n",
       "3          2010-02-28          19.13  \n",
       "4          2010-02-28          19.13  \n",
       "...               ...            ...  \n",
       "1454              NaT            NaN  \n",
       "1455              NaT            NaN  \n",
       "1456              NaT            NaN  \n",
       "1457              NaT            NaN  \n",
       "1458              NaT            NaN  \n",
       "\n",
       "[1459 rows x 7 columns]"
      ],
      "text/html": "<div>\n<style scoped>\n    .dataframe tbody tr th:only-of-type {\n        vertical-align: middle;\n    }\n\n    .dataframe tbody tr th {\n        vertical-align: top;\n    }\n\n    .dataframe thead th {\n        text-align: right;\n    }\n</style>\n<table border=\"1\" class=\"dataframe\">\n  <thead>\n    <tr style=\"text-align: right;\">\n      <th></th>\n      <th>Last Name</th>\n      <th>Middle Name</th>\n      <th>First Name</th>\n      <th>Rank</th>\n      <th>Hire Date</th>\n      <th>Termination Date</th>\n      <th>Hourly Salary</th>\n    </tr>\n  </thead>\n  <tbody>\n    <tr>\n      <th>0</th>\n      <td>Adams</td>\n      <td>M</td>\n      <td>Casey</td>\n      <td>POLICE SERGEANT--PORT</td>\n      <td>1980-01-31</td>\n      <td>2010-02-28</td>\n      <td>17.00</td>\n    </tr>\n    <tr>\n      <th>1</th>\n      <td>Adams</td>\n      <td>M</td>\n      <td>Casey</td>\n      <td>POLICE SERGEANT--PORT</td>\n      <td>1980-01-31</td>\n      <td>2010-02-28</td>\n      <td>17.68</td>\n    </tr>\n    <tr>\n      <th>2</th>\n      <td>Adams</td>\n      <td>M</td>\n      <td>Casey</td>\n      <td>POLICE SERGEANT--PORT</td>\n      <td>1980-01-31</td>\n      <td>2010-02-28</td>\n      <td>18.39</td>\n    </tr>\n    <tr>\n      <th>3</th>\n      <td>Adams</td>\n      <td>M</td>\n      <td>Casey</td>\n      <td>POLICE SERGEANT--PORT</td>\n      <td>1980-01-31</td>\n      <td>2010-02-28</td>\n      <td>19.13</td>\n    </tr>\n    <tr>\n      <th>4</th>\n      <td>Adams</td>\n      <td>M</td>\n      <td>Casey</td>\n      <td>POLICE SERGEANT-A</td>\n      <td>1980-01-31</td>\n      <td>2010-02-28</td>\n      <td>19.13</td>\n    </tr>\n    <tr>\n      <th>...</th>\n      <td>...</td>\n      <td>...</td>\n      <td>...</td>\n      <td>...</td>\n      <td>...</td>\n      <td>...</td>\n      <td>...</td>\n    </tr>\n    <tr>\n      <th>1454</th>\n      <td>NaN</td>\n      <td>NaN</td>\n      <td>NaN</td>\n      <td>NaN</td>\n      <td>NaT</td>\n      <td>NaT</td>\n      <td>NaN</td>\n    </tr>\n    <tr>\n      <th>1455</th>\n      <td>NaN</td>\n      <td>NaN</td>\n      <td>NaN</td>\n      <td>NaN</td>\n      <td>NaT</td>\n      <td>NaT</td>\n      <td>NaN</td>\n    </tr>\n    <tr>\n      <th>1456</th>\n      <td>NaN</td>\n      <td>NaN</td>\n      <td>NaN</td>\n      <td>NaN</td>\n      <td>NaT</td>\n      <td>NaT</td>\n      <td>NaN</td>\n    </tr>\n    <tr>\n      <th>1457</th>\n      <td>NaN</td>\n      <td>NaN</td>\n      <td>NaN</td>\n      <td>NaN</td>\n      <td>NaT</td>\n      <td>NaT</td>\n      <td>NaN</td>\n    </tr>\n    <tr>\n      <th>1458</th>\n      <td>NaN</td>\n      <td>NaN</td>\n      <td>NaN</td>\n      <td>NaN</td>\n      <td>NaT</td>\n      <td>NaT</td>\n      <td>NaN</td>\n    </tr>\n  </tbody>\n</table>\n<p>1459 rows × 7 columns</p>\n</div>"
     },
     "metadata": {},
     "execution_count": 7
    }
   ],
   "source": [
    "# is \"Pay Effective Date\" the same as \"Pay Prog Start Date\"? No\n",
    "# do we want to include \"Pay Effective Date\" column?\n",
    "df2 = df1[[\"First Name\", \"Last Name\", \"Position/Rank\", \"Date Hired\", \"Term Date\", \"Hourly Pay\", \"Mi\"]]\n",
    "df2.rename(columns={\n",
    "    \"Term Date\": \"Termination Date\",\n",
    "    \"Date Hired\": \"Hire Date\",\n",
    "    \"Position/Rank\": \"Rank\",\n",
    "    \"Hourly Pay\": \"Hourly Salary\",\n",
    "    \"Mi\": \"Middle Name\"\n",
    "}, inplace=True)\n",
    "df2 = rearrange_personel_columns(df2)\n",
    "for col in [\"Last Name\", \"Middle Name\", \"First Name\"]:\n",
    "    df2.loc[:, col] = df2[col].map(clean_name, na_action=\"ignore\")\n",
    "for col in [\"Termination Date\", \"Hire Date\"]:\n",
    "    df2.loc[:, col] = to_datetime_series(df2[col])\n",
    "df2"
   ]
  },
  {
   "cell_type": "code",
   "execution_count": 8,
   "metadata": {},
   "outputs": [],
   "source": [
    "df2.to_csv(\"../output/new-orleans-harbor-pd_personel_2010-2020.csv\", index=False)"
   ]
  },
  {
   "cell_type": "code",
   "execution_count": null,
   "metadata": {},
   "outputs": [],
   "source": []
  }
 ],
 "metadata": {
  "kernelspec": {
   "display_name": "Python 3",
   "language": "python",
   "name": "python3"
  },
  "language_info": {
   "codemirror_mode": {
    "name": "ipython",
    "version": 3
   },
   "file_extension": ".py",
   "mimetype": "text/x-python",
   "name": "python",
   "nbconvert_exporter": "python",
   "pygments_lexer": "ipython3",
   "version": "3.8.3-final"
  }
 },
 "nbformat": 4,
 "nbformat_minor": 4
}
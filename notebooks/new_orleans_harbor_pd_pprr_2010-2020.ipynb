{
 "cells": [
  {
   "cell_type": "code",
   "execution_count": 1,
   "metadata": {},
   "outputs": [],
   "source": [
    "import sys; sys.path.append(\"../\")\n",
    "\n",
    "import pandas as pd\n",
    "\n",
    "from lib.match import (\n",
    "    ColumnsIndex, JaroWinklerSimilarity, StringSimilarity, DateSimilarity, ThresholdMatcher\n",
    ")\n",
    "from lib.date import combine_date_columns\n",
    "from clean.new_orleans_harbor_pd_pprr import clean_personnel_2008, clean_personnel_2020\n",
    "from match.new_orleans_harbor_pd import prepare_post_data, match_uid_with_cprr\n",
    "from lib.columns import rearrange_personnel_columns, rearrange_personnel_history_columns"
   ]
  },
  {
   "cell_type": "code",
   "execution_count": 2,
   "metadata": {},
   "outputs": [
    {
     "output_type": "stream",
     "name": "stderr",
     "text": [
      "../lib/clean.py:166: FutureWarning: The default value of regex will change from True to False in a future version.\n  return series.str.strip().str.replace(r\"[^\\w-]+\", \" \").str.replace(r\"\\s+\", \" \")\\\n../lib/clean.py:156: FutureWarning: The default value of regex will change from True to False in a future version.\n  return series.str.strip().str.replace(r\"[^\\d\\.]\", \"\").astype(\"float64\")\n"
     ]
    },
    {
     "output_type": "execute_result",
     "data": {
      "text/plain": [
       "    first_name last_name           rank_desc  hourly_salary middle_initial  \\\n",
       "0      kendall    turner  police officer 1-a          10.10              r   \n",
       "1      kendall    turner  police officer 2-a          15.18              r   \n",
       "2      kendall    turner  police officer 2-a          17.08              r   \n",
       "3      kendall    turner  police officer 2-a          17.76              r   \n",
       "4      kendall    turner  police officer 2-a          18.47              r   \n",
       "..         ...       ...                 ...            ...            ...   \n",
       "897      linda    st cyr  police officer 3-a          19.50              l   \n",
       "898      linda    st cyr  police officer 3-a          22.31              l   \n",
       "899      linda    st cyr  police officer 3-a          21.45              l   \n",
       "900      linda    st cyr  police officer 3-a          18.75              l   \n",
       "901      linda    st cyr  police officer 3-a          17.17              l   \n",
       "\n",
       "    effective_date                 agency  data_production_year  \\\n",
       "0         1/3/2007  New Orleans Harbor PD                  2020   \n",
       "1         1/4/2008  New Orleans Harbor PD                  2020   \n",
       "2        10/1/2012  New Orleans Harbor PD                  2020   \n",
       "3        10/1/2013  New Orleans Harbor PD                  2020   \n",
       "4        10/1/2014  New Orleans Harbor PD                  2020   \n",
       "..             ...                    ...                   ...   \n",
       "897      10/1/2007  New Orleans Harbor PD                  2020   \n",
       "898      10/1/2008  New Orleans Harbor PD                  2020   \n",
       "899      11/1/2007  New Orleans Harbor PD                  2020   \n",
       "900       7/1/2007  New Orleans Harbor PD                  2020   \n",
       "901      8/29/2005  New Orleans Harbor PD                  2020   \n",
       "\n",
       "                                  uid                       perhist_uid  ...  \\\n",
       "0    01cf5194afc556e5b49526c3636e2362  c3dc1f7275ff3681ca673813d786b798  ...   \n",
       "1    01cf5194afc556e5b49526c3636e2362  13bf83f9ed69849fc2ad61e5329adca5  ...   \n",
       "2    01cf5194afc556e5b49526c3636e2362  043c9de3e938d8cd2525def644ad3c64  ...   \n",
       "3    01cf5194afc556e5b49526c3636e2362  59fccb5c71605c1916f8939aa6aa1381  ...   \n",
       "4    01cf5194afc556e5b49526c3636e2362  d3e867074632239a401ae0f9b7bcb0b5  ...   \n",
       "..                                ...                               ...  ...   \n",
       "897  f9201bbb609a5755066a4bc23b7bb7e6  2c1c0b941a8c74083a15df59e0c1cbc7  ...   \n",
       "898  f9201bbb609a5755066a4bc23b7bb7e6  8162e05dc991530289bc4115e449d25a  ...   \n",
       "899  f9201bbb609a5755066a4bc23b7bb7e6  f31cde8d053c5701bc9db56facc2fa21  ...   \n",
       "900  f9201bbb609a5755066a4bc23b7bb7e6  eea3e1b2bf424806c2a2ec9c4c363fb1  ...   \n",
       "901  f9201bbb609a5755066a4bc23b7bb7e6  410de5272a1082619de7f9eaca38117c  ...   \n",
       "\n",
       "    resign_day hire_year hire_month hire_day pay_effective_year  \\\n",
       "0                   2007          1        3               2007   \n",
       "1                   2007          1        3               2008   \n",
       "2                   2007          1        3               2012   \n",
       "3                   2007          1        3               2013   \n",
       "4                   2007          1        3               2014   \n",
       "..         ...       ...        ...      ...                ...   \n",
       "897         31      1982         12       27               2007   \n",
       "898         31      1982         12       27               2008   \n",
       "899         31      1982         12       27               2007   \n",
       "900         31      1982         12       27               2007   \n",
       "901         31      1982         12       27               2005   \n",
       "\n",
       "    pay_effective_month pay_effective_day rank_year rank_month rank_day  \n",
       "0                     1                 3      2007          1        3  \n",
       "1                     1                 4      2008          1        4  \n",
       "2                    10                 1                                \n",
       "3                    10                 1                                \n",
       "4                    10                 1                                \n",
       "..                  ...               ...       ...        ...      ...  \n",
       "897                  10                 1                                \n",
       "898                  10                 1                                \n",
       "899                  11                 1                                \n",
       "900                   7                 1                                \n",
       "901                   8                29                                \n",
       "\n",
       "[902 rows x 22 columns]"
      ],
      "text/html": "<div>\n<style scoped>\n    .dataframe tbody tr th:only-of-type {\n        vertical-align: middle;\n    }\n\n    .dataframe tbody tr th {\n        vertical-align: top;\n    }\n\n    .dataframe thead th {\n        text-align: right;\n    }\n</style>\n<table border=\"1\" class=\"dataframe\">\n  <thead>\n    <tr style=\"text-align: right;\">\n      <th></th>\n      <th>first_name</th>\n      <th>last_name</th>\n      <th>rank_desc</th>\n      <th>hourly_salary</th>\n      <th>middle_initial</th>\n      <th>effective_date</th>\n      <th>agency</th>\n      <th>data_production_year</th>\n      <th>uid</th>\n      <th>perhist_uid</th>\n      <th>...</th>\n      <th>resign_day</th>\n      <th>hire_year</th>\n      <th>hire_month</th>\n      <th>hire_day</th>\n      <th>pay_effective_year</th>\n      <th>pay_effective_month</th>\n      <th>pay_effective_day</th>\n      <th>rank_year</th>\n      <th>rank_month</th>\n      <th>rank_day</th>\n    </tr>\n  </thead>\n  <tbody>\n    <tr>\n      <th>0</th>\n      <td>kendall</td>\n      <td>turner</td>\n      <td>police officer 1-a</td>\n      <td>10.10</td>\n      <td>r</td>\n      <td>1/3/2007</td>\n      <td>New Orleans Harbor PD</td>\n      <td>2020</td>\n      <td>01cf5194afc556e5b49526c3636e2362</td>\n      <td>c3dc1f7275ff3681ca673813d786b798</td>\n      <td>...</td>\n      <td></td>\n      <td>2007</td>\n      <td>1</td>\n      <td>3</td>\n      <td>2007</td>\n      <td>1</td>\n      <td>3</td>\n      <td>2007</td>\n      <td>1</td>\n      <td>3</td>\n    </tr>\n    <tr>\n      <th>1</th>\n      <td>kendall</td>\n      <td>turner</td>\n      <td>police officer 2-a</td>\n      <td>15.18</td>\n      <td>r</td>\n      <td>1/4/2008</td>\n      <td>New Orleans Harbor PD</td>\n      <td>2020</td>\n      <td>01cf5194afc556e5b49526c3636e2362</td>\n      <td>13bf83f9ed69849fc2ad61e5329adca5</td>\n      <td>...</td>\n      <td></td>\n      <td>2007</td>\n      <td>1</td>\n      <td>3</td>\n      <td>2008</td>\n      <td>1</td>\n      <td>4</td>\n      <td>2008</td>\n      <td>1</td>\n      <td>4</td>\n    </tr>\n    <tr>\n      <th>2</th>\n      <td>kendall</td>\n      <td>turner</td>\n      <td>police officer 2-a</td>\n      <td>17.08</td>\n      <td>r</td>\n      <td>10/1/2012</td>\n      <td>New Orleans Harbor PD</td>\n      <td>2020</td>\n      <td>01cf5194afc556e5b49526c3636e2362</td>\n      <td>043c9de3e938d8cd2525def644ad3c64</td>\n      <td>...</td>\n      <td></td>\n      <td>2007</td>\n      <td>1</td>\n      <td>3</td>\n      <td>2012</td>\n      <td>10</td>\n      <td>1</td>\n      <td></td>\n      <td></td>\n      <td></td>\n    </tr>\n    <tr>\n      <th>3</th>\n      <td>kendall</td>\n      <td>turner</td>\n      <td>police officer 2-a</td>\n      <td>17.76</td>\n      <td>r</td>\n      <td>10/1/2013</td>\n      <td>New Orleans Harbor PD</td>\n      <td>2020</td>\n      <td>01cf5194afc556e5b49526c3636e2362</td>\n      <td>59fccb5c71605c1916f8939aa6aa1381</td>\n      <td>...</td>\n      <td></td>\n      <td>2007</td>\n      <td>1</td>\n      <td>3</td>\n      <td>2013</td>\n      <td>10</td>\n      <td>1</td>\n      <td></td>\n      <td></td>\n      <td></td>\n    </tr>\n    <tr>\n      <th>4</th>\n      <td>kendall</td>\n      <td>turner</td>\n      <td>police officer 2-a</td>\n      <td>18.47</td>\n      <td>r</td>\n      <td>10/1/2014</td>\n      <td>New Orleans Harbor PD</td>\n      <td>2020</td>\n      <td>01cf5194afc556e5b49526c3636e2362</td>\n      <td>d3e867074632239a401ae0f9b7bcb0b5</td>\n      <td>...</td>\n      <td></td>\n      <td>2007</td>\n      <td>1</td>\n      <td>3</td>\n      <td>2014</td>\n      <td>10</td>\n      <td>1</td>\n      <td></td>\n      <td></td>\n      <td></td>\n    </tr>\n    <tr>\n      <th>...</th>\n      <td>...</td>\n      <td>...</td>\n      <td>...</td>\n      <td>...</td>\n      <td>...</td>\n      <td>...</td>\n      <td>...</td>\n      <td>...</td>\n      <td>...</td>\n      <td>...</td>\n      <td>...</td>\n      <td>...</td>\n      <td>...</td>\n      <td>...</td>\n      <td>...</td>\n      <td>...</td>\n      <td>...</td>\n      <td>...</td>\n      <td>...</td>\n      <td>...</td>\n      <td>...</td>\n    </tr>\n    <tr>\n      <th>897</th>\n      <td>linda</td>\n      <td>st cyr</td>\n      <td>police officer 3-a</td>\n      <td>19.50</td>\n      <td>l</td>\n      <td>10/1/2007</td>\n      <td>New Orleans Harbor PD</td>\n      <td>2020</td>\n      <td>f9201bbb609a5755066a4bc23b7bb7e6</td>\n      <td>2c1c0b941a8c74083a15df59e0c1cbc7</td>\n      <td>...</td>\n      <td>31</td>\n      <td>1982</td>\n      <td>12</td>\n      <td>27</td>\n      <td>2007</td>\n      <td>10</td>\n      <td>1</td>\n      <td></td>\n      <td></td>\n      <td></td>\n    </tr>\n    <tr>\n      <th>898</th>\n      <td>linda</td>\n      <td>st cyr</td>\n      <td>police officer 3-a</td>\n      <td>22.31</td>\n      <td>l</td>\n      <td>10/1/2008</td>\n      <td>New Orleans Harbor PD</td>\n      <td>2020</td>\n      <td>f9201bbb609a5755066a4bc23b7bb7e6</td>\n      <td>8162e05dc991530289bc4115e449d25a</td>\n      <td>...</td>\n      <td>31</td>\n      <td>1982</td>\n      <td>12</td>\n      <td>27</td>\n      <td>2008</td>\n      <td>10</td>\n      <td>1</td>\n      <td></td>\n      <td></td>\n      <td></td>\n    </tr>\n    <tr>\n      <th>899</th>\n      <td>linda</td>\n      <td>st cyr</td>\n      <td>police officer 3-a</td>\n      <td>21.45</td>\n      <td>l</td>\n      <td>11/1/2007</td>\n      <td>New Orleans Harbor PD</td>\n      <td>2020</td>\n      <td>f9201bbb609a5755066a4bc23b7bb7e6</td>\n      <td>f31cde8d053c5701bc9db56facc2fa21</td>\n      <td>...</td>\n      <td>31</td>\n      <td>1982</td>\n      <td>12</td>\n      <td>27</td>\n      <td>2007</td>\n      <td>11</td>\n      <td>1</td>\n      <td></td>\n      <td></td>\n      <td></td>\n    </tr>\n    <tr>\n      <th>900</th>\n      <td>linda</td>\n      <td>st cyr</td>\n      <td>police officer 3-a</td>\n      <td>18.75</td>\n      <td>l</td>\n      <td>7/1/2007</td>\n      <td>New Orleans Harbor PD</td>\n      <td>2020</td>\n      <td>f9201bbb609a5755066a4bc23b7bb7e6</td>\n      <td>eea3e1b2bf424806c2a2ec9c4c363fb1</td>\n      <td>...</td>\n      <td>31</td>\n      <td>1982</td>\n      <td>12</td>\n      <td>27</td>\n      <td>2007</td>\n      <td>7</td>\n      <td>1</td>\n      <td></td>\n      <td></td>\n      <td></td>\n    </tr>\n    <tr>\n      <th>901</th>\n      <td>linda</td>\n      <td>st cyr</td>\n      <td>police officer 3-a</td>\n      <td>17.17</td>\n      <td>l</td>\n      <td>8/29/2005</td>\n      <td>New Orleans Harbor PD</td>\n      <td>2020</td>\n      <td>f9201bbb609a5755066a4bc23b7bb7e6</td>\n      <td>410de5272a1082619de7f9eaca38117c</td>\n      <td>...</td>\n      <td>31</td>\n      <td>1982</td>\n      <td>12</td>\n      <td>27</td>\n      <td>2005</td>\n      <td>8</td>\n      <td>29</td>\n      <td></td>\n      <td></td>\n      <td></td>\n    </tr>\n  </tbody>\n</table>\n<p>902 rows × 22 columns</p>\n</div>"
     },
     "metadata": {},
     "execution_count": 2
    }
   ],
   "source": [
    "df20 = clean_personnel_2020()\n",
    "df20"
   ]
  },
  {
   "cell_type": "code",
   "execution_count": 3,
   "metadata": {},
   "outputs": [
    {
     "output_type": "stream",
     "name": "stderr",
     "text": [
      "../lib/clean.py:166: FutureWarning: The default value of regex will change from True to False in a future version.\n  return series.str.strip().str.replace(r\"[^\\w-]+\", \" \").str.replace(r\"\\s+\", \" \")\\\n../lib/clean.py:156: FutureWarning: The default value of regex will change from True to False in a future version.\n  return series.str.strip().str.replace(r\"[^\\d\\.]\", \"\").astype(\"float64\")\n"
     ]
    },
    {
     "output_type": "execute_result",
     "data": {
      "text/plain": [
       "    first_name middle_initial    last_name               rank_desc  \\\n",
       "0       cheryl              e        st pe   police corporal--port   \n",
       "1        larry              m  francingues  police officer 2--port   \n",
       "2        larry              m  francingues  police officer 2--port   \n",
       "3        larry              m  francingues  police officer 2--port   \n",
       "4        larry              m  francingues      police officer 2-a   \n",
       "..         ...            ...          ...                     ...   \n",
       "162    antoine              a   derouen jr  police officer 2--port   \n",
       "163    antoine              a   derouen jr  police officer 2--port   \n",
       "164    antoine              a   derouen jr  police officer 2--port   \n",
       "165    antoine              a   derouen jr      police officer 2-a   \n",
       "166    antoine              a   derouen jr      police officer 2-a   \n",
       "\n",
       "    effective_date  hourly_salary                 agency  \\\n",
       "0        2/28/1992           9.99  New Orleans Harbor PD   \n",
       "1        1/19/2002          11.32  New Orleans Harbor PD   \n",
       "2        1/19/2003          11.77  New Orleans Harbor PD   \n",
       "3        1/19/2004          12.24  New Orleans Harbor PD   \n",
       "4        1/19/2005          12.73  New Orleans Harbor PD   \n",
       "..             ...            ...                    ...   \n",
       "162       3/8/2003          12.75  New Orleans Harbor PD   \n",
       "163       3/8/2004          13.26  New Orleans Harbor PD   \n",
       "164       3/8/2005          13.79  New Orleans Harbor PD   \n",
       "165       3/8/2006          14.34  New Orleans Harbor PD   \n",
       "166      8/29/2005          13.79  New Orleans Harbor PD   \n",
       "\n",
       "     data_production_year                               uid  \\\n",
       "0                    2008  000526fa05739e97b61343513a92dbc7   \n",
       "1                    2008  010c27441d135085258ae415c22843ae   \n",
       "2                    2008  010c27441d135085258ae415c22843ae   \n",
       "3                    2008  010c27441d135085258ae415c22843ae   \n",
       "4                    2008  010c27441d135085258ae415c22843ae   \n",
       "..                    ...                               ...   \n",
       "162                  2008  fb21c5c11c57efd44890f8e2c4fbe7f7   \n",
       "163                  2008  fb21c5c11c57efd44890f8e2c4fbe7f7   \n",
       "164                  2008  fb21c5c11c57efd44890f8e2c4fbe7f7   \n",
       "165                  2008  fb21c5c11c57efd44890f8e2c4fbe7f7   \n",
       "166                  2008  fb21c5c11c57efd44890f8e2c4fbe7f7   \n",
       "\n",
       "                          perhist_uid  ... hire_day resign_year resign_month  \\\n",
       "0    598ce57575a1bf7974fb8ebd969d5c4e  ...       19        1992            2   \n",
       "1    62476dc1ad5918dbed71d25ef147a9a7  ...       19        2005           12   \n",
       "2    8ac42cec937710ab76d6b47f993d8588  ...       19        2005           12   \n",
       "3    ca41c00d4ecfe5a375a6d4a1205c7a80  ...       19        2005           12   \n",
       "4    2d6b84d1da2fdaa61df7319d86941cea  ...       19        2005           12   \n",
       "..                                ...  ...      ...         ...          ...   \n",
       "162  e60fefbd16588ed32feee633ef7b0d07  ...        8        2006           12   \n",
       "163  ea0656b90251a0f6ffdb62c4200e43b5  ...        8        2006           12   \n",
       "164  d8f6e28091455761ce48a745212c2346  ...        8        2006           12   \n",
       "165  558f7b9edb26f64d9d61d4fe9e7f26c6  ...        8        2006           12   \n",
       "166  13a678c6634bcfe843920d208c5bdde0  ...        8        2006           12   \n",
       "\n",
       "    resign_day pay_effective_year pay_effective_month pay_effective_day  \\\n",
       "0           28               1992                   2                28   \n",
       "1           19               2002                   1                19   \n",
       "2           19               2003                   1                19   \n",
       "3           19               2004                   1                19   \n",
       "4           19               2005                   1                19   \n",
       "..         ...                ...                 ...               ...   \n",
       "162         11               2003                   3                 8   \n",
       "163         11               2004                   3                 8   \n",
       "164         11               2005                   3                 8   \n",
       "165         11               2006                   3                 8   \n",
       "166         11               2005                   8                29   \n",
       "\n",
       "    rank_year rank_month rank_day  \n",
       "0        1992          2       28  \n",
       "1        2002          1       19  \n",
       "2                                  \n",
       "3                                  \n",
       "4        2005          1       19  \n",
       "..        ...        ...      ...  \n",
       "162                                \n",
       "163                                \n",
       "164                                \n",
       "165      2006          3        8  \n",
       "166                                \n",
       "\n",
       "[167 rows x 22 columns]"
      ],
      "text/html": "<div>\n<style scoped>\n    .dataframe tbody tr th:only-of-type {\n        vertical-align: middle;\n    }\n\n    .dataframe tbody tr th {\n        vertical-align: top;\n    }\n\n    .dataframe thead th {\n        text-align: right;\n    }\n</style>\n<table border=\"1\" class=\"dataframe\">\n  <thead>\n    <tr style=\"text-align: right;\">\n      <th></th>\n      <th>first_name</th>\n      <th>middle_initial</th>\n      <th>last_name</th>\n      <th>rank_desc</th>\n      <th>effective_date</th>\n      <th>hourly_salary</th>\n      <th>agency</th>\n      <th>data_production_year</th>\n      <th>uid</th>\n      <th>perhist_uid</th>\n      <th>...</th>\n      <th>hire_day</th>\n      <th>resign_year</th>\n      <th>resign_month</th>\n      <th>resign_day</th>\n      <th>pay_effective_year</th>\n      <th>pay_effective_month</th>\n      <th>pay_effective_day</th>\n      <th>rank_year</th>\n      <th>rank_month</th>\n      <th>rank_day</th>\n    </tr>\n  </thead>\n  <tbody>\n    <tr>\n      <th>0</th>\n      <td>cheryl</td>\n      <td>e</td>\n      <td>st pe</td>\n      <td>police corporal--port</td>\n      <td>2/28/1992</td>\n      <td>9.99</td>\n      <td>New Orleans Harbor PD</td>\n      <td>2008</td>\n      <td>000526fa05739e97b61343513a92dbc7</td>\n      <td>598ce57575a1bf7974fb8ebd969d5c4e</td>\n      <td>...</td>\n      <td>19</td>\n      <td>1992</td>\n      <td>2</td>\n      <td>28</td>\n      <td>1992</td>\n      <td>2</td>\n      <td>28</td>\n      <td>1992</td>\n      <td>2</td>\n      <td>28</td>\n    </tr>\n    <tr>\n      <th>1</th>\n      <td>larry</td>\n      <td>m</td>\n      <td>francingues</td>\n      <td>police officer 2--port</td>\n      <td>1/19/2002</td>\n      <td>11.32</td>\n      <td>New Orleans Harbor PD</td>\n      <td>2008</td>\n      <td>010c27441d135085258ae415c22843ae</td>\n      <td>62476dc1ad5918dbed71d25ef147a9a7</td>\n      <td>...</td>\n      <td>19</td>\n      <td>2005</td>\n      <td>12</td>\n      <td>19</td>\n      <td>2002</td>\n      <td>1</td>\n      <td>19</td>\n      <td>2002</td>\n      <td>1</td>\n      <td>19</td>\n    </tr>\n    <tr>\n      <th>2</th>\n      <td>larry</td>\n      <td>m</td>\n      <td>francingues</td>\n      <td>police officer 2--port</td>\n      <td>1/19/2003</td>\n      <td>11.77</td>\n      <td>New Orleans Harbor PD</td>\n      <td>2008</td>\n      <td>010c27441d135085258ae415c22843ae</td>\n      <td>8ac42cec937710ab76d6b47f993d8588</td>\n      <td>...</td>\n      <td>19</td>\n      <td>2005</td>\n      <td>12</td>\n      <td>19</td>\n      <td>2003</td>\n      <td>1</td>\n      <td>19</td>\n      <td></td>\n      <td></td>\n      <td></td>\n    </tr>\n    <tr>\n      <th>3</th>\n      <td>larry</td>\n      <td>m</td>\n      <td>francingues</td>\n      <td>police officer 2--port</td>\n      <td>1/19/2004</td>\n      <td>12.24</td>\n      <td>New Orleans Harbor PD</td>\n      <td>2008</td>\n      <td>010c27441d135085258ae415c22843ae</td>\n      <td>ca41c00d4ecfe5a375a6d4a1205c7a80</td>\n      <td>...</td>\n      <td>19</td>\n      <td>2005</td>\n      <td>12</td>\n      <td>19</td>\n      <td>2004</td>\n      <td>1</td>\n      <td>19</td>\n      <td></td>\n      <td></td>\n      <td></td>\n    </tr>\n    <tr>\n      <th>4</th>\n      <td>larry</td>\n      <td>m</td>\n      <td>francingues</td>\n      <td>police officer 2-a</td>\n      <td>1/19/2005</td>\n      <td>12.73</td>\n      <td>New Orleans Harbor PD</td>\n      <td>2008</td>\n      <td>010c27441d135085258ae415c22843ae</td>\n      <td>2d6b84d1da2fdaa61df7319d86941cea</td>\n      <td>...</td>\n      <td>19</td>\n      <td>2005</td>\n      <td>12</td>\n      <td>19</td>\n      <td>2005</td>\n      <td>1</td>\n      <td>19</td>\n      <td>2005</td>\n      <td>1</td>\n      <td>19</td>\n    </tr>\n    <tr>\n      <th>...</th>\n      <td>...</td>\n      <td>...</td>\n      <td>...</td>\n      <td>...</td>\n      <td>...</td>\n      <td>...</td>\n      <td>...</td>\n      <td>...</td>\n      <td>...</td>\n      <td>...</td>\n      <td>...</td>\n      <td>...</td>\n      <td>...</td>\n      <td>...</td>\n      <td>...</td>\n      <td>...</td>\n      <td>...</td>\n      <td>...</td>\n      <td>...</td>\n      <td>...</td>\n      <td>...</td>\n    </tr>\n    <tr>\n      <th>162</th>\n      <td>antoine</td>\n      <td>a</td>\n      <td>derouen jr</td>\n      <td>police officer 2--port</td>\n      <td>3/8/2003</td>\n      <td>12.75</td>\n      <td>New Orleans Harbor PD</td>\n      <td>2008</td>\n      <td>fb21c5c11c57efd44890f8e2c4fbe7f7</td>\n      <td>e60fefbd16588ed32feee633ef7b0d07</td>\n      <td>...</td>\n      <td>8</td>\n      <td>2006</td>\n      <td>12</td>\n      <td>11</td>\n      <td>2003</td>\n      <td>3</td>\n      <td>8</td>\n      <td></td>\n      <td></td>\n      <td></td>\n    </tr>\n    <tr>\n      <th>163</th>\n      <td>antoine</td>\n      <td>a</td>\n      <td>derouen jr</td>\n      <td>police officer 2--port</td>\n      <td>3/8/2004</td>\n      <td>13.26</td>\n      <td>New Orleans Harbor PD</td>\n      <td>2008</td>\n      <td>fb21c5c11c57efd44890f8e2c4fbe7f7</td>\n      <td>ea0656b90251a0f6ffdb62c4200e43b5</td>\n      <td>...</td>\n      <td>8</td>\n      <td>2006</td>\n      <td>12</td>\n      <td>11</td>\n      <td>2004</td>\n      <td>3</td>\n      <td>8</td>\n      <td></td>\n      <td></td>\n      <td></td>\n    </tr>\n    <tr>\n      <th>164</th>\n      <td>antoine</td>\n      <td>a</td>\n      <td>derouen jr</td>\n      <td>police officer 2--port</td>\n      <td>3/8/2005</td>\n      <td>13.79</td>\n      <td>New Orleans Harbor PD</td>\n      <td>2008</td>\n      <td>fb21c5c11c57efd44890f8e2c4fbe7f7</td>\n      <td>d8f6e28091455761ce48a745212c2346</td>\n      <td>...</td>\n      <td>8</td>\n      <td>2006</td>\n      <td>12</td>\n      <td>11</td>\n      <td>2005</td>\n      <td>3</td>\n      <td>8</td>\n      <td></td>\n      <td></td>\n      <td></td>\n    </tr>\n    <tr>\n      <th>165</th>\n      <td>antoine</td>\n      <td>a</td>\n      <td>derouen jr</td>\n      <td>police officer 2-a</td>\n      <td>3/8/2006</td>\n      <td>14.34</td>\n      <td>New Orleans Harbor PD</td>\n      <td>2008</td>\n      <td>fb21c5c11c57efd44890f8e2c4fbe7f7</td>\n      <td>558f7b9edb26f64d9d61d4fe9e7f26c6</td>\n      <td>...</td>\n      <td>8</td>\n      <td>2006</td>\n      <td>12</td>\n      <td>11</td>\n      <td>2006</td>\n      <td>3</td>\n      <td>8</td>\n      <td>2006</td>\n      <td>3</td>\n      <td>8</td>\n    </tr>\n    <tr>\n      <th>166</th>\n      <td>antoine</td>\n      <td>a</td>\n      <td>derouen jr</td>\n      <td>police officer 2-a</td>\n      <td>8/29/2005</td>\n      <td>13.79</td>\n      <td>New Orleans Harbor PD</td>\n      <td>2008</td>\n      <td>fb21c5c11c57efd44890f8e2c4fbe7f7</td>\n      <td>13a678c6634bcfe843920d208c5bdde0</td>\n      <td>...</td>\n      <td>8</td>\n      <td>2006</td>\n      <td>12</td>\n      <td>11</td>\n      <td>2005</td>\n      <td>8</td>\n      <td>29</td>\n      <td></td>\n      <td></td>\n      <td></td>\n    </tr>\n  </tbody>\n</table>\n<p>167 rows × 22 columns</p>\n</div>"
     },
     "metadata": {},
     "execution_count": 3
    }
   ],
   "source": [
    "df08 = clean_personnel_2008()\n",
    "df08"
   ]
  },
  {
   "cell_type": "code",
   "execution_count": 5,
   "metadata": {},
   "outputs": [
    {
     "output_type": "stream",
     "name": "stderr",
     "text": [
      "/Users/khoipham/opt/anaconda3/lib/python3.8/site-packages/pandas/core/indexing.py:1596: SettingWithCopyWarning: \nA value is trying to be set on a copy of a slice from a DataFrame.\nTry using .loc[row_indexer,col_indexer] = value instead\n\nSee the caveats in the documentation: https://pandas.pydata.org/pandas-docs/stable/user_guide/indexing.html#returning-a-view-versus-a-copy\n  self.obj[key] = value\n/Users/khoipham/opt/anaconda3/lib/python3.8/site-packages/pandas/core/indexing.py:1675: SettingWithCopyWarning: \nA value is trying to be set on a copy of a slice from a DataFrame.\nTry using .loc[row_indexer,col_indexer] = value instead\n\nSee the caveats in the documentation: https://pandas.pydata.org/pandas-docs/stable/user_guide/indexing.html#returning-a-view-versus-a-copy\n  self._setitem_single_column(ilocs[0], value, pi)\n"
     ]
    }
   ],
   "source": [
    "cprr = pd.read_csv(\"../data/clean/cprr_new_orleans_harbor_pd_2020.csv\")\n",
    "matcher = match_uid_with_cprr(cprr, df20)"
   ]
  },
  {
   "cell_type": "code",
   "execution_count": 6,
   "metadata": {},
   "outputs": [
    {
     "output_type": "error",
     "ename": "AttributeError",
     "evalue": "'DataFrame' object has no attribute 'get_sample_pairs'",
     "traceback": [
      "\u001b[0;31m---------------------------------------------------------------------------\u001b[0m",
      "\u001b[0;31mAttributeError\u001b[0m                            Traceback (most recent call last)",
      "\u001b[0;32m<ipython-input-6-c21416ccecb1>\u001b[0m in \u001b[0;36m<module>\u001b[0;34m\u001b[0m\n\u001b[0;32m----> 1\u001b[0;31m \u001b[0mmatcher\u001b[0m\u001b[0;34m.\u001b[0m\u001b[0mget_sample_pairs\u001b[0m\u001b[0;34m(\u001b[0m\u001b[0;34m)\u001b[0m\u001b[0;34m\u001b[0m\u001b[0;34m\u001b[0m\u001b[0m\n\u001b[0m",
      "\u001b[0;32m~/opt/anaconda3/lib/python3.8/site-packages/pandas/core/generic.py\u001b[0m in \u001b[0;36m__getattr__\u001b[0;34m(self, name)\u001b[0m\n\u001b[1;32m   5458\u001b[0m             \u001b[0;32mif\u001b[0m \u001b[0mself\u001b[0m\u001b[0;34m.\u001b[0m\u001b[0m_info_axis\u001b[0m\u001b[0;34m.\u001b[0m\u001b[0m_can_hold_identifiers_and_holds_name\u001b[0m\u001b[0;34m(\u001b[0m\u001b[0mname\u001b[0m\u001b[0;34m)\u001b[0m\u001b[0;34m:\u001b[0m\u001b[0;34m\u001b[0m\u001b[0;34m\u001b[0m\u001b[0m\n\u001b[1;32m   5459\u001b[0m                 \u001b[0;32mreturn\u001b[0m \u001b[0mself\u001b[0m\u001b[0;34m[\u001b[0m\u001b[0mname\u001b[0m\u001b[0;34m]\u001b[0m\u001b[0;34m\u001b[0m\u001b[0;34m\u001b[0m\u001b[0m\n\u001b[0;32m-> 5460\u001b[0;31m             \u001b[0;32mreturn\u001b[0m \u001b[0mobject\u001b[0m\u001b[0;34m.\u001b[0m\u001b[0m__getattribute__\u001b[0m\u001b[0;34m(\u001b[0m\u001b[0mself\u001b[0m\u001b[0;34m,\u001b[0m \u001b[0mname\u001b[0m\u001b[0;34m)\u001b[0m\u001b[0;34m\u001b[0m\u001b[0;34m\u001b[0m\u001b[0m\n\u001b[0m\u001b[1;32m   5461\u001b[0m \u001b[0;34m\u001b[0m\u001b[0m\n\u001b[1;32m   5462\u001b[0m     \u001b[0;32mdef\u001b[0m \u001b[0m__setattr__\u001b[0m\u001b[0;34m(\u001b[0m\u001b[0mself\u001b[0m\u001b[0;34m,\u001b[0m \u001b[0mname\u001b[0m\u001b[0;34m:\u001b[0m \u001b[0mstr\u001b[0m\u001b[0;34m,\u001b[0m \u001b[0mvalue\u001b[0m\u001b[0;34m)\u001b[0m \u001b[0;34m->\u001b[0m \u001b[0;32mNone\u001b[0m\u001b[0;34m:\u001b[0m\u001b[0;34m\u001b[0m\u001b[0;34m\u001b[0m\u001b[0m\n",
      "\u001b[0;31mAttributeError\u001b[0m: 'DataFrame' object has no attribute 'get_sample_pairs'"
     ]
    }
   ],
   "source": [
    "matcher.get_sample_pairs()"
   ]
  },
  {
   "cell_type": "code",
   "execution_count": null,
   "metadata": {},
   "outputs": [],
   "source": []
  }
 ],
 "metadata": {
  "kernelspec": {
   "name": "python383jvsc74a57bd0759d03fc00c4e55187619d7bc1e0b6a3309d14c7c00d43a321634150e05678f8",
   "display_name": "Python 3.8.3 64-bit ('base': conda)"
  },
  "language_info": {
   "codemirror_mode": {
    "name": "ipython",
    "version": 3
   },
   "file_extension": ".py",
   "mimetype": "text/x-python",
   "name": "python",
   "nbconvert_exporter": "python",
   "pygments_lexer": "ipython3",
   "version": "3.8.3-final"
  }
 },
 "nbformat": 4,
 "nbformat_minor": 4
}
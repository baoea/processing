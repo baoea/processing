{
 "metadata": {
  "language_info": {
   "codemirror_mode": {
    "name": "ipython",
    "version": 3
   },
   "file_extension": ".py",
   "mimetype": "text/x-python",
   "name": "python",
   "nbconvert_exporter": "python",
   "pygments_lexer": "ipython3",
   "version": "3.8.3-final"
  },
  "orig_nbformat": 2,
  "kernelspec": {
   "name": "python3",
   "display_name": "Python 3",
   "language": "python"
  }
 },
 "nbformat": 4,
 "nbformat_minor": 2,
 "cells": [
  {
   "cell_type": "code",
   "execution_count": 1,
   "metadata": {},
   "outputs": [],
   "source": [
    "import sys; sys.path.append(\"../\")\n",
    "\n",
    "import pandas as pd\n",
    "\n",
    "from clean.port_allen_pd_cprr import clean19, clean18\n",
    "from clean.port_allen_csd_pprr import clean as clean_pprr\n",
    "from match.port_allen_pd import match_csd_pprr_against_post_pprr, match_cprr_2019_against_csd_pprr_2020, match_cprr_2018_against_csd_pprr_2020"
   ]
  },
  {
   "cell_type": "code",
   "execution_count": 2,
   "metadata": {},
   "outputs": [
    {
     "output_type": "stream",
     "name": "stdout",
     "text": [
      "standardize_from_lookup_table: unmatched sequences:\n",
      "  {''}\n",
      "../lib/clean.py:166: FutureWarning: The default value of regex will change from True to False in a future version.\n",
      "  return series.str.strip().str.replace(r\"[^\\w-]+\", \" \").str.replace(r\"\\s+\", \" \")\\\n",
      "../clean/port_allen_pd_cprr.py:35: FutureWarning: The default value of regex will change from True to False in a future version.\n",
      "  df.loc[:, \"occur_time\"] = df.occur_time.str.strip().fillna(\"\")\\\n",
      "../clean/port_allen_pd_cprr.py:46: FutureWarning: The default value of regex will change from True to False in a future version.\n",
      "  df.loc[:, \"occur_date\"] = df.occur_date.str.strip().fillna(\"\")\\\n",
      "../clean/port_allen_pd_cprr.py:77: FutureWarning: The default value of regex will change from True to False in a future version.\n",
      "  df.loc[:, \"charge\"] = df.charge.fillna(\"\").str.replace(r\"\\s*(;|and)$\", \"\")\n"
     ]
    },
    {
     "output_type": "execute_result",
     "data": {
      "text/plain": [
       "   rank_desc first_name last_name badge_no    disposition occur_time  \\\n",
       "0    officer      craig  crawford    PA-28  not sustained      14:30   \n",
       "1    officer       eric   reineke    PA-11      sustained      17:25   \n",
       "2    officer      craig  crawford    PA-28      unfounded      05:00   \n",
       "3   corporal      bobby    hopson     PA-8      unfounded      10:07   \n",
       "4   corporal      bobby    hopson     PA-8        expired              \n",
       "5    officer       eric   reineke    PA-11  not sustained      23:30   \n",
       "6    officer      craig  crawford    PA-28      sustained      00:52   \n",
       "7    officer      craig  crawford    PA-28      unfounded      15:34   \n",
       "8   corporal      bobby    hopson     PA-8     exonerated              \n",
       "9    officer      craig  crawford    PA-28  not sustained      17:00   \n",
       "10   officer       jana    chustz    PA-13        expired      15:30   \n",
       "11   officer      craig  crawford    PA-28     exonerated      09:00   \n",
       "12   officer       eric   reineke    PA-11      sustained      18:30   \n",
       "13   officer    latrese    darden     PA-6      sustained      14:35   \n",
       "14   officer      craig  crawford    PA-28     exonerated      03:40   \n",
       "15   officer      craig  crawford    PA-28     exonerated      12:30   \n",
       "16   officer      james     lewis     PA-9                     20:30   \n",
       "17  sergeant     briant    landry    PA-17      unfounded      10:00   \n",
       "18  sergeant     briant    landry    PA-17      sustained      22:33   \n",
       "19  sergeant     briant    landry    PA-17      sustained      22:33   \n",
       "20  sergeant     briant    landry    PA-17      sustained      22:33   \n",
       "21   officer    tiffeny  wycoskie     PA-5      sustained              \n",
       "22   officer    tiffeny  wycoskie     PA-5     exonerated              \n",
       "23   officer       eric   reineke    PA-11      sustained      16:00   \n",
       "24   officer      nolan     dehon     PA-4      unfounded      06:45   \n",
       "\n",
       "   tracking_number receive_year receive_month receive_day occur_year  \\\n",
       "0            19-01         2019             1          24       2019   \n",
       "1           19-010         2019             6          18       2019   \n",
       "2           19-011         2019             6          20       2019   \n",
       "3           19-012         2019             6          21       2019   \n",
       "4           19-013         2019             6          25       2019   \n",
       "5           19-014         2019             7           8       2019   \n",
       "6           19-015         2019             6           7       2019   \n",
       "7           19-016         2019             7          16       2019   \n",
       "8           19-017         2019             8          19              \n",
       "9           19-018         2019             8          15       2019   \n",
       "10          19-019         2019             9          19       2019   \n",
       "11           19-02         2019             1          28       2019   \n",
       "12          19-020         2019             8          28       2019   \n",
       "13          19-021         2019            10          14       2019   \n",
       "14          19-023         2019            11          23       2019   \n",
       "15          19-024         2019            12          16       2019   \n",
       "16           19-03         2019             2          12       2019   \n",
       "17           19-04         2019             2           6       2019   \n",
       "18           19-05         2019             3          13       2019   \n",
       "19           19-05         2019             3          13       2019   \n",
       "20           19-05         2019             3          13       2019   \n",
       "21           19-06         2019             3          27              \n",
       "22           19-07         2018             4          15       2019   \n",
       "23           19-08         2019             5           3       2019   \n",
       "24           19-09         2019             6          13       2019   \n",
       "\n",
       "   occur_month occur_day                                       charges  \\\n",
       "0            1        16         2:15 conduct unbecoming of an officer   \n",
       "1            6        14                       112/2 command of temper   \n",
       "2            6        19                                                 \n",
       "3            6         1                                                 \n",
       "4            3        13                                                 \n",
       "5            7         3         2:15 conduct unbecoming of an officer   \n",
       "6            7         7                      3:11 carrying out orders   \n",
       "7            6        26         2:15 conduct unbecoming of an officer   \n",
       "8                                2:15 conduct unbecoming of an officer   \n",
       "9            8        14         2:15 conduct unbecoming of an officer   \n",
       "10           8        18       122 departmental motor vehicle accident   \n",
       "11           1        28       122 departmental motor vehicle accident   \n",
       "12           8        24         2:15 conduct unbecoming of an officer   \n",
       "13          10        13       122 departmental motor vehicle accident   \n",
       "14          11        23       122 departmental motor vehicle accident   \n",
       "15          11        28                                                 \n",
       "16           1        31         2:15 conduct unbecoming of an officer   \n",
       "17           2         6         2:15 conduct unbecoming of an officer   \n",
       "18           3        10  2:21 use of alcohol and controlled substance   \n",
       "19           3        10         2:15 conduct unbecoming of an officer   \n",
       "20           3        10                      3:11 carrying out orders   \n",
       "21                             122 departmental motor vehicle accident   \n",
       "22           3        28         2:15 conduct unbecoming of an officer   \n",
       "23           4        30       122 departmental motor vehicle accident   \n",
       "24          06        13         2:15 conduct unbecoming of an officer   \n",
       "\n",
       "           agency data_production_year                               uid  \n",
       "0   Port Allen PD                 2019  3eb506364d363250c78e785bd4b922de  \n",
       "1   Port Allen PD                 2019  0154446c5f7281fe33db1ed077d53a6a  \n",
       "2   Port Allen PD                 2019  3eb506364d363250c78e785bd4b922de  \n",
       "3   Port Allen PD                 2019  48613372c82b0a85f4933825f9d6c009  \n",
       "4   Port Allen PD                 2019  48613372c82b0a85f4933825f9d6c009  \n",
       "5   Port Allen PD                 2019  0154446c5f7281fe33db1ed077d53a6a  \n",
       "6   Port Allen PD                 2019  3eb506364d363250c78e785bd4b922de  \n",
       "7   Port Allen PD                 2019  3eb506364d363250c78e785bd4b922de  \n",
       "8   Port Allen PD                 2019  48613372c82b0a85f4933825f9d6c009  \n",
       "9   Port Allen PD                 2019  3eb506364d363250c78e785bd4b922de  \n",
       "10  Port Allen PD                 2019  e2ff2590239356be9ac3c98a85a5caa2  \n",
       "11  Port Allen PD                 2019  3eb506364d363250c78e785bd4b922de  \n",
       "12  Port Allen PD                 2019  0154446c5f7281fe33db1ed077d53a6a  \n",
       "13  Port Allen PD                 2019  9b2e7fa1a79cef25f43527981276ece4  \n",
       "14  Port Allen PD                 2019  3eb506364d363250c78e785bd4b922de  \n",
       "15  Port Allen PD                 2019  3eb506364d363250c78e785bd4b922de  \n",
       "16  Port Allen PD                 2019  543b25634ec801e4794dc94e79e24f5c  \n",
       "17  Port Allen PD                 2019  288907b81326ed3700254bca80eaad49  \n",
       "18  Port Allen PD                 2019  288907b81326ed3700254bca80eaad49  \n",
       "19  Port Allen PD                 2019  288907b81326ed3700254bca80eaad49  \n",
       "20  Port Allen PD                 2019  288907b81326ed3700254bca80eaad49  \n",
       "21  Port Allen PD                 2019  6ade487aa52a65c3e3c4ed213cfb83e0  \n",
       "22  Port Allen PD                 2019  6ade487aa52a65c3e3c4ed213cfb83e0  \n",
       "23  Port Allen PD                 2019  0154446c5f7281fe33db1ed077d53a6a  \n",
       "24  Port Allen PD                 2019  020adb924ca054caccff2314c4189d8a  "
      ],
      "text/html": "<div>\n<style scoped>\n    .dataframe tbody tr th:only-of-type {\n        vertical-align: middle;\n    }\n\n    .dataframe tbody tr th {\n        vertical-align: top;\n    }\n\n    .dataframe thead th {\n        text-align: right;\n    }\n</style>\n<table border=\"1\" class=\"dataframe\">\n  <thead>\n    <tr style=\"text-align: right;\">\n      <th></th>\n      <th>rank_desc</th>\n      <th>first_name</th>\n      <th>last_name</th>\n      <th>badge_no</th>\n      <th>disposition</th>\n      <th>occur_time</th>\n      <th>tracking_number</th>\n      <th>receive_year</th>\n      <th>receive_month</th>\n      <th>receive_day</th>\n      <th>occur_year</th>\n      <th>occur_month</th>\n      <th>occur_day</th>\n      <th>charges</th>\n      <th>agency</th>\n      <th>data_production_year</th>\n      <th>uid</th>\n    </tr>\n  </thead>\n  <tbody>\n    <tr>\n      <th>0</th>\n      <td>officer</td>\n      <td>craig</td>\n      <td>crawford</td>\n      <td>PA-28</td>\n      <td>not sustained</td>\n      <td>14:30</td>\n      <td>19-01</td>\n      <td>2019</td>\n      <td>1</td>\n      <td>24</td>\n      <td>2019</td>\n      <td>1</td>\n      <td>16</td>\n      <td>2:15 conduct unbecoming of an officer</td>\n      <td>Port Allen PD</td>\n      <td>2019</td>\n      <td>3eb506364d363250c78e785bd4b922de</td>\n    </tr>\n    <tr>\n      <th>1</th>\n      <td>officer</td>\n      <td>eric</td>\n      <td>reineke</td>\n      <td>PA-11</td>\n      <td>sustained</td>\n      <td>17:25</td>\n      <td>19-010</td>\n      <td>2019</td>\n      <td>6</td>\n      <td>18</td>\n      <td>2019</td>\n      <td>6</td>\n      <td>14</td>\n      <td>112/2 command of temper</td>\n      <td>Port Allen PD</td>\n      <td>2019</td>\n      <td>0154446c5f7281fe33db1ed077d53a6a</td>\n    </tr>\n    <tr>\n      <th>2</th>\n      <td>officer</td>\n      <td>craig</td>\n      <td>crawford</td>\n      <td>PA-28</td>\n      <td>unfounded</td>\n      <td>05:00</td>\n      <td>19-011</td>\n      <td>2019</td>\n      <td>6</td>\n      <td>20</td>\n      <td>2019</td>\n      <td>6</td>\n      <td>19</td>\n      <td></td>\n      <td>Port Allen PD</td>\n      <td>2019</td>\n      <td>3eb506364d363250c78e785bd4b922de</td>\n    </tr>\n    <tr>\n      <th>3</th>\n      <td>corporal</td>\n      <td>bobby</td>\n      <td>hopson</td>\n      <td>PA-8</td>\n      <td>unfounded</td>\n      <td>10:07</td>\n      <td>19-012</td>\n      <td>2019</td>\n      <td>6</td>\n      <td>21</td>\n      <td>2019</td>\n      <td>6</td>\n      <td>1</td>\n      <td></td>\n      <td>Port Allen PD</td>\n      <td>2019</td>\n      <td>48613372c82b0a85f4933825f9d6c009</td>\n    </tr>\n    <tr>\n      <th>4</th>\n      <td>corporal</td>\n      <td>bobby</td>\n      <td>hopson</td>\n      <td>PA-8</td>\n      <td>expired</td>\n      <td></td>\n      <td>19-013</td>\n      <td>2019</td>\n      <td>6</td>\n      <td>25</td>\n      <td>2019</td>\n      <td>3</td>\n      <td>13</td>\n      <td></td>\n      <td>Port Allen PD</td>\n      <td>2019</td>\n      <td>48613372c82b0a85f4933825f9d6c009</td>\n    </tr>\n    <tr>\n      <th>5</th>\n      <td>officer</td>\n      <td>eric</td>\n      <td>reineke</td>\n      <td>PA-11</td>\n      <td>not sustained</td>\n      <td>23:30</td>\n      <td>19-014</td>\n      <td>2019</td>\n      <td>7</td>\n      <td>8</td>\n      <td>2019</td>\n      <td>7</td>\n      <td>3</td>\n      <td>2:15 conduct unbecoming of an officer</td>\n      <td>Port Allen PD</td>\n      <td>2019</td>\n      <td>0154446c5f7281fe33db1ed077d53a6a</td>\n    </tr>\n    <tr>\n      <th>6</th>\n      <td>officer</td>\n      <td>craig</td>\n      <td>crawford</td>\n      <td>PA-28</td>\n      <td>sustained</td>\n      <td>00:52</td>\n      <td>19-015</td>\n      <td>2019</td>\n      <td>6</td>\n      <td>7</td>\n      <td>2019</td>\n      <td>7</td>\n      <td>7</td>\n      <td>3:11 carrying out orders</td>\n      <td>Port Allen PD</td>\n      <td>2019</td>\n      <td>3eb506364d363250c78e785bd4b922de</td>\n    </tr>\n    <tr>\n      <th>7</th>\n      <td>officer</td>\n      <td>craig</td>\n      <td>crawford</td>\n      <td>PA-28</td>\n      <td>unfounded</td>\n      <td>15:34</td>\n      <td>19-016</td>\n      <td>2019</td>\n      <td>7</td>\n      <td>16</td>\n      <td>2019</td>\n      <td>6</td>\n      <td>26</td>\n      <td>2:15 conduct unbecoming of an officer</td>\n      <td>Port Allen PD</td>\n      <td>2019</td>\n      <td>3eb506364d363250c78e785bd4b922de</td>\n    </tr>\n    <tr>\n      <th>8</th>\n      <td>corporal</td>\n      <td>bobby</td>\n      <td>hopson</td>\n      <td>PA-8</td>\n      <td>exonerated</td>\n      <td></td>\n      <td>19-017</td>\n      <td>2019</td>\n      <td>8</td>\n      <td>19</td>\n      <td></td>\n      <td></td>\n      <td></td>\n      <td>2:15 conduct unbecoming of an officer</td>\n      <td>Port Allen PD</td>\n      <td>2019</td>\n      <td>48613372c82b0a85f4933825f9d6c009</td>\n    </tr>\n    <tr>\n      <th>9</th>\n      <td>officer</td>\n      <td>craig</td>\n      <td>crawford</td>\n      <td>PA-28</td>\n      <td>not sustained</td>\n      <td>17:00</td>\n      <td>19-018</td>\n      <td>2019</td>\n      <td>8</td>\n      <td>15</td>\n      <td>2019</td>\n      <td>8</td>\n      <td>14</td>\n      <td>2:15 conduct unbecoming of an officer</td>\n      <td>Port Allen PD</td>\n      <td>2019</td>\n      <td>3eb506364d363250c78e785bd4b922de</td>\n    </tr>\n    <tr>\n      <th>10</th>\n      <td>officer</td>\n      <td>jana</td>\n      <td>chustz</td>\n      <td>PA-13</td>\n      <td>expired</td>\n      <td>15:30</td>\n      <td>19-019</td>\n      <td>2019</td>\n      <td>9</td>\n      <td>19</td>\n      <td>2019</td>\n      <td>8</td>\n      <td>18</td>\n      <td>122 departmental motor vehicle accident</td>\n      <td>Port Allen PD</td>\n      <td>2019</td>\n      <td>e2ff2590239356be9ac3c98a85a5caa2</td>\n    </tr>\n    <tr>\n      <th>11</th>\n      <td>officer</td>\n      <td>craig</td>\n      <td>crawford</td>\n      <td>PA-28</td>\n      <td>exonerated</td>\n      <td>09:00</td>\n      <td>19-02</td>\n      <td>2019</td>\n      <td>1</td>\n      <td>28</td>\n      <td>2019</td>\n      <td>1</td>\n      <td>28</td>\n      <td>122 departmental motor vehicle accident</td>\n      <td>Port Allen PD</td>\n      <td>2019</td>\n      <td>3eb506364d363250c78e785bd4b922de</td>\n    </tr>\n    <tr>\n      <th>12</th>\n      <td>officer</td>\n      <td>eric</td>\n      <td>reineke</td>\n      <td>PA-11</td>\n      <td>sustained</td>\n      <td>18:30</td>\n      <td>19-020</td>\n      <td>2019</td>\n      <td>8</td>\n      <td>28</td>\n      <td>2019</td>\n      <td>8</td>\n      <td>24</td>\n      <td>2:15 conduct unbecoming of an officer</td>\n      <td>Port Allen PD</td>\n      <td>2019</td>\n      <td>0154446c5f7281fe33db1ed077d53a6a</td>\n    </tr>\n    <tr>\n      <th>13</th>\n      <td>officer</td>\n      <td>latrese</td>\n      <td>darden</td>\n      <td>PA-6</td>\n      <td>sustained</td>\n      <td>14:35</td>\n      <td>19-021</td>\n      <td>2019</td>\n      <td>10</td>\n      <td>14</td>\n      <td>2019</td>\n      <td>10</td>\n      <td>13</td>\n      <td>122 departmental motor vehicle accident</td>\n      <td>Port Allen PD</td>\n      <td>2019</td>\n      <td>9b2e7fa1a79cef25f43527981276ece4</td>\n    </tr>\n    <tr>\n      <th>14</th>\n      <td>officer</td>\n      <td>craig</td>\n      <td>crawford</td>\n      <td>PA-28</td>\n      <td>exonerated</td>\n      <td>03:40</td>\n      <td>19-023</td>\n      <td>2019</td>\n      <td>11</td>\n      <td>23</td>\n      <td>2019</td>\n      <td>11</td>\n      <td>23</td>\n      <td>122 departmental motor vehicle accident</td>\n      <td>Port Allen PD</td>\n      <td>2019</td>\n      <td>3eb506364d363250c78e785bd4b922de</td>\n    </tr>\n    <tr>\n      <th>15</th>\n      <td>officer</td>\n      <td>craig</td>\n      <td>crawford</td>\n      <td>PA-28</td>\n      <td>exonerated</td>\n      <td>12:30</td>\n      <td>19-024</td>\n      <td>2019</td>\n      <td>12</td>\n      <td>16</td>\n      <td>2019</td>\n      <td>11</td>\n      <td>28</td>\n      <td></td>\n      <td>Port Allen PD</td>\n      <td>2019</td>\n      <td>3eb506364d363250c78e785bd4b922de</td>\n    </tr>\n    <tr>\n      <th>16</th>\n      <td>officer</td>\n      <td>james</td>\n      <td>lewis</td>\n      <td>PA-9</td>\n      <td></td>\n      <td>20:30</td>\n      <td>19-03</td>\n      <td>2019</td>\n      <td>2</td>\n      <td>12</td>\n      <td>2019</td>\n      <td>1</td>\n      <td>31</td>\n      <td>2:15 conduct unbecoming of an officer</td>\n      <td>Port Allen PD</td>\n      <td>2019</td>\n      <td>543b25634ec801e4794dc94e79e24f5c</td>\n    </tr>\n    <tr>\n      <th>17</th>\n      <td>sergeant</td>\n      <td>briant</td>\n      <td>landry</td>\n      <td>PA-17</td>\n      <td>unfounded</td>\n      <td>10:00</td>\n      <td>19-04</td>\n      <td>2019</td>\n      <td>2</td>\n      <td>6</td>\n      <td>2019</td>\n      <td>2</td>\n      <td>6</td>\n      <td>2:15 conduct unbecoming of an officer</td>\n      <td>Port Allen PD</td>\n      <td>2019</td>\n      <td>288907b81326ed3700254bca80eaad49</td>\n    </tr>\n    <tr>\n      <th>18</th>\n      <td>sergeant</td>\n      <td>briant</td>\n      <td>landry</td>\n      <td>PA-17</td>\n      <td>sustained</td>\n      <td>22:33</td>\n      <td>19-05</td>\n      <td>2019</td>\n      <td>3</td>\n      <td>13</td>\n      <td>2019</td>\n      <td>3</td>\n      <td>10</td>\n      <td>2:21 use of alcohol and controlled substance</td>\n      <td>Port Allen PD</td>\n      <td>2019</td>\n      <td>288907b81326ed3700254bca80eaad49</td>\n    </tr>\n    <tr>\n      <th>19</th>\n      <td>sergeant</td>\n      <td>briant</td>\n      <td>landry</td>\n      <td>PA-17</td>\n      <td>sustained</td>\n      <td>22:33</td>\n      <td>19-05</td>\n      <td>2019</td>\n      <td>3</td>\n      <td>13</td>\n      <td>2019</td>\n      <td>3</td>\n      <td>10</td>\n      <td>2:15 conduct unbecoming of an officer</td>\n      <td>Port Allen PD</td>\n      <td>2019</td>\n      <td>288907b81326ed3700254bca80eaad49</td>\n    </tr>\n    <tr>\n      <th>20</th>\n      <td>sergeant</td>\n      <td>briant</td>\n      <td>landry</td>\n      <td>PA-17</td>\n      <td>sustained</td>\n      <td>22:33</td>\n      <td>19-05</td>\n      <td>2019</td>\n      <td>3</td>\n      <td>13</td>\n      <td>2019</td>\n      <td>3</td>\n      <td>10</td>\n      <td>3:11 carrying out orders</td>\n      <td>Port Allen PD</td>\n      <td>2019</td>\n      <td>288907b81326ed3700254bca80eaad49</td>\n    </tr>\n    <tr>\n      <th>21</th>\n      <td>officer</td>\n      <td>tiffeny</td>\n      <td>wycoskie</td>\n      <td>PA-5</td>\n      <td>sustained</td>\n      <td></td>\n      <td>19-06</td>\n      <td>2019</td>\n      <td>3</td>\n      <td>27</td>\n      <td></td>\n      <td></td>\n      <td></td>\n      <td>122 departmental motor vehicle accident</td>\n      <td>Port Allen PD</td>\n      <td>2019</td>\n      <td>6ade487aa52a65c3e3c4ed213cfb83e0</td>\n    </tr>\n    <tr>\n      <th>22</th>\n      <td>officer</td>\n      <td>tiffeny</td>\n      <td>wycoskie</td>\n      <td>PA-5</td>\n      <td>exonerated</td>\n      <td></td>\n      <td>19-07</td>\n      <td>2018</td>\n      <td>4</td>\n      <td>15</td>\n      <td>2019</td>\n      <td>3</td>\n      <td>28</td>\n      <td>2:15 conduct unbecoming of an officer</td>\n      <td>Port Allen PD</td>\n      <td>2019</td>\n      <td>6ade487aa52a65c3e3c4ed213cfb83e0</td>\n    </tr>\n    <tr>\n      <th>23</th>\n      <td>officer</td>\n      <td>eric</td>\n      <td>reineke</td>\n      <td>PA-11</td>\n      <td>sustained</td>\n      <td>16:00</td>\n      <td>19-08</td>\n      <td>2019</td>\n      <td>5</td>\n      <td>3</td>\n      <td>2019</td>\n      <td>4</td>\n      <td>30</td>\n      <td>122 departmental motor vehicle accident</td>\n      <td>Port Allen PD</td>\n      <td>2019</td>\n      <td>0154446c5f7281fe33db1ed077d53a6a</td>\n    </tr>\n    <tr>\n      <th>24</th>\n      <td>officer</td>\n      <td>nolan</td>\n      <td>dehon</td>\n      <td>PA-4</td>\n      <td>unfounded</td>\n      <td>06:45</td>\n      <td>19-09</td>\n      <td>2019</td>\n      <td>6</td>\n      <td>13</td>\n      <td>2019</td>\n      <td>06</td>\n      <td>13</td>\n      <td>2:15 conduct unbecoming of an officer</td>\n      <td>Port Allen PD</td>\n      <td>2019</td>\n      <td>020adb924ca054caccff2314c4189d8a</td>\n    </tr>\n  </tbody>\n</table>\n</div>"
     },
     "metadata": {},
     "execution_count": 2
    }
   ],
   "source": [
    "cprr19 = clean19()\n",
    "cprr19"
   ]
  },
  {
   "cell_type": "code",
   "execution_count": 3,
   "metadata": {},
   "outputs": [
    {
     "output_type": "execute_result",
     "data": {
      "text/plain": [
       "  tracking_number occur_time notification_date rank_desc first_name  \\\n",
       "0         17-0005        NaN               NaN       NaN    justin    \n",
       "1             NaN        NaN               NaN       NaN   freddie    \n",
       "2       18-000009        NaN               NaN       NaN     alaric   \n",
       "3         17-0003      17:30            3/6/17       NaN    donovan   \n",
       "4         17-0001      10:00           2/21/17   officer   freddie    \n",
       "\n",
       "     last_name disposition                                             action  \\\n",
       "0        smith   sustained  15 day suspension without pay; appeal: yes; he...   \n",
       "1  christopher  exonerated                                                      \n",
       "2   celestaine         NaN                                                      \n",
       "3     mitchell         NaN                           given verbal instruction   \n",
       "4  christopher   sustained                       5 day suspension without pay   \n",
       "\n",
       "  complainant_type receive_year receive_month receive_day occur_year  \\\n",
       "0              NaN                                                     \n",
       "1           public         2018            11           8              \n",
       "2              NaN         2018            10          23              \n",
       "3         internal         2017             2          26       2017   \n",
       "4         internal         2017             2          20       2017   \n",
       "\n",
       "  occur_month occur_day                                            charges  \\\n",
       "0                                                 3:11 carrying out orders   \n",
       "1                                                                            \n",
       "2                                                                            \n",
       "3           2        26           112 departmental motor vehicle accidents   \n",
       "4           2        20  112/1:7; 113 completion and submission of requ...   \n",
       "\n",
       "          agency data_production_year                               uid  \n",
       "0  Port Allen PD                 2018  2bbd37925cf3a8df9b224406f39e9d40  \n",
       "1  Port Allen PD                 2018  a9b12532b38e99effb6fe0ce5ceb57de  \n",
       "2  Port Allen PD                 2018  0a4fea65f1ae69d7465860d0001130e2  \n",
       "3  Port Allen PD                 2018  3cb1e8881fd1aec974339628e3bd80d4  \n",
       "4  Port Allen PD                 2018  a9b12532b38e99effb6fe0ce5ceb57de  "
      ],
      "text/html": "<div>\n<style scoped>\n    .dataframe tbody tr th:only-of-type {\n        vertical-align: middle;\n    }\n\n    .dataframe tbody tr th {\n        vertical-align: top;\n    }\n\n    .dataframe thead th {\n        text-align: right;\n    }\n</style>\n<table border=\"1\" class=\"dataframe\">\n  <thead>\n    <tr style=\"text-align: right;\">\n      <th></th>\n      <th>tracking_number</th>\n      <th>occur_time</th>\n      <th>notification_date</th>\n      <th>rank_desc</th>\n      <th>first_name</th>\n      <th>last_name</th>\n      <th>disposition</th>\n      <th>action</th>\n      <th>complainant_type</th>\n      <th>receive_year</th>\n      <th>receive_month</th>\n      <th>receive_day</th>\n      <th>occur_year</th>\n      <th>occur_month</th>\n      <th>occur_day</th>\n      <th>charges</th>\n      <th>agency</th>\n      <th>data_production_year</th>\n      <th>uid</th>\n    </tr>\n  </thead>\n  <tbody>\n    <tr>\n      <th>0</th>\n      <td>17-0005</td>\n      <td>NaN</td>\n      <td>NaN</td>\n      <td>NaN</td>\n      <td>justin</td>\n      <td>smith</td>\n      <td>sustained</td>\n      <td>15 day suspension without pay; appeal: yes; he...</td>\n      <td>NaN</td>\n      <td></td>\n      <td></td>\n      <td></td>\n      <td></td>\n      <td></td>\n      <td></td>\n      <td>3:11 carrying out orders</td>\n      <td>Port Allen PD</td>\n      <td>2018</td>\n      <td>2bbd37925cf3a8df9b224406f39e9d40</td>\n    </tr>\n    <tr>\n      <th>1</th>\n      <td>NaN</td>\n      <td>NaN</td>\n      <td>NaN</td>\n      <td>NaN</td>\n      <td>freddie</td>\n      <td>christopher</td>\n      <td>exonerated</td>\n      <td></td>\n      <td>public</td>\n      <td>2018</td>\n      <td>11</td>\n      <td>8</td>\n      <td></td>\n      <td></td>\n      <td></td>\n      <td></td>\n      <td>Port Allen PD</td>\n      <td>2018</td>\n      <td>a9b12532b38e99effb6fe0ce5ceb57de</td>\n    </tr>\n    <tr>\n      <th>2</th>\n      <td>18-000009</td>\n      <td>NaN</td>\n      <td>NaN</td>\n      <td>NaN</td>\n      <td>alaric</td>\n      <td>celestaine</td>\n      <td>NaN</td>\n      <td></td>\n      <td>NaN</td>\n      <td>2018</td>\n      <td>10</td>\n      <td>23</td>\n      <td></td>\n      <td></td>\n      <td></td>\n      <td></td>\n      <td>Port Allen PD</td>\n      <td>2018</td>\n      <td>0a4fea65f1ae69d7465860d0001130e2</td>\n    </tr>\n    <tr>\n      <th>3</th>\n      <td>17-0003</td>\n      <td>17:30</td>\n      <td>3/6/17</td>\n      <td>NaN</td>\n      <td>donovan</td>\n      <td>mitchell</td>\n      <td>NaN</td>\n      <td>given verbal instruction</td>\n      <td>internal</td>\n      <td>2017</td>\n      <td>2</td>\n      <td>26</td>\n      <td>2017</td>\n      <td>2</td>\n      <td>26</td>\n      <td>112 departmental motor vehicle accidents</td>\n      <td>Port Allen PD</td>\n      <td>2018</td>\n      <td>3cb1e8881fd1aec974339628e3bd80d4</td>\n    </tr>\n    <tr>\n      <th>4</th>\n      <td>17-0001</td>\n      <td>10:00</td>\n      <td>2/21/17</td>\n      <td>officer</td>\n      <td>freddie</td>\n      <td>christopher</td>\n      <td>sustained</td>\n      <td>5 day suspension without pay</td>\n      <td>internal</td>\n      <td>2017</td>\n      <td>2</td>\n      <td>20</td>\n      <td>2017</td>\n      <td>2</td>\n      <td>20</td>\n      <td>112/1:7; 113 completion and submission of requ...</td>\n      <td>Port Allen PD</td>\n      <td>2018</td>\n      <td>a9b12532b38e99effb6fe0ce5ceb57de</td>\n    </tr>\n  </tbody>\n</table>\n</div>"
     },
     "metadata": {},
     "execution_count": 3
    }
   ],
   "source": [
    "cprr18 = clean18()\n",
    "cprr18"
   ]
  },
  {
   "cell_type": "code",
   "execution_count": 11,
   "metadata": {},
   "outputs": [
    {
     "output_type": "execute_result",
     "data": {
      "text/plain": [
       "Empty DataFrame\n",
       "Columns: [tracking_number, occur_time, notification_date, rank_desc, first_name, last_name, disposition, action, complainant_type, receive_year, receive_month, receive_day, occur_year, occur_month, occur_day, charges, agency, data_production_year, uid]\n",
       "Index: []"
      ],
      "text/html": "<div>\n<style scoped>\n    .dataframe tbody tr th:only-of-type {\n        vertical-align: middle;\n    }\n\n    .dataframe tbody tr th {\n        vertical-align: top;\n    }\n\n    .dataframe thead th {\n        text-align: right;\n    }\n</style>\n<table border=\"1\" class=\"dataframe\">\n  <thead>\n    <tr style=\"text-align: right;\">\n      <th></th>\n      <th>tracking_number</th>\n      <th>occur_time</th>\n      <th>notification_date</th>\n      <th>rank_desc</th>\n      <th>first_name</th>\n      <th>last_name</th>\n      <th>disposition</th>\n      <th>action</th>\n      <th>complainant_type</th>\n      <th>receive_year</th>\n      <th>receive_month</th>\n      <th>receive_day</th>\n      <th>occur_year</th>\n      <th>occur_month</th>\n      <th>occur_day</th>\n      <th>charges</th>\n      <th>agency</th>\n      <th>data_production_year</th>\n      <th>uid</th>\n    </tr>\n  </thead>\n  <tbody>\n  </tbody>\n</table>\n</div>"
     },
     "metadata": {},
     "execution_count": 11
    }
   ],
   "source": [
    "cprr18[cprr18.duplicated(subset=['tracking_number', 'uid'])]"
   ]
  },
  {
   "cell_type": "code",
   "execution_count": 8,
   "metadata": {},
   "outputs": [
    {
     "output_type": "execute_result",
     "data": {
      "text/plain": [
       "   rank_desc first_name last_name badge_no disposition occur_time  \\\n",
       "18  sergeant     briant    landry    PA-17   sustained      22:33   \n",
       "19  sergeant     briant    landry    PA-17   sustained      22:33   \n",
       "20  sergeant     briant    landry    PA-17   sustained      22:33   \n",
       "\n",
       "   tracking_number receive_year receive_month receive_day occur_year  \\\n",
       "18           19-05         2019             3          13       2019   \n",
       "19           19-05         2019             3          13       2019   \n",
       "20           19-05         2019             3          13       2019   \n",
       "\n",
       "   occur_month occur_day                                       charges  \\\n",
       "18           3        10  2:21 use of alcohol and controlled substance   \n",
       "19           3        10         2:15 conduct unbecoming of an officer   \n",
       "20           3        10                      3:11 carrying out orders   \n",
       "\n",
       "           agency data_production_year                               uid  \n",
       "18  Port Allen PD                 2019  288907b81326ed3700254bca80eaad49  \n",
       "19  Port Allen PD                 2019  288907b81326ed3700254bca80eaad49  \n",
       "20  Port Allen PD                 2019  288907b81326ed3700254bca80eaad49  "
      ],
      "text/html": "<div>\n<style scoped>\n    .dataframe tbody tr th:only-of-type {\n        vertical-align: middle;\n    }\n\n    .dataframe tbody tr th {\n        vertical-align: top;\n    }\n\n    .dataframe thead th {\n        text-align: right;\n    }\n</style>\n<table border=\"1\" class=\"dataframe\">\n  <thead>\n    <tr style=\"text-align: right;\">\n      <th></th>\n      <th>rank_desc</th>\n      <th>first_name</th>\n      <th>last_name</th>\n      <th>badge_no</th>\n      <th>disposition</th>\n      <th>occur_time</th>\n      <th>tracking_number</th>\n      <th>receive_year</th>\n      <th>receive_month</th>\n      <th>receive_day</th>\n      <th>occur_year</th>\n      <th>occur_month</th>\n      <th>occur_day</th>\n      <th>charges</th>\n      <th>agency</th>\n      <th>data_production_year</th>\n      <th>uid</th>\n    </tr>\n  </thead>\n  <tbody>\n    <tr>\n      <th>18</th>\n      <td>sergeant</td>\n      <td>briant</td>\n      <td>landry</td>\n      <td>PA-17</td>\n      <td>sustained</td>\n      <td>22:33</td>\n      <td>19-05</td>\n      <td>2019</td>\n      <td>3</td>\n      <td>13</td>\n      <td>2019</td>\n      <td>3</td>\n      <td>10</td>\n      <td>2:21 use of alcohol and controlled substance</td>\n      <td>Port Allen PD</td>\n      <td>2019</td>\n      <td>288907b81326ed3700254bca80eaad49</td>\n    </tr>\n    <tr>\n      <th>19</th>\n      <td>sergeant</td>\n      <td>briant</td>\n      <td>landry</td>\n      <td>PA-17</td>\n      <td>sustained</td>\n      <td>22:33</td>\n      <td>19-05</td>\n      <td>2019</td>\n      <td>3</td>\n      <td>13</td>\n      <td>2019</td>\n      <td>3</td>\n      <td>10</td>\n      <td>2:15 conduct unbecoming of an officer</td>\n      <td>Port Allen PD</td>\n      <td>2019</td>\n      <td>288907b81326ed3700254bca80eaad49</td>\n    </tr>\n    <tr>\n      <th>20</th>\n      <td>sergeant</td>\n      <td>briant</td>\n      <td>landry</td>\n      <td>PA-17</td>\n      <td>sustained</td>\n      <td>22:33</td>\n      <td>19-05</td>\n      <td>2019</td>\n      <td>3</td>\n      <td>13</td>\n      <td>2019</td>\n      <td>3</td>\n      <td>10</td>\n      <td>3:11 carrying out orders</td>\n      <td>Port Allen PD</td>\n      <td>2019</td>\n      <td>288907b81326ed3700254bca80eaad49</td>\n    </tr>\n  </tbody>\n</table>\n</div>"
     },
     "metadata": {},
     "execution_count": 8
    }
   ],
   "source": [
    "cprr19[cprr19.tracking_number == '19-05']"
   ]
  },
  {
   "cell_type": "code",
   "execution_count": null,
   "metadata": {},
   "outputs": [],
   "source": []
  }
 ]
}
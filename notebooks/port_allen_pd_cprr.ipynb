{
 "metadata": {
  "language_info": {
   "codemirror_mode": {
    "name": "ipython",
    "version": 3
   },
   "file_extension": ".py",
   "mimetype": "text/x-python",
   "name": "python",
   "nbconvert_exporter": "python",
   "pygments_lexer": "ipython3",
   "version": "3.8.3-final"
  },
  "orig_nbformat": 2,
  "kernelspec": {
   "name": "python383jvsc74a57bd0759d03fc00c4e55187619d7bc1e0b6a3309d14c7c00d43a321634150e05678f8",
   "display_name": "Python 3.8.3 64-bit ('base': conda)"
  }
 },
 "nbformat": 4,
 "nbformat_minor": 2,
 "cells": [
  {
   "cell_type": "code",
   "execution_count": 1,
   "metadata": {},
   "outputs": [],
   "source": [
    "import sys; sys.path.append(\"../\")\n",
    "\n",
    "import pandas as pd\n",
    "\n",
    "from clean.port_allen_pd_cprr import clean19, clean18\n",
    "from clean.port_allen_csd_pprr import clean as clean_pprr\n",
    "from match.port_allen_pd import match_csd_pprr_against_post_pprr, match_cprr_2019_against_csd_pprr_2020, match_cprr_2018_against_csd_pprr_2020"
   ]
  },
  {
   "cell_type": "code",
   "execution_count": 2,
   "metadata": {},
   "outputs": [],
   "source": [
    "# cprr19 = clean19()\n",
    "# cprr19"
   ]
  },
  {
   "cell_type": "code",
   "execution_count": 3,
   "metadata": {},
   "outputs": [],
   "source": [
    "# cprr18 = clean18()\n",
    "# cprr18"
   ]
  },
  {
   "cell_type": "code",
   "execution_count": 4,
   "metadata": {},
   "outputs": [
    {
     "output_type": "stream",
     "name": "stderr",
     "text": [
      "../clean/port_allen_csd_pprr.py:13: FutureWarning: The default value of regex will change from True to False in a future version.\n  cols = df.employee_number_full_name.str.strip().str.replace(r' +- +', r' ')\\\n../lib/clean.py:166: FutureWarning: The default value of regex will change from True to False in a future version.\n  return series.str.strip().str.replace(r\"[^\\w-]+\", \" \").str.replace(r\"\\s+\", \" \")\\\n../clean/port_allen_csd_pprr.py:31: FutureWarning: The default value of regex will change from True to False in a future version.\n  df.loc[:, 'rank_desc'] = df.rank_desc.str.replace(r'^t ', '')\\\n"
     ]
    },
    {
     "output_type": "execute_result",
     "data": {
      "text/plain": [
       "                     rank_desc department_code employment_status employee_id  \\\n",
       "0              police corporal           01-03        terminated     01-0103   \n",
       "1               police officer           01-03        terminated     01-0107   \n",
       "2               police officer           01-03        terminated     01-0047   \n",
       "3   administrative coordinator           01-03            active     01-0186   \n",
       "4              chief of police           01-03        terminated     01-0119   \n",
       "..                         ...             ...               ...         ...   \n",
       "74              police officer           01-03        terminated     01-0034   \n",
       "75              police officer           01-03            active     01-0199   \n",
       "76      police officer trainee           01-03            active     01-0191   \n",
       "77                  lieutenant           01-03            active     01-0033   \n",
       "78              police officer           01-03        terminated     01-0102   \n",
       "\n",
       "     last_name first_name middle_initial hire_year hire_month hire_day  \\\n",
       "0    arceneaux   benjamin              p      2006          5        2   \n",
       "1      armwood     dennis              b      2016          6       15   \n",
       "2   arrazattee     robert              a      2013          8        2   \n",
       "3       avants   jennifer              n      2010          4       28   \n",
       "4        bates    kenneth              e      1988          6       27   \n",
       "..         ...        ...            ...       ...        ...      ...   \n",
       "74    williams     robert              j      2013          2       27   \n",
       "75    williams      shawn              m      2020          6       24   \n",
       "76     winters    corione              j      2020          2        6   \n",
       "77      wisham     kendra              e      2013          2       27   \n",
       "78    wycoskie    tiffeny              j      2016          4       20   \n",
       "\n",
       "   data_production_year          agency                               uid  \n",
       "0                  2020  Port Allen CSD  de27694faa4d8610a1dce25f00faafab  \n",
       "1                  2020  Port Allen CSD  6e6227ab64eb91cc779bb5de98e0a533  \n",
       "2                  2020  Port Allen CSD  29f54344ee0ff8cf935829148f78b0db  \n",
       "3                  2020  Port Allen CSD  3b1c9541fc1e0d5412bcd2416a9b388a  \n",
       "4                  2020  Port Allen CSD  d69e2c6c827f4e168829250002919f08  \n",
       "..                  ...             ...                               ...  \n",
       "74                 2020  Port Allen CSD  05dfc9e64a1d52d9f52a83a7b36d27c9  \n",
       "75                 2020  Port Allen CSD  34055eb7fbb1807aa897a92f787595b8  \n",
       "76                 2020  Port Allen CSD  84738b03bcff27ec2d260460f5300c73  \n",
       "77                 2020  Port Allen CSD  969795785004cf2352cbd602c480c121  \n",
       "78                 2020  Port Allen CSD  1297695da75743835e9e821488141a91  \n",
       "\n",
       "[79 rows x 13 columns]"
      ],
      "text/html": "<div>\n<style scoped>\n    .dataframe tbody tr th:only-of-type {\n        vertical-align: middle;\n    }\n\n    .dataframe tbody tr th {\n        vertical-align: top;\n    }\n\n    .dataframe thead th {\n        text-align: right;\n    }\n</style>\n<table border=\"1\" class=\"dataframe\">\n  <thead>\n    <tr style=\"text-align: right;\">\n      <th></th>\n      <th>rank_desc</th>\n      <th>department_code</th>\n      <th>employment_status</th>\n      <th>employee_id</th>\n      <th>last_name</th>\n      <th>first_name</th>\n      <th>middle_initial</th>\n      <th>hire_year</th>\n      <th>hire_month</th>\n      <th>hire_day</th>\n      <th>data_production_year</th>\n      <th>agency</th>\n      <th>uid</th>\n    </tr>\n  </thead>\n  <tbody>\n    <tr>\n      <th>0</th>\n      <td>police corporal</td>\n      <td>01-03</td>\n      <td>terminated</td>\n      <td>01-0103</td>\n      <td>arceneaux</td>\n      <td>benjamin</td>\n      <td>p</td>\n      <td>2006</td>\n      <td>5</td>\n      <td>2</td>\n      <td>2020</td>\n      <td>Port Allen CSD</td>\n      <td>de27694faa4d8610a1dce25f00faafab</td>\n    </tr>\n    <tr>\n      <th>1</th>\n      <td>police officer</td>\n      <td>01-03</td>\n      <td>terminated</td>\n      <td>01-0107</td>\n      <td>armwood</td>\n      <td>dennis</td>\n      <td>b</td>\n      <td>2016</td>\n      <td>6</td>\n      <td>15</td>\n      <td>2020</td>\n      <td>Port Allen CSD</td>\n      <td>6e6227ab64eb91cc779bb5de98e0a533</td>\n    </tr>\n    <tr>\n      <th>2</th>\n      <td>police officer</td>\n      <td>01-03</td>\n      <td>terminated</td>\n      <td>01-0047</td>\n      <td>arrazattee</td>\n      <td>robert</td>\n      <td>a</td>\n      <td>2013</td>\n      <td>8</td>\n      <td>2</td>\n      <td>2020</td>\n      <td>Port Allen CSD</td>\n      <td>29f54344ee0ff8cf935829148f78b0db</td>\n    </tr>\n    <tr>\n      <th>3</th>\n      <td>administrative coordinator</td>\n      <td>01-03</td>\n      <td>active</td>\n      <td>01-0186</td>\n      <td>avants</td>\n      <td>jennifer</td>\n      <td>n</td>\n      <td>2010</td>\n      <td>4</td>\n      <td>28</td>\n      <td>2020</td>\n      <td>Port Allen CSD</td>\n      <td>3b1c9541fc1e0d5412bcd2416a9b388a</td>\n    </tr>\n    <tr>\n      <th>4</th>\n      <td>chief of police</td>\n      <td>01-03</td>\n      <td>terminated</td>\n      <td>01-0119</td>\n      <td>bates</td>\n      <td>kenneth</td>\n      <td>e</td>\n      <td>1988</td>\n      <td>6</td>\n      <td>27</td>\n      <td>2020</td>\n      <td>Port Allen CSD</td>\n      <td>d69e2c6c827f4e168829250002919f08</td>\n    </tr>\n    <tr>\n      <th>...</th>\n      <td>...</td>\n      <td>...</td>\n      <td>...</td>\n      <td>...</td>\n      <td>...</td>\n      <td>...</td>\n      <td>...</td>\n      <td>...</td>\n      <td>...</td>\n      <td>...</td>\n      <td>...</td>\n      <td>...</td>\n      <td>...</td>\n    </tr>\n    <tr>\n      <th>74</th>\n      <td>police officer</td>\n      <td>01-03</td>\n      <td>terminated</td>\n      <td>01-0034</td>\n      <td>williams</td>\n      <td>robert</td>\n      <td>j</td>\n      <td>2013</td>\n      <td>2</td>\n      <td>27</td>\n      <td>2020</td>\n      <td>Port Allen CSD</td>\n      <td>05dfc9e64a1d52d9f52a83a7b36d27c9</td>\n    </tr>\n    <tr>\n      <th>75</th>\n      <td>police officer</td>\n      <td>01-03</td>\n      <td>active</td>\n      <td>01-0199</td>\n      <td>williams</td>\n      <td>shawn</td>\n      <td>m</td>\n      <td>2020</td>\n      <td>6</td>\n      <td>24</td>\n      <td>2020</td>\n      <td>Port Allen CSD</td>\n      <td>34055eb7fbb1807aa897a92f787595b8</td>\n    </tr>\n    <tr>\n      <th>76</th>\n      <td>police officer trainee</td>\n      <td>01-03</td>\n      <td>active</td>\n      <td>01-0191</td>\n      <td>winters</td>\n      <td>corione</td>\n      <td>j</td>\n      <td>2020</td>\n      <td>2</td>\n      <td>6</td>\n      <td>2020</td>\n      <td>Port Allen CSD</td>\n      <td>84738b03bcff27ec2d260460f5300c73</td>\n    </tr>\n    <tr>\n      <th>77</th>\n      <td>lieutenant</td>\n      <td>01-03</td>\n      <td>active</td>\n      <td>01-0033</td>\n      <td>wisham</td>\n      <td>kendra</td>\n      <td>e</td>\n      <td>2013</td>\n      <td>2</td>\n      <td>27</td>\n      <td>2020</td>\n      <td>Port Allen CSD</td>\n      <td>969795785004cf2352cbd602c480c121</td>\n    </tr>\n    <tr>\n      <th>78</th>\n      <td>police officer</td>\n      <td>01-03</td>\n      <td>terminated</td>\n      <td>01-0102</td>\n      <td>wycoskie</td>\n      <td>tiffeny</td>\n      <td>j</td>\n      <td>2016</td>\n      <td>4</td>\n      <td>20</td>\n      <td>2020</td>\n      <td>Port Allen CSD</td>\n      <td>1297695da75743835e9e821488141a91</td>\n    </tr>\n  </tbody>\n</table>\n<p>79 rows × 13 columns</p>\n</div>"
     },
     "metadata": {},
     "execution_count": 4
    }
   ],
   "source": [
    "pprr = clean_pprr()\n",
    "pprr"
   ]
  },
  {
   "cell_type": "code",
   "execution_count": null,
   "metadata": {},
   "outputs": [],
   "source": []
  }
 ]
}
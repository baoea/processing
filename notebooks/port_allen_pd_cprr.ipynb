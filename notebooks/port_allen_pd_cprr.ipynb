{
 "metadata": {
  "language_info": {
   "codemirror_mode": {
    "name": "ipython",
    "version": 3
   },
   "file_extension": ".py",
   "mimetype": "text/x-python",
   "name": "python",
   "nbconvert_exporter": "python",
   "pygments_lexer": "ipython3",
   "version": "3.9.2"
  },
  "orig_nbformat": 2,
  "kernelspec": {
   "name": "python392jvsc74a57bd055d6dfa6f6295e03bf132df3e61c1565ff1c22b645ef82a5638b280b97b3597b",
   "display_name": "Python 3.9.2 64-bit ('base': virtualenvwrapper)"
  }
 },
 "nbformat": 4,
 "nbformat_minor": 2,
 "cells": [
  {
   "cell_type": "code",
   "execution_count": 1,
   "metadata": {},
   "outputs": [],
   "source": [
    "import sys; sys.path.append(\"../\")\n",
    "\n",
    "import pandas as pd\n",
    "\n",
    "from clean.port_allen_pd_cprr import clean19, clean18, clean16\n",
    "from clean.port_allen_csd_pprr import clean as clean_pprr\n",
    "from match.port_allen_pd import match_csd_pprr_against_post_pprr, match_cprr_against_csd_pprr_2020"
   ]
  },
  {
   "cell_type": "code",
   "execution_count": 2,
   "metadata": {},
   "outputs": [
    {
     "output_type": "stream",
     "name": "stdout",
     "text": [
      "standardize_from_lookup_table: unmatched sequences:\n",
      "  {''}\n",
      "../clean/port_allen_pd_cprr.py:35: FutureWarning: The default value of regex will change from True to False in a future version.\n",
      "  df.loc[:, \"occur_time\"] = df.occur_time.str.strip().fillna(\"\")\\\n",
      "../clean/port_allen_pd_cprr.py:46: FutureWarning: The default value of regex will change from True to False in a future version.\n",
      "  df.loc[:, \"occur_date\"] = df.occur_date.str.strip().fillna(\"\")\\\n",
      "../clean/port_allen_pd_cprr.py:77: FutureWarning: The default value of regex will change from True to False in a future version.\n",
      "  df.loc[:, \"charge\"] = df.charge.fillna(\"\").str.replace(r\"\\s*(;|and)$\", \"\")\n"
     ]
    },
    {
     "output_type": "execute_result",
     "data": {
      "text/plain": [
       "   rank_desc first_name last_name badge_no    disposition occur_time  \\\n",
       "0    officer      craig  crawford    PA-28  not sustained      14:30   \n",
       "1    officer       eric   reineke    PA-11      sustained      17:25   \n",
       "2    officer      craig  crawford    PA-28      unfounded      05:00   \n",
       "3   corporal      bobby    hopson     PA-8      unfounded      10:07   \n",
       "4   corporal      bobby    hopson     PA-8        expired              \n",
       "5    officer       eric   reineke    PA-11  not sustained      23:30   \n",
       "6    officer      craig  crawford    PA-28      sustained      00:52   \n",
       "7    officer      craig  crawford    PA-28      unfounded      15:34   \n",
       "8   corporal      bobby    hopson     PA-8     exonerated              \n",
       "9    officer      craig  crawford    PA-28  not sustained      17:00   \n",
       "10   officer       jana    chustz    PA-13        expired      15:30   \n",
       "11   officer      craig  crawford    PA-28     exonerated      09:00   \n",
       "12   officer       eric   reineke    PA-11      sustained      18:30   \n",
       "13   officer    latrese    darden     PA-6      sustained      14:35   \n",
       "14   officer      craig  crawford    PA-28     exonerated      03:40   \n",
       "15   officer      craig  crawford    PA-28     exonerated      12:30   \n",
       "16   officer      james     lewis     PA-9                     20:30   \n",
       "17  sergeant     briant    landry    PA-17      unfounded      10:00   \n",
       "18  sergeant     briant    landry    PA-17      sustained      22:33   \n",
       "19  sergeant     briant    landry    PA-17      sustained      22:33   \n",
       "20  sergeant     briant    landry    PA-17      sustained      22:33   \n",
       "21   officer    tiffeny  wycoskie     PA-5      sustained              \n",
       "22   officer    tiffeny  wycoskie     PA-5     exonerated              \n",
       "23   officer       eric   reineke    PA-11      sustained      16:00   \n",
       "24   officer      nolan     dehon     PA-4      unfounded      06:45   \n",
       "\n",
       "   tracking_number receive_year receive_month receive_day occur_year  \\\n",
       "0            19-01         2019             1          24       2019   \n",
       "1           19-010         2019             6          18       2019   \n",
       "2           19-011         2019             6          20       2019   \n",
       "3           19-012         2019             6          21       2019   \n",
       "4           19-013         2019             6          25       2019   \n",
       "5           19-014         2019             7           8       2019   \n",
       "6           19-015         2019             6           7       2019   \n",
       "7           19-016         2019             7          16       2019   \n",
       "8           19-017         2019             8          19              \n",
       "9           19-018         2019             8          15       2019   \n",
       "10          19-019         2019             9          19       2019   \n",
       "11           19-02         2019             1          28       2019   \n",
       "12          19-020         2019             8          28       2019   \n",
       "13          19-021         2019            10          14       2019   \n",
       "14          19-023         2019            11          23       2019   \n",
       "15          19-024         2019            12          16       2019   \n",
       "16           19-03         2019             2          12       2019   \n",
       "17           19-04         2019             2           6       2019   \n",
       "18           19-05         2019             3          13       2019   \n",
       "19           19-05         2019             3          13       2019   \n",
       "20           19-05         2019             3          13       2019   \n",
       "21           19-06         2019             3          27              \n",
       "22           19-07         2018             4          15       2019   \n",
       "23           19-08         2019             5           3       2019   \n",
       "24           19-09         2019             6          13       2019   \n",
       "\n",
       "   occur_month occur_day rule_code                           rule_violation  \\\n",
       "0            1        16      2:15         conduct unbecoming of an officer   \n",
       "1            6        14     112/2                        command of temper   \n",
       "2            6        19                                                      \n",
       "3            6         1                                                      \n",
       "4            3        13                                                      \n",
       "5            7         3      2:15         conduct unbecoming of an officer   \n",
       "6            7         7      3:11                      carrying out orders   \n",
       "7            6        26      2:15         conduct unbecoming of an officer   \n",
       "8                             2:15         conduct unbecoming of an officer   \n",
       "9            8        14      2:15         conduct unbecoming of an officer   \n",
       "10           8        18       122      departmental motor vehicle accident   \n",
       "11           1        28       122      departmental motor vehicle accident   \n",
       "12           8        24      2:15         conduct unbecoming of an officer   \n",
       "13          10        13       122      departmental motor vehicle accident   \n",
       "14          11        23       122      departmental motor vehicle accident   \n",
       "15          11        28                                                      \n",
       "16           1        31      2:15         conduct unbecoming of an officer   \n",
       "17           2         6      2:15         conduct unbecoming of an officer   \n",
       "18           3        10      2:21  use of alcohol and controlled substance   \n",
       "19           3        10      2:15         conduct unbecoming of an officer   \n",
       "20           3        10      3:11                      carrying out orders   \n",
       "21                             122      departmental motor vehicle accident   \n",
       "22           3        28      2:15         conduct unbecoming of an officer   \n",
       "23           4        30       122      departmental motor vehicle accident   \n",
       "24           6        13      2:15         conduct unbecoming of an officer   \n",
       "\n",
       "           agency data_production_year                               uid  \\\n",
       "0   Port Allen PD                 2019  3eb506364d363250c78e785bd4b922de   \n",
       "1   Port Allen PD                 2019  0154446c5f7281fe33db1ed077d53a6a   \n",
       "2   Port Allen PD                 2019  3eb506364d363250c78e785bd4b922de   \n",
       "3   Port Allen PD                 2019  48613372c82b0a85f4933825f9d6c009   \n",
       "4   Port Allen PD                 2019  48613372c82b0a85f4933825f9d6c009   \n",
       "5   Port Allen PD                 2019  0154446c5f7281fe33db1ed077d53a6a   \n",
       "6   Port Allen PD                 2019  3eb506364d363250c78e785bd4b922de   \n",
       "7   Port Allen PD                 2019  3eb506364d363250c78e785bd4b922de   \n",
       "8   Port Allen PD                 2019  48613372c82b0a85f4933825f9d6c009   \n",
       "9   Port Allen PD                 2019  3eb506364d363250c78e785bd4b922de   \n",
       "10  Port Allen PD                 2019  e2ff2590239356be9ac3c98a85a5caa2   \n",
       "11  Port Allen PD                 2019  3eb506364d363250c78e785bd4b922de   \n",
       "12  Port Allen PD                 2019  0154446c5f7281fe33db1ed077d53a6a   \n",
       "13  Port Allen PD                 2019  9b2e7fa1a79cef25f43527981276ece4   \n",
       "14  Port Allen PD                 2019  3eb506364d363250c78e785bd4b922de   \n",
       "15  Port Allen PD                 2019  3eb506364d363250c78e785bd4b922de   \n",
       "16  Port Allen PD                 2019  543b25634ec801e4794dc94e79e24f5c   \n",
       "17  Port Allen PD                 2019  288907b81326ed3700254bca80eaad49   \n",
       "18  Port Allen PD                 2019  288907b81326ed3700254bca80eaad49   \n",
       "19  Port Allen PD                 2019  288907b81326ed3700254bca80eaad49   \n",
       "20  Port Allen PD                 2019  288907b81326ed3700254bca80eaad49   \n",
       "21  Port Allen PD                 2019  6ade487aa52a65c3e3c4ed213cfb83e0   \n",
       "22  Port Allen PD                 2019  6ade487aa52a65c3e3c4ed213cfb83e0   \n",
       "23  Port Allen PD                 2019  0154446c5f7281fe33db1ed077d53a6a   \n",
       "24  Port Allen PD                 2019  020adb924ca054caccff2314c4189d8a   \n",
       "\n",
       "                          charge_uid                     complaint_uid  \n",
       "0   490851f00f76c7fdd18c2a6ce89decff  956da81f2d993e3e6b58c225dd2d3170  \n",
       "1   abdd6194505c7aef35a9ede9d9b24500  126ab901bcef2c9c4bb7d38613d65ae6  \n",
       "2   888aa60e72f39feb5c685cc963390246  b80a5de1ddcb2f013d483ebd5bd15b7c  \n",
       "3   3edbd68e8d02a4b0ab382265df008396  eaa9162260e93d00f7f61a86083e406a  \n",
       "4   d603eb29a94dc84ae32449f1fbcbd826  0e45b824ce273dad71fe6a9841ed9b68  \n",
       "5   90e17fd7864d055d4d39a15885dcdd68  0fb0a3f9d005b408809a761cd7cafa7b  \n",
       "6   f2dc61218aca118ad33011e0e2015f16  0c318002b4ff01541b2a0de95fb9ba52  \n",
       "7   76697a594d6da546b9a30a8336723c0b  9e1f5b5e8356fd9b82a2bf4b081957bc  \n",
       "8   cca9cdbce03c2ffbedcf10cc3a968c95  afb56ca0ef74ff8b921073f47eff9ee2  \n",
       "9   60c0868feb9220045240542ed0c930ea  45f44bc29c7cc862ae42ae6b807afed6  \n",
       "10  24102582244e60b7d14fe91ca3eab774  d8d244ecea2b3313fb254a0a6a28273c  \n",
       "11  4ba3e5a5c330f37b9e55a2e023abbcf6  0847187742facca5a538d2078524f82e  \n",
       "12  e7c6711a1cbc878c9b288968eb891fd8  f3d9d96d690365f65a0a42efcfac0d00  \n",
       "13  f1bdc480ab1f6f39c523edadf77906e8  78c5ea6eee9b2e8cf033e308df1c1281  \n",
       "14  b2219da1136ba2b026b006e8a10d5132  0cfd122e015fa908a534f784c3bca1bb  \n",
       "15  838d34beb597888bd848ad90bd91b523  590bcb0282fd8bc2b5608cea7d8d824b  \n",
       "16  27ff1a82d8363b6ecfc52e0101f42223  6c38c769442e8a0b18bfe1fc8526bc04  \n",
       "17  5e1e614b4da4479f1823a78743f2520f  7d31fbd525b16e9a41ce9deb3a48bf39  \n",
       "18  0491ea8d3e30635fe049e1e08f14614d  9c438f4ee35711a9066c2e3245461de6  \n",
       "19  3ad6aedf9cebf722baa22862da77f81b  66a507483299b560bbb6ee7ea0e645a2  \n",
       "20  e708d14f48a7881381ca339f3a6ef605  afd080f30c013d105b64170ea528d894  \n",
       "21  8af86fda8e799aee03841dbd6eaf129d  018fb3829374f55c7255f8bc17ad24fc  \n",
       "22  af3364174957dcdf62f0b3b894d2b1f5  302b8d05f32c8fb26c0146144206ea0c  \n",
       "23  114299eb9ba489d0b31f1c1d8e73ea5b  5f211273977928d89067bbb43552f8c7  \n",
       "24  d1d294a7ea518ee1416aeb37bc7d3c07  b6932e9f526edffb411041b599811ef2  "
      ],
      "text/html": "<div>\n<style scoped>\n    .dataframe tbody tr th:only-of-type {\n        vertical-align: middle;\n    }\n\n    .dataframe tbody tr th {\n        vertical-align: top;\n    }\n\n    .dataframe thead th {\n        text-align: right;\n    }\n</style>\n<table border=\"1\" class=\"dataframe\">\n  <thead>\n    <tr style=\"text-align: right;\">\n      <th></th>\n      <th>rank_desc</th>\n      <th>first_name</th>\n      <th>last_name</th>\n      <th>badge_no</th>\n      <th>disposition</th>\n      <th>occur_time</th>\n      <th>tracking_number</th>\n      <th>receive_year</th>\n      <th>receive_month</th>\n      <th>receive_day</th>\n      <th>occur_year</th>\n      <th>occur_month</th>\n      <th>occur_day</th>\n      <th>rule_code</th>\n      <th>rule_violation</th>\n      <th>agency</th>\n      <th>data_production_year</th>\n      <th>uid</th>\n      <th>charge_uid</th>\n      <th>complaint_uid</th>\n    </tr>\n  </thead>\n  <tbody>\n    <tr>\n      <th>0</th>\n      <td>officer</td>\n      <td>craig</td>\n      <td>crawford</td>\n      <td>PA-28</td>\n      <td>not sustained</td>\n      <td>14:30</td>\n      <td>19-01</td>\n      <td>2019</td>\n      <td>1</td>\n      <td>24</td>\n      <td>2019</td>\n      <td>1</td>\n      <td>16</td>\n      <td>2:15</td>\n      <td>conduct unbecoming of an officer</td>\n      <td>Port Allen PD</td>\n      <td>2019</td>\n      <td>3eb506364d363250c78e785bd4b922de</td>\n      <td>490851f00f76c7fdd18c2a6ce89decff</td>\n      <td>956da81f2d993e3e6b58c225dd2d3170</td>\n    </tr>\n    <tr>\n      <th>1</th>\n      <td>officer</td>\n      <td>eric</td>\n      <td>reineke</td>\n      <td>PA-11</td>\n      <td>sustained</td>\n      <td>17:25</td>\n      <td>19-010</td>\n      <td>2019</td>\n      <td>6</td>\n      <td>18</td>\n      <td>2019</td>\n      <td>6</td>\n      <td>14</td>\n      <td>112/2</td>\n      <td>command of temper</td>\n      <td>Port Allen PD</td>\n      <td>2019</td>\n      <td>0154446c5f7281fe33db1ed077d53a6a</td>\n      <td>abdd6194505c7aef35a9ede9d9b24500</td>\n      <td>126ab901bcef2c9c4bb7d38613d65ae6</td>\n    </tr>\n    <tr>\n      <th>2</th>\n      <td>officer</td>\n      <td>craig</td>\n      <td>crawford</td>\n      <td>PA-28</td>\n      <td>unfounded</td>\n      <td>05:00</td>\n      <td>19-011</td>\n      <td>2019</td>\n      <td>6</td>\n      <td>20</td>\n      <td>2019</td>\n      <td>6</td>\n      <td>19</td>\n      <td></td>\n      <td></td>\n      <td>Port Allen PD</td>\n      <td>2019</td>\n      <td>3eb506364d363250c78e785bd4b922de</td>\n      <td>888aa60e72f39feb5c685cc963390246</td>\n      <td>b80a5de1ddcb2f013d483ebd5bd15b7c</td>\n    </tr>\n    <tr>\n      <th>3</th>\n      <td>corporal</td>\n      <td>bobby</td>\n      <td>hopson</td>\n      <td>PA-8</td>\n      <td>unfounded</td>\n      <td>10:07</td>\n      <td>19-012</td>\n      <td>2019</td>\n      <td>6</td>\n      <td>21</td>\n      <td>2019</td>\n      <td>6</td>\n      <td>1</td>\n      <td></td>\n      <td></td>\n      <td>Port Allen PD</td>\n      <td>2019</td>\n      <td>48613372c82b0a85f4933825f9d6c009</td>\n      <td>3edbd68e8d02a4b0ab382265df008396</td>\n      <td>eaa9162260e93d00f7f61a86083e406a</td>\n    </tr>\n    <tr>\n      <th>4</th>\n      <td>corporal</td>\n      <td>bobby</td>\n      <td>hopson</td>\n      <td>PA-8</td>\n      <td>expired</td>\n      <td></td>\n      <td>19-013</td>\n      <td>2019</td>\n      <td>6</td>\n      <td>25</td>\n      <td>2019</td>\n      <td>3</td>\n      <td>13</td>\n      <td></td>\n      <td></td>\n      <td>Port Allen PD</td>\n      <td>2019</td>\n      <td>48613372c82b0a85f4933825f9d6c009</td>\n      <td>d603eb29a94dc84ae32449f1fbcbd826</td>\n      <td>0e45b824ce273dad71fe6a9841ed9b68</td>\n    </tr>\n    <tr>\n      <th>5</th>\n      <td>officer</td>\n      <td>eric</td>\n      <td>reineke</td>\n      <td>PA-11</td>\n      <td>not sustained</td>\n      <td>23:30</td>\n      <td>19-014</td>\n      <td>2019</td>\n      <td>7</td>\n      <td>8</td>\n      <td>2019</td>\n      <td>7</td>\n      <td>3</td>\n      <td>2:15</td>\n      <td>conduct unbecoming of an officer</td>\n      <td>Port Allen PD</td>\n      <td>2019</td>\n      <td>0154446c5f7281fe33db1ed077d53a6a</td>\n      <td>90e17fd7864d055d4d39a15885dcdd68</td>\n      <td>0fb0a3f9d005b408809a761cd7cafa7b</td>\n    </tr>\n    <tr>\n      <th>6</th>\n      <td>officer</td>\n      <td>craig</td>\n      <td>crawford</td>\n      <td>PA-28</td>\n      <td>sustained</td>\n      <td>00:52</td>\n      <td>19-015</td>\n      <td>2019</td>\n      <td>6</td>\n      <td>7</td>\n      <td>2019</td>\n      <td>7</td>\n      <td>7</td>\n      <td>3:11</td>\n      <td>carrying out orders</td>\n      <td>Port Allen PD</td>\n      <td>2019</td>\n      <td>3eb506364d363250c78e785bd4b922de</td>\n      <td>f2dc61218aca118ad33011e0e2015f16</td>\n      <td>0c318002b4ff01541b2a0de95fb9ba52</td>\n    </tr>\n    <tr>\n      <th>7</th>\n      <td>officer</td>\n      <td>craig</td>\n      <td>crawford</td>\n      <td>PA-28</td>\n      <td>unfounded</td>\n      <td>15:34</td>\n      <td>19-016</td>\n      <td>2019</td>\n      <td>7</td>\n      <td>16</td>\n      <td>2019</td>\n      <td>6</td>\n      <td>26</td>\n      <td>2:15</td>\n      <td>conduct unbecoming of an officer</td>\n      <td>Port Allen PD</td>\n      <td>2019</td>\n      <td>3eb506364d363250c78e785bd4b922de</td>\n      <td>76697a594d6da546b9a30a8336723c0b</td>\n      <td>9e1f5b5e8356fd9b82a2bf4b081957bc</td>\n    </tr>\n    <tr>\n      <th>8</th>\n      <td>corporal</td>\n      <td>bobby</td>\n      <td>hopson</td>\n      <td>PA-8</td>\n      <td>exonerated</td>\n      <td></td>\n      <td>19-017</td>\n      <td>2019</td>\n      <td>8</td>\n      <td>19</td>\n      <td></td>\n      <td></td>\n      <td></td>\n      <td>2:15</td>\n      <td>conduct unbecoming of an officer</td>\n      <td>Port Allen PD</td>\n      <td>2019</td>\n      <td>48613372c82b0a85f4933825f9d6c009</td>\n      <td>cca9cdbce03c2ffbedcf10cc3a968c95</td>\n      <td>afb56ca0ef74ff8b921073f47eff9ee2</td>\n    </tr>\n    <tr>\n      <th>9</th>\n      <td>officer</td>\n      <td>craig</td>\n      <td>crawford</td>\n      <td>PA-28</td>\n      <td>not sustained</td>\n      <td>17:00</td>\n      <td>19-018</td>\n      <td>2019</td>\n      <td>8</td>\n      <td>15</td>\n      <td>2019</td>\n      <td>8</td>\n      <td>14</td>\n      <td>2:15</td>\n      <td>conduct unbecoming of an officer</td>\n      <td>Port Allen PD</td>\n      <td>2019</td>\n      <td>3eb506364d363250c78e785bd4b922de</td>\n      <td>60c0868feb9220045240542ed0c930ea</td>\n      <td>45f44bc29c7cc862ae42ae6b807afed6</td>\n    </tr>\n    <tr>\n      <th>10</th>\n      <td>officer</td>\n      <td>jana</td>\n      <td>chustz</td>\n      <td>PA-13</td>\n      <td>expired</td>\n      <td>15:30</td>\n      <td>19-019</td>\n      <td>2019</td>\n      <td>9</td>\n      <td>19</td>\n      <td>2019</td>\n      <td>8</td>\n      <td>18</td>\n      <td>122</td>\n      <td>departmental motor vehicle accident</td>\n      <td>Port Allen PD</td>\n      <td>2019</td>\n      <td>e2ff2590239356be9ac3c98a85a5caa2</td>\n      <td>24102582244e60b7d14fe91ca3eab774</td>\n      <td>d8d244ecea2b3313fb254a0a6a28273c</td>\n    </tr>\n    <tr>\n      <th>11</th>\n      <td>officer</td>\n      <td>craig</td>\n      <td>crawford</td>\n      <td>PA-28</td>\n      <td>exonerated</td>\n      <td>09:00</td>\n      <td>19-02</td>\n      <td>2019</td>\n      <td>1</td>\n      <td>28</td>\n      <td>2019</td>\n      <td>1</td>\n      <td>28</td>\n      <td>122</td>\n      <td>departmental motor vehicle accident</td>\n      <td>Port Allen PD</td>\n      <td>2019</td>\n      <td>3eb506364d363250c78e785bd4b922de</td>\n      <td>4ba3e5a5c330f37b9e55a2e023abbcf6</td>\n      <td>0847187742facca5a538d2078524f82e</td>\n    </tr>\n    <tr>\n      <th>12</th>\n      <td>officer</td>\n      <td>eric</td>\n      <td>reineke</td>\n      <td>PA-11</td>\n      <td>sustained</td>\n      <td>18:30</td>\n      <td>19-020</td>\n      <td>2019</td>\n      <td>8</td>\n      <td>28</td>\n      <td>2019</td>\n      <td>8</td>\n      <td>24</td>\n      <td>2:15</td>\n      <td>conduct unbecoming of an officer</td>\n      <td>Port Allen PD</td>\n      <td>2019</td>\n      <td>0154446c5f7281fe33db1ed077d53a6a</td>\n      <td>e7c6711a1cbc878c9b288968eb891fd8</td>\n      <td>f3d9d96d690365f65a0a42efcfac0d00</td>\n    </tr>\n    <tr>\n      <th>13</th>\n      <td>officer</td>\n      <td>latrese</td>\n      <td>darden</td>\n      <td>PA-6</td>\n      <td>sustained</td>\n      <td>14:35</td>\n      <td>19-021</td>\n      <td>2019</td>\n      <td>10</td>\n      <td>14</td>\n      <td>2019</td>\n      <td>10</td>\n      <td>13</td>\n      <td>122</td>\n      <td>departmental motor vehicle accident</td>\n      <td>Port Allen PD</td>\n      <td>2019</td>\n      <td>9b2e7fa1a79cef25f43527981276ece4</td>\n      <td>f1bdc480ab1f6f39c523edadf77906e8</td>\n      <td>78c5ea6eee9b2e8cf033e308df1c1281</td>\n    </tr>\n    <tr>\n      <th>14</th>\n      <td>officer</td>\n      <td>craig</td>\n      <td>crawford</td>\n      <td>PA-28</td>\n      <td>exonerated</td>\n      <td>03:40</td>\n      <td>19-023</td>\n      <td>2019</td>\n      <td>11</td>\n      <td>23</td>\n      <td>2019</td>\n      <td>11</td>\n      <td>23</td>\n      <td>122</td>\n      <td>departmental motor vehicle accident</td>\n      <td>Port Allen PD</td>\n      <td>2019</td>\n      <td>3eb506364d363250c78e785bd4b922de</td>\n      <td>b2219da1136ba2b026b006e8a10d5132</td>\n      <td>0cfd122e015fa908a534f784c3bca1bb</td>\n    </tr>\n    <tr>\n      <th>15</th>\n      <td>officer</td>\n      <td>craig</td>\n      <td>crawford</td>\n      <td>PA-28</td>\n      <td>exonerated</td>\n      <td>12:30</td>\n      <td>19-024</td>\n      <td>2019</td>\n      <td>12</td>\n      <td>16</td>\n      <td>2019</td>\n      <td>11</td>\n      <td>28</td>\n      <td></td>\n      <td></td>\n      <td>Port Allen PD</td>\n      <td>2019</td>\n      <td>3eb506364d363250c78e785bd4b922de</td>\n      <td>838d34beb597888bd848ad90bd91b523</td>\n      <td>590bcb0282fd8bc2b5608cea7d8d824b</td>\n    </tr>\n    <tr>\n      <th>16</th>\n      <td>officer</td>\n      <td>james</td>\n      <td>lewis</td>\n      <td>PA-9</td>\n      <td></td>\n      <td>20:30</td>\n      <td>19-03</td>\n      <td>2019</td>\n      <td>2</td>\n      <td>12</td>\n      <td>2019</td>\n      <td>1</td>\n      <td>31</td>\n      <td>2:15</td>\n      <td>conduct unbecoming of an officer</td>\n      <td>Port Allen PD</td>\n      <td>2019</td>\n      <td>543b25634ec801e4794dc94e79e24f5c</td>\n      <td>27ff1a82d8363b6ecfc52e0101f42223</td>\n      <td>6c38c769442e8a0b18bfe1fc8526bc04</td>\n    </tr>\n    <tr>\n      <th>17</th>\n      <td>sergeant</td>\n      <td>briant</td>\n      <td>landry</td>\n      <td>PA-17</td>\n      <td>unfounded</td>\n      <td>10:00</td>\n      <td>19-04</td>\n      <td>2019</td>\n      <td>2</td>\n      <td>6</td>\n      <td>2019</td>\n      <td>2</td>\n      <td>6</td>\n      <td>2:15</td>\n      <td>conduct unbecoming of an officer</td>\n      <td>Port Allen PD</td>\n      <td>2019</td>\n      <td>288907b81326ed3700254bca80eaad49</td>\n      <td>5e1e614b4da4479f1823a78743f2520f</td>\n      <td>7d31fbd525b16e9a41ce9deb3a48bf39</td>\n    </tr>\n    <tr>\n      <th>18</th>\n      <td>sergeant</td>\n      <td>briant</td>\n      <td>landry</td>\n      <td>PA-17</td>\n      <td>sustained</td>\n      <td>22:33</td>\n      <td>19-05</td>\n      <td>2019</td>\n      <td>3</td>\n      <td>13</td>\n      <td>2019</td>\n      <td>3</td>\n      <td>10</td>\n      <td>2:21</td>\n      <td>use of alcohol and controlled substance</td>\n      <td>Port Allen PD</td>\n      <td>2019</td>\n      <td>288907b81326ed3700254bca80eaad49</td>\n      <td>0491ea8d3e30635fe049e1e08f14614d</td>\n      <td>9c438f4ee35711a9066c2e3245461de6</td>\n    </tr>\n    <tr>\n      <th>19</th>\n      <td>sergeant</td>\n      <td>briant</td>\n      <td>landry</td>\n      <td>PA-17</td>\n      <td>sustained</td>\n      <td>22:33</td>\n      <td>19-05</td>\n      <td>2019</td>\n      <td>3</td>\n      <td>13</td>\n      <td>2019</td>\n      <td>3</td>\n      <td>10</td>\n      <td>2:15</td>\n      <td>conduct unbecoming of an officer</td>\n      <td>Port Allen PD</td>\n      <td>2019</td>\n      <td>288907b81326ed3700254bca80eaad49</td>\n      <td>3ad6aedf9cebf722baa22862da77f81b</td>\n      <td>66a507483299b560bbb6ee7ea0e645a2</td>\n    </tr>\n    <tr>\n      <th>20</th>\n      <td>sergeant</td>\n      <td>briant</td>\n      <td>landry</td>\n      <td>PA-17</td>\n      <td>sustained</td>\n      <td>22:33</td>\n      <td>19-05</td>\n      <td>2019</td>\n      <td>3</td>\n      <td>13</td>\n      <td>2019</td>\n      <td>3</td>\n      <td>10</td>\n      <td>3:11</td>\n      <td>carrying out orders</td>\n      <td>Port Allen PD</td>\n      <td>2019</td>\n      <td>288907b81326ed3700254bca80eaad49</td>\n      <td>e708d14f48a7881381ca339f3a6ef605</td>\n      <td>afd080f30c013d105b64170ea528d894</td>\n    </tr>\n    <tr>\n      <th>21</th>\n      <td>officer</td>\n      <td>tiffeny</td>\n      <td>wycoskie</td>\n      <td>PA-5</td>\n      <td>sustained</td>\n      <td></td>\n      <td>19-06</td>\n      <td>2019</td>\n      <td>3</td>\n      <td>27</td>\n      <td></td>\n      <td></td>\n      <td></td>\n      <td>122</td>\n      <td>departmental motor vehicle accident</td>\n      <td>Port Allen PD</td>\n      <td>2019</td>\n      <td>6ade487aa52a65c3e3c4ed213cfb83e0</td>\n      <td>8af86fda8e799aee03841dbd6eaf129d</td>\n      <td>018fb3829374f55c7255f8bc17ad24fc</td>\n    </tr>\n    <tr>\n      <th>22</th>\n      <td>officer</td>\n      <td>tiffeny</td>\n      <td>wycoskie</td>\n      <td>PA-5</td>\n      <td>exonerated</td>\n      <td></td>\n      <td>19-07</td>\n      <td>2018</td>\n      <td>4</td>\n      <td>15</td>\n      <td>2019</td>\n      <td>3</td>\n      <td>28</td>\n      <td>2:15</td>\n      <td>conduct unbecoming of an officer</td>\n      <td>Port Allen PD</td>\n      <td>2019</td>\n      <td>6ade487aa52a65c3e3c4ed213cfb83e0</td>\n      <td>af3364174957dcdf62f0b3b894d2b1f5</td>\n      <td>302b8d05f32c8fb26c0146144206ea0c</td>\n    </tr>\n    <tr>\n      <th>23</th>\n      <td>officer</td>\n      <td>eric</td>\n      <td>reineke</td>\n      <td>PA-11</td>\n      <td>sustained</td>\n      <td>16:00</td>\n      <td>19-08</td>\n      <td>2019</td>\n      <td>5</td>\n      <td>3</td>\n      <td>2019</td>\n      <td>4</td>\n      <td>30</td>\n      <td>122</td>\n      <td>departmental motor vehicle accident</td>\n      <td>Port Allen PD</td>\n      <td>2019</td>\n      <td>0154446c5f7281fe33db1ed077d53a6a</td>\n      <td>114299eb9ba489d0b31f1c1d8e73ea5b</td>\n      <td>5f211273977928d89067bbb43552f8c7</td>\n    </tr>\n    <tr>\n      <th>24</th>\n      <td>officer</td>\n      <td>nolan</td>\n      <td>dehon</td>\n      <td>PA-4</td>\n      <td>unfounded</td>\n      <td>06:45</td>\n      <td>19-09</td>\n      <td>2019</td>\n      <td>6</td>\n      <td>13</td>\n      <td>2019</td>\n      <td>6</td>\n      <td>13</td>\n      <td>2:15</td>\n      <td>conduct unbecoming of an officer</td>\n      <td>Port Allen PD</td>\n      <td>2019</td>\n      <td>020adb924ca054caccff2314c4189d8a</td>\n      <td>d1d294a7ea518ee1416aeb37bc7d3c07</td>\n      <td>b6932e9f526edffb411041b599811ef2</td>\n    </tr>\n  </tbody>\n</table>\n</div>"
     },
     "metadata": {},
     "execution_count": 2
    }
   ],
   "source": [
    "cprr19 = clean19()\n",
    "cprr19"
   ]
  },
  {
   "cell_type": "code",
   "execution_count": 3,
   "metadata": {},
   "outputs": [
    {
     "output_type": "stream",
     "name": "stderr",
     "text": [
      "../clean/port_allen_pd_cprr.py:35: FutureWarning: The default value of regex will change from True to False in a future version.\n  df.loc[:, \"occur_time\"] = df.occur_time.str.strip().fillna(\"\")\\\n"
     ]
    },
    {
     "output_type": "execute_result",
     "data": {
      "text/plain": [
       "  tracking_number occur_time notification_date rank_desc first_name  \\\n",
       "0         17-0005                          NaN       NaN     justin   \n",
       "2       18-000009                          NaN       NaN     alaric   \n",
       "3         17-0003      17:30            3/6/17       NaN    donovan   \n",
       "4         17-0001      10:00           2/21/17   officer    freddie   \n",
       "\n",
       "     last_name     rule_code  \\\n",
       "0        smith          3:11   \n",
       "2   celestaine           NaN   \n",
       "3     mitchell           112   \n",
       "4  christopher  112/1:7; 113   \n",
       "\n",
       "                                      rule_violation disposition  \\\n",
       "0                                carrying out orders   sustained   \n",
       "2                                                NaN         NaN   \n",
       "3               departmental motor vehicle accidents         NaN   \n",
       "4  completion and submission of required forms; a...   sustained   \n",
       "\n",
       "                                              action  ... receive_month  \\\n",
       "0  15 day suspension without pay; appeal: yes; he...  ...                 \n",
       "2                                                     ...            10   \n",
       "3                           given verbal instruction  ...             2   \n",
       "4                       5 day suspension without pay  ...             2   \n",
       "\n",
       "  receive_day occur_year occur_month occur_day         agency  \\\n",
       "0                                               Port Allen PD   \n",
       "2          23                                   Port Allen PD   \n",
       "3          26       2017           2        26  Port Allen PD   \n",
       "4          20       2017           2        20  Port Allen PD   \n",
       "\n",
       "  data_production_year                               uid  \\\n",
       "0                 2018  c8fb4f1c16f1b7b7abbc37a7e37847fb   \n",
       "2                 2018  0a4fea65f1ae69d7465860d0001130e2   \n",
       "3                 2018  3cb1e8881fd1aec974339628e3bd80d4   \n",
       "4                 2018  762a4ca100c29856d2bc3e24491dafa7   \n",
       "\n",
       "                         charge_uid                     complaint_uid  \n",
       "0  eddf3e03cd0e81a59d956f2570b39d74  1e589303bd678573db4db994c9b9b2c4  \n",
       "2  1a80ecaba908e30137b3674bda0b8394  d8cf30fae87c69e06fc77978cf46cde7  \n",
       "3  9e02e58e2f218b5ee663ac90a6c03994  c14ee81aa5c9b3786c30e68ccd74676d  \n",
       "4  92d84df00c8ab077b708ce37404b6318  46ff8c5db8a4600222d9fda33cef1f51  \n",
       "\n",
       "[4 rows x 22 columns]"
      ],
      "text/html": "<div>\n<style scoped>\n    .dataframe tbody tr th:only-of-type {\n        vertical-align: middle;\n    }\n\n    .dataframe tbody tr th {\n        vertical-align: top;\n    }\n\n    .dataframe thead th {\n        text-align: right;\n    }\n</style>\n<table border=\"1\" class=\"dataframe\">\n  <thead>\n    <tr style=\"text-align: right;\">\n      <th></th>\n      <th>tracking_number</th>\n      <th>occur_time</th>\n      <th>notification_date</th>\n      <th>rank_desc</th>\n      <th>first_name</th>\n      <th>last_name</th>\n      <th>rule_code</th>\n      <th>rule_violation</th>\n      <th>disposition</th>\n      <th>action</th>\n      <th>...</th>\n      <th>receive_month</th>\n      <th>receive_day</th>\n      <th>occur_year</th>\n      <th>occur_month</th>\n      <th>occur_day</th>\n      <th>agency</th>\n      <th>data_production_year</th>\n      <th>uid</th>\n      <th>charge_uid</th>\n      <th>complaint_uid</th>\n    </tr>\n  </thead>\n  <tbody>\n    <tr>\n      <th>0</th>\n      <td>17-0005</td>\n      <td></td>\n      <td>NaN</td>\n      <td>NaN</td>\n      <td>justin</td>\n      <td>smith</td>\n      <td>3:11</td>\n      <td>carrying out orders</td>\n      <td>sustained</td>\n      <td>15 day suspension without pay; appeal: yes; he...</td>\n      <td>...</td>\n      <td></td>\n      <td></td>\n      <td></td>\n      <td></td>\n      <td></td>\n      <td>Port Allen PD</td>\n      <td>2018</td>\n      <td>c8fb4f1c16f1b7b7abbc37a7e37847fb</td>\n      <td>eddf3e03cd0e81a59d956f2570b39d74</td>\n      <td>1e589303bd678573db4db994c9b9b2c4</td>\n    </tr>\n    <tr>\n      <th>2</th>\n      <td>18-000009</td>\n      <td></td>\n      <td>NaN</td>\n      <td>NaN</td>\n      <td>alaric</td>\n      <td>celestaine</td>\n      <td>NaN</td>\n      <td>NaN</td>\n      <td>NaN</td>\n      <td></td>\n      <td>...</td>\n      <td>10</td>\n      <td>23</td>\n      <td></td>\n      <td></td>\n      <td></td>\n      <td>Port Allen PD</td>\n      <td>2018</td>\n      <td>0a4fea65f1ae69d7465860d0001130e2</td>\n      <td>1a80ecaba908e30137b3674bda0b8394</td>\n      <td>d8cf30fae87c69e06fc77978cf46cde7</td>\n    </tr>\n    <tr>\n      <th>3</th>\n      <td>17-0003</td>\n      <td>17:30</td>\n      <td>3/6/17</td>\n      <td>NaN</td>\n      <td>donovan</td>\n      <td>mitchell</td>\n      <td>112</td>\n      <td>departmental motor vehicle accidents</td>\n      <td>NaN</td>\n      <td>given verbal instruction</td>\n      <td>...</td>\n      <td>2</td>\n      <td>26</td>\n      <td>2017</td>\n      <td>2</td>\n      <td>26</td>\n      <td>Port Allen PD</td>\n      <td>2018</td>\n      <td>3cb1e8881fd1aec974339628e3bd80d4</td>\n      <td>9e02e58e2f218b5ee663ac90a6c03994</td>\n      <td>c14ee81aa5c9b3786c30e68ccd74676d</td>\n    </tr>\n    <tr>\n      <th>4</th>\n      <td>17-0001</td>\n      <td>10:00</td>\n      <td>2/21/17</td>\n      <td>officer</td>\n      <td>freddie</td>\n      <td>christopher</td>\n      <td>112/1:7; 113</td>\n      <td>completion and submission of required forms; a...</td>\n      <td>sustained</td>\n      <td>5 day suspension without pay</td>\n      <td>...</td>\n      <td>2</td>\n      <td>20</td>\n      <td>2017</td>\n      <td>2</td>\n      <td>20</td>\n      <td>Port Allen PD</td>\n      <td>2018</td>\n      <td>762a4ca100c29856d2bc3e24491dafa7</td>\n      <td>92d84df00c8ab077b708ce37404b6318</td>\n      <td>46ff8c5db8a4600222d9fda33cef1f51</td>\n    </tr>\n  </tbody>\n</table>\n<p>4 rows × 22 columns</p>\n</div>"
     },
     "metadata": {},
     "execution_count": 3
    }
   ],
   "source": [
    "cprr18 = clean18()\n",
    "cprr18"
   ]
  },
  {
   "cell_type": "code",
   "execution_count": 4,
   "metadata": {},
   "outputs": [
    {
     "output_type": "stream",
     "name": "stderr",
     "text": [
      "../clean/port_allen_pd_cprr.py:35: FutureWarning: The default value of regex will change from True to False in a future version.\n  df.loc[:, \"occur_time\"] = df.occur_time.str.strip().fillna(\"\")\\\n"
     ]
    },
    {
     "output_type": "execute_result",
     "data": {
      "text/plain": [
       "  rank_desc first_name last_name badge_no department_desc paragraph_code  \\\n",
       "0  corporal    donovan  mitchell    PA-18  uniform patrol            112   \n",
       "1  corporal    donovan  mitchell    PA-18  uniform patrol            112   \n",
       "2   officer      revay     smith    PA-23                                  \n",
       "3   officer      revay     smith    PA-23             sro            112   \n",
       "4   officer     justin     smith    PA-20  uniform patrol            112   \n",
       "\n",
       "                    paragraph_violation rule_code  \\\n",
       "0                                            2:14   \n",
       "1                                            2:10   \n",
       "2                                             NaN   \n",
       "3  departmental motor vehicles accident       NaN   \n",
       "4                                            3:11   \n",
       "\n",
       "                                 rule_violation  \\\n",
       "0        failure to secure property or evidence   \n",
       "1  failure to report lost or damanged equipment   \n",
       "2                               excessive force   \n",
       "3                                                 \n",
       "4                           carrying out orders   \n",
       "\n",
       "                                         disposition  ... occur_month  \\\n",
       "0  reprimand given instructions on properly secur...  ...          11   \n",
       "1                       1 day suspension without pay  ...          11   \n",
       "2                                                     ...               \n",
       "3                                five day suspension  ...          10   \n",
       "4                    five day suspension without pay  ...          12   \n",
       "\n",
       "  occur_day investigation_complete_year investigation_complete_month  \\\n",
       "0         9                                                            \n",
       "1        28                        2016                           12   \n",
       "2                                                                      \n",
       "3        14                        2016                           10   \n",
       "4        26                                                            \n",
       "\n",
       "  investigation_complete_day         agency data_production_year  \\\n",
       "0                             Port Allen PD                 2016   \n",
       "1                          8  Port Allen PD                 2016   \n",
       "2                             Port Allen PD                 2016   \n",
       "3                         15  Port Allen PD                 2016   \n",
       "4                             Port Allen PD                 2016   \n",
       "\n",
       "                                uid                        charge_uid  \\\n",
       "0  3cb1e8881fd1aec974339628e3bd80d4  0d83039a7906db30572b957086923b0d   \n",
       "1  3cb1e8881fd1aec974339628e3bd80d4  7342f6e62c39c137d95ef0f79fa47dc0   \n",
       "2  aeeedb6200a57e20d58eeb627c622859  1c27d2a3b2b09e37b167adf3d00c5f1b   \n",
       "3  aeeedb6200a57e20d58eeb627c622859  1d70d1efdf7480e6c98e65e29a64bcb1   \n",
       "4  c8fb4f1c16f1b7b7abbc37a7e37847fb  0ff04d2f8737b0e845b473b533e1f70b   \n",
       "\n",
       "                      complaint_uid  \n",
       "0  8ab9947940a4b18a826508328b5607b5  \n",
       "1  b936fe000e896ba62f93d4a06713d00e  \n",
       "2  c3d5354081a7a5844b44f91ab190ce1b  \n",
       "3  86ad35c4c546468f51b3d0e1f43bd99e  \n",
       "4  425bfcf3db5634a092bf9957f7be2146  \n",
       "\n",
       "[5 rows x 27 columns]"
      ],
      "text/html": "<div>\n<style scoped>\n    .dataframe tbody tr th:only-of-type {\n        vertical-align: middle;\n    }\n\n    .dataframe tbody tr th {\n        vertical-align: top;\n    }\n\n    .dataframe thead th {\n        text-align: right;\n    }\n</style>\n<table border=\"1\" class=\"dataframe\">\n  <thead>\n    <tr style=\"text-align: right;\">\n      <th></th>\n      <th>rank_desc</th>\n      <th>first_name</th>\n      <th>last_name</th>\n      <th>badge_no</th>\n      <th>department_desc</th>\n      <th>paragraph_code</th>\n      <th>paragraph_violation</th>\n      <th>rule_code</th>\n      <th>rule_violation</th>\n      <th>disposition</th>\n      <th>...</th>\n      <th>occur_month</th>\n      <th>occur_day</th>\n      <th>investigation_complete_year</th>\n      <th>investigation_complete_month</th>\n      <th>investigation_complete_day</th>\n      <th>agency</th>\n      <th>data_production_year</th>\n      <th>uid</th>\n      <th>charge_uid</th>\n      <th>complaint_uid</th>\n    </tr>\n  </thead>\n  <tbody>\n    <tr>\n      <th>0</th>\n      <td>corporal</td>\n      <td>donovan</td>\n      <td>mitchell</td>\n      <td>PA-18</td>\n      <td>uniform patrol</td>\n      <td>112</td>\n      <td></td>\n      <td>2:14</td>\n      <td>failure to secure property or evidence</td>\n      <td>reprimand given instructions on properly secur...</td>\n      <td>...</td>\n      <td>11</td>\n      <td>9</td>\n      <td></td>\n      <td></td>\n      <td></td>\n      <td>Port Allen PD</td>\n      <td>2016</td>\n      <td>3cb1e8881fd1aec974339628e3bd80d4</td>\n      <td>0d83039a7906db30572b957086923b0d</td>\n      <td>8ab9947940a4b18a826508328b5607b5</td>\n    </tr>\n    <tr>\n      <th>1</th>\n      <td>corporal</td>\n      <td>donovan</td>\n      <td>mitchell</td>\n      <td>PA-18</td>\n      <td>uniform patrol</td>\n      <td>112</td>\n      <td></td>\n      <td>2:10</td>\n      <td>failure to report lost or damanged equipment</td>\n      <td>1 day suspension without pay</td>\n      <td>...</td>\n      <td>11</td>\n      <td>28</td>\n      <td>2016</td>\n      <td>12</td>\n      <td>8</td>\n      <td>Port Allen PD</td>\n      <td>2016</td>\n      <td>3cb1e8881fd1aec974339628e3bd80d4</td>\n      <td>7342f6e62c39c137d95ef0f79fa47dc0</td>\n      <td>b936fe000e896ba62f93d4a06713d00e</td>\n    </tr>\n    <tr>\n      <th>2</th>\n      <td>officer</td>\n      <td>revay</td>\n      <td>smith</td>\n      <td>PA-23</td>\n      <td></td>\n      <td></td>\n      <td></td>\n      <td>NaN</td>\n      <td>excessive force</td>\n      <td></td>\n      <td>...</td>\n      <td></td>\n      <td></td>\n      <td></td>\n      <td></td>\n      <td></td>\n      <td>Port Allen PD</td>\n      <td>2016</td>\n      <td>aeeedb6200a57e20d58eeb627c622859</td>\n      <td>1c27d2a3b2b09e37b167adf3d00c5f1b</td>\n      <td>c3d5354081a7a5844b44f91ab190ce1b</td>\n    </tr>\n    <tr>\n      <th>3</th>\n      <td>officer</td>\n      <td>revay</td>\n      <td>smith</td>\n      <td>PA-23</td>\n      <td>sro</td>\n      <td>112</td>\n      <td>departmental motor vehicles accident</td>\n      <td>NaN</td>\n      <td></td>\n      <td>five day suspension</td>\n      <td>...</td>\n      <td>10</td>\n      <td>14</td>\n      <td>2016</td>\n      <td>10</td>\n      <td>15</td>\n      <td>Port Allen PD</td>\n      <td>2016</td>\n      <td>aeeedb6200a57e20d58eeb627c622859</td>\n      <td>1d70d1efdf7480e6c98e65e29a64bcb1</td>\n      <td>86ad35c4c546468f51b3d0e1f43bd99e</td>\n    </tr>\n    <tr>\n      <th>4</th>\n      <td>officer</td>\n      <td>justin</td>\n      <td>smith</td>\n      <td>PA-20</td>\n      <td>uniform patrol</td>\n      <td>112</td>\n      <td></td>\n      <td>3:11</td>\n      <td>carrying out orders</td>\n      <td>five day suspension without pay</td>\n      <td>...</td>\n      <td>12</td>\n      <td>26</td>\n      <td></td>\n      <td></td>\n      <td></td>\n      <td>Port Allen PD</td>\n      <td>2016</td>\n      <td>c8fb4f1c16f1b7b7abbc37a7e37847fb</td>\n      <td>0ff04d2f8737b0e845b473b533e1f70b</td>\n      <td>425bfcf3db5634a092bf9957f7be2146</td>\n    </tr>\n  </tbody>\n</table>\n<p>5 rows × 27 columns</p>\n</div>"
     },
     "metadata": {},
     "execution_count": 4
    }
   ],
   "source": [
    "cprr16 = clean16()\n",
    "cprr16"
   ]
  },
  {
   "cell_type": "code",
   "execution_count": 5,
   "metadata": {},
   "outputs": [
    {
     "output_type": "stream",
     "name": "stderr",
     "text": [
      "../clean/port_allen_csd_pprr.py:13: FutureWarning: The default value of regex will change from True to False in a future version.\n  cols = df.employee_number_full_name.str.strip().str.replace(r' +- +', r' ')\\\n../clean/port_allen_csd_pprr.py:31: FutureWarning: The default value of regex will change from True to False in a future version.\n  df.loc[:, 'rank_desc'] = df.rank_desc.str.replace(r'^t ', '')\\\n"
     ]
    },
    {
     "output_type": "execute_result",
     "data": {
      "text/plain": [
       "                     rank_desc department_code employment_status employee_id  \\\n",
       "0              police corporal           01-03        terminated     01-0103   \n",
       "1               police officer           01-03        terminated     01-0107   \n",
       "2               police officer           01-03        terminated     01-0047   \n",
       "3   administrative coordinator           01-03            active     01-0186   \n",
       "4              chief of police           01-03        terminated     01-0119   \n",
       "..                         ...             ...               ...         ...   \n",
       "74              police officer           01-03        terminated     01-0034   \n",
       "75              police officer           01-03            active     01-0199   \n",
       "76      police officer trainee           01-03            active     01-0191   \n",
       "77                  lieutenant           01-03            active     01-0033   \n",
       "78              police officer           01-03        terminated     01-0102   \n",
       "\n",
       "     last_name first_name middle_initial hire_year hire_month hire_day  \\\n",
       "0    arceneaux   benjamin              p      2006          5        2   \n",
       "1      armwood     dennis              b      2016          6       15   \n",
       "2   arrazattee     robert              a      2013          8        2   \n",
       "3       avants   jennifer              n      2010          4       28   \n",
       "4        bates    kenneth              e      1988          6       27   \n",
       "..         ...        ...            ...       ...        ...      ...   \n",
       "74    williams     robert              j      2013          2       27   \n",
       "75    williams      shawn              m      2020          6       24   \n",
       "76     winters    corione              j      2020          2        6   \n",
       "77      wisham     kendra              e      2013          2       27   \n",
       "78    wycoskie    tiffeny              j      2016          4       20   \n",
       "\n",
       "   data_production_year          agency                               uid  \n",
       "0                  2020  Port Allen CSD  de27694faa4d8610a1dce25f00faafab  \n",
       "1                  2020  Port Allen CSD  6e6227ab64eb91cc779bb5de98e0a533  \n",
       "2                  2020  Port Allen CSD  29f54344ee0ff8cf935829148f78b0db  \n",
       "3                  2020  Port Allen CSD  3b1c9541fc1e0d5412bcd2416a9b388a  \n",
       "4                  2020  Port Allen CSD  d69e2c6c827f4e168829250002919f08  \n",
       "..                  ...             ...                               ...  \n",
       "74                 2020  Port Allen CSD  05dfc9e64a1d52d9f52a83a7b36d27c9  \n",
       "75                 2020  Port Allen CSD  34055eb7fbb1807aa897a92f787595b8  \n",
       "76                 2020  Port Allen CSD  84738b03bcff27ec2d260460f5300c73  \n",
       "77                 2020  Port Allen CSD  969795785004cf2352cbd602c480c121  \n",
       "78                 2020  Port Allen CSD  1297695da75743835e9e821488141a91  \n",
       "\n",
       "[79 rows x 13 columns]"
      ],
      "text/html": "<div>\n<style scoped>\n    .dataframe tbody tr th:only-of-type {\n        vertical-align: middle;\n    }\n\n    .dataframe tbody tr th {\n        vertical-align: top;\n    }\n\n    .dataframe thead th {\n        text-align: right;\n    }\n</style>\n<table border=\"1\" class=\"dataframe\">\n  <thead>\n    <tr style=\"text-align: right;\">\n      <th></th>\n      <th>rank_desc</th>\n      <th>department_code</th>\n      <th>employment_status</th>\n      <th>employee_id</th>\n      <th>last_name</th>\n      <th>first_name</th>\n      <th>middle_initial</th>\n      <th>hire_year</th>\n      <th>hire_month</th>\n      <th>hire_day</th>\n      <th>data_production_year</th>\n      <th>agency</th>\n      <th>uid</th>\n    </tr>\n  </thead>\n  <tbody>\n    <tr>\n      <th>0</th>\n      <td>police corporal</td>\n      <td>01-03</td>\n      <td>terminated</td>\n      <td>01-0103</td>\n      <td>arceneaux</td>\n      <td>benjamin</td>\n      <td>p</td>\n      <td>2006</td>\n      <td>5</td>\n      <td>2</td>\n      <td>2020</td>\n      <td>Port Allen CSD</td>\n      <td>de27694faa4d8610a1dce25f00faafab</td>\n    </tr>\n    <tr>\n      <th>1</th>\n      <td>police officer</td>\n      <td>01-03</td>\n      <td>terminated</td>\n      <td>01-0107</td>\n      <td>armwood</td>\n      <td>dennis</td>\n      <td>b</td>\n      <td>2016</td>\n      <td>6</td>\n      <td>15</td>\n      <td>2020</td>\n      <td>Port Allen CSD</td>\n      <td>6e6227ab64eb91cc779bb5de98e0a533</td>\n    </tr>\n    <tr>\n      <th>2</th>\n      <td>police officer</td>\n      <td>01-03</td>\n      <td>terminated</td>\n      <td>01-0047</td>\n      <td>arrazattee</td>\n      <td>robert</td>\n      <td>a</td>\n      <td>2013</td>\n      <td>8</td>\n      <td>2</td>\n      <td>2020</td>\n      <td>Port Allen CSD</td>\n      <td>29f54344ee0ff8cf935829148f78b0db</td>\n    </tr>\n    <tr>\n      <th>3</th>\n      <td>administrative coordinator</td>\n      <td>01-03</td>\n      <td>active</td>\n      <td>01-0186</td>\n      <td>avants</td>\n      <td>jennifer</td>\n      <td>n</td>\n      <td>2010</td>\n      <td>4</td>\n      <td>28</td>\n      <td>2020</td>\n      <td>Port Allen CSD</td>\n      <td>3b1c9541fc1e0d5412bcd2416a9b388a</td>\n    </tr>\n    <tr>\n      <th>4</th>\n      <td>chief of police</td>\n      <td>01-03</td>\n      <td>terminated</td>\n      <td>01-0119</td>\n      <td>bates</td>\n      <td>kenneth</td>\n      <td>e</td>\n      <td>1988</td>\n      <td>6</td>\n      <td>27</td>\n      <td>2020</td>\n      <td>Port Allen CSD</td>\n      <td>d69e2c6c827f4e168829250002919f08</td>\n    </tr>\n    <tr>\n      <th>...</th>\n      <td>...</td>\n      <td>...</td>\n      <td>...</td>\n      <td>...</td>\n      <td>...</td>\n      <td>...</td>\n      <td>...</td>\n      <td>...</td>\n      <td>...</td>\n      <td>...</td>\n      <td>...</td>\n      <td>...</td>\n      <td>...</td>\n    </tr>\n    <tr>\n      <th>74</th>\n      <td>police officer</td>\n      <td>01-03</td>\n      <td>terminated</td>\n      <td>01-0034</td>\n      <td>williams</td>\n      <td>robert</td>\n      <td>j</td>\n      <td>2013</td>\n      <td>2</td>\n      <td>27</td>\n      <td>2020</td>\n      <td>Port Allen CSD</td>\n      <td>05dfc9e64a1d52d9f52a83a7b36d27c9</td>\n    </tr>\n    <tr>\n      <th>75</th>\n      <td>police officer</td>\n      <td>01-03</td>\n      <td>active</td>\n      <td>01-0199</td>\n      <td>williams</td>\n      <td>shawn</td>\n      <td>m</td>\n      <td>2020</td>\n      <td>6</td>\n      <td>24</td>\n      <td>2020</td>\n      <td>Port Allen CSD</td>\n      <td>34055eb7fbb1807aa897a92f787595b8</td>\n    </tr>\n    <tr>\n      <th>76</th>\n      <td>police officer trainee</td>\n      <td>01-03</td>\n      <td>active</td>\n      <td>01-0191</td>\n      <td>winters</td>\n      <td>corione</td>\n      <td>j</td>\n      <td>2020</td>\n      <td>2</td>\n      <td>6</td>\n      <td>2020</td>\n      <td>Port Allen CSD</td>\n      <td>84738b03bcff27ec2d260460f5300c73</td>\n    </tr>\n    <tr>\n      <th>77</th>\n      <td>lieutenant</td>\n      <td>01-03</td>\n      <td>active</td>\n      <td>01-0033</td>\n      <td>wisham</td>\n      <td>kendra</td>\n      <td>e</td>\n      <td>2013</td>\n      <td>2</td>\n      <td>27</td>\n      <td>2020</td>\n      <td>Port Allen CSD</td>\n      <td>969795785004cf2352cbd602c480c121</td>\n    </tr>\n    <tr>\n      <th>78</th>\n      <td>police officer</td>\n      <td>01-03</td>\n      <td>terminated</td>\n      <td>01-0102</td>\n      <td>wycoskie</td>\n      <td>tiffeny</td>\n      <td>j</td>\n      <td>2016</td>\n      <td>4</td>\n      <td>20</td>\n      <td>2020</td>\n      <td>Port Allen CSD</td>\n      <td>1297695da75743835e9e821488141a91</td>\n    </tr>\n  </tbody>\n</table>\n<p>79 rows × 13 columns</p>\n</div>"
     },
     "metadata": {},
     "execution_count": 5
    }
   ],
   "source": [
    "pprr = clean_pprr()\n",
    "pprr"
   ]
  },
  {
   "cell_type": "code",
   "execution_count": 6,
   "metadata": {},
   "outputs": [
    {
     "output_type": "execute_result",
     "data": {
      "text/plain": [
       "0    05:20\n",
       "1    12:30\n",
       "2         \n",
       "3    12:10\n",
       "4    20:15\n",
       "Name: occur_time, dtype: object"
      ]
     },
     "metadata": {},
     "execution_count": 6
    }
   ],
   "source": [
    "cprr16.occur_time"
   ]
  },
  {
   "cell_type": "code",
   "execution_count": 7,
   "metadata": {},
   "outputs": [
    {
     "output_type": "execute_result",
     "data": {
      "text/plain": [
       "0         \n",
       "2         \n",
       "3    17:30\n",
       "4    10:00\n",
       "Name: occur_time, dtype: object"
      ]
     },
     "metadata": {},
     "execution_count": 7
    }
   ],
   "source": [
    "cprr18.occur_time"
   ]
  },
  {
   "cell_type": "code",
   "execution_count": 8,
   "metadata": {},
   "outputs": [
    {
     "output_type": "execute_result",
     "data": {
      "text/plain": [
       "0     14:30\n",
       "1     17:25\n",
       "2     05:00\n",
       "3     10:07\n",
       "4          \n",
       "5     23:30\n",
       "6     00:52\n",
       "7     15:34\n",
       "8          \n",
       "9     17:00\n",
       "10    15:30\n",
       "11    09:00\n",
       "12    18:30\n",
       "13    14:35\n",
       "14    03:40\n",
       "15    12:30\n",
       "16    20:30\n",
       "17    10:00\n",
       "18    22:33\n",
       "19    22:33\n",
       "20    22:33\n",
       "21         \n",
       "22         \n",
       "23    16:00\n",
       "24    06:45\n",
       "Name: occur_time, dtype: object"
      ]
     },
     "metadata": {},
     "execution_count": 8
    }
   ],
   "source": [
    "cprr19.occur_time"
   ]
  },
  {
   "cell_type": "code",
   "execution_count": null,
   "metadata": {},
   "outputs": [],
   "source": []
  }
 ]
}
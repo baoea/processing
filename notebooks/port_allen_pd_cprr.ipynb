{
 "metadata": {
  "language_info": {
   "codemirror_mode": {
    "name": "ipython",
    "version": 3
   },
   "file_extension": ".py",
   "mimetype": "text/x-python",
   "name": "python",
   "nbconvert_exporter": "python",
   "pygments_lexer": "ipython3",
   "version": "3.8.3-final"
  },
  "orig_nbformat": 2,
  "kernelspec": {
   "name": "python383jvsc74a57bd0759d03fc00c4e55187619d7bc1e0b6a3309d14c7c00d43a321634150e05678f8",
   "display_name": "Python 3.8.3 64-bit ('base': conda)"
  }
 },
 "nbformat": 4,
 "nbformat_minor": 2,
 "cells": [
  {
   "cell_type": "code",
   "execution_count": 1,
   "metadata": {},
   "outputs": [],
   "source": [
    "import sys; sys.path.append(\"../\")\n",
    "\n",
    "import pandas as pd\n",
    "\n",
    "from clean.port_allen_pd_cprr import clean19, clean18, clean16\n",
    "from clean.port_allen_csd_pprr import clean as clean_pprr\n",
    "from match.port_allen_pd import match_csd_pprr_against_post_pprr, match_cprr_against_csd_pprr_2020"
   ]
  },
  {
   "cell_type": "code",
   "execution_count": 2,
   "metadata": {},
   "outputs": [
    {
     "output_type": "stream",
     "name": "stdout",
     "text": [
      "standardize_from_lookup_table: unmatched sequences:\n",
      "  {''}\n",
      "../lib/clean.py:166: FutureWarning: The default value of regex will change from True to False in a future version.\n",
      "  return series.str.strip().str.replace(r\"[^\\w-]+\", \" \").str.replace(r\"\\s+\", \" \")\\\n",
      "../clean/port_allen_pd_cprr.py:35: FutureWarning: The default value of regex will change from True to False in a future version.\n",
      "  df.loc[:, \"occur_time\"] = df.occur_time.str.strip().fillna(\"\")\\\n",
      "../clean/port_allen_pd_cprr.py:46: FutureWarning: The default value of regex will change from True to False in a future version.\n",
      "  df.loc[:, \"occur_date\"] = df.occur_date.str.strip().fillna(\"\")\\\n",
      "../clean/port_allen_pd_cprr.py:77: FutureWarning: The default value of regex will change from True to False in a future version.\n",
      "  df.loc[:, \"charge\"] = df.charge.fillna(\"\").str.replace(r\"\\s*(;|and)$\", \"\")\n"
     ]
    },
    {
     "output_type": "execute_result",
     "data": {
      "text/plain": [
       "   rank_desc first_name last_name badge_no    disposition occur_time  \\\n",
       "0    officer      craig  crawford    PA-28  not sustained      14:30   \n",
       "1    officer       eric   reineke    PA-11      sustained      17:25   \n",
       "2    officer      craig  crawford    PA-28      unfounded      05:00   \n",
       "3   corporal      bobby    hopson     PA-8      unfounded      10:07   \n",
       "4   corporal      bobby    hopson     PA-8        expired              \n",
       "5    officer       eric   reineke    PA-11  not sustained      23:30   \n",
       "6    officer      craig  crawford    PA-28      sustained      00:52   \n",
       "7    officer      craig  crawford    PA-28      unfounded      15:34   \n",
       "8   corporal      bobby    hopson     PA-8     exonerated              \n",
       "9    officer      craig  crawford    PA-28  not sustained      17:00   \n",
       "10   officer       jana    chustz    PA-13        expired      15:30   \n",
       "11   officer      craig  crawford    PA-28     exonerated      09:00   \n",
       "12   officer       eric   reineke    PA-11      sustained      18:30   \n",
       "13   officer    latrese    darden     PA-6      sustained      14:35   \n",
       "14   officer      craig  crawford    PA-28     exonerated      03:40   \n",
       "15   officer      craig  crawford    PA-28     exonerated      12:30   \n",
       "16   officer      james     lewis     PA-9                     20:30   \n",
       "17  sergeant     briant    landry    PA-17      unfounded      10:00   \n",
       "18  sergeant     briant    landry    PA-17      sustained      22:33   \n",
       "19  sergeant     briant    landry    PA-17      sustained      22:33   \n",
       "20  sergeant     briant    landry    PA-17      sustained      22:33   \n",
       "21   officer    tiffeny  wycoskie     PA-5      sustained              \n",
       "22   officer    tiffeny  wycoskie     PA-5     exonerated              \n",
       "23   officer       eric   reineke    PA-11      sustained      16:00   \n",
       "24   officer      nolan     dehon     PA-4      unfounded      06:45   \n",
       "\n",
       "   tracking_number receive_year receive_month receive_day occur_year  \\\n",
       "0            19-01         2019             1          24       2019   \n",
       "1           19-010         2019             6          18       2019   \n",
       "2           19-011         2019             6          20       2019   \n",
       "3           19-012         2019             6          21       2019   \n",
       "4           19-013         2019             6          25       2019   \n",
       "5           19-014         2019             7           8       2019   \n",
       "6           19-015         2019             6           7       2019   \n",
       "7           19-016         2019             7          16       2019   \n",
       "8           19-017         2019             8          19              \n",
       "9           19-018         2019             8          15       2019   \n",
       "10          19-019         2019             9          19       2019   \n",
       "11           19-02         2019             1          28       2019   \n",
       "12          19-020         2019             8          28       2019   \n",
       "13          19-021         2019            10          14       2019   \n",
       "14          19-023         2019            11          23       2019   \n",
       "15          19-024         2019            12          16       2019   \n",
       "16           19-03         2019             2          12       2019   \n",
       "17           19-04         2019             2           6       2019   \n",
       "18           19-05         2019             3          13       2019   \n",
       "19           19-05         2019             3          13       2019   \n",
       "20           19-05         2019             3          13       2019   \n",
       "21           19-06         2019             3          27              \n",
       "22           19-07         2018             4          15       2019   \n",
       "23           19-08         2019             5           3       2019   \n",
       "24           19-09         2019             6          13       2019   \n",
       "\n",
       "   occur_month occur_day rule_code                           rule_violation  \\\n",
       "0            1        16      2:15         conduct unbecoming of an officer   \n",
       "1            6        14     112/2                        command of temper   \n",
       "2            6        19                                                      \n",
       "3            6         1                                                      \n",
       "4            3        13                                                      \n",
       "5            7         3      2:15         conduct unbecoming of an officer   \n",
       "6            7         7      3:11                      carrying out orders   \n",
       "7            6        26      2:15         conduct unbecoming of an officer   \n",
       "8                             2:15         conduct unbecoming of an officer   \n",
       "9            8        14      2:15         conduct unbecoming of an officer   \n",
       "10           8        18       122      departmental motor vehicle accident   \n",
       "11           1        28       122      departmental motor vehicle accident   \n",
       "12           8        24      2:15         conduct unbecoming of an officer   \n",
       "13          10        13       122      departmental motor vehicle accident   \n",
       "14          11        23       122      departmental motor vehicle accident   \n",
       "15          11        28                                                      \n",
       "16           1        31      2:15         conduct unbecoming of an officer   \n",
       "17           2         6      2:15         conduct unbecoming of an officer   \n",
       "18           3        10      2:21  use of alcohol and controlled substance   \n",
       "19           3        10      2:15         conduct unbecoming of an officer   \n",
       "20           3        10      3:11                      carrying out orders   \n",
       "21                             122      departmental motor vehicle accident   \n",
       "22           3        28      2:15         conduct unbecoming of an officer   \n",
       "23           4        30       122      departmental motor vehicle accident   \n",
       "24          06        13      2:15         conduct unbecoming of an officer   \n",
       "\n",
       "           agency data_production_year                               uid  \\\n",
       "0   Port Allen PD                 2019  3eb506364d363250c78e785bd4b922de   \n",
       "1   Port Allen PD                 2019  0154446c5f7281fe33db1ed077d53a6a   \n",
       "2   Port Allen PD                 2019  3eb506364d363250c78e785bd4b922de   \n",
       "3   Port Allen PD                 2019  48613372c82b0a85f4933825f9d6c009   \n",
       "4   Port Allen PD                 2019  48613372c82b0a85f4933825f9d6c009   \n",
       "5   Port Allen PD                 2019  0154446c5f7281fe33db1ed077d53a6a   \n",
       "6   Port Allen PD                 2019  3eb506364d363250c78e785bd4b922de   \n",
       "7   Port Allen PD                 2019  3eb506364d363250c78e785bd4b922de   \n",
       "8   Port Allen PD                 2019  48613372c82b0a85f4933825f9d6c009   \n",
       "9   Port Allen PD                 2019  3eb506364d363250c78e785bd4b922de   \n",
       "10  Port Allen PD                 2019  e2ff2590239356be9ac3c98a85a5caa2   \n",
       "11  Port Allen PD                 2019  3eb506364d363250c78e785bd4b922de   \n",
       "12  Port Allen PD                 2019  0154446c5f7281fe33db1ed077d53a6a   \n",
       "13  Port Allen PD                 2019  9b2e7fa1a79cef25f43527981276ece4   \n",
       "14  Port Allen PD                 2019  3eb506364d363250c78e785bd4b922de   \n",
       "15  Port Allen PD                 2019  3eb506364d363250c78e785bd4b922de   \n",
       "16  Port Allen PD                 2019  543b25634ec801e4794dc94e79e24f5c   \n",
       "17  Port Allen PD                 2019  288907b81326ed3700254bca80eaad49   \n",
       "18  Port Allen PD                 2019  288907b81326ed3700254bca80eaad49   \n",
       "19  Port Allen PD                 2019  288907b81326ed3700254bca80eaad49   \n",
       "20  Port Allen PD                 2019  288907b81326ed3700254bca80eaad49   \n",
       "21  Port Allen PD                 2019  6ade487aa52a65c3e3c4ed213cfb83e0   \n",
       "22  Port Allen PD                 2019  6ade487aa52a65c3e3c4ed213cfb83e0   \n",
       "23  Port Allen PD                 2019  0154446c5f7281fe33db1ed077d53a6a   \n",
       "24  Port Allen PD                 2019  020adb924ca054caccff2314c4189d8a   \n",
       "\n",
       "                       complaint_uid                        charge_uid  \n",
       "0   c159d71de1833dc7b8a2694f51950304  9307dfde3eb9bcbb7516f3e9b1e642f7  \n",
       "1   a437255390dd6f8878b4a7fbe3605f78  a4577688ee1e48693fa9447a0a209aa1  \n",
       "2   517c430a611b0ab5c3c27a95985bebf6  728181280a07ada9d7af65aecf2f8809  \n",
       "3   1cfce89bce55fcbebc5e641bb4656217  86c1c35acdf591326fe11797e35d5396  \n",
       "4   4f0a27724395d6b077152ad2005537a0  d97c1e8b867c5c8907b63fec7b47e06d  \n",
       "5   22020e4e711d8ad29476fe3a984ac96d  2d1b0fa5703d969f4447e381fd8ac95d  \n",
       "6   404a85bf0e1cb60ac7457ac4273a3f04  6d58b769011c3777f90ae1f57da5c107  \n",
       "7   9127b300f13899151e122516726b1dc2  4986d000bf7380083c50b874e7167318  \n",
       "8   74153bcf6afda064667721b2f86f68c5  2fd5c081186226e7ca3680e06c883e3d  \n",
       "9   f876d47fc5a044d3226b813018f3413a  900f6bf33adced49b3a40621ced01cd9  \n",
       "10  c1a9bdbeebdee005acab706e3dabc742  09694137176853f3278b6dad43169325  \n",
       "11  38c7b3e670199956e107a6cc43301ef2  b79274f6f43bb8c876d8d711cee6a52f  \n",
       "12  ca42bbef94b4e6dde01808f72dfd420f  ff64d0dea721fb832d8c91d378ba1d27  \n",
       "13  fe0c4b1642ed1d73f5fe8ef5fde86c2b  bcd3a67314726988d8381ec8a4ee9a00  \n",
       "14  04fc972d2ace75855511ad4df6ea4cd4  dce20453386f50ae2916a8872e7f18df  \n",
       "15  dc899ead5b69d4fbbac910c2551da1bb  f729d505a411973f81230be4d8671f84  \n",
       "16  09a6958262a112495cd4195346474f45  97688177904d77e908d4dc7611ed4ad6  \n",
       "17  1e308d09610e3ed885e1237f69ec45aa  7ac5cadb798e95849d6b4cc4e300d1ef  \n",
       "18  b7d90b1126aa03f0fb184a8992788f1f  550db8b20f5b41a5220784a2932017d1  \n",
       "19  b7d90b1126aa03f0fb184a8992788f1f  d1c53241d38729d99c42d996e7c9a16b  \n",
       "20  b7d90b1126aa03f0fb184a8992788f1f  14918567824c212910c22bee674710c0  \n",
       "21  60b817a84472783105e1ad9cb55552af  c20b2a53344ff76cd132625fb7d8008f  \n",
       "22  002be7235f8939f18a17f1d2f4b60b91  02052577ea4d592bc710286ae5cefb9b  \n",
       "23  e0cd1bd77b5d517662c0a21ac56569f4  d7e06e80104f969c9931743eca9d8174  \n",
       "24  8463ce58ca8ac385b52ff51a057c36c1  db4454ca75763caaf39c75483f4277bf  "
      ],
      "text/html": "<div>\n<style scoped>\n    .dataframe tbody tr th:only-of-type {\n        vertical-align: middle;\n    }\n\n    .dataframe tbody tr th {\n        vertical-align: top;\n    }\n\n    .dataframe thead th {\n        text-align: right;\n    }\n</style>\n<table border=\"1\" class=\"dataframe\">\n  <thead>\n    <tr style=\"text-align: right;\">\n      <th></th>\n      <th>rank_desc</th>\n      <th>first_name</th>\n      <th>last_name</th>\n      <th>badge_no</th>\n      <th>disposition</th>\n      <th>occur_time</th>\n      <th>tracking_number</th>\n      <th>receive_year</th>\n      <th>receive_month</th>\n      <th>receive_day</th>\n      <th>occur_year</th>\n      <th>occur_month</th>\n      <th>occur_day</th>\n      <th>rule_code</th>\n      <th>rule_violation</th>\n      <th>agency</th>\n      <th>data_production_year</th>\n      <th>uid</th>\n      <th>complaint_uid</th>\n      <th>charge_uid</th>\n    </tr>\n  </thead>\n  <tbody>\n    <tr>\n      <th>0</th>\n      <td>officer</td>\n      <td>craig</td>\n      <td>crawford</td>\n      <td>PA-28</td>\n      <td>not sustained</td>\n      <td>14:30</td>\n      <td>19-01</td>\n      <td>2019</td>\n      <td>1</td>\n      <td>24</td>\n      <td>2019</td>\n      <td>1</td>\n      <td>16</td>\n      <td>2:15</td>\n      <td>conduct unbecoming of an officer</td>\n      <td>Port Allen PD</td>\n      <td>2019</td>\n      <td>3eb506364d363250c78e785bd4b922de</td>\n      <td>c159d71de1833dc7b8a2694f51950304</td>\n      <td>9307dfde3eb9bcbb7516f3e9b1e642f7</td>\n    </tr>\n    <tr>\n      <th>1</th>\n      <td>officer</td>\n      <td>eric</td>\n      <td>reineke</td>\n      <td>PA-11</td>\n      <td>sustained</td>\n      <td>17:25</td>\n      <td>19-010</td>\n      <td>2019</td>\n      <td>6</td>\n      <td>18</td>\n      <td>2019</td>\n      <td>6</td>\n      <td>14</td>\n      <td>112/2</td>\n      <td>command of temper</td>\n      <td>Port Allen PD</td>\n      <td>2019</td>\n      <td>0154446c5f7281fe33db1ed077d53a6a</td>\n      <td>a437255390dd6f8878b4a7fbe3605f78</td>\n      <td>a4577688ee1e48693fa9447a0a209aa1</td>\n    </tr>\n    <tr>\n      <th>2</th>\n      <td>officer</td>\n      <td>craig</td>\n      <td>crawford</td>\n      <td>PA-28</td>\n      <td>unfounded</td>\n      <td>05:00</td>\n      <td>19-011</td>\n      <td>2019</td>\n      <td>6</td>\n      <td>20</td>\n      <td>2019</td>\n      <td>6</td>\n      <td>19</td>\n      <td></td>\n      <td></td>\n      <td>Port Allen PD</td>\n      <td>2019</td>\n      <td>3eb506364d363250c78e785bd4b922de</td>\n      <td>517c430a611b0ab5c3c27a95985bebf6</td>\n      <td>728181280a07ada9d7af65aecf2f8809</td>\n    </tr>\n    <tr>\n      <th>3</th>\n      <td>corporal</td>\n      <td>bobby</td>\n      <td>hopson</td>\n      <td>PA-8</td>\n      <td>unfounded</td>\n      <td>10:07</td>\n      <td>19-012</td>\n      <td>2019</td>\n      <td>6</td>\n      <td>21</td>\n      <td>2019</td>\n      <td>6</td>\n      <td>1</td>\n      <td></td>\n      <td></td>\n      <td>Port Allen PD</td>\n      <td>2019</td>\n      <td>48613372c82b0a85f4933825f9d6c009</td>\n      <td>1cfce89bce55fcbebc5e641bb4656217</td>\n      <td>86c1c35acdf591326fe11797e35d5396</td>\n    </tr>\n    <tr>\n      <th>4</th>\n      <td>corporal</td>\n      <td>bobby</td>\n      <td>hopson</td>\n      <td>PA-8</td>\n      <td>expired</td>\n      <td></td>\n      <td>19-013</td>\n      <td>2019</td>\n      <td>6</td>\n      <td>25</td>\n      <td>2019</td>\n      <td>3</td>\n      <td>13</td>\n      <td></td>\n      <td></td>\n      <td>Port Allen PD</td>\n      <td>2019</td>\n      <td>48613372c82b0a85f4933825f9d6c009</td>\n      <td>4f0a27724395d6b077152ad2005537a0</td>\n      <td>d97c1e8b867c5c8907b63fec7b47e06d</td>\n    </tr>\n    <tr>\n      <th>5</th>\n      <td>officer</td>\n      <td>eric</td>\n      <td>reineke</td>\n      <td>PA-11</td>\n      <td>not sustained</td>\n      <td>23:30</td>\n      <td>19-014</td>\n      <td>2019</td>\n      <td>7</td>\n      <td>8</td>\n      <td>2019</td>\n      <td>7</td>\n      <td>3</td>\n      <td>2:15</td>\n      <td>conduct unbecoming of an officer</td>\n      <td>Port Allen PD</td>\n      <td>2019</td>\n      <td>0154446c5f7281fe33db1ed077d53a6a</td>\n      <td>22020e4e711d8ad29476fe3a984ac96d</td>\n      <td>2d1b0fa5703d969f4447e381fd8ac95d</td>\n    </tr>\n    <tr>\n      <th>6</th>\n      <td>officer</td>\n      <td>craig</td>\n      <td>crawford</td>\n      <td>PA-28</td>\n      <td>sustained</td>\n      <td>00:52</td>\n      <td>19-015</td>\n      <td>2019</td>\n      <td>6</td>\n      <td>7</td>\n      <td>2019</td>\n      <td>7</td>\n      <td>7</td>\n      <td>3:11</td>\n      <td>carrying out orders</td>\n      <td>Port Allen PD</td>\n      <td>2019</td>\n      <td>3eb506364d363250c78e785bd4b922de</td>\n      <td>404a85bf0e1cb60ac7457ac4273a3f04</td>\n      <td>6d58b769011c3777f90ae1f57da5c107</td>\n    </tr>\n    <tr>\n      <th>7</th>\n      <td>officer</td>\n      <td>craig</td>\n      <td>crawford</td>\n      <td>PA-28</td>\n      <td>unfounded</td>\n      <td>15:34</td>\n      <td>19-016</td>\n      <td>2019</td>\n      <td>7</td>\n      <td>16</td>\n      <td>2019</td>\n      <td>6</td>\n      <td>26</td>\n      <td>2:15</td>\n      <td>conduct unbecoming of an officer</td>\n      <td>Port Allen PD</td>\n      <td>2019</td>\n      <td>3eb506364d363250c78e785bd4b922de</td>\n      <td>9127b300f13899151e122516726b1dc2</td>\n      <td>4986d000bf7380083c50b874e7167318</td>\n    </tr>\n    <tr>\n      <th>8</th>\n      <td>corporal</td>\n      <td>bobby</td>\n      <td>hopson</td>\n      <td>PA-8</td>\n      <td>exonerated</td>\n      <td></td>\n      <td>19-017</td>\n      <td>2019</td>\n      <td>8</td>\n      <td>19</td>\n      <td></td>\n      <td></td>\n      <td></td>\n      <td>2:15</td>\n      <td>conduct unbecoming of an officer</td>\n      <td>Port Allen PD</td>\n      <td>2019</td>\n      <td>48613372c82b0a85f4933825f9d6c009</td>\n      <td>74153bcf6afda064667721b2f86f68c5</td>\n      <td>2fd5c081186226e7ca3680e06c883e3d</td>\n    </tr>\n    <tr>\n      <th>9</th>\n      <td>officer</td>\n      <td>craig</td>\n      <td>crawford</td>\n      <td>PA-28</td>\n      <td>not sustained</td>\n      <td>17:00</td>\n      <td>19-018</td>\n      <td>2019</td>\n      <td>8</td>\n      <td>15</td>\n      <td>2019</td>\n      <td>8</td>\n      <td>14</td>\n      <td>2:15</td>\n      <td>conduct unbecoming of an officer</td>\n      <td>Port Allen PD</td>\n      <td>2019</td>\n      <td>3eb506364d363250c78e785bd4b922de</td>\n      <td>f876d47fc5a044d3226b813018f3413a</td>\n      <td>900f6bf33adced49b3a40621ced01cd9</td>\n    </tr>\n    <tr>\n      <th>10</th>\n      <td>officer</td>\n      <td>jana</td>\n      <td>chustz</td>\n      <td>PA-13</td>\n      <td>expired</td>\n      <td>15:30</td>\n      <td>19-019</td>\n      <td>2019</td>\n      <td>9</td>\n      <td>19</td>\n      <td>2019</td>\n      <td>8</td>\n      <td>18</td>\n      <td>122</td>\n      <td>departmental motor vehicle accident</td>\n      <td>Port Allen PD</td>\n      <td>2019</td>\n      <td>e2ff2590239356be9ac3c98a85a5caa2</td>\n      <td>c1a9bdbeebdee005acab706e3dabc742</td>\n      <td>09694137176853f3278b6dad43169325</td>\n    </tr>\n    <tr>\n      <th>11</th>\n      <td>officer</td>\n      <td>craig</td>\n      <td>crawford</td>\n      <td>PA-28</td>\n      <td>exonerated</td>\n      <td>09:00</td>\n      <td>19-02</td>\n      <td>2019</td>\n      <td>1</td>\n      <td>28</td>\n      <td>2019</td>\n      <td>1</td>\n      <td>28</td>\n      <td>122</td>\n      <td>departmental motor vehicle accident</td>\n      <td>Port Allen PD</td>\n      <td>2019</td>\n      <td>3eb506364d363250c78e785bd4b922de</td>\n      <td>38c7b3e670199956e107a6cc43301ef2</td>\n      <td>b79274f6f43bb8c876d8d711cee6a52f</td>\n    </tr>\n    <tr>\n      <th>12</th>\n      <td>officer</td>\n      <td>eric</td>\n      <td>reineke</td>\n      <td>PA-11</td>\n      <td>sustained</td>\n      <td>18:30</td>\n      <td>19-020</td>\n      <td>2019</td>\n      <td>8</td>\n      <td>28</td>\n      <td>2019</td>\n      <td>8</td>\n      <td>24</td>\n      <td>2:15</td>\n      <td>conduct unbecoming of an officer</td>\n      <td>Port Allen PD</td>\n      <td>2019</td>\n      <td>0154446c5f7281fe33db1ed077d53a6a</td>\n      <td>ca42bbef94b4e6dde01808f72dfd420f</td>\n      <td>ff64d0dea721fb832d8c91d378ba1d27</td>\n    </tr>\n    <tr>\n      <th>13</th>\n      <td>officer</td>\n      <td>latrese</td>\n      <td>darden</td>\n      <td>PA-6</td>\n      <td>sustained</td>\n      <td>14:35</td>\n      <td>19-021</td>\n      <td>2019</td>\n      <td>10</td>\n      <td>14</td>\n      <td>2019</td>\n      <td>10</td>\n      <td>13</td>\n      <td>122</td>\n      <td>departmental motor vehicle accident</td>\n      <td>Port Allen PD</td>\n      <td>2019</td>\n      <td>9b2e7fa1a79cef25f43527981276ece4</td>\n      <td>fe0c4b1642ed1d73f5fe8ef5fde86c2b</td>\n      <td>bcd3a67314726988d8381ec8a4ee9a00</td>\n    </tr>\n    <tr>\n      <th>14</th>\n      <td>officer</td>\n      <td>craig</td>\n      <td>crawford</td>\n      <td>PA-28</td>\n      <td>exonerated</td>\n      <td>03:40</td>\n      <td>19-023</td>\n      <td>2019</td>\n      <td>11</td>\n      <td>23</td>\n      <td>2019</td>\n      <td>11</td>\n      <td>23</td>\n      <td>122</td>\n      <td>departmental motor vehicle accident</td>\n      <td>Port Allen PD</td>\n      <td>2019</td>\n      <td>3eb506364d363250c78e785bd4b922de</td>\n      <td>04fc972d2ace75855511ad4df6ea4cd4</td>\n      <td>dce20453386f50ae2916a8872e7f18df</td>\n    </tr>\n    <tr>\n      <th>15</th>\n      <td>officer</td>\n      <td>craig</td>\n      <td>crawford</td>\n      <td>PA-28</td>\n      <td>exonerated</td>\n      <td>12:30</td>\n      <td>19-024</td>\n      <td>2019</td>\n      <td>12</td>\n      <td>16</td>\n      <td>2019</td>\n      <td>11</td>\n      <td>28</td>\n      <td></td>\n      <td></td>\n      <td>Port Allen PD</td>\n      <td>2019</td>\n      <td>3eb506364d363250c78e785bd4b922de</td>\n      <td>dc899ead5b69d4fbbac910c2551da1bb</td>\n      <td>f729d505a411973f81230be4d8671f84</td>\n    </tr>\n    <tr>\n      <th>16</th>\n      <td>officer</td>\n      <td>james</td>\n      <td>lewis</td>\n      <td>PA-9</td>\n      <td></td>\n      <td>20:30</td>\n      <td>19-03</td>\n      <td>2019</td>\n      <td>2</td>\n      <td>12</td>\n      <td>2019</td>\n      <td>1</td>\n      <td>31</td>\n      <td>2:15</td>\n      <td>conduct unbecoming of an officer</td>\n      <td>Port Allen PD</td>\n      <td>2019</td>\n      <td>543b25634ec801e4794dc94e79e24f5c</td>\n      <td>09a6958262a112495cd4195346474f45</td>\n      <td>97688177904d77e908d4dc7611ed4ad6</td>\n    </tr>\n    <tr>\n      <th>17</th>\n      <td>sergeant</td>\n      <td>briant</td>\n      <td>landry</td>\n      <td>PA-17</td>\n      <td>unfounded</td>\n      <td>10:00</td>\n      <td>19-04</td>\n      <td>2019</td>\n      <td>2</td>\n      <td>6</td>\n      <td>2019</td>\n      <td>2</td>\n      <td>6</td>\n      <td>2:15</td>\n      <td>conduct unbecoming of an officer</td>\n      <td>Port Allen PD</td>\n      <td>2019</td>\n      <td>288907b81326ed3700254bca80eaad49</td>\n      <td>1e308d09610e3ed885e1237f69ec45aa</td>\n      <td>7ac5cadb798e95849d6b4cc4e300d1ef</td>\n    </tr>\n    <tr>\n      <th>18</th>\n      <td>sergeant</td>\n      <td>briant</td>\n      <td>landry</td>\n      <td>PA-17</td>\n      <td>sustained</td>\n      <td>22:33</td>\n      <td>19-05</td>\n      <td>2019</td>\n      <td>3</td>\n      <td>13</td>\n      <td>2019</td>\n      <td>3</td>\n      <td>10</td>\n      <td>2:21</td>\n      <td>use of alcohol and controlled substance</td>\n      <td>Port Allen PD</td>\n      <td>2019</td>\n      <td>288907b81326ed3700254bca80eaad49</td>\n      <td>b7d90b1126aa03f0fb184a8992788f1f</td>\n      <td>550db8b20f5b41a5220784a2932017d1</td>\n    </tr>\n    <tr>\n      <th>19</th>\n      <td>sergeant</td>\n      <td>briant</td>\n      <td>landry</td>\n      <td>PA-17</td>\n      <td>sustained</td>\n      <td>22:33</td>\n      <td>19-05</td>\n      <td>2019</td>\n      <td>3</td>\n      <td>13</td>\n      <td>2019</td>\n      <td>3</td>\n      <td>10</td>\n      <td>2:15</td>\n      <td>conduct unbecoming of an officer</td>\n      <td>Port Allen PD</td>\n      <td>2019</td>\n      <td>288907b81326ed3700254bca80eaad49</td>\n      <td>b7d90b1126aa03f0fb184a8992788f1f</td>\n      <td>d1c53241d38729d99c42d996e7c9a16b</td>\n    </tr>\n    <tr>\n      <th>20</th>\n      <td>sergeant</td>\n      <td>briant</td>\n      <td>landry</td>\n      <td>PA-17</td>\n      <td>sustained</td>\n      <td>22:33</td>\n      <td>19-05</td>\n      <td>2019</td>\n      <td>3</td>\n      <td>13</td>\n      <td>2019</td>\n      <td>3</td>\n      <td>10</td>\n      <td>3:11</td>\n      <td>carrying out orders</td>\n      <td>Port Allen PD</td>\n      <td>2019</td>\n      <td>288907b81326ed3700254bca80eaad49</td>\n      <td>b7d90b1126aa03f0fb184a8992788f1f</td>\n      <td>14918567824c212910c22bee674710c0</td>\n    </tr>\n    <tr>\n      <th>21</th>\n      <td>officer</td>\n      <td>tiffeny</td>\n      <td>wycoskie</td>\n      <td>PA-5</td>\n      <td>sustained</td>\n      <td></td>\n      <td>19-06</td>\n      <td>2019</td>\n      <td>3</td>\n      <td>27</td>\n      <td></td>\n      <td></td>\n      <td></td>\n      <td>122</td>\n      <td>departmental motor vehicle accident</td>\n      <td>Port Allen PD</td>\n      <td>2019</td>\n      <td>6ade487aa52a65c3e3c4ed213cfb83e0</td>\n      <td>60b817a84472783105e1ad9cb55552af</td>\n      <td>c20b2a53344ff76cd132625fb7d8008f</td>\n    </tr>\n    <tr>\n      <th>22</th>\n      <td>officer</td>\n      <td>tiffeny</td>\n      <td>wycoskie</td>\n      <td>PA-5</td>\n      <td>exonerated</td>\n      <td></td>\n      <td>19-07</td>\n      <td>2018</td>\n      <td>4</td>\n      <td>15</td>\n      <td>2019</td>\n      <td>3</td>\n      <td>28</td>\n      <td>2:15</td>\n      <td>conduct unbecoming of an officer</td>\n      <td>Port Allen PD</td>\n      <td>2019</td>\n      <td>6ade487aa52a65c3e3c4ed213cfb83e0</td>\n      <td>002be7235f8939f18a17f1d2f4b60b91</td>\n      <td>02052577ea4d592bc710286ae5cefb9b</td>\n    </tr>\n    <tr>\n      <th>23</th>\n      <td>officer</td>\n      <td>eric</td>\n      <td>reineke</td>\n      <td>PA-11</td>\n      <td>sustained</td>\n      <td>16:00</td>\n      <td>19-08</td>\n      <td>2019</td>\n      <td>5</td>\n      <td>3</td>\n      <td>2019</td>\n      <td>4</td>\n      <td>30</td>\n      <td>122</td>\n      <td>departmental motor vehicle accident</td>\n      <td>Port Allen PD</td>\n      <td>2019</td>\n      <td>0154446c5f7281fe33db1ed077d53a6a</td>\n      <td>e0cd1bd77b5d517662c0a21ac56569f4</td>\n      <td>d7e06e80104f969c9931743eca9d8174</td>\n    </tr>\n    <tr>\n      <th>24</th>\n      <td>officer</td>\n      <td>nolan</td>\n      <td>dehon</td>\n      <td>PA-4</td>\n      <td>unfounded</td>\n      <td>06:45</td>\n      <td>19-09</td>\n      <td>2019</td>\n      <td>6</td>\n      <td>13</td>\n      <td>2019</td>\n      <td>06</td>\n      <td>13</td>\n      <td>2:15</td>\n      <td>conduct unbecoming of an officer</td>\n      <td>Port Allen PD</td>\n      <td>2019</td>\n      <td>020adb924ca054caccff2314c4189d8a</td>\n      <td>8463ce58ca8ac385b52ff51a057c36c1</td>\n      <td>db4454ca75763caaf39c75483f4277bf</td>\n    </tr>\n  </tbody>\n</table>\n</div>"
     },
     "metadata": {},
     "execution_count": 2
    }
   ],
   "source": [
    "cprr19 = clean19()\n",
    "cprr19"
   ]
  },
  {
   "cell_type": "code",
   "execution_count": 10,
   "metadata": {},
   "outputs": [
    {
     "output_type": "execute_result",
     "data": {
      "text/plain": [
       "Empty DataFrame\n",
       "Columns: [rank_desc, first_name, last_name, badge_no, department_desc, paragraph_code, paragraph_violation, rule_code, rule_violation, disposition, disposition_date, occur_time, tracking_number, complainant_type, receive_year, receive_month, receive_day, occur_year, occur_month, occur_day, agency, data_production_year, uid, complaint_uid, charge_uid]\n",
       "Index: []\n",
       "\n",
       "[0 rows x 25 columns]"
      ],
      "text/html": "<div>\n<style scoped>\n    .dataframe tbody tr th:only-of-type {\n        vertical-align: middle;\n    }\n\n    .dataframe tbody tr th {\n        vertical-align: top;\n    }\n\n    .dataframe thead th {\n        text-align: right;\n    }\n</style>\n<table border=\"1\" class=\"dataframe\">\n  <thead>\n    <tr style=\"text-align: right;\">\n      <th></th>\n      <th>rank_desc</th>\n      <th>first_name</th>\n      <th>last_name</th>\n      <th>badge_no</th>\n      <th>department_desc</th>\n      <th>paragraph_code</th>\n      <th>paragraph_violation</th>\n      <th>rule_code</th>\n      <th>rule_violation</th>\n      <th>disposition</th>\n      <th>...</th>\n      <th>receive_month</th>\n      <th>receive_day</th>\n      <th>occur_year</th>\n      <th>occur_month</th>\n      <th>occur_day</th>\n      <th>agency</th>\n      <th>data_production_year</th>\n      <th>uid</th>\n      <th>complaint_uid</th>\n      <th>charge_uid</th>\n    </tr>\n  </thead>\n  <tbody>\n  </tbody>\n</table>\n<p>0 rows × 25 columns</p>\n</div>"
     },
     "metadata": {},
     "execution_count": 10
    }
   ],
   "source": [
    "cprr16[cprr16.charge_uid.duplicated()]"
   ]
  },
  {
   "cell_type": "code",
   "execution_count": 4,
   "metadata": {},
   "outputs": [
    {
     "output_type": "stream",
     "name": "stderr",
     "text": [
      "../lib/clean.py:166: FutureWarning: The default value of regex will change from True to False in a future version.\n  return series.str.strip().str.replace(r\"[^\\w-]+\", \" \").str.replace(r\"\\s+\", \" \")\\\n"
     ]
    },
    {
     "output_type": "execute_result",
     "data": {
      "text/plain": [
       "  tracking_number occur_time notification_date rank_desc first_name  \\\n",
       "0         17-0005        NaN               NaN       NaN     justin   \n",
       "2       18-000009        NaN               NaN       NaN     alaric   \n",
       "3         17-0003      17:30            3/6/17       NaN    donovan   \n",
       "4         17-0001      10:00           2/21/17   officer    freddie   \n",
       "\n",
       "     last_name     rule_code  \\\n",
       "0        smith          3:11   \n",
       "2   celestaine           NaN   \n",
       "3     mitchell           112   \n",
       "4  christopher  112/1:7; 113   \n",
       "\n",
       "                                      rule_violation disposition  \\\n",
       "0                                carrying out orders   sustained   \n",
       "2                                                NaN         NaN   \n",
       "3               departmental motor vehicle accidents         NaN   \n",
       "4  completion and submission of required forms; a...   sustained   \n",
       "\n",
       "                                              action  ... receive_month  \\\n",
       "0  15 day suspension without pay; appeal: yes; he...  ...                 \n",
       "2                                                     ...            10   \n",
       "3                           given verbal instruction  ...             2   \n",
       "4                       5 day suspension without pay  ...             2   \n",
       "\n",
       "  receive_day occur_year occur_month occur_day         agency  \\\n",
       "0                                               Port Allen PD   \n",
       "2          23                                   Port Allen PD   \n",
       "3          26       2017           2        26  Port Allen PD   \n",
       "4          20       2017           2        20  Port Allen PD   \n",
       "\n",
       "  data_production_year                               uid  \\\n",
       "0                 2018  c8fb4f1c16f1b7b7abbc37a7e37847fb   \n",
       "2                 2018  0a4fea65f1ae69d7465860d0001130e2   \n",
       "3                 2018  3cb1e8881fd1aec974339628e3bd80d4   \n",
       "4                 2018  762a4ca100c29856d2bc3e24491dafa7   \n",
       "\n",
       "                      complaint_uid                        charge_uid  \n",
       "0  32b39d6e55a6f021e3773bb2d14a69ae  c5dbc200290a50a81021630872a8c5fe  \n",
       "2  d235614f91f7884f73f6ecd1f29b3121  38c98a23952a441c0b06c36a64dd7dd3  \n",
       "3  87d33e171bfb8f5ae5ac85adcb810a70  570517c79e6c52514a0b4ac39db5ccbf  \n",
       "4  edd4a7a8ef4c66a09d53dc4eb0f0382e  5948c4cefd997bc50670088552a430c2  \n",
       "\n",
       "[4 rows x 22 columns]"
      ],
      "text/html": "<div>\n<style scoped>\n    .dataframe tbody tr th:only-of-type {\n        vertical-align: middle;\n    }\n\n    .dataframe tbody tr th {\n        vertical-align: top;\n    }\n\n    .dataframe thead th {\n        text-align: right;\n    }\n</style>\n<table border=\"1\" class=\"dataframe\">\n  <thead>\n    <tr style=\"text-align: right;\">\n      <th></th>\n      <th>tracking_number</th>\n      <th>occur_time</th>\n      <th>notification_date</th>\n      <th>rank_desc</th>\n      <th>first_name</th>\n      <th>last_name</th>\n      <th>rule_code</th>\n      <th>rule_violation</th>\n      <th>disposition</th>\n      <th>action</th>\n      <th>...</th>\n      <th>receive_month</th>\n      <th>receive_day</th>\n      <th>occur_year</th>\n      <th>occur_month</th>\n      <th>occur_day</th>\n      <th>agency</th>\n      <th>data_production_year</th>\n      <th>uid</th>\n      <th>complaint_uid</th>\n      <th>charge_uid</th>\n    </tr>\n  </thead>\n  <tbody>\n    <tr>\n      <th>0</th>\n      <td>17-0005</td>\n      <td>NaN</td>\n      <td>NaN</td>\n      <td>NaN</td>\n      <td>justin</td>\n      <td>smith</td>\n      <td>3:11</td>\n      <td>carrying out orders</td>\n      <td>sustained</td>\n      <td>15 day suspension without pay; appeal: yes; he...</td>\n      <td>...</td>\n      <td></td>\n      <td></td>\n      <td></td>\n      <td></td>\n      <td></td>\n      <td>Port Allen PD</td>\n      <td>2018</td>\n      <td>c8fb4f1c16f1b7b7abbc37a7e37847fb</td>\n      <td>32b39d6e55a6f021e3773bb2d14a69ae</td>\n      <td>c5dbc200290a50a81021630872a8c5fe</td>\n    </tr>\n    <tr>\n      <th>2</th>\n      <td>18-000009</td>\n      <td>NaN</td>\n      <td>NaN</td>\n      <td>NaN</td>\n      <td>alaric</td>\n      <td>celestaine</td>\n      <td>NaN</td>\n      <td>NaN</td>\n      <td>NaN</td>\n      <td></td>\n      <td>...</td>\n      <td>10</td>\n      <td>23</td>\n      <td></td>\n      <td></td>\n      <td></td>\n      <td>Port Allen PD</td>\n      <td>2018</td>\n      <td>0a4fea65f1ae69d7465860d0001130e2</td>\n      <td>d235614f91f7884f73f6ecd1f29b3121</td>\n      <td>38c98a23952a441c0b06c36a64dd7dd3</td>\n    </tr>\n    <tr>\n      <th>3</th>\n      <td>17-0003</td>\n      <td>17:30</td>\n      <td>3/6/17</td>\n      <td>NaN</td>\n      <td>donovan</td>\n      <td>mitchell</td>\n      <td>112</td>\n      <td>departmental motor vehicle accidents</td>\n      <td>NaN</td>\n      <td>given verbal instruction</td>\n      <td>...</td>\n      <td>2</td>\n      <td>26</td>\n      <td>2017</td>\n      <td>2</td>\n      <td>26</td>\n      <td>Port Allen PD</td>\n      <td>2018</td>\n      <td>3cb1e8881fd1aec974339628e3bd80d4</td>\n      <td>87d33e171bfb8f5ae5ac85adcb810a70</td>\n      <td>570517c79e6c52514a0b4ac39db5ccbf</td>\n    </tr>\n    <tr>\n      <th>4</th>\n      <td>17-0001</td>\n      <td>10:00</td>\n      <td>2/21/17</td>\n      <td>officer</td>\n      <td>freddie</td>\n      <td>christopher</td>\n      <td>112/1:7; 113</td>\n      <td>completion and submission of required forms; a...</td>\n      <td>sustained</td>\n      <td>5 day suspension without pay</td>\n      <td>...</td>\n      <td>2</td>\n      <td>20</td>\n      <td>2017</td>\n      <td>2</td>\n      <td>20</td>\n      <td>Port Allen PD</td>\n      <td>2018</td>\n      <td>762a4ca100c29856d2bc3e24491dafa7</td>\n      <td>edd4a7a8ef4c66a09d53dc4eb0f0382e</td>\n      <td>5948c4cefd997bc50670088552a430c2</td>\n    </tr>\n  </tbody>\n</table>\n<p>4 rows × 22 columns</p>\n</div>"
     },
     "metadata": {},
     "execution_count": 4
    }
   ],
   "source": [
    "cprr18 = clean18()\n",
    "cprr18"
   ]
  },
  {
   "cell_type": "code",
   "execution_count": 5,
   "metadata": {},
   "outputs": [
    {
     "output_type": "stream",
     "name": "stderr",
     "text": [
      "../lib/clean.py:166: FutureWarning: The default value of regex will change from True to False in a future version.\n  return series.str.strip().str.replace(r\"[^\\w-]+\", \" \").str.replace(r\"\\s+\", \" \")\\\n"
     ]
    },
    {
     "output_type": "execute_result",
     "data": {
      "text/plain": [
       "  rank_desc first_name last_name badge_no department_desc paragraph_code  \\\n",
       "0  corporal    donovan  mitchell    PA-18  uniform patrol            112   \n",
       "1  corporal    donovan  mitchell    PA-18  uniform patrol            112   \n",
       "2   officer      revay     smith    PA-23                                  \n",
       "3   officer      revay     smith    PA-23             sro            112   \n",
       "4   officer     justin     smith    PA-20  uniform patrol            112   \n",
       "\n",
       "                    paragraph_violation rule_code  \\\n",
       "0                                            2:14   \n",
       "1                                            2:10   \n",
       "2                                             NaN   \n",
       "3  departmental motor vehicles accident       NaN   \n",
       "4                                            3:11   \n",
       "\n",
       "                                 rule_violation  \\\n",
       "0        failure to secure property or evidence   \n",
       "1  failure to report lost or damanged equipment   \n",
       "2                               excessive force   \n",
       "3                                                 \n",
       "4                           carrying out orders   \n",
       "\n",
       "                                         disposition  ... receive_month  \\\n",
       "0  reprimand given instructions on properly secur...  ...            11   \n",
       "1                       1 day suspension without pay  ...            11   \n",
       "2                                                     ...            10   \n",
       "3                                five day suspension  ...            10   \n",
       "4                    five day suspension without pay  ...            12   \n",
       "\n",
       "  receive_day occur_year occur_month occur_day         agency  \\\n",
       "0           9       2016          11         9  Port Allen PD   \n",
       "1          29       2016          11        28  Port Allen PD   \n",
       "2           8                                   Port Allen PD   \n",
       "3          14       2016          10        14  Port Allen PD   \n",
       "4          28       2016          12        26  Port Allen PD   \n",
       "\n",
       "  data_production_year                               uid  \\\n",
       "0                 2016  3cb1e8881fd1aec974339628e3bd80d4   \n",
       "1                 2016  3cb1e8881fd1aec974339628e3bd80d4   \n",
       "2                 2016  aeeedb6200a57e20d58eeb627c622859   \n",
       "3                 2016  aeeedb6200a57e20d58eeb627c622859   \n",
       "4                 2016  c8fb4f1c16f1b7b7abbc37a7e37847fb   \n",
       "\n",
       "                      complaint_uid                        charge_uid  \n",
       "0  869fde6ea80e21af386e64ab17eb5146  8d181c4d9c9eb946b6da72ae6a27b96a  \n",
       "1  0adeee7905de9aa93568c9c18872c14e  3ab8d66270c7b1a60d775d6313bd4413  \n",
       "2  8c04e76012248142272c9b1a1f416821  2c675c21e4e8a75cbce0404ad6a873ca  \n",
       "3  8594701680b6645e9b8ae1f0a9003c5f  b8d0501daf8ae995721c65bd1bd78bf1  \n",
       "4  b25ad51e95a1dbfba0e74db253fc08db  fa27fc61fbe25683c6bb1725b9a90af9  \n",
       "\n",
       "[5 rows x 25 columns]"
      ],
      "text/html": "<div>\n<style scoped>\n    .dataframe tbody tr th:only-of-type {\n        vertical-align: middle;\n    }\n\n    .dataframe tbody tr th {\n        vertical-align: top;\n    }\n\n    .dataframe thead th {\n        text-align: right;\n    }\n</style>\n<table border=\"1\" class=\"dataframe\">\n  <thead>\n    <tr style=\"text-align: right;\">\n      <th></th>\n      <th>rank_desc</th>\n      <th>first_name</th>\n      <th>last_name</th>\n      <th>badge_no</th>\n      <th>department_desc</th>\n      <th>paragraph_code</th>\n      <th>paragraph_violation</th>\n      <th>rule_code</th>\n      <th>rule_violation</th>\n      <th>disposition</th>\n      <th>...</th>\n      <th>receive_month</th>\n      <th>receive_day</th>\n      <th>occur_year</th>\n      <th>occur_month</th>\n      <th>occur_day</th>\n      <th>agency</th>\n      <th>data_production_year</th>\n      <th>uid</th>\n      <th>complaint_uid</th>\n      <th>charge_uid</th>\n    </tr>\n  </thead>\n  <tbody>\n    <tr>\n      <th>0</th>\n      <td>corporal</td>\n      <td>donovan</td>\n      <td>mitchell</td>\n      <td>PA-18</td>\n      <td>uniform patrol</td>\n      <td>112</td>\n      <td></td>\n      <td>2:14</td>\n      <td>failure to secure property or evidence</td>\n      <td>reprimand given instructions on properly secur...</td>\n      <td>...</td>\n      <td>11</td>\n      <td>9</td>\n      <td>2016</td>\n      <td>11</td>\n      <td>9</td>\n      <td>Port Allen PD</td>\n      <td>2016</td>\n      <td>3cb1e8881fd1aec974339628e3bd80d4</td>\n      <td>869fde6ea80e21af386e64ab17eb5146</td>\n      <td>8d181c4d9c9eb946b6da72ae6a27b96a</td>\n    </tr>\n    <tr>\n      <th>1</th>\n      <td>corporal</td>\n      <td>donovan</td>\n      <td>mitchell</td>\n      <td>PA-18</td>\n      <td>uniform patrol</td>\n      <td>112</td>\n      <td></td>\n      <td>2:10</td>\n      <td>failure to report lost or damanged equipment</td>\n      <td>1 day suspension without pay</td>\n      <td>...</td>\n      <td>11</td>\n      <td>29</td>\n      <td>2016</td>\n      <td>11</td>\n      <td>28</td>\n      <td>Port Allen PD</td>\n      <td>2016</td>\n      <td>3cb1e8881fd1aec974339628e3bd80d4</td>\n      <td>0adeee7905de9aa93568c9c18872c14e</td>\n      <td>3ab8d66270c7b1a60d775d6313bd4413</td>\n    </tr>\n    <tr>\n      <th>2</th>\n      <td>officer</td>\n      <td>revay</td>\n      <td>smith</td>\n      <td>PA-23</td>\n      <td></td>\n      <td></td>\n      <td></td>\n      <td>NaN</td>\n      <td>excessive force</td>\n      <td></td>\n      <td>...</td>\n      <td>10</td>\n      <td>8</td>\n      <td></td>\n      <td></td>\n      <td></td>\n      <td>Port Allen PD</td>\n      <td>2016</td>\n      <td>aeeedb6200a57e20d58eeb627c622859</td>\n      <td>8c04e76012248142272c9b1a1f416821</td>\n      <td>2c675c21e4e8a75cbce0404ad6a873ca</td>\n    </tr>\n    <tr>\n      <th>3</th>\n      <td>officer</td>\n      <td>revay</td>\n      <td>smith</td>\n      <td>PA-23</td>\n      <td>sro</td>\n      <td>112</td>\n      <td>departmental motor vehicles accident</td>\n      <td>NaN</td>\n      <td></td>\n      <td>five day suspension</td>\n      <td>...</td>\n      <td>10</td>\n      <td>14</td>\n      <td>2016</td>\n      <td>10</td>\n      <td>14</td>\n      <td>Port Allen PD</td>\n      <td>2016</td>\n      <td>aeeedb6200a57e20d58eeb627c622859</td>\n      <td>8594701680b6645e9b8ae1f0a9003c5f</td>\n      <td>b8d0501daf8ae995721c65bd1bd78bf1</td>\n    </tr>\n    <tr>\n      <th>4</th>\n      <td>officer</td>\n      <td>justin</td>\n      <td>smith</td>\n      <td>PA-20</td>\n      <td>uniform patrol</td>\n      <td>112</td>\n      <td></td>\n      <td>3:11</td>\n      <td>carrying out orders</td>\n      <td>five day suspension without pay</td>\n      <td>...</td>\n      <td>12</td>\n      <td>28</td>\n      <td>2016</td>\n      <td>12</td>\n      <td>26</td>\n      <td>Port Allen PD</td>\n      <td>2016</td>\n      <td>c8fb4f1c16f1b7b7abbc37a7e37847fb</td>\n      <td>b25ad51e95a1dbfba0e74db253fc08db</td>\n      <td>fa27fc61fbe25683c6bb1725b9a90af9</td>\n    </tr>\n  </tbody>\n</table>\n<p>5 rows × 25 columns</p>\n</div>"
     },
     "metadata": {},
     "execution_count": 5
    }
   ],
   "source": [
    "cprr16 = clean16()\n",
    "cprr16"
   ]
  },
  {
   "cell_type": "code",
   "execution_count": 6,
   "metadata": {},
   "outputs": [
    {
     "output_type": "stream",
     "name": "stderr",
     "text": [
      "../clean/port_allen_csd_pprr.py:13: FutureWarning: The default value of regex will change from True to False in a future version.\n  cols = df.employee_number_full_name.str.strip().str.replace(r' +- +', r' ')\\\n../lib/clean.py:166: FutureWarning: The default value of regex will change from True to False in a future version.\n  return series.str.strip().str.replace(r\"[^\\w-]+\", \" \").str.replace(r\"\\s+\", \" \")\\\n../clean/port_allen_csd_pprr.py:31: FutureWarning: The default value of regex will change from True to False in a future version.\n  df.loc[:, 'rank_desc'] = df.rank_desc.str.replace(r'^t ', '')\\\n"
     ]
    },
    {
     "output_type": "execute_result",
     "data": {
      "text/plain": [
       "                     rank_desc department_code employment_status employee_id  \\\n",
       "0              police corporal           01-03        terminated     01-0103   \n",
       "1               police officer           01-03        terminated     01-0107   \n",
       "2               police officer           01-03        terminated     01-0047   \n",
       "3   administrative coordinator           01-03            active     01-0186   \n",
       "4              chief of police           01-03        terminated     01-0119   \n",
       "..                         ...             ...               ...         ...   \n",
       "74              police officer           01-03        terminated     01-0034   \n",
       "75              police officer           01-03            active     01-0199   \n",
       "76      police officer trainee           01-03            active     01-0191   \n",
       "77                  lieutenant           01-03            active     01-0033   \n",
       "78              police officer           01-03        terminated     01-0102   \n",
       "\n",
       "     last_name first_name middle_initial hire_year hire_month hire_day  \\\n",
       "0    arceneaux   benjamin              p      2006          5        2   \n",
       "1      armwood     dennis              b      2016          6       15   \n",
       "2   arrazattee     robert              a      2013          8        2   \n",
       "3       avants   jennifer              n      2010          4       28   \n",
       "4        bates    kenneth              e      1988          6       27   \n",
       "..         ...        ...            ...       ...        ...      ...   \n",
       "74    williams     robert              j      2013          2       27   \n",
       "75    williams      shawn              m      2020          6       24   \n",
       "76     winters    corione              j      2020          2        6   \n",
       "77      wisham     kendra              e      2013          2       27   \n",
       "78    wycoskie    tiffeny              j      2016          4       20   \n",
       "\n",
       "   data_production_year          agency                               uid  \n",
       "0                  2020  Port Allen CSD  de27694faa4d8610a1dce25f00faafab  \n",
       "1                  2020  Port Allen CSD  6e6227ab64eb91cc779bb5de98e0a533  \n",
       "2                  2020  Port Allen CSD  29f54344ee0ff8cf935829148f78b0db  \n",
       "3                  2020  Port Allen CSD  3b1c9541fc1e0d5412bcd2416a9b388a  \n",
       "4                  2020  Port Allen CSD  d69e2c6c827f4e168829250002919f08  \n",
       "..                  ...             ...                               ...  \n",
       "74                 2020  Port Allen CSD  05dfc9e64a1d52d9f52a83a7b36d27c9  \n",
       "75                 2020  Port Allen CSD  34055eb7fbb1807aa897a92f787595b8  \n",
       "76                 2020  Port Allen CSD  84738b03bcff27ec2d260460f5300c73  \n",
       "77                 2020  Port Allen CSD  969795785004cf2352cbd602c480c121  \n",
       "78                 2020  Port Allen CSD  1297695da75743835e9e821488141a91  \n",
       "\n",
       "[79 rows x 13 columns]"
      ],
      "text/html": "<div>\n<style scoped>\n    .dataframe tbody tr th:only-of-type {\n        vertical-align: middle;\n    }\n\n    .dataframe tbody tr th {\n        vertical-align: top;\n    }\n\n    .dataframe thead th {\n        text-align: right;\n    }\n</style>\n<table border=\"1\" class=\"dataframe\">\n  <thead>\n    <tr style=\"text-align: right;\">\n      <th></th>\n      <th>rank_desc</th>\n      <th>department_code</th>\n      <th>employment_status</th>\n      <th>employee_id</th>\n      <th>last_name</th>\n      <th>first_name</th>\n      <th>middle_initial</th>\n      <th>hire_year</th>\n      <th>hire_month</th>\n      <th>hire_day</th>\n      <th>data_production_year</th>\n      <th>agency</th>\n      <th>uid</th>\n    </tr>\n  </thead>\n  <tbody>\n    <tr>\n      <th>0</th>\n      <td>police corporal</td>\n      <td>01-03</td>\n      <td>terminated</td>\n      <td>01-0103</td>\n      <td>arceneaux</td>\n      <td>benjamin</td>\n      <td>p</td>\n      <td>2006</td>\n      <td>5</td>\n      <td>2</td>\n      <td>2020</td>\n      <td>Port Allen CSD</td>\n      <td>de27694faa4d8610a1dce25f00faafab</td>\n    </tr>\n    <tr>\n      <th>1</th>\n      <td>police officer</td>\n      <td>01-03</td>\n      <td>terminated</td>\n      <td>01-0107</td>\n      <td>armwood</td>\n      <td>dennis</td>\n      <td>b</td>\n      <td>2016</td>\n      <td>6</td>\n      <td>15</td>\n      <td>2020</td>\n      <td>Port Allen CSD</td>\n      <td>6e6227ab64eb91cc779bb5de98e0a533</td>\n    </tr>\n    <tr>\n      <th>2</th>\n      <td>police officer</td>\n      <td>01-03</td>\n      <td>terminated</td>\n      <td>01-0047</td>\n      <td>arrazattee</td>\n      <td>robert</td>\n      <td>a</td>\n      <td>2013</td>\n      <td>8</td>\n      <td>2</td>\n      <td>2020</td>\n      <td>Port Allen CSD</td>\n      <td>29f54344ee0ff8cf935829148f78b0db</td>\n    </tr>\n    <tr>\n      <th>3</th>\n      <td>administrative coordinator</td>\n      <td>01-03</td>\n      <td>active</td>\n      <td>01-0186</td>\n      <td>avants</td>\n      <td>jennifer</td>\n      <td>n</td>\n      <td>2010</td>\n      <td>4</td>\n      <td>28</td>\n      <td>2020</td>\n      <td>Port Allen CSD</td>\n      <td>3b1c9541fc1e0d5412bcd2416a9b388a</td>\n    </tr>\n    <tr>\n      <th>4</th>\n      <td>chief of police</td>\n      <td>01-03</td>\n      <td>terminated</td>\n      <td>01-0119</td>\n      <td>bates</td>\n      <td>kenneth</td>\n      <td>e</td>\n      <td>1988</td>\n      <td>6</td>\n      <td>27</td>\n      <td>2020</td>\n      <td>Port Allen CSD</td>\n      <td>d69e2c6c827f4e168829250002919f08</td>\n    </tr>\n    <tr>\n      <th>...</th>\n      <td>...</td>\n      <td>...</td>\n      <td>...</td>\n      <td>...</td>\n      <td>...</td>\n      <td>...</td>\n      <td>...</td>\n      <td>...</td>\n      <td>...</td>\n      <td>...</td>\n      <td>...</td>\n      <td>...</td>\n      <td>...</td>\n    </tr>\n    <tr>\n      <th>74</th>\n      <td>police officer</td>\n      <td>01-03</td>\n      <td>terminated</td>\n      <td>01-0034</td>\n      <td>williams</td>\n      <td>robert</td>\n      <td>j</td>\n      <td>2013</td>\n      <td>2</td>\n      <td>27</td>\n      <td>2020</td>\n      <td>Port Allen CSD</td>\n      <td>05dfc9e64a1d52d9f52a83a7b36d27c9</td>\n    </tr>\n    <tr>\n      <th>75</th>\n      <td>police officer</td>\n      <td>01-03</td>\n      <td>active</td>\n      <td>01-0199</td>\n      <td>williams</td>\n      <td>shawn</td>\n      <td>m</td>\n      <td>2020</td>\n      <td>6</td>\n      <td>24</td>\n      <td>2020</td>\n      <td>Port Allen CSD</td>\n      <td>34055eb7fbb1807aa897a92f787595b8</td>\n    </tr>\n    <tr>\n      <th>76</th>\n      <td>police officer trainee</td>\n      <td>01-03</td>\n      <td>active</td>\n      <td>01-0191</td>\n      <td>winters</td>\n      <td>corione</td>\n      <td>j</td>\n      <td>2020</td>\n      <td>2</td>\n      <td>6</td>\n      <td>2020</td>\n      <td>Port Allen CSD</td>\n      <td>84738b03bcff27ec2d260460f5300c73</td>\n    </tr>\n    <tr>\n      <th>77</th>\n      <td>lieutenant</td>\n      <td>01-03</td>\n      <td>active</td>\n      <td>01-0033</td>\n      <td>wisham</td>\n      <td>kendra</td>\n      <td>e</td>\n      <td>2013</td>\n      <td>2</td>\n      <td>27</td>\n      <td>2020</td>\n      <td>Port Allen CSD</td>\n      <td>969795785004cf2352cbd602c480c121</td>\n    </tr>\n    <tr>\n      <th>78</th>\n      <td>police officer</td>\n      <td>01-03</td>\n      <td>terminated</td>\n      <td>01-0102</td>\n      <td>wycoskie</td>\n      <td>tiffeny</td>\n      <td>j</td>\n      <td>2016</td>\n      <td>4</td>\n      <td>20</td>\n      <td>2020</td>\n      <td>Port Allen CSD</td>\n      <td>1297695da75743835e9e821488141a91</td>\n    </tr>\n  </tbody>\n</table>\n<p>79 rows × 13 columns</p>\n</div>"
     },
     "metadata": {},
     "execution_count": 6
    }
   ],
   "source": [
    "pprr = clean_pprr()\n",
    "pprr"
   ]
  },
  {
   "cell_type": "code",
   "execution_count": 7,
   "metadata": {},
   "outputs": [
    {
     "output_type": "execute_result",
     "data": {
      "text/plain": [
       "  rank_desc first_name last_name badge_no department_desc paragraph_code  \\\n",
       "0  corporal    donovan  mitchell    PA-18  uniform patrol            112   \n",
       "1  corporal    donovan  mitchell    PA-18  uniform patrol            112   \n",
       "2   officer      revay     smith    PA-23                                  \n",
       "3   officer      revay     smith    PA-23             sro            112   \n",
       "4   officer     justin     smith    PA-20  uniform patrol            112   \n",
       "\n",
       "                    paragraph_violation rule_code  \\\n",
       "0                                            2:14   \n",
       "1                                            2:10   \n",
       "2                                             NaN   \n",
       "3  departmental motor vehicles accident       NaN   \n",
       "4                                            3:11   \n",
       "\n",
       "                                 rule_violation  \\\n",
       "0        failure to secure property or evidence   \n",
       "1  failure to report lost or damanged equipment   \n",
       "2                               excessive force   \n",
       "3                                                 \n",
       "4                           carrying out orders   \n",
       "\n",
       "                                         disposition  ... receive_month  \\\n",
       "0  reprimand given instructions on properly secur...  ...            11   \n",
       "1                       1 day suspension without pay  ...            11   \n",
       "2                                                     ...            10   \n",
       "3                                five day suspension  ...            10   \n",
       "4                    five day suspension without pay  ...            12   \n",
       "\n",
       "  receive_day occur_year occur_month occur_day         agency  \\\n",
       "0           9       2016          11         9  Port Allen PD   \n",
       "1          29       2016          11        28  Port Allen PD   \n",
       "2           8                                   Port Allen PD   \n",
       "3          14       2016          10        14  Port Allen PD   \n",
       "4          28       2016          12        26  Port Allen PD   \n",
       "\n",
       "  data_production_year                               uid  \\\n",
       "0                 2016  dc12c1ae54c2d5827fa9d4215cbd8f5a   \n",
       "1                 2016  dc12c1ae54c2d5827fa9d4215cbd8f5a   \n",
       "2                 2016  0e4b183478cb0a0af34c61c4e352b983   \n",
       "3                 2016  0e4b183478cb0a0af34c61c4e352b983   \n",
       "4                 2016  4988ae4dc2e231f06cae55600d66f581   \n",
       "\n",
       "                      complaint_uid                        charge_uid  \n",
       "0  869fde6ea80e21af386e64ab17eb5146  8d181c4d9c9eb946b6da72ae6a27b96a  \n",
       "1  0adeee7905de9aa93568c9c18872c14e  3ab8d66270c7b1a60d775d6313bd4413  \n",
       "2  8c04e76012248142272c9b1a1f416821  2c675c21e4e8a75cbce0404ad6a873ca  \n",
       "3  8594701680b6645e9b8ae1f0a9003c5f  b8d0501daf8ae995721c65bd1bd78bf1  \n",
       "4  b25ad51e95a1dbfba0e74db253fc08db  fa27fc61fbe25683c6bb1725b9a90af9  \n",
       "\n",
       "[5 rows x 25 columns]"
      ],
      "text/html": "<div>\n<style scoped>\n    .dataframe tbody tr th:only-of-type {\n        vertical-align: middle;\n    }\n\n    .dataframe tbody tr th {\n        vertical-align: top;\n    }\n\n    .dataframe thead th {\n        text-align: right;\n    }\n</style>\n<table border=\"1\" class=\"dataframe\">\n  <thead>\n    <tr style=\"text-align: right;\">\n      <th></th>\n      <th>rank_desc</th>\n      <th>first_name</th>\n      <th>last_name</th>\n      <th>badge_no</th>\n      <th>department_desc</th>\n      <th>paragraph_code</th>\n      <th>paragraph_violation</th>\n      <th>rule_code</th>\n      <th>rule_violation</th>\n      <th>disposition</th>\n      <th>...</th>\n      <th>receive_month</th>\n      <th>receive_day</th>\n      <th>occur_year</th>\n      <th>occur_month</th>\n      <th>occur_day</th>\n      <th>agency</th>\n      <th>data_production_year</th>\n      <th>uid</th>\n      <th>complaint_uid</th>\n      <th>charge_uid</th>\n    </tr>\n  </thead>\n  <tbody>\n    <tr>\n      <th>0</th>\n      <td>corporal</td>\n      <td>donovan</td>\n      <td>mitchell</td>\n      <td>PA-18</td>\n      <td>uniform patrol</td>\n      <td>112</td>\n      <td></td>\n      <td>2:14</td>\n      <td>failure to secure property or evidence</td>\n      <td>reprimand given instructions on properly secur...</td>\n      <td>...</td>\n      <td>11</td>\n      <td>9</td>\n      <td>2016</td>\n      <td>11</td>\n      <td>9</td>\n      <td>Port Allen PD</td>\n      <td>2016</td>\n      <td>dc12c1ae54c2d5827fa9d4215cbd8f5a</td>\n      <td>869fde6ea80e21af386e64ab17eb5146</td>\n      <td>8d181c4d9c9eb946b6da72ae6a27b96a</td>\n    </tr>\n    <tr>\n      <th>1</th>\n      <td>corporal</td>\n      <td>donovan</td>\n      <td>mitchell</td>\n      <td>PA-18</td>\n      <td>uniform patrol</td>\n      <td>112</td>\n      <td></td>\n      <td>2:10</td>\n      <td>failure to report lost or damanged equipment</td>\n      <td>1 day suspension without pay</td>\n      <td>...</td>\n      <td>11</td>\n      <td>29</td>\n      <td>2016</td>\n      <td>11</td>\n      <td>28</td>\n      <td>Port Allen PD</td>\n      <td>2016</td>\n      <td>dc12c1ae54c2d5827fa9d4215cbd8f5a</td>\n      <td>0adeee7905de9aa93568c9c18872c14e</td>\n      <td>3ab8d66270c7b1a60d775d6313bd4413</td>\n    </tr>\n    <tr>\n      <th>2</th>\n      <td>officer</td>\n      <td>revay</td>\n      <td>smith</td>\n      <td>PA-23</td>\n      <td></td>\n      <td></td>\n      <td></td>\n      <td>NaN</td>\n      <td>excessive force</td>\n      <td></td>\n      <td>...</td>\n      <td>10</td>\n      <td>8</td>\n      <td></td>\n      <td></td>\n      <td></td>\n      <td>Port Allen PD</td>\n      <td>2016</td>\n      <td>0e4b183478cb0a0af34c61c4e352b983</td>\n      <td>8c04e76012248142272c9b1a1f416821</td>\n      <td>2c675c21e4e8a75cbce0404ad6a873ca</td>\n    </tr>\n    <tr>\n      <th>3</th>\n      <td>officer</td>\n      <td>revay</td>\n      <td>smith</td>\n      <td>PA-23</td>\n      <td>sro</td>\n      <td>112</td>\n      <td>departmental motor vehicles accident</td>\n      <td>NaN</td>\n      <td></td>\n      <td>five day suspension</td>\n      <td>...</td>\n      <td>10</td>\n      <td>14</td>\n      <td>2016</td>\n      <td>10</td>\n      <td>14</td>\n      <td>Port Allen PD</td>\n      <td>2016</td>\n      <td>0e4b183478cb0a0af34c61c4e352b983</td>\n      <td>8594701680b6645e9b8ae1f0a9003c5f</td>\n      <td>b8d0501daf8ae995721c65bd1bd78bf1</td>\n    </tr>\n    <tr>\n      <th>4</th>\n      <td>officer</td>\n      <td>justin</td>\n      <td>smith</td>\n      <td>PA-20</td>\n      <td>uniform patrol</td>\n      <td>112</td>\n      <td></td>\n      <td>3:11</td>\n      <td>carrying out orders</td>\n      <td>five day suspension without pay</td>\n      <td>...</td>\n      <td>12</td>\n      <td>28</td>\n      <td>2016</td>\n      <td>12</td>\n      <td>26</td>\n      <td>Port Allen PD</td>\n      <td>2016</td>\n      <td>4988ae4dc2e231f06cae55600d66f581</td>\n      <td>b25ad51e95a1dbfba0e74db253fc08db</td>\n      <td>fa27fc61fbe25683c6bb1725b9a90af9</td>\n    </tr>\n  </tbody>\n</table>\n<p>5 rows × 25 columns</p>\n</div>"
     },
     "metadata": {},
     "execution_count": 7
    }
   ],
   "source": [
    "match_cprr_against_csd_pprr_2020(cprr16, pprr, 2016, 1)"
   ]
  }
 ]
}
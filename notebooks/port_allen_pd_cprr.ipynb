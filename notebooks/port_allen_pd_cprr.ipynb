{
 "metadata": {
  "language_info": {
   "codemirror_mode": {
    "name": "ipython",
    "version": 3
   },
   "file_extension": ".py",
   "mimetype": "text/x-python",
   "name": "python",
   "nbconvert_exporter": "python",
   "pygments_lexer": "ipython3",
   "version": "3.8.3-final"
  },
  "orig_nbformat": 2,
  "kernelspec": {
   "name": "python3",
   "display_name": "Python 3",
   "language": "python"
  }
 },
 "nbformat": 4,
 "nbformat_minor": 2,
 "cells": [
  {
   "cell_type": "code",
   "execution_count": 1,
   "metadata": {},
   "outputs": [],
   "source": [
    "import sys; sys.path.append(\"../\")\n",
    "\n",
    "import pandas as pd\n",
    "\n",
    "from clean.port_allen_pd_cprr import clean19"
   ]
  },
  {
   "cell_type": "code",
   "execution_count": 2,
   "metadata": {},
   "outputs": [
    {
     "output_type": "stream",
     "name": "stdout",
     "text": [
      "standardize_from_lookup_table: unmatched sequences:\n  {''}\n"
     ]
    },
    {
     "output_type": "execute_result",
     "data": {
      "text/plain": [
       "   rank_desc first_name last_name badge_no    disposition occur_time  \\\n",
       "0    officer      craig  crawford    PA-28  not sustained      14:30   \n",
       "1    officer       eric   reineke    PA-11      sustained      17:25   \n",
       "2    officer      craig  crawford    PA-28      unfounded      05:00   \n",
       "3   corporal      bobby    hopson     PA-8      unfounded      10:07   \n",
       "4   corporal      bobby    hopson     PA-8        expired              \n",
       "5    officer       eric   reineke    PA-11  not sustained      23:30   \n",
       "6    officer      craig  crawford    PA-28      sustained      00:52   \n",
       "7    officer      craig  crawford    PA-28      unfounded      15:34   \n",
       "8   corporal      bobby    hopson     PA-8     exonerated              \n",
       "9    officer      craig  crawford    PA-28  not sustained      17:00   \n",
       "10   officer       jana    chustz    PA-13        expired      15:30   \n",
       "11   officer      craig  crawford    PA-28     exonerated      09:00   \n",
       "12   officer       eric   reineke    PA-11      sustained      18:30   \n",
       "13   officer    latrese    darden     PA-6      sustained      14:35   \n",
       "14   officer      craig  crawford    PA-28     exonerated      03:40   \n",
       "15   officer      craig  crawford    PA-28     exonerated      12:30   \n",
       "16   officer      james     lewis     PA-9                     20:30   \n",
       "17  sergeant     briant    landry    PA-17      unfounded      10:00   \n",
       "18  sergeant     briant    landry    PA-17      sustained      22:33   \n",
       "19  sergeant     briant    landry    PA-17      sustained      22:33   \n",
       "20  sergeant     briant    landry    PA-17      sustained      22:33   \n",
       "21   officer    tiffeny  wycoskie     PA-5      sustained              \n",
       "22   officer    tiffeny  wycoskie     PA-5     exonerated              \n",
       "23   officer       eric   reineke    PA-11      sustained      16:00   \n",
       "24   officer      nolan     dehon     PA-4      unfounded      06:45   \n",
       "\n",
       "   tracking_number receive_year receive_month receive_day occur_year  \\\n",
       "0            19-01         2019             1          24       2019   \n",
       "1           19-010         2019             6          18       2019   \n",
       "2           19-011         2019             6          20       2019   \n",
       "3           19-012         2019             6          21       2019   \n",
       "4           19-013         2019             6          25       2019   \n",
       "5           19-014         2019             7           8       2019   \n",
       "6           19-015         2019             6           7       2019   \n",
       "7           19-016         2019             7          16       2019   \n",
       "8           19-017         2019             8          19              \n",
       "9           19-018         2019             8          15       2019   \n",
       "10          19-019         2019             9          19       2019   \n",
       "11           19-02         2019             1          28       2019   \n",
       "12          19-020         2019             8          28       2019   \n",
       "13          19-021         2019            10          14       2019   \n",
       "14          19-023         2019            11          23       2019   \n",
       "15          19-024         2019            12          16       2019   \n",
       "16           19-03         2019             2          12       2019   \n",
       "17           19-04         2019             2           6       2019   \n",
       "18           19-05         2019             3          13       2019   \n",
       "19           19-05         2019             3          13       2019   \n",
       "20           19-05         2019             3          13       2019   \n",
       "21           19-06         2019             3          27              \n",
       "22           19-07         2018             4          15       2019   \n",
       "23           19-08         2019             5           3       2019   \n",
       "24           19-09         2019             6          13       2019   \n",
       "\n",
       "   occur_month occur_day rule_code                           rule_violation  \\\n",
       "0            1        16      2:15         conduct unbecoming of an officer   \n",
       "1            6        14     112/2                        command of temper   \n",
       "2            6        19                                                      \n",
       "3            6         1                                                      \n",
       "4            3        13                                                      \n",
       "5            7         3      2:15         conduct unbecoming of an officer   \n",
       "6            7         7      3:11                      carrying out orders   \n",
       "7            6        26      2:15         conduct unbecoming of an officer   \n",
       "8                             2:15         conduct unbecoming of an officer   \n",
       "9            8        14      2:15         conduct unbecoming of an officer   \n",
       "10           8        18       122      departmental motor vehicle accident   \n",
       "11           1        28       122      departmental motor vehicle accident   \n",
       "12           8        24      2:15         conduct unbecoming of an officer   \n",
       "13          10        13       122      departmental motor vehicle accident   \n",
       "14          11        23       122      departmental motor vehicle accident   \n",
       "15          11        28                                                      \n",
       "16           1        31      2:15         conduct unbecoming of an officer   \n",
       "17           2         6      2:15         conduct unbecoming of an officer   \n",
       "18           3        10      2:21  use of alcohol and controlled substance   \n",
       "19           3        10      2:15         conduct unbecoming of an officer   \n",
       "20           3        10      3:11                      carrying out orders   \n",
       "21                             122      departmental motor vehicle accident   \n",
       "22           3        28      2:15         conduct unbecoming of an officer   \n",
       "23           4        30       122      departmental motor vehicle accident   \n",
       "24          06        13      2:15         conduct unbecoming of an officer   \n",
       "\n",
       "                                 uid         agency data_production_year  \n",
       "0   75809dcf4990844c49dae220d32aa367  Port Allen PD                 2019  \n",
       "1   8a25d3b372f316f0c3f363f9d125333f  Port Allen PD                 2019  \n",
       "2   75809dcf4990844c49dae220d32aa367  Port Allen PD                 2019  \n",
       "3   cea7a5ae66aeab8b7e4659e4c872b40b  Port Allen PD                 2019  \n",
       "4   cea7a5ae66aeab8b7e4659e4c872b40b  Port Allen PD                 2019  \n",
       "5   8a25d3b372f316f0c3f363f9d125333f  Port Allen PD                 2019  \n",
       "6   75809dcf4990844c49dae220d32aa367  Port Allen PD                 2019  \n",
       "7   75809dcf4990844c49dae220d32aa367  Port Allen PD                 2019  \n",
       "8   cea7a5ae66aeab8b7e4659e4c872b40b  Port Allen PD                 2019  \n",
       "9   75809dcf4990844c49dae220d32aa367  Port Allen PD                 2019  \n",
       "10  e615c81c76b28982bba07d802d584eec  Port Allen PD                 2019  \n",
       "11  75809dcf4990844c49dae220d32aa367  Port Allen PD                 2019  \n",
       "12  8a25d3b372f316f0c3f363f9d125333f  Port Allen PD                 2019  \n",
       "13  08fc266a52b1c99568086abeda647852  Port Allen PD                 2019  \n",
       "14  75809dcf4990844c49dae220d32aa367  Port Allen PD                 2019  \n",
       "15  75809dcf4990844c49dae220d32aa367  Port Allen PD                 2019  \n",
       "16  34eff9c5d4a5e7845c2c7a1131acda09  Port Allen PD                 2019  \n",
       "17  b2927f10640735d0f7e645fdadbed73c  Port Allen PD                 2019  \n",
       "18  b2927f10640735d0f7e645fdadbed73c  Port Allen PD                 2019  \n",
       "19  b2927f10640735d0f7e645fdadbed73c  Port Allen PD                 2019  \n",
       "20  b2927f10640735d0f7e645fdadbed73c  Port Allen PD                 2019  \n",
       "21  d397623999a2a816259173ed42acadec  Port Allen PD                 2019  \n",
       "22  d397623999a2a816259173ed42acadec  Port Allen PD                 2019  \n",
       "23  8a25d3b372f316f0c3f363f9d125333f  Port Allen PD                 2019  \n",
       "24  ebacaa9d560ec1d165925bbee080fd24  Port Allen PD                 2019  "
      ],
      "text/html": "<div>\n<style scoped>\n    .dataframe tbody tr th:only-of-type {\n        vertical-align: middle;\n    }\n\n    .dataframe tbody tr th {\n        vertical-align: top;\n    }\n\n    .dataframe thead th {\n        text-align: right;\n    }\n</style>\n<table border=\"1\" class=\"dataframe\">\n  <thead>\n    <tr style=\"text-align: right;\">\n      <th></th>\n      <th>rank_desc</th>\n      <th>first_name</th>\n      <th>last_name</th>\n      <th>badge_no</th>\n      <th>disposition</th>\n      <th>occur_time</th>\n      <th>tracking_number</th>\n      <th>receive_year</th>\n      <th>receive_month</th>\n      <th>receive_day</th>\n      <th>occur_year</th>\n      <th>occur_month</th>\n      <th>occur_day</th>\n      <th>rule_code</th>\n      <th>rule_violation</th>\n      <th>uid</th>\n      <th>agency</th>\n      <th>data_production_year</th>\n    </tr>\n  </thead>\n  <tbody>\n    <tr>\n      <th>0</th>\n      <td>officer</td>\n      <td>craig</td>\n      <td>crawford</td>\n      <td>PA-28</td>\n      <td>not sustained</td>\n      <td>14:30</td>\n      <td>19-01</td>\n      <td>2019</td>\n      <td>1</td>\n      <td>24</td>\n      <td>2019</td>\n      <td>1</td>\n      <td>16</td>\n      <td>2:15</td>\n      <td>conduct unbecoming of an officer</td>\n      <td>75809dcf4990844c49dae220d32aa367</td>\n      <td>Port Allen PD</td>\n      <td>2019</td>\n    </tr>\n    <tr>\n      <th>1</th>\n      <td>officer</td>\n      <td>eric</td>\n      <td>reineke</td>\n      <td>PA-11</td>\n      <td>sustained</td>\n      <td>17:25</td>\n      <td>19-010</td>\n      <td>2019</td>\n      <td>6</td>\n      <td>18</td>\n      <td>2019</td>\n      <td>6</td>\n      <td>14</td>\n      <td>112/2</td>\n      <td>command of temper</td>\n      <td>8a25d3b372f316f0c3f363f9d125333f</td>\n      <td>Port Allen PD</td>\n      <td>2019</td>\n    </tr>\n    <tr>\n      <th>2</th>\n      <td>officer</td>\n      <td>craig</td>\n      <td>crawford</td>\n      <td>PA-28</td>\n      <td>unfounded</td>\n      <td>05:00</td>\n      <td>19-011</td>\n      <td>2019</td>\n      <td>6</td>\n      <td>20</td>\n      <td>2019</td>\n      <td>6</td>\n      <td>19</td>\n      <td></td>\n      <td></td>\n      <td>75809dcf4990844c49dae220d32aa367</td>\n      <td>Port Allen PD</td>\n      <td>2019</td>\n    </tr>\n    <tr>\n      <th>3</th>\n      <td>corporal</td>\n      <td>bobby</td>\n      <td>hopson</td>\n      <td>PA-8</td>\n      <td>unfounded</td>\n      <td>10:07</td>\n      <td>19-012</td>\n      <td>2019</td>\n      <td>6</td>\n      <td>21</td>\n      <td>2019</td>\n      <td>6</td>\n      <td>1</td>\n      <td></td>\n      <td></td>\n      <td>cea7a5ae66aeab8b7e4659e4c872b40b</td>\n      <td>Port Allen PD</td>\n      <td>2019</td>\n    </tr>\n    <tr>\n      <th>4</th>\n      <td>corporal</td>\n      <td>bobby</td>\n      <td>hopson</td>\n      <td>PA-8</td>\n      <td>expired</td>\n      <td></td>\n      <td>19-013</td>\n      <td>2019</td>\n      <td>6</td>\n      <td>25</td>\n      <td>2019</td>\n      <td>3</td>\n      <td>13</td>\n      <td></td>\n      <td></td>\n      <td>cea7a5ae66aeab8b7e4659e4c872b40b</td>\n      <td>Port Allen PD</td>\n      <td>2019</td>\n    </tr>\n    <tr>\n      <th>5</th>\n      <td>officer</td>\n      <td>eric</td>\n      <td>reineke</td>\n      <td>PA-11</td>\n      <td>not sustained</td>\n      <td>23:30</td>\n      <td>19-014</td>\n      <td>2019</td>\n      <td>7</td>\n      <td>8</td>\n      <td>2019</td>\n      <td>7</td>\n      <td>3</td>\n      <td>2:15</td>\n      <td>conduct unbecoming of an officer</td>\n      <td>8a25d3b372f316f0c3f363f9d125333f</td>\n      <td>Port Allen PD</td>\n      <td>2019</td>\n    </tr>\n    <tr>\n      <th>6</th>\n      <td>officer</td>\n      <td>craig</td>\n      <td>crawford</td>\n      <td>PA-28</td>\n      <td>sustained</td>\n      <td>00:52</td>\n      <td>19-015</td>\n      <td>2019</td>\n      <td>6</td>\n      <td>7</td>\n      <td>2019</td>\n      <td>7</td>\n      <td>7</td>\n      <td>3:11</td>\n      <td>carrying out orders</td>\n      <td>75809dcf4990844c49dae220d32aa367</td>\n      <td>Port Allen PD</td>\n      <td>2019</td>\n    </tr>\n    <tr>\n      <th>7</th>\n      <td>officer</td>\n      <td>craig</td>\n      <td>crawford</td>\n      <td>PA-28</td>\n      <td>unfounded</td>\n      <td>15:34</td>\n      <td>19-016</td>\n      <td>2019</td>\n      <td>7</td>\n      <td>16</td>\n      <td>2019</td>\n      <td>6</td>\n      <td>26</td>\n      <td>2:15</td>\n      <td>conduct unbecoming of an officer</td>\n      <td>75809dcf4990844c49dae220d32aa367</td>\n      <td>Port Allen PD</td>\n      <td>2019</td>\n    </tr>\n    <tr>\n      <th>8</th>\n      <td>corporal</td>\n      <td>bobby</td>\n      <td>hopson</td>\n      <td>PA-8</td>\n      <td>exonerated</td>\n      <td></td>\n      <td>19-017</td>\n      <td>2019</td>\n      <td>8</td>\n      <td>19</td>\n      <td></td>\n      <td></td>\n      <td></td>\n      <td>2:15</td>\n      <td>conduct unbecoming of an officer</td>\n      <td>cea7a5ae66aeab8b7e4659e4c872b40b</td>\n      <td>Port Allen PD</td>\n      <td>2019</td>\n    </tr>\n    <tr>\n      <th>9</th>\n      <td>officer</td>\n      <td>craig</td>\n      <td>crawford</td>\n      <td>PA-28</td>\n      <td>not sustained</td>\n      <td>17:00</td>\n      <td>19-018</td>\n      <td>2019</td>\n      <td>8</td>\n      <td>15</td>\n      <td>2019</td>\n      <td>8</td>\n      <td>14</td>\n      <td>2:15</td>\n      <td>conduct unbecoming of an officer</td>\n      <td>75809dcf4990844c49dae220d32aa367</td>\n      <td>Port Allen PD</td>\n      <td>2019</td>\n    </tr>\n    <tr>\n      <th>10</th>\n      <td>officer</td>\n      <td>jana</td>\n      <td>chustz</td>\n      <td>PA-13</td>\n      <td>expired</td>\n      <td>15:30</td>\n      <td>19-019</td>\n      <td>2019</td>\n      <td>9</td>\n      <td>19</td>\n      <td>2019</td>\n      <td>8</td>\n      <td>18</td>\n      <td>122</td>\n      <td>departmental motor vehicle accident</td>\n      <td>e615c81c76b28982bba07d802d584eec</td>\n      <td>Port Allen PD</td>\n      <td>2019</td>\n    </tr>\n    <tr>\n      <th>11</th>\n      <td>officer</td>\n      <td>craig</td>\n      <td>crawford</td>\n      <td>PA-28</td>\n      <td>exonerated</td>\n      <td>09:00</td>\n      <td>19-02</td>\n      <td>2019</td>\n      <td>1</td>\n      <td>28</td>\n      <td>2019</td>\n      <td>1</td>\n      <td>28</td>\n      <td>122</td>\n      <td>departmental motor vehicle accident</td>\n      <td>75809dcf4990844c49dae220d32aa367</td>\n      <td>Port Allen PD</td>\n      <td>2019</td>\n    </tr>\n    <tr>\n      <th>12</th>\n      <td>officer</td>\n      <td>eric</td>\n      <td>reineke</td>\n      <td>PA-11</td>\n      <td>sustained</td>\n      <td>18:30</td>\n      <td>19-020</td>\n      <td>2019</td>\n      <td>8</td>\n      <td>28</td>\n      <td>2019</td>\n      <td>8</td>\n      <td>24</td>\n      <td>2:15</td>\n      <td>conduct unbecoming of an officer</td>\n      <td>8a25d3b372f316f0c3f363f9d125333f</td>\n      <td>Port Allen PD</td>\n      <td>2019</td>\n    </tr>\n    <tr>\n      <th>13</th>\n      <td>officer</td>\n      <td>latrese</td>\n      <td>darden</td>\n      <td>PA-6</td>\n      <td>sustained</td>\n      <td>14:35</td>\n      <td>19-021</td>\n      <td>2019</td>\n      <td>10</td>\n      <td>14</td>\n      <td>2019</td>\n      <td>10</td>\n      <td>13</td>\n      <td>122</td>\n      <td>departmental motor vehicle accident</td>\n      <td>08fc266a52b1c99568086abeda647852</td>\n      <td>Port Allen PD</td>\n      <td>2019</td>\n    </tr>\n    <tr>\n      <th>14</th>\n      <td>officer</td>\n      <td>craig</td>\n      <td>crawford</td>\n      <td>PA-28</td>\n      <td>exonerated</td>\n      <td>03:40</td>\n      <td>19-023</td>\n      <td>2019</td>\n      <td>11</td>\n      <td>23</td>\n      <td>2019</td>\n      <td>11</td>\n      <td>23</td>\n      <td>122</td>\n      <td>departmental motor vehicle accident</td>\n      <td>75809dcf4990844c49dae220d32aa367</td>\n      <td>Port Allen PD</td>\n      <td>2019</td>\n    </tr>\n    <tr>\n      <th>15</th>\n      <td>officer</td>\n      <td>craig</td>\n      <td>crawford</td>\n      <td>PA-28</td>\n      <td>exonerated</td>\n      <td>12:30</td>\n      <td>19-024</td>\n      <td>2019</td>\n      <td>12</td>\n      <td>16</td>\n      <td>2019</td>\n      <td>11</td>\n      <td>28</td>\n      <td></td>\n      <td></td>\n      <td>75809dcf4990844c49dae220d32aa367</td>\n      <td>Port Allen PD</td>\n      <td>2019</td>\n    </tr>\n    <tr>\n      <th>16</th>\n      <td>officer</td>\n      <td>james</td>\n      <td>lewis</td>\n      <td>PA-9</td>\n      <td></td>\n      <td>20:30</td>\n      <td>19-03</td>\n      <td>2019</td>\n      <td>2</td>\n      <td>12</td>\n      <td>2019</td>\n      <td>1</td>\n      <td>31</td>\n      <td>2:15</td>\n      <td>conduct unbecoming of an officer</td>\n      <td>34eff9c5d4a5e7845c2c7a1131acda09</td>\n      <td>Port Allen PD</td>\n      <td>2019</td>\n    </tr>\n    <tr>\n      <th>17</th>\n      <td>sergeant</td>\n      <td>briant</td>\n      <td>landry</td>\n      <td>PA-17</td>\n      <td>unfounded</td>\n      <td>10:00</td>\n      <td>19-04</td>\n      <td>2019</td>\n      <td>2</td>\n      <td>6</td>\n      <td>2019</td>\n      <td>2</td>\n      <td>6</td>\n      <td>2:15</td>\n      <td>conduct unbecoming of an officer</td>\n      <td>b2927f10640735d0f7e645fdadbed73c</td>\n      <td>Port Allen PD</td>\n      <td>2019</td>\n    </tr>\n    <tr>\n      <th>18</th>\n      <td>sergeant</td>\n      <td>briant</td>\n      <td>landry</td>\n      <td>PA-17</td>\n      <td>sustained</td>\n      <td>22:33</td>\n      <td>19-05</td>\n      <td>2019</td>\n      <td>3</td>\n      <td>13</td>\n      <td>2019</td>\n      <td>3</td>\n      <td>10</td>\n      <td>2:21</td>\n      <td>use of alcohol and controlled substance</td>\n      <td>b2927f10640735d0f7e645fdadbed73c</td>\n      <td>Port Allen PD</td>\n      <td>2019</td>\n    </tr>\n    <tr>\n      <th>19</th>\n      <td>sergeant</td>\n      <td>briant</td>\n      <td>landry</td>\n      <td>PA-17</td>\n      <td>sustained</td>\n      <td>22:33</td>\n      <td>19-05</td>\n      <td>2019</td>\n      <td>3</td>\n      <td>13</td>\n      <td>2019</td>\n      <td>3</td>\n      <td>10</td>\n      <td>2:15</td>\n      <td>conduct unbecoming of an officer</td>\n      <td>b2927f10640735d0f7e645fdadbed73c</td>\n      <td>Port Allen PD</td>\n      <td>2019</td>\n    </tr>\n    <tr>\n      <th>20</th>\n      <td>sergeant</td>\n      <td>briant</td>\n      <td>landry</td>\n      <td>PA-17</td>\n      <td>sustained</td>\n      <td>22:33</td>\n      <td>19-05</td>\n      <td>2019</td>\n      <td>3</td>\n      <td>13</td>\n      <td>2019</td>\n      <td>3</td>\n      <td>10</td>\n      <td>3:11</td>\n      <td>carrying out orders</td>\n      <td>b2927f10640735d0f7e645fdadbed73c</td>\n      <td>Port Allen PD</td>\n      <td>2019</td>\n    </tr>\n    <tr>\n      <th>21</th>\n      <td>officer</td>\n      <td>tiffeny</td>\n      <td>wycoskie</td>\n      <td>PA-5</td>\n      <td>sustained</td>\n      <td></td>\n      <td>19-06</td>\n      <td>2019</td>\n      <td>3</td>\n      <td>27</td>\n      <td></td>\n      <td></td>\n      <td></td>\n      <td>122</td>\n      <td>departmental motor vehicle accident</td>\n      <td>d397623999a2a816259173ed42acadec</td>\n      <td>Port Allen PD</td>\n      <td>2019</td>\n    </tr>\n    <tr>\n      <th>22</th>\n      <td>officer</td>\n      <td>tiffeny</td>\n      <td>wycoskie</td>\n      <td>PA-5</td>\n      <td>exonerated</td>\n      <td></td>\n      <td>19-07</td>\n      <td>2018</td>\n      <td>4</td>\n      <td>15</td>\n      <td>2019</td>\n      <td>3</td>\n      <td>28</td>\n      <td>2:15</td>\n      <td>conduct unbecoming of an officer</td>\n      <td>d397623999a2a816259173ed42acadec</td>\n      <td>Port Allen PD</td>\n      <td>2019</td>\n    </tr>\n    <tr>\n      <th>23</th>\n      <td>officer</td>\n      <td>eric</td>\n      <td>reineke</td>\n      <td>PA-11</td>\n      <td>sustained</td>\n      <td>16:00</td>\n      <td>19-08</td>\n      <td>2019</td>\n      <td>5</td>\n      <td>3</td>\n      <td>2019</td>\n      <td>4</td>\n      <td>30</td>\n      <td>122</td>\n      <td>departmental motor vehicle accident</td>\n      <td>8a25d3b372f316f0c3f363f9d125333f</td>\n      <td>Port Allen PD</td>\n      <td>2019</td>\n    </tr>\n    <tr>\n      <th>24</th>\n      <td>officer</td>\n      <td>nolan</td>\n      <td>dehon</td>\n      <td>PA-4</td>\n      <td>unfounded</td>\n      <td>06:45</td>\n      <td>19-09</td>\n      <td>2019</td>\n      <td>6</td>\n      <td>13</td>\n      <td>2019</td>\n      <td>06</td>\n      <td>13</td>\n      <td>2:15</td>\n      <td>conduct unbecoming of an officer</td>\n      <td>ebacaa9d560ec1d165925bbee080fd24</td>\n      <td>Port Allen PD</td>\n      <td>2019</td>\n    </tr>\n  </tbody>\n</table>\n</div>"
     },
     "metadata": {},
     "execution_count": 2
    }
   ],
   "source": [
    "df = clean19()\n",
    "df"
   ]
  },
  {
   "cell_type": "code",
   "execution_count": 4,
   "metadata": {},
   "outputs": [],
   "source": [
    "df[df.tracking_number.duplicated(keep=False)].to_csv(\"../data/port_allen_pd_cprr_duplicated.csv\", index=False)"
   ]
  },
  {
   "cell_type": "code",
   "execution_count": null,
   "metadata": {},
   "outputs": [],
   "source": []
  }
 ]
}
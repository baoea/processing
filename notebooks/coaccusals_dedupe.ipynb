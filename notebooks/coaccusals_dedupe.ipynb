{
 "cells": [
  {
   "cell_type": "code",
   "execution_count": 1,
   "metadata": {},
   "outputs": [],
   "source": [
    "# import os\n",
    "# os.chdir(\"../\")"
   ]
  },
  {
   "cell_type": "code",
   "execution_count": 2,
   "metadata": {},
   "outputs": [],
   "source": [
    "import pandas as pd\n",
    "from pandas_dedupe import dedupe_dataframe"
   ]
  },
  {
   "cell_type": "code",
   "execution_count": 3,
   "metadata": {},
   "outputs": [],
   "source": [
    "def filter_out_non_duplicates(df: pd.DataFrame):\n",
    "    df = df.loc[df.tracking_id.notna(), ['uid', 'tracking_id']].groupby(\"tracking_id\").filter(lambda x: len(x) >= 2)\n",
    "    df[\"uid_counts\"] = df.loc[df.tracking_id.notna(), ['uid', 'tracking_id']].groupby(\"tracking_id\")[\"uid\"].transform(\"nunique\")\n",
    "    df = df[~((df.uid_counts.astype(str) == \"1\"))]\n",
    "    return df.drop(columns=[\"uid_counts\"])\n",
    "\n",
    "\n",
    "def groupby_tracking_number_and_uid(df):\n",
    "    return pd.DataFrame(\n",
    "        ((tn, id.str.cat(sep=\", \")) for tn, id in df.groupby(['tracking_id'])['uid']),\n",
    "        columns=[\"tracking_id\", \"uids\"])\n",
    "\n",
    "\n",
    "def create_clusters(df):\n",
    "    df = dedupe_dataframe(df, [\"uids\"])\n",
    "    return df\n",
    "\n",
    "\"\"\"\n",
    "3     243e11a7128df89c570314aed55a9dc8  2020-0565-r  2ca005708d4aa4ec982294f764cb71d8\n",
    "4     14b8b33c301f5580041a965e27d1c2e6  2020-0565-r  4713804b02e3e76dfbca8da1c2dfe710\n",
    "5     14b8b33c301f5580041a965e27d1c2e6  2020-0565-r  3557a6f8b03ebb802e4ea1d5463b1504\n",
    "\"\"\"\n",
    "\n",
    "\n",
    "def filter_clusters_for_exact_coaccusals(df):\n",
    "    df = df[df.duplicated(subset=['cluster_id'], keep=False)]\n",
    "    return df\n",
    "\n",
    "\n",
    "def split_rows_with_multiple_uids(df):\n",
    "    df = (\n",
    "        df.drop(\"uids\", axis=1)\n",
    "        .join(\n",
    "            df[\"uids\"]\n",
    "            .str.split(\", \", expand=True)\n",
    "            .stack()\n",
    "            .reset_index(level=1, drop=True)\n",
    "            .rename(\"uids\"),\n",
    "            how=\"outer\",\n",
    "        )\n",
    "        .reset_index(drop=True)\n",
    "    )\n",
    "    return df.rename(columns={\"uids\": \"uid\"})"
   ]
  },
  {
   "cell_type": "code",
   "execution_count": 6,
   "metadata": {},
   "outputs": [],
   "source": [
    "def cluster():\n",
    "    dfa = pd.read_csv(\"../data/fuse/allegation.csv\")\n",
    "    dfb = (dfa\n",
    "        .pipe(filter_out_non_duplicates)\n",
    "        .pipe(groupby_tracking_number_and_uid)\n",
    "        .pipe(create_clusters)\n",
    "        .rename(columns={\"cluster id\": \"cluster_id\"})\n",
    "        .pipe(filter_clusters_for_exact_coaccusals)\n",
    "        .pipe(split_rows_with_multiple_uids)\n",
    "    )\n",
    "    dfa = dfa[[\"allegation_uid\", \"tracking_id\", \"uid\"]]\n",
    "    df = pd.merge(dfa, dfb, on=[\"uid\", \"tracking_id\"])\n",
    "    df = df.drop_duplicates(subset=[\"allegation_uid\"])   \n",
    "    return df.sort_values(\"cluster_id\").drop(columns=[\"confidence\"])"
   ]
  },
  {
   "cell_type": "code",
   "execution_count": 7,
   "metadata": {},
   "outputs": [
    {
     "name": "stderr",
     "output_type": "stream",
     "text": [
      "c:\\Users\\PC\\AppData\\Local\\Programs\\Python\\Python39\\lib\\site-packages\\IPython\\core\\interactiveshell.py:3338: DtypeWarning: Columns (3,6,8,12,15,16,18,20,21,22,23,24,25,26,27,28,29,30,31,32,33,35,36,37) have mixed types.Specify dtype option on import or set low_memory=False.\n",
      "  if await self.run_code(code, result, async_=asy):\n"
     ]
    },
    {
     "name": "stdout",
     "output_type": "stream",
     "text": [
      "Importing data ...\n"
     ]
    },
    {
     "name": "stderr",
     "output_type": "stream",
     "text": [
      "c:\\Users\\PC\\AppData\\Local\\Programs\\Python\\Python39\\lib\\site-packages\\pandas_dedupe\\utility_functions.py:17: FutureWarning: The default value of regex will change from True to False in a future version.\n",
      "  df[i] = df[i].str.replace('[^\\w\\s\\.\\-\\(\\)\\,\\:\\/\\\\\\\\]','')\n",
      "uids : 65ca05f3b63f7d7383662d1275b0804f, 2d430d5918f53d6216f87614beff9ec9, 6c0f5764509f4a2231be815554b0fe27, 2d430d5918f53d6216f87614beff9ec9\n",
      "\n",
      "uids : 65ca05f3b63f7d7383662d1275b0804f, 2d430d5918f53d6216f87614beff9ec9, 6c0f5764509f4a2231be815554b0fe27\n",
      "\n",
      "0/10 positive, 0/10 negative\n",
      "Do these records refer to the same thing?\n",
      "(y)es / (n)o / (u)nsure / (f)inished\n"
     ]
    },
    {
     "name": "stdout",
     "output_type": "stream",
     "text": [
      "Starting active labeling...\n"
     ]
    }
   ],
   "source": [
    "df = cluster()\n",
    "df"
   ]
  }
 ],
 "metadata": {
  "kernelspec": {
   "display_name": "Python 3.9.11 64-bit",
   "language": "python",
   "name": "python3"
  },
  "language_info": {
   "codemirror_mode": {
    "name": "ipython",
    "version": 3
   },
   "file_extension": ".py",
   "mimetype": "text/x-python",
   "name": "python",
   "nbconvert_exporter": "python",
   "pygments_lexer": "ipython3",
   "version": "3.9.11 (tags/v3.9.11:2de452f, Mar 16 2022, 14:33:45) [MSC v.1929 64 bit (AMD64)]"
  },
  "orig_nbformat": 4,
  "vscode": {
   "interpreter": {
    "hash": "f6c8f846148a3e4d140e6ddf63c190cff559dcf260a4a21539f0978f2b58638c"
   }
  }
 },
 "nbformat": 4,
 "nbformat_minor": 2
}

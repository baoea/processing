{
 "cells": [
  {
   "cell_type": "code",
   "execution_count": 23,
   "metadata": {},
   "outputs": [],
   "source": [
    "# import os\n",
    "# os.chdir(\"../\")"
   ]
  },
  {
   "cell_type": "code",
   "execution_count": 24,
   "metadata": {},
   "outputs": [],
   "source": [
    "import pandas as pd\n",
    "from datamatch import ThresholdMatcher, ColumnsIndex\n",
    "from pandas_dedupe import dedupe_dataframe\n",
    "import re\n",
    "from lib.rows import duplicate_row\n",
    "import deba"
   ]
  },
  {
   "cell_type": "code",
   "execution_count": 25,
   "metadata": {},
   "outputs": [],
   "source": [
    "def read_data():\n",
    "    df = pd.read_csv(deba.data(\"fuse/allegation.csv\"))\n",
    "    return df "
   ]
  },
  {
   "cell_type": "code",
   "execution_count": 26,
   "metadata": {},
   "outputs": [
    {
     "name": "stderr",
     "output_type": "stream",
     "text": [
      "C:\\Users\\PC\\AppData\\Local\\Temp\\ipykernel_16664\\2716397426.py:2: DtypeWarning: Columns (12,15,18,20,21,22,23,24,25,26,27,28,29,30,31,32,33,35,36,37) have mixed types. Specify dtype option on import or set low_memory=False.\n",
      "  df = pd.read_csv(deba.data(\"fuse/allegation.csv\"))\n"
     ]
    }
   ],
   "source": [
    "df = read_data()"
   ]
  },
  {
   "cell_type": "code",
   "execution_count": 27,
   "metadata": {},
   "outputs": [],
   "source": [
    "def create_clusters(df):\n",
    "    # filter and group uids with tracking number\n",
    "    df = df.loc[df.tracking_id.notna(), ['uid', 'tracking_id']].groupby(\"tracking_id\").filter(lambda x: len(x) >= 2)\n",
    "    df = pd.DataFrame(\n",
    "        # we're storing set of uids under \"uids\" column because set operations\n",
    "        # are very fast compared to string operations\n",
    "        ((tn, set(sr.tolist())) for tn, sr in df.groupby(['tracking_id'])['uid']),\n",
    "        columns=['tracking_id', 'uids']\n",
    "    ).set_index('tracking_id', drop=True)\n",
    "    # print(df.head(10))\n",
    "    # our custom scoring function\n",
    "    def scorer(a: pd.Series, b: pd.Series) -> float:\n",
    "        # x_len is the number of shared uid between 2 tracking numbers\n",
    "        x_len = len(a.uids & b.uids)\n",
    "        # if they only share 1 uid then they are not a match\n",
    "        if x_len < 2:\n",
    "            return 0\n",
    "        # returns the ratio of shared uids\n",
    "        # if the uids are exactly the same then the ratio will be 1\n",
    "        # if no uid are shared then the ratio will be 0\n",
    "        # but of course, we have already discarded such pairs in the above condition\n",
    "        return x_len * 2 / (len(a.uids) + len(b.uids))\n",
    "\n",
    "    matcher = ThresholdMatcher(\n",
    "        # Splitting the \"uids\" column into distinct uid and index with those\n",
    "        # distinct uid because index_elements is set to True.\n",
    "        # As always, only the tracking_number that share a uid will be matched\n",
    "        index=ColumnsIndex('uids', index_elements=True),\n",
    "        # use the above scoring function\n",
    "        scorer=scorer,\n",
    "        dfa=df,\n",
    "        show_progress=True\n",
    "    )\n",
    "    decision = 0.1\n",
    "    matcher.save_clusters_to_excel(deba.data(\"analysis/allegation.xlsx\"), decision, decision\n",
    "    )\n",
    "    \n",
    "    return matcher.get_clusters_within_threshold(decision)"
   ]
  },
  {
   "cell_type": "code",
   "execution_count": 28,
   "metadata": {},
   "outputs": [
    {
     "name": "stderr",
     "output_type": "stream",
     "text": [
      "scoring pairs: 5972it [00:01, 5631.83it/s]\n"
     ]
    }
   ],
   "source": [
    "match = create_clusters(df)\n",
    "clusters = pd.read_excel(deba.data(\"analysis/allegation.xlsx\"))"
   ]
  },
  {
   "cell_type": "code",
   "execution_count": 29,
   "metadata": {},
   "outputs": [],
   "source": [
    "clusters = clusters.drop(columns=[\"cluster_idx\", \"pair_idx\", \"sim_score\"])\n",
    "clusters = clusters.rename(columns={\"row_key\": \"tracking_id\"})"
   ]
  },
  {
   "cell_type": "code",
   "execution_count": 30,
   "metadata": {},
   "outputs": [],
   "source": [
    "def split_rows_with_multiple_uids(df):\n",
    "    df.loc[:, \"uids\"] = df.uids.str.replace(r\"({|}|\\')\", \"\", regex=True)\n",
    "    i = 0\n",
    "    for idx in df[df.uids.str.contains(\",\")].index:\n",
    "        s = df.loc[idx + i, \"uids\"]\n",
    "        parts = re.split(r\"\\s*(?:\\,)\\s*\", s)\n",
    "        df = duplicate_row(df, idx + i, len(parts))\n",
    "        for j, name in enumerate(parts):\n",
    "            df.loc[idx + i + j, \"uids\"] = name\n",
    "        i += len(parts) - 1\n",
    "    return df.rename(columns={\"uids\": \"uid\"})"
   ]
  },
  {
   "cell_type": "code",
   "execution_count": 31,
   "metadata": {},
   "outputs": [
    {
     "data": {
      "text/html": [
       "<div>\n",
       "<style scoped>\n",
       "    .dataframe tbody tr th:only-of-type {\n",
       "        vertical-align: middle;\n",
       "    }\n",
       "\n",
       "    .dataframe tbody tr th {\n",
       "        vertical-align: top;\n",
       "    }\n",
       "\n",
       "    .dataframe thead th {\n",
       "        text-align: right;\n",
       "    }\n",
       "</style>\n",
       "<table border=\"1\" class=\"dataframe\">\n",
       "  <thead>\n",
       "    <tr style=\"text-align: right;\">\n",
       "      <th></th>\n",
       "      <th>tracking_id</th>\n",
       "      <th>uid</th>\n",
       "    </tr>\n",
       "  </thead>\n",
       "  <tbody>\n",
       "    <tr>\n",
       "      <th>0</th>\n",
       "      <td>b1542c6c7de38acf49b2477fb3114501</td>\n",
       "      <td>29f98edd9908e30a3cdcc6cac36b41e1</td>\n",
       "    </tr>\n",
       "    <tr>\n",
       "      <th>1</th>\n",
       "      <td>b1542c6c7de38acf49b2477fb3114501</td>\n",
       "      <td>a27837a6c30cc0a5980ed88c8232b6b8</td>\n",
       "    </tr>\n",
       "    <tr>\n",
       "      <th>2</th>\n",
       "      <td>d1ce9b5f51063fc6f28c6ce947592444</td>\n",
       "      <td>29f98edd9908e30a3cdcc6cac36b41e1</td>\n",
       "    </tr>\n",
       "    <tr>\n",
       "      <th>3</th>\n",
       "      <td>d1ce9b5f51063fc6f28c6ce947592444</td>\n",
       "      <td>a27837a6c30cc0a5980ed88c8232b6b8</td>\n",
       "    </tr>\n",
       "    <tr>\n",
       "      <th>4</th>\n",
       "      <td>4d669f1115d3b76f3901b496f8fb6965</td>\n",
       "      <td>29f98edd9908e30a3cdcc6cac36b41e1</td>\n",
       "    </tr>\n",
       "    <tr>\n",
       "      <th>...</th>\n",
       "      <td>...</td>\n",
       "      <td>...</td>\n",
       "    </tr>\n",
       "    <tr>\n",
       "      <th>1529</th>\n",
       "      <td>d1356ddced7c750ae9fd9bd14c783fb1</td>\n",
       "      <td>3c15b982f4ac86eaf7db1e9f82361e0a</td>\n",
       "    </tr>\n",
       "    <tr>\n",
       "      <th>1530</th>\n",
       "      <td>d1356ddced7c750ae9fd9bd14c783fb1</td>\n",
       "      <td>cf4e6a30431461f685d0883d81cd2a3e</td>\n",
       "    </tr>\n",
       "    <tr>\n",
       "      <th>1531</th>\n",
       "      <td>d1356ddced7c750ae9fd9bd14c783fb1</td>\n",
       "      <td>371926c453baf777f00483f1d2699797</td>\n",
       "    </tr>\n",
       "    <tr>\n",
       "      <th>1532</th>\n",
       "      <td>d1356ddced7c750ae9fd9bd14c783fb1</td>\n",
       "      <td>774c9cb45d43b2511289ba9f2468189f</td>\n",
       "    </tr>\n",
       "    <tr>\n",
       "      <th>1533</th>\n",
       "      <td>d1356ddced7c750ae9fd9bd14c783fb1</td>\n",
       "      <td>69ff6202765aca6df7fe24f5f8c084c0</td>\n",
       "    </tr>\n",
       "  </tbody>\n",
       "</table>\n",
       "<p>1534 rows × 2 columns</p>\n",
       "</div>"
      ],
      "text/plain": [
       "                           tracking_id                               uid\n",
       "0     b1542c6c7de38acf49b2477fb3114501  29f98edd9908e30a3cdcc6cac36b41e1\n",
       "1     b1542c6c7de38acf49b2477fb3114501  a27837a6c30cc0a5980ed88c8232b6b8\n",
       "2     d1ce9b5f51063fc6f28c6ce947592444  29f98edd9908e30a3cdcc6cac36b41e1\n",
       "3     d1ce9b5f51063fc6f28c6ce947592444  a27837a6c30cc0a5980ed88c8232b6b8\n",
       "4     4d669f1115d3b76f3901b496f8fb6965  29f98edd9908e30a3cdcc6cac36b41e1\n",
       "...                                ...                               ...\n",
       "1529  d1356ddced7c750ae9fd9bd14c783fb1  3c15b982f4ac86eaf7db1e9f82361e0a\n",
       "1530  d1356ddced7c750ae9fd9bd14c783fb1  cf4e6a30431461f685d0883d81cd2a3e\n",
       "1531  d1356ddced7c750ae9fd9bd14c783fb1  371926c453baf777f00483f1d2699797\n",
       "1532  d1356ddced7c750ae9fd9bd14c783fb1  774c9cb45d43b2511289ba9f2468189f\n",
       "1533  d1356ddced7c750ae9fd9bd14c783fb1  69ff6202765aca6df7fe24f5f8c084c0\n",
       "\n",
       "[1534 rows x 2 columns]"
      ]
     },
     "execution_count": 31,
     "metadata": {},
     "output_type": "execute_result"
    }
   ],
   "source": [
    "clusters = clusters.pipe(split_rows_with_multiple_uids)\n",
    "\n",
    "clusters"
   ]
  },
  {
   "cell_type": "code",
   "execution_count": 32,
   "metadata": {},
   "outputs": [
    {
     "data": {
      "text/html": [
       "<div>\n",
       "<style scoped>\n",
       "    .dataframe tbody tr th:only-of-type {\n",
       "        vertical-align: middle;\n",
       "    }\n",
       "\n",
       "    .dataframe tbody tr th {\n",
       "        vertical-align: top;\n",
       "    }\n",
       "\n",
       "    .dataframe thead th {\n",
       "        text-align: right;\n",
       "    }\n",
       "</style>\n",
       "<table border=\"1\" class=\"dataframe\">\n",
       "  <thead>\n",
       "    <tr style=\"text-align: right;\">\n",
       "      <th></th>\n",
       "      <th>tracking_id</th>\n",
       "      <th>uid</th>\n",
       "      <th>allegation_uid</th>\n",
       "      <th>agency</th>\n",
       "    </tr>\n",
       "  </thead>\n",
       "  <tbody>\n",
       "    <tr>\n",
       "      <th>0</th>\n",
       "      <td>b1542c6c7de38acf49b2477fb3114501</td>\n",
       "      <td>29f98edd9908e30a3cdcc6cac36b41e1</td>\n",
       "      <td>806e386472693535d83dec13c2ef9116</td>\n",
       "      <td>new-orleans-pd</td>\n",
       "    </tr>\n",
       "    <tr>\n",
       "      <th>1</th>\n",
       "      <td>b1542c6c7de38acf49b2477fb3114501</td>\n",
       "      <td>a27837a6c30cc0a5980ed88c8232b6b8</td>\n",
       "      <td>5cf4e00bc12adac20e59681b36a26265</td>\n",
       "      <td>new-orleans-pd</td>\n",
       "    </tr>\n",
       "    <tr>\n",
       "      <th>2</th>\n",
       "      <td>d1ce9b5f51063fc6f28c6ce947592444</td>\n",
       "      <td>29f98edd9908e30a3cdcc6cac36b41e1</td>\n",
       "      <td>94aa83a117c3a9441ea5309c226d3d07</td>\n",
       "      <td>new-orleans-pd</td>\n",
       "    </tr>\n",
       "    <tr>\n",
       "      <th>3</th>\n",
       "      <td>d1ce9b5f51063fc6f28c6ce947592444</td>\n",
       "      <td>29f98edd9908e30a3cdcc6cac36b41e1</td>\n",
       "      <td>ac7330261fab81ea8a0b80fcf00bf1fc</td>\n",
       "      <td>new-orleans-pd</td>\n",
       "    </tr>\n",
       "    <tr>\n",
       "      <th>4</th>\n",
       "      <td>d1ce9b5f51063fc6f28c6ce947592444</td>\n",
       "      <td>a27837a6c30cc0a5980ed88c8232b6b8</td>\n",
       "      <td>7e51a6e7ebbfe038fb7b370a50e8f230</td>\n",
       "      <td>new-orleans-pd</td>\n",
       "    </tr>\n",
       "    <tr>\n",
       "      <th>...</th>\n",
       "      <td>...</td>\n",
       "      <td>...</td>\n",
       "      <td>...</td>\n",
       "      <td>...</td>\n",
       "    </tr>\n",
       "    <tr>\n",
       "      <th>2236</th>\n",
       "      <td>d1356ddced7c750ae9fd9bd14c783fb1</td>\n",
       "      <td>3c15b982f4ac86eaf7db1e9f82361e0a</td>\n",
       "      <td>ef968cc9e077daa447c4ec313f1d51fc</td>\n",
       "      <td>baton-rouge-pd</td>\n",
       "    </tr>\n",
       "    <tr>\n",
       "      <th>2237</th>\n",
       "      <td>d1356ddced7c750ae9fd9bd14c783fb1</td>\n",
       "      <td>cf4e6a30431461f685d0883d81cd2a3e</td>\n",
       "      <td>dab7ae3227af010a9b2eabc16a7a71d0</td>\n",
       "      <td>baton-rouge-pd</td>\n",
       "    </tr>\n",
       "    <tr>\n",
       "      <th>2238</th>\n",
       "      <td>d1356ddced7c750ae9fd9bd14c783fb1</td>\n",
       "      <td>371926c453baf777f00483f1d2699797</td>\n",
       "      <td>69d2da9226a965f09cdef135381efb73</td>\n",
       "      <td>baton-rouge-pd</td>\n",
       "    </tr>\n",
       "    <tr>\n",
       "      <th>2239</th>\n",
       "      <td>d1356ddced7c750ae9fd9bd14c783fb1</td>\n",
       "      <td>774c9cb45d43b2511289ba9f2468189f</td>\n",
       "      <td>464c025bce57aeed05eb601cece74e05</td>\n",
       "      <td>baton-rouge-pd</td>\n",
       "    </tr>\n",
       "    <tr>\n",
       "      <th>2240</th>\n",
       "      <td>d1356ddced7c750ae9fd9bd14c783fb1</td>\n",
       "      <td>69ff6202765aca6df7fe24f5f8c084c0</td>\n",
       "      <td>43a560ac78783c3ad13a7744c7f8122f</td>\n",
       "      <td>baton-rouge-pd</td>\n",
       "    </tr>\n",
       "  </tbody>\n",
       "</table>\n",
       "<p>1554 rows × 4 columns</p>\n",
       "</div>"
      ],
      "text/plain": [
       "                           tracking_id                               uid  \\\n",
       "0     b1542c6c7de38acf49b2477fb3114501  29f98edd9908e30a3cdcc6cac36b41e1   \n",
       "1     b1542c6c7de38acf49b2477fb3114501  a27837a6c30cc0a5980ed88c8232b6b8   \n",
       "2     d1ce9b5f51063fc6f28c6ce947592444  29f98edd9908e30a3cdcc6cac36b41e1   \n",
       "3     d1ce9b5f51063fc6f28c6ce947592444  29f98edd9908e30a3cdcc6cac36b41e1   \n",
       "4     d1ce9b5f51063fc6f28c6ce947592444  a27837a6c30cc0a5980ed88c8232b6b8   \n",
       "...                                ...                               ...   \n",
       "2236  d1356ddced7c750ae9fd9bd14c783fb1  3c15b982f4ac86eaf7db1e9f82361e0a   \n",
       "2237  d1356ddced7c750ae9fd9bd14c783fb1  cf4e6a30431461f685d0883d81cd2a3e   \n",
       "2238  d1356ddced7c750ae9fd9bd14c783fb1  371926c453baf777f00483f1d2699797   \n",
       "2239  d1356ddced7c750ae9fd9bd14c783fb1  774c9cb45d43b2511289ba9f2468189f   \n",
       "2240  d1356ddced7c750ae9fd9bd14c783fb1  69ff6202765aca6df7fe24f5f8c084c0   \n",
       "\n",
       "                        allegation_uid          agency  \n",
       "0     806e386472693535d83dec13c2ef9116  new-orleans-pd  \n",
       "1     5cf4e00bc12adac20e59681b36a26265  new-orleans-pd  \n",
       "2     94aa83a117c3a9441ea5309c226d3d07  new-orleans-pd  \n",
       "3     ac7330261fab81ea8a0b80fcf00bf1fc  new-orleans-pd  \n",
       "4     7e51a6e7ebbfe038fb7b370a50e8f230  new-orleans-pd  \n",
       "...                                ...             ...  \n",
       "2236  ef968cc9e077daa447c4ec313f1d51fc  baton-rouge-pd  \n",
       "2237  dab7ae3227af010a9b2eabc16a7a71d0  baton-rouge-pd  \n",
       "2238  69d2da9226a965f09cdef135381efb73  baton-rouge-pd  \n",
       "2239  464c025bce57aeed05eb601cece74e05  baton-rouge-pd  \n",
       "2240  43a560ac78783c3ad13a7744c7f8122f  baton-rouge-pd  \n",
       "\n",
       "[1554 rows x 4 columns]"
      ]
     },
     "execution_count": 32,
     "metadata": {},
     "output_type": "execute_result"
    }
   ],
   "source": [
    "df = df[[\"allegation_uid\", \"tracking_id\", \"uid\", \"agency\"]]\n",
    "clusters = pd.merge(clusters, df, on=[\"uid\", \"tracking_id\"])\n",
    "clusters = clusters.drop_duplicates(subset=[\"allegation_uid\"])\n",
    "clusters"
   ]
  },
  {
   "cell_type": "code",
   "execution_count": 33,
   "metadata": {},
   "outputs": [],
   "source": [
    "clusters.to_csv(deba.data(\"analysis/coaccusals_allegation.csv\"), index=False)"
   ]
  }
 ],
 "metadata": {
  "kernelspec": {
   "display_name": "Python 3.9.11 64-bit",
   "language": "python",
   "name": "python3"
  },
  "language_info": {
   "codemirror_mode": {
    "name": "ipython",
    "version": 3
   },
   "file_extension": ".py",
   "mimetype": "text/x-python",
   "name": "python",
   "nbconvert_exporter": "python",
   "pygments_lexer": "ipython3",
   "version": "3.9.11"
  },
  "orig_nbformat": 4,
  "vscode": {
   "interpreter": {
    "hash": "f6c8f846148a3e4d140e6ddf63c190cff559dcf260a4a21539f0978f2b58638c"
   }
  }
 },
 "nbformat": 4,
 "nbformat_minor": 2
}

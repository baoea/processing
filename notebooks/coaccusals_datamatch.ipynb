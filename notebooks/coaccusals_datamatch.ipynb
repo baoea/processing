{
 "cells": [
  {
   "cell_type": "code",
   "execution_count": 11,
   "metadata": {},
   "outputs": [],
   "source": [
    "# import os\n",
    "# os.chdir(\"../\")"
   ]
  },
  {
   "cell_type": "code",
   "execution_count": 12,
   "metadata": {},
   "outputs": [],
   "source": [
    "import pandas as pd\n",
    "from datamatch import ThresholdMatcher, ColumnsIndex\n",
    "from pandas_dedupe import dedupe_dataframe\n",
    "import re\n",
    "from lib.rows import duplicate_row\n",
    "import deba"
   ]
  },
  {
   "cell_type": "code",
   "execution_count": 13,
   "metadata": {},
   "outputs": [],
   "source": [
    "def read_data():\n",
    "    df = pd.read_csv(deba.data(\"fuse/allegation.csv\"))\n",
    "    return df "
   ]
  },
  {
   "cell_type": "code",
   "execution_count": 14,
   "metadata": {},
   "outputs": [
    {
     "name": "stderr",
     "output_type": "stream",
     "text": [
      "c:\\Users\\PC\\AppData\\Local\\Programs\\Python\\Python39\\lib\\site-packages\\IPython\\core\\interactiveshell.py:3338: DtypeWarning: Columns (3,6,8,12,15,16,18,20,21,22,23,24,25,26,27,28,29,30,31,32,33,35,36,37) have mixed types.Specify dtype option on import or set low_memory=False.\n",
      "  if await self.run_code(code, result, async_=asy):\n"
     ]
    }
   ],
   "source": [
    "df = read_data()"
   ]
  },
  {
   "cell_type": "code",
   "execution_count": 15,
   "metadata": {},
   "outputs": [],
   "source": [
    "def create_clusters(df):\n",
    "    # filter and group uids with tracking number\n",
    "    df = df.loc[df.tracking_id.notna(), ['uid', 'tracking_id']].groupby(\"tracking_id\").filter(lambda x: len(x) >= 2)\n",
    "    df = pd.DataFrame(\n",
    "        # we're storing set of uids under \"uids\" column because set operations\n",
    "        # are very fast compared to string operations\n",
    "        ((tn, set(sr.tolist())) for tn, sr in df.groupby(['tracking_id'])['uid']),\n",
    "        columns=['tracking_id', 'uids']\n",
    "    ).set_index('tracking_id', drop=True)\n",
    "    # print(df.head(10))\n",
    "    # our custom scoring function\n",
    "    def scorer(a: pd.Series, b: pd.Series) -> float:\n",
    "        # x_len is the number of shared uid between 2 tracking numbers\n",
    "        x_len = len(a.uids & b.uids)\n",
    "        # if they only share 1 uid then they are not a match\n",
    "        if x_len < 2:\n",
    "            return 0\n",
    "        # returns the ratio of shared uids\n",
    "        # if the uids are exactly the same then the ratio will be 1\n",
    "        # if no uid are shared then the ratio will be 0\n",
    "        # but of course, we have already discarded such pairs in the above condition\n",
    "        return x_len * 2 / (len(a.uids) + len(b.uids))\n",
    "\n",
    "    matcher = ThresholdMatcher(\n",
    "        # Splitting the \"uids\" column into distinct uid and index with those\n",
    "        # distinct uid because index_elements is set to True.\n",
    "        # As always, only the tracking_number that share a uid will be matched\n",
    "        index=ColumnsIndex('uids', index_elements=True),\n",
    "        # use the above scoring function\n",
    "        scorer=scorer,\n",
    "        dfa=df,\n",
    "        show_progress=True\n",
    "    )\n",
    "    decision = 0.1\n",
    "    matcher.save_clusters_to_excel(deba.data(\"analysis/allegation.xlsx\"), decision, decision\n",
    "    )\n",
    "    \n",
    "    return matcher.get_clusters_within_threshold(decision)"
   ]
  },
  {
   "cell_type": "code",
   "execution_count": 16,
   "metadata": {},
   "outputs": [
    {
     "name": "stderr",
     "output_type": "stream",
     "text": [
      "scoring pairs: 5894it [00:00, 6308.23it/s]\n"
     ]
    }
   ],
   "source": [
    "match = create_clusters(df)\n",
    "clusters = pd.read_excel(deba.data(\"analysis/allegation.xlsx\"))"
   ]
  },
  {
   "cell_type": "code",
   "execution_count": 17,
   "metadata": {},
   "outputs": [],
   "source": [
    "clusters = clusters.drop(columns=[\"cluster_idx\", \"pair_idx\", \"sim_score\"])\n",
    "clusters = clusters.rename(columns={\"row_key\": \"tracking_id\"})"
   ]
  },
  {
   "cell_type": "code",
   "execution_count": 18,
   "metadata": {},
   "outputs": [],
   "source": [
    "def split_rows_with_multiple_uids(df):\n",
    "    df.loc[:, \"uids\"] = df.uids.str.replace(r\"({|}|\\')\", \"\", regex=True)\n",
    "    i = 0\n",
    "    for idx in df[df.uids.str.contains(\",\")].index:\n",
    "        s = df.loc[idx + i, \"uids\"]\n",
    "        parts = re.split(r\"\\s*(?:\\,)\\s*\", s)\n",
    "        df = duplicate_row(df, idx + i, len(parts))\n",
    "        for j, name in enumerate(parts):\n",
    "            df.loc[idx + i + j, \"uids\"] = name\n",
    "        i += len(parts) - 1\n",
    "    return df.rename(columns={\"uids\": \"uid\"})"
   ]
  },
  {
   "cell_type": "code",
   "execution_count": 19,
   "metadata": {},
   "outputs": [
    {
     "data": {
      "text/html": [
       "<div>\n",
       "<style scoped>\n",
       "    .dataframe tbody tr th:only-of-type {\n",
       "        vertical-align: middle;\n",
       "    }\n",
       "\n",
       "    .dataframe tbody tr th {\n",
       "        vertical-align: top;\n",
       "    }\n",
       "\n",
       "    .dataframe thead th {\n",
       "        text-align: right;\n",
       "    }\n",
       "</style>\n",
       "<table border=\"1\" class=\"dataframe\">\n",
       "  <thead>\n",
       "    <tr style=\"text-align: right;\">\n",
       "      <th></th>\n",
       "      <th>tracking_id</th>\n",
       "      <th>uid</th>\n",
       "    </tr>\n",
       "  </thead>\n",
       "  <tbody>\n",
       "    <tr>\n",
       "      <th>0</th>\n",
       "      <td>3c534259798acc6e420079d1e072f543</td>\n",
       "      <td>3e36baf29d012aaa856dd542f6c2417e</td>\n",
       "    </tr>\n",
       "    <tr>\n",
       "      <th>1</th>\n",
       "      <td>3c534259798acc6e420079d1e072f543</td>\n",
       "      <td>ecce1003ca706c7b3d893112cb7ccc75</td>\n",
       "    </tr>\n",
       "    <tr>\n",
       "      <th>2</th>\n",
       "      <td>9f3d3c3c3424e6baa52baed7b0cb10bc</td>\n",
       "      <td>3e36baf29d012aaa856dd542f6c2417e</td>\n",
       "    </tr>\n",
       "    <tr>\n",
       "      <th>3</th>\n",
       "      <td>9f3d3c3c3424e6baa52baed7b0cb10bc</td>\n",
       "      <td>ecce1003ca706c7b3d893112cb7ccc75</td>\n",
       "    </tr>\n",
       "    <tr>\n",
       "      <th>4</th>\n",
       "      <td>3c534259798acc6e420079d1e072f543</td>\n",
       "      <td>3e36baf29d012aaa856dd542f6c2417e</td>\n",
       "    </tr>\n",
       "    <tr>\n",
       "      <th>...</th>\n",
       "      <td>...</td>\n",
       "      <td>...</td>\n",
       "    </tr>\n",
       "    <tr>\n",
       "      <th>1522</th>\n",
       "      <td>d1356ddced7c750ae9fd9bd14c783fb1</td>\n",
       "      <td>8a1fe08e4fe721e387ccc964d51f230c</td>\n",
       "    </tr>\n",
       "    <tr>\n",
       "      <th>1523</th>\n",
       "      <td>d1356ddced7c750ae9fd9bd14c783fb1</td>\n",
       "      <td>8f6a8a487e0ff24d1173298e3d1aa0c4</td>\n",
       "    </tr>\n",
       "    <tr>\n",
       "      <th>1524</th>\n",
       "      <td>d1356ddced7c750ae9fd9bd14c783fb1</td>\n",
       "      <td>aea14597b0f40ebb0cd02a1e083d78c8</td>\n",
       "    </tr>\n",
       "    <tr>\n",
       "      <th>1525</th>\n",
       "      <td>d1356ddced7c750ae9fd9bd14c783fb1</td>\n",
       "      <td>7be36eb95e087a27e90e1f1ad780a682</td>\n",
       "    </tr>\n",
       "    <tr>\n",
       "      <th>1526</th>\n",
       "      <td>d1356ddced7c750ae9fd9bd14c783fb1</td>\n",
       "      <td>cf4e6a30431461f685d0883d81cd2a3e</td>\n",
       "    </tr>\n",
       "  </tbody>\n",
       "</table>\n",
       "<p>1527 rows × 2 columns</p>\n",
       "</div>"
      ],
      "text/plain": [
       "                           tracking_id                               uid\n",
       "0     3c534259798acc6e420079d1e072f543  3e36baf29d012aaa856dd542f6c2417e\n",
       "1     3c534259798acc6e420079d1e072f543  ecce1003ca706c7b3d893112cb7ccc75\n",
       "2     9f3d3c3c3424e6baa52baed7b0cb10bc  3e36baf29d012aaa856dd542f6c2417e\n",
       "3     9f3d3c3c3424e6baa52baed7b0cb10bc  ecce1003ca706c7b3d893112cb7ccc75\n",
       "4     3c534259798acc6e420079d1e072f543  3e36baf29d012aaa856dd542f6c2417e\n",
       "...                                ...                               ...\n",
       "1522  d1356ddced7c750ae9fd9bd14c783fb1  8a1fe08e4fe721e387ccc964d51f230c\n",
       "1523  d1356ddced7c750ae9fd9bd14c783fb1  8f6a8a487e0ff24d1173298e3d1aa0c4\n",
       "1524  d1356ddced7c750ae9fd9bd14c783fb1  aea14597b0f40ebb0cd02a1e083d78c8\n",
       "1525  d1356ddced7c750ae9fd9bd14c783fb1  7be36eb95e087a27e90e1f1ad780a682\n",
       "1526  d1356ddced7c750ae9fd9bd14c783fb1  cf4e6a30431461f685d0883d81cd2a3e\n",
       "\n",
       "[1527 rows x 2 columns]"
      ]
     },
     "execution_count": 19,
     "metadata": {},
     "output_type": "execute_result"
    }
   ],
   "source": [
    "clusters = clusters.pipe(split_rows_with_multiple_uids)\n",
    "clusters"
   ]
  },
  {
   "cell_type": "code",
   "execution_count": 20,
   "metadata": {},
   "outputs": [
    {
     "data": {
      "text/html": [
       "<div>\n",
       "<style scoped>\n",
       "    .dataframe tbody tr th:only-of-type {\n",
       "        vertical-align: middle;\n",
       "    }\n",
       "\n",
       "    .dataframe tbody tr th {\n",
       "        vertical-align: top;\n",
       "    }\n",
       "\n",
       "    .dataframe thead th {\n",
       "        text-align: right;\n",
       "    }\n",
       "</style>\n",
       "<table border=\"1\" class=\"dataframe\">\n",
       "  <thead>\n",
       "    <tr style=\"text-align: right;\">\n",
       "      <th></th>\n",
       "      <th>tracking_id</th>\n",
       "      <th>uid</th>\n",
       "      <th>allegation_uid</th>\n",
       "    </tr>\n",
       "  </thead>\n",
       "  <tbody>\n",
       "    <tr>\n",
       "      <th>0</th>\n",
       "      <td>3c534259798acc6e420079d1e072f543</td>\n",
       "      <td>3e36baf29d012aaa856dd542f6c2417e</td>\n",
       "      <td>632c6c8ef88352585d1a04ae7cb1402c</td>\n",
       "    </tr>\n",
       "    <tr>\n",
       "      <th>2</th>\n",
       "      <td>3c534259798acc6e420079d1e072f543</td>\n",
       "      <td>ecce1003ca706c7b3d893112cb7ccc75</td>\n",
       "      <td>26b92e8986e593c134f6f8b9ac3000bb</td>\n",
       "    </tr>\n",
       "    <tr>\n",
       "      <th>4</th>\n",
       "      <td>9f3d3c3c3424e6baa52baed7b0cb10bc</td>\n",
       "      <td>3e36baf29d012aaa856dd542f6c2417e</td>\n",
       "      <td>ec315158e5d51cc07a3a50c521179933</td>\n",
       "    </tr>\n",
       "    <tr>\n",
       "      <th>6</th>\n",
       "      <td>9f3d3c3c3424e6baa52baed7b0cb10bc</td>\n",
       "      <td>ecce1003ca706c7b3d893112cb7ccc75</td>\n",
       "      <td>4a48f637117416787255a9fd1125c2d0</td>\n",
       "    </tr>\n",
       "    <tr>\n",
       "      <th>8</th>\n",
       "      <td>4ed577964e2144cdb040ffc04428e132</td>\n",
       "      <td>3e36baf29d012aaa856dd542f6c2417e</td>\n",
       "      <td>34be200a87fe1457d8a51dbd039aee89</td>\n",
       "    </tr>\n",
       "    <tr>\n",
       "      <th>...</th>\n",
       "      <td>...</td>\n",
       "      <td>...</td>\n",
       "      <td>...</td>\n",
       "    </tr>\n",
       "    <tr>\n",
       "      <th>2228</th>\n",
       "      <td>d1356ddced7c750ae9fd9bd14c783fb1</td>\n",
       "      <td>8a1fe08e4fe721e387ccc964d51f230c</td>\n",
       "      <td>b14ebbbf11296a6974b81fc30a445c2a</td>\n",
       "    </tr>\n",
       "    <tr>\n",
       "      <th>2229</th>\n",
       "      <td>d1356ddced7c750ae9fd9bd14c783fb1</td>\n",
       "      <td>8f6a8a487e0ff24d1173298e3d1aa0c4</td>\n",
       "      <td>0284e60936a434afd7324467d798538a</td>\n",
       "    </tr>\n",
       "    <tr>\n",
       "      <th>2230</th>\n",
       "      <td>d1356ddced7c750ae9fd9bd14c783fb1</td>\n",
       "      <td>aea14597b0f40ebb0cd02a1e083d78c8</td>\n",
       "      <td>f855dfc5ef3e22abe45cc2008d0b1a5e</td>\n",
       "    </tr>\n",
       "    <tr>\n",
       "      <th>2231</th>\n",
       "      <td>d1356ddced7c750ae9fd9bd14c783fb1</td>\n",
       "      <td>7be36eb95e087a27e90e1f1ad780a682</td>\n",
       "      <td>77c59384c47b7e5ae6fa38d98e99e316</td>\n",
       "    </tr>\n",
       "    <tr>\n",
       "      <th>2232</th>\n",
       "      <td>d1356ddced7c750ae9fd9bd14c783fb1</td>\n",
       "      <td>cf4e6a30431461f685d0883d81cd2a3e</td>\n",
       "      <td>dab7ae3227af010a9b2eabc16a7a71d0</td>\n",
       "    </tr>\n",
       "  </tbody>\n",
       "</table>\n",
       "<p>1520 rows × 3 columns</p>\n",
       "</div>"
      ],
      "text/plain": [
       "                           tracking_id                               uid  \\\n",
       "0     3c534259798acc6e420079d1e072f543  3e36baf29d012aaa856dd542f6c2417e   \n",
       "2     3c534259798acc6e420079d1e072f543  ecce1003ca706c7b3d893112cb7ccc75   \n",
       "4     9f3d3c3c3424e6baa52baed7b0cb10bc  3e36baf29d012aaa856dd542f6c2417e   \n",
       "6     9f3d3c3c3424e6baa52baed7b0cb10bc  ecce1003ca706c7b3d893112cb7ccc75   \n",
       "8     4ed577964e2144cdb040ffc04428e132  3e36baf29d012aaa856dd542f6c2417e   \n",
       "...                                ...                               ...   \n",
       "2228  d1356ddced7c750ae9fd9bd14c783fb1  8a1fe08e4fe721e387ccc964d51f230c   \n",
       "2229  d1356ddced7c750ae9fd9bd14c783fb1  8f6a8a487e0ff24d1173298e3d1aa0c4   \n",
       "2230  d1356ddced7c750ae9fd9bd14c783fb1  aea14597b0f40ebb0cd02a1e083d78c8   \n",
       "2231  d1356ddced7c750ae9fd9bd14c783fb1  7be36eb95e087a27e90e1f1ad780a682   \n",
       "2232  d1356ddced7c750ae9fd9bd14c783fb1  cf4e6a30431461f685d0883d81cd2a3e   \n",
       "\n",
       "                        allegation_uid  \n",
       "0     632c6c8ef88352585d1a04ae7cb1402c  \n",
       "2     26b92e8986e593c134f6f8b9ac3000bb  \n",
       "4     ec315158e5d51cc07a3a50c521179933  \n",
       "6     4a48f637117416787255a9fd1125c2d0  \n",
       "8     34be200a87fe1457d8a51dbd039aee89  \n",
       "...                                ...  \n",
       "2228  b14ebbbf11296a6974b81fc30a445c2a  \n",
       "2229  0284e60936a434afd7324467d798538a  \n",
       "2230  f855dfc5ef3e22abe45cc2008d0b1a5e  \n",
       "2231  77c59384c47b7e5ae6fa38d98e99e316  \n",
       "2232  dab7ae3227af010a9b2eabc16a7a71d0  \n",
       "\n",
       "[1520 rows x 3 columns]"
      ]
     },
     "execution_count": 20,
     "metadata": {},
     "output_type": "execute_result"
    }
   ],
   "source": [
    "df = df[[\"allegation_uid\", \"tracking_id\", \"uid\"]]\n",
    "clusters = pd.merge(clusters, df, on=[\"uid\", \"tracking_id\"])\n",
    "clusters = clusters.drop_duplicates(subset=[\"allegation_uid\"])\n",
    "clusters"
   ]
  },
  {
   "cell_type": "code",
   "execution_count": 21,
   "metadata": {},
   "outputs": [],
   "source": [
    "clusters.to_csv(deba.data(\"analysis/coaccusals_allegation.csv\"), index=False)"
   ]
  }
 ],
 "metadata": {
  "kernelspec": {
   "display_name": "Python 3.9.11 64-bit",
   "language": "python",
   "name": "python3"
  },
  "language_info": {
   "codemirror_mode": {
    "name": "ipython",
    "version": 3
   },
   "file_extension": ".py",
   "mimetype": "text/x-python",
   "name": "python",
   "nbconvert_exporter": "python",
   "pygments_lexer": "ipython3",
   "version": "3.9.11"
  },
  "orig_nbformat": 4,
  "vscode": {
   "interpreter": {
    "hash": "f6c8f846148a3e4d140e6ddf63c190cff559dcf260a4a21539f0978f2b58638c"
   }
  }
 },
 "nbformat": 4,
 "nbformat_minor": 2
}

{
 "metadata": {
  "language_info": {
   "codemirror_mode": {
    "name": "ipython",
    "version": 3
   },
   "file_extension": ".py",
   "mimetype": "text/x-python",
   "name": "python",
   "nbconvert_exporter": "python",
   "pygments_lexer": "ipython3",
   "version": "3.8.3-final"
  },
  "orig_nbformat": 2,
  "kernelspec": {
   "name": "python383jvsc74a57bd0759d03fc00c4e55187619d7bc1e0b6a3309d14c7c00d43a321634150e05678f8",
   "display_name": "Python 3.8.3 64-bit ('base': conda)"
  }
 },
 "nbformat": 4,
 "nbformat_minor": 2,
 "cells": [
  {
   "cell_type": "code",
   "execution_count": 1,
   "metadata": {},
   "outputs": [],
   "source": [
    "import sys; sys.path.append('../')\n",
    "import pandas as pd\n",
    "\n",
    "from lib.post import prepare_post\n",
    "from clean.mandeville_pd import clean_pprr_20, clean_cprr_19\n",
    "from match.mandeville_pd import match_cprr_with_pprr, match_pprr_against_post"
   ]
  },
  {
   "cell_type": "code",
   "execution_count": 2,
   "metadata": {},
   "outputs": [
    {
     "output_type": "stream",
     "name": "stderr",
     "text": [
      "../lib/clean.py:166: FutureWarning: The default value of regex will change from True to False in a future version.\n  return series.str.strip().str.replace(r\"[^\\w-]+\", \" \").str.replace(r\"\\s+\", \" \")\\\n../lib/clean.py:156: FutureWarning: The default value of regex will change from True to False in a future version.\n  return series.str.strip().str.replace(r\"[^\\d\\.]\", \"\").astype(\"float64\")\n"
     ]
    },
    {
     "output_type": "execute_result",
     "data": {
      "text/plain": [
       "    last_name first_name  badge_no                   rank_desc  annual_salary  \\\n",
       "0       andel      lloyd       217                     officer            NaN   \n",
       "1        foil    william       190                  lieutenant       73819.20   \n",
       "2   arceneaux       clay       236  officer community policing       39945.36   \n",
       "3       babin       lara       250                     officer       36188.88   \n",
       "4       baehr    stephen       245                     officer       38984.40   \n",
       "..        ...        ...       ...                         ...            ...   \n",
       "79      white      becky       226                     officer            NaN   \n",
       "80      white        ben       147                     officer            NaN   \n",
       "81  whitehead     minton       150        lieutenant detective            NaN   \n",
       "82    winther    shannon       194                     officer       55120.00   \n",
       "83    workman       john       227                     officer       44094.96   \n",
       "\n",
       "   term_year term_day term_month  hire_year  hire_day  hire_month  \\\n",
       "0       2013       24          4       2010        20          10   \n",
       "1                                      2000        24           7   \n",
       "2                                      2018         3           1   \n",
       "3                                      2020        29           1   \n",
       "4                                      2019        23          10   \n",
       "..       ...      ...        ...        ...       ...         ...   \n",
       "79      2017       13          4       2013         4          12   \n",
       "80      2004       31          8       1987        23           5   \n",
       "81      2017       23          4       1989        29           6   \n",
       "82                                     2001        19           3   \n",
       "83                                     2014        28           5   \n",
       "\n",
       "           agency  data_production_year                               uid  \n",
       "0   Mandeville PD                  2020  561f94919fcce171fcb220e0314fd1cb  \n",
       "1   Mandeville PD                  2020  60f5039f77f4863504dfa334ead91bd7  \n",
       "2   Mandeville PD                  2020  7b9ee98eba19f928dae419de99c33ce6  \n",
       "3   Mandeville PD                  2020  5d5ebf7df293917b6ed072445cbca0de  \n",
       "4   Mandeville PD                  2020  eff79ed4fc9f54aff66eeb9fe1b73302  \n",
       "..            ...                   ...                               ...  \n",
       "79  Mandeville PD                  2020  fab998a03e07db446f313ebeb2ff45ab  \n",
       "80  Mandeville PD                  2020  626fc2abf0bb4d66769779407d58f9dc  \n",
       "81  Mandeville PD                  2020  64bbb10b8ad3f788fc15ee42ad84ff40  \n",
       "82  Mandeville PD                  2020  b6de1ad756e6cfcc81cc8611def0219f  \n",
       "83  Mandeville PD                  2020  3de9e5d2d2dd822d79206466f0299181  \n",
       "\n",
       "[84 rows x 14 columns]"
      ],
      "text/html": "<div>\n<style scoped>\n    .dataframe tbody tr th:only-of-type {\n        vertical-align: middle;\n    }\n\n    .dataframe tbody tr th {\n        vertical-align: top;\n    }\n\n    .dataframe thead th {\n        text-align: right;\n    }\n</style>\n<table border=\"1\" class=\"dataframe\">\n  <thead>\n    <tr style=\"text-align: right;\">\n      <th></th>\n      <th>last_name</th>\n      <th>first_name</th>\n      <th>badge_no</th>\n      <th>rank_desc</th>\n      <th>annual_salary</th>\n      <th>term_year</th>\n      <th>term_day</th>\n      <th>term_month</th>\n      <th>hire_year</th>\n      <th>hire_day</th>\n      <th>hire_month</th>\n      <th>agency</th>\n      <th>data_production_year</th>\n      <th>uid</th>\n    </tr>\n  </thead>\n  <tbody>\n    <tr>\n      <th>0</th>\n      <td>andel</td>\n      <td>lloyd</td>\n      <td>217</td>\n      <td>officer</td>\n      <td>NaN</td>\n      <td>2013</td>\n      <td>24</td>\n      <td>4</td>\n      <td>2010</td>\n      <td>20</td>\n      <td>10</td>\n      <td>Mandeville PD</td>\n      <td>2020</td>\n      <td>561f94919fcce171fcb220e0314fd1cb</td>\n    </tr>\n    <tr>\n      <th>1</th>\n      <td>foil</td>\n      <td>william</td>\n      <td>190</td>\n      <td>lieutenant</td>\n      <td>73819.20</td>\n      <td></td>\n      <td></td>\n      <td></td>\n      <td>2000</td>\n      <td>24</td>\n      <td>7</td>\n      <td>Mandeville PD</td>\n      <td>2020</td>\n      <td>60f5039f77f4863504dfa334ead91bd7</td>\n    </tr>\n    <tr>\n      <th>2</th>\n      <td>arceneaux</td>\n      <td>clay</td>\n      <td>236</td>\n      <td>officer community policing</td>\n      <td>39945.36</td>\n      <td></td>\n      <td></td>\n      <td></td>\n      <td>2018</td>\n      <td>3</td>\n      <td>1</td>\n      <td>Mandeville PD</td>\n      <td>2020</td>\n      <td>7b9ee98eba19f928dae419de99c33ce6</td>\n    </tr>\n    <tr>\n      <th>3</th>\n      <td>babin</td>\n      <td>lara</td>\n      <td>250</td>\n      <td>officer</td>\n      <td>36188.88</td>\n      <td></td>\n      <td></td>\n      <td></td>\n      <td>2020</td>\n      <td>29</td>\n      <td>1</td>\n      <td>Mandeville PD</td>\n      <td>2020</td>\n      <td>5d5ebf7df293917b6ed072445cbca0de</td>\n    </tr>\n    <tr>\n      <th>4</th>\n      <td>baehr</td>\n      <td>stephen</td>\n      <td>245</td>\n      <td>officer</td>\n      <td>38984.40</td>\n      <td></td>\n      <td></td>\n      <td></td>\n      <td>2019</td>\n      <td>23</td>\n      <td>10</td>\n      <td>Mandeville PD</td>\n      <td>2020</td>\n      <td>eff79ed4fc9f54aff66eeb9fe1b73302</td>\n    </tr>\n    <tr>\n      <th>...</th>\n      <td>...</td>\n      <td>...</td>\n      <td>...</td>\n      <td>...</td>\n      <td>...</td>\n      <td>...</td>\n      <td>...</td>\n      <td>...</td>\n      <td>...</td>\n      <td>...</td>\n      <td>...</td>\n      <td>...</td>\n      <td>...</td>\n      <td>...</td>\n    </tr>\n    <tr>\n      <th>79</th>\n      <td>white</td>\n      <td>becky</td>\n      <td>226</td>\n      <td>officer</td>\n      <td>NaN</td>\n      <td>2017</td>\n      <td>13</td>\n      <td>4</td>\n      <td>2013</td>\n      <td>4</td>\n      <td>12</td>\n      <td>Mandeville PD</td>\n      <td>2020</td>\n      <td>fab998a03e07db446f313ebeb2ff45ab</td>\n    </tr>\n    <tr>\n      <th>80</th>\n      <td>white</td>\n      <td>ben</td>\n      <td>147</td>\n      <td>officer</td>\n      <td>NaN</td>\n      <td>2004</td>\n      <td>31</td>\n      <td>8</td>\n      <td>1987</td>\n      <td>23</td>\n      <td>5</td>\n      <td>Mandeville PD</td>\n      <td>2020</td>\n      <td>626fc2abf0bb4d66769779407d58f9dc</td>\n    </tr>\n    <tr>\n      <th>81</th>\n      <td>whitehead</td>\n      <td>minton</td>\n      <td>150</td>\n      <td>lieutenant detective</td>\n      <td>NaN</td>\n      <td>2017</td>\n      <td>23</td>\n      <td>4</td>\n      <td>1989</td>\n      <td>29</td>\n      <td>6</td>\n      <td>Mandeville PD</td>\n      <td>2020</td>\n      <td>64bbb10b8ad3f788fc15ee42ad84ff40</td>\n    </tr>\n    <tr>\n      <th>82</th>\n      <td>winther</td>\n      <td>shannon</td>\n      <td>194</td>\n      <td>officer</td>\n      <td>55120.00</td>\n      <td></td>\n      <td></td>\n      <td></td>\n      <td>2001</td>\n      <td>19</td>\n      <td>3</td>\n      <td>Mandeville PD</td>\n      <td>2020</td>\n      <td>b6de1ad756e6cfcc81cc8611def0219f</td>\n    </tr>\n    <tr>\n      <th>83</th>\n      <td>workman</td>\n      <td>john</td>\n      <td>227</td>\n      <td>officer</td>\n      <td>44094.96</td>\n      <td></td>\n      <td></td>\n      <td></td>\n      <td>2014</td>\n      <td>28</td>\n      <td>5</td>\n      <td>Mandeville PD</td>\n      <td>2020</td>\n      <td>3de9e5d2d2dd822d79206466f0299181</td>\n    </tr>\n  </tbody>\n</table>\n<p>84 rows × 14 columns</p>\n</div>"
     },
     "metadata": {},
     "execution_count": 2
    }
   ],
   "source": [
    "pprr = clean_pprr_20()\n",
    "pprr"
   ]
  },
  {
   "cell_type": "code",
   "execution_count": 3,
   "metadata": {},
   "outputs": [
    {
     "output_type": "execute_result",
     "data": {
      "text/plain": [
       "Empty DataFrame\n",
       "Columns: [last_name, first_name, badge_no, rank_desc, annual_salary, term_year, term_day, term_month, hire_year, hire_day, hire_month, agency, data_production_year, uid]\n",
       "Index: []"
      ],
      "text/html": "<div>\n<style scoped>\n    .dataframe tbody tr th:only-of-type {\n        vertical-align: middle;\n    }\n\n    .dataframe tbody tr th {\n        vertical-align: top;\n    }\n\n    .dataframe thead th {\n        text-align: right;\n    }\n</style>\n<table border=\"1\" class=\"dataframe\">\n  <thead>\n    <tr style=\"text-align: right;\">\n      <th></th>\n      <th>last_name</th>\n      <th>first_name</th>\n      <th>badge_no</th>\n      <th>rank_desc</th>\n      <th>annual_salary</th>\n      <th>term_year</th>\n      <th>term_day</th>\n      <th>term_month</th>\n      <th>hire_year</th>\n      <th>hire_day</th>\n      <th>hire_month</th>\n      <th>agency</th>\n      <th>data_production_year</th>\n      <th>uid</th>\n    </tr>\n  </thead>\n  <tbody>\n  </tbody>\n</table>\n</div>"
     },
     "metadata": {},
     "execution_count": 3
    }
   ],
   "source": [
    "pprr[pprr.uid.duplicated()]"
   ]
  },
  {
   "cell_type": "code",
   "execution_count": 4,
   "metadata": {},
   "outputs": [
    {
     "output_type": "stream",
     "name": "stderr",
     "text": [
      "../lib/clean.py:166: FutureWarning: The default value of regex will change from True to False in a future version.\n  return series.str.strip().str.replace(r\"[^\\w-]+\", \" \").str.replace(r\"\\s+\", \" \")\\\n"
     ]
    },
    {
     "output_type": "execute_result",
     "data": {
      "text/plain": [
       "  tracking_number   rank_desc last_name  receive_year  receive_month  \\\n",
       "0           19-01  lieutenant     orman          2019              5   \n",
       "1           19-02     officer   garlind          2019              5   \n",
       "2           19-03  lieutenant     orman          2019              6   \n",
       "3           19-04     captain   liberto          2019              9   \n",
       "\n",
       "   receive_day occur_year occur_month occur_day  \\\n",
       "0           15                                    \n",
       "1           17                                    \n",
       "2           13       2019           6        12   \n",
       "3           12       2019           8        25   \n",
       "\n",
       "                                 charges               disposition  \\\n",
       "0  unbecoming behavior/sexual harassment                 sustained   \n",
       "1                    unbecoming behavior                 unfounded   \n",
       "2     conduct unbecoming/false detention                 sustained   \n",
       "3                        misuse of funds  captain liberto deceased   \n",
       "\n",
       "           comments  investigation_complete_year  \\\n",
       "0               NaN                         2019   \n",
       "1               NaN                         2019   \n",
       "2               NaN                         2019   \n",
       "3  killed 9/20/2019                         2020   \n",
       "\n",
       "   investigation_complete_month  investigation_complete_day  \\\n",
       "0                             6                          19   \n",
       "1                             6                          10   \n",
       "2                             8                           8   \n",
       "3                             9                          20   \n",
       "\n",
       "            investigating_officer         agency  data_production_year  \\\n",
       "0  greenwood; miazza; j. anderson  Mandeville PD                  2020   \n",
       "1                       greenwood  Mandeville PD                  2020   \n",
       "2                          miazza  Mandeville PD                  2020   \n",
       "3                       greenwood  Mandeville PD                  2020   \n",
       "\n",
       "                                uid                     complaint_uid  \n",
       "0  92851706b1552c00c11abc23a52bdf49  490548807df300b23cddd017c11573db  \n",
       "1  20b1b225c7710ed18c5d85481c3f0a16  22ac1f53a0a6bb5f0b37f32734cc3f44  \n",
       "2  92851706b1552c00c11abc23a52bdf49  49801c28bc0c2f00f4c3024b503dfe2d  \n",
       "3  55096c5bf5aa85c9cb7c7057d58868b6  f96438cd99773bf10ca9c985f663a0b3  "
      ],
      "text/html": "<div>\n<style scoped>\n    .dataframe tbody tr th:only-of-type {\n        vertical-align: middle;\n    }\n\n    .dataframe tbody tr th {\n        vertical-align: top;\n    }\n\n    .dataframe thead th {\n        text-align: right;\n    }\n</style>\n<table border=\"1\" class=\"dataframe\">\n  <thead>\n    <tr style=\"text-align: right;\">\n      <th></th>\n      <th>tracking_number</th>\n      <th>rank_desc</th>\n      <th>last_name</th>\n      <th>receive_year</th>\n      <th>receive_month</th>\n      <th>receive_day</th>\n      <th>occur_year</th>\n      <th>occur_month</th>\n      <th>occur_day</th>\n      <th>charges</th>\n      <th>disposition</th>\n      <th>comments</th>\n      <th>investigation_complete_year</th>\n      <th>investigation_complete_month</th>\n      <th>investigation_complete_day</th>\n      <th>investigating_officer</th>\n      <th>agency</th>\n      <th>data_production_year</th>\n      <th>uid</th>\n      <th>complaint_uid</th>\n    </tr>\n  </thead>\n  <tbody>\n    <tr>\n      <th>0</th>\n      <td>19-01</td>\n      <td>lieutenant</td>\n      <td>orman</td>\n      <td>2019</td>\n      <td>5</td>\n      <td>15</td>\n      <td></td>\n      <td></td>\n      <td></td>\n      <td>unbecoming behavior/sexual harassment</td>\n      <td>sustained</td>\n      <td>NaN</td>\n      <td>2019</td>\n      <td>6</td>\n      <td>19</td>\n      <td>greenwood; miazza; j. anderson</td>\n      <td>Mandeville PD</td>\n      <td>2020</td>\n      <td>92851706b1552c00c11abc23a52bdf49</td>\n      <td>490548807df300b23cddd017c11573db</td>\n    </tr>\n    <tr>\n      <th>1</th>\n      <td>19-02</td>\n      <td>officer</td>\n      <td>garlind</td>\n      <td>2019</td>\n      <td>5</td>\n      <td>17</td>\n      <td></td>\n      <td></td>\n      <td></td>\n      <td>unbecoming behavior</td>\n      <td>unfounded</td>\n      <td>NaN</td>\n      <td>2019</td>\n      <td>6</td>\n      <td>10</td>\n      <td>greenwood</td>\n      <td>Mandeville PD</td>\n      <td>2020</td>\n      <td>20b1b225c7710ed18c5d85481c3f0a16</td>\n      <td>22ac1f53a0a6bb5f0b37f32734cc3f44</td>\n    </tr>\n    <tr>\n      <th>2</th>\n      <td>19-03</td>\n      <td>lieutenant</td>\n      <td>orman</td>\n      <td>2019</td>\n      <td>6</td>\n      <td>13</td>\n      <td>2019</td>\n      <td>6</td>\n      <td>12</td>\n      <td>conduct unbecoming/false detention</td>\n      <td>sustained</td>\n      <td>NaN</td>\n      <td>2019</td>\n      <td>8</td>\n      <td>8</td>\n      <td>miazza</td>\n      <td>Mandeville PD</td>\n      <td>2020</td>\n      <td>92851706b1552c00c11abc23a52bdf49</td>\n      <td>49801c28bc0c2f00f4c3024b503dfe2d</td>\n    </tr>\n    <tr>\n      <th>3</th>\n      <td>19-04</td>\n      <td>captain</td>\n      <td>liberto</td>\n      <td>2019</td>\n      <td>9</td>\n      <td>12</td>\n      <td>2019</td>\n      <td>8</td>\n      <td>25</td>\n      <td>misuse of funds</td>\n      <td>captain liberto deceased</td>\n      <td>killed 9/20/2019</td>\n      <td>2020</td>\n      <td>9</td>\n      <td>20</td>\n      <td>greenwood</td>\n      <td>Mandeville PD</td>\n      <td>2020</td>\n      <td>55096c5bf5aa85c9cb7c7057d58868b6</td>\n      <td>f96438cd99773bf10ca9c985f663a0b3</td>\n    </tr>\n  </tbody>\n</table>\n</div>"
     },
     "metadata": {},
     "execution_count": 4
    }
   ],
   "source": [
    "cprr = clean_cprr_19()\n",
    "cprr"
   ]
  },
  {
   "cell_type": "code",
   "execution_count": 5,
   "metadata": {},
   "outputs": [],
   "source": [
    "# matcher = match_cprr_with_pprr(cprr, pprr)\n",
    "# matcher.get_sample_pairs()"
   ]
  },
  {
   "cell_type": "code",
   "execution_count": 6,
   "metadata": {},
   "outputs": [
    {
     "output_type": "stream",
     "name": "stderr",
     "text": [
      "/Users/khoipham/opt/anaconda3/lib/python3.8/site-packages/pandas/core/indexing.py:1596: SettingWithCopyWarning: \nA value is trying to be set on a copy of a slice from a DataFrame.\nTry using .loc[row_indexer,col_indexer] = value instead\n\nSee the caveats in the documentation: https://pandas.pydata.org/pandas-docs/stable/user_guide/indexing.html#returning-a-view-versus-a-copy\n  self.obj[key] = value\n/Users/khoipham/opt/anaconda3/lib/python3.8/site-packages/pandas/core/indexing.py:1675: SettingWithCopyWarning: \nA value is trying to be set on a copy of a slice from a DataFrame.\nTry using .loc[row_indexer,col_indexer] = value instead\n\nSee the caveats in the documentation: https://pandas.pydata.org/pandas-docs/stable/user_guide/indexing.html#returning-a-view-versus-a-copy\n  self._setitem_single_column(ilocs[0], value, pi)\n"
     ]
    },
    {
     "output_type": "execute_result",
     "data": {
      "text/plain": [
       "    last_name first_name  badge_no                   rank_desc  annual_salary  \\\n",
       "0       andel      lloyd       217                     officer            NaN   \n",
       "1        foil    william       190                  lieutenant       73819.20   \n",
       "2   arceneaux       clay       236  officer community policing       39945.36   \n",
       "3       babin       lara       250                     officer       36188.88   \n",
       "4       baehr    stephen       245                     officer       38984.40   \n",
       "..        ...        ...       ...                         ...            ...   \n",
       "79      white      becky       226                     officer            NaN   \n",
       "80      white        ben       147                     officer            NaN   \n",
       "81  whitehead     minton       150        lieutenant detective            NaN   \n",
       "82    winther    shannon       194                     officer       55120.00   \n",
       "83    workman       john       227                     officer       44094.96   \n",
       "\n",
       "   term_year term_day term_month  hire_year  hire_day  hire_month  \\\n",
       "0       2013       24          4       2010        20          10   \n",
       "1                                      2000        24           7   \n",
       "2                                      2018         3           1   \n",
       "3                                      2020        29           1   \n",
       "4                                      2019        23          10   \n",
       "..       ...      ...        ...        ...       ...         ...   \n",
       "79      2017       13          4       2013         4          12   \n",
       "80      2004       31          8       1987        23           5   \n",
       "81      2017       23          4       1989        29           6   \n",
       "82                                     2001        19           3   \n",
       "83                                     2014        28           5   \n",
       "\n",
       "           agency  data_production_year                               uid  \\\n",
       "0   Mandeville PD                  2020  561f94919fcce171fcb220e0314fd1cb   \n",
       "1   Mandeville PD                  2020  60f5039f77f4863504dfa334ead91bd7   \n",
       "2   Mandeville PD                  2020  7b9ee98eba19f928dae419de99c33ce6   \n",
       "3   Mandeville PD                  2020  5d5ebf7df293917b6ed072445cbca0de   \n",
       "4   Mandeville PD                  2020  eff79ed4fc9f54aff66eeb9fe1b73302   \n",
       "..            ...                   ...                               ...   \n",
       "79  Mandeville PD                  2020  fab998a03e07db446f313ebeb2ff45ab   \n",
       "80  Mandeville PD                  2020  626fc2abf0bb4d66769779407d58f9dc   \n",
       "81  Mandeville PD                  2020  64bbb10b8ad3f788fc15ee42ad84ff40   \n",
       "82  Mandeville PD                  2020  b6de1ad756e6cfcc81cc8611def0219f   \n",
       "83  Mandeville PD                  2020  3de9e5d2d2dd822d79206466f0299181   \n",
       "\n",
       "   level_1_cert_date last_pc_12_qualification_date  \n",
       "0                                                   \n",
       "1                NaN                    2020-04-01  \n",
       "2         2004-07-21                    2020-03-31  \n",
       "3                                                   \n",
       "4         2019-11-04                    2020-03-23  \n",
       "..               ...                           ...  \n",
       "79                                                  \n",
       "80                                                  \n",
       "81                                                  \n",
       "82        2002-03-27                    2020-03-26  \n",
       "83        2013-10-24                    2020-03-24  \n",
       "\n",
       "[84 rows x 16 columns]"
      ],
      "text/html": "<div>\n<style scoped>\n    .dataframe tbody tr th:only-of-type {\n        vertical-align: middle;\n    }\n\n    .dataframe tbody tr th {\n        vertical-align: top;\n    }\n\n    .dataframe thead th {\n        text-align: right;\n    }\n</style>\n<table border=\"1\" class=\"dataframe\">\n  <thead>\n    <tr style=\"text-align: right;\">\n      <th></th>\n      <th>last_name</th>\n      <th>first_name</th>\n      <th>badge_no</th>\n      <th>rank_desc</th>\n      <th>annual_salary</th>\n      <th>term_year</th>\n      <th>term_day</th>\n      <th>term_month</th>\n      <th>hire_year</th>\n      <th>hire_day</th>\n      <th>hire_month</th>\n      <th>agency</th>\n      <th>data_production_year</th>\n      <th>uid</th>\n      <th>level_1_cert_date</th>\n      <th>last_pc_12_qualification_date</th>\n    </tr>\n  </thead>\n  <tbody>\n    <tr>\n      <th>0</th>\n      <td>andel</td>\n      <td>lloyd</td>\n      <td>217</td>\n      <td>officer</td>\n      <td>NaN</td>\n      <td>2013</td>\n      <td>24</td>\n      <td>4</td>\n      <td>2010</td>\n      <td>20</td>\n      <td>10</td>\n      <td>Mandeville PD</td>\n      <td>2020</td>\n      <td>561f94919fcce171fcb220e0314fd1cb</td>\n      <td></td>\n      <td></td>\n    </tr>\n    <tr>\n      <th>1</th>\n      <td>foil</td>\n      <td>william</td>\n      <td>190</td>\n      <td>lieutenant</td>\n      <td>73819.20</td>\n      <td></td>\n      <td></td>\n      <td></td>\n      <td>2000</td>\n      <td>24</td>\n      <td>7</td>\n      <td>Mandeville PD</td>\n      <td>2020</td>\n      <td>60f5039f77f4863504dfa334ead91bd7</td>\n      <td>NaN</td>\n      <td>2020-04-01</td>\n    </tr>\n    <tr>\n      <th>2</th>\n      <td>arceneaux</td>\n      <td>clay</td>\n      <td>236</td>\n      <td>officer community policing</td>\n      <td>39945.36</td>\n      <td></td>\n      <td></td>\n      <td></td>\n      <td>2018</td>\n      <td>3</td>\n      <td>1</td>\n      <td>Mandeville PD</td>\n      <td>2020</td>\n      <td>7b9ee98eba19f928dae419de99c33ce6</td>\n      <td>2004-07-21</td>\n      <td>2020-03-31</td>\n    </tr>\n    <tr>\n      <th>3</th>\n      <td>babin</td>\n      <td>lara</td>\n      <td>250</td>\n      <td>officer</td>\n      <td>36188.88</td>\n      <td></td>\n      <td></td>\n      <td></td>\n      <td>2020</td>\n      <td>29</td>\n      <td>1</td>\n      <td>Mandeville PD</td>\n      <td>2020</td>\n      <td>5d5ebf7df293917b6ed072445cbca0de</td>\n      <td></td>\n      <td></td>\n    </tr>\n    <tr>\n      <th>4</th>\n      <td>baehr</td>\n      <td>stephen</td>\n      <td>245</td>\n      <td>officer</td>\n      <td>38984.40</td>\n      <td></td>\n      <td></td>\n      <td></td>\n      <td>2019</td>\n      <td>23</td>\n      <td>10</td>\n      <td>Mandeville PD</td>\n      <td>2020</td>\n      <td>eff79ed4fc9f54aff66eeb9fe1b73302</td>\n      <td>2019-11-04</td>\n      <td>2020-03-23</td>\n    </tr>\n    <tr>\n      <th>...</th>\n      <td>...</td>\n      <td>...</td>\n      <td>...</td>\n      <td>...</td>\n      <td>...</td>\n      <td>...</td>\n      <td>...</td>\n      <td>...</td>\n      <td>...</td>\n      <td>...</td>\n      <td>...</td>\n      <td>...</td>\n      <td>...</td>\n      <td>...</td>\n      <td>...</td>\n      <td>...</td>\n    </tr>\n    <tr>\n      <th>79</th>\n      <td>white</td>\n      <td>becky</td>\n      <td>226</td>\n      <td>officer</td>\n      <td>NaN</td>\n      <td>2017</td>\n      <td>13</td>\n      <td>4</td>\n      <td>2013</td>\n      <td>4</td>\n      <td>12</td>\n      <td>Mandeville PD</td>\n      <td>2020</td>\n      <td>fab998a03e07db446f313ebeb2ff45ab</td>\n      <td></td>\n      <td></td>\n    </tr>\n    <tr>\n      <th>80</th>\n      <td>white</td>\n      <td>ben</td>\n      <td>147</td>\n      <td>officer</td>\n      <td>NaN</td>\n      <td>2004</td>\n      <td>31</td>\n      <td>8</td>\n      <td>1987</td>\n      <td>23</td>\n      <td>5</td>\n      <td>Mandeville PD</td>\n      <td>2020</td>\n      <td>626fc2abf0bb4d66769779407d58f9dc</td>\n      <td></td>\n      <td></td>\n    </tr>\n    <tr>\n      <th>81</th>\n      <td>whitehead</td>\n      <td>minton</td>\n      <td>150</td>\n      <td>lieutenant detective</td>\n      <td>NaN</td>\n      <td>2017</td>\n      <td>23</td>\n      <td>4</td>\n      <td>1989</td>\n      <td>29</td>\n      <td>6</td>\n      <td>Mandeville PD</td>\n      <td>2020</td>\n      <td>64bbb10b8ad3f788fc15ee42ad84ff40</td>\n      <td></td>\n      <td></td>\n    </tr>\n    <tr>\n      <th>82</th>\n      <td>winther</td>\n      <td>shannon</td>\n      <td>194</td>\n      <td>officer</td>\n      <td>55120.00</td>\n      <td></td>\n      <td></td>\n      <td></td>\n      <td>2001</td>\n      <td>19</td>\n      <td>3</td>\n      <td>Mandeville PD</td>\n      <td>2020</td>\n      <td>b6de1ad756e6cfcc81cc8611def0219f</td>\n      <td>2002-03-27</td>\n      <td>2020-03-26</td>\n    </tr>\n    <tr>\n      <th>83</th>\n      <td>workman</td>\n      <td>john</td>\n      <td>227</td>\n      <td>officer</td>\n      <td>44094.96</td>\n      <td></td>\n      <td></td>\n      <td></td>\n      <td>2014</td>\n      <td>28</td>\n      <td>5</td>\n      <td>Mandeville PD</td>\n      <td>2020</td>\n      <td>3de9e5d2d2dd822d79206466f0299181</td>\n      <td>2013-10-24</td>\n      <td>2020-03-24</td>\n    </tr>\n  </tbody>\n</table>\n<p>84 rows × 16 columns</p>\n</div>"
     },
     "metadata": {},
     "execution_count": 6
    }
   ],
   "source": [
    "post = prepare_post('mandeville pd')\n",
    "match_pprr_against_post(pprr, post)"
   ]
  },
  {
   "cell_type": "code",
   "execution_count": null,
   "metadata": {},
   "outputs": [],
   "source": []
  }
 ]
}
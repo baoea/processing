{
 "metadata": {
  "language_info": {
   "codemirror_mode": {
    "name": "ipython",
    "version": 3
   },
   "file_extension": ".py",
   "mimetype": "text/x-python",
   "name": "python",
   "nbconvert_exporter": "python",
   "pygments_lexer": "ipython3",
   "version": "3.8.3-final"
  },
  "orig_nbformat": 2,
  "kernelspec": {
   "name": "python3",
   "display_name": "Python 3",
   "language": "python"
  }
 },
 "nbformat": 4,
 "nbformat_minor": 2,
 "cells": [
  {
   "cell_type": "code",
   "execution_count": 1,
   "metadata": {},
   "outputs": [],
   "source": [
    "import sys; sys.path.append(\"../\")\n",
    "\n",
    "import pandas as pd\n",
    "\n",
    "from clean.post_pprr import clean\n",
    "from lib.uid import gen_uid\n",
    "from lib.date import combine_date_columns\n",
    "from lib.match import (\n",
    "    ColumnsIndex, StringSimilarity, JaroWinklerSimilarity, DateSimilarity, ThresholdMatcher\n",
    ")"
   ]
  },
  {
   "cell_type": "code",
   "execution_count": 2,
   "metadata": {},
   "outputs": [
    {
     "output_type": "stream",
     "name": "stderr",
     "text": [
      "../lib/clean.py:151: FutureWarning: The default value of regex will change from True to False in a future version.\n",
      "  return series.str.strip().str.replace(r\"[^\\w-]+\", \" \").str.replace(r\"\\s+\", \" \")\\\n",
      "../clean/post_pprr.py:13: FutureWarning: The default value of regex will change from True to False in a future version.\n",
      "  df.loc[:, \"agency\"] = df.agency.str.strip()\\\n"
     ]
    },
    {
     "output_type": "execute_result",
     "data": {
      "text/plain": [
       "                   agency  last_name first_name employment_status  \\\n",
       "0      14th jdc da office    abshire     dustin         full-time   \n",
       "1          17th da office      ourso     damian         full-time   \n",
       "2          17th da office     besson      bruce         full-time   \n",
       "3          17th da office      bourg      billy         full-time   \n",
       "4          19th da office  cadarette      steve         full-time   \n",
       "...                   ...        ...        ...               ...   \n",
       "38898      youngsville pd      fruge     hilary           reserve   \n",
       "38899      youngsville pd     mouton       todd           reserve   \n",
       "38900      youngsville pd    hidalgo     jeremy           reserve   \n",
       "38901          zachary pd  viccellio      david           reserve   \n",
       "38902          zachary pd     maurer       john           reserve   \n",
       "\n",
       "      level_1_cert_date last_pc_12_qualification_date hire_year hire_month  \\\n",
       "0            1998-06-11                    2010-10-27      2013         06   \n",
       "1            2004-05-13                    2010-10-07      2008         11   \n",
       "2                   NaT                    2008-01-26      1997         02   \n",
       "3            1991-04-24                    2010-10-07      1990         10   \n",
       "4            2003-08-28                    2020-04-28      2016         04   \n",
       "...                 ...                           ...       ...        ...   \n",
       "38898        2010-11-18                    2020-06-22      2017         11   \n",
       "38899               NaT                    2020-06-15      2017         07   \n",
       "38900               NaT                    2020-07-31      2017         12   \n",
       "38901               NaT                    2019-12-04      2019         12   \n",
       "38902               NaT                    2019-09-07      2017         05   \n",
       "\n",
       "      hire_day                               uid  \n",
       "0           01  43ee7cb8a15ca49e883372d3c99988e1  \n",
       "1           11  8875f7c0749a1de0923c1242a4363622  \n",
       "2           11  2c35336b17f9986c7547656bb72508fe  \n",
       "3           12  e17ebe5f0a893d9cb6aac11bf9673c32  \n",
       "4           11  84a22650eb29e5d7d17721d59c3a2fc6  \n",
       "...        ...                               ...  \n",
       "38898       27  2e785e632588b75ebe30c3651f80837c  \n",
       "38899       01  e2642ae3d8360270ac3b4cfd5d8c5ea4  \n",
       "38900       01  a5ca9eebadff5a86ea4e7dd507ba1f73  \n",
       "38901       03  3c6043ea0d02ebbab16968c88c9107f0  \n",
       "38902       25  095a275299489ede7eaa839daef8b6fe  \n",
       "\n",
       "[38903 rows x 10 columns]"
      ],
      "text/html": "<div>\n<style scoped>\n    .dataframe tbody tr th:only-of-type {\n        vertical-align: middle;\n    }\n\n    .dataframe tbody tr th {\n        vertical-align: top;\n    }\n\n    .dataframe thead th {\n        text-align: right;\n    }\n</style>\n<table border=\"1\" class=\"dataframe\">\n  <thead>\n    <tr style=\"text-align: right;\">\n      <th></th>\n      <th>agency</th>\n      <th>last_name</th>\n      <th>first_name</th>\n      <th>employment_status</th>\n      <th>level_1_cert_date</th>\n      <th>last_pc_12_qualification_date</th>\n      <th>hire_year</th>\n      <th>hire_month</th>\n      <th>hire_day</th>\n      <th>uid</th>\n    </tr>\n  </thead>\n  <tbody>\n    <tr>\n      <th>0</th>\n      <td>14th jdc da office</td>\n      <td>abshire</td>\n      <td>dustin</td>\n      <td>full-time</td>\n      <td>1998-06-11</td>\n      <td>2010-10-27</td>\n      <td>2013</td>\n      <td>06</td>\n      <td>01</td>\n      <td>43ee7cb8a15ca49e883372d3c99988e1</td>\n    </tr>\n    <tr>\n      <th>1</th>\n      <td>17th da office</td>\n      <td>ourso</td>\n      <td>damian</td>\n      <td>full-time</td>\n      <td>2004-05-13</td>\n      <td>2010-10-07</td>\n      <td>2008</td>\n      <td>11</td>\n      <td>11</td>\n      <td>8875f7c0749a1de0923c1242a4363622</td>\n    </tr>\n    <tr>\n      <th>2</th>\n      <td>17th da office</td>\n      <td>besson</td>\n      <td>bruce</td>\n      <td>full-time</td>\n      <td>NaT</td>\n      <td>2008-01-26</td>\n      <td>1997</td>\n      <td>02</td>\n      <td>11</td>\n      <td>2c35336b17f9986c7547656bb72508fe</td>\n    </tr>\n    <tr>\n      <th>3</th>\n      <td>17th da office</td>\n      <td>bourg</td>\n      <td>billy</td>\n      <td>full-time</td>\n      <td>1991-04-24</td>\n      <td>2010-10-07</td>\n      <td>1990</td>\n      <td>10</td>\n      <td>12</td>\n      <td>e17ebe5f0a893d9cb6aac11bf9673c32</td>\n    </tr>\n    <tr>\n      <th>4</th>\n      <td>19th da office</td>\n      <td>cadarette</td>\n      <td>steve</td>\n      <td>full-time</td>\n      <td>2003-08-28</td>\n      <td>2020-04-28</td>\n      <td>2016</td>\n      <td>04</td>\n      <td>11</td>\n      <td>84a22650eb29e5d7d17721d59c3a2fc6</td>\n    </tr>\n    <tr>\n      <th>...</th>\n      <td>...</td>\n      <td>...</td>\n      <td>...</td>\n      <td>...</td>\n      <td>...</td>\n      <td>...</td>\n      <td>...</td>\n      <td>...</td>\n      <td>...</td>\n      <td>...</td>\n    </tr>\n    <tr>\n      <th>38898</th>\n      <td>youngsville pd</td>\n      <td>fruge</td>\n      <td>hilary</td>\n      <td>reserve</td>\n      <td>2010-11-18</td>\n      <td>2020-06-22</td>\n      <td>2017</td>\n      <td>11</td>\n      <td>27</td>\n      <td>2e785e632588b75ebe30c3651f80837c</td>\n    </tr>\n    <tr>\n      <th>38899</th>\n      <td>youngsville pd</td>\n      <td>mouton</td>\n      <td>todd</td>\n      <td>reserve</td>\n      <td>NaT</td>\n      <td>2020-06-15</td>\n      <td>2017</td>\n      <td>07</td>\n      <td>01</td>\n      <td>e2642ae3d8360270ac3b4cfd5d8c5ea4</td>\n    </tr>\n    <tr>\n      <th>38900</th>\n      <td>youngsville pd</td>\n      <td>hidalgo</td>\n      <td>jeremy</td>\n      <td>reserve</td>\n      <td>NaT</td>\n      <td>2020-07-31</td>\n      <td>2017</td>\n      <td>12</td>\n      <td>01</td>\n      <td>a5ca9eebadff5a86ea4e7dd507ba1f73</td>\n    </tr>\n    <tr>\n      <th>38901</th>\n      <td>zachary pd</td>\n      <td>viccellio</td>\n      <td>david</td>\n      <td>reserve</td>\n      <td>NaT</td>\n      <td>2019-12-04</td>\n      <td>2019</td>\n      <td>12</td>\n      <td>03</td>\n      <td>3c6043ea0d02ebbab16968c88c9107f0</td>\n    </tr>\n    <tr>\n      <th>38902</th>\n      <td>zachary pd</td>\n      <td>maurer</td>\n      <td>john</td>\n      <td>reserve</td>\n      <td>NaT</td>\n      <td>2019-09-07</td>\n      <td>2017</td>\n      <td>05</td>\n      <td>25</td>\n      <td>095a275299489ede7eaa839daef8b6fe</td>\n    </tr>\n  </tbody>\n</table>\n<p>38903 rows × 10 columns</p>\n</div>"
     },
     "metadata": {},
     "execution_count": 2
    }
   ],
   "source": [
    "post = clean()\n",
    "post"
   ]
  },
  {
   "cell_type": "code",
   "execution_count": 3,
   "metadata": {},
   "outputs": [
    {
     "output_type": "execute_result",
     "data": {
      "text/plain": [
       "             agency    last_name first_name employment_status  \\\n",
       "9331   greenwood pd       morgan      jared         full-time   \n",
       "9332   greenwood pd        shaul     george         full-time   \n",
       "9333   greenwood pd       steele      jerry         full-time   \n",
       "9334   greenwood pd       bowers   rhiannon         full-time   \n",
       "9335   greenwood pd    hammersla     joseph         full-time   \n",
       "9336   greenwood pd  fertenbaugh      shawn         full-time   \n",
       "9337   greenwood pd        faris      chris         full-time   \n",
       "9338   greenwood pd       poarch      stacy         full-time   \n",
       "9339   greenwood pd    maldonado  alexander         full-time   \n",
       "9340   greenwood pd         owen      david         full-time   \n",
       "9341   greenwood pd       gibson     shayne         full-time   \n",
       "9342   greenwood pd       caston    michael         full-time   \n",
       "9343   greenwood pd         kyle    richard         full-time   \n",
       "9344   greenwood pd        brown     thomas         full-time   \n",
       "9345   greenwood pd       mcneil    russell         full-time   \n",
       "9346   greenwood pd         rosa      elvin         full-time   \n",
       "9347   greenwood pd     wheatley     lamond         full-time   \n",
       "9348   greenwood pd         fisk  mackenzie         full-time   \n",
       "9349   greenwood pd    fairbanks       cody         full-time   \n",
       "9350   greenwood pd     anderson      brian         full-time   \n",
       "9351   greenwood pd       draper     lauren         full-time   \n",
       "9352   greenwood pd        jones       adam         full-time   \n",
       "9353   greenwood pd       harris       laun         full-time   \n",
       "37203  greenwood pd     anderson   jennifer           reserve   \n",
       "\n",
       "      level_1_cert_date last_pc_12_qualification_date hire_year hire_month  \\\n",
       "9331         2008-06-06                    2012-09-12      2007         10   \n",
       "9332         2003-07-15                    2019-10-31      2008         07   \n",
       "9333         2007-03-08                    2020-10-21                        \n",
       "9334         2006-07-31                    2013-03-21      2006         07   \n",
       "9335                NaT                    2020-09-10      2020         08   \n",
       "9336         2007-03-20                    2019-10-31      2017         02   \n",
       "9337         2010-04-07                    2020-10-21                        \n",
       "9338         1998-06-04                    2012-01-09      2002         04   \n",
       "9339         2009-04-07                    2010-03-17      2009         01   \n",
       "9340                NaT                    2018-07-19      2011         02   \n",
       "9341         1995-12-08                    2019-10-31      2000         05   \n",
       "9342         2004-11-08                           NaT      2004         07   \n",
       "9343         2001-09-13                           NaT      2001         04   \n",
       "9344         1993-10-08                           NaT                        \n",
       "9345         1996-11-21                           NaT      1996         09   \n",
       "9346         2011-04-12                    2012-05-30      2010         10   \n",
       "9347         2011-12-09                    2019-05-30      2019         05   \n",
       "9348         2016-04-18                    2020-10-21      2019         02   \n",
       "9349                NaT                    2013-03-18      2013         01   \n",
       "9350         2015-04-14                    2019-05-28      2017         01   \n",
       "9351         2015-11-16                    2020-08-20      2020         08   \n",
       "9352         2017-05-16                    2018-08-22      2016         05   \n",
       "9353         2018-06-05                    2020-10-21      2017         10   \n",
       "37203        2009-04-07                    2015-10-07      2015         09   \n",
       "\n",
       "      hire_day                               uid  \n",
       "9331        17  a400ccd7e33a495305e1fbda95c531cc  \n",
       "9332        01  a0b1805cac604b092b2b772978cb1ea3  \n",
       "9333            ad4d61ab66f57066cc9f3f1d67c38487  \n",
       "9334        31  cb0c273c6a88347b8993b9144d14a252  \n",
       "9335        31  9581ecc6237802a1530eacb58adb518d  \n",
       "9336        26  631ab7097e518efed1fa4ec2e6babaef  \n",
       "9337            ab37efbb09035fb1cca26e4024637957  \n",
       "9338        01  1a3a57f2a2c7042983c120a4edb4d00f  \n",
       "9339        12  1b8c8a3809cff4739a827dc67e223508  \n",
       "9340        22  0cadc06705939013dfbce27ca3d8f70c  \n",
       "9341        01  9b8b92220af90ad57ebd7f1ae8b62ab8  \n",
       "9342        27  17fa403802d50d8a2fcc67a174843b92  \n",
       "9343        15  2461fabfd752ee8f06647f60185a1198  \n",
       "9344            291a7dcf9c4a3b961896c26a8c407161  \n",
       "9345        30  020880619ebb5c9231960de06208431d  \n",
       "9346        25  4f502d793a855a59f1f7fc239ccab52f  \n",
       "9347        29  e3584b1668bd0aff7a673f780ce31791  \n",
       "9348        27  ff75353c8fa507427eb7c46a4b6cf98f  \n",
       "9349        02  ac83f316726f7bb6160f79d8dfba777a  \n",
       "9350        12  fe7d1b372feed4ed89dfa969380542cd  \n",
       "9351        12  d9f97df5cd0e8cd4ef41769d49cfb847  \n",
       "9352        17  d921f8d89f6bcb1e541276d9459e7d59  \n",
       "9353        23  b284f5ad06932e01205b329904596953  \n",
       "37203       14  dcf1b26e525e1d09ecaabead108fe78a  "
      ],
      "text/html": "<div>\n<style scoped>\n    .dataframe tbody tr th:only-of-type {\n        vertical-align: middle;\n    }\n\n    .dataframe tbody tr th {\n        vertical-align: top;\n    }\n\n    .dataframe thead th {\n        text-align: right;\n    }\n</style>\n<table border=\"1\" class=\"dataframe\">\n  <thead>\n    <tr style=\"text-align: right;\">\n      <th></th>\n      <th>agency</th>\n      <th>last_name</th>\n      <th>first_name</th>\n      <th>employment_status</th>\n      <th>level_1_cert_date</th>\n      <th>last_pc_12_qualification_date</th>\n      <th>hire_year</th>\n      <th>hire_month</th>\n      <th>hire_day</th>\n      <th>uid</th>\n    </tr>\n  </thead>\n  <tbody>\n    <tr>\n      <th>9331</th>\n      <td>greenwood pd</td>\n      <td>morgan</td>\n      <td>jared</td>\n      <td>full-time</td>\n      <td>2008-06-06</td>\n      <td>2012-09-12</td>\n      <td>2007</td>\n      <td>10</td>\n      <td>17</td>\n      <td>a400ccd7e33a495305e1fbda95c531cc</td>\n    </tr>\n    <tr>\n      <th>9332</th>\n      <td>greenwood pd</td>\n      <td>shaul</td>\n      <td>george</td>\n      <td>full-time</td>\n      <td>2003-07-15</td>\n      <td>2019-10-31</td>\n      <td>2008</td>\n      <td>07</td>\n      <td>01</td>\n      <td>a0b1805cac604b092b2b772978cb1ea3</td>\n    </tr>\n    <tr>\n      <th>9333</th>\n      <td>greenwood pd</td>\n      <td>steele</td>\n      <td>jerry</td>\n      <td>full-time</td>\n      <td>2007-03-08</td>\n      <td>2020-10-21</td>\n      <td></td>\n      <td></td>\n      <td></td>\n      <td>ad4d61ab66f57066cc9f3f1d67c38487</td>\n    </tr>\n    <tr>\n      <th>9334</th>\n      <td>greenwood pd</td>\n      <td>bowers</td>\n      <td>rhiannon</td>\n      <td>full-time</td>\n      <td>2006-07-31</td>\n      <td>2013-03-21</td>\n      <td>2006</td>\n      <td>07</td>\n      <td>31</td>\n      <td>cb0c273c6a88347b8993b9144d14a252</td>\n    </tr>\n    <tr>\n      <th>9335</th>\n      <td>greenwood pd</td>\n      <td>hammersla</td>\n      <td>joseph</td>\n      <td>full-time</td>\n      <td>NaT</td>\n      <td>2020-09-10</td>\n      <td>2020</td>\n      <td>08</td>\n      <td>31</td>\n      <td>9581ecc6237802a1530eacb58adb518d</td>\n    </tr>\n    <tr>\n      <th>9336</th>\n      <td>greenwood pd</td>\n      <td>fertenbaugh</td>\n      <td>shawn</td>\n      <td>full-time</td>\n      <td>2007-03-20</td>\n      <td>2019-10-31</td>\n      <td>2017</td>\n      <td>02</td>\n      <td>26</td>\n      <td>631ab7097e518efed1fa4ec2e6babaef</td>\n    </tr>\n    <tr>\n      <th>9337</th>\n      <td>greenwood pd</td>\n      <td>faris</td>\n      <td>chris</td>\n      <td>full-time</td>\n      <td>2010-04-07</td>\n      <td>2020-10-21</td>\n      <td></td>\n      <td></td>\n      <td></td>\n      <td>ab37efbb09035fb1cca26e4024637957</td>\n    </tr>\n    <tr>\n      <th>9338</th>\n      <td>greenwood pd</td>\n      <td>poarch</td>\n      <td>stacy</td>\n      <td>full-time</td>\n      <td>1998-06-04</td>\n      <td>2012-01-09</td>\n      <td>2002</td>\n      <td>04</td>\n      <td>01</td>\n      <td>1a3a57f2a2c7042983c120a4edb4d00f</td>\n    </tr>\n    <tr>\n      <th>9339</th>\n      <td>greenwood pd</td>\n      <td>maldonado</td>\n      <td>alexander</td>\n      <td>full-time</td>\n      <td>2009-04-07</td>\n      <td>2010-03-17</td>\n      <td>2009</td>\n      <td>01</td>\n      <td>12</td>\n      <td>1b8c8a3809cff4739a827dc67e223508</td>\n    </tr>\n    <tr>\n      <th>9340</th>\n      <td>greenwood pd</td>\n      <td>owen</td>\n      <td>david</td>\n      <td>full-time</td>\n      <td>NaT</td>\n      <td>2018-07-19</td>\n      <td>2011</td>\n      <td>02</td>\n      <td>22</td>\n      <td>0cadc06705939013dfbce27ca3d8f70c</td>\n    </tr>\n    <tr>\n      <th>9341</th>\n      <td>greenwood pd</td>\n      <td>gibson</td>\n      <td>shayne</td>\n      <td>full-time</td>\n      <td>1995-12-08</td>\n      <td>2019-10-31</td>\n      <td>2000</td>\n      <td>05</td>\n      <td>01</td>\n      <td>9b8b92220af90ad57ebd7f1ae8b62ab8</td>\n    </tr>\n    <tr>\n      <th>9342</th>\n      <td>greenwood pd</td>\n      <td>caston</td>\n      <td>michael</td>\n      <td>full-time</td>\n      <td>2004-11-08</td>\n      <td>NaT</td>\n      <td>2004</td>\n      <td>07</td>\n      <td>27</td>\n      <td>17fa403802d50d8a2fcc67a174843b92</td>\n    </tr>\n    <tr>\n      <th>9343</th>\n      <td>greenwood pd</td>\n      <td>kyle</td>\n      <td>richard</td>\n      <td>full-time</td>\n      <td>2001-09-13</td>\n      <td>NaT</td>\n      <td>2001</td>\n      <td>04</td>\n      <td>15</td>\n      <td>2461fabfd752ee8f06647f60185a1198</td>\n    </tr>\n    <tr>\n      <th>9344</th>\n      <td>greenwood pd</td>\n      <td>brown</td>\n      <td>thomas</td>\n      <td>full-time</td>\n      <td>1993-10-08</td>\n      <td>NaT</td>\n      <td></td>\n      <td></td>\n      <td></td>\n      <td>291a7dcf9c4a3b961896c26a8c407161</td>\n    </tr>\n    <tr>\n      <th>9345</th>\n      <td>greenwood pd</td>\n      <td>mcneil</td>\n      <td>russell</td>\n      <td>full-time</td>\n      <td>1996-11-21</td>\n      <td>NaT</td>\n      <td>1996</td>\n      <td>09</td>\n      <td>30</td>\n      <td>020880619ebb5c9231960de06208431d</td>\n    </tr>\n    <tr>\n      <th>9346</th>\n      <td>greenwood pd</td>\n      <td>rosa</td>\n      <td>elvin</td>\n      <td>full-time</td>\n      <td>2011-04-12</td>\n      <td>2012-05-30</td>\n      <td>2010</td>\n      <td>10</td>\n      <td>25</td>\n      <td>4f502d793a855a59f1f7fc239ccab52f</td>\n    </tr>\n    <tr>\n      <th>9347</th>\n      <td>greenwood pd</td>\n      <td>wheatley</td>\n      <td>lamond</td>\n      <td>full-time</td>\n      <td>2011-12-09</td>\n      <td>2019-05-30</td>\n      <td>2019</td>\n      <td>05</td>\n      <td>29</td>\n      <td>e3584b1668bd0aff7a673f780ce31791</td>\n    </tr>\n    <tr>\n      <th>9348</th>\n      <td>greenwood pd</td>\n      <td>fisk</td>\n      <td>mackenzie</td>\n      <td>full-time</td>\n      <td>2016-04-18</td>\n      <td>2020-10-21</td>\n      <td>2019</td>\n      <td>02</td>\n      <td>27</td>\n      <td>ff75353c8fa507427eb7c46a4b6cf98f</td>\n    </tr>\n    <tr>\n      <th>9349</th>\n      <td>greenwood pd</td>\n      <td>fairbanks</td>\n      <td>cody</td>\n      <td>full-time</td>\n      <td>NaT</td>\n      <td>2013-03-18</td>\n      <td>2013</td>\n      <td>01</td>\n      <td>02</td>\n      <td>ac83f316726f7bb6160f79d8dfba777a</td>\n    </tr>\n    <tr>\n      <th>9350</th>\n      <td>greenwood pd</td>\n      <td>anderson</td>\n      <td>brian</td>\n      <td>full-time</td>\n      <td>2015-04-14</td>\n      <td>2019-05-28</td>\n      <td>2017</td>\n      <td>01</td>\n      <td>12</td>\n      <td>fe7d1b372feed4ed89dfa969380542cd</td>\n    </tr>\n    <tr>\n      <th>9351</th>\n      <td>greenwood pd</td>\n      <td>draper</td>\n      <td>lauren</td>\n      <td>full-time</td>\n      <td>2015-11-16</td>\n      <td>2020-08-20</td>\n      <td>2020</td>\n      <td>08</td>\n      <td>12</td>\n      <td>d9f97df5cd0e8cd4ef41769d49cfb847</td>\n    </tr>\n    <tr>\n      <th>9352</th>\n      <td>greenwood pd</td>\n      <td>jones</td>\n      <td>adam</td>\n      <td>full-time</td>\n      <td>2017-05-16</td>\n      <td>2018-08-22</td>\n      <td>2016</td>\n      <td>05</td>\n      <td>17</td>\n      <td>d921f8d89f6bcb1e541276d9459e7d59</td>\n    </tr>\n    <tr>\n      <th>9353</th>\n      <td>greenwood pd</td>\n      <td>harris</td>\n      <td>laun</td>\n      <td>full-time</td>\n      <td>2018-06-05</td>\n      <td>2020-10-21</td>\n      <td>2017</td>\n      <td>10</td>\n      <td>23</td>\n      <td>b284f5ad06932e01205b329904596953</td>\n    </tr>\n    <tr>\n      <th>37203</th>\n      <td>greenwood pd</td>\n      <td>anderson</td>\n      <td>jennifer</td>\n      <td>reserve</td>\n      <td>2009-04-07</td>\n      <td>2015-10-07</td>\n      <td>2015</td>\n      <td>09</td>\n      <td>14</td>\n      <td>dcf1b26e525e1d09ecaabead108fe78a</td>\n    </tr>\n  </tbody>\n</table>\n</div>"
     },
     "metadata": {},
     "execution_count": 3
    }
   ],
   "source": [
    "post.loc[post.agency == 'greenwood pd']"
   ]
  },
  {
   "cell_type": "code",
   "execution_count": 4,
   "metadata": {},
   "outputs": [
    {
     "output_type": "error",
     "ename": "KeyError",
     "evalue": "2",
     "traceback": [
      "\u001b[0;31m---------------------------------------------------------------------------\u001b[0m",
      "\u001b[0;31mValueError\u001b[0m                                Traceback (most recent call last)",
      "\u001b[0;32m~/opt/anaconda3/lib/python3.8/site-packages/pandas/core/indexes/range.py\u001b[0m in \u001b[0;36mget_loc\u001b[0;34m(self, key, method, tolerance)\u001b[0m\n\u001b[1;32m    350\u001b[0m                 \u001b[0;32mtry\u001b[0m\u001b[0;34m:\u001b[0m\u001b[0;34m\u001b[0m\u001b[0;34m\u001b[0m\u001b[0m\n\u001b[0;32m--> 351\u001b[0;31m                     \u001b[0;32mreturn\u001b[0m \u001b[0mself\u001b[0m\u001b[0;34m.\u001b[0m\u001b[0m_range\u001b[0m\u001b[0;34m.\u001b[0m\u001b[0mindex\u001b[0m\u001b[0;34m(\u001b[0m\u001b[0mnew_key\u001b[0m\u001b[0;34m)\u001b[0m\u001b[0;34m\u001b[0m\u001b[0;34m\u001b[0m\u001b[0m\n\u001b[0m\u001b[1;32m    352\u001b[0m                 \u001b[0;32mexcept\u001b[0m \u001b[0mValueError\u001b[0m \u001b[0;32mas\u001b[0m \u001b[0merr\u001b[0m\u001b[0;34m:\u001b[0m\u001b[0;34m\u001b[0m\u001b[0;34m\u001b[0m\u001b[0m\n",
      "\u001b[0;31mValueError\u001b[0m: 2 is not in range",
      "\nThe above exception was the direct cause of the following exception:\n",
      "\u001b[0;31mKeyError\u001b[0m                                  Traceback (most recent call last)",
      "\u001b[0;32m<ipython-input-4-a658916e8625>\u001b[0m in \u001b[0;36m<module>\u001b[0;34m\u001b[0m\n\u001b[0;32m----> 1\u001b[0;31m \u001b[0mpost\u001b[0m\u001b[0;34m.\u001b[0m\u001b[0mlevel_1_cert_date\u001b[0m\u001b[0;34m.\u001b[0m\u001b[0mfillna\u001b[0m\u001b[0;34m(\u001b[0m\u001b[0;34m''\u001b[0m\u001b[0;34m)\u001b[0m\u001b[0;34m.\u001b[0m\u001b[0mstr\u001b[0m\u001b[0;34m.\u001b[0m\u001b[0msplit\u001b[0m\u001b[0;34m(\u001b[0m\u001b[0;34m'/'\u001b[0m\u001b[0;34m,\u001b[0m \u001b[0mexpand\u001b[0m\u001b[0;34m=\u001b[0m\u001b[0;32mTrue\u001b[0m\u001b[0;34m)\u001b[0m\u001b[0;34m.\u001b[0m\u001b[0mloc\u001b[0m\u001b[0;34m[\u001b[0m\u001b[0;34m:\u001b[0m\u001b[0;34m,\u001b[0m \u001b[0;36m2\u001b[0m\u001b[0;34m]\u001b[0m\u001b[0;34m.\u001b[0m\u001b[0muni\u001b[0m\u001b[0;34m\u001b[0m\u001b[0;34m\u001b[0m\u001b[0m\n\u001b[0m",
      "\u001b[0;32m~/opt/anaconda3/lib/python3.8/site-packages/pandas/core/indexing.py\u001b[0m in \u001b[0;36m__getitem__\u001b[0;34m(self, key)\u001b[0m\n\u001b[1;32m    886\u001b[0m                     \u001b[0;31m# AttributeError for IntervalTree get_value\u001b[0m\u001b[0;34m\u001b[0m\u001b[0;34m\u001b[0m\u001b[0;34m\u001b[0m\u001b[0m\n\u001b[1;32m    887\u001b[0m                     \u001b[0;32mreturn\u001b[0m \u001b[0mself\u001b[0m\u001b[0;34m.\u001b[0m\u001b[0mobj\u001b[0m\u001b[0;34m.\u001b[0m\u001b[0m_get_value\u001b[0m\u001b[0;34m(\u001b[0m\u001b[0;34m*\u001b[0m\u001b[0mkey\u001b[0m\u001b[0;34m,\u001b[0m \u001b[0mtakeable\u001b[0m\u001b[0;34m=\u001b[0m\u001b[0mself\u001b[0m\u001b[0;34m.\u001b[0m\u001b[0m_takeable\u001b[0m\u001b[0;34m)\u001b[0m\u001b[0;34m\u001b[0m\u001b[0;34m\u001b[0m\u001b[0m\n\u001b[0;32m--> 888\u001b[0;31m             \u001b[0;32mreturn\u001b[0m \u001b[0mself\u001b[0m\u001b[0;34m.\u001b[0m\u001b[0m_getitem_tuple\u001b[0m\u001b[0;34m(\u001b[0m\u001b[0mkey\u001b[0m\u001b[0;34m)\u001b[0m\u001b[0;34m\u001b[0m\u001b[0;34m\u001b[0m\u001b[0m\n\u001b[0m\u001b[1;32m    889\u001b[0m         \u001b[0;32melse\u001b[0m\u001b[0;34m:\u001b[0m\u001b[0;34m\u001b[0m\u001b[0;34m\u001b[0m\u001b[0m\n\u001b[1;32m    890\u001b[0m             \u001b[0;31m# we by definition only have the 0th axis\u001b[0m\u001b[0;34m\u001b[0m\u001b[0;34m\u001b[0m\u001b[0;34m\u001b[0m\u001b[0m\n",
      "\u001b[0;32m~/opt/anaconda3/lib/python3.8/site-packages/pandas/core/indexing.py\u001b[0m in \u001b[0;36m_getitem_tuple\u001b[0;34m(self, tup)\u001b[0m\n\u001b[1;32m   1057\u001b[0m     \u001b[0;32mdef\u001b[0m \u001b[0m_getitem_tuple\u001b[0m\u001b[0;34m(\u001b[0m\u001b[0mself\u001b[0m\u001b[0;34m,\u001b[0m \u001b[0mtup\u001b[0m\u001b[0;34m:\u001b[0m \u001b[0mTuple\u001b[0m\u001b[0;34m)\u001b[0m\u001b[0;34m:\u001b[0m\u001b[0;34m\u001b[0m\u001b[0;34m\u001b[0m\u001b[0m\n\u001b[1;32m   1058\u001b[0m         \u001b[0;32mwith\u001b[0m \u001b[0msuppress\u001b[0m\u001b[0;34m(\u001b[0m\u001b[0mIndexingError\u001b[0m\u001b[0;34m)\u001b[0m\u001b[0;34m:\u001b[0m\u001b[0;34m\u001b[0m\u001b[0;34m\u001b[0m\u001b[0m\n\u001b[0;32m-> 1059\u001b[0;31m             \u001b[0;32mreturn\u001b[0m \u001b[0mself\u001b[0m\u001b[0;34m.\u001b[0m\u001b[0m_getitem_lowerdim\u001b[0m\u001b[0;34m(\u001b[0m\u001b[0mtup\u001b[0m\u001b[0;34m)\u001b[0m\u001b[0;34m\u001b[0m\u001b[0;34m\u001b[0m\u001b[0m\n\u001b[0m\u001b[1;32m   1060\u001b[0m \u001b[0;34m\u001b[0m\u001b[0m\n\u001b[1;32m   1061\u001b[0m         \u001b[0;31m# no multi-index, so validate all of the indexers\u001b[0m\u001b[0;34m\u001b[0m\u001b[0;34m\u001b[0m\u001b[0;34m\u001b[0m\u001b[0m\n",
      "\u001b[0;32m~/opt/anaconda3/lib/python3.8/site-packages/pandas/core/indexing.py\u001b[0m in \u001b[0;36m_getitem_lowerdim\u001b[0;34m(self, tup)\u001b[0m\n\u001b[1;32m    804\u001b[0m                 \u001b[0;31m# We don't need to check for tuples here because those are\u001b[0m\u001b[0;34m\u001b[0m\u001b[0;34m\u001b[0m\u001b[0;34m\u001b[0m\u001b[0m\n\u001b[1;32m    805\u001b[0m                 \u001b[0;31m#  caught by the _is_nested_tuple_indexer check above.\u001b[0m\u001b[0;34m\u001b[0m\u001b[0;34m\u001b[0m\u001b[0;34m\u001b[0m\u001b[0m\n\u001b[0;32m--> 806\u001b[0;31m                 \u001b[0msection\u001b[0m \u001b[0;34m=\u001b[0m \u001b[0mself\u001b[0m\u001b[0;34m.\u001b[0m\u001b[0m_getitem_axis\u001b[0m\u001b[0;34m(\u001b[0m\u001b[0mkey\u001b[0m\u001b[0;34m,\u001b[0m \u001b[0maxis\u001b[0m\u001b[0;34m=\u001b[0m\u001b[0mi\u001b[0m\u001b[0;34m)\u001b[0m\u001b[0;34m\u001b[0m\u001b[0;34m\u001b[0m\u001b[0m\n\u001b[0m\u001b[1;32m    807\u001b[0m \u001b[0;34m\u001b[0m\u001b[0m\n\u001b[1;32m    808\u001b[0m                 \u001b[0;31m# We should never have a scalar section here, because\u001b[0m\u001b[0;34m\u001b[0m\u001b[0;34m\u001b[0m\u001b[0;34m\u001b[0m\u001b[0m\n",
      "\u001b[0;32m~/opt/anaconda3/lib/python3.8/site-packages/pandas/core/indexing.py\u001b[0m in \u001b[0;36m_getitem_axis\u001b[0;34m(self, key, axis)\u001b[0m\n\u001b[1;32m   1121\u001b[0m         \u001b[0;31m# fall thru to straight lookup\u001b[0m\u001b[0;34m\u001b[0m\u001b[0;34m\u001b[0m\u001b[0;34m\u001b[0m\u001b[0m\n\u001b[1;32m   1122\u001b[0m         \u001b[0mself\u001b[0m\u001b[0;34m.\u001b[0m\u001b[0m_validate_key\u001b[0m\u001b[0;34m(\u001b[0m\u001b[0mkey\u001b[0m\u001b[0;34m,\u001b[0m \u001b[0maxis\u001b[0m\u001b[0;34m)\u001b[0m\u001b[0;34m\u001b[0m\u001b[0;34m\u001b[0m\u001b[0m\n\u001b[0;32m-> 1123\u001b[0;31m         \u001b[0;32mreturn\u001b[0m \u001b[0mself\u001b[0m\u001b[0;34m.\u001b[0m\u001b[0m_get_label\u001b[0m\u001b[0;34m(\u001b[0m\u001b[0mkey\u001b[0m\u001b[0;34m,\u001b[0m \u001b[0maxis\u001b[0m\u001b[0;34m=\u001b[0m\u001b[0maxis\u001b[0m\u001b[0;34m)\u001b[0m\u001b[0;34m\u001b[0m\u001b[0;34m\u001b[0m\u001b[0m\n\u001b[0m\u001b[1;32m   1124\u001b[0m \u001b[0;34m\u001b[0m\u001b[0m\n\u001b[1;32m   1125\u001b[0m     \u001b[0;32mdef\u001b[0m \u001b[0m_get_slice_axis\u001b[0m\u001b[0;34m(\u001b[0m\u001b[0mself\u001b[0m\u001b[0;34m,\u001b[0m \u001b[0mslice_obj\u001b[0m\u001b[0;34m:\u001b[0m \u001b[0mslice\u001b[0m\u001b[0;34m,\u001b[0m \u001b[0maxis\u001b[0m\u001b[0;34m:\u001b[0m \u001b[0mint\u001b[0m\u001b[0;34m)\u001b[0m\u001b[0;34m:\u001b[0m\u001b[0;34m\u001b[0m\u001b[0;34m\u001b[0m\u001b[0m\n",
      "\u001b[0;32m~/opt/anaconda3/lib/python3.8/site-packages/pandas/core/indexing.py\u001b[0m in \u001b[0;36m_get_label\u001b[0;34m(self, label, axis)\u001b[0m\n\u001b[1;32m   1070\u001b[0m     \u001b[0;32mdef\u001b[0m \u001b[0m_get_label\u001b[0m\u001b[0;34m(\u001b[0m\u001b[0mself\u001b[0m\u001b[0;34m,\u001b[0m \u001b[0mlabel\u001b[0m\u001b[0;34m,\u001b[0m \u001b[0maxis\u001b[0m\u001b[0;34m:\u001b[0m \u001b[0mint\u001b[0m\u001b[0;34m)\u001b[0m\u001b[0;34m:\u001b[0m\u001b[0;34m\u001b[0m\u001b[0;34m\u001b[0m\u001b[0m\n\u001b[1;32m   1071\u001b[0m         \u001b[0;31m# GH#5667 this will fail if the label is not present in the axis.\u001b[0m\u001b[0;34m\u001b[0m\u001b[0;34m\u001b[0m\u001b[0;34m\u001b[0m\u001b[0m\n\u001b[0;32m-> 1072\u001b[0;31m         \u001b[0;32mreturn\u001b[0m \u001b[0mself\u001b[0m\u001b[0;34m.\u001b[0m\u001b[0mobj\u001b[0m\u001b[0;34m.\u001b[0m\u001b[0mxs\u001b[0m\u001b[0;34m(\u001b[0m\u001b[0mlabel\u001b[0m\u001b[0;34m,\u001b[0m \u001b[0maxis\u001b[0m\u001b[0;34m=\u001b[0m\u001b[0maxis\u001b[0m\u001b[0;34m)\u001b[0m\u001b[0;34m\u001b[0m\u001b[0;34m\u001b[0m\u001b[0m\n\u001b[0m\u001b[1;32m   1073\u001b[0m \u001b[0;34m\u001b[0m\u001b[0m\n\u001b[1;32m   1074\u001b[0m     \u001b[0;32mdef\u001b[0m \u001b[0m_handle_lowerdim_multi_index_axis0\u001b[0m\u001b[0;34m(\u001b[0m\u001b[0mself\u001b[0m\u001b[0;34m,\u001b[0m \u001b[0mtup\u001b[0m\u001b[0;34m:\u001b[0m \u001b[0mTuple\u001b[0m\u001b[0;34m)\u001b[0m\u001b[0;34m:\u001b[0m\u001b[0;34m\u001b[0m\u001b[0;34m\u001b[0m\u001b[0m\n",
      "\u001b[0;32m~/opt/anaconda3/lib/python3.8/site-packages/pandas/core/generic.py\u001b[0m in \u001b[0;36mxs\u001b[0;34m(self, key, axis, level, drop_level)\u001b[0m\n\u001b[1;32m   3719\u001b[0m         \u001b[0;32mif\u001b[0m \u001b[0maxis\u001b[0m \u001b[0;34m==\u001b[0m \u001b[0;36m1\u001b[0m\u001b[0;34m:\u001b[0m\u001b[0;34m\u001b[0m\u001b[0;34m\u001b[0m\u001b[0m\n\u001b[1;32m   3720\u001b[0m             \u001b[0;32mif\u001b[0m \u001b[0mdrop_level\u001b[0m\u001b[0;34m:\u001b[0m\u001b[0;34m\u001b[0m\u001b[0;34m\u001b[0m\u001b[0m\n\u001b[0;32m-> 3721\u001b[0;31m                 \u001b[0;32mreturn\u001b[0m \u001b[0mself\u001b[0m\u001b[0;34m[\u001b[0m\u001b[0mkey\u001b[0m\u001b[0;34m]\u001b[0m\u001b[0;34m\u001b[0m\u001b[0;34m\u001b[0m\u001b[0m\n\u001b[0m\u001b[1;32m   3722\u001b[0m             \u001b[0mindex\u001b[0m \u001b[0;34m=\u001b[0m \u001b[0mself\u001b[0m\u001b[0;34m.\u001b[0m\u001b[0mcolumns\u001b[0m\u001b[0;34m\u001b[0m\u001b[0;34m\u001b[0m\u001b[0m\n\u001b[1;32m   3723\u001b[0m         \u001b[0;32melse\u001b[0m\u001b[0;34m:\u001b[0m\u001b[0;34m\u001b[0m\u001b[0;34m\u001b[0m\u001b[0m\n",
      "\u001b[0;32m~/opt/anaconda3/lib/python3.8/site-packages/pandas/core/frame.py\u001b[0m in \u001b[0;36m__getitem__\u001b[0;34m(self, key)\u001b[0m\n\u001b[1;32m   3022\u001b[0m             \u001b[0;32mif\u001b[0m \u001b[0mself\u001b[0m\u001b[0;34m.\u001b[0m\u001b[0mcolumns\u001b[0m\u001b[0;34m.\u001b[0m\u001b[0mnlevels\u001b[0m \u001b[0;34m>\u001b[0m \u001b[0;36m1\u001b[0m\u001b[0;34m:\u001b[0m\u001b[0;34m\u001b[0m\u001b[0;34m\u001b[0m\u001b[0m\n\u001b[1;32m   3023\u001b[0m                 \u001b[0;32mreturn\u001b[0m \u001b[0mself\u001b[0m\u001b[0;34m.\u001b[0m\u001b[0m_getitem_multilevel\u001b[0m\u001b[0;34m(\u001b[0m\u001b[0mkey\u001b[0m\u001b[0;34m)\u001b[0m\u001b[0;34m\u001b[0m\u001b[0;34m\u001b[0m\u001b[0m\n\u001b[0;32m-> 3024\u001b[0;31m             \u001b[0mindexer\u001b[0m \u001b[0;34m=\u001b[0m \u001b[0mself\u001b[0m\u001b[0;34m.\u001b[0m\u001b[0mcolumns\u001b[0m\u001b[0;34m.\u001b[0m\u001b[0mget_loc\u001b[0m\u001b[0;34m(\u001b[0m\u001b[0mkey\u001b[0m\u001b[0;34m)\u001b[0m\u001b[0;34m\u001b[0m\u001b[0;34m\u001b[0m\u001b[0m\n\u001b[0m\u001b[1;32m   3025\u001b[0m             \u001b[0;32mif\u001b[0m \u001b[0mis_integer\u001b[0m\u001b[0;34m(\u001b[0m\u001b[0mindexer\u001b[0m\u001b[0;34m)\u001b[0m\u001b[0;34m:\u001b[0m\u001b[0;34m\u001b[0m\u001b[0;34m\u001b[0m\u001b[0m\n\u001b[1;32m   3026\u001b[0m                 \u001b[0mindexer\u001b[0m \u001b[0;34m=\u001b[0m \u001b[0;34m[\u001b[0m\u001b[0mindexer\u001b[0m\u001b[0;34m]\u001b[0m\u001b[0;34m\u001b[0m\u001b[0;34m\u001b[0m\u001b[0m\n",
      "\u001b[0;32m~/opt/anaconda3/lib/python3.8/site-packages/pandas/core/indexes/range.py\u001b[0m in \u001b[0;36mget_loc\u001b[0;34m(self, key, method, tolerance)\u001b[0m\n\u001b[1;32m    351\u001b[0m                     \u001b[0;32mreturn\u001b[0m \u001b[0mself\u001b[0m\u001b[0;34m.\u001b[0m\u001b[0m_range\u001b[0m\u001b[0;34m.\u001b[0m\u001b[0mindex\u001b[0m\u001b[0;34m(\u001b[0m\u001b[0mnew_key\u001b[0m\u001b[0;34m)\u001b[0m\u001b[0;34m\u001b[0m\u001b[0;34m\u001b[0m\u001b[0m\n\u001b[1;32m    352\u001b[0m                 \u001b[0;32mexcept\u001b[0m \u001b[0mValueError\u001b[0m \u001b[0;32mas\u001b[0m \u001b[0merr\u001b[0m\u001b[0;34m:\u001b[0m\u001b[0;34m\u001b[0m\u001b[0;34m\u001b[0m\u001b[0m\n\u001b[0;32m--> 353\u001b[0;31m                     \u001b[0;32mraise\u001b[0m \u001b[0mKeyError\u001b[0m\u001b[0;34m(\u001b[0m\u001b[0mkey\u001b[0m\u001b[0;34m)\u001b[0m \u001b[0;32mfrom\u001b[0m \u001b[0merr\u001b[0m\u001b[0;34m\u001b[0m\u001b[0;34m\u001b[0m\u001b[0m\n\u001b[0m\u001b[1;32m    354\u001b[0m             \u001b[0;32mraise\u001b[0m \u001b[0mKeyError\u001b[0m\u001b[0;34m(\u001b[0m\u001b[0mkey\u001b[0m\u001b[0;34m)\u001b[0m\u001b[0;34m\u001b[0m\u001b[0;34m\u001b[0m\u001b[0m\n\u001b[1;32m    355\u001b[0m         \u001b[0;32mreturn\u001b[0m \u001b[0msuper\u001b[0m\u001b[0;34m(\u001b[0m\u001b[0;34m)\u001b[0m\u001b[0;34m.\u001b[0m\u001b[0mget_loc\u001b[0m\u001b[0;34m(\u001b[0m\u001b[0mkey\u001b[0m\u001b[0;34m,\u001b[0m \u001b[0mmethod\u001b[0m\u001b[0;34m=\u001b[0m\u001b[0mmethod\u001b[0m\u001b[0;34m,\u001b[0m \u001b[0mtolerance\u001b[0m\u001b[0;34m=\u001b[0m\u001b[0mtolerance\u001b[0m\u001b[0;34m)\u001b[0m\u001b[0;34m\u001b[0m\u001b[0;34m\u001b[0m\u001b[0m\n",
      "\u001b[0;31mKeyError\u001b[0m: 2"
     ]
    }
   ],
   "source": [
    "post.level_1_cert_date.fillna('').str.split('/', expand=True).loc[:, 2].uni"
   ]
  },
  {
   "cell_type": "code",
   "execution_count": 5,
   "metadata": {},
   "outputs": [
    {
     "output_type": "execute_result",
     "data": {
      "text/plain": [
       "Empty DataFrame\n",
       "Columns: [agency, last_name, first_name, employment_status, level_1_cert_date, last_pc_12_qualification_date, hire_year, hire_month, hire_day, uid]\n",
       "Index: []"
      ],
      "text/html": "<div>\n<style scoped>\n    .dataframe tbody tr th:only-of-type {\n        vertical-align: middle;\n    }\n\n    .dataframe tbody tr th {\n        vertical-align: top;\n    }\n\n    .dataframe thead th {\n        text-align: right;\n    }\n</style>\n<table border=\"1\" class=\"dataframe\">\n  <thead>\n    <tr style=\"text-align: right;\">\n      <th></th>\n      <th>agency</th>\n      <th>last_name</th>\n      <th>first_name</th>\n      <th>employment_status</th>\n      <th>level_1_cert_date</th>\n      <th>last_pc_12_qualification_date</th>\n      <th>hire_year</th>\n      <th>hire_month</th>\n      <th>hire_day</th>\n      <th>uid</th>\n    </tr>\n  </thead>\n  <tbody>\n  </tbody>\n</table>\n</div>"
     },
     "metadata": {},
     "execution_count": 5
    }
   ],
   "source": [
    "post[post.last_pc_12_qualification_date.fillna('').str.contains('3201')]"
   ]
  },
  {
   "cell_type": "code",
   "execution_count": null,
   "metadata": {},
   "outputs": [],
   "source": []
  }
 ]
}
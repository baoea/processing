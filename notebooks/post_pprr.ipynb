{
 "metadata": {
  "language_info": {
   "codemirror_mode": {
    "name": "ipython",
    "version": 3
   },
   "file_extension": ".py",
   "mimetype": "text/x-python",
   "name": "python",
   "nbconvert_exporter": "python",
   "pygments_lexer": "ipython3",
   "version": "3.8.3-final"
  },
  "orig_nbformat": 2,
  "kernelspec": {
   "name": "python3",
   "display_name": "Python 3",
   "language": "python"
  }
 },
 "nbformat": 4,
 "nbformat_minor": 2,
 "cells": [
  {
   "cell_type": "code",
   "execution_count": 1,
   "metadata": {},
   "outputs": [],
   "source": [
    "import sys; sys.path.append(\"../\")\n",
    "\n",
    "import pandas as pd\n",
    "\n",
    "from clean.post_pprr import clean"
   ]
  },
  {
   "cell_type": "code",
   "execution_count": 2,
   "metadata": {},
   "outputs": [
    {
     "output_type": "execute_result",
     "data": {
      "text/plain": [
       "          department_desc  last_name first_name employment_status  \\\n",
       "0      14th jdc da office    abshire     dustin         full-time   \n",
       "1          17th da office      ourso     damian         full-time   \n",
       "2          17th da office     besson      bruce         full-time   \n",
       "3          17th da office      bourg      billy         full-time   \n",
       "4          19th da office  cadarette      steve         full-time   \n",
       "...                   ...        ...        ...               ...   \n",
       "38898      youngsville pd      fruge     hilary           reserve   \n",
       "38899      youngsville pd     mouton       todd           reserve   \n",
       "38900      youngsville pd    hidalgo     jeremy           reserve   \n",
       "38901          zachary pd  viccellio      david           reserve   \n",
       "38902          zachary pd     maurer       john           reserve   \n",
       "\n",
       "      level_1_cert_date last_pc_12_qualification_date hire_year hire_month  \\\n",
       "0            06/11/1998                    10/27/2010      2013         06   \n",
       "1            05/13/2004                    10/07/2010      2008         11   \n",
       "2                   NaN                    01/26/2008      1997         02   \n",
       "3            04/24/1991                    10/07/2010      1990         10   \n",
       "4            08/28/2003                    04/28/2020      2016         04   \n",
       "...                 ...                           ...       ...        ...   \n",
       "38898        11/18/2010                    06/22/2020      2017         11   \n",
       "38899               NaN                    06/15/2020      2017         07   \n",
       "38900               NaN                    07/31/2020      2017         12   \n",
       "38901               NaN                    12/04/2019      2019         12   \n",
       "38902               NaN                    09/07/2019      2017         05   \n",
       "\n",
       "      hire_day                                        agency  \\\n",
       "0           01  Peace Officer Standards and Training Council   \n",
       "1           11  Peace Officer Standards and Training Council   \n",
       "2           11  Peace Officer Standards and Training Council   \n",
       "3           12  Peace Officer Standards and Training Council   \n",
       "4           11  Peace Officer Standards and Training Council   \n",
       "...        ...                                           ...   \n",
       "38898       27  Peace Officer Standards and Training Council   \n",
       "38899       01  Peace Officer Standards and Training Council   \n",
       "38900       01  Peace Officer Standards and Training Council   \n",
       "38901       03  Peace Officer Standards and Training Council   \n",
       "38902       25  Peace Officer Standards and Training Council   \n",
       "\n",
       "      data_production_year  \n",
       "0                     2020  \n",
       "1                     2020  \n",
       "2                     2020  \n",
       "3                     2020  \n",
       "4                     2020  \n",
       "...                    ...  \n",
       "38898                 2020  \n",
       "38899                 2020  \n",
       "38900                 2020  \n",
       "38901                 2020  \n",
       "38902                 2020  \n",
       "\n",
       "[38903 rows x 11 columns]"
      ],
      "text/html": "<div>\n<style scoped>\n    .dataframe tbody tr th:only-of-type {\n        vertical-align: middle;\n    }\n\n    .dataframe tbody tr th {\n        vertical-align: top;\n    }\n\n    .dataframe thead th {\n        text-align: right;\n    }\n</style>\n<table border=\"1\" class=\"dataframe\">\n  <thead>\n    <tr style=\"text-align: right;\">\n      <th></th>\n      <th>department_desc</th>\n      <th>last_name</th>\n      <th>first_name</th>\n      <th>employment_status</th>\n      <th>level_1_cert_date</th>\n      <th>last_pc_12_qualification_date</th>\n      <th>hire_year</th>\n      <th>hire_month</th>\n      <th>hire_day</th>\n      <th>agency</th>\n      <th>data_production_year</th>\n    </tr>\n  </thead>\n  <tbody>\n    <tr>\n      <th>0</th>\n      <td>14th jdc da office</td>\n      <td>abshire</td>\n      <td>dustin</td>\n      <td>full-time</td>\n      <td>06/11/1998</td>\n      <td>10/27/2010</td>\n      <td>2013</td>\n      <td>06</td>\n      <td>01</td>\n      <td>Peace Officer Standards and Training Council</td>\n      <td>2020</td>\n    </tr>\n    <tr>\n      <th>1</th>\n      <td>17th da office</td>\n      <td>ourso</td>\n      <td>damian</td>\n      <td>full-time</td>\n      <td>05/13/2004</td>\n      <td>10/07/2010</td>\n      <td>2008</td>\n      <td>11</td>\n      <td>11</td>\n      <td>Peace Officer Standards and Training Council</td>\n      <td>2020</td>\n    </tr>\n    <tr>\n      <th>2</th>\n      <td>17th da office</td>\n      <td>besson</td>\n      <td>bruce</td>\n      <td>full-time</td>\n      <td>NaN</td>\n      <td>01/26/2008</td>\n      <td>1997</td>\n      <td>02</td>\n      <td>11</td>\n      <td>Peace Officer Standards and Training Council</td>\n      <td>2020</td>\n    </tr>\n    <tr>\n      <th>3</th>\n      <td>17th da office</td>\n      <td>bourg</td>\n      <td>billy</td>\n      <td>full-time</td>\n      <td>04/24/1991</td>\n      <td>10/07/2010</td>\n      <td>1990</td>\n      <td>10</td>\n      <td>12</td>\n      <td>Peace Officer Standards and Training Council</td>\n      <td>2020</td>\n    </tr>\n    <tr>\n      <th>4</th>\n      <td>19th da office</td>\n      <td>cadarette</td>\n      <td>steve</td>\n      <td>full-time</td>\n      <td>08/28/2003</td>\n      <td>04/28/2020</td>\n      <td>2016</td>\n      <td>04</td>\n      <td>11</td>\n      <td>Peace Officer Standards and Training Council</td>\n      <td>2020</td>\n    </tr>\n    <tr>\n      <th>...</th>\n      <td>...</td>\n      <td>...</td>\n      <td>...</td>\n      <td>...</td>\n      <td>...</td>\n      <td>...</td>\n      <td>...</td>\n      <td>...</td>\n      <td>...</td>\n      <td>...</td>\n      <td>...</td>\n    </tr>\n    <tr>\n      <th>38898</th>\n      <td>youngsville pd</td>\n      <td>fruge</td>\n      <td>hilary</td>\n      <td>reserve</td>\n      <td>11/18/2010</td>\n      <td>06/22/2020</td>\n      <td>2017</td>\n      <td>11</td>\n      <td>27</td>\n      <td>Peace Officer Standards and Training Council</td>\n      <td>2020</td>\n    </tr>\n    <tr>\n      <th>38899</th>\n      <td>youngsville pd</td>\n      <td>mouton</td>\n      <td>todd</td>\n      <td>reserve</td>\n      <td>NaN</td>\n      <td>06/15/2020</td>\n      <td>2017</td>\n      <td>07</td>\n      <td>01</td>\n      <td>Peace Officer Standards and Training Council</td>\n      <td>2020</td>\n    </tr>\n    <tr>\n      <th>38900</th>\n      <td>youngsville pd</td>\n      <td>hidalgo</td>\n      <td>jeremy</td>\n      <td>reserve</td>\n      <td>NaN</td>\n      <td>07/31/2020</td>\n      <td>2017</td>\n      <td>12</td>\n      <td>01</td>\n      <td>Peace Officer Standards and Training Council</td>\n      <td>2020</td>\n    </tr>\n    <tr>\n      <th>38901</th>\n      <td>zachary pd</td>\n      <td>viccellio</td>\n      <td>david</td>\n      <td>reserve</td>\n      <td>NaN</td>\n      <td>12/04/2019</td>\n      <td>2019</td>\n      <td>12</td>\n      <td>03</td>\n      <td>Peace Officer Standards and Training Council</td>\n      <td>2020</td>\n    </tr>\n    <tr>\n      <th>38902</th>\n      <td>zachary pd</td>\n      <td>maurer</td>\n      <td>john</td>\n      <td>reserve</td>\n      <td>NaN</td>\n      <td>09/07/2019</td>\n      <td>2017</td>\n      <td>05</td>\n      <td>25</td>\n      <td>Peace Officer Standards and Training Council</td>\n      <td>2020</td>\n    </tr>\n  </tbody>\n</table>\n<p>38903 rows × 11 columns</p>\n</div>"
     },
     "metadata": {},
     "execution_count": 2
    }
   ],
   "source": [
    "df = clean()\n",
    "df"
   ]
  },
  {
   "cell_type": "code",
   "execution_count": 3,
   "metadata": {},
   "outputs": [
    {
     "output_type": "execute_result",
     "data": {
      "text/plain": [
       "Empty DataFrame\n",
       "Columns: [department_desc, last_name, first_name, employment_status, level_1_cert_date, last_pc_12_qualification_date, hire_year, hire_month, hire_day, agency, data_production_year]\n",
       "Index: []"
      ],
      "text/html": "<div>\n<style scoped>\n    .dataframe tbody tr th:only-of-type {\n        vertical-align: middle;\n    }\n\n    .dataframe tbody tr th {\n        vertical-align: top;\n    }\n\n    .dataframe thead th {\n        text-align: right;\n    }\n</style>\n<table border=\"1\" class=\"dataframe\">\n  <thead>\n    <tr style=\"text-align: right;\">\n      <th></th>\n      <th>department_desc</th>\n      <th>last_name</th>\n      <th>first_name</th>\n      <th>employment_status</th>\n      <th>level_1_cert_date</th>\n      <th>last_pc_12_qualification_date</th>\n      <th>hire_year</th>\n      <th>hire_month</th>\n      <th>hire_day</th>\n      <th>agency</th>\n      <th>data_production_year</th>\n    </tr>\n  </thead>\n  <tbody>\n  </tbody>\n</table>\n</div>"
     },
     "metadata": {},
     "execution_count": 3
    }
   ],
   "source": [
    "df[df.first_name == \"\"]"
   ]
  },
  {
   "cell_type": "code",
   "execution_count": null,
   "metadata": {},
   "outputs": [],
   "source": []
  }
 ]
}
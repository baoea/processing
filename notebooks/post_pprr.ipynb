{
 "metadata": {
  "language_info": {
   "codemirror_mode": {
    "name": "ipython",
    "version": 3
   },
   "file_extension": ".py",
   "mimetype": "text/x-python",
   "name": "python",
   "nbconvert_exporter": "python",
   "pygments_lexer": "ipython3",
   "version": "3.8.3-final"
  },
  "orig_nbformat": 2,
  "kernelspec": {
   "name": "python3",
   "display_name": "Python 3",
   "language": "python"
  }
 },
 "nbformat": 4,
 "nbformat_minor": 2,
 "cells": [
  {
   "cell_type": "code",
   "execution_count": 1,
   "metadata": {},
   "outputs": [],
   "source": [
    "import sys; sys.path.append(\"../\")\n",
    "\n",
    "import pandas as pd\n",
    "\n",
    "from clean.post_pprr import clean\n",
    "from lib.uid import gen_uid\n",
    "from lib.date import combine_date_columns\n",
    "from lib.match import (\n",
    "    ColumnsIndex, StringSimilarity, JaroWinklerSimilarity, DateSimilarity, ThresholdMatcher\n",
    ")"
   ]
  },
  {
   "cell_type": "code",
   "execution_count": 2,
   "metadata": {},
   "outputs": [
    {
     "output_type": "stream",
     "name": "stderr",
     "text": [
      "../lib/clean.py:152: FutureWarning: The default value of regex will change from True to False in a future version.\n",
      "  return series.str.strip().str.replace(r\"[^\\w-]+\", \" \").str.replace(r\"\\s+\", \" \")\\\n",
      "../clean/post_pprr.py:13: FutureWarning: The default value of regex will change from True to False in a future version.\n",
      "  df.loc[:, \"agency\"] = df.agency.str.strip()\\\n"
     ]
    },
    {
     "output_type": "execute_result",
     "data": {
      "text/plain": [
       "                   agency  last_name first_name employment_status  \\\n",
       "0      14th jdc da office    abshire     dustin         full-time   \n",
       "1          17th da office      ourso     damian         full-time   \n",
       "2          17th da office     besson      bruce         full-time   \n",
       "3          17th da office      bourg      billy         full-time   \n",
       "4          19th da office  cadarette      steve         full-time   \n",
       "...                   ...        ...        ...               ...   \n",
       "38898      youngsville pd      fruge     hilary           reserve   \n",
       "38899      youngsville pd     mouton       todd           reserve   \n",
       "38900      youngsville pd    hidalgo     jeremy           reserve   \n",
       "38901          zachary pd  viccellio      david           reserve   \n",
       "38902          zachary pd     maurer       john           reserve   \n",
       "\n",
       "      level_1_cert_date last_pc_12_qualification_date hire_year hire_month  \\\n",
       "0            1998-06-11                    2010-10-27      2013         06   \n",
       "1            2004-05-13                    2010-10-07      2008         11   \n",
       "2                   NaT                    2008-01-26      1997         02   \n",
       "3            1991-04-24                    2010-10-07      1990         10   \n",
       "4            2003-08-28                    2020-04-28      2016         04   \n",
       "...                 ...                           ...       ...        ...   \n",
       "38898        2010-11-18                    2020-06-22      2017         11   \n",
       "38899               NaT                    2020-06-15      2017         07   \n",
       "38900               NaT                    2020-07-31      2017         12   \n",
       "38901               NaT                    2019-12-04      2019         12   \n",
       "38902               NaT                    2019-09-07      2017         05   \n",
       "\n",
       "      hire_day                               uid  \n",
       "0           01  43ee7cb8a15ca49e883372d3c99988e1  \n",
       "1           11  8875f7c0749a1de0923c1242a4363622  \n",
       "2           11  2c35336b17f9986c7547656bb72508fe  \n",
       "3           12  e17ebe5f0a893d9cb6aac11bf9673c32  \n",
       "4           11  84a22650eb29e5d7d17721d59c3a2fc6  \n",
       "...        ...                               ...  \n",
       "38898       27  2e785e632588b75ebe30c3651f80837c  \n",
       "38899       01  e2642ae3d8360270ac3b4cfd5d8c5ea4  \n",
       "38900       01  a5ca9eebadff5a86ea4e7dd507ba1f73  \n",
       "38901       03  3c6043ea0d02ebbab16968c88c9107f0  \n",
       "38902       25  095a275299489ede7eaa839daef8b6fe  \n",
       "\n",
       "[38903 rows x 10 columns]"
      ],
      "text/html": "<div>\n<style scoped>\n    .dataframe tbody tr th:only-of-type {\n        vertical-align: middle;\n    }\n\n    .dataframe tbody tr th {\n        vertical-align: top;\n    }\n\n    .dataframe thead th {\n        text-align: right;\n    }\n</style>\n<table border=\"1\" class=\"dataframe\">\n  <thead>\n    <tr style=\"text-align: right;\">\n      <th></th>\n      <th>agency</th>\n      <th>last_name</th>\n      <th>first_name</th>\n      <th>employment_status</th>\n      <th>level_1_cert_date</th>\n      <th>last_pc_12_qualification_date</th>\n      <th>hire_year</th>\n      <th>hire_month</th>\n      <th>hire_day</th>\n      <th>uid</th>\n    </tr>\n  </thead>\n  <tbody>\n    <tr>\n      <th>0</th>\n      <td>14th jdc da office</td>\n      <td>abshire</td>\n      <td>dustin</td>\n      <td>full-time</td>\n      <td>1998-06-11</td>\n      <td>2010-10-27</td>\n      <td>2013</td>\n      <td>06</td>\n      <td>01</td>\n      <td>43ee7cb8a15ca49e883372d3c99988e1</td>\n    </tr>\n    <tr>\n      <th>1</th>\n      <td>17th da office</td>\n      <td>ourso</td>\n      <td>damian</td>\n      <td>full-time</td>\n      <td>2004-05-13</td>\n      <td>2010-10-07</td>\n      <td>2008</td>\n      <td>11</td>\n      <td>11</td>\n      <td>8875f7c0749a1de0923c1242a4363622</td>\n    </tr>\n    <tr>\n      <th>2</th>\n      <td>17th da office</td>\n      <td>besson</td>\n      <td>bruce</td>\n      <td>full-time</td>\n      <td>NaT</td>\n      <td>2008-01-26</td>\n      <td>1997</td>\n      <td>02</td>\n      <td>11</td>\n      <td>2c35336b17f9986c7547656bb72508fe</td>\n    </tr>\n    <tr>\n      <th>3</th>\n      <td>17th da office</td>\n      <td>bourg</td>\n      <td>billy</td>\n      <td>full-time</td>\n      <td>1991-04-24</td>\n      <td>2010-10-07</td>\n      <td>1990</td>\n      <td>10</td>\n      <td>12</td>\n      <td>e17ebe5f0a893d9cb6aac11bf9673c32</td>\n    </tr>\n    <tr>\n      <th>4</th>\n      <td>19th da office</td>\n      <td>cadarette</td>\n      <td>steve</td>\n      <td>full-time</td>\n      <td>2003-08-28</td>\n      <td>2020-04-28</td>\n      <td>2016</td>\n      <td>04</td>\n      <td>11</td>\n      <td>84a22650eb29e5d7d17721d59c3a2fc6</td>\n    </tr>\n    <tr>\n      <th>...</th>\n      <td>...</td>\n      <td>...</td>\n      <td>...</td>\n      <td>...</td>\n      <td>...</td>\n      <td>...</td>\n      <td>...</td>\n      <td>...</td>\n      <td>...</td>\n      <td>...</td>\n    </tr>\n    <tr>\n      <th>38898</th>\n      <td>youngsville pd</td>\n      <td>fruge</td>\n      <td>hilary</td>\n      <td>reserve</td>\n      <td>2010-11-18</td>\n      <td>2020-06-22</td>\n      <td>2017</td>\n      <td>11</td>\n      <td>27</td>\n      <td>2e785e632588b75ebe30c3651f80837c</td>\n    </tr>\n    <tr>\n      <th>38899</th>\n      <td>youngsville pd</td>\n      <td>mouton</td>\n      <td>todd</td>\n      <td>reserve</td>\n      <td>NaT</td>\n      <td>2020-06-15</td>\n      <td>2017</td>\n      <td>07</td>\n      <td>01</td>\n      <td>e2642ae3d8360270ac3b4cfd5d8c5ea4</td>\n    </tr>\n    <tr>\n      <th>38900</th>\n      <td>youngsville pd</td>\n      <td>hidalgo</td>\n      <td>jeremy</td>\n      <td>reserve</td>\n      <td>NaT</td>\n      <td>2020-07-31</td>\n      <td>2017</td>\n      <td>12</td>\n      <td>01</td>\n      <td>a5ca9eebadff5a86ea4e7dd507ba1f73</td>\n    </tr>\n    <tr>\n      <th>38901</th>\n      <td>zachary pd</td>\n      <td>viccellio</td>\n      <td>david</td>\n      <td>reserve</td>\n      <td>NaT</td>\n      <td>2019-12-04</td>\n      <td>2019</td>\n      <td>12</td>\n      <td>03</td>\n      <td>3c6043ea0d02ebbab16968c88c9107f0</td>\n    </tr>\n    <tr>\n      <th>38902</th>\n      <td>zachary pd</td>\n      <td>maurer</td>\n      <td>john</td>\n      <td>reserve</td>\n      <td>NaT</td>\n      <td>2019-09-07</td>\n      <td>2017</td>\n      <td>05</td>\n      <td>25</td>\n      <td>095a275299489ede7eaa839daef8b6fe</td>\n    </tr>\n  </tbody>\n</table>\n<p>38903 rows × 10 columns</p>\n</div>"
     },
     "metadata": {},
     "execution_count": 2
    }
   ],
   "source": [
    "post = clean()\n",
    "post"
   ]
  },
  {
   "cell_type": "code",
   "execution_count": 7,
   "metadata": {},
   "outputs": [
    {
     "output_type": "execute_result",
     "data": {
      "text/plain": [
       "                 agency last_name first_name employment_status  \\\n",
       "7160  e. baton rouge so     jones       chad         full-time   \n",
       "7182  e. baton rouge so     jones      steve         full-time   \n",
       "7209  e. baton rouge so     jones       eric         full-time   \n",
       "7210  e. baton rouge so     jones      jason         full-time   \n",
       "7359  e. baton rouge so     jones     steven         full-time   \n",
       "7402  e. baton rouge so     jones     johnny         full-time   \n",
       "7492  e. baton rouge so     jones     alisha         full-time   \n",
       "7558  e. baton rouge so     jones     edward         full-time   \n",
       "7627  e. baton rouge so     jones     ginger         full-time   \n",
       "7717  e. baton rouge so     jones      linda         full-time   \n",
       "7770  e. baton rouge so     jones      major         full-time   \n",
       "7909  e. baton rouge so     jones       myra         full-time   \n",
       "7918  e. baton rouge so     jones    brandon         full-time   \n",
       "\n",
       "     level_1_cert_date last_pc_12_qualification_date hire_year hire_month  \\\n",
       "7160        1998-09-03                    2020-08-26      1997         02   \n",
       "7182               NaT                    2019-12-05      1990         03   \n",
       "7209        1999-09-02                    2020-08-24      1996         07   \n",
       "7210        2004-03-11                    2020-02-20      1998         12   \n",
       "7359        2008-06-26                    2020-03-03      2015         08   \n",
       "7402        2009-06-25                    2020-09-16      2000         09   \n",
       "7492               NaT                    2020-10-08      2009         02   \n",
       "7558               NaT                    2020-01-13      1994         04   \n",
       "7627               NaT                           NaT      2001         05   \n",
       "7717               NaT                           NaT      2010         11   \n",
       "7770        1992-11-05                           NaT      1990         03   \n",
       "7909        2018-04-02                    2019-12-02      2015         09   \n",
       "7918        2016-10-17                    2020-09-15      2018         03   \n",
       "\n",
       "     hire_day                               uid  \n",
       "7160       18  b818c6e8b63dfc9dcbca3e60f308eebb  \n",
       "7182       16  8846fed265f082fbb9f284518c436b4b  \n",
       "7209       12  6750061bd943a424ba3304358f767800  \n",
       "7210       09  006395762bb426844d37766974a2d065  \n",
       "7359       27  7fa07c5512a8ab83ea0922f0d620a9a9  \n",
       "7402       06  371b388985dbcfe96dcea432531a50f7  \n",
       "7492       17  8b01c0cd982cfb430948415a0bf5bf74  \n",
       "7558       16  f9f311d3e64045c7ea2739c7c3fd8207  \n",
       "7627       23  63bdee60b38a499e4db6218ada2d0731  \n",
       "7717       01  70fc11871033c4c3814708b41b79e97b  \n",
       "7770       07  0e32d34c45383ca692dc6040f3d28a70  \n",
       "7909       16  692ceae23349932500ec63570aaaee33  \n",
       "7918       07  fec370f87e606951749320484ad1c3a3  "
      ],
      "text/html": "<div>\n<style scoped>\n    .dataframe tbody tr th:only-of-type {\n        vertical-align: middle;\n    }\n\n    .dataframe tbody tr th {\n        vertical-align: top;\n    }\n\n    .dataframe thead th {\n        text-align: right;\n    }\n</style>\n<table border=\"1\" class=\"dataframe\">\n  <thead>\n    <tr style=\"text-align: right;\">\n      <th></th>\n      <th>agency</th>\n      <th>last_name</th>\n      <th>first_name</th>\n      <th>employment_status</th>\n      <th>level_1_cert_date</th>\n      <th>last_pc_12_qualification_date</th>\n      <th>hire_year</th>\n      <th>hire_month</th>\n      <th>hire_day</th>\n      <th>uid</th>\n    </tr>\n  </thead>\n  <tbody>\n    <tr>\n      <th>7160</th>\n      <td>e. baton rouge so</td>\n      <td>jones</td>\n      <td>chad</td>\n      <td>full-time</td>\n      <td>1998-09-03</td>\n      <td>2020-08-26</td>\n      <td>1997</td>\n      <td>02</td>\n      <td>18</td>\n      <td>b818c6e8b63dfc9dcbca3e60f308eebb</td>\n    </tr>\n    <tr>\n      <th>7182</th>\n      <td>e. baton rouge so</td>\n      <td>jones</td>\n      <td>steve</td>\n      <td>full-time</td>\n      <td>NaT</td>\n      <td>2019-12-05</td>\n      <td>1990</td>\n      <td>03</td>\n      <td>16</td>\n      <td>8846fed265f082fbb9f284518c436b4b</td>\n    </tr>\n    <tr>\n      <th>7209</th>\n      <td>e. baton rouge so</td>\n      <td>jones</td>\n      <td>eric</td>\n      <td>full-time</td>\n      <td>1999-09-02</td>\n      <td>2020-08-24</td>\n      <td>1996</td>\n      <td>07</td>\n      <td>12</td>\n      <td>6750061bd943a424ba3304358f767800</td>\n    </tr>\n    <tr>\n      <th>7210</th>\n      <td>e. baton rouge so</td>\n      <td>jones</td>\n      <td>jason</td>\n      <td>full-time</td>\n      <td>2004-03-11</td>\n      <td>2020-02-20</td>\n      <td>1998</td>\n      <td>12</td>\n      <td>09</td>\n      <td>006395762bb426844d37766974a2d065</td>\n    </tr>\n    <tr>\n      <th>7359</th>\n      <td>e. baton rouge so</td>\n      <td>jones</td>\n      <td>steven</td>\n      <td>full-time</td>\n      <td>2008-06-26</td>\n      <td>2020-03-03</td>\n      <td>2015</td>\n      <td>08</td>\n      <td>27</td>\n      <td>7fa07c5512a8ab83ea0922f0d620a9a9</td>\n    </tr>\n    <tr>\n      <th>7402</th>\n      <td>e. baton rouge so</td>\n      <td>jones</td>\n      <td>johnny</td>\n      <td>full-time</td>\n      <td>2009-06-25</td>\n      <td>2020-09-16</td>\n      <td>2000</td>\n      <td>09</td>\n      <td>06</td>\n      <td>371b388985dbcfe96dcea432531a50f7</td>\n    </tr>\n    <tr>\n      <th>7492</th>\n      <td>e. baton rouge so</td>\n      <td>jones</td>\n      <td>alisha</td>\n      <td>full-time</td>\n      <td>NaT</td>\n      <td>2020-10-08</td>\n      <td>2009</td>\n      <td>02</td>\n      <td>17</td>\n      <td>8b01c0cd982cfb430948415a0bf5bf74</td>\n    </tr>\n    <tr>\n      <th>7558</th>\n      <td>e. baton rouge so</td>\n      <td>jones</td>\n      <td>edward</td>\n      <td>full-time</td>\n      <td>NaT</td>\n      <td>2020-01-13</td>\n      <td>1994</td>\n      <td>04</td>\n      <td>16</td>\n      <td>f9f311d3e64045c7ea2739c7c3fd8207</td>\n    </tr>\n    <tr>\n      <th>7627</th>\n      <td>e. baton rouge so</td>\n      <td>jones</td>\n      <td>ginger</td>\n      <td>full-time</td>\n      <td>NaT</td>\n      <td>NaT</td>\n      <td>2001</td>\n      <td>05</td>\n      <td>23</td>\n      <td>63bdee60b38a499e4db6218ada2d0731</td>\n    </tr>\n    <tr>\n      <th>7717</th>\n      <td>e. baton rouge so</td>\n      <td>jones</td>\n      <td>linda</td>\n      <td>full-time</td>\n      <td>NaT</td>\n      <td>NaT</td>\n      <td>2010</td>\n      <td>11</td>\n      <td>01</td>\n      <td>70fc11871033c4c3814708b41b79e97b</td>\n    </tr>\n    <tr>\n      <th>7770</th>\n      <td>e. baton rouge so</td>\n      <td>jones</td>\n      <td>major</td>\n      <td>full-time</td>\n      <td>1992-11-05</td>\n      <td>NaT</td>\n      <td>1990</td>\n      <td>03</td>\n      <td>07</td>\n      <td>0e32d34c45383ca692dc6040f3d28a70</td>\n    </tr>\n    <tr>\n      <th>7909</th>\n      <td>e. baton rouge so</td>\n      <td>jones</td>\n      <td>myra</td>\n      <td>full-time</td>\n      <td>2018-04-02</td>\n      <td>2019-12-02</td>\n      <td>2015</td>\n      <td>09</td>\n      <td>16</td>\n      <td>692ceae23349932500ec63570aaaee33</td>\n    </tr>\n    <tr>\n      <th>7918</th>\n      <td>e. baton rouge so</td>\n      <td>jones</td>\n      <td>brandon</td>\n      <td>full-time</td>\n      <td>2016-10-17</td>\n      <td>2020-09-15</td>\n      <td>2018</td>\n      <td>03</td>\n      <td>07</td>\n      <td>fec370f87e606951749320484ad1c3a3</td>\n    </tr>\n  </tbody>\n</table>\n</div>"
     },
     "metadata": {},
     "execution_count": 7
    }
   ],
   "source": [
    "post.loc[(post.agency == 'e. baton rouge so') & (post.last_name == 'jones')]"
   ]
  },
  {
   "cell_type": "code",
   "execution_count": null,
   "metadata": {},
   "outputs": [],
   "source": []
  }
 ]
}
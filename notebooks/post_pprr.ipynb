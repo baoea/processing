{
 "metadata": {
  "language_info": {
   "codemirror_mode": {
    "name": "ipython",
    "version": 3
   },
   "file_extension": ".py",
   "mimetype": "text/x-python",
   "name": "python",
   "nbconvert_exporter": "python",
   "pygments_lexer": "ipython3",
   "version": "3.8.3-final"
  },
  "orig_nbformat": 2,
  "kernelspec": {
   "name": "python3",
   "display_name": "Python 3",
   "language": "python"
  }
 },
 "nbformat": 4,
 "nbformat_minor": 2,
 "cells": [
  {
   "cell_type": "code",
   "execution_count": 1,
   "metadata": {},
   "outputs": [],
   "source": [
    "import sys; sys.path.append(\"../\")\n",
    "\n",
    "import pandas as pd\n",
    "\n",
    "from clean.post_pprr import clean\n",
    "from lib.uid import gen_uid\n",
    "from lib.date import combine_date_columns\n",
    "from lib.match import (\n",
    "    ColumnsIndex, StringSimilarity, JaroWinklerSimilarity, DateSimilarity, ThresholdMatcher\n",
    ")"
   ]
  },
  {
   "cell_type": "code",
   "execution_count": 2,
   "metadata": {},
   "outputs": [
    {
     "output_type": "stream",
     "name": "stderr",
     "text": [
      "../lib/clean.py:152: FutureWarning: The default value of regex will change from True to False in a future version.\n",
      "  return series.str.strip().str.replace(r\"[^\\w-]+\", \" \").str.replace(r\"\\s+\", \" \")\\\n",
      "../clean/post_pprr.py:13: FutureWarning: The default value of regex will change from True to False in a future version.\n",
      "  df.loc[:, \"agency\"] = df.agency.str.strip()\\\n"
     ]
    },
    {
     "output_type": "execute_result",
     "data": {
      "text/plain": [
       "                   agency  last_name first_name employment_status  \\\n",
       "0      14th jdc da office    abshire     dustin         full-time   \n",
       "1          17th da office      ourso     damian         full-time   \n",
       "2          17th da office     besson      bruce         full-time   \n",
       "3          17th da office      bourg      billy         full-time   \n",
       "4          19th da office  cadarette      steve         full-time   \n",
       "...                   ...        ...        ...               ...   \n",
       "38898      youngsville pd      fruge     hilary           reserve   \n",
       "38899      youngsville pd     mouton       todd           reserve   \n",
       "38900      youngsville pd    hidalgo     jeremy           reserve   \n",
       "38901          zachary pd  viccellio      david           reserve   \n",
       "38902          zachary pd     maurer       john           reserve   \n",
       "\n",
       "      level_1_cert_date last_pc_12_qualification_date hire_year hire_month  \\\n",
       "0            1998-06-11                    2010-10-27      2013         06   \n",
       "1            2004-05-13                    2010-10-07      2008         11   \n",
       "2                   NaT                    2008-01-26      1997         02   \n",
       "3            1991-04-24                    2010-10-07      1990         10   \n",
       "4            2003-08-28                    2020-04-28      2016         04   \n",
       "...                 ...                           ...       ...        ...   \n",
       "38898        2010-11-18                    2020-06-22      2017         11   \n",
       "38899               NaT                    2020-06-15      2017         07   \n",
       "38900               NaT                    2020-07-31      2017         12   \n",
       "38901               NaT                    2019-12-04      2019         12   \n",
       "38902               NaT                    2019-09-07      2017         05   \n",
       "\n",
       "      hire_day                               uid  \n",
       "0           01  43ee7cb8a15ca49e883372d3c99988e1  \n",
       "1           11  8875f7c0749a1de0923c1242a4363622  \n",
       "2           11  2c35336b17f9986c7547656bb72508fe  \n",
       "3           12  e17ebe5f0a893d9cb6aac11bf9673c32  \n",
       "4           11  84a22650eb29e5d7d17721d59c3a2fc6  \n",
       "...        ...                               ...  \n",
       "38898       27  2e785e632588b75ebe30c3651f80837c  \n",
       "38899       01  e2642ae3d8360270ac3b4cfd5d8c5ea4  \n",
       "38900       01  a5ca9eebadff5a86ea4e7dd507ba1f73  \n",
       "38901       03  3c6043ea0d02ebbab16968c88c9107f0  \n",
       "38902       25  095a275299489ede7eaa839daef8b6fe  \n",
       "\n",
       "[38903 rows x 10 columns]"
      ],
      "text/html": "<div>\n<style scoped>\n    .dataframe tbody tr th:only-of-type {\n        vertical-align: middle;\n    }\n\n    .dataframe tbody tr th {\n        vertical-align: top;\n    }\n\n    .dataframe thead th {\n        text-align: right;\n    }\n</style>\n<table border=\"1\" class=\"dataframe\">\n  <thead>\n    <tr style=\"text-align: right;\">\n      <th></th>\n      <th>agency</th>\n      <th>last_name</th>\n      <th>first_name</th>\n      <th>employment_status</th>\n      <th>level_1_cert_date</th>\n      <th>last_pc_12_qualification_date</th>\n      <th>hire_year</th>\n      <th>hire_month</th>\n      <th>hire_day</th>\n      <th>uid</th>\n    </tr>\n  </thead>\n  <tbody>\n    <tr>\n      <th>0</th>\n      <td>14th jdc da office</td>\n      <td>abshire</td>\n      <td>dustin</td>\n      <td>full-time</td>\n      <td>1998-06-11</td>\n      <td>2010-10-27</td>\n      <td>2013</td>\n      <td>06</td>\n      <td>01</td>\n      <td>43ee7cb8a15ca49e883372d3c99988e1</td>\n    </tr>\n    <tr>\n      <th>1</th>\n      <td>17th da office</td>\n      <td>ourso</td>\n      <td>damian</td>\n      <td>full-time</td>\n      <td>2004-05-13</td>\n      <td>2010-10-07</td>\n      <td>2008</td>\n      <td>11</td>\n      <td>11</td>\n      <td>8875f7c0749a1de0923c1242a4363622</td>\n    </tr>\n    <tr>\n      <th>2</th>\n      <td>17th da office</td>\n      <td>besson</td>\n      <td>bruce</td>\n      <td>full-time</td>\n      <td>NaT</td>\n      <td>2008-01-26</td>\n      <td>1997</td>\n      <td>02</td>\n      <td>11</td>\n      <td>2c35336b17f9986c7547656bb72508fe</td>\n    </tr>\n    <tr>\n      <th>3</th>\n      <td>17th da office</td>\n      <td>bourg</td>\n      <td>billy</td>\n      <td>full-time</td>\n      <td>1991-04-24</td>\n      <td>2010-10-07</td>\n      <td>1990</td>\n      <td>10</td>\n      <td>12</td>\n      <td>e17ebe5f0a893d9cb6aac11bf9673c32</td>\n    </tr>\n    <tr>\n      <th>4</th>\n      <td>19th da office</td>\n      <td>cadarette</td>\n      <td>steve</td>\n      <td>full-time</td>\n      <td>2003-08-28</td>\n      <td>2020-04-28</td>\n      <td>2016</td>\n      <td>04</td>\n      <td>11</td>\n      <td>84a22650eb29e5d7d17721d59c3a2fc6</td>\n    </tr>\n    <tr>\n      <th>...</th>\n      <td>...</td>\n      <td>...</td>\n      <td>...</td>\n      <td>...</td>\n      <td>...</td>\n      <td>...</td>\n      <td>...</td>\n      <td>...</td>\n      <td>...</td>\n      <td>...</td>\n    </tr>\n    <tr>\n      <th>38898</th>\n      <td>youngsville pd</td>\n      <td>fruge</td>\n      <td>hilary</td>\n      <td>reserve</td>\n      <td>2010-11-18</td>\n      <td>2020-06-22</td>\n      <td>2017</td>\n      <td>11</td>\n      <td>27</td>\n      <td>2e785e632588b75ebe30c3651f80837c</td>\n    </tr>\n    <tr>\n      <th>38899</th>\n      <td>youngsville pd</td>\n      <td>mouton</td>\n      <td>todd</td>\n      <td>reserve</td>\n      <td>NaT</td>\n      <td>2020-06-15</td>\n      <td>2017</td>\n      <td>07</td>\n      <td>01</td>\n      <td>e2642ae3d8360270ac3b4cfd5d8c5ea4</td>\n    </tr>\n    <tr>\n      <th>38900</th>\n      <td>youngsville pd</td>\n      <td>hidalgo</td>\n      <td>jeremy</td>\n      <td>reserve</td>\n      <td>NaT</td>\n      <td>2020-07-31</td>\n      <td>2017</td>\n      <td>12</td>\n      <td>01</td>\n      <td>a5ca9eebadff5a86ea4e7dd507ba1f73</td>\n    </tr>\n    <tr>\n      <th>38901</th>\n      <td>zachary pd</td>\n      <td>viccellio</td>\n      <td>david</td>\n      <td>reserve</td>\n      <td>NaT</td>\n      <td>2019-12-04</td>\n      <td>2019</td>\n      <td>12</td>\n      <td>03</td>\n      <td>3c6043ea0d02ebbab16968c88c9107f0</td>\n    </tr>\n    <tr>\n      <th>38902</th>\n      <td>zachary pd</td>\n      <td>maurer</td>\n      <td>john</td>\n      <td>reserve</td>\n      <td>NaT</td>\n      <td>2019-09-07</td>\n      <td>2017</td>\n      <td>05</td>\n      <td>25</td>\n      <td>095a275299489ede7eaa839daef8b6fe</td>\n    </tr>\n  </tbody>\n</table>\n<p>38903 rows × 10 columns</p>\n</div>"
     },
     "metadata": {},
     "execution_count": 2
    }
   ],
   "source": [
    "post = clean()\n",
    "post"
   ]
  },
  {
   "cell_type": "code",
   "execution_count": 5,
   "metadata": {},
   "outputs": [
    {
     "output_type": "execute_result",
     "data": {
      "text/plain": [
       "                  agency  last_name first_name employment_status  \\\n",
       "7062   e. baton rouge so  lochridge     joseph         full-time   \n",
       "7063   e. baton rouge so     gaines       sean         full-time   \n",
       "7064   e. baton rouge so     taylor      doris         full-time   \n",
       "7065   e. baton rouge so    roberts       mark         full-time   \n",
       "7066   e. baton rouge so      walsh     thomas         full-time   \n",
       "...                  ...        ...        ...               ...   \n",
       "37099  e. baton rouge so      james    anthony           reserve   \n",
       "37100  e. baton rouge so    johnson    rayland           reserve   \n",
       "37101  e. baton rouge so   crawford       cody           reserve   \n",
       "37102  e. baton rouge so     sharer     tucker           reserve   \n",
       "37103  e. baton rouge so      davis     robert           reserve   \n",
       "\n",
       "      level_1_cert_date last_pc_12_qualification_date hire_year hire_month  \\\n",
       "7062         2006-02-02                    2010-02-03      2008         07   \n",
       "7063         2007-10-04                    2010-05-11      2007         03   \n",
       "7064         2013-11-08                    2020-05-29      2019         08   \n",
       "7065         1991-11-07                    2020-02-19      2007         12   \n",
       "7066         2008-06-26                    2020-06-02      2007         10   \n",
       "...                 ...                           ...       ...        ...   \n",
       "37099               NaT                           NaT      2019         12   \n",
       "37100               NaT                    2020-03-07      2020         02   \n",
       "37101               NaT                    2020-03-07      2019         12   \n",
       "37102               NaT                    2020-03-07      2019         12   \n",
       "37103               NaT                    2020-03-07      2019         12   \n",
       "\n",
       "      hire_day                               uid  \n",
       "7062        16  384e1140886594a967d9362ed0a48523  \n",
       "7063        07  bdb12aad107f764fd411262fa1f9a902  \n",
       "7064        06  762838a777e17c66cc74daad0581a224  \n",
       "7065        17  91bdef70024702ec57ac1f15a97a29d7  \n",
       "7066        10  eae958be2c9f3cd7e10643c5b27e6108  \n",
       "...        ...                               ...  \n",
       "37099       06  73f69763fc5dbecf27fb0e7c70339659  \n",
       "37100       13  a1bb1c11febdba0956b3fadc4071d17d  \n",
       "37101       06  cbad8477f9dbedf6fde0e816a048a148  \n",
       "37102       06  22aed5b5cc10f839853e75c7d32e7f4c  \n",
       "37103       06  5ca8f7943476f95e0056ceb612edd1bb  \n",
       "\n",
       "[1096 rows x 10 columns]"
      ],
      "text/html": "<div>\n<style scoped>\n    .dataframe tbody tr th:only-of-type {\n        vertical-align: middle;\n    }\n\n    .dataframe tbody tr th {\n        vertical-align: top;\n    }\n\n    .dataframe thead th {\n        text-align: right;\n    }\n</style>\n<table border=\"1\" class=\"dataframe\">\n  <thead>\n    <tr style=\"text-align: right;\">\n      <th></th>\n      <th>agency</th>\n      <th>last_name</th>\n      <th>first_name</th>\n      <th>employment_status</th>\n      <th>level_1_cert_date</th>\n      <th>last_pc_12_qualification_date</th>\n      <th>hire_year</th>\n      <th>hire_month</th>\n      <th>hire_day</th>\n      <th>uid</th>\n    </tr>\n  </thead>\n  <tbody>\n    <tr>\n      <th>7062</th>\n      <td>e. baton rouge so</td>\n      <td>lochridge</td>\n      <td>joseph</td>\n      <td>full-time</td>\n      <td>2006-02-02</td>\n      <td>2010-02-03</td>\n      <td>2008</td>\n      <td>07</td>\n      <td>16</td>\n      <td>384e1140886594a967d9362ed0a48523</td>\n    </tr>\n    <tr>\n      <th>7063</th>\n      <td>e. baton rouge so</td>\n      <td>gaines</td>\n      <td>sean</td>\n      <td>full-time</td>\n      <td>2007-10-04</td>\n      <td>2010-05-11</td>\n      <td>2007</td>\n      <td>03</td>\n      <td>07</td>\n      <td>bdb12aad107f764fd411262fa1f9a902</td>\n    </tr>\n    <tr>\n      <th>7064</th>\n      <td>e. baton rouge so</td>\n      <td>taylor</td>\n      <td>doris</td>\n      <td>full-time</td>\n      <td>2013-11-08</td>\n      <td>2020-05-29</td>\n      <td>2019</td>\n      <td>08</td>\n      <td>06</td>\n      <td>762838a777e17c66cc74daad0581a224</td>\n    </tr>\n    <tr>\n      <th>7065</th>\n      <td>e. baton rouge so</td>\n      <td>roberts</td>\n      <td>mark</td>\n      <td>full-time</td>\n      <td>1991-11-07</td>\n      <td>2020-02-19</td>\n      <td>2007</td>\n      <td>12</td>\n      <td>17</td>\n      <td>91bdef70024702ec57ac1f15a97a29d7</td>\n    </tr>\n    <tr>\n      <th>7066</th>\n      <td>e. baton rouge so</td>\n      <td>walsh</td>\n      <td>thomas</td>\n      <td>full-time</td>\n      <td>2008-06-26</td>\n      <td>2020-06-02</td>\n      <td>2007</td>\n      <td>10</td>\n      <td>10</td>\n      <td>eae958be2c9f3cd7e10643c5b27e6108</td>\n    </tr>\n    <tr>\n      <th>...</th>\n      <td>...</td>\n      <td>...</td>\n      <td>...</td>\n      <td>...</td>\n      <td>...</td>\n      <td>...</td>\n      <td>...</td>\n      <td>...</td>\n      <td>...</td>\n      <td>...</td>\n    </tr>\n    <tr>\n      <th>37099</th>\n      <td>e. baton rouge so</td>\n      <td>james</td>\n      <td>anthony</td>\n      <td>reserve</td>\n      <td>NaT</td>\n      <td>NaT</td>\n      <td>2019</td>\n      <td>12</td>\n      <td>06</td>\n      <td>73f69763fc5dbecf27fb0e7c70339659</td>\n    </tr>\n    <tr>\n      <th>37100</th>\n      <td>e. baton rouge so</td>\n      <td>johnson</td>\n      <td>rayland</td>\n      <td>reserve</td>\n      <td>NaT</td>\n      <td>2020-03-07</td>\n      <td>2020</td>\n      <td>02</td>\n      <td>13</td>\n      <td>a1bb1c11febdba0956b3fadc4071d17d</td>\n    </tr>\n    <tr>\n      <th>37101</th>\n      <td>e. baton rouge so</td>\n      <td>crawford</td>\n      <td>cody</td>\n      <td>reserve</td>\n      <td>NaT</td>\n      <td>2020-03-07</td>\n      <td>2019</td>\n      <td>12</td>\n      <td>06</td>\n      <td>cbad8477f9dbedf6fde0e816a048a148</td>\n    </tr>\n    <tr>\n      <th>37102</th>\n      <td>e. baton rouge so</td>\n      <td>sharer</td>\n      <td>tucker</td>\n      <td>reserve</td>\n      <td>NaT</td>\n      <td>2020-03-07</td>\n      <td>2019</td>\n      <td>12</td>\n      <td>06</td>\n      <td>22aed5b5cc10f839853e75c7d32e7f4c</td>\n    </tr>\n    <tr>\n      <th>37103</th>\n      <td>e. baton rouge so</td>\n      <td>davis</td>\n      <td>robert</td>\n      <td>reserve</td>\n      <td>NaT</td>\n      <td>2020-03-07</td>\n      <td>2019</td>\n      <td>12</td>\n      <td>06</td>\n      <td>5ca8f7943476f95e0056ceb612edd1bb</td>\n    </tr>\n  </tbody>\n</table>\n<p>1096 rows × 10 columns</p>\n</div>"
     },
     "metadata": {},
     "execution_count": 5
    }
   ],
   "source": [
    "post.loc[post.agency == 'e. baton rouge so']"
   ]
  },
  {
   "cell_type": "code",
   "execution_count": 11,
   "metadata": {},
   "outputs": [
    {
     "output_type": "execute_result",
     "data": {
      "text/plain": [
       "              agency last_name first_name employment_status level_1_cert_date  \\\n",
       "1879  baton rouge pd   sansone      david         full-time               NaT   \n",
       "1882  baton rouge pd    gipson      jewel         full-time               NaT   \n",
       "1922  baton rouge pd     davis   victoria         full-time               NaT   \n",
       "2190  baton rouge pd     davis      james         full-time               NaT   \n",
       "2204  baton rouge pd      cody    michael         full-time               NaT   \n",
       "\n",
       "     last_pc_12_qualification_date hire_year hire_month hire_day  \\\n",
       "1879                    2010-05-06      1980         12       28   \n",
       "1882                    2010-05-06      1977         04       01   \n",
       "1922                    2010-05-06      1981         05       12   \n",
       "2190                    2010-05-06      1985         03       25   \n",
       "2204                    2010-05-06      1985         06       17   \n",
       "\n",
       "                                   uid  \n",
       "1879  8d668af729f465681a6c830b8761a80b  \n",
       "1882  2119a96103d7832cd58a2f3805a5deee  \n",
       "1922  3bc918fe8cfa282234633f4e88a24611  \n",
       "2190  0c34b2655c77fcb9be681a266bd941b2  \n",
       "2204  25cffb9ead8f8dacca16577c66d81d0e  "
      ],
      "text/html": "<div>\n<style scoped>\n    .dataframe tbody tr th:only-of-type {\n        vertical-align: middle;\n    }\n\n    .dataframe tbody tr th {\n        vertical-align: top;\n    }\n\n    .dataframe thead th {\n        text-align: right;\n    }\n</style>\n<table border=\"1\" class=\"dataframe\">\n  <thead>\n    <tr style=\"text-align: right;\">\n      <th></th>\n      <th>agency</th>\n      <th>last_name</th>\n      <th>first_name</th>\n      <th>employment_status</th>\n      <th>level_1_cert_date</th>\n      <th>last_pc_12_qualification_date</th>\n      <th>hire_year</th>\n      <th>hire_month</th>\n      <th>hire_day</th>\n      <th>uid</th>\n    </tr>\n  </thead>\n  <tbody>\n    <tr>\n      <th>1879</th>\n      <td>baton rouge pd</td>\n      <td>sansone</td>\n      <td>david</td>\n      <td>full-time</td>\n      <td>NaT</td>\n      <td>2010-05-06</td>\n      <td>1980</td>\n      <td>12</td>\n      <td>28</td>\n      <td>8d668af729f465681a6c830b8761a80b</td>\n    </tr>\n    <tr>\n      <th>1882</th>\n      <td>baton rouge pd</td>\n      <td>gipson</td>\n      <td>jewel</td>\n      <td>full-time</td>\n      <td>NaT</td>\n      <td>2010-05-06</td>\n      <td>1977</td>\n      <td>04</td>\n      <td>01</td>\n      <td>2119a96103d7832cd58a2f3805a5deee</td>\n    </tr>\n    <tr>\n      <th>1922</th>\n      <td>baton rouge pd</td>\n      <td>davis</td>\n      <td>victoria</td>\n      <td>full-time</td>\n      <td>NaT</td>\n      <td>2010-05-06</td>\n      <td>1981</td>\n      <td>05</td>\n      <td>12</td>\n      <td>3bc918fe8cfa282234633f4e88a24611</td>\n    </tr>\n    <tr>\n      <th>2190</th>\n      <td>baton rouge pd</td>\n      <td>davis</td>\n      <td>james</td>\n      <td>full-time</td>\n      <td>NaT</td>\n      <td>2010-05-06</td>\n      <td>1985</td>\n      <td>03</td>\n      <td>25</td>\n      <td>0c34b2655c77fcb9be681a266bd941b2</td>\n    </tr>\n    <tr>\n      <th>2204</th>\n      <td>baton rouge pd</td>\n      <td>cody</td>\n      <td>michael</td>\n      <td>full-time</td>\n      <td>NaT</td>\n      <td>2010-05-06</td>\n      <td>1985</td>\n      <td>06</td>\n      <td>17</td>\n      <td>25cffb9ead8f8dacca16577c66d81d0e</td>\n    </tr>\n  </tbody>\n</table>\n</div>"
     },
     "metadata": {},
     "execution_count": 11
    }
   ],
   "source": [
    "post.loc[(post.last_pc_12_qualification_date == '2010-05-06') & (post.agency == 'baton rouge pd')]"
   ]
  },
  {
   "cell_type": "code",
   "execution_count": null,
   "metadata": {},
   "outputs": [],
   "source": []
  }
 ]
}
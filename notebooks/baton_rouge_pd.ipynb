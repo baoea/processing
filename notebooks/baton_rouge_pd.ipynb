{
 "metadata": {
  "language_info": {
   "codemirror_mode": {
    "name": "ipython",
    "version": 3
   },
   "file_extension": ".py",
   "mimetype": "text/x-python",
   "name": "python",
   "nbconvert_exporter": "python",
   "pygments_lexer": "ipython3",
   "version": "3.9.2"
  },
  "orig_nbformat": 2,
  "kernelspec": {
   "name": "python3",
   "display_name": "Python 3.9.2 64-bit ('base': virtualenvwrapper)"
  },
  "interpreter": {
   "hash": "55d6dfa6f6295e03bf132df3e61c1565ff1c22b645ef82a5638b280b97b3597b"
  }
 },
 "nbformat": 4,
 "nbformat_minor": 2,
 "cells": [
  {
   "cell_type": "code",
   "execution_count": 1,
   "metadata": {},
   "outputs": [],
   "source": [
    "import re\n",
    "import sys; sys.path.append(\"../\")\n",
    "\n",
    "import numpy as np\n",
    "import pandas as pd\n",
    "from datamatch import (\n",
    "    ColumnsIndex, StringSimilarity, JaroWinklerSimilarity, DateSimilarity, ThresholdMatcher\n",
    ")\n",
    "\n",
    "from lib.columns import rearrange_complaint_columns\n",
    "from lib.explore import print_df\n",
    "from clean.baton_rouge_pd_cprr import clean_18\n",
    "from clean.baton_rouge_csd_pprr import clean_17 as clean_csd_17, clean_19 as clean_csd_19\n",
    "from clean.baton_rouge_pd_pprr import clean as clean_pprr"
   ]
  },
  {
   "cell_type": "code",
   "execution_count": 2,
   "metadata": {},
   "outputs": [
    {
     "output_type": "execute_result",
     "data": {
      "text/plain": [
       "    rank_desc badge_no     last_name   first_name middle_initial  \\\n",
       "0         cpl      291        abadie     jonathan              m   \n",
       "1         cpl      457         acree        jason              k   \n",
       "2         off     1211         adams        aimee                  \n",
       "3         off     1201         adams    dominique                  \n",
       "4         off     1107  adams-walker        ebony                  \n",
       "..        ...      ...           ...          ...            ...   \n",
       "605       sgt      170       woodard      rodrick              e   \n",
       "606       cpl      275      woodring       steven              z   \n",
       "607       cpl      430        wright  christopher              j   \n",
       "608       sgt      176      young jr       donald              p   \n",
       "609       off     1064       zeitler      michael                  \n",
       "\n",
       "    data_production_year          agency                               uid  \n",
       "0                   2021  Baton Rouge PD  572b5ea334efc3ff94da634ae323b930  \n",
       "1                   2021  Baton Rouge PD  a02b3a98a05c9b8fedf038032d0b094e  \n",
       "2                   2021  Baton Rouge PD  b6f1552b3c0ef8c8b17562704971dbf0  \n",
       "3                   2021  Baton Rouge PD  48a35ff775efcb6cb53dbea5127a38fc  \n",
       "4                   2021  Baton Rouge PD  2b3884808972f05549fe89ed93cdfff7  \n",
       "..                   ...             ...                               ...  \n",
       "605                 2021  Baton Rouge PD  6d82e73c3d401a0424eef198d7ace669  \n",
       "606                 2021  Baton Rouge PD  86ed1bb573d54cc9791cd7adcccb68d5  \n",
       "607                 2021  Baton Rouge PD  464b671eff4b54c1765d114ea064d8ac  \n",
       "608                 2021  Baton Rouge PD  6503fb0a070a37136a1e291cf7430915  \n",
       "609                 2021  Baton Rouge PD  4adb9464f0dd2938a375bf3bdeb6a913  \n",
       "\n",
       "[610 rows x 8 columns]"
      ],
      "text/html": "<div>\n<style scoped>\n    .dataframe tbody tr th:only-of-type {\n        vertical-align: middle;\n    }\n\n    .dataframe tbody tr th {\n        vertical-align: top;\n    }\n\n    .dataframe thead th {\n        text-align: right;\n    }\n</style>\n<table border=\"1\" class=\"dataframe\">\n  <thead>\n    <tr style=\"text-align: right;\">\n      <th></th>\n      <th>rank_desc</th>\n      <th>badge_no</th>\n      <th>last_name</th>\n      <th>first_name</th>\n      <th>middle_initial</th>\n      <th>data_production_year</th>\n      <th>agency</th>\n      <th>uid</th>\n    </tr>\n  </thead>\n  <tbody>\n    <tr>\n      <th>0</th>\n      <td>cpl</td>\n      <td>291</td>\n      <td>abadie</td>\n      <td>jonathan</td>\n      <td>m</td>\n      <td>2021</td>\n      <td>Baton Rouge PD</td>\n      <td>572b5ea334efc3ff94da634ae323b930</td>\n    </tr>\n    <tr>\n      <th>1</th>\n      <td>cpl</td>\n      <td>457</td>\n      <td>acree</td>\n      <td>jason</td>\n      <td>k</td>\n      <td>2021</td>\n      <td>Baton Rouge PD</td>\n      <td>a02b3a98a05c9b8fedf038032d0b094e</td>\n    </tr>\n    <tr>\n      <th>2</th>\n      <td>off</td>\n      <td>1211</td>\n      <td>adams</td>\n      <td>aimee</td>\n      <td></td>\n      <td>2021</td>\n      <td>Baton Rouge PD</td>\n      <td>b6f1552b3c0ef8c8b17562704971dbf0</td>\n    </tr>\n    <tr>\n      <th>3</th>\n      <td>off</td>\n      <td>1201</td>\n      <td>adams</td>\n      <td>dominique</td>\n      <td></td>\n      <td>2021</td>\n      <td>Baton Rouge PD</td>\n      <td>48a35ff775efcb6cb53dbea5127a38fc</td>\n    </tr>\n    <tr>\n      <th>4</th>\n      <td>off</td>\n      <td>1107</td>\n      <td>adams-walker</td>\n      <td>ebony</td>\n      <td></td>\n      <td>2021</td>\n      <td>Baton Rouge PD</td>\n      <td>2b3884808972f05549fe89ed93cdfff7</td>\n    </tr>\n    <tr>\n      <th>...</th>\n      <td>...</td>\n      <td>...</td>\n      <td>...</td>\n      <td>...</td>\n      <td>...</td>\n      <td>...</td>\n      <td>...</td>\n      <td>...</td>\n    </tr>\n    <tr>\n      <th>605</th>\n      <td>sgt</td>\n      <td>170</td>\n      <td>woodard</td>\n      <td>rodrick</td>\n      <td>e</td>\n      <td>2021</td>\n      <td>Baton Rouge PD</td>\n      <td>6d82e73c3d401a0424eef198d7ace669</td>\n    </tr>\n    <tr>\n      <th>606</th>\n      <td>cpl</td>\n      <td>275</td>\n      <td>woodring</td>\n      <td>steven</td>\n      <td>z</td>\n      <td>2021</td>\n      <td>Baton Rouge PD</td>\n      <td>86ed1bb573d54cc9791cd7adcccb68d5</td>\n    </tr>\n    <tr>\n      <th>607</th>\n      <td>cpl</td>\n      <td>430</td>\n      <td>wright</td>\n      <td>christopher</td>\n      <td>j</td>\n      <td>2021</td>\n      <td>Baton Rouge PD</td>\n      <td>464b671eff4b54c1765d114ea064d8ac</td>\n    </tr>\n    <tr>\n      <th>608</th>\n      <td>sgt</td>\n      <td>176</td>\n      <td>young jr</td>\n      <td>donald</td>\n      <td>p</td>\n      <td>2021</td>\n      <td>Baton Rouge PD</td>\n      <td>6503fb0a070a37136a1e291cf7430915</td>\n    </tr>\n    <tr>\n      <th>609</th>\n      <td>off</td>\n      <td>1064</td>\n      <td>zeitler</td>\n      <td>michael</td>\n      <td></td>\n      <td>2021</td>\n      <td>Baton Rouge PD</td>\n      <td>4adb9464f0dd2938a375bf3bdeb6a913</td>\n    </tr>\n  </tbody>\n</table>\n<p>610 rows × 8 columns</p>\n</div>"
     },
     "metadata": {},
     "execution_count": 2
    }
   ],
   "source": [
    "df17, df19 = clean_csd_17(), clean_csd_19()\n",
    "df = clean_pprr()\n",
    "df"
   ]
  },
  {
   "cell_type": "code",
   "execution_count": 3,
   "metadata": {},
   "outputs": [
    {
     "output_type": "execute_result",
     "data": {
      "text/plain": [
       "      year  employee_id last_name first_name middle_initial  department_code  \\\n",
       "2629  2008       356565     young   charline              b          5050001   \n",
       "2630  2009       356565     young   charline              b          5050001   \n",
       "2631  2010       356565     young   charline              b          5050001   \n",
       "2632  2011       356565     young   charline              b          5050001   \n",
       "2633  2012       356565     young   charline              b          5050001   \n",
       "...    ...          ...       ...        ...            ...              ...   \n",
       "6584  2013       491055      hall     travis              t          5020001   \n",
       "6585  2014       491055      hall     travis              t          5020001   \n",
       "7222  2015       491055      hall     travis              t          5020001   \n",
       "8958  2016       491055      hall     travis              t          5020001   \n",
       "9281  2017       491055      hall     travis              t          5020001   \n",
       "\n",
       "                department_desc  rank_code               rank_desc  \\\n",
       "2629  operation services bureau       5130  fingerprint technician   \n",
       "2630  operation services bureau       5130  fingerprint technician   \n",
       "2631  operation services bureau       5130  fingerprint technician   \n",
       "2632  operation services bureau       5130  fingerprint technician   \n",
       "2633  operation services bureau       5130  fingerprint technician   \n",
       "...                         ...        ...                     ...   \n",
       "6584      uniform patrol bureau       5005                 officer   \n",
       "6585      uniform patrol bureau       5005                 officer   \n",
       "7222      uniform patrol bureau       5005                 officer   \n",
       "8958      uniform patrol bureau       5005                 officer   \n",
       "9281      uniform patrol bureau       5005                 officer   \n",
       "\n",
       "      employment_status  ...  hire_month  hire_day resign_year resign_month  \\\n",
       "2629                  0  ...           2        21                            \n",
       "2630                  0  ...           2        21                            \n",
       "2631                  0  ...           2        21                            \n",
       "2632                  0  ...           2        21                            \n",
       "2633                  0  ...           2        21                            \n",
       "...                 ...  ...         ...       ...         ...          ...   \n",
       "6584                  0  ...           8        22                            \n",
       "6585                  0  ...           8        22                            \n",
       "7222                  0  ...           8        22                            \n",
       "8958                  0  ...           8        22                            \n",
       "9281                  0  ...           8        22                            \n",
       "\n",
       "     resign_day           agency                               uid  \\\n",
       "2629             Baton Rouge CSD  003c3df3701ee93205c30d9430602764   \n",
       "2630             Baton Rouge CSD  003c3df3701ee93205c30d9430602764   \n",
       "2631             Baton Rouge CSD  003c3df3701ee93205c30d9430602764   \n",
       "2632             Baton Rouge CSD  003c3df3701ee93205c30d9430602764   \n",
       "2633             Baton Rouge CSD  003c3df3701ee93205c30d9430602764   \n",
       "...         ...              ...                               ...   \n",
       "6584             Baton Rouge CSD  ffd61b19fc8c9d5456e34c57201f7e5e   \n",
       "6585             Baton Rouge CSD  ffd61b19fc8c9d5456e34c57201f7e5e   \n",
       "7222             Baton Rouge CSD  ffd61b19fc8c9d5456e34c57201f7e5e   \n",
       "8958             Baton Rouge CSD  ffd61b19fc8c9d5456e34c57201f7e5e   \n",
       "9281             Baton Rouge CSD  ffd61b19fc8c9d5456e34c57201f7e5e   \n",
       "\n",
       "     pay_effective_year rank_year dept_year  \n",
       "2629             2008.0    2008.0    2008.0  \n",
       "2630             2009.0       NaN       NaN  \n",
       "2631             2010.0       NaN       NaN  \n",
       "2632             2011.0       NaN       NaN  \n",
       "2633             2012.0       NaN       NaN  \n",
       "...                 ...       ...       ...  \n",
       "6584             2013.0       NaN       NaN  \n",
       "6585             2014.0       NaN       NaN  \n",
       "7222             2015.0       NaN       NaN  \n",
       "8958             2016.0       NaN       NaN  \n",
       "9281             2017.0       NaN       NaN  \n",
       "\n",
       "[10047 rows x 25 columns]"
      ],
      "text/html": "<div>\n<style scoped>\n    .dataframe tbody tr th:only-of-type {\n        vertical-align: middle;\n    }\n\n    .dataframe tbody tr th {\n        vertical-align: top;\n    }\n\n    .dataframe thead th {\n        text-align: right;\n    }\n</style>\n<table border=\"1\" class=\"dataframe\">\n  <thead>\n    <tr style=\"text-align: right;\">\n      <th></th>\n      <th>year</th>\n      <th>employee_id</th>\n      <th>last_name</th>\n      <th>first_name</th>\n      <th>middle_initial</th>\n      <th>department_code</th>\n      <th>department_desc</th>\n      <th>rank_code</th>\n      <th>rank_desc</th>\n      <th>employment_status</th>\n      <th>...</th>\n      <th>hire_month</th>\n      <th>hire_day</th>\n      <th>resign_year</th>\n      <th>resign_month</th>\n      <th>resign_day</th>\n      <th>agency</th>\n      <th>uid</th>\n      <th>pay_effective_year</th>\n      <th>rank_year</th>\n      <th>dept_year</th>\n    </tr>\n  </thead>\n  <tbody>\n    <tr>\n      <th>2629</th>\n      <td>2008</td>\n      <td>356565</td>\n      <td>young</td>\n      <td>charline</td>\n      <td>b</td>\n      <td>5050001</td>\n      <td>operation services bureau</td>\n      <td>5130</td>\n      <td>fingerprint technician</td>\n      <td>0</td>\n      <td>...</td>\n      <td>2</td>\n      <td>21</td>\n      <td></td>\n      <td></td>\n      <td></td>\n      <td>Baton Rouge CSD</td>\n      <td>003c3df3701ee93205c30d9430602764</td>\n      <td>2008.0</td>\n      <td>2008.0</td>\n      <td>2008.0</td>\n    </tr>\n    <tr>\n      <th>2630</th>\n      <td>2009</td>\n      <td>356565</td>\n      <td>young</td>\n      <td>charline</td>\n      <td>b</td>\n      <td>5050001</td>\n      <td>operation services bureau</td>\n      <td>5130</td>\n      <td>fingerprint technician</td>\n      <td>0</td>\n      <td>...</td>\n      <td>2</td>\n      <td>21</td>\n      <td></td>\n      <td></td>\n      <td></td>\n      <td>Baton Rouge CSD</td>\n      <td>003c3df3701ee93205c30d9430602764</td>\n      <td>2009.0</td>\n      <td>NaN</td>\n      <td>NaN</td>\n    </tr>\n    <tr>\n      <th>2631</th>\n      <td>2010</td>\n      <td>356565</td>\n      <td>young</td>\n      <td>charline</td>\n      <td>b</td>\n      <td>5050001</td>\n      <td>operation services bureau</td>\n      <td>5130</td>\n      <td>fingerprint technician</td>\n      <td>0</td>\n      <td>...</td>\n      <td>2</td>\n      <td>21</td>\n      <td></td>\n      <td></td>\n      <td></td>\n      <td>Baton Rouge CSD</td>\n      <td>003c3df3701ee93205c30d9430602764</td>\n      <td>2010.0</td>\n      <td>NaN</td>\n      <td>NaN</td>\n    </tr>\n    <tr>\n      <th>2632</th>\n      <td>2011</td>\n      <td>356565</td>\n      <td>young</td>\n      <td>charline</td>\n      <td>b</td>\n      <td>5050001</td>\n      <td>operation services bureau</td>\n      <td>5130</td>\n      <td>fingerprint technician</td>\n      <td>0</td>\n      <td>...</td>\n      <td>2</td>\n      <td>21</td>\n      <td></td>\n      <td></td>\n      <td></td>\n      <td>Baton Rouge CSD</td>\n      <td>003c3df3701ee93205c30d9430602764</td>\n      <td>2011.0</td>\n      <td>NaN</td>\n      <td>NaN</td>\n    </tr>\n    <tr>\n      <th>2633</th>\n      <td>2012</td>\n      <td>356565</td>\n      <td>young</td>\n      <td>charline</td>\n      <td>b</td>\n      <td>5050001</td>\n      <td>operation services bureau</td>\n      <td>5130</td>\n      <td>fingerprint technician</td>\n      <td>0</td>\n      <td>...</td>\n      <td>2</td>\n      <td>21</td>\n      <td></td>\n      <td></td>\n      <td></td>\n      <td>Baton Rouge CSD</td>\n      <td>003c3df3701ee93205c30d9430602764</td>\n      <td>2012.0</td>\n      <td>NaN</td>\n      <td>NaN</td>\n    </tr>\n    <tr>\n      <th>...</th>\n      <td>...</td>\n      <td>...</td>\n      <td>...</td>\n      <td>...</td>\n      <td>...</td>\n      <td>...</td>\n      <td>...</td>\n      <td>...</td>\n      <td>...</td>\n      <td>...</td>\n      <td>...</td>\n      <td>...</td>\n      <td>...</td>\n      <td>...</td>\n      <td>...</td>\n      <td>...</td>\n      <td>...</td>\n      <td>...</td>\n      <td>...</td>\n      <td>...</td>\n      <td>...</td>\n    </tr>\n    <tr>\n      <th>6584</th>\n      <td>2013</td>\n      <td>491055</td>\n      <td>hall</td>\n      <td>travis</td>\n      <td>t</td>\n      <td>5020001</td>\n      <td>uniform patrol bureau</td>\n      <td>5005</td>\n      <td>officer</td>\n      <td>0</td>\n      <td>...</td>\n      <td>8</td>\n      <td>22</td>\n      <td></td>\n      <td></td>\n      <td></td>\n      <td>Baton Rouge CSD</td>\n      <td>ffd61b19fc8c9d5456e34c57201f7e5e</td>\n      <td>2013.0</td>\n      <td>NaN</td>\n      <td>NaN</td>\n    </tr>\n    <tr>\n      <th>6585</th>\n      <td>2014</td>\n      <td>491055</td>\n      <td>hall</td>\n      <td>travis</td>\n      <td>t</td>\n      <td>5020001</td>\n      <td>uniform patrol bureau</td>\n      <td>5005</td>\n      <td>officer</td>\n      <td>0</td>\n      <td>...</td>\n      <td>8</td>\n      <td>22</td>\n      <td></td>\n      <td></td>\n      <td></td>\n      <td>Baton Rouge CSD</td>\n      <td>ffd61b19fc8c9d5456e34c57201f7e5e</td>\n      <td>2014.0</td>\n      <td>NaN</td>\n      <td>NaN</td>\n    </tr>\n    <tr>\n      <th>7222</th>\n      <td>2015</td>\n      <td>491055</td>\n      <td>hall</td>\n      <td>travis</td>\n      <td>t</td>\n      <td>5020001</td>\n      <td>uniform patrol bureau</td>\n      <td>5005</td>\n      <td>officer</td>\n      <td>0</td>\n      <td>...</td>\n      <td>8</td>\n      <td>22</td>\n      <td></td>\n      <td></td>\n      <td></td>\n      <td>Baton Rouge CSD</td>\n      <td>ffd61b19fc8c9d5456e34c57201f7e5e</td>\n      <td>2015.0</td>\n      <td>NaN</td>\n      <td>NaN</td>\n    </tr>\n    <tr>\n      <th>8958</th>\n      <td>2016</td>\n      <td>491055</td>\n      <td>hall</td>\n      <td>travis</td>\n      <td>t</td>\n      <td>5020001</td>\n      <td>uniform patrol bureau</td>\n      <td>5005</td>\n      <td>officer</td>\n      <td>0</td>\n      <td>...</td>\n      <td>8</td>\n      <td>22</td>\n      <td></td>\n      <td></td>\n      <td></td>\n      <td>Baton Rouge CSD</td>\n      <td>ffd61b19fc8c9d5456e34c57201f7e5e</td>\n      <td>2016.0</td>\n      <td>NaN</td>\n      <td>NaN</td>\n    </tr>\n    <tr>\n      <th>9281</th>\n      <td>2017</td>\n      <td>491055</td>\n      <td>hall</td>\n      <td>travis</td>\n      <td>t</td>\n      <td>5020001</td>\n      <td>uniform patrol bureau</td>\n      <td>5005</td>\n      <td>officer</td>\n      <td>0</td>\n      <td>...</td>\n      <td>8</td>\n      <td>22</td>\n      <td></td>\n      <td></td>\n      <td></td>\n      <td>Baton Rouge CSD</td>\n      <td>ffd61b19fc8c9d5456e34c57201f7e5e</td>\n      <td>2017.0</td>\n      <td>NaN</td>\n      <td>NaN</td>\n    </tr>\n  </tbody>\n</table>\n<p>10047 rows × 25 columns</p>\n</div>"
     },
     "metadata": {},
     "execution_count": 3
    }
   ],
   "source": [
    "df17"
   ]
  },
  {
   "cell_type": "code",
   "execution_count": 5,
   "metadata": {},
   "outputs": [
    {
     "output_type": "execute_result",
     "data": {
      "text/plain": [
       "      year last_name   first_name middle_initial  department_code  \\\n",
       "366   2018     davis        ruben              l             5060   \n",
       "1298  2019     davis        ruben              l             5060   \n",
       "624   2018       day        louis              r             5070   \n",
       "1537  2019       day        louis              r             5070   \n",
       "239   2018  canezaro       scotty              w             5060   \n",
       "...    ...       ...          ...            ...              ...   \n",
       "1400  2019     magee        brett              s             5070   \n",
       "800   2018    rogers  christopher              k             5060   \n",
       "1699  2019    rogers  christopher              k             5060   \n",
       "770   2018    taylor        darcy              d             5070   \n",
       "1673  2019    taylor        darcy              d             5070   \n",
       "\n",
       "                     department_desc  rank_code              rank_desc  \\\n",
       "366        special operations bureau       6525  school crossing guard   \n",
       "1298       special operations bureau       6525  school crossing guard   \n",
       "624   criminal investigations bureau       5010               sergeant   \n",
       "1537  criminal investigations bureau       5010               sergeant   \n",
       "239        special operations bureau       5005                officer   \n",
       "...                              ...        ...                    ...   \n",
       "1400  criminal investigations bureau       5010               sergeant   \n",
       "800        special operations bureau       5010               sergeant   \n",
       "1699       special operations bureau       5010               sergeant   \n",
       "770   criminal investigations bureau       5005                officer   \n",
       "1673  criminal investigations bureau       5005                officer   \n",
       "\n",
       "     employment_status    salary  ... hire_month hire_day resign_year  \\\n",
       "366             active   5183.75  ...         10       12               \n",
       "1298            active   4683.50  ...         10       12               \n",
       "624             active  75280.06  ...          4        1               \n",
       "1537            active  79915.74  ...          4        1               \n",
       "239             active  62102.91  ...          7        9               \n",
       "...                ...       ...  ...        ...      ...         ...   \n",
       "1400            active  66433.79  ...          7       31               \n",
       "800             active  83372.66  ...          7       31               \n",
       "1699            active  83493.53  ...          7       31               \n",
       "770           inactive  57546.46  ...          8       31        2018   \n",
       "1673          inactive   1410.77  ...          8       31        2018   \n",
       "\n",
       "     resign_month resign_day           agency  \\\n",
       "366                           Baton Rouge CSD   \n",
       "1298                          Baton Rouge CSD   \n",
       "624                           Baton Rouge CSD   \n",
       "1537                          Baton Rouge CSD   \n",
       "239                           Baton Rouge CSD   \n",
       "...           ...        ...              ...   \n",
       "1400                          Baton Rouge CSD   \n",
       "800                           Baton Rouge CSD   \n",
       "1699                          Baton Rouge CSD   \n",
       "770            11         27  Baton Rouge CSD   \n",
       "1673           11         27  Baton Rouge CSD   \n",
       "\n",
       "                                   uid pay_effective_year rank_year dept_year  \n",
       "366   002a838dd155fd212beff16e1d51d5f2             2018.0    2018.0    2018.0  \n",
       "1298  002a838dd155fd212beff16e1d51d5f2             2019.0       NaN       NaN  \n",
       "624   007dd316e89b0bca62d1e429de66447f             2018.0    2018.0    2018.0  \n",
       "1537  007dd316e89b0bca62d1e429de66447f             2019.0       NaN       NaN  \n",
       "239   009b9296f30f34e565831502f3a835a0             2018.0    2018.0    2018.0  \n",
       "...                                ...                ...       ...       ...  \n",
       "1400  ff74d79f213d679a26f3eb8383b20c08             2019.0       NaN       NaN  \n",
       "800   ff89ecdef1929840c2cbf3dfe26a9b19             2018.0    2018.0    2018.0  \n",
       "1699  ff89ecdef1929840c2cbf3dfe26a9b19             2019.0       NaN       NaN  \n",
       "770   ffc225cf35e2f4817f1263414f7c72f5             2018.0    2018.0    2018.0  \n",
       "1673  ffc225cf35e2f4817f1263414f7c72f5             2019.0       NaN       NaN  \n",
       "\n",
       "[1962 rows x 24 columns]"
      ],
      "text/html": "<div>\n<style scoped>\n    .dataframe tbody tr th:only-of-type {\n        vertical-align: middle;\n    }\n\n    .dataframe tbody tr th {\n        vertical-align: top;\n    }\n\n    .dataframe thead th {\n        text-align: right;\n    }\n</style>\n<table border=\"1\" class=\"dataframe\">\n  <thead>\n    <tr style=\"text-align: right;\">\n      <th></th>\n      <th>year</th>\n      <th>last_name</th>\n      <th>first_name</th>\n      <th>middle_initial</th>\n      <th>department_code</th>\n      <th>department_desc</th>\n      <th>rank_code</th>\n      <th>rank_desc</th>\n      <th>employment_status</th>\n      <th>salary</th>\n      <th>...</th>\n      <th>hire_month</th>\n      <th>hire_day</th>\n      <th>resign_year</th>\n      <th>resign_month</th>\n      <th>resign_day</th>\n      <th>agency</th>\n      <th>uid</th>\n      <th>pay_effective_year</th>\n      <th>rank_year</th>\n      <th>dept_year</th>\n    </tr>\n  </thead>\n  <tbody>\n    <tr>\n      <th>366</th>\n      <td>2018</td>\n      <td>davis</td>\n      <td>ruben</td>\n      <td>l</td>\n      <td>5060</td>\n      <td>special operations bureau</td>\n      <td>6525</td>\n      <td>school crossing guard</td>\n      <td>active</td>\n      <td>5183.75</td>\n      <td>...</td>\n      <td>10</td>\n      <td>12</td>\n      <td></td>\n      <td></td>\n      <td></td>\n      <td>Baton Rouge CSD</td>\n      <td>002a838dd155fd212beff16e1d51d5f2</td>\n      <td>2018.0</td>\n      <td>2018.0</td>\n      <td>2018.0</td>\n    </tr>\n    <tr>\n      <th>1298</th>\n      <td>2019</td>\n      <td>davis</td>\n      <td>ruben</td>\n      <td>l</td>\n      <td>5060</td>\n      <td>special operations bureau</td>\n      <td>6525</td>\n      <td>school crossing guard</td>\n      <td>active</td>\n      <td>4683.50</td>\n      <td>...</td>\n      <td>10</td>\n      <td>12</td>\n      <td></td>\n      <td></td>\n      <td></td>\n      <td>Baton Rouge CSD</td>\n      <td>002a838dd155fd212beff16e1d51d5f2</td>\n      <td>2019.0</td>\n      <td>NaN</td>\n      <td>NaN</td>\n    </tr>\n    <tr>\n      <th>624</th>\n      <td>2018</td>\n      <td>day</td>\n      <td>louis</td>\n      <td>r</td>\n      <td>5070</td>\n      <td>criminal investigations bureau</td>\n      <td>5010</td>\n      <td>sergeant</td>\n      <td>active</td>\n      <td>75280.06</td>\n      <td>...</td>\n      <td>4</td>\n      <td>1</td>\n      <td></td>\n      <td></td>\n      <td></td>\n      <td>Baton Rouge CSD</td>\n      <td>007dd316e89b0bca62d1e429de66447f</td>\n      <td>2018.0</td>\n      <td>2018.0</td>\n      <td>2018.0</td>\n    </tr>\n    <tr>\n      <th>1537</th>\n      <td>2019</td>\n      <td>day</td>\n      <td>louis</td>\n      <td>r</td>\n      <td>5070</td>\n      <td>criminal investigations bureau</td>\n      <td>5010</td>\n      <td>sergeant</td>\n      <td>active</td>\n      <td>79915.74</td>\n      <td>...</td>\n      <td>4</td>\n      <td>1</td>\n      <td></td>\n      <td></td>\n      <td></td>\n      <td>Baton Rouge CSD</td>\n      <td>007dd316e89b0bca62d1e429de66447f</td>\n      <td>2019.0</td>\n      <td>NaN</td>\n      <td>NaN</td>\n    </tr>\n    <tr>\n      <th>239</th>\n      <td>2018</td>\n      <td>canezaro</td>\n      <td>scotty</td>\n      <td>w</td>\n      <td>5060</td>\n      <td>special operations bureau</td>\n      <td>5005</td>\n      <td>officer</td>\n      <td>active</td>\n      <td>62102.91</td>\n      <td>...</td>\n      <td>7</td>\n      <td>9</td>\n      <td></td>\n      <td></td>\n      <td></td>\n      <td>Baton Rouge CSD</td>\n      <td>009b9296f30f34e565831502f3a835a0</td>\n      <td>2018.0</td>\n      <td>2018.0</td>\n      <td>2018.0</td>\n    </tr>\n    <tr>\n      <th>...</th>\n      <td>...</td>\n      <td>...</td>\n      <td>...</td>\n      <td>...</td>\n      <td>...</td>\n      <td>...</td>\n      <td>...</td>\n      <td>...</td>\n      <td>...</td>\n      <td>...</td>\n      <td>...</td>\n      <td>...</td>\n      <td>...</td>\n      <td>...</td>\n      <td>...</td>\n      <td>...</td>\n      <td>...</td>\n      <td>...</td>\n      <td>...</td>\n      <td>...</td>\n      <td>...</td>\n    </tr>\n    <tr>\n      <th>1400</th>\n      <td>2019</td>\n      <td>magee</td>\n      <td>brett</td>\n      <td>s</td>\n      <td>5070</td>\n      <td>criminal investigations bureau</td>\n      <td>5010</td>\n      <td>sergeant</td>\n      <td>active</td>\n      <td>66433.79</td>\n      <td>...</td>\n      <td>7</td>\n      <td>31</td>\n      <td></td>\n      <td></td>\n      <td></td>\n      <td>Baton Rouge CSD</td>\n      <td>ff74d79f213d679a26f3eb8383b20c08</td>\n      <td>2019.0</td>\n      <td>NaN</td>\n      <td>NaN</td>\n    </tr>\n    <tr>\n      <th>800</th>\n      <td>2018</td>\n      <td>rogers</td>\n      <td>christopher</td>\n      <td>k</td>\n      <td>5060</td>\n      <td>special operations bureau</td>\n      <td>5010</td>\n      <td>sergeant</td>\n      <td>active</td>\n      <td>83372.66</td>\n      <td>...</td>\n      <td>7</td>\n      <td>31</td>\n      <td></td>\n      <td></td>\n      <td></td>\n      <td>Baton Rouge CSD</td>\n      <td>ff89ecdef1929840c2cbf3dfe26a9b19</td>\n      <td>2018.0</td>\n      <td>2018.0</td>\n      <td>2018.0</td>\n    </tr>\n    <tr>\n      <th>1699</th>\n      <td>2019</td>\n      <td>rogers</td>\n      <td>christopher</td>\n      <td>k</td>\n      <td>5060</td>\n      <td>special operations bureau</td>\n      <td>5010</td>\n      <td>sergeant</td>\n      <td>active</td>\n      <td>83493.53</td>\n      <td>...</td>\n      <td>7</td>\n      <td>31</td>\n      <td></td>\n      <td></td>\n      <td></td>\n      <td>Baton Rouge CSD</td>\n      <td>ff89ecdef1929840c2cbf3dfe26a9b19</td>\n      <td>2019.0</td>\n      <td>NaN</td>\n      <td>NaN</td>\n    </tr>\n    <tr>\n      <th>770</th>\n      <td>2018</td>\n      <td>taylor</td>\n      <td>darcy</td>\n      <td>d</td>\n      <td>5070</td>\n      <td>criminal investigations bureau</td>\n      <td>5005</td>\n      <td>officer</td>\n      <td>inactive</td>\n      <td>57546.46</td>\n      <td>...</td>\n      <td>8</td>\n      <td>31</td>\n      <td>2018</td>\n      <td>11</td>\n      <td>27</td>\n      <td>Baton Rouge CSD</td>\n      <td>ffc225cf35e2f4817f1263414f7c72f5</td>\n      <td>2018.0</td>\n      <td>2018.0</td>\n      <td>2018.0</td>\n    </tr>\n    <tr>\n      <th>1673</th>\n      <td>2019</td>\n      <td>taylor</td>\n      <td>darcy</td>\n      <td>d</td>\n      <td>5070</td>\n      <td>criminal investigations bureau</td>\n      <td>5005</td>\n      <td>officer</td>\n      <td>inactive</td>\n      <td>1410.77</td>\n      <td>...</td>\n      <td>8</td>\n      <td>31</td>\n      <td>2018</td>\n      <td>11</td>\n      <td>27</td>\n      <td>Baton Rouge CSD</td>\n      <td>ffc225cf35e2f4817f1263414f7c72f5</td>\n      <td>2019.0</td>\n      <td>NaN</td>\n      <td>NaN</td>\n    </tr>\n  </tbody>\n</table>\n<p>1962 rows × 24 columns</p>\n</div>"
     },
     "metadata": {},
     "execution_count": 5
    }
   ],
   "source": [
    "df19"
   ]
  },
  {
   "cell_type": "code",
   "execution_count": 22,
   "metadata": {},
   "outputs": [
    {
     "output_type": "execute_result",
     "data": {
      "text/plain": [
       "Empty DataFrame\n",
       "Columns: [year, last_name, first_name, middle_initial, department_code, department_desc, rank_code, rank_desc, employment_status, salary, employee_id, data_production_year, salary_freq, hire_year, hire_month, hire_day, resign_year, resign_month, resign_day, agency, uid, pay_effective_year, rank_year, dept_year]\n",
       "Index: []\n",
       "\n",
       "[0 rows x 24 columns]"
      ],
      "text/html": "<div>\n<style scoped>\n    .dataframe tbody tr th:only-of-type {\n        vertical-align: middle;\n    }\n\n    .dataframe tbody tr th {\n        vertical-align: top;\n    }\n\n    .dataframe thead th {\n        text-align: right;\n    }\n</style>\n<table border=\"1\" class=\"dataframe\">\n  <thead>\n    <tr style=\"text-align: right;\">\n      <th></th>\n      <th>year</th>\n      <th>last_name</th>\n      <th>first_name</th>\n      <th>middle_initial</th>\n      <th>department_code</th>\n      <th>department_desc</th>\n      <th>rank_code</th>\n      <th>rank_desc</th>\n      <th>employment_status</th>\n      <th>salary</th>\n      <th>...</th>\n      <th>hire_month</th>\n      <th>hire_day</th>\n      <th>resign_year</th>\n      <th>resign_month</th>\n      <th>resign_day</th>\n      <th>agency</th>\n      <th>uid</th>\n      <th>pay_effective_year</th>\n      <th>rank_year</th>\n      <th>dept_year</th>\n    </tr>\n  </thead>\n  <tbody>\n  </tbody>\n</table>\n<p>0 rows × 24 columns</p>\n</div>"
     },
     "metadata": {},
     "execution_count": 22
    }
   ],
   "source": [
    "df19[df19.salary.isna()]"
   ]
  },
  {
   "cell_type": "code",
   "execution_count": 14,
   "metadata": {},
   "outputs": [
    {
     "output_type": "execute_result",
     "data": {
      "text/plain": [
       "Empty DataFrame\n",
       "Columns: [uid, employee_id, first_name, last_name, middle_initial]\n",
       "Index: []"
      ],
      "text/html": "<div>\n<style scoped>\n    .dataframe tbody tr th:only-of-type {\n        vertical-align: middle;\n    }\n\n    .dataframe tbody tr th {\n        vertical-align: top;\n    }\n\n    .dataframe thead th {\n        text-align: right;\n    }\n</style>\n<table border=\"1\" class=\"dataframe\">\n  <thead>\n    <tr style=\"text-align: right;\">\n      <th></th>\n      <th>uid</th>\n      <th>employee_id</th>\n      <th>first_name</th>\n      <th>last_name</th>\n      <th>middle_initial</th>\n    </tr>\n  </thead>\n  <tbody>\n  </tbody>\n</table>\n</div>"
     },
     "metadata": {},
     "execution_count": 14
    }
   ],
   "source": [
    "df2 = df19[['uid', 'employee_id', 'first_name', 'last_name', 'middle_initial']]\\\n",
    "    .drop_duplicates().sort_values('uid')\n",
    "df2[df2.uid.duplicated(keep=False)].iloc[:30]\n"
   ]
  },
  {
   "cell_type": "code",
   "execution_count": null,
   "metadata": {},
   "outputs": [],
   "source": []
  }
 ]
}
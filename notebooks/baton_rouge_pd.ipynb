{
 "metadata": {
  "language_info": {
   "codemirror_mode": {
    "name": "ipython",
    "version": 3
   },
   "file_extension": ".py",
   "mimetype": "text/x-python",
   "name": "python",
   "nbconvert_exporter": "python",
   "pygments_lexer": "ipython3",
   "version": "3.8.3-final"
  },
  "orig_nbformat": 2,
  "kernelspec": {
   "name": "python383jvsc74a57bd0759d03fc00c4e55187619d7bc1e0b6a3309d14c7c00d43a321634150e05678f8",
   "display_name": "Python 3.8.3 64-bit ('base': conda)"
  }
 },
 "nbformat": 4,
 "nbformat_minor": 2,
 "cells": [
  {
   "cell_type": "code",
   "execution_count": 1,
   "metadata": {},
   "outputs": [],
   "source": [
    "import re\n",
    "import sys; sys.path.append(\"../\")\n",
    "\n",
    "import numpy as np\n",
    "import pandas as pd\n",
    "\n",
    "from lib.columns import rearrange_complaint_columns\n",
    "from lib.textract import parse_textract_datetime\n",
    "from lib.explore import print_df\n",
    "from lib.match import (\n",
    "    ColumnsIndex, StringSimilarity, JaroWinklerSimilarity, DateSimilarity, ThresholdMatcher\n",
    ")\n",
    "from clean.baton_rouge_pd_cprr import clean_18\n",
    "from clean.baton_rouge_csd_pprr import clean_17 as clean_csd_17, clean_19 as clean_csd_19"
   ]
  },
  {
   "cell_type": "code",
   "execution_count": 2,
   "metadata": {},
   "outputs": [
    {
     "output_type": "stream",
     "name": "stderr",
     "text": [
      "../lib/clean.py:166: FutureWarning: The default value of regex will change from True to False in a future version.\n  return series.str.strip().str.replace(r\"[^\\w-]+\", \" \").str.replace(r\"\\s+\", \" \")\\\n../lib/clean.py:156: FutureWarning: The default value of regex will change from True to False in a future version.\n  return series.str.strip().str.replace(r\"[^\\d\\.]\", \"\").astype(\"float64\")\n"
     ]
    },
    {
     "output_type": "execute_result",
     "data": {
      "text/plain": [
       "      year  employee_id last_name first_name middle_initial  department_code  \\\n",
       "5659  2008       456780      tate     joshua              j          5050001   \n",
       "3587  2008       387088    bailey       jana              m          5010001   \n",
       "3588  2009       387088    bailey       jana              m          5010001   \n",
       "3589  2010       387088    bailey       jana              m          5010001   \n",
       "3590  2011       387088    bailey       jana              m          5010001   \n",
       "...    ...          ...       ...        ...            ...              ...   \n",
       "3467  2013       383910     royal     althea              p          5050001   \n",
       "3468  2014       383910     royal     althea              p          5050001   \n",
       "7553  2015       383910     royal     althea              p          5050001   \n",
       "8876  2016       383910     royal     althea              p          5050001   \n",
       "9739  2017       383910     royal     althea              p          5050001   \n",
       "\n",
       "                              department_desc  rank_code  \\\n",
       "5659  police department-operation serv bureau       5005   \n",
       "3587         police department-administration     110435   \n",
       "3588         police department-administration     110435   \n",
       "3589         police department-administration     110435   \n",
       "3590         police department-administration     110435   \n",
       "...                                       ...        ...   \n",
       "3467  police department-operation serv bureau     110090   \n",
       "3468  police department-operation serv bureau     110090   \n",
       "7553  police department-operation serv bureau     110132   \n",
       "8876  police department-operation serv bureau     110132   \n",
       "9739  police department-operation serv bureau     110132   \n",
       "\n",
       "                       rank_desc  employment_status  ...  hire_day  \\\n",
       "5659              police officer                  5  ...        21   \n",
       "3587     senior legal specialist                  0  ...         2   \n",
       "3588     senior legal specialist                  0  ...         2   \n",
       "3589     senior legal specialist                  0  ...         2   \n",
       "3590     senior legal specialist                  0  ...         2   \n",
       "...                          ...                ...  ...       ...   \n",
       "3467         clerical specialist                  0  ...         7   \n",
       "3468         clerical specialist                  0  ...         7   \n",
       "7553  senior clerical specialist                  0  ...         7   \n",
       "8876  senior clerical specialist                  0  ...         7   \n",
       "9739  senior clerical specialist                  0  ...         7   \n",
       "\n",
       "      resign_year resign_month resign_day           agency  \\\n",
       "5659                                       Baton Rouge CSD   \n",
       "3587                                       Baton Rouge CSD   \n",
       "3588                                       Baton Rouge CSD   \n",
       "3589                                       Baton Rouge CSD   \n",
       "3590                                       Baton Rouge CSD   \n",
       "...           ...          ...        ...              ...   \n",
       "3467                                       Baton Rouge CSD   \n",
       "3468                                       Baton Rouge CSD   \n",
       "7553                                       Baton Rouge CSD   \n",
       "8876                                       Baton Rouge CSD   \n",
       "9739                                       Baton Rouge CSD   \n",
       "\n",
       "                                   uid pay_effective_year dept_year rank_year  \\\n",
       "5659  0004aa9e5a7fe44d2e8746aeff1d2e97                NaN       NaN       NaN   \n",
       "3587  000d35f47a90a410d73ec0ddf6dd943d                NaN       NaN       NaN   \n",
       "3588  000d35f47a90a410d73ec0ddf6dd943d             2009.0       NaN       NaN   \n",
       "3589  000d35f47a90a410d73ec0ddf6dd943d             2010.0       NaN       NaN   \n",
       "3590  000d35f47a90a410d73ec0ddf6dd943d             2011.0       NaN       NaN   \n",
       "...                                ...                ...       ...       ...   \n",
       "3467  ffc4c92c0507e19003f3ffbc8a347aba             2013.0       NaN       NaN   \n",
       "3468  ffc4c92c0507e19003f3ffbc8a347aba             2014.0       NaN       NaN   \n",
       "7553  ffc4c92c0507e19003f3ffbc8a347aba             2015.0       NaN    2015.0   \n",
       "8876  ffc4c92c0507e19003f3ffbc8a347aba             2016.0       NaN       NaN   \n",
       "9739  ffc4c92c0507e19003f3ffbc8a347aba             2017.0       NaN       NaN   \n",
       "\n",
       "                           perhist_uid  \n",
       "5659  751acb62e78bb7425c21905be58ba5cb  \n",
       "3587  60d5c258e8c9f87b0dc2772f64be1a94  \n",
       "3588  9c3c66f7579e5d5e7aac83b75d5d2917  \n",
       "3589  42577dca91d1d267ea8e2931165d45b0  \n",
       "3590  aae94c8b8dfbbbfecc642d4f4ca873c1  \n",
       "...                                ...  \n",
       "3467  4d1fc729629d4313dccddc2fa310e4f6  \n",
       "3468  574eedcf575f347a9957fa343297b1da  \n",
       "7553  ea060d245168a155fc2f6f31d7556ff7  \n",
       "8876  fc857dd518dd692ee0845cf084ef1f22  \n",
       "9739  77e63d94bf1de4ff85ffd5dc868cbf67  \n",
       "\n",
       "[10047 rows x 25 columns]"
      ],
      "text/html": "<div>\n<style scoped>\n    .dataframe tbody tr th:only-of-type {\n        vertical-align: middle;\n    }\n\n    .dataframe tbody tr th {\n        vertical-align: top;\n    }\n\n    .dataframe thead th {\n        text-align: right;\n    }\n</style>\n<table border=\"1\" class=\"dataframe\">\n  <thead>\n    <tr style=\"text-align: right;\">\n      <th></th>\n      <th>year</th>\n      <th>employee_id</th>\n      <th>last_name</th>\n      <th>first_name</th>\n      <th>middle_initial</th>\n      <th>department_code</th>\n      <th>department_desc</th>\n      <th>rank_code</th>\n      <th>rank_desc</th>\n      <th>employment_status</th>\n      <th>...</th>\n      <th>hire_day</th>\n      <th>resign_year</th>\n      <th>resign_month</th>\n      <th>resign_day</th>\n      <th>agency</th>\n      <th>uid</th>\n      <th>pay_effective_year</th>\n      <th>dept_year</th>\n      <th>rank_year</th>\n      <th>perhist_uid</th>\n    </tr>\n  </thead>\n  <tbody>\n    <tr>\n      <th>5659</th>\n      <td>2008</td>\n      <td>456780</td>\n      <td>tate</td>\n      <td>joshua</td>\n      <td>j</td>\n      <td>5050001</td>\n      <td>police department-operation serv bureau</td>\n      <td>5005</td>\n      <td>police officer</td>\n      <td>5</td>\n      <td>...</td>\n      <td>21</td>\n      <td></td>\n      <td></td>\n      <td></td>\n      <td>Baton Rouge CSD</td>\n      <td>0004aa9e5a7fe44d2e8746aeff1d2e97</td>\n      <td>NaN</td>\n      <td>NaN</td>\n      <td>NaN</td>\n      <td>751acb62e78bb7425c21905be58ba5cb</td>\n    </tr>\n    <tr>\n      <th>3587</th>\n      <td>2008</td>\n      <td>387088</td>\n      <td>bailey</td>\n      <td>jana</td>\n      <td>m</td>\n      <td>5010001</td>\n      <td>police department-administration</td>\n      <td>110435</td>\n      <td>senior legal specialist</td>\n      <td>0</td>\n      <td>...</td>\n      <td>2</td>\n      <td></td>\n      <td></td>\n      <td></td>\n      <td>Baton Rouge CSD</td>\n      <td>000d35f47a90a410d73ec0ddf6dd943d</td>\n      <td>NaN</td>\n      <td>NaN</td>\n      <td>NaN</td>\n      <td>60d5c258e8c9f87b0dc2772f64be1a94</td>\n    </tr>\n    <tr>\n      <th>3588</th>\n      <td>2009</td>\n      <td>387088</td>\n      <td>bailey</td>\n      <td>jana</td>\n      <td>m</td>\n      <td>5010001</td>\n      <td>police department-administration</td>\n      <td>110435</td>\n      <td>senior legal specialist</td>\n      <td>0</td>\n      <td>...</td>\n      <td>2</td>\n      <td></td>\n      <td></td>\n      <td></td>\n      <td>Baton Rouge CSD</td>\n      <td>000d35f47a90a410d73ec0ddf6dd943d</td>\n      <td>2009.0</td>\n      <td>NaN</td>\n      <td>NaN</td>\n      <td>9c3c66f7579e5d5e7aac83b75d5d2917</td>\n    </tr>\n    <tr>\n      <th>3589</th>\n      <td>2010</td>\n      <td>387088</td>\n      <td>bailey</td>\n      <td>jana</td>\n      <td>m</td>\n      <td>5010001</td>\n      <td>police department-administration</td>\n      <td>110435</td>\n      <td>senior legal specialist</td>\n      <td>0</td>\n      <td>...</td>\n      <td>2</td>\n      <td></td>\n      <td></td>\n      <td></td>\n      <td>Baton Rouge CSD</td>\n      <td>000d35f47a90a410d73ec0ddf6dd943d</td>\n      <td>2010.0</td>\n      <td>NaN</td>\n      <td>NaN</td>\n      <td>42577dca91d1d267ea8e2931165d45b0</td>\n    </tr>\n    <tr>\n      <th>3590</th>\n      <td>2011</td>\n      <td>387088</td>\n      <td>bailey</td>\n      <td>jana</td>\n      <td>m</td>\n      <td>5010001</td>\n      <td>police department-administration</td>\n      <td>110435</td>\n      <td>senior legal specialist</td>\n      <td>0</td>\n      <td>...</td>\n      <td>2</td>\n      <td></td>\n      <td></td>\n      <td></td>\n      <td>Baton Rouge CSD</td>\n      <td>000d35f47a90a410d73ec0ddf6dd943d</td>\n      <td>2011.0</td>\n      <td>NaN</td>\n      <td>NaN</td>\n      <td>aae94c8b8dfbbbfecc642d4f4ca873c1</td>\n    </tr>\n    <tr>\n      <th>...</th>\n      <td>...</td>\n      <td>...</td>\n      <td>...</td>\n      <td>...</td>\n      <td>...</td>\n      <td>...</td>\n      <td>...</td>\n      <td>...</td>\n      <td>...</td>\n      <td>...</td>\n      <td>...</td>\n      <td>...</td>\n      <td>...</td>\n      <td>...</td>\n      <td>...</td>\n      <td>...</td>\n      <td>...</td>\n      <td>...</td>\n      <td>...</td>\n      <td>...</td>\n      <td>...</td>\n    </tr>\n    <tr>\n      <th>3467</th>\n      <td>2013</td>\n      <td>383910</td>\n      <td>royal</td>\n      <td>althea</td>\n      <td>p</td>\n      <td>5050001</td>\n      <td>police department-operation serv bureau</td>\n      <td>110090</td>\n      <td>clerical specialist</td>\n      <td>0</td>\n      <td>...</td>\n      <td>7</td>\n      <td></td>\n      <td></td>\n      <td></td>\n      <td>Baton Rouge CSD</td>\n      <td>ffc4c92c0507e19003f3ffbc8a347aba</td>\n      <td>2013.0</td>\n      <td>NaN</td>\n      <td>NaN</td>\n      <td>4d1fc729629d4313dccddc2fa310e4f6</td>\n    </tr>\n    <tr>\n      <th>3468</th>\n      <td>2014</td>\n      <td>383910</td>\n      <td>royal</td>\n      <td>althea</td>\n      <td>p</td>\n      <td>5050001</td>\n      <td>police department-operation serv bureau</td>\n      <td>110090</td>\n      <td>clerical specialist</td>\n      <td>0</td>\n      <td>...</td>\n      <td>7</td>\n      <td></td>\n      <td></td>\n      <td></td>\n      <td>Baton Rouge CSD</td>\n      <td>ffc4c92c0507e19003f3ffbc8a347aba</td>\n      <td>2014.0</td>\n      <td>NaN</td>\n      <td>NaN</td>\n      <td>574eedcf575f347a9957fa343297b1da</td>\n    </tr>\n    <tr>\n      <th>7553</th>\n      <td>2015</td>\n      <td>383910</td>\n      <td>royal</td>\n      <td>althea</td>\n      <td>p</td>\n      <td>5050001</td>\n      <td>police department-operation serv bureau</td>\n      <td>110132</td>\n      <td>senior clerical specialist</td>\n      <td>0</td>\n      <td>...</td>\n      <td>7</td>\n      <td></td>\n      <td></td>\n      <td></td>\n      <td>Baton Rouge CSD</td>\n      <td>ffc4c92c0507e19003f3ffbc8a347aba</td>\n      <td>2015.0</td>\n      <td>NaN</td>\n      <td>2015.0</td>\n      <td>ea060d245168a155fc2f6f31d7556ff7</td>\n    </tr>\n    <tr>\n      <th>8876</th>\n      <td>2016</td>\n      <td>383910</td>\n      <td>royal</td>\n      <td>althea</td>\n      <td>p</td>\n      <td>5050001</td>\n      <td>police department-operation serv bureau</td>\n      <td>110132</td>\n      <td>senior clerical specialist</td>\n      <td>0</td>\n      <td>...</td>\n      <td>7</td>\n      <td></td>\n      <td></td>\n      <td></td>\n      <td>Baton Rouge CSD</td>\n      <td>ffc4c92c0507e19003f3ffbc8a347aba</td>\n      <td>2016.0</td>\n      <td>NaN</td>\n      <td>NaN</td>\n      <td>fc857dd518dd692ee0845cf084ef1f22</td>\n    </tr>\n    <tr>\n      <th>9739</th>\n      <td>2017</td>\n      <td>383910</td>\n      <td>royal</td>\n      <td>althea</td>\n      <td>p</td>\n      <td>5050001</td>\n      <td>police department-operation serv bureau</td>\n      <td>110132</td>\n      <td>senior clerical specialist</td>\n      <td>0</td>\n      <td>...</td>\n      <td>7</td>\n      <td></td>\n      <td></td>\n      <td></td>\n      <td>Baton Rouge CSD</td>\n      <td>ffc4c92c0507e19003f3ffbc8a347aba</td>\n      <td>2017.0</td>\n      <td>NaN</td>\n      <td>NaN</td>\n      <td>77e63d94bf1de4ff85ffd5dc868cbf67</td>\n    </tr>\n  </tbody>\n</table>\n<p>10047 rows × 25 columns</p>\n</div>"
     },
     "metadata": {},
     "execution_count": 2
    }
   ],
   "source": [
    "df17 = clean_csd_17()\n",
    "df17"
   ]
  },
  {
   "cell_type": "code",
   "execution_count": 3,
   "metadata": {},
   "outputs": [
    {
     "output_type": "stream",
     "name": "stderr",
     "text": [
      "../lib/clean.py:166: FutureWarning: The default value of regex will change from True to False in a future version.\n  return series.str.strip().str.replace(r\"[^\\w-]+\", \" \").str.replace(r\"\\s+\", \" \")\\\n../lib/clean.py:156: FutureWarning: The default value of regex will change from True to False in a future version.\n  return series.str.strip().str.replace(r\"[^\\d\\.]\", \"\").astype(\"float64\")\n../lib/clean.py:150: FutureWarning: The default value of regex will change from True to False in a future version.\n  df.loc[:, col] = df[col].str.strip().str.lower()\\\n"
     ]
    },
    {
     "output_type": "execute_result",
     "data": {
      "text/plain": [
       "      year last_name first_name middle_initial  department_code  \\\n",
       "404   2018    sawyer   laterial              d             5020   \n",
       "1332  2019    sawyer   laterial              d             5020   \n",
       "684   2018     blake      brian              r             5020   \n",
       "1591  2019     blake      brian              r             5020   \n",
       "678   2018       ned      larry              m             5020   \n",
       "...    ...       ...        ...            ...              ...   \n",
       "1367  2019    brooks   charlene              j             5040   \n",
       "75    2018   pointer    sheldon              d             5020   \n",
       "199   2018  williams       liza              s             5020   \n",
       "1147  2019  williams       liza              s             5020   \n",
       "57    2018  holloway       john              l             5060   \n",
       "\n",
       "                     department_desc  rank_code                  rank_desc  \\\n",
       "404     police-uniform patrol bureau       5005             police officer   \n",
       "1332    police-uniform patrol bureau       5005             police officer   \n",
       "684     police-uniform patrol bureau       5010            police sergeant   \n",
       "1591    police-uniform patrol bureau       5010            police sergeant   \n",
       "678     police-uniform patrol bureau       5010            police sergeant   \n",
       "...                              ...        ...                        ...   \n",
       "1367  police-operational serv bureau       5235  police fingerprint tech i   \n",
       "75      police-uniform patrol bureau       5005             police officer   \n",
       "199     police-uniform patrol bureau       5005             police officer   \n",
       "1147    police-uniform patrol bureau       5005             police officer   \n",
       "57         police-special operations       6525      school crossing guard   \n",
       "\n",
       "     employment_status  annual_salary  ... hire_day resign_year resign_month  \\\n",
       "404             active       43884.51  ...       18                            \n",
       "1332            active       46039.68  ...       18                            \n",
       "684             active       72848.05  ...        9                            \n",
       "1591            active       76664.95  ...        9                            \n",
       "678             active       56126.86  ...        4                            \n",
       "...                ...            ...  ...      ...         ...          ...   \n",
       "1367          inactive        7345.06  ...       21        2018           11   \n",
       "75            inactive       63382.81  ...       27        2018           11   \n",
       "199             active       52178.13  ...       29                            \n",
       "1147            active       52728.62  ...       29                            \n",
       "57            inactive        2675.25  ...       24        2018           11   \n",
       "\n",
       "     resign_day           agency                               uid  \\\n",
       "404              Baton Rouge CSD  00470dc28b790079ea4003c6ea9d9a6d   \n",
       "1332             Baton Rouge CSD  00470dc28b790079ea4003c6ea9d9a6d   \n",
       "684              Baton Rouge CSD  007f09c47926f096be2ef8013c798c19   \n",
       "1591             Baton Rouge CSD  007f09c47926f096be2ef8013c798c19   \n",
       "678              Baton Rouge CSD  00e895256b8e81fdcd52c67969411cae   \n",
       "...         ...              ...                               ...   \n",
       "1367         30  Baton Rouge CSD  fe48657a1e3f89951ce2dbf0112cd8e3   \n",
       "75            1  Baton Rouge CSD  ff3e06c89dee3ec36c1f6da1624a0b4b   \n",
       "199              Baton Rouge CSD  ff858ea814c23620dcc3cfef85dded8f   \n",
       "1147             Baton Rouge CSD  ff858ea814c23620dcc3cfef85dded8f   \n",
       "57           27  Baton Rouge CSD  ff89fa8f17674b3542d28fc71deb4abb   \n",
       "\n",
       "     pay_effective_year rank_year dept_year                       perhist_uid  \n",
       "404                 NaN       NaN       NaN  f7500576ef9590a2c8417c889653da3b  \n",
       "1332             2019.0       NaN       NaN  0d34f9617d960b75841b84268915272d  \n",
       "684                 NaN       NaN       NaN  3c1ec2d03bf399a63b20deb203e35a1a  \n",
       "1591             2019.0       NaN       NaN  6b1a194f0c1d21178ab54c97214f19a7  \n",
       "678                 NaN       NaN       NaN  a9e7a9ba123a0c90731b6600797158f7  \n",
       "...                 ...       ...       ...                               ...  \n",
       "1367             2019.0       NaN       NaN  2184248d6d16599ae475fe856444928d  \n",
       "75                  NaN       NaN       NaN  58951a673d42945028946bd6e9cdfe85  \n",
       "199                 NaN       NaN       NaN  440b07e326af1198d456eba0bc447675  \n",
       "1147             2019.0       NaN       NaN  99ed3dd06b1aabcfa593ceddcfd33e88  \n",
       "57                  NaN       NaN       NaN  9a25c8659c9df9532cebeb3e21737255  \n",
       "\n",
       "[1962 rows x 24 columns]"
      ],
      "text/html": "<div>\n<style scoped>\n    .dataframe tbody tr th:only-of-type {\n        vertical-align: middle;\n    }\n\n    .dataframe tbody tr th {\n        vertical-align: top;\n    }\n\n    .dataframe thead th {\n        text-align: right;\n    }\n</style>\n<table border=\"1\" class=\"dataframe\">\n  <thead>\n    <tr style=\"text-align: right;\">\n      <th></th>\n      <th>year</th>\n      <th>last_name</th>\n      <th>first_name</th>\n      <th>middle_initial</th>\n      <th>department_code</th>\n      <th>department_desc</th>\n      <th>rank_code</th>\n      <th>rank_desc</th>\n      <th>employment_status</th>\n      <th>annual_salary</th>\n      <th>...</th>\n      <th>hire_day</th>\n      <th>resign_year</th>\n      <th>resign_month</th>\n      <th>resign_day</th>\n      <th>agency</th>\n      <th>uid</th>\n      <th>pay_effective_year</th>\n      <th>rank_year</th>\n      <th>dept_year</th>\n      <th>perhist_uid</th>\n    </tr>\n  </thead>\n  <tbody>\n    <tr>\n      <th>404</th>\n      <td>2018</td>\n      <td>sawyer</td>\n      <td>laterial</td>\n      <td>d</td>\n      <td>5020</td>\n      <td>police-uniform patrol bureau</td>\n      <td>5005</td>\n      <td>police officer</td>\n      <td>active</td>\n      <td>43884.51</td>\n      <td>...</td>\n      <td>18</td>\n      <td></td>\n      <td></td>\n      <td></td>\n      <td>Baton Rouge CSD</td>\n      <td>00470dc28b790079ea4003c6ea9d9a6d</td>\n      <td>NaN</td>\n      <td>NaN</td>\n      <td>NaN</td>\n      <td>f7500576ef9590a2c8417c889653da3b</td>\n    </tr>\n    <tr>\n      <th>1332</th>\n      <td>2019</td>\n      <td>sawyer</td>\n      <td>laterial</td>\n      <td>d</td>\n      <td>5020</td>\n      <td>police-uniform patrol bureau</td>\n      <td>5005</td>\n      <td>police officer</td>\n      <td>active</td>\n      <td>46039.68</td>\n      <td>...</td>\n      <td>18</td>\n      <td></td>\n      <td></td>\n      <td></td>\n      <td>Baton Rouge CSD</td>\n      <td>00470dc28b790079ea4003c6ea9d9a6d</td>\n      <td>2019.0</td>\n      <td>NaN</td>\n      <td>NaN</td>\n      <td>0d34f9617d960b75841b84268915272d</td>\n    </tr>\n    <tr>\n      <th>684</th>\n      <td>2018</td>\n      <td>blake</td>\n      <td>brian</td>\n      <td>r</td>\n      <td>5020</td>\n      <td>police-uniform patrol bureau</td>\n      <td>5010</td>\n      <td>police sergeant</td>\n      <td>active</td>\n      <td>72848.05</td>\n      <td>...</td>\n      <td>9</td>\n      <td></td>\n      <td></td>\n      <td></td>\n      <td>Baton Rouge CSD</td>\n      <td>007f09c47926f096be2ef8013c798c19</td>\n      <td>NaN</td>\n      <td>NaN</td>\n      <td>NaN</td>\n      <td>3c1ec2d03bf399a63b20deb203e35a1a</td>\n    </tr>\n    <tr>\n      <th>1591</th>\n      <td>2019</td>\n      <td>blake</td>\n      <td>brian</td>\n      <td>r</td>\n      <td>5020</td>\n      <td>police-uniform patrol bureau</td>\n      <td>5010</td>\n      <td>police sergeant</td>\n      <td>active</td>\n      <td>76664.95</td>\n      <td>...</td>\n      <td>9</td>\n      <td></td>\n      <td></td>\n      <td></td>\n      <td>Baton Rouge CSD</td>\n      <td>007f09c47926f096be2ef8013c798c19</td>\n      <td>2019.0</td>\n      <td>NaN</td>\n      <td>NaN</td>\n      <td>6b1a194f0c1d21178ab54c97214f19a7</td>\n    </tr>\n    <tr>\n      <th>678</th>\n      <td>2018</td>\n      <td>ned</td>\n      <td>larry</td>\n      <td>m</td>\n      <td>5020</td>\n      <td>police-uniform patrol bureau</td>\n      <td>5010</td>\n      <td>police sergeant</td>\n      <td>active</td>\n      <td>56126.86</td>\n      <td>...</td>\n      <td>4</td>\n      <td></td>\n      <td></td>\n      <td></td>\n      <td>Baton Rouge CSD</td>\n      <td>00e895256b8e81fdcd52c67969411cae</td>\n      <td>NaN</td>\n      <td>NaN</td>\n      <td>NaN</td>\n      <td>a9e7a9ba123a0c90731b6600797158f7</td>\n    </tr>\n    <tr>\n      <th>...</th>\n      <td>...</td>\n      <td>...</td>\n      <td>...</td>\n      <td>...</td>\n      <td>...</td>\n      <td>...</td>\n      <td>...</td>\n      <td>...</td>\n      <td>...</td>\n      <td>...</td>\n      <td>...</td>\n      <td>...</td>\n      <td>...</td>\n      <td>...</td>\n      <td>...</td>\n      <td>...</td>\n      <td>...</td>\n      <td>...</td>\n      <td>...</td>\n      <td>...</td>\n      <td>...</td>\n    </tr>\n    <tr>\n      <th>1367</th>\n      <td>2019</td>\n      <td>brooks</td>\n      <td>charlene</td>\n      <td>j</td>\n      <td>5040</td>\n      <td>police-operational serv bureau</td>\n      <td>5235</td>\n      <td>police fingerprint tech i</td>\n      <td>inactive</td>\n      <td>7345.06</td>\n      <td>...</td>\n      <td>21</td>\n      <td>2018</td>\n      <td>11</td>\n      <td>30</td>\n      <td>Baton Rouge CSD</td>\n      <td>fe48657a1e3f89951ce2dbf0112cd8e3</td>\n      <td>2019.0</td>\n      <td>NaN</td>\n      <td>NaN</td>\n      <td>2184248d6d16599ae475fe856444928d</td>\n    </tr>\n    <tr>\n      <th>75</th>\n      <td>2018</td>\n      <td>pointer</td>\n      <td>sheldon</td>\n      <td>d</td>\n      <td>5020</td>\n      <td>police-uniform patrol bureau</td>\n      <td>5005</td>\n      <td>police officer</td>\n      <td>inactive</td>\n      <td>63382.81</td>\n      <td>...</td>\n      <td>27</td>\n      <td>2018</td>\n      <td>11</td>\n      <td>1</td>\n      <td>Baton Rouge CSD</td>\n      <td>ff3e06c89dee3ec36c1f6da1624a0b4b</td>\n      <td>NaN</td>\n      <td>NaN</td>\n      <td>NaN</td>\n      <td>58951a673d42945028946bd6e9cdfe85</td>\n    </tr>\n    <tr>\n      <th>199</th>\n      <td>2018</td>\n      <td>williams</td>\n      <td>liza</td>\n      <td>s</td>\n      <td>5020</td>\n      <td>police-uniform patrol bureau</td>\n      <td>5005</td>\n      <td>police officer</td>\n      <td>active</td>\n      <td>52178.13</td>\n      <td>...</td>\n      <td>29</td>\n      <td></td>\n      <td></td>\n      <td></td>\n      <td>Baton Rouge CSD</td>\n      <td>ff858ea814c23620dcc3cfef85dded8f</td>\n      <td>NaN</td>\n      <td>NaN</td>\n      <td>NaN</td>\n      <td>440b07e326af1198d456eba0bc447675</td>\n    </tr>\n    <tr>\n      <th>1147</th>\n      <td>2019</td>\n      <td>williams</td>\n      <td>liza</td>\n      <td>s</td>\n      <td>5020</td>\n      <td>police-uniform patrol bureau</td>\n      <td>5005</td>\n      <td>police officer</td>\n      <td>active</td>\n      <td>52728.62</td>\n      <td>...</td>\n      <td>29</td>\n      <td></td>\n      <td></td>\n      <td></td>\n      <td>Baton Rouge CSD</td>\n      <td>ff858ea814c23620dcc3cfef85dded8f</td>\n      <td>2019.0</td>\n      <td>NaN</td>\n      <td>NaN</td>\n      <td>99ed3dd06b1aabcfa593ceddcfd33e88</td>\n    </tr>\n    <tr>\n      <th>57</th>\n      <td>2018</td>\n      <td>holloway</td>\n      <td>john</td>\n      <td>l</td>\n      <td>5060</td>\n      <td>police-special operations</td>\n      <td>6525</td>\n      <td>school crossing guard</td>\n      <td>inactive</td>\n      <td>2675.25</td>\n      <td>...</td>\n      <td>24</td>\n      <td>2018</td>\n      <td>11</td>\n      <td>27</td>\n      <td>Baton Rouge CSD</td>\n      <td>ff89fa8f17674b3542d28fc71deb4abb</td>\n      <td>NaN</td>\n      <td>NaN</td>\n      <td>NaN</td>\n      <td>9a25c8659c9df9532cebeb3e21737255</td>\n    </tr>\n  </tbody>\n</table>\n<p>1962 rows × 24 columns</p>\n</div>"
     },
     "metadata": {},
     "execution_count": 3
    }
   ],
   "source": [
    "df19 = clean_csd_19()\n",
    "df19"
   ]
  },
  {
   "cell_type": "code",
   "execution_count": 6,
   "metadata": {},
   "outputs": [
    {
     "output_type": "execute_result",
     "data": {
      "text/plain": [
       "Empty DataFrame\n",
       "Columns: [year, last_name, first_name, middle_initial, department_code, department_desc, rank_code, rank_desc, employment_status, annual_salary, employee_id, data_production_year, hire_year, hire_month, hire_day, resign_year, resign_month, resign_day, agency, uid, pay_effective_year, rank_year, dept_year, perhist_uid]\n",
       "Index: []\n",
       "\n",
       "[0 rows x 24 columns]"
      ],
      "text/html": "<div>\n<style scoped>\n    .dataframe tbody tr th:only-of-type {\n        vertical-align: middle;\n    }\n\n    .dataframe tbody tr th {\n        vertical-align: top;\n    }\n\n    .dataframe thead th {\n        text-align: right;\n    }\n</style>\n<table border=\"1\" class=\"dataframe\">\n  <thead>\n    <tr style=\"text-align: right;\">\n      <th></th>\n      <th>year</th>\n      <th>last_name</th>\n      <th>first_name</th>\n      <th>middle_initial</th>\n      <th>department_code</th>\n      <th>department_desc</th>\n      <th>rank_code</th>\n      <th>rank_desc</th>\n      <th>employment_status</th>\n      <th>annual_salary</th>\n      <th>...</th>\n      <th>hire_day</th>\n      <th>resign_year</th>\n      <th>resign_month</th>\n      <th>resign_day</th>\n      <th>agency</th>\n      <th>uid</th>\n      <th>pay_effective_year</th>\n      <th>rank_year</th>\n      <th>dept_year</th>\n      <th>perhist_uid</th>\n    </tr>\n  </thead>\n  <tbody>\n  </tbody>\n</table>\n<p>0 rows × 24 columns</p>\n</div>"
     },
     "metadata": {},
     "execution_count": 6
    }
   ],
   "source": [
    "df19[df19.perhist_uid.duplicated(keep=False)]"
   ]
  },
  {
   "cell_type": "code",
   "execution_count": null,
   "metadata": {},
   "outputs": [],
   "source": []
  }
 ]
}
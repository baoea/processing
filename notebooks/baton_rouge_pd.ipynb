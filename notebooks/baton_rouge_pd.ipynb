{
 "metadata": {
  "language_info": {
   "codemirror_mode": {
    "name": "ipython",
    "version": 3
   },
   "file_extension": ".py",
   "mimetype": "text/x-python",
   "name": "python",
   "nbconvert_exporter": "python",
   "pygments_lexer": "ipython3",
   "version": "3.8.3-final"
  },
  "orig_nbformat": 2,
  "kernelspec": {
   "name": "python383jvsc74a57bd0759d03fc00c4e55187619d7bc1e0b6a3309d14c7c00d43a321634150e05678f8",
   "display_name": "Python 3.8.3 64-bit ('base': conda)"
  }
 },
 "nbformat": 4,
 "nbformat_minor": 2,
 "cells": [
  {
   "cell_type": "code",
   "execution_count": 1,
   "metadata": {},
   "outputs": [],
   "source": [
    "import re\n",
    "import sys; sys.path.append(\"../\")\n",
    "\n",
    "import numpy as np\n",
    "import pandas as pd\n",
    "\n",
    "from lib.columns import rearrange_complaint_columns\n",
    "from lib.explore import print_df\n",
    "from datamatch import (\n",
    "    ColumnsIndex, StringSimilarity, JaroWinklerSimilarity, DateSimilarity, ThresholdMatcher\n",
    ")\n",
    "from clean.baton_rouge_pd_cprr import clean_18\n",
    "from clean.baton_rouge_csd_pprr import clean_17 as clean_csd_17, clean_19 as clean_csd_19"
   ]
  },
  {
   "cell_type": "code",
   "execution_count": 2,
   "metadata": {},
   "outputs": [],
   "source": [
    "# df17 = clean_csd_17()\n",
    "# df17"
   ]
  },
  {
   "cell_type": "code",
   "execution_count": 3,
   "metadata": {},
   "outputs": [],
   "source": [
    "# df19 = clean_csd_19()\n",
    "# df19"
   ]
  },
  {
   "cell_type": "code",
   "execution_count": 4,
   "metadata": {},
   "outputs": [],
   "source": [
    "df17 = pd.read_csv('../data/match/pprr_baton_rouge_csd_2017.csv')\n",
    "df19 = pd.read_csv('../data/match/pprr_baton_rouge_csd_2019.csv')\n",
    "cprr = pd.read_csv('../data/match/cprr_baton_rouge_pd_2018.csv')"
   ]
  },
  {
   "cell_type": "code",
   "execution_count": 13,
   "metadata": {},
   "outputs": [
    {
     "output_type": "execute_result",
     "data": {
      "text/plain": [
       "      investigation_status               action           disposition  \\\n",
       "0    administrative review           exonerated            exonerated   \n",
       "1    administrative review        not sustained         not sustained   \n",
       "2     office investigation             resigned  office investigation   \n",
       "3    administrative review        not sustained         not sustained   \n",
       "4    administrative review        not sustained         not sustained   \n",
       "..                     ...                  ...                   ...   \n",
       "136  administrative review  letter of reprimand             sustained   \n",
       "137  administrative review  letter of reprimand         not sustained   \n",
       "138  administrative review  letter of reprimand             sustained   \n",
       "139  administrative review        not sustained         not sustained   \n",
       "140  administrative review        not sustained         not sustained   \n",
       "\n",
       "    department_code         department_desc  last_name first_name  \\\n",
       "0             P1254  cib street crimes unit  barcelona      jesse   \n",
       "1            P10280           cib narcotics      acree      jason   \n",
       "2            P10476  op service comm center      rimes    melissa   \n",
       "3            P10578                 cib cib    hamadeh     yuseff   \n",
       "4            P10252     patrol 2nd district  pollar jr    charles   \n",
       "..              ...                     ...        ...        ...   \n",
       "136           P1245     patrol 2nd district      clark    kenneth   \n",
       "137           P1245     patrol 2nd district      clark    kenneth   \n",
       "138           P1245     patrol 2nd district      clark    kenneth   \n",
       "139          P10639     patrol 1st district  robertson      jason   \n",
       "140          P10511     patrol 4th district  carter jr    darrell   \n",
       "\n",
       "    middle_initial middle_name  receive_year  ...  receive_day  occur_year  \\\n",
       "0                r         NaN          2018  ...            2      2017.0   \n",
       "1                k         NaN          2018  ...            9      2018.0   \n",
       "2                j         NaN          2018  ...            9      2017.0   \n",
       "3                g         NaN          2018  ...           10      2018.0   \n",
       "4                g         NaN          2018  ...           11      2018.0   \n",
       "..             ...         ...           ...  ...          ...         ...   \n",
       "136              m         NaN          2019  ...           30      2018.0   \n",
       "137              m         NaN          2019  ...           30      2018.0   \n",
       "138              m         NaN          2019  ...           30      2018.0   \n",
       "139              r         NaN          2018  ...           26      2018.0   \n",
       "140              j         NaN          2018  ...            8      2018.0   \n",
       "\n",
       "     occur_month  occur_day  tracking_number  \\\n",
       "0           12.0       30.0         2018-002   \n",
       "1            1.0        9.0         2018-004   \n",
       "2           12.0        3.0         2018-003   \n",
       "3            1.0       10.0         2018-005   \n",
       "4            1.0       11.0         2018-006   \n",
       "..           ...        ...              ...   \n",
       "136          3.0       27.0         2019-003   \n",
       "137          3.0       27.0         2019-003   \n",
       "138          3.0       27.0         2019-003   \n",
       "139          1.0       26.0         2018-010   \n",
       "140          2.0        8.0         2018-011   \n",
       "\n",
       "                                               charges          agency  \\\n",
       "0    3:17 carrying out orders - 40 general orders (...  Baton Rouge PD   \n",
       "1    3:17 carrying out orders - 40 general orders (...  Baton Rouge PD   \n",
       "2                         2:4 abuse of sick leave - 66  Baton Rouge PD   \n",
       "3               3:20 use of force - 53 hard empty hand  Baton Rouge PD   \n",
       "4               3:20 use of force - 53 hard empty hand  Baton Rouge PD   \n",
       "..                                                 ...             ...   \n",
       "136  3:17 carrying out orders - 40 general orders (...  Baton Rouge PD   \n",
       "137                          3:18 insubordination - 43  Baton Rouge PD   \n",
       "138            2:12 conduct unbecoming an officer - 21  Baton Rouge PD   \n",
       "139  3:17 carrying out orders - 40 general orders (...  Baton Rouge PD   \n",
       "140         3:20 use of force - 52 intermediate weapon  Baton Rouge PD   \n",
       "\n",
       "    data_production_year                               uid  \\\n",
       "0                   2017  12f45a233bb822ea595c0dabc7e92d7d   \n",
       "1                   2018  7dd3a1e5b411318feab180ce8d0eb8b9   \n",
       "2                   2017  2f584d20925f6afe3fcb930ed908e5f7   \n",
       "3                   2018  ef3a5a4eb4544ebeb4199f9fe1016105   \n",
       "4                   2018  3973b0e701da4fef807b4d2abf143871   \n",
       "..                   ...                               ...   \n",
       "136                 2018  c4994d8353864109fca8fe4c881bf20f   \n",
       "137                 2018  c4994d8353864109fca8fe4c881bf20f   \n",
       "138                 2018  c4994d8353864109fca8fe4c881bf20f   \n",
       "139                 2018  f0098284466343cf5316ac41763d2548   \n",
       "140                 2018  edf8cf5cbbed6964b9cec50ecad48cb9   \n",
       "\n",
       "                           charge_uid  \n",
       "0    c7a0a3a7160e52f47b9965b7e8c82bd5  \n",
       "1    9de8007a01ffb4d68a4c2fd186a4a9bd  \n",
       "2    cbd6e6b11930cb067194fdc4d290b4f2  \n",
       "3    87ed457ca0d91a317754b43f530c3223  \n",
       "4    c59024deb7e2dac3383d0462126b5ed6  \n",
       "..                                ...  \n",
       "136  944cf18ddacafffe023c3840d07f5ddc  \n",
       "137  e1e04016333fccc3a02a6ca693e81bf8  \n",
       "138  fe3f1097cdf1086834f282005ce4731d  \n",
       "139  e05b5c9f2420bb255ef8f28db874ccdf  \n",
       "140  5bc91755da96018523a38918fdc83ea8  \n",
       "\n",
       "[141 rows x 21 columns]"
      ],
      "text/html": "<div>\n<style scoped>\n    .dataframe tbody tr th:only-of-type {\n        vertical-align: middle;\n    }\n\n    .dataframe tbody tr th {\n        vertical-align: top;\n    }\n\n    .dataframe thead th {\n        text-align: right;\n    }\n</style>\n<table border=\"1\" class=\"dataframe\">\n  <thead>\n    <tr style=\"text-align: right;\">\n      <th></th>\n      <th>investigation_status</th>\n      <th>action</th>\n      <th>disposition</th>\n      <th>department_code</th>\n      <th>department_desc</th>\n      <th>last_name</th>\n      <th>first_name</th>\n      <th>middle_initial</th>\n      <th>middle_name</th>\n      <th>receive_year</th>\n      <th>...</th>\n      <th>receive_day</th>\n      <th>occur_year</th>\n      <th>occur_month</th>\n      <th>occur_day</th>\n      <th>tracking_number</th>\n      <th>charges</th>\n      <th>agency</th>\n      <th>data_production_year</th>\n      <th>uid</th>\n      <th>charge_uid</th>\n    </tr>\n  </thead>\n  <tbody>\n    <tr>\n      <th>0</th>\n      <td>administrative review</td>\n      <td>exonerated</td>\n      <td>exonerated</td>\n      <td>P1254</td>\n      <td>cib street crimes unit</td>\n      <td>barcelona</td>\n      <td>jesse</td>\n      <td>r</td>\n      <td>NaN</td>\n      <td>2018</td>\n      <td>...</td>\n      <td>2</td>\n      <td>2017.0</td>\n      <td>12.0</td>\n      <td>30.0</td>\n      <td>2018-002</td>\n      <td>3:17 carrying out orders - 40 general orders (...</td>\n      <td>Baton Rouge PD</td>\n      <td>2017</td>\n      <td>12f45a233bb822ea595c0dabc7e92d7d</td>\n      <td>c7a0a3a7160e52f47b9965b7e8c82bd5</td>\n    </tr>\n    <tr>\n      <th>1</th>\n      <td>administrative review</td>\n      <td>not sustained</td>\n      <td>not sustained</td>\n      <td>P10280</td>\n      <td>cib narcotics</td>\n      <td>acree</td>\n      <td>jason</td>\n      <td>k</td>\n      <td>NaN</td>\n      <td>2018</td>\n      <td>...</td>\n      <td>9</td>\n      <td>2018.0</td>\n      <td>1.0</td>\n      <td>9.0</td>\n      <td>2018-004</td>\n      <td>3:17 carrying out orders - 40 general orders (...</td>\n      <td>Baton Rouge PD</td>\n      <td>2018</td>\n      <td>7dd3a1e5b411318feab180ce8d0eb8b9</td>\n      <td>9de8007a01ffb4d68a4c2fd186a4a9bd</td>\n    </tr>\n    <tr>\n      <th>2</th>\n      <td>office investigation</td>\n      <td>resigned</td>\n      <td>office investigation</td>\n      <td>P10476</td>\n      <td>op service comm center</td>\n      <td>rimes</td>\n      <td>melissa</td>\n      <td>j</td>\n      <td>NaN</td>\n      <td>2018</td>\n      <td>...</td>\n      <td>9</td>\n      <td>2017.0</td>\n      <td>12.0</td>\n      <td>3.0</td>\n      <td>2018-003</td>\n      <td>2:4 abuse of sick leave - 66</td>\n      <td>Baton Rouge PD</td>\n      <td>2017</td>\n      <td>2f584d20925f6afe3fcb930ed908e5f7</td>\n      <td>cbd6e6b11930cb067194fdc4d290b4f2</td>\n    </tr>\n    <tr>\n      <th>3</th>\n      <td>administrative review</td>\n      <td>not sustained</td>\n      <td>not sustained</td>\n      <td>P10578</td>\n      <td>cib cib</td>\n      <td>hamadeh</td>\n      <td>yuseff</td>\n      <td>g</td>\n      <td>NaN</td>\n      <td>2018</td>\n      <td>...</td>\n      <td>10</td>\n      <td>2018.0</td>\n      <td>1.0</td>\n      <td>10.0</td>\n      <td>2018-005</td>\n      <td>3:20 use of force - 53 hard empty hand</td>\n      <td>Baton Rouge PD</td>\n      <td>2018</td>\n      <td>ef3a5a4eb4544ebeb4199f9fe1016105</td>\n      <td>87ed457ca0d91a317754b43f530c3223</td>\n    </tr>\n    <tr>\n      <th>4</th>\n      <td>administrative review</td>\n      <td>not sustained</td>\n      <td>not sustained</td>\n      <td>P10252</td>\n      <td>patrol 2nd district</td>\n      <td>pollar jr</td>\n      <td>charles</td>\n      <td>g</td>\n      <td>NaN</td>\n      <td>2018</td>\n      <td>...</td>\n      <td>11</td>\n      <td>2018.0</td>\n      <td>1.0</td>\n      <td>11.0</td>\n      <td>2018-006</td>\n      <td>3:20 use of force - 53 hard empty hand</td>\n      <td>Baton Rouge PD</td>\n      <td>2018</td>\n      <td>3973b0e701da4fef807b4d2abf143871</td>\n      <td>c59024deb7e2dac3383d0462126b5ed6</td>\n    </tr>\n    <tr>\n      <th>...</th>\n      <td>...</td>\n      <td>...</td>\n      <td>...</td>\n      <td>...</td>\n      <td>...</td>\n      <td>...</td>\n      <td>...</td>\n      <td>...</td>\n      <td>...</td>\n      <td>...</td>\n      <td>...</td>\n      <td>...</td>\n      <td>...</td>\n      <td>...</td>\n      <td>...</td>\n      <td>...</td>\n      <td>...</td>\n      <td>...</td>\n      <td>...</td>\n      <td>...</td>\n      <td>...</td>\n    </tr>\n    <tr>\n      <th>136</th>\n      <td>administrative review</td>\n      <td>letter of reprimand</td>\n      <td>sustained</td>\n      <td>P1245</td>\n      <td>patrol 2nd district</td>\n      <td>clark</td>\n      <td>kenneth</td>\n      <td>m</td>\n      <td>NaN</td>\n      <td>2019</td>\n      <td>...</td>\n      <td>30</td>\n      <td>2018.0</td>\n      <td>3.0</td>\n      <td>27.0</td>\n      <td>2019-003</td>\n      <td>3:17 carrying out orders - 40 general orders (...</td>\n      <td>Baton Rouge PD</td>\n      <td>2018</td>\n      <td>c4994d8353864109fca8fe4c881bf20f</td>\n      <td>944cf18ddacafffe023c3840d07f5ddc</td>\n    </tr>\n    <tr>\n      <th>137</th>\n      <td>administrative review</td>\n      <td>letter of reprimand</td>\n      <td>not sustained</td>\n      <td>P1245</td>\n      <td>patrol 2nd district</td>\n      <td>clark</td>\n      <td>kenneth</td>\n      <td>m</td>\n      <td>NaN</td>\n      <td>2019</td>\n      <td>...</td>\n      <td>30</td>\n      <td>2018.0</td>\n      <td>3.0</td>\n      <td>27.0</td>\n      <td>2019-003</td>\n      <td>3:18 insubordination - 43</td>\n      <td>Baton Rouge PD</td>\n      <td>2018</td>\n      <td>c4994d8353864109fca8fe4c881bf20f</td>\n      <td>e1e04016333fccc3a02a6ca693e81bf8</td>\n    </tr>\n    <tr>\n      <th>138</th>\n      <td>administrative review</td>\n      <td>letter of reprimand</td>\n      <td>sustained</td>\n      <td>P1245</td>\n      <td>patrol 2nd district</td>\n      <td>clark</td>\n      <td>kenneth</td>\n      <td>m</td>\n      <td>NaN</td>\n      <td>2019</td>\n      <td>...</td>\n      <td>30</td>\n      <td>2018.0</td>\n      <td>3.0</td>\n      <td>27.0</td>\n      <td>2019-003</td>\n      <td>2:12 conduct unbecoming an officer - 21</td>\n      <td>Baton Rouge PD</td>\n      <td>2018</td>\n      <td>c4994d8353864109fca8fe4c881bf20f</td>\n      <td>fe3f1097cdf1086834f282005ce4731d</td>\n    </tr>\n    <tr>\n      <th>139</th>\n      <td>administrative review</td>\n      <td>not sustained</td>\n      <td>not sustained</td>\n      <td>P10639</td>\n      <td>patrol 1st district</td>\n      <td>robertson</td>\n      <td>jason</td>\n      <td>r</td>\n      <td>NaN</td>\n      <td>2018</td>\n      <td>...</td>\n      <td>26</td>\n      <td>2018.0</td>\n      <td>1.0</td>\n      <td>26.0</td>\n      <td>2018-010</td>\n      <td>3:17 carrying out orders - 40 general orders (...</td>\n      <td>Baton Rouge PD</td>\n      <td>2018</td>\n      <td>f0098284466343cf5316ac41763d2548</td>\n      <td>e05b5c9f2420bb255ef8f28db874ccdf</td>\n    </tr>\n    <tr>\n      <th>140</th>\n      <td>administrative review</td>\n      <td>not sustained</td>\n      <td>not sustained</td>\n      <td>P10511</td>\n      <td>patrol 4th district</td>\n      <td>carter jr</td>\n      <td>darrell</td>\n      <td>j</td>\n      <td>NaN</td>\n      <td>2018</td>\n      <td>...</td>\n      <td>8</td>\n      <td>2018.0</td>\n      <td>2.0</td>\n      <td>8.0</td>\n      <td>2018-011</td>\n      <td>3:20 use of force - 52 intermediate weapon</td>\n      <td>Baton Rouge PD</td>\n      <td>2018</td>\n      <td>edf8cf5cbbed6964b9cec50ecad48cb9</td>\n      <td>5bc91755da96018523a38918fdc83ea8</td>\n    </tr>\n  </tbody>\n</table>\n<p>141 rows × 21 columns</p>\n</div>"
     },
     "metadata": {},
     "execution_count": 13
    }
   ],
   "source": [
    "cprr"
   ]
  },
  {
   "cell_type": "code",
   "execution_count": 16,
   "metadata": {},
   "outputs": [
    {
     "output_type": "execute_result",
     "data": {
      "text/plain": [
       "    receive_year  receive_month  receive_day                               uid\n",
       "59          2018              8            7  ef3a5a4eb4544ebeb4199f9fe1016105\n",
       "61          2018              8            7  ef3a5a4eb4544ebeb4199f9fe1016105\n",
       "66          2018              8            7  ef3a5a4eb4544ebeb4199f9fe1016105\n",
       "67          2018              8            7  ef3a5a4eb4544ebeb4199f9fe1016105\n",
       "68          2018              8            7  ef3a5a4eb4544ebeb4199f9fe1016105\n",
       "69          2018              8            7  ef3a5a4eb4544ebeb4199f9fe1016105"
      ],
      "text/html": "<div>\n<style scoped>\n    .dataframe tbody tr th:only-of-type {\n        vertical-align: middle;\n    }\n\n    .dataframe tbody tr th {\n        vertical-align: top;\n    }\n\n    .dataframe thead th {\n        text-align: right;\n    }\n</style>\n<table border=\"1\" class=\"dataframe\">\n  <thead>\n    <tr style=\"text-align: right;\">\n      <th></th>\n      <th>receive_year</th>\n      <th>receive_month</th>\n      <th>receive_day</th>\n      <th>uid</th>\n    </tr>\n  </thead>\n  <tbody>\n    <tr>\n      <th>59</th>\n      <td>2018</td>\n      <td>8</td>\n      <td>7</td>\n      <td>ef3a5a4eb4544ebeb4199f9fe1016105</td>\n    </tr>\n    <tr>\n      <th>61</th>\n      <td>2018</td>\n      <td>8</td>\n      <td>7</td>\n      <td>ef3a5a4eb4544ebeb4199f9fe1016105</td>\n    </tr>\n    <tr>\n      <th>66</th>\n      <td>2018</td>\n      <td>8</td>\n      <td>7</td>\n      <td>ef3a5a4eb4544ebeb4199f9fe1016105</td>\n    </tr>\n    <tr>\n      <th>67</th>\n      <td>2018</td>\n      <td>8</td>\n      <td>7</td>\n      <td>ef3a5a4eb4544ebeb4199f9fe1016105</td>\n    </tr>\n    <tr>\n      <th>68</th>\n      <td>2018</td>\n      <td>8</td>\n      <td>7</td>\n      <td>ef3a5a4eb4544ebeb4199f9fe1016105</td>\n    </tr>\n    <tr>\n      <th>69</th>\n      <td>2018</td>\n      <td>8</td>\n      <td>7</td>\n      <td>ef3a5a4eb4544ebeb4199f9fe1016105</td>\n    </tr>\n  </tbody>\n</table>\n</div>"
     },
     "metadata": {},
     "execution_count": 16
    }
   ],
   "source": [
    "cprr.loc[cprr.action.fillna('').str.contains('termina'), ['receive_year', 'receive_month', 'receive_day', 'uid']]"
   ]
  },
  {
   "cell_type": "code",
   "execution_count": 8,
   "metadata": {},
   "outputs": [
    {
     "output_type": "execute_result",
     "data": {
      "text/plain": [
       "      year  employee_id last_name first_name middle_initial  department_code  \\\n",
       "3204  2016       524689   hamadeh     yuseff              g          5020001   \n",
       "3205  2017       524689   hamadeh     yuseff              g          5060001   \n",
       "\n",
       "                               department_desc  rank_code       rank_desc  \\\n",
       "3204   police department-uniform patrol bureau       5005  police officer   \n",
       "3205  police department-criminal invest bureau       5005  police officer   \n",
       "\n",
       "      employment_status  ...  resign_month  resign_day           agency  \\\n",
       "3204                  0  ...           NaN         NaN  Baton Rouge CSD   \n",
       "3205                  0  ...           NaN         NaN  Baton Rouge CSD   \n",
       "\n",
       "                                   uid  pay_effective_year  rank_year  \\\n",
       "3204  ef3a5a4eb4544ebeb4199f9fe1016105              2016.0     2016.0   \n",
       "3205  ef3a5a4eb4544ebeb4199f9fe1016105              2017.0        NaN   \n",
       "\n",
       "      dept_year                       perhist_uid  level_1_cert_date  \\\n",
       "3204     2016.0  cddf4bb54de1aebd414cba9b352e3edd                NaN   \n",
       "3205     2017.0  c0bad26bcf22757316276703b10bf361                NaN   \n",
       "\n",
       "     last_pc_12_qualification_date  \n",
       "3204                           NaN  \n",
       "3205                           NaN  \n",
       "\n",
       "[2 rows x 27 columns]"
      ],
      "text/html": "<div>\n<style scoped>\n    .dataframe tbody tr th:only-of-type {\n        vertical-align: middle;\n    }\n\n    .dataframe tbody tr th {\n        vertical-align: top;\n    }\n\n    .dataframe thead th {\n        text-align: right;\n    }\n</style>\n<table border=\"1\" class=\"dataframe\">\n  <thead>\n    <tr style=\"text-align: right;\">\n      <th></th>\n      <th>year</th>\n      <th>employee_id</th>\n      <th>last_name</th>\n      <th>first_name</th>\n      <th>middle_initial</th>\n      <th>department_code</th>\n      <th>department_desc</th>\n      <th>rank_code</th>\n      <th>rank_desc</th>\n      <th>employment_status</th>\n      <th>...</th>\n      <th>resign_month</th>\n      <th>resign_day</th>\n      <th>agency</th>\n      <th>uid</th>\n      <th>pay_effective_year</th>\n      <th>rank_year</th>\n      <th>dept_year</th>\n      <th>perhist_uid</th>\n      <th>level_1_cert_date</th>\n      <th>last_pc_12_qualification_date</th>\n    </tr>\n  </thead>\n  <tbody>\n    <tr>\n      <th>3204</th>\n      <td>2016</td>\n      <td>524689</td>\n      <td>hamadeh</td>\n      <td>yuseff</td>\n      <td>g</td>\n      <td>5020001</td>\n      <td>police department-uniform patrol bureau</td>\n      <td>5005</td>\n      <td>police officer</td>\n      <td>0</td>\n      <td>...</td>\n      <td>NaN</td>\n      <td>NaN</td>\n      <td>Baton Rouge CSD</td>\n      <td>ef3a5a4eb4544ebeb4199f9fe1016105</td>\n      <td>2016.0</td>\n      <td>2016.0</td>\n      <td>2016.0</td>\n      <td>cddf4bb54de1aebd414cba9b352e3edd</td>\n      <td>NaN</td>\n      <td>NaN</td>\n    </tr>\n    <tr>\n      <th>3205</th>\n      <td>2017</td>\n      <td>524689</td>\n      <td>hamadeh</td>\n      <td>yuseff</td>\n      <td>g</td>\n      <td>5060001</td>\n      <td>police department-criminal invest bureau</td>\n      <td>5005</td>\n      <td>police officer</td>\n      <td>0</td>\n      <td>...</td>\n      <td>NaN</td>\n      <td>NaN</td>\n      <td>Baton Rouge CSD</td>\n      <td>ef3a5a4eb4544ebeb4199f9fe1016105</td>\n      <td>2017.0</td>\n      <td>NaN</td>\n      <td>2017.0</td>\n      <td>c0bad26bcf22757316276703b10bf361</td>\n      <td>NaN</td>\n      <td>NaN</td>\n    </tr>\n  </tbody>\n</table>\n<p>2 rows × 27 columns</p>\n</div>"
     },
     "metadata": {},
     "execution_count": 8
    }
   ],
   "source": [
    "df17[df17.uid == 'ef3a5a4eb4544ebeb4199f9fe1016105']"
   ]
  },
  {
   "cell_type": "code",
   "execution_count": 10,
   "metadata": {},
   "outputs": [
    {
     "output_type": "execute_result",
     "data": {
      "text/plain": [
       "      resign_year  resign_month  resign_day\n",
       "1854       2019.0           2.0        14.0\n",
       "1855       2019.0           2.0        14.0"
      ],
      "text/html": "<div>\n<style scoped>\n    .dataframe tbody tr th:only-of-type {\n        vertical-align: middle;\n    }\n\n    .dataframe tbody tr th {\n        vertical-align: top;\n    }\n\n    .dataframe thead th {\n        text-align: right;\n    }\n</style>\n<table border=\"1\" class=\"dataframe\">\n  <thead>\n    <tr style=\"text-align: right;\">\n      <th></th>\n      <th>resign_year</th>\n      <th>resign_month</th>\n      <th>resign_day</th>\n    </tr>\n  </thead>\n  <tbody>\n    <tr>\n      <th>1854</th>\n      <td>2019.0</td>\n      <td>2.0</td>\n      <td>14.0</td>\n    </tr>\n    <tr>\n      <th>1855</th>\n      <td>2019.0</td>\n      <td>2.0</td>\n      <td>14.0</td>\n    </tr>\n  </tbody>\n</table>\n</div>"
     },
     "metadata": {},
     "execution_count": 10
    }
   ],
   "source": [
    "df19.loc[df19.uid == 'ef3a5a4eb4544ebeb4199f9fe1016105', ['resign_year', 'resign_month', 'resign_day']]"
   ]
  },
  {
   "cell_type": "code",
   "execution_count": null,
   "metadata": {},
   "outputs": [],
   "source": []
  }
 ]
}
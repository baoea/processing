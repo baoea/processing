{
 "metadata": {
  "language_info": {
   "codemirror_mode": {
    "name": "ipython",
    "version": 3
   },
   "file_extension": ".py",
   "mimetype": "text/x-python",
   "name": "python",
   "nbconvert_exporter": "python",
   "pygments_lexer": "ipython3",
   "version": "3.8.3-final"
  },
  "orig_nbformat": 2,
  "kernelspec": {
   "name": "python3",
   "display_name": "Python 3",
   "language": "python"
  }
 },
 "nbformat": 4,
 "nbformat_minor": 2,
 "cells": [
  {
   "cell_type": "code",
   "execution_count": 1,
   "metadata": {},
   "outputs": [],
   "source": [
    "import sys; sys.path.append(\"../\")\n",
    "\n",
    "import pandas as pd\n",
    "\n",
    "from clean.madisonville_pd_pprr import clean"
   ]
  },
  {
   "cell_type": "code",
   "execution_count": 2,
   "metadata": {},
   "outputs": [
    {
     "output_type": "execute_result",
     "data": {
      "text/plain": [
       "   badge_no      2012      2013      2014           2015      2016      2017  \\\n",
       "0     11713  41365.94  36658.13  38276.15       38316.92   8902.50       NaN   \n",
       "1              810.00       NaN       NaN  48.72 427.75      82.10       NaN   \n",
       "2            34699.47  28110.90       NaN       35755.47  35502.84  36162.00   \n",
       "3     11731    306.00     73.08       NaN       44603.01  44394.69  38948.93   \n",
       "4     11704  37722.76  34799.84  36448.31         968.75       NaN       NaN   \n",
       "5     11702  40686.27  39014.84  42579.43            NaN    272.15       NaN   \n",
       "6             6532.41   4186.49   3595.84       35454.14  35805.05  35570.63   \n",
       "7              493.29       NaN       NaN        1267.88     80.76       NaN   \n",
       "8     11706   4387.66   6607.84  37283.03       56458.88  58363.32       NaN   \n",
       "9             7148.40   7493.94   9494.22        14457.9  27213.67  54107.94   \n",
       "10           55891.66  54477.33  57059.43        7223.08   1136.70       NaN   \n",
       "11    11707   6962.85   2790.30    483.06       34938.03  35390.23  35652.80   \n",
       "12           13008.72  11610.05   7747.77        3881.86   2544.24       NaN   \n",
       "13    11705  33692.28  33601.30  35561.00         303.07       NaN       NaN   \n",
       "14    11711    344.68       NaN   3882.33        1016.73  27769.49  37442.30   \n",
       "15             197.44       NaN    196.40          50.52    189.45       NaN   \n",
       "16    11708       NaN       NaN       NaN            NaN  26038.57  20744.16   \n",
       "17    11731       NaN       NaN       NaN            NaN    246.29       NaN   \n",
       "18    11709       NaN       NaN       NaN            NaN       NaN       NaN   \n",
       "19                NaN       NaN       NaN            NaN       NaN       NaN   \n",
       "20    11709       NaN       NaN       NaN            NaN       NaN       NaN   \n",
       "21    11708       NaN       NaN       NaN            NaN       NaN       NaN   \n",
       "22    11701       NaN       NaN       NaN            NaN       NaN       NaN   \n",
       "23    11710       NaN       NaN       NaN            NaN       NaN       NaN   \n",
       "\n",
       "        2018      2019 first_name    last_name hire_year hire_month hire_day  \\\n",
       "0        NaN       NaN    kenneth       bailey      2005          8       13   \n",
       "1        NaN       NaN     walter        baumy      2012          8       30   \n",
       "2   39546.50  38989.57    ferrell      jarrell      2006          3        1   \n",
       "3   33917.97       NaN    gregory      johnson      2012          1        1   \n",
       "4        NaN       NaN    michael         kast                                 \n",
       "5        NaN       NaN       ryan        mahne      2005          7        7   \n",
       "6   36910.13  36430.16       eric        nolan      2010          2       17   \n",
       "7        NaN       NaN     michel       palisi      2012          1        1   \n",
       "8        NaN       NaN       paul  quatrevignt                                 \n",
       "9   35417.52  33449.60     hector      sanchez      2001          4        9   \n",
       "10       NaN       NaN      david        smith      1999          1        1   \n",
       "11  37603.49  35191.08    stephen        stark                                 \n",
       "12       NaN       NaN      david  synakiewicz      2008          8       29   \n",
       "13       NaN       NaN      shawn     woessner                                 \n",
       "14  27044.55       NaN      kevin      casmere      2013         12        6   \n",
       "15       NaN       NaN      randy      dabdoub      2013          3        6   \n",
       "16       NaN       NaN      jimmy      griffin      2015         10       16   \n",
       "17       NaN       NaN       alex      tanguis                                 \n",
       "18  13269.75  36293.17     marcus     bergeron      2003         10       25   \n",
       "19   1742.70  32377.95    richard      walther      2015         12        9   \n",
       "20  47282.56  55846.08      chris     bertucci      2018          9       12   \n",
       "21       NaN  14165.45    leonard     holloway      2018         12        4   \n",
       "22       NaN       NaN     barney       tyrney                                 \n",
       "23       NaN       NaN       john        dupuy                                 \n",
       "\n",
       "                                 uid  \n",
       "0   d21e71a16134f5f6a1036e1451913294  \n",
       "1   3cc9b9b0ddf564451da439031c9c4a73  \n",
       "2   b4ea6d1cd29492b2aba40526c79a1245  \n",
       "3   2228bd9b4070703be50583742fe853a8  \n",
       "4   a5cffdd4bce9362fb3a27caeda9ffad6  \n",
       "5   3cd05f0830b00d9098e712191dd6af59  \n",
       "6   043f5a3c184c4601228dd5cc908f80df  \n",
       "7   160386e255394b1d9fc970cb82ac976e  \n",
       "8   166a889259d7728ce18ffc18ed84135c  \n",
       "9   02a42fc883bc2630af8343664f143988  \n",
       "10  1c18f69e0507818529cbdde194f1057a  \n",
       "11  03259be45a4edddc5f68f0ce3cf29773  \n",
       "12  a283d7f24222691bf0b6a52e39321a06  \n",
       "13  db0976c18333f113dc0b56ce42b28af7  \n",
       "14  dde5216b36f94555099ed29fe5d56182  \n",
       "15  2c01e679662b9d61884f715bfdee5dd3  \n",
       "16  b957c5fbb90d7d1cdf912abee9f2f70b  \n",
       "17  d4a4ad071619a018195fbcf85ceaa785  \n",
       "18  fcccf8f5f1c248e6d130108365aeb536  \n",
       "19  33ba44f5f13e400da744bb735bc48984  \n",
       "20  16daac5e776c4dbb103939f16460604a  \n",
       "21  64d446e5085ca8eae7140740d0269f5d  \n",
       "22  c5112265f8eaf64a16dc0b1bce99ead2  \n",
       "23  987e8c3dfa1a61ae85fc92e38fac8e00  "
      ],
      "text/html": "<div>\n<style scoped>\n    .dataframe tbody tr th:only-of-type {\n        vertical-align: middle;\n    }\n\n    .dataframe tbody tr th {\n        vertical-align: top;\n    }\n\n    .dataframe thead th {\n        text-align: right;\n    }\n</style>\n<table border=\"1\" class=\"dataframe\">\n  <thead>\n    <tr style=\"text-align: right;\">\n      <th></th>\n      <th>badge_no</th>\n      <th>2012</th>\n      <th>2013</th>\n      <th>2014</th>\n      <th>2015</th>\n      <th>2016</th>\n      <th>2017</th>\n      <th>2018</th>\n      <th>2019</th>\n      <th>first_name</th>\n      <th>last_name</th>\n      <th>hire_year</th>\n      <th>hire_month</th>\n      <th>hire_day</th>\n      <th>uid</th>\n    </tr>\n  </thead>\n  <tbody>\n    <tr>\n      <th>0</th>\n      <td>11713</td>\n      <td>41365.94</td>\n      <td>36658.13</td>\n      <td>38276.15</td>\n      <td>38316.92</td>\n      <td>8902.50</td>\n      <td>NaN</td>\n      <td>NaN</td>\n      <td>NaN</td>\n      <td>kenneth</td>\n      <td>bailey</td>\n      <td>2005</td>\n      <td>8</td>\n      <td>13</td>\n      <td>d21e71a16134f5f6a1036e1451913294</td>\n    </tr>\n    <tr>\n      <th>1</th>\n      <td></td>\n      <td>810.00</td>\n      <td>NaN</td>\n      <td>NaN</td>\n      <td>48.72 427.75</td>\n      <td>82.10</td>\n      <td>NaN</td>\n      <td>NaN</td>\n      <td>NaN</td>\n      <td>walter</td>\n      <td>baumy</td>\n      <td>2012</td>\n      <td>8</td>\n      <td>30</td>\n      <td>3cc9b9b0ddf564451da439031c9c4a73</td>\n    </tr>\n    <tr>\n      <th>2</th>\n      <td></td>\n      <td>34699.47</td>\n      <td>28110.90</td>\n      <td>NaN</td>\n      <td>35755.47</td>\n      <td>35502.84</td>\n      <td>36162.00</td>\n      <td>39546.50</td>\n      <td>38989.57</td>\n      <td>ferrell</td>\n      <td>jarrell</td>\n      <td>2006</td>\n      <td>3</td>\n      <td>1</td>\n      <td>b4ea6d1cd29492b2aba40526c79a1245</td>\n    </tr>\n    <tr>\n      <th>3</th>\n      <td>11731</td>\n      <td>306.00</td>\n      <td>73.08</td>\n      <td>NaN</td>\n      <td>44603.01</td>\n      <td>44394.69</td>\n      <td>38948.93</td>\n      <td>33917.97</td>\n      <td>NaN</td>\n      <td>gregory</td>\n      <td>johnson</td>\n      <td>2012</td>\n      <td>1</td>\n      <td>1</td>\n      <td>2228bd9b4070703be50583742fe853a8</td>\n    </tr>\n    <tr>\n      <th>4</th>\n      <td>11704</td>\n      <td>37722.76</td>\n      <td>34799.84</td>\n      <td>36448.31</td>\n      <td>968.75</td>\n      <td>NaN</td>\n      <td>NaN</td>\n      <td>NaN</td>\n      <td>NaN</td>\n      <td>michael</td>\n      <td>kast</td>\n      <td></td>\n      <td></td>\n      <td></td>\n      <td>a5cffdd4bce9362fb3a27caeda9ffad6</td>\n    </tr>\n    <tr>\n      <th>5</th>\n      <td>11702</td>\n      <td>40686.27</td>\n      <td>39014.84</td>\n      <td>42579.43</td>\n      <td>NaN</td>\n      <td>272.15</td>\n      <td>NaN</td>\n      <td>NaN</td>\n      <td>NaN</td>\n      <td>ryan</td>\n      <td>mahne</td>\n      <td>2005</td>\n      <td>7</td>\n      <td>7</td>\n      <td>3cd05f0830b00d9098e712191dd6af59</td>\n    </tr>\n    <tr>\n      <th>6</th>\n      <td></td>\n      <td>6532.41</td>\n      <td>4186.49</td>\n      <td>3595.84</td>\n      <td>35454.14</td>\n      <td>35805.05</td>\n      <td>35570.63</td>\n      <td>36910.13</td>\n      <td>36430.16</td>\n      <td>eric</td>\n      <td>nolan</td>\n      <td>2010</td>\n      <td>2</td>\n      <td>17</td>\n      <td>043f5a3c184c4601228dd5cc908f80df</td>\n    </tr>\n    <tr>\n      <th>7</th>\n      <td></td>\n      <td>493.29</td>\n      <td>NaN</td>\n      <td>NaN</td>\n      <td>1267.88</td>\n      <td>80.76</td>\n      <td>NaN</td>\n      <td>NaN</td>\n      <td>NaN</td>\n      <td>michel</td>\n      <td>palisi</td>\n      <td>2012</td>\n      <td>1</td>\n      <td>1</td>\n      <td>160386e255394b1d9fc970cb82ac976e</td>\n    </tr>\n    <tr>\n      <th>8</th>\n      <td>11706</td>\n      <td>4387.66</td>\n      <td>6607.84</td>\n      <td>37283.03</td>\n      <td>56458.88</td>\n      <td>58363.32</td>\n      <td>NaN</td>\n      <td>NaN</td>\n      <td>NaN</td>\n      <td>paul</td>\n      <td>quatrevignt</td>\n      <td></td>\n      <td></td>\n      <td></td>\n      <td>166a889259d7728ce18ffc18ed84135c</td>\n    </tr>\n    <tr>\n      <th>9</th>\n      <td></td>\n      <td>7148.40</td>\n      <td>7493.94</td>\n      <td>9494.22</td>\n      <td>14457.9</td>\n      <td>27213.67</td>\n      <td>54107.94</td>\n      <td>35417.52</td>\n      <td>33449.60</td>\n      <td>hector</td>\n      <td>sanchez</td>\n      <td>2001</td>\n      <td>4</td>\n      <td>9</td>\n      <td>02a42fc883bc2630af8343664f143988</td>\n    </tr>\n    <tr>\n      <th>10</th>\n      <td></td>\n      <td>55891.66</td>\n      <td>54477.33</td>\n      <td>57059.43</td>\n      <td>7223.08</td>\n      <td>1136.70</td>\n      <td>NaN</td>\n      <td>NaN</td>\n      <td>NaN</td>\n      <td>david</td>\n      <td>smith</td>\n      <td>1999</td>\n      <td>1</td>\n      <td>1</td>\n      <td>1c18f69e0507818529cbdde194f1057a</td>\n    </tr>\n    <tr>\n      <th>11</th>\n      <td>11707</td>\n      <td>6962.85</td>\n      <td>2790.30</td>\n      <td>483.06</td>\n      <td>34938.03</td>\n      <td>35390.23</td>\n      <td>35652.80</td>\n      <td>37603.49</td>\n      <td>35191.08</td>\n      <td>stephen</td>\n      <td>stark</td>\n      <td></td>\n      <td></td>\n      <td></td>\n      <td>03259be45a4edddc5f68f0ce3cf29773</td>\n    </tr>\n    <tr>\n      <th>12</th>\n      <td></td>\n      <td>13008.72</td>\n      <td>11610.05</td>\n      <td>7747.77</td>\n      <td>3881.86</td>\n      <td>2544.24</td>\n      <td>NaN</td>\n      <td>NaN</td>\n      <td>NaN</td>\n      <td>david</td>\n      <td>synakiewicz</td>\n      <td>2008</td>\n      <td>8</td>\n      <td>29</td>\n      <td>a283d7f24222691bf0b6a52e39321a06</td>\n    </tr>\n    <tr>\n      <th>13</th>\n      <td>11705</td>\n      <td>33692.28</td>\n      <td>33601.30</td>\n      <td>35561.00</td>\n      <td>303.07</td>\n      <td>NaN</td>\n      <td>NaN</td>\n      <td>NaN</td>\n      <td>NaN</td>\n      <td>shawn</td>\n      <td>woessner</td>\n      <td></td>\n      <td></td>\n      <td></td>\n      <td>db0976c18333f113dc0b56ce42b28af7</td>\n    </tr>\n    <tr>\n      <th>14</th>\n      <td>11711</td>\n      <td>344.68</td>\n      <td>NaN</td>\n      <td>3882.33</td>\n      <td>1016.73</td>\n      <td>27769.49</td>\n      <td>37442.30</td>\n      <td>27044.55</td>\n      <td>NaN</td>\n      <td>kevin</td>\n      <td>casmere</td>\n      <td>2013</td>\n      <td>12</td>\n      <td>6</td>\n      <td>dde5216b36f94555099ed29fe5d56182</td>\n    </tr>\n    <tr>\n      <th>15</th>\n      <td></td>\n      <td>197.44</td>\n      <td>NaN</td>\n      <td>196.40</td>\n      <td>50.52</td>\n      <td>189.45</td>\n      <td>NaN</td>\n      <td>NaN</td>\n      <td>NaN</td>\n      <td>randy</td>\n      <td>dabdoub</td>\n      <td>2013</td>\n      <td>3</td>\n      <td>6</td>\n      <td>2c01e679662b9d61884f715bfdee5dd3</td>\n    </tr>\n    <tr>\n      <th>16</th>\n      <td>11708</td>\n      <td>NaN</td>\n      <td>NaN</td>\n      <td>NaN</td>\n      <td>NaN</td>\n      <td>26038.57</td>\n      <td>20744.16</td>\n      <td>NaN</td>\n      <td>NaN</td>\n      <td>jimmy</td>\n      <td>griffin</td>\n      <td>2015</td>\n      <td>10</td>\n      <td>16</td>\n      <td>b957c5fbb90d7d1cdf912abee9f2f70b</td>\n    </tr>\n    <tr>\n      <th>17</th>\n      <td>11731</td>\n      <td>NaN</td>\n      <td>NaN</td>\n      <td>NaN</td>\n      <td>NaN</td>\n      <td>246.29</td>\n      <td>NaN</td>\n      <td>NaN</td>\n      <td>NaN</td>\n      <td>alex</td>\n      <td>tanguis</td>\n      <td></td>\n      <td></td>\n      <td></td>\n      <td>d4a4ad071619a018195fbcf85ceaa785</td>\n    </tr>\n    <tr>\n      <th>18</th>\n      <td>11709</td>\n      <td>NaN</td>\n      <td>NaN</td>\n      <td>NaN</td>\n      <td>NaN</td>\n      <td>NaN</td>\n      <td>NaN</td>\n      <td>13269.75</td>\n      <td>36293.17</td>\n      <td>marcus</td>\n      <td>bergeron</td>\n      <td>2003</td>\n      <td>10</td>\n      <td>25</td>\n      <td>fcccf8f5f1c248e6d130108365aeb536</td>\n    </tr>\n    <tr>\n      <th>19</th>\n      <td></td>\n      <td>NaN</td>\n      <td>NaN</td>\n      <td>NaN</td>\n      <td>NaN</td>\n      <td>NaN</td>\n      <td>NaN</td>\n      <td>1742.70</td>\n      <td>32377.95</td>\n      <td>richard</td>\n      <td>walther</td>\n      <td>2015</td>\n      <td>12</td>\n      <td>9</td>\n      <td>33ba44f5f13e400da744bb735bc48984</td>\n    </tr>\n    <tr>\n      <th>20</th>\n      <td>11709</td>\n      <td>NaN</td>\n      <td>NaN</td>\n      <td>NaN</td>\n      <td>NaN</td>\n      <td>NaN</td>\n      <td>NaN</td>\n      <td>47282.56</td>\n      <td>55846.08</td>\n      <td>chris</td>\n      <td>bertucci</td>\n      <td>2018</td>\n      <td>9</td>\n      <td>12</td>\n      <td>16daac5e776c4dbb103939f16460604a</td>\n    </tr>\n    <tr>\n      <th>21</th>\n      <td>11708</td>\n      <td>NaN</td>\n      <td>NaN</td>\n      <td>NaN</td>\n      <td>NaN</td>\n      <td>NaN</td>\n      <td>NaN</td>\n      <td>NaN</td>\n      <td>14165.45</td>\n      <td>leonard</td>\n      <td>holloway</td>\n      <td>2018</td>\n      <td>12</td>\n      <td>4</td>\n      <td>64d446e5085ca8eae7140740d0269f5d</td>\n    </tr>\n    <tr>\n      <th>22</th>\n      <td>11701</td>\n      <td>NaN</td>\n      <td>NaN</td>\n      <td>NaN</td>\n      <td>NaN</td>\n      <td>NaN</td>\n      <td>NaN</td>\n      <td>NaN</td>\n      <td>NaN</td>\n      <td>barney</td>\n      <td>tyrney</td>\n      <td></td>\n      <td></td>\n      <td></td>\n      <td>c5112265f8eaf64a16dc0b1bce99ead2</td>\n    </tr>\n    <tr>\n      <th>23</th>\n      <td>11710</td>\n      <td>NaN</td>\n      <td>NaN</td>\n      <td>NaN</td>\n      <td>NaN</td>\n      <td>NaN</td>\n      <td>NaN</td>\n      <td>NaN</td>\n      <td>NaN</td>\n      <td>john</td>\n      <td>dupuy</td>\n      <td></td>\n      <td></td>\n      <td></td>\n      <td>987e8c3dfa1a61ae85fc92e38fac8e00</td>\n    </tr>\n  </tbody>\n</table>\n</div>"
     },
     "metadata": {},
     "execution_count": 2
    }
   ],
   "source": [
    "df = clean()\n",
    "df"
   ]
  },
  {
   "cell_type": "code",
   "execution_count": 3,
   "metadata": {},
   "outputs": [
    {
     "output_type": "error",
     "ename": "AttributeError",
     "evalue": "'DataFrame' object has no attribute 'annual_salary'",
     "traceback": [
      "\u001b[0;31m---------------------------------------------------------------------------\u001b[0m",
      "\u001b[0;31mAttributeError\u001b[0m                            Traceback (most recent call last)",
      "\u001b[0;32m<ipython-input-3-decdc56fe209>\u001b[0m in \u001b[0;36m<module>\u001b[0;34m\u001b[0m\n\u001b[0;32m----> 1\u001b[0;31m \u001b[0mdf\u001b[0m\u001b[0;34m.\u001b[0m\u001b[0mannual_salary\u001b[0m\u001b[0;34m.\u001b[0m\u001b[0munique\u001b[0m\u001b[0;34m(\u001b[0m\u001b[0;34m)\u001b[0m\u001b[0;34m\u001b[0m\u001b[0;34m\u001b[0m\u001b[0m\n\u001b[0m",
      "\u001b[0;32m~/opt/anaconda3/lib/python3.8/site-packages/pandas/core/generic.py\u001b[0m in \u001b[0;36m__getattr__\u001b[0;34m(self, name)\u001b[0m\n\u001b[1;32m   5458\u001b[0m             \u001b[0;32mif\u001b[0m \u001b[0mself\u001b[0m\u001b[0;34m.\u001b[0m\u001b[0m_info_axis\u001b[0m\u001b[0;34m.\u001b[0m\u001b[0m_can_hold_identifiers_and_holds_name\u001b[0m\u001b[0;34m(\u001b[0m\u001b[0mname\u001b[0m\u001b[0;34m)\u001b[0m\u001b[0;34m:\u001b[0m\u001b[0;34m\u001b[0m\u001b[0;34m\u001b[0m\u001b[0m\n\u001b[1;32m   5459\u001b[0m                 \u001b[0;32mreturn\u001b[0m \u001b[0mself\u001b[0m\u001b[0;34m[\u001b[0m\u001b[0mname\u001b[0m\u001b[0;34m]\u001b[0m\u001b[0;34m\u001b[0m\u001b[0;34m\u001b[0m\u001b[0m\n\u001b[0;32m-> 5460\u001b[0;31m             \u001b[0;32mreturn\u001b[0m \u001b[0mobject\u001b[0m\u001b[0;34m.\u001b[0m\u001b[0m__getattribute__\u001b[0m\u001b[0;34m(\u001b[0m\u001b[0mself\u001b[0m\u001b[0;34m,\u001b[0m \u001b[0mname\u001b[0m\u001b[0;34m)\u001b[0m\u001b[0;34m\u001b[0m\u001b[0;34m\u001b[0m\u001b[0m\n\u001b[0m\u001b[1;32m   5461\u001b[0m \u001b[0;34m\u001b[0m\u001b[0m\n\u001b[1;32m   5462\u001b[0m     \u001b[0;32mdef\u001b[0m \u001b[0m__setattr__\u001b[0m\u001b[0;34m(\u001b[0m\u001b[0mself\u001b[0m\u001b[0;34m,\u001b[0m \u001b[0mname\u001b[0m\u001b[0;34m:\u001b[0m \u001b[0mstr\u001b[0m\u001b[0;34m,\u001b[0m \u001b[0mvalue\u001b[0m\u001b[0;34m)\u001b[0m \u001b[0;34m->\u001b[0m \u001b[0;32mNone\u001b[0m\u001b[0;34m:\u001b[0m\u001b[0;34m\u001b[0m\u001b[0;34m\u001b[0m\u001b[0m\n",
      "\u001b[0;31mAttributeError\u001b[0m: 'DataFrame' object has no attribute 'annual_salary'"
     ]
    }
   ],
   "source": [
    "df.annual_salary.unique()"
   ]
  },
  {
   "cell_type": "code",
   "execution_count": 4,
   "metadata": {},
   "outputs": [
    {
     "output_type": "execute_result",
     "data": {
      "text/plain": [
       "  badge_no   2012  2013  2014           2015  2016  2017  2018  2019  \\\n",
       "6           810.0   NaN   NaN  48.72 427.75   82.1   NaN   NaN   NaN   \n",
       "\n",
       "  first_name last_name hire_year hire_month hire_day  \\\n",
       "6     walter     baumy      2012          8       30   \n",
       "\n",
       "                                uid  annual_salary data_production_year  \n",
       "6  3cc9b9b0ddf564451da439031c9c4a73  48.72 427.75                  2015  "
      ],
      "text/html": "<div>\n<style scoped>\n    .dataframe tbody tr th:only-of-type {\n        vertical-align: middle;\n    }\n\n    .dataframe tbody tr th {\n        vertical-align: top;\n    }\n\n    .dataframe thead th {\n        text-align: right;\n    }\n</style>\n<table border=\"1\" class=\"dataframe\">\n  <thead>\n    <tr style=\"text-align: right;\">\n      <th></th>\n      <th>badge_no</th>\n      <th>2012</th>\n      <th>2013</th>\n      <th>2014</th>\n      <th>2015</th>\n      <th>2016</th>\n      <th>2017</th>\n      <th>2018</th>\n      <th>2019</th>\n      <th>first_name</th>\n      <th>last_name</th>\n      <th>hire_year</th>\n      <th>hire_month</th>\n      <th>hire_day</th>\n      <th>uid</th>\n      <th>annual_salary</th>\n      <th>data_production_year</th>\n    </tr>\n  </thead>\n  <tbody>\n    <tr>\n      <th>6</th>\n      <td></td>\n      <td>810.0</td>\n      <td>NaN</td>\n      <td>NaN</td>\n      <td>48.72 427.75</td>\n      <td>82.1</td>\n      <td>NaN</td>\n      <td>NaN</td>\n      <td>NaN</td>\n      <td>walter</td>\n      <td>baumy</td>\n      <td>2012</td>\n      <td>8</td>\n      <td>30</td>\n      <td>3cc9b9b0ddf564451da439031c9c4a73</td>\n      <td>48.72 427.75</td>\n      <td>2015</td>\n    </tr>\n  </tbody>\n</table>\n</div>"
     },
     "metadata": {},
     "execution_count": 4
    }
   ],
   "source": [
    "df[df.annual_salary == '48.72 427.75 ']"
   ]
  },
  {
   "cell_type": "code",
   "execution_count": null,
   "metadata": {},
   "outputs": [],
   "source": []
  }
 ]
}
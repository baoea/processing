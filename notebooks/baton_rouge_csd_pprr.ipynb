{
 "metadata": {
  "language_info": {
   "codemirror_mode": {
    "name": "ipython",
    "version": 3
   },
   "file_extension": ".py",
   "mimetype": "text/x-python",
   "name": "python",
   "nbconvert_exporter": "python",
   "pygments_lexer": "ipython3",
   "version": "3.8.3-final"
  },
  "orig_nbformat": 2,
  "kernelspec": {
   "name": "python3",
   "display_name": "Python 3",
   "language": "python"
  }
 },
 "nbformat": 4,
 "nbformat_minor": 2,
 "cells": [
  {
   "cell_type": "code",
   "execution_count": 1,
   "metadata": {},
   "outputs": [],
   "source": [
    "import sys; sys.path.append(\"../\")\n",
    "\n",
    "from clean.baton_rouge_csd_pprr import clean_17, clean_19\n",
    "from lib.explore import show_unique\n",
    "from lib.match import (\n",
    "    match_records, print_match_result, ColumnsIndex, JaroWinklerSimilarity,\n",
    "    StringSimilarity, DateSimilarity, ThresholdClassifier\n",
    ")\n",
    "from lib.date import combine_date_columns"
   ]
  },
  {
   "cell_type": "code",
   "execution_count": 2,
   "metadata": {},
   "outputs": [
    {
     "output_type": "execute_result",
     "data": {
      "text/plain": [
       "       year  employee_id    last_name first_name middle_initial  \\\n",
       "0      2008          337        adams     rodney              p   \n",
       "1      2009          337        adams     rodney              p   \n",
       "2      2010          337        adams     rodney              p   \n",
       "3      2008          604        adams       leif              t   \n",
       "4      2009          604        adams       leif              t   \n",
       "...     ...          ...          ...        ...            ...   \n",
       "10042  2017       500461       edlund      tonya              s   \n",
       "10043  2017       511420  langston jr     robert              m   \n",
       "10044  2017       528439      guevara      maria              j   \n",
       "10045  2017       515868        brown     justin              p   \n",
       "10046  2017       418552    stevenson    william              p   \n",
       "\n",
       "       department_code                           department_desc  rank_code  \\\n",
       "0              5020001   police department-uniform patrol bureau       5020   \n",
       "1              5020001   police department-uniform patrol bureau       5020   \n",
       "2              5020001   police department-uniform patrol bureau       5020   \n",
       "3              5020001   police department-uniform patrol bureau       5010   \n",
       "4              5020001   police department-uniform patrol bureau       5010   \n",
       "...                ...                                       ...        ...   \n",
       "10042          5020001   police department-uniform patrol bureau       5005   \n",
       "10043          5020001   police department-uniform patrol bureau       5005   \n",
       "10044          5020001   police department-uniform patrol bureau       5005   \n",
       "10045          5020001   police department-uniform patrol bureau       5005   \n",
       "10046          5060001  police department-criminal invest bureau       5010   \n",
       "\n",
       "             rank_desc  employment_status  annual_salary data_production_year  \\\n",
       "0       police captain                  0       86637.85                 2017   \n",
       "1       police captain                  0       81537.06                 2017   \n",
       "2       police captain                  5       66863.96                 2017   \n",
       "3      police sergeant                  0       61178.34                 2017   \n",
       "4      police sergeant                  0       60324.48                 2017   \n",
       "...                ...                ...            ...                  ...   \n",
       "10042   police officer                  0       49303.83                 2017   \n",
       "10043   police officer                  0       43748.32                 2017   \n",
       "10044   police officer                  0       35700.99                 2017   \n",
       "10045   police officer                  0       40314.29                 2017   \n",
       "10046  police sergeant                  0       77481.67                 2017   \n",
       "\n",
       "      hire_year hire_month hire_day term_year term_month term_day  \\\n",
       "0          1980         12       22      2010         11       17   \n",
       "1          1980         12       22      2010         11       17   \n",
       "2          1980         12       22      2010         11       17   \n",
       "3          1988          7       28                                 \n",
       "4          1988          7       28                                 \n",
       "...         ...        ...      ...       ...        ...      ...   \n",
       "10042      2013          2       18                                 \n",
       "10043      2014          6       30                                 \n",
       "10044      2016         11       14                                 \n",
       "10045      2015          4       20                                 \n",
       "10046      1998          7       31                                 \n",
       "\n",
       "                agency  \n",
       "0      Baton Rouge CSD  \n",
       "1      Baton Rouge CSD  \n",
       "2      Baton Rouge CSD  \n",
       "3      Baton Rouge CSD  \n",
       "4      Baton Rouge CSD  \n",
       "...                ...  \n",
       "10042  Baton Rouge CSD  \n",
       "10043  Baton Rouge CSD  \n",
       "10044  Baton Rouge CSD  \n",
       "10045  Baton Rouge CSD  \n",
       "10046  Baton Rouge CSD  \n",
       "\n",
       "[10047 rows x 19 columns]"
      ],
      "text/html": "<div>\n<style scoped>\n    .dataframe tbody tr th:only-of-type {\n        vertical-align: middle;\n    }\n\n    .dataframe tbody tr th {\n        vertical-align: top;\n    }\n\n    .dataframe thead th {\n        text-align: right;\n    }\n</style>\n<table border=\"1\" class=\"dataframe\">\n  <thead>\n    <tr style=\"text-align: right;\">\n      <th></th>\n      <th>year</th>\n      <th>employee_id</th>\n      <th>last_name</th>\n      <th>first_name</th>\n      <th>middle_initial</th>\n      <th>department_code</th>\n      <th>department_desc</th>\n      <th>rank_code</th>\n      <th>rank_desc</th>\n      <th>employment_status</th>\n      <th>annual_salary</th>\n      <th>data_production_year</th>\n      <th>hire_year</th>\n      <th>hire_month</th>\n      <th>hire_day</th>\n      <th>term_year</th>\n      <th>term_month</th>\n      <th>term_day</th>\n      <th>agency</th>\n    </tr>\n  </thead>\n  <tbody>\n    <tr>\n      <th>0</th>\n      <td>2008</td>\n      <td>337</td>\n      <td>adams</td>\n      <td>rodney</td>\n      <td>p</td>\n      <td>5020001</td>\n      <td>police department-uniform patrol bureau</td>\n      <td>5020</td>\n      <td>police captain</td>\n      <td>0</td>\n      <td>86637.85</td>\n      <td>2017</td>\n      <td>1980</td>\n      <td>12</td>\n      <td>22</td>\n      <td>2010</td>\n      <td>11</td>\n      <td>17</td>\n      <td>Baton Rouge CSD</td>\n    </tr>\n    <tr>\n      <th>1</th>\n      <td>2009</td>\n      <td>337</td>\n      <td>adams</td>\n      <td>rodney</td>\n      <td>p</td>\n      <td>5020001</td>\n      <td>police department-uniform patrol bureau</td>\n      <td>5020</td>\n      <td>police captain</td>\n      <td>0</td>\n      <td>81537.06</td>\n      <td>2017</td>\n      <td>1980</td>\n      <td>12</td>\n      <td>22</td>\n      <td>2010</td>\n      <td>11</td>\n      <td>17</td>\n      <td>Baton Rouge CSD</td>\n    </tr>\n    <tr>\n      <th>2</th>\n      <td>2010</td>\n      <td>337</td>\n      <td>adams</td>\n      <td>rodney</td>\n      <td>p</td>\n      <td>5020001</td>\n      <td>police department-uniform patrol bureau</td>\n      <td>5020</td>\n      <td>police captain</td>\n      <td>5</td>\n      <td>66863.96</td>\n      <td>2017</td>\n      <td>1980</td>\n      <td>12</td>\n      <td>22</td>\n      <td>2010</td>\n      <td>11</td>\n      <td>17</td>\n      <td>Baton Rouge CSD</td>\n    </tr>\n    <tr>\n      <th>3</th>\n      <td>2008</td>\n      <td>604</td>\n      <td>adams</td>\n      <td>leif</td>\n      <td>t</td>\n      <td>5020001</td>\n      <td>police department-uniform patrol bureau</td>\n      <td>5010</td>\n      <td>police sergeant</td>\n      <td>0</td>\n      <td>61178.34</td>\n      <td>2017</td>\n      <td>1988</td>\n      <td>7</td>\n      <td>28</td>\n      <td></td>\n      <td></td>\n      <td></td>\n      <td>Baton Rouge CSD</td>\n    </tr>\n    <tr>\n      <th>4</th>\n      <td>2009</td>\n      <td>604</td>\n      <td>adams</td>\n      <td>leif</td>\n      <td>t</td>\n      <td>5020001</td>\n      <td>police department-uniform patrol bureau</td>\n      <td>5010</td>\n      <td>police sergeant</td>\n      <td>0</td>\n      <td>60324.48</td>\n      <td>2017</td>\n      <td>1988</td>\n      <td>7</td>\n      <td>28</td>\n      <td></td>\n      <td></td>\n      <td></td>\n      <td>Baton Rouge CSD</td>\n    </tr>\n    <tr>\n      <th>...</th>\n      <td>...</td>\n      <td>...</td>\n      <td>...</td>\n      <td>...</td>\n      <td>...</td>\n      <td>...</td>\n      <td>...</td>\n      <td>...</td>\n      <td>...</td>\n      <td>...</td>\n      <td>...</td>\n      <td>...</td>\n      <td>...</td>\n      <td>...</td>\n      <td>...</td>\n      <td>...</td>\n      <td>...</td>\n      <td>...</td>\n      <td>...</td>\n    </tr>\n    <tr>\n      <th>10042</th>\n      <td>2017</td>\n      <td>500461</td>\n      <td>edlund</td>\n      <td>tonya</td>\n      <td>s</td>\n      <td>5020001</td>\n      <td>police department-uniform patrol bureau</td>\n      <td>5005</td>\n      <td>police officer</td>\n      <td>0</td>\n      <td>49303.83</td>\n      <td>2017</td>\n      <td>2013</td>\n      <td>2</td>\n      <td>18</td>\n      <td></td>\n      <td></td>\n      <td></td>\n      <td>Baton Rouge CSD</td>\n    </tr>\n    <tr>\n      <th>10043</th>\n      <td>2017</td>\n      <td>511420</td>\n      <td>langston jr</td>\n      <td>robert</td>\n      <td>m</td>\n      <td>5020001</td>\n      <td>police department-uniform patrol bureau</td>\n      <td>5005</td>\n      <td>police officer</td>\n      <td>0</td>\n      <td>43748.32</td>\n      <td>2017</td>\n      <td>2014</td>\n      <td>6</td>\n      <td>30</td>\n      <td></td>\n      <td></td>\n      <td></td>\n      <td>Baton Rouge CSD</td>\n    </tr>\n    <tr>\n      <th>10044</th>\n      <td>2017</td>\n      <td>528439</td>\n      <td>guevara</td>\n      <td>maria</td>\n      <td>j</td>\n      <td>5020001</td>\n      <td>police department-uniform patrol bureau</td>\n      <td>5005</td>\n      <td>police officer</td>\n      <td>0</td>\n      <td>35700.99</td>\n      <td>2017</td>\n      <td>2016</td>\n      <td>11</td>\n      <td>14</td>\n      <td></td>\n      <td></td>\n      <td></td>\n      <td>Baton Rouge CSD</td>\n    </tr>\n    <tr>\n      <th>10045</th>\n      <td>2017</td>\n      <td>515868</td>\n      <td>brown</td>\n      <td>justin</td>\n      <td>p</td>\n      <td>5020001</td>\n      <td>police department-uniform patrol bureau</td>\n      <td>5005</td>\n      <td>police officer</td>\n      <td>0</td>\n      <td>40314.29</td>\n      <td>2017</td>\n      <td>2015</td>\n      <td>4</td>\n      <td>20</td>\n      <td></td>\n      <td></td>\n      <td></td>\n      <td>Baton Rouge CSD</td>\n    </tr>\n    <tr>\n      <th>10046</th>\n      <td>2017</td>\n      <td>418552</td>\n      <td>stevenson</td>\n      <td>william</td>\n      <td>p</td>\n      <td>5060001</td>\n      <td>police department-criminal invest bureau</td>\n      <td>5010</td>\n      <td>police sergeant</td>\n      <td>0</td>\n      <td>77481.67</td>\n      <td>2017</td>\n      <td>1998</td>\n      <td>7</td>\n      <td>31</td>\n      <td></td>\n      <td></td>\n      <td></td>\n      <td>Baton Rouge CSD</td>\n    </tr>\n  </tbody>\n</table>\n<p>10047 rows × 19 columns</p>\n</div>"
     },
     "metadata": {},
     "execution_count": 2
    }
   ],
   "source": [
    "df17 = clean_17()\n",
    "df17"
   ]
  },
  {
   "cell_type": "code",
   "execution_count": 3,
   "metadata": {},
   "outputs": [
    {
     "output_type": "execute_result",
     "data": {
      "text/plain": [
       "      year  last_name first_name middle_initial  department_code  \\\n",
       "0     2018   williams     decory              l             5040   \n",
       "1     2018  weissberg      deena              j             5020   \n",
       "2     2018     graham    michael              h             5050   \n",
       "3     2018    gillich     joshua              m             5070   \n",
       "4     2018      saleh      haled                            5020   \n",
       "...    ...        ...        ...            ...              ...   \n",
       "1957  2018     howard     walter              c             5060   \n",
       "1958  2018    houston      stacy              m             5060   \n",
       "1959  2018      dyson    kenneth              w             5060   \n",
       "1960  2018   augustus     robert              l             5060   \n",
       "1961  2018       byrd   deandrea              n             5010   \n",
       "\n",
       "                     department_desc  rank_code                     rank_desc  \\\n",
       "0     police-operational serv bureau       2070            senior stock clerk   \n",
       "1       police-uniform patrol bureau       5005                police officer   \n",
       "2              police-communications       5115  police comm officer i-42 hrs   \n",
       "3      police-criminal investigation       5005                police officer   \n",
       "4       police-uniform patrol bureau       5005                police officer   \n",
       "...                              ...        ...                           ...   \n",
       "1957       police-special operations       6525         school crossing guard   \n",
       "1958       police-special operations       6525         school crossing guard   \n",
       "1959       police-special operations       6525         school crossing guard   \n",
       "1960       police-special operations       6525         school crossing guard   \n",
       "1961           police-administration       6510        college student intern   \n",
       "\n",
       "     employment_status  annual_salary  \\\n",
       "0               active       26541.06   \n",
       "1               active       53024.53   \n",
       "2             inactive       54243.63   \n",
       "3               active       28738.00   \n",
       "4             inactive       62144.25   \n",
       "...                ...            ...   \n",
       "1957            active         942.50   \n",
       "1958            active         928.00   \n",
       "1959            active         928.00   \n",
       "1960          inactive         913.50   \n",
       "1961          inactive         261.00   \n",
       "\n",
       "                                     employee_id data_production_year  \\\n",
       "0     0xF1ABD670358E036C31296E66B3B66C382AC00812                 2019   \n",
       "1     0xAF3E133428B9E25C55BC59FE534248E6A0C0F17B                 2019   \n",
       "2     0x9109C85A45B703F87F1413A405549A2CEA9AB556                 2019   \n",
       "3     0xB4C96D80854DD27E76D8CC9E21960EEBDA52E962                 2019   \n",
       "4     0x1F1362EA41D1BC65BE321C0A378A20159F9A26D0                 2019   \n",
       "...                                          ...                  ...   \n",
       "1957  0x0B9918551C179FAF20295B3C0CB7798486824D12                 2019   \n",
       "1958  0x08AB94787936E21703BA8ABB75A6B57237E83FF4                 2019   \n",
       "1959  0x6BE2349E0ECE2FA121CA321B3C85CCA02311E62C                 2019   \n",
       "1960  0x9E065978592E8F4AE463B70C70C8A3C1ED6F9389                 2019   \n",
       "1961  0x3DF1D27854014CD414A5210B2F7028A9ADE87D82                 2019   \n",
       "\n",
       "     hire_year hire_month hire_day term_year term_month term_day  \\\n",
       "0         2014          6       23                                 \n",
       "1         2010          3       31                                 \n",
       "2         2007          4       21      2019          1       22   \n",
       "3         2008         12        8                                 \n",
       "4         2006          6       12      2019          4       26   \n",
       "...        ...        ...      ...       ...        ...      ...   \n",
       "1957      2018         10       24                                 \n",
       "1958      2018         10       24                                 \n",
       "1959      2018         10       24                                 \n",
       "1960      2018         10       24      2019          6       10   \n",
       "1961      2018         12       17      2019          6       17   \n",
       "\n",
       "               agency  \n",
       "0     Baton Rouge CSD  \n",
       "1     Baton Rouge CSD  \n",
       "2     Baton Rouge CSD  \n",
       "3     Baton Rouge CSD  \n",
       "4     Baton Rouge CSD  \n",
       "...               ...  \n",
       "1957  Baton Rouge CSD  \n",
       "1958  Baton Rouge CSD  \n",
       "1959  Baton Rouge CSD  \n",
       "1960  Baton Rouge CSD  \n",
       "1961  Baton Rouge CSD  \n",
       "\n",
       "[1962 rows x 19 columns]"
      ],
      "text/html": "<div>\n<style scoped>\n    .dataframe tbody tr th:only-of-type {\n        vertical-align: middle;\n    }\n\n    .dataframe tbody tr th {\n        vertical-align: top;\n    }\n\n    .dataframe thead th {\n        text-align: right;\n    }\n</style>\n<table border=\"1\" class=\"dataframe\">\n  <thead>\n    <tr style=\"text-align: right;\">\n      <th></th>\n      <th>year</th>\n      <th>last_name</th>\n      <th>first_name</th>\n      <th>middle_initial</th>\n      <th>department_code</th>\n      <th>department_desc</th>\n      <th>rank_code</th>\n      <th>rank_desc</th>\n      <th>employment_status</th>\n      <th>annual_salary</th>\n      <th>employee_id</th>\n      <th>data_production_year</th>\n      <th>hire_year</th>\n      <th>hire_month</th>\n      <th>hire_day</th>\n      <th>term_year</th>\n      <th>term_month</th>\n      <th>term_day</th>\n      <th>agency</th>\n    </tr>\n  </thead>\n  <tbody>\n    <tr>\n      <th>0</th>\n      <td>2018</td>\n      <td>williams</td>\n      <td>decory</td>\n      <td>l</td>\n      <td>5040</td>\n      <td>police-operational serv bureau</td>\n      <td>2070</td>\n      <td>senior stock clerk</td>\n      <td>active</td>\n      <td>26541.06</td>\n      <td>0xF1ABD670358E036C31296E66B3B66C382AC00812</td>\n      <td>2019</td>\n      <td>2014</td>\n      <td>6</td>\n      <td>23</td>\n      <td></td>\n      <td></td>\n      <td></td>\n      <td>Baton Rouge CSD</td>\n    </tr>\n    <tr>\n      <th>1</th>\n      <td>2018</td>\n      <td>weissberg</td>\n      <td>deena</td>\n      <td>j</td>\n      <td>5020</td>\n      <td>police-uniform patrol bureau</td>\n      <td>5005</td>\n      <td>police officer</td>\n      <td>active</td>\n      <td>53024.53</td>\n      <td>0xAF3E133428B9E25C55BC59FE534248E6A0C0F17B</td>\n      <td>2019</td>\n      <td>2010</td>\n      <td>3</td>\n      <td>31</td>\n      <td></td>\n      <td></td>\n      <td></td>\n      <td>Baton Rouge CSD</td>\n    </tr>\n    <tr>\n      <th>2</th>\n      <td>2018</td>\n      <td>graham</td>\n      <td>michael</td>\n      <td>h</td>\n      <td>5050</td>\n      <td>police-communications</td>\n      <td>5115</td>\n      <td>police comm officer i-42 hrs</td>\n      <td>inactive</td>\n      <td>54243.63</td>\n      <td>0x9109C85A45B703F87F1413A405549A2CEA9AB556</td>\n      <td>2019</td>\n      <td>2007</td>\n      <td>4</td>\n      <td>21</td>\n      <td>2019</td>\n      <td>1</td>\n      <td>22</td>\n      <td>Baton Rouge CSD</td>\n    </tr>\n    <tr>\n      <th>3</th>\n      <td>2018</td>\n      <td>gillich</td>\n      <td>joshua</td>\n      <td>m</td>\n      <td>5070</td>\n      <td>police-criminal investigation</td>\n      <td>5005</td>\n      <td>police officer</td>\n      <td>active</td>\n      <td>28738.00</td>\n      <td>0xB4C96D80854DD27E76D8CC9E21960EEBDA52E962</td>\n      <td>2019</td>\n      <td>2008</td>\n      <td>12</td>\n      <td>8</td>\n      <td></td>\n      <td></td>\n      <td></td>\n      <td>Baton Rouge CSD</td>\n    </tr>\n    <tr>\n      <th>4</th>\n      <td>2018</td>\n      <td>saleh</td>\n      <td>haled</td>\n      <td></td>\n      <td>5020</td>\n      <td>police-uniform patrol bureau</td>\n      <td>5005</td>\n      <td>police officer</td>\n      <td>inactive</td>\n      <td>62144.25</td>\n      <td>0x1F1362EA41D1BC65BE321C0A378A20159F9A26D0</td>\n      <td>2019</td>\n      <td>2006</td>\n      <td>6</td>\n      <td>12</td>\n      <td>2019</td>\n      <td>4</td>\n      <td>26</td>\n      <td>Baton Rouge CSD</td>\n    </tr>\n    <tr>\n      <th>...</th>\n      <td>...</td>\n      <td>...</td>\n      <td>...</td>\n      <td>...</td>\n      <td>...</td>\n      <td>...</td>\n      <td>...</td>\n      <td>...</td>\n      <td>...</td>\n      <td>...</td>\n      <td>...</td>\n      <td>...</td>\n      <td>...</td>\n      <td>...</td>\n      <td>...</td>\n      <td>...</td>\n      <td>...</td>\n      <td>...</td>\n      <td>...</td>\n    </tr>\n    <tr>\n      <th>1957</th>\n      <td>2018</td>\n      <td>howard</td>\n      <td>walter</td>\n      <td>c</td>\n      <td>5060</td>\n      <td>police-special operations</td>\n      <td>6525</td>\n      <td>school crossing guard</td>\n      <td>active</td>\n      <td>942.50</td>\n      <td>0x0B9918551C179FAF20295B3C0CB7798486824D12</td>\n      <td>2019</td>\n      <td>2018</td>\n      <td>10</td>\n      <td>24</td>\n      <td></td>\n      <td></td>\n      <td></td>\n      <td>Baton Rouge CSD</td>\n    </tr>\n    <tr>\n      <th>1958</th>\n      <td>2018</td>\n      <td>houston</td>\n      <td>stacy</td>\n      <td>m</td>\n      <td>5060</td>\n      <td>police-special operations</td>\n      <td>6525</td>\n      <td>school crossing guard</td>\n      <td>active</td>\n      <td>928.00</td>\n      <td>0x08AB94787936E21703BA8ABB75A6B57237E83FF4</td>\n      <td>2019</td>\n      <td>2018</td>\n      <td>10</td>\n      <td>24</td>\n      <td></td>\n      <td></td>\n      <td></td>\n      <td>Baton Rouge CSD</td>\n    </tr>\n    <tr>\n      <th>1959</th>\n      <td>2018</td>\n      <td>dyson</td>\n      <td>kenneth</td>\n      <td>w</td>\n      <td>5060</td>\n      <td>police-special operations</td>\n      <td>6525</td>\n      <td>school crossing guard</td>\n      <td>active</td>\n      <td>928.00</td>\n      <td>0x6BE2349E0ECE2FA121CA321B3C85CCA02311E62C</td>\n      <td>2019</td>\n      <td>2018</td>\n      <td>10</td>\n      <td>24</td>\n      <td></td>\n      <td></td>\n      <td></td>\n      <td>Baton Rouge CSD</td>\n    </tr>\n    <tr>\n      <th>1960</th>\n      <td>2018</td>\n      <td>augustus</td>\n      <td>robert</td>\n      <td>l</td>\n      <td>5060</td>\n      <td>police-special operations</td>\n      <td>6525</td>\n      <td>school crossing guard</td>\n      <td>inactive</td>\n      <td>913.50</td>\n      <td>0x9E065978592E8F4AE463B70C70C8A3C1ED6F9389</td>\n      <td>2019</td>\n      <td>2018</td>\n      <td>10</td>\n      <td>24</td>\n      <td>2019</td>\n      <td>6</td>\n      <td>10</td>\n      <td>Baton Rouge CSD</td>\n    </tr>\n    <tr>\n      <th>1961</th>\n      <td>2018</td>\n      <td>byrd</td>\n      <td>deandrea</td>\n      <td>n</td>\n      <td>5010</td>\n      <td>police-administration</td>\n      <td>6510</td>\n      <td>college student intern</td>\n      <td>inactive</td>\n      <td>261.00</td>\n      <td>0x3DF1D27854014CD414A5210B2F7028A9ADE87D82</td>\n      <td>2019</td>\n      <td>2018</td>\n      <td>12</td>\n      <td>17</td>\n      <td>2019</td>\n      <td>6</td>\n      <td>17</td>\n      <td>Baton Rouge CSD</td>\n    </tr>\n  </tbody>\n</table>\n<p>1962 rows × 19 columns</p>\n</div>"
     },
     "metadata": {},
     "execution_count": 3
    }
   ],
   "source": [
    "df19 = clean_19()\n",
    "df19"
   ]
  },
  {
   "cell_type": "code",
   "execution_count": 16,
   "metadata": {},
   "outputs": [],
   "source": [
    "dfa = df17[[\"last_name\", \"first_name\", \"middle_initial\", \"rank_code\", \"employee_id\"]]\n",
    "dfa.loc[:, \"hire_date\"] = combine_date_columns(df17, \"hire_year\", \"hire_month\", \"hire_day\")\n",
    "dfa.loc[:, \"rank_code\"] = dfa.rank_code.astype(\"str\")\n",
    "dfa.loc[:, \"lnsf\"] = dfa.last_name.map(lambda x: \"\" if x == \"\" else x[:2])\n",
    "dfa = dfa.drop_duplicates(\"employee_id\").set_index(\"employee_id\", drop=True)\n",
    "\n",
    "dfb = df19[[\"last_name\", \"first_name\", \"middle_initial\", \"rank_code\", \"employee_id\"]]\n",
    "dfb.loc[:, \"hire_date\"] = combine_date_columns(df19, \"hire_year\", \"hire_month\", \"hire_day\")\n",
    "dfb.loc[:, \"rank_code\"] = dfb.rank_code.astype(\"str\")\n",
    "dfb.loc[:, \"lnsf\"] = dfb.last_name.map(lambda x: \"\" if x == \"\" else x[:2])\n",
    "dfb = dfb.drop_duplicates(\"employee_id\").set_index(\"employee_id\", drop=True)\n",
    "\n",
    "matches, potential_matches, non_matches = match_records(\n",
    "    ColumnsIndex([\"first_name\", \"lnsf\"]),\n",
    "    ThresholdClassifier(\n",
    "        fields={\n",
    "            \"last_name\": JaroWinklerSimilarity(0.25),\n",
    "            \"middle_initial\": StringSimilarity(),\n",
    "            \"rank_code\": StringSimilarity(),\n",
    "            \"hire_date\": DateSimilarity()\n",
    "        },\n",
    "        thresholds=[0.8, 0.6]\n",
    "    ),\n",
    "    dfa,\n",
    "    dfb\n",
    ")"
   ]
  },
  {
   "cell_type": "code",
   "execution_count": 17,
   "metadata": {},
   "outputs": [
    {
     "output_type": "stream",
     "name": "stdout",
     "text": [
      "matches: 0\npotential matches: 64\nnon-matches: 0\n\n*** POTENTIAL MATCHES ***\n\n                                           last_name first_name middle_initial rank_code  hire_date lnsf\n439037                                          carr   calandra              w    110090 2007-01-26   ca\n0x7698330419D7539E743E9F4985411FAF76E64261      carr   calandra              w      2014 2006-10-14   ca\n\n                                            last_name first_name middle_initial rank_code  hire_date lnsf\n531804                                      henderson     kierra              s    110090 2017-05-08   he\n0x25761D2C0BCA9CC35A95D54C003393964D0F8746  henderson     kierra                     2014 2017-05-08   he\n\n                                           last_name first_name middle_initial rank_code  hire_date lnsf\n343250                                       canning       mark              w      5005 1997-09-05   ca\n0xE10DECE4047471685A87FBD7663235C920AF266F    carrie       mark              j      5005 2014-06-30   ca\n\n                                           last_name   first_name middle_initial rank_code  hire_date lnsf\n394513                                       mcclure  christopher              w      5005 2000-08-14   mc\n0xBF91D431389989D17674008C379587B6308503E4  mcdowell  christopher              k      5005 2006-02-27   mc\n\n                                           last_name first_name middle_initial rank_code  hire_date lnsf\n521655                                         simms     taylar              j    110090 2017-05-08   si\n0xBA42347B3FD300DC9636788B2DA5CE32CCB010D2     simms     taylar              j      2014 2016-11-09   si\n\n                                           last_name first_name middle_initial rank_code  hire_date lnsf\n372323                                         moses     robert              c      5005 2004-04-19   mo\n0x3D5BDF107DE596CE77E8CE48A61B585F52BBB61D   moruzzi     robert              j      5005 2008-07-19   mo\n\n                                           last_name first_name middle_initial rank_code  hire_date lnsf\n440841                                       johnson    brandon              l      5005 2006-06-12   jo\n0x5375EF76B6DC19BB987A8EAB45F489E7ABD6CCC8   johnson    brandon              t      5010 1999-04-01   jo\n\n                                           last_name first_name middle_initial rank_code  hire_date lnsf\n370975                                       neyland      paige              r    110132 1991-06-17   ne\n0xE12809C9823BD87C393EF4771DEEDDE51BF314B2   neyland      paige              r      2018 1988-12-07   ne\n\n                                           last_name first_name middle_initial rank_code  hire_date lnsf\n359297                                        landry      debra              a      5106 2001-05-29   la\n0xE3BE37D663E1AF2D8656BD7F81C4212F498CE6EA    landry      debra              a      5200 2000-09-13   la\n\n                                           last_name first_name middle_initial rank_code  hire_date lnsf\n385735                                         elzey      kevin              d    113125 2006-10-16   el\n0x4B14FDAE270977C65AC7CC87581A3F83AC7CB27B     elzey      kevin              d      5210 1998-08-06   el\n\n                                           last_name first_name middle_initial rank_code  hire_date lnsf\n384445                                        ned jr      larry              m      5005 1996-04-08   ne\n0x7F7AEBEA4D94CD047A68575A1B7DB59904EC1EAA       ned      larry              m      5010 1996-02-04   ne\n\n                                           last_name first_name middle_initial rank_code  hire_date lnsf\n252905                                        spears    barbara              a    110645 2012-12-10   sp\n0xAF4C20BCEEB8F19C940ACDF268E85DBB4EC7CDC8    spears    barbara              a      2098 1980-02-21   sp\n\n                                           last_name first_name middle_initial rank_code  hire_date lnsf\n359556                                       bellard       john              l      5005 1998-07-31   be\n0xBFB6BE800E9E6DD26EA03396046B7B3D011EFF6C   belcher       john              d      5005 2008-04-14   be\n\n                                           last_name first_name middle_initial rank_code  hire_date lnsf\n522740                                        harris      grant              g    400074 2016-01-21   ha\n0x8273D1150247C93B4CA9E3CFB76EF36739B559E1    harris      grant              g      6510 2019-08-12   ha\n\n                                           last_name first_name middle_initial rank_code  hire_date lnsf\n441007                                      thompson    michael              n      5005 2006-06-12   th\n0xAA0E9F704B12A27AF259750F79B22F99EFDB68C5    thomas    michael              w      5005 2001-09-24   th\n\n                                           last_name first_name middle_initial rank_code  hire_date lnsf\n462748                                      matthews      jason              d      5005 2008-12-08   ma\n0xB4B45B6BE6F1B02EA91F697172F0A4D15382179F    martin      jason              b      5005 2002-05-20   ma\n\n                                            last_name first_name middle_initial rank_code  hire_date lnsf\n341541                                      bourgeois     jeremy              p      5005 2003-03-05   bo\n0x2EA01DED1B55529877CD383F52DA5A00A065214D     bonnet     jeremy              j      5005 2015-10-19   bo\n\n                                            last_name first_name middle_initial rank_code  hire_date lnsf\n521434                                         bonnet     jeremy              j      5005 2015-10-19   bo\n0x5A7E7745847673577D8920192440042BE8C9B385  bourgeois     jeremy              p      5005 2003-03-05   bo\n\n                                           last_name first_name middle_initial rank_code  hire_date lnsf\n282723                                       lebouef      karen              w    110620 1995-01-03   le\n0x8EF8AF707DAAA2B70A0E76E61AAF9537B1FB4D7E   lebouef      karen              w      2030 1983-06-17   le\n\n                                           last_name first_name middle_initial rank_code  hire_date lnsf\n440680                                       bethany    brandon              m      5005 2006-06-12   be\n0x6E7933B203B43E98AFACE689FC3EE5DCAD6600D2    beatty    brandon              l      5005 2014-06-30   be\n\n                                           last_name first_name middle_initial rank_code  hire_date lnsf\n511382                                        beatty    brandon              l      5005 2014-06-30   be\n0x4F3D77742C3FE57B7B5885D05C98F34AAF6C6B67   bethany    brandon              m      5005 2006-06-12   be\n\n                                           last_name first_name middle_initial rank_code  hire_date lnsf\n276979                                       weishar       todd              d      5010 1985-06-17   we\n0x4049DA66C1965ACDF504363250695627B0A9E32E      webb       todd              l      5010 1998-07-31   we\n\n                                                   last_name first_name middle_initial rank_code  hire_date lnsf\n469262                                              starwood   shirelle              l    400074 2013-11-04   st\n0x86C2CC4137BA0C9A8392CAD3F9837980390245C3  starwood-chester   shirelle              l      5200 2015-04-20   st\n\n                                           last_name first_name middle_initial rank_code  hire_date lnsf\n373087                                        bowman    kenneth              s      5005 1996-08-09   bo\n0xC2D56260D5EEE598E5FC24121DDD47E8DF71AF38   bourque    kenneth              k      5005 2005-08-15   bo\n\n                                           last_name first_name middle_initial rank_code  hire_date lnsf\n206849                                        turner     willie              j      5015 1983-07-18   tu\n0x3AE67B230A98D731FC1A3E8667CBA4D3DA464F67    turner     willie              d      5005 2008-03-25   tu\n\n                                           last_name first_name middle_initial rank_code  hire_date lnsf\n383910                                         royal     althea              p    110090 2012-05-07   ro\n0xBD5807001FBCA75EA05F231D53E99B8F33F6D316     royal     althea              p      2016 1992-04-22   ro\n\n                                           last_name first_name middle_initial rank_code  hire_date lnsf\n479721                                        hooker      mikea              l    400074 2011-10-03   ho\n0xEA6190388589E118DA000561D056BBECF8142F4C    hooker      mikea              l      2014 2017-02-27   ho\n\n                                           last_name first_name middle_initial rank_code  hire_date lnsf\n492981                                       johnson    traonna              s      5106 2011-12-19   jo\n0x3A85D2178D036673A374A5ACAB7DA4DE0361B6E8   johnson    traonna              s      5200 2012-03-21   jo\n\n                                           last_name first_name middle_initial rank_code  hire_date lnsf\n179558                                         moses      tracy              l      5106 1988-07-16   mo\n0xE11C349AF657A37EDAA85CABE53B25F76EE035F2     moses      tracy              l      5200 1988-06-17   mo\n\n                                            last_name first_name middle_initial rank_code  hire_date lnsf\n280836                                      wilkinson    timothy              d      5010 1987-04-27   wi\n0xAC4B9FD6CA17EDB1289166DB48B253122F81911C  wilkinson    timothy              j      5005 2016-11-14   wi\n\n                                           last_name first_name middle_initial rank_code  hire_date lnsf\n515868                                         brown     justin              p      5005 2015-04-20   br\n0x3F6F4DF465E42ACE19E112FA62647521CFBF4ECD   brister     justin              m      5005 2018-10-15   br\n\n                                           last_name first_name middle_initial rank_code  hire_date lnsf\n466336                                         kuntz       mary              a      5107 2009-04-25   ku\n0xA71EBCEF59D927386148B4D85A1207AB1BFA0C2C     kuntz       mary              a      5115 2004-12-17   ku\n\n                                           last_name first_name middle_initial rank_code  hire_date lnsf\n321052                                         rimes    melissa              j      5107 2014-04-23   ri\n0x898D99D62E92C4485FFF43391CEC7C59E4FE7D12     rimes    melissa              j      5115 2014-03-10   ri\n\n                                           last_name   first_name middle_initial rank_code  hire_date lnsf\n462713                                        ruffin  christopher              m      5005 2013-02-18   ru\n0x05A8EA5382B9FD885261BB3EED0527D1D3B07262      rudy  christopher              l      5005 2006-02-27   ru\n\n                                           last_name first_name middle_initial rank_code  hire_date lnsf\n128759                                         moore    elouise                   210020 2006-05-17   mo\n0x81929283A89C24D62145E8DF553BCB2CD5F2D390     moore    elouise                     2014 1977-10-04   mo\n\n                                           last_name first_name middle_initial rank_code  hire_date lnsf\n366170                                         jones     keisha              n    110090 2017-09-25   jo\n0x68CB70EA21B8A3528AEE58384AB83DDFBBCDA02B     jones     keisha              n      2014 2012-07-02   jo\n\n                                           last_name first_name middle_initial rank_code  hire_date lnsf\n382523                                        thomas     delvan                     5106 2003-12-27   th\n0x39B999B2044C453F1DE4DBD893D61F365F49F4E0    thomas     delvan                     5200 2005-01-18   th\n\n                                           last_name first_name middle_initial rank_code  hire_date lnsf\n228907                                         evans      anita              e    114235 2009-04-14   ev\n0xF754E904DFC75AE544977F3F441A1D1B486392CC     evans      anita              e      2014 1980-05-18   ev\n\n                                           last_name first_name middle_initial rank_code  hire_date lnsf\n342300                                      polozola    charles              j      5010 1992-01-09   po\n0x4C1B52409CF6BE3896CF163FA17B32E4DA293F2E    pollar    charles              g      5005 2008-04-14   po\n\n                                           last_name first_name middle_initial rank_code  hire_date lnsf\n421316                                      anderson  jacquelyn              h      5107 2011-10-17   an\n0xBCAFA2E168456D83A56150C2EDC5A7C10BE272C4  anderson  jacquelyn              h      5115 2005-11-07   an\n\n                                           last_name first_name middle_initial rank_code  hire_date lnsf\n408069                                         wilks     brandi              j      5127 2009-05-18   wi\n0xA8A283FAA41ACA38315C775DB5544BB182721545     wilks     brandi              j      5220 2006-05-19   wi\n\n                                           last_name first_name middle_initial rank_code  hire_date lnsf\n164348                                       johnson      janet              m    210020 2006-05-17   jo\n0xC6731F4A07ACF83354F4E3137D3E528B10BB02C4   johnson      janet              m      2014 1976-12-29   jo\n\n                                           last_name first_name middle_initial rank_code  hire_date lnsf\n358290                                        roy jr      james              m      5005 2004-04-19   ro\n0x2BCEFE2ED09FA35DC6BF22D590BE971AC69647AA      rowe      james              e      5005 2011-08-22   ro\n\n                                           last_name first_name middle_initial rank_code  hire_date lnsf\n490962                                       rowe jr      james              e      5005 2011-08-22   ro\n0xE4CE5F091C3057A3B03E82F4196A29B2C0B6BD75       roy      james              m      5005 2004-04-19   ro\n\n                                           last_name first_name middle_initial rank_code  hire_date lnsf\n329983                                      williams       liza              s    110090 2004-11-29   wi\n0x084B3AF47AF339166EBC6120A52059499A7B2D38  williams       liza              s      5005 1997-11-29   wi\n\n                                           last_name first_name middle_initial rank_code  hire_date lnsf\n337315                                         white        joy              b    110090 2016-09-19   wh\n0x9E434FBC18017B851FBE8EDA491F202F583E9D7A     white        joy              b      2016 2015-02-19   wh\n\n                                           last_name first_name middle_initial rank_code  hire_date lnsf\n320480                                        thomas      bryan              k      5005 2003-03-05   th\n0x023C147537DFE1C60595364EE7A14CFC793E396D  thompson      bryan              g      5005 2004-11-29   th\n\n                                           last_name first_name middle_initial rank_code  hire_date lnsf\n333026                                       welborn      james              r      5005 1993-07-16   we\n0x9D4F34A2F02D2F96031A11885C451CFD550C0705     weber      james              e      5005 2004-04-19   we\n\n                                           last_name first_name middle_initial rank_code  hire_date lnsf\n423335                                        hudson      tammy              j    110090 2006-10-25   hu\n0x7E1709717D81F6E029068C0EA4681603A7BF5506    hudson      tammy              j      2018 2005-08-20   hu\n\n                                            last_name first_name middle_initial rank_code  hire_date lnsf\n363553                                          blust    brandon              m      5005 2002-05-20   bl\n0x73FB9760F330BCF6D3B61D28A67CCC8BA37A7F8F  blackwell    brandon              d      5005 2012-07-30   bl\n\n                                            last_name first_name middle_initial rank_code  hire_date lnsf\n496758                                      blackwell    brandon              d      5005 2012-07-30   bl\n0x458F344B75C9D1B29E1B01CF8CBF1D1EF95830DC      blust    brandon              m      5005 2002-05-20   bl\n\n                                           last_name first_name middle_initial rank_code  hire_date lnsf\n358525                                         smith       dena              r    110625 2013-06-17   sm\n0x1BB86249E47B0487ADE26CD7ADCE54E3DF97F638     smith       dena              r      2096 1997-11-13   sm\n\n                                           last_name first_name middle_initial rank_code  hire_date lnsf\n445088                                       hammond    canisha              s    110090 2008-09-29   ha\n0x85B7DDA7149E6A1238BAA48BA814B163ECBD5C5C   hammond    canisha              s      2030 2015-10-12   ha\n\n                                           last_name first_name middle_initial rank_code  hire_date lnsf\n312266                                      mccleary    michael              a      5005 1997-10-04   mc\n0x8EDC876B9222F23379F666107CF18B6D810E89C5  mccarley    michael              j      5010 1996-01-02   mc\n\n                                           last_name first_name middle_initial rank_code  hire_date lnsf\n62790                                         decuir     fannie              b    110090 2013-09-09   de\n0xFC5DDE654B1D78F421F87A0BD8207900B580219B    decuir     fannie              b      2016 2010-01-07   de\n\n                                           last_name first_name middle_initial rank_code  hire_date lnsf\n506443                                      moore iv     hillar              c    400074 2013-10-15   mo\n0xCB449D32AF0B7F31456D50D13A5CC7E397A8DDEB     moore     hillar              c      2014 2017-08-21   mo\n\n                                           last_name first_name middle_initial rank_code  hire_date lnsf\n461873                                          king   lashonda              k    110090 2011-11-14   ki\n0x02DB8E85943FFB476112D800C3010E376F2799E3      king   lashonda              k      2014 2011-06-16   ki\n\n                                           last_name first_name middle_initial rank_code  hire_date lnsf\n473880                                      mckneely    lasunia              c    405600 2009-07-14   mc\n0x7F31157FA6B9CE4FF6504214F2BF1B6431C3B848  mckneely    lasunia              c      5115 2019-01-10   mc\n\n                                           last_name   first_name middle_initial rank_code  hire_date lnsf\n421626                                         magee  christopher              b      5005 2009-12-15   ma\n0x13F2C75746608613E0AD6B92541464289E103134    manuel  christopher              m      5005 2013-02-18   ma\n\n                                           last_name   first_name middle_initial rank_code  hire_date lnsf\n500445                                        manuel  christopher              m      5005 2013-02-18   ma\n0xE5D5DB2513A4CCFB08C5F5D94F73A0948664DAEA     magee  christopher              b      5005 2008-01-01   ma\n\n                                             last_name first_name middle_initial rank_code  hire_date lnsf\n334685                                      johnson jr     donald              l      5005 2003-03-05   jo\n0xDBBFE06F066CC0E5A6B24BE221476BAAA2B0F9A6     johnson     donald              r      5005 2008-04-14   jo\n\n                                             last_name first_name middle_initial rank_code  hire_date lnsf\n457221                                      johnson jr     donald              r      5005 2008-04-14   jo\n0x7E107DE3FA1437E84BC766BF7C84641BCD258A7C     johnson     donald              l      5005 2003-03-05   jo\n\n                                           last_name first_name middle_initial rank_code  hire_date lnsf\n490938                                       crisler      james              m      5005 2011-08-22   cr\n0xDD44A7E0C789BAF2C33278B65A8D82359863658C  crockett      james              d      5005 2016-05-16   cr\n\n                                           last_name first_name middle_initial rank_code  hire_date lnsf\n524697                                      crockett      james              d      5005 2016-05-16   cr\n0x60FDDBC30924BD137A8D9636DF0C06ABBDA69A93   crisler      james              m      5005 2011-08-22   cr\n\n"
     ]
    }
   ],
   "source": [
    "print_match_result(dfa, dfb, [], potential_matches, [])"
   ]
  },
  {
   "cell_type": "code",
   "execution_count": null,
   "metadata": {},
   "outputs": [],
   "source": []
  }
 ]
}
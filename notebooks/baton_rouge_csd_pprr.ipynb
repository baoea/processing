{
 "metadata": {
  "language_info": {
   "codemirror_mode": {
    "name": "ipython",
    "version": 3
   },
   "file_extension": ".py",
   "mimetype": "text/x-python",
   "name": "python",
   "nbconvert_exporter": "python",
   "pygments_lexer": "ipython3",
   "version": "3.8.3-final"
  },
  "orig_nbformat": 2,
  "kernelspec": {
   "name": "python3",
   "display_name": "Python 3",
   "language": "python"
  }
 },
 "nbformat": 4,
 "nbformat_minor": 2,
 "cells": [
  {
   "cell_type": "code",
   "execution_count": 1,
   "metadata": {},
   "outputs": [],
   "source": [
    "import sys; sys.path.append(\"../\")\n",
    "\n",
    "from clean.baton_rouge_csd_pprr import clean_17, clean_19\n",
    "from lib.explore import show_unique"
   ]
  },
  {
   "cell_type": "code",
   "execution_count": 2,
   "metadata": {},
   "outputs": [
    {
     "output_type": "execute_result",
     "data": {
      "text/plain": [
       "       data_production_year  employee_id    last_name first_name  \\\n",
       "0                      2008          337        adams     rodney   \n",
       "1                      2009          337        adams     rodney   \n",
       "2                      2010          337        adams     rodney   \n",
       "3                      2008          604        adams       leif   \n",
       "4                      2009          604        adams       leif   \n",
       "...                     ...          ...          ...        ...   \n",
       "10042                  2017       500461       edlund      tonya   \n",
       "10043                  2017       511420  langston jr     robert   \n",
       "10044                  2017       528439      guevara      maria   \n",
       "10045                  2017       515868        brown     justin   \n",
       "10046                  2017       418552    stevenson    william   \n",
       "\n",
       "      middle_initial  department_code  \\\n",
       "0                  p          5020001   \n",
       "1                  p          5020001   \n",
       "2                  p          5020001   \n",
       "3                  t          5020001   \n",
       "4                  t          5020001   \n",
       "...              ...              ...   \n",
       "10042              s          5020001   \n",
       "10043              m          5020001   \n",
       "10044              j          5020001   \n",
       "10045              p          5020001   \n",
       "10046              p          5060001   \n",
       "\n",
       "                                department_desc  rank_code        rank_desc  \\\n",
       "0       police department-uniform patrol bureau       5020   police captain   \n",
       "1       police department-uniform patrol bureau       5020   police captain   \n",
       "2       police department-uniform patrol bureau       5020   police captain   \n",
       "3       police department-uniform patrol bureau       5010  police sergeant   \n",
       "4       police department-uniform patrol bureau       5010  police sergeant   \n",
       "...                                         ...        ...              ...   \n",
       "10042   police department-uniform patrol bureau       5005   police officer   \n",
       "10043   police department-uniform patrol bureau       5005   police officer   \n",
       "10044   police department-uniform patrol bureau       5005   police officer   \n",
       "10045   police department-uniform patrol bureau       5005   police officer   \n",
       "10046  police department-criminal invest bureau       5010  police sergeant   \n",
       "\n",
       "       employment_status  annual_salary hire_year hire_month hire_day  \\\n",
       "0                      0       86637.85      1980         12       22   \n",
       "1                      0       81537.06      1980         12       22   \n",
       "2                      5       66863.96      1980         12       22   \n",
       "3                      0       61178.34      1988          7       28   \n",
       "4                      0       60324.48      1988          7       28   \n",
       "...                  ...            ...       ...        ...      ...   \n",
       "10042                  0       49303.83      2013          2       18   \n",
       "10043                  0       43748.32      2014          6       30   \n",
       "10044                  0       35700.99      2016         11       14   \n",
       "10045                  0       40314.29      2015          4       20   \n",
       "10046                  0       77481.67      1998          7       31   \n",
       "\n",
       "      term_year term_month term_day           agency  \n",
       "0          2010         11       17  Baton Rouge CSD  \n",
       "1          2010         11       17  Baton Rouge CSD  \n",
       "2          2010         11       17  Baton Rouge CSD  \n",
       "3                                    Baton Rouge CSD  \n",
       "4                                    Baton Rouge CSD  \n",
       "...         ...        ...      ...              ...  \n",
       "10042                                Baton Rouge CSD  \n",
       "10043                                Baton Rouge CSD  \n",
       "10044                                Baton Rouge CSD  \n",
       "10045                                Baton Rouge CSD  \n",
       "10046                                Baton Rouge CSD  \n",
       "\n",
       "[10047 rows x 18 columns]"
      ],
      "text/html": "<div>\n<style scoped>\n    .dataframe tbody tr th:only-of-type {\n        vertical-align: middle;\n    }\n\n    .dataframe tbody tr th {\n        vertical-align: top;\n    }\n\n    .dataframe thead th {\n        text-align: right;\n    }\n</style>\n<table border=\"1\" class=\"dataframe\">\n  <thead>\n    <tr style=\"text-align: right;\">\n      <th></th>\n      <th>data_production_year</th>\n      <th>employee_id</th>\n      <th>last_name</th>\n      <th>first_name</th>\n      <th>middle_initial</th>\n      <th>department_code</th>\n      <th>department_desc</th>\n      <th>rank_code</th>\n      <th>rank_desc</th>\n      <th>employment_status</th>\n      <th>annual_salary</th>\n      <th>hire_year</th>\n      <th>hire_month</th>\n      <th>hire_day</th>\n      <th>term_year</th>\n      <th>term_month</th>\n      <th>term_day</th>\n      <th>agency</th>\n    </tr>\n  </thead>\n  <tbody>\n    <tr>\n      <th>0</th>\n      <td>2008</td>\n      <td>337</td>\n      <td>adams</td>\n      <td>rodney</td>\n      <td>p</td>\n      <td>5020001</td>\n      <td>police department-uniform patrol bureau</td>\n      <td>5020</td>\n      <td>police captain</td>\n      <td>0</td>\n      <td>86637.85</td>\n      <td>1980</td>\n      <td>12</td>\n      <td>22</td>\n      <td>2010</td>\n      <td>11</td>\n      <td>17</td>\n      <td>Baton Rouge CSD</td>\n    </tr>\n    <tr>\n      <th>1</th>\n      <td>2009</td>\n      <td>337</td>\n      <td>adams</td>\n      <td>rodney</td>\n      <td>p</td>\n      <td>5020001</td>\n      <td>police department-uniform patrol bureau</td>\n      <td>5020</td>\n      <td>police captain</td>\n      <td>0</td>\n      <td>81537.06</td>\n      <td>1980</td>\n      <td>12</td>\n      <td>22</td>\n      <td>2010</td>\n      <td>11</td>\n      <td>17</td>\n      <td>Baton Rouge CSD</td>\n    </tr>\n    <tr>\n      <th>2</th>\n      <td>2010</td>\n      <td>337</td>\n      <td>adams</td>\n      <td>rodney</td>\n      <td>p</td>\n      <td>5020001</td>\n      <td>police department-uniform patrol bureau</td>\n      <td>5020</td>\n      <td>police captain</td>\n      <td>5</td>\n      <td>66863.96</td>\n      <td>1980</td>\n      <td>12</td>\n      <td>22</td>\n      <td>2010</td>\n      <td>11</td>\n      <td>17</td>\n      <td>Baton Rouge CSD</td>\n    </tr>\n    <tr>\n      <th>3</th>\n      <td>2008</td>\n      <td>604</td>\n      <td>adams</td>\n      <td>leif</td>\n      <td>t</td>\n      <td>5020001</td>\n      <td>police department-uniform patrol bureau</td>\n      <td>5010</td>\n      <td>police sergeant</td>\n      <td>0</td>\n      <td>61178.34</td>\n      <td>1988</td>\n      <td>7</td>\n      <td>28</td>\n      <td></td>\n      <td></td>\n      <td></td>\n      <td>Baton Rouge CSD</td>\n    </tr>\n    <tr>\n      <th>4</th>\n      <td>2009</td>\n      <td>604</td>\n      <td>adams</td>\n      <td>leif</td>\n      <td>t</td>\n      <td>5020001</td>\n      <td>police department-uniform patrol bureau</td>\n      <td>5010</td>\n      <td>police sergeant</td>\n      <td>0</td>\n      <td>60324.48</td>\n      <td>1988</td>\n      <td>7</td>\n      <td>28</td>\n      <td></td>\n      <td></td>\n      <td></td>\n      <td>Baton Rouge CSD</td>\n    </tr>\n    <tr>\n      <th>...</th>\n      <td>...</td>\n      <td>...</td>\n      <td>...</td>\n      <td>...</td>\n      <td>...</td>\n      <td>...</td>\n      <td>...</td>\n      <td>...</td>\n      <td>...</td>\n      <td>...</td>\n      <td>...</td>\n      <td>...</td>\n      <td>...</td>\n      <td>...</td>\n      <td>...</td>\n      <td>...</td>\n      <td>...</td>\n      <td>...</td>\n    </tr>\n    <tr>\n      <th>10042</th>\n      <td>2017</td>\n      <td>500461</td>\n      <td>edlund</td>\n      <td>tonya</td>\n      <td>s</td>\n      <td>5020001</td>\n      <td>police department-uniform patrol bureau</td>\n      <td>5005</td>\n      <td>police officer</td>\n      <td>0</td>\n      <td>49303.83</td>\n      <td>2013</td>\n      <td>2</td>\n      <td>18</td>\n      <td></td>\n      <td></td>\n      <td></td>\n      <td>Baton Rouge CSD</td>\n    </tr>\n    <tr>\n      <th>10043</th>\n      <td>2017</td>\n      <td>511420</td>\n      <td>langston jr</td>\n      <td>robert</td>\n      <td>m</td>\n      <td>5020001</td>\n      <td>police department-uniform patrol bureau</td>\n      <td>5005</td>\n      <td>police officer</td>\n      <td>0</td>\n      <td>43748.32</td>\n      <td>2014</td>\n      <td>6</td>\n      <td>30</td>\n      <td></td>\n      <td></td>\n      <td></td>\n      <td>Baton Rouge CSD</td>\n    </tr>\n    <tr>\n      <th>10044</th>\n      <td>2017</td>\n      <td>528439</td>\n      <td>guevara</td>\n      <td>maria</td>\n      <td>j</td>\n      <td>5020001</td>\n      <td>police department-uniform patrol bureau</td>\n      <td>5005</td>\n      <td>police officer</td>\n      <td>0</td>\n      <td>35700.99</td>\n      <td>2016</td>\n      <td>11</td>\n      <td>14</td>\n      <td></td>\n      <td></td>\n      <td></td>\n      <td>Baton Rouge CSD</td>\n    </tr>\n    <tr>\n      <th>10045</th>\n      <td>2017</td>\n      <td>515868</td>\n      <td>brown</td>\n      <td>justin</td>\n      <td>p</td>\n      <td>5020001</td>\n      <td>police department-uniform patrol bureau</td>\n      <td>5005</td>\n      <td>police officer</td>\n      <td>0</td>\n      <td>40314.29</td>\n      <td>2015</td>\n      <td>4</td>\n      <td>20</td>\n      <td></td>\n      <td></td>\n      <td></td>\n      <td>Baton Rouge CSD</td>\n    </tr>\n    <tr>\n      <th>10046</th>\n      <td>2017</td>\n      <td>418552</td>\n      <td>stevenson</td>\n      <td>william</td>\n      <td>p</td>\n      <td>5060001</td>\n      <td>police department-criminal invest bureau</td>\n      <td>5010</td>\n      <td>police sergeant</td>\n      <td>0</td>\n      <td>77481.67</td>\n      <td>1998</td>\n      <td>7</td>\n      <td>31</td>\n      <td></td>\n      <td></td>\n      <td></td>\n      <td>Baton Rouge CSD</td>\n    </tr>\n  </tbody>\n</table>\n<p>10047 rows × 18 columns</p>\n</div>"
     },
     "metadata": {},
     "execution_count": 2
    }
   ],
   "source": [
    "df17 = clean_17()\n",
    "df17"
   ]
  },
  {
   "cell_type": "code",
   "execution_count": 7,
   "metadata": {},
   "outputs": [
    {
     "output_type": "execute_result",
     "data": {
      "text/plain": [
       "       data_production_year  employee_id  last_name first_name middle_initial  \\\n",
       "2                      2010          337      adams     rodney              p   \n",
       "26                     2014         2755   scott jr     alonzo                  \n",
       "30                     2011         4286    anthony   kathleen              o   \n",
       "32                     2009         6645  armstrong    charles              e   \n",
       "37                     2012         6750   anderson       owen              k   \n",
       "...                     ...          ...        ...        ...            ...   \n",
       "9953                   2017       514756     milton     kandis              k   \n",
       "9981                   2017       529877    jackson     latyra              t   \n",
       "9987                   2017       513172     miller      emily              j   \n",
       "10036                  2017       524700     bethel    cynthia              m   \n",
       "10039                  2017       529621   robinson      imani              r   \n",
       "\n",
       "       department_code                           department_desc  rank_code  \\\n",
       "2              5020001   police department-uniform patrol bureau       5020   \n",
       "26             5020001   police department-uniform patrol bureau       5015   \n",
       "30             5050001   police department-operation serv bureau     110090   \n",
       "32             5010001          police department-administration       5015   \n",
       "37             5050001   police department-operation serv bureau       5010   \n",
       "...                ...                                       ...        ...   \n",
       "9953           5060001  police department-criminal invest bureau     110132   \n",
       "9981           5050001   police department-operation serv bureau     110090   \n",
       "9987           5060001  police department-criminal invest bureau     400074   \n",
       "10036          5020001   police department-uniform patrol bureau       5005   \n",
       "10039          5010001          police department-administration     400074   \n",
       "\n",
       "                             rank_desc  employment_status  annual_salary  \\\n",
       "2                       police captain                  5       66863.96   \n",
       "26                   police lieutenant                  5       81407.42   \n",
       "30                 clerical specialist                  5        5620.11   \n",
       "32                   police lieutenant                  5      118524.06   \n",
       "37                     police sergeant                  5        7313.69   \n",
       "...                                ...                ...            ...   \n",
       "9953        senior clerical specialist                  5        2274.75   \n",
       "9981               clerical specialist                  5       13968.56   \n",
       "9987   college student intern/contract                  5         396.00   \n",
       "10036                   police officer                  5        6400.75   \n",
       "10039  college student intern/contract                  5        5836.50   \n",
       "\n",
       "      hire_year hire_month hire_day term_year term_month term_day  \\\n",
       "2          1980         12       22      2010         11       17   \n",
       "26         1986          5       12      2014          7        3   \n",
       "30         1989          8       10      2010         11       23   \n",
       "32         1983          7       18      2009         11       16   \n",
       "37         1987          4       27      2012          1       23   \n",
       "...         ...        ...      ...       ...        ...      ...   \n",
       "9953       2015          5        5      2017          1       30   \n",
       "9981       2017          2       20      2017         10       23   \n",
       "9987       2014         10        6      2017          3        7   \n",
       "10036      2016          5       16      2017          2       12   \n",
       "10039      2017          2        6      2017          9        1   \n",
       "\n",
       "                agency  \n",
       "2      Baton Rouge CSD  \n",
       "26     Baton Rouge CSD  \n",
       "30     Baton Rouge CSD  \n",
       "32     Baton Rouge CSD  \n",
       "37     Baton Rouge CSD  \n",
       "...                ...  \n",
       "9953   Baton Rouge CSD  \n",
       "9981   Baton Rouge CSD  \n",
       "9987   Baton Rouge CSD  \n",
       "10036  Baton Rouge CSD  \n",
       "10039  Baton Rouge CSD  \n",
       "\n",
       "[641 rows x 18 columns]"
      ],
      "text/html": "<div>\n<style scoped>\n    .dataframe tbody tr th:only-of-type {\n        vertical-align: middle;\n    }\n\n    .dataframe tbody tr th {\n        vertical-align: top;\n    }\n\n    .dataframe thead th {\n        text-align: right;\n    }\n</style>\n<table border=\"1\" class=\"dataframe\">\n  <thead>\n    <tr style=\"text-align: right;\">\n      <th></th>\n      <th>data_production_year</th>\n      <th>employee_id</th>\n      <th>last_name</th>\n      <th>first_name</th>\n      <th>middle_initial</th>\n      <th>department_code</th>\n      <th>department_desc</th>\n      <th>rank_code</th>\n      <th>rank_desc</th>\n      <th>employment_status</th>\n      <th>annual_salary</th>\n      <th>hire_year</th>\n      <th>hire_month</th>\n      <th>hire_day</th>\n      <th>term_year</th>\n      <th>term_month</th>\n      <th>term_day</th>\n      <th>agency</th>\n    </tr>\n  </thead>\n  <tbody>\n    <tr>\n      <th>2</th>\n      <td>2010</td>\n      <td>337</td>\n      <td>adams</td>\n      <td>rodney</td>\n      <td>p</td>\n      <td>5020001</td>\n      <td>police department-uniform patrol bureau</td>\n      <td>5020</td>\n      <td>police captain</td>\n      <td>5</td>\n      <td>66863.96</td>\n      <td>1980</td>\n      <td>12</td>\n      <td>22</td>\n      <td>2010</td>\n      <td>11</td>\n      <td>17</td>\n      <td>Baton Rouge CSD</td>\n    </tr>\n    <tr>\n      <th>26</th>\n      <td>2014</td>\n      <td>2755</td>\n      <td>scott jr</td>\n      <td>alonzo</td>\n      <td></td>\n      <td>5020001</td>\n      <td>police department-uniform patrol bureau</td>\n      <td>5015</td>\n      <td>police lieutenant</td>\n      <td>5</td>\n      <td>81407.42</td>\n      <td>1986</td>\n      <td>5</td>\n      <td>12</td>\n      <td>2014</td>\n      <td>7</td>\n      <td>3</td>\n      <td>Baton Rouge CSD</td>\n    </tr>\n    <tr>\n      <th>30</th>\n      <td>2011</td>\n      <td>4286</td>\n      <td>anthony</td>\n      <td>kathleen</td>\n      <td>o</td>\n      <td>5050001</td>\n      <td>police department-operation serv bureau</td>\n      <td>110090</td>\n      <td>clerical specialist</td>\n      <td>5</td>\n      <td>5620.11</td>\n      <td>1989</td>\n      <td>8</td>\n      <td>10</td>\n      <td>2010</td>\n      <td>11</td>\n      <td>23</td>\n      <td>Baton Rouge CSD</td>\n    </tr>\n    <tr>\n      <th>32</th>\n      <td>2009</td>\n      <td>6645</td>\n      <td>armstrong</td>\n      <td>charles</td>\n      <td>e</td>\n      <td>5010001</td>\n      <td>police department-administration</td>\n      <td>5015</td>\n      <td>police lieutenant</td>\n      <td>5</td>\n      <td>118524.06</td>\n      <td>1983</td>\n      <td>7</td>\n      <td>18</td>\n      <td>2009</td>\n      <td>11</td>\n      <td>16</td>\n      <td>Baton Rouge CSD</td>\n    </tr>\n    <tr>\n      <th>37</th>\n      <td>2012</td>\n      <td>6750</td>\n      <td>anderson</td>\n      <td>owen</td>\n      <td>k</td>\n      <td>5050001</td>\n      <td>police department-operation serv bureau</td>\n      <td>5010</td>\n      <td>police sergeant</td>\n      <td>5</td>\n      <td>7313.69</td>\n      <td>1987</td>\n      <td>4</td>\n      <td>27</td>\n      <td>2012</td>\n      <td>1</td>\n      <td>23</td>\n      <td>Baton Rouge CSD</td>\n    </tr>\n    <tr>\n      <th>...</th>\n      <td>...</td>\n      <td>...</td>\n      <td>...</td>\n      <td>...</td>\n      <td>...</td>\n      <td>...</td>\n      <td>...</td>\n      <td>...</td>\n      <td>...</td>\n      <td>...</td>\n      <td>...</td>\n      <td>...</td>\n      <td>...</td>\n      <td>...</td>\n      <td>...</td>\n      <td>...</td>\n      <td>...</td>\n      <td>...</td>\n    </tr>\n    <tr>\n      <th>9953</th>\n      <td>2017</td>\n      <td>514756</td>\n      <td>milton</td>\n      <td>kandis</td>\n      <td>k</td>\n      <td>5060001</td>\n      <td>police department-criminal invest bureau</td>\n      <td>110132</td>\n      <td>senior clerical specialist</td>\n      <td>5</td>\n      <td>2274.75</td>\n      <td>2015</td>\n      <td>5</td>\n      <td>5</td>\n      <td>2017</td>\n      <td>1</td>\n      <td>30</td>\n      <td>Baton Rouge CSD</td>\n    </tr>\n    <tr>\n      <th>9981</th>\n      <td>2017</td>\n      <td>529877</td>\n      <td>jackson</td>\n      <td>latyra</td>\n      <td>t</td>\n      <td>5050001</td>\n      <td>police department-operation serv bureau</td>\n      <td>110090</td>\n      <td>clerical specialist</td>\n      <td>5</td>\n      <td>13968.56</td>\n      <td>2017</td>\n      <td>2</td>\n      <td>20</td>\n      <td>2017</td>\n      <td>10</td>\n      <td>23</td>\n      <td>Baton Rouge CSD</td>\n    </tr>\n    <tr>\n      <th>9987</th>\n      <td>2017</td>\n      <td>513172</td>\n      <td>miller</td>\n      <td>emily</td>\n      <td>j</td>\n      <td>5060001</td>\n      <td>police department-criminal invest bureau</td>\n      <td>400074</td>\n      <td>college student intern/contract</td>\n      <td>5</td>\n      <td>396.00</td>\n      <td>2014</td>\n      <td>10</td>\n      <td>6</td>\n      <td>2017</td>\n      <td>3</td>\n      <td>7</td>\n      <td>Baton Rouge CSD</td>\n    </tr>\n    <tr>\n      <th>10036</th>\n      <td>2017</td>\n      <td>524700</td>\n      <td>bethel</td>\n      <td>cynthia</td>\n      <td>m</td>\n      <td>5020001</td>\n      <td>police department-uniform patrol bureau</td>\n      <td>5005</td>\n      <td>police officer</td>\n      <td>5</td>\n      <td>6400.75</td>\n      <td>2016</td>\n      <td>5</td>\n      <td>16</td>\n      <td>2017</td>\n      <td>2</td>\n      <td>12</td>\n      <td>Baton Rouge CSD</td>\n    </tr>\n    <tr>\n      <th>10039</th>\n      <td>2017</td>\n      <td>529621</td>\n      <td>robinson</td>\n      <td>imani</td>\n      <td>r</td>\n      <td>5010001</td>\n      <td>police department-administration</td>\n      <td>400074</td>\n      <td>college student intern/contract</td>\n      <td>5</td>\n      <td>5836.50</td>\n      <td>2017</td>\n      <td>2</td>\n      <td>6</td>\n      <td>2017</td>\n      <td>9</td>\n      <td>1</td>\n      <td>Baton Rouge CSD</td>\n    </tr>\n  </tbody>\n</table>\n<p>641 rows × 18 columns</p>\n</div>"
     },
     "metadata": {},
     "execution_count": 7
    }
   ],
   "source": [
    "df17[df17.employment_status == 5]"
   ]
  },
  {
   "cell_type": "code",
   "execution_count": 3,
   "metadata": {},
   "outputs": [
    {
     "output_type": "execute_result",
     "data": {
      "text/plain": [
       "      data_production_year  last_name first_name middle_initial  \\\n",
       "0                     2018   williams     decory              l   \n",
       "1                     2018  weissberg      deena              j   \n",
       "2                     2018     graham    michael              h   \n",
       "3                     2018    gillich     joshua              m   \n",
       "4                     2018      saleh      haled                  \n",
       "...                    ...        ...        ...            ...   \n",
       "1957                  2018     howard     walter              c   \n",
       "1958                  2018    houston      stacy              m   \n",
       "1959                  2018      dyson    kenneth              w   \n",
       "1960                  2018   augustus     robert              l   \n",
       "1961                  2018       byrd   deandrea              n   \n",
       "\n",
       "      department_code                 department_desc  rank_code  \\\n",
       "0                5040  police-operational serv bureau       2070   \n",
       "1                5020    police-uniform patrol bureau       5005   \n",
       "2                5050           police-communications       5115   \n",
       "3                5070   police-criminal investigation       5005   \n",
       "4                5020    police-uniform patrol bureau       5005   \n",
       "...               ...                             ...        ...   \n",
       "1957             5060       police-special operations       6525   \n",
       "1958             5060       police-special operations       6525   \n",
       "1959             5060       police-special operations       6525   \n",
       "1960             5060       police-special operations       6525   \n",
       "1961             5010           police-administration       6510   \n",
       "\n",
       "                         rank_desc employment_status  annual_salary  \\\n",
       "0               senior stock clerk                 A       26541.06   \n",
       "1                   police officer                 A       53024.53   \n",
       "2     police comm officer i-42 hrs                 I       54243.63   \n",
       "3                   police officer                 A       28738.00   \n",
       "4                   police officer                 I       62144.25   \n",
       "...                            ...               ...            ...   \n",
       "1957         school crossing guard                 A         942.50   \n",
       "1958         school crossing guard                 A         928.00   \n",
       "1959         school crossing guard                 A         928.00   \n",
       "1960         school crossing guard                 I         913.50   \n",
       "1961        college student intern                 I         261.00   \n",
       "\n",
       "                                     employee_id hire_year hire_month  \\\n",
       "0     0xF1ABD670358E036C31296E66B3B66C382AC00812      2014          6   \n",
       "1     0xAF3E133428B9E25C55BC59FE534248E6A0C0F17B      2010          3   \n",
       "2     0x9109C85A45B703F87F1413A405549A2CEA9AB556      2007          4   \n",
       "3     0xB4C96D80854DD27E76D8CC9E21960EEBDA52E962      2008         12   \n",
       "4     0x1F1362EA41D1BC65BE321C0A378A20159F9A26D0      2006          6   \n",
       "...                                          ...       ...        ...   \n",
       "1957  0x0B9918551C179FAF20295B3C0CB7798486824D12      2018         10   \n",
       "1958  0x08AB94787936E21703BA8ABB75A6B57237E83FF4      2018         10   \n",
       "1959  0x6BE2349E0ECE2FA121CA321B3C85CCA02311E62C      2018         10   \n",
       "1960  0x9E065978592E8F4AE463B70C70C8A3C1ED6F9389      2018         10   \n",
       "1961  0x3DF1D27854014CD414A5210B2F7028A9ADE87D82      2018         12   \n",
       "\n",
       "     hire_day term_year term_month term_day           agency  \n",
       "0          23                                Baton Rouge CSD  \n",
       "1          31                                Baton Rouge CSD  \n",
       "2          21      2019          1       22  Baton Rouge CSD  \n",
       "3           8                                Baton Rouge CSD  \n",
       "4          12      2019          4       26  Baton Rouge CSD  \n",
       "...       ...       ...        ...      ...              ...  \n",
       "1957       24                                Baton Rouge CSD  \n",
       "1958       24                                Baton Rouge CSD  \n",
       "1959       24                                Baton Rouge CSD  \n",
       "1960       24      2019          6       10  Baton Rouge CSD  \n",
       "1961       17      2019          6       17  Baton Rouge CSD  \n",
       "\n",
       "[1962 rows x 18 columns]"
      ],
      "text/html": "<div>\n<style scoped>\n    .dataframe tbody tr th:only-of-type {\n        vertical-align: middle;\n    }\n\n    .dataframe tbody tr th {\n        vertical-align: top;\n    }\n\n    .dataframe thead th {\n        text-align: right;\n    }\n</style>\n<table border=\"1\" class=\"dataframe\">\n  <thead>\n    <tr style=\"text-align: right;\">\n      <th></th>\n      <th>data_production_year</th>\n      <th>last_name</th>\n      <th>first_name</th>\n      <th>middle_initial</th>\n      <th>department_code</th>\n      <th>department_desc</th>\n      <th>rank_code</th>\n      <th>rank_desc</th>\n      <th>employment_status</th>\n      <th>annual_salary</th>\n      <th>employee_id</th>\n      <th>hire_year</th>\n      <th>hire_month</th>\n      <th>hire_day</th>\n      <th>term_year</th>\n      <th>term_month</th>\n      <th>term_day</th>\n      <th>agency</th>\n    </tr>\n  </thead>\n  <tbody>\n    <tr>\n      <th>0</th>\n      <td>2018</td>\n      <td>williams</td>\n      <td>decory</td>\n      <td>l</td>\n      <td>5040</td>\n      <td>police-operational serv bureau</td>\n      <td>2070</td>\n      <td>senior stock clerk</td>\n      <td>A</td>\n      <td>26541.06</td>\n      <td>0xF1ABD670358E036C31296E66B3B66C382AC00812</td>\n      <td>2014</td>\n      <td>6</td>\n      <td>23</td>\n      <td></td>\n      <td></td>\n      <td></td>\n      <td>Baton Rouge CSD</td>\n    </tr>\n    <tr>\n      <th>1</th>\n      <td>2018</td>\n      <td>weissberg</td>\n      <td>deena</td>\n      <td>j</td>\n      <td>5020</td>\n      <td>police-uniform patrol bureau</td>\n      <td>5005</td>\n      <td>police officer</td>\n      <td>A</td>\n      <td>53024.53</td>\n      <td>0xAF3E133428B9E25C55BC59FE534248E6A0C0F17B</td>\n      <td>2010</td>\n      <td>3</td>\n      <td>31</td>\n      <td></td>\n      <td></td>\n      <td></td>\n      <td>Baton Rouge CSD</td>\n    </tr>\n    <tr>\n      <th>2</th>\n      <td>2018</td>\n      <td>graham</td>\n      <td>michael</td>\n      <td>h</td>\n      <td>5050</td>\n      <td>police-communications</td>\n      <td>5115</td>\n      <td>police comm officer i-42 hrs</td>\n      <td>I</td>\n      <td>54243.63</td>\n      <td>0x9109C85A45B703F87F1413A405549A2CEA9AB556</td>\n      <td>2007</td>\n      <td>4</td>\n      <td>21</td>\n      <td>2019</td>\n      <td>1</td>\n      <td>22</td>\n      <td>Baton Rouge CSD</td>\n    </tr>\n    <tr>\n      <th>3</th>\n      <td>2018</td>\n      <td>gillich</td>\n      <td>joshua</td>\n      <td>m</td>\n      <td>5070</td>\n      <td>police-criminal investigation</td>\n      <td>5005</td>\n      <td>police officer</td>\n      <td>A</td>\n      <td>28738.00</td>\n      <td>0xB4C96D80854DD27E76D8CC9E21960EEBDA52E962</td>\n      <td>2008</td>\n      <td>12</td>\n      <td>8</td>\n      <td></td>\n      <td></td>\n      <td></td>\n      <td>Baton Rouge CSD</td>\n    </tr>\n    <tr>\n      <th>4</th>\n      <td>2018</td>\n      <td>saleh</td>\n      <td>haled</td>\n      <td></td>\n      <td>5020</td>\n      <td>police-uniform patrol bureau</td>\n      <td>5005</td>\n      <td>police officer</td>\n      <td>I</td>\n      <td>62144.25</td>\n      <td>0x1F1362EA41D1BC65BE321C0A378A20159F9A26D0</td>\n      <td>2006</td>\n      <td>6</td>\n      <td>12</td>\n      <td>2019</td>\n      <td>4</td>\n      <td>26</td>\n      <td>Baton Rouge CSD</td>\n    </tr>\n    <tr>\n      <th>...</th>\n      <td>...</td>\n      <td>...</td>\n      <td>...</td>\n      <td>...</td>\n      <td>...</td>\n      <td>...</td>\n      <td>...</td>\n      <td>...</td>\n      <td>...</td>\n      <td>...</td>\n      <td>...</td>\n      <td>...</td>\n      <td>...</td>\n      <td>...</td>\n      <td>...</td>\n      <td>...</td>\n      <td>...</td>\n      <td>...</td>\n    </tr>\n    <tr>\n      <th>1957</th>\n      <td>2018</td>\n      <td>howard</td>\n      <td>walter</td>\n      <td>c</td>\n      <td>5060</td>\n      <td>police-special operations</td>\n      <td>6525</td>\n      <td>school crossing guard</td>\n      <td>A</td>\n      <td>942.50</td>\n      <td>0x0B9918551C179FAF20295B3C0CB7798486824D12</td>\n      <td>2018</td>\n      <td>10</td>\n      <td>24</td>\n      <td></td>\n      <td></td>\n      <td></td>\n      <td>Baton Rouge CSD</td>\n    </tr>\n    <tr>\n      <th>1958</th>\n      <td>2018</td>\n      <td>houston</td>\n      <td>stacy</td>\n      <td>m</td>\n      <td>5060</td>\n      <td>police-special operations</td>\n      <td>6525</td>\n      <td>school crossing guard</td>\n      <td>A</td>\n      <td>928.00</td>\n      <td>0x08AB94787936E21703BA8ABB75A6B57237E83FF4</td>\n      <td>2018</td>\n      <td>10</td>\n      <td>24</td>\n      <td></td>\n      <td></td>\n      <td></td>\n      <td>Baton Rouge CSD</td>\n    </tr>\n    <tr>\n      <th>1959</th>\n      <td>2018</td>\n      <td>dyson</td>\n      <td>kenneth</td>\n      <td>w</td>\n      <td>5060</td>\n      <td>police-special operations</td>\n      <td>6525</td>\n      <td>school crossing guard</td>\n      <td>A</td>\n      <td>928.00</td>\n      <td>0x6BE2349E0ECE2FA121CA321B3C85CCA02311E62C</td>\n      <td>2018</td>\n      <td>10</td>\n      <td>24</td>\n      <td></td>\n      <td></td>\n      <td></td>\n      <td>Baton Rouge CSD</td>\n    </tr>\n    <tr>\n      <th>1960</th>\n      <td>2018</td>\n      <td>augustus</td>\n      <td>robert</td>\n      <td>l</td>\n      <td>5060</td>\n      <td>police-special operations</td>\n      <td>6525</td>\n      <td>school crossing guard</td>\n      <td>I</td>\n      <td>913.50</td>\n      <td>0x9E065978592E8F4AE463B70C70C8A3C1ED6F9389</td>\n      <td>2018</td>\n      <td>10</td>\n      <td>24</td>\n      <td>2019</td>\n      <td>6</td>\n      <td>10</td>\n      <td>Baton Rouge CSD</td>\n    </tr>\n    <tr>\n      <th>1961</th>\n      <td>2018</td>\n      <td>byrd</td>\n      <td>deandrea</td>\n      <td>n</td>\n      <td>5010</td>\n      <td>police-administration</td>\n      <td>6510</td>\n      <td>college student intern</td>\n      <td>I</td>\n      <td>261.00</td>\n      <td>0x3DF1D27854014CD414A5210B2F7028A9ADE87D82</td>\n      <td>2018</td>\n      <td>12</td>\n      <td>17</td>\n      <td>2019</td>\n      <td>6</td>\n      <td>17</td>\n      <td>Baton Rouge CSD</td>\n    </tr>\n  </tbody>\n</table>\n<p>1962 rows × 18 columns</p>\n</div>"
     },
     "metadata": {},
     "execution_count": 3
    }
   ],
   "source": [
    "df19 = clean_19()\n",
    "df19"
   ]
  },
  {
   "cell_type": "code",
   "execution_count": 9,
   "metadata": {},
   "outputs": [
    {
     "output_type": "execute_result",
     "data": {
      "text/plain": [
       "      department_code                           department_desc\n",
       "0             5020001   police department-uniform patrol bureau\n",
       "10            5060001  police department-criminal invest bureau\n",
       "20            5050001   police department-operation serv bureau\n",
       "31            5010001          police department-administration\n",
       "96            5050011          police department-communications\n",
       "4434          5013601                               brave grant\n",
       "7111          5013701               byrne crim jus innov (bcji)\n",
       "7337          5050021      police department-special operations"
      ],
      "text/html": "<div>\n<style scoped>\n    .dataframe tbody tr th:only-of-type {\n        vertical-align: middle;\n    }\n\n    .dataframe tbody tr th {\n        vertical-align: top;\n    }\n\n    .dataframe thead th {\n        text-align: right;\n    }\n</style>\n<table border=\"1\" class=\"dataframe\">\n  <thead>\n    <tr style=\"text-align: right;\">\n      <th></th>\n      <th>department_code</th>\n      <th>department_desc</th>\n    </tr>\n  </thead>\n  <tbody>\n    <tr>\n      <th>0</th>\n      <td>5020001</td>\n      <td>police department-uniform patrol bureau</td>\n    </tr>\n    <tr>\n      <th>10</th>\n      <td>5060001</td>\n      <td>police department-criminal invest bureau</td>\n    </tr>\n    <tr>\n      <th>20</th>\n      <td>5050001</td>\n      <td>police department-operation serv bureau</td>\n    </tr>\n    <tr>\n      <th>31</th>\n      <td>5010001</td>\n      <td>police department-administration</td>\n    </tr>\n    <tr>\n      <th>96</th>\n      <td>5050011</td>\n      <td>police department-communications</td>\n    </tr>\n    <tr>\n      <th>4434</th>\n      <td>5013601</td>\n      <td>brave grant</td>\n    </tr>\n    <tr>\n      <th>7111</th>\n      <td>5013701</td>\n      <td>byrne crim jus innov (bcji)</td>\n    </tr>\n    <tr>\n      <th>7337</th>\n      <td>5050021</td>\n      <td>police department-special operations</td>\n    </tr>\n  </tbody>\n</table>\n</div>"
     },
     "metadata": {},
     "execution_count": 9
    }
   ],
   "source": [
    "df17[[\"department_code\", \"department_desc\"]].drop_duplicates()"
   ]
  },
  {
   "cell_type": "code",
   "execution_count": 8,
   "metadata": {},
   "outputs": [
    {
     "output_type": "execute_result",
     "data": {
      "text/plain": [
       "    department_code                 department_desc\n",
       "0              5040  police-operational serv bureau\n",
       "1              5020    police-uniform patrol bureau\n",
       "2              5050           police-communications\n",
       "3              5070   police-criminal investigation\n",
       "5              5060       police-special operations\n",
       "31             5010           police-administration"
      ],
      "text/html": "<div>\n<style scoped>\n    .dataframe tbody tr th:only-of-type {\n        vertical-align: middle;\n    }\n\n    .dataframe tbody tr th {\n        vertical-align: top;\n    }\n\n    .dataframe thead th {\n        text-align: right;\n    }\n</style>\n<table border=\"1\" class=\"dataframe\">\n  <thead>\n    <tr style=\"text-align: right;\">\n      <th></th>\n      <th>department_code</th>\n      <th>department_desc</th>\n    </tr>\n  </thead>\n  <tbody>\n    <tr>\n      <th>0</th>\n      <td>5040</td>\n      <td>police-operational serv bureau</td>\n    </tr>\n    <tr>\n      <th>1</th>\n      <td>5020</td>\n      <td>police-uniform patrol bureau</td>\n    </tr>\n    <tr>\n      <th>2</th>\n      <td>5050</td>\n      <td>police-communications</td>\n    </tr>\n    <tr>\n      <th>3</th>\n      <td>5070</td>\n      <td>police-criminal investigation</td>\n    </tr>\n    <tr>\n      <th>5</th>\n      <td>5060</td>\n      <td>police-special operations</td>\n    </tr>\n    <tr>\n      <th>31</th>\n      <td>5010</td>\n      <td>police-administration</td>\n    </tr>\n  </tbody>\n</table>\n</div>"
     },
     "metadata": {},
     "execution_count": 8
    }
   ],
   "source": [
    "df19[[\"department_code\", \"department_desc\"]].drop_duplicates()"
   ]
  },
  {
   "cell_type": "code",
   "execution_count": 4,
   "metadata": {},
   "outputs": [
    {
     "output_type": "execute_result",
     "data": {
      "text/plain": [
       "   department_code                           department_desc\n",
       "0          5010001          police department-administration\n",
       "1          5013601                               brave grant\n",
       "2          5013701               byrne crim jus innov (bcji)\n",
       "3          5020001   police department-uniform patrol bureau\n",
       "4          5050001   police department-operation serv bureau\n",
       "5          5050011          police department-communications\n",
       "6          5050021      police department-special operations\n",
       "7          5060001  police department-criminal invest bureau"
      ],
      "text/html": "<div>\n<style scoped>\n    .dataframe tbody tr th:only-of-type {\n        vertical-align: middle;\n    }\n\n    .dataframe tbody tr th {\n        vertical-align: top;\n    }\n\n    .dataframe thead th {\n        text-align: right;\n    }\n</style>\n<table border=\"1\" class=\"dataframe\">\n  <thead>\n    <tr style=\"text-align: right;\">\n      <th></th>\n      <th>department_code</th>\n      <th>department_desc</th>\n    </tr>\n  </thead>\n  <tbody>\n    <tr>\n      <th>0</th>\n      <td>5010001</td>\n      <td>police department-administration</td>\n    </tr>\n    <tr>\n      <th>1</th>\n      <td>5013601</td>\n      <td>brave grant</td>\n    </tr>\n    <tr>\n      <th>2</th>\n      <td>5013701</td>\n      <td>byrne crim jus innov (bcji)</td>\n    </tr>\n    <tr>\n      <th>3</th>\n      <td>5020001</td>\n      <td>police department-uniform patrol bureau</td>\n    </tr>\n    <tr>\n      <th>4</th>\n      <td>5050001</td>\n      <td>police department-operation serv bureau</td>\n    </tr>\n    <tr>\n      <th>5</th>\n      <td>5050011</td>\n      <td>police department-communications</td>\n    </tr>\n    <tr>\n      <th>6</th>\n      <td>5050021</td>\n      <td>police department-special operations</td>\n    </tr>\n    <tr>\n      <th>7</th>\n      <td>5060001</td>\n      <td>police department-criminal invest bureau</td>\n    </tr>\n  </tbody>\n</table>\n</div>"
     },
     "metadata": {},
     "execution_count": 4
    }
   ],
   "source": [
    "df17[[\"department_code\", \"department_desc\"]].drop_duplicates().sort_values(\"department_code\").reset_index(drop=True)"
   ]
  },
  {
   "cell_type": "code",
   "execution_count": 5,
   "metadata": {},
   "outputs": [
    {
     "output_type": "execute_result",
     "data": {
      "text/plain": [
       "   department_code                 department_desc\n",
       "0             5010           police-administration\n",
       "1             5020    police-uniform patrol bureau\n",
       "2             5040  police-operational serv bureau\n",
       "3             5050           police-communications\n",
       "4             5060       police-special operations\n",
       "5             5070   police-criminal investigation"
      ],
      "text/html": "<div>\n<style scoped>\n    .dataframe tbody tr th:only-of-type {\n        vertical-align: middle;\n    }\n\n    .dataframe tbody tr th {\n        vertical-align: top;\n    }\n\n    .dataframe thead th {\n        text-align: right;\n    }\n</style>\n<table border=\"1\" class=\"dataframe\">\n  <thead>\n    <tr style=\"text-align: right;\">\n      <th></th>\n      <th>department_code</th>\n      <th>department_desc</th>\n    </tr>\n  </thead>\n  <tbody>\n    <tr>\n      <th>0</th>\n      <td>5010</td>\n      <td>police-administration</td>\n    </tr>\n    <tr>\n      <th>1</th>\n      <td>5020</td>\n      <td>police-uniform patrol bureau</td>\n    </tr>\n    <tr>\n      <th>2</th>\n      <td>5040</td>\n      <td>police-operational serv bureau</td>\n    </tr>\n    <tr>\n      <th>3</th>\n      <td>5050</td>\n      <td>police-communications</td>\n    </tr>\n    <tr>\n      <th>4</th>\n      <td>5060</td>\n      <td>police-special operations</td>\n    </tr>\n    <tr>\n      <th>5</th>\n      <td>5070</td>\n      <td>police-criminal investigation</td>\n    </tr>\n  </tbody>\n</table>\n</div>"
     },
     "metadata": {},
     "execution_count": 5
    }
   ],
   "source": [
    "df19[[\"department_code\", \"department_desc\"]].drop_duplicates().sort_values(\"department_code\").reset_index(drop=True)"
   ]
  },
  {
   "cell_type": "code",
   "execution_count": 6,
   "metadata": {},
   "outputs": [
    {
     "output_type": "execute_result",
     "data": {
      "text/plain": [
       "    rank_code                  rank_desc\n",
       "18       5129  police forensic scientist\n",
       "46     114230  police forensic scientist"
      ],
      "text/html": "<div>\n<style scoped>\n    .dataframe tbody tr th:only-of-type {\n        vertical-align: middle;\n    }\n\n    .dataframe tbody tr th {\n        vertical-align: top;\n    }\n\n    .dataframe thead th {\n        text-align: right;\n    }\n</style>\n<table border=\"1\" class=\"dataframe\">\n  <thead>\n    <tr style=\"text-align: right;\">\n      <th></th>\n      <th>rank_code</th>\n      <th>rank_desc</th>\n    </tr>\n  </thead>\n  <tbody>\n    <tr>\n      <th>18</th>\n      <td>5129</td>\n      <td>police forensic scientist</td>\n    </tr>\n    <tr>\n      <th>46</th>\n      <td>114230</td>\n      <td>police forensic scientist</td>\n    </tr>\n  </tbody>\n</table>\n</div>"
     },
     "metadata": {},
     "execution_count": 6
    }
   ],
   "source": [
    "ranks_17 = df17[[\"rank_code\", \"rank_desc\"]].drop_duplicates().sort_values(\"rank_code\").reset_index(drop=True)\n",
    "ranks_17[ranks_17.rank_desc.duplicated(keep=False)]"
   ]
  },
  {
   "cell_type": "code",
   "execution_count": 7,
   "metadata": {},
   "outputs": [
    {
     "output_type": "execute_result",
     "data": {
      "text/plain": [
       "    rank_code           rank_desc\n",
       "2        1484  crime statistician\n",
       "39       5227  crime statistician"
      ],
      "text/html": "<div>\n<style scoped>\n    .dataframe tbody tr th:only-of-type {\n        vertical-align: middle;\n    }\n\n    .dataframe tbody tr th {\n        vertical-align: top;\n    }\n\n    .dataframe thead th {\n        text-align: right;\n    }\n</style>\n<table border=\"1\" class=\"dataframe\">\n  <thead>\n    <tr style=\"text-align: right;\">\n      <th></th>\n      <th>rank_code</th>\n      <th>rank_desc</th>\n    </tr>\n  </thead>\n  <tbody>\n    <tr>\n      <th>2</th>\n      <td>1484</td>\n      <td>crime statistician</td>\n    </tr>\n    <tr>\n      <th>39</th>\n      <td>5227</td>\n      <td>crime statistician</td>\n    </tr>\n  </tbody>\n</table>\n</div>"
     },
     "metadata": {},
     "execution_count": 7
    }
   ],
   "source": [
    "ranks_19 = df19[[\"rank_code\", \"rank_desc\"]].drop_duplicates().sort_values(\"rank_code\").reset_index(drop=True)\n",
    "ranks_19[ranks_19.rank_desc.duplicated(keep=False)]"
   ]
  },
  {
   "cell_type": "code",
   "execution_count": null,
   "metadata": {},
   "outputs": [],
   "source": []
  }
 ]
}
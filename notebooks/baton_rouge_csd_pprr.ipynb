{
 "metadata": {
  "language_info": {
   "codemirror_mode": {
    "name": "ipython",
    "version": 3
   },
   "file_extension": ".py",
   "mimetype": "text/x-python",
   "name": "python",
   "nbconvert_exporter": "python",
   "pygments_lexer": "ipython3",
   "version": "3.8.3-final"
  },
  "orig_nbformat": 2,
  "kernelspec": {
   "name": "python3",
   "display_name": "Python 3",
   "language": "python"
  }
 },
 "nbformat": 4,
 "nbformat_minor": 2,
 "cells": [
  {
   "cell_type": "code",
   "execution_count": 1,
   "metadata": {},
   "outputs": [],
   "source": [
    "import sys; sys.path.append(\"../\")\n",
    "\n",
    "from clean.baton_rouge_csd_pprr import clean_17, clean_19\n",
    "from lib.explore import show_unique"
   ]
  },
  {
   "cell_type": "code",
   "execution_count": 2,
   "metadata": {},
   "outputs": [
    {
     "output_type": "execute_result",
     "data": {
      "text/plain": [
       "       data_production_year  employee_id    last_name first_name  \\\n",
       "0                      2008          337        adams     rodney   \n",
       "1                      2009          337        adams     rodney   \n",
       "2                      2010          337        adams     rodney   \n",
       "3                      2008          604        adams       leif   \n",
       "4                      2009          604        adams       leif   \n",
       "...                     ...          ...          ...        ...   \n",
       "10042                  2017       500461       edlund      tonya   \n",
       "10043                  2017       511420  langston jr     robert   \n",
       "10044                  2017       528439      guevara      maria   \n",
       "10045                  2017       515868        brown     justin   \n",
       "10046                  2017       418552    stevenson    william   \n",
       "\n",
       "      middle_initial  department_code  \\\n",
       "0                  p          5020001   \n",
       "1                  p          5020001   \n",
       "2                  p          5020001   \n",
       "3                  t          5020001   \n",
       "4                  t          5020001   \n",
       "...              ...              ...   \n",
       "10042              s          5020001   \n",
       "10043              m          5020001   \n",
       "10044              j          5020001   \n",
       "10045              p          5020001   \n",
       "10046              p          5060001   \n",
       "\n",
       "                                department_desc  rank_code        rank_desc  \\\n",
       "0       police department-uniform patrol bureau       5020   police captain   \n",
       "1       police department-uniform patrol bureau       5020   police captain   \n",
       "2       police department-uniform patrol bureau       5020   police captain   \n",
       "3       police department-uniform patrol bureau       5010  police sergeant   \n",
       "4       police department-uniform patrol bureau       5010  police sergeant   \n",
       "...                                         ...        ...              ...   \n",
       "10042   police department-uniform patrol bureau       5005   police officer   \n",
       "10043   police department-uniform patrol bureau       5005   police officer   \n",
       "10044   police department-uniform patrol bureau       5005   police officer   \n",
       "10045   police department-uniform patrol bureau       5005   police officer   \n",
       "10046  police department-criminal invest bureau       5010  police sergeant   \n",
       "\n",
       "       hire_date  term_date  employment_status  annual_salary  \\\n",
       "0     1980-12-22 2010-11-17                  0       86637.85   \n",
       "1     1980-12-22 2010-11-17                  0       81537.06   \n",
       "2     1980-12-22 2010-11-17                  5       66863.96   \n",
       "3     1988-07-28        NaT                  0       61178.34   \n",
       "4     1988-07-28        NaT                  0       60324.48   \n",
       "...          ...        ...                ...            ...   \n",
       "10042 2013-02-18        NaT                  0       49303.83   \n",
       "10043 2014-06-30        NaT                  0       43748.32   \n",
       "10044 2016-11-14        NaT                  0       35700.99   \n",
       "10045 2015-04-20        NaT                  0       40314.29   \n",
       "10046 1998-07-31        NaT                  0       77481.67   \n",
       "\n",
       "                                    uid  \n",
       "0      357a6fdf7642bf815a88822c447d9dc4  \n",
       "1      357a6fdf7642bf815a88822c447d9dc4  \n",
       "2      357a6fdf7642bf815a88822c447d9dc4  \n",
       "3      9cf81d8026a9018052c429cc4e56739b  \n",
       "4      9cf81d8026a9018052c429cc4e56739b  \n",
       "...                                 ...  \n",
       "10042  be812234679b956143632da6106f0910  \n",
       "10043  68fa9419145303a2e52e3fe0522524ae  \n",
       "10044  4ca736da63bc2c3aa262c8bf5d196c20  \n",
       "10045  fa83fc5abf8a429f95f314718766e614  \n",
       "10046  81b1e25a2a1fed2030f043103e175b9d  \n",
       "\n",
       "[10047 rows x 14 columns]"
      ],
      "text/html": "<div>\n<style scoped>\n    .dataframe tbody tr th:only-of-type {\n        vertical-align: middle;\n    }\n\n    .dataframe tbody tr th {\n        vertical-align: top;\n    }\n\n    .dataframe thead th {\n        text-align: right;\n    }\n</style>\n<table border=\"1\" class=\"dataframe\">\n  <thead>\n    <tr style=\"text-align: right;\">\n      <th></th>\n      <th>data_production_year</th>\n      <th>employee_id</th>\n      <th>last_name</th>\n      <th>first_name</th>\n      <th>middle_initial</th>\n      <th>department_code</th>\n      <th>department_desc</th>\n      <th>rank_code</th>\n      <th>rank_desc</th>\n      <th>hire_date</th>\n      <th>term_date</th>\n      <th>employment_status</th>\n      <th>annual_salary</th>\n      <th>uid</th>\n    </tr>\n  </thead>\n  <tbody>\n    <tr>\n      <th>0</th>\n      <td>2008</td>\n      <td>337</td>\n      <td>adams</td>\n      <td>rodney</td>\n      <td>p</td>\n      <td>5020001</td>\n      <td>police department-uniform patrol bureau</td>\n      <td>5020</td>\n      <td>police captain</td>\n      <td>1980-12-22</td>\n      <td>2010-11-17</td>\n      <td>0</td>\n      <td>86637.85</td>\n      <td>357a6fdf7642bf815a88822c447d9dc4</td>\n    </tr>\n    <tr>\n      <th>1</th>\n      <td>2009</td>\n      <td>337</td>\n      <td>adams</td>\n      <td>rodney</td>\n      <td>p</td>\n      <td>5020001</td>\n      <td>police department-uniform patrol bureau</td>\n      <td>5020</td>\n      <td>police captain</td>\n      <td>1980-12-22</td>\n      <td>2010-11-17</td>\n      <td>0</td>\n      <td>81537.06</td>\n      <td>357a6fdf7642bf815a88822c447d9dc4</td>\n    </tr>\n    <tr>\n      <th>2</th>\n      <td>2010</td>\n      <td>337</td>\n      <td>adams</td>\n      <td>rodney</td>\n      <td>p</td>\n      <td>5020001</td>\n      <td>police department-uniform patrol bureau</td>\n      <td>5020</td>\n      <td>police captain</td>\n      <td>1980-12-22</td>\n      <td>2010-11-17</td>\n      <td>5</td>\n      <td>66863.96</td>\n      <td>357a6fdf7642bf815a88822c447d9dc4</td>\n    </tr>\n    <tr>\n      <th>3</th>\n      <td>2008</td>\n      <td>604</td>\n      <td>adams</td>\n      <td>leif</td>\n      <td>t</td>\n      <td>5020001</td>\n      <td>police department-uniform patrol bureau</td>\n      <td>5010</td>\n      <td>police sergeant</td>\n      <td>1988-07-28</td>\n      <td>NaT</td>\n      <td>0</td>\n      <td>61178.34</td>\n      <td>9cf81d8026a9018052c429cc4e56739b</td>\n    </tr>\n    <tr>\n      <th>4</th>\n      <td>2009</td>\n      <td>604</td>\n      <td>adams</td>\n      <td>leif</td>\n      <td>t</td>\n      <td>5020001</td>\n      <td>police department-uniform patrol bureau</td>\n      <td>5010</td>\n      <td>police sergeant</td>\n      <td>1988-07-28</td>\n      <td>NaT</td>\n      <td>0</td>\n      <td>60324.48</td>\n      <td>9cf81d8026a9018052c429cc4e56739b</td>\n    </tr>\n    <tr>\n      <th>...</th>\n      <td>...</td>\n      <td>...</td>\n      <td>...</td>\n      <td>...</td>\n      <td>...</td>\n      <td>...</td>\n      <td>...</td>\n      <td>...</td>\n      <td>...</td>\n      <td>...</td>\n      <td>...</td>\n      <td>...</td>\n      <td>...</td>\n      <td>...</td>\n    </tr>\n    <tr>\n      <th>10042</th>\n      <td>2017</td>\n      <td>500461</td>\n      <td>edlund</td>\n      <td>tonya</td>\n      <td>s</td>\n      <td>5020001</td>\n      <td>police department-uniform patrol bureau</td>\n      <td>5005</td>\n      <td>police officer</td>\n      <td>2013-02-18</td>\n      <td>NaT</td>\n      <td>0</td>\n      <td>49303.83</td>\n      <td>be812234679b956143632da6106f0910</td>\n    </tr>\n    <tr>\n      <th>10043</th>\n      <td>2017</td>\n      <td>511420</td>\n      <td>langston jr</td>\n      <td>robert</td>\n      <td>m</td>\n      <td>5020001</td>\n      <td>police department-uniform patrol bureau</td>\n      <td>5005</td>\n      <td>police officer</td>\n      <td>2014-06-30</td>\n      <td>NaT</td>\n      <td>0</td>\n      <td>43748.32</td>\n      <td>68fa9419145303a2e52e3fe0522524ae</td>\n    </tr>\n    <tr>\n      <th>10044</th>\n      <td>2017</td>\n      <td>528439</td>\n      <td>guevara</td>\n      <td>maria</td>\n      <td>j</td>\n      <td>5020001</td>\n      <td>police department-uniform patrol bureau</td>\n      <td>5005</td>\n      <td>police officer</td>\n      <td>2016-11-14</td>\n      <td>NaT</td>\n      <td>0</td>\n      <td>35700.99</td>\n      <td>4ca736da63bc2c3aa262c8bf5d196c20</td>\n    </tr>\n    <tr>\n      <th>10045</th>\n      <td>2017</td>\n      <td>515868</td>\n      <td>brown</td>\n      <td>justin</td>\n      <td>p</td>\n      <td>5020001</td>\n      <td>police department-uniform patrol bureau</td>\n      <td>5005</td>\n      <td>police officer</td>\n      <td>2015-04-20</td>\n      <td>NaT</td>\n      <td>0</td>\n      <td>40314.29</td>\n      <td>fa83fc5abf8a429f95f314718766e614</td>\n    </tr>\n    <tr>\n      <th>10046</th>\n      <td>2017</td>\n      <td>418552</td>\n      <td>stevenson</td>\n      <td>william</td>\n      <td>p</td>\n      <td>5060001</td>\n      <td>police department-criminal invest bureau</td>\n      <td>5010</td>\n      <td>police sergeant</td>\n      <td>1998-07-31</td>\n      <td>NaT</td>\n      <td>0</td>\n      <td>77481.67</td>\n      <td>81b1e25a2a1fed2030f043103e175b9d</td>\n    </tr>\n  </tbody>\n</table>\n<p>10047 rows × 14 columns</p>\n</div>"
     },
     "metadata": {},
     "execution_count": 2
    }
   ],
   "source": [
    "df17 = clean_17()\n",
    "df17"
   ]
  },
  {
   "cell_type": "code",
   "execution_count": 4,
   "metadata": {},
   "outputs": [
    {
     "output_type": "stream",
     "name": "stdout",
     "text": [
      "10047 rows\ndata_production_year:\n    dtype: int64\n    unique: 10\n        [2008 2009 2010 2011 2012 2013 2014 2015 2016 2017]\nemployee_id:\n    dtype: int64\n    unique: 1604\nlast_name:\n    dtype: object\n    unique: 1058\nfirst_name:\n    dtype: object\n    unique: 848\nmiddle_initial:\n    dtype: object\n    unique: 26\n        ['p' 't' 'g' '' 'o' 'e' 'k' 'r' 'd' 'l' 'a' 'b' 'w' 'j' 'm' 'c' 's' 'h'\n 'i' 'n' 'f' 'u' 'z' 'v' 'y' 'q']\ndepartment_code:\n    dtype: int64\n    unique: 8\n        [5020001 5060001 5050001 5010001 5050011 5013601 5013701 5050021]\ndepartment_desc:\n    dtype: object\n    unique: 8\n        ['police department-uniform patrol bureau'\n 'police department-criminal invest bureau'\n 'police department-operation serv bureau'\n 'police department-administration' 'police department-communications'\n 'brave grant' 'byrne crim jus innov (bcji)'\n 'police department-special operations']\nrank_code:\n    dtype: int64\n    unique: 56\n        [  5020   5010   5015 405470 110090 999999   5005   5025   5108 110620\n 110625    420 100090 100550   5125 110630   5110 210020 300101 110132\n 100100   5106   5111 114235 113105   5135   5104 110645 102350 114220\n 114215   5130   5127   5107 102305 114237 114225 100548 100095   5000\n   5128 400074 100260 105655 113125 102310 110435   5145 111130   5105\n 114230 111108 405600 300103   5030   5129]\nrank_desc:\n    dtype: object\n    unique: 55\n        ['police captain' 'police sergeant' 'police lieutenant'\n 'school crossing guard' 'clerical specialist' 'exception job code'\n 'police officer' 'police major' 'police communications ofc ii-42/hrs'\n 'administrative specialist i' 'administrative specialist ii'\n 'police chief' 'accounting associate i' 'police business manager'\n 'police automotive motorcycle mech' 'senior administrative specialist'\n 'pol supply offcr' 'clerical specialist (job-share)'\n 'community service aide' 'senior clerical specialist' 'accountant'\n 'police criminal information spec i'\n 'police criminal information spec ii' 'crime specialist' 'stock clerk i'\n 'police fingerprint technician ii' 'police communications supervisor'\n 'records supervisor' 'pc lan specialist' 'accreditation specialist'\n 'accreditation analyst' 'police fingerprint technician i'\n 'crime intelligence analyst' 'police communications ofcr i-42/hrs'\n 'computer prog/systems analyst i' 'senior crime specialist'\n 'police evidence technician' 'assistant police business manager'\n 'accounting associate ii' 'police cadet'\n 'crime stoppers information analyst' 'college student intern/contract'\n 'crime statistician' 'police victim advocate' 'senior stock clerk'\n 'computer programmer/sys analy ii' 'senior legal specialist'\n 'police latent print examiner' 'senior fiscal specialist'\n 'secretary to the chief of police' 'police forensic scientist'\n 'fiscal specialist' 'community resource officer'\n 'community outreach specialist' 'deputy chief of police']\nhire_date:\n    dtype: datetime64[ns]\n    unique: 666\nterm_date:\n    dtype: datetime64[ns]\n    unique: 543\nemployment_status:\n    dtype: int64\n    unique: 3\n        [0 5 1]\nannual_salary:\n    dtype: float64\n    unique: 9282\nuid:\n    dtype: object\n    unique: 1604\n"
     ]
    }
   ],
   "source": [
    "show_unique(df17)"
   ]
  },
  {
   "cell_type": "code",
   "execution_count": 5,
   "metadata": {},
   "outputs": [
    {
     "output_type": "execute_result",
     "data": {
      "text/plain": [
       "      data_production_year  last_name first_name middle_initial  \\\n",
       "0                     2018   williams     decory              l   \n",
       "1                     2018  weissberg      deena              j   \n",
       "2                     2018     graham    michael              h   \n",
       "3                     2018    gillich     joshua              m   \n",
       "4                     2018      saleh      haled                  \n",
       "...                    ...        ...        ...            ...   \n",
       "1957                  2018     howard     walter              c   \n",
       "1958                  2018    houston      stacy              m   \n",
       "1959                  2018      dyson    kenneth              w   \n",
       "1960                  2018   augustus     robert              l   \n",
       "1961                  2018       byrd   deandrea              n   \n",
       "\n",
       "      department_code                 department_desc  rank_code  \\\n",
       "0                5040  police-operational serv bureau       2070   \n",
       "1                5020    police-uniform patrol bureau       5005   \n",
       "2                5050           police-communications       5115   \n",
       "3                5070   police-criminal investigation       5005   \n",
       "4                5020    police-uniform patrol bureau       5005   \n",
       "...               ...                             ...        ...   \n",
       "1957             5060       police-special operations       6525   \n",
       "1958             5060       police-special operations       6525   \n",
       "1959             5060       police-special operations       6525   \n",
       "1960             5060       police-special operations       6525   \n",
       "1961             5010           police-administration       6510   \n",
       "\n",
       "                         rank_desc  hire_date  term_date employment_status  \\\n",
       "0               senior stock clerk 2014-06-23        NaT                 A   \n",
       "1                   police officer 2010-03-31        NaT                 A   \n",
       "2     police comm officer i-42 hrs 2007-04-21 2019-01-22                 I   \n",
       "3                   police officer 2008-12-08        NaT                 A   \n",
       "4                   police officer 2006-06-12 2019-04-26                 I   \n",
       "...                            ...        ...        ...               ...   \n",
       "1957         school crossing guard 2018-10-24        NaT                 A   \n",
       "1958         school crossing guard 2018-10-24        NaT                 A   \n",
       "1959         school crossing guard 2018-10-24        NaT                 A   \n",
       "1960         school crossing guard 2018-10-24 2019-06-10                 I   \n",
       "1961        college student intern 2018-12-17 2019-06-17                 I   \n",
       "\n",
       "      annual_salary                                 employee_id  \\\n",
       "0          26541.06  0xF1ABD670358E036C31296E66B3B66C382AC00812   \n",
       "1          53024.53  0xAF3E133428B9E25C55BC59FE534248E6A0C0F17B   \n",
       "2          54243.63  0x9109C85A45B703F87F1413A405549A2CEA9AB556   \n",
       "3          28738.00  0xB4C96D80854DD27E76D8CC9E21960EEBDA52E962   \n",
       "4          62144.25  0x1F1362EA41D1BC65BE321C0A378A20159F9A26D0   \n",
       "...             ...                                         ...   \n",
       "1957         942.50  0x0B9918551C179FAF20295B3C0CB7798486824D12   \n",
       "1958         928.00  0x08AB94787936E21703BA8ABB75A6B57237E83FF4   \n",
       "1959         928.00  0x6BE2349E0ECE2FA121CA321B3C85CCA02311E62C   \n",
       "1960         913.50  0x9E065978592E8F4AE463B70C70C8A3C1ED6F9389   \n",
       "1961         261.00  0x3DF1D27854014CD414A5210B2F7028A9ADE87D82   \n",
       "\n",
       "                                   uid  \n",
       "0     2c26c1da182e017154760576bb26d178  \n",
       "1     b4911ac24a815588b44f634a2994652b  \n",
       "2     375b7460fced4f1c25800ab70aad3539  \n",
       "3     f3a681bf5b2ea66f984df7d95ae390e1  \n",
       "4     bd0a7112d1ce9caf09c00dd75e759411  \n",
       "...                                ...  \n",
       "1957  b809606018d8c135d42348fe0ddc7457  \n",
       "1958  cad7ff3de443661681277b85450a209d  \n",
       "1959  4720d7b49d294945e5fd8dcb9ba129bd  \n",
       "1960  bf23de2bb605f07db3277192bce6ca28  \n",
       "1961  db6c0c9569c8e832e8dc0ac5246a7a3d  \n",
       "\n",
       "[1962 rows x 14 columns]"
      ],
      "text/html": "<div>\n<style scoped>\n    .dataframe tbody tr th:only-of-type {\n        vertical-align: middle;\n    }\n\n    .dataframe tbody tr th {\n        vertical-align: top;\n    }\n\n    .dataframe thead th {\n        text-align: right;\n    }\n</style>\n<table border=\"1\" class=\"dataframe\">\n  <thead>\n    <tr style=\"text-align: right;\">\n      <th></th>\n      <th>data_production_year</th>\n      <th>last_name</th>\n      <th>first_name</th>\n      <th>middle_initial</th>\n      <th>department_code</th>\n      <th>department_desc</th>\n      <th>rank_code</th>\n      <th>rank_desc</th>\n      <th>hire_date</th>\n      <th>term_date</th>\n      <th>employment_status</th>\n      <th>annual_salary</th>\n      <th>employee_id</th>\n      <th>uid</th>\n    </tr>\n  </thead>\n  <tbody>\n    <tr>\n      <th>0</th>\n      <td>2018</td>\n      <td>williams</td>\n      <td>decory</td>\n      <td>l</td>\n      <td>5040</td>\n      <td>police-operational serv bureau</td>\n      <td>2070</td>\n      <td>senior stock clerk</td>\n      <td>2014-06-23</td>\n      <td>NaT</td>\n      <td>A</td>\n      <td>26541.06</td>\n      <td>0xF1ABD670358E036C31296E66B3B66C382AC00812</td>\n      <td>2c26c1da182e017154760576bb26d178</td>\n    </tr>\n    <tr>\n      <th>1</th>\n      <td>2018</td>\n      <td>weissberg</td>\n      <td>deena</td>\n      <td>j</td>\n      <td>5020</td>\n      <td>police-uniform patrol bureau</td>\n      <td>5005</td>\n      <td>police officer</td>\n      <td>2010-03-31</td>\n      <td>NaT</td>\n      <td>A</td>\n      <td>53024.53</td>\n      <td>0xAF3E133428B9E25C55BC59FE534248E6A0C0F17B</td>\n      <td>b4911ac24a815588b44f634a2994652b</td>\n    </tr>\n    <tr>\n      <th>2</th>\n      <td>2018</td>\n      <td>graham</td>\n      <td>michael</td>\n      <td>h</td>\n      <td>5050</td>\n      <td>police-communications</td>\n      <td>5115</td>\n      <td>police comm officer i-42 hrs</td>\n      <td>2007-04-21</td>\n      <td>2019-01-22</td>\n      <td>I</td>\n      <td>54243.63</td>\n      <td>0x9109C85A45B703F87F1413A405549A2CEA9AB556</td>\n      <td>375b7460fced4f1c25800ab70aad3539</td>\n    </tr>\n    <tr>\n      <th>3</th>\n      <td>2018</td>\n      <td>gillich</td>\n      <td>joshua</td>\n      <td>m</td>\n      <td>5070</td>\n      <td>police-criminal investigation</td>\n      <td>5005</td>\n      <td>police officer</td>\n      <td>2008-12-08</td>\n      <td>NaT</td>\n      <td>A</td>\n      <td>28738.00</td>\n      <td>0xB4C96D80854DD27E76D8CC9E21960EEBDA52E962</td>\n      <td>f3a681bf5b2ea66f984df7d95ae390e1</td>\n    </tr>\n    <tr>\n      <th>4</th>\n      <td>2018</td>\n      <td>saleh</td>\n      <td>haled</td>\n      <td></td>\n      <td>5020</td>\n      <td>police-uniform patrol bureau</td>\n      <td>5005</td>\n      <td>police officer</td>\n      <td>2006-06-12</td>\n      <td>2019-04-26</td>\n      <td>I</td>\n      <td>62144.25</td>\n      <td>0x1F1362EA41D1BC65BE321C0A378A20159F9A26D0</td>\n      <td>bd0a7112d1ce9caf09c00dd75e759411</td>\n    </tr>\n    <tr>\n      <th>...</th>\n      <td>...</td>\n      <td>...</td>\n      <td>...</td>\n      <td>...</td>\n      <td>...</td>\n      <td>...</td>\n      <td>...</td>\n      <td>...</td>\n      <td>...</td>\n      <td>...</td>\n      <td>...</td>\n      <td>...</td>\n      <td>...</td>\n      <td>...</td>\n    </tr>\n    <tr>\n      <th>1957</th>\n      <td>2018</td>\n      <td>howard</td>\n      <td>walter</td>\n      <td>c</td>\n      <td>5060</td>\n      <td>police-special operations</td>\n      <td>6525</td>\n      <td>school crossing guard</td>\n      <td>2018-10-24</td>\n      <td>NaT</td>\n      <td>A</td>\n      <td>942.50</td>\n      <td>0x0B9918551C179FAF20295B3C0CB7798486824D12</td>\n      <td>b809606018d8c135d42348fe0ddc7457</td>\n    </tr>\n    <tr>\n      <th>1958</th>\n      <td>2018</td>\n      <td>houston</td>\n      <td>stacy</td>\n      <td>m</td>\n      <td>5060</td>\n      <td>police-special operations</td>\n      <td>6525</td>\n      <td>school crossing guard</td>\n      <td>2018-10-24</td>\n      <td>NaT</td>\n      <td>A</td>\n      <td>928.00</td>\n      <td>0x08AB94787936E21703BA8ABB75A6B57237E83FF4</td>\n      <td>cad7ff3de443661681277b85450a209d</td>\n    </tr>\n    <tr>\n      <th>1959</th>\n      <td>2018</td>\n      <td>dyson</td>\n      <td>kenneth</td>\n      <td>w</td>\n      <td>5060</td>\n      <td>police-special operations</td>\n      <td>6525</td>\n      <td>school crossing guard</td>\n      <td>2018-10-24</td>\n      <td>NaT</td>\n      <td>A</td>\n      <td>928.00</td>\n      <td>0x6BE2349E0ECE2FA121CA321B3C85CCA02311E62C</td>\n      <td>4720d7b49d294945e5fd8dcb9ba129bd</td>\n    </tr>\n    <tr>\n      <th>1960</th>\n      <td>2018</td>\n      <td>augustus</td>\n      <td>robert</td>\n      <td>l</td>\n      <td>5060</td>\n      <td>police-special operations</td>\n      <td>6525</td>\n      <td>school crossing guard</td>\n      <td>2018-10-24</td>\n      <td>2019-06-10</td>\n      <td>I</td>\n      <td>913.50</td>\n      <td>0x9E065978592E8F4AE463B70C70C8A3C1ED6F9389</td>\n      <td>bf23de2bb605f07db3277192bce6ca28</td>\n    </tr>\n    <tr>\n      <th>1961</th>\n      <td>2018</td>\n      <td>byrd</td>\n      <td>deandrea</td>\n      <td>n</td>\n      <td>5010</td>\n      <td>police-administration</td>\n      <td>6510</td>\n      <td>college student intern</td>\n      <td>2018-12-17</td>\n      <td>2019-06-17</td>\n      <td>I</td>\n      <td>261.00</td>\n      <td>0x3DF1D27854014CD414A5210B2F7028A9ADE87D82</td>\n      <td>db6c0c9569c8e832e8dc0ac5246a7a3d</td>\n    </tr>\n  </tbody>\n</table>\n<p>1962 rows × 14 columns</p>\n</div>"
     },
     "metadata": {},
     "execution_count": 5
    }
   ],
   "source": [
    "df19 = clean_19()\n",
    "df19"
   ]
  },
  {
   "cell_type": "code",
   "execution_count": 6,
   "metadata": {},
   "outputs": [
    {
     "output_type": "execute_result",
     "data": {
      "text/plain": [
       "   department_code                           department_desc\n",
       "0          5010001          police department-administration\n",
       "1          5013601                               brave grant\n",
       "2          5013701               byrne crim jus innov (bcji)\n",
       "3          5020001   police department-uniform patrol bureau\n",
       "4          5050001   police department-operation serv bureau\n",
       "5          5050011          police department-communications\n",
       "6          5050021      police department-special operations\n",
       "7          5060001  police department-criminal invest bureau"
      ],
      "text/html": "<div>\n<style scoped>\n    .dataframe tbody tr th:only-of-type {\n        vertical-align: middle;\n    }\n\n    .dataframe tbody tr th {\n        vertical-align: top;\n    }\n\n    .dataframe thead th {\n        text-align: right;\n    }\n</style>\n<table border=\"1\" class=\"dataframe\">\n  <thead>\n    <tr style=\"text-align: right;\">\n      <th></th>\n      <th>department_code</th>\n      <th>department_desc</th>\n    </tr>\n  </thead>\n  <tbody>\n    <tr>\n      <th>0</th>\n      <td>5010001</td>\n      <td>police department-administration</td>\n    </tr>\n    <tr>\n      <th>1</th>\n      <td>5013601</td>\n      <td>brave grant</td>\n    </tr>\n    <tr>\n      <th>2</th>\n      <td>5013701</td>\n      <td>byrne crim jus innov (bcji)</td>\n    </tr>\n    <tr>\n      <th>3</th>\n      <td>5020001</td>\n      <td>police department-uniform patrol bureau</td>\n    </tr>\n    <tr>\n      <th>4</th>\n      <td>5050001</td>\n      <td>police department-operation serv bureau</td>\n    </tr>\n    <tr>\n      <th>5</th>\n      <td>5050011</td>\n      <td>police department-communications</td>\n    </tr>\n    <tr>\n      <th>6</th>\n      <td>5050021</td>\n      <td>police department-special operations</td>\n    </tr>\n    <tr>\n      <th>7</th>\n      <td>5060001</td>\n      <td>police department-criminal invest bureau</td>\n    </tr>\n  </tbody>\n</table>\n</div>"
     },
     "metadata": {},
     "execution_count": 6
    }
   ],
   "source": [
    "df17[[\"department_code\", \"department_desc\"]].drop_duplicates().sort_values(\"department_code\").reset_index(drop=True)"
   ]
  },
  {
   "cell_type": "code",
   "execution_count": 7,
   "metadata": {},
   "outputs": [
    {
     "output_type": "execute_result",
     "data": {
      "text/plain": [
       "   department_code                 department_desc\n",
       "0             5010           police-administration\n",
       "1             5020    police-uniform patrol bureau\n",
       "2             5040  police-operational serv bureau\n",
       "3             5050           police-communications\n",
       "4             5060       police-special operations\n",
       "5             5070   police-criminal investigation"
      ],
      "text/html": "<div>\n<style scoped>\n    .dataframe tbody tr th:only-of-type {\n        vertical-align: middle;\n    }\n\n    .dataframe tbody tr th {\n        vertical-align: top;\n    }\n\n    .dataframe thead th {\n        text-align: right;\n    }\n</style>\n<table border=\"1\" class=\"dataframe\">\n  <thead>\n    <tr style=\"text-align: right;\">\n      <th></th>\n      <th>department_code</th>\n      <th>department_desc</th>\n    </tr>\n  </thead>\n  <tbody>\n    <tr>\n      <th>0</th>\n      <td>5010</td>\n      <td>police-administration</td>\n    </tr>\n    <tr>\n      <th>1</th>\n      <td>5020</td>\n      <td>police-uniform patrol bureau</td>\n    </tr>\n    <tr>\n      <th>2</th>\n      <td>5040</td>\n      <td>police-operational serv bureau</td>\n    </tr>\n    <tr>\n      <th>3</th>\n      <td>5050</td>\n      <td>police-communications</td>\n    </tr>\n    <tr>\n      <th>4</th>\n      <td>5060</td>\n      <td>police-special operations</td>\n    </tr>\n    <tr>\n      <th>5</th>\n      <td>5070</td>\n      <td>police-criminal investigation</td>\n    </tr>\n  </tbody>\n</table>\n</div>"
     },
     "metadata": {},
     "execution_count": 7
    }
   ],
   "source": [
    "df19[[\"department_code\", \"department_desc\"]].drop_duplicates().sort_values(\"department_code\").reset_index(drop=True)"
   ]
  },
  {
   "cell_type": "code",
   "execution_count": 8,
   "metadata": {},
   "outputs": [
    {
     "output_type": "execute_result",
     "data": {
      "text/plain": [
       "    rank_code                  rank_desc\n",
       "18       5129  police forensic scientist\n",
       "46     114230  police forensic scientist"
      ],
      "text/html": "<div>\n<style scoped>\n    .dataframe tbody tr th:only-of-type {\n        vertical-align: middle;\n    }\n\n    .dataframe tbody tr th {\n        vertical-align: top;\n    }\n\n    .dataframe thead th {\n        text-align: right;\n    }\n</style>\n<table border=\"1\" class=\"dataframe\">\n  <thead>\n    <tr style=\"text-align: right;\">\n      <th></th>\n      <th>rank_code</th>\n      <th>rank_desc</th>\n    </tr>\n  </thead>\n  <tbody>\n    <tr>\n      <th>18</th>\n      <td>5129</td>\n      <td>police forensic scientist</td>\n    </tr>\n    <tr>\n      <th>46</th>\n      <td>114230</td>\n      <td>police forensic scientist</td>\n    </tr>\n  </tbody>\n</table>\n</div>"
     },
     "metadata": {},
     "execution_count": 8
    }
   ],
   "source": [
    "ranks_17 = df17[[\"rank_code\", \"rank_desc\"]].drop_duplicates().sort_values(\"rank_code\").reset_index(drop=True)\n",
    "ranks_17[ranks_17.rank_desc.duplicated(keep=False)]"
   ]
  },
  {
   "cell_type": "code",
   "execution_count": 9,
   "metadata": {},
   "outputs": [
    {
     "output_type": "execute_result",
     "data": {
      "text/plain": [
       "    rank_code           rank_desc\n",
       "2        1484  crime statistician\n",
       "39       5227  crime statistician"
      ],
      "text/html": "<div>\n<style scoped>\n    .dataframe tbody tr th:only-of-type {\n        vertical-align: middle;\n    }\n\n    .dataframe tbody tr th {\n        vertical-align: top;\n    }\n\n    .dataframe thead th {\n        text-align: right;\n    }\n</style>\n<table border=\"1\" class=\"dataframe\">\n  <thead>\n    <tr style=\"text-align: right;\">\n      <th></th>\n      <th>rank_code</th>\n      <th>rank_desc</th>\n    </tr>\n  </thead>\n  <tbody>\n    <tr>\n      <th>2</th>\n      <td>1484</td>\n      <td>crime statistician</td>\n    </tr>\n    <tr>\n      <th>39</th>\n      <td>5227</td>\n      <td>crime statistician</td>\n    </tr>\n  </tbody>\n</table>\n</div>"
     },
     "metadata": {},
     "execution_count": 9
    }
   ],
   "source": [
    "ranks_19 = df19[[\"rank_code\", \"rank_desc\"]].drop_duplicates().sort_values(\"rank_code\").reset_index(drop=True)\n",
    "ranks_19[ranks_19.rank_desc.duplicated(keep=False)]"
   ]
  },
  {
   "cell_type": "code",
   "execution_count": null,
   "metadata": {},
   "outputs": [],
   "source": []
  }
 ]
}
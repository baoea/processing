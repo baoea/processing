{
 "metadata": {
  "language_info": {
   "codemirror_mode": {
    "name": "ipython",
    "version": 3
   },
   "file_extension": ".py",
   "mimetype": "text/x-python",
   "name": "python",
   "nbconvert_exporter": "python",
   "pygments_lexer": "ipython3",
   "version": "3.9.2"
  },
  "orig_nbformat": 2,
  "kernelspec": {
   "name": "python392jvsc74a57bd055d6dfa6f6295e03bf132df3e61c1565ff1c22b645ef82a5638b280b97b3597b",
   "display_name": "Python 3.9.2 64-bit ('base': virtualenvwrapper)"
  }
 },
 "nbformat": 4,
 "nbformat_minor": 2,
 "cells": [
  {
   "cell_type": "code",
   "execution_count": 1,
   "metadata": {},
   "outputs": [],
   "source": [
    "import sys; sys.path.append('../')\n",
    "import pandas as pd\n",
    "\n",
    "from clean.vivian_csd import clean"
   ]
  },
  {
   "cell_type": "code",
   "execution_count": 2,
   "metadata": {},
   "outputs": [
    {
     "output_type": "execute_result",
     "data": {
      "text/plain": [
       "     last_name first_name employment_status rank_year salary  \\\n",
       "0       nelson       ryan         full time              750   \n",
       "1         hart        j p         full time      2010    740   \n",
       "2        ellis    nichols         full time      2011    720   \n",
       "3       ashley     melvin         part time      2011   16.6   \n",
       "4    armington     jarvis         full time      2020  15.25   \n",
       "5     florence      louis         part time      2011  12.36   \n",
       "6      douglas  cleveland         part time            13.66   \n",
       "7        smith      kevin         part time             10.2   \n",
       "8        phill     jammie         part time               10   \n",
       "9     mccauley       josh         part time               10   \n",
       "10      rhoads     jeromy                                 11   \n",
       "11     crowson     connie         part time               11   \n",
       "12        fisk     colton         part time               10   \n",
       "13       ellis     ashley         full time               14   \n",
       "14       davis    devonta         part time               11   \n",
       "15      trenor       mark         part time               14   \n",
       "16    cummings     dameon         part time               11   \n",
       "17      thomas   jamarcus         part time               11   \n",
       "18  littlejohn     austin         part time                9   \n",
       "19       murff      bobby         part time                9   \n",
       "20       oneal   recarrus         part time               13   \n",
       "21    williams     warren         part time               11   \n",
       "22    stockman      kevin         part time               11   \n",
       "23    franklin     shakia         part time               11   \n",
       "24   brownings      peggy         part time               10   \n",
       "25   patterson   labrisha         part time                9   \n",
       "26       brock       marc         part time                9   \n",
       "27     jackson      djuan         part time                9   \n",
       "\n",
       "                rank_desc salary_freq hire_year hire_month hire_day  \\\n",
       "0         chief of police      weekly      2011          1        1   \n",
       "1            deputy chief      weekly      2010         11       24   \n",
       "2          police captain      weekly      2007          7       11   \n",
       "3              lieutenant      hourly      2008          7       17   \n",
       "4              lieutenant      hourly      2018          5        7   \n",
       "5                 captain      hourly      2011         11        1   \n",
       "6          police officer      hourly      2009          1        7   \n",
       "7          police officer      hourly      2009          7       23   \n",
       "8          police officer      hourly      2011          3       14   \n",
       "9          police officer      hourly      2013          6       10   \n",
       "10         police officer      hourly      2014          4       15   \n",
       "11         police officer      hourly      2016          3       24   \n",
       "12         police officer      hourly      2017          7       11   \n",
       "13         police officer      hourly      2018          7       10   \n",
       "14  supervisor dispatcher      hourly      2018          9       10   \n",
       "15         police officer      hourly      2018          7       10   \n",
       "16         police officer      hourly      2019          7        1   \n",
       "17         police officer      hourly      2020          3        4   \n",
       "18         police officer      hourly      2020          3        4   \n",
       "19         police officer      hourly      2020          3        4   \n",
       "20         police officer      hourly      2020         11       12   \n",
       "21         police officer      hourly      2020         12       16   \n",
       "22         police officer      hourly      2020         12        7   \n",
       "23         police officer      hourly      2020         12        7   \n",
       "24         police officer      hourly      2004          3       17   \n",
       "25             dispatcher      hourly      2018          7       10   \n",
       "26             dispatcher      hourly      2019          1        9   \n",
       "27             dispatcher      hourly      2020          3        4   \n",
       "\n",
       "       agency  data_production_year                               uid  \n",
       "0   Vivian PD                  2021  e8cc89784e3bde30c2d883a1dd0ed5d4  \n",
       "1   Vivian PD                  2021  73949735c4f99e4adff0106c9ddc587d  \n",
       "2   Vivian PD                  2021  388452512f9a2f01b9e00688d71146c3  \n",
       "3   Vivian PD                  2021  4110abb5168db611e297527970f936ec  \n",
       "4   Vivian PD                  2021  ca900d067c347248f49f03670228d70a  \n",
       "5   Vivian PD                  2021  8ede8b13cae341c8fad5584c572a3325  \n",
       "6   Vivian PD                  2021  f7dcb267b0b13d8a113913a14b0f8900  \n",
       "7   Vivian PD                  2021  88c7a0470461f9d550876b0978c6ee53  \n",
       "8   Vivian PD                  2021  9916e06cbae9010565f6c5d895b3d1d1  \n",
       "9   Vivian PD                  2021  6b9c072f8ee1e1ee3e0ef12ae81dcb0b  \n",
       "10  Vivian PD                  2021  0a22be1780a3ab917cd5c21985f7f792  \n",
       "11  Vivian PD                  2021  549296ddaeb53c44f4de40a73e1f229e  \n",
       "12  Vivian PD                  2021  b42722ee3961ebc294052eef6841b06c  \n",
       "13  Vivian PD                  2021  e43f72d46e518e8a88e6c2085585a49b  \n",
       "14  Vivian PD                  2021  713e4e87f8deae913e899eb01edd5a7f  \n",
       "15  Vivian PD                  2021  0bc757c9a1d5350ae2944d35c730401e  \n",
       "16  Vivian PD                  2021  4054d8948fece9d5e6ac72141b17189d  \n",
       "17  Vivian PD                  2021  a303e56bf53873585d56efa76364e6e9  \n",
       "18  Vivian PD                  2021  0e00ff2f940b3721190bb05ba4eacb8a  \n",
       "19  Vivian PD                  2021  b3ac82a132034fa65ab40bce08a157df  \n",
       "20  Vivian PD                  2021  03cd035540b673f6b870448c884eb57d  \n",
       "21  Vivian PD                  2021  ad91b9e8d1ad1c36e85c8afc933e2851  \n",
       "22  Vivian PD                  2021  82e08abff4378fffc4e8ab14fe5c4f39  \n",
       "23  Vivian PD                  2021  779a8a8f85032f874fce88906094818f  \n",
       "24  Vivian PD                  2021  aa36bf2a64fe2c24c3b36e0d8b566828  \n",
       "25  Vivian PD                  2021  b0ce564100376bd26a685f57ef15a501  \n",
       "26  Vivian PD                  2021  bb7c6bd64a4235ec53203a29a96fcb87  \n",
       "27  Vivian PD                  2021  cd0af81187a9f7ba41176a71625cbd6d  "
      ],
      "text/html": "<div>\n<style scoped>\n    .dataframe tbody tr th:only-of-type {\n        vertical-align: middle;\n    }\n\n    .dataframe tbody tr th {\n        vertical-align: top;\n    }\n\n    .dataframe thead th {\n        text-align: right;\n    }\n</style>\n<table border=\"1\" class=\"dataframe\">\n  <thead>\n    <tr style=\"text-align: right;\">\n      <th></th>\n      <th>last_name</th>\n      <th>first_name</th>\n      <th>employment_status</th>\n      <th>rank_year</th>\n      <th>salary</th>\n      <th>rank_desc</th>\n      <th>salary_freq</th>\n      <th>hire_year</th>\n      <th>hire_month</th>\n      <th>hire_day</th>\n      <th>agency</th>\n      <th>data_production_year</th>\n      <th>uid</th>\n    </tr>\n  </thead>\n  <tbody>\n    <tr>\n      <th>0</th>\n      <td>nelson</td>\n      <td>ryan</td>\n      <td>full time</td>\n      <td></td>\n      <td>750</td>\n      <td>chief of police</td>\n      <td>weekly</td>\n      <td>2011</td>\n      <td>1</td>\n      <td>1</td>\n      <td>Vivian PD</td>\n      <td>2021</td>\n      <td>e8cc89784e3bde30c2d883a1dd0ed5d4</td>\n    </tr>\n    <tr>\n      <th>1</th>\n      <td>hart</td>\n      <td>j p</td>\n      <td>full time</td>\n      <td>2010</td>\n      <td>740</td>\n      <td>deputy chief</td>\n      <td>weekly</td>\n      <td>2010</td>\n      <td>11</td>\n      <td>24</td>\n      <td>Vivian PD</td>\n      <td>2021</td>\n      <td>73949735c4f99e4adff0106c9ddc587d</td>\n    </tr>\n    <tr>\n      <th>2</th>\n      <td>ellis</td>\n      <td>nichols</td>\n      <td>full time</td>\n      <td>2011</td>\n      <td>720</td>\n      <td>police captain</td>\n      <td>weekly</td>\n      <td>2007</td>\n      <td>7</td>\n      <td>11</td>\n      <td>Vivian PD</td>\n      <td>2021</td>\n      <td>388452512f9a2f01b9e00688d71146c3</td>\n    </tr>\n    <tr>\n      <th>3</th>\n      <td>ashley</td>\n      <td>melvin</td>\n      <td>part time</td>\n      <td>2011</td>\n      <td>16.6</td>\n      <td>lieutenant</td>\n      <td>hourly</td>\n      <td>2008</td>\n      <td>7</td>\n      <td>17</td>\n      <td>Vivian PD</td>\n      <td>2021</td>\n      <td>4110abb5168db611e297527970f936ec</td>\n    </tr>\n    <tr>\n      <th>4</th>\n      <td>armington</td>\n      <td>jarvis</td>\n      <td>full time</td>\n      <td>2020</td>\n      <td>15.25</td>\n      <td>lieutenant</td>\n      <td>hourly</td>\n      <td>2018</td>\n      <td>5</td>\n      <td>7</td>\n      <td>Vivian PD</td>\n      <td>2021</td>\n      <td>ca900d067c347248f49f03670228d70a</td>\n    </tr>\n    <tr>\n      <th>5</th>\n      <td>florence</td>\n      <td>louis</td>\n      <td>part time</td>\n      <td>2011</td>\n      <td>12.36</td>\n      <td>captain</td>\n      <td>hourly</td>\n      <td>2011</td>\n      <td>11</td>\n      <td>1</td>\n      <td>Vivian PD</td>\n      <td>2021</td>\n      <td>8ede8b13cae341c8fad5584c572a3325</td>\n    </tr>\n    <tr>\n      <th>6</th>\n      <td>douglas</td>\n      <td>cleveland</td>\n      <td>part time</td>\n      <td></td>\n      <td>13.66</td>\n      <td>police officer</td>\n      <td>hourly</td>\n      <td>2009</td>\n      <td>1</td>\n      <td>7</td>\n      <td>Vivian PD</td>\n      <td>2021</td>\n      <td>f7dcb267b0b13d8a113913a14b0f8900</td>\n    </tr>\n    <tr>\n      <th>7</th>\n      <td>smith</td>\n      <td>kevin</td>\n      <td>part time</td>\n      <td></td>\n      <td>10.2</td>\n      <td>police officer</td>\n      <td>hourly</td>\n      <td>2009</td>\n      <td>7</td>\n      <td>23</td>\n      <td>Vivian PD</td>\n      <td>2021</td>\n      <td>88c7a0470461f9d550876b0978c6ee53</td>\n    </tr>\n    <tr>\n      <th>8</th>\n      <td>phill</td>\n      <td>jammie</td>\n      <td>part time</td>\n      <td></td>\n      <td>10</td>\n      <td>police officer</td>\n      <td>hourly</td>\n      <td>2011</td>\n      <td>3</td>\n      <td>14</td>\n      <td>Vivian PD</td>\n      <td>2021</td>\n      <td>9916e06cbae9010565f6c5d895b3d1d1</td>\n    </tr>\n    <tr>\n      <th>9</th>\n      <td>mccauley</td>\n      <td>josh</td>\n      <td>part time</td>\n      <td></td>\n      <td>10</td>\n      <td>police officer</td>\n      <td>hourly</td>\n      <td>2013</td>\n      <td>6</td>\n      <td>10</td>\n      <td>Vivian PD</td>\n      <td>2021</td>\n      <td>6b9c072f8ee1e1ee3e0ef12ae81dcb0b</td>\n    </tr>\n    <tr>\n      <th>10</th>\n      <td>rhoads</td>\n      <td>jeromy</td>\n      <td></td>\n      <td></td>\n      <td>11</td>\n      <td>police officer</td>\n      <td>hourly</td>\n      <td>2014</td>\n      <td>4</td>\n      <td>15</td>\n      <td>Vivian PD</td>\n      <td>2021</td>\n      <td>0a22be1780a3ab917cd5c21985f7f792</td>\n    </tr>\n    <tr>\n      <th>11</th>\n      <td>crowson</td>\n      <td>connie</td>\n      <td>part time</td>\n      <td></td>\n      <td>11</td>\n      <td>police officer</td>\n      <td>hourly</td>\n      <td>2016</td>\n      <td>3</td>\n      <td>24</td>\n      <td>Vivian PD</td>\n      <td>2021</td>\n      <td>549296ddaeb53c44f4de40a73e1f229e</td>\n    </tr>\n    <tr>\n      <th>12</th>\n      <td>fisk</td>\n      <td>colton</td>\n      <td>part time</td>\n      <td></td>\n      <td>10</td>\n      <td>police officer</td>\n      <td>hourly</td>\n      <td>2017</td>\n      <td>7</td>\n      <td>11</td>\n      <td>Vivian PD</td>\n      <td>2021</td>\n      <td>b42722ee3961ebc294052eef6841b06c</td>\n    </tr>\n    <tr>\n      <th>13</th>\n      <td>ellis</td>\n      <td>ashley</td>\n      <td>full time</td>\n      <td></td>\n      <td>14</td>\n      <td>police officer</td>\n      <td>hourly</td>\n      <td>2018</td>\n      <td>7</td>\n      <td>10</td>\n      <td>Vivian PD</td>\n      <td>2021</td>\n      <td>e43f72d46e518e8a88e6c2085585a49b</td>\n    </tr>\n    <tr>\n      <th>14</th>\n      <td>davis</td>\n      <td>devonta</td>\n      <td>part time</td>\n      <td></td>\n      <td>11</td>\n      <td>supervisor dispatcher</td>\n      <td>hourly</td>\n      <td>2018</td>\n      <td>9</td>\n      <td>10</td>\n      <td>Vivian PD</td>\n      <td>2021</td>\n      <td>713e4e87f8deae913e899eb01edd5a7f</td>\n    </tr>\n    <tr>\n      <th>15</th>\n      <td>trenor</td>\n      <td>mark</td>\n      <td>part time</td>\n      <td></td>\n      <td>14</td>\n      <td>police officer</td>\n      <td>hourly</td>\n      <td>2018</td>\n      <td>7</td>\n      <td>10</td>\n      <td>Vivian PD</td>\n      <td>2021</td>\n      <td>0bc757c9a1d5350ae2944d35c730401e</td>\n    </tr>\n    <tr>\n      <th>16</th>\n      <td>cummings</td>\n      <td>dameon</td>\n      <td>part time</td>\n      <td></td>\n      <td>11</td>\n      <td>police officer</td>\n      <td>hourly</td>\n      <td>2019</td>\n      <td>7</td>\n      <td>1</td>\n      <td>Vivian PD</td>\n      <td>2021</td>\n      <td>4054d8948fece9d5e6ac72141b17189d</td>\n    </tr>\n    <tr>\n      <th>17</th>\n      <td>thomas</td>\n      <td>jamarcus</td>\n      <td>part time</td>\n      <td></td>\n      <td>11</td>\n      <td>police officer</td>\n      <td>hourly</td>\n      <td>2020</td>\n      <td>3</td>\n      <td>4</td>\n      <td>Vivian PD</td>\n      <td>2021</td>\n      <td>a303e56bf53873585d56efa76364e6e9</td>\n    </tr>\n    <tr>\n      <th>18</th>\n      <td>littlejohn</td>\n      <td>austin</td>\n      <td>part time</td>\n      <td></td>\n      <td>9</td>\n      <td>police officer</td>\n      <td>hourly</td>\n      <td>2020</td>\n      <td>3</td>\n      <td>4</td>\n      <td>Vivian PD</td>\n      <td>2021</td>\n      <td>0e00ff2f940b3721190bb05ba4eacb8a</td>\n    </tr>\n    <tr>\n      <th>19</th>\n      <td>murff</td>\n      <td>bobby</td>\n      <td>part time</td>\n      <td></td>\n      <td>9</td>\n      <td>police officer</td>\n      <td>hourly</td>\n      <td>2020</td>\n      <td>3</td>\n      <td>4</td>\n      <td>Vivian PD</td>\n      <td>2021</td>\n      <td>b3ac82a132034fa65ab40bce08a157df</td>\n    </tr>\n    <tr>\n      <th>20</th>\n      <td>oneal</td>\n      <td>recarrus</td>\n      <td>part time</td>\n      <td></td>\n      <td>13</td>\n      <td>police officer</td>\n      <td>hourly</td>\n      <td>2020</td>\n      <td>11</td>\n      <td>12</td>\n      <td>Vivian PD</td>\n      <td>2021</td>\n      <td>03cd035540b673f6b870448c884eb57d</td>\n    </tr>\n    <tr>\n      <th>21</th>\n      <td>williams</td>\n      <td>warren</td>\n      <td>part time</td>\n      <td></td>\n      <td>11</td>\n      <td>police officer</td>\n      <td>hourly</td>\n      <td>2020</td>\n      <td>12</td>\n      <td>16</td>\n      <td>Vivian PD</td>\n      <td>2021</td>\n      <td>ad91b9e8d1ad1c36e85c8afc933e2851</td>\n    </tr>\n    <tr>\n      <th>22</th>\n      <td>stockman</td>\n      <td>kevin</td>\n      <td>part time</td>\n      <td></td>\n      <td>11</td>\n      <td>police officer</td>\n      <td>hourly</td>\n      <td>2020</td>\n      <td>12</td>\n      <td>7</td>\n      <td>Vivian PD</td>\n      <td>2021</td>\n      <td>82e08abff4378fffc4e8ab14fe5c4f39</td>\n    </tr>\n    <tr>\n      <th>23</th>\n      <td>franklin</td>\n      <td>shakia</td>\n      <td>part time</td>\n      <td></td>\n      <td>11</td>\n      <td>police officer</td>\n      <td>hourly</td>\n      <td>2020</td>\n      <td>12</td>\n      <td>7</td>\n      <td>Vivian PD</td>\n      <td>2021</td>\n      <td>779a8a8f85032f874fce88906094818f</td>\n    </tr>\n    <tr>\n      <th>24</th>\n      <td>brownings</td>\n      <td>peggy</td>\n      <td>part time</td>\n      <td></td>\n      <td>10</td>\n      <td>police officer</td>\n      <td>hourly</td>\n      <td>2004</td>\n      <td>3</td>\n      <td>17</td>\n      <td>Vivian PD</td>\n      <td>2021</td>\n      <td>aa36bf2a64fe2c24c3b36e0d8b566828</td>\n    </tr>\n    <tr>\n      <th>25</th>\n      <td>patterson</td>\n      <td>labrisha</td>\n      <td>part time</td>\n      <td></td>\n      <td>9</td>\n      <td>dispatcher</td>\n      <td>hourly</td>\n      <td>2018</td>\n      <td>7</td>\n      <td>10</td>\n      <td>Vivian PD</td>\n      <td>2021</td>\n      <td>b0ce564100376bd26a685f57ef15a501</td>\n    </tr>\n    <tr>\n      <th>26</th>\n      <td>brock</td>\n      <td>marc</td>\n      <td>part time</td>\n      <td></td>\n      <td>9</td>\n      <td>dispatcher</td>\n      <td>hourly</td>\n      <td>2019</td>\n      <td>1</td>\n      <td>9</td>\n      <td>Vivian PD</td>\n      <td>2021</td>\n      <td>bb7c6bd64a4235ec53203a29a96fcb87</td>\n    </tr>\n    <tr>\n      <th>27</th>\n      <td>jackson</td>\n      <td>djuan</td>\n      <td>part time</td>\n      <td></td>\n      <td>9</td>\n      <td>dispatcher</td>\n      <td>hourly</td>\n      <td>2020</td>\n      <td>3</td>\n      <td>4</td>\n      <td>Vivian PD</td>\n      <td>2021</td>\n      <td>cd0af81187a9f7ba41176a71625cbd6d</td>\n    </tr>\n  </tbody>\n</table>\n</div>"
     },
     "metadata": {},
     "execution_count": 2
    }
   ],
   "source": [
    "df = clean()\n",
    "df"
   ]
  },
  {
   "cell_type": "code",
   "execution_count": null,
   "metadata": {},
   "outputs": [],
   "source": []
  }
 ]
}
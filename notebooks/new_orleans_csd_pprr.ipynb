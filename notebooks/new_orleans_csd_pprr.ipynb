{
 "cells": [
  {
   "cell_type": "code",
   "execution_count": 1,
   "metadata": {},
   "outputs": [],
   "source": [
    "import sys; sys.path.insert(0, \"../\")\n",
    "import pandas as pd\n",
    "import numpy as np\n",
    "\n",
    "from clean.new_orleans_csd_pprr import clean_2014, clean_2009\n",
    "from lib.explore import show_unique"
   ]
  },
  {
   "cell_type": "code",
   "execution_count": 2,
   "metadata": {},
   "outputs": [
    {
     "output_type": "execute_result",
     "data": {
      "text/plain": [
       "                    department_desc     last_name first_name birth_date  \\\n",
       "0     POL MANAGEMNT SERVICES BUREAU         moore  charmaine 1901-01-01   \n",
       "1     POL MANAGEMNT SERVICES BUREAU         coxen     shanna 1972-10-05   \n",
       "2     POL SPECIAL INVESTIGATION DIV  cavaliere sr     morris 1947-07-21   \n",
       "3                POL FIRST DISTRICT       fonseca    norbert 1943-08-31   \n",
       "4               POL FIFTH  DISTRICT       hartman     steven 1964-03-11   \n",
       "...                             ...           ...        ...        ...   \n",
       "3681  POL MANAGEMNT SERVICES BUREAU       johnson      shawn 1990-06-23   \n",
       "3682            POL SIXTH  DISTRICT       linehan      henry 1982-08-18   \n",
       "3683             POL FIRST DISTRICT      finneman      david 1960-12-20   \n",
       "3684  POL MANAGEMNT SERVICES BUREAU          badr    mohamed 1980-10-06   \n",
       "3685  POL MANAGEMNT SERVICES BUREAU       patrick      carol 1974-10-23   \n",
       "\n",
       "      hire_date rank_code                rank_desc  term_date  \\\n",
       "0    1996-02-08     C0025      clerical specialist 1996-08-28   \n",
       "1    1996-09-22     C5201  laboratory technician 1 1997-01-01   \n",
       "2    1970-12-21     C7134         police officer 4 1997-01-04   \n",
       "3    1967-08-21     C7112        police lieutenant 1997-01-04   \n",
       "4    1985-02-10     C7112        police lieutenant 1997-01-04   \n",
       "...         ...       ...                      ...        ...   \n",
       "3681 2014-08-17     C7105              police aide 2014-12-10   \n",
       "3682 2009-12-27     C7110         police officer 1 2014-12-11   \n",
       "3683 2001-09-16     C7111          police sergeant 2014-12-13   \n",
       "3684 2014-08-31     C7105              police aide 2014-12-20   \n",
       "3685 2014-08-17     C7105              police aide 2014-12-30   \n",
       "\n",
       "     pay_prog_start_date  annual_salary data_production_year           agency  \n",
       "0             1996-08-28       11235.83                 2014  New Orleans CSD  \n",
       "1             1997-01-01       14951.72                 2014  New Orleans CSD  \n",
       "2             1997-01-04       29243.06                 2014  New Orleans CSD  \n",
       "3             1997-01-04       39893.17                 2014  New Orleans CSD  \n",
       "4             1997-01-04       33524.95                 2014  New Orleans CSD  \n",
       "...                  ...            ...                  ...              ...  \n",
       "3681          2014-08-17       28882.03                 2014  New Orleans CSD  \n",
       "3682          2011-03-13       37490.69                 2014  New Orleans CSD  \n",
       "3683          2013-01-30       50513.12                 2014  New Orleans CSD  \n",
       "3684          2014-08-31       28882.03                 2014  New Orleans CSD  \n",
       "3685          2014-08-17       28882.03                 2014  New Orleans CSD  \n",
       "\n",
       "[3686 rows x 12 columns]"
      ],
      "text/html": "<div>\n<style scoped>\n    .dataframe tbody tr th:only-of-type {\n        vertical-align: middle;\n    }\n\n    .dataframe tbody tr th {\n        vertical-align: top;\n    }\n\n    .dataframe thead th {\n        text-align: right;\n    }\n</style>\n<table border=\"1\" class=\"dataframe\">\n  <thead>\n    <tr style=\"text-align: right;\">\n      <th></th>\n      <th>department_desc</th>\n      <th>last_name</th>\n      <th>first_name</th>\n      <th>birth_date</th>\n      <th>hire_date</th>\n      <th>rank_code</th>\n      <th>rank_desc</th>\n      <th>term_date</th>\n      <th>pay_prog_start_date</th>\n      <th>annual_salary</th>\n      <th>data_production_year</th>\n      <th>agency</th>\n    </tr>\n  </thead>\n  <tbody>\n    <tr>\n      <th>0</th>\n      <td>POL MANAGEMNT SERVICES BUREAU</td>\n      <td>moore</td>\n      <td>charmaine</td>\n      <td>1901-01-01</td>\n      <td>1996-02-08</td>\n      <td>C0025</td>\n      <td>clerical specialist</td>\n      <td>1996-08-28</td>\n      <td>1996-08-28</td>\n      <td>11235.83</td>\n      <td>2014</td>\n      <td>New Orleans CSD</td>\n    </tr>\n    <tr>\n      <th>1</th>\n      <td>POL MANAGEMNT SERVICES BUREAU</td>\n      <td>coxen</td>\n      <td>shanna</td>\n      <td>1972-10-05</td>\n      <td>1996-09-22</td>\n      <td>C5201</td>\n      <td>laboratory technician 1</td>\n      <td>1997-01-01</td>\n      <td>1997-01-01</td>\n      <td>14951.72</td>\n      <td>2014</td>\n      <td>New Orleans CSD</td>\n    </tr>\n    <tr>\n      <th>2</th>\n      <td>POL SPECIAL INVESTIGATION DIV</td>\n      <td>cavaliere sr</td>\n      <td>morris</td>\n      <td>1947-07-21</td>\n      <td>1970-12-21</td>\n      <td>C7134</td>\n      <td>police officer 4</td>\n      <td>1997-01-04</td>\n      <td>1997-01-04</td>\n      <td>29243.06</td>\n      <td>2014</td>\n      <td>New Orleans CSD</td>\n    </tr>\n    <tr>\n      <th>3</th>\n      <td>POL FIRST DISTRICT</td>\n      <td>fonseca</td>\n      <td>norbert</td>\n      <td>1943-08-31</td>\n      <td>1967-08-21</td>\n      <td>C7112</td>\n      <td>police lieutenant</td>\n      <td>1997-01-04</td>\n      <td>1997-01-04</td>\n      <td>39893.17</td>\n      <td>2014</td>\n      <td>New Orleans CSD</td>\n    </tr>\n    <tr>\n      <th>4</th>\n      <td>POL FIFTH  DISTRICT</td>\n      <td>hartman</td>\n      <td>steven</td>\n      <td>1964-03-11</td>\n      <td>1985-02-10</td>\n      <td>C7112</td>\n      <td>police lieutenant</td>\n      <td>1997-01-04</td>\n      <td>1997-01-04</td>\n      <td>33524.95</td>\n      <td>2014</td>\n      <td>New Orleans CSD</td>\n    </tr>\n    <tr>\n      <th>...</th>\n      <td>...</td>\n      <td>...</td>\n      <td>...</td>\n      <td>...</td>\n      <td>...</td>\n      <td>...</td>\n      <td>...</td>\n      <td>...</td>\n      <td>...</td>\n      <td>...</td>\n      <td>...</td>\n      <td>...</td>\n    </tr>\n    <tr>\n      <th>3681</th>\n      <td>POL MANAGEMNT SERVICES BUREAU</td>\n      <td>johnson</td>\n      <td>shawn</td>\n      <td>1990-06-23</td>\n      <td>2014-08-17</td>\n      <td>C7105</td>\n      <td>police aide</td>\n      <td>2014-12-10</td>\n      <td>2014-08-17</td>\n      <td>28882.03</td>\n      <td>2014</td>\n      <td>New Orleans CSD</td>\n    </tr>\n    <tr>\n      <th>3682</th>\n      <td>POL SIXTH  DISTRICT</td>\n      <td>linehan</td>\n      <td>henry</td>\n      <td>1982-08-18</td>\n      <td>2009-12-27</td>\n      <td>C7110</td>\n      <td>police officer 1</td>\n      <td>2014-12-11</td>\n      <td>2011-03-13</td>\n      <td>37490.69</td>\n      <td>2014</td>\n      <td>New Orleans CSD</td>\n    </tr>\n    <tr>\n      <th>3683</th>\n      <td>POL FIRST DISTRICT</td>\n      <td>finneman</td>\n      <td>david</td>\n      <td>1960-12-20</td>\n      <td>2001-09-16</td>\n      <td>C7111</td>\n      <td>police sergeant</td>\n      <td>2014-12-13</td>\n      <td>2013-01-30</td>\n      <td>50513.12</td>\n      <td>2014</td>\n      <td>New Orleans CSD</td>\n    </tr>\n    <tr>\n      <th>3684</th>\n      <td>POL MANAGEMNT SERVICES BUREAU</td>\n      <td>badr</td>\n      <td>mohamed</td>\n      <td>1980-10-06</td>\n      <td>2014-08-31</td>\n      <td>C7105</td>\n      <td>police aide</td>\n      <td>2014-12-20</td>\n      <td>2014-08-31</td>\n      <td>28882.03</td>\n      <td>2014</td>\n      <td>New Orleans CSD</td>\n    </tr>\n    <tr>\n      <th>3685</th>\n      <td>POL MANAGEMNT SERVICES BUREAU</td>\n      <td>patrick</td>\n      <td>carol</td>\n      <td>1974-10-23</td>\n      <td>2014-08-17</td>\n      <td>C7105</td>\n      <td>police aide</td>\n      <td>2014-12-30</td>\n      <td>2014-08-17</td>\n      <td>28882.03</td>\n      <td>2014</td>\n      <td>New Orleans CSD</td>\n    </tr>\n  </tbody>\n</table>\n<p>3686 rows × 12 columns</p>\n</div>"
     },
     "metadata": {},
     "execution_count": 2
    }
   ],
   "source": [
    "df14 = clean_2014()\n",
    "df14"
   ]
  },
  {
   "cell_type": "code",
   "execution_count": 3,
   "metadata": {},
   "outputs": [
    {
     "output_type": "execute_result",
     "data": {
      "text/plain": [
       "                department_desc    last_name   first_name rank_code  \\\n",
       "0             FISCAL MANAGEMENT       abbott  christopher     C7134   \n",
       "1                       TRAFFIC       abbott        david     C7134   \n",
       "2               POLICE RECRUITS        abram      shelton     C7109   \n",
       "3             FISCAL MANAGEMENT        adams        james     C7133   \n",
       "4              PUBLIC INTEGRITY        adams        bruce     U0018   \n",
       "...                         ...          ...          ...       ...   \n",
       "1976            POLICE RECRUITS        yount      jeffrey     C7109   \n",
       "1977  TECHNICIAL SERVICES BUREA     zaldivar         sara     C7101   \n",
       "1978            SIXTH  DISTRICT       zapico       daniel     C7110   \n",
       "1979            THIRD  DISTRICT       zoller          ron     C7134   \n",
       "1980           PUBLIC INTEGRITY  zschiedrich       walter     C7111   \n",
       "\n",
       "                      rank_desc  term_date pay_prog_start_date  annual_salary  \\\n",
       "0              police officer 4        NaT          1992-02-09     46885.0056   \n",
       "1              police officer 4        NaT          1987-11-01     48064.4565   \n",
       "2        police recruit academy        NaT          2009-09-06     34797.9137   \n",
       "3              police officer 3 2009-08-30          1987-09-06     45734.4971   \n",
       "4      assistant supt of police        NaT          1975-10-16    106440.2966   \n",
       "...                         ...        ...                 ...            ...   \n",
       "1976     police recruit academy        NaT                 NaT     34797.9137   \n",
       "1977  police complaint operator        NaT                 NaT     25508.0588   \n",
       "1978           police officer 1        NaT                 NaT     36570.7051   \n",
       "1979           police officer 4        NaT                 NaT     44612.2209   \n",
       "1980            police sergeant        NaT                 NaT     63170.5615   \n",
       "\n",
       "     data_production_year           agency  \n",
       "0                    2009  New Orleans CSD  \n",
       "1                    2009  New Orleans CSD  \n",
       "2                    2009  New Orleans CSD  \n",
       "3                    2009  New Orleans CSD  \n",
       "4                    2009  New Orleans CSD  \n",
       "...                   ...              ...  \n",
       "1976                 2009  New Orleans CSD  \n",
       "1977                 2009  New Orleans CSD  \n",
       "1978                 2009  New Orleans CSD  \n",
       "1979                 2009  New Orleans CSD  \n",
       "1980                 2009  New Orleans CSD  \n",
       "\n",
       "[1981 rows x 10 columns]"
      ],
      "text/html": "<div>\n<style scoped>\n    .dataframe tbody tr th:only-of-type {\n        vertical-align: middle;\n    }\n\n    .dataframe tbody tr th {\n        vertical-align: top;\n    }\n\n    .dataframe thead th {\n        text-align: right;\n    }\n</style>\n<table border=\"1\" class=\"dataframe\">\n  <thead>\n    <tr style=\"text-align: right;\">\n      <th></th>\n      <th>department_desc</th>\n      <th>last_name</th>\n      <th>first_name</th>\n      <th>rank_code</th>\n      <th>rank_desc</th>\n      <th>term_date</th>\n      <th>pay_prog_start_date</th>\n      <th>annual_salary</th>\n      <th>data_production_year</th>\n      <th>agency</th>\n    </tr>\n  </thead>\n  <tbody>\n    <tr>\n      <th>0</th>\n      <td>FISCAL MANAGEMENT</td>\n      <td>abbott</td>\n      <td>christopher</td>\n      <td>C7134</td>\n      <td>police officer 4</td>\n      <td>NaT</td>\n      <td>1992-02-09</td>\n      <td>46885.0056</td>\n      <td>2009</td>\n      <td>New Orleans CSD</td>\n    </tr>\n    <tr>\n      <th>1</th>\n      <td>TRAFFIC</td>\n      <td>abbott</td>\n      <td>david</td>\n      <td>C7134</td>\n      <td>police officer 4</td>\n      <td>NaT</td>\n      <td>1987-11-01</td>\n      <td>48064.4565</td>\n      <td>2009</td>\n      <td>New Orleans CSD</td>\n    </tr>\n    <tr>\n      <th>2</th>\n      <td>POLICE RECRUITS</td>\n      <td>abram</td>\n      <td>shelton</td>\n      <td>C7109</td>\n      <td>police recruit academy</td>\n      <td>NaT</td>\n      <td>2009-09-06</td>\n      <td>34797.9137</td>\n      <td>2009</td>\n      <td>New Orleans CSD</td>\n    </tr>\n    <tr>\n      <th>3</th>\n      <td>FISCAL MANAGEMENT</td>\n      <td>adams</td>\n      <td>james</td>\n      <td>C7133</td>\n      <td>police officer 3</td>\n      <td>2009-08-30</td>\n      <td>1987-09-06</td>\n      <td>45734.4971</td>\n      <td>2009</td>\n      <td>New Orleans CSD</td>\n    </tr>\n    <tr>\n      <th>4</th>\n      <td>PUBLIC INTEGRITY</td>\n      <td>adams</td>\n      <td>bruce</td>\n      <td>U0018</td>\n      <td>assistant supt of police</td>\n      <td>NaT</td>\n      <td>1975-10-16</td>\n      <td>106440.2966</td>\n      <td>2009</td>\n      <td>New Orleans CSD</td>\n    </tr>\n    <tr>\n      <th>...</th>\n      <td>...</td>\n      <td>...</td>\n      <td>...</td>\n      <td>...</td>\n      <td>...</td>\n      <td>...</td>\n      <td>...</td>\n      <td>...</td>\n      <td>...</td>\n      <td>...</td>\n    </tr>\n    <tr>\n      <th>1976</th>\n      <td>POLICE RECRUITS</td>\n      <td>yount</td>\n      <td>jeffrey</td>\n      <td>C7109</td>\n      <td>police recruit academy</td>\n      <td>NaT</td>\n      <td>NaT</td>\n      <td>34797.9137</td>\n      <td>2009</td>\n      <td>New Orleans CSD</td>\n    </tr>\n    <tr>\n      <th>1977</th>\n      <td>TECHNICIAL SERVICES BUREA</td>\n      <td>zaldivar</td>\n      <td>sara</td>\n      <td>C7101</td>\n      <td>police complaint operator</td>\n      <td>NaT</td>\n      <td>NaT</td>\n      <td>25508.0588</td>\n      <td>2009</td>\n      <td>New Orleans CSD</td>\n    </tr>\n    <tr>\n      <th>1978</th>\n      <td>SIXTH  DISTRICT</td>\n      <td>zapico</td>\n      <td>daniel</td>\n      <td>C7110</td>\n      <td>police officer 1</td>\n      <td>NaT</td>\n      <td>NaT</td>\n      <td>36570.7051</td>\n      <td>2009</td>\n      <td>New Orleans CSD</td>\n    </tr>\n    <tr>\n      <th>1979</th>\n      <td>THIRD  DISTRICT</td>\n      <td>zoller</td>\n      <td>ron</td>\n      <td>C7134</td>\n      <td>police officer 4</td>\n      <td>NaT</td>\n      <td>NaT</td>\n      <td>44612.2209</td>\n      <td>2009</td>\n      <td>New Orleans CSD</td>\n    </tr>\n    <tr>\n      <th>1980</th>\n      <td>PUBLIC INTEGRITY</td>\n      <td>zschiedrich</td>\n      <td>walter</td>\n      <td>C7111</td>\n      <td>police sergeant</td>\n      <td>NaT</td>\n      <td>NaT</td>\n      <td>63170.5615</td>\n      <td>2009</td>\n      <td>New Orleans CSD</td>\n    </tr>\n  </tbody>\n</table>\n<p>1981 rows × 10 columns</p>\n</div>"
     },
     "metadata": {},
     "execution_count": 3
    }
   ],
   "source": [
    "df09 = clean_2009()\n",
    "df09"
   ]
  },
  {
   "cell_type": "code",
   "execution_count": 17,
   "metadata": {},
   "outputs": [
    {
     "output_type": "execute_result",
     "data": {
      "text/plain": [
       "                department_desc    last_name   first_name rank_code  \\\n",
       "0             FISCAL MANAGEMENT       abbott  christopher     C7134   \n",
       "1                       TRAFFIC       abbott        david     C7134   \n",
       "2               POLICE RECRUITS        abram      shelton     C7109   \n",
       "3             FISCAL MANAGEMENT        adams        james     C7133   \n",
       "4              PUBLIC INTEGRITY        adams        bruce     U0018   \n",
       "...                         ...          ...          ...       ...   \n",
       "1976            POLICE RECRUITS        yount      jeffrey     C7109   \n",
       "1977  TECHNICIAL SERVICES BUREA     zaldivar         sara     C7101   \n",
       "1978            SIXTH  DISTRICT       zapico       daniel     C7110   \n",
       "1979            THIRD  DISTRICT       zoller          ron     C7134   \n",
       "1980           PUBLIC INTEGRITY  zschiedrich       walter     C7111   \n",
       "\n",
       "                      rank_desc  term_date pay_prog_start_date  annual_salary  \n",
       "0              police officer 4        NaT          1992-02-09     46885.0056  \n",
       "1              police officer 4        NaT          1987-11-01     48064.4565  \n",
       "2        police recruit academy        NaT          2009-09-06     34797.9137  \n",
       "3              police officer 3 2009-08-30          1987-09-06     45734.4971  \n",
       "4      assistant supt of police        NaT          1975-10-16    106440.2966  \n",
       "...                         ...        ...                 ...            ...  \n",
       "1976     police recruit academy        NaT                 NaT     34797.9137  \n",
       "1977  police complaint operator        NaT                 NaT     25508.0588  \n",
       "1978           police officer 1        NaT                 NaT     36570.7051  \n",
       "1979           police officer 4        NaT                 NaT     44612.2209  \n",
       "1980            police sergeant        NaT                 NaT     63170.5615  \n",
       "\n",
       "[1981 rows x 8 columns]"
      ],
      "text/html": "<div>\n<style scoped>\n    .dataframe tbody tr th:only-of-type {\n        vertical-align: middle;\n    }\n\n    .dataframe tbody tr th {\n        vertical-align: top;\n    }\n\n    .dataframe thead th {\n        text-align: right;\n    }\n</style>\n<table border=\"1\" class=\"dataframe\">\n  <thead>\n    <tr style=\"text-align: right;\">\n      <th></th>\n      <th>department_desc</th>\n      <th>last_name</th>\n      <th>first_name</th>\n      <th>rank_code</th>\n      <th>rank_desc</th>\n      <th>term_date</th>\n      <th>pay_prog_start_date</th>\n      <th>annual_salary</th>\n    </tr>\n  </thead>\n  <tbody>\n    <tr>\n      <th>0</th>\n      <td>FISCAL MANAGEMENT</td>\n      <td>abbott</td>\n      <td>christopher</td>\n      <td>C7134</td>\n      <td>police officer 4</td>\n      <td>NaT</td>\n      <td>1992-02-09</td>\n      <td>46885.0056</td>\n    </tr>\n    <tr>\n      <th>1</th>\n      <td>TRAFFIC</td>\n      <td>abbott</td>\n      <td>david</td>\n      <td>C7134</td>\n      <td>police officer 4</td>\n      <td>NaT</td>\n      <td>1987-11-01</td>\n      <td>48064.4565</td>\n    </tr>\n    <tr>\n      <th>2</th>\n      <td>POLICE RECRUITS</td>\n      <td>abram</td>\n      <td>shelton</td>\n      <td>C7109</td>\n      <td>police recruit academy</td>\n      <td>NaT</td>\n      <td>2009-09-06</td>\n      <td>34797.9137</td>\n    </tr>\n    <tr>\n      <th>3</th>\n      <td>FISCAL MANAGEMENT</td>\n      <td>adams</td>\n      <td>james</td>\n      <td>C7133</td>\n      <td>police officer 3</td>\n      <td>2009-08-30</td>\n      <td>1987-09-06</td>\n      <td>45734.4971</td>\n    </tr>\n    <tr>\n      <th>4</th>\n      <td>PUBLIC INTEGRITY</td>\n      <td>adams</td>\n      <td>bruce</td>\n      <td>U0018</td>\n      <td>assistant supt of police</td>\n      <td>NaT</td>\n      <td>1975-10-16</td>\n      <td>106440.2966</td>\n    </tr>\n    <tr>\n      <th>...</th>\n      <td>...</td>\n      <td>...</td>\n      <td>...</td>\n      <td>...</td>\n      <td>...</td>\n      <td>...</td>\n      <td>...</td>\n      <td>...</td>\n    </tr>\n    <tr>\n      <th>1976</th>\n      <td>POLICE RECRUITS</td>\n      <td>yount</td>\n      <td>jeffrey</td>\n      <td>C7109</td>\n      <td>police recruit academy</td>\n      <td>NaT</td>\n      <td>NaT</td>\n      <td>34797.9137</td>\n    </tr>\n    <tr>\n      <th>1977</th>\n      <td>TECHNICIAL SERVICES BUREA</td>\n      <td>zaldivar</td>\n      <td>sara</td>\n      <td>C7101</td>\n      <td>police complaint operator</td>\n      <td>NaT</td>\n      <td>NaT</td>\n      <td>25508.0588</td>\n    </tr>\n    <tr>\n      <th>1978</th>\n      <td>SIXTH  DISTRICT</td>\n      <td>zapico</td>\n      <td>daniel</td>\n      <td>C7110</td>\n      <td>police officer 1</td>\n      <td>NaT</td>\n      <td>NaT</td>\n      <td>36570.7051</td>\n    </tr>\n    <tr>\n      <th>1979</th>\n      <td>THIRD  DISTRICT</td>\n      <td>zoller</td>\n      <td>ron</td>\n      <td>C7134</td>\n      <td>police officer 4</td>\n      <td>NaT</td>\n      <td>NaT</td>\n      <td>44612.2209</td>\n    </tr>\n    <tr>\n      <th>1980</th>\n      <td>PUBLIC INTEGRITY</td>\n      <td>zschiedrich</td>\n      <td>walter</td>\n      <td>C7111</td>\n      <td>police sergeant</td>\n      <td>NaT</td>\n      <td>NaT</td>\n      <td>63170.5615</td>\n    </tr>\n  </tbody>\n</table>\n<p>1981 rows × 8 columns</p>\n</div>"
     },
     "metadata": {},
     "execution_count": 17
    }
   ],
   "source": [
    "ranks = df09.loc[df09.rank_code.notna(), [\"rank_code\", \"rank_desc\"]].drop_duplicates().sort_values(\"rank_code\").reset_index(drop=True)\n",
    "desc_map = ranks.set_index(\"rank_desc\", drop=True).rank_code.to_dict()\n",
    "df09.loc[:, \"rank_code\"] = df09.rank_code.where(\n",
    "    df09.rank_code.notna(),\n",
    "    df09.rank_desc.map(lambda x: desc_map.get(x, np.nan))\n",
    ")\n",
    "df09.loc[:, \"rank_desc\"] = df09.rank_desc.str.strip().str.lower()\n",
    "df09"
   ]
  },
  {
   "cell_type": "code",
   "execution_count": 10,
   "metadata": {},
   "outputs": [
    {
     "output_type": "execute_result",
     "data": {
      "text/plain": [
       "array(['OFFICE ASSISTANT, TRAINEE', 'CLERK 2', 'CLERK 3', 'CLERK 4',\n",
       "       'CLERICAL SPECIALIST', 'SENIOR CLERK', 'OFFICE ASSISTANT I',\n",
       "       'SECRETARY', 'OFFICE ASSISTANT II', 'OFFICE ASSISTANT III',\n",
       "       'OFFICE SUPPORT SPECIALIST', 'INFO PROCESSOR OPR TRAINEE',\n",
       "       'DEFAULT', 'INFO PROCESSOR OPR', 'SR INFO PROCESSOR OPR',\n",
       "       'OFFICE ASSISTANT IV', 'DATA ENTRY OPR TRAINEE',\n",
       "       'DATA ENTRY OPERATOR', 'SR OFFICE SUPPORT SPECIALIST',\n",
       "       'SENIOR SYSTEMS APPLIC OPERATOR', 'INFORMATION TECH MANAGER',\n",
       "       'PERSONNEL DIVISION CHIEF', 'ADMINISTRATIVE ANALYST 2',\n",
       "       'ADMINISTRATIVE ANALYST 3', 'ADMIN SUPPORT SPECIALIST II',\n",
       "       'PRINCIPAL ANALYST I', 'SENIOR STOREKEEPER',\n",
       "       'MANAGEMENT DEVELOPMENT ASST', 'MANAGEMENT DEV ANALYT I',\n",
       "       'MANAGEMENT DEV ANALYST II', 'MANAGEMENT DEV SPECIALIST I',\n",
       "       'MANAGEMENT DEV SPECIALIST II', 'MANAGEMENT DEV SUPERVISOR II',\n",
       "       'AWARDS COORD (POLICE DEPT)', 'POLICE PAYROLL SPECIALIST',\n",
       "       'ADMIN SUPPORT MANAGER III', 'ACCOUNTANT III', 'JUNIOR ACCOUNTANT',\n",
       "       'ACCOUNTANT I', 'POLICE TECHNICIAN,TRAINEE', 'SENIOR CARPENTER',\n",
       "       'EQUIPMENT OPERATOR 1', 'EQUIPMENT OPERATOR 2',\n",
       "       'EQUIPMENT OPERATOR 3', 'EQUIPMENT OPERATOR 4',\n",
       "       'ELECTRONICS TECHNICIAN', 'SENIOR ELECTRONICS TECHNICIAN',\n",
       "       'ELECTRONICS TECHNICIAN SUPV', 'TECHNICAL SPECIALIST',\n",
       "       'LABORATORY TECHNICIAN 1', 'CRIMINALIST 1', 'CRIMINALIST 2',\n",
       "       'CRIMINALIST 3', 'CRIME LAB DIRECTOR', 'DNA ANALYST, SENIOR',\n",
       "       'INSTITUTIONAL COUNSELOR 1', 'INSTITUTIONAL COUNSELOR 2',\n",
       "       'INSTITUTIONAL COUNSELOR 3', 'ADMINISTRATIVE ANALYST I',\n",
       "       'STABLE ATTENDANT', 'COMMUNITY RELATIONS CNSLR',\n",
       "       'POLICE COMPLAINT OPERATOR', 'POLICE DISPATCHER, RECRUIT',\n",
       "       'POLICE COMMUNICATIONS SUPV', 'ASST POLICE COMMUNICATIONS SUP',\n",
       "       'POLICE AIDE', 'POLICE DISPATCHER', 'SENIOR POLICE DISPATCHER',\n",
       "       'POLICE RECRUIT FIELD', 'POLICE RECRUIT ACADEMY',\n",
       "       'POLICE OFFICER 1', 'POLICE SERGEANT', 'POLICE LIEUTENANT',\n",
       "       'POLICE CAPTAIN', 'POLICE MAJOR', 'POLICE OFFICER 2',\n",
       "       'POLICE OFFICER 3', 'POLICE OFFICER 4', 'POLICE TECHNICIAN 1',\n",
       "       'POLICE TECHNICIAN 2', 'POLICE TECHNICAL SPECIALIST',\n",
       "       'POLICE TECHNICIAN III', 'POLICE CADET TRAINEE',\n",
       "       'Police Community Services Spec', 'SCHOOL CROSSING GUARD',\n",
       "       'PROTECTIVE SERVICES OFFICER I', 'PROTECTIVE SERVICES OFFICER II',\n",
       "       'PROTECTIVE SERVICES OFF III', 'PROTECTIVE SERVICES OFFICER IV',\n",
       "       'GROUNDS PATROL OFFICER', 'GROUNDS PATROL SUPERVISOR',\n",
       "       'Reserve Officers', 'ADMINISTRATIVE ASSISTANT',\n",
       "       'ASSISTANT SUPT OF POLICE', 'SUPERINTENDENT OF POLICE',\n",
       "       'COMPLIANCE MANAGER-Consent Dec'], dtype=object)"
      ]
     },
     "metadata": {},
     "execution_count": 10
    }
   ],
   "source": [
    "ranks.rank_desc.unique()"
   ]
  },
  {
   "cell_type": "code",
   "execution_count": 3,
   "metadata": {},
   "outputs": [
    {
     "output_type": "execute_result",
     "data": {
      "text/plain": [
       "                     Department   First Name    Last Name Rank Number #  \\\n",
       "0             FISCAL MANAGEMENT  Christopher       Abbott         C7134   \n",
       "1                       TRAFFIC        David       Abbott         C7134   \n",
       "2               POLICE RECRUITS      Shelton        Abram         C7109   \n",
       "3             FISCAL MANAGEMENT        James        Adams         C7133   \n",
       "4              PUBLIC INTEGRITY        Bruce        Adams         U0018   \n",
       "...                         ...          ...          ...           ...   \n",
       "1976            POLICE RECRUITS      Jeffrey        Yount           NaN   \n",
       "1977  TECHNICIAL SERVICES BUREA         Sara     Zaldivar           NaN   \n",
       "1978            SIXTH  DISTRICT       Daniel       Zapico           NaN   \n",
       "1979            THIRD  DISTRICT          Ron       Zoller           NaN   \n",
       "1980           PUBLIC INTEGRITY       Walter  Zschiedrich           NaN   \n",
       "\n",
       "                           Rank Termination Date   Hire Date Annual Salary  \n",
       "0              POLICE OFFICER 4                   1992-02-09      46885.01  \n",
       "1              POLICE OFFICER 4                   1987-11-01      48064.46  \n",
       "2        POLICE RECRUIT ACADEMY                   2009-09-06      34797.91  \n",
       "3              POLICE OFFICER 3       2009-08-30  1987-09-06      45734.50  \n",
       "4      ASSISTANT SUPT OF POLICE                   1975-10-16     106440.30  \n",
       "...                         ...              ...         ...           ...  \n",
       "1976     POLICE RECRUIT ACADEMY                                   34797.91  \n",
       "1977  POLICE COMPLAINT OPERATOR                                   25508.06  \n",
       "1978           POLICE OFFICER 1                                   36570.71  \n",
       "1979           POLICE OFFICER 4                                   44612.22  \n",
       "1980            POLICE SERGEANT                                   63170.56  \n",
       "\n",
       "[1981 rows x 8 columns]"
      ],
      "text/html": "<div>\n<style scoped>\n    .dataframe tbody tr th:only-of-type {\n        vertical-align: middle;\n    }\n\n    .dataframe tbody tr th {\n        vertical-align: top;\n    }\n\n    .dataframe thead th {\n        text-align: right;\n    }\n</style>\n<table border=\"1\" class=\"dataframe\">\n  <thead>\n    <tr style=\"text-align: right;\">\n      <th></th>\n      <th>Department</th>\n      <th>First Name</th>\n      <th>Last Name</th>\n      <th>Rank Number #</th>\n      <th>Rank</th>\n      <th>Termination Date</th>\n      <th>Hire Date</th>\n      <th>Annual Salary</th>\n    </tr>\n  </thead>\n  <tbody>\n    <tr>\n      <th>0</th>\n      <td>FISCAL MANAGEMENT</td>\n      <td>Christopher</td>\n      <td>Abbott</td>\n      <td>C7134</td>\n      <td>POLICE OFFICER 4</td>\n      <td></td>\n      <td>1992-02-09</td>\n      <td>46885.01</td>\n    </tr>\n    <tr>\n      <th>1</th>\n      <td>TRAFFIC</td>\n      <td>David</td>\n      <td>Abbott</td>\n      <td>C7134</td>\n      <td>POLICE OFFICER 4</td>\n      <td></td>\n      <td>1987-11-01</td>\n      <td>48064.46</td>\n    </tr>\n    <tr>\n      <th>2</th>\n      <td>POLICE RECRUITS</td>\n      <td>Shelton</td>\n      <td>Abram</td>\n      <td>C7109</td>\n      <td>POLICE RECRUIT ACADEMY</td>\n      <td></td>\n      <td>2009-09-06</td>\n      <td>34797.91</td>\n    </tr>\n    <tr>\n      <th>3</th>\n      <td>FISCAL MANAGEMENT</td>\n      <td>James</td>\n      <td>Adams</td>\n      <td>C7133</td>\n      <td>POLICE OFFICER 3</td>\n      <td>2009-08-30</td>\n      <td>1987-09-06</td>\n      <td>45734.50</td>\n    </tr>\n    <tr>\n      <th>4</th>\n      <td>PUBLIC INTEGRITY</td>\n      <td>Bruce</td>\n      <td>Adams</td>\n      <td>U0018</td>\n      <td>ASSISTANT SUPT OF POLICE</td>\n      <td></td>\n      <td>1975-10-16</td>\n      <td>106440.30</td>\n    </tr>\n    <tr>\n      <th>...</th>\n      <td>...</td>\n      <td>...</td>\n      <td>...</td>\n      <td>...</td>\n      <td>...</td>\n      <td>...</td>\n      <td>...</td>\n      <td>...</td>\n    </tr>\n    <tr>\n      <th>1976</th>\n      <td>POLICE RECRUITS</td>\n      <td>Jeffrey</td>\n      <td>Yount</td>\n      <td>NaN</td>\n      <td>POLICE RECRUIT ACADEMY</td>\n      <td></td>\n      <td></td>\n      <td>34797.91</td>\n    </tr>\n    <tr>\n      <th>1977</th>\n      <td>TECHNICIAL SERVICES BUREA</td>\n      <td>Sara</td>\n      <td>Zaldivar</td>\n      <td>NaN</td>\n      <td>POLICE COMPLAINT OPERATOR</td>\n      <td></td>\n      <td></td>\n      <td>25508.06</td>\n    </tr>\n    <tr>\n      <th>1978</th>\n      <td>SIXTH  DISTRICT</td>\n      <td>Daniel</td>\n      <td>Zapico</td>\n      <td>NaN</td>\n      <td>POLICE OFFICER 1</td>\n      <td></td>\n      <td></td>\n      <td>36570.71</td>\n    </tr>\n    <tr>\n      <th>1979</th>\n      <td>THIRD  DISTRICT</td>\n      <td>Ron</td>\n      <td>Zoller</td>\n      <td>NaN</td>\n      <td>POLICE OFFICER 4</td>\n      <td></td>\n      <td></td>\n      <td>44612.22</td>\n    </tr>\n    <tr>\n      <th>1980</th>\n      <td>PUBLIC INTEGRITY</td>\n      <td>Walter</td>\n      <td>Zschiedrich</td>\n      <td>NaN</td>\n      <td>POLICE SERGEANT</td>\n      <td></td>\n      <td></td>\n      <td>63170.56</td>\n    </tr>\n  </tbody>\n</table>\n<p>1981 rows × 8 columns</p>\n</div>"
     },
     "metadata": {},
     "execution_count": 3
    }
   ],
   "source": [
    "df09 = clean_personnel_2009()\n",
    "df09.rename(columns={\"Pay Prog Start Date\": \"Hire Date\"}, inplace=True)\n",
    "df09.loc[:, \"First Name\"].fillna(\"\")\n",
    "df09"
   ]
  },
  {
   "cell_type": "code",
   "execution_count": 10,
   "metadata": {
    "tags": []
   },
   "outputs": [
    {
     "output_type": "stream",
     "name": "stdout",
     "text": [
      "239 exact match\n605 not found\n9 suspects (Levenshtein distance <= 2)\nsuspect cases are:\n                                     a                                   b  dist\n0              Don, Cotton, 1985-06-02             Don, Cotton, 1989-07-02     2\n1          Rochelle, Darby, 2009-03-15         Rochelle, Darby, 2009-03-16     1\n2  Joshua, Fahrenholt-Hunt, 2006-11-26  Joshua, Fahrenholt-Hun, 2006-11-26     1\n3             Ashely, Ford, 2009-07-19            Ashley, Ford, 2009-07-19     2\n4            Denise, Klemm, 1979-05-06           Denise, Klemm, 1979-09-16     2\n5      Louis, Richardsonjr, 1990-11-21     Louis, Richardsonjr, 1990-01-21     1\n6     Maria, Villavicencio, 2008-10-26     Maria, Villavicecio, 2008-10-26     1\n7       Sterling, Williams, 1981-08-16    Sterling, Williamsjr, 1981-08-16     2\n8      Pauline, Willoughby, 1985-02-24     Pauline, Willoughby, 1988-01-24     2\n"
     ]
    },
    {
     "output_type": "execute_result",
     "data": {
      "text/plain": [
       "(0           James, Adams, 1987-09-06\n",
       " 1       Hillery, Addison, 2004-06-20\n",
       " 2           Joyce, Ahmed, 1978-01-04\n",
       " 3        Carol, Aldridge, 1984-08-19\n",
       " 4      Tiwana, Alexander, 2003-11-23\n",
       "                    ...              \n",
       " 234        Terry, Wilson, 1984-05-13\n",
       " 235         Aaron, Wiltz, 2004-04-25\n",
       " 236       Byron, Winbush, 1982-10-03\n",
       " 237     Leander, Winford, 2002-11-17\n",
       " 238        Jeffrey, Winn, 1985-05-26\n",
       " Length: 239, dtype: object,\n",
       "                                      a                                   b  \\\n",
       " 0              Don, Cotton, 1985-06-02             Don, Cotton, 1989-07-02   \n",
       " 1          Rochelle, Darby, 2009-03-15         Rochelle, Darby, 2009-03-16   \n",
       " 2  Joshua, Fahrenholt-Hunt, 2006-11-26  Joshua, Fahrenholt-Hun, 2006-11-26   \n",
       " 3             Ashely, Ford, 2009-07-19            Ashley, Ford, 2009-07-19   \n",
       " 4            Denise, Klemm, 1979-05-06           Denise, Klemm, 1979-09-16   \n",
       " 5      Louis, Richardsonjr, 1990-11-21     Louis, Richardsonjr, 1990-01-21   \n",
       " 6     Maria, Villavicencio, 2008-10-26     Maria, Villavicecio, 2008-10-26   \n",
       " 7       Sterling, Williams, 1981-08-16    Sterling, Williamsjr, 1981-08-16   \n",
       " 8      Pauline, Willoughby, 1985-02-24     Pauline, Willoughby, 1988-01-24   \n",
       " \n",
       "    dist  \n",
       " 0     2  \n",
       " 1     1  \n",
       " 2     1  \n",
       " 3     2  \n",
       " 4     2  \n",
       " 5     1  \n",
       " 6     1  \n",
       " 7     2  \n",
       " 8     2  ,\n",
       " 0      Christopher, Abbott, 1992-02-09\n",
       " 1            David, Abbott, 1987-11-01\n",
       " 2           Shelton, Abram, 2009-09-06\n",
       " 3             Bruce, Adams, 1975-10-16\n",
       " 4             Larry, Adams, 2008-12-14\n",
       "                     ...               \n",
       " 600                   Jeffrey, Yount, \n",
       " 601                   Sara, Zaldivar, \n",
       " 602                   Daniel, Zapico, \n",
       " 603                      Ron, Zoller, \n",
       " 604              Walter, Zschiedrich, \n",
       " Length: 605, dtype: object)"
      ]
     },
     "metadata": {},
     "execution_count": 10
    }
   ],
   "source": [
    "# names = set(df09[[\"First Name\", \"Last Name\"]].fillna(\"\").agg(\", \".join, axis=1).tolist())\n",
    "# names14 = set(df14[[\"First Name\", \"Last Name\"]].fillna(\"\").agg(\", \".join, axis=1).tolist())\n",
    "# len(names.intersection(names14))\n",
    "# df14[(df14[\"First Name\"] == \"James\") & (df14[\"Last Name\"] == \"Adams\")]\n",
    "match_records(df14, df09[~df09[\"First Name\"].isna()], [\"First Name\", \"Last Name\", \"Hire Date\"])"
   ]
  },
  {
   "cell_type": "code",
   "execution_count": 11,
   "metadata": {},
   "outputs": [
    {
     "output_type": "stream",
     "name": "stdout",
     "text": [
      "93 exact match\n961 not found\n27 suspects (Levenshtein distance <= 2)\nsuspect cases are:\n                               a                             b  dist\n0         Ard, 2009-09-06, C7108        Ard, 2009-09-06, C7109     1\n1      Austin, 1985-07-28, C7112     Austin, 1985-07-28, C7134     2\n2    Bagneris, 2001-06-24, C7111   Bagneris, 2001-06-24, C7134     2\n3        Byrd, 2008-09-14, C7142       Byrd, 2008-09-14, C7141     1\n4    Caldwell, 2005-03-06, C7132   Caldwell, 2005-03-06, C7110     2\n5    Caminita, 2009-01-04, C7133   Caminita, 2009-01-04, C7110     2\n6   Duronslet, 2008-08-17, C7105  Duronslet, 2008-08-24, C7105     2\n7       Elder, 1975-03-31, C7113      Elder, 1975-03-31, C7122     2\n8        Gray, 1976-09-13, C7112       Gray, 1976-09-13, C7111     1\n9     Guesnon, 2003-05-18, C7134    Guesnon, 2003-05-18, C7133     1\n10       Hart, 1997-10-05, C7112       Hart, 1997-10-05, C7111     1\n11     Haynes, 2008-07-13, C7142     Haynes, 2008-07-13, C7141     1\n12     Hebert, 2009-05-24, C7133     Hebert, 2009-05-24, C7108     2\n13  Henderson, 2009-01-04, C7110  Henderson, 2009-01-04, C7108     2\n14    Jackson, 2004-12-26, C7108    Jackson, 2004-12-26, C7132     2\n15     Jacobs, 1978-07-10, C7104     Jacobs, 1978-07-10, C7103     1\n16    Johnson, 2008-11-09, C7110    Johnson, 2007-11-04, C7110     2\n17    Johnson, 2000-05-15, C7132    Johnson, 2004-02-15, C7132     2\n18    Johnson, 2005-03-27, C7110    Johnson, 2008-03-23, C7110     2\n19      Jones, 2008-04-06, C7133      Jones, 2008-04-06, C7110     2\n20      Jones, 2007-01-21, C7132      Jones, 2007-01-21, C7110     2\n21      Moses, 2007-01-21, C7110      Jones, 2007-01-21, C7110     2\n22      Jones, 2002-10-27, C7134      Jones, 2002-10-27, C7133     1\n23    Ostarly, 2009-06-07, C7133    Ostarly, 2009-06-07, C7108     2\n24    Painter, 2009-08-23, C7108    Painter, 2009-08-23, C7109     1\n25      Patin, 2004-12-05, C7133      Patin, 2004-12-05, C7132     1\n26   Patrolia, 1977-06-22, C7134   Patrolia, 1978-06-25, C7134     2\n"
     ]
    },
    {
     "output_type": "execute_result",
     "data": {
      "text/plain": [
       "(0     Anderson, 1984-01-15, C7111\n",
       " 1        Andry, 1985-06-02, C7111\n",
       " 2       Aponte, 2009-01-11, C7110\n",
       " 3         Arey, 1994-05-01, C0363\n",
       " 4      Arnolie, 2009-03-08, C7108\n",
       "                  ...             \n",
       " 88      Pallez, 2002-10-13, C7109\n",
       " 89      Palmer, 1984-01-15, C7134\n",
       " 90      Parker, 1977-10-10, C7134\n",
       " 91      Parker, 2009-07-19, C7101\n",
       " 92    Parkerjr, 1983-01-23, C7134\n",
       " Length: 93, dtype: object,\n",
       "                                a                             b  dist\n",
       " 0         Ard, 2009-09-06, C7108        Ard, 2009-09-06, C7109     1\n",
       " 1      Austin, 1985-07-28, C7112     Austin, 1985-07-28, C7134     2\n",
       " 2    Bagneris, 2001-06-24, C7111   Bagneris, 2001-06-24, C7134     2\n",
       " 3        Byrd, 2008-09-14, C7142       Byrd, 2008-09-14, C7141     1\n",
       " 4    Caldwell, 2005-03-06, C7132   Caldwell, 2005-03-06, C7110     2\n",
       " 5    Caminita, 2009-01-04, C7133   Caminita, 2009-01-04, C7110     2\n",
       " 6   Duronslet, 2008-08-17, C7105  Duronslet, 2008-08-24, C7105     2\n",
       " 7       Elder, 1975-03-31, C7113      Elder, 1975-03-31, C7122     2\n",
       " 8        Gray, 1976-09-13, C7112       Gray, 1976-09-13, C7111     1\n",
       " 9     Guesnon, 2003-05-18, C7134    Guesnon, 2003-05-18, C7133     1\n",
       " 10       Hart, 1997-10-05, C7112       Hart, 1997-10-05, C7111     1\n",
       " 11     Haynes, 2008-07-13, C7142     Haynes, 2008-07-13, C7141     1\n",
       " 12     Hebert, 2009-05-24, C7133     Hebert, 2009-05-24, C7108     2\n",
       " 13  Henderson, 2009-01-04, C7110  Henderson, 2009-01-04, C7108     2\n",
       " 14    Jackson, 2004-12-26, C7108    Jackson, 2004-12-26, C7132     2\n",
       " 15     Jacobs, 1978-07-10, C7104     Jacobs, 1978-07-10, C7103     1\n",
       " 16    Johnson, 2008-11-09, C7110    Johnson, 2007-11-04, C7110     2\n",
       " 17    Johnson, 2000-05-15, C7132    Johnson, 2004-02-15, C7132     2\n",
       " 18    Johnson, 2005-03-27, C7110    Johnson, 2008-03-23, C7110     2\n",
       " 19      Jones, 2008-04-06, C7133      Jones, 2008-04-06, C7110     2\n",
       " 20      Jones, 2007-01-21, C7132      Jones, 2007-01-21, C7110     2\n",
       " 21      Moses, 2007-01-21, C7110      Jones, 2007-01-21, C7110     2\n",
       " 22      Jones, 2002-10-27, C7134      Jones, 2002-10-27, C7133     1\n",
       " 23    Ostarly, 2009-06-07, C7133    Ostarly, 2009-06-07, C7108     2\n",
       " 24    Painter, 2009-08-23, C7108    Painter, 2009-08-23, C7109     1\n",
       " 25      Patin, 2004-12-05, C7133      Patin, 2004-12-05, C7132     1\n",
       " 26   Patrolia, 1977-06-22, C7134   Patrolia, 1978-06-25, C7134     2,\n",
       " 0      Anderson, 2008-12-21, C7109\n",
       " 1      Anderson, 1997-05-04, C7111\n",
       " 2      Anderson, 2008-01-20, C7110\n",
       " 3      Anderson, 1997-10-26, C7142\n",
       " 4      Anderson, 2003-03-16, C7142\n",
       "                   ...             \n",
       " 956         Watts, 2009-10-25, nan\n",
       " 957        Watzke, 1985-06-23, nan\n",
       " 958           Wax, 1998-04-12, nan\n",
       " 959    Weathersby, 1985-02-24, nan\n",
       " 960    Weathersby, 2007-09-23, nan\n",
       " Length: 961, dtype: object)"
      ]
     },
     "metadata": {},
     "execution_count": 11
    }
   ],
   "source": [
    "match_records(df14, df09[df09[\"First Name\"].isna()], [\"Last Name\", \"Hire Date\", \"Rank Number #\"])"
   ]
  },
  {
   "cell_type": "code",
   "execution_count": 7,
   "metadata": {},
   "outputs": [
    {
     "output_type": "execute_result",
     "data": {
      "text/plain": [
       "                     Department First Name   Last Name Rank Number #  \\\n",
       "36            FISCAL MANAGEMENT        NaN    Anderson         C7111   \n",
       "37              POLICE RECRUITS        NaN    Anderson         C7109   \n",
       "38               FIRST DISTRICT        NaN    Anderson         C7111   \n",
       "39              FOURTH DISTRICT        NaN    Anderson         C7110   \n",
       "40    TECHNICIAL SERVICES BUREA        NaN    Anderson         C7142   \n",
       "...                         ...        ...         ...           ...   \n",
       "1871  TECHNICIAL SERVICES BUREA        NaN       Watts           NaN   \n",
       "1872  TECHNICIAL SERVICES BUREA        NaN      Watzke           NaN   \n",
       "1873            FOURTH DISTRICT        NaN         Wax           NaN   \n",
       "1874  TECHNICIAL SERVICES BUREA        NaN  Weathersby           NaN   \n",
       "1875            FIFTH  DISTRICT        NaN  Weathersby           NaN   \n",
       "\n",
       "                           Rank Termination Date   Hire Date Annual Salary  \n",
       "36              POLICE SERGEANT                   1984-01-15      54421.98  \n",
       "37       POLICE RECRUIT ACADEMY                   2008-12-21      34797.91  \n",
       "38              POLICE SERGEANT                   1997-05-04      50513.12  \n",
       "39             POLICE OFFICER 1                   2008-01-20      37490.69  \n",
       "40          POLICE TECHNICIAN 2                   1997-10-26      23094.96  \n",
       "...                         ...              ...         ...           ...  \n",
       "1871  POLICE COMPLAINT OPERATOR                   2009-10-25      25508.06  \n",
       "1872            POLICE SERGEANT                   1985-06-23      53086.52  \n",
       "1873            POLICE SERGEANT                   1998-04-12      50513.12  \n",
       "1874   ASSISTANT SUPT OF POLICE                   1985-02-24      89449.03  \n",
       "1875           POLICE OFFICER 1                   2007-09-23      37490.69  \n",
       "\n",
       "[1120 rows x 8 columns]"
      ],
      "text/html": "<div>\n<style scoped>\n    .dataframe tbody tr th:only-of-type {\n        vertical-align: middle;\n    }\n\n    .dataframe tbody tr th {\n        vertical-align: top;\n    }\n\n    .dataframe thead th {\n        text-align: right;\n    }\n</style>\n<table border=\"1\" class=\"dataframe\">\n  <thead>\n    <tr style=\"text-align: right;\">\n      <th></th>\n      <th>Department</th>\n      <th>First Name</th>\n      <th>Last Name</th>\n      <th>Rank Number #</th>\n      <th>Rank</th>\n      <th>Termination Date</th>\n      <th>Hire Date</th>\n      <th>Annual Salary</th>\n    </tr>\n  </thead>\n  <tbody>\n    <tr>\n      <th>36</th>\n      <td>FISCAL MANAGEMENT</td>\n      <td>NaN</td>\n      <td>Anderson</td>\n      <td>C7111</td>\n      <td>POLICE SERGEANT</td>\n      <td></td>\n      <td>1984-01-15</td>\n      <td>54421.98</td>\n    </tr>\n    <tr>\n      <th>37</th>\n      <td>POLICE RECRUITS</td>\n      <td>NaN</td>\n      <td>Anderson</td>\n      <td>C7109</td>\n      <td>POLICE RECRUIT ACADEMY</td>\n      <td></td>\n      <td>2008-12-21</td>\n      <td>34797.91</td>\n    </tr>\n    <tr>\n      <th>38</th>\n      <td>FIRST DISTRICT</td>\n      <td>NaN</td>\n      <td>Anderson</td>\n      <td>C7111</td>\n      <td>POLICE SERGEANT</td>\n      <td></td>\n      <td>1997-05-04</td>\n      <td>50513.12</td>\n    </tr>\n    <tr>\n      <th>39</th>\n      <td>FOURTH DISTRICT</td>\n      <td>NaN</td>\n      <td>Anderson</td>\n      <td>C7110</td>\n      <td>POLICE OFFICER 1</td>\n      <td></td>\n      <td>2008-01-20</td>\n      <td>37490.69</td>\n    </tr>\n    <tr>\n      <th>40</th>\n      <td>TECHNICIAL SERVICES BUREA</td>\n      <td>NaN</td>\n      <td>Anderson</td>\n      <td>C7142</td>\n      <td>POLICE TECHNICIAN 2</td>\n      <td></td>\n      <td>1997-10-26</td>\n      <td>23094.96</td>\n    </tr>\n    <tr>\n      <th>...</th>\n      <td>...</td>\n      <td>...</td>\n      <td>...</td>\n      <td>...</td>\n      <td>...</td>\n      <td>...</td>\n      <td>...</td>\n      <td>...</td>\n    </tr>\n    <tr>\n      <th>1871</th>\n      <td>TECHNICIAL SERVICES BUREA</td>\n      <td>NaN</td>\n      <td>Watts</td>\n      <td>NaN</td>\n      <td>POLICE COMPLAINT OPERATOR</td>\n      <td></td>\n      <td>2009-10-25</td>\n      <td>25508.06</td>\n    </tr>\n    <tr>\n      <th>1872</th>\n      <td>TECHNICIAL SERVICES BUREA</td>\n      <td>NaN</td>\n      <td>Watzke</td>\n      <td>NaN</td>\n      <td>POLICE SERGEANT</td>\n      <td></td>\n      <td>1985-06-23</td>\n      <td>53086.52</td>\n    </tr>\n    <tr>\n      <th>1873</th>\n      <td>FOURTH DISTRICT</td>\n      <td>NaN</td>\n      <td>Wax</td>\n      <td>NaN</td>\n      <td>POLICE SERGEANT</td>\n      <td></td>\n      <td>1998-04-12</td>\n      <td>50513.12</td>\n    </tr>\n    <tr>\n      <th>1874</th>\n      <td>TECHNICIAL SERVICES BUREA</td>\n      <td>NaN</td>\n      <td>Weathersby</td>\n      <td>NaN</td>\n      <td>ASSISTANT SUPT OF POLICE</td>\n      <td></td>\n      <td>1985-02-24</td>\n      <td>89449.03</td>\n    </tr>\n    <tr>\n      <th>1875</th>\n      <td>FIFTH  DISTRICT</td>\n      <td>NaN</td>\n      <td>Weathersby</td>\n      <td>NaN</td>\n      <td>POLICE OFFICER 1</td>\n      <td></td>\n      <td>2007-09-23</td>\n      <td>37490.69</td>\n    </tr>\n  </tbody>\n</table>\n<p>1120 rows × 8 columns</p>\n</div>"
     },
     "metadata": {},
     "execution_count": 7
    }
   ],
   "source": [
    "df09[df09[\"First Name\"].isna()]"
   ]
  },
  {
   "cell_type": "code",
   "execution_count": 25,
   "metadata": {},
   "outputs": [
    {
     "output_type": "execute_result",
     "data": {
      "text/plain": [
       "Empty DataFrame\n",
       "Columns: [Department, Last Name, First Name, Birth Date, Hire Date, Rank Number #, Rank, Termination Date, Pay Prog Start Date, Annual Salary]\n",
       "Index: []"
      ],
      "text/html": "<div>\n<style scoped>\n    .dataframe tbody tr th:only-of-type {\n        vertical-align: middle;\n    }\n\n    .dataframe tbody tr th {\n        vertical-align: top;\n    }\n\n    .dataframe thead th {\n        text-align: right;\n    }\n</style>\n<table border=\"1\" class=\"dataframe\">\n  <thead>\n    <tr style=\"text-align: right;\">\n      <th></th>\n      <th>Department</th>\n      <th>Last Name</th>\n      <th>First Name</th>\n      <th>Birth Date</th>\n      <th>Hire Date</th>\n      <th>Rank Number #</th>\n      <th>Rank</th>\n      <th>Termination Date</th>\n      <th>Pay Prog Start Date</th>\n      <th>Annual Salary</th>\n    </tr>\n  </thead>\n  <tbody>\n  </tbody>\n</table>\n</div>"
     },
     "metadata": {},
     "execution_count": 25
    }
   ],
   "source": [
    "df14[~df14[\"Department\"].str.match(r\"^POL .+\")]"
   ]
  },
  {
   "cell_type": "code",
   "execution_count": 23,
   "metadata": {},
   "outputs": [
    {
     "output_type": "execute_result",
     "data": {
      "text/plain": [
       "array(['FISCAL MANAGEMENT', 'TRAFFIC', 'POLICE RECRUITS',\n",
       "       'PUBLIC INTEGRITY', 'EIGHTH DISTRICT', 'FIFTH  DISTRICT',\n",
       "       'SPECIAL OPERATIONS', 'THIRD  DISTRICT', 'SIXTH  DISTRICT',\n",
       "       'FOURTH DISTRICT', 'TECHNICIAL SERVICES BUREA',\n",
       "       'OFF OF THE SUPERINTENDENT', 'MANAGEMENT SERVICES BUREAU',\n",
       "       'FIRST DISTRICT', 'CRIMINAL INVESTIGATION BUREAU',\n",
       "       'SECOND DISTRICT', 'NARCOTICS', 'SEVENTH DISTRICT',\n",
       "       'SCHOOL CROSSING GUARDS', 'ADMINISTRATIVE-SIB', 'CRIME LAB',\n",
       "       'C.O.P.S. AHEAD', 'FIELD OPERATIONS', 'OPERATION SAFE HOME',\n",
       "       'TRANSIT SECURITY', 'QUALITY OF LIFE OFFICERS',\n",
       "       'CRISIS TRAUMA CENTER'], dtype=object)"
      ]
     },
     "metadata": {},
     "execution_count": 23
    }
   ],
   "source": [
    "df09[\"Department\"].unique()"
   ]
  },
  {
   "cell_type": "code",
   "execution_count": 37,
   "metadata": {},
   "outputs": [
    {
     "output_type": "execute_result",
     "data": {
      "text/plain": [
       "                      ORGN DESC    LAST NAME   FIRST NAME TITL E CODE  \\\n",
       "0             FISCAL MANAGEMENT       ABBOTT  CHRISTOPHER       C7134   \n",
       "1                       TRAFFIC       ABBOTT        DAVID       C7134   \n",
       "2               POLICE RECRUITS        ABRAM      SHELTON       C7109   \n",
       "3             FISCAL MANAGEMENT        ADAMS        JAMES       C7133   \n",
       "4              PUBLIC INTEGRITY        ADAMS        BRUCE       U0018   \n",
       "...                         ...          ...          ...         ...   \n",
       "1976            POLICE RECRUITS        YOUNT      JEFFREY         NaN   \n",
       "1977  TECHNICIAL SERVICES BUREA     ZALDIVAR         SARA         NaN   \n",
       "1978            SIXTH  DISTRICT       ZAPICO       DANIEL         NaN   \n",
       "1979            THIRD  DISTRICT       ZOLLER          RON         NaN   \n",
       "1980           PUBLIC INTEGRITY  ZSCHIEDRICH       WALTER         NaN   \n",
       "\n",
       "                     TITLE DESC   TERM DATE PAY PROG START DATE  ANNUAL SALARY  \n",
       "0              POLICE OFFICER 4                      1992-02-09   $46,885.0056  \n",
       "1              POLICE OFFICER 4                      1987-11-01   $48,064.4565  \n",
       "2        POLICE RECRUIT ACADEMY                      2009-09-06   $34,797.9137  \n",
       "3              POLICE OFFICER 3  2009-08-30          1987-09-06   $45,734.4971  \n",
       "4      ASSISTANT SUPT OF POLICE                      1975-10-16  $106,440.2966  \n",
       "...                         ...         ...                 ...            ...  \n",
       "1976     POLICE RECRUIT ACADEMY                                   $34,797.9137  \n",
       "1977  POLICE COMPLAINT OPERATOR                                   $25,508.0588  \n",
       "1978           POLICE OFFICER 1                                   $36,570.7051  \n",
       "1979           POLICE OFFICER 4                                   $44,612.2209  \n",
       "1980            POLICE SERGEANT                                   $63,170.5615  \n",
       "\n",
       "[1981 rows x 8 columns]"
      ],
      "text/html": "<div>\n<style scoped>\n    .dataframe tbody tr th:only-of-type {\n        vertical-align: middle;\n    }\n\n    .dataframe tbody tr th {\n        vertical-align: top;\n    }\n\n    .dataframe thead th {\n        text-align: right;\n    }\n</style>\n<table border=\"1\" class=\"dataframe\">\n  <thead>\n    <tr style=\"text-align: right;\">\n      <th></th>\n      <th>ORGN DESC</th>\n      <th>LAST NAME</th>\n      <th>FIRST NAME</th>\n      <th>TITL E CODE</th>\n      <th>TITLE DESC</th>\n      <th>TERM DATE</th>\n      <th>PAY PROG START DATE</th>\n      <th>ANNUAL SALARY</th>\n    </tr>\n  </thead>\n  <tbody>\n    <tr>\n      <th>0</th>\n      <td>FISCAL MANAGEMENT</td>\n      <td>ABBOTT</td>\n      <td>CHRISTOPHER</td>\n      <td>C7134</td>\n      <td>POLICE OFFICER 4</td>\n      <td></td>\n      <td>1992-02-09</td>\n      <td>$46,885.0056</td>\n    </tr>\n    <tr>\n      <th>1</th>\n      <td>TRAFFIC</td>\n      <td>ABBOTT</td>\n      <td>DAVID</td>\n      <td>C7134</td>\n      <td>POLICE OFFICER 4</td>\n      <td></td>\n      <td>1987-11-01</td>\n      <td>$48,064.4565</td>\n    </tr>\n    <tr>\n      <th>2</th>\n      <td>POLICE RECRUITS</td>\n      <td>ABRAM</td>\n      <td>SHELTON</td>\n      <td>C7109</td>\n      <td>POLICE RECRUIT ACADEMY</td>\n      <td></td>\n      <td>2009-09-06</td>\n      <td>$34,797.9137</td>\n    </tr>\n    <tr>\n      <th>3</th>\n      <td>FISCAL MANAGEMENT</td>\n      <td>ADAMS</td>\n      <td>JAMES</td>\n      <td>C7133</td>\n      <td>POLICE OFFICER 3</td>\n      <td>2009-08-30</td>\n      <td>1987-09-06</td>\n      <td>$45,734.4971</td>\n    </tr>\n    <tr>\n      <th>4</th>\n      <td>PUBLIC INTEGRITY</td>\n      <td>ADAMS</td>\n      <td>BRUCE</td>\n      <td>U0018</td>\n      <td>ASSISTANT SUPT OF POLICE</td>\n      <td></td>\n      <td>1975-10-16</td>\n      <td>$106,440.2966</td>\n    </tr>\n    <tr>\n      <th>...</th>\n      <td>...</td>\n      <td>...</td>\n      <td>...</td>\n      <td>...</td>\n      <td>...</td>\n      <td>...</td>\n      <td>...</td>\n      <td>...</td>\n    </tr>\n    <tr>\n      <th>1976</th>\n      <td>POLICE RECRUITS</td>\n      <td>YOUNT</td>\n      <td>JEFFREY</td>\n      <td>NaN</td>\n      <td>POLICE RECRUIT ACADEMY</td>\n      <td></td>\n      <td></td>\n      <td>$34,797.9137</td>\n    </tr>\n    <tr>\n      <th>1977</th>\n      <td>TECHNICIAL SERVICES BUREA</td>\n      <td>ZALDIVAR</td>\n      <td>SARA</td>\n      <td>NaN</td>\n      <td>POLICE COMPLAINT OPERATOR</td>\n      <td></td>\n      <td></td>\n      <td>$25,508.0588</td>\n    </tr>\n    <tr>\n      <th>1978</th>\n      <td>SIXTH  DISTRICT</td>\n      <td>ZAPICO</td>\n      <td>DANIEL</td>\n      <td>NaN</td>\n      <td>POLICE OFFICER 1</td>\n      <td></td>\n      <td></td>\n      <td>$36,570.7051</td>\n    </tr>\n    <tr>\n      <th>1979</th>\n      <td>THIRD  DISTRICT</td>\n      <td>ZOLLER</td>\n      <td>RON</td>\n      <td>NaN</td>\n      <td>POLICE OFFICER 4</td>\n      <td></td>\n      <td></td>\n      <td>$44,612.2209</td>\n    </tr>\n    <tr>\n      <th>1980</th>\n      <td>PUBLIC INTEGRITY</td>\n      <td>ZSCHIEDRICH</td>\n      <td>WALTER</td>\n      <td>NaN</td>\n      <td>POLICE SERGEANT</td>\n      <td></td>\n      <td></td>\n      <td>$63,170.5615</td>\n    </tr>\n  </tbody>\n</table>\n<p>1981 rows × 8 columns</p>\n</div>"
     },
     "metadata": {},
     "execution_count": 37
    }
   ],
   "source": [
    "import datetime\n",
    "from lib.excel import remove_unnamed_cols\n",
    "\n",
    "def convert_date(s):\n",
    "    if len(s) > 0:\n",
    "        m, d, y = s.split(\"/\")\n",
    "        return datetime.date(int(y), int(m), int(d))\n",
    "    return s\n",
    "\n",
    "df1 = pd.read_csv(\n",
    "    \"../data/New Orleans Civil Service Department/Administrative Data/New-Orleans_CSD_PPRR_2009.csv\")\n",
    "df1 = remove_unnamed_cols(df1)\n",
    "df1.loc[:, \"TERM DATE\"] = df1[\"TERM DATE\"].fillna(\"\").map(convert_date)\n",
    "df1.loc[:, \"PAY PROG START DATE\"] = df1[\"PAY PROG START DATE\"].fillna(\"\").map(convert_date)\n",
    "df1"
   ]
  },
  {
   "cell_type": "code",
   "execution_count": 20,
   "metadata": {},
   "outputs": [
    {
     "output_type": "execute_result",
     "data": {
      "text/plain": [
       "0      1996-08-28\n",
       "1      1997-01-01\n",
       "2      1997-01-04\n",
       "3      1997-01-04\n",
       "4      1997-01-04\n",
       "          ...    \n",
       "3681   2014-12-10\n",
       "3682   2014-12-11\n",
       "3683   2014-12-13\n",
       "3684   2014-12-20\n",
       "3685   2014-12-30\n",
       "Name: Termination Date, Length: 3686, dtype: datetime64[ns]"
      ]
     },
     "metadata": {},
     "execution_count": 20
    }
   ],
   "source": [
    "df1[\"Termination Date\"]"
   ]
  },
  {
   "cell_type": "code",
   "execution_count": null,
   "metadata": {},
   "outputs": [],
   "source": []
  }
 ],
 "metadata": {
  "kernelspec": {
   "display_name": "Python 3",
   "language": "python",
   "name": "python3"
  },
  "language_info": {
   "codemirror_mode": {
    "name": "ipython",
    "version": 3
   },
   "file_extension": ".py",
   "mimetype": "text/x-python",
   "name": "python",
   "nbconvert_exporter": "python",
   "pygments_lexer": "ipython3",
   "version": "3.8.3-final"
  }
 },
 "nbformat": 4,
 "nbformat_minor": 4
}
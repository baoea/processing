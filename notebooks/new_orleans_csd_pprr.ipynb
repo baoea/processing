{
 "cells": [
  {
   "cell_type": "code",
   "execution_count": 1,
   "metadata": {},
   "outputs": [],
   "source": [
    "import sys; sys.path.insert(0, \"../\")\n",
    "import pandas as pd\n",
    "import numpy as np\n",
    "\n",
    "from clean.new_orleans_csd_pprr import clean_2014, clean_2009\n",
    "from lib.explore import show_unique\n",
    "from match.new_orleans_csd import match_officers\n",
    "from lib.date import combine_date_columns\n",
    "from lib.uid import gen_uid"
   ]
  },
  {
   "cell_type": "code",
   "execution_count": 2,
   "metadata": {},
   "outputs": [
    {
     "output_type": "execute_result",
     "data": {
      "text/plain": [
       "                    department_desc     last_name first_name rank_code  \\\n",
       "0     pol managemnt services bureau         moore  charmaine     C0025   \n",
       "1     pol managemnt services bureau         coxen     shanna     C5201   \n",
       "2     pol special investigation div  cavaliere sr     morris     C7134   \n",
       "3                pol first district       fonseca    norbert     C7112   \n",
       "4               pol fifth  district       hartman     steven     C7112   \n",
       "...                             ...           ...        ...       ...   \n",
       "3681  pol managemnt services bureau       johnson      shawn     C7105   \n",
       "3682            pol sixth  district       linehan      henry     C7110   \n",
       "3683             pol first district      finneman      david     C7111   \n",
       "3684  pol managemnt services bureau          badr    mohamed     C7105   \n",
       "3685  pol managemnt services bureau       patrick      carol     C7105   \n",
       "\n",
       "                    rank_desc  annual_salary birth_year birth_month birth_day  \\\n",
       "0         clerical specialist       11235.83       1901           1         1   \n",
       "1     laboratory technician 1       14951.72       1972          10         5   \n",
       "2            police officer 4       29243.06       1947           7        21   \n",
       "3           police lieutenant       39893.17       1943           8        31   \n",
       "4           police lieutenant       33524.95       1964           3        11   \n",
       "...                       ...            ...        ...         ...       ...   \n",
       "3681              police aide       28882.03       1990           6        23   \n",
       "3682         police officer 1       37490.69       1982           8        18   \n",
       "3683          police sergeant       50513.12       1960          12        20   \n",
       "3684              police aide       28882.03       1980          10         6   \n",
       "3685              police aide       28882.03       1974          10        23   \n",
       "\n",
       "     hire_year  ... hire_day term_year term_month term_day  \\\n",
       "0         1996  ...        8      1996          8       28   \n",
       "1         1996  ...       22      1997          1        1   \n",
       "2         1970  ...       21      1997          1        4   \n",
       "3         1967  ...       21      1997          1        4   \n",
       "4         1985  ...       10      1997          1        4   \n",
       "...        ...  ...      ...       ...        ...      ...   \n",
       "3681      2014  ...       17      2014         12       10   \n",
       "3682      2009  ...       27      2014         12       11   \n",
       "3683      2001  ...       16      2014         12       13   \n",
       "3684      2014  ...       31      2014         12       20   \n",
       "3685      2014  ...       17      2014         12       30   \n",
       "\n",
       "     pay_prog_start_year pay_prog_start_month pay_prog_start_day  \\\n",
       "0                   1996                    8                 28   \n",
       "1                   1997                    1                  1   \n",
       "2                   1997                    1                  4   \n",
       "3                   1997                    1                  4   \n",
       "4                   1997                    1                  4   \n",
       "...                  ...                  ...                ...   \n",
       "3681                2014                    8                 17   \n",
       "3682                2011                    3                 13   \n",
       "3683                2013                    1                 30   \n",
       "3684                2014                    8                 31   \n",
       "3685                2014                    8                 17   \n",
       "\n",
       "                                   mid data_production_year           agency  \n",
       "0     d9b2bb8829f4b2e4fd97290ea93ee56e                 2014  New Orleans CSD  \n",
       "1     693a1967b92e800cfca8b5f800030d47                 2014  New Orleans CSD  \n",
       "2     0e1583f54d720cd899d9ce17c5d12869                 2014  New Orleans CSD  \n",
       "3     fff2935b97640caa5e15508cf21a871c                 2014  New Orleans CSD  \n",
       "4     7b5f6f0e0cd3b2cfe3718d64a535ac43                 2014  New Orleans CSD  \n",
       "...                                ...                  ...              ...  \n",
       "3681  3e28e9f4250a2e3ae76d6f36345c6153                 2014  New Orleans CSD  \n",
       "3682  7693cd75ee286e1b018fe5df832f79dc                 2014  New Orleans CSD  \n",
       "3683  a4180ae4b9be2d1a19f2f68088cc6254                 2014  New Orleans CSD  \n",
       "3684  eb56dc40d6c443298c510e1925494a56                 2014  New Orleans CSD  \n",
       "3685  77a4b1e86f03f8413931593458db3ee2                 2014  New Orleans CSD  \n",
       "\n",
       "[3686 rows x 21 columns]"
      ],
      "text/html": "<div>\n<style scoped>\n    .dataframe tbody tr th:only-of-type {\n        vertical-align: middle;\n    }\n\n    .dataframe tbody tr th {\n        vertical-align: top;\n    }\n\n    .dataframe thead th {\n        text-align: right;\n    }\n</style>\n<table border=\"1\" class=\"dataframe\">\n  <thead>\n    <tr style=\"text-align: right;\">\n      <th></th>\n      <th>department_desc</th>\n      <th>last_name</th>\n      <th>first_name</th>\n      <th>rank_code</th>\n      <th>rank_desc</th>\n      <th>annual_salary</th>\n      <th>birth_year</th>\n      <th>birth_month</th>\n      <th>birth_day</th>\n      <th>hire_year</th>\n      <th>...</th>\n      <th>hire_day</th>\n      <th>term_year</th>\n      <th>term_month</th>\n      <th>term_day</th>\n      <th>pay_prog_start_year</th>\n      <th>pay_prog_start_month</th>\n      <th>pay_prog_start_day</th>\n      <th>mid</th>\n      <th>data_production_year</th>\n      <th>agency</th>\n    </tr>\n  </thead>\n  <tbody>\n    <tr>\n      <th>0</th>\n      <td>pol managemnt services bureau</td>\n      <td>moore</td>\n      <td>charmaine</td>\n      <td>C0025</td>\n      <td>clerical specialist</td>\n      <td>11235.83</td>\n      <td>1901</td>\n      <td>1</td>\n      <td>1</td>\n      <td>1996</td>\n      <td>...</td>\n      <td>8</td>\n      <td>1996</td>\n      <td>8</td>\n      <td>28</td>\n      <td>1996</td>\n      <td>8</td>\n      <td>28</td>\n      <td>d9b2bb8829f4b2e4fd97290ea93ee56e</td>\n      <td>2014</td>\n      <td>New Orleans CSD</td>\n    </tr>\n    <tr>\n      <th>1</th>\n      <td>pol managemnt services bureau</td>\n      <td>coxen</td>\n      <td>shanna</td>\n      <td>C5201</td>\n      <td>laboratory technician 1</td>\n      <td>14951.72</td>\n      <td>1972</td>\n      <td>10</td>\n      <td>5</td>\n      <td>1996</td>\n      <td>...</td>\n      <td>22</td>\n      <td>1997</td>\n      <td>1</td>\n      <td>1</td>\n      <td>1997</td>\n      <td>1</td>\n      <td>1</td>\n      <td>693a1967b92e800cfca8b5f800030d47</td>\n      <td>2014</td>\n      <td>New Orleans CSD</td>\n    </tr>\n    <tr>\n      <th>2</th>\n      <td>pol special investigation div</td>\n      <td>cavaliere sr</td>\n      <td>morris</td>\n      <td>C7134</td>\n      <td>police officer 4</td>\n      <td>29243.06</td>\n      <td>1947</td>\n      <td>7</td>\n      <td>21</td>\n      <td>1970</td>\n      <td>...</td>\n      <td>21</td>\n      <td>1997</td>\n      <td>1</td>\n      <td>4</td>\n      <td>1997</td>\n      <td>1</td>\n      <td>4</td>\n      <td>0e1583f54d720cd899d9ce17c5d12869</td>\n      <td>2014</td>\n      <td>New Orleans CSD</td>\n    </tr>\n    <tr>\n      <th>3</th>\n      <td>pol first district</td>\n      <td>fonseca</td>\n      <td>norbert</td>\n      <td>C7112</td>\n      <td>police lieutenant</td>\n      <td>39893.17</td>\n      <td>1943</td>\n      <td>8</td>\n      <td>31</td>\n      <td>1967</td>\n      <td>...</td>\n      <td>21</td>\n      <td>1997</td>\n      <td>1</td>\n      <td>4</td>\n      <td>1997</td>\n      <td>1</td>\n      <td>4</td>\n      <td>fff2935b97640caa5e15508cf21a871c</td>\n      <td>2014</td>\n      <td>New Orleans CSD</td>\n    </tr>\n    <tr>\n      <th>4</th>\n      <td>pol fifth  district</td>\n      <td>hartman</td>\n      <td>steven</td>\n      <td>C7112</td>\n      <td>police lieutenant</td>\n      <td>33524.95</td>\n      <td>1964</td>\n      <td>3</td>\n      <td>11</td>\n      <td>1985</td>\n      <td>...</td>\n      <td>10</td>\n      <td>1997</td>\n      <td>1</td>\n      <td>4</td>\n      <td>1997</td>\n      <td>1</td>\n      <td>4</td>\n      <td>7b5f6f0e0cd3b2cfe3718d64a535ac43</td>\n      <td>2014</td>\n      <td>New Orleans CSD</td>\n    </tr>\n    <tr>\n      <th>...</th>\n      <td>...</td>\n      <td>...</td>\n      <td>...</td>\n      <td>...</td>\n      <td>...</td>\n      <td>...</td>\n      <td>...</td>\n      <td>...</td>\n      <td>...</td>\n      <td>...</td>\n      <td>...</td>\n      <td>...</td>\n      <td>...</td>\n      <td>...</td>\n      <td>...</td>\n      <td>...</td>\n      <td>...</td>\n      <td>...</td>\n      <td>...</td>\n      <td>...</td>\n      <td>...</td>\n    </tr>\n    <tr>\n      <th>3681</th>\n      <td>pol managemnt services bureau</td>\n      <td>johnson</td>\n      <td>shawn</td>\n      <td>C7105</td>\n      <td>police aide</td>\n      <td>28882.03</td>\n      <td>1990</td>\n      <td>6</td>\n      <td>23</td>\n      <td>2014</td>\n      <td>...</td>\n      <td>17</td>\n      <td>2014</td>\n      <td>12</td>\n      <td>10</td>\n      <td>2014</td>\n      <td>8</td>\n      <td>17</td>\n      <td>3e28e9f4250a2e3ae76d6f36345c6153</td>\n      <td>2014</td>\n      <td>New Orleans CSD</td>\n    </tr>\n    <tr>\n      <th>3682</th>\n      <td>pol sixth  district</td>\n      <td>linehan</td>\n      <td>henry</td>\n      <td>C7110</td>\n      <td>police officer 1</td>\n      <td>37490.69</td>\n      <td>1982</td>\n      <td>8</td>\n      <td>18</td>\n      <td>2009</td>\n      <td>...</td>\n      <td>27</td>\n      <td>2014</td>\n      <td>12</td>\n      <td>11</td>\n      <td>2011</td>\n      <td>3</td>\n      <td>13</td>\n      <td>7693cd75ee286e1b018fe5df832f79dc</td>\n      <td>2014</td>\n      <td>New Orleans CSD</td>\n    </tr>\n    <tr>\n      <th>3683</th>\n      <td>pol first district</td>\n      <td>finneman</td>\n      <td>david</td>\n      <td>C7111</td>\n      <td>police sergeant</td>\n      <td>50513.12</td>\n      <td>1960</td>\n      <td>12</td>\n      <td>20</td>\n      <td>2001</td>\n      <td>...</td>\n      <td>16</td>\n      <td>2014</td>\n      <td>12</td>\n      <td>13</td>\n      <td>2013</td>\n      <td>1</td>\n      <td>30</td>\n      <td>a4180ae4b9be2d1a19f2f68088cc6254</td>\n      <td>2014</td>\n      <td>New Orleans CSD</td>\n    </tr>\n    <tr>\n      <th>3684</th>\n      <td>pol managemnt services bureau</td>\n      <td>badr</td>\n      <td>mohamed</td>\n      <td>C7105</td>\n      <td>police aide</td>\n      <td>28882.03</td>\n      <td>1980</td>\n      <td>10</td>\n      <td>6</td>\n      <td>2014</td>\n      <td>...</td>\n      <td>31</td>\n      <td>2014</td>\n      <td>12</td>\n      <td>20</td>\n      <td>2014</td>\n      <td>8</td>\n      <td>31</td>\n      <td>eb56dc40d6c443298c510e1925494a56</td>\n      <td>2014</td>\n      <td>New Orleans CSD</td>\n    </tr>\n    <tr>\n      <th>3685</th>\n      <td>pol managemnt services bureau</td>\n      <td>patrick</td>\n      <td>carol</td>\n      <td>C7105</td>\n      <td>police aide</td>\n      <td>28882.03</td>\n      <td>1974</td>\n      <td>10</td>\n      <td>23</td>\n      <td>2014</td>\n      <td>...</td>\n      <td>17</td>\n      <td>2014</td>\n      <td>12</td>\n      <td>30</td>\n      <td>2014</td>\n      <td>8</td>\n      <td>17</td>\n      <td>77a4b1e86f03f8413931593458db3ee2</td>\n      <td>2014</td>\n      <td>New Orleans CSD</td>\n    </tr>\n  </tbody>\n</table>\n<p>3686 rows × 21 columns</p>\n</div>"
     },
     "metadata": {},
     "execution_count": 2
    }
   ],
   "source": [
    "df14 = clean_2014()\n",
    "df14"
   ]
  },
  {
   "cell_type": "code",
   "execution_count": 3,
   "metadata": {},
   "outputs": [
    {
     "output_type": "execute_result",
     "data": {
      "text/plain": [
       "Index(['department_desc', 'last_name', 'first_name', 'rank_code', 'rank_desc',\n",
       "       'annual_salary', 'birth_year', 'birth_month', 'birth_day', 'hire_year',\n",
       "       'hire_month', 'hire_day', 'term_year', 'term_month', 'term_day',\n",
       "       'pay_prog_start_year', 'pay_prog_start_month', 'pay_prog_start_day',\n",
       "       'mid', 'data_production_year', 'agency'],\n",
       "      dtype='object')"
      ]
     },
     "metadata": {},
     "execution_count": 3
    }
   ],
   "source": [
    "df14.columns"
   ]
  },
  {
   "cell_type": "code",
   "execution_count": 4,
   "metadata": {},
   "outputs": [
    {
     "output_type": "execute_result",
     "data": {
      "text/plain": [
       "                department_desc    last_name   first_name rank_code  \\\n",
       "0             fiscal management       abbott  christopher     C7134   \n",
       "1                       traffic       abbott        david     C7134   \n",
       "2               police recruits        abram      shelton     C7109   \n",
       "3             fiscal management        adams        james     C7133   \n",
       "4              public integrity        adams        bruce     U0018   \n",
       "...                         ...          ...          ...       ...   \n",
       "1976            police recruits        yount      jeffrey     C7109   \n",
       "1977  technicial services burea     zaldivar         sara     C7101   \n",
       "1978            sixth  district       zapico       daniel     C7110   \n",
       "1979            third  district       zoller          ron     C7134   \n",
       "1980           public integrity  zschiedrich       walter     C7111   \n",
       "\n",
       "                      rank_desc  annual_salary term_year term_month term_day  \\\n",
       "0              police officer 4       46885.01                                 \n",
       "1              police officer 4       48064.46                                 \n",
       "2        police recruit academy       34797.91                                 \n",
       "3              police officer 3       45734.50      2009          8       30   \n",
       "4      assistant supt of police      106440.30                                 \n",
       "...                         ...            ...       ...        ...      ...   \n",
       "1976     police recruit academy       34797.91                                 \n",
       "1977  police complaint operator       25508.06                                 \n",
       "1978           police officer 1       36570.71                                 \n",
       "1979           police officer 4       44612.22                                 \n",
       "1980            police sergeant       63170.56                                 \n",
       "\n",
       "     pay_prog_start_year pay_prog_start_month pay_prog_start_day  \\\n",
       "0                   1992                    2                  9   \n",
       "1                   1987                   11                  1   \n",
       "2                   2009                    9                  6   \n",
       "3                   1987                    9                  6   \n",
       "4                   1975                   10                 16   \n",
       "...                  ...                  ...                ...   \n",
       "1976                2009                    9                 13   \n",
       "1977                2009                    7                 19   \n",
       "1978                2009                    1                  4   \n",
       "1979                2000                   12                 31   \n",
       "1980                1974                   10                  7   \n",
       "\n",
       "                                   mid data_production_year           agency  \n",
       "0     a83da7a1db81c75a740615457b6c743c                 2009  New Orleans CSD  \n",
       "1     3dcc3b0764c84a77471669018ec797b0                 2009  New Orleans CSD  \n",
       "2     389bde7e51c4fda4c1a3b1fb0272be42                 2009  New Orleans CSD  \n",
       "3     5411afa95624ca1f17b558ca73412d85                 2009  New Orleans CSD  \n",
       "4     2cfb603b68dc1acc98c43543ad027473                 2009  New Orleans CSD  \n",
       "...                                ...                  ...              ...  \n",
       "1976  26e5c139f16cb7fbd4d2ed2dd1ceacc1                 2009  New Orleans CSD  \n",
       "1977  d62e46585dc336f37fd48fdf2d504917                 2009  New Orleans CSD  \n",
       "1978  42a40c68bf646d64356bd4c7e7316169                 2009  New Orleans CSD  \n",
       "1979  e273f90726d0987998eb9ca3ab3faa62                 2009  New Orleans CSD  \n",
       "1980  dcff99d3c4b8e14fcdefc75d7ac85337                 2009  New Orleans CSD  \n",
       "\n",
       "[1981 rows x 15 columns]"
      ],
      "text/html": "<div>\n<style scoped>\n    .dataframe tbody tr th:only-of-type {\n        vertical-align: middle;\n    }\n\n    .dataframe tbody tr th {\n        vertical-align: top;\n    }\n\n    .dataframe thead th {\n        text-align: right;\n    }\n</style>\n<table border=\"1\" class=\"dataframe\">\n  <thead>\n    <tr style=\"text-align: right;\">\n      <th></th>\n      <th>department_desc</th>\n      <th>last_name</th>\n      <th>first_name</th>\n      <th>rank_code</th>\n      <th>rank_desc</th>\n      <th>annual_salary</th>\n      <th>term_year</th>\n      <th>term_month</th>\n      <th>term_day</th>\n      <th>pay_prog_start_year</th>\n      <th>pay_prog_start_month</th>\n      <th>pay_prog_start_day</th>\n      <th>mid</th>\n      <th>data_production_year</th>\n      <th>agency</th>\n    </tr>\n  </thead>\n  <tbody>\n    <tr>\n      <th>0</th>\n      <td>fiscal management</td>\n      <td>abbott</td>\n      <td>christopher</td>\n      <td>C7134</td>\n      <td>police officer 4</td>\n      <td>46885.01</td>\n      <td></td>\n      <td></td>\n      <td></td>\n      <td>1992</td>\n      <td>2</td>\n      <td>9</td>\n      <td>a83da7a1db81c75a740615457b6c743c</td>\n      <td>2009</td>\n      <td>New Orleans CSD</td>\n    </tr>\n    <tr>\n      <th>1</th>\n      <td>traffic</td>\n      <td>abbott</td>\n      <td>david</td>\n      <td>C7134</td>\n      <td>police officer 4</td>\n      <td>48064.46</td>\n      <td></td>\n      <td></td>\n      <td></td>\n      <td>1987</td>\n      <td>11</td>\n      <td>1</td>\n      <td>3dcc3b0764c84a77471669018ec797b0</td>\n      <td>2009</td>\n      <td>New Orleans CSD</td>\n    </tr>\n    <tr>\n      <th>2</th>\n      <td>police recruits</td>\n      <td>abram</td>\n      <td>shelton</td>\n      <td>C7109</td>\n      <td>police recruit academy</td>\n      <td>34797.91</td>\n      <td></td>\n      <td></td>\n      <td></td>\n      <td>2009</td>\n      <td>9</td>\n      <td>6</td>\n      <td>389bde7e51c4fda4c1a3b1fb0272be42</td>\n      <td>2009</td>\n      <td>New Orleans CSD</td>\n    </tr>\n    <tr>\n      <th>3</th>\n      <td>fiscal management</td>\n      <td>adams</td>\n      <td>james</td>\n      <td>C7133</td>\n      <td>police officer 3</td>\n      <td>45734.50</td>\n      <td>2009</td>\n      <td>8</td>\n      <td>30</td>\n      <td>1987</td>\n      <td>9</td>\n      <td>6</td>\n      <td>5411afa95624ca1f17b558ca73412d85</td>\n      <td>2009</td>\n      <td>New Orleans CSD</td>\n    </tr>\n    <tr>\n      <th>4</th>\n      <td>public integrity</td>\n      <td>adams</td>\n      <td>bruce</td>\n      <td>U0018</td>\n      <td>assistant supt of police</td>\n      <td>106440.30</td>\n      <td></td>\n      <td></td>\n      <td></td>\n      <td>1975</td>\n      <td>10</td>\n      <td>16</td>\n      <td>2cfb603b68dc1acc98c43543ad027473</td>\n      <td>2009</td>\n      <td>New Orleans CSD</td>\n    </tr>\n    <tr>\n      <th>...</th>\n      <td>...</td>\n      <td>...</td>\n      <td>...</td>\n      <td>...</td>\n      <td>...</td>\n      <td>...</td>\n      <td>...</td>\n      <td>...</td>\n      <td>...</td>\n      <td>...</td>\n      <td>...</td>\n      <td>...</td>\n      <td>...</td>\n      <td>...</td>\n      <td>...</td>\n    </tr>\n    <tr>\n      <th>1976</th>\n      <td>police recruits</td>\n      <td>yount</td>\n      <td>jeffrey</td>\n      <td>C7109</td>\n      <td>police recruit academy</td>\n      <td>34797.91</td>\n      <td></td>\n      <td></td>\n      <td></td>\n      <td>2009</td>\n      <td>9</td>\n      <td>13</td>\n      <td>26e5c139f16cb7fbd4d2ed2dd1ceacc1</td>\n      <td>2009</td>\n      <td>New Orleans CSD</td>\n    </tr>\n    <tr>\n      <th>1977</th>\n      <td>technicial services burea</td>\n      <td>zaldivar</td>\n      <td>sara</td>\n      <td>C7101</td>\n      <td>police complaint operator</td>\n      <td>25508.06</td>\n      <td></td>\n      <td></td>\n      <td></td>\n      <td>2009</td>\n      <td>7</td>\n      <td>19</td>\n      <td>d62e46585dc336f37fd48fdf2d504917</td>\n      <td>2009</td>\n      <td>New Orleans CSD</td>\n    </tr>\n    <tr>\n      <th>1978</th>\n      <td>sixth  district</td>\n      <td>zapico</td>\n      <td>daniel</td>\n      <td>C7110</td>\n      <td>police officer 1</td>\n      <td>36570.71</td>\n      <td></td>\n      <td></td>\n      <td></td>\n      <td>2009</td>\n      <td>1</td>\n      <td>4</td>\n      <td>42a40c68bf646d64356bd4c7e7316169</td>\n      <td>2009</td>\n      <td>New Orleans CSD</td>\n    </tr>\n    <tr>\n      <th>1979</th>\n      <td>third  district</td>\n      <td>zoller</td>\n      <td>ron</td>\n      <td>C7134</td>\n      <td>police officer 4</td>\n      <td>44612.22</td>\n      <td></td>\n      <td></td>\n      <td></td>\n      <td>2000</td>\n      <td>12</td>\n      <td>31</td>\n      <td>e273f90726d0987998eb9ca3ab3faa62</td>\n      <td>2009</td>\n      <td>New Orleans CSD</td>\n    </tr>\n    <tr>\n      <th>1980</th>\n      <td>public integrity</td>\n      <td>zschiedrich</td>\n      <td>walter</td>\n      <td>C7111</td>\n      <td>police sergeant</td>\n      <td>63170.56</td>\n      <td></td>\n      <td></td>\n      <td></td>\n      <td>1974</td>\n      <td>10</td>\n      <td>7</td>\n      <td>dcff99d3c4b8e14fcdefc75d7ac85337</td>\n      <td>2009</td>\n      <td>New Orleans CSD</td>\n    </tr>\n  </tbody>\n</table>\n<p>1981 rows × 15 columns</p>\n</div>"
     },
     "metadata": {},
     "execution_count": 4
    }
   ],
   "source": [
    "df09 = clean_2009()\n",
    "df09"
   ]
  },
  {
   "cell_type": "code",
   "execution_count": 5,
   "metadata": {},
   "outputs": [
    {
     "output_type": "execute_result",
     "data": {
      "text/plain": [
       "                 department_desc  last_name first_name rank_code  \\\n",
       "107   management services bureau  barnes sr       juan     C7134   \n",
       "796    technicial services burea      henry       juan     C7134   \n",
       "1115             fifth  district      lopez       juan     C7110   \n",
       "1473   off of the superintendent    quinton       juan     C7122   \n",
       "1817             second district       vara       juan     C7110   \n",
       "\n",
       "             rank_desc  annual_salary term_year term_month term_day  \\\n",
       "107   police officer 4       45734.50                                 \n",
       "796   police officer 4       48064.46                                 \n",
       "1115  police officer 1       38433.81                                 \n",
       "1473      police major       77061.11                                 \n",
       "1817  police officer 1       37490.69                                 \n",
       "\n",
       "     pay_prog_start_year pay_prog_start_month pay_prog_start_day  \\\n",
       "107                 1998                    2                  8   \n",
       "796                 1988                   12                 18   \n",
       "1115                2000                    3                  5   \n",
       "1473                1975                   10                 20   \n",
       "1817                2008                    8                 17   \n",
       "\n",
       "                                   mid data_production_year           agency  \n",
       "107   225027a3c62f4aa5fe65b1df12d0ebe2                 2009  New Orleans CSD  \n",
       "796   73628652cd5e68da66fca09f6a47877b                 2009  New Orleans CSD  \n",
       "1115  1f66d5d794846dc75f17343210658373                 2009  New Orleans CSD  \n",
       "1473  16ac43aa67f28a9f7db4d21f5cb3797e                 2009  New Orleans CSD  \n",
       "1817  3caee6c11e761eb1abad29636e69bc2a                 2009  New Orleans CSD  "
      ],
      "text/html": "<div>\n<style scoped>\n    .dataframe tbody tr th:only-of-type {\n        vertical-align: middle;\n    }\n\n    .dataframe tbody tr th {\n        vertical-align: top;\n    }\n\n    .dataframe thead th {\n        text-align: right;\n    }\n</style>\n<table border=\"1\" class=\"dataframe\">\n  <thead>\n    <tr style=\"text-align: right;\">\n      <th></th>\n      <th>department_desc</th>\n      <th>last_name</th>\n      <th>first_name</th>\n      <th>rank_code</th>\n      <th>rank_desc</th>\n      <th>annual_salary</th>\n      <th>term_year</th>\n      <th>term_month</th>\n      <th>term_day</th>\n      <th>pay_prog_start_year</th>\n      <th>pay_prog_start_month</th>\n      <th>pay_prog_start_day</th>\n      <th>mid</th>\n      <th>data_production_year</th>\n      <th>agency</th>\n    </tr>\n  </thead>\n  <tbody>\n    <tr>\n      <th>107</th>\n      <td>management services bureau</td>\n      <td>barnes sr</td>\n      <td>juan</td>\n      <td>C7134</td>\n      <td>police officer 4</td>\n      <td>45734.50</td>\n      <td></td>\n      <td></td>\n      <td></td>\n      <td>1998</td>\n      <td>2</td>\n      <td>8</td>\n      <td>225027a3c62f4aa5fe65b1df12d0ebe2</td>\n      <td>2009</td>\n      <td>New Orleans CSD</td>\n    </tr>\n    <tr>\n      <th>796</th>\n      <td>technicial services burea</td>\n      <td>henry</td>\n      <td>juan</td>\n      <td>C7134</td>\n      <td>police officer 4</td>\n      <td>48064.46</td>\n      <td></td>\n      <td></td>\n      <td></td>\n      <td>1988</td>\n      <td>12</td>\n      <td>18</td>\n      <td>73628652cd5e68da66fca09f6a47877b</td>\n      <td>2009</td>\n      <td>New Orleans CSD</td>\n    </tr>\n    <tr>\n      <th>1115</th>\n      <td>fifth  district</td>\n      <td>lopez</td>\n      <td>juan</td>\n      <td>C7110</td>\n      <td>police officer 1</td>\n      <td>38433.81</td>\n      <td></td>\n      <td></td>\n      <td></td>\n      <td>2000</td>\n      <td>3</td>\n      <td>5</td>\n      <td>1f66d5d794846dc75f17343210658373</td>\n      <td>2009</td>\n      <td>New Orleans CSD</td>\n    </tr>\n    <tr>\n      <th>1473</th>\n      <td>off of the superintendent</td>\n      <td>quinton</td>\n      <td>juan</td>\n      <td>C7122</td>\n      <td>police major</td>\n      <td>77061.11</td>\n      <td></td>\n      <td></td>\n      <td></td>\n      <td>1975</td>\n      <td>10</td>\n      <td>20</td>\n      <td>16ac43aa67f28a9f7db4d21f5cb3797e</td>\n      <td>2009</td>\n      <td>New Orleans CSD</td>\n    </tr>\n    <tr>\n      <th>1817</th>\n      <td>second district</td>\n      <td>vara</td>\n      <td>juan</td>\n      <td>C7110</td>\n      <td>police officer 1</td>\n      <td>37490.69</td>\n      <td></td>\n      <td></td>\n      <td></td>\n      <td>2008</td>\n      <td>8</td>\n      <td>17</td>\n      <td>3caee6c11e761eb1abad29636e69bc2a</td>\n      <td>2009</td>\n      <td>New Orleans CSD</td>\n    </tr>\n  </tbody>\n</table>\n</div>"
     },
     "metadata": {},
     "execution_count": 5
    }
   ],
   "source": [
    "df09[df09.first_name == \"juan\"]"
   ]
  },
  {
   "cell_type": "code",
   "execution_count": 6,
   "metadata": {},
   "outputs": [
    {
     "output_type": "execute_result",
     "data": {
      "text/plain": [
       "                department_desc    last_name   first_name rank_code  \\\n",
       "0             fiscal management       abbott  christopher     C7134   \n",
       "1                       traffic       abbott        david     C7134   \n",
       "2               police recruits        abram      shelton     C7109   \n",
       "3             fiscal management        adams        james     C7133   \n",
       "4              public integrity        adams        bruce     U0018   \n",
       "...                         ...          ...          ...       ...   \n",
       "1976            police recruits        yount      jeffrey     C7109   \n",
       "1977  technicial services burea     zaldivar         sara     C7101   \n",
       "1978            sixth  district       zapico       daniel     C7110   \n",
       "1979            third  district       zoller          ron     C7134   \n",
       "1980           public integrity  zschiedrich       walter     C7111   \n",
       "\n",
       "                      rank_desc  annual_salary term_year term_month term_day  \\\n",
       "0              police officer 4       46885.01                                 \n",
       "1              police officer 4       48064.46                                 \n",
       "2        police recruit academy       34797.91                                 \n",
       "3              police officer 3       45734.50      2009          8       30   \n",
       "4      assistant supt of police      106440.30                                 \n",
       "...                         ...            ...       ...        ...      ...   \n",
       "1976     police recruit academy       34797.91                                 \n",
       "1977  police complaint operator       25508.06                                 \n",
       "1978           police officer 1       36570.71                                 \n",
       "1979           police officer 4       44612.22                                 \n",
       "1980            police sergeant       63170.56                                 \n",
       "\n",
       "     pay_prog_start_year pay_prog_start_month pay_prog_start_day  \\\n",
       "0                   1992                    2                  9   \n",
       "1                   1987                   11                  1   \n",
       "2                   2009                    9                  6   \n",
       "3                   1987                    9                  6   \n",
       "4                   1975                   10                 16   \n",
       "...                  ...                  ...                ...   \n",
       "1976                2009                    9                 13   \n",
       "1977                2009                    7                 19   \n",
       "1978                2009                    1                  4   \n",
       "1979                2000                   12                 31   \n",
       "1980                1974                   10                  7   \n",
       "\n",
       "     data_production_year           agency                               uid  \n",
       "0                    2009  New Orleans CSD  a83da7a1db81c75a740615457b6c743c  \n",
       "1                    2009  New Orleans CSD  3dcc3b0764c84a77471669018ec797b0  \n",
       "2                    2009  New Orleans CSD  389bde7e51c4fda4c1a3b1fb0272be42  \n",
       "3                    2009  New Orleans CSD  5411afa95624ca1f17b558ca73412d85  \n",
       "4                    2009  New Orleans CSD  2cfb603b68dc1acc98c43543ad027473  \n",
       "...                   ...              ...                               ...  \n",
       "1976                 2009  New Orleans CSD  26e5c139f16cb7fbd4d2ed2dd1ceacc1  \n",
       "1977                 2009  New Orleans CSD  d62e46585dc336f37fd48fdf2d504917  \n",
       "1978                 2009  New Orleans CSD  42a40c68bf646d64356bd4c7e7316169  \n",
       "1979                 2009  New Orleans CSD  e273f90726d0987998eb9ca3ab3faa62  \n",
       "1980                 2009  New Orleans CSD  dcff99d3c4b8e14fcdefc75d7ac85337  \n",
       "\n",
       "[1981 rows x 15 columns]"
      ],
      "text/html": "<div>\n<style scoped>\n    .dataframe tbody tr th:only-of-type {\n        vertical-align: middle;\n    }\n\n    .dataframe tbody tr th {\n        vertical-align: top;\n    }\n\n    .dataframe thead th {\n        text-align: right;\n    }\n</style>\n<table border=\"1\" class=\"dataframe\">\n  <thead>\n    <tr style=\"text-align: right;\">\n      <th></th>\n      <th>department_desc</th>\n      <th>last_name</th>\n      <th>first_name</th>\n      <th>rank_code</th>\n      <th>rank_desc</th>\n      <th>annual_salary</th>\n      <th>term_year</th>\n      <th>term_month</th>\n      <th>term_day</th>\n      <th>pay_prog_start_year</th>\n      <th>pay_prog_start_month</th>\n      <th>pay_prog_start_day</th>\n      <th>data_production_year</th>\n      <th>agency</th>\n      <th>uid</th>\n    </tr>\n  </thead>\n  <tbody>\n    <tr>\n      <th>0</th>\n      <td>fiscal management</td>\n      <td>abbott</td>\n      <td>christopher</td>\n      <td>C7134</td>\n      <td>police officer 4</td>\n      <td>46885.01</td>\n      <td></td>\n      <td></td>\n      <td></td>\n      <td>1992</td>\n      <td>2</td>\n      <td>9</td>\n      <td>2009</td>\n      <td>New Orleans CSD</td>\n      <td>a83da7a1db81c75a740615457b6c743c</td>\n    </tr>\n    <tr>\n      <th>1</th>\n      <td>traffic</td>\n      <td>abbott</td>\n      <td>david</td>\n      <td>C7134</td>\n      <td>police officer 4</td>\n      <td>48064.46</td>\n      <td></td>\n      <td></td>\n      <td></td>\n      <td>1987</td>\n      <td>11</td>\n      <td>1</td>\n      <td>2009</td>\n      <td>New Orleans CSD</td>\n      <td>3dcc3b0764c84a77471669018ec797b0</td>\n    </tr>\n    <tr>\n      <th>2</th>\n      <td>police recruits</td>\n      <td>abram</td>\n      <td>shelton</td>\n      <td>C7109</td>\n      <td>police recruit academy</td>\n      <td>34797.91</td>\n      <td></td>\n      <td></td>\n      <td></td>\n      <td>2009</td>\n      <td>9</td>\n      <td>6</td>\n      <td>2009</td>\n      <td>New Orleans CSD</td>\n      <td>389bde7e51c4fda4c1a3b1fb0272be42</td>\n    </tr>\n    <tr>\n      <th>3</th>\n      <td>fiscal management</td>\n      <td>adams</td>\n      <td>james</td>\n      <td>C7133</td>\n      <td>police officer 3</td>\n      <td>45734.50</td>\n      <td>2009</td>\n      <td>8</td>\n      <td>30</td>\n      <td>1987</td>\n      <td>9</td>\n      <td>6</td>\n      <td>2009</td>\n      <td>New Orleans CSD</td>\n      <td>5411afa95624ca1f17b558ca73412d85</td>\n    </tr>\n    <tr>\n      <th>4</th>\n      <td>public integrity</td>\n      <td>adams</td>\n      <td>bruce</td>\n      <td>U0018</td>\n      <td>assistant supt of police</td>\n      <td>106440.30</td>\n      <td></td>\n      <td></td>\n      <td></td>\n      <td>1975</td>\n      <td>10</td>\n      <td>16</td>\n      <td>2009</td>\n      <td>New Orleans CSD</td>\n      <td>2cfb603b68dc1acc98c43543ad027473</td>\n    </tr>\n    <tr>\n      <th>...</th>\n      <td>...</td>\n      <td>...</td>\n      <td>...</td>\n      <td>...</td>\n      <td>...</td>\n      <td>...</td>\n      <td>...</td>\n      <td>...</td>\n      <td>...</td>\n      <td>...</td>\n      <td>...</td>\n      <td>...</td>\n      <td>...</td>\n      <td>...</td>\n      <td>...</td>\n    </tr>\n    <tr>\n      <th>1976</th>\n      <td>police recruits</td>\n      <td>yount</td>\n      <td>jeffrey</td>\n      <td>C7109</td>\n      <td>police recruit academy</td>\n      <td>34797.91</td>\n      <td></td>\n      <td></td>\n      <td></td>\n      <td>2009</td>\n      <td>9</td>\n      <td>13</td>\n      <td>2009</td>\n      <td>New Orleans CSD</td>\n      <td>26e5c139f16cb7fbd4d2ed2dd1ceacc1</td>\n    </tr>\n    <tr>\n      <th>1977</th>\n      <td>technicial services burea</td>\n      <td>zaldivar</td>\n      <td>sara</td>\n      <td>C7101</td>\n      <td>police complaint operator</td>\n      <td>25508.06</td>\n      <td></td>\n      <td></td>\n      <td></td>\n      <td>2009</td>\n      <td>7</td>\n      <td>19</td>\n      <td>2009</td>\n      <td>New Orleans CSD</td>\n      <td>d62e46585dc336f37fd48fdf2d504917</td>\n    </tr>\n    <tr>\n      <th>1978</th>\n      <td>sixth  district</td>\n      <td>zapico</td>\n      <td>daniel</td>\n      <td>C7110</td>\n      <td>police officer 1</td>\n      <td>36570.71</td>\n      <td></td>\n      <td></td>\n      <td></td>\n      <td>2009</td>\n      <td>1</td>\n      <td>4</td>\n      <td>2009</td>\n      <td>New Orleans CSD</td>\n      <td>42a40c68bf646d64356bd4c7e7316169</td>\n    </tr>\n    <tr>\n      <th>1979</th>\n      <td>third  district</td>\n      <td>zoller</td>\n      <td>ron</td>\n      <td>C7134</td>\n      <td>police officer 4</td>\n      <td>44612.22</td>\n      <td></td>\n      <td></td>\n      <td></td>\n      <td>2000</td>\n      <td>12</td>\n      <td>31</td>\n      <td>2009</td>\n      <td>New Orleans CSD</td>\n      <td>e273f90726d0987998eb9ca3ab3faa62</td>\n    </tr>\n    <tr>\n      <th>1980</th>\n      <td>public integrity</td>\n      <td>zschiedrich</td>\n      <td>walter</td>\n      <td>C7111</td>\n      <td>police sergeant</td>\n      <td>63170.56</td>\n      <td></td>\n      <td></td>\n      <td></td>\n      <td>1974</td>\n      <td>10</td>\n      <td>7</td>\n      <td>2009</td>\n      <td>New Orleans CSD</td>\n      <td>dcff99d3c4b8e14fcdefc75d7ac85337</td>\n    </tr>\n  </tbody>\n</table>\n<p>1981 rows × 15 columns</p>\n</div>"
     },
     "metadata": {},
     "execution_count": 6
    }
   ],
   "source": [
    "df09, df14 = match_officers(df09, df14)\n",
    "df09"
   ]
  },
  {
   "cell_type": "code",
   "execution_count": 7,
   "metadata": {
    "tags": []
   },
   "outputs": [
    {
     "output_type": "execute_result",
     "data": {
      "text/plain": [
       "                    department_desc     last_name first_name rank_code  \\\n",
       "0     pol managemnt services bureau         moore  charmaine     C0025   \n",
       "1     pol managemnt services bureau         coxen     shanna     C5201   \n",
       "2     pol special investigation div  cavaliere sr     morris     C7134   \n",
       "3                pol first district       fonseca    norbert     C7112   \n",
       "4               pol fifth  district       hartman     steven     C7112   \n",
       "...                             ...           ...        ...       ...   \n",
       "3681  pol managemnt services bureau       johnson      shawn     C7105   \n",
       "3682            pol sixth  district       linehan      henry     C7110   \n",
       "3683             pol first district      finneman      david     C7111   \n",
       "3684  pol managemnt services bureau          badr    mohamed     C7105   \n",
       "3685  pol managemnt services bureau       patrick      carol     C7105   \n",
       "\n",
       "                    rank_desc  annual_salary birth_year birth_month birth_day  \\\n",
       "0         clerical specialist       11235.83       1901           1         1   \n",
       "1     laboratory technician 1       14951.72       1972          10         5   \n",
       "2            police officer 4       29243.06       1947           7        21   \n",
       "3           police lieutenant       39893.17       1943           8        31   \n",
       "4           police lieutenant       33524.95       1964           3        11   \n",
       "...                       ...            ...        ...         ...       ...   \n",
       "3681              police aide       28882.03       1990           6        23   \n",
       "3682         police officer 1       37490.69       1982           8        18   \n",
       "3683          police sergeant       50513.12       1960          12        20   \n",
       "3684              police aide       28882.03       1980          10         6   \n",
       "3685              police aide       28882.03       1974          10        23   \n",
       "\n",
       "     hire_year  ... hire_day term_year term_month term_day  \\\n",
       "0         1996  ...        8      1996          8       28   \n",
       "1         1996  ...       22      1997          1        1   \n",
       "2         1970  ...       21      1997          1        4   \n",
       "3         1967  ...       21      1997          1        4   \n",
       "4         1985  ...       10      1997          1        4   \n",
       "...        ...  ...      ...       ...        ...      ...   \n",
       "3681      2014  ...       17      2014         12       10   \n",
       "3682      2009  ...       27      2014         12       11   \n",
       "3683      2001  ...       16      2014         12       13   \n",
       "3684      2014  ...       31      2014         12       20   \n",
       "3685      2014  ...       17      2014         12       30   \n",
       "\n",
       "     pay_prog_start_year pay_prog_start_month pay_prog_start_day  \\\n",
       "0                   1996                    8                 28   \n",
       "1                   1997                    1                  1   \n",
       "2                   1997                    1                  4   \n",
       "3                   1997                    1                  4   \n",
       "4                   1997                    1                  4   \n",
       "...                  ...                  ...                ...   \n",
       "3681                2014                    8                 17   \n",
       "3682                2011                    3                 13   \n",
       "3683                2013                    1                 30   \n",
       "3684                2014                    8                 31   \n",
       "3685                2014                    8                 17   \n",
       "\n",
       "     data_production_year           agency                               uid  \n",
       "0                    2014  New Orleans CSD  d9b2bb8829f4b2e4fd97290ea93ee56e  \n",
       "1                    2014  New Orleans CSD  693a1967b92e800cfca8b5f800030d47  \n",
       "2                    2014  New Orleans CSD  0e1583f54d720cd899d9ce17c5d12869  \n",
       "3                    2014  New Orleans CSD  fff2935b97640caa5e15508cf21a871c  \n",
       "4                    2014  New Orleans CSD  7b5f6f0e0cd3b2cfe3718d64a535ac43  \n",
       "...                   ...              ...                               ...  \n",
       "3681                 2014  New Orleans CSD  3e28e9f4250a2e3ae76d6f36345c6153  \n",
       "3682                 2014  New Orleans CSD  7693cd75ee286e1b018fe5df832f79dc  \n",
       "3683                 2014  New Orleans CSD  a4180ae4b9be2d1a19f2f68088cc6254  \n",
       "3684                 2014  New Orleans CSD  eb56dc40d6c443298c510e1925494a56  \n",
       "3685                 2014  New Orleans CSD  77a4b1e86f03f8413931593458db3ee2  \n",
       "\n",
       "[3686 rows x 21 columns]"
      ],
      "text/html": "<div>\n<style scoped>\n    .dataframe tbody tr th:only-of-type {\n        vertical-align: middle;\n    }\n\n    .dataframe tbody tr th {\n        vertical-align: top;\n    }\n\n    .dataframe thead th {\n        text-align: right;\n    }\n</style>\n<table border=\"1\" class=\"dataframe\">\n  <thead>\n    <tr style=\"text-align: right;\">\n      <th></th>\n      <th>department_desc</th>\n      <th>last_name</th>\n      <th>first_name</th>\n      <th>rank_code</th>\n      <th>rank_desc</th>\n      <th>annual_salary</th>\n      <th>birth_year</th>\n      <th>birth_month</th>\n      <th>birth_day</th>\n      <th>hire_year</th>\n      <th>...</th>\n      <th>hire_day</th>\n      <th>term_year</th>\n      <th>term_month</th>\n      <th>term_day</th>\n      <th>pay_prog_start_year</th>\n      <th>pay_prog_start_month</th>\n      <th>pay_prog_start_day</th>\n      <th>data_production_year</th>\n      <th>agency</th>\n      <th>uid</th>\n    </tr>\n  </thead>\n  <tbody>\n    <tr>\n      <th>0</th>\n      <td>pol managemnt services bureau</td>\n      <td>moore</td>\n      <td>charmaine</td>\n      <td>C0025</td>\n      <td>clerical specialist</td>\n      <td>11235.83</td>\n      <td>1901</td>\n      <td>1</td>\n      <td>1</td>\n      <td>1996</td>\n      <td>...</td>\n      <td>8</td>\n      <td>1996</td>\n      <td>8</td>\n      <td>28</td>\n      <td>1996</td>\n      <td>8</td>\n      <td>28</td>\n      <td>2014</td>\n      <td>New Orleans CSD</td>\n      <td>d9b2bb8829f4b2e4fd97290ea93ee56e</td>\n    </tr>\n    <tr>\n      <th>1</th>\n      <td>pol managemnt services bureau</td>\n      <td>coxen</td>\n      <td>shanna</td>\n      <td>C5201</td>\n      <td>laboratory technician 1</td>\n      <td>14951.72</td>\n      <td>1972</td>\n      <td>10</td>\n      <td>5</td>\n      <td>1996</td>\n      <td>...</td>\n      <td>22</td>\n      <td>1997</td>\n      <td>1</td>\n      <td>1</td>\n      <td>1997</td>\n      <td>1</td>\n      <td>1</td>\n      <td>2014</td>\n      <td>New Orleans CSD</td>\n      <td>693a1967b92e800cfca8b5f800030d47</td>\n    </tr>\n    <tr>\n      <th>2</th>\n      <td>pol special investigation div</td>\n      <td>cavaliere sr</td>\n      <td>morris</td>\n      <td>C7134</td>\n      <td>police officer 4</td>\n      <td>29243.06</td>\n      <td>1947</td>\n      <td>7</td>\n      <td>21</td>\n      <td>1970</td>\n      <td>...</td>\n      <td>21</td>\n      <td>1997</td>\n      <td>1</td>\n      <td>4</td>\n      <td>1997</td>\n      <td>1</td>\n      <td>4</td>\n      <td>2014</td>\n      <td>New Orleans CSD</td>\n      <td>0e1583f54d720cd899d9ce17c5d12869</td>\n    </tr>\n    <tr>\n      <th>3</th>\n      <td>pol first district</td>\n      <td>fonseca</td>\n      <td>norbert</td>\n      <td>C7112</td>\n      <td>police lieutenant</td>\n      <td>39893.17</td>\n      <td>1943</td>\n      <td>8</td>\n      <td>31</td>\n      <td>1967</td>\n      <td>...</td>\n      <td>21</td>\n      <td>1997</td>\n      <td>1</td>\n      <td>4</td>\n      <td>1997</td>\n      <td>1</td>\n      <td>4</td>\n      <td>2014</td>\n      <td>New Orleans CSD</td>\n      <td>fff2935b97640caa5e15508cf21a871c</td>\n    </tr>\n    <tr>\n      <th>4</th>\n      <td>pol fifth  district</td>\n      <td>hartman</td>\n      <td>steven</td>\n      <td>C7112</td>\n      <td>police lieutenant</td>\n      <td>33524.95</td>\n      <td>1964</td>\n      <td>3</td>\n      <td>11</td>\n      <td>1985</td>\n      <td>...</td>\n      <td>10</td>\n      <td>1997</td>\n      <td>1</td>\n      <td>4</td>\n      <td>1997</td>\n      <td>1</td>\n      <td>4</td>\n      <td>2014</td>\n      <td>New Orleans CSD</td>\n      <td>7b5f6f0e0cd3b2cfe3718d64a535ac43</td>\n    </tr>\n    <tr>\n      <th>...</th>\n      <td>...</td>\n      <td>...</td>\n      <td>...</td>\n      <td>...</td>\n      <td>...</td>\n      <td>...</td>\n      <td>...</td>\n      <td>...</td>\n      <td>...</td>\n      <td>...</td>\n      <td>...</td>\n      <td>...</td>\n      <td>...</td>\n      <td>...</td>\n      <td>...</td>\n      <td>...</td>\n      <td>...</td>\n      <td>...</td>\n      <td>...</td>\n      <td>...</td>\n      <td>...</td>\n    </tr>\n    <tr>\n      <th>3681</th>\n      <td>pol managemnt services bureau</td>\n      <td>johnson</td>\n      <td>shawn</td>\n      <td>C7105</td>\n      <td>police aide</td>\n      <td>28882.03</td>\n      <td>1990</td>\n      <td>6</td>\n      <td>23</td>\n      <td>2014</td>\n      <td>...</td>\n      <td>17</td>\n      <td>2014</td>\n      <td>12</td>\n      <td>10</td>\n      <td>2014</td>\n      <td>8</td>\n      <td>17</td>\n      <td>2014</td>\n      <td>New Orleans CSD</td>\n      <td>3e28e9f4250a2e3ae76d6f36345c6153</td>\n    </tr>\n    <tr>\n      <th>3682</th>\n      <td>pol sixth  district</td>\n      <td>linehan</td>\n      <td>henry</td>\n      <td>C7110</td>\n      <td>police officer 1</td>\n      <td>37490.69</td>\n      <td>1982</td>\n      <td>8</td>\n      <td>18</td>\n      <td>2009</td>\n      <td>...</td>\n      <td>27</td>\n      <td>2014</td>\n      <td>12</td>\n      <td>11</td>\n      <td>2011</td>\n      <td>3</td>\n      <td>13</td>\n      <td>2014</td>\n      <td>New Orleans CSD</td>\n      <td>7693cd75ee286e1b018fe5df832f79dc</td>\n    </tr>\n    <tr>\n      <th>3683</th>\n      <td>pol first district</td>\n      <td>finneman</td>\n      <td>david</td>\n      <td>C7111</td>\n      <td>police sergeant</td>\n      <td>50513.12</td>\n      <td>1960</td>\n      <td>12</td>\n      <td>20</td>\n      <td>2001</td>\n      <td>...</td>\n      <td>16</td>\n      <td>2014</td>\n      <td>12</td>\n      <td>13</td>\n      <td>2013</td>\n      <td>1</td>\n      <td>30</td>\n      <td>2014</td>\n      <td>New Orleans CSD</td>\n      <td>a4180ae4b9be2d1a19f2f68088cc6254</td>\n    </tr>\n    <tr>\n      <th>3684</th>\n      <td>pol managemnt services bureau</td>\n      <td>badr</td>\n      <td>mohamed</td>\n      <td>C7105</td>\n      <td>police aide</td>\n      <td>28882.03</td>\n      <td>1980</td>\n      <td>10</td>\n      <td>6</td>\n      <td>2014</td>\n      <td>...</td>\n      <td>31</td>\n      <td>2014</td>\n      <td>12</td>\n      <td>20</td>\n      <td>2014</td>\n      <td>8</td>\n      <td>31</td>\n      <td>2014</td>\n      <td>New Orleans CSD</td>\n      <td>eb56dc40d6c443298c510e1925494a56</td>\n    </tr>\n    <tr>\n      <th>3685</th>\n      <td>pol managemnt services bureau</td>\n      <td>patrick</td>\n      <td>carol</td>\n      <td>C7105</td>\n      <td>police aide</td>\n      <td>28882.03</td>\n      <td>1974</td>\n      <td>10</td>\n      <td>23</td>\n      <td>2014</td>\n      <td>...</td>\n      <td>17</td>\n      <td>2014</td>\n      <td>12</td>\n      <td>30</td>\n      <td>2014</td>\n      <td>8</td>\n      <td>17</td>\n      <td>2014</td>\n      <td>New Orleans CSD</td>\n      <td>77a4b1e86f03f8413931593458db3ee2</td>\n    </tr>\n  </tbody>\n</table>\n<p>3686 rows × 21 columns</p>\n</div>"
     },
     "metadata": {},
     "execution_count": 7
    }
   ],
   "source": [
    "df14"
   ]
  },
  {
   "cell_type": "code",
   "execution_count": null,
   "metadata": {},
   "outputs": [],
   "source": []
  }
 ],
 "metadata": {
  "kernelspec": {
   "display_name": "Python 3",
   "language": "python",
   "name": "python3"
  },
  "language_info": {
   "codemirror_mode": {
    "name": "ipython",
    "version": 3
   },
   "file_extension": ".py",
   "mimetype": "text/x-python",
   "name": "python",
   "nbconvert_exporter": "python",
   "pygments_lexer": "ipython3",
   "version": "3.8.3-final"
  }
 },
 "nbformat": 4,
 "nbformat_minor": 4
}
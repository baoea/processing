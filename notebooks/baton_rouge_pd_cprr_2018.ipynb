{
 "metadata": {
  "language_info": {
   "codemirror_mode": {
    "name": "ipython",
    "version": 3
   },
   "file_extension": ".py",
   "mimetype": "text/x-python",
   "name": "python",
   "nbconvert_exporter": "python",
   "pygments_lexer": "ipython3",
   "version": "3.8.3-final"
  },
  "orig_nbformat": 2,
  "kernelspec": {
   "name": "python3",
   "display_name": "Python 3",
   "language": "python"
  }
 },
 "nbformat": 4,
 "nbformat_minor": 2,
 "cells": [
  {
   "cell_type": "code",
   "execution_count": 1,
   "metadata": {},
   "outputs": [],
   "source": [
    "import re\n",
    "import sys; sys.path.append(\"../\")\n",
    "\n",
    "import numpy as np\n",
    "import pandas as pd\n",
    "\n",
    "from lib.columns import rearrange_complaint_columns\n",
    "from lib.textract import parse_textract_datetime\n",
    "from clean.baton_rouge_pd_cprr import clean_18"
   ]
  },
  {
   "cell_type": "code",
   "execution_count": 2,
   "metadata": {},
   "outputs": [
    {
     "output_type": "stream",
     "name": "stdout",
     "text": [
      "standardize_from_lookup_table: unmatched sequences:\n  {'', 'awol ', ', ', ': ', '; ', ' (60 day rule)', 'command of temper (', ' & '}\n"
     ]
    },
    {
     "output_type": "execute_result",
     "data": {
      "text/plain": [
       "      investigation_status                action           disposition  \\\n",
       "0    administrative review            exonerated            exonerated   \n",
       "1    administrative review         not sustained         not sustained   \n",
       "2     office investigation              resigned  office investigation   \n",
       "3     office investigation  office investigation  office investigation   \n",
       "4    administrative review         not sustained         not sustained   \n",
       "..                     ...                   ...                   ...   \n",
       "144  administrative review   letter of reprimand             sustained   \n",
       "145  administrative review   letter of reprimand         not sustained   \n",
       "146  administrative review   letter of reprimand             sustained   \n",
       "147  administrative review         not sustained         not sustained   \n",
       "148  administrative review         not sustained         not sustained   \n",
       "\n",
       "    department_code         department_desc  last_name first_name  \\\n",
       "0             P1254  cib street crimes unit  barcelona      jesse   \n",
       "1            P10280           cib narcotics      acree      jason   \n",
       "2            P10476  op service comm center      rimes    melissa   \n",
       "3            P10476  op service comm center      rimes    melissa   \n",
       "4            P10578                 cib cib    hamadeh     yuseff   \n",
       "..              ...                     ...        ...        ...   \n",
       "144           P1245     patrol 2nd district      clark    kenneth   \n",
       "145           P1245     patrol 2nd district      clark    kenneth   \n",
       "146           P1245     patrol 2nd district      clark    kenneth   \n",
       "147          P10639     patrol 1st district  robertson      jason   \n",
       "148          P10511     patrol 4th district  carter jr    darrell   \n",
       "\n",
       "    middle_initial rule_code paragraph_code  ... receive_year receive_month  \\\n",
       "0                r      3:17             40  ...         2018             1   \n",
       "1                k      3:17             40  ...         2018             1   \n",
       "2                j       2:4             66  ...         2018             1   \n",
       "3                j       2:4             66  ...         2018             1   \n",
       "4                g      3:20             53  ...         2018             1   \n",
       "..             ...       ...            ...  ...          ...           ...   \n",
       "144              m      3:17             40  ...         2019             1   \n",
       "145              m      3:18             43  ...         2019             1   \n",
       "146              m      2:12             21  ...         2019             1   \n",
       "147              r      3:17             40  ...         2018             1   \n",
       "148              j      3:20             52  ...         2018             2   \n",
       "\n",
       "    receive_day occur_year occur_month occur_day tracking_number  \\\n",
       "0             2       2017          12        30        2018-002   \n",
       "1             9       2018           1         9        2018-004   \n",
       "2             9       2017          12         3        2018-003   \n",
       "3             9       2017          12         3        2018-003   \n",
       "4            10       2018           1        10        2018-005   \n",
       "..          ...        ...         ...       ...             ...   \n",
       "144          30       2018           3        27        2019-003   \n",
       "145          30       2018           3        27        2019-003   \n",
       "146          30       2018           3        27        2019-003   \n",
       "147          26       2018           1        26        2018-010   \n",
       "148           8       2018           2         8        2018-011   \n",
       "\n",
       "                                  uid          agency data_production_year  \n",
       "0    4990106e2df85caab5910fe45de338ef  Baton Rouge PD                 2017  \n",
       "1    ddbd2be4c2f4c79dfd5aaa4b4e49212d  Baton Rouge PD                 2018  \n",
       "2    0383a0f9c3222535e9f91e316d9fa9a5  Baton Rouge PD                 2017  \n",
       "3    0383a0f9c3222535e9f91e316d9fa9a5  Baton Rouge PD                 2017  \n",
       "4    9d1a70ded8a2660295b9a4ad9cb357a5  Baton Rouge PD                 2018  \n",
       "..                                ...             ...                  ...  \n",
       "144  80cd4f3a680dcb9966b25e86298b97c9  Baton Rouge PD                 2018  \n",
       "145  80cd4f3a680dcb9966b25e86298b97c9  Baton Rouge PD                 2018  \n",
       "146  80cd4f3a680dcb9966b25e86298b97c9  Baton Rouge PD                 2018  \n",
       "147  adcf8ba6410ae8beb2311493fb0a8f29  Baton Rouge PD                 2018  \n",
       "148  8892bffe6d07906c70bb7ea9b442a018  Baton Rouge PD                 2018  \n",
       "\n",
       "[149 rows x 22 columns]"
      ],
      "text/html": "<div>\n<style scoped>\n    .dataframe tbody tr th:only-of-type {\n        vertical-align: middle;\n    }\n\n    .dataframe tbody tr th {\n        vertical-align: top;\n    }\n\n    .dataframe thead th {\n        text-align: right;\n    }\n</style>\n<table border=\"1\" class=\"dataframe\">\n  <thead>\n    <tr style=\"text-align: right;\">\n      <th></th>\n      <th>investigation_status</th>\n      <th>action</th>\n      <th>disposition</th>\n      <th>department_code</th>\n      <th>department_desc</th>\n      <th>last_name</th>\n      <th>first_name</th>\n      <th>middle_initial</th>\n      <th>rule_code</th>\n      <th>paragraph_code</th>\n      <th>...</th>\n      <th>receive_year</th>\n      <th>receive_month</th>\n      <th>receive_day</th>\n      <th>occur_year</th>\n      <th>occur_month</th>\n      <th>occur_day</th>\n      <th>tracking_number</th>\n      <th>uid</th>\n      <th>agency</th>\n      <th>data_production_year</th>\n    </tr>\n  </thead>\n  <tbody>\n    <tr>\n      <th>0</th>\n      <td>administrative review</td>\n      <td>exonerated</td>\n      <td>exonerated</td>\n      <td>P1254</td>\n      <td>cib street crimes unit</td>\n      <td>barcelona</td>\n      <td>jesse</td>\n      <td>r</td>\n      <td>3:17</td>\n      <td>40</td>\n      <td>...</td>\n      <td>2018</td>\n      <td>1</td>\n      <td>2</td>\n      <td>2017</td>\n      <td>12</td>\n      <td>30</td>\n      <td>2018-002</td>\n      <td>4990106e2df85caab5910fe45de338ef</td>\n      <td>Baton Rouge PD</td>\n      <td>2017</td>\n    </tr>\n    <tr>\n      <th>1</th>\n      <td>administrative review</td>\n      <td>not sustained</td>\n      <td>not sustained</td>\n      <td>P10280</td>\n      <td>cib narcotics</td>\n      <td>acree</td>\n      <td>jason</td>\n      <td>k</td>\n      <td>3:17</td>\n      <td>40</td>\n      <td>...</td>\n      <td>2018</td>\n      <td>1</td>\n      <td>9</td>\n      <td>2018</td>\n      <td>1</td>\n      <td>9</td>\n      <td>2018-004</td>\n      <td>ddbd2be4c2f4c79dfd5aaa4b4e49212d</td>\n      <td>Baton Rouge PD</td>\n      <td>2018</td>\n    </tr>\n    <tr>\n      <th>2</th>\n      <td>office investigation</td>\n      <td>resigned</td>\n      <td>office investigation</td>\n      <td>P10476</td>\n      <td>op service comm center</td>\n      <td>rimes</td>\n      <td>melissa</td>\n      <td>j</td>\n      <td>2:4</td>\n      <td>66</td>\n      <td>...</td>\n      <td>2018</td>\n      <td>1</td>\n      <td>9</td>\n      <td>2017</td>\n      <td>12</td>\n      <td>3</td>\n      <td>2018-003</td>\n      <td>0383a0f9c3222535e9f91e316d9fa9a5</td>\n      <td>Baton Rouge PD</td>\n      <td>2017</td>\n    </tr>\n    <tr>\n      <th>3</th>\n      <td>office investigation</td>\n      <td>office investigation</td>\n      <td>office investigation</td>\n      <td>P10476</td>\n      <td>op service comm center</td>\n      <td>rimes</td>\n      <td>melissa</td>\n      <td>j</td>\n      <td>2:4</td>\n      <td>66</td>\n      <td>...</td>\n      <td>2018</td>\n      <td>1</td>\n      <td>9</td>\n      <td>2017</td>\n      <td>12</td>\n      <td>3</td>\n      <td>2018-003</td>\n      <td>0383a0f9c3222535e9f91e316d9fa9a5</td>\n      <td>Baton Rouge PD</td>\n      <td>2017</td>\n    </tr>\n    <tr>\n      <th>4</th>\n      <td>administrative review</td>\n      <td>not sustained</td>\n      <td>not sustained</td>\n      <td>P10578</td>\n      <td>cib cib</td>\n      <td>hamadeh</td>\n      <td>yuseff</td>\n      <td>g</td>\n      <td>3:20</td>\n      <td>53</td>\n      <td>...</td>\n      <td>2018</td>\n      <td>1</td>\n      <td>10</td>\n      <td>2018</td>\n      <td>1</td>\n      <td>10</td>\n      <td>2018-005</td>\n      <td>9d1a70ded8a2660295b9a4ad9cb357a5</td>\n      <td>Baton Rouge PD</td>\n      <td>2018</td>\n    </tr>\n    <tr>\n      <th>...</th>\n      <td>...</td>\n      <td>...</td>\n      <td>...</td>\n      <td>...</td>\n      <td>...</td>\n      <td>...</td>\n      <td>...</td>\n      <td>...</td>\n      <td>...</td>\n      <td>...</td>\n      <td>...</td>\n      <td>...</td>\n      <td>...</td>\n      <td>...</td>\n      <td>...</td>\n      <td>...</td>\n      <td>...</td>\n      <td>...</td>\n      <td>...</td>\n      <td>...</td>\n      <td>...</td>\n    </tr>\n    <tr>\n      <th>144</th>\n      <td>administrative review</td>\n      <td>letter of reprimand</td>\n      <td>sustained</td>\n      <td>P1245</td>\n      <td>patrol 2nd district</td>\n      <td>clark</td>\n      <td>kenneth</td>\n      <td>m</td>\n      <td>3:17</td>\n      <td>40</td>\n      <td>...</td>\n      <td>2019</td>\n      <td>1</td>\n      <td>30</td>\n      <td>2018</td>\n      <td>3</td>\n      <td>27</td>\n      <td>2019-003</td>\n      <td>80cd4f3a680dcb9966b25e86298b97c9</td>\n      <td>Baton Rouge PD</td>\n      <td>2018</td>\n    </tr>\n    <tr>\n      <th>145</th>\n      <td>administrative review</td>\n      <td>letter of reprimand</td>\n      <td>not sustained</td>\n      <td>P1245</td>\n      <td>patrol 2nd district</td>\n      <td>clark</td>\n      <td>kenneth</td>\n      <td>m</td>\n      <td>3:18</td>\n      <td>43</td>\n      <td>...</td>\n      <td>2019</td>\n      <td>1</td>\n      <td>30</td>\n      <td>2018</td>\n      <td>3</td>\n      <td>27</td>\n      <td>2019-003</td>\n      <td>80cd4f3a680dcb9966b25e86298b97c9</td>\n      <td>Baton Rouge PD</td>\n      <td>2018</td>\n    </tr>\n    <tr>\n      <th>146</th>\n      <td>administrative review</td>\n      <td>letter of reprimand</td>\n      <td>sustained</td>\n      <td>P1245</td>\n      <td>patrol 2nd district</td>\n      <td>clark</td>\n      <td>kenneth</td>\n      <td>m</td>\n      <td>2:12</td>\n      <td>21</td>\n      <td>...</td>\n      <td>2019</td>\n      <td>1</td>\n      <td>30</td>\n      <td>2018</td>\n      <td>3</td>\n      <td>27</td>\n      <td>2019-003</td>\n      <td>80cd4f3a680dcb9966b25e86298b97c9</td>\n      <td>Baton Rouge PD</td>\n      <td>2018</td>\n    </tr>\n    <tr>\n      <th>147</th>\n      <td>administrative review</td>\n      <td>not sustained</td>\n      <td>not sustained</td>\n      <td>P10639</td>\n      <td>patrol 1st district</td>\n      <td>robertson</td>\n      <td>jason</td>\n      <td>r</td>\n      <td>3:17</td>\n      <td>40</td>\n      <td>...</td>\n      <td>2018</td>\n      <td>1</td>\n      <td>26</td>\n      <td>2018</td>\n      <td>1</td>\n      <td>26</td>\n      <td>2018-010</td>\n      <td>adcf8ba6410ae8beb2311493fb0a8f29</td>\n      <td>Baton Rouge PD</td>\n      <td>2018</td>\n    </tr>\n    <tr>\n      <th>148</th>\n      <td>administrative review</td>\n      <td>not sustained</td>\n      <td>not sustained</td>\n      <td>P10511</td>\n      <td>patrol 4th district</td>\n      <td>carter jr</td>\n      <td>darrell</td>\n      <td>j</td>\n      <td>3:20</td>\n      <td>52</td>\n      <td>...</td>\n      <td>2018</td>\n      <td>2</td>\n      <td>8</td>\n      <td>2018</td>\n      <td>2</td>\n      <td>8</td>\n      <td>2018-011</td>\n      <td>8892bffe6d07906c70bb7ea9b442a018</td>\n      <td>Baton Rouge PD</td>\n      <td>2018</td>\n    </tr>\n  </tbody>\n</table>\n<p>149 rows × 22 columns</p>\n</div>"
     },
     "metadata": {},
     "execution_count": 2
    }
   ],
   "source": [
    "df = clean_18()\n",
    "df"
   ]
  },
  {
   "cell_type": "code",
   "execution_count": 3,
   "metadata": {},
   "outputs": [
    {
     "output_type": "execute_result",
     "data": {
      "text/plain": [
       "    first_name middle_initial  last_name\n",
       "0        jesse              r  barcelona\n",
       "1        jason              k      acree\n",
       "2      melissa              j      rimes\n",
       "3      melissa              j      rimes\n",
       "4       yuseff              g    hamadeh\n",
       "..         ...            ...        ...\n",
       "144    kenneth              m      clark\n",
       "145    kenneth              m      clark\n",
       "146    kenneth              m      clark\n",
       "147      jason              r  robertson\n",
       "148    darrell              j  carter jr\n",
       "\n",
       "[149 rows x 3 columns]"
      ],
      "text/html": "<div>\n<style scoped>\n    .dataframe tbody tr th:only-of-type {\n        vertical-align: middle;\n    }\n\n    .dataframe tbody tr th {\n        vertical-align: top;\n    }\n\n    .dataframe thead th {\n        text-align: right;\n    }\n</style>\n<table border=\"1\" class=\"dataframe\">\n  <thead>\n    <tr style=\"text-align: right;\">\n      <th></th>\n      <th>first_name</th>\n      <th>middle_initial</th>\n      <th>last_name</th>\n    </tr>\n  </thead>\n  <tbody>\n    <tr>\n      <th>0</th>\n      <td>jesse</td>\n      <td>r</td>\n      <td>barcelona</td>\n    </tr>\n    <tr>\n      <th>1</th>\n      <td>jason</td>\n      <td>k</td>\n      <td>acree</td>\n    </tr>\n    <tr>\n      <th>2</th>\n      <td>melissa</td>\n      <td>j</td>\n      <td>rimes</td>\n    </tr>\n    <tr>\n      <th>3</th>\n      <td>melissa</td>\n      <td>j</td>\n      <td>rimes</td>\n    </tr>\n    <tr>\n      <th>4</th>\n      <td>yuseff</td>\n      <td>g</td>\n      <td>hamadeh</td>\n    </tr>\n    <tr>\n      <th>...</th>\n      <td>...</td>\n      <td>...</td>\n      <td>...</td>\n    </tr>\n    <tr>\n      <th>144</th>\n      <td>kenneth</td>\n      <td>m</td>\n      <td>clark</td>\n    </tr>\n    <tr>\n      <th>145</th>\n      <td>kenneth</td>\n      <td>m</td>\n      <td>clark</td>\n    </tr>\n    <tr>\n      <th>146</th>\n      <td>kenneth</td>\n      <td>m</td>\n      <td>clark</td>\n    </tr>\n    <tr>\n      <th>147</th>\n      <td>jason</td>\n      <td>r</td>\n      <td>robertson</td>\n    </tr>\n    <tr>\n      <th>148</th>\n      <td>darrell</td>\n      <td>j</td>\n      <td>carter jr</td>\n    </tr>\n  </tbody>\n</table>\n<p>149 rows × 3 columns</p>\n</div>"
     },
     "metadata": {},
     "execution_count": 3
    }
   ],
   "source": [
    "df[[\"first_name\", \"middle_initial\", \"last_name\"]]"
   ]
  },
  {
   "cell_type": "code",
   "execution_count": 6,
   "metadata": {},
   "outputs": [
    {
     "output_type": "execute_result",
     "data": {
      "text/plain": [
       "array(['r', 'k', 'j', 'g', 't', '', 'h', 'd', 'm', 'a', 's', 'n/a', 'e',\n",
       "       'b', 'cameron', 'wayne', 'w', 'o', 'p', 'n', 'l', 'james',\n",
       "       'leduff', 'c'], dtype=object)"
      ]
     },
     "metadata": {},
     "execution_count": 6
    }
   ],
   "source": [
    "df.middle_initial.unique()"
   ]
  },
  {
   "cell_type": "code",
   "execution_count": null,
   "metadata": {},
   "outputs": [],
   "source": []
  }
 ]
}
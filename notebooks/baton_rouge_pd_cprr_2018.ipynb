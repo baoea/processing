{
 "metadata": {
  "language_info": {
   "codemirror_mode": {
    "name": "ipython",
    "version": 3
   },
   "file_extension": ".py",
   "mimetype": "text/x-python",
   "name": "python",
   "nbconvert_exporter": "python",
   "pygments_lexer": "ipython3",
   "version": "3.8.3-final"
  },
  "orig_nbformat": 2,
  "kernelspec": {
   "name": "python3",
   "display_name": "Python 3",
   "language": "python"
  }
 },
 "nbformat": 4,
 "nbformat_minor": 2,
 "cells": [
  {
   "cell_type": "code",
   "execution_count": 1,
   "metadata": {},
   "outputs": [],
   "source": [
    "import re\n",
    "import sys; sys.path.append(\"../\")\n",
    "\n",
    "import numpy as np\n",
    "import pandas as pd\n",
    "\n",
    "from lib.columns import rearrange_complaint_columns\n",
    "from lib.textract import parse_textract_datetime\n",
    "from lib.explore import print_df\n",
    "from lib.match import (\n",
    "    ColumnsIndex, StringSimilarity, JaroWinklerSimilarity, DateSimilarity, ThresholdMatcher\n",
    ")\n",
    "from clean.baton_rouge_pd_cprr import clean_18\n",
    "from clean.baton_rouge_csd_pprr import clean_17 as clean_csd_17, clean_19 as clean_csd_19"
   ]
  },
  {
   "cell_type": "code",
   "execution_count": 2,
   "metadata": {},
   "outputs": [
    {
     "output_type": "stream",
     "name": "stdout",
     "text": [
      "standardize_from_lookup_table: unmatched sequences:\n  {'', ', ', '; ', ' & ', ' (60 day rule)', 'command of temper (', ': ', 'awol '}\n"
     ]
    },
    {
     "output_type": "execute_result",
     "data": {
      "text/plain": [
       "      investigation_status                action           disposition  \\\n",
       "0    administrative review            exonerated            exonerated   \n",
       "1    administrative review         not sustained         not sustained   \n",
       "2     office investigation              resigned  office investigation   \n",
       "3     office investigation  office investigation  office investigation   \n",
       "4    administrative review         not sustained         not sustained   \n",
       "..                     ...                   ...                   ...   \n",
       "144  administrative review   letter of reprimand             sustained   \n",
       "145  administrative review   letter of reprimand         not sustained   \n",
       "146  administrative review   letter of reprimand             sustained   \n",
       "147  administrative review         not sustained         not sustained   \n",
       "148  administrative review         not sustained         not sustained   \n",
       "\n",
       "    department_code         department_desc  last_name first_name  \\\n",
       "0             P1254  cib street crimes unit  barcelona      jesse   \n",
       "1            P10280           cib narcotics      acree      jason   \n",
       "2            P10476  op service comm center      rimes    melissa   \n",
       "3            P10476  op service comm center      rimes    melissa   \n",
       "4            P10578                 cib cib    hamadeh     yuseff   \n",
       "..              ...                     ...        ...        ...   \n",
       "144           P1245     patrol 2nd district      clark    kenneth   \n",
       "145           P1245     patrol 2nd district      clark    kenneth   \n",
       "146           P1245     patrol 2nd district      clark    kenneth   \n",
       "147          P10639     patrol 1st district  robertson      jason   \n",
       "148          P10511     patrol 4th district  carter jr    darrell   \n",
       "\n",
       "    middle_initial middle_name rule_code  ... receive_year receive_month  \\\n",
       "0                r                  3:17  ...         2018             1   \n",
       "1                k                  3:17  ...         2018             1   \n",
       "2                j                   2:4  ...         2018             1   \n",
       "3                j                   2:4  ...         2018             1   \n",
       "4                g                  3:20  ...         2018             1   \n",
       "..             ...         ...       ...  ...          ...           ...   \n",
       "144              m                  3:17  ...         2019             1   \n",
       "145              m                  3:18  ...         2019             1   \n",
       "146              m                  2:12  ...         2019             1   \n",
       "147              r                  3:17  ...         2018             1   \n",
       "148              j                  3:20  ...         2018             2   \n",
       "\n",
       "    receive_day occur_year occur_month occur_day tracking_number  \\\n",
       "0             2       2017          12        30        2018-002   \n",
       "1             9       2018           1         9        2018-004   \n",
       "2             9       2017          12         3        2018-003   \n",
       "3             9       2017          12         3        2018-003   \n",
       "4            10       2018           1        10        2018-005   \n",
       "..          ...        ...         ...       ...             ...   \n",
       "144          30       2018           3        27        2019-003   \n",
       "145          30       2018           3        27        2019-003   \n",
       "146          30       2018           3        27        2019-003   \n",
       "147          26       2018           1        26        2018-010   \n",
       "148           8       2018           2         8        2018-011   \n",
       "\n",
       "                                  uid          agency data_production_year  \n",
       "0    4990106e2df85caab5910fe45de338ef  Baton Rouge PD                 2017  \n",
       "1    ddbd2be4c2f4c79dfd5aaa4b4e49212d  Baton Rouge PD                 2018  \n",
       "2    0383a0f9c3222535e9f91e316d9fa9a5  Baton Rouge PD                 2017  \n",
       "3    0383a0f9c3222535e9f91e316d9fa9a5  Baton Rouge PD                 2017  \n",
       "4    9d1a70ded8a2660295b9a4ad9cb357a5  Baton Rouge PD                 2018  \n",
       "..                                ...             ...                  ...  \n",
       "144  80cd4f3a680dcb9966b25e86298b97c9  Baton Rouge PD                 2018  \n",
       "145  80cd4f3a680dcb9966b25e86298b97c9  Baton Rouge PD                 2018  \n",
       "146  80cd4f3a680dcb9966b25e86298b97c9  Baton Rouge PD                 2018  \n",
       "147  adcf8ba6410ae8beb2311493fb0a8f29  Baton Rouge PD                 2018  \n",
       "148  8892bffe6d07906c70bb7ea9b442a018  Baton Rouge PD                 2018  \n",
       "\n",
       "[149 rows x 23 columns]"
      ],
      "text/html": "<div>\n<style scoped>\n    .dataframe tbody tr th:only-of-type {\n        vertical-align: middle;\n    }\n\n    .dataframe tbody tr th {\n        vertical-align: top;\n    }\n\n    .dataframe thead th {\n        text-align: right;\n    }\n</style>\n<table border=\"1\" class=\"dataframe\">\n  <thead>\n    <tr style=\"text-align: right;\">\n      <th></th>\n      <th>investigation_status</th>\n      <th>action</th>\n      <th>disposition</th>\n      <th>department_code</th>\n      <th>department_desc</th>\n      <th>last_name</th>\n      <th>first_name</th>\n      <th>middle_initial</th>\n      <th>middle_name</th>\n      <th>rule_code</th>\n      <th>...</th>\n      <th>receive_year</th>\n      <th>receive_month</th>\n      <th>receive_day</th>\n      <th>occur_year</th>\n      <th>occur_month</th>\n      <th>occur_day</th>\n      <th>tracking_number</th>\n      <th>uid</th>\n      <th>agency</th>\n      <th>data_production_year</th>\n    </tr>\n  </thead>\n  <tbody>\n    <tr>\n      <th>0</th>\n      <td>administrative review</td>\n      <td>exonerated</td>\n      <td>exonerated</td>\n      <td>P1254</td>\n      <td>cib street crimes unit</td>\n      <td>barcelona</td>\n      <td>jesse</td>\n      <td>r</td>\n      <td></td>\n      <td>3:17</td>\n      <td>...</td>\n      <td>2018</td>\n      <td>1</td>\n      <td>2</td>\n      <td>2017</td>\n      <td>12</td>\n      <td>30</td>\n      <td>2018-002</td>\n      <td>4990106e2df85caab5910fe45de338ef</td>\n      <td>Baton Rouge PD</td>\n      <td>2017</td>\n    </tr>\n    <tr>\n      <th>1</th>\n      <td>administrative review</td>\n      <td>not sustained</td>\n      <td>not sustained</td>\n      <td>P10280</td>\n      <td>cib narcotics</td>\n      <td>acree</td>\n      <td>jason</td>\n      <td>k</td>\n      <td></td>\n      <td>3:17</td>\n      <td>...</td>\n      <td>2018</td>\n      <td>1</td>\n      <td>9</td>\n      <td>2018</td>\n      <td>1</td>\n      <td>9</td>\n      <td>2018-004</td>\n      <td>ddbd2be4c2f4c79dfd5aaa4b4e49212d</td>\n      <td>Baton Rouge PD</td>\n      <td>2018</td>\n    </tr>\n    <tr>\n      <th>2</th>\n      <td>office investigation</td>\n      <td>resigned</td>\n      <td>office investigation</td>\n      <td>P10476</td>\n      <td>op service comm center</td>\n      <td>rimes</td>\n      <td>melissa</td>\n      <td>j</td>\n      <td></td>\n      <td>2:4</td>\n      <td>...</td>\n      <td>2018</td>\n      <td>1</td>\n      <td>9</td>\n      <td>2017</td>\n      <td>12</td>\n      <td>3</td>\n      <td>2018-003</td>\n      <td>0383a0f9c3222535e9f91e316d9fa9a5</td>\n      <td>Baton Rouge PD</td>\n      <td>2017</td>\n    </tr>\n    <tr>\n      <th>3</th>\n      <td>office investigation</td>\n      <td>office investigation</td>\n      <td>office investigation</td>\n      <td>P10476</td>\n      <td>op service comm center</td>\n      <td>rimes</td>\n      <td>melissa</td>\n      <td>j</td>\n      <td></td>\n      <td>2:4</td>\n      <td>...</td>\n      <td>2018</td>\n      <td>1</td>\n      <td>9</td>\n      <td>2017</td>\n      <td>12</td>\n      <td>3</td>\n      <td>2018-003</td>\n      <td>0383a0f9c3222535e9f91e316d9fa9a5</td>\n      <td>Baton Rouge PD</td>\n      <td>2017</td>\n    </tr>\n    <tr>\n      <th>4</th>\n      <td>administrative review</td>\n      <td>not sustained</td>\n      <td>not sustained</td>\n      <td>P10578</td>\n      <td>cib cib</td>\n      <td>hamadeh</td>\n      <td>yuseff</td>\n      <td>g</td>\n      <td></td>\n      <td>3:20</td>\n      <td>...</td>\n      <td>2018</td>\n      <td>1</td>\n      <td>10</td>\n      <td>2018</td>\n      <td>1</td>\n      <td>10</td>\n      <td>2018-005</td>\n      <td>9d1a70ded8a2660295b9a4ad9cb357a5</td>\n      <td>Baton Rouge PD</td>\n      <td>2018</td>\n    </tr>\n    <tr>\n      <th>...</th>\n      <td>...</td>\n      <td>...</td>\n      <td>...</td>\n      <td>...</td>\n      <td>...</td>\n      <td>...</td>\n      <td>...</td>\n      <td>...</td>\n      <td>...</td>\n      <td>...</td>\n      <td>...</td>\n      <td>...</td>\n      <td>...</td>\n      <td>...</td>\n      <td>...</td>\n      <td>...</td>\n      <td>...</td>\n      <td>...</td>\n      <td>...</td>\n      <td>...</td>\n      <td>...</td>\n    </tr>\n    <tr>\n      <th>144</th>\n      <td>administrative review</td>\n      <td>letter of reprimand</td>\n      <td>sustained</td>\n      <td>P1245</td>\n      <td>patrol 2nd district</td>\n      <td>clark</td>\n      <td>kenneth</td>\n      <td>m</td>\n      <td></td>\n      <td>3:17</td>\n      <td>...</td>\n      <td>2019</td>\n      <td>1</td>\n      <td>30</td>\n      <td>2018</td>\n      <td>3</td>\n      <td>27</td>\n      <td>2019-003</td>\n      <td>80cd4f3a680dcb9966b25e86298b97c9</td>\n      <td>Baton Rouge PD</td>\n      <td>2018</td>\n    </tr>\n    <tr>\n      <th>145</th>\n      <td>administrative review</td>\n      <td>letter of reprimand</td>\n      <td>not sustained</td>\n      <td>P1245</td>\n      <td>patrol 2nd district</td>\n      <td>clark</td>\n      <td>kenneth</td>\n      <td>m</td>\n      <td></td>\n      <td>3:18</td>\n      <td>...</td>\n      <td>2019</td>\n      <td>1</td>\n      <td>30</td>\n      <td>2018</td>\n      <td>3</td>\n      <td>27</td>\n      <td>2019-003</td>\n      <td>80cd4f3a680dcb9966b25e86298b97c9</td>\n      <td>Baton Rouge PD</td>\n      <td>2018</td>\n    </tr>\n    <tr>\n      <th>146</th>\n      <td>administrative review</td>\n      <td>letter of reprimand</td>\n      <td>sustained</td>\n      <td>P1245</td>\n      <td>patrol 2nd district</td>\n      <td>clark</td>\n      <td>kenneth</td>\n      <td>m</td>\n      <td></td>\n      <td>2:12</td>\n      <td>...</td>\n      <td>2019</td>\n      <td>1</td>\n      <td>30</td>\n      <td>2018</td>\n      <td>3</td>\n      <td>27</td>\n      <td>2019-003</td>\n      <td>80cd4f3a680dcb9966b25e86298b97c9</td>\n      <td>Baton Rouge PD</td>\n      <td>2018</td>\n    </tr>\n    <tr>\n      <th>147</th>\n      <td>administrative review</td>\n      <td>not sustained</td>\n      <td>not sustained</td>\n      <td>P10639</td>\n      <td>patrol 1st district</td>\n      <td>robertson</td>\n      <td>jason</td>\n      <td>r</td>\n      <td></td>\n      <td>3:17</td>\n      <td>...</td>\n      <td>2018</td>\n      <td>1</td>\n      <td>26</td>\n      <td>2018</td>\n      <td>1</td>\n      <td>26</td>\n      <td>2018-010</td>\n      <td>adcf8ba6410ae8beb2311493fb0a8f29</td>\n      <td>Baton Rouge PD</td>\n      <td>2018</td>\n    </tr>\n    <tr>\n      <th>148</th>\n      <td>administrative review</td>\n      <td>not sustained</td>\n      <td>not sustained</td>\n      <td>P10511</td>\n      <td>patrol 4th district</td>\n      <td>carter jr</td>\n      <td>darrell</td>\n      <td>j</td>\n      <td></td>\n      <td>3:20</td>\n      <td>...</td>\n      <td>2018</td>\n      <td>2</td>\n      <td>8</td>\n      <td>2018</td>\n      <td>2</td>\n      <td>8</td>\n      <td>2018-011</td>\n      <td>8892bffe6d07906c70bb7ea9b442a018</td>\n      <td>Baton Rouge PD</td>\n      <td>2018</td>\n    </tr>\n  </tbody>\n</table>\n<p>149 rows × 23 columns</p>\n</div>"
     },
     "metadata": {},
     "execution_count": 2
    }
   ],
   "source": [
    "pd_cprr = clean_18()\n",
    "pd_cprr"
   ]
  },
  {
   "source": [
    "## Matching 2018 Baton Rouge PD CPRR against 2017 Baton Rouge CSD PPRR"
   ],
   "cell_type": "markdown",
   "metadata": {}
  },
  {
   "cell_type": "code",
   "execution_count": 3,
   "metadata": {},
   "outputs": [],
   "source": [
    "csd_17 = clean_csd_17()\n",
    "\n",
    "csd_of = csd_17[[\"first_name\", \"last_name\", \"middle_initial\", \"employee_id\"]].drop_duplicates(\"employee_id\").set_index(\"employee_id\", drop=True)\n",
    "csd_of.loc[:, \"fc\"] = csd_of.first_name.map(lambda x: x[:1])\n",
    "\n",
    "pd_of = pd_cprr[[\"first_name\", \"last_name\", \"middle_initial\", \"uid\"]].drop_duplicates(\"uid\").set_index(\"uid\", drop=True)\n",
    "pd_of.loc[:, \"fc\"] = pd_of.first_name.fillna(\"\").map(lambda x: x[:1])\n",
    "\n",
    "matcher = ThresholdMatcher(pd_of, csd_of, ColumnsIndex([\"fc\"]), {\n",
    "    \"last_name\": JaroWinklerSimilarity(),\n",
    "    \"first_name\": JaroWinklerSimilarity(),\n",
    "    \"middle_initial\": JaroWinklerSimilarity(),\n",
    "})"
   ]
  },
  {
   "cell_type": "code",
   "execution_count": 4,
   "metadata": {},
   "outputs": [
    {
     "output_type": "stream",
     "name": "stdout",
     "text": [
      "                                                                  first_name  last_name middle_initial fc\nscore_range pair_idx sim_score row_key                                                                   \n1.00-0.97   0        1.000000  5021017be642864ea72ade38867279b5  christopher     taylor              b  c\n                               329150                            christopher     taylor              b  c\n            1        1.000000  aad73c46beb5ce5de2e6a864433199d5        chase        ard              r  c\n                               440671                                  chase        ard              r  c\n            2        1.000000  8012c7dc3c5f5de7f2eae3850c8e7c95      charles  pollar jr              g  c\n                               456764                                charles  pollar jr              g  c\n            3        0.989014  2b4231ab5f80219af8b660770991edbf     jonathan     migues              j  j\n                               457167                               jonathon     migues              j  j\n            4        0.985408  4acbef036449bb9387ec486879bf2e31       ronald  norman jr              w  r\n                               202266                                 ronald     norman              w  r\n0.95-0.92   0        0.930072  6aa3e8244db35d35cb2ee8abde1118ab        james    crisler              m  j\n                               348082                                  james     cosper              m  j\nfor threshold 0.980:\n  63 matched pairs (94% of A, 3% of B)\n"
     ]
    }
   ],
   "source": [
    "print_df(matcher.get_sample_pairs(step=0.025, lower_bound=0.9))\n",
    "matcher.print_decision(0.98)"
   ]
  },
  {
   "source": [
    "## Matching 2018 Baton Rouge PD CPRR against 2019 Baton Rouge CSD PPRR"
   ],
   "cell_type": "markdown",
   "metadata": {}
  },
  {
   "cell_type": "code",
   "execution_count": 5,
   "metadata": {},
   "outputs": [],
   "source": [
    "csd_19 = clean_csd_19()\n",
    "\n",
    "csd_of = csd_19[[\"first_name\", \"last_name\", \"middle_initial\", \"employee_id\"]].drop_duplicates(\"employee_id\").set_index(\"employee_id\", drop=True)\n",
    "csd_of.loc[:, \"fc\"] = csd_of.first_name.map(lambda x: x[:1])\n",
    "\n",
    "pd_of = pd_cprr[[\"first_name\", \"last_name\", \"middle_initial\", \"uid\"]].drop_duplicates(\"uid\").set_index(\"uid\", drop=True)\n",
    "pd_of.loc[:, \"fc\"] = pd_of.first_name.fillna(\"\").map(lambda x: x[:1])\n",
    "\n",
    "matcher = ThresholdMatcher(pd_of, csd_of, ColumnsIndex([\"fc\"]), {\n",
    "    \"last_name\": JaroWinklerSimilarity(),\n",
    "    \"first_name\": JaroWinklerSimilarity(),\n",
    "    \"middle_initial\": JaroWinklerSimilarity(),\n",
    "})"
   ]
  },
  {
   "cell_type": "code",
   "execution_count": 6,
   "metadata": {},
   "outputs": [
    {
     "output_type": "stream",
     "name": "stdout",
     "text": [
      "                                                                          first_name  last_name middle_initial fc\nscore_range pair_idx sim_score row_key                                                                           \n1.00-0.97   0        0.985408  dcd668b2249d9719f134d9bf1c1e943e               donald  steele jr                 d\n                               0x8980DC86C1E9EA324EC99F8B15A2E9A92D0A4D1E     donald     steele                 d\n            1        0.985408  4acbef036449bb9387ec486879bf2e31               ronald  norman jr              w  r\n                               0x73EE4958BDB5A056029EBD39B8ABBAA3DBC0F333     ronald     norman              w  r\n            2        0.985408  8012c7dc3c5f5de7f2eae3850c8e7c95              charles  pollar jr              g  c\n                               0x4C1B52409CF6BE3896CF163FA17B32E4DA293F2E    charles     pollar              g  c\n            3        0.979610  089f6dd12d3f16db38b712992e4bcb32               donald   young jr              p  d\n                               0x2C4A265729156D471E3F7A083D60E499ADFAF64C     donald      young              p  d\n            4        0.975934  6e78a0971fc5dd21e2995d216bb6bfde                frank  lopez iii              n  f\n                               0x1D29771D9CECC114FC00B25C11CD952A5585D535      frank      lopez              n  f\n0.97-0.95   0        0.972269  10dd163632463f2e1efe8cb2d4e8f20e               steven    reed ii              w  s\n                               0xE794A80EB109162D579DF51DB6D52E223BB0E9BE     steven       reed              w  s\n            1        0.972269  f86ca8ff9a47894ea102de787503b4fc               murial    hall jr              e  m\n                               0xF338EFDF5E427979B9EE58824C0A2312E6EEF3B0     murial       hall              e  m\n            2        0.962683  727f467e8100f70e36989864f12253ba                larry     ned jr              m  l\n                               0x7F7AEBEA4D94CD047A68575A1B7DB59904EC1EAA      larry        ned              m  l\nfor threshold 0.960:\n  63 matched pairs (94% of A, 5% of B)\n"
     ]
    }
   ],
   "source": [
    "print_df(matcher.get_sample_pairs(step=0.025, lower_bound=0.9))\n",
    "matcher.print_decision(0.96)"
   ]
  },
  {
   "cell_type": "code",
   "execution_count": null,
   "metadata": {},
   "outputs": [],
   "source": []
  }
 ]
}
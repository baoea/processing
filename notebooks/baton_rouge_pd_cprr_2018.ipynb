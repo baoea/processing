{
 "metadata": {
  "language_info": {
   "codemirror_mode": {
    "name": "ipython",
    "version": 3
   },
   "file_extension": ".py",
   "mimetype": "text/x-python",
   "name": "python",
   "nbconvert_exporter": "python",
   "pygments_lexer": "ipython3",
   "version": "3.8.3-final"
  },
  "orig_nbformat": 2,
  "kernelspec": {
   "name": "python3",
   "display_name": "Python 3",
   "language": "python"
  }
 },
 "nbformat": 4,
 "nbformat_minor": 2,
 "cells": [
  {
   "cell_type": "code",
   "execution_count": 1,
   "metadata": {},
   "outputs": [],
   "source": [
    "import re\n",
    "import sys; sys.path.append(\"../\")\n",
    "\n",
    "import numpy as np\n",
    "import pandas as pd\n",
    "\n",
    "from lib.columns import rearrange_complaint_columns\n",
    "from lib.textract import parse_textract_datetime\n",
    "from clean.baton_rouge_pd_cprr import clean_18"
   ]
  },
  {
   "cell_type": "code",
   "execution_count": 2,
   "metadata": {},
   "outputs": [
    {
     "output_type": "execute_result",
     "data": {
      "text/plain": [
       "      investigation_status receive_date occur_date                action  \\\n",
       "0    Administrative Review       1/2/18   12/30/17            Exonerated   \n",
       "1    Administrative Review       1/9/18     1/9/18         Not Sustained   \n",
       "2     Office Investigation       1/9/18    12/3/17              Resigned   \n",
       "3     Office Investigation       1/9/18    12/3/17  Office Investigation   \n",
       "4    Administrative Review      1/10/18    1/10/18         Not Sustained   \n",
       "..                     ...          ...        ...                   ...   \n",
       "144  Administrative Review      1/30/19    3/27/18   Letter of Reprimand   \n",
       "145  Administrative Review      1/30/19    3/27/18   Letter of Reprimand   \n",
       "146  Administrative Review      1/30/19    3/27/18   Letter of Reprimand   \n",
       "147  Administrative Review      1/26/18    1/26/18         Not Sustained   \n",
       "148  Administrative Review       2/8/18     2/8/18         Not Sustained   \n",
       "\n",
       "              disposition department_code         department_desc  \\\n",
       "0              Exonerated           P1254  cib street crimes unit   \n",
       "1           Not Sustained          P10280           cib narcotics   \n",
       "2    Office Investigation          P10476  op service comm center   \n",
       "3    Office Investigation          P10476  op service comm center   \n",
       "4           Not Sustained          P10578                 cib cib   \n",
       "..                    ...             ...                     ...   \n",
       "144             Sustained           P1245     patrol 2nd district   \n",
       "145         Not Sustained           P1245     patrol 2nd district   \n",
       "146             Sustained           P1245     patrol 2nd district   \n",
       "147         Not Sustained          P10639     patrol 1st district   \n",
       "148         Not Sustained          P10511     patrol 4th district   \n",
       "\n",
       "               last_name first_name middle_initial rule_code paragraph_code  \\\n",
       "0              barcelona      jesse              r      3:17             40   \n",
       "1                  acree      jason              k      3:17             40   \n",
       "2                  rimes    melissa              j       2:4             66   \n",
       "3                  rimes    melissa              j       2:4             66   \n",
       "4                hamadeh     yuseff              g      3:20             53   \n",
       "..                   ...        ...            ...       ...            ...   \n",
       "144                clark    kenneth              m      3:17             40   \n",
       "145                clark    kenneth              m      3:18             43   \n",
       "146                clark    kenneth              m      2:12             21   \n",
       "147            robertson      jason              r      3:17             40   \n",
       "148  carter jr darrell j                                3:20             52   \n",
       "\n",
       "                    rule_violation       paragraph_violation tracking_number  \n",
       "0              Carrying Out Orders  General Orders (Pursuit)        2018-002  \n",
       "1              Carrying Out Orders  General Orders (Pursuit)        2018-004  \n",
       "2              Abuse of Sick Leave                                  2018-003  \n",
       "3              Abuse of Sick Leave                                  2018-003  \n",
       "4                     Use of Force           Hard Empty Hand        2018-005  \n",
       "..                             ...                       ...             ...  \n",
       "144            Carrying Out Orders  General Orders (Pursuit)        2019-003  \n",
       "145                Insubordination                                  2019-003  \n",
       "146  Conduct Unbecoming an Officer                                  2019-003  \n",
       "147            Carrying Out Orders  General Orders (Pursuit)        2018-010  \n",
       "148                   Use of Force       Intermediate Weapon        2018-011  \n",
       "\n",
       "[149 rows x 15 columns]"
      ],
      "text/html": "<div>\n<style scoped>\n    .dataframe tbody tr th:only-of-type {\n        vertical-align: middle;\n    }\n\n    .dataframe tbody tr th {\n        vertical-align: top;\n    }\n\n    .dataframe thead th {\n        text-align: right;\n    }\n</style>\n<table border=\"1\" class=\"dataframe\">\n  <thead>\n    <tr style=\"text-align: right;\">\n      <th></th>\n      <th>investigation_status</th>\n      <th>receive_date</th>\n      <th>occur_date</th>\n      <th>action</th>\n      <th>disposition</th>\n      <th>department_code</th>\n      <th>department_desc</th>\n      <th>last_name</th>\n      <th>first_name</th>\n      <th>middle_initial</th>\n      <th>rule_code</th>\n      <th>paragraph_code</th>\n      <th>rule_violation</th>\n      <th>paragraph_violation</th>\n      <th>tracking_number</th>\n    </tr>\n  </thead>\n  <tbody>\n    <tr>\n      <th>0</th>\n      <td>Administrative Review</td>\n      <td>1/2/18</td>\n      <td>12/30/17</td>\n      <td>Exonerated</td>\n      <td>Exonerated</td>\n      <td>P1254</td>\n      <td>cib street crimes unit</td>\n      <td>barcelona</td>\n      <td>jesse</td>\n      <td>r</td>\n      <td>3:17</td>\n      <td>40</td>\n      <td>Carrying Out Orders</td>\n      <td>General Orders (Pursuit)</td>\n      <td>2018-002</td>\n    </tr>\n    <tr>\n      <th>1</th>\n      <td>Administrative Review</td>\n      <td>1/9/18</td>\n      <td>1/9/18</td>\n      <td>Not Sustained</td>\n      <td>Not Sustained</td>\n      <td>P10280</td>\n      <td>cib narcotics</td>\n      <td>acree</td>\n      <td>jason</td>\n      <td>k</td>\n      <td>3:17</td>\n      <td>40</td>\n      <td>Carrying Out Orders</td>\n      <td>General Orders (Pursuit)</td>\n      <td>2018-004</td>\n    </tr>\n    <tr>\n      <th>2</th>\n      <td>Office Investigation</td>\n      <td>1/9/18</td>\n      <td>12/3/17</td>\n      <td>Resigned</td>\n      <td>Office Investigation</td>\n      <td>P10476</td>\n      <td>op service comm center</td>\n      <td>rimes</td>\n      <td>melissa</td>\n      <td>j</td>\n      <td>2:4</td>\n      <td>66</td>\n      <td>Abuse of Sick Leave</td>\n      <td></td>\n      <td>2018-003</td>\n    </tr>\n    <tr>\n      <th>3</th>\n      <td>Office Investigation</td>\n      <td>1/9/18</td>\n      <td>12/3/17</td>\n      <td>Office Investigation</td>\n      <td>Office Investigation</td>\n      <td>P10476</td>\n      <td>op service comm center</td>\n      <td>rimes</td>\n      <td>melissa</td>\n      <td>j</td>\n      <td>2:4</td>\n      <td>66</td>\n      <td>Abuse of Sick Leave</td>\n      <td></td>\n      <td>2018-003</td>\n    </tr>\n    <tr>\n      <th>4</th>\n      <td>Administrative Review</td>\n      <td>1/10/18</td>\n      <td>1/10/18</td>\n      <td>Not Sustained</td>\n      <td>Not Sustained</td>\n      <td>P10578</td>\n      <td>cib cib</td>\n      <td>hamadeh</td>\n      <td>yuseff</td>\n      <td>g</td>\n      <td>3:20</td>\n      <td>53</td>\n      <td>Use of Force</td>\n      <td>Hard Empty Hand</td>\n      <td>2018-005</td>\n    </tr>\n    <tr>\n      <th>...</th>\n      <td>...</td>\n      <td>...</td>\n      <td>...</td>\n      <td>...</td>\n      <td>...</td>\n      <td>...</td>\n      <td>...</td>\n      <td>...</td>\n      <td>...</td>\n      <td>...</td>\n      <td>...</td>\n      <td>...</td>\n      <td>...</td>\n      <td>...</td>\n      <td>...</td>\n    </tr>\n    <tr>\n      <th>144</th>\n      <td>Administrative Review</td>\n      <td>1/30/19</td>\n      <td>3/27/18</td>\n      <td>Letter of Reprimand</td>\n      <td>Sustained</td>\n      <td>P1245</td>\n      <td>patrol 2nd district</td>\n      <td>clark</td>\n      <td>kenneth</td>\n      <td>m</td>\n      <td>3:17</td>\n      <td>40</td>\n      <td>Carrying Out Orders</td>\n      <td>General Orders (Pursuit)</td>\n      <td>2019-003</td>\n    </tr>\n    <tr>\n      <th>145</th>\n      <td>Administrative Review</td>\n      <td>1/30/19</td>\n      <td>3/27/18</td>\n      <td>Letter of Reprimand</td>\n      <td>Not Sustained</td>\n      <td>P1245</td>\n      <td>patrol 2nd district</td>\n      <td>clark</td>\n      <td>kenneth</td>\n      <td>m</td>\n      <td>3:18</td>\n      <td>43</td>\n      <td>Insubordination</td>\n      <td></td>\n      <td>2019-003</td>\n    </tr>\n    <tr>\n      <th>146</th>\n      <td>Administrative Review</td>\n      <td>1/30/19</td>\n      <td>3/27/18</td>\n      <td>Letter of Reprimand</td>\n      <td>Sustained</td>\n      <td>P1245</td>\n      <td>patrol 2nd district</td>\n      <td>clark</td>\n      <td>kenneth</td>\n      <td>m</td>\n      <td>2:12</td>\n      <td>21</td>\n      <td>Conduct Unbecoming an Officer</td>\n      <td></td>\n      <td>2019-003</td>\n    </tr>\n    <tr>\n      <th>147</th>\n      <td>Administrative Review</td>\n      <td>1/26/18</td>\n      <td>1/26/18</td>\n      <td>Not Sustained</td>\n      <td>Not Sustained</td>\n      <td>P10639</td>\n      <td>patrol 1st district</td>\n      <td>robertson</td>\n      <td>jason</td>\n      <td>r</td>\n      <td>3:17</td>\n      <td>40</td>\n      <td>Carrying Out Orders</td>\n      <td>General Orders (Pursuit)</td>\n      <td>2018-010</td>\n    </tr>\n    <tr>\n      <th>148</th>\n      <td>Administrative Review</td>\n      <td>2/8/18</td>\n      <td>2/8/18</td>\n      <td>Not Sustained</td>\n      <td>Not Sustained</td>\n      <td>P10511</td>\n      <td>patrol 4th district</td>\n      <td>carter jr darrell j</td>\n      <td></td>\n      <td></td>\n      <td>3:20</td>\n      <td>52</td>\n      <td>Use of Force</td>\n      <td>Intermediate Weapon</td>\n      <td>2018-011</td>\n    </tr>\n  </tbody>\n</table>\n<p>149 rows × 15 columns</p>\n</div>"
     },
     "metadata": {},
     "execution_count": 2
    }
   ],
   "source": [
    "df = clean_18()\n",
    "df"
   ]
  },
  {
   "cell_type": "code",
   "execution_count": 21,
   "metadata": {},
   "outputs": [
    {
     "output_type": "error",
     "ename": "ValueError",
     "evalue": "The column label 'rule_code' is not unique.",
     "traceback": [
      "\u001b[0;31m---------------------------------------------------------------------------\u001b[0m",
      "\u001b[0;31mValueError\u001b[0m                                Traceback (most recent call last)",
      "\u001b[0;32m<ipython-input-21-0a4fd1a73a90>\u001b[0m in \u001b[0;36m<module>\u001b[0;34m\u001b[0m\n\u001b[1;32m      5\u001b[0m \u001b[0;31m# df = pd.concat([df, complaint], axis=1)\u001b[0m\u001b[0;34m\u001b[0m\u001b[0;34m\u001b[0m\u001b[0;34m\u001b[0m\u001b[0m\n\u001b[1;32m      6\u001b[0m \u001b[0;31m# df.loc[(df.rule_code == \"3:17\") & (df.paragraph_code == \"40\"), \"rule_paragraph\"] = 'Carrying Out Orders / General Orders (Pursuit)'\u001b[0m\u001b[0;34m\u001b[0m\u001b[0;34m\u001b[0m\u001b[0;34m\u001b[0m\u001b[0m\n\u001b[0;32m----> 7\u001b[0;31m \u001b[0mdf\u001b[0m\u001b[0;34m[\u001b[0m\u001b[0;34m[\u001b[0m\u001b[0;34m\"rule_code\"\u001b[0m\u001b[0;34m,\u001b[0m \u001b[0;34m\"rule_paragraph\"\u001b[0m\u001b[0;34m,\u001b[0m \u001b[0;34m\"paragraph_code\"\u001b[0m\u001b[0;34m]\u001b[0m\u001b[0;34m]\u001b[0m\u001b[0;34m.\u001b[0m\u001b[0msort_values\u001b[0m\u001b[0;34m(\u001b[0m\u001b[0;34m[\u001b[0m\u001b[0;34m\"rule_code\"\u001b[0m\u001b[0;34m,\u001b[0m \u001b[0;34m\"paragraph_code\"\u001b[0m\u001b[0;34m]\u001b[0m\u001b[0;34m)\u001b[0m\u001b[0;34m.\u001b[0m\u001b[0mdrop_duplicates\u001b[0m\u001b[0;34m(\u001b[0m\u001b[0;34m)\u001b[0m\u001b[0;34m\u001b[0m\u001b[0;34m\u001b[0m\u001b[0m\n\u001b[0m",
      "\u001b[0;32m~/opt/anaconda3/lib/python3.8/site-packages/pandas/core/frame.py\u001b[0m in \u001b[0;36msort_values\u001b[0;34m(self, by, axis, ascending, inplace, kind, na_position, ignore_index, key)\u001b[0m\n\u001b[1;32m   5437\u001b[0m         \u001b[0;32mif\u001b[0m \u001b[0mlen\u001b[0m\u001b[0;34m(\u001b[0m\u001b[0mby\u001b[0m\u001b[0;34m)\u001b[0m \u001b[0;34m>\u001b[0m \u001b[0;36m1\u001b[0m\u001b[0;34m:\u001b[0m\u001b[0;34m\u001b[0m\u001b[0;34m\u001b[0m\u001b[0m\n\u001b[1;32m   5438\u001b[0m \u001b[0;34m\u001b[0m\u001b[0m\n\u001b[0;32m-> 5439\u001b[0;31m             \u001b[0mkeys\u001b[0m \u001b[0;34m=\u001b[0m \u001b[0;34m[\u001b[0m\u001b[0mself\u001b[0m\u001b[0;34m.\u001b[0m\u001b[0m_get_label_or_level_values\u001b[0m\u001b[0;34m(\u001b[0m\u001b[0mx\u001b[0m\u001b[0;34m,\u001b[0m \u001b[0maxis\u001b[0m\u001b[0;34m=\u001b[0m\u001b[0maxis\u001b[0m\u001b[0;34m)\u001b[0m \u001b[0;32mfor\u001b[0m \u001b[0mx\u001b[0m \u001b[0;32min\u001b[0m \u001b[0mby\u001b[0m\u001b[0;34m]\u001b[0m\u001b[0;34m\u001b[0m\u001b[0;34m\u001b[0m\u001b[0m\n\u001b[0m\u001b[1;32m   5440\u001b[0m \u001b[0;34m\u001b[0m\u001b[0m\n\u001b[1;32m   5441\u001b[0m             \u001b[0;31m# need to rewrap columns in Series to apply key function\u001b[0m\u001b[0;34m\u001b[0m\u001b[0;34m\u001b[0m\u001b[0;34m\u001b[0m\u001b[0m\n",
      "\u001b[0;32m~/opt/anaconda3/lib/python3.8/site-packages/pandas/core/frame.py\u001b[0m in \u001b[0;36m<listcomp>\u001b[0;34m(.0)\u001b[0m\n\u001b[1;32m   5437\u001b[0m         \u001b[0;32mif\u001b[0m \u001b[0mlen\u001b[0m\u001b[0;34m(\u001b[0m\u001b[0mby\u001b[0m\u001b[0;34m)\u001b[0m \u001b[0;34m>\u001b[0m \u001b[0;36m1\u001b[0m\u001b[0;34m:\u001b[0m\u001b[0;34m\u001b[0m\u001b[0;34m\u001b[0m\u001b[0m\n\u001b[1;32m   5438\u001b[0m \u001b[0;34m\u001b[0m\u001b[0m\n\u001b[0;32m-> 5439\u001b[0;31m             \u001b[0mkeys\u001b[0m \u001b[0;34m=\u001b[0m \u001b[0;34m[\u001b[0m\u001b[0mself\u001b[0m\u001b[0;34m.\u001b[0m\u001b[0m_get_label_or_level_values\u001b[0m\u001b[0;34m(\u001b[0m\u001b[0mx\u001b[0m\u001b[0;34m,\u001b[0m \u001b[0maxis\u001b[0m\u001b[0;34m=\u001b[0m\u001b[0maxis\u001b[0m\u001b[0;34m)\u001b[0m \u001b[0;32mfor\u001b[0m \u001b[0mx\u001b[0m \u001b[0;32min\u001b[0m \u001b[0mby\u001b[0m\u001b[0;34m]\u001b[0m\u001b[0;34m\u001b[0m\u001b[0;34m\u001b[0m\u001b[0m\n\u001b[0m\u001b[1;32m   5440\u001b[0m \u001b[0;34m\u001b[0m\u001b[0m\n\u001b[1;32m   5441\u001b[0m             \u001b[0;31m# need to rewrap columns in Series to apply key function\u001b[0m\u001b[0;34m\u001b[0m\u001b[0;34m\u001b[0m\u001b[0;34m\u001b[0m\u001b[0m\n",
      "\u001b[0;32m~/opt/anaconda3/lib/python3.8/site-packages/pandas/core/generic.py\u001b[0m in \u001b[0;36m_get_label_or_level_values\u001b[0;34m(self, key, axis)\u001b[0m\n\u001b[1;32m   1694\u001b[0m \u001b[0;34m\u001b[0m\u001b[0m\n\u001b[1;32m   1695\u001b[0m             \u001b[0mlabel_axis_name\u001b[0m \u001b[0;34m=\u001b[0m \u001b[0;34m\"column\"\u001b[0m \u001b[0;32mif\u001b[0m \u001b[0maxis\u001b[0m \u001b[0;34m==\u001b[0m \u001b[0;36m0\u001b[0m \u001b[0;32melse\u001b[0m \u001b[0;34m\"index\"\u001b[0m\u001b[0;34m\u001b[0m\u001b[0;34m\u001b[0m\u001b[0m\n\u001b[0;32m-> 1696\u001b[0;31m             raise ValueError(\n\u001b[0m\u001b[1;32m   1697\u001b[0m                 \u001b[0;34mf\"The {label_axis_name} label '{key}' is not unique.{multi_message}\"\u001b[0m\u001b[0;34m\u001b[0m\u001b[0;34m\u001b[0m\u001b[0m\n\u001b[1;32m   1698\u001b[0m             )\n",
      "\u001b[0;31mValueError\u001b[0m: The column label 'rule_code' is not unique."
     ]
    }
   ],
   "source": [
    "complaint = df.complaint.str.replace(r\"^(\\d+\\:\\d+) (.+) (\\d+)\", r\"\\1@@\\2@@\\3\").str.split(\"@@\", expand=True)\n",
    "complaint.columns = [\"rule_code\", \"rule_paragraph\", \"paragraph_code\"]\n",
    "df = pd.concat([df, complaint], axis=1)\n",
    "df.loc[(df.rule_code == \"3:17\") & (df.paragraph_code == \"40\"), \"rule_paragraph\"] = 'Carrying Out Orders / General Orders (Pursuit)'\n"
   ]
  },
  {
   "cell_type": "code",
   "execution_count": 5,
   "metadata": {},
   "outputs": [
    {
     "output_type": "execute_result",
     "data": {
      "text/plain": [
       "array(['Exonerated', 'Not Sustained', 'Resigned', 'Office Investigation',\n",
       "       'Hold in abeyance', 'Counseled', '', 'Not Sustained (60 day rule)',\n",
       "       '30-day suspension', 'Letter of Caution',\n",
       "       'Command of Temper (2-Day Suspension, Verbal Judo Class, Attaining Respect class, Early Intervention',\n",
       "       'Tactical Training in Reasonable Suspicion & Felony Stops',\n",
       "       'Tactical Training in Reasonable Suspicion & Felony Slops',\n",
       "       'Letter of Reprimand', 'Peer Intervention Training',\n",
       "       '21-Day Suspension', 'Peer intervention Training',\n",
       "       'Verbal Judo Training', '1-Day Suspension', 'Termination',\n",
       "       'Letter of Caution; Firearm Safety Training; Range Master',\n",
       "       'Exonerated: Not Sustained',\n",
       "       'Letter of Caution & 1 day driving school',\n",
       "       'Letter of Instruction', 'Conference Worksheet',\n",
       "       'Conference worksheet', '9-Day Suspension', '2-Day Suspension',\n",
       "       '65-day suspension', 'Demotion - From Sgt. to Cpl.',\n",
       "       '7 day suspension; De- Escalation, R/S & P/C Training; UOF Training',\n",
       "       'Not sustained', 'AWOL 5 day Suspension'], dtype=object)"
      ]
     },
     "metadata": {},
     "execution_count": 5
    }
   ],
   "source": [
    "cprr[\"Action\"].unique()"
   ]
  },
  {
   "cell_type": "code",
   "execution_count": 6,
   "metadata": {},
   "outputs": [
    {
     "output_type": "execute_result",
     "data": {
      "text/plain": [
       "array(['Exonerated', 'Not Sustained', 'Office Investigation', 'Sustained',\n",
       "       'Admin Review', ''], dtype=object)"
      ]
     },
     "metadata": {},
     "execution_count": 6
    }
   ],
   "source": [
    "cprr[\"Disposition\"].unique()"
   ]
  },
  {
   "cell_type": "code",
   "execution_count": 7,
   "metadata": {},
   "outputs": [
    {
     "output_type": "execute_result",
     "data": {
      "text/plain": [
       "array(['Administrative Review', 'Office Investigation', 'Referral'],\n",
       "      dtype=object)"
      ]
     },
     "metadata": {},
     "execution_count": 7
    }
   ],
   "source": [
    "cprr[\"Status\"].unique()"
   ]
  },
  {
   "cell_type": "code",
   "execution_count": null,
   "metadata": {},
   "outputs": [],
   "source": []
  }
 ]
}
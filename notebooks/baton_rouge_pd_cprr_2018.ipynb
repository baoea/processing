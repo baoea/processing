{
 "metadata": {
  "language_info": {
   "codemirror_mode": {
    "name": "ipython",
    "version": 3
   },
   "file_extension": ".py",
   "mimetype": "text/x-python",
   "name": "python",
   "nbconvert_exporter": "python",
   "pygments_lexer": "ipython3",
   "version": "3.8.3-final"
  },
  "orig_nbformat": 2,
  "kernelspec": {
   "name": "python3",
   "display_name": "Python 3",
   "language": "python"
  }
 },
 "nbformat": 4,
 "nbformat_minor": 2,
 "cells": [
  {
   "cell_type": "code",
   "execution_count": 1,
   "metadata": {},
   "outputs": [],
   "source": [
    "import re\n",
    "import sys; sys.path.append(\"../\")\n",
    "\n",
    "import numpy as np\n",
    "import pandas as pd\n",
    "\n",
    "from lib.columns import rearrange_complaint_columns\n",
    "from lib.textract import parse_textract_datetime"
   ]
  },
  {
   "cell_type": "code",
   "execution_count": 2,
   "metadata": {},
   "outputs": [
    {
     "output_type": "execute_result",
     "data": {
      "text/plain": [
       "    IA Year 1A Seq                 Status Received Occur Date  \\\n",
       "0      2018    002  Administrative Review   1/2/18   12/30/17   \n",
       "1      2018    004  Administrative Review   1/9/18     1/9/18   \n",
       "2      2018    003   Office Investigation   1/9/18    12/3/17   \n",
       "3      2018    003   Office Investigation   1/9/18    12/3/17   \n",
       "4      2018    005  Administrative Review  1/10/18    1/10/18   \n",
       "..      ...    ...                    ...      ...        ...   \n",
       "144    2019    003  Administrative Review  1/30/19    3/27/18   \n",
       "145    2019    003  Administrative Review  1/30/19    3/27/18   \n",
       "146    2019    003  Administrative Review  1/30/19    3/27/18   \n",
       "147    2018    010  Administrative Review  1/26/18    1/26/18   \n",
       "148    2018    011  Administrative Review   2/8/18     2/8/18   \n",
       "\n",
       "                                          Officer Name  \\\n",
       "0      BARCELONA JESSE R, P1254 Cib Street Crimes Unit   \n",
       "1                  ACREE JASON K, P10280 Cib Narcotics   \n",
       "2       RIMES MELISSA J, P10476 Op Service Comm Center   \n",
       "3       RIMES MELISSA J, P10476 Op Service Comm Center   \n",
       "4                     HAMADEH YUSEFF G, P10578 Cib Cib   \n",
       "..                                                 ...   \n",
       "144         CLARK KENNETH M, P1245 Patrol 2nd District   \n",
       "145         CLARK KENNETH M, P1245 Patrol 2nd District   \n",
       "146         CLARK KENNETH M, P1245 Patrol 2nd District   \n",
       "147     ROBERTSON JASON R., P10639 Patrol 1st District   \n",
       "148  CARTER. JR. DARRELL J., P10511 Patrol 4th Dist...   \n",
       "\n",
       "                                             Complaint                Action  \\\n",
       "0    3:17 Carrying Out Orders / General Orders (Pur...            Exonerated   \n",
       "1    3:17 Carrying Out Orders / General Orders (Pur...         Not Sustained   \n",
       "2                           2:4 Abuse of Sick Leave 66              Resigned   \n",
       "3                           2:4 Abuse of Sick Leave 66  Office Investigation   \n",
       "4               3:20 Use of Force / Hard Empty Hand 53         Not Sustained   \n",
       "..                                                 ...                   ...   \n",
       "144  3:17 Carrying Out Orders / General Orders (Pur...   Letter of Reprimand   \n",
       "145                            3:18 Insubordination 43   Letter of Reprimand   \n",
       "146              2:12 Conduct Unbecoming an Officer 21   Letter of Reprimand   \n",
       "147  3:17 Carrying Out Orders / General Orders (Pur...         Not Sustained   \n",
       "148         3:20 Use of Force / Intermediate Weapon 52         Not Sustained   \n",
       "\n",
       "              Disposition  \n",
       "0              Exonerated  \n",
       "1           Not Sustained  \n",
       "2    Office Investigation  \n",
       "3    Office Investigation  \n",
       "4           Not Sustained  \n",
       "..                    ...  \n",
       "144             Sustained  \n",
       "145         Not Sustained  \n",
       "146             Sustained  \n",
       "147         Not Sustained  \n",
       "148         Not Sustained  \n",
       "\n",
       "[149 rows x 9 columns]"
      ],
      "text/html": "<div>\n<style scoped>\n    .dataframe tbody tr th:only-of-type {\n        vertical-align: middle;\n    }\n\n    .dataframe tbody tr th {\n        vertical-align: top;\n    }\n\n    .dataframe thead th {\n        text-align: right;\n    }\n</style>\n<table border=\"1\" class=\"dataframe\">\n  <thead>\n    <tr style=\"text-align: right;\">\n      <th></th>\n      <th>IA Year</th>\n      <th>1A Seq</th>\n      <th>Status</th>\n      <th>Received</th>\n      <th>Occur Date</th>\n      <th>Officer Name</th>\n      <th>Complaint</th>\n      <th>Action</th>\n      <th>Disposition</th>\n    </tr>\n  </thead>\n  <tbody>\n    <tr>\n      <th>0</th>\n      <td>2018</td>\n      <td>002</td>\n      <td>Administrative Review</td>\n      <td>1/2/18</td>\n      <td>12/30/17</td>\n      <td>BARCELONA JESSE R, P1254 Cib Street Crimes Unit</td>\n      <td>3:17 Carrying Out Orders / General Orders (Pur...</td>\n      <td>Exonerated</td>\n      <td>Exonerated</td>\n    </tr>\n    <tr>\n      <th>1</th>\n      <td>2018</td>\n      <td>004</td>\n      <td>Administrative Review</td>\n      <td>1/9/18</td>\n      <td>1/9/18</td>\n      <td>ACREE JASON K, P10280 Cib Narcotics</td>\n      <td>3:17 Carrying Out Orders / General Orders (Pur...</td>\n      <td>Not Sustained</td>\n      <td>Not Sustained</td>\n    </tr>\n    <tr>\n      <th>2</th>\n      <td>2018</td>\n      <td>003</td>\n      <td>Office Investigation</td>\n      <td>1/9/18</td>\n      <td>12/3/17</td>\n      <td>RIMES MELISSA J, P10476 Op Service Comm Center</td>\n      <td>2:4 Abuse of Sick Leave 66</td>\n      <td>Resigned</td>\n      <td>Office Investigation</td>\n    </tr>\n    <tr>\n      <th>3</th>\n      <td>2018</td>\n      <td>003</td>\n      <td>Office Investigation</td>\n      <td>1/9/18</td>\n      <td>12/3/17</td>\n      <td>RIMES MELISSA J, P10476 Op Service Comm Center</td>\n      <td>2:4 Abuse of Sick Leave 66</td>\n      <td>Office Investigation</td>\n      <td>Office Investigation</td>\n    </tr>\n    <tr>\n      <th>4</th>\n      <td>2018</td>\n      <td>005</td>\n      <td>Administrative Review</td>\n      <td>1/10/18</td>\n      <td>1/10/18</td>\n      <td>HAMADEH YUSEFF G, P10578 Cib Cib</td>\n      <td>3:20 Use of Force / Hard Empty Hand 53</td>\n      <td>Not Sustained</td>\n      <td>Not Sustained</td>\n    </tr>\n    <tr>\n      <th>...</th>\n      <td>...</td>\n      <td>...</td>\n      <td>...</td>\n      <td>...</td>\n      <td>...</td>\n      <td>...</td>\n      <td>...</td>\n      <td>...</td>\n      <td>...</td>\n    </tr>\n    <tr>\n      <th>144</th>\n      <td>2019</td>\n      <td>003</td>\n      <td>Administrative Review</td>\n      <td>1/30/19</td>\n      <td>3/27/18</td>\n      <td>CLARK KENNETH M, P1245 Patrol 2nd District</td>\n      <td>3:17 Carrying Out Orders / General Orders (Pur...</td>\n      <td>Letter of Reprimand</td>\n      <td>Sustained</td>\n    </tr>\n    <tr>\n      <th>145</th>\n      <td>2019</td>\n      <td>003</td>\n      <td>Administrative Review</td>\n      <td>1/30/19</td>\n      <td>3/27/18</td>\n      <td>CLARK KENNETH M, P1245 Patrol 2nd District</td>\n      <td>3:18 Insubordination 43</td>\n      <td>Letter of Reprimand</td>\n      <td>Not Sustained</td>\n    </tr>\n    <tr>\n      <th>146</th>\n      <td>2019</td>\n      <td>003</td>\n      <td>Administrative Review</td>\n      <td>1/30/19</td>\n      <td>3/27/18</td>\n      <td>CLARK KENNETH M, P1245 Patrol 2nd District</td>\n      <td>2:12 Conduct Unbecoming an Officer 21</td>\n      <td>Letter of Reprimand</td>\n      <td>Sustained</td>\n    </tr>\n    <tr>\n      <th>147</th>\n      <td>2018</td>\n      <td>010</td>\n      <td>Administrative Review</td>\n      <td>1/26/18</td>\n      <td>1/26/18</td>\n      <td>ROBERTSON JASON R., P10639 Patrol 1st District</td>\n      <td>3:17 Carrying Out Orders / General Orders (Pur...</td>\n      <td>Not Sustained</td>\n      <td>Not Sustained</td>\n    </tr>\n    <tr>\n      <th>148</th>\n      <td>2018</td>\n      <td>011</td>\n      <td>Administrative Review</td>\n      <td>2/8/18</td>\n      <td>2/8/18</td>\n      <td>CARTER. JR. DARRELL J., P10511 Patrol 4th Dist...</td>\n      <td>3:20 Use of Force / Intermediate Weapon 52</td>\n      <td>Not Sustained</td>\n      <td>Not Sustained</td>\n    </tr>\n  </tbody>\n</table>\n<p>149 rows × 9 columns</p>\n</div>"
     },
     "metadata": {},
     "execution_count": 2
    }
   ],
   "source": [
    "cprr = pd.read_csv(\"../data/Baton Rouge Police Department/Baton Rouge_PD_CPRR_2018.csv\", encoding=\"latin1\")\n",
    "cprr.rename(columns=lambda x: x.strip(), inplace=True)\n",
    "cprr.rename(columns={\"Comptaint\": \"Complaint\"}, inplace=True)\n",
    "\n",
    "# manual edits\n",
    "cprr.iloc[4, 2] = \"Administrative Review\"\n",
    "cprr.iloc[12, 5] = cprr.iloc[12, 5] + \"P10467 Patrol 3rd District\"\n",
    "cprr.iloc[12, 6] = cprr.iloc[12, 6] + \"Orders - (Pursuit) - 40\"\n",
    "for ind in [16, 23, 25, 29]:\n",
    "    m = re.match(r\"^(.+) (\\d+\\:\\d+) *$\", cprr.iloc[ind-1, 6])\n",
    "    cprr.iloc[ind-1, 6] = m.group(1)\n",
    "    cprr.iloc[ind, 6] = \"%s %s\" % (m.group(2), cprr.iloc[ind, 6])\n",
    "for ind in [39]:\n",
    "    m = re.match(r\"^(\\d+) (.+)$\", cprr.iloc[ind+1, 6])\n",
    "    cprr.iloc[ind, 6] = cprr.iloc[ind, 6] + m.group(1)\n",
    "    cprr.iloc[ind+1, 6] = m.group(2)\n",
    "cprr.iloc[24, 5] = cprr.iloc[24, 5][21:]\n",
    "cprr.iloc[38, 5] = cprr.iloc[38, 5] + \"Operational Services\"\n",
    "cprr.iloc[66, 6] = cprr.iloc[66, 6] + \"Orders - (Pursuit) - 40\"\n",
    "cprr.iloc[72, 0] = \"2018\"\n",
    "cprr.iloc[72, 1] = \"35\"\n",
    "cprr.iloc[72, 2] = \"Administrative Review\"\n",
    "cprr.iloc[72, 5] = cprr.iloc[72, 5][:-1]\n",
    "cprr.iloc[72, 6] = cprr.iloc[72, 6][:-1]\n",
    "cprr.iloc[83, 5] = \"%s%s\" % (cprr.iloc[83, 5], cprr.iloc[84, 5])\n",
    "cprr.iloc[83, 6] = \"%s%s\" % (cprr.iloc[83, 6], cprr.iloc[84, 6])\n",
    "cprr.iloc[128, 5] = \"%s%s\" % (cprr.iloc[128, 5], cprr.iloc[133, 4])\n",
    "cprr.iloc[128, 6] = \"%s%s\" % (cprr.iloc[128, 6], cprr.iloc[133, 5])\n",
    "cprr.iloc[115, 6] = \"%s%s\" % (cprr.iloc[115, 6], cprr.iloc[129, 6])\n",
    "for ind in [134, 135]:\n",
    "    cprr.iloc[ind, 6] = cprr.iloc[ind, 5]\n",
    "    cprr.iloc[ind, 5] = cprr.iloc[ind, 4]\n",
    "    cprr.iloc[ind, 4] = \"\"\n",
    "cprr.iloc[142, 5] = cprr.iloc[144, 5]\n",
    "cprr.iloc[143, 5] = cprr.iloc[144, 5]\n",
    "\n",
    "# insert missing rows in page 2\n",
    "cprr.loc[len(cprr)] = [\n",
    "    \"2018\", \"010\", \"Administrative Review\", \"1/26/18\", \"1/26/18\",\n",
    "    \"ROBERTSON JASON R., P10639 Patrol 1st District\",\n",
    "    \"3:17 Carrying Out Orders / General Orders - (Pursuit) - 40\",\n",
    "    \"Not Sustained\", \"Not Sustained\"]\n",
    "cprr.loc[len(cprr)] = [\n",
    "    \"2018\", \"011\", \"Administrative Review\", \"2/8/18\", \"2/8/18\",\n",
    "    \"CARTER. JR. DARRELL J., P10511 Patrol 4th District\",\n",
    "    \"3:20 Use of Force / Intermediate Weapon - 52\",\n",
    "    \"Not Sustained\", \"Not Sustained\"]\n",
    "\n",
    "# normalize\n",
    "cprr.loc[:, \"IA Year\"] = cprr[\"IA Year\"].str.replace(\"-\", \"\").str.strip()\n",
    "cprr.loc[:, \"Status\"] = cprr[\"Status\"].str.replace(\"-\", \"\").str.strip()\\\n",
    "    .str.title()\n",
    "cprr.loc[:, \"Received\"] = cprr[\"Received\"].str.replace(\"-\", \"\").str.strip()\n",
    "cprr.loc[:, \"Occur Date\"] = cprr[\"Occur Date\"].str.replace(\"-\", \"\")\\\n",
    "    .str.strip().fillna(\"\")\n",
    "cprr.loc[:, \"Officer Name\"] = cprr[\"Officer Name\"].str.strip()\\\n",
    "    .str.replace(r\"(\\.|,) +(PC?\\d+)\", r\", \\2\")\\\n",
    "    .str.replace(\", JR\", \". JR\", regex=False)\\\n",
    "    .str.replace(\" Il \", \" II \", regex=False)\\\n",
    "    .str.replace(r\"(\\d+)\\. \", r\"\\1 \")\\\n",
    "    .str.replace(\"Distnct\", \"District\", regex=False)\\\n",
    "    .str.replace(\"none entered\", \"\", regex=False).fillna(\"\")\n",
    "cprr.loc[:, \"Complaint\"] = cprr.loc[:, \"Complaint\"]\\\n",
    "    .str.replace(r\"\\< *\\d+.+$\", \"\").str.strip()\\\n",
    "    .str.replace(r\"^(\\d+)(?:\\.|,)(\\d+)\", r\"\\1:\\2\")\\\n",
    "    .str.replace(r\" \\.(\\d+)\", r\" \\1\")\\\n",
    "    .str.replace(r\" of$\", \"\").str.replace(\"Use Force\", \"Use of Force\", regex=False)\\\n",
    "    .str.replace(r\" ?- \", \" \").str.replace(\" lo \", \" to \", regex=False)\\\n",
    "    .str.replace(\"Emply\", \"Empty\", regex=False)\\\n",
    "    .str.replace(\"Oul \", \"Out \", regex=False).fillna(\"\")\n",
    "cprr.loc[:, \"Action\"] = cprr[\"Action\"]\\\n",
    "    .where(~cprr[\"Action\"].str.isupper().fillna(False), cprr[\"Action\"].str.title())\\\n",
    "    .str.replace(\" lo \", \" to \", regex=False)\\\n",
    "    .str.replace(r\"^ *- *$\", \"\")\\\n",
    "    .str.replace(\"Suspension.\", \"Suspension,\", regex=False)\\\n",
    "    .str.replace(\"Exonerated;\", \"Exonerated:\", regex=False)\\\n",
    "    .str.replace(\"Sgl. \", \"Sgt. \", regex=False).str.strip().fillna(\"\")\n",
    "cprr.loc[:, \"Disposition\"] = cprr[\"Disposition\"].str.replace(r\" ?- \", \" \")\\\n",
    "    .str.replace(r\"\\< *\\d+.+$\", \"\").str.replace(r\"^\\.\", \"\")\\\n",
    "    .str.replace(\"Exoneraled\", \"Exonerated\", regex=False)\\\n",
    "    .str.replace(\"Sustaned\", \"Sustained\", regex=False).str.strip().fillna(\"\")\n",
    "\n",
    "cprr.drop([84, 129, 133], inplace=True)\n",
    "cprr.loc[:, \"1A Seq\"] = cprr[\"1A Seq\"].str.rjust(3, \"0\")\n",
    "cprr.reset_index(drop=True, inplace=True)\n",
    "cprr\n"
   ]
  },
  {
   "cell_type": "code",
   "execution_count": 3,
   "metadata": {},
   "outputs": [
    {
     "output_type": "execute_result",
     "data": {
      "text/plain": [
       "                    Name Department #              Department  Last Name  \\\n",
       "0      Barcelona Jesse R        P1254  Cib Street Crimes Unit  Barcelona   \n",
       "1          Acree Jason K       P10280           Cib Narcotics      Acree   \n",
       "2        Rimes Melissa J       P10476  Op Service Comm Center      Rimes   \n",
       "3        Rimes Melissa J       P10476  Op Service Comm Center      Rimes   \n",
       "4       Hamadeh Yuseff G       P10578                 Cib Cib    Hamadeh   \n",
       "..                   ...          ...                     ...        ...   \n",
       "144      Clark Kenneth M        P1245     Patrol 2nd District      Clark   \n",
       "145      Clark Kenneth M        P1245     Patrol 2nd District      Clark   \n",
       "146      Clark Kenneth M        P1245     Patrol 2nd District      Clark   \n",
       "147    Robertson Jason R       P10639     Patrol 1st District  Robertson   \n",
       "148  Carter Jr Darrell J       P10511     Patrol 4th District  Carter Jr   \n",
       "\n",
       "    First Name Middle Name  \n",
       "0        Jesse           R  \n",
       "1        Jason           K  \n",
       "2      Melissa           J  \n",
       "3      Melissa           J  \n",
       "4       Yuseff           G  \n",
       "..         ...         ...  \n",
       "144    Kenneth           M  \n",
       "145    Kenneth           M  \n",
       "146    Kenneth           M  \n",
       "147      Jason           R  \n",
       "148    Darrell           J  \n",
       "\n",
       "[149 rows x 6 columns]"
      ],
      "text/html": "<div>\n<style scoped>\n    .dataframe tbody tr th:only-of-type {\n        vertical-align: middle;\n    }\n\n    .dataframe tbody tr th {\n        vertical-align: top;\n    }\n\n    .dataframe thead th {\n        text-align: right;\n    }\n</style>\n<table border=\"1\" class=\"dataframe\">\n  <thead>\n    <tr style=\"text-align: right;\">\n      <th></th>\n      <th>Name</th>\n      <th>Department #</th>\n      <th>Department</th>\n      <th>Last Name</th>\n      <th>First Name</th>\n      <th>Middle Name</th>\n    </tr>\n  </thead>\n  <tbody>\n    <tr>\n      <th>0</th>\n      <td>Barcelona Jesse R</td>\n      <td>P1254</td>\n      <td>Cib Street Crimes Unit</td>\n      <td>Barcelona</td>\n      <td>Jesse</td>\n      <td>R</td>\n    </tr>\n    <tr>\n      <th>1</th>\n      <td>Acree Jason K</td>\n      <td>P10280</td>\n      <td>Cib Narcotics</td>\n      <td>Acree</td>\n      <td>Jason</td>\n      <td>K</td>\n    </tr>\n    <tr>\n      <th>2</th>\n      <td>Rimes Melissa J</td>\n      <td>P10476</td>\n      <td>Op Service Comm Center</td>\n      <td>Rimes</td>\n      <td>Melissa</td>\n      <td>J</td>\n    </tr>\n    <tr>\n      <th>3</th>\n      <td>Rimes Melissa J</td>\n      <td>P10476</td>\n      <td>Op Service Comm Center</td>\n      <td>Rimes</td>\n      <td>Melissa</td>\n      <td>J</td>\n    </tr>\n    <tr>\n      <th>4</th>\n      <td>Hamadeh Yuseff G</td>\n      <td>P10578</td>\n      <td>Cib Cib</td>\n      <td>Hamadeh</td>\n      <td>Yuseff</td>\n      <td>G</td>\n    </tr>\n    <tr>\n      <th>...</th>\n      <td>...</td>\n      <td>...</td>\n      <td>...</td>\n      <td>...</td>\n      <td>...</td>\n      <td>...</td>\n    </tr>\n    <tr>\n      <th>144</th>\n      <td>Clark Kenneth M</td>\n      <td>P1245</td>\n      <td>Patrol 2nd District</td>\n      <td>Clark</td>\n      <td>Kenneth</td>\n      <td>M</td>\n    </tr>\n    <tr>\n      <th>145</th>\n      <td>Clark Kenneth M</td>\n      <td>P1245</td>\n      <td>Patrol 2nd District</td>\n      <td>Clark</td>\n      <td>Kenneth</td>\n      <td>M</td>\n    </tr>\n    <tr>\n      <th>146</th>\n      <td>Clark Kenneth M</td>\n      <td>P1245</td>\n      <td>Patrol 2nd District</td>\n      <td>Clark</td>\n      <td>Kenneth</td>\n      <td>M</td>\n    </tr>\n    <tr>\n      <th>147</th>\n      <td>Robertson Jason R</td>\n      <td>P10639</td>\n      <td>Patrol 1st District</td>\n      <td>Robertson</td>\n      <td>Jason</td>\n      <td>R</td>\n    </tr>\n    <tr>\n      <th>148</th>\n      <td>Carter Jr Darrell J</td>\n      <td>P10511</td>\n      <td>Patrol 4th District</td>\n      <td>Carter Jr</td>\n      <td>Darrell</td>\n      <td>J</td>\n    </tr>\n  </tbody>\n</table>\n<p>149 rows × 6 columns</p>\n</div>"
     },
     "metadata": {},
     "execution_count": 3
    }
   ],
   "source": [
    "dep = cprr[\"Officer Name\"].str.replace(r\"^(.+), (PC?\\d+) (.+)$\", r\"\\1 # \\2 # \\3\").str.split(\" # \", expand=True)\n",
    "dep.columns = [\"Name\", \"Department #\", \"Department\"]\n",
    "dep.loc[:, \"Name\"] = dep[\"Name\"].str.replace(r\"\\.\", \"\").str.strip().str.title()\n",
    "\n",
    "names = dep[\"Name\"].str.replace(r\"^(\\w+(?: (?:Iii?|Iv|V|Jr|Sr))?) (\\w+)(?: (\\w+|N\\/A))?$\", r\"\\1 # \\2 # \\3\").str.split(\" # \", expand=True)\n",
    "names.columns = [\"Last Name\", \"First Name\", \"Middle Name\"]\n",
    "names.loc[:, \"Middle Name\"] = names[\"Middle Name\"].str.replace(\"N/A\", \"\", regex=False).fillna(\"\")\n",
    "names.loc[:, \"Last Name\"] = names[\"Last Name\"]\\\n",
    "    .str.replace(r\"^(.+) (Iii?|Iv)$\", lambda m: \"%s %s\" % (m.group(1), m.group(2).upper())).fillna(\"\")\n",
    "names.loc[:, \"First Name\"] = names[\"First Name\"].fillna(\"\")\n",
    "\n",
    "df = pd.concat([dep, names], axis=1)\n",
    "df"
   ]
  },
  {
   "cell_type": "code",
   "execution_count": 4,
   "metadata": {},
   "outputs": [
    {
     "output_type": "execute_result",
     "data": {
      "text/plain": [
       "array(['3:17 Carrying Out Orders / General Orders (Pursuit) 40',\n",
       "       '2:4 Abuse of Sick Leave 66',\n",
       "       '3:20 Use of Force / Hard Empty Hand 53',\n",
       "       '3:12 Confiscated Property 35',\n",
       "       '2:12 Conduct Unbecoming an Officer 21', '3:23 Truthfulness 58',\n",
       "       '2:1 Use of Alcohol/Drugs (Drugs) 12',\n",
       "       '3:22 Violation of Known Laws / Violations 56',\n",
       "       '2:2 Command of Temper 13',\n",
       "       '3:20 Use of Force / Soft Empty Hand 54',\n",
       "       '3:20 Use of Force / Shooting (Non Contact) 47',\n",
       "       '2:14 DMVR Violation 68',\n",
       "       '3:4 Failure to Secure Property or Evidence 26',\n",
       "       '1:7 Comp/Submission of Forms 8', '2:9 Traffic Violations 19',\n",
       "       '3:17 Carrying Out Orders General Orders (Pursuit) 40',\n",
       "       '3:17 Carrying Out Orders / Memorandums 41',\n",
       "       '3:20 Use of Force / Shooting (Animal) 48',\n",
       "       '2:8 Damaging Department Equipment 18',\n",
       "       '2:11 Outside Agency Involvement 67', '2:3 Shirking Duties 14',\n",
       "       '2:13 Respect of Fellow Officers 22',\n",
       "       '3:19 Falsification of Documents 44', '2:5 AWOL 15',\n",
       "       '1:5 Punctuality 6', '3:5 Unauthorized Public Statements 27',\n",
       "       '3:8 Confidentiality 31', '3:18 Insubordination 43',\n",
       "       '3:20 Use of Force / Intermediate Weapon 52'], dtype=object)"
      ]
     },
     "metadata": {},
     "execution_count": 4
    }
   ],
   "source": [
    "cprr[\"Complaint\"].unique()\n",
    "# \"rule_violation_code rule_violation_text / paragraph_violation paragraph_number?\""
   ]
  },
  {
   "cell_type": "code",
   "execution_count": 5,
   "metadata": {},
   "outputs": [
    {
     "output_type": "execute_result",
     "data": {
      "text/plain": [
       "array(['Exonerated', 'Not Sustained', 'Resigned', 'Office Investigation',\n",
       "       'Hold in abeyance', 'Counseled', '', 'Not Sustained (60 day rule)',\n",
       "       '30-day suspension', 'Letter of Caution',\n",
       "       'Command of Temper (2-Day Suspension, Verbal Judo Class, Attaining Respect class, Early Intervention',\n",
       "       'Tactical Training in Reasonable Suspicion & Felony Stops',\n",
       "       'Tactical Training in Reasonable Suspicion & Felony Slops',\n",
       "       'Letter of Reprimand', 'Peer Intervention Training',\n",
       "       '21-Day Suspension', 'Peer intervention Training',\n",
       "       'Verbal Judo Training', '1-Day Suspension', 'Termination',\n",
       "       'Letter of Caution; Firearm Safety Training; Range Master',\n",
       "       'Exonerated: Not Sustained',\n",
       "       'Letter of Caution & 1 day driving school',\n",
       "       'Letter of Instruction', 'Conference Worksheet',\n",
       "       'Conference worksheet', '9-Day Suspension', '2-Day Suspension',\n",
       "       '65-day suspension', 'Demotion - From Sgt. to Cpl.',\n",
       "       '7 day suspension; De- Escalation, R/S & P/C Training; UOF Training',\n",
       "       'Not sustained', 'AWOL 5 day Suspension'], dtype=object)"
      ]
     },
     "metadata": {},
     "execution_count": 5
    }
   ],
   "source": [
    "cprr[\"Action\"].unique()"
   ]
  },
  {
   "cell_type": "code",
   "execution_count": 6,
   "metadata": {},
   "outputs": [
    {
     "output_type": "execute_result",
     "data": {
      "text/plain": [
       "array(['Exonerated', 'Not Sustained', 'Office Investigation', 'Sustained',\n",
       "       'Admin Review', ''], dtype=object)"
      ]
     },
     "metadata": {},
     "execution_count": 6
    }
   ],
   "source": [
    "cprr[\"Disposition\"].unique()"
   ]
  },
  {
   "cell_type": "code",
   "execution_count": 7,
   "metadata": {},
   "outputs": [
    {
     "output_type": "execute_result",
     "data": {
      "text/plain": [
       "array(['Administrative Review', 'Office Investigation', 'Referral'],\n",
       "      dtype=object)"
      ]
     },
     "metadata": {},
     "execution_count": 7
    }
   ],
   "source": [
    "cprr[\"Status\"].unique()"
   ]
  },
  {
   "cell_type": "code",
   "execution_count": null,
   "metadata": {},
   "outputs": [],
   "source": []
  }
 ]
}
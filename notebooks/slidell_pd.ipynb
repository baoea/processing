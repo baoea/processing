{
 "metadata": {
  "language_info": {
   "codemirror_mode": {
    "name": "ipython",
    "version": 3
   },
   "file_extension": ".py",
   "mimetype": "text/x-python",
   "name": "python",
   "nbconvert_exporter": "python",
   "pygments_lexer": "ipython3",
   "version": "3.9.2"
  },
  "orig_nbformat": 2,
  "kernelspec": {
   "name": "python392jvsc74a57bd055d6dfa6f6295e03bf132df3e61c1565ff1c22b645ef82a5638b280b97b3597b",
   "display_name": "Python 3.9.2 64-bit ('base': virtualenvwrapper)"
  }
 },
 "nbformat": 4,
 "nbformat_minor": 2,
 "cells": [
  {
   "cell_type": "code",
   "execution_count": 1,
   "metadata": {},
   "outputs": [],
   "source": [
    "import sys; sys.path.append('../')\n",
    "import pandas as pd\n",
    "\n",
    "from clean.slidell_pd import clean09, clean19"
   ]
  },
  {
   "cell_type": "code",
   "execution_count": 2,
   "metadata": {},
   "outputs": [
    {
     "output_type": "execute_result",
     "data": {
      "text/plain": [
       "                    rank_desc salary_date  salary salary_freq first_name  \\\n",
       "0              police officer  06/26/2006  $11.65      hourly      mario   \n",
       "1              police officer  07/01/2006  $11.85      hourly      mario   \n",
       "2              police officer  11/27/2006  $12.33      hourly      mario   \n",
       "3    police officer 3rd class  07/01/2007  $12.33      hourly      mario   \n",
       "4    police officer 3rd class  07/02/2007  $14.71      hourly      mario   \n",
       "..                        ...         ...     ...         ...        ...   \n",
       "904            police captain  07/01/2004  $20.80      hourly      durel   \n",
       "905            police captain  07/01/2005  $21.32      hourly      durel   \n",
       "906            police captain  07/01/2006  $22.22      hourly      durel   \n",
       "907            police captain  11/27/2006  $23.11      hourly      durel   \n",
       "908                   captain  07/01/2000  $24.05      hourly    michael   \n",
       "\n",
       "      last_name hire_year hire_month hire_day  data_production_year  \\\n",
       "0    arthur iii      2004          3       24                  2009   \n",
       "1    arthur iii      2004          3       24                  2009   \n",
       "2    arthur iii      2004          3       24                  2009   \n",
       "3    arthur iii      2004          3       24                  2009   \n",
       "4    arthur iii      2004          3       24                  2009   \n",
       "..          ...       ...        ...      ...                   ...   \n",
       "904       yates      1988         12        5                  2009   \n",
       "905       yates      1988         12        5                  2009   \n",
       "906       yates      1988         12        5                  2009   \n",
       "907       yates      1988         12        5                  2009   \n",
       "908      youngs      1974          2       13                  2009   \n",
       "\n",
       "         agency                               uid  \n",
       "0    Slidell PD  275f97ca9b93dd81741a05d40836accb  \n",
       "1    Slidell PD  275f97ca9b93dd81741a05d40836accb  \n",
       "2    Slidell PD  275f97ca9b93dd81741a05d40836accb  \n",
       "3    Slidell PD  275f97ca9b93dd81741a05d40836accb  \n",
       "4    Slidell PD  275f97ca9b93dd81741a05d40836accb  \n",
       "..          ...                               ...  \n",
       "904  Slidell PD  db7a8e85a88f0a050916013fe453202b  \n",
       "905  Slidell PD  db7a8e85a88f0a050916013fe453202b  \n",
       "906  Slidell PD  db7a8e85a88f0a050916013fe453202b  \n",
       "907  Slidell PD  db7a8e85a88f0a050916013fe453202b  \n",
       "908  Slidell PD  ffed8bba5b654be261b1eee71ebf01f4  \n",
       "\n",
       "[909 rows x 12 columns]"
      ],
      "text/html": "<div>\n<style scoped>\n    .dataframe tbody tr th:only-of-type {\n        vertical-align: middle;\n    }\n\n    .dataframe tbody tr th {\n        vertical-align: top;\n    }\n\n    .dataframe thead th {\n        text-align: right;\n    }\n</style>\n<table border=\"1\" class=\"dataframe\">\n  <thead>\n    <tr style=\"text-align: right;\">\n      <th></th>\n      <th>rank_desc</th>\n      <th>salary_date</th>\n      <th>salary</th>\n      <th>salary_freq</th>\n      <th>first_name</th>\n      <th>last_name</th>\n      <th>hire_year</th>\n      <th>hire_month</th>\n      <th>hire_day</th>\n      <th>data_production_year</th>\n      <th>agency</th>\n      <th>uid</th>\n    </tr>\n  </thead>\n  <tbody>\n    <tr>\n      <th>0</th>\n      <td>police officer</td>\n      <td>06/26/2006</td>\n      <td>$11.65</td>\n      <td>hourly</td>\n      <td>mario</td>\n      <td>arthur iii</td>\n      <td>2004</td>\n      <td>3</td>\n      <td>24</td>\n      <td>2009</td>\n      <td>Slidell PD</td>\n      <td>275f97ca9b93dd81741a05d40836accb</td>\n    </tr>\n    <tr>\n      <th>1</th>\n      <td>police officer</td>\n      <td>07/01/2006</td>\n      <td>$11.85</td>\n      <td>hourly</td>\n      <td>mario</td>\n      <td>arthur iii</td>\n      <td>2004</td>\n      <td>3</td>\n      <td>24</td>\n      <td>2009</td>\n      <td>Slidell PD</td>\n      <td>275f97ca9b93dd81741a05d40836accb</td>\n    </tr>\n    <tr>\n      <th>2</th>\n      <td>police officer</td>\n      <td>11/27/2006</td>\n      <td>$12.33</td>\n      <td>hourly</td>\n      <td>mario</td>\n      <td>arthur iii</td>\n      <td>2004</td>\n      <td>3</td>\n      <td>24</td>\n      <td>2009</td>\n      <td>Slidell PD</td>\n      <td>275f97ca9b93dd81741a05d40836accb</td>\n    </tr>\n    <tr>\n      <th>3</th>\n      <td>police officer 3rd class</td>\n      <td>07/01/2007</td>\n      <td>$12.33</td>\n      <td>hourly</td>\n      <td>mario</td>\n      <td>arthur iii</td>\n      <td>2004</td>\n      <td>3</td>\n      <td>24</td>\n      <td>2009</td>\n      <td>Slidell PD</td>\n      <td>275f97ca9b93dd81741a05d40836accb</td>\n    </tr>\n    <tr>\n      <th>4</th>\n      <td>police officer 3rd class</td>\n      <td>07/02/2007</td>\n      <td>$14.71</td>\n      <td>hourly</td>\n      <td>mario</td>\n      <td>arthur iii</td>\n      <td>2004</td>\n      <td>3</td>\n      <td>24</td>\n      <td>2009</td>\n      <td>Slidell PD</td>\n      <td>275f97ca9b93dd81741a05d40836accb</td>\n    </tr>\n    <tr>\n      <th>...</th>\n      <td>...</td>\n      <td>...</td>\n      <td>...</td>\n      <td>...</td>\n      <td>...</td>\n      <td>...</td>\n      <td>...</td>\n      <td>...</td>\n      <td>...</td>\n      <td>...</td>\n      <td>...</td>\n      <td>...</td>\n    </tr>\n    <tr>\n      <th>904</th>\n      <td>police captain</td>\n      <td>07/01/2004</td>\n      <td>$20.80</td>\n      <td>hourly</td>\n      <td>durel</td>\n      <td>yates</td>\n      <td>1988</td>\n      <td>12</td>\n      <td>5</td>\n      <td>2009</td>\n      <td>Slidell PD</td>\n      <td>db7a8e85a88f0a050916013fe453202b</td>\n    </tr>\n    <tr>\n      <th>905</th>\n      <td>police captain</td>\n      <td>07/01/2005</td>\n      <td>$21.32</td>\n      <td>hourly</td>\n      <td>durel</td>\n      <td>yates</td>\n      <td>1988</td>\n      <td>12</td>\n      <td>5</td>\n      <td>2009</td>\n      <td>Slidell PD</td>\n      <td>db7a8e85a88f0a050916013fe453202b</td>\n    </tr>\n    <tr>\n      <th>906</th>\n      <td>police captain</td>\n      <td>07/01/2006</td>\n      <td>$22.22</td>\n      <td>hourly</td>\n      <td>durel</td>\n      <td>yates</td>\n      <td>1988</td>\n      <td>12</td>\n      <td>5</td>\n      <td>2009</td>\n      <td>Slidell PD</td>\n      <td>db7a8e85a88f0a050916013fe453202b</td>\n    </tr>\n    <tr>\n      <th>907</th>\n      <td>police captain</td>\n      <td>11/27/2006</td>\n      <td>$23.11</td>\n      <td>hourly</td>\n      <td>durel</td>\n      <td>yates</td>\n      <td>1988</td>\n      <td>12</td>\n      <td>5</td>\n      <td>2009</td>\n      <td>Slidell PD</td>\n      <td>db7a8e85a88f0a050916013fe453202b</td>\n    </tr>\n    <tr>\n      <th>908</th>\n      <td>captain</td>\n      <td>07/01/2000</td>\n      <td>$24.05</td>\n      <td>hourly</td>\n      <td>michael</td>\n      <td>youngs</td>\n      <td>1974</td>\n      <td>2</td>\n      <td>13</td>\n      <td>2009</td>\n      <td>Slidell PD</td>\n      <td>ffed8bba5b654be261b1eee71ebf01f4</td>\n    </tr>\n  </tbody>\n</table>\n<p>909 rows × 12 columns</p>\n</div>"
     },
     "metadata": {},
     "execution_count": 2
    }
   ],
   "source": [
    "df = clean09()\n",
    "df"
   ]
  },
  {
   "cell_type": "code",
   "execution_count": 20,
   "metadata": {},
   "outputs": [
    {
     "output_type": "execute_result",
     "data": {
      "text/plain": [
       "                     rank_desc salary_date  salary salary_freq first_name  \\\n",
       "857             police officer  07/01/2001  $11.24      hourly    devrone   \n",
       "858             police officer  07/01/2002  $11.70      hourly    devrone   \n",
       "859            police corporal  03/13/2003  $12.21      hourly    devrone   \n",
       "860             police officer  03/13/2003  $12.21      hourly    devrone   \n",
       "861            police corporal  07/01/2003  $12.81      hourly    devrone   \n",
       "862            police corporal  07/01/2004  $13.41      hourly    devrone   \n",
       "863            police corporal  07/01/2005  $13.74      hourly    devrone   \n",
       "864            police sergeant  03/13/2006  $14.26      hourly    devrone   \n",
       "865            police sergeant  07/01/2006  $14.86      hourly    devrone   \n",
       "866            police sergeant  11/27/2006  $15.46      hourly    devrone   \n",
       "867  police officer 1st class-  07/01/2007  $15.84      hourly    devrone   \n",
       "868  police officer 1st class-  07/02/2007  $17.37      hourly    devrone   \n",
       "869  police officer 1st class-  07/01/2008  $18.06      hourly    devrone   \n",
       "\n",
       "    last_name hire_year hire_month hire_day  data_production_year      agency  \\\n",
       "857    vasser      1999          5       12                  2009  Slidell PD   \n",
       "858    vasser      1999          5       12                  2009  Slidell PD   \n",
       "859    vasser      1999          5       12                  2009  Slidell PD   \n",
       "860    vasser      1999          5       12                  2009  Slidell PD   \n",
       "861    vasser      1999          5       12                  2009  Slidell PD   \n",
       "862    vasser      1999          5       12                  2009  Slidell PD   \n",
       "863    vasser      1999          5       12                  2009  Slidell PD   \n",
       "864    vasser      1999          5       12                  2009  Slidell PD   \n",
       "865    vasser      1999          5       12                  2009  Slidell PD   \n",
       "866    vasser      1999          5       12                  2009  Slidell PD   \n",
       "867    vasser      1999          5       12                  2009  Slidell PD   \n",
       "868    vasser      1999          5       12                  2009  Slidell PD   \n",
       "869    vasser      1999          5       12                  2009  Slidell PD   \n",
       "\n",
       "                                  uid  \n",
       "857  4a25163732a5e6adaeb3c81781dbb3c4  \n",
       "858  4a25163732a5e6adaeb3c81781dbb3c4  \n",
       "859  4a25163732a5e6adaeb3c81781dbb3c4  \n",
       "860  4a25163732a5e6adaeb3c81781dbb3c4  \n",
       "861  4a25163732a5e6adaeb3c81781dbb3c4  \n",
       "862  4a25163732a5e6adaeb3c81781dbb3c4  \n",
       "863  4a25163732a5e6adaeb3c81781dbb3c4  \n",
       "864  4a25163732a5e6adaeb3c81781dbb3c4  \n",
       "865  4a25163732a5e6adaeb3c81781dbb3c4  \n",
       "866  4a25163732a5e6adaeb3c81781dbb3c4  \n",
       "867  4a25163732a5e6adaeb3c81781dbb3c4  \n",
       "868  4a25163732a5e6adaeb3c81781dbb3c4  \n",
       "869  4a25163732a5e6adaeb3c81781dbb3c4  "
      ],
      "text/html": "<div>\n<style scoped>\n    .dataframe tbody tr th:only-of-type {\n        vertical-align: middle;\n    }\n\n    .dataframe tbody tr th {\n        vertical-align: top;\n    }\n\n    .dataframe thead th {\n        text-align: right;\n    }\n</style>\n<table border=\"1\" class=\"dataframe\">\n  <thead>\n    <tr style=\"text-align: right;\">\n      <th></th>\n      <th>rank_desc</th>\n      <th>salary_date</th>\n      <th>salary</th>\n      <th>salary_freq</th>\n      <th>first_name</th>\n      <th>last_name</th>\n      <th>hire_year</th>\n      <th>hire_month</th>\n      <th>hire_day</th>\n      <th>data_production_year</th>\n      <th>agency</th>\n      <th>uid</th>\n    </tr>\n  </thead>\n  <tbody>\n    <tr>\n      <th>857</th>\n      <td>police officer</td>\n      <td>07/01/2001</td>\n      <td>$11.24</td>\n      <td>hourly</td>\n      <td>devrone</td>\n      <td>vasser</td>\n      <td>1999</td>\n      <td>5</td>\n      <td>12</td>\n      <td>2009</td>\n      <td>Slidell PD</td>\n      <td>4a25163732a5e6adaeb3c81781dbb3c4</td>\n    </tr>\n    <tr>\n      <th>858</th>\n      <td>police officer</td>\n      <td>07/01/2002</td>\n      <td>$11.70</td>\n      <td>hourly</td>\n      <td>devrone</td>\n      <td>vasser</td>\n      <td>1999</td>\n      <td>5</td>\n      <td>12</td>\n      <td>2009</td>\n      <td>Slidell PD</td>\n      <td>4a25163732a5e6adaeb3c81781dbb3c4</td>\n    </tr>\n    <tr>\n      <th>859</th>\n      <td>police corporal</td>\n      <td>03/13/2003</td>\n      <td>$12.21</td>\n      <td>hourly</td>\n      <td>devrone</td>\n      <td>vasser</td>\n      <td>1999</td>\n      <td>5</td>\n      <td>12</td>\n      <td>2009</td>\n      <td>Slidell PD</td>\n      <td>4a25163732a5e6adaeb3c81781dbb3c4</td>\n    </tr>\n    <tr>\n      <th>860</th>\n      <td>police officer</td>\n      <td>03/13/2003</td>\n      <td>$12.21</td>\n      <td>hourly</td>\n      <td>devrone</td>\n      <td>vasser</td>\n      <td>1999</td>\n      <td>5</td>\n      <td>12</td>\n      <td>2009</td>\n      <td>Slidell PD</td>\n      <td>4a25163732a5e6adaeb3c81781dbb3c4</td>\n    </tr>\n    <tr>\n      <th>861</th>\n      <td>police corporal</td>\n      <td>07/01/2003</td>\n      <td>$12.81</td>\n      <td>hourly</td>\n      <td>devrone</td>\n      <td>vasser</td>\n      <td>1999</td>\n      <td>5</td>\n      <td>12</td>\n      <td>2009</td>\n      <td>Slidell PD</td>\n      <td>4a25163732a5e6adaeb3c81781dbb3c4</td>\n    </tr>\n    <tr>\n      <th>862</th>\n      <td>police corporal</td>\n      <td>07/01/2004</td>\n      <td>$13.41</td>\n      <td>hourly</td>\n      <td>devrone</td>\n      <td>vasser</td>\n      <td>1999</td>\n      <td>5</td>\n      <td>12</td>\n      <td>2009</td>\n      <td>Slidell PD</td>\n      <td>4a25163732a5e6adaeb3c81781dbb3c4</td>\n    </tr>\n    <tr>\n      <th>863</th>\n      <td>police corporal</td>\n      <td>07/01/2005</td>\n      <td>$13.74</td>\n      <td>hourly</td>\n      <td>devrone</td>\n      <td>vasser</td>\n      <td>1999</td>\n      <td>5</td>\n      <td>12</td>\n      <td>2009</td>\n      <td>Slidell PD</td>\n      <td>4a25163732a5e6adaeb3c81781dbb3c4</td>\n    </tr>\n    <tr>\n      <th>864</th>\n      <td>police sergeant</td>\n      <td>03/13/2006</td>\n      <td>$14.26</td>\n      <td>hourly</td>\n      <td>devrone</td>\n      <td>vasser</td>\n      <td>1999</td>\n      <td>5</td>\n      <td>12</td>\n      <td>2009</td>\n      <td>Slidell PD</td>\n      <td>4a25163732a5e6adaeb3c81781dbb3c4</td>\n    </tr>\n    <tr>\n      <th>865</th>\n      <td>police sergeant</td>\n      <td>07/01/2006</td>\n      <td>$14.86</td>\n      <td>hourly</td>\n      <td>devrone</td>\n      <td>vasser</td>\n      <td>1999</td>\n      <td>5</td>\n      <td>12</td>\n      <td>2009</td>\n      <td>Slidell PD</td>\n      <td>4a25163732a5e6adaeb3c81781dbb3c4</td>\n    </tr>\n    <tr>\n      <th>866</th>\n      <td>police sergeant</td>\n      <td>11/27/2006</td>\n      <td>$15.46</td>\n      <td>hourly</td>\n      <td>devrone</td>\n      <td>vasser</td>\n      <td>1999</td>\n      <td>5</td>\n      <td>12</td>\n      <td>2009</td>\n      <td>Slidell PD</td>\n      <td>4a25163732a5e6adaeb3c81781dbb3c4</td>\n    </tr>\n    <tr>\n      <th>867</th>\n      <td>police officer 1st class-</td>\n      <td>07/01/2007</td>\n      <td>$15.84</td>\n      <td>hourly</td>\n      <td>devrone</td>\n      <td>vasser</td>\n      <td>1999</td>\n      <td>5</td>\n      <td>12</td>\n      <td>2009</td>\n      <td>Slidell PD</td>\n      <td>4a25163732a5e6adaeb3c81781dbb3c4</td>\n    </tr>\n    <tr>\n      <th>868</th>\n      <td>police officer 1st class-</td>\n      <td>07/02/2007</td>\n      <td>$17.37</td>\n      <td>hourly</td>\n      <td>devrone</td>\n      <td>vasser</td>\n      <td>1999</td>\n      <td>5</td>\n      <td>12</td>\n      <td>2009</td>\n      <td>Slidell PD</td>\n      <td>4a25163732a5e6adaeb3c81781dbb3c4</td>\n    </tr>\n    <tr>\n      <th>869</th>\n      <td>police officer 1st class-</td>\n      <td>07/01/2008</td>\n      <td>$18.06</td>\n      <td>hourly</td>\n      <td>devrone</td>\n      <td>vasser</td>\n      <td>1999</td>\n      <td>5</td>\n      <td>12</td>\n      <td>2009</td>\n      <td>Slidell PD</td>\n      <td>4a25163732a5e6adaeb3c81781dbb3c4</td>\n    </tr>\n  </tbody>\n</table>\n</div>"
     },
     "metadata": {},
     "execution_count": 20
    }
   ],
   "source": [
    "df[df.uid == '4a25163732a5e6adaeb3c81781dbb3c4']"
   ]
  },
  {
   "cell_type": "code",
   "execution_count": 4,
   "metadata": {},
   "outputs": [
    {
     "output_type": "stream",
     "name": "stderr",
     "text": [
      "/Users/khoipham/.virtualenvs/base/lib/python3.9/site-packages/pandas/core/indexing.py:1676: SettingWithCopyWarning: \nA value is trying to be set on a copy of a slice from a DataFrame.\nTry using .loc[row_indexer,col_indexer] = value instead\n\nSee the caveats in the documentation: https://pandas.pydata.org/pandas-docs/stable/user_guide/indexing.html#returning-a-view-versus-a-copy\n  self._setitem_single_column(ilocs[0], value, pi)\n"
     ]
    },
    {
     "output_type": "execute_result",
     "data": {
      "text/plain": [
       "                     rank_desc salary_date  salary salary_freq  \\\n",
       "0     police officer 2nd class  01/01/2010   16.21      hourly   \n",
       "1     police officer 1st class  12/09/2010   17.62      hourly   \n",
       "2     police officer 1st class  01/02/2012   18.06      hourly   \n",
       "3     police officer 1st class  07/01/2014   19.23      hourly   \n",
       "4     police officer 1st class  07/01/2015   19.73      hourly   \n",
       "..                         ...         ...     ...         ...   \n",
       "875   police officer 1st class  07/01/2014   20.71      hourly   \n",
       "876   police officer 1st class  07/01/2015   21.21      hourly   \n",
       "877   temporary police officer  11/05/2018   18.00      hourly   \n",
       "878  police officer 1st class-  01/01/2010   19.45      hourly   \n",
       "879   temporary police officer  08/05/2010   19.45      hourly   \n",
       "\n",
       "             department_desc badge_no   employment_status first_name  \\\n",
       "0    criminal investigations      221  no longer with spd      mario   \n",
       "1    criminal investigations      221  no longer with spd      mario   \n",
       "2    criminal investigations      221  no longer with spd      mario   \n",
       "3    criminal investigations      221  no longer with spd      mario   \n",
       "4    criminal investigations      221  no longer with spd      mario   \n",
       "..                       ...      ...                 ...        ...   \n",
       "875          patrol division      720      still employed     thomas   \n",
       "876          patrol division      720      still employed     thomas   \n",
       "877          patrol division      720      still employed     thomas   \n",
       "878          patrol division      152             retired      david   \n",
       "879          patrol division      152             retired      david   \n",
       "\n",
       "      last_name hire_year hire_month hire_day  data_production_year  \\\n",
       "0    arthur iii      2004          3       24                  2019   \n",
       "1    arthur iii      2004          3       24                  2019   \n",
       "2    arthur iii      2004          3       24                  2019   \n",
       "3    arthur iii      2004          3       24                  2019   \n",
       "4    arthur iii      2004          3       24                  2019   \n",
       "..          ...       ...        ...      ...                   ...   \n",
       "875    williams      2018         11        5                  2019   \n",
       "876    williams      2018         11        5                  2019   \n",
       "877    williams      2018         11        5                  2019   \n",
       "878    wortmann      2010          8        5                  2019   \n",
       "879    wortmann      2010          8        5                  2019   \n",
       "\n",
       "         agency                               uid  \n",
       "0    Slidell PD  275f97ca9b93dd81741a05d40836accb  \n",
       "1    Slidell PD  275f97ca9b93dd81741a05d40836accb  \n",
       "2    Slidell PD  275f97ca9b93dd81741a05d40836accb  \n",
       "3    Slidell PD  275f97ca9b93dd81741a05d40836accb  \n",
       "4    Slidell PD  275f97ca9b93dd81741a05d40836accb  \n",
       "..          ...                               ...  \n",
       "875  Slidell PD  5a24751a774422601e050f7acf48d744  \n",
       "876  Slidell PD  5a24751a774422601e050f7acf48d744  \n",
       "877  Slidell PD  5a24751a774422601e050f7acf48d744  \n",
       "878  Slidell PD  6fd3b227b3b99ddbf32edcd31f1ce9b6  \n",
       "879  Slidell PD  6fd3b227b3b99ddbf32edcd31f1ce9b6  \n",
       "\n",
       "[880 rows x 15 columns]"
      ],
      "text/html": "<div>\n<style scoped>\n    .dataframe tbody tr th:only-of-type {\n        vertical-align: middle;\n    }\n\n    .dataframe tbody tr th {\n        vertical-align: top;\n    }\n\n    .dataframe thead th {\n        text-align: right;\n    }\n</style>\n<table border=\"1\" class=\"dataframe\">\n  <thead>\n    <tr style=\"text-align: right;\">\n      <th></th>\n      <th>rank_desc</th>\n      <th>salary_date</th>\n      <th>salary</th>\n      <th>salary_freq</th>\n      <th>department_desc</th>\n      <th>badge_no</th>\n      <th>employment_status</th>\n      <th>first_name</th>\n      <th>last_name</th>\n      <th>hire_year</th>\n      <th>hire_month</th>\n      <th>hire_day</th>\n      <th>data_production_year</th>\n      <th>agency</th>\n      <th>uid</th>\n    </tr>\n  </thead>\n  <tbody>\n    <tr>\n      <th>0</th>\n      <td>police officer 2nd class</td>\n      <td>01/01/2010</td>\n      <td>16.21</td>\n      <td>hourly</td>\n      <td>criminal investigations</td>\n      <td>221</td>\n      <td>no longer with spd</td>\n      <td>mario</td>\n      <td>arthur iii</td>\n      <td>2004</td>\n      <td>3</td>\n      <td>24</td>\n      <td>2019</td>\n      <td>Slidell PD</td>\n      <td>275f97ca9b93dd81741a05d40836accb</td>\n    </tr>\n    <tr>\n      <th>1</th>\n      <td>police officer 1st class</td>\n      <td>12/09/2010</td>\n      <td>17.62</td>\n      <td>hourly</td>\n      <td>criminal investigations</td>\n      <td>221</td>\n      <td>no longer with spd</td>\n      <td>mario</td>\n      <td>arthur iii</td>\n      <td>2004</td>\n      <td>3</td>\n      <td>24</td>\n      <td>2019</td>\n      <td>Slidell PD</td>\n      <td>275f97ca9b93dd81741a05d40836accb</td>\n    </tr>\n    <tr>\n      <th>2</th>\n      <td>police officer 1st class</td>\n      <td>01/02/2012</td>\n      <td>18.06</td>\n      <td>hourly</td>\n      <td>criminal investigations</td>\n      <td>221</td>\n      <td>no longer with spd</td>\n      <td>mario</td>\n      <td>arthur iii</td>\n      <td>2004</td>\n      <td>3</td>\n      <td>24</td>\n      <td>2019</td>\n      <td>Slidell PD</td>\n      <td>275f97ca9b93dd81741a05d40836accb</td>\n    </tr>\n    <tr>\n      <th>3</th>\n      <td>police officer 1st class</td>\n      <td>07/01/2014</td>\n      <td>19.23</td>\n      <td>hourly</td>\n      <td>criminal investigations</td>\n      <td>221</td>\n      <td>no longer with spd</td>\n      <td>mario</td>\n      <td>arthur iii</td>\n      <td>2004</td>\n      <td>3</td>\n      <td>24</td>\n      <td>2019</td>\n      <td>Slidell PD</td>\n      <td>275f97ca9b93dd81741a05d40836accb</td>\n    </tr>\n    <tr>\n      <th>4</th>\n      <td>police officer 1st class</td>\n      <td>07/01/2015</td>\n      <td>19.73</td>\n      <td>hourly</td>\n      <td>criminal investigations</td>\n      <td>221</td>\n      <td>no longer with spd</td>\n      <td>mario</td>\n      <td>arthur iii</td>\n      <td>2004</td>\n      <td>3</td>\n      <td>24</td>\n      <td>2019</td>\n      <td>Slidell PD</td>\n      <td>275f97ca9b93dd81741a05d40836accb</td>\n    </tr>\n    <tr>\n      <th>...</th>\n      <td>...</td>\n      <td>...</td>\n      <td>...</td>\n      <td>...</td>\n      <td>...</td>\n      <td>...</td>\n      <td>...</td>\n      <td>...</td>\n      <td>...</td>\n      <td>...</td>\n      <td>...</td>\n      <td>...</td>\n      <td>...</td>\n      <td>...</td>\n      <td>...</td>\n    </tr>\n    <tr>\n      <th>875</th>\n      <td>police officer 1st class</td>\n      <td>07/01/2014</td>\n      <td>20.71</td>\n      <td>hourly</td>\n      <td>patrol division</td>\n      <td>720</td>\n      <td>still employed</td>\n      <td>thomas</td>\n      <td>williams</td>\n      <td>2018</td>\n      <td>11</td>\n      <td>5</td>\n      <td>2019</td>\n      <td>Slidell PD</td>\n      <td>5a24751a774422601e050f7acf48d744</td>\n    </tr>\n    <tr>\n      <th>876</th>\n      <td>police officer 1st class</td>\n      <td>07/01/2015</td>\n      <td>21.21</td>\n      <td>hourly</td>\n      <td>patrol division</td>\n      <td>720</td>\n      <td>still employed</td>\n      <td>thomas</td>\n      <td>williams</td>\n      <td>2018</td>\n      <td>11</td>\n      <td>5</td>\n      <td>2019</td>\n      <td>Slidell PD</td>\n      <td>5a24751a774422601e050f7acf48d744</td>\n    </tr>\n    <tr>\n      <th>877</th>\n      <td>temporary police officer</td>\n      <td>11/05/2018</td>\n      <td>18.00</td>\n      <td>hourly</td>\n      <td>patrol division</td>\n      <td>720</td>\n      <td>still employed</td>\n      <td>thomas</td>\n      <td>williams</td>\n      <td>2018</td>\n      <td>11</td>\n      <td>5</td>\n      <td>2019</td>\n      <td>Slidell PD</td>\n      <td>5a24751a774422601e050f7acf48d744</td>\n    </tr>\n    <tr>\n      <th>878</th>\n      <td>police officer 1st class-</td>\n      <td>01/01/2010</td>\n      <td>19.45</td>\n      <td>hourly</td>\n      <td>patrol division</td>\n      <td>152</td>\n      <td>retired</td>\n      <td>david</td>\n      <td>wortmann</td>\n      <td>2010</td>\n      <td>8</td>\n      <td>5</td>\n      <td>2019</td>\n      <td>Slidell PD</td>\n      <td>6fd3b227b3b99ddbf32edcd31f1ce9b6</td>\n    </tr>\n    <tr>\n      <th>879</th>\n      <td>temporary police officer</td>\n      <td>08/05/2010</td>\n      <td>19.45</td>\n      <td>hourly</td>\n      <td>patrol division</td>\n      <td>152</td>\n      <td>retired</td>\n      <td>david</td>\n      <td>wortmann</td>\n      <td>2010</td>\n      <td>8</td>\n      <td>5</td>\n      <td>2019</td>\n      <td>Slidell PD</td>\n      <td>6fd3b227b3b99ddbf32edcd31f1ce9b6</td>\n    </tr>\n  </tbody>\n</table>\n<p>880 rows × 15 columns</p>\n</div>"
     },
     "metadata": {},
     "execution_count": 4
    }
   ],
   "source": [
    "df19 = clean19()\n",
    "df19"
   ]
  },
  {
   "cell_type": "code",
   "execution_count": 19,
   "metadata": {},
   "outputs": [
    {
     "output_type": "execute_result",
     "data": {
      "text/plain": [
       "                     rank_desc salary_date  salary salary_freq  \\\n",
       "834  police officer 1st class-  01/01/2010   18.06      hourly   \n",
       "835  police officer 1st class-  01/02/2012   18.52      hourly   \n",
       "836  police officer 1st class-  07/01/2014   19.72      hourly   \n",
       "837  police officer 1st class-  07/01/2015   20.22      hourly   \n",
       "838  police officer 1st class-  01/25/2016   20.73      hourly   \n",
       "839  police officer 1st class-  07/01/2016   21.77      hourly   \n",
       "840  police officer 1st class-  06/12/2017   22.98      hourly   \n",
       "841  police officer 1st class-  07/01/2017   23.53      hourly   \n",
       "842  police officer 1st class-  07/02/2017   23.98      hourly   \n",
       "843  police officer 1st class-  07/01/2019   24.70      hourly   \n",
       "\n",
       "     department_desc badge_no employment_status first_name last_name  \\\n",
       "834  patrol division      151    still employed    devrone    vasser   \n",
       "835  patrol division      151    still employed    devrone    vasser   \n",
       "836  patrol division      151    still employed    devrone    vasser   \n",
       "837  patrol division      151    still employed    devrone    vasser   \n",
       "838  patrol division      151    still employed    devrone    vasser   \n",
       "839  patrol division      151    still employed    devrone    vasser   \n",
       "840  patrol division      151    still employed    devrone    vasser   \n",
       "841  patrol division      151    still employed    devrone    vasser   \n",
       "842  patrol division      151    still employed    devrone    vasser   \n",
       "843  patrol division      151    still employed    devrone    vasser   \n",
       "\n",
       "    hire_year hire_month hire_day  data_production_year      agency  \\\n",
       "834      1999          5       12                  2019  Slidell PD   \n",
       "835      1999          5       12                  2019  Slidell PD   \n",
       "836      1999          5       12                  2019  Slidell PD   \n",
       "837      1999          5       12                  2019  Slidell PD   \n",
       "838      1999          5       12                  2019  Slidell PD   \n",
       "839      1999          5       12                  2019  Slidell PD   \n",
       "840      1999          5       12                  2019  Slidell PD   \n",
       "841      1999          5       12                  2019  Slidell PD   \n",
       "842      1999          5       12                  2019  Slidell PD   \n",
       "843      1999          5       12                  2019  Slidell PD   \n",
       "\n",
       "                                  uid  \n",
       "834  4a25163732a5e6adaeb3c81781dbb3c4  \n",
       "835  4a25163732a5e6adaeb3c81781dbb3c4  \n",
       "836  4a25163732a5e6adaeb3c81781dbb3c4  \n",
       "837  4a25163732a5e6adaeb3c81781dbb3c4  \n",
       "838  4a25163732a5e6adaeb3c81781dbb3c4  \n",
       "839  4a25163732a5e6adaeb3c81781dbb3c4  \n",
       "840  4a25163732a5e6adaeb3c81781dbb3c4  \n",
       "841  4a25163732a5e6adaeb3c81781dbb3c4  \n",
       "842  4a25163732a5e6adaeb3c81781dbb3c4  \n",
       "843  4a25163732a5e6adaeb3c81781dbb3c4  "
      ],
      "text/html": "<div>\n<style scoped>\n    .dataframe tbody tr th:only-of-type {\n        vertical-align: middle;\n    }\n\n    .dataframe tbody tr th {\n        vertical-align: top;\n    }\n\n    .dataframe thead th {\n        text-align: right;\n    }\n</style>\n<table border=\"1\" class=\"dataframe\">\n  <thead>\n    <tr style=\"text-align: right;\">\n      <th></th>\n      <th>rank_desc</th>\n      <th>salary_date</th>\n      <th>salary</th>\n      <th>salary_freq</th>\n      <th>department_desc</th>\n      <th>badge_no</th>\n      <th>employment_status</th>\n      <th>first_name</th>\n      <th>last_name</th>\n      <th>hire_year</th>\n      <th>hire_month</th>\n      <th>hire_day</th>\n      <th>data_production_year</th>\n      <th>agency</th>\n      <th>uid</th>\n    </tr>\n  </thead>\n  <tbody>\n    <tr>\n      <th>834</th>\n      <td>police officer 1st class-</td>\n      <td>01/01/2010</td>\n      <td>18.06</td>\n      <td>hourly</td>\n      <td>patrol division</td>\n      <td>151</td>\n      <td>still employed</td>\n      <td>devrone</td>\n      <td>vasser</td>\n      <td>1999</td>\n      <td>5</td>\n      <td>12</td>\n      <td>2019</td>\n      <td>Slidell PD</td>\n      <td>4a25163732a5e6adaeb3c81781dbb3c4</td>\n    </tr>\n    <tr>\n      <th>835</th>\n      <td>police officer 1st class-</td>\n      <td>01/02/2012</td>\n      <td>18.52</td>\n      <td>hourly</td>\n      <td>patrol division</td>\n      <td>151</td>\n      <td>still employed</td>\n      <td>devrone</td>\n      <td>vasser</td>\n      <td>1999</td>\n      <td>5</td>\n      <td>12</td>\n      <td>2019</td>\n      <td>Slidell PD</td>\n      <td>4a25163732a5e6adaeb3c81781dbb3c4</td>\n    </tr>\n    <tr>\n      <th>836</th>\n      <td>police officer 1st class-</td>\n      <td>07/01/2014</td>\n      <td>19.72</td>\n      <td>hourly</td>\n      <td>patrol division</td>\n      <td>151</td>\n      <td>still employed</td>\n      <td>devrone</td>\n      <td>vasser</td>\n      <td>1999</td>\n      <td>5</td>\n      <td>12</td>\n      <td>2019</td>\n      <td>Slidell PD</td>\n      <td>4a25163732a5e6adaeb3c81781dbb3c4</td>\n    </tr>\n    <tr>\n      <th>837</th>\n      <td>police officer 1st class-</td>\n      <td>07/01/2015</td>\n      <td>20.22</td>\n      <td>hourly</td>\n      <td>patrol division</td>\n      <td>151</td>\n      <td>still employed</td>\n      <td>devrone</td>\n      <td>vasser</td>\n      <td>1999</td>\n      <td>5</td>\n      <td>12</td>\n      <td>2019</td>\n      <td>Slidell PD</td>\n      <td>4a25163732a5e6adaeb3c81781dbb3c4</td>\n    </tr>\n    <tr>\n      <th>838</th>\n      <td>police officer 1st class-</td>\n      <td>01/25/2016</td>\n      <td>20.73</td>\n      <td>hourly</td>\n      <td>patrol division</td>\n      <td>151</td>\n      <td>still employed</td>\n      <td>devrone</td>\n      <td>vasser</td>\n      <td>1999</td>\n      <td>5</td>\n      <td>12</td>\n      <td>2019</td>\n      <td>Slidell PD</td>\n      <td>4a25163732a5e6adaeb3c81781dbb3c4</td>\n    </tr>\n    <tr>\n      <th>839</th>\n      <td>police officer 1st class-</td>\n      <td>07/01/2016</td>\n      <td>21.77</td>\n      <td>hourly</td>\n      <td>patrol division</td>\n      <td>151</td>\n      <td>still employed</td>\n      <td>devrone</td>\n      <td>vasser</td>\n      <td>1999</td>\n      <td>5</td>\n      <td>12</td>\n      <td>2019</td>\n      <td>Slidell PD</td>\n      <td>4a25163732a5e6adaeb3c81781dbb3c4</td>\n    </tr>\n    <tr>\n      <th>840</th>\n      <td>police officer 1st class-</td>\n      <td>06/12/2017</td>\n      <td>22.98</td>\n      <td>hourly</td>\n      <td>patrol division</td>\n      <td>151</td>\n      <td>still employed</td>\n      <td>devrone</td>\n      <td>vasser</td>\n      <td>1999</td>\n      <td>5</td>\n      <td>12</td>\n      <td>2019</td>\n      <td>Slidell PD</td>\n      <td>4a25163732a5e6adaeb3c81781dbb3c4</td>\n    </tr>\n    <tr>\n      <th>841</th>\n      <td>police officer 1st class-</td>\n      <td>07/01/2017</td>\n      <td>23.53</td>\n      <td>hourly</td>\n      <td>patrol division</td>\n      <td>151</td>\n      <td>still employed</td>\n      <td>devrone</td>\n      <td>vasser</td>\n      <td>1999</td>\n      <td>5</td>\n      <td>12</td>\n      <td>2019</td>\n      <td>Slidell PD</td>\n      <td>4a25163732a5e6adaeb3c81781dbb3c4</td>\n    </tr>\n    <tr>\n      <th>842</th>\n      <td>police officer 1st class-</td>\n      <td>07/02/2017</td>\n      <td>23.98</td>\n      <td>hourly</td>\n      <td>patrol division</td>\n      <td>151</td>\n      <td>still employed</td>\n      <td>devrone</td>\n      <td>vasser</td>\n      <td>1999</td>\n      <td>5</td>\n      <td>12</td>\n      <td>2019</td>\n      <td>Slidell PD</td>\n      <td>4a25163732a5e6adaeb3c81781dbb3c4</td>\n    </tr>\n    <tr>\n      <th>843</th>\n      <td>police officer 1st class-</td>\n      <td>07/01/2019</td>\n      <td>24.70</td>\n      <td>hourly</td>\n      <td>patrol division</td>\n      <td>151</td>\n      <td>still employed</td>\n      <td>devrone</td>\n      <td>vasser</td>\n      <td>1999</td>\n      <td>5</td>\n      <td>12</td>\n      <td>2019</td>\n      <td>Slidell PD</td>\n      <td>4a25163732a5e6adaeb3c81781dbb3c4</td>\n    </tr>\n  </tbody>\n</table>\n</div>"
     },
     "metadata": {},
     "execution_count": 19
    }
   ],
   "source": [
    "df19[df19.uid == '4a25163732a5e6adaeb3c81781dbb3c4']"
   ]
  },
  {
   "cell_type": "code",
   "execution_count": null,
   "metadata": {},
   "outputs": [],
   "source": []
  }
 ]
}
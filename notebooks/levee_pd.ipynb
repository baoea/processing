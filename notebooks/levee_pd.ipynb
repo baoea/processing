{
 "metadata": {
  "language_info": {
   "codemirror_mode": {
    "name": "ipython",
    "version": 3
   },
   "file_extension": ".py",
   "mimetype": "text/x-python",
   "name": "python",
   "nbconvert_exporter": "python",
   "pygments_lexer": "ipython3",
   "version": "3.8.3"
  },
  "orig_nbformat": 2,
  "kernelspec": {
   "name": "python383jvsc74a57bd0759d03fc00c4e55187619d7bc1e0b6a3309d14c7c00d43a321634150e05678f8",
   "display_name": "Python 3.8.3 64-bit ('base': conda)"
  }
 },
 "nbformat": 4,
 "nbformat_minor": 2,
 "cells": [
  {
   "cell_type": "code",
   "execution_count": 1,
   "metadata": {},
   "outputs": [],
   "source": [
    "import sys; sys.path.append('../')\n",
    "import pandas as pd\n",
    "\n",
    "from clean.levee_pd import clean20"
   ]
  },
  {
   "cell_type": "code",
   "execution_count": 2,
   "metadata": {},
   "outputs": [
    {
     "output_type": "stream",
     "name": "stderr",
     "text": [
      "/Users/khoipham/opt/anaconda3/lib/python3.8/site-packages/pandas/core/indexing.py:1596: SettingWithCopyWarning: \nA value is trying to be set on a copy of a slice from a DataFrame.\nTry using .loc[row_indexer,col_indexer] = value instead\n\nSee the caveats in the documentation: https://pandas.pydata.org/pandas-docs/stable/user_guide/indexing.html#returning-a-view-versus-a-copy\n  self.obj[key] = value\n/Users/khoipham/opt/anaconda3/lib/python3.8/site-packages/pandas/core/indexing.py:1675: SettingWithCopyWarning: \nA value is trying to be set on a copy of a slice from a DataFrame.\nTry using .loc[row_indexer,col_indexer] = value instead\n\nSee the caveats in the documentation: https://pandas.pydata.org/pandas-docs/stable/user_guide/indexing.html#returning-a-view-versus-a-copy\n  self._setitem_single_column(ilocs[0], value, pi)\n"
     ]
    },
    {
     "output_type": "execute_result",
     "data": {
      "text/plain": [
       "   tracking_number employment_status  \\\n",
       "0       2020-0001          full time   \n",
       "1       2020-0002            reserve   \n",
       "2       2020-0003            reserve   \n",
       "3       2020-0004            reserve   \n",
       "4       2020-0005          full time   \n",
       "5       2020-0006          full time   \n",
       "6       2020-0007          full time   \n",
       "7       2020-0008          full time   \n",
       "8       2020-0009          full time   \n",
       "9       2020-0010          full time   \n",
       "10      2020-0011          full time   \n",
       "11      2020-0012          full time   \n",
       "12      2020-0013          full time   \n",
       "\n",
       "                                       rule_violation investigator  \\\n",
       "0   Section 1.06 B Courtesy, 1.08 D Neglect of Dut...        None    \n",
       "1                                 Detail Prociedures       Juneau    \n",
       "2                                                 NaN   Schindler    \n",
       "3                           1.061.A Adherence of Law           NaN   \n",
       "4                                                 NaN      Juneau    \n",
       "5                                           Courtesy       Juneau    \n",
       "6                                                 NaN    Bieniemy    \n",
       "7   1.061.A Adherence of Law, 1.080 Devoting entir...   Schindler    \n",
       "8                                                 NaN      Juneau    \n",
       "9                                                 NaN      Juneau    \n",
       "10                                                NaN      Juneau    \n",
       "11                                                NaN      Juneau    \n",
       "12                                                NaN      Juneau    \n",
       "\n",
       "   shift_supervisor complainant_type occur_date receive_date  \\\n",
       "0   Capt. Brenckle         Internal   1/27/2020    1/27/2020   \n",
       "1         Pinkston         External    2/8/2020     2/8/2020   \n",
       "2              N/A         External   2/19/2020    3/23/2020   \n",
       "3               NaN        Internal    5/2/2020     5/2/2020   \n",
       "4               NaN        External         NaN          NaN   \n",
       "5           Harvin         External   6/14/2020    6/17/2020   \n",
       "6               NaN        External         NaN          NaN   \n",
       "7               NaN        External    6/7/2020    8/10/2020   \n",
       "8        Schindler         External   7/31/2020    7/31/2020   \n",
       "9               NaN        External   7/19/2020    7/20/2020   \n",
       "10        Pinkston         External   8/20/2020    8/21/2020   \n",
       "11          Durnin         External         NaN    10/4/2020   \n",
       "12        Pinkston         External   8/16/2020    8/18/2020   \n",
       "\n",
       "   investigation_start_date investigation_complete_date disposition  \\\n",
       "0                 1/27/2020                   3/10/2020   sustained   \n",
       "1                 2/10/2020                   2/17/2020   sustained   \n",
       "2                  5/4/2020                   5/14/2020               \n",
       "3                       NaN                         NaN               \n",
       "4                       NaN                         NaN               \n",
       "5                 6/17/2020                   6/17/2020   sustained   \n",
       "6                       NaN                         NaN               \n",
       "7                 8/10/2020                   8/14/2020   sustained   \n",
       "8                 7/31/2020                   7/31/2020               \n",
       "9                 7/20/2020                         NaN               \n",
       "10                9/22/2020                   10/6/2020   suspended   \n",
       "11                10/4/2020                   10/4/2020               \n",
       "12                      NaN                         NaN               \n",
       "\n",
       "                                         action                   agency  \\\n",
       "0                              2 day suspension         Orleans Levee PD   \n",
       "1                      1 week detail suspension  East Jefferson Levee PD   \n",
       "2                                           n/a         Orleans Levee PD   \n",
       "3                                                       Orleans Levee PD   \n",
       "4                                                East Jefferson Levee PD   \n",
       "5                              verbal reprimand  East Jefferson Levee PD   \n",
       "6                                           n/a         Orleans Levee PD   \n",
       "7                     separated from employment         Orleans Levee PD   \n",
       "8                                                East Jefferson Levee PD   \n",
       "9                                                East Jefferson Levee PD   \n",
       "10  due to lack of cooperation from complainant  East Jefferson Levee PD   \n",
       "11                                          n/a  East Jefferson Levee PD   \n",
       "12                                               East Jefferson Levee PD   \n",
       "\n",
       "    data_production_year first_name  last_name  \\\n",
       "0                   2020   thaddeus      petit   \n",
       "1                   2020    michael    leblanc   \n",
       "2                   2020                         \n",
       "3                   2020       mark      green   \n",
       "4                   2020                         \n",
       "5                   2020    michael  rosenbohm   \n",
       "6                   2020                         \n",
       "7                   2020       troy    johnson   \n",
       "8                   2020                         \n",
       "9                   2020                         \n",
       "10                  2020                         \n",
       "11                  2020                         \n",
       "12                  2020                         \n",
       "\n",
       "                                 uid                     complaint_uid  \n",
       "0   dd7a82c207bdfd0e5e63b846ad0de60a  d3823ce06e871512354a778a7c320849  \n",
       "1   85e7c81c7617e3310cbaf63659e193de  bd5725eac5afe4edc5aeb80c835f43c7  \n",
       "2                                NaN  6c29a2529c559e61355221003be8c220  \n",
       "3   9a9d88a18e2e0684dbcc5558dc2614a3  84d0346e00eab367474e54aae1e2b3fa  \n",
       "4                                NaN  ff2edc72484fcc31f653bcfda1fc6f42  \n",
       "5   8c89fe9da248c46f15803cabe20d4d5d  2de8886ca766101c8596364a4c3bf99a  \n",
       "6                                NaN  b5e8d497909a6f5bd23a6ffb1909bf0f  \n",
       "7   fca07e5399fccbdeee66dbd5c6e16f95  36889dfe9544392b3d5959bbba371a6d  \n",
       "8                                NaN  9932207052411d6a80b81d31cff12f88  \n",
       "9                                NaN  bb09f8fd696e56f171eb631e901d2ac8  \n",
       "10                               NaN  0ddad14f5735ca45eb1e09e2730110be  \n",
       "11                               NaN  0ddf35640ec03c5fd11fbb043674549b  \n",
       "12                               NaN  03fe2335874f08ee95d81c819fd4e58a  "
      ],
      "text/html": "<div>\n<style scoped>\n    .dataframe tbody tr th:only-of-type {\n        vertical-align: middle;\n    }\n\n    .dataframe tbody tr th {\n        vertical-align: top;\n    }\n\n    .dataframe thead th {\n        text-align: right;\n    }\n</style>\n<table border=\"1\" class=\"dataframe\">\n  <thead>\n    <tr style=\"text-align: right;\">\n      <th></th>\n      <th>tracking_number</th>\n      <th>employment_status</th>\n      <th>rule_violation</th>\n      <th>investigator</th>\n      <th>shift_supervisor</th>\n      <th>complainant_type</th>\n      <th>occur_date</th>\n      <th>receive_date</th>\n      <th>investigation_start_date</th>\n      <th>investigation_complete_date</th>\n      <th>disposition</th>\n      <th>action</th>\n      <th>agency</th>\n      <th>data_production_year</th>\n      <th>first_name</th>\n      <th>last_name</th>\n      <th>uid</th>\n      <th>complaint_uid</th>\n    </tr>\n  </thead>\n  <tbody>\n    <tr>\n      <th>0</th>\n      <td>2020-0001</td>\n      <td>full time</td>\n      <td>Section 1.06 B Courtesy, 1.08 D Neglect of Dut...</td>\n      <td>None</td>\n      <td>Capt. Brenckle</td>\n      <td>Internal</td>\n      <td>1/27/2020</td>\n      <td>1/27/2020</td>\n      <td>1/27/2020</td>\n      <td>3/10/2020</td>\n      <td>sustained</td>\n      <td>2 day suspension</td>\n      <td>Orleans Levee PD</td>\n      <td>2020</td>\n      <td>thaddeus</td>\n      <td>petit</td>\n      <td>dd7a82c207bdfd0e5e63b846ad0de60a</td>\n      <td>d3823ce06e871512354a778a7c320849</td>\n    </tr>\n    <tr>\n      <th>1</th>\n      <td>2020-0002</td>\n      <td>reserve</td>\n      <td>Detail Prociedures</td>\n      <td>Juneau</td>\n      <td>Pinkston</td>\n      <td>External</td>\n      <td>2/8/2020</td>\n      <td>2/8/2020</td>\n      <td>2/10/2020</td>\n      <td>2/17/2020</td>\n      <td>sustained</td>\n      <td>1 week detail suspension</td>\n      <td>East Jefferson Levee PD</td>\n      <td>2020</td>\n      <td>michael</td>\n      <td>leblanc</td>\n      <td>85e7c81c7617e3310cbaf63659e193de</td>\n      <td>bd5725eac5afe4edc5aeb80c835f43c7</td>\n    </tr>\n    <tr>\n      <th>2</th>\n      <td>2020-0003</td>\n      <td>reserve</td>\n      <td>NaN</td>\n      <td>Schindler</td>\n      <td>N/A</td>\n      <td>External</td>\n      <td>2/19/2020</td>\n      <td>3/23/2020</td>\n      <td>5/4/2020</td>\n      <td>5/14/2020</td>\n      <td></td>\n      <td>n/a</td>\n      <td>Orleans Levee PD</td>\n      <td>2020</td>\n      <td></td>\n      <td></td>\n      <td>NaN</td>\n      <td>6c29a2529c559e61355221003be8c220</td>\n    </tr>\n    <tr>\n      <th>3</th>\n      <td>2020-0004</td>\n      <td>reserve</td>\n      <td>1.061.A Adherence of Law</td>\n      <td>NaN</td>\n      <td>NaN</td>\n      <td>Internal</td>\n      <td>5/2/2020</td>\n      <td>5/2/2020</td>\n      <td>NaN</td>\n      <td>NaN</td>\n      <td></td>\n      <td></td>\n      <td>Orleans Levee PD</td>\n      <td>2020</td>\n      <td>mark</td>\n      <td>green</td>\n      <td>9a9d88a18e2e0684dbcc5558dc2614a3</td>\n      <td>84d0346e00eab367474e54aae1e2b3fa</td>\n    </tr>\n    <tr>\n      <th>4</th>\n      <td>2020-0005</td>\n      <td>full time</td>\n      <td>NaN</td>\n      <td>Juneau</td>\n      <td>NaN</td>\n      <td>External</td>\n      <td>NaN</td>\n      <td>NaN</td>\n      <td>NaN</td>\n      <td>NaN</td>\n      <td></td>\n      <td></td>\n      <td>East Jefferson Levee PD</td>\n      <td>2020</td>\n      <td></td>\n      <td></td>\n      <td>NaN</td>\n      <td>ff2edc72484fcc31f653bcfda1fc6f42</td>\n    </tr>\n    <tr>\n      <th>5</th>\n      <td>2020-0006</td>\n      <td>full time</td>\n      <td>Courtesy</td>\n      <td>Juneau</td>\n      <td>Harvin</td>\n      <td>External</td>\n      <td>6/14/2020</td>\n      <td>6/17/2020</td>\n      <td>6/17/2020</td>\n      <td>6/17/2020</td>\n      <td>sustained</td>\n      <td>verbal reprimand</td>\n      <td>East Jefferson Levee PD</td>\n      <td>2020</td>\n      <td>michael</td>\n      <td>rosenbohm</td>\n      <td>8c89fe9da248c46f15803cabe20d4d5d</td>\n      <td>2de8886ca766101c8596364a4c3bf99a</td>\n    </tr>\n    <tr>\n      <th>6</th>\n      <td>2020-0007</td>\n      <td>full time</td>\n      <td>NaN</td>\n      <td>Bieniemy</td>\n      <td>NaN</td>\n      <td>External</td>\n      <td>NaN</td>\n      <td>NaN</td>\n      <td>NaN</td>\n      <td>NaN</td>\n      <td></td>\n      <td>n/a</td>\n      <td>Orleans Levee PD</td>\n      <td>2020</td>\n      <td></td>\n      <td></td>\n      <td>NaN</td>\n      <td>b5e8d497909a6f5bd23a6ffb1909bf0f</td>\n    </tr>\n    <tr>\n      <th>7</th>\n      <td>2020-0008</td>\n      <td>full time</td>\n      <td>1.061.A Adherence of Law, 1.080 Devoting entir...</td>\n      <td>Schindler</td>\n      <td>NaN</td>\n      <td>External</td>\n      <td>6/7/2020</td>\n      <td>8/10/2020</td>\n      <td>8/10/2020</td>\n      <td>8/14/2020</td>\n      <td>sustained</td>\n      <td>separated from employment</td>\n      <td>Orleans Levee PD</td>\n      <td>2020</td>\n      <td>troy</td>\n      <td>johnson</td>\n      <td>fca07e5399fccbdeee66dbd5c6e16f95</td>\n      <td>36889dfe9544392b3d5959bbba371a6d</td>\n    </tr>\n    <tr>\n      <th>8</th>\n      <td>2020-0009</td>\n      <td>full time</td>\n      <td>NaN</td>\n      <td>Juneau</td>\n      <td>Schindler</td>\n      <td>External</td>\n      <td>7/31/2020</td>\n      <td>7/31/2020</td>\n      <td>7/31/2020</td>\n      <td>7/31/2020</td>\n      <td></td>\n      <td></td>\n      <td>East Jefferson Levee PD</td>\n      <td>2020</td>\n      <td></td>\n      <td></td>\n      <td>NaN</td>\n      <td>9932207052411d6a80b81d31cff12f88</td>\n    </tr>\n    <tr>\n      <th>9</th>\n      <td>2020-0010</td>\n      <td>full time</td>\n      <td>NaN</td>\n      <td>Juneau</td>\n      <td>NaN</td>\n      <td>External</td>\n      <td>7/19/2020</td>\n      <td>7/20/2020</td>\n      <td>7/20/2020</td>\n      <td>NaN</td>\n      <td></td>\n      <td></td>\n      <td>East Jefferson Levee PD</td>\n      <td>2020</td>\n      <td></td>\n      <td></td>\n      <td>NaN</td>\n      <td>bb09f8fd696e56f171eb631e901d2ac8</td>\n    </tr>\n    <tr>\n      <th>10</th>\n      <td>2020-0011</td>\n      <td>full time</td>\n      <td>NaN</td>\n      <td>Juneau</td>\n      <td>Pinkston</td>\n      <td>External</td>\n      <td>8/20/2020</td>\n      <td>8/21/2020</td>\n      <td>9/22/2020</td>\n      <td>10/6/2020</td>\n      <td>suspended</td>\n      <td>due to lack of cooperation from complainant</td>\n      <td>East Jefferson Levee PD</td>\n      <td>2020</td>\n      <td></td>\n      <td></td>\n      <td>NaN</td>\n      <td>0ddad14f5735ca45eb1e09e2730110be</td>\n    </tr>\n    <tr>\n      <th>11</th>\n      <td>2020-0012</td>\n      <td>full time</td>\n      <td>NaN</td>\n      <td>Juneau</td>\n      <td>Durnin</td>\n      <td>External</td>\n      <td>NaN</td>\n      <td>10/4/2020</td>\n      <td>10/4/2020</td>\n      <td>10/4/2020</td>\n      <td></td>\n      <td>n/a</td>\n      <td>East Jefferson Levee PD</td>\n      <td>2020</td>\n      <td></td>\n      <td></td>\n      <td>NaN</td>\n      <td>0ddf35640ec03c5fd11fbb043674549b</td>\n    </tr>\n    <tr>\n      <th>12</th>\n      <td>2020-0013</td>\n      <td>full time</td>\n      <td>NaN</td>\n      <td>Juneau</td>\n      <td>Pinkston</td>\n      <td>External</td>\n      <td>8/16/2020</td>\n      <td>8/18/2020</td>\n      <td>NaN</td>\n      <td>NaN</td>\n      <td></td>\n      <td></td>\n      <td>East Jefferson Levee PD</td>\n      <td>2020</td>\n      <td></td>\n      <td></td>\n      <td>NaN</td>\n      <td>03fe2335874f08ee95d81c819fd4e58a</td>\n    </tr>\n  </tbody>\n</table>\n</div>"
     },
     "metadata": {},
     "execution_count": 2
    }
   ],
   "source": [
    "cprr20 = clean20()\n",
    "cprr20"
   ]
  },
  {
   "cell_type": "code",
   "execution_count": 4,
   "metadata": {},
   "outputs": [
    {
     "output_type": "execute_result",
     "data": {
      "text/plain": [
       "                   agency  last_name first_name employment_status  \\\n",
       "0      14th jdc da office    abshire     dustin         full-time   \n",
       "1          17th da office      ourso     damian         full-time   \n",
       "2          17th da office     besson      bruce         full-time   \n",
       "3          17th da office      bourg      billy         full-time   \n",
       "4          19th da office  cadarette      steve         full-time   \n",
       "...                   ...        ...        ...               ...   \n",
       "38898      youngsville pd      fruge     hilary           reserve   \n",
       "38899      youngsville pd     mouton       todd           reserve   \n",
       "38900      youngsville pd    hidalgo     jeremy           reserve   \n",
       "38901          zachary pd  viccellio      david           reserve   \n",
       "38902          zachary pd     maurer       john           reserve   \n",
       "\n",
       "      level_1_cert_date last_pc_12_qualification_date  data_production_year  \\\n",
       "0            1998-06-11                    2010-10-27                  2020   \n",
       "1            2004-05-13                    2010-10-07                  2020   \n",
       "2                   NaN                    2008-01-26                  2020   \n",
       "3            1991-04-24                    2010-10-07                  2020   \n",
       "4            2003-08-28                    2020-04-28                  2020   \n",
       "...                 ...                           ...                   ...   \n",
       "38898        2010-11-18                    2020-06-22                  2020   \n",
       "38899               NaN                    2020-06-15                  2020   \n",
       "38900               NaN                    2020-07-31                  2020   \n",
       "38901               NaN                    2019-12-04                  2020   \n",
       "38902               NaN                    2019-09-07                  2020   \n",
       "\n",
       "       hire_year  hire_month  hire_day                               uid  \n",
       "0         2013.0         6.0       1.0  43ee7cb8a15ca49e883372d3c99988e1  \n",
       "1         2008.0        11.0      11.0  8875f7c0749a1de0923c1242a4363622  \n",
       "2         1997.0         2.0      11.0  2c35336b17f9986c7547656bb72508fe  \n",
       "3         1990.0        10.0      12.0  e17ebe5f0a893d9cb6aac11bf9673c32  \n",
       "4         2016.0         4.0      11.0  84a22650eb29e5d7d17721d59c3a2fc6  \n",
       "...          ...         ...       ...                               ...  \n",
       "38898     2017.0        11.0      27.0  2e785e632588b75ebe30c3651f80837c  \n",
       "38899     2017.0         7.0       1.0  e2642ae3d8360270ac3b4cfd5d8c5ea4  \n",
       "38900     2017.0        12.0       1.0  a5ca9eebadff5a86ea4e7dd507ba1f73  \n",
       "38901     2019.0        12.0       3.0  3c6043ea0d02ebbab16968c88c9107f0  \n",
       "38902     2017.0         5.0      25.0  095a275299489ede7eaa839daef8b6fe  \n",
       "\n",
       "[38903 rows x 11 columns]"
      ],
      "text/html": "<div>\n<style scoped>\n    .dataframe tbody tr th:only-of-type {\n        vertical-align: middle;\n    }\n\n    .dataframe tbody tr th {\n        vertical-align: top;\n    }\n\n    .dataframe thead th {\n        text-align: right;\n    }\n</style>\n<table border=\"1\" class=\"dataframe\">\n  <thead>\n    <tr style=\"text-align: right;\">\n      <th></th>\n      <th>agency</th>\n      <th>last_name</th>\n      <th>first_name</th>\n      <th>employment_status</th>\n      <th>level_1_cert_date</th>\n      <th>last_pc_12_qualification_date</th>\n      <th>data_production_year</th>\n      <th>hire_year</th>\n      <th>hire_month</th>\n      <th>hire_day</th>\n      <th>uid</th>\n    </tr>\n  </thead>\n  <tbody>\n    <tr>\n      <th>0</th>\n      <td>14th jdc da office</td>\n      <td>abshire</td>\n      <td>dustin</td>\n      <td>full-time</td>\n      <td>1998-06-11</td>\n      <td>2010-10-27</td>\n      <td>2020</td>\n      <td>2013.0</td>\n      <td>6.0</td>\n      <td>1.0</td>\n      <td>43ee7cb8a15ca49e883372d3c99988e1</td>\n    </tr>\n    <tr>\n      <th>1</th>\n      <td>17th da office</td>\n      <td>ourso</td>\n      <td>damian</td>\n      <td>full-time</td>\n      <td>2004-05-13</td>\n      <td>2010-10-07</td>\n      <td>2020</td>\n      <td>2008.0</td>\n      <td>11.0</td>\n      <td>11.0</td>\n      <td>8875f7c0749a1de0923c1242a4363622</td>\n    </tr>\n    <tr>\n      <th>2</th>\n      <td>17th da office</td>\n      <td>besson</td>\n      <td>bruce</td>\n      <td>full-time</td>\n      <td>NaN</td>\n      <td>2008-01-26</td>\n      <td>2020</td>\n      <td>1997.0</td>\n      <td>2.0</td>\n      <td>11.0</td>\n      <td>2c35336b17f9986c7547656bb72508fe</td>\n    </tr>\n    <tr>\n      <th>3</th>\n      <td>17th da office</td>\n      <td>bourg</td>\n      <td>billy</td>\n      <td>full-time</td>\n      <td>1991-04-24</td>\n      <td>2010-10-07</td>\n      <td>2020</td>\n      <td>1990.0</td>\n      <td>10.0</td>\n      <td>12.0</td>\n      <td>e17ebe5f0a893d9cb6aac11bf9673c32</td>\n    </tr>\n    <tr>\n      <th>4</th>\n      <td>19th da office</td>\n      <td>cadarette</td>\n      <td>steve</td>\n      <td>full-time</td>\n      <td>2003-08-28</td>\n      <td>2020-04-28</td>\n      <td>2020</td>\n      <td>2016.0</td>\n      <td>4.0</td>\n      <td>11.0</td>\n      <td>84a22650eb29e5d7d17721d59c3a2fc6</td>\n    </tr>\n    <tr>\n      <th>...</th>\n      <td>...</td>\n      <td>...</td>\n      <td>...</td>\n      <td>...</td>\n      <td>...</td>\n      <td>...</td>\n      <td>...</td>\n      <td>...</td>\n      <td>...</td>\n      <td>...</td>\n      <td>...</td>\n    </tr>\n    <tr>\n      <th>38898</th>\n      <td>youngsville pd</td>\n      <td>fruge</td>\n      <td>hilary</td>\n      <td>reserve</td>\n      <td>2010-11-18</td>\n      <td>2020-06-22</td>\n      <td>2020</td>\n      <td>2017.0</td>\n      <td>11.0</td>\n      <td>27.0</td>\n      <td>2e785e632588b75ebe30c3651f80837c</td>\n    </tr>\n    <tr>\n      <th>38899</th>\n      <td>youngsville pd</td>\n      <td>mouton</td>\n      <td>todd</td>\n      <td>reserve</td>\n      <td>NaN</td>\n      <td>2020-06-15</td>\n      <td>2020</td>\n      <td>2017.0</td>\n      <td>7.0</td>\n      <td>1.0</td>\n      <td>e2642ae3d8360270ac3b4cfd5d8c5ea4</td>\n    </tr>\n    <tr>\n      <th>38900</th>\n      <td>youngsville pd</td>\n      <td>hidalgo</td>\n      <td>jeremy</td>\n      <td>reserve</td>\n      <td>NaN</td>\n      <td>2020-07-31</td>\n      <td>2020</td>\n      <td>2017.0</td>\n      <td>12.0</td>\n      <td>1.0</td>\n      <td>a5ca9eebadff5a86ea4e7dd507ba1f73</td>\n    </tr>\n    <tr>\n      <th>38901</th>\n      <td>zachary pd</td>\n      <td>viccellio</td>\n      <td>david</td>\n      <td>reserve</td>\n      <td>NaN</td>\n      <td>2019-12-04</td>\n      <td>2020</td>\n      <td>2019.0</td>\n      <td>12.0</td>\n      <td>3.0</td>\n      <td>3c6043ea0d02ebbab16968c88c9107f0</td>\n    </tr>\n    <tr>\n      <th>38902</th>\n      <td>zachary pd</td>\n      <td>maurer</td>\n      <td>john</td>\n      <td>reserve</td>\n      <td>NaN</td>\n      <td>2019-09-07</td>\n      <td>2020</td>\n      <td>2017.0</td>\n      <td>5.0</td>\n      <td>25.0</td>\n      <td>095a275299489ede7eaa839daef8b6fe</td>\n    </tr>\n  </tbody>\n</table>\n<p>38903 rows × 11 columns</p>\n</div>"
     },
     "metadata": {},
     "execution_count": 4
    }
   ],
   "source": [
    "post = pd.read_csv('../data/clean/pprr_post_2020_11_06.csv')\n",
    "post"
   ]
  },
  {
   "cell_type": "code",
   "execution_count": null,
   "metadata": {},
   "outputs": [],
   "source": []
  }
 ]
}
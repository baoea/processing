{
 "metadata": {
  "language_info": {
   "codemirror_mode": {
    "name": "ipython",
    "version": 3
   },
   "file_extension": ".py",
   "mimetype": "text/x-python",
   "name": "python",
   "nbconvert_exporter": "python",
   "pygments_lexer": "ipython3",
   "version": "3.9.2"
  },
  "orig_nbformat": 2,
  "kernelspec": {
   "name": "python3",
   "display_name": "Python 3.9.2 64-bit ('base': virtualenvwrapper)"
  },
  "interpreter": {
   "hash": "55d6dfa6f6295e03bf132df3e61c1565ff1c22b645ef82a5638b280b97b3597b"
  }
 },
 "nbformat": 4,
 "nbformat_minor": 2,
 "cells": [
  {
   "cell_type": "code",
   "execution_count": 1,
   "metadata": {},
   "outputs": [],
   "source": [
    "import sys; sys.path.append('../')\n",
    "import pandas as pd\n",
    "\n",
    "from clean.levee_pd import clean20, clean19"
   ]
  },
  {
   "cell_type": "code",
   "execution_count": 2,
   "metadata": {},
   "outputs": [
    {
     "output_type": "stream",
     "name": "stderr",
     "text": [
      "/Users/khoipham/.virtualenvs/base/lib/python3.9/site-packages/pandas/core/indexing.py:1597: SettingWithCopyWarning: \nA value is trying to be set on a copy of a slice from a DataFrame.\nTry using .loc[row_indexer,col_indexer] = value instead\n\nSee the caveats in the documentation: https://pandas.pydata.org/pandas-docs/stable/user_guide/indexing.html#returning-a-view-versus-a-copy\n  self.obj[key] = value\n/Users/khoipham/.virtualenvs/base/lib/python3.9/site-packages/pandas/core/indexing.py:1676: SettingWithCopyWarning: \nA value is trying to be set on a copy of a slice from a DataFrame.\nTry using .loc[row_indexer,col_indexer] = value instead\n\nSee the caveats in the documentation: https://pandas.pydata.org/pandas-docs/stable/user_guide/indexing.html#returning-a-view-versus-a-copy\n  self._setitem_single_column(ilocs[0], value, pi)\n"
     ]
    },
    {
     "output_type": "execute_result",
     "data": {
      "text/plain": [
       "   tracking_number employment_status  \\\n",
       "0       2020-0001          full time   \n",
       "1       2020-0002            reserve   \n",
       "2       2020-0003            reserve   \n",
       "3       2020-0004            reserve   \n",
       "4       2020-0005          full time   \n",
       "5       2020-0006          full time   \n",
       "6       2020-0007          full time   \n",
       "7       2020-0008          full time   \n",
       "8       2020-0009          full time   \n",
       "9       2020-0010          full time   \n",
       "10      2020-0011          full time   \n",
       "11      2020-0012          full time   \n",
       "12      2020-0013          full time   \n",
       "\n",
       "                                           allegation investigator  \\\n",
       "0   Section 1.06 B Courtesy, 1.08 D Neglect of Dut...        None    \n",
       "1                                 Detail Prociedures       Juneau    \n",
       "2                                                 NaN   Schindler    \n",
       "3                           1.061.A Adherence of Law           NaN   \n",
       "4                                                 NaN      Juneau    \n",
       "5                                           Courtesy       Juneau    \n",
       "6                                                 NaN    Bieniemy    \n",
       "7   1.061.A Adherence of Law, 1.080 Devoting entir...   Schindler    \n",
       "8                                                 NaN      Juneau    \n",
       "9                                                 NaN      Juneau    \n",
       "10                                                NaN      Juneau    \n",
       "11                                                NaN      Juneau    \n",
       "12                                                NaN      Juneau    \n",
       "\n",
       "   shift_supervisor complainant_type occur_date receive_date  \\\n",
       "0    Capt. Brenckle         internal    1/27/20      1/27/20   \n",
       "1          Pinkston         external     2/8/20       2/8/20   \n",
       "2                           external    2/19/20      3/23/20   \n",
       "3               NaN         internal     5/2/20       5/2/20   \n",
       "4               NaN         external        NaN          NaN   \n",
       "5            Harvin         external    6/14/20      6/17/20   \n",
       "6               NaN         external        NaN          NaN   \n",
       "7               NaN         external     6/7/20      8/10/20   \n",
       "8         Schindler         external    7/31/20      7/31/20   \n",
       "9               NaN         external    7/19/20      7/20/20   \n",
       "10         Pinkston         external    8/20/20      8/21/20   \n",
       "11           Durnin         external        NaN      10/4/20   \n",
       "12         Pinkston         external    8/16/20      8/18/20   \n",
       "\n",
       "   investigation_start_date investigation_complete_date disposition  \\\n",
       "0                   1/27/20                     3/10/20   sustained   \n",
       "1                   2/10/20                     2/17/20   sustained   \n",
       "2                    5/4/20                     5/14/20               \n",
       "3                       NaN                         NaN               \n",
       "4                       NaN                         NaN               \n",
       "5                   6/17/20                     6/17/20   sustained   \n",
       "6                       NaN                         NaN               \n",
       "7                   8/10/20                     8/14/20   sustained   \n",
       "8                   7/31/20                     7/31/20               \n",
       "9                   7/20/20                         NaN               \n",
       "10                  9/22/20                     10/6/20   suspended   \n",
       "11                  10/4/20                     10/4/20               \n",
       "12                      NaN                         NaN               \n",
       "\n",
       "                                         action                   agency  \\\n",
       "0                              2 day suspension         Orleans Levee PD   \n",
       "1                      1 week detail suspension  East Jefferson Levee PD   \n",
       "2                                                       Orleans Levee PD   \n",
       "3                                                       Orleans Levee PD   \n",
       "4                                                East Jefferson Levee PD   \n",
       "5                              verbal reprimand  East Jefferson Levee PD   \n",
       "6                                                       Orleans Levee PD   \n",
       "7                     separated from employment         Orleans Levee PD   \n",
       "8                                                East Jefferson Levee PD   \n",
       "9                                                East Jefferson Levee PD   \n",
       "10  due to lack of cooperation from complainant  East Jefferson Levee PD   \n",
       "11                                               East Jefferson Levee PD   \n",
       "12                                               East Jefferson Levee PD   \n",
       "\n",
       "    data_production_year first_name  last_name  \\\n",
       "0                   2020   thaddeus      petit   \n",
       "1                   2020    michael    leblanc   \n",
       "2                   2020                         \n",
       "3                   2020       mark      green   \n",
       "4                   2020                         \n",
       "5                   2020    michael  rosenbohm   \n",
       "6                   2020                         \n",
       "7                   2020       troy    johnson   \n",
       "8                   2020                         \n",
       "9                   2020                         \n",
       "10                  2020                         \n",
       "11                  2020                         \n",
       "12                  2020                         \n",
       "\n",
       "                                 uid                     complaint_uid  \n",
       "0   dd7a82c207bdfd0e5e63b846ad0de60a  d3823ce06e871512354a778a7c320849  \n",
       "1   85e7c81c7617e3310cbaf63659e193de  bd5725eac5afe4edc5aeb80c835f43c7  \n",
       "2                                NaN  6c29a2529c559e61355221003be8c220  \n",
       "3   9a9d88a18e2e0684dbcc5558dc2614a3  84d0346e00eab367474e54aae1e2b3fa  \n",
       "4                                NaN  ff2edc72484fcc31f653bcfda1fc6f42  \n",
       "5   8c89fe9da248c46f15803cabe20d4d5d  2de8886ca766101c8596364a4c3bf99a  \n",
       "6                                NaN  b5e8d497909a6f5bd23a6ffb1909bf0f  \n",
       "7   fca07e5399fccbdeee66dbd5c6e16f95  36889dfe9544392b3d5959bbba371a6d  \n",
       "8                                NaN  9932207052411d6a80b81d31cff12f88  \n",
       "9                                NaN  bb09f8fd696e56f171eb631e901d2ac8  \n",
       "10                               NaN  0ddad14f5735ca45eb1e09e2730110be  \n",
       "11                               NaN  0ddf35640ec03c5fd11fbb043674549b  \n",
       "12                               NaN  03fe2335874f08ee95d81c819fd4e58a  "
      ],
      "text/html": "<div>\n<style scoped>\n    .dataframe tbody tr th:only-of-type {\n        vertical-align: middle;\n    }\n\n    .dataframe tbody tr th {\n        vertical-align: top;\n    }\n\n    .dataframe thead th {\n        text-align: right;\n    }\n</style>\n<table border=\"1\" class=\"dataframe\">\n  <thead>\n    <tr style=\"text-align: right;\">\n      <th></th>\n      <th>tracking_number</th>\n      <th>employment_status</th>\n      <th>allegation</th>\n      <th>investigator</th>\n      <th>shift_supervisor</th>\n      <th>complainant_type</th>\n      <th>occur_date</th>\n      <th>receive_date</th>\n      <th>investigation_start_date</th>\n      <th>investigation_complete_date</th>\n      <th>disposition</th>\n      <th>action</th>\n      <th>agency</th>\n      <th>data_production_year</th>\n      <th>first_name</th>\n      <th>last_name</th>\n      <th>uid</th>\n      <th>complaint_uid</th>\n    </tr>\n  </thead>\n  <tbody>\n    <tr>\n      <th>0</th>\n      <td>2020-0001</td>\n      <td>full time</td>\n      <td>Section 1.06 B Courtesy, 1.08 D Neglect of Dut...</td>\n      <td>None</td>\n      <td>Capt. Brenckle</td>\n      <td>internal</td>\n      <td>1/27/20</td>\n      <td>1/27/20</td>\n      <td>1/27/20</td>\n      <td>3/10/20</td>\n      <td>sustained</td>\n      <td>2 day suspension</td>\n      <td>Orleans Levee PD</td>\n      <td>2020</td>\n      <td>thaddeus</td>\n      <td>petit</td>\n      <td>dd7a82c207bdfd0e5e63b846ad0de60a</td>\n      <td>d3823ce06e871512354a778a7c320849</td>\n    </tr>\n    <tr>\n      <th>1</th>\n      <td>2020-0002</td>\n      <td>reserve</td>\n      <td>Detail Prociedures</td>\n      <td>Juneau</td>\n      <td>Pinkston</td>\n      <td>external</td>\n      <td>2/8/20</td>\n      <td>2/8/20</td>\n      <td>2/10/20</td>\n      <td>2/17/20</td>\n      <td>sustained</td>\n      <td>1 week detail suspension</td>\n      <td>East Jefferson Levee PD</td>\n      <td>2020</td>\n      <td>michael</td>\n      <td>leblanc</td>\n      <td>85e7c81c7617e3310cbaf63659e193de</td>\n      <td>bd5725eac5afe4edc5aeb80c835f43c7</td>\n    </tr>\n    <tr>\n      <th>2</th>\n      <td>2020-0003</td>\n      <td>reserve</td>\n      <td>NaN</td>\n      <td>Schindler</td>\n      <td></td>\n      <td>external</td>\n      <td>2/19/20</td>\n      <td>3/23/20</td>\n      <td>5/4/20</td>\n      <td>5/14/20</td>\n      <td></td>\n      <td></td>\n      <td>Orleans Levee PD</td>\n      <td>2020</td>\n      <td></td>\n      <td></td>\n      <td>NaN</td>\n      <td>6c29a2529c559e61355221003be8c220</td>\n    </tr>\n    <tr>\n      <th>3</th>\n      <td>2020-0004</td>\n      <td>reserve</td>\n      <td>1.061.A Adherence of Law</td>\n      <td>NaN</td>\n      <td>NaN</td>\n      <td>internal</td>\n      <td>5/2/20</td>\n      <td>5/2/20</td>\n      <td>NaN</td>\n      <td>NaN</td>\n      <td></td>\n      <td></td>\n      <td>Orleans Levee PD</td>\n      <td>2020</td>\n      <td>mark</td>\n      <td>green</td>\n      <td>9a9d88a18e2e0684dbcc5558dc2614a3</td>\n      <td>84d0346e00eab367474e54aae1e2b3fa</td>\n    </tr>\n    <tr>\n      <th>4</th>\n      <td>2020-0005</td>\n      <td>full time</td>\n      <td>NaN</td>\n      <td>Juneau</td>\n      <td>NaN</td>\n      <td>external</td>\n      <td>NaN</td>\n      <td>NaN</td>\n      <td>NaN</td>\n      <td>NaN</td>\n      <td></td>\n      <td></td>\n      <td>East Jefferson Levee PD</td>\n      <td>2020</td>\n      <td></td>\n      <td></td>\n      <td>NaN</td>\n      <td>ff2edc72484fcc31f653bcfda1fc6f42</td>\n    </tr>\n    <tr>\n      <th>5</th>\n      <td>2020-0006</td>\n      <td>full time</td>\n      <td>Courtesy</td>\n      <td>Juneau</td>\n      <td>Harvin</td>\n      <td>external</td>\n      <td>6/14/20</td>\n      <td>6/17/20</td>\n      <td>6/17/20</td>\n      <td>6/17/20</td>\n      <td>sustained</td>\n      <td>verbal reprimand</td>\n      <td>East Jefferson Levee PD</td>\n      <td>2020</td>\n      <td>michael</td>\n      <td>rosenbohm</td>\n      <td>8c89fe9da248c46f15803cabe20d4d5d</td>\n      <td>2de8886ca766101c8596364a4c3bf99a</td>\n    </tr>\n    <tr>\n      <th>6</th>\n      <td>2020-0007</td>\n      <td>full time</td>\n      <td>NaN</td>\n      <td>Bieniemy</td>\n      <td>NaN</td>\n      <td>external</td>\n      <td>NaN</td>\n      <td>NaN</td>\n      <td>NaN</td>\n      <td>NaN</td>\n      <td></td>\n      <td></td>\n      <td>Orleans Levee PD</td>\n      <td>2020</td>\n      <td></td>\n      <td></td>\n      <td>NaN</td>\n      <td>b5e8d497909a6f5bd23a6ffb1909bf0f</td>\n    </tr>\n    <tr>\n      <th>7</th>\n      <td>2020-0008</td>\n      <td>full time</td>\n      <td>1.061.A Adherence of Law, 1.080 Devoting entir...</td>\n      <td>Schindler</td>\n      <td>NaN</td>\n      <td>external</td>\n      <td>6/7/20</td>\n      <td>8/10/20</td>\n      <td>8/10/20</td>\n      <td>8/14/20</td>\n      <td>sustained</td>\n      <td>separated from employment</td>\n      <td>Orleans Levee PD</td>\n      <td>2020</td>\n      <td>troy</td>\n      <td>johnson</td>\n      <td>fca07e5399fccbdeee66dbd5c6e16f95</td>\n      <td>36889dfe9544392b3d5959bbba371a6d</td>\n    </tr>\n    <tr>\n      <th>8</th>\n      <td>2020-0009</td>\n      <td>full time</td>\n      <td>NaN</td>\n      <td>Juneau</td>\n      <td>Schindler</td>\n      <td>external</td>\n      <td>7/31/20</td>\n      <td>7/31/20</td>\n      <td>7/31/20</td>\n      <td>7/31/20</td>\n      <td></td>\n      <td></td>\n      <td>East Jefferson Levee PD</td>\n      <td>2020</td>\n      <td></td>\n      <td></td>\n      <td>NaN</td>\n      <td>9932207052411d6a80b81d31cff12f88</td>\n    </tr>\n    <tr>\n      <th>9</th>\n      <td>2020-0010</td>\n      <td>full time</td>\n      <td>NaN</td>\n      <td>Juneau</td>\n      <td>NaN</td>\n      <td>external</td>\n      <td>7/19/20</td>\n      <td>7/20/20</td>\n      <td>7/20/20</td>\n      <td>NaN</td>\n      <td></td>\n      <td></td>\n      <td>East Jefferson Levee PD</td>\n      <td>2020</td>\n      <td></td>\n      <td></td>\n      <td>NaN</td>\n      <td>bb09f8fd696e56f171eb631e901d2ac8</td>\n    </tr>\n    <tr>\n      <th>10</th>\n      <td>2020-0011</td>\n      <td>full time</td>\n      <td>NaN</td>\n      <td>Juneau</td>\n      <td>Pinkston</td>\n      <td>external</td>\n      <td>8/20/20</td>\n      <td>8/21/20</td>\n      <td>9/22/20</td>\n      <td>10/6/20</td>\n      <td>suspended</td>\n      <td>due to lack of cooperation from complainant</td>\n      <td>East Jefferson Levee PD</td>\n      <td>2020</td>\n      <td></td>\n      <td></td>\n      <td>NaN</td>\n      <td>0ddad14f5735ca45eb1e09e2730110be</td>\n    </tr>\n    <tr>\n      <th>11</th>\n      <td>2020-0012</td>\n      <td>full time</td>\n      <td>NaN</td>\n      <td>Juneau</td>\n      <td>Durnin</td>\n      <td>external</td>\n      <td>NaN</td>\n      <td>10/4/20</td>\n      <td>10/4/20</td>\n      <td>10/4/20</td>\n      <td></td>\n      <td></td>\n      <td>East Jefferson Levee PD</td>\n      <td>2020</td>\n      <td></td>\n      <td></td>\n      <td>NaN</td>\n      <td>0ddf35640ec03c5fd11fbb043674549b</td>\n    </tr>\n    <tr>\n      <th>12</th>\n      <td>2020-0013</td>\n      <td>full time</td>\n      <td>NaN</td>\n      <td>Juneau</td>\n      <td>Pinkston</td>\n      <td>external</td>\n      <td>8/16/20</td>\n      <td>8/18/20</td>\n      <td>NaN</td>\n      <td>NaN</td>\n      <td></td>\n      <td></td>\n      <td>East Jefferson Levee PD</td>\n      <td>2020</td>\n      <td></td>\n      <td></td>\n      <td>NaN</td>\n      <td>03fe2335874f08ee95d81c819fd4e58a</td>\n    </tr>\n  </tbody>\n</table>\n</div>"
     },
     "metadata": {},
     "execution_count": 2
    }
   ],
   "source": [
    "cprr20 = clean20()\n",
    "cprr20"
   ]
  },
  {
   "cell_type": "code",
   "execution_count": 3,
   "metadata": {},
   "outputs": [
    {
     "output_type": "stream",
     "name": "stderr",
     "text": [
      "/Users/khoipham/.virtualenvs/base/lib/python3.9/site-packages/pandas/core/indexing.py:1597: SettingWithCopyWarning: \nA value is trying to be set on a copy of a slice from a DataFrame.\nTry using .loc[row_indexer,col_indexer] = value instead\n\nSee the caveats in the documentation: https://pandas.pydata.org/pandas-docs/stable/user_guide/indexing.html#returning-a-view-versus-a-copy\n  self.obj[key] = value\n/Users/khoipham/.virtualenvs/base/lib/python3.9/site-packages/pandas/core/indexing.py:1676: SettingWithCopyWarning: \nA value is trying to be set on a copy of a slice from a DataFrame.\nTry using .loc[row_indexer,col_indexer] = value instead\n\nSee the caveats in the documentation: https://pandas.pydata.org/pandas-docs/stable/user_guide/indexing.html#returning-a-view-versus-a-copy\n  self._setitem_single_column(ilocs[0], value, pi)\n"
     ]
    },
    {
     "output_type": "execute_result",
     "data": {
      "text/plain": [
       "   tracking_number employment_status               allegation  \\\n",
       "0       2019-0001          full time                      NaN   \n",
       "1       2019-0002            reserve                      NaN   \n",
       "2       2019-0003          full time                      NaN   \n",
       "3       2019-0004          full time   Proffessional Conduct    \n",
       "4       2019-0005                                         NaN   \n",
       "5       2019-0006            unknown                      NaN   \n",
       "6       2019-0007          full time                      NaN   \n",
       "7       2019-0008          full time                      NaN   \n",
       "8       2019-0009          full time                      NaN   \n",
       "9       2019-0010            reserve                      NaN   \n",
       "10      2019-0011                           Policy Violation    \n",
       "11      2019-0012          full time       Detail Infraction    \n",
       "12      2019-0013          full time       Detail Infraction    \n",
       "13      2019-0014            reserve                      NaN   \n",
       "14      2019-0015          full time  1.08D: Neglect of Duty    \n",
       "15      2019-0016            reserve                      NaN   \n",
       "16      2019-0017            reserve                      NaN   \n",
       "\n",
       "            complainant_name   investigator shift_supervisor complainant_type  \\\n",
       "0                Hesham Odeh      D.Juneau                           external   \n",
       "1                 Corey Bono     J. Holmes     A. Pellitteri         external   \n",
       "2               Jefrey David  M. Schindler                           external   \n",
       "3                 Jose Bueso     J. Holmes                           external   \n",
       "4              Adriana Zmora     J. Holmes                           external   \n",
       "5             Chris Martinez  M. Schindler        M. Moscona         external   \n",
       "6             Entinne Honore      J. Homes                           external   \n",
       "7              Gene Fontaine  M. Schindler                           external   \n",
       "8           Courtney Jimison  M. Schindler                           internal   \n",
       "9         Renard Bridgewater     J. Holmes                           external   \n",
       "10  Asst. Chief Keith Moody           Team                                      \n",
       "11            Chief Najolia      D. Juneau                           internal   \n",
       "12            Chief Najolia      D. Juneau                           internal   \n",
       "13                     NOPD      D. Juneau                           external   \n",
       "14    Captain Mike Brenckle    M. Brenckle                           internal   \n",
       "15        Sgt. Lacy Gerhold       D Juneau      Sgt. Gerhold         internal   \n",
       "16        Lt. Tryone Butler   M. Schindler                           internal   \n",
       "\n",
       "    occur_date receive_date investigation_start_date  \\\n",
       "0   10/21/2018    1/10/2019                1/15/2019   \n",
       "1                 1/11/2019                1/11/2019   \n",
       "2    1/11/2019    1/15/2019                1/15/2019   \n",
       "3   11/20/2018    1/16/2018                1/20/2018   \n",
       "4    1/18/2019    1/18/2019                1/18/2019   \n",
       "5    4/27/2019    4/29/2019                4/29/2019   \n",
       "6    4/12/2019    4/29/2019                 5/1/2019   \n",
       "7                 6/24/2019                6/24/2019   \n",
       "8                 6/28/2019                 7/1/2019   \n",
       "9    6/17/2019    7/10/2019                      NaN   \n",
       "10         NaN    8/15/2019                8/15/2017   \n",
       "11    9/5/2019     9/6/2019                 9/7/2019   \n",
       "12    9/5/2019     9/6/2019                 9/7/2019   \n",
       "13   8/20/2019     9/3/2019                 9/9/2019   \n",
       "14   8/28/2019                            10/15/2019   \n",
       "15         NaN                                   NaN   \n",
       "16  12/13/2019          NaN                      NaN   \n",
       "\n",
       "   investigation_complete_date          disposition  \\\n",
       "0                          NaN                        \n",
       "1                     2/1/2019                        \n",
       "2                    2/14/2019                        \n",
       "3                    3/27/2019            sustained   \n",
       "4                     4/2/2019                        \n",
       "5                     6/4/2019                        \n",
       "6                     5/3/2019                        \n",
       "7                    6/28/2019                        \n",
       "8                    7/23/2019                        \n",
       "9                    8/20/2019                        \n",
       "10                   10/7/2019  no conclusion given   \n",
       "11                   9/16/2019            sustained   \n",
       "12                   9/16/2019            sustained   \n",
       "13                         NaN                        \n",
       "14                  10/23/2019            sustained   \n",
       "15                         NaN                        \n",
       "16                         NaN                        \n",
       "\n",
       "                                               action  \\\n",
       "0                                                       \n",
       "1                                                       \n",
       "2                                                       \n",
       "3                           separated from employment   \n",
       "4                                                       \n",
       "5                                                       \n",
       "6                                                       \n",
       "7                                                       \n",
       "8                                                       \n",
       "9                                                       \n",
       "10  case turned over to harahan police department ...   \n",
       "11                                                      \n",
       "12                                                      \n",
       "13                                                      \n",
       "14                                         suspension   \n",
       "15                                                      \n",
       "16                                                      \n",
       "\n",
       "                     agency  data_production_year       rank_desc first_name  \\\n",
       "0   East Jefferson Levee PD                  2019             NaN              \n",
       "1          Orleans Levee PD                  2019             NaN              \n",
       "2   East Jefferson Levee PD                  2019             NaN              \n",
       "3          Orleans Levee PD                  2019  police officer       rosa   \n",
       "4          Orleans Levee PD                  2019             NaN              \n",
       "5   East Jefferson Levee PD                  2019             NaN              \n",
       "6          Orleans Levee PD                  2019             NaN              \n",
       "7   East Jefferson Levee PD                  2019             NaN              \n",
       "8          Orleans Levee PD                  2019             NaN              \n",
       "9          Orleans Levee PD                  2019             NaN              \n",
       "10               Harahan PD                  2019         captain     manuel   \n",
       "11  East Jefferson Levee PD                  2019      lieutenant       kirt   \n",
       "12  East Jefferson Levee PD                  2019        sergeant     gerard   \n",
       "13  East Jefferson Levee PD                  2019             NaN              \n",
       "14         Orleans Levee PD                  2019  police officer     albert   \n",
       "15         Orleans Levee PD                  2019             NaN              \n",
       "16  East Jefferson Levee PD                  2019             NaN              \n",
       "\n",
       "    last_name                               uid  \\\n",
       "0                                           NaN   \n",
       "1                                           NaN   \n",
       "2                                           NaN   \n",
       "3   alexander  a7432ab1c0ae9861e51e72192aaa2c72   \n",
       "4                                           NaN   \n",
       "5                                           NaN   \n",
       "6                                           NaN   \n",
       "7                                           NaN   \n",
       "8                                           NaN   \n",
       "9                                           NaN   \n",
       "10      adams  25b1e22973a00ad777ddbc663cdaaafd   \n",
       "11     arnold  8e297d462fe26953b379c3e0c4dd63f5   \n",
       "12  duplessis  d9785fdaa2e74f031016925eff73b66e   \n",
       "13                                          NaN   \n",
       "14      hynes  3583d4064aae8d9628fddda2c136199f   \n",
       "15                                          NaN   \n",
       "16                                          NaN   \n",
       "\n",
       "                       complaint_uid  \n",
       "0   8299fa66b25872a6d455bdef1b335001  \n",
       "1   cbda115182dbfd7b99faf1ac9b7ed579  \n",
       "2   def0a8a6a1e32519d63e9d51a76ba301  \n",
       "3   9cea1b496ad032ad48ed30f3125b4d76  \n",
       "4   40ee4ebd7cf5aeb1cdc0359a79839b17  \n",
       "5   fc0a577fd5ec3154436824ed9f4a052a  \n",
       "6   bf172796f1b36c531135957eeee1ea58  \n",
       "7   7b3edd9092f3a6d3e61ef583fb9d9dc7  \n",
       "8   aa9be7dbde979bfb7d3eda5d1feda385  \n",
       "9   b8392c86ea219ae066be11700f46fa24  \n",
       "10  2f0138b64012126b63df1a4e9e51ece9  \n",
       "11  89ad34dbda6298aab60d104d0aedfb76  \n",
       "12  f067a680451e80bb242c225502ece678  \n",
       "13  321ed3b9eb2321b8ccf2c1f67e8b58ef  \n",
       "14  b2673e58c847808d6e9f1cb0703dbac5  \n",
       "15  f0b460fe7144aa6e8c071111f61266b0  \n",
       "16  2bb0c3c03cb456bba1cceaef9e86a971  "
      ],
      "text/html": "<div>\n<style scoped>\n    .dataframe tbody tr th:only-of-type {\n        vertical-align: middle;\n    }\n\n    .dataframe tbody tr th {\n        vertical-align: top;\n    }\n\n    .dataframe thead th {\n        text-align: right;\n    }\n</style>\n<table border=\"1\" class=\"dataframe\">\n  <thead>\n    <tr style=\"text-align: right;\">\n      <th></th>\n      <th>tracking_number</th>\n      <th>employment_status</th>\n      <th>allegation</th>\n      <th>complainant_name</th>\n      <th>investigator</th>\n      <th>shift_supervisor</th>\n      <th>complainant_type</th>\n      <th>occur_date</th>\n      <th>receive_date</th>\n      <th>investigation_start_date</th>\n      <th>investigation_complete_date</th>\n      <th>disposition</th>\n      <th>action</th>\n      <th>agency</th>\n      <th>data_production_year</th>\n      <th>rank_desc</th>\n      <th>first_name</th>\n      <th>last_name</th>\n      <th>uid</th>\n      <th>complaint_uid</th>\n    </tr>\n  </thead>\n  <tbody>\n    <tr>\n      <th>0</th>\n      <td>2019-0001</td>\n      <td>full time</td>\n      <td>NaN</td>\n      <td>Hesham Odeh</td>\n      <td>D.Juneau</td>\n      <td></td>\n      <td>external</td>\n      <td>10/21/2018</td>\n      <td>1/10/2019</td>\n      <td>1/15/2019</td>\n      <td>NaN</td>\n      <td></td>\n      <td></td>\n      <td>East Jefferson Levee PD</td>\n      <td>2019</td>\n      <td>NaN</td>\n      <td></td>\n      <td></td>\n      <td>NaN</td>\n      <td>8299fa66b25872a6d455bdef1b335001</td>\n    </tr>\n    <tr>\n      <th>1</th>\n      <td>2019-0002</td>\n      <td>reserve</td>\n      <td>NaN</td>\n      <td>Corey Bono</td>\n      <td>J. Holmes</td>\n      <td>A. Pellitteri</td>\n      <td>external</td>\n      <td></td>\n      <td>1/11/2019</td>\n      <td>1/11/2019</td>\n      <td>2/1/2019</td>\n      <td></td>\n      <td></td>\n      <td>Orleans Levee PD</td>\n      <td>2019</td>\n      <td>NaN</td>\n      <td></td>\n      <td></td>\n      <td>NaN</td>\n      <td>cbda115182dbfd7b99faf1ac9b7ed579</td>\n    </tr>\n    <tr>\n      <th>2</th>\n      <td>2019-0003</td>\n      <td>full time</td>\n      <td>NaN</td>\n      <td>Jefrey David</td>\n      <td>M. Schindler</td>\n      <td></td>\n      <td>external</td>\n      <td>1/11/2019</td>\n      <td>1/15/2019</td>\n      <td>1/15/2019</td>\n      <td>2/14/2019</td>\n      <td></td>\n      <td></td>\n      <td>East Jefferson Levee PD</td>\n      <td>2019</td>\n      <td>NaN</td>\n      <td></td>\n      <td></td>\n      <td>NaN</td>\n      <td>def0a8a6a1e32519d63e9d51a76ba301</td>\n    </tr>\n    <tr>\n      <th>3</th>\n      <td>2019-0004</td>\n      <td>full time</td>\n      <td>Proffessional Conduct</td>\n      <td>Jose Bueso</td>\n      <td>J. Holmes</td>\n      <td></td>\n      <td>external</td>\n      <td>11/20/2018</td>\n      <td>1/16/2018</td>\n      <td>1/20/2018</td>\n      <td>3/27/2019</td>\n      <td>sustained</td>\n      <td>separated from employment</td>\n      <td>Orleans Levee PD</td>\n      <td>2019</td>\n      <td>police officer</td>\n      <td>rosa</td>\n      <td>alexander</td>\n      <td>a7432ab1c0ae9861e51e72192aaa2c72</td>\n      <td>9cea1b496ad032ad48ed30f3125b4d76</td>\n    </tr>\n    <tr>\n      <th>4</th>\n      <td>2019-0005</td>\n      <td></td>\n      <td>NaN</td>\n      <td>Adriana Zmora</td>\n      <td>J. Holmes</td>\n      <td></td>\n      <td>external</td>\n      <td>1/18/2019</td>\n      <td>1/18/2019</td>\n      <td>1/18/2019</td>\n      <td>4/2/2019</td>\n      <td></td>\n      <td></td>\n      <td>Orleans Levee PD</td>\n      <td>2019</td>\n      <td>NaN</td>\n      <td></td>\n      <td></td>\n      <td>NaN</td>\n      <td>40ee4ebd7cf5aeb1cdc0359a79839b17</td>\n    </tr>\n    <tr>\n      <th>5</th>\n      <td>2019-0006</td>\n      <td>unknown</td>\n      <td>NaN</td>\n      <td>Chris Martinez</td>\n      <td>M. Schindler</td>\n      <td>M. Moscona</td>\n      <td>external</td>\n      <td>4/27/2019</td>\n      <td>4/29/2019</td>\n      <td>4/29/2019</td>\n      <td>6/4/2019</td>\n      <td></td>\n      <td></td>\n      <td>East Jefferson Levee PD</td>\n      <td>2019</td>\n      <td>NaN</td>\n      <td></td>\n      <td></td>\n      <td>NaN</td>\n      <td>fc0a577fd5ec3154436824ed9f4a052a</td>\n    </tr>\n    <tr>\n      <th>6</th>\n      <td>2019-0007</td>\n      <td>full time</td>\n      <td>NaN</td>\n      <td>Entinne Honore</td>\n      <td>J. Homes</td>\n      <td></td>\n      <td>external</td>\n      <td>4/12/2019</td>\n      <td>4/29/2019</td>\n      <td>5/1/2019</td>\n      <td>5/3/2019</td>\n      <td></td>\n      <td></td>\n      <td>Orleans Levee PD</td>\n      <td>2019</td>\n      <td>NaN</td>\n      <td></td>\n      <td></td>\n      <td>NaN</td>\n      <td>bf172796f1b36c531135957eeee1ea58</td>\n    </tr>\n    <tr>\n      <th>7</th>\n      <td>2019-0008</td>\n      <td>full time</td>\n      <td>NaN</td>\n      <td>Gene Fontaine</td>\n      <td>M. Schindler</td>\n      <td></td>\n      <td>external</td>\n      <td></td>\n      <td>6/24/2019</td>\n      <td>6/24/2019</td>\n      <td>6/28/2019</td>\n      <td></td>\n      <td></td>\n      <td>East Jefferson Levee PD</td>\n      <td>2019</td>\n      <td>NaN</td>\n      <td></td>\n      <td></td>\n      <td>NaN</td>\n      <td>7b3edd9092f3a6d3e61ef583fb9d9dc7</td>\n    </tr>\n    <tr>\n      <th>8</th>\n      <td>2019-0009</td>\n      <td>full time</td>\n      <td>NaN</td>\n      <td>Courtney Jimison</td>\n      <td>M. Schindler</td>\n      <td></td>\n      <td>internal</td>\n      <td></td>\n      <td>6/28/2019</td>\n      <td>7/1/2019</td>\n      <td>7/23/2019</td>\n      <td></td>\n      <td></td>\n      <td>Orleans Levee PD</td>\n      <td>2019</td>\n      <td>NaN</td>\n      <td></td>\n      <td></td>\n      <td>NaN</td>\n      <td>aa9be7dbde979bfb7d3eda5d1feda385</td>\n    </tr>\n    <tr>\n      <th>9</th>\n      <td>2019-0010</td>\n      <td>reserve</td>\n      <td>NaN</td>\n      <td>Renard Bridgewater</td>\n      <td>J. Holmes</td>\n      <td></td>\n      <td>external</td>\n      <td>6/17/2019</td>\n      <td>7/10/2019</td>\n      <td>NaN</td>\n      <td>8/20/2019</td>\n      <td></td>\n      <td></td>\n      <td>Orleans Levee PD</td>\n      <td>2019</td>\n      <td>NaN</td>\n      <td></td>\n      <td></td>\n      <td>NaN</td>\n      <td>b8392c86ea219ae066be11700f46fa24</td>\n    </tr>\n    <tr>\n      <th>10</th>\n      <td>2019-0011</td>\n      <td></td>\n      <td>Policy Violation</td>\n      <td>Asst. Chief Keith Moody</td>\n      <td>Team</td>\n      <td></td>\n      <td></td>\n      <td>NaN</td>\n      <td>8/15/2019</td>\n      <td>8/15/2017</td>\n      <td>10/7/2019</td>\n      <td>no conclusion given</td>\n      <td>case turned over to harahan police department ...</td>\n      <td>Harahan PD</td>\n      <td>2019</td>\n      <td>captain</td>\n      <td>manuel</td>\n      <td>adams</td>\n      <td>25b1e22973a00ad777ddbc663cdaaafd</td>\n      <td>2f0138b64012126b63df1a4e9e51ece9</td>\n    </tr>\n    <tr>\n      <th>11</th>\n      <td>2019-0012</td>\n      <td>full time</td>\n      <td>Detail Infraction</td>\n      <td>Chief Najolia</td>\n      <td>D. Juneau</td>\n      <td></td>\n      <td>internal</td>\n      <td>9/5/2019</td>\n      <td>9/6/2019</td>\n      <td>9/7/2019</td>\n      <td>9/16/2019</td>\n      <td>sustained</td>\n      <td></td>\n      <td>East Jefferson Levee PD</td>\n      <td>2019</td>\n      <td>lieutenant</td>\n      <td>kirt</td>\n      <td>arnold</td>\n      <td>8e297d462fe26953b379c3e0c4dd63f5</td>\n      <td>89ad34dbda6298aab60d104d0aedfb76</td>\n    </tr>\n    <tr>\n      <th>12</th>\n      <td>2019-0013</td>\n      <td>full time</td>\n      <td>Detail Infraction</td>\n      <td>Chief Najolia</td>\n      <td>D. Juneau</td>\n      <td></td>\n      <td>internal</td>\n      <td>9/5/2019</td>\n      <td>9/6/2019</td>\n      <td>9/7/2019</td>\n      <td>9/16/2019</td>\n      <td>sustained</td>\n      <td></td>\n      <td>East Jefferson Levee PD</td>\n      <td>2019</td>\n      <td>sergeant</td>\n      <td>gerard</td>\n      <td>duplessis</td>\n      <td>d9785fdaa2e74f031016925eff73b66e</td>\n      <td>f067a680451e80bb242c225502ece678</td>\n    </tr>\n    <tr>\n      <th>13</th>\n      <td>2019-0014</td>\n      <td>reserve</td>\n      <td>NaN</td>\n      <td>NOPD</td>\n      <td>D. Juneau</td>\n      <td></td>\n      <td>external</td>\n      <td>8/20/2019</td>\n      <td>9/3/2019</td>\n      <td>9/9/2019</td>\n      <td>NaN</td>\n      <td></td>\n      <td></td>\n      <td>East Jefferson Levee PD</td>\n      <td>2019</td>\n      <td>NaN</td>\n      <td></td>\n      <td></td>\n      <td>NaN</td>\n      <td>321ed3b9eb2321b8ccf2c1f67e8b58ef</td>\n    </tr>\n    <tr>\n      <th>14</th>\n      <td>2019-0015</td>\n      <td>full time</td>\n      <td>1.08D: Neglect of Duty</td>\n      <td>Captain Mike Brenckle</td>\n      <td>M. Brenckle</td>\n      <td></td>\n      <td>internal</td>\n      <td>8/28/2019</td>\n      <td></td>\n      <td>10/15/2019</td>\n      <td>10/23/2019</td>\n      <td>sustained</td>\n      <td>suspension</td>\n      <td>Orleans Levee PD</td>\n      <td>2019</td>\n      <td>police officer</td>\n      <td>albert</td>\n      <td>hynes</td>\n      <td>3583d4064aae8d9628fddda2c136199f</td>\n      <td>b2673e58c847808d6e9f1cb0703dbac5</td>\n    </tr>\n    <tr>\n      <th>15</th>\n      <td>2019-0016</td>\n      <td>reserve</td>\n      <td>NaN</td>\n      <td>Sgt. Lacy Gerhold</td>\n      <td>D Juneau</td>\n      <td>Sgt. Gerhold</td>\n      <td>internal</td>\n      <td>NaN</td>\n      <td></td>\n      <td>NaN</td>\n      <td>NaN</td>\n      <td></td>\n      <td></td>\n      <td>Orleans Levee PD</td>\n      <td>2019</td>\n      <td>NaN</td>\n      <td></td>\n      <td></td>\n      <td>NaN</td>\n      <td>f0b460fe7144aa6e8c071111f61266b0</td>\n    </tr>\n    <tr>\n      <th>16</th>\n      <td>2019-0017</td>\n      <td>reserve</td>\n      <td>NaN</td>\n      <td>Lt. Tryone Butler</td>\n      <td>M. Schindler</td>\n      <td></td>\n      <td>internal</td>\n      <td>12/13/2019</td>\n      <td>NaN</td>\n      <td>NaN</td>\n      <td>NaN</td>\n      <td></td>\n      <td></td>\n      <td>East Jefferson Levee PD</td>\n      <td>2019</td>\n      <td>NaN</td>\n      <td></td>\n      <td></td>\n      <td>NaN</td>\n      <td>2bb0c3c03cb456bba1cceaef9e86a971</td>\n    </tr>\n  </tbody>\n</table>\n</div>"
     },
     "metadata": {},
     "execution_count": 3
    }
   ],
   "source": [
    "cprr19 = clean19()\n",
    "cprr19"
   ]
  },
  {
   "cell_type": "code",
   "execution_count": 5,
   "metadata": {},
   "outputs": [
    {
     "output_type": "execute_result",
     "data": {
      "text/plain": [
       "array(['atchafalaya levee pd', 'e. jefferson levee pd',\n",
       "       'lake borgne basin levee district pd', 'orleans levee pd',\n",
       "       'pontchartrain levee pd', 'tensas basin levee district'],\n",
       "      dtype=object)"
      ]
     },
     "metadata": {},
     "execution_count": 5
    }
   ],
   "source": [
    "post = pd.read_csv('../data/clean/pprr_post_2020_11_06.csv')\n",
    "post.loc[post.agency.str.contains('levee'), 'agency'].unique()"
   ]
  },
  {
   "cell_type": "code",
   "execution_count": 6,
   "metadata": {},
   "outputs": [
    {
     "output_type": "execute_result",
     "data": {
      "text/plain": [
       "(53, 11)"
      ]
     },
     "metadata": {},
     "execution_count": 6
    }
   ],
   "source": [
    "post.loc[post.agency == 'e. jefferson levee pd'].shape"
   ]
  },
  {
   "cell_type": "code",
   "execution_count": 7,
   "metadata": {},
   "outputs": [
    {
     "output_type": "execute_result",
     "data": {
      "text/plain": [
       "(48, 11)"
      ]
     },
     "metadata": {},
     "execution_count": 7
    }
   ],
   "source": [
    "post.loc[post.agency == 'orleans levee pd'].shape"
   ]
  },
  {
   "cell_type": "code",
   "execution_count": null,
   "metadata": {},
   "outputs": [],
   "source": []
  }
 ]
}
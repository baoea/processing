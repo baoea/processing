{
 "cells": [
  {
   "cell_type": "code",
   "execution_count": 3,
   "metadata": {},
   "outputs": [],
   "source": [
    "# import os\n",
    "# os.chdir(\"../\")"
   ]
  },
  {
   "cell_type": "code",
   "execution_count": 4,
   "metadata": {},
   "outputs": [],
   "source": [
    "import pandas as pd\n",
    "\n",
    "from fuse.all import fuse_allegation\n",
    "from lib.clean import standardize_desc_cols"
   ]
  },
  {
   "cell_type": "code",
   "execution_count": 5,
   "metadata": {},
   "outputs": [],
   "source": [
    "df = fuse_allegation()"
   ]
  },
  {
   "cell_type": "code",
   "execution_count": 6,
   "metadata": {},
   "outputs": [
    {
     "data": {
      "text/plain": [
       "49"
      ]
     },
     "execution_count": 6,
     "metadata": {},
     "output_type": "execute_result"
    }
   ],
   "source": [
    "df.agency.nunique()"
   ]
  },
  {
   "cell_type": "code",
   "execution_count": 7,
   "metadata": {},
   "outputs": [],
   "source": [
    "\"\"\"\n",
    "Standardize text formatting for disposition column\n",
    "\"\"\"\n",
    "df = df.pipe(standardize_desc_cols, [\"disposition\"])"
   ]
  },
  {
   "cell_type": "code",
   "execution_count": 8,
   "metadata": {},
   "outputs": [],
   "source": [
    "\"\"\"\n",
    "Drop rows missing a disposition value\n",
    "\"\"\"\n",
    "df = df[~((df.disposition.fillna(\"\") == \"\"))]"
   ]
  },
  {
   "cell_type": "code",
   "execution_count": 9,
   "metadata": {},
   "outputs": [
    {
     "data": {
      "text/plain": [
       "41"
      ]
     },
     "execution_count": 9,
     "metadata": {},
     "output_type": "execute_result"
    }
   ],
   "source": [
    "\"\"\"\n",
    "Number of agencies for which we have disposition data (data spans 2003 - 2021)\n",
    "\"\"\"\n",
    "df.agency.nunique()"
   ]
  },
  {
   "cell_type": "code",
   "execution_count": 10,
   "metadata": {},
   "outputs": [
    {
     "data": {
      "text/plain": [
       "12339"
      ]
     },
     "execution_count": 10,
     "metadata": {},
     "output_type": "execute_result"
    }
   ],
   "source": [
    "\"\"\"\n",
    "Number of dispositions in total\n",
    "\"\"\"\n",
    "df.disposition.count()"
   ]
  },
  {
   "cell_type": "code",
   "execution_count": 11,
   "metadata": {},
   "outputs": [
    {
     "data": {
      "text/plain": [
       "sustained                                        0.318502\n",
       "unfounded                                        0.213875\n",
       "not sustained                                    0.162817\n",
       "exonerated                                       0.115893\n",
       "pending investigation                            0.039063\n",
       "founded                                          0.020990\n",
       "withdrawn; mediation                             0.019775\n",
       "negotiated settlement                            0.013210\n",
       "di-2                                             0.013129\n",
       "no further investigation merited                 0.009077\n",
       "non-sustained                                    0.008996\n",
       "cancelled                                        0.005106\n",
       "unsustained                                      0.005025\n",
       "resigned                                         0.004619\n",
       "sustained; resigned while under investigation    0.004133\n",
       "withdrawn                                        0.003404\n",
       "inconclusive                                     0.002999\n",
       "duplicate allegation                             0.002918\n",
       "exceptional                                      0.002837\n",
       "unknown                                          0.002593\n",
       "Name: disposition, dtype: float64"
      ]
     },
     "execution_count": 11,
     "metadata": {},
     "output_type": "execute_result"
    }
   ],
   "source": [
    "\"\"\"\n",
    "Normalized disposition counts, i.e., 31% of dispositions were sustained after an internal investigation\n",
    "\"\"\"\n",
    "df.disposition.value_counts(normalize=True).head(20)"
   ]
  },
  {
   "cell_type": "code",
   "execution_count": 12,
   "metadata": {},
   "outputs": [],
   "source": [
    "\"\"\"\n",
    "Analyze disciplinary actions for sustained allegations\n",
    "\"\"\"\n",
    "df = df[df.disposition.isin([\"sustained\"])]"
   ]
  },
  {
   "cell_type": "code",
   "execution_count": 13,
   "metadata": {},
   "outputs": [
    {
     "data": {
      "text/plain": [
       "array(['sustained'], dtype=object)"
      ]
     },
     "execution_count": 13,
     "metadata": {},
     "output_type": "execute_result"
    }
   ],
   "source": [
    "\"\"\"\n",
    "df is filtered for sustained dispositions\n",
    "\"\"\"\n",
    "df.disposition.unique()"
   ]
  },
  {
   "cell_type": "code",
   "execution_count": 14,
   "metadata": {},
   "outputs": [],
   "source": [
    "\"\"\"\n",
    "Fill na values\n",
    "\"\"\"\n",
    "def fill_nas(df):\n",
    "    df.loc[:, 'action'] = df.action.str.lower().str.strip().fillna(\"n/a\")\n",
    "    return df"
   ]
  },
  {
   "cell_type": "code",
   "execution_count": 15,
   "metadata": {},
   "outputs": [],
   "source": [
    "df = df.pipe(fill_nas)"
   ]
  },
  {
   "cell_type": "code",
   "execution_count": 16,
   "metadata": {},
   "outputs": [],
   "source": [
    "\"\"\"\n",
    "Standardize text formatting for disciplinary action column\n",
    "\"\"\"\n",
    "df = df.pipe(standardize_desc_cols, [\"action\"])"
   ]
  },
  {
   "cell_type": "code",
   "execution_count": 17,
   "metadata": {},
   "outputs": [
    {
     "data": {
      "text/plain": [
       "n/a                                                         0.537659\n",
       "letter of caution                                           0.095420\n",
       "letter of reprimand                                         0.040458\n",
       "warning                                                     0.032316\n",
       "termination                                                 0.020356\n",
       "                                                              ...   \n",
       "letter of caution; firearm safety training; range master    0.000254\n",
       "suspension 3 days                                           0.000254\n",
       "11-day suspension                                           0.000254\n",
       "5 day suspension without pay                                0.000254\n",
       "56-day suspension                                           0.000254\n",
       "Name: action, Length: 193, dtype: float64"
      ]
     },
     "execution_count": 17,
     "metadata": {},
     "output_type": "execute_result"
    }
   ],
   "source": [
    "\"\"\"\n",
    "45% of sustained allegations have a corresponding disciplinary action\n",
    "\"\"\"\n",
    "df.action.value_counts(normalize=True)"
   ]
  },
  {
   "cell_type": "code",
   "execution_count": 18,
   "metadata": {},
   "outputs": [],
   "source": [
    "def drop_na_action_values(df):\n",
    "    df.loc[:, \"action\"] = df.action.str.replace(r\"^n/a$\", \"\", regex=True)\n",
    "    return df[~((df.action.fillna(\"\") == \"\"))]"
   ]
  },
  {
   "cell_type": "code",
   "execution_count": 19,
   "metadata": {},
   "outputs": [],
   "source": [
    "df = df.pipe(drop_na_action_values)"
   ]
  },
  {
   "cell_type": "code",
   "execution_count": 20,
   "metadata": {},
   "outputs": [
    {
     "data": {
      "text/plain": [
       "letter of caution                                                  0.206498\n",
       "letter of reprimand                                                0.087555\n",
       "warning                                                            0.069934\n",
       "termination                                                        0.044053\n",
       "1-day suspension                                                   0.033040\n",
       "                                                                     ...   \n",
       "8-hour driving school/45-day loss of unit                          0.000551\n",
       "suspension 5 days; special evaluation                              0.000551\n",
       "5-day suspension; 24-hours loss of pay; 5-day loss of seniority    0.000551\n",
       "8-day suspension                                                   0.000551\n",
       "56-day suspension                                                  0.000551\n",
       "Name: action, Length: 191, dtype: float64"
      ]
     },
     "execution_count": 20,
     "metadata": {},
     "output_type": "execute_result"
    }
   ],
   "source": [
    "\"\"\"\n",
    "Disciplinary action data \n",
    "\"\"\"\n",
    "df.action.value_counts(normalize=True)"
   ]
  },
  {
   "cell_type": "code",
   "execution_count": 21,
   "metadata": {},
   "outputs": [],
   "source": [
    "\"\"\"\n",
    "Group similar disicplinary actions\n",
    "\"\"\"\n",
    "def group_actions(df):\n",
    "    df.loc[:, 'action'] = df.action.str.lower().str.strip().fillna(\"n/a\")\\\n",
    "        .str.replace(r'(.+)?suspend?e?d?s?i?o?n?(.+)?', 'suspended', regex=True)\\\n",
    "        .str.replace(r\"(.+)?(reprimand|written|letter)(.+)?\", \"written or verbal reprimand\", regex=True)\\\n",
    "        .str.replace(r\"^termination$\", \"terminated\", regex=True)\\\n",
    "        .str.replace(r\"(.+)?train(.+)?\", \"training\", regex=True)\\\n",
    "        .str.replace(r\"(.+)?demotion(.+)?\", \"demoted\", regex=True)\\\n",
    "        .str.replace(r\"(.+)?loss of unit(.+)?\", \"lost unit privileges\", regex=True)\\\n",
    "        .str.replace(r\"(.+)?counsel(ing)?(.+)?\", \"counseled\", regex=True)\\\n",
    "        .str.replace(r\"(.+)?warning(.+)?\", \"warned\", regex=True)\\\n",
    "        .str.replace(r\"(.+)?(resignation|resigned)(.+)\", \"resigned\", regex=True)\n",
    "    return df"
   ]
  },
  {
   "cell_type": "code",
   "execution_count": 22,
   "metadata": {},
   "outputs": [],
   "source": [
    "df = df.pipe(group_actions)"
   ]
  },
  {
   "cell_type": "code",
   "execution_count": 23,
   "metadata": {},
   "outputs": [
    {
     "data": {
      "text/plain": [
       "written or verbal reprimand             0.444383\n",
       "suspended                               0.280837\n",
       "warned                                  0.076542\n",
       "terminated                              0.060022\n",
       "counseled                               0.053414\n",
       "resigned                                0.028634\n",
       "training                                0.009361\n",
       "discharged                              0.005507\n",
       "demoted                                 0.004405\n",
       "lod                                     0.002753\n",
       "conference worksheet                    0.002203\n",
       "arrested; terminated                    0.002203\n",
       "arrested; resigned                      0.002203\n",
       "hold in abeyance                        0.002203\n",
       "disciplined                             0.001652\n",
       "unknown                                 0.001652\n",
       "lost unit privileges                    0.001652\n",
       "performance log                         0.001652\n",
       "green sheet                             0.001652\n",
       "separated from employment               0.001101\n",
       "1-day driving school                    0.001101\n",
       "dmvr                                    0.001101\n",
       "retired                                 0.001101\n",
       "deferred/handled upon rehire            0.001101\n",
       "remedial                                0.001101\n",
       "eap                                     0.000551\n",
       "officer resigned                        0.000551\n",
       "1-year probation                        0.000551\n",
       "deficiency                              0.000551\n",
       "demoted to deputy                       0.000551\n",
       "ference                                 0.000551\n",
       "pending                                 0.000551\n",
       "life lesson learned from experience     0.000551\n",
       "seperation                              0.000551\n",
       "transfer                                0.000551\n",
       "none                                    0.000551\n",
       "other                                   0.000551\n",
       "vehicle use                             0.000551\n",
       "quit                                    0.000551\n",
       "unit privileges                         0.000551\n",
       "loss of vehicle privileges (2 weeks)    0.000551\n",
       "no discipline                           0.000551\n",
       "8-hour transfer                         0.000551\n",
       "downgraded to dm-1                      0.000551\n",
       "Name: action, dtype: float64"
      ]
     },
     "execution_count": 23,
     "metadata": {},
     "output_type": "execute_result"
    }
   ],
   "source": [
    "\"\"\"\n",
    "Disciplinary action data after grouping similar actions\n",
    "\"\"\"\n",
    "df.action.value_counts(normalize=True)"
   ]
  }
 ],
 "metadata": {
  "kernelspec": {
   "display_name": "Python 3.9.11 64-bit",
   "language": "python",
   "name": "python3"
  },
  "language_info": {
   "codemirror_mode": {
    "name": "ipython",
    "version": 3
   },
   "file_extension": ".py",
   "mimetype": "text/x-python",
   "name": "python",
   "nbconvert_exporter": "python",
   "pygments_lexer": "ipython3",
   "version": "3.9.11"
  },
  "orig_nbformat": 4,
  "vscode": {
   "interpreter": {
    "hash": "f6c8f846148a3e4d140e6ddf63c190cff559dcf260a4a21539f0978f2b58638c"
   }
  }
 },
 "nbformat": 4,
 "nbformat_minor": 2
}

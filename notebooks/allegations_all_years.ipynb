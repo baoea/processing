{
 "cells": [
  {
   "cell_type": "code",
   "execution_count": null,
   "metadata": {},
   "outputs": [],
   "source": [
    "import os\n",
    "os.chdir(\"../\")"
   ]
  },
  {
   "cell_type": "code",
   "execution_count": 70,
   "metadata": {},
   "outputs": [],
   "source": [
    "import pandas as pd\n",
    "\n",
    "from fuse.all import fuse_allegation\n",
    "from lib.clean import standardize_desc_cols"
   ]
  },
  {
   "cell_type": "code",
   "execution_count": 71,
   "metadata": {},
   "outputs": [],
   "source": [
    "df = fuse_allegation()"
   ]
  },
  {
   "cell_type": "code",
   "execution_count": 72,
   "metadata": {},
   "outputs": [],
   "source": [
    "# standardize text formatting for disposition column\n",
    "df = df.pipe(standardize_desc_cols, [\"disposition\"])"
   ]
  },
  {
   "cell_type": "code",
   "execution_count": 73,
   "metadata": {},
   "outputs": [],
   "source": [
    "# drop rows missing a disposition value\n",
    "df = df[~((df.disposition.fillna(\"\") == \"\"))]"
   ]
  },
  {
   "cell_type": "code",
   "execution_count": 74,
   "metadata": {},
   "outputs": [
    {
     "data": {
      "text/plain": [
       "39"
      ]
     },
     "execution_count": 74,
     "metadata": {},
     "output_type": "execute_result"
    }
   ],
   "source": [
    "# number of agencies for which we have disposition data (data spans 2004 - 2021)\n",
    "df.agency.nunique()"
   ]
  },
  {
   "cell_type": "code",
   "execution_count": 75,
   "metadata": {},
   "outputs": [
    {
     "data": {
      "text/plain": [
       "12523"
      ]
     },
     "execution_count": 75,
     "metadata": {},
     "output_type": "execute_result"
    }
   ],
   "source": [
    "# number of dispositions\n",
    "df.disposition.count()"
   ]
  },
  {
   "cell_type": "code",
   "execution_count": 76,
   "metadata": {},
   "outputs": [
    {
     "data": {
      "text/plain": [
       "sustained                  0.307275\n",
       "unfounded                  0.213447\n",
       "not sustained              0.165376\n",
       "exonerated                 0.115947\n",
       "pending investigation      0.039208\n",
       "                             ...   \n",
       "unfounded; sustained       0.000080\n",
       "retired                    0.000080\n",
       "suspended investigation    0.000080\n",
       "no conclusion given        0.000080\n",
       "complaint withdrawn        0.000080\n",
       "Name: disposition, Length: 140, dtype: float64"
      ]
     },
     "execution_count": 76,
     "metadata": {},
     "output_type": "execute_result"
    }
   ],
   "source": [
    "# normalized disposition counts\n",
    "# i.e., 30% of investigation dispositions were sustained\n",
    "df.disposition.value_counts(normalize=True)"
   ]
  },
  {
   "cell_type": "code",
   "execution_count": 77,
   "metadata": {},
   "outputs": [],
   "source": [
    "# analyze disciplinary actions for sustained allegations\n",
    "df = df[df.disposition.isin([\"sustained\"])]"
   ]
  },
  {
   "cell_type": "code",
   "execution_count": 78,
   "metadata": {},
   "outputs": [
    {
     "data": {
      "text/plain": [
       "array(['sustained'], dtype=object)"
      ]
     },
     "execution_count": 78,
     "metadata": {},
     "output_type": "execute_result"
    }
   ],
   "source": [
    "# df is filtered for sustained dispositions\n",
    "df.disposition.unique()"
   ]
  },
  {
   "cell_type": "code",
   "execution_count": 79,
   "metadata": {},
   "outputs": [],
   "source": [
    "# group similar actions\n",
    "def clean_action(df):\n",
    "    df.loc[:, 'action'] = df.action.str.lower().str.strip().fillna(\"n/a\")\\\n",
    "        .str.replace(r'(.+)?suspend?e?d?s?i?o?n?(.+)?', 'suspended', regex=True)\\\n",
    "        .str.replace(r\"(.+)?(reprimand|written|letter)(.+)?\", \"written or verbal reprimand\", regex=True)\\\n",
    "        .str.replace(r\"^terminated$\", \"termination\", regex=True)\\\n",
    "        .str.replace(r\"(.+)?train(.+)?\", \"training\", regex=True)\n",
    "    return df"
   ]
  },
  {
   "cell_type": "code",
   "execution_count": 80,
   "metadata": {},
   "outputs": [],
   "source": [
    "# apply clean action function\n",
    "df = df.pipe(clean_action)"
   ]
  },
  {
   "cell_type": "code",
   "execution_count": 81,
   "metadata": {},
   "outputs": [],
   "source": [
    "# standardize text formatting for action column\n",
    "df = df.pipe(standardize_desc_cols, [\"action\"])"
   ]
  },
  {
   "cell_type": "code",
   "execution_count": 82,
   "metadata": {},
   "outputs": [
    {
     "data": {
      "text/plain": [
       "n/a                                          0.549376\n",
       "written or verbal reprimand                  0.205561\n",
       "suspended                                    0.125260\n",
       "warning                                      0.033004\n",
       "termination                                  0.024428\n",
       "counseled                                    0.011175\n",
       "resigned                                     0.010655\n",
       "verbal counseling                            0.009356\n",
       "training                                     0.004418\n",
       "verbal warning                               0.003119\n",
       "discharged                                   0.002599\n",
       "lod                                          0.001299\n",
       "hold in abeyance                             0.001040\n",
       "conference worksheet                         0.001040\n",
       "demotion                                     0.001040\n",
       "counseling                                   0.001040\n",
       "disciplined                                  0.000780\n",
       "green sheet                                  0.000780\n",
       "unknown                                      0.000780\n",
       "performance log                              0.000780\n",
       "resigned in lieu of termination              0.000780\n",
       "separated from employment                    0.000520\n",
       "retired                                      0.000520\n",
       "counseling form                              0.000520\n",
       "deferred/handled upon rehire                 0.000520\n",
       "1-day driving school                         0.000520\n",
       "verbal counsel                               0.000520\n",
       "remedial                                     0.000520\n",
       "demotion - from sgt. to cpl.                 0.000520\n",
       "dmvr                                         0.000520\n",
       "life lesson learned from experience          0.000260\n",
       "8-hour driving school/45-day loss of unit    0.000260\n",
       "arrested; terminated                         0.000260\n",
       "1-year probation                             0.000260\n",
       "demoted to deputy                            0.000260\n",
       "8-hour transfer                              0.000260\n",
       "verbal counseling/30-day loss of unit        0.000260\n",
       "demotion to lieutenant                       0.000260\n",
       "other                                        0.000260\n",
       "pending                                      0.000260\n",
       "quit                                         0.000260\n",
       "downgraded to dm-1                           0.000260\n",
       "seperation                                   0.000260\n",
       "no discipline                                0.000260\n",
       "resignation in lieu                          0.000260\n",
       "resigned before disposition                  0.000260\n",
       "transfer                                     0.000260\n",
       "ference                                      0.000260\n",
       "vehicle use                                  0.000260\n",
       "unit privileges                              0.000260\n",
       "off duty security                            0.000260\n",
       "deficiency                                   0.000260\n",
       "eap                                          0.000260\n",
       "                                             0.000260\n",
       "officer resigned                             0.000260\n",
       "5-day loss of unit                           0.000260\n",
       "none                                         0.000260\n",
       "Name: action, dtype: float64"
      ]
     },
     "execution_count": 82,
     "metadata": {},
     "output_type": "execute_result"
    }
   ],
   "source": [
    "# disciplinary action data is available for 45% of sustained allegations\n",
    "df.action.value_counts(normalize=True)"
   ]
  },
  {
   "cell_type": "code",
   "execution_count": 83,
   "metadata": {},
   "outputs": [],
   "source": [
    "def drop_na_action_values(df):\n",
    "    df.loc[:, \"action\"] = df.action.str.replace(r\"^n/a$\", \"\", regex=True)\n",
    "    return df[~((df.action.fillna(\"\") == \"\"))]"
   ]
  },
  {
   "cell_type": "code",
   "execution_count": 84,
   "metadata": {},
   "outputs": [],
   "source": [
    "df = df.pipe(drop_na_action_values)"
   ]
  },
  {
   "cell_type": "code",
   "execution_count": 85,
   "metadata": {},
   "outputs": [
    {
     "data": {
      "text/plain": [
       "written or verbal reprimand                  0.456434\n",
       "suspended                                    0.278130\n",
       "warning                                      0.073283\n",
       "termination                                  0.054241\n",
       "counseled                                    0.024812\n",
       "resigned                                     0.023658\n",
       "verbal counseling                            0.020773\n",
       "training                                     0.009810\n",
       "verbal warning                               0.006924\n",
       "discharged                                   0.005770\n",
       "lod                                          0.002885\n",
       "hold in abeyance                             0.002308\n",
       "conference worksheet                         0.002308\n",
       "counseling                                   0.002308\n",
       "demotion                                     0.002308\n",
       "resigned in lieu of termination              0.001731\n",
       "unknown                                      0.001731\n",
       "performance log                              0.001731\n",
       "green sheet                                  0.001731\n",
       "disciplined                                  0.001731\n",
       "remedial                                     0.001154\n",
       "counseling form                              0.001154\n",
       "verbal counsel                               0.001154\n",
       "separated from employment                    0.001154\n",
       "retired                                      0.001154\n",
       "1-day driving school                         0.001154\n",
       "dmvr                                         0.001154\n",
       "deferred/handled upon rehire                 0.001154\n",
       "demotion - from sgt. to cpl.                 0.001154\n",
       "demoted to deputy                            0.000577\n",
       "1-year probation                             0.000577\n",
       "no discipline                                0.000577\n",
       "other                                        0.000577\n",
       "arrested; terminated                         0.000577\n",
       "quit                                         0.000577\n",
       "downgraded to dm-1                           0.000577\n",
       "8-hour transfer                              0.000577\n",
       "demotion to lieutenant                       0.000577\n",
       "deficiency                                   0.000577\n",
       "resignation in lieu                          0.000577\n",
       "seperation                                   0.000577\n",
       "transfer                                     0.000577\n",
       "ference                                      0.000577\n",
       "vehicle use                                  0.000577\n",
       "unit privileges                              0.000577\n",
       "off duty security                            0.000577\n",
       "pending                                      0.000577\n",
       "eap                                          0.000577\n",
       "officer resigned                             0.000577\n",
       "resigned before disposition                  0.000577\n",
       "life lesson learned from experience          0.000577\n",
       "5-day loss of unit                           0.000577\n",
       "8-hour driving school/45-day loss of unit    0.000577\n",
       "verbal counseling/30-day loss of unit        0.000577\n",
       "none                                         0.000577\n",
       "Name: action, dtype: float64"
      ]
     },
     "execution_count": 85,
     "metadata": {},
     "output_type": "execute_result"
    }
   ],
   "source": [
    "# of the 45% of sustained allegations that have a disciplinary action: 45% were written or verbal reprimands;\n",
    "# 27% were suspensions (of some form); 7% were warnings; 5% were terminations \n",
    "df.action.value_counts(normalize=True)"
   ]
  }
 ],
 "metadata": {
  "kernelspec": {
   "display_name": "Python 3.10.7 64-bit (microsoft store)",
   "language": "python",
   "name": "python3"
  },
  "language_info": {
   "codemirror_mode": {
    "name": "ipython",
    "version": 3
   },
   "file_extension": ".py",
   "mimetype": "text/x-python",
   "name": "python",
   "nbconvert_exporter": "python",
   "pygments_lexer": "ipython3",
   "version": "3.10.7"
  },
  "orig_nbformat": 4,
  "vscode": {
   "interpreter": {
    "hash": "23f823caeccb1684f6bd50492b68bb5eab208de0408f39b2457c6a38c0e8e818"
   }
  }
 },
 "nbformat": 4,
 "nbformat_minor": 2
}

{
 "metadata": {
  "language_info": {
   "codemirror_mode": {
    "name": "ipython",
    "version": 3
   },
   "file_extension": ".py",
   "mimetype": "text/x-python",
   "name": "python",
   "nbconvert_exporter": "python",
   "pygments_lexer": "ipython3",
   "version": "3.9.2"
  },
  "orig_nbformat": 2,
  "kernelspec": {
   "name": "python392jvsc74a57bd055d6dfa6f6295e03bf132df3e61c1565ff1c22b645ef82a5638b280b97b3597b",
   "display_name": "Python 3.9.2 64-bit ('base': virtualenvwrapper)"
  }
 },
 "nbformat": 4,
 "nbformat_minor": 2,
 "cells": [
  {
   "cell_type": "code",
   "execution_count": 1,
   "metadata": {},
   "outputs": [],
   "source": [
    "import sys; sys.path.append('../')\n",
    "import pandas as pd\n",
    "\n",
    "from clean.vivian_csd import clean"
   ]
  },
  {
   "cell_type": "code",
   "execution_count": 2,
   "metadata": {},
   "outputs": [
    {
     "output_type": "execute_result",
     "data": {
      "text/plain": [
       "     last_name first_name employment_status rank_year              rank_desc  \\\n",
       "0       nelson       ryan         full time                  chief of police   \n",
       "1         hart        j p         full time      2010           deputy chief   \n",
       "2        ellis    nichols         full time      2011         police captain   \n",
       "3       ashley     melvin         part time      2011             lieutenant   \n",
       "4    armington     jarvis         full time      2020             lieutenant   \n",
       "5     florence      louis         part time      2011                captain   \n",
       "6      douglas  cleveland         part time                   police officer   \n",
       "7        smith      kevin         part time                   police officer   \n",
       "8        phill     jammie         part time                   police officer   \n",
       "9     mccauley       josh         part time                   police officer   \n",
       "10      rhoads     jeromy                                     police officer   \n",
       "11     crowson     connie         part time                   police officer   \n",
       "12        fisk     colton         part time                   police officer   \n",
       "13       ellis     ashley         full time                   police officer   \n",
       "14       davis    devonta         part time            supervisor dispatcher   \n",
       "15      trenor       mark         part time                   police officer   \n",
       "16    cummings     dameon         part time                   police officer   \n",
       "17      thomas   jamarcus         part time                   police officer   \n",
       "18  littlejohn     austin         part time                   police officer   \n",
       "19       murff      bobby         part time                   police officer   \n",
       "20       oneal   recarrus         part time                   police officer   \n",
       "21    williams     warren         part time                   police officer   \n",
       "22    stockman      kevin         part time                   police officer   \n",
       "23    franklin     shakia         part time                   police officer   \n",
       "24   brownings      peggy         part time                   police officer   \n",
       "25   patterson   labrisha         part time                       dispatcher   \n",
       "26       brock       marc         part time                       dispatcher   \n",
       "27     jackson      djuan         part time                       dispatcher   \n",
       "\n",
       "   weekly_salary hourly_salary hire_year hire_month hire_day      agency  \\\n",
       "0            750           NaN      2011          1        1  Vivian CSD   \n",
       "1            740           NaN      2010         11       24  Vivian CSD   \n",
       "2            720           NaN      2007          7       11  Vivian CSD   \n",
       "3            NaN          16.6      2008          7       17  Vivian CSD   \n",
       "4            NaN         15.25      2018          5        7  Vivian CSD   \n",
       "5            NaN         12.36      2011         11        1  Vivian CSD   \n",
       "6            NaN         13.66      2009          1        7  Vivian CSD   \n",
       "7            NaN          10.2      2009          7       23  Vivian CSD   \n",
       "8            NaN            10      2011          3       14  Vivian CSD   \n",
       "9            NaN            10      2013          6       10  Vivian CSD   \n",
       "10           NaN            11      2014          4       15  Vivian CSD   \n",
       "11           NaN            11      2016          3       24  Vivian CSD   \n",
       "12           NaN            10      2017          7       11  Vivian CSD   \n",
       "13           NaN            14      2018          7       10  Vivian CSD   \n",
       "14           NaN            11      2018          9       10  Vivian CSD   \n",
       "15           NaN            14      2018          7       10  Vivian CSD   \n",
       "16           NaN            11      2019          7        1  Vivian CSD   \n",
       "17           NaN            11      2020          3        4  Vivian CSD   \n",
       "18           NaN             9      2020          3        4  Vivian CSD   \n",
       "19           NaN             9      2020          3        4  Vivian CSD   \n",
       "20           NaN            13      2020         11       12  Vivian CSD   \n",
       "21           NaN            11      2020         12       16  Vivian CSD   \n",
       "22           NaN            11      2020         12        7  Vivian CSD   \n",
       "23           NaN            11      2020         12        7  Vivian CSD   \n",
       "24           NaN            10      2004          3       17  Vivian CSD   \n",
       "25           NaN             9      2018          7       10  Vivian CSD   \n",
       "26           NaN             9      2019          1        9  Vivian CSD   \n",
       "27           NaN             9      2020          3        4  Vivian CSD   \n",
       "\n",
       "    data_production_year                               uid  \n",
       "0                   2021  d99e06a9fb01ca45ff2c84ae36009a61  \n",
       "1                   2021  526b0969094ed45b9adb85fb238f6245  \n",
       "2                   2021  1d21dd2901bf611ad41661fafc905c5b  \n",
       "3                   2021  f9ffb7d02bc9002837ed3e0f3a7ee926  \n",
       "4                   2021  d7e48da6a6f390500802b9e116b9b307  \n",
       "5                   2021  be2370af0637bd90535fff1beaeb5a7b  \n",
       "6                   2021  f9f5cbcbc2317dbcfadce61ab1b44201  \n",
       "7                   2021  267ab08e32e9ea8db786ae2516ec2d47  \n",
       "8                   2021  f60e21a5badefdb51a31f0ab101f5353  \n",
       "9                   2021  5babc2233f695fecb72456657da28dfb  \n",
       "10                  2021  9a6f976c6011dda3453eb5af355a22b9  \n",
       "11                  2021  85841fafa1cadd91308a5ec97f3ba058  \n",
       "12                  2021  bd25113859a44a971da72b7f64db5ddc  \n",
       "13                  2021  e2ebd06f3f41ea0254a1332e4baf0269  \n",
       "14                  2021  1fc28acf8a5363c44dbe1b4a0b562362  \n",
       "15                  2021  8df0f9aadbb26769ed521c243897c9d1  \n",
       "16                  2021  ea9a8e20b80c15263fc708c3b89a8bb2  \n",
       "17                  2021  d8027104f80e78a6f78c128bffb1aed9  \n",
       "18                  2021  11fd5b0476142e67896daf20c5bd6191  \n",
       "19                  2021  4743e907c07350a07a574ac82fff127a  \n",
       "20                  2021  1391153fbbc5c792e12ad2acc625cd39  \n",
       "21                  2021  98687fab5652bc3561a34cc45fb4cbc5  \n",
       "22                  2021  249acc97c0dd62d6b2a2def3ef17834c  \n",
       "23                  2021  fdc3d463c5d302339ac071bb316bf421  \n",
       "24                  2021  cdeab5f656c0c6779d3347a0da4b4b4c  \n",
       "25                  2021  7b3b2ca7e66b7ebc5590371124b5e4cd  \n",
       "26                  2021  a977f13e108b9c0fa8c8c2865655519e  \n",
       "27                  2021  11447328010722444cf958fa99692f43  "
      ],
      "text/html": "<div>\n<style scoped>\n    .dataframe tbody tr th:only-of-type {\n        vertical-align: middle;\n    }\n\n    .dataframe tbody tr th {\n        vertical-align: top;\n    }\n\n    .dataframe thead th {\n        text-align: right;\n    }\n</style>\n<table border=\"1\" class=\"dataframe\">\n  <thead>\n    <tr style=\"text-align: right;\">\n      <th></th>\n      <th>last_name</th>\n      <th>first_name</th>\n      <th>employment_status</th>\n      <th>rank_year</th>\n      <th>rank_desc</th>\n      <th>weekly_salary</th>\n      <th>hourly_salary</th>\n      <th>hire_year</th>\n      <th>hire_month</th>\n      <th>hire_day</th>\n      <th>agency</th>\n      <th>data_production_year</th>\n      <th>uid</th>\n    </tr>\n  </thead>\n  <tbody>\n    <tr>\n      <th>0</th>\n      <td>nelson</td>\n      <td>ryan</td>\n      <td>full time</td>\n      <td></td>\n      <td>chief of police</td>\n      <td>750</td>\n      <td>NaN</td>\n      <td>2011</td>\n      <td>1</td>\n      <td>1</td>\n      <td>Vivian CSD</td>\n      <td>2021</td>\n      <td>d99e06a9fb01ca45ff2c84ae36009a61</td>\n    </tr>\n    <tr>\n      <th>1</th>\n      <td>hart</td>\n      <td>j p</td>\n      <td>full time</td>\n      <td>2010</td>\n      <td>deputy chief</td>\n      <td>740</td>\n      <td>NaN</td>\n      <td>2010</td>\n      <td>11</td>\n      <td>24</td>\n      <td>Vivian CSD</td>\n      <td>2021</td>\n      <td>526b0969094ed45b9adb85fb238f6245</td>\n    </tr>\n    <tr>\n      <th>2</th>\n      <td>ellis</td>\n      <td>nichols</td>\n      <td>full time</td>\n      <td>2011</td>\n      <td>police captain</td>\n      <td>720</td>\n      <td>NaN</td>\n      <td>2007</td>\n      <td>7</td>\n      <td>11</td>\n      <td>Vivian CSD</td>\n      <td>2021</td>\n      <td>1d21dd2901bf611ad41661fafc905c5b</td>\n    </tr>\n    <tr>\n      <th>3</th>\n      <td>ashley</td>\n      <td>melvin</td>\n      <td>part time</td>\n      <td>2011</td>\n      <td>lieutenant</td>\n      <td>NaN</td>\n      <td>16.6</td>\n      <td>2008</td>\n      <td>7</td>\n      <td>17</td>\n      <td>Vivian CSD</td>\n      <td>2021</td>\n      <td>f9ffb7d02bc9002837ed3e0f3a7ee926</td>\n    </tr>\n    <tr>\n      <th>4</th>\n      <td>armington</td>\n      <td>jarvis</td>\n      <td>full time</td>\n      <td>2020</td>\n      <td>lieutenant</td>\n      <td>NaN</td>\n      <td>15.25</td>\n      <td>2018</td>\n      <td>5</td>\n      <td>7</td>\n      <td>Vivian CSD</td>\n      <td>2021</td>\n      <td>d7e48da6a6f390500802b9e116b9b307</td>\n    </tr>\n    <tr>\n      <th>5</th>\n      <td>florence</td>\n      <td>louis</td>\n      <td>part time</td>\n      <td>2011</td>\n      <td>captain</td>\n      <td>NaN</td>\n      <td>12.36</td>\n      <td>2011</td>\n      <td>11</td>\n      <td>1</td>\n      <td>Vivian CSD</td>\n      <td>2021</td>\n      <td>be2370af0637bd90535fff1beaeb5a7b</td>\n    </tr>\n    <tr>\n      <th>6</th>\n      <td>douglas</td>\n      <td>cleveland</td>\n      <td>part time</td>\n      <td></td>\n      <td>police officer</td>\n      <td>NaN</td>\n      <td>13.66</td>\n      <td>2009</td>\n      <td>1</td>\n      <td>7</td>\n      <td>Vivian CSD</td>\n      <td>2021</td>\n      <td>f9f5cbcbc2317dbcfadce61ab1b44201</td>\n    </tr>\n    <tr>\n      <th>7</th>\n      <td>smith</td>\n      <td>kevin</td>\n      <td>part time</td>\n      <td></td>\n      <td>police officer</td>\n      <td>NaN</td>\n      <td>10.2</td>\n      <td>2009</td>\n      <td>7</td>\n      <td>23</td>\n      <td>Vivian CSD</td>\n      <td>2021</td>\n      <td>267ab08e32e9ea8db786ae2516ec2d47</td>\n    </tr>\n    <tr>\n      <th>8</th>\n      <td>phill</td>\n      <td>jammie</td>\n      <td>part time</td>\n      <td></td>\n      <td>police officer</td>\n      <td>NaN</td>\n      <td>10</td>\n      <td>2011</td>\n      <td>3</td>\n      <td>14</td>\n      <td>Vivian CSD</td>\n      <td>2021</td>\n      <td>f60e21a5badefdb51a31f0ab101f5353</td>\n    </tr>\n    <tr>\n      <th>9</th>\n      <td>mccauley</td>\n      <td>josh</td>\n      <td>part time</td>\n      <td></td>\n      <td>police officer</td>\n      <td>NaN</td>\n      <td>10</td>\n      <td>2013</td>\n      <td>6</td>\n      <td>10</td>\n      <td>Vivian CSD</td>\n      <td>2021</td>\n      <td>5babc2233f695fecb72456657da28dfb</td>\n    </tr>\n    <tr>\n      <th>10</th>\n      <td>rhoads</td>\n      <td>jeromy</td>\n      <td></td>\n      <td></td>\n      <td>police officer</td>\n      <td>NaN</td>\n      <td>11</td>\n      <td>2014</td>\n      <td>4</td>\n      <td>15</td>\n      <td>Vivian CSD</td>\n      <td>2021</td>\n      <td>9a6f976c6011dda3453eb5af355a22b9</td>\n    </tr>\n    <tr>\n      <th>11</th>\n      <td>crowson</td>\n      <td>connie</td>\n      <td>part time</td>\n      <td></td>\n      <td>police officer</td>\n      <td>NaN</td>\n      <td>11</td>\n      <td>2016</td>\n      <td>3</td>\n      <td>24</td>\n      <td>Vivian CSD</td>\n      <td>2021</td>\n      <td>85841fafa1cadd91308a5ec97f3ba058</td>\n    </tr>\n    <tr>\n      <th>12</th>\n      <td>fisk</td>\n      <td>colton</td>\n      <td>part time</td>\n      <td></td>\n      <td>police officer</td>\n      <td>NaN</td>\n      <td>10</td>\n      <td>2017</td>\n      <td>7</td>\n      <td>11</td>\n      <td>Vivian CSD</td>\n      <td>2021</td>\n      <td>bd25113859a44a971da72b7f64db5ddc</td>\n    </tr>\n    <tr>\n      <th>13</th>\n      <td>ellis</td>\n      <td>ashley</td>\n      <td>full time</td>\n      <td></td>\n      <td>police officer</td>\n      <td>NaN</td>\n      <td>14</td>\n      <td>2018</td>\n      <td>7</td>\n      <td>10</td>\n      <td>Vivian CSD</td>\n      <td>2021</td>\n      <td>e2ebd06f3f41ea0254a1332e4baf0269</td>\n    </tr>\n    <tr>\n      <th>14</th>\n      <td>davis</td>\n      <td>devonta</td>\n      <td>part time</td>\n      <td></td>\n      <td>supervisor dispatcher</td>\n      <td>NaN</td>\n      <td>11</td>\n      <td>2018</td>\n      <td>9</td>\n      <td>10</td>\n      <td>Vivian CSD</td>\n      <td>2021</td>\n      <td>1fc28acf8a5363c44dbe1b4a0b562362</td>\n    </tr>\n    <tr>\n      <th>15</th>\n      <td>trenor</td>\n      <td>mark</td>\n      <td>part time</td>\n      <td></td>\n      <td>police officer</td>\n      <td>NaN</td>\n      <td>14</td>\n      <td>2018</td>\n      <td>7</td>\n      <td>10</td>\n      <td>Vivian CSD</td>\n      <td>2021</td>\n      <td>8df0f9aadbb26769ed521c243897c9d1</td>\n    </tr>\n    <tr>\n      <th>16</th>\n      <td>cummings</td>\n      <td>dameon</td>\n      <td>part time</td>\n      <td></td>\n      <td>police officer</td>\n      <td>NaN</td>\n      <td>11</td>\n      <td>2019</td>\n      <td>7</td>\n      <td>1</td>\n      <td>Vivian CSD</td>\n      <td>2021</td>\n      <td>ea9a8e20b80c15263fc708c3b89a8bb2</td>\n    </tr>\n    <tr>\n      <th>17</th>\n      <td>thomas</td>\n      <td>jamarcus</td>\n      <td>part time</td>\n      <td></td>\n      <td>police officer</td>\n      <td>NaN</td>\n      <td>11</td>\n      <td>2020</td>\n      <td>3</td>\n      <td>4</td>\n      <td>Vivian CSD</td>\n      <td>2021</td>\n      <td>d8027104f80e78a6f78c128bffb1aed9</td>\n    </tr>\n    <tr>\n      <th>18</th>\n      <td>littlejohn</td>\n      <td>austin</td>\n      <td>part time</td>\n      <td></td>\n      <td>police officer</td>\n      <td>NaN</td>\n      <td>9</td>\n      <td>2020</td>\n      <td>3</td>\n      <td>4</td>\n      <td>Vivian CSD</td>\n      <td>2021</td>\n      <td>11fd5b0476142e67896daf20c5bd6191</td>\n    </tr>\n    <tr>\n      <th>19</th>\n      <td>murff</td>\n      <td>bobby</td>\n      <td>part time</td>\n      <td></td>\n      <td>police officer</td>\n      <td>NaN</td>\n      <td>9</td>\n      <td>2020</td>\n      <td>3</td>\n      <td>4</td>\n      <td>Vivian CSD</td>\n      <td>2021</td>\n      <td>4743e907c07350a07a574ac82fff127a</td>\n    </tr>\n    <tr>\n      <th>20</th>\n      <td>oneal</td>\n      <td>recarrus</td>\n      <td>part time</td>\n      <td></td>\n      <td>police officer</td>\n      <td>NaN</td>\n      <td>13</td>\n      <td>2020</td>\n      <td>11</td>\n      <td>12</td>\n      <td>Vivian CSD</td>\n      <td>2021</td>\n      <td>1391153fbbc5c792e12ad2acc625cd39</td>\n    </tr>\n    <tr>\n      <th>21</th>\n      <td>williams</td>\n      <td>warren</td>\n      <td>part time</td>\n      <td></td>\n      <td>police officer</td>\n      <td>NaN</td>\n      <td>11</td>\n      <td>2020</td>\n      <td>12</td>\n      <td>16</td>\n      <td>Vivian CSD</td>\n      <td>2021</td>\n      <td>98687fab5652bc3561a34cc45fb4cbc5</td>\n    </tr>\n    <tr>\n      <th>22</th>\n      <td>stockman</td>\n      <td>kevin</td>\n      <td>part time</td>\n      <td></td>\n      <td>police officer</td>\n      <td>NaN</td>\n      <td>11</td>\n      <td>2020</td>\n      <td>12</td>\n      <td>7</td>\n      <td>Vivian CSD</td>\n      <td>2021</td>\n      <td>249acc97c0dd62d6b2a2def3ef17834c</td>\n    </tr>\n    <tr>\n      <th>23</th>\n      <td>franklin</td>\n      <td>shakia</td>\n      <td>part time</td>\n      <td></td>\n      <td>police officer</td>\n      <td>NaN</td>\n      <td>11</td>\n      <td>2020</td>\n      <td>12</td>\n      <td>7</td>\n      <td>Vivian CSD</td>\n      <td>2021</td>\n      <td>fdc3d463c5d302339ac071bb316bf421</td>\n    </tr>\n    <tr>\n      <th>24</th>\n      <td>brownings</td>\n      <td>peggy</td>\n      <td>part time</td>\n      <td></td>\n      <td>police officer</td>\n      <td>NaN</td>\n      <td>10</td>\n      <td>2004</td>\n      <td>3</td>\n      <td>17</td>\n      <td>Vivian CSD</td>\n      <td>2021</td>\n      <td>cdeab5f656c0c6779d3347a0da4b4b4c</td>\n    </tr>\n    <tr>\n      <th>25</th>\n      <td>patterson</td>\n      <td>labrisha</td>\n      <td>part time</td>\n      <td></td>\n      <td>dispatcher</td>\n      <td>NaN</td>\n      <td>9</td>\n      <td>2018</td>\n      <td>7</td>\n      <td>10</td>\n      <td>Vivian CSD</td>\n      <td>2021</td>\n      <td>7b3b2ca7e66b7ebc5590371124b5e4cd</td>\n    </tr>\n    <tr>\n      <th>26</th>\n      <td>brock</td>\n      <td>marc</td>\n      <td>part time</td>\n      <td></td>\n      <td>dispatcher</td>\n      <td>NaN</td>\n      <td>9</td>\n      <td>2019</td>\n      <td>1</td>\n      <td>9</td>\n      <td>Vivian CSD</td>\n      <td>2021</td>\n      <td>a977f13e108b9c0fa8c8c2865655519e</td>\n    </tr>\n    <tr>\n      <th>27</th>\n      <td>jackson</td>\n      <td>djuan</td>\n      <td>part time</td>\n      <td></td>\n      <td>dispatcher</td>\n      <td>NaN</td>\n      <td>9</td>\n      <td>2020</td>\n      <td>3</td>\n      <td>4</td>\n      <td>Vivian CSD</td>\n      <td>2021</td>\n      <td>11447328010722444cf958fa99692f43</td>\n    </tr>\n  </tbody>\n</table>\n</div>"
     },
     "metadata": {},
     "execution_count": 2
    }
   ],
   "source": [
    "df = clean()\n",
    "df"
   ]
  },
  {
   "cell_type": "code",
   "execution_count": null,
   "metadata": {},
   "outputs": [],
   "source": []
  }
 ]
}
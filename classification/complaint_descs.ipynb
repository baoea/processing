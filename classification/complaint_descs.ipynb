{
 "cells": [
  {
   "cell_type": "code",
   "execution_count": 23,
   "metadata": {},
   "outputs": [],
   "source": [
    "import pandas as pd"
   ]
  },
  {
   "cell_type": "code",
   "execution_count": 24,
   "metadata": {},
   "outputs": [],
   "source": [
    "def read_dfs():\n",
    "    dfa = pd.read_csv(\"../data/fuse/com_abbeville_pd.csv\")\n",
    "    dfa = dfa[[\"allegation_desc\", \"tracking_id_og\"]]\n",
    "    dfb = pd.read_csv(\"../data/fuse/com_baton_rouge_pd.csv\")\n",
    "    dfb = dfb[[\"allegation_desc\", \"tracking_id_og\"]]\n",
    "    dfc = pd.read_csv(\"../data/fuse/com_benton_pd.csv\")\n",
    "    dfc = dfc[[\"allegation_desc\"]]\n",
    "    dfd = pd.read_csv(\"../data/fuse/com_bossier_city_pd.csv\")\n",
    "    dfd = dfd[[\"allegation_desc\", \"tracking_id_og\"]]\n",
    "    dfe = pd.read_csv(\"../data/fuse/com_denham_springs_pd.csv\")\n",
    "    dfe = dfe[[\"allegation_desc\", \"tracking_id_og\"]]\n",
    "    dff = pd.read_csv(\"../data/fuse/com_new_orleans_so.csv\")\n",
    "    dff = dff[[\"allegation_desc\", \"tracking_id_og\"]]\n",
    "    dfg = pd.read_csv(\"../data/fuse/com_rayne_pd.csv\")\n",
    "    dfg = dfg[[\"allegation_desc\"]]\n",
    "    dfh = pd.read_csv(\"../data/clean/cprr_new_orleans_pd_pib_reports_2014_2020.csv\")\n",
    "    dfh = dfh[[\"allegation_desc\", \"tracking_id_og\"]]\n",
    "    dfg = pd.read_csv(\"../data/fuse/com_jefferson_davis_so.csv\")\n",
    "    dfg = dfg[[\"allegation_desc\", \"tracking_id_og\"]]\n",
    "\n",
    "    dfs = [dfa, dfb, dfc, dfd, dfe, dff, dfg, dfh]\n",
    "    df = pd.concat(dfs, axis=0)\n",
    "    return dfg"
   ]
  },
  {
   "cell_type": "code",
   "execution_count": 25,
   "metadata": {},
   "outputs": [
    {
     "ename": "KeyError",
     "evalue": "\"['tracking_id_og'] not in index\"",
     "output_type": "error",
     "traceback": [
      "\u001b[1;31m---------------------------------------------------------------------------\u001b[0m",
      "\u001b[1;31mKeyError\u001b[0m                                  Traceback (most recent call last)",
      "\u001b[1;32mc:\\Users\\PC\\Desktop\\launch\\processing\\classification\\complaint_descs.ipynb Cell 3\u001b[0m in \u001b[0;36m<cell line: 1>\u001b[1;34m()\u001b[0m\n\u001b[1;32m----> <a href='vscode-notebook-cell:/c%3A/Users/PC/Desktop/launch/processing/classification/complaint_descs.ipynb#W2sZmlsZQ%3D%3D?line=0'>1</a>\u001b[0m df \u001b[39m=\u001b[39m read_dfs()\n",
      "\u001b[1;32mc:\\Users\\PC\\Desktop\\launch\\processing\\classification\\complaint_descs.ipynb Cell 3\u001b[0m in \u001b[0;36mread_dfs\u001b[1;34m()\u001b[0m\n\u001b[0;32m     <a href='vscode-notebook-cell:/c%3A/Users/PC/Desktop/launch/processing/classification/complaint_descs.ipynb#W2sZmlsZQ%3D%3D?line=16'>17</a>\u001b[0m dfh \u001b[39m=\u001b[39m dfh[[\u001b[39m\"\u001b[39m\u001b[39mallegation_desc\u001b[39m\u001b[39m\"\u001b[39m, \u001b[39m\"\u001b[39m\u001b[39mtracking_id_og\u001b[39m\u001b[39m\"\u001b[39m]]\n\u001b[0;32m     <a href='vscode-notebook-cell:/c%3A/Users/PC/Desktop/launch/processing/classification/complaint_descs.ipynb#W2sZmlsZQ%3D%3D?line=17'>18</a>\u001b[0m dfg \u001b[39m=\u001b[39m pd\u001b[39m.\u001b[39mread_csv(\u001b[39m\"\u001b[39m\u001b[39m../data/fuse/com_jefferson_davis_so.csv\u001b[39m\u001b[39m\"\u001b[39m)\n\u001b[1;32m---> <a href='vscode-notebook-cell:/c%3A/Users/PC/Desktop/launch/processing/classification/complaint_descs.ipynb#W2sZmlsZQ%3D%3D?line=18'>19</a>\u001b[0m dfg \u001b[39m=\u001b[39m dfg[[\u001b[39m\"\u001b[39;49m\u001b[39mallegation_desc\u001b[39;49m\u001b[39m\"\u001b[39;49m, \u001b[39m\"\u001b[39;49m\u001b[39mtracking_id_og\u001b[39;49m\u001b[39m\"\u001b[39;49m]]\n\u001b[0;32m     <a href='vscode-notebook-cell:/c%3A/Users/PC/Desktop/launch/processing/classification/complaint_descs.ipynb#W2sZmlsZQ%3D%3D?line=20'>21</a>\u001b[0m dfs \u001b[39m=\u001b[39m [dfa, dfb, dfc, dfd, dfe, dff, dfg, dfh]\n\u001b[0;32m     <a href='vscode-notebook-cell:/c%3A/Users/PC/Desktop/launch/processing/classification/complaint_descs.ipynb#W2sZmlsZQ%3D%3D?line=21'>22</a>\u001b[0m df \u001b[39m=\u001b[39m pd\u001b[39m.\u001b[39mconcat(dfs, axis\u001b[39m=\u001b[39m\u001b[39m0\u001b[39m)\n",
      "File \u001b[1;32mc:\\Users\\PC\\AppData\\Local\\Programs\\Python\\Python39\\lib\\site-packages\\pandas\\core\\frame.py:3030\u001b[0m, in \u001b[0;36mDataFrame.__getitem__\u001b[1;34m(self, key)\u001b[0m\n\u001b[0;32m   3028\u001b[0m     \u001b[39mif\u001b[39;00m is_iterator(key):\n\u001b[0;32m   3029\u001b[0m         key \u001b[39m=\u001b[39m \u001b[39mlist\u001b[39m(key)\n\u001b[1;32m-> 3030\u001b[0m     indexer \u001b[39m=\u001b[39m \u001b[39mself\u001b[39;49m\u001b[39m.\u001b[39;49mloc\u001b[39m.\u001b[39;49m_get_listlike_indexer(key, axis\u001b[39m=\u001b[39;49m\u001b[39m1\u001b[39;49m, raise_missing\u001b[39m=\u001b[39;49m\u001b[39mTrue\u001b[39;49;00m)[\u001b[39m1\u001b[39m]\n\u001b[0;32m   3032\u001b[0m \u001b[39m# take() does not accept boolean indexers\u001b[39;00m\n\u001b[0;32m   3033\u001b[0m \u001b[39mif\u001b[39;00m \u001b[39mgetattr\u001b[39m(indexer, \u001b[39m\"\u001b[39m\u001b[39mdtype\u001b[39m\u001b[39m\"\u001b[39m, \u001b[39mNone\u001b[39;00m) \u001b[39m==\u001b[39m \u001b[39mbool\u001b[39m:\n",
      "File \u001b[1;32mc:\\Users\\PC\\AppData\\Local\\Programs\\Python\\Python39\\lib\\site-packages\\pandas\\core\\indexing.py:1266\u001b[0m, in \u001b[0;36m_LocIndexer._get_listlike_indexer\u001b[1;34m(self, key, axis, raise_missing)\u001b[0m\n\u001b[0;32m   1263\u001b[0m \u001b[39melse\u001b[39;00m:\n\u001b[0;32m   1264\u001b[0m     keyarr, indexer, new_indexer \u001b[39m=\u001b[39m ax\u001b[39m.\u001b[39m_reindex_non_unique(keyarr)\n\u001b[1;32m-> 1266\u001b[0m \u001b[39mself\u001b[39;49m\u001b[39m.\u001b[39;49m_validate_read_indexer(keyarr, indexer, axis, raise_missing\u001b[39m=\u001b[39;49mraise_missing)\n\u001b[0;32m   1267\u001b[0m \u001b[39mreturn\u001b[39;00m keyarr, indexer\n",
      "File \u001b[1;32mc:\\Users\\PC\\AppData\\Local\\Programs\\Python\\Python39\\lib\\site-packages\\pandas\\core\\indexing.py:1316\u001b[0m, in \u001b[0;36m_LocIndexer._validate_read_indexer\u001b[1;34m(self, key, indexer, axis, raise_missing)\u001b[0m\n\u001b[0;32m   1314\u001b[0m \u001b[39mif\u001b[39;00m raise_missing:\n\u001b[0;32m   1315\u001b[0m     not_found \u001b[39m=\u001b[39m \u001b[39mlist\u001b[39m(\u001b[39mset\u001b[39m(key) \u001b[39m-\u001b[39m \u001b[39mset\u001b[39m(ax))\n\u001b[1;32m-> 1316\u001b[0m     \u001b[39mraise\u001b[39;00m \u001b[39mKeyError\u001b[39;00m(\u001b[39mf\u001b[39m\u001b[39m\"\u001b[39m\u001b[39m{\u001b[39;00mnot_found\u001b[39m}\u001b[39;00m\u001b[39m not in index\u001b[39m\u001b[39m\"\u001b[39m)\n\u001b[0;32m   1318\u001b[0m not_found \u001b[39m=\u001b[39m key[missing_mask]\n\u001b[0;32m   1320\u001b[0m \u001b[39mwith\u001b[39;00m option_context(\u001b[39m\"\u001b[39m\u001b[39mdisplay.max_seq_items\u001b[39m\u001b[39m\"\u001b[39m, \u001b[39m10\u001b[39m, \u001b[39m\"\u001b[39m\u001b[39mdisplay.width\u001b[39m\u001b[39m\"\u001b[39m, \u001b[39m80\u001b[39m):\n",
      "\u001b[1;31mKeyError\u001b[0m: \"['tracking_id_og'] not in index\""
     ]
    }
   ],
   "source": [
    "df = read_dfs()"
   ]
  },
  {
   "cell_type": "code",
   "execution_count": null,
   "metadata": {},
   "outputs": [
    {
     "data": {
      "text/html": [
       "<div>\n",
       "<style scoped>\n",
       "    .dataframe tbody tr th:only-of-type {\n",
       "        vertical-align: middle;\n",
       "    }\n",
       "\n",
       "    .dataframe tbody tr th {\n",
       "        vertical-align: top;\n",
       "    }\n",
       "\n",
       "    .dataframe thead th {\n",
       "        text-align: right;\n",
       "    }\n",
       "</style>\n",
       "<table border=\"1\" class=\"dataframe\">\n",
       "  <thead>\n",
       "    <tr style=\"text-align: right;\">\n",
       "      <th></th>\n",
       "      <th>uid</th>\n",
       "      <th>allegation_uid</th>\n",
       "      <th>allegation</th>\n",
       "      <th>disposition</th>\n",
       "      <th>action</th>\n",
       "      <th>agency</th>\n",
       "      <th>allegation_desc</th>\n",
       "    </tr>\n",
       "  </thead>\n",
       "  <tbody>\n",
       "    <tr>\n",
       "      <th>0</th>\n",
       "      <td>ec804b0a0fe7980a4702d2018a5c6540</td>\n",
       "      <td>12d5d4209ecf7ada12b659330fcffce7</td>\n",
       "      <td>policy and procedures</td>\n",
       "      <td>sustained</td>\n",
       "      <td>termination</td>\n",
       "      <td>jefferson-davis-so</td>\n",
       "      <td>on july 3, 2019, there was an incident in the ...</td>\n",
       "    </tr>\n",
       "    <tr>\n",
       "      <th>1</th>\n",
       "      <td>0df36a9f2862a981fe77b3a6cc3f9f91</td>\n",
       "      <td>2c261d8e636eac5dcee4395e01e85dc2</td>\n",
       "      <td>NaN</td>\n",
       "      <td>NaN</td>\n",
       "      <td>NaN</td>\n",
       "      <td>jefferson-davis-so</td>\n",
       "      <td>on march 13, 2013, at approximately 10:00 a.m....</td>\n",
       "    </tr>\n",
       "    <tr>\n",
       "      <th>2</th>\n",
       "      <td>3f056981f00e505e7b716d97691dd68a</td>\n",
       "      <td>42b9bca5fdd467859e4ee9c4a2c0090d</td>\n",
       "      <td>inmate supervision and relations - general</td>\n",
       "      <td>sustained</td>\n",
       "      <td>termination</td>\n",
       "      <td>jefferson-davis-so</td>\n",
       "      <td>.  it was reported to me that you hand deliver...</td>\n",
       "    </tr>\n",
       "    <tr>\n",
       "      <th>3</th>\n",
       "      <td>d6f3950f060a41092406dc4fb508c95b</td>\n",
       "      <td>c176bba29aa7c59e07a40dfb66ae8fcd</td>\n",
       "      <td>policy and procedures</td>\n",
       "      <td>sustained</td>\n",
       "      <td>termination</td>\n",
       "      <td>jefferson-davis-so</td>\n",
       "      <td>on july 3, 2019, there was an incident in the ...</td>\n",
       "    </tr>\n",
       "  </tbody>\n",
       "</table>\n",
       "</div>"
      ],
      "text/plain": [
       "                                uid                    allegation_uid  \\\n",
       "0  ec804b0a0fe7980a4702d2018a5c6540  12d5d4209ecf7ada12b659330fcffce7   \n",
       "1  0df36a9f2862a981fe77b3a6cc3f9f91  2c261d8e636eac5dcee4395e01e85dc2   \n",
       "2  3f056981f00e505e7b716d97691dd68a  42b9bca5fdd467859e4ee9c4a2c0090d   \n",
       "3  d6f3950f060a41092406dc4fb508c95b  c176bba29aa7c59e07a40dfb66ae8fcd   \n",
       "\n",
       "                                   allegation disposition       action  \\\n",
       "0                       policy and procedures   sustained  termination   \n",
       "1                                         NaN         NaN          NaN   \n",
       "2  inmate supervision and relations - general   sustained  termination   \n",
       "3                       policy and procedures   sustained  termination   \n",
       "\n",
       "               agency                                    allegation_desc  \n",
       "0  jefferson-davis-so  on july 3, 2019, there was an incident in the ...  \n",
       "1  jefferson-davis-so  on march 13, 2013, at approximately 10:00 a.m....  \n",
       "2  jefferson-davis-so  .  it was reported to me that you hand deliver...  \n",
       "3  jefferson-davis-so  on july 3, 2019, there was an incident in the ...  "
      ]
     },
     "execution_count": 19,
     "metadata": {},
     "output_type": "execute_result"
    }
   ],
   "source": [
    "df"
   ]
  },
  {
   "cell_type": "code",
   "execution_count": null,
   "metadata": {},
   "outputs": [],
   "source": [
    "df = df.rename(columns={\"tracking_id_og\": \"meta\",})\n",
    "df = df[~((df.allegation_desc.fillna(\"\") == \"\"))]\n",
    "df = df.drop_duplicates(subset=[\"allegation_desc\"])"
   ]
  },
  {
   "cell_type": "code",
   "execution_count": null,
   "metadata": {},
   "outputs": [
    {
     "data": {
      "text/html": [
       "<div>\n",
       "<style scoped>\n",
       "    .dataframe tbody tr th:only-of-type {\n",
       "        vertical-align: middle;\n",
       "    }\n",
       "\n",
       "    .dataframe tbody tr th {\n",
       "        vertical-align: top;\n",
       "    }\n",
       "\n",
       "    .dataframe thead th {\n",
       "        text-align: right;\n",
       "    }\n",
       "</style>\n",
       "<table border=\"1\" class=\"dataframe\">\n",
       "  <thead>\n",
       "    <tr style=\"text-align: right;\">\n",
       "      <th></th>\n",
       "      <th>uid</th>\n",
       "      <th>allegation_uid</th>\n",
       "      <th>allegation</th>\n",
       "      <th>disposition</th>\n",
       "      <th>action</th>\n",
       "      <th>agency</th>\n",
       "      <th>allegation_desc</th>\n",
       "      <th>label</th>\n",
       "      <th>target</th>\n",
       "    </tr>\n",
       "  </thead>\n",
       "  <tbody>\n",
       "  </tbody>\n",
       "</table>\n",
       "</div>"
      ],
      "text/plain": [
       "Empty DataFrame\n",
       "Columns: [uid, allegation_uid, allegation, disposition, action, agency, allegation_desc, label, target]\n",
       "Index: []"
      ]
     },
     "execution_count": 21,
     "metadata": {},
     "output_type": "execute_result"
    }
   ],
   "source": [
    "df[\"label\"] = \"\"\n",
    "\n",
    "df[\"target\"] = \"\"\n",
    "\n",
    "df = df.astype(str)\n",
    "df.loc[df.index[:2000], 'target'] = 1\n",
    "df.loc[df.index[2000:2500], 'target'] = 0\n",
    "\n",
    "df.iloc[900:950]"
   ]
  },
  {
   "cell_type": "code",
   "execution_count": null,
   "metadata": {},
   "outputs": [],
   "source": [
    "\n",
    "df.to_csv(\"../data/training_data/allegation_desc.csv\", index=False)"
   ]
  }
 ],
 "metadata": {
  "kernelspec": {
   "display_name": "Python 3.9.11 64-bit",
   "language": "python",
   "name": "python3"
  },
  "language_info": {
   "codemirror_mode": {
    "name": "ipython",
    "version": 3
   },
   "file_extension": ".py",
   "mimetype": "text/x-python",
   "name": "python",
   "nbconvert_exporter": "python",
   "pygments_lexer": "ipython3",
   "version": "3.9.11"
  },
  "orig_nbformat": 4,
  "vscode": {
   "interpreter": {
    "hash": "f6c8f846148a3e4d140e6ddf63c190cff559dcf260a4a21539f0978f2b58638c"
   }
  }
 },
 "nbformat": 4,
 "nbformat_minor": 2
}

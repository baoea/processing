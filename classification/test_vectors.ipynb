{
 "cells": [
  {
   "cell_type": "code",
   "execution_count": 14,
   "metadata": {},
   "outputs": [],
   "source": [
    "import pandas as pd\n",
    "import json\n",
    "import spacy\n",
    "from sentence_transformers import SentenceTransformer\n",
    "import gensim\n",
    "import gensim.corpora as corpora\n",
    "from gensim.models import TfidfModel\n",
    "import numpy as np\n",
    "from top2vec import Top2Vec\n",
    "from lib.gensim import generate_corpus, generate_gensim_vecs"
   ]
  },
  {
   "cell_type": "code",
   "execution_count": 15,
   "metadata": {},
   "outputs": [],
   "source": [
    "training_data = pd.read_csv(\"../data/classification/training_data/training_data.csv\")\n",
    "test_data = pd.read_csv(\"../data/classification/test_data/test_data.csv\")"
   ]
  },
  {
   "cell_type": "code",
   "execution_count": 16,
   "metadata": {},
   "outputs": [
    {
     "name": "stderr",
     "output_type": "stream",
     "text": [
      "Batches: 100%|██████████| 15/15 [00:15<00:00,  1.02s/it]\n"
     ]
    }
   ],
   "source": [
    "bert_test_docs = test_data.allegation_desc\n",
    "bert_test_docs = json.loads(bert_test_docs.to_json(orient='records'))\n",
    "\n",
    "sentence_model = SentenceTransformer(\"all-MiniLM-L6-v2\")\n",
    "bert_test_vecs = sentence_model.encode(bert_test_docs, show_progress_bar=True)\n",
    "bert_test_vecs = np.array(bert_test_vecs)\n",
    "bert_test_vecs = pd.DataFrame(bert_test_vecs).to_csv(\"vectors/bert_test_vecs.csv\", index=False)"
   ]
  },
  {
   "cell_type": "code",
   "execution_count": 17,
   "metadata": {},
   "outputs": [],
   "source": [
    "gensim_model = gensim.models.ldamodel.LdaModel.load(\"models/gensim_train.model\")\n",
    "\n",
    "gensim_test_docs = test_data.allegation_desc\n",
    "\n",
    "test_corpus, id2word = generate_corpus(gensim_test_docs)\n",
    "\n",
    "gensim_test_vecs = generate_gensim_vecs(gensim_test_docs, gensim_model, test_corpus)\n",
    "gensim_test_vecs = np.array(gensim_test_vecs)\n",
    "gensim_test_vecs = pd.DataFrame(gensim_test_vecs).to_csv(\"vectors/gensim_test_vecs.csv\", index=False)"
   ]
  },
  {
   "cell_type": "code",
   "execution_count": 18,
   "metadata": {},
   "outputs": [
    {
     "name": "stderr",
     "output_type": "stream",
     "text": [
      "2023-02-09 15:33:04,998 - top2vec - INFO - Pre-processing documents for training\n",
      "2023-02-09 15:33:05,042 - top2vec - INFO - Creating joint document/word embedding\n",
      "2023-02-09 15:33:05,774 - top2vec - INFO - Creating lower dimension embedding of documents\n",
      "2023-02-09 15:33:09,423 - top2vec - INFO - Finding dense areas of documents\n",
      "2023-02-09 15:33:09,442 - top2vec - INFO - Finding topics\n"
     ]
    }
   ],
   "source": [
    "def convert_test_data_to_list(data):\n",
    "    t2v_test_docs = [x for x in data[\"allegation_desc\"]]\n",
    "    return t2v_test_docs\n",
    "\n",
    "t2v_test_docs = convert_test_data_to_list(test_data)\n",
    "t2v_test_model = Top2Vec(t2v_test_docs, embedding_model_path=\"models/top2vec_train_model\")\n",
    "t2v_test_vecs = t2v_test_model.document_vectors\n",
    "\n",
    "t2v_test_vecs = np.array(t2v_test_vecs)\n",
    "t2v_test_vecs = pd.DataFrame(t2v_test_vecs).to_csv(\"vectors/t2v_test_vecs.csv\", index=False)"
   ]
  }
 ],
 "metadata": {
  "kernelspec": {
   "display_name": "Python 3",
   "language": "python",
   "name": "python3"
  },
  "language_info": {
   "codemirror_mode": {
    "name": "ipython",
    "version": 3
   },
   "file_extension": ".py",
   "mimetype": "text/x-python",
   "name": "python",
   "nbconvert_exporter": "python",
   "pygments_lexer": "ipython3",
   "version": "3.9.11"
  },
  "orig_nbformat": 4,
  "vscode": {
   "interpreter": {
    "hash": "f6c8f846148a3e4d140e6ddf63c190cff559dcf260a4a21539f0978f2b58638c"
   }
  }
 },
 "nbformat": 4,
 "nbformat_minor": 2
}

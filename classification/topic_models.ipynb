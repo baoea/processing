{
 "cells": [
  {
   "cell_type": "code",
   "execution_count": 55,
   "metadata": {},
   "outputs": [
    {
     "name": "stderr",
     "output_type": "stream",
     "text": [
      "[nltk_data] Downloading package stopwords to\n",
      "[nltk_data]     C:\\Users\\PC\\AppData\\Roaming\\nltk_data...\n",
      "[nltk_data]   Package stopwords is already up-to-date!\n"
     ]
    }
   ],
   "source": [
    "import pandas as pd\n",
    "import sys\n",
    "from top2vec import Top2Vec\n",
    "from nltk.corpus import stopwords\n",
    "import nltk\n",
    "from nltk.tokenize import punkt\n",
    "from nltk.stem import WordNetLemmatizer\n",
    "from collections import Counter\n",
    "# import umap.umap_ as umap\n",
    "# import umap.plot\n",
    "nltk.download(\"stopwords\")\n",
    "import numpy as np\n",
    "import json\n",
    "import glob\n",
    "import gensim\n",
    "import gensim.corpora as corpora \n",
    "from gensim.utils import simple_preprocess\n",
    "from gensim.models import CoherenceModel\n",
    "from gensim.models import TfidfModel\n",
    "import spacy\n",
    "from nltk.corpus import stopwords\n",
    "import pyLDAvis\n",
    "import pyLDAvis.gensim_models\n",
    "from bertopic import BERTopic\n",
    "from sentence_transformers import SentenceTransformer\n",
    "from sklearn.model_selection import train_test_split\n",
    "from sklearn.feature_extraction.text import CountVectorizer"
   ]
  },
  {
   "cell_type": "code",
   "execution_count": 56,
   "metadata": {},
   "outputs": [],
   "source": [
    "def read_data():\n",
    "    df = pd.read_csv(\"../data/training_data/complaint_classification_labeled_data_1_31_2023.csv\")\n",
    "    return df"
   ]
  },
  {
   "cell_type": "code",
   "execution_count": 57,
   "metadata": {},
   "outputs": [],
   "source": [
    "df = read_data()"
   ]
  },
  {
   "cell_type": "code",
   "execution_count": 58,
   "metadata": {},
   "outputs": [],
   "source": [
    "def split_rows_with_multiple_labels(df):\n",
    "    df.loc[:, \"label\"] = (df.label.str.lower()\n",
    "                                  .str.strip()\n",
    "                                  .str.replace(r\"#\", \"/\", regex=False)\n",
    "                                  .str.replace(r\"internal misconduct\\/administrative infraction\",\n",
    "                                               \"internal misconduct; administrative infraction\", regex=True)\n",
    "    )\n",
    "    df = (\n",
    "        df.drop(\"label\", axis=1)\n",
    "        .join(\n",
    "            df[\"label\"]\n",
    "            .str.split(\"/\", expand=True)\n",
    "            .stack()\n",
    "            .reset_index(level=1, drop=True)\n",
    "            .rename(\"label\"),\n",
    "            how=\"outer\",\n",
    "        )\n",
    "        .reset_index(drop=True)\n",
    "    )\n",
    "    return df"
   ]
  },
  {
   "cell_type": "code",
   "execution_count": 59,
   "metadata": {},
   "outputs": [],
   "source": [
    "df = df.pipe(split_rows_with_multiple_labels)"
   ]
  },
  {
   "cell_type": "code",
   "execution_count": 60,
   "metadata": {},
   "outputs": [],
   "source": [
    "def extract_labels(df):\n",
    "    dfa = df\n",
    "    dfa.loc[:, \"target\"] = (df.label.str.lower()\n",
    "                                    .str.strip()\n",
    "                                    .str.replace(r\"internal misconduct; administrative infraction\", \"\", regex=False)\n",
    "    )\n",
    "    dfa = dfa[~((dfa.target.fillna(\"\") == \"\"))]\n",
    "    dfa.loc[:, \"target\"] = dfa.target.str.replace(r\"(.+)\", \"0\", regex=True)\n",
    "\n",
    "    extract_targets = df.label.str.lower().str.strip().str.extract(r\"(internal misconduct; administrative infraction)\")\n",
    "\n",
    "    df.loc[:, \"target\"] = extract_targets[0].str.replace(r\"(.+)\", \"1\", regex=True)\n",
    "    df = df[~((df.target.fillna(\"\") == \"\"))]\n",
    "\n",
    "    df = pd.concat([df, dfa], axis=0)\n",
    "    df = df.rename(columns={\"text\": \"allegation_desc\"})\n",
    "    return df"
   ]
  },
  {
   "cell_type": "code",
   "execution_count": 61,
   "metadata": {},
   "outputs": [],
   "source": [
    "df = df.pipe(extract_labels)"
   ]
  },
  {
   "cell_type": "code",
   "execution_count": 62,
   "metadata": {},
   "outputs": [],
   "source": [
    "def split_data(df):\n",
    "    training_data, test_data = train_test_split(df, test_size=0.3)\n",
    "    return training_data, test_data, df"
   ]
  },
  {
   "cell_type": "code",
   "execution_count": 63,
   "metadata": {},
   "outputs": [],
   "source": [
    "training_data, test_data, og_df = split_data(df)\n",
    "\n",
    "training_data.to_csv(\"training_data/training_data.csv\", index=False)\n",
    "test_data.to_csv(\"test_data/test_data.csv\", index=False)"
   ]
  },
  {
   "cell_type": "code",
   "execution_count": 64,
   "metadata": {},
   "outputs": [
    {
     "data": {
      "text/plain": [
       "0    941\n",
       "1    139\n",
       "Name: target, dtype: int64"
      ]
     },
     "execution_count": 64,
     "metadata": {},
     "output_type": "execute_result"
    }
   ],
   "source": [
    "training_data.target.value_counts()"
   ]
  },
  {
   "cell_type": "code",
   "execution_count": 65,
   "metadata": {},
   "outputs": [
    {
     "data": {
      "text/plain": [
       "0    379\n",
       "1     84\n",
       "Name: target, dtype: int64"
      ]
     },
     "execution_count": 65,
     "metadata": {},
     "output_type": "execute_result"
    }
   ],
   "source": [
    "test_data.target.value_counts()"
   ]
  },
  {
   "cell_type": "code",
   "execution_count": 66,
   "metadata": {},
   "outputs": [],
   "source": [
    "################################################### top2vec ##################################################################################"
   ]
  },
  {
   "cell_type": "code",
   "execution_count": 67,
   "metadata": {},
   "outputs": [],
   "source": [
    "def create_model(df):\n",
    "    # unique = [x for x in df[\"allegation_topic_uid\"]]\n",
    "    df = [x for x in df[\"allegation_desc\"]]\n",
    "\n",
    "    model = Top2Vec(\n",
    "        df,\n",
    "        ngram_vocab=True,\n",
    "        speed=\"deep-learn\",\n",
    "        use_embedding_model_tokenizer=True,\n",
    "        min_count=5,\n",
    "        # document_ids=unique\n",
    "    )\n",
    "    return model"
   ]
  },
  {
   "cell_type": "code",
   "execution_count": 68,
   "metadata": {},
   "outputs": [],
   "source": [
    "def model():\n",
    "    top2vec = create_model(og_df)\n",
    "    return top2vec"
   ]
  },
  {
   "cell_type": "code",
   "execution_count": 69,
   "metadata": {},
   "outputs": [
    {
     "name": "stderr",
     "output_type": "stream",
     "text": [
      "2023-02-02 11:12:54,725 - top2vec - INFO - Pre-processing documents for training\n",
      "2023-02-02 11:12:54,907 - top2vec - INFO - Creating joint document/word embedding\n",
      "2023-02-02 11:13:53,831 - top2vec - INFO - Creating lower dimension embedding of documents\n",
      "2023-02-02 11:14:04,948 - top2vec - INFO - Finding dense areas of documents\n",
      "2023-02-02 11:14:05,072 - top2vec - INFO - Finding topics\n"
     ]
    }
   ],
   "source": [
    "model = model()"
   ]
  },
  {
   "cell_type": "code",
   "execution_count": 70,
   "metadata": {},
   "outputs": [],
   "source": [
    "# if len(model.get_topic_sizes()) > 1:\n",
    "#     topic_words, word_scores, topic_nums = model.get_topics()\n",
    "#     for words, scores, num in zip(topic_words, word_scores, topic_nums):\n",
    "#         print(num)\n",
    "#         print(f\"Words: {words}\")"
   ]
  },
  {
   "cell_type": "code",
   "execution_count": 71,
   "metadata": {},
   "outputs": [],
   "source": [
    "# topic_sizes, top_nums = model.get_topic_sizes()\n",
    "# print(topic_sizes)\n",
    "# print(top_nums)"
   ]
  },
  {
   "cell_type": "code",
   "execution_count": 72,
   "metadata": {},
   "outputs": [],
   "source": [
    "# documents, document_scores, document_ids = model.search_documents_by_topic(topic_num=1, num_docs=10)\n",
    "\n",
    "# for doc, score, doc_id in list(zip(documents, document_scores, document_ids)):\n",
    "#     print(f\"Document: {doc_id}, Score: {score}\")\n",
    "#     print(\"--------------------\")\n",
    "#     print(doc)\n",
    "#     print(\"--------------------\")"
   ]
  },
  {
   "cell_type": "code",
   "execution_count": 73,
   "metadata": {},
   "outputs": [],
   "source": [
    "# documents, document_scores, document_ids = model.search_documents_by_topic(topic_num=0, num_docs=20)\n",
    "\n",
    "# ents = {(doc, score) for doc, score in list(zip(documents, document_scores))}\n",
    "# df = pd.DataFrame(ents, columns=[\"allegation_desc\", \"score\"])\n",
    "# print(df)\n",
    "# df.loc[:, \"topic\"] = \"9\""
   ]
  },
  {
   "cell_type": "code",
   "execution_count": 74,
   "metadata": {},
   "outputs": [],
   "source": [
    "model.save(\"models/top2vec_train_model\")"
   ]
  },
  {
   "cell_type": "code",
   "execution_count": 75,
   "metadata": {},
   "outputs": [],
   "source": [
    "# model.generate_topic_wordcloud(0)"
   ]
  },
  {
   "cell_type": "code",
   "execution_count": 76,
   "metadata": {},
   "outputs": [],
   "source": [
    "# model.topic_words"
   ]
  },
  {
   "cell_type": "code",
   "execution_count": 77,
   "metadata": {},
   "outputs": [],
   "source": [
    "# model.topic_words[0]"
   ]
  },
  {
   "cell_type": "code",
   "execution_count": 78,
   "metadata": {},
   "outputs": [],
   "source": [
    "# topic_words, word_scores, topic_nums = model.get_topics(0)\n",
    "# for words, scores, nums in zip(topic_words, word_scores, topic_nums):\n",
    "#   print(\"Topic Number: \",nums)\n",
    "#   print(f\"Words: {words}\")\n",
    "#   print(\"\\n\")"
   ]
  },
  {
   "cell_type": "code",
   "execution_count": 79,
   "metadata": {},
   "outputs": [],
   "source": [
    "# topic_words, word_scores, topic_scores, topic_nums = model.search_topics(keywords=[\"inmate\"], num_topics=0)\n",
    "# for word, w_score, topic, t_score in list(zip(topic_words, word_scores, topic_scores, topic_nums)):\n",
    "#     print(f\"Word: \\n{word}\")\n",
    "#     print(\"--------------------\")\n",
    "#     print(f\"Word Score \\n{w_score}\")\n",
    "#     print(\"--------------------\")\n",
    "#     print(f\"Topic Score: \\n{topic}\")\n",
    "#     print(\"--------------------\")\n",
    "#     print (f\"Topic # \\n{t_score}\")\n",
    "#     print(\"--------END---------\")"
   ]
  },
  {
   "cell_type": "code",
   "execution_count": 80,
   "metadata": {},
   "outputs": [],
   "source": [
    "# model = Top2Vec.load(\"models/noso\")\n",
    "\n",
    "# umap_args = {\n",
    "#     \"n_neighbors\": 15,\n",
    "#     \"n_components\": 2, # 5 -> 2 for plotting \n",
    "#     \"metric\": \"cosine\",\n",
    "# }\n",
    "# umap_model = umap.UMAP(**umap_args).fit(model.topic_vectors)\n",
    "# umap.plot.points(umap_model, labels=model.doc_top_reduced)"
   ]
  },
  {
   "cell_type": "code",
   "execution_count": 81,
   "metadata": {},
   "outputs": [],
   "source": [
    "############################################################ bertopic #################################################################"
   ]
  },
  {
   "cell_type": "code",
   "execution_count": 82,
   "metadata": {},
   "outputs": [],
   "source": [
    "docs = og_df.allegation_desc"
   ]
  },
  {
   "cell_type": "code",
   "execution_count": 83,
   "metadata": {},
   "outputs": [],
   "source": [
    "docs = json.loads(docs.to_json(orient='records'))"
   ]
  },
  {
   "cell_type": "code",
   "execution_count": 84,
   "metadata": {},
   "outputs": [
    {
     "name": "stderr",
     "output_type": "stream",
     "text": [
      "Batches: 100%|██████████| 49/49 [00:31<00:00,  1.58it/s]\n"
     ]
    }
   ],
   "source": [
    "sentence_model = SentenceTransformer(\"all-MiniLM-L6-v2\")\n",
    "embeddings = sentence_model.encode(docs, show_progress_bar=True)\n",
    "embeddings = np.array(embeddings)\n",
    "embeddings = pd.DataFrame(embeddings).to_csv(\"vecs/bert_train_vecs.csv\", index=False)"
   ]
  },
  {
   "cell_type": "code",
   "execution_count": null,
   "metadata": {},
   "outputs": [],
   "source": [
    "vectorizer_model = CountVectorizer(stop_words=\"english\")\n",
    "topic_model = BERTopic(embedding_model=\"all-MiniLM-L6-v2\", vectorizer_model=vectorizer_model, diversity=0.2)"
   ]
  },
  {
   "cell_type": "code",
   "execution_count": null,
   "metadata": {},
   "outputs": [],
   "source": [
    "topic, probs = topic_model.fit_transform(docs)"
   ]
  },
  {
   "cell_type": "code",
   "execution_count": null,
   "metadata": {},
   "outputs": [],
   "source": [
    "topic_model.save(\"models/bert_train_model\")"
   ]
  },
  {
   "cell_type": "code",
   "execution_count": null,
   "metadata": {},
   "outputs": [],
   "source": [
    "# topic_model.get_topic_info()"
   ]
  },
  {
   "cell_type": "code",
   "execution_count": null,
   "metadata": {},
   "outputs": [],
   "source": [
    "# topic_model.get_topic(3)"
   ]
  },
  {
   "cell_type": "code",
   "execution_count": null,
   "metadata": {},
   "outputs": [],
   "source": [
    "# topic_model.get_representative_docs(3)"
   ]
  },
  {
   "cell_type": "code",
   "execution_count": null,
   "metadata": {},
   "outputs": [],
   "source": [
    "# topic_model.visualize_topics()"
   ]
  },
  {
   "cell_type": "code",
   "execution_count": null,
   "metadata": {},
   "outputs": [],
   "source": [
    "# topic_model.visualize_barchart()"
   ]
  },
  {
   "cell_type": "code",
   "execution_count": null,
   "metadata": {},
   "outputs": [],
   "source": [
    "# df_bert = pd.DataFrame({\"topic\": topic, \"documents\": docs})"
   ]
  },
  {
   "cell_type": "code",
   "execution_count": null,
   "metadata": {},
   "outputs": [],
   "source": [
    "# df_bert"
   ]
  },
  {
   "cell_type": "code",
   "execution_count": null,
   "metadata": {},
   "outputs": [],
   "source": [
    "############################################################ gensim ##############################################################################"
   ]
  },
  {
   "cell_type": "code",
   "execution_count": null,
   "metadata": {},
   "outputs": [],
   "source": [
    "train_docs = og_df.allegation_desc"
   ]
  },
  {
   "cell_type": "code",
   "execution_count": null,
   "metadata": {},
   "outputs": [],
   "source": [
    "def lemmatization(descs, allowed_pos_tags=[\"NOUN\", \"ADJ\", \"VERB\", \"ADV\"]):\n",
    "    nlp = spacy.load(\"en_core_web_sm\", disable=[\"parser\", \"ner\"])\n",
    "    final_text = []\n",
    "    for desc in descs:\n",
    "        doc = nlp(desc)\n",
    "        new_text = \" \".join([token.lemma_ for token in doc if token.pos_ in allowed_pos_tags])\n",
    "        final_text.append(new_text)\n",
    "    return (final_text)"
   ]
  },
  {
   "cell_type": "code",
   "execution_count": null,
   "metadata": {},
   "outputs": [],
   "source": [
    "lemmatized_texts = lemmatization(docs)"
   ]
  },
  {
   "cell_type": "code",
   "execution_count": null,
   "metadata": {},
   "outputs": [],
   "source": [
    "def gen_words(texts):\n",
    "    final = []\n",
    "    for text in texts:\n",
    "        new = gensim.utils.simple_preprocess(text, deacc=True)\n",
    "        final.append(new)\n",
    "    return (final)"
   ]
  },
  {
   "cell_type": "code",
   "execution_count": null,
   "metadata": {},
   "outputs": [],
   "source": [
    "data_words = gen_words(lemmatized_texts)"
   ]
  },
  {
   "cell_type": "code",
   "execution_count": null,
   "metadata": {},
   "outputs": [],
   "source": [
    "bigram_phrases = gensim.models.Phrases(data_words, min_count=5, threshold=50)\n",
    "trigram_phrases = gensim.models.Phrases(bigram_phrases[data_words], threshold=50)\n",
    "\n",
    "bigram = gensim.models.phrases.Phraser(bigram_phrases)\n",
    "trigram = gensim.models.phrases.Phraser(trigram_phrases)\n",
    "\n",
    "def make_bigrams(texts):\n",
    "    return list(bigram[doc] for doc in texts)\n",
    "\n",
    "def make_trigrams(texts):\n",
    "    return list(trigram[bigram[doc]] for doc in texts)\n",
    "\n",
    "data_bigrams = make_bigrams(data_words)\n",
    "data_bigrams_trigrams = make_trigrams(data_words)"
   ]
  },
  {
   "cell_type": "code",
   "execution_count": null,
   "metadata": {},
   "outputs": [],
   "source": [
    "id2word = corpora.Dictionary(data_bigrams_trigrams)\n",
    "\n",
    "texts = data_bigrams_trigrams\n",
    "\n",
    "train_corpus = [id2word.doc2bow(text) for text in texts]\n",
    "# print(train_corpus[0][0:20])\n",
    "\n",
    "tdidf = TfidfModel(train_corpus, id2word=id2word)\n",
    "\n",
    "low_value = 0.03\n",
    "words = []\n",
    "words_missing_in_tdif = []\n",
    "\n",
    "for i in range(0, len(train_corpus)):\n",
    "    bow = train_corpus[i]\n",
    "    low_value_words = []\n",
    "    tdif_ids = [id for id, value in tdidf[bow]]\n",
    "    bow_ids = [id for id, value in bow]\n",
    "    low_value_words = [id for id, value in tdidf[bow] if value < low_value]\n",
    "    drops = low_value_words+words_missing_in_tdif\n",
    "    for item in drops:\n",
    "        words.append(id2word[item])\n",
    "    words_missing_in_tdif = [id for id in bow_ids if id not in tdif_ids]\n",
    "\n",
    "    new_bow = [b for b in bow if b[0] not in low_value_words and b[0] not in words_missing_in_tdif]\n",
    "    train_corpus[i] = new_bow"
   ]
  },
  {
   "cell_type": "code",
   "execution_count": null,
   "metadata": {},
   "outputs": [],
   "source": [
    "# id2word = corpora.Dictionary(data_words)\n",
    "\n",
    "# corpus = []\n",
    "# for text in data_words:\n",
    "#     new = id2word.doc2bow(text)\n",
    "#     corpus.append(new)"
   ]
  },
  {
   "cell_type": "code",
   "execution_count": null,
   "metadata": {},
   "outputs": [],
   "source": [
    "gensim_model = gensim.models.ldamodel.LdaModel(corpus=train_corpus,\n",
    "                                           id2word=id2word,\n",
    "                                           num_topics=20,\n",
    "                                           random_state=100,\n",
    "                                           update_every=1,\n",
    "                                           chunksize=100,\n",
    "                                           passes=10,\n",
    "                                        #    per_word_topics=True,\n",
    "                                           alpha=\"auto\")\n",
    "gensim_model.save('models/gensim_train.model')"
   ]
  },
  {
   "cell_type": "code",
   "execution_count": null,
   "metadata": {},
   "outputs": [],
   "source": [
    "# gensim_model.print_topics(5, num_words=20)[:10]"
   ]
  },
  {
   "cell_type": "code",
   "execution_count": null,
   "metadata": {},
   "outputs": [],
   "source": [
    "def gensim_vecs():\n",
    "    gensim_train_vecs = []\n",
    "    for i in range(len(train_docs)):\n",
    "        top_topics = gensim_model.get_document_topics(train_corpus[i], minimum_probability=0.0)\n",
    "        topic_vec = [top_topics[i][1] for i in range(20)]\n",
    "        topic_vec.extend([len(train_docs.iloc[i])]) \n",
    "        gensim_train_vecs.append(topic_vec)\n",
    "    return gensim_train_vecs"
   ]
  },
  {
   "cell_type": "code",
   "execution_count": null,
   "metadata": {},
   "outputs": [],
   "source": [
    "gensim_vecs = gensim_vecs()\n",
    "gensim_vecs = np.array(gensim_vecs)\n",
    "gensim_vecs = pd.DataFrame(gensim_vecs).to_csv(\"vecs/gensim_train_vecs.csv\", index=False)"
   ]
  },
  {
   "cell_type": "code",
   "execution_count": null,
   "metadata": {},
   "outputs": [],
   "source": [
    "# pyLDAvis.enable_notebook()\n",
    "# vis = pyLDAvis.gensim_models.prepare(gensim_model, train_corpus, id2word, mds=\"mmds\", R=30)\n",
    "# vis"
   ]
  }
 ],
 "metadata": {
  "kernelspec": {
   "display_name": "Python 3.9.11 64-bit",
   "language": "python",
   "name": "python3"
  },
  "language_info": {
   "codemirror_mode": {
    "name": "ipython",
    "version": 3
   },
   "file_extension": ".py",
   "mimetype": "text/x-python",
   "name": "python",
   "nbconvert_exporter": "python",
   "pygments_lexer": "ipython3",
   "version": "3.9.11 (tags/v3.9.11:2de452f, Mar 16 2022, 14:33:45) [MSC v.1929 64 bit (AMD64)]"
  },
  "orig_nbformat": 4,
  "vscode": {
   "interpreter": {
    "hash": "f6c8f846148a3e4d140e6ddf63c190cff559dcf260a4a21539f0978f2b58638c"
   }
  }
 },
 "nbformat": 4,
 "nbformat_minor": 2
}

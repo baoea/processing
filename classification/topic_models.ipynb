{
 "cells": [
  {
   "cell_type": "code",
   "execution_count": 1,
   "metadata": {},
   "outputs": [
    {
     "name": "stderr",
     "output_type": "stream",
     "text": [
      "[nltk_data] Downloading package stopwords to\n",
      "[nltk_data]     C:\\Users\\PC\\AppData\\Roaming\\nltk_data...\n",
      "[nltk_data]   Package stopwords is already up-to-date!\n",
      "c:\\Users\\PC\\AppData\\Local\\Programs\\Python\\Python39\\lib\\site-packages\\past\\builtins\\misc.py:45: DeprecationWarning: the imp module is deprecated in favour of importlib; see the module's documentation for alternative uses\n",
      "  from imp import reload\n",
      "c:\\Users\\PC\\AppData\\Local\\Programs\\Python\\Python39\\lib\\site-packages\\plotly\\graph_objs\\__init__.py:288: DeprecationWarning: distutils Version classes are deprecated. Use packaging.version instead.\n",
      "  if LooseVersion(ipywidgets.__version__) >= LooseVersion(\"7.0.0\"):\n",
      "c:\\Users\\PC\\AppData\\Local\\Programs\\Python\\Python39\\lib\\site-packages\\plotly\\graph_objs\\__init__.py:288: DeprecationWarning: distutils Version classes are deprecated. Use packaging.version instead.\n",
      "  if LooseVersion(ipywidgets.__version__) >= LooseVersion(\"7.0.0\"):\n",
      "c:\\Users\\PC\\AppData\\Local\\Programs\\Python\\Python39\\lib\\site-packages\\plotly\\graph_objs\\__init__.py:288: DeprecationWarning: distutils Version classes are deprecated. Use packaging.version instead.\n",
      "  if LooseVersion(ipywidgets.__version__) >= LooseVersion(\"7.0.0\"):\n",
      "c:\\Users\\PC\\AppData\\Local\\Programs\\Python\\Python39\\lib\\site-packages\\plotly\\graph_objs\\__init__.py:288: DeprecationWarning: distutils Version classes are deprecated. Use packaging.version instead.\n",
      "  if LooseVersion(ipywidgets.__version__) >= LooseVersion(\"7.0.0\"):\n",
      "c:\\Users\\PC\\AppData\\Local\\Programs\\Python\\Python39\\lib\\site-packages\\transformers\\image_utils.py:239: DeprecationWarning: BILINEAR is deprecated and will be removed in Pillow 10 (2023-07-01). Use Resampling.BILINEAR instead.\n",
      "  def resize(self, image, size, resample=PIL.Image.BILINEAR, default_to_square=True, max_size=None):\n",
      "c:\\Users\\PC\\AppData\\Local\\Programs\\Python\\Python39\\lib\\site-packages\\transformers\\image_utils.py:396: DeprecationWarning: NEAREST is deprecated and will be removed in Pillow 10 (2023-07-01). Use Resampling.NEAREST or Dither.NONE instead.\n",
      "  def rotate(self, image, angle, resample=PIL.Image.NEAREST, expand=0, center=None, translate=None, fillcolor=None):\n",
      "c:\\Users\\PC\\AppData\\Local\\Programs\\Python\\Python39\\lib\\site-packages\\bertopic\\_utils.py:4: DeprecationWarning: Please use `csr_matrix` from the `scipy.sparse` namespace, the `scipy.sparse.csr` namespace is deprecated.\n",
      "  from scipy.sparse.csr import csr_matrix\n"
     ]
    }
   ],
   "source": [
    "import pandas as pd\n",
    "import sys\n",
    "from top2vec import Top2Vec\n",
    "from nltk.corpus import stopwords\n",
    "import nltk\n",
    "from nltk.tokenize import punkt\n",
    "from nltk.stem import WordNetLemmatizer\n",
    "from collections import Counter\n",
    "# import umap.umap_ as umap\n",
    "# import umap.plot\n",
    "nltk.download(\"stopwords\")\n",
    "import numpy as np\n",
    "import json\n",
    "import glob\n",
    "import gensim\n",
    "import gensim.corpora as corpora \n",
    "from gensim.utils import simple_preprocess\n",
    "from gensim.models import CoherenceModel\n",
    "from gensim.models import TfidfModel\n",
    "import spacy\n",
    "from nltk.corpus import stopwords\n",
    "import pyLDAvis\n",
    "import pyLDAvis.gensim_models\n",
    "from bertopic import BERTopic"
   ]
  },
  {
   "cell_type": "code",
   "execution_count": 2,
   "metadata": {},
   "outputs": [],
   "source": [
    "\n",
    "# def explore_common_words(df):\n",
    "#     stop = stopwords.words(\"english\")\n",
    "#     df = df.astype(str)\n",
    "#     df[\"allegation_desc\"] = df[\"allegation_desc\"].apply(\n",
    "#         lambda x: \" \".join([word for word in x.split() if word not in (stop)])\n",
    "#     )\n",
    "\n",
    "#     df.loc[:, \"topics\"] = \" \".join(x for x in df[\"allegation_desc\"].astype(str))\n",
    "#     df = df[\"topics\"][0]\n",
    "#     df = df.split()\n",
    "\n",
    "#     counts = Counter(df)\n",
    "#     most_occur = counts.most_common(50)\n",
    "#     print(most_occur)\n",
    "#     return df"
   ]
  },
  {
   "cell_type": "code",
   "execution_count": 3,
   "metadata": {},
   "outputs": [],
   "source": [
    "# def preprocess_nopd(df):\n",
    "#     df.loc[:, \"allegation_desc\"] = df.allegation_desc.astype(str).fillna(\"\")\\\n",
    "#         .str.replace(r\"( ?officers? | ?complain?a?n?ts?\\.? ?| ?stated ?| ?accused ?| ?nan ?| ?police ?)\", \"\", regex=True)\n",
    "#     return df"
   ]
  },
  {
   "cell_type": "code",
   "execution_count": 4,
   "metadata": {},
   "outputs": [],
   "source": [
    "def split_data():\n",
    "    df = pd.read_csv(\"../data/training_data/complaint_classification_labeled_data_1_31_2023.csv\")\n",
    "\n",
    "    df.loc[:, \"label\"] = df.label.str.lower().str.strip().str.replace(r\"#\", \"/\", regex=False)\n",
    "    \n",
    "    dfa = df\n",
    "    dfa.loc[:, \"target\"] = df.label.str.lower().str.strip().str.replace(r\"internal misconduct\\/administrative infractions|harm to the general public safety\", \"\", regex=True)\n",
    "    dfa = dfa[~((dfa.target.fillna(\"\") == \"\"))]\n",
    "    dfa.loc[:, \"target\"] = dfa.target.str.replace(r\"(.+)\", \"0\", regex=True)\n",
    "\n",
    "    targets = df.label.str.lower().str.strip().str.extract(r\"(internal misconduct\\/administrative infractions|harm to the general public safety)\")\n",
    "\n",
    "    df.loc[:, \"target\"] = targets[0].str.replace(r\"(.+)\", \"1\", regex=True)\n",
    "    df = df[~((df.target.fillna(\"\") == \"\"))]\n",
    "\n",
    "    df = pd.concat([df, dfa], axis=0)\n",
    "\n",
    "    df = df.rename(columns={\"text\": \"allegation_desc\"})\n",
    "\n",
    "    df = df.astype(str)\n",
    "    df = df.sample(frac=1)\n",
    "    \n",
    "    training_data = df[:700]\n",
    "    test_data = df[700:]\n",
    "    return training_data, test_data, df"
   ]
  },
  {
   "cell_type": "code",
   "execution_count": 5,
   "metadata": {},
   "outputs": [],
   "source": [
    "training_data, test_data, df = split_data()\n",
    "training_data.to_csv(\"training_data/training_data.csv\")\n",
    "test_data.to_csv(\"test_data/test_data.csv\")"
   ]
  },
  {
   "cell_type": "code",
   "execution_count": 6,
   "metadata": {},
   "outputs": [],
   "source": [
    "################################################### top2vec ##################################################################################"
   ]
  },
  {
   "cell_type": "code",
   "execution_count": 7,
   "metadata": {},
   "outputs": [],
   "source": [
    "def create_model(df):\n",
    "    # unique = [x for x in df[\"allegation_topic_uid\"]]\n",
    "    df = [x for x in df[\"allegation_desc\"]]\n",
    "\n",
    "    model = Top2Vec(\n",
    "        df,\n",
    "        ngram_vocab=True,\n",
    "        speed=\"deep-learn\",\n",
    "        use_embedding_model_tokenizer=True,\n",
    "        min_count=5,\n",
    "        # document_ids=unique\n",
    "    )\n",
    "    return model"
   ]
  },
  {
   "cell_type": "code",
   "execution_count": 8,
   "metadata": {},
   "outputs": [],
   "source": [
    "def model():\n",
    "    top2vec = create_model(df)\n",
    "    return top2vec"
   ]
  },
  {
   "cell_type": "code",
   "execution_count": 9,
   "metadata": {},
   "outputs": [
    {
     "name": "stderr",
     "output_type": "stream",
     "text": [
      "2023-01-31 15:27:02,272 - top2vec - INFO - Pre-processing documents for training\n",
      "2023-01-31 15:27:02,354 - top2vec - INFO - Creating joint document/word embedding\n",
      "2023-01-31 15:27:27,615 - top2vec - INFO - Creating lower dimension embedding of documents\n",
      "2023-01-31 15:27:46,935 - top2vec - INFO - Finding dense areas of documents\n",
      "2023-01-31 15:27:46,995 - top2vec - INFO - Finding topics\n"
     ]
    }
   ],
   "source": [
    "model = model()"
   ]
  },
  {
   "cell_type": "code",
   "execution_count": 10,
   "metadata": {},
   "outputs": [
    {
     "name": "stdout",
     "output_type": "stream",
     "text": [
      "0\n",
      "Words: ['an' 'complainant' 'officer' 'not' 'with' 'accused' 'using' 'in' 'of'\n",
      " 'while' 'documented' 'phone' 'complaint' 'who' 'action' 'to'\n",
      " 'altercation' 'for' 'off' 'no' 'did' 'on' 'criminal' 'found' 'during'\n",
      " 'the' 'out' 'violation' 'her' 'proper' 'incident' 'taken' 'supervisor'\n",
      " 'parish' 'deputy' 'which' 'failed' 'was' 'assigned' 'has' 'arrested'\n",
      " 'that' 'sustained' 'about' 'it' 'his' 'contact' 'against' 'rude' 'by']\n",
      "1\n",
      "Words: ['body worn' 'activate' 'worn' 'uof' 'camera' 'end' 'body' 'uof incident'\n",
      " 'an inmate' 'inmates' 'battery' 'medical' 'shift' 'completing' 'during'\n",
      " 'spray' 'firearm' 'oc' 'tour' 'inmate' 'instructed' 'phone' 'assignment'\n",
      " 'revealed' 'tone' 'failed' 'language' 'opso' 'speaking' 'all' 'through'\n",
      " 'assigned' 'record' 'pursuit' 'appear' 'bwc' 'son' 'pod' 'handling'\n",
      " 'cell' 'using' 'girlfriend' 'zone' 'calls' 'before' 'observed' 'log'\n",
      " 'investigation' 'turned' 'due']\n",
      "2\n",
      "Words: ['failed to' 'complainant stated' 'rude and' 'stated that' 'late for'\n",
      " 'failing to' 'for duty' 'appear' 'sustained action' 'of failing'\n",
      " 'traffic stop' 'did not' 'lunch break' 'complainant states' 'take action'\n",
      " 'scheduled' 'unauthorized force' 'generated' 'was involved'\n",
      " 'professionalism' 'to complete' 'uof incident' 'public generated'\n",
      " 'an accident' 'had been' 'failing' 'arrested subject' 'action taken'\n",
      " 'after being' 'worked' 'instructions' 'complaint alleges' 'conduct'\n",
      " 'violated' 'form' 'call for' 'states' 'complainant alleged' 'allegations'\n",
      " 'his bwc' 'officers were' 'unprofessional manner' 'vehicle pursuit'\n",
      " 'order' 'court' 'neglect' 'other party' 'an inmate' 'off duty' 'lunch']\n"
     ]
    }
   ],
   "source": [
    "if len(model.get_topic_sizes()) > 1:\n",
    "    topic_words, word_scores, topic_nums = model.get_topics()\n",
    "    for words, scores, num in zip(topic_words, word_scores, topic_nums):\n",
    "        print(num)\n",
    "        print(f\"Words: {words}\")"
   ]
  },
  {
   "cell_type": "code",
   "execution_count": 11,
   "metadata": {},
   "outputs": [
    {
     "name": "stdout",
     "output_type": "stream",
     "text": [
      "[434 163 103]\n",
      "[0 1 2]\n"
     ]
    }
   ],
   "source": [
    "topic_sizes, top_nums = model.get_topic_sizes()\n",
    "print(topic_sizes)\n",
    "print(top_nums)"
   ]
  },
  {
   "cell_type": "code",
   "execution_count": 12,
   "metadata": {},
   "outputs": [
    {
     "name": "stdout",
     "output_type": "stream",
     "text": [
      "Document: 580, Score: 0.9481993913650513\n",
      "--------------------\n",
      "complainant alleged that officer failed to activate body worn camera.\n",
      "--------------------\n",
      "Document: 64, Score: 0.9368914365768433\n",
      "--------------------\n",
      "failed to activate her body worn camera during a uof incident # o000011821.\n",
      "--------------------\n",
      "Document: 619, Score: 0.9272060990333557\n",
      "--------------------\n",
      "failed to activate his body worn camera during a uof incident #o000011821.\n",
      "--------------------\n",
      "Document: 696, Score: 0.9164046049118042\n",
      "--------------------\n",
      "failed to activate body worn camera for uof incident failed to activate.\n",
      "--------------------\n",
      "Document: 248, Score: 0.9050106406211853\n",
      "--------------------\n",
      "accused failed to activate in-car camera.\n",
      "--------------------\n",
      "Document: 507, Score: 0.8490033149719238\n",
      "--------------------\n",
      "officer did not use a body worn camera.\n",
      "--------------------\n",
      "Document: 356, Score: 0.8458248376846313\n",
      "--------------------\n",
      "officer failed to activate his body-worn camera during a call for service\n",
      "--------------------\n",
      "Document: 413, Score: 0.7923513054847717\n",
      "--------------------\n",
      "officer was assisting the canine unit as the backup officer. officer pointed his departmental firearm at a subject. officer did not capture the incident on his body worn camera because he failed to reconnect his camera to the battery pack.\n",
      "--------------------\n",
      "Document: 681, Score: 0.791260302066803\n",
      "--------------------\n",
      "body word camera not categorized\n",
      "--------------------\n",
      "Document: 124, Score: 0.765800952911377\n",
      "--------------------\n",
      "accused of deactivating body worn camera and not including all details in report.\n",
      "--------------------\n"
     ]
    }
   ],
   "source": [
    "documents, document_scores, document_ids = model.search_documents_by_topic(topic_num=1, num_docs=10)\n",
    "\n",
    "for doc, score, doc_id in list(zip(documents, document_scores, document_ids)):\n",
    "    print(f\"Document: {doc_id}, Score: {score}\")\n",
    "    print(\"--------------------\")\n",
    "    print(doc)\n",
    "    print(\"--------------------\")"
   ]
  },
  {
   "cell_type": "code",
   "execution_count": 13,
   "metadata": {},
   "outputs": [
    {
     "name": "stdout",
     "output_type": "stream",
     "text": [
      "                                      allegation_desc     score\n",
      "0   accused of not completing her two cell inspect...  0.431933\n",
      "1   accused of not reporting to duty on sept 3, 20...  0.427347\n",
      "2   observed via camera a movie on watching a lapt...  0.462734\n",
      "3   complainant stated the officer should have bee...  0.447992\n",
      "4           handled by chief, no formal investigation  0.488557\n",
      "5    officers are accused of using unauthorized force  0.405262\n",
      "6   complainant alleged officers would not write a...  0.404368\n",
      "7          left his assigned area without permission.  0.540990\n",
      "8          left his assigned area without permission.  0.507012\n",
      "9   deputy scott did not active his bwc during his...  0.444346\n",
      "10  officer under his supervision that the officer...  0.427159\n",
      "11  sergeant johnson approved two sercurity patrol...  0.531714\n",
      "12  engaged in a physical altercation inside a nig...  0.412561\n",
      "13  officer made was alleged to have been unprofes...  0.507718\n",
      "14  complainant accused officer of discharging her...  0.414404\n",
      "15  complainant stated ovo unknown detectives were...  0.439558\n",
      "16                 abandoned her post, and went home.  0.510005\n",
      "17  officer indeed did not have any bwc recordings...  0.435833\n",
      "18            failed to conduct a proper body search.  0.509567\n",
      "19  deputy frazier was observed via cctv sitting a...  0.434040\n"
     ]
    }
   ],
   "source": [
    "documents, document_scores, document_ids = model.search_documents_by_topic(topic_num=0, num_docs=20)\n",
    "\n",
    "ents = {(doc, score) for doc, score in list(zip(documents, document_scores))}\n",
    "df = pd.DataFrame(ents, columns=[\"allegation_desc\", \"score\"])\n",
    "print(df)\n",
    "# df.loc[:, \"topic\"] = \"9\""
   ]
  },
  {
   "cell_type": "code",
   "execution_count": 14,
   "metadata": {},
   "outputs": [],
   "source": [
    "model.save(\"models/noso\")"
   ]
  },
  {
   "cell_type": "code",
   "execution_count": 15,
   "metadata": {},
   "outputs": [],
   "source": [
    "# model.generate_topic_wordcloud(0)"
   ]
  },
  {
   "cell_type": "code",
   "execution_count": 16,
   "metadata": {},
   "outputs": [
    {
     "data": {
      "text/plain": [
       "array([['an', 'complainant', 'officer', 'not', 'with', 'accused',\n",
       "        'using', 'in', 'of', 'while', 'documented', 'phone', 'complaint',\n",
       "        'who', 'action', 'to', 'altercation', 'for', 'off', 'no', 'did',\n",
       "        'on', 'criminal', 'found', 'during', 'the', 'out', 'violation',\n",
       "        'her', 'proper', 'incident', 'taken', 'supervisor', 'parish',\n",
       "        'deputy', 'which', 'failed', 'was', 'assigned', 'has',\n",
       "        'arrested', 'that', 'sustained', 'about', 'it', 'his', 'contact',\n",
       "        'against', 'rude', 'by'],\n",
       "       ['body worn', 'activate', 'worn', 'uof', 'camera', 'end', 'body',\n",
       "        'uof incident', 'an inmate', 'inmates', 'battery', 'medical',\n",
       "        'shift', 'completing', 'during', 'spray', 'firearm', 'oc',\n",
       "        'tour', 'inmate', 'instructed', 'phone', 'assignment',\n",
       "        'revealed', 'tone', 'failed', 'language', 'opso', 'speaking',\n",
       "        'all', 'through', 'assigned', 'record', 'pursuit', 'appear',\n",
       "        'bwc', 'son', 'pod', 'handling', 'cell', 'using', 'girlfriend',\n",
       "        'zone', 'calls', 'before', 'observed', 'log', 'investigation',\n",
       "        'turned', 'due'],\n",
       "       ['failed to', 'complainant stated', 'rude and', 'stated that',\n",
       "        'late for', 'failing to', 'for duty', 'appear',\n",
       "        'sustained action', 'of failing', 'traffic stop', 'did not',\n",
       "        'lunch break', 'complainant states', 'take action', 'scheduled',\n",
       "        'unauthorized force', 'generated', 'was involved',\n",
       "        'professionalism', 'to complete', 'uof incident',\n",
       "        'public generated', 'an accident', 'had been', 'failing',\n",
       "        'arrested subject', 'action taken', 'after being', 'worked',\n",
       "        'instructions', 'complaint alleges', 'conduct', 'violated',\n",
       "        'form', 'call for', 'states', 'complainant alleged',\n",
       "        'allegations', 'his bwc', 'officers were',\n",
       "        'unprofessional manner', 'vehicle pursuit', 'order', 'court',\n",
       "        'neglect', 'other party', 'an inmate', 'off duty', 'lunch']],\n",
       "      dtype='<U21')"
      ]
     },
     "execution_count": 16,
     "metadata": {},
     "output_type": "execute_result"
    }
   ],
   "source": [
    "model.topic_words"
   ]
  },
  {
   "cell_type": "code",
   "execution_count": 17,
   "metadata": {},
   "outputs": [],
   "source": [
    "# model.topic_words[0]"
   ]
  },
  {
   "cell_type": "code",
   "execution_count": 18,
   "metadata": {},
   "outputs": [],
   "source": [
    "topic_words, word_scores, topic_nums = model.get_topics(0)\n",
    "for words, scores, nums in zip(topic_words, word_scores, topic_nums):\n",
    "  print(\"Topic Number: \",nums)\n",
    "  print(f\"Words: {words}\")\n",
    "  print(\"\\n\")"
   ]
  },
  {
   "cell_type": "code",
   "execution_count": 19,
   "metadata": {},
   "outputs": [],
   "source": [
    "# topic_words, word_scores, topic_scores, topic_nums = model.search_topics(keywords=[\"inmate\"], num_topics=0)\n",
    "# for word, w_score, topic, t_score in list(zip(topic_words, word_scores, topic_scores, topic_nums)):\n",
    "#     print(f\"Word: \\n{word}\")\n",
    "#     print(\"--------------------\")\n",
    "#     print(f\"Word Score \\n{w_score}\")\n",
    "#     print(\"--------------------\")\n",
    "#     print(f\"Topic Score: \\n{topic}\")\n",
    "#     print(\"--------------------\")\n",
    "#     print (f\"Topic # \\n{t_score}\")\n",
    "#     print(\"--------END---------\")"
   ]
  },
  {
   "cell_type": "code",
   "execution_count": 20,
   "metadata": {},
   "outputs": [],
   "source": [
    "# model = Top2Vec.load(\"models/noso\")\n",
    "\n",
    "# umap_args = {\n",
    "#     \"n_neighbors\": 15,\n",
    "#     \"n_components\": 2, # 5 -> 2 for plotting \n",
    "#     \"metric\": \"cosine\",\n",
    "# }\n",
    "# umap_model = umap.UMAP(**umap_args).fit(model.topic_vectors)\n",
    "# umap.plot.points(umap_model, labels=model.doc_top_reduced)"
   ]
  },
  {
   "cell_type": "code",
   "execution_count": 21,
   "metadata": {},
   "outputs": [],
   "source": [
    "############################################################ bert #################################################################"
   ]
  },
  {
   "cell_type": "code",
   "execution_count": 22,
   "metadata": {},
   "outputs": [],
   "source": [
    "docs = df.allegation_desc"
   ]
  },
  {
   "cell_type": "code",
   "execution_count": 23,
   "metadata": {},
   "outputs": [],
   "source": [
    "docs = json.loads(docs.to_json(orient='records'))"
   ]
  },
  {
   "cell_type": "code",
   "execution_count": 24,
   "metadata": {},
   "outputs": [],
   "source": [
    "topic_model = BERTopic(embedding_model=\"all-MiniLM-L6-v2\")"
   ]
  },
  {
   "cell_type": "code",
   "execution_count": 25,
   "metadata": {},
   "outputs": [],
   "source": [
    "topic, probs = topic_model.fit_transform(docs)"
   ]
  },
  {
   "cell_type": "code",
   "execution_count": 26,
   "metadata": {},
   "outputs": [
    {
     "data": {
      "text/html": [
       "<div>\n",
       "<style scoped>\n",
       "    .dataframe tbody tr th:only-of-type {\n",
       "        vertical-align: middle;\n",
       "    }\n",
       "\n",
       "    .dataframe tbody tr th {\n",
       "        vertical-align: top;\n",
       "    }\n",
       "\n",
       "    .dataframe thead th {\n",
       "        text-align: right;\n",
       "    }\n",
       "</style>\n",
       "<table border=\"1\" class=\"dataframe\">\n",
       "  <thead>\n",
       "    <tr style=\"text-align: right;\">\n",
       "      <th></th>\n",
       "      <th>Topic</th>\n",
       "      <th>Count</th>\n",
       "      <th>Name</th>\n",
       "    </tr>\n",
       "  </thead>\n",
       "  <tbody>\n",
       "    <tr>\n",
       "      <th>0</th>\n",
       "      <td>0</td>\n",
       "      <td>684</td>\n",
       "      <td>0_the_to_complainant_officer</td>\n",
       "    </tr>\n",
       "    <tr>\n",
       "      <th>1</th>\n",
       "      <td>1</td>\n",
       "      <td>16</td>\n",
       "      <td>1_late_duty_for_reported</td>\n",
       "    </tr>\n",
       "  </tbody>\n",
       "</table>\n",
       "</div>"
      ],
      "text/plain": [
       "   Topic  Count                          Name\n",
       "0      0    684  0_the_to_complainant_officer\n",
       "1      1     16      1_late_duty_for_reported"
      ]
     },
     "execution_count": 26,
     "metadata": {},
     "output_type": "execute_result"
    }
   ],
   "source": [
    "topic_model.get_topic_info()"
   ]
  },
  {
   "cell_type": "code",
   "execution_count": 27,
   "metadata": {},
   "outputs": [],
   "source": [
    "# topic_model.get_topic(3)"
   ]
  },
  {
   "cell_type": "code",
   "execution_count": 28,
   "metadata": {},
   "outputs": [],
   "source": [
    "# topic_model.get_representative_docs(3)"
   ]
  },
  {
   "cell_type": "code",
   "execution_count": 29,
   "metadata": {},
   "outputs": [],
   "source": [
    "# topic_model.visualize_topics()"
   ]
  },
  {
   "cell_type": "code",
   "execution_count": 30,
   "metadata": {},
   "outputs": [],
   "source": [
    "# topic_model.visualize_barchart()"
   ]
  },
  {
   "cell_type": "code",
   "execution_count": 31,
   "metadata": {},
   "outputs": [],
   "source": [
    "df_bert = pd.DataFrame({\"topic\": topic, \"documents\": docs})"
   ]
  },
  {
   "cell_type": "code",
   "execution_count": 32,
   "metadata": {},
   "outputs": [
    {
     "data": {
      "text/html": [
       "<div>\n",
       "<style scoped>\n",
       "    .dataframe tbody tr th:only-of-type {\n",
       "        vertical-align: middle;\n",
       "    }\n",
       "\n",
       "    .dataframe tbody tr th {\n",
       "        vertical-align: top;\n",
       "    }\n",
       "\n",
       "    .dataframe thead th {\n",
       "        text-align: right;\n",
       "    }\n",
       "</style>\n",
       "<table border=\"1\" class=\"dataframe\">\n",
       "  <thead>\n",
       "    <tr style=\"text-align: right;\">\n",
       "      <th></th>\n",
       "      <th>topic</th>\n",
       "      <th>documents</th>\n",
       "    </tr>\n",
       "  </thead>\n",
       "  <tbody>\n",
       "    <tr>\n",
       "      <th>0</th>\n",
       "      <td>0</td>\n",
       "      <td>the complainant says there is a 2005 marked no...</td>\n",
       "    </tr>\n",
       "    <tr>\n",
       "      <th>1</th>\n",
       "      <td>0</td>\n",
       "      <td>failed to take necessary actions when escortin...</td>\n",
       "    </tr>\n",
       "    <tr>\n",
       "      <th>2</th>\n",
       "      <td>0</td>\n",
       "      <td>cmt reynolds accused of not retuning back to d...</td>\n",
       "    </tr>\n",
       "    <tr>\n",
       "      <th>3</th>\n",
       "      <td>0</td>\n",
       "      <td>complainant stated that he observed a mounted ...</td>\n",
       "    </tr>\n",
       "    <tr>\n",
       "      <th>4</th>\n",
       "      <td>0</td>\n",
       "      <td>officer failed to receive permission from an o...</td>\n",
       "    </tr>\n",
       "    <tr>\n",
       "      <th>...</th>\n",
       "      <td>...</td>\n",
       "      <td>...</td>\n",
       "    </tr>\n",
       "    <tr>\n",
       "      <th>695</th>\n",
       "      <td>0</td>\n",
       "      <td>complainant alleged the officer refused to tak...</td>\n",
       "    </tr>\n",
       "    <tr>\n",
       "      <th>696</th>\n",
       "      <td>0</td>\n",
       "      <td>failed to activate body worn camera for uof in...</td>\n",
       "    </tr>\n",
       "    <tr>\n",
       "      <th>697</th>\n",
       "      <td>0</td>\n",
       "      <td>accused was allegedly rude to complainant.</td>\n",
       "    </tr>\n",
       "    <tr>\n",
       "      <th>698</th>\n",
       "      <td>0</td>\n",
       "      <td>the officers were accused of not preparing an ...</td>\n",
       "    </tr>\n",
       "    <tr>\n",
       "      <th>699</th>\n",
       "      <td>0</td>\n",
       "      <td>complainant stated he and his wife had been in...</td>\n",
       "    </tr>\n",
       "  </tbody>\n",
       "</table>\n",
       "<p>700 rows × 2 columns</p>\n",
       "</div>"
      ],
      "text/plain": [
       "     topic                                          documents\n",
       "0        0  the complainant says there is a 2005 marked no...\n",
       "1        0  failed to take necessary actions when escortin...\n",
       "2        0  cmt reynolds accused of not retuning back to d...\n",
       "3        0  complainant stated that he observed a mounted ...\n",
       "4        0  officer failed to receive permission from an o...\n",
       "..     ...                                                ...\n",
       "695      0  complainant alleged the officer refused to tak...\n",
       "696      0  failed to activate body worn camera for uof in...\n",
       "697      0         accused was allegedly rude to complainant.\n",
       "698      0  the officers were accused of not preparing an ...\n",
       "699      0  complainant stated he and his wife had been in...\n",
       "\n",
       "[700 rows x 2 columns]"
      ]
     },
     "execution_count": 32,
     "metadata": {},
     "output_type": "execute_result"
    }
   ],
   "source": [
    "df_bert"
   ]
  },
  {
   "cell_type": "code",
   "execution_count": 33,
   "metadata": {},
   "outputs": [],
   "source": [
    "############################################################ gensim ##############################################################################"
   ]
  },
  {
   "cell_type": "code",
   "execution_count": 34,
   "metadata": {},
   "outputs": [],
   "source": [
    "train_docs = df.allegation_desc"
   ]
  },
  {
   "cell_type": "code",
   "execution_count": 35,
   "metadata": {},
   "outputs": [],
   "source": [
    "def lemmatization(descs, allowed_pos_tags=[\"NOUN\", \"ADJ\", \"VERB\", \"ADV\"]):\n",
    "    nlp = spacy.load(\"en_core_web_sm\", disable=[\"parser\", \"ner\"])\n",
    "    final_text = []\n",
    "    for desc in descs:\n",
    "        doc = nlp(desc)\n",
    "        new_text = \" \".join([token.lemma_ for token in doc if token.pos_ in allowed_pos_tags])\n",
    "        final_text.append(new_text)\n",
    "    return (final_text)"
   ]
  },
  {
   "cell_type": "code",
   "execution_count": 36,
   "metadata": {},
   "outputs": [],
   "source": [
    "lemmatized_texts = lemmatization(docs)"
   ]
  },
  {
   "cell_type": "code",
   "execution_count": 37,
   "metadata": {},
   "outputs": [],
   "source": [
    "def gen_words(texts):\n",
    "    final = []\n",
    "    for text in texts:\n",
    "        new = gensim.utils.simple_preprocess(text, deacc=True)\n",
    "        final.append(new)\n",
    "    return (final)"
   ]
  },
  {
   "cell_type": "code",
   "execution_count": 38,
   "metadata": {},
   "outputs": [],
   "source": [
    "data_words = gen_words(lemmatized_texts)"
   ]
  },
  {
   "cell_type": "code",
   "execution_count": 39,
   "metadata": {},
   "outputs": [],
   "source": [
    "bigram_phrases = gensim.models.Phrases(data_words, min_count=5, threshold=50)\n",
    "trigram_phrases = gensim.models.Phrases(bigram_phrases[data_words], threshold=50)\n",
    "\n",
    "bigram = gensim.models.phrases.Phraser(bigram_phrases)\n",
    "trigram = gensim.models.phrases.Phraser(trigram_phrases)\n",
    "\n",
    "def make_bigrams(texts):\n",
    "    return list(bigram[doc] for doc in texts)\n",
    "\n",
    "def make_trigrams(texts):\n",
    "    return list(trigram[bigram[doc]] for doc in texts)\n",
    "\n",
    "data_bigrams = make_bigrams(data_words)\n",
    "data_bigrams_trigrams = make_trigrams(data_words)\n",
    "\n",
    "# print(data_bigrams_trigrams[5])"
   ]
  },
  {
   "cell_type": "code",
   "execution_count": 40,
   "metadata": {},
   "outputs": [],
   "source": [
    "id2word = corpora.Dictionary(data_bigrams_trigrams)\n",
    "\n",
    "texts = data_bigrams_trigrams\n",
    "\n",
    "train_corpus = [id2word.doc2bow(text) for text in texts]\n",
    "# print(train_corpus[0][0:20])\n",
    "\n",
    "tdidf = TfidfModel(train_corpus, id2word=id2word)\n",
    "\n",
    "low_value = 0.03\n",
    "words = []\n",
    "words_missing_in_tdif = []\n",
    "\n",
    "for i in range(0, len(train_corpus)):\n",
    "    bow = train_corpus[i]\n",
    "    low_value_words = []\n",
    "    tdif_ids = [id for id, value in tdidf[bow]]\n",
    "    bow_ids = [id for id, value in bow]\n",
    "    low_value_words = [id for id, value in tdidf[bow] if value < low_value]\n",
    "    drops = low_value_words+words_missing_in_tdif\n",
    "    for item in drops:\n",
    "        words.append(id2word[item])\n",
    "    words_missing_in_tdif = [id for id in bow_ids if id not in tdif_ids]\n",
    "\n",
    "    new_bow = [b for b in bow if b[0] not in low_value_words and b[0] not in words_missing_in_tdif]\n",
    "    train_corpus[i] = new_bow"
   ]
  },
  {
   "cell_type": "code",
   "execution_count": 41,
   "metadata": {},
   "outputs": [],
   "source": [
    "# id2word = corpora.Dictionary(data_words)\n",
    "\n",
    "# corpus = []\n",
    "# for text in data_words:\n",
    "#     new = id2word.doc2bow(text)\n",
    "#     corpus.append(new)"
   ]
  },
  {
   "cell_type": "code",
   "execution_count": 42,
   "metadata": {},
   "outputs": [],
   "source": [
    "lda_model = gensim.models.ldamodel.LdaModel(corpus=train_corpus,\n",
    "                                           id2word=id2word,\n",
    "                                           num_topics=20,\n",
    "                                           random_state=100,\n",
    "                                           update_every=1,\n",
    "                                           chunksize=100,\n",
    "                                           passes=10,\n",
    "                                        #    per_word_topics=True,\n",
    "                                           alpha=\"auto\")\n",
    "lda_model.save('models/lda_train.model')"
   ]
  },
  {
   "cell_type": "code",
   "execution_count": 43,
   "metadata": {},
   "outputs": [],
   "source": [
    "# lda_model.print_topics(5, num_words=20)[:10]\n"
   ]
  },
  {
   "cell_type": "code",
   "execution_count": 44,
   "metadata": {},
   "outputs": [],
   "source": [
    "def lda_vecs():\n",
    "    lda_train_vecs = []\n",
    "    for i in range(len(train_docs)):\n",
    "        top_topics = lda_model.get_document_topics(train_corpus[i], minimum_probability=0.0)\n",
    "        topic_vec = [top_topics[i][1] for i in range(20)]\n",
    "        topic_vec.extend([len(train_docs.iloc[i])]) # length review\n",
    "        lda_train_vecs.append(topic_vec)\n",
    "    return lda_train_vecs"
   ]
  },
  {
   "cell_type": "code",
   "execution_count": 45,
   "metadata": {},
   "outputs": [],
   "source": [
    "lda_vecs = lda_vecs()\n",
    "lda_vecs = np.array(lda_vecs)\n",
    "lda_vecs = pd.DataFrame(lda_vecs).to_csv(\"vecs/lda_vecs.csv\")"
   ]
  },
  {
   "cell_type": "code",
   "execution_count": 46,
   "metadata": {},
   "outputs": [],
   "source": [
    "lda_vecs"
   ]
  },
  {
   "cell_type": "code",
   "execution_count": 47,
   "metadata": {},
   "outputs": [],
   "source": [
    "lda_vecs"
   ]
  },
  {
   "cell_type": "code",
   "execution_count": 48,
   "metadata": {},
   "outputs": [],
   "source": [
    "# test_doc = train_corpus[-1]\n",
    "\n",
    "# vector = lda_model[test_doc]\n",
    "\n",
    "# def Sort(sub_li):\n",
    "#     sub_li.sort(key = lambda x: x[1])\n",
    "#     sub_li.reverse()\n",
    "#     return (sub_li)\n",
    "\n",
    "# new_vector = Sort(vector)\n",
    "# print(new_vector)"
   ]
  },
  {
   "cell_type": "code",
   "execution_count": 49,
   "metadata": {},
   "outputs": [
    {
     "data": {
      "text/html": [
       "\n",
       "<link rel=\"stylesheet\" type=\"text/css\" href=\"https://cdn.jsdelivr.net/gh/bmabey/pyLDAvis@3.3.1/pyLDAvis/js/ldavis.v1.0.0.css\">\n",
       "\n",
       "\n",
       "<div id=\"ldavis_el920829624788784965699660803\"></div>\n",
       "<script type=\"text/javascript\">\n",
       "\n",
       "var ldavis_el920829624788784965699660803_data = {\"mdsDat\": {\"x\": [-0.36403662655725805, -0.446583824594569, -0.21039188494648886, -0.04305300845536808, 0.1010954304948109, -0.18408324716903585, -0.26572202996255695, -0.2002858833130534, 0.10952411148340141, 0.2763120034782759, 0.36561127565489127, 0.33975818702550065, -0.1845308843108819, 0.01245134085635068, 0.0011573540886886668, 0.1513999206850703, 0.22102903960452377, 0.1685257948494058, 0.0888142437663106, 0.06300868732198213], \"y\": [-0.2675567787392656, -0.04606288982916656, -0.3051658259192537, -0.363201711930959, 0.3755936131848298, 0.3241221107806747, 0.1753939772083213, -0.053159426165422664, -0.27019814620199234, -0.25099547424364005, -0.0767936453401252, 0.18755775639061892, 0.10544994427461794, -0.1450599874342936, 0.28010450806429393, 0.18627243895256482, -0.021820303273886746, 0.08311283177557234, 0.024209766292402925, 0.05819724215410887], \"topics\": [1, 2, 3, 4, 5, 6, 7, 8, 9, 10, 11, 12, 13, 14, 15, 16, 17, 18, 19, 20], \"cluster\": [1, 1, 1, 1, 1, 1, 1, 1, 1, 1, 1, 1, 1, 1, 1, 1, 1, 1, 1, 1], \"Freq\": [21.3930890742013, 20.093396777161264, 8.468253100089632, 7.6660511196916135, 4.834614922196235, 4.374041668369167, 3.896638511585157, 3.4754572973702538, 3.444722564544455, 3.4153278612394664, 3.235810306351192, 3.233860582085339, 2.937243745308061, 2.5251576185078712, 2.3857139554177147, 1.4613530428970922, 1.3756864812678393, 0.944296442092948, 0.44876811487433843, 0.39051681474906275]}, \"tinfo\": {\"Term\": [\"accuse\", \"state\", \"fail\", \"officer\", \"complainant\", \"report\", \"allege\", \"duty\", \"take\", \"arrest\", \"vehicle\", \"subject\", \"unprofessional\", \"supervisor\", \"involve\", \"complaint\", \"inmate\", \"action\", \"use\", \"accident\", \"document\", \"observe\", \"police\", \"call\", \"female\", \"make\", \"go\", \"incident\", \"rude\", \"leave\", \"want\", \"feel\", \"get\", \"property\", \"summon\", \"follow\", \"talk\", \"threaten\", \"male\", \"later\", \"rape\", \"say\", \"walk\", \"day\", \"pay\", \"detective\", \"attack\", \"commander\", \"black\", \"state\", \"return\", \"tell\", \"identify\", \"tone\", \"hear\", \"just\", \"man\", \"police\", \"white\", \"sleep\", \"house\", \"respond\", \"call\", \"arrest\", \"complainant\", \"officer\", \"number\", \"leave\", \"call_service\", \"take\", \"accuse\", \"complete\", \"allegation\", \"prior\", \"policy\", \"hour\", \"department\", \"wish\", \"address\", \"present\", \"regard\", \"discharge\", \"incident\", \"theft\", \"lunch\", \"misconduct\", \"frame\", \"report\", \"uof\", \"write\", \"fail\", \"complain\", \"approval\", \"round\", \"webmail\", \"explain\", \"officer\", \"occur\", \"time\", \"deployment\", \"complainant\", \"supervisor\", \"driver\", \"issue\", \"neighbor\", \"daughter\", \"contact\", \"never\", \"pull\", \"request\", \"advise\", \"light\", \"front\", \"language\", \"license\", \"case\", \"rear\", \"cause\", \"change\", \"dog\", \"third\", \"siren\", \"citation\", \"lot\", \"status\", \"accord\", \"lane\", \"peace\", \"harass\", \"driving\", \"bond\", \"receive\", \"vehicle\", \"stop\", \"traffic\", \"complainant\", \"officer\", \"state\", \"police\", \"check\", \"write\", \"tell\", \"use\", \"investigation\", \"nopd\", \"ask\", \"information\", \"several\", \"turn\", \"parking\", \"park\", \"child\", \"ticket\", \"name\", \"individual\", \"remove\", \"item\", \"there\", \"badge\", \"parent\", \"unit\", \"give\", \"loud\", \"outside\", \"road\", \"profanity\", \"preliminary\", \"pedestrian\", \"further\", \"illegally\", \"also\", \"mark\", \"pat\", \"allege\", \"vehicle\", \"refuse\", \"complainant\", \"officer\", \"observe\", \"time\", \"appear\", \"state\", \"inmate\", \"come\", \"evidence\", \"employee\", \"become\", \"perform\", \"sergeant\", \"criminal\", \"inappropriate\", \"office\", \"answer\", \"log\", \"medical\", \"listen\", \"supervise\", \"opso\", \"tour\", \"schedule\", \"dispatch\", \"permission\", \"possible\", \"supervisory\", \"technician\", \"angry\", \"staff\", \"murder\", \"dorm\", \"radio\", \"necessary\", \"escort\", \"leave\", \"notify\", \"time\", \"call\", \"supervisor\", \"receive\", \"fail\", \"annual\", \"involve\", \"accident\", \"then\", \"believe\", \"go\", \"assign\", \"hand\", \"know\", \"let\", \"alleged\", \"determine\", \"way\", \"sit\", \"central\", \"grab\", \"home\", \"fault\", \"claim\", \"reply\", \"profile\", \"shirt\", \"division\", \"snatch\", \"annual\", \"deem\", \"inequity\", \"manage\", \"staffing\", \"grandson\", \"minute\", \"incident\", \"give\", \"citation\", \"vehicle\", \"report\", \"complainant\", \"police\", \"document\", \"rude\", \"attempt\", \"area\", \"run\", \"phone\", \"hit\", \"family\", \"member\", \"parish\", \"operation\", \"gra\", \"stand\", \"friend\", \"mardi\", \"traffic\", \"barricade\", \"check\", \"minor\", \"create\", \"violation\", \"stop\", \"erect\", \"insubordinate\", \"separate\", \"surrounding\", \"unfamiliar\", \"unforgiving\", \"careless\", \"cite\", \"also\", \"parade\", \"return\", \"officer\", \"complainant\", \"incident\", \"report\", \"work\", \"late\", \"court\", \"detail\", \"violate\", \"false\", \"activate\", \"system\", \"record\", \"away\", \"problem\", \"bwc\", \"subpoena\", \"card\", \"appear\", \"allotted\", \"minute\", \"stay\", \"accept\", \"notify\", \"administrator\", \"entirety\", \"agency\", \"fail\", \"occasion\", \"admonish\", \"harrison\", \"unapproved\", \"notification\", \"absence\", \"hour\", \"report\", \"incident\", \"officer\", \"warrant\", \"file\", \"subject\", \"arrive\", \"place\", \"search\", \"store\", \"person\", \"head\", \"adult\", \"roll\", \"secure\", \"commit\", \"ground\", \"include\", \"eye\", \"trial\", \"foot\", \"add\", \"entertainment\", \"venue\", \"compartment\", \"testify\", \"glove\", \"chair\", \"disintereste\", \"slouch\", \"testifying\", \"arrest\", \"time\", \"vehicle\", \"witness\", \"officer\", \"action\", \"scene\", \"warrant\", \"review\", \"physical_altercation\", \"deputy\", \"threat\", \"witness\", \"sick\", \"application\", \"far\", \"take\", \"picture\", \"civilian\", \"refuse\", \"nephew\", \"shut\", \"dugar\", \"clothing\", \"tall\", \"complain\", \"respond\", \"onerate\", \"neglect\", \"confiscate\", \"destroy\", \"intimidate\", \"instruction\", \"notice\", \"argumentative\", \"allow\", \"strike\", \"officer\", \"unprofessional\", \"speak\", \"manner\", \"cell\", \"begin\", \"hospital\", \"rank\", \"end\", \"shift\", \"miss\", \"observe\", \"inspection\", \"relocate\", \"conduct\", \"inventory\", \"bwc\", \"son\", \"allow\", \"aggressive\", \"council\", \"mushatt\", \"hrs\", \"mph\", \"sheet\", \"active\", \"deploy\", \"hair\", \"girlfriend\", \"professional\", \"wait\", \"woman\", \"play\", \"drive\", \"church\", \"accuse\", \"complete\", \"officer\", \"complaint\", \"female\", \"back\", \"camera\", \"residence\", \"interview\", \"locate\", \"pib\", \"do\", \"activate_body_wear\", \"so\", \"lunch_break\", \"interaction\", \"read\", \"disrespectful\", \"burglary\", \"thoroughly\", \"co\", \"cmt\", \"retune\", \"reynold\", \"worker\", \"reveal\", \"renovation\", \"vacant\", \"belittle\", \"favor\", \"promote\", \"rant\", \"rather\", \"take\", \"house\", \"duty\", \"instruct\", \"order\", \"disturbance\", \"supervisor\", \"nofty\", \"unable\", \"call_service\", \"solution\", \"memorandum\", \"report\", \"call\", \"fail\", \"allegation_neglect\", \"form\", \"assignment\", \"occasion\", \"multiple\", \"repot\", \"llegation\", \"operator\", \"facility\", \"submit\", \"cit\", \"emergency\", \"harrison\", \"unapproved\", \"signal\", \"directive\", \"zone\", \"show\", \"professionalism\", \"make\", \"victim\", \"boyfriend\", \"domestic\", \"crime\", \"send\", \"assist\", \"happen\", \"instead\", \"appropriate\", \"sex\", \"wss\", \"allege\", \"ex\", \"sure\", \"comment\", \"medium\", \"many\", \"social\", \"public_generate\", \"battery\", \"correctly\", \"show\", \"post\", \"approve\", \"big\", \"lip\", \"tow\", \"harassment\", \"relay\", \"continue\", \"robbery\", \"officer\", \"video\", \"incident\", \"operator\", \"arrest\", \"scene\", \"accuse\", \"force\", \"unauthorized\", \"file\", \"sustain\", \"charge\", \"proper\", \"body\", \"however\", \"timely\", \"list\", \"use\", \"wrong\", \"supervision\", \"serve\", \"control\", \"investigator\", \"improper\", \"conduct\", \"deactivation\", \"handcuffing\", \"brother\", \"excessive\", \"pursuit\", \"improperly\", \"unjustifable\", \"push\", \"anonymously\", \"homeless\", \"ilegation\", \"directive\", \"handcuff\", \"incident\", \"complainant\", \"officer\", \"statement\", \"inform\", \"more\", \"training\", \"open\", \"door\", \"other\", \"attend\", \"class\", \"owner\", \"business\", \"situation\", \"leave\", \"regard\", \"remain\", \"church\", \"neglect\", \"look\", \"need\", \"pod\", \"authorization\", \"think\", \"facility\", \"people\", \"gun\", \"strike\", \"attention\", \"foyer\", \"gain\", \"inebriate\", \"verbal_altercation\", \"wait\", \"push\", \"curse\", \"again\", \"properly\", \"handle\", \"domestic_violence\", \"investigate\", \"quiet\", \"disrespect\", \"right\", \"break\", \"matter\", \"customer\", \"neck\", \"situation\", \"clark\", \"po\", \"bad\", \"by\", \"scream\", \"correctly\", \"cae\", \"neglectful\", \"church\", \"ed\", \"professionalism\", \"secondary\", \"allegation_neglect\", \"bomb\", \"inappropriately\", \"accordance\", \"unknown\", \"activity\", \"cash\", \"need\", \"pursuit\", \"employment\", \"put\", \"incident\", \"money\", \"party\", \"side\", \"act\", \"only\", \"hearing\", \"district\", \"handgun\", \"copy\", \"ip\", \"relation\", \"loaded\", \"other\", \"judge\", \"woman\", \"rd\", \"battery\", \"people\", \"dispute\", \"ownership\", \"summons\", \"altercation\", \"push\", \"personal\", \"help\", \"suppose\", \"operator\", \"relationship\", \"french\", \"quarter\", \"outstanding\", \"damage\", \"put\", \"file\", \"assignment\", \"allegedly\", \"sexual\", \"base\", \"merit\", \"download\", \"pornographic\", \"computer\", \"material\", \"photo\", \"departmental\", \"assault\", \"identification\", \"profane\", \"bomb\", \"accordance\", \"show\", \"cut\", \"fall\", \"mope\", \"offer\", \"untruthful\", \"face\", \"expose\", \"cop\", \"enforcement\", \"occupant\", \"section\", \"special\", \"administrative\", \"recommendation\", \"ipm\", \"involved\", \"citizen\", \"crash\", \"injury\", \"knife\", \"moment\", \"comment\", \"battery\", \"chase\", \"neglect_duty\", \"obtain\", \"city\", \"attire\", \"too\", \"public_generate\", \"bum\", \"french\", \"quarter\", \"hat\", \"wear\", \"vietim\", \"people\", \"gun\", \"many\", \"approve\", \"council\", \"footage\", \"web\", \"video\", \"bone\", \"mediation\", \"tight\", \"show\", \"aggressive\", \"mail\", \"accurate\", \"maintain\", \"tracking\", \"assessor\", \"school\", \"subordinate\", \"allow\", \"handcuff\", \"submit\"], \"Freq\": [367.0, 360.0, 234.0, 772.0, 639.0, 146.0, 73.0, 58.0, 71.0, 99.0, 117.0, 50.0, 45.0, 52.0, 44.0, 39.0, 44.0, 38.0, 37.0, 39.0, 36.0, 39.0, 112.0, 77.0, 31.0, 29.0, 36.0, 92.0, 32.0, 40.0, 38.419140501690805, 37.36290567324626, 34.16246546299173, 26.456375003708708, 24.73811850950399, 24.162031300254537, 23.08568741382288, 18.811315177725362, 17.929701781166134, 14.106132860434993, 13.467648978202169, 43.171623220497516, 11.169921686429227, 9.707977330156806, 9.502930004418893, 9.329006921997802, 8.746486381220539, 8.727080782571793, 7.114966593764711, 320.393468284188, 25.297585001504743, 59.893345647807166, 6.594621298091916, 6.175294807357228, 5.29022713588712, 4.96418011990005, 4.480780917467837, 93.92006560128337, 4.322797235744979, 4.075943900647415, 8.182369052117146, 16.94153899257036, 59.71501785388729, 75.71615945792392, 341.92331655298113, 225.987085742345, 9.601197142138792, 15.54763686854764, 10.430908695528945, 14.287765039624647, 366.6211684884667, 39.376159905472186, 28.95800838252316, 20.231435123654503, 16.679536880051142, 24.533070618070866, 10.021493465213569, 7.4658778194703945, 6.789350341603165, 6.140927951826756, 10.52562925775134, 5.048117528824712, 78.18192942586099, 4.566555476192932, 4.2093979637053565, 3.793966118276785, 3.4675397844209974, 116.17676090734983, 3.101736090801129, 25.541278210687295, 177.55407859200622, 8.194764727291968, 2.0065723451151003, 1.649991564665307, 1.499541593719856, 2.3388047947770447, 422.1812644756868, 3.4681945072683265, 21.439635149122804, 0.5420660728259873, 191.0808429953941, 8.738108699530033, 26.07460960772985, 26.35397084123107, 21.682416430053486, 21.658729315955487, 19.30171852604789, 15.169940666292826, 15.052653986911308, 15.024603244143085, 14.498951850421605, 13.692161947986495, 13.691942148396492, 12.6098431460059, 11.577092522730098, 9.087501451907196, 8.249160869060612, 7.077635796669051, 5.958835656603106, 5.636149294408206, 5.023459959973447, 4.24328873181219, 11.185977356582189, 3.877999006141702, 3.4965931160546, 2.9436740998832645, 2.530607123915785, 2.2124502514314157, 9.922704833857217, 1.787330537976906, 1.6503512312181436, 9.910532925886958, 72.84942139790918, 16.6542459491121, 11.035809063075504, 61.01227764246821, 61.80451087880473, 34.679750071667875, 16.55762582504573, 5.54759905160789, 6.613839783272591, 7.049087470779905, 6.190883342776736, 32.133935856959994, 28.83483408329897, 26.227342734743527, 20.63230255626, 19.024311186588754, 15.856960833914146, 14.153121950399632, 13.431495165551674, 13.3348383123083, 11.093386882031364, 10.62862830923229, 9.436930975115336, 9.057924536312061, 7.432778955600118, 7.415806021936366, 5.5826766951588365, 5.5003138987865565, 13.714322053834712, 31.58401475941135, 4.776167541507501, 4.532657702091129, 4.529179862044521, 4.462485351547361, 4.00048317145634, 3.6637909618547377, 3.5408482785925504, 3.1041199490894402, 34.21303966304652, 2.950890515923303, 2.937919417686996, 35.69026839742379, 28.179498665151964, 9.246015379113516, 32.75352117907156, 31.270108261585797, 8.298065315051426, 7.7107308862748285, 5.450545018933912, 4.8329827401418335, 43.66264557679346, 25.180760147911922, 17.223223340295107, 13.127754587431298, 9.275430551452828, 9.24520384613999, 9.008689096046647, 7.758516937067989, 6.993895923639675, 6.6198824985675, 6.465002871398364, 6.102930623162075, 5.804142147013462, 5.394201646318263, 5.2559600640061435, 5.163759874979989, 5.163408437469474, 4.9966288205549505, 4.447379337529389, 4.08846694747909, 3.6045174793452275, 3.3717900169473345, 3.2571798165032035, 3.0666208136431528, 3.064904428255002, 3.062733060240972, 2.9741419381354954, 2.841798000749268, 2.6629494115404895, 2.6532198274939325, 18.987585914985402, 9.23215562189968, 12.450137645882997, 9.055536139616846, 7.727054619040201, 4.808796441578499, 8.42800962878397, 3.5536633552882257, 43.5408853768804, 38.323991132560515, 23.31592811992513, 16.830025941506946, 33.834405455176885, 12.247645415398743, 10.501410711281583, 7.825228531599073, 7.675069683218961, 7.42718468391826, 6.61369464599063, 5.934428663838547, 5.205335634158476, 4.638369960102181, 4.124745931155946, 18.511470439186954, 2.941348676784948, 2.5351751455968143, 1.8116751041418788, 1.6455814631572019, 1.3489101788011661, 0.9610966936422447, 0.834706129812032, 2.8716078399546188, 0.44381406333865225, 0.4437109796204306, 0.4437109796204306, 0.4437109796204306, 0.44365639052302774, 3.0274632826617958, 9.019157389763118, 4.524011808455813, 1.542672569349536, 4.331049535618978, 3.834241386463459, 7.01163749948805, 1.0389684328752111, 35.83659797538063, 31.343835310446128, 18.94034463937199, 16.65454102484163, 13.920873133383454, 13.91922386801808, 11.589566423930437, 8.174663206343855, 7.416423692715906, 4.497989992274831, 2.665545413680221, 2.2611491759632125, 2.260918663516547, 1.7246305256126204, 1.718268630281096, 22.463024059982967, 1.5498249950199947, 8.974638813377084, 1.182067050886752, 1.0075114230879203, 5.676010045031666, 11.514442324488488, 0.46503768688856323, 0.46503768688856323, 0.46503768688856323, 0.46496097867532227, 0.46496097867532227, 0.46496097867532227, 0.4648656557288378, 0.4648656557288378, 7.937390509055429, 0.950006634029286, 2.3903949918195653, 5.992280567750017, 5.0044947121119145, 1.0611617213829316, 1.0577421948860983, 27.377122092571536, 15.721825891947772, 14.471309609110053, 12.307974803816759, 10.580699886844014, 7.1110139270075, 13.773928796311148, 5.854509051180138, 4.13752669981329, 4.075503726036471, 3.4469917326184794, 15.204089586680201, 2.7106515832802516, 2.4980496143572415, 12.351888938714486, 1.5121093531993248, 5.903442734956533, 1.243152709783128, 1.2429455911317675, 9.711832025220675, 0.40902128858900216, 0.40902128858900216, 0.4086608025194495, 32.1223700578536, 0.048552431364105635, 0.04854494717937147, 0.04853804235960228, 0.048538046683221425, 0.0485371516940591, 0.0485371516940591, 1.1958150986601044, 5.61619503805614, 2.8036479960970335, 12.675783216391913, 0.21894568669447206, 0.05130128032387664, 49.22567087382606, 19.685374153247142, 16.363734083167316, 12.632821072572108, 7.914712512598376, 7.705455232974327, 6.696100752449938, 6.250904090874238, 6.177415449605437, 5.860571312587127, 3.8446776772829874, 3.7061573425618404, 3.545261133425079, 3.5383960171353537, 3.1329715569754275, 2.2141389184378855, 2.214067746783649, 2.0789628286721444, 2.0789628286721444, 1.8597922563992952, 1.25861845776603, 1.157593105789666, 0.4552808896137212, 0.4552808896137212, 0.4552808896137212, 0.4552808896137212, 20.462001438387944, 5.496354006039365, 11.31574010617941, 1.12394276369645, 7.292668963400122, 37.47636175567411, 28.634339805612118, 21.85823254781049, 8.539407304393105, 7.982771410281157, 7.376578419601638, 6.358380574845942, 11.173924186824332, 4.25582219404286, 4.10165613216221, 2.8818623919240007, 52.429220810276405, 1.709795562469047, 1.5477291510327096, 16.14257308440455, 0.41864361133614897, 0.41864361133614897, 0.41845394421118665, 0.4183029243122247, 0.41830285633117636, 1.8899475160525965, 3.0414362102406725, 0.049712841149393706, 0.04970362121970804, 0.0497011569067045, 0.04969898576197207, 0.049701857961265854, 0.049700264655444595, 0.049697167268928075, 0.04969686985184144, 0.04970125462946154, 0.049701768736139865, 0.49668782631942787, 44.21095306180049, 24.0735915504451, 20.713729970533883, 13.18402762951878, 11.780599038790594, 8.558899933350961, 7.864712591917952, 7.134248197396362, 6.71759048852447, 3.4135452292278883, 29.89676422309342, 2.518399089872711, 2.0111994625472223, 14.809936242725307, 0.439021290928986, 3.4608862553644713, 0.052130257807353586, 0.05212200958259832, 0.05210699048715571, 0.052103552720469036, 0.05210266711312587, 0.05209920519351165, 0.05210187409200494, 0.052101197810033785, 0.05209920519351165, 0.05210130649820772, 0.052099052224970556, 0.052104704010015164, 0.052099692277550395, 0.05210463960220838, 0.052103548694981114, 0.05210118573357002, 0.05210188214298078, 0.052101197810033785, 0.05401270477599921, 0.052409638745708774, 0.052103806326208216, 38.420485202903436, 30.822043215687163, 18.54666723444618, 16.463627750900073, 13.88463492096122, 11.669858360823776, 9.868501732647282, 9.219645753178826, 7.696111900292948, 7.468408886743053, 6.779656487290582, 6.001744271264303, 3.47532211703842, 2.9998046401674032, 2.5300033878050407, 2.2610565824025763, 1.737570813183852, 1.5322195480156005, 0.8951928524378365, 0.8951928524378365, 0.8951928524378365, 0.8950306425625852, 2.9939900598296276, 0.4131528649877686, 0.4131528649877686, 0.41297987330533303, 0.4129205894580686, 0.4129205894580686, 0.4129205894580686, 0.4129205894580686, 3.5820183659828406, 0.9384960660161159, 57.37287758024214, 14.74771440176346, 12.801395320178242, 3.5038498772194746, 35.48836677514343, 1.1783986946840936, 5.770278255973842, 10.642001965384155, 0.8399081984758368, 0.3875260865468495, 18.077044353999863, 7.250984027003686, 15.94568797399117, 0.04603495081536745, 0.046014305386464865, 0.04601392536441073, 0.04600601432837992, 0.04600775000603102, 0.04600244065944775, 0.046002594129892695, 0.046014813300556456, 0.04600249181626274, 0.04600670494538215, 0.04600141752314816, 0.046004980229905686, 0.045999217780104025, 0.04599922143416224, 0.046000949803696914, 0.04599810329234911, 0.04599913373676513, 0.046004687905248656, 0.04600101923080296, 28.333144018631533, 15.112299650754757, 11.132828191701392, 10.743670305650184, 9.075747167120703, 7.5423714711446115, 6.776180618599037, 5.8350529997020075, 4.62829981339855, 3.6017155169881554, 2.660277678039454, 2.209534175508628, 36.930756639903365, 0.04589758000293017, 0.045887323314774915, 0.04588622068153066, 0.04588386148618469, 0.04588392745569503, 0.04588386148618469, 0.045879743103896316, 0.045886333772119814, 0.045876171326122185, 0.04588392745569503, 0.04587818810829544, 0.045875084399904204, 0.045871820479845, 0.045871820479845, 0.04587592943791761, 0.04587172937909262, 0.04587172937909262, 0.04587563728722896, 0.04587235137733297, 4.218892177765769, 0.04587499329915183, 0.2340570833812309, 0.045875731529386586, 0.0665936887156783, 0.047429178417469596, 0.045882070885189745, 21.413054737719655, 13.021598126199487, 11.18782496491545, 9.241377164463003, 8.344810798574079, 8.001853561904463, 7.028005113957137, 5.6801775665922865, 5.006333883575642, 3.545447243092407, 28.671004342443336, 2.683020349971606, 2.1204246096716672, 1.3663459191488496, 3.4594507448695366, 1.0219742376479708, 0.695936013938848, 6.703608797334759, 0.3697490375125449, 0.3697490375125449, 0.369691222210656, 0.04388695755864832, 0.043889171635404435, 0.04388280245481647, 0.04388065367254913, 0.04388542907402446, 0.04387848708269396, 0.04387848708269396, 0.04387848708269396, 0.04387848708269396, 0.043885610117834276, 0.05321193358396251, 0.044696398496474984, 0.04464007606403422, 12.464893625697659, 6.788874206333737, 5.232869156636908, 4.870673681435033, 4.696916769173336, 3.162060165824087, 19.93621652797675, 2.764937711048178, 1.791699623090505, 1.430446475670639, 1.1428169475802603, 0.313528590975732, 5.422350225679912, 0.693279124302004, 0.03721194846432556, 0.037210803132913764, 0.037204861953463356, 0.0372029203440224, 0.037201687749264946, 0.03719899349346767, 0.037198204487383986, 0.03719871715953974, 0.03719473576939397, 0.037196110167088126, 0.037195433876159256, 0.03720277490511297, 0.037194892116221616, 0.037194892116221616, 0.037194892116221616, 0.037194892116221616, 0.037195841105105674, 0.037194892116221616, 0.037194892116221616, 0.037194892116221616, 0.037194892116221616, 14.418556658625969, 13.92751845592897, 9.363186092875026, 6.166260489488908, 3.280596580132101, 2.9201191257014067, 2.835054483362908, 2.812042133395332, 2.5584256640867995, 1.7978777935217962, 1.0487261293572043, 0.592138980847267, 0.31470878194937013, 0.31470878194937013, 0.31467814080275697, 0.31467814080275697, 0.31467814080275697, 0.037336610236295996, 0.03733460788254614, 0.03733483721194997, 0.03734051568181494, 0.0373347071445269, 0.03734112152218028, 0.03733483378912304, 0.037345848446160713, 0.03733484063477689, 0.0373347071445269, 0.03733484063477689, 0.03734320602377629, 0.0373347071445269, 0.03733483378912304, 0.03733688748527674, 0.03733881111400737, 0.03733483378912304, 0.03733507680983456, 0.03757818993768247, 0.03733483378912304, 12.302032772889357, 3.7571346114158155, 3.726788958962992, 2.4229336660540857, 2.191556975371946, 2.0966745211806703, 1.4883896699968178, 1.4224735477591344, 0.7918037969699754, 0.2606028387708686, 0.26041993557973686, 4.884038105980374, 0.030917286011881543, 0.030919886898642703, 0.030918303341572223, 0.030921397621485908, 0.03091603373307061, 0.030913947384882796, 0.030913947384882796, 0.030913947384882796, 0.030913012287384203, 0.030917286011881543, 0.030913012287384203, 0.030915810531406376, 0.0309122534017258, 0.030920711570054778, 0.030913012287384203, 0.0309122534017258, 0.0309122534017258, 0.03091180934788853, 0.030914661630208354, 0.030915084538624803, 0.03091579878395036, 0.0309122534017258, 7.408966530502155, 1.3879435603901344, 0.36128753997925095, 0.16675816446646652, 0.019793284007270047, 0.019793284007270047, 0.019793284007270047, 0.019793284007270047, 0.019793284007270047, 0.019793284007270047, 0.019790483639990586, 0.019789099088385113, 0.019789099088385113, 0.01978732596907101, 0.01978732596907101, 0.019789099088385113, 0.019785418860891853, 0.0197843826803355, 0.0197843826803355, 0.019783752932669783, 0.019783744000078783, 0.019783752932669783, 0.019783243774982612, 0.019783138817038325, 0.019783500586973948, 0.019783500586973948, 0.019783082988344556, 0.019783082988344556, 0.019782908802819996, 0.019782908802819996, 0.019783082988344556, 0.019783500586973948, 0.019783752932669783, 0.019784943200420943, 0.0197843826803355, 0.019783630109543492, 0.019783630109543492, 0.019783752932669783, 0.019783752932669783, 0.019783500586973948, 2.5378915521439667, 2.2729302515738365, 1.4196921315759632, 0.5644504751692262, 0.018121698513264804, 0.01812154110764902, 0.018119082859451904, 0.018119082859451904, 0.018119082859451904, 0.018118497932410535, 0.018118497932410535, 0.018118678657376805, 0.018119082859451904, 0.018118678657376805, 0.018119082859451904, 0.018118497932410535, 0.018116218465900485, 0.018118678657376805, 0.018115715156585818, 0.018118678657376805, 0.01811579677431252, 0.01811579677431252, 0.01811579677431252, 0.01811939184084585, 0.018116218465900485, 0.01811611741538171, 0.018115345933536448, 0.018115345933536448, 0.018115345933536448, 0.01811406919909731, 0.018115307067952304, 0.018115345933536448, 0.01811579677431252, 0.01811579677431252, 0.018115345933536448], \"Total\": [367.0, 360.0, 234.0, 772.0, 639.0, 146.0, 73.0, 58.0, 71.0, 99.0, 117.0, 50.0, 45.0, 52.0, 44.0, 39.0, 44.0, 38.0, 37.0, 39.0, 36.0, 39.0, 112.0, 77.0, 31.0, 29.0, 36.0, 92.0, 32.0, 40.0, 39.29703715995697, 38.286563786360176, 35.04036692609971, 27.33430777174863, 25.616015167770154, 25.03993226419005, 23.96358407208904, 19.689212571118535, 18.807598450315293, 14.984029550642964, 14.345545636468334, 46.2157263882049, 12.04781835013689, 10.585873988422971, 10.380826668934322, 10.206903583231899, 9.624383047277693, 9.604977450128457, 7.992863252030873, 360.68871833661314, 28.510710304462446, 67.76315741823227, 7.472517956358078, 7.053191472616811, 6.168123858824846, 5.842076778166212, 5.358677590152273, 112.33938376665635, 5.200693910287016, 4.953840558913577, 9.949748602220621, 20.811192283004686, 77.0200124440176, 99.57043045710411, 639.3743637499949, 772.3643253507777, 14.80659148918267, 40.74319901005635, 21.904818296221567, 71.07857638818979, 367.6309479504182, 40.25305632851455, 29.834581224769778, 21.10800796590112, 17.55610972229776, 26.55693676910234, 10.89806631411367, 8.342450666485464, 7.665923195944761, 7.017500809566012, 12.203888334283235, 5.924690371071329, 92.147087928348, 5.44312832582977, 5.085970819070591, 4.670538982513528, 4.344112679457228, 146.8245059153414, 3.978308944099007, 32.97451819638936, 234.7771339079648, 10.911605514884997, 2.8831451873617184, 2.526564406911925, 2.376117753364663, 3.7491198955554053, 772.3643253507777, 6.5731415317738575, 47.80325864049207, 1.4186389150726058, 639.3743637499949, 52.72917899665181, 26.95841859521526, 27.25013911922597, 22.56622542963387, 22.542538303440896, 20.185527543530984, 16.053749671449427, 15.936462974396717, 15.908412231628494, 15.382760837907014, 14.575970935471904, 14.575751135881902, 13.493652147930618, 12.460901510215507, 9.971310445641869, 9.132969856546021, 7.961444790807939, 6.842644657133239, 6.5199583093669915, 5.907268999109319, 5.127097719297597, 13.559807402482255, 4.76180800074505, 4.380402110193489, 3.8274830873686723, 3.414416111401193, 3.0962592389168235, 14.497554589880039, 2.671139525462314, 2.5341602187035517, 15.548054656545714, 117.39177899156519, 32.446813770413115, 34.32747577295275, 639.3743637499949, 772.3643253507777, 360.68871833661314, 112.33938376665635, 15.35088051199584, 32.97451819638936, 67.76315741823227, 37.261333062838204, 33.01384281482691, 29.714741007997183, 27.10724966104919, 21.512209472025624, 19.904218102354378, 16.736867749679767, 15.033028866165257, 14.311402081317299, 14.214745228073925, 11.97329379779699, 11.50853523124718, 10.316837890880961, 9.937831462352438, 8.312730842250163, 8.295712949796972, 6.46258361092446, 6.38022081455218, 15.950669093937924, 36.935281972697915, 5.656074495909817, 5.412564617856752, 5.409086791874927, 5.342392278215281, 4.88039009271286, 4.543697877620361, 4.420755245481618, 3.9840268648550645, 44.35805780967952, 3.8307974353429857, 3.8178263851177037, 73.45507257571916, 117.39177899156519, 26.21881578936458, 639.3743637499949, 772.3643253507777, 39.02265040926747, 47.80325864049207, 18.633819088980268, 360.68871833661314, 44.548543500249366, 26.066658082789758, 18.10912126375101, 14.013652510887205, 10.16132850234938, 10.131101772737303, 9.894587031597533, 8.644414872545477, 7.879793847095579, 7.505780426272219, 7.350900794854268, 6.988828552867242, 6.690040070469366, 6.280099573799655, 6.1418579937113105, 6.049657798435892, 6.049306360925378, 5.882526744010854, 5.333277260985293, 4.974364870934994, 4.490415408736994, 4.257687951420952, 4.143077739959107, 3.952518741384442, 3.9508023858175374, 3.948630996633169, 3.8600398615914004, 3.7276959492353767, 3.5488473471550646, 3.539117761628807, 40.74319901005635, 19.7813637855486, 47.80325864049207, 77.0200124440176, 52.72917899665181, 15.548054656545714, 234.7771339079648, 7.258517607763869, 44.42921633083151, 39.2123212489282, 24.204258242946285, 17.71835605787462, 36.169658106524835, 13.135975531766421, 11.38974082764926, 8.714142468862612, 8.563399832323002, 8.315514800285937, 7.502024766383793, 6.8227588133448025, 6.093665750526151, 5.526700076469856, 5.013076081429636, 22.973346712403245, 3.829678793152624, 3.423505306973389, 2.7000052371989227, 2.53391158617836, 2.2372402951688426, 1.8494268195468198, 1.723036246179708, 7.258517607763869, 1.3321441797063285, 1.3320410959881068, 1.3320410959881068, 1.3320410959881068, 1.3319865103135309, 9.77071435553269, 92.147087928348, 36.935281972697915, 13.559807402482255, 117.39177899156519, 146.8245059153414, 639.3743637499949, 112.33938376665635, 36.72241701935172, 32.229651616740036, 19.826159919546516, 17.540356305016157, 14.806688413557985, 14.805039148192611, 12.475381704104969, 9.060478497336913, 8.302238972890438, 5.38380527244936, 3.551360693854751, 3.1469644561377423, 3.1467339471139035, 2.6104458057871502, 2.604083917109108, 34.32747577295275, 2.4356402751945248, 15.35088051199584, 2.067882331061282, 1.8933267032624503, 10.678111228553266, 32.446813770413115, 1.3508529670630935, 1.3508529670630935, 1.3508529670630935, 1.3507762588498524, 1.3507762588498524, 1.3507762588498524, 1.350680935903368, 1.350680935903368, 44.35805780967952, 4.735618468452738, 28.510710304462446, 772.3643253507777, 639.3743637499949, 92.147087928348, 146.8245059153414, 28.409747580437777, 16.614285729375077, 15.363769446537361, 13.200434641244067, 11.473159730520587, 8.003473771552747, 15.816667343010279, 6.7469688886074435, 5.029986549879171, 4.96796358180802, 4.339451581605101, 19.50561243938576, 3.6031114207075583, 3.390509451784548, 18.633819088980268, 2.4045691906266313, 9.77071435553269, 2.1356125472104353, 2.1354054285590744, 19.7813637855486, 1.3014811260163088, 1.3014811260163088, 1.3011206399467563, 234.7771339079648, 0.9410532997948066, 0.941008490102985, 0.9410125477299714, 0.9410188771719702, 0.9410136152385834, 0.9410230825804361, 26.55693676910234, 146.8245059153414, 92.147087928348, 772.3643253507777, 22.91995848201316, 12.087735923654062, 50.11263907885281, 20.572342297394172, 17.250702238736274, 13.519789234526728, 8.801680656745408, 8.592423405398069, 7.583068896596967, 7.137872239789717, 7.064383593752466, 6.747539456734156, 4.731645821430017, 4.593125486708869, 4.432230167768876, 4.425364161282383, 4.019939705446077, 3.1011070625849153, 3.101035890930679, 2.9659309728191743, 2.9659309728191743, 2.746760400546325, 2.1455866019130605, 2.044561249936696, 1.3422490337607513, 1.3422490337607513, 1.3422490337607513, 1.3422490337607513, 99.57043045710411, 47.80325864049207, 117.39177899156519, 13.135155504748704, 772.3643253507777, 38.36766379305755, 29.527211644039404, 22.91995848201316, 9.430709347218052, 8.874073447664607, 8.267880456985088, 7.249682615370794, 13.135155504748704, 5.147124235080365, 4.992958169545657, 3.773164429307448, 71.07857638818979, 2.6010976051199313, 2.4390311884161573, 26.21881578936458, 1.3099456487195966, 1.3099456487195966, 1.3097559852486926, 1.3096049684074011, 1.3096049004263528, 10.911605514884997, 20.811192283004686, 0.9410789724627854, 0.9410566895090637, 0.9410518662031879, 0.9410180826461532, 0.9410990204622561, 0.9410851324991676, 0.9410372995399, 0.9410333294746384, 0.9411970071971948, 0.9412347131550168, 772.3643253507777, 45.099849273249724, 24.9624871197977, 21.602625539886482, 14.072923198871385, 12.669494608143198, 9.447795509357046, 8.753608161270556, 8.023143766748964, 7.606486057877072, 4.3024407985804904, 39.02265040926747, 3.4072946592253133, 2.900095031899825, 22.358580484920978, 1.3279168602815883, 19.50561243938576, 0.9412806556655018, 0.9411970071971948, 0.9410355769624129, 0.9410084568477118, 0.9410018166006647, 0.9409953610655627, 0.9410441630536192, 0.94103239384595, 0.9410088753303828, 0.9410500422241929, 0.9410122182082207, 0.9411204406353343, 0.9410346603229137, 0.9411253614151689, 0.9411077615967897, 0.9410744601380541, 0.9411644391971586, 0.9411449330279893, 367.6309479504182, 40.25305632851455, 772.3643253507777, 39.31245366493098, 31.714011668810908, 19.438635694223407, 17.35559620402382, 14.776603374084972, 12.561827224807574, 10.760470185771034, 10.111614206302578, 8.588080360070181, 8.360377339866805, 7.671624973247823, 6.893712724388053, 4.367290576411434, 3.8917731098479575, 3.4219718449542795, 3.153025035526327, 2.629539266307603, 2.4241880011393513, 1.7871613055615871, 1.7871613055615871, 1.7871613055615871, 1.7869990956863357, 7.046046682277941, 1.305121318111519, 1.305121318111519, 1.3049483264290835, 1.3048890470481145, 1.3048890470481145, 1.3048890470481145, 1.3048890470481145, 71.07857638818979, 9.949748602220621, 58.26788051416135, 15.642707015506293, 13.696418901898573, 4.39884248156434, 52.72917899665181, 2.0733912990289594, 10.269970931102925, 21.904818296221567, 1.7349008028207025, 1.282518690891715, 146.8245059153414, 77.0200124440176, 234.7771339079648, 0.9412880494004353, 0.9410763156373493, 0.94108096216831, 0.9410532997948066, 0.9411112764752317, 0.9410081121145532, 0.9410194151105008, 0.9412721756613476, 0.9410224170315294, 0.9411332855751116, 0.9410274832062276, 0.9411093209570517, 0.9410125477299714, 0.9410188771719702, 0.9410794867801523, 0.9410342613494737, 0.9410568711693086, 0.9411945427982623, 0.9411667821225718, 29.228266863780775, 16.00742190068368, 12.027950441630317, 11.638792555579109, 9.970869420703686, 8.437493721073537, 7.67130286852796, 6.730175253916314, 5.523422063327472, 4.496837766917078, 3.5553999279683772, 3.1046564254375513, 73.45507257571916, 0.9411060298069545, 0.9410691954134595, 0.941092057784212, 0.9410652597430494, 0.9410676640392093, 0.9410852387847358, 0.9410548903841724, 0.9412053847006961, 0.9410273578089219, 0.9411945427982623, 0.941102418608791, 0.9410684702028744, 0.9410116832429373, 0.9410116832429373, 0.9410981291745252, 0.941014205272335, 0.941014205272335, 0.9410944687840943, 0.9410319426577596, 772.3643253507777, 0.9411526166438372, 92.147087928348, 0.9412721756613476, 99.57043045710411, 29.527211644039404, 367.6309479504182, 22.31017624053052, 13.918719629010356, 12.087735923654062, 10.138498671522688, 9.24193230540801, 8.898975067856737, 7.925126616768004, 6.5772990694031535, 5.903455386386509, 4.442568745903274, 37.261333062838204, 3.580141863879324, 3.0175461187317985, 2.263467426283336, 5.834903495271157, 1.919095740458838, 2.017630417621832, 22.358580484920978, 1.2668705403234122, 1.2668705403234122, 1.2668127250215233, 0.9410231470320757, 0.9411573562987054, 0.9410537267665423, 0.9410184160035359, 0.9411470502118229, 0.9410113255935778, 0.9410113255935778, 0.9410113255935778, 0.9410342613494737, 0.9412178634692409, 92.147087928348, 639.3743637499949, 772.3643253507777, 13.368688294576504, 7.69266887521258, 6.136663825515751, 5.774468366870679, 5.600711438052179, 4.065854834702931, 25.693143421254383, 3.6687323799270217, 2.6954942919693488, 2.334241158251438, 2.0466116207444878, 1.7721711999837069, 40.74319901005635, 12.203888334283235, 0.9410486485665114, 0.9411449330279893, 0.9410566895090637, 0.9410631878166579, 0.9410839418528973, 0.9410229449229391, 0.941035966000544, 0.9410872219586317, 0.9410224170315294, 0.9410585245038413, 0.9410465827410363, 0.9412347131550168, 0.9410359982993396, 0.9410359982993396, 0.9410359982993396, 0.9410359982993396, 0.9411178957301124, 0.9411253614151689, 0.9411470502118229, 0.9410607447713064, 0.9410540617273221, 15.322210035660335, 14.831172519779798, 10.266839465061805, 7.069913861675687, 4.184249993991672, 3.823772509983164, 3.738707893459663, 3.7156955122355924, 3.462079036273578, 2.70153116995739, 1.9523795015439829, 1.7721711999837069, 1.2183621541361487, 1.2183621541361487, 1.2183315129895356, 1.2183315129895356, 1.2183315129895356, 0.9410273578089219, 0.9409947179897968, 0.941000665279926, 0.9411449330279893, 0.9410041782956379, 0.9411667821225718, 0.9410093902693355, 0.9412880494004353, 0.941014423945811, 0.9410134172074566, 0.9410202928512862, 0.941231462607055, 0.9410224032684918, 0.9410256760059621, 0.9410839418528973, 0.9411573562987054, 0.9410342063647791, 0.9411217322180966, 92.147087928348, 0.9410929900497895, 13.212108518610329, 4.667210357136787, 4.636864711337445, 3.3330094184285386, 3.1016327210929173, 3.0067502669016415, 2.398465429098728, 2.3325492934801053, 1.7018795426909468, 1.17067858449184, 1.1704956813007084, 25.693143421254383, 0.9409982350754059, 0.9411077615967897, 0.941063749006279, 0.9412053847006961, 0.9410585245038413, 0.9410071881502293, 0.9410071881502293, 0.9410128375462417, 0.9410035774259237, 0.9411470502118229, 0.9410174272576816, 0.9411142556776285, 0.9410071179265229, 0.9412721756613476, 0.9410437101447646, 0.9410216529488588, 0.9410216529488588, 0.9410095043206745, 0.9411054537139885, 0.9411217322180966, 12.087735923654062, 0.94108096216831, 8.330166099831184, 2.309143129719163, 1.28248710930828, 1.0879577418416202, 0.940998842764109, 0.940998842764109, 0.9410083277783796, 0.9410123464906055, 0.9410235669078499, 0.9410417527146004, 0.941066229967342, 0.9410085926294209, 0.9410085926294209, 0.941014423945811, 0.9410202928512862, 0.9411945427982623, 0.9410262496851068, 0.940996869404608, 0.940996869404608, 0.9409961180308067, 0.9409993642411123, 0.9410082287431497, 0.9409889755807522, 0.9409865948075732, 0.9410097998712794, 0.9410097998712794, 0.9409927697789744, 0.9409927697789744, 0.9409906951067463, 0.9409906951067463, 0.9410002747448617, 0.9410234000157255, 0.9410381893693062, 0.9411072433058887, 0.9410832132030875, 0.9410478412543848, 0.9410478412543848, 0.941092057784212, 0.9412053847006961, 0.9410622566973136, 3.460759992496185, 3.195798691926055, 2.34256057595367, 1.4873189155214448, 0.9410296663467695, 0.9410548903841724, 0.9409961223204881, 0.9410216529488588, 0.9410216529488588, 0.9410007812546494, 0.9410031504900019, 0.9410229793675225, 0.9410585245038413, 0.9410465827410363, 0.9410676640392093, 0.9410684702028744, 0.9410084568477118, 0.9411427258532278, 0.9409890352506097, 0.9411526166438372, 0.9410069607655183, 0.9410069607655183, 0.9410069607655183, 0.9411945427982623, 0.9410355769624129, 0.9410448573274729, 0.9410057059880912, 0.9410057059880912, 0.9410057059880912, 0.9409889853073602, 0.9410571248917216, 0.9410620481297897, 0.9411970071971948, 0.9412178634692409, 0.9411332855751116], \"Category\": [\"Default\", \"Default\", \"Default\", \"Default\", \"Default\", \"Default\", \"Default\", \"Default\", \"Default\", \"Default\", \"Default\", \"Default\", \"Default\", \"Default\", \"Default\", \"Default\", \"Default\", \"Default\", \"Default\", \"Default\", \"Default\", \"Default\", \"Default\", \"Default\", \"Default\", \"Default\", \"Default\", \"Default\", \"Default\", \"Default\", \"Topic1\", \"Topic1\", \"Topic1\", \"Topic1\", \"Topic1\", \"Topic1\", \"Topic1\", \"Topic1\", \"Topic1\", \"Topic1\", \"Topic1\", \"Topic1\", \"Topic1\", \"Topic1\", \"Topic1\", \"Topic1\", \"Topic1\", \"Topic1\", \"Topic1\", \"Topic1\", \"Topic1\", \"Topic1\", \"Topic1\", \"Topic1\", \"Topic1\", \"Topic1\", \"Topic1\", \"Topic1\", \"Topic1\", \"Topic1\", \"Topic1\", \"Topic1\", \"Topic1\", \"Topic1\", \"Topic1\", \"Topic1\", \"Topic1\", \"Topic1\", \"Topic1\", \"Topic1\", \"Topic2\", \"Topic2\", \"Topic2\", \"Topic2\", \"Topic2\", \"Topic2\", \"Topic2\", \"Topic2\", \"Topic2\", \"Topic2\", \"Topic2\", \"Topic2\", \"Topic2\", \"Topic2\", \"Topic2\", \"Topic2\", \"Topic2\", \"Topic2\", \"Topic2\", \"Topic2\", \"Topic2\", \"Topic2\", \"Topic2\", \"Topic2\", \"Topic2\", \"Topic2\", \"Topic2\", \"Topic2\", \"Topic2\", \"Topic2\", \"Topic2\", \"Topic2\", \"Topic3\", \"Topic3\", \"Topic3\", \"Topic3\", \"Topic3\", \"Topic3\", \"Topic3\", \"Topic3\", \"Topic3\", \"Topic3\", \"Topic3\", \"Topic3\", \"Topic3\", \"Topic3\", \"Topic3\", \"Topic3\", \"Topic3\", \"Topic3\", \"Topic3\", \"Topic3\", \"Topic3\", \"Topic3\", \"Topic3\", \"Topic3\", \"Topic3\", \"Topic3\", \"Topic3\", \"Topic3\", \"Topic3\", \"Topic3\", \"Topic3\", \"Topic3\", \"Topic3\", \"Topic3\", \"Topic3\", \"Topic3\", \"Topic3\", \"Topic3\", \"Topic3\", \"Topic3\", \"Topic3\", \"Topic4\", \"Topic4\", \"Topic4\", \"Topic4\", \"Topic4\", \"Topic4\", \"Topic4\", \"Topic4\", \"Topic4\", \"Topic4\", \"Topic4\", \"Topic4\", \"Topic4\", \"Topic4\", \"Topic4\", \"Topic4\", \"Topic4\", \"Topic4\", \"Topic4\", \"Topic4\", \"Topic4\", \"Topic4\", \"Topic4\", \"Topic4\", \"Topic4\", \"Topic4\", \"Topic4\", \"Topic4\", \"Topic4\", \"Topic4\", \"Topic4\", \"Topic4\", \"Topic4\", \"Topic4\", \"Topic4\", \"Topic4\", \"Topic4\", \"Topic4\", \"Topic4\", \"Topic5\", \"Topic5\", \"Topic5\", \"Topic5\", \"Topic5\", \"Topic5\", \"Topic5\", \"Topic5\", \"Topic5\", \"Topic5\", \"Topic5\", \"Topic5\", \"Topic5\", \"Topic5\", \"Topic5\", \"Topic5\", \"Topic5\", \"Topic5\", \"Topic5\", \"Topic5\", \"Topic5\", \"Topic5\", \"Topic5\", \"Topic5\", \"Topic5\", \"Topic5\", \"Topic5\", \"Topic5\", \"Topic5\", \"Topic5\", \"Topic5\", \"Topic5\", \"Topic5\", \"Topic5\", \"Topic5\", \"Topic5\", \"Topic5\", \"Topic5\", \"Topic6\", \"Topic6\", \"Topic6\", \"Topic6\", \"Topic6\", \"Topic6\", \"Topic6\", \"Topic6\", \"Topic6\", \"Topic6\", \"Topic6\", \"Topic6\", \"Topic6\", \"Topic6\", \"Topic6\", \"Topic6\", \"Topic6\", \"Topic6\", \"Topic6\", \"Topic6\", \"Topic6\", \"Topic6\", \"Topic6\", \"Topic6\", \"Topic6\", \"Topic6\", \"Topic6\", \"Topic6\", \"Topic6\", \"Topic6\", \"Topic6\", \"Topic6\", \"Topic6\", \"Topic6\", \"Topic6\", \"Topic6\", \"Topic6\", \"Topic7\", \"Topic7\", \"Topic7\", \"Topic7\", \"Topic7\", \"Topic7\", \"Topic7\", \"Topic7\", \"Topic7\", \"Topic7\", \"Topic7\", \"Topic7\", \"Topic7\", \"Topic7\", \"Topic7\", \"Topic7\", \"Topic7\", \"Topic7\", \"Topic7\", \"Topic7\", \"Topic7\", \"Topic7\", \"Topic7\", \"Topic7\", \"Topic7\", \"Topic7\", \"Topic7\", \"Topic7\", \"Topic7\", \"Topic7\", \"Topic7\", \"Topic7\", \"Topic7\", \"Topic7\", \"Topic7\", \"Topic7\", \"Topic7\", \"Topic8\", \"Topic8\", \"Topic8\", \"Topic8\", \"Topic8\", \"Topic8\", \"Topic8\", \"Topic8\", \"Topic8\", \"Topic8\", \"Topic8\", \"Topic8\", \"Topic8\", \"Topic8\", \"Topic8\", \"Topic8\", \"Topic8\", \"Topic8\", \"Topic8\", \"Topic8\", \"Topic8\", \"Topic8\", \"Topic8\", \"Topic8\", \"Topic8\", \"Topic8\", \"Topic8\", \"Topic8\", \"Topic8\", \"Topic8\", \"Topic8\", \"Topic8\", \"Topic8\", \"Topic8\", \"Topic8\", \"Topic8\", \"Topic9\", \"Topic9\", \"Topic9\", \"Topic9\", \"Topic9\", \"Topic9\", \"Topic9\", \"Topic9\", \"Topic9\", \"Topic9\", \"Topic9\", \"Topic9\", \"Topic9\", \"Topic9\", \"Topic9\", \"Topic9\", \"Topic9\", \"Topic9\", \"Topic9\", \"Topic9\", \"Topic9\", \"Topic9\", \"Topic9\", \"Topic9\", \"Topic9\", \"Topic9\", \"Topic9\", \"Topic9\", \"Topic9\", \"Topic9\", \"Topic9\", \"Topic10\", \"Topic10\", \"Topic10\", \"Topic10\", \"Topic10\", \"Topic10\", \"Topic10\", \"Topic10\", \"Topic10\", \"Topic10\", \"Topic10\", \"Topic10\", \"Topic10\", \"Topic10\", \"Topic10\", \"Topic10\", \"Topic10\", \"Topic10\", \"Topic10\", \"Topic10\", \"Topic10\", \"Topic10\", \"Topic10\", \"Topic10\", \"Topic10\", \"Topic10\", \"Topic10\", \"Topic10\", \"Topic10\", \"Topic10\", \"Topic10\", \"Topic10\", \"Topic10\", \"Topic11\", \"Topic11\", \"Topic11\", \"Topic11\", \"Topic11\", \"Topic11\", \"Topic11\", \"Topic11\", \"Topic11\", \"Topic11\", \"Topic11\", \"Topic11\", \"Topic11\", \"Topic11\", \"Topic11\", \"Topic11\", \"Topic11\", \"Topic11\", \"Topic11\", \"Topic11\", \"Topic11\", \"Topic11\", \"Topic11\", \"Topic11\", \"Topic11\", \"Topic11\", \"Topic11\", \"Topic11\", \"Topic11\", \"Topic11\", \"Topic11\", \"Topic11\", \"Topic11\", \"Topic11\", \"Topic11\", \"Topic11\", \"Topic11\", \"Topic12\", \"Topic12\", \"Topic12\", \"Topic12\", \"Topic12\", \"Topic12\", \"Topic12\", \"Topic12\", \"Topic12\", \"Topic12\", \"Topic12\", \"Topic12\", \"Topic12\", \"Topic12\", \"Topic12\", \"Topic12\", \"Topic12\", \"Topic12\", \"Topic12\", \"Topic12\", \"Topic12\", \"Topic12\", \"Topic12\", \"Topic12\", \"Topic12\", \"Topic12\", \"Topic12\", \"Topic12\", \"Topic12\", \"Topic12\", \"Topic12\", \"Topic12\", \"Topic13\", \"Topic13\", \"Topic13\", \"Topic13\", \"Topic13\", \"Topic13\", \"Topic13\", \"Topic13\", \"Topic13\", \"Topic13\", \"Topic13\", \"Topic13\", \"Topic13\", \"Topic13\", \"Topic13\", \"Topic13\", \"Topic13\", \"Topic13\", \"Topic13\", \"Topic13\", \"Topic13\", \"Topic13\", \"Topic13\", \"Topic13\", \"Topic13\", \"Topic13\", \"Topic13\", \"Topic13\", \"Topic13\", \"Topic13\", \"Topic13\", \"Topic13\", \"Topic14\", \"Topic14\", \"Topic14\", \"Topic14\", \"Topic14\", \"Topic14\", \"Topic14\", \"Topic14\", \"Topic14\", \"Topic14\", \"Topic14\", \"Topic14\", \"Topic14\", \"Topic14\", \"Topic14\", \"Topic14\", \"Topic14\", \"Topic14\", \"Topic14\", \"Topic14\", \"Topic14\", \"Topic14\", \"Topic14\", \"Topic14\", \"Topic14\", \"Topic14\", \"Topic14\", \"Topic14\", \"Topic14\", \"Topic14\", \"Topic14\", \"Topic14\", \"Topic14\", \"Topic14\", \"Topic14\", \"Topic14\", \"Topic14\", \"Topic14\", \"Topic14\", \"Topic15\", \"Topic15\", \"Topic15\", \"Topic15\", \"Topic15\", \"Topic15\", \"Topic15\", \"Topic15\", \"Topic15\", \"Topic15\", \"Topic15\", \"Topic15\", \"Topic15\", \"Topic15\", \"Topic15\", \"Topic15\", \"Topic15\", \"Topic15\", \"Topic15\", \"Topic15\", \"Topic15\", \"Topic15\", \"Topic15\", \"Topic15\", \"Topic15\", \"Topic15\", \"Topic15\", \"Topic15\", \"Topic15\", \"Topic15\", \"Topic15\", \"Topic15\", \"Topic15\", \"Topic15\", \"Topic16\", \"Topic16\", \"Topic16\", \"Topic16\", \"Topic16\", \"Topic16\", \"Topic16\", \"Topic16\", \"Topic16\", \"Topic16\", \"Topic16\", \"Topic16\", \"Topic16\", \"Topic16\", \"Topic16\", \"Topic16\", \"Topic16\", \"Topic16\", \"Topic16\", \"Topic16\", \"Topic16\", \"Topic16\", \"Topic16\", \"Topic16\", \"Topic16\", \"Topic16\", \"Topic16\", \"Topic16\", \"Topic16\", \"Topic16\", \"Topic16\", \"Topic16\", \"Topic16\", \"Topic16\", \"Topic16\", \"Topic17\", \"Topic17\", \"Topic17\", \"Topic17\", \"Topic17\", \"Topic17\", \"Topic17\", \"Topic17\", \"Topic17\", \"Topic17\", \"Topic17\", \"Topic17\", \"Topic17\", \"Topic17\", \"Topic17\", \"Topic17\", \"Topic17\", \"Topic17\", \"Topic17\", \"Topic17\", \"Topic17\", \"Topic17\", \"Topic17\", \"Topic17\", \"Topic17\", \"Topic17\", \"Topic17\", \"Topic17\", \"Topic17\", \"Topic17\", \"Topic17\", \"Topic17\", \"Topic17\", \"Topic17\", \"Topic17\", \"Topic17\", \"Topic17\", \"Topic18\", \"Topic18\", \"Topic18\", \"Topic18\", \"Topic18\", \"Topic18\", \"Topic18\", \"Topic18\", \"Topic18\", \"Topic18\", \"Topic18\", \"Topic18\", \"Topic18\", \"Topic18\", \"Topic18\", \"Topic18\", \"Topic18\", \"Topic18\", \"Topic18\", \"Topic18\", \"Topic18\", \"Topic18\", \"Topic18\", \"Topic18\", \"Topic18\", \"Topic18\", \"Topic18\", \"Topic18\", \"Topic18\", \"Topic18\", \"Topic18\", \"Topic18\", \"Topic18\", \"Topic18\", \"Topic19\", \"Topic19\", \"Topic19\", \"Topic19\", \"Topic19\", \"Topic19\", \"Topic19\", \"Topic19\", \"Topic19\", \"Topic19\", \"Topic19\", \"Topic19\", \"Topic19\", \"Topic19\", \"Topic19\", \"Topic19\", \"Topic19\", \"Topic19\", \"Topic19\", \"Topic19\", \"Topic19\", \"Topic19\", \"Topic19\", \"Topic19\", \"Topic19\", \"Topic19\", \"Topic19\", \"Topic19\", \"Topic19\", \"Topic19\", \"Topic19\", \"Topic19\", \"Topic19\", \"Topic19\", \"Topic19\", \"Topic19\", \"Topic19\", \"Topic19\", \"Topic19\", \"Topic19\", \"Topic20\", \"Topic20\", \"Topic20\", \"Topic20\", \"Topic20\", \"Topic20\", \"Topic20\", \"Topic20\", \"Topic20\", \"Topic20\", \"Topic20\", \"Topic20\", \"Topic20\", \"Topic20\", \"Topic20\", \"Topic20\", \"Topic20\", \"Topic20\", \"Topic20\", \"Topic20\", \"Topic20\", \"Topic20\", \"Topic20\", \"Topic20\", \"Topic20\", \"Topic20\", \"Topic20\", \"Topic20\", \"Topic20\", \"Topic20\", \"Topic20\", \"Topic20\", \"Topic20\", \"Topic20\", \"Topic20\"], \"logprob\": [30.0, 29.0, 28.0, 27.0, 26.0, 25.0, 24.0, 23.0, 22.0, 21.0, 20.0, 19.0, 18.0, 17.0, 16.0, 15.0, 14.0, 13.0, 12.0, 11.0, 10.0, 9.0, 8.0, 7.0, 6.0, 5.0, 4.0, 3.0, 2.0, 1.0, -3.8629, -3.8908, -3.9803, -4.236, -4.3031, -4.3267, -4.3723, -4.577, -4.625, -4.8649, -4.9112, -3.7463, -5.0982, -5.2385, -5.2599, -5.2783, -5.3428, -5.345, -5.5493, -1.7419, -4.2808, -3.4189, -5.6252, -5.6909, -5.8456, -5.9092, -6.0117, -2.969, -6.0476, -6.1064, -5.4095, -4.6817, -3.4219, -3.1845, -1.6769, -2.091, -5.2496, -4.7676, -5.1667, -4.8521, -1.5445, -3.7756, -4.0829, -4.4416, -4.6346, -4.2488, -5.1441, -5.4384, -5.5334, -5.6338, -5.095, -5.8298, -3.0898, -5.93, -6.0115, -6.1154, -6.2053, -2.6937, -6.3168, -4.2085, -2.2695, -5.3453, -6.7524, -6.948, -7.0436, -6.5992, -1.4034, -6.2052, -4.3835, -8.0612, -2.1961, -5.2811, -3.3238, -3.3131, -3.5082, -3.5093, -3.6245, -3.8654, -3.8732, -3.875, -3.9106, -3.9679, -3.9679, -4.0502, -4.1357, -4.3778, -4.4746, -4.6278, -4.7998, -4.8555, -4.9706, -5.1394, -4.1701, -5.2294, -5.3329, -5.5051, -5.6563, -5.7906, -4.2899, -6.004, -6.0837, -4.2911, -2.2963, -3.7721, -4.1836, -2.4736, -2.4607, -3.0386, -3.7779, -4.8714, -4.6956, -4.6318, -4.7616, -3.0153, -3.1236, -3.2184, -3.4583, -3.5395, -3.7216, -3.8353, -3.8876, -3.8948, -4.0789, -4.1216, -4.2406, -4.2816, -4.4793, -4.4816, -4.7655, -4.7804, -3.8668, -3.0325, -4.9216, -4.9739, -4.9747, -4.9895, -5.0988, -5.1867, -5.2208, -5.3525, -2.9526, -5.4031, -5.4075, -2.9103, -3.1466, -4.261, -2.9962, -3.0425, -4.3692, -4.4426, -4.7895, -4.9097, -2.2477, -2.7981, -3.1779, -3.4495, -3.7968, -3.8001, -3.826, -3.9754, -4.0792, -4.1341, -4.1578, -4.2154, -4.2656, -4.3389, -4.3648, -4.3825, -4.3826, -4.4154, -4.5319, -4.616, -4.742, -4.8088, -4.8433, -4.9036, -4.9042, -4.9049, -4.9342, -4.9798, -5.0448, -5.0484, -3.0804, -3.8015, -3.5025, -3.8208, -3.9795, -4.4538, -3.8926, -4.7562, -2.1504, -2.278, -2.775, -3.1009, -2.4026, -3.4188, -3.5726, -3.8667, -3.8861, -3.9189, -4.0349, -4.1433, -4.2744, -4.3897, -4.5071, -3.0057, -4.8452, -4.9938, -5.3298, -5.426, -5.6248, -5.9638, -6.1048, -4.8692, -6.7364, -6.7367, -6.7367, -6.7367, -6.7368, -4.8164, -3.7247, -4.4147, -5.4906, -4.4583, -4.5801, -3.9765, -5.8859, -2.2295, -2.3635, -2.8672, -2.9958, -3.1751, -3.1752, -3.3584, -3.7075, -3.8048, -4.3049, -4.8281, -4.9926, -4.9927, -5.2635, -5.2672, -2.6966, -5.3704, -3.6141, -5.6412, -5.801, -4.0723, -3.3649, -6.5742, -6.5742, -6.5742, -6.5743, -6.5743, -6.5743, -6.5745, -6.5745, -3.7369, -5.8598, -4.9371, -4.018, -4.1982, -5.7491, -5.7524, -2.3844, -2.9391, -3.022, -3.1839, -3.3351, -3.7325, -3.0713, -3.9269, -4.274, -4.2891, -4.4566, -2.9726, -4.6969, -4.7786, -3.1803, -5.2806, -3.9186, -5.4765, -5.4766, -3.4208, -6.5881, -6.5881, -6.589, -2.2246, -8.7192, -8.7194, -8.7195, -8.7195, -8.7196, -8.7196, -5.5153, -3.9685, -4.6632, -3.1544, -7.2131, -8.6642, -1.7888, -2.7054, -2.8902, -3.1489, -3.6165, -3.6433, -3.7837, -3.8525, -3.8643, -3.917, -4.3386, -4.3752, -4.4196, -4.4216, -4.5433, -4.8904, -4.8904, -4.9534, -4.9534, -5.0648, -5.4552, -5.5389, -6.4721, -6.4721, -6.4721, -6.4721, -2.6667, -3.9812, -3.259, -5.5684, -3.6984, -2.053, -2.3221, -2.5921, -3.532, -3.5994, -3.6784, -3.8269, -3.2631, -4.2284, -4.2653, -4.6182, -1.7172, -5.1403, -5.2399, -2.8952, -6.5474, -6.5474, -6.5479, -6.5482, -6.5482, -5.0401, -4.5643, -8.6782, -8.6784, -8.6784, -8.6784, -8.6784, -8.6784, -8.6785, -8.6785, -8.6784, -8.6784, -6.3765, -1.8337, -2.4416, -2.5919, -3.0437, -3.1562, -3.4757, -3.5603, -3.6578, -3.7179, -4.3949, -2.2249, -4.6991, -4.9239, -2.9274, -6.4459, -4.3812, -8.5767, -8.5768, -8.5771, -8.5772, -8.5772, -8.5773, -8.5772, -8.5772, -8.5773, -8.5772, -8.5773, -8.5772, -8.5773, -8.5772, -8.5772, -8.5772, -8.5772, -8.5772, -8.5412, -8.5713, -8.5772, -1.9735, -2.1938, -2.7018, -2.8209, -2.9913, -3.1651, -3.3327, -3.4007, -3.5814, -3.6114, -3.7081, -3.83, -4.3764, -4.5235, -4.6939, -4.8062, -5.0696, -5.1954, -5.7328, -5.7328, -5.7328, -5.733, -4.5255, -6.506, -6.506, -6.5064, -6.5066, -6.5066, -6.5066, -6.5066, -4.3461, -5.6856, -1.4763, -2.8348, -2.9763, -4.272, -1.9567, -5.3617, -3.7732, -3.1611, -5.7003, -6.4738, -2.6312, -3.5447, -2.7567, -8.6042, -8.6047, -8.6047, -8.6049, -8.6048, -8.6049, -8.6049, -8.6047, -8.6049, -8.6048, -8.605, -8.6049, -8.605, -8.605, -8.605, -8.605, -8.605, -8.6049, -8.605, -2.0307, -2.6592, -2.9648, -3.0004, -3.1691, -3.3542, -3.4613, -3.6108, -3.8425, -4.0933, -4.3963, -4.5819, -1.7657, -8.456, -8.4563, -8.4563, -8.4563, -8.4563, -8.4563, -8.4564, -8.4563, -8.4565, -8.4563, -8.4565, -8.4565, -8.4566, -8.4566, -8.4565, -8.4566, -8.4566, -8.4565, -8.4566, -3.9351, -8.4565, -6.8269, -8.4565, -8.0838, -8.4232, -8.4564, -2.2539, -2.7513, -2.9031, -3.0942, -3.1963, -3.2382, -3.368, -3.5809, -3.7072, -4.0522, -1.962, -4.331, -4.5663, -5.0058, -4.0768, -5.2962, -5.6804, -3.4153, -6.3128, -6.3128, -6.313, -8.444, -8.444, -8.4441, -8.4442, -8.4441, -8.4442, -8.4442, -8.4442, -8.4442, -8.4441, -8.2514, -8.4258, -8.427, -2.3048, -2.9125, -3.1728, -3.2445, -3.2809, -3.6765, -1.8352, -3.8107, -4.2446, -4.4698, -4.6943, -5.9876, -3.1372, -5.1941, -8.1189, -8.1189, -8.1191, -8.1191, -8.1192, -8.1192, -8.1193, -8.1192, -8.1194, -8.1193, -8.1193, -8.1191, -8.1193, -8.1193, -8.1193, -8.1193, -8.1193, -8.1193, -8.1193, -8.1193, -8.1193, -2.0988, -2.1335, -2.5306, -2.9483, -3.5793, -3.6957, -3.7253, -3.7334, -3.828, -4.1807, -4.7198, -5.2914, -5.9235, -5.9235, -5.9236, -5.9236, -5.9236, -8.0551, -8.0552, -8.0552, -8.055, -8.0552, -8.055, -8.0552, -8.0549, -8.0552, -8.0552, -8.0552, -8.055, -8.0552, -8.0552, -8.0551, -8.0551, -8.0552, -8.0552, -8.0487, -8.0552, -1.8813, -3.0674, -3.0755, -3.5061, -3.6065, -3.6507, -3.9934, -4.0387, -4.6245, -5.7358, -5.7365, -2.8051, -7.8675, -7.8674, -7.8675, -7.8674, -7.8676, -7.8676, -7.8676, -7.8676, -7.8677, -7.8675, -7.8677, -7.8676, -7.8677, -7.8674, -7.8677, -7.8677, -7.8677, -7.8677, -7.8676, -7.8676, -7.8676, -7.8677, -1.6445, -3.3193, -4.6652, -5.4384, -7.5696, -7.5696, -7.5696, -7.5696, -7.5696, -7.5696, -7.5697, -7.5698, -7.5698, -7.5699, -7.5699, -7.5698, -7.57, -7.57, -7.57, -7.57, -7.57, -7.57, -7.5701, -7.5701, -7.5701, -7.5701, -7.5701, -7.5701, -7.5701, -7.5701, -7.5701, -7.5701, -7.57, -7.57, -7.57, -7.5701, -7.5701, -7.57, -7.57, -7.5701, -2.5768, -2.687, -3.1577, -4.08, -7.5188, -7.5188, -7.5189, -7.5189, -7.5189, -7.5189, -7.5189, -7.5189, -7.5189, -7.5189, -7.5189, -7.5189, -7.5191, -7.5189, -7.5191, -7.5189, -7.5191, -7.5191, -7.5191, -7.5189, -7.5191, -7.5191, -7.5191, -7.5191, -7.5191, -7.5192, -7.5191, -7.5191, -7.5191, -7.5191, -7.5191], \"loglift\": [30.0, 29.0, 28.0, 27.0, 26.0, 25.0, 24.0, 23.0, 22.0, 21.0, 20.0, 19.0, 18.0, 17.0, 16.0, 15.0, 14.0, 13.0, 12.0, 11.0, 10.0, 9.0, 8.0, 7.0, 6.0, 5.0, 4.0, 3.0, 2.0, 1.0, 1.5195, 1.5177, 1.5167, 1.5095, 1.5072, 1.5064, 1.5048, 1.4965, 1.4943, 1.4817, 1.479, 1.474, 1.4664, 1.4555, 1.4537, 1.4522, 1.4465, 1.4463, 1.4258, 1.4236, 1.4225, 1.4186, 1.4171, 1.4092, 1.3886, 1.3793, 1.3632, 1.363, 1.3572, 1.347, 1.3465, 1.3364, 1.2876, 1.2682, 0.9162, 0.3131, 1.1089, 0.5787, 0.8002, -0.0623, 1.602, 1.5828, 1.575, 1.5624, 1.5536, 1.5255, 1.5209, 1.4938, 1.4833, 1.4713, 1.4568, 1.4447, 1.4404, 1.4292, 1.4156, 1.3969, 1.3794, 1.3707, 1.3559, 1.3493, 1.3254, 1.3184, 1.2423, 1.1787, 1.1445, 1.1329, 1.0008, 0.9654, 0.8029, 0.6427, 0.397, -0.1927, 2.4355, 2.4354, 2.4289, 2.4289, 2.4241, 2.4122, 2.4118, 2.4117, 2.4097, 2.4063, 2.4063, 2.4011, 2.3953, 2.376, 2.3671, 2.3512, 2.3305, 2.3232, 2.3068, 2.2796, 2.2764, 2.2635, 2.2435, 2.2063, 2.1693, 2.1328, 2.0897, 2.0671, 2.04, 2.0185, 1.9917, 1.8019, 1.334, 0.1194, -0.0566, 0.127, 0.5542, 1.451, 0.8623, 0.2057, 0.674, 2.5414, 2.5383, 2.5354, 2.5266, 2.5232, 2.5144, 2.5081, 2.5049, 2.5045, 2.492, 2.4888, 2.4792, 2.4757, 2.4565, 2.4562, 2.422, 2.42, 2.4173, 2.4119, 2.3993, 2.391, 2.3908, 2.3884, 2.3696, 2.3531, 2.3464, 2.3188, 2.3087, 2.3074, 2.3064, 1.8466, 1.1414, 1.5261, -0.4031, -0.6384, 1.0202, 0.7439, 1.3391, -1.7442, 3.0093, 2.9948, 2.9792, 2.9641, 2.9381, 2.9379, 2.9356, 2.9212, 2.9101, 2.9038, 2.9009, 2.8938, 2.8873, 2.8773, 2.8736, 2.871, 2.871, 2.8661, 2.8477, 2.8332, 2.8096, 2.7961, 2.7888, 2.7756, 2.7755, 2.7753, 2.7686, 2.758, 2.7422, 2.7413, 2.2659, 2.2673, 1.684, 0.8887, 1.1089, 1.8559, -0.2977, 2.3152, 3.1093, 3.1066, 3.0921, 3.078, 3.0627, 3.0595, 3.0483, 3.0219, 3.02, 3.0165, 3.0035, 2.99, 2.9719, 2.9543, 2.9344, 2.9135, 2.8656, 2.8291, 2.7305, 2.6978, 2.6235, 2.4749, 2.4047, 2.2022, 2.0303, 2.0302, 2.0302, 2.0302, 2.0301, 1.9578, 0.8054, 1.0297, 0.9559, -0.1702, -0.5158, -1.3834, -1.5538, 3.2206, 3.2172, 3.1993, 3.1932, 3.1834, 3.1834, 3.1714, 3.1422, 3.1322, 3.0653, 2.9581, 2.9145, 2.9145, 2.8305, 2.8293, 2.821, 2.793, 2.7083, 2.6858, 2.6142, 2.6131, 2.2091, 2.1787, 2.1787, 2.1787, 2.1786, 2.1786, 2.1786, 2.1784, 2.1784, 1.5243, 1.6387, 0.7662, -1.6139, -1.6051, -1.219, -1.688, 3.3224, 3.3042, 3.2996, 3.2894, 3.2785, 3.2412, 3.2212, 3.2176, 3.1641, 3.1614, 3.1292, 3.1103, 3.0748, 3.054, 2.9483, 2.8956, 2.8556, 2.8183, 2.8183, 2.648, 2.202, 2.202, 2.2013, 1.3704, 0.3951, 0.395, 0.3948, 0.3948, 0.3948, 0.3948, 0.259, 0.0959, -0.133, -0.7503, -1.2915, -2.1028, 3.3505, 3.3243, 3.3155, 3.3005, 3.2621, 3.2594, 3.2439, 3.2356, 3.2342, 3.2274, 3.1607, 3.1538, 3.145, 3.1446, 3.119, 3.0314, 3.0314, 3.013, 3.013, 2.9784, 2.8349, 2.7995, 2.2871, 2.2871, 2.2871, 2.2871, 1.786, 1.2053, 1.029, 0.9099, -1.2943, 3.3534, 3.3462, 3.3295, 3.2776, 3.271, 3.2628, 3.2457, 3.2152, 3.1867, 3.1803, 3.1074, 3.0726, 2.9573, 2.9221, 2.8919, 2.2362, 2.2362, 2.2359, 2.2356, 2.2356, 1.6236, 1.4537, 0.4361, 0.436, 0.4359, 0.4359, 0.4359, 0.4359, 0.4359, 0.4359, 0.4358, 0.4357, -3.9724, 3.411, 3.3946, 3.3889, 3.3656, 3.3581, 3.3321, 3.3238, 3.3135, 3.3066, 3.1995, 3.1645, 3.1286, 3.0649, 3.019, 2.3241, 1.7017, 0.5374, 0.5373, 0.5372, 0.5372, 0.5372, 0.5371, 0.5371, 0.5371, 0.5371, 0.5371, 0.5371, 0.5371, 0.5371, 0.5371, 0.5371, 0.5371, 0.537, 0.537, -5.3947, -3.213, -6.1731, 3.4085, 3.403, 3.3845, 3.3787, 3.3692, 3.3578, 3.345, 3.3391, 3.3218, 3.3187, 3.3079, 3.2929, 3.203, 3.1712, 3.1295, 3.099, 3.0172, 2.9727, 2.7401, 2.7401, 2.7401, 2.7401, 2.5756, 2.2813, 2.2813, 2.281, 2.2809, 2.2809, 2.2809, 2.2809, 0.4436, 1.0705, 3.5122, 3.4688, 3.4601, 3.3002, 3.1317, 2.9627, 2.9512, 2.8058, 2.8023, 2.3309, 1.4331, 1.1648, 0.8383, 0.5099, 0.5096, 0.5096, 0.5095, 0.5094, 0.5094, 0.5094, 0.5094, 0.5094, 0.5094, 0.5094, 0.5094, 0.5094, 0.5094, 0.5093, 0.5093, 0.5093, 0.5093, 0.5092, 3.6478, 3.6213, 3.6015, 3.5988, 3.5848, 3.5667, 3.5548, 3.5361, 3.5021, 3.4569, 3.3888, 3.3387, 2.9912, 0.6582, 0.658, 0.658, 0.658, 0.658, 0.6579, 0.6579, 0.6579, 0.6578, 0.6578, 0.6578, 0.6578, 0.6578, 0.6578, 0.6578, 0.6578, 0.6578, 0.6578, 0.6578, -1.531, 0.6577, -2.2967, 0.6576, -3.6311, -2.755, -5.3099, 3.6946, 3.669, 3.6583, 3.643, 3.6336, 3.6294, 3.6155, 3.589, 3.5708, 3.5101, 3.4736, 3.4472, 3.3828, 3.2309, 3.2129, 3.1056, 2.6713, 2.5311, 2.5042, 2.5042, 2.5041, 0.6703, 0.6702, 0.6702, 0.6702, 0.6702, 0.6701, 0.6701, 0.6701, 0.6701, 0.6701, -3.7212, -5.8327, -6.0229, 4.1558, 4.1008, 4.0665, 4.0556, 4.0498, 3.9744, 3.9721, 3.943, 3.8174, 3.7361, 3.6431, 2.4937, 2.209, 1.3577, 0.9954, 0.9953, 0.9952, 0.9952, 0.9951, 0.9951, 0.9951, 0.995, 0.995, 0.995, 0.995, 0.995, 0.995, 0.995, 0.995, 0.995, 0.9949, 0.9949, 0.9949, 0.995, 0.995, 4.2254, 4.2234, 4.1941, 4.1495, 4.0429, 4.0166, 4.0095, 4.0076, 3.9837, 3.879, 3.6647, 3.19, 2.9326, 2.9326, 2.9325, 2.9325, 2.9325, 1.0592, 1.0592, 1.0592, 1.0592, 1.0592, 1.0592, 1.0592, 1.0592, 1.0592, 1.0592, 1.0592, 1.0592, 1.0592, 1.0592, 1.0592, 1.0591, 1.0592, 1.0591, -3.5185, 1.0591, 4.5911, 4.4456, 4.444, 4.3436, 4.3152, 4.302, 4.1854, 4.1679, 3.8973, 3.1601, 3.1596, 3.0022, 1.2469, 1.2468, 1.2468, 1.2468, 1.2468, 1.2467, 1.2467, 1.2467, 1.2467, 1.2467, 1.2467, 1.2467, 1.2467, 1.2467, 1.2467, 1.2467, 1.2467, 1.2467, 1.2467, 1.2467, -1.3062, 1.2466, 5.2892, 4.8974, 4.1395, 3.5309, 1.5448, 1.5448, 1.5448, 1.5448, 1.5448, 1.5448, 1.5446, 1.5446, 1.5446, 1.5445, 1.5445, 1.5444, 1.5444, 1.5444, 1.5444, 1.5443, 1.5443, 1.5443, 1.5443, 1.5443, 1.5443, 1.5443, 1.5443, 1.5443, 1.5443, 1.5443, 1.5443, 1.5443, 1.5443, 1.5443, 1.5443, 1.5443, 1.5443, 1.5442, 1.5441, 1.5443, 5.2353, 5.2047, 5.0446, 4.5766, 1.5956, 1.5956, 1.5955, 1.5955, 1.5955, 1.5954, 1.5954, 1.5954, 1.5954, 1.5954, 1.5954, 1.5954, 1.5953, 1.5953, 1.5953, 1.5953, 1.5953, 1.5953, 1.5953, 1.5953, 1.5953, 1.5953, 1.5953, 1.5953, 1.5953, 1.5952, 1.5952, 1.5952, 1.5951, 1.5951, 1.5951]}, \"token.table\": {\"Topic\": [8, 6, 3, 2, 18, 10, 3, 8, 12, 9, 2, 9, 3, 2, 4, 14, 6, 19, 8, 4, 5, 7, 5, 5, 6, 5, 4, 8, 10, 14, 2, 7, 1, 3, 9, 9, 4, 6, 14, 1, 7, 16, 20, 8, 12, 4, 7, 5, 11, 6, 1, 15, 3, 14, 17, 12, 16, 8, 11, 1, 5, 13, 1, 13, 12, 8, 3, 3, 11, 6, 3, 15, 3, 7, 4, 3, 6, 20, 10, 6, 16, 12, 12, 5, 1, 9, 9, 2, 10, 1, 2, 3, 4, 6, 7, 12, 2, 11, 15, 3, 4, 15, 18, 8, 7, 14, 5, 17, 3, 1, 2, 2, 10, 8, 1, 6, 2, 5, 17, 12, 18, 13, 6, 12, 7, 3, 14, 17, 16, 5, 3, 3, 13, 5, 11, 9, 5, 5, 2, 5, 9, 2, 5, 8, 13, 8, 7, 10, 6, 1, 12, 15, 1, 9, 15, 2, 7, 3, 4, 1, 4, 6, 9, 3, 6, 7, 6, 9, 6, 18, 17, 14, 1, 3, 9, 1, 18, 7, 4, 6, 11, 2, 8, 1, 12, 15, 1, 4, 15, 5, 2, 6, 7, 8, 9, 4, 16, 4, 5, 11, 14, 13, 12, 12, 17, 4, 15, 6, 18, 3, 4, 1, 6, 3, 3, 8, 1, 1, 5, 16, 6, 3, 3, 15, 5, 12, 5, 3, 4, 2, 12, 14, 1, 1, 11, 7, 4, 17, 5, 7, 7, 6, 8, 2, 11, 16, 5, 4, 5, 17, 20, 3, 3, 13, 4, 5, 8, 1, 4, 4, 11, 20, 2, 4, 5, 1, 2, 3, 4, 7, 8, 9, 14, 18, 16, 7, 5, 13, 16, 18, 4, 16, 1, 7, 4, 7, 4, 4, 18, 4, 1, 3, 4, 5, 5, 9, 7, 10, 12, 10, 9, 1, 3, 6, 2, 5, 4, 2, 2, 8, 4, 6, 15, 17, 1, 3, 17, 5, 11, 1, 12, 3, 3, 5, 8, 4, 10, 2, 16, 11, 4, 6, 1, 2, 6, 7, 8, 13, 3, 12, 1, 10, 12, 1, 7, 4, 12, 10, 12, 17, 4, 9, 2, 7, 7, 1, 4, 10, 5, 9, 9, 14, 5, 15, 4, 14, 19, 11, 6, 10, 18, 3, 6, 17, 1, 6, 12, 13, 11, 5, 7, 1, 3, 4, 16, 3, 8, 3, 4, 7, 9, 9, 8, 1, 5, 15, 2, 5, 13, 5, 15, 8, 1, 10, 12, 1, 5, 1, 3, 9, 2, 6, 4, 3, 12, 10, 1, 4, 2, 4, 5, 9, 15, 1, 5, 3, 7, 16, 9, 4, 1, 13, 15, 3, 4, 11, 2, 3, 4, 15, 3, 4, 6, 9, 9, 14, 8, 3, 7, 1, 1, 10, 6, 2, 1, 2, 9, 10, 8, 12, 2, 3, 15, 14], \"Freq\": [0.46829514743473255, 0.9690831552350058, 0.783804900379703, 0.9982837463659254, 0.862651866943569, 0.9643537380739605, 0.06322444408252167, 0.8851422171553034, 0.8372827822758921, 0.6449457762966305, 0.9131320287298167, 0.8405866340046402, 0.9101097096628102, 0.9720263804448216, 0.49009549289996795, 0.5037092565916338, 0.8417999568420343, 0.8403193785225795, 0.831749823542736, 0.7664898257240818, 0.02254381840364946, 0.1803505472291957, 0.7590096837717195, 0.5510767096192634, 0.41330753221444755, 0.816226496241125, 0.2683293197236694, 0.6439903673368065, 0.8011282819066732, 0.8895139667763248, 0.6936868836044089, 0.969193538852935, 0.7632788133093542, 0.030129426841158716, 0.20086284560772477, 0.972179040717854, 0.9591530061184992, 0.9135217990457337, 0.9124916744869994, 0.9351248756195024, 0.9583298065334372, 0.8177211334394677, 0.6723507578395896, 0.8051588813266334, 0.9774348518526041, 0.928421257073951, 0.8211393202718608, 0.8857109577669031, 0.9471569601748054, 0.9594569577714656, 0.8757812787828441, 0.8832666452532608, 0.7892160824082298, 0.9145365250198866, 0.8073858555204957, 0.6343114873701422, 0.488612489963403, 0.7690094349312497, 0.15380188698624994, 0.7790183109047316, 0.11685274663570974, 0.09088546960555202, 0.45652056386721696, 0.5021726202539386, 0.921892847235664, 0.5898818535802421, 0.9025894890208341, 0.8792373977248455, 0.9237597488660045, 0.9046989941226768, 0.8768539505767249, 0.8656198439495947, 0.3908570583499325, 0.5862855875248988, 0.9145432993287267, 0.811220961588757, 0.1474947202888649, 0.42688330464747715, 0.8199977144608583, 0.8762948297142275, 0.7419789409157994, 0.5595465819946039, 0.8250185212780585, 0.959079599716927, 0.937014172779722, 0.8453718116186271, 0.7281304913243266, 0.7331643348989157, 0.18329108372472894, 0.5348978929873504, 0.29872952503094713, 0.09540576453867945, 0.05161295458649872, 0.010948202488045183, 0.007820144634317988, 0.9666148117815967, 0.9688705295248125, 0.6708833778654358, 0.3130789096705367, 0.9412684389360475, 0.34276488062242694, 0.5141473209336405, 0.42871548429659334, 0.9112347102523903, 0.5281708636321818, 0.902629411765462, 0.9254530373603275, 0.7403209047673305, 0.9759326879636229, 0.9446551140639213, 0.9175939760110821, 0.7049010071381132, 0.8466498803917848, 0.9090609761065463, 0.881756149316956, 0.9330814304115148, 0.8439259584625142, 0.7500078852568454, 0.7845655023063097, 0.8766875170009129, 0.6651699750444972, 0.9093301287245682, 0.540708066645772, 0.9315236542493909, 0.9803276287894933, 0.9202512831071349, 0.9451152211426863, 0.8766086224126833, 0.737852216068898, 0.7771940465825068, 0.9644482634680446, 0.7487441149873462, 0.9782404902499722, 0.9276667870778372, 0.8724759525076354, 0.6743245268783048, 0.8476688830549992, 0.938753446531327, 0.5334585331269366, 0.2667292665634683, 0.9038804162143527, 0.7581658274684362, 0.0340748686502668, 0.1362994746010672, 0.0681497373005336, 0.8746202211445414, 0.8829555748464485, 0.7950885937273187, 0.7833555141397054, 0.9663964676083435, 0.9774859240052213, 0.9100132621589201, 0.9584690464327944, 0.6449309745316912, 0.9412745006401901, 0.6905898215271047, 0.766152660808418, 0.9604993848677518, 0.9048227684824521, 0.9703094739762901, 0.8663802816952633, 0.13537191901488488, 0.48910249083071594, 0.055294965578875886, 0.9400144148408901, 0.6355330757229437, 0.7979132841844432, 0.8708666923154621, 0.9657814138577111, 0.41693325568414397, 0.9439577337077502, 0.8915072451506486, 0.2759086006678798, 0.6897715016696996, 0.9231091126102482, 0.8106192603195556, 0.6448216729204685, 0.9618944161084428, 0.17411481444453242, 0.827045368611529, 0.9526031751096272, 0.9413736312045689, 0.037654945248182754, 0.8040404154748725, 0.10050505193435906, 0.9122285510645726, 0.9367658988418983, 0.7530069705263238, 0.4956309100348981, 0.888348113647686, 0.8464727616856592, 0.09766993404065298, 0.010852214893405886, 0.03255664468021766, 0.9024802071625142, 0.8723603196242026, 0.9099572740684957, 0.9761898250065062, 0.9876866120158049, 0.8804639164028402, 0.905235910396435, 0.958913312454859, 0.6869247528899428, 0.9552750396297398, 0.8486666340483391, 0.9692903725109038, 0.5210787450139978, 0.9903393224936615, 0.5875856515783945, 0.9541235692868829, 0.8420818781262475, 0.8558600288662187, 0.9180478777556843, 0.8786275316539768, 0.9634159720053015, 0.9630266543274273, 0.9343281093168466, 0.3927035772534905, 0.4663354979885199, 0.12271986789171577, 0.9342083934704976, 0.9630121857686093, 0.9604849009358115, 0.900379989322306, 0.7961657201837717, 0.9293274203968678, 0.8585129760463842, 0.840017069015413, 0.8840053297769935, 0.7864771824882313, 0.8703582873091963, 0.9579767466369064, 0.9570599908091001, 0.7464528202537999, 0.9721040602785151, 0.7680244046129956, 0.7831267642402499, 0.8665313439028421, 0.8968556147346134, 0.8431460504638955, 0.4835865102086241, 0.3070399861092289, 0.6140799722184578, 0.8564322051429134, 0.6972786240288986, 0.8147749562572427, 0.7597569898422956, 0.95581234092533, 0.8453448983667758, 0.5121955025696484, 0.8668616160914854, 0.9749082791271638, 0.9343611496992846, 0.4823016284809985, 0.9759465846326971, 0.4549736862215237, 0.5055263180239152, 0.675374883362302, 0.2701499533449208, 0.2050091399763068, 0.7687842749111504, 0.6258216467303931, 0.45640276958868503, 0.30426851305912334, 0.9326145453840011, 0.2926080252313047, 0.5463742772018167, 0.08027299807230484, 0.04013649903615242, 0.007768354652158532, 0.01683143507967682, 0.009063080427518288, 0.005178903101439022, 0.6000583103491404, 0.8927437264539565, 0.8447466361812188, 0.8264930292904706, 0.9491532124647534, 0.7784177931087719, 0.19460444827719298, 0.9237765002387873, 0.42840475006836576, 0.6334969803807244, 0.21116566012690813, 0.9404063236048253, 0.74296892208737, 0.908366624467266, 0.9312827191804116, 0.9082577533402049, 0.7857874343616885, 0.9633144179091262, 0.6459407451617869, 0.8803402223773936, 0.8883535277692021, 0.8041227581377942, 0.9310528150852194, 0.9456239770706119, 0.9015025678095286, 0.8900656034117967, 0.7689061710192087, 0.927498473892394, 0.8367501836688933, 0.15132716087628922, 0.008901597698605249, 0.9683238638232334, 0.8907861825472108, 0.8196066142279463, 0.8550052451466781, 0.9475076962406378, 0.6913315988400411, 0.7487282460164586, 0.7892935218850299, 0.8989799318458761, 0.9137063104745938, 0.951185602251552, 0.941237715300991, 0.7169743691958694, 0.804786667382397, 0.913908853653649, 0.9062046386686211, 0.7708568601824793, 0.8759472685947859, 0.6431672785373191, 0.32158363926865957, 0.7952307546619756, 0.34326493127316476, 0.6102487667078484, 0.9013520690040022, 0.08194109718218202, 0.6896325734159887, 0.9056301703339172, 0.740739303926265, 0.006810852137834519, 0.7900588479888042, 0.027243408551338076, 0.006810852137834519, 0.04086511282700712, 0.12259533848102135, 0.9428973666006452, 0.9474437152825682, 0.8168681432962844, 0.14415320175816784, 0.5595465819946039, 0.8768634570316911, 0.07014907656253529, 0.4257706676206862, 0.4257706676206862, 0.9543290614353304, 0.5595465819946039, 0.8024162586352555, 0.9243704514985002, 0.8493310025387387, 0.7915887655697982, 0.9618471948948603, 0.9455186473148629, 0.9304192178828198, 0.04327531245966604, 0.9821448889114516, 0.8499748862324551, 0.961553451351202, 0.8892130292045792, 0.9481488537311915, 0.9095882396364048, 0.44180004023385583, 0.954571533646558, 0.8437869327724987, 0.4330610723648038, 0.9202672491262885, 0.44697925482543255, 0.7771329809251332, 0.8570430072609577, 0.7801684732757528, 0.8205241647145284, 0.5642795684802878, 0.8074543280975592, 0.5803708437458505, 0.9124533621507978, 0.5764018313751091, 0.9614426593320361, 0.7593394219790144, 0.6355796306943408, 0.8871915968864866, 0.09703658090945948, 0.013862368701351354, 0.8976198513707764, 0.6848686318132299, 0.4682497306481051, 0.5239343412973753, 0.12327866854055888, 0.3698360056216766, 0.9089173206788618, 0.9777972363997423, 0.8326137190092437, 0.9759519517873639, 0.8140859012239511, 0.6627902014768714, 0.1706834843867279, 0.15171865278820257, 0.6637691059483862, 0.7046077669921269, 0.887705398165062, 0.8892882269149435, 0.19696511538920186, 0.7315847143027497, 0.05627574725405767, 0.959789651281281, 0.7240993744977642, 0.885436899430198, 0.10330097160018976, 0.4660730073110888, 0.918589403132946, 0.9502460174214495, 0.8438093316827359, 0.8464148155016955, 0.7605895168123497, 0.8276224378814578, 0.9649954223090913, 0.9187112740876642, 0.4393005957592148, 0.16735260790827233, 0.2510289118624085, 0.1045953799426702, 0.8469615966828689, 0.8506787350512597, 0.8265410448207383, 0.3204430198350646, 0.6408860396701292, 0.8658805767620159, 0.7462798499031472, 0.9559733780119123, 0.3894850362123106, 0.5842275543184658, 0.933993955371046, 0.06269329481482702, 0.8777061274075783, 0.9756130166514307, 0.754089248008221, 0.16102483477661653, 0.053674944925538835, 0.7782867014203132, 0.6218493375523781, 0.23851755412967932, 0.0340739363042399, 0.09370332483665973, 0.6743245268783048, 0.9370653246391504, 0.9587594227192793, 0.3745980833486732, 0.5618971250230098, 0.9130283741267576, 0.9669940215930928, 0.9598621226676691, 0.879409658782669, 0.42085456353497896, 0.7691281334761823, 0.8390819772086209, 0.07613156918001265, 0.8374472609801392, 0.9503780321720108, 0.559597373280107, 0.7884876390050467, 0.21228513357828183, 0.8379556213309656, 0.6441936645914474], \"Term\": [\"accept\", \"accident\", \"accord\", \"accuse\", \"act\", \"action\", \"activate\", \"activate\", \"activate_body_wear\", \"add\", \"address\", \"adult\", \"advise\", \"allegation\", \"allege\", \"allege\", \"alleged\", \"allegedly\", \"allotted\", \"also\", \"also\", \"also\", \"angry\", \"annual\", \"annual\", \"answer\", \"appear\", \"appear\", \"application\", \"appropriate\", \"approval\", \"area\", \"arrest\", \"arrest\", \"arrest\", \"arrive\", \"ask\", \"assign\", \"assist\", \"attack\", \"attempt\", \"attend\", \"attire\", \"away\", \"back\", \"badge\", \"barricade\", \"become\", \"begin\", \"believe\", \"black\", \"body\", \"bond\", \"boyfriend\", \"break\", \"burglary\", \"business\", \"bwc\", \"bwc\", \"call\", \"call\", \"call\", \"call_service\", \"call_service\", \"camera\", \"card\", \"case\", \"cause\", \"cell\", \"central\", \"change\", \"charge\", \"check\", \"check\", \"child\", \"citation\", \"citation\", \"city\", \"civilian\", \"claim\", \"class\", \"cmt\", \"co\", \"come\", \"commander\", \"commit\", \"compartment\", \"complain\", \"complain\", \"complainant\", \"complainant\", \"complainant\", \"complainant\", \"complainant\", \"complainant\", \"complaint\", \"complete\", \"conduct\", \"conduct\", \"contact\", \"control\", \"control\", \"copy\", \"court\", \"create\", \"crime\", \"criminal\", \"customer\", \"daughter\", \"day\", \"department\", \"deployment\", \"deputy\", \"detail\", \"detective\", \"determine\", \"discharge\", \"dispatch\", \"disrespect\", \"disrespectful\", \"district\", \"disturbance\", \"division\", \"do\", \"document\", \"dog\", \"domestic\", \"domestic_violence\", \"door\", \"dorm\", \"driver\", \"driving\", \"duty\", \"employee\", \"end\", \"entertainment\", \"escort\", \"evidence\", \"explain\", \"explain\", \"eye\", \"fail\", \"fail\", \"fail\", \"fail\", \"false\", \"family\", \"far\", \"fault\", \"feel\", \"female\", \"file\", \"follow\", \"foot\", \"force\", \"frame\", \"friend\", \"front\", \"further\", \"get\", \"give\", \"give\", \"glove\", \"go\", \"go\", \"gra\", \"grab\", \"ground\", \"hand\", \"handgun\", \"handle\", \"happen\", \"harass\", \"harass\", \"head\", \"hear\", \"hearing\", \"hit\", \"home\", \"home\", \"hospital\", \"hour\", \"hour\", \"house\", \"house\", \"however\", \"identify\", \"illegally\", \"improper\", \"inappropriate\", \"incident\", \"incident\", \"incident\", \"incident\", \"include\", \"individual\", \"inform\", \"information\", \"inmate\", \"inspection\", \"instead\", \"instruct\", \"interaction\", \"interview\", \"investigate\", \"investigation\", \"investigator\", \"involve\", \"ip\", \"issue\", \"item\", \"just\", \"know\", \"lane\", \"language\", \"late\", \"later\", \"leave\", \"leave\", \"leave\", \"let\", \"license\", \"light\", \"list\", \"listen\", \"locate\", \"log\", \"lot\", \"loud\", \"lunch\", \"lunch_break\", \"make\", \"male\", \"man\", \"manner\", \"mardi\", \"mark\", \"matter\", \"medical\", \"member\", \"minor\", \"minute\", \"minute\", \"misconduct\", \"miss\", \"more\", \"murder\", \"name\", \"necessary\", \"neck\", \"neglect_duty\", \"neighbor\", \"never\", \"nofty\", \"nopd\", \"notify\", \"notify\", \"number\", \"number\", \"observe\", \"observe\", \"obtain\", \"occur\", \"occur\", \"office\", \"officer\", \"officer\", \"officer\", \"officer\", \"officer\", \"officer\", \"officer\", \"officer\", \"only\", \"open\", \"operation\", \"opso\", \"order\", \"other\", \"other\", \"outside\", \"owner\", \"parade\", \"parade\", \"parent\", \"parish\", \"park\", \"parking\", \"party\", \"pat\", \"pay\", \"peace\", \"pedestrian\", \"perform\", \"permission\", \"person\", \"phone\", \"physical_altercation\", \"pib\", \"picture\", \"place\", \"police\", \"police\", \"police\", \"policy\", \"possible\", \"preliminary\", \"present\", \"prior\", \"problem\", \"profanity\", \"profile\", \"proper\", \"properly\", \"property\", \"pull\", \"quiet\", \"radio\", \"rank\", \"rape\", \"read\", \"rear\", \"receive\", \"receive\", \"record\", \"refuse\", \"refuse\", \"regard\", \"regard\", \"relocate\", \"remove\", \"reply\", \"report\", \"report\", \"report\", \"report\", \"report\", \"report\", \"request\", \"residence\", \"respond\", \"respond\", \"retune\", \"return\", \"return\", \"reveal\", \"reveal\", \"review\", \"reynold\", \"right\", \"road\", \"roll\", \"round\", \"rude\", \"run\", \"say\", \"say\", \"scene\", \"schedule\", \"search\", \"secure\", \"send\", \"sergeant\", \"serve\", \"several\", \"sex\", \"sexual\", \"shift\", \"shirt\", \"sick\", \"side\", \"siren\", \"sit\", \"situation\", \"sleep\", \"snatch\", \"so\", \"solution\", \"speak\", \"staff\", \"stand\", \"state\", \"state\", \"state\", \"statement\", \"status\", \"stay\", \"stop\", \"stop\", \"stop\", \"store\", \"subject\", \"subpoena\", \"summon\", \"supervise\", \"supervision\", \"supervisor\", \"supervisor\", \"supervisor\", \"supervisory\", \"sustain\", \"system\", \"take\", \"take\", \"take\", \"talk\", \"technician\", \"tell\", \"tell\", \"testify\", \"theft\", \"then\", \"there\", \"third\", \"thoroughly\", \"threat\", \"threaten\", \"ticket\", \"time\", \"time\", \"time\", \"time\", \"timely\", \"tone\", \"tour\", \"traffic\", \"traffic\", \"training\", \"trial\", \"turn\", \"unable\", \"unable\", \"unauthorized\", \"unit\", \"unit\", \"unprofessional\", \"uof\", \"use\", \"use\", \"use\", \"vehicle\", \"vehicle\", \"vehicle\", \"vehicle\", \"venue\", \"victim\", \"violate\", \"violation\", \"violation\", \"walk\", \"want\", \"warrant\", \"way\", \"webmail\", \"white\", \"wish\", \"witness\", \"witness\", \"work\", \"worker\", \"write\", \"write\", \"wrong\", \"wss\"]}, \"R\": 30, \"lambda.step\": 0.01, \"plot.opts\": {\"xlab\": \"PC1\", \"ylab\": \"PC2\"}, \"topic.order\": [8, 1, 3, 4, 11, 16, 14, 6, 2, 5, 9, 7, 13, 12, 15, 17, 19, 20, 10, 18]};\n",
       "\n",
       "function LDAvis_load_lib(url, callback){\n",
       "  var s = document.createElement('script');\n",
       "  s.src = url;\n",
       "  s.async = true;\n",
       "  s.onreadystatechange = s.onload = callback;\n",
       "  s.onerror = function(){console.warn(\"failed to load library \" + url);};\n",
       "  document.getElementsByTagName(\"head\")[0].appendChild(s);\n",
       "}\n",
       "\n",
       "if(typeof(LDAvis) !== \"undefined\"){\n",
       "   // already loaded: just create the visualization\n",
       "   !function(LDAvis){\n",
       "       new LDAvis(\"#\" + \"ldavis_el920829624788784965699660803\", ldavis_el920829624788784965699660803_data);\n",
       "   }(LDAvis);\n",
       "}else if(typeof define === \"function\" && define.amd){\n",
       "   // require.js is available: use it to load d3/LDAvis\n",
       "   require.config({paths: {d3: \"https://d3js.org/d3.v5\"}});\n",
       "   require([\"d3\"], function(d3){\n",
       "      window.d3 = d3;\n",
       "      LDAvis_load_lib(\"https://cdn.jsdelivr.net/gh/bmabey/pyLDAvis@3.3.1/pyLDAvis/js/ldavis.v3.0.0.js\", function(){\n",
       "        new LDAvis(\"#\" + \"ldavis_el920829624788784965699660803\", ldavis_el920829624788784965699660803_data);\n",
       "      });\n",
       "    });\n",
       "}else{\n",
       "    // require.js not available: dynamically load d3 & LDAvis\n",
       "    LDAvis_load_lib(\"https://d3js.org/d3.v5.js\", function(){\n",
       "         LDAvis_load_lib(\"https://cdn.jsdelivr.net/gh/bmabey/pyLDAvis@3.3.1/pyLDAvis/js/ldavis.v3.0.0.js\", function(){\n",
       "                 new LDAvis(\"#\" + \"ldavis_el920829624788784965699660803\", ldavis_el920829624788784965699660803_data);\n",
       "            })\n",
       "         });\n",
       "}\n",
       "</script>"
      ],
      "text/plain": [
       "PreparedData(topic_coordinates=              x         y  topics  cluster       Freq\n",
       "topic                                                \n",
       "7     -0.364037 -0.267557       1        1  21.393089\n",
       "0     -0.446584 -0.046063       2        1  20.093397\n",
       "2     -0.210392 -0.305166       3        1   8.468253\n",
       "3     -0.043053 -0.363202       4        1   7.666051\n",
       "10     0.101095  0.375594       5        1   4.834615\n",
       "15    -0.184083  0.324122       6        1   4.374042\n",
       "13    -0.265722  0.175394       7        1   3.896639\n",
       "5     -0.200286 -0.053159       8        1   3.475457\n",
       "1      0.109524 -0.270198       9        1   3.444723\n",
       "4      0.276312 -0.250995      10        1   3.415328\n",
       "8      0.365611 -0.076794      11        1   3.235810\n",
       "6      0.339758  0.187558      12        1   3.233861\n",
       "12    -0.184531  0.105450      13        1   2.937244\n",
       "11     0.012451 -0.145060      14        1   2.525158\n",
       "14     0.001157  0.280105      15        1   2.385714\n",
       "16     0.151400  0.186272      16        1   1.461353\n",
       "18     0.221029 -0.021820      17        1   1.375686\n",
       "19     0.168526  0.083113      18        1   0.944296\n",
       "9      0.088814  0.024210      19        1   0.448768\n",
       "17     0.063009  0.058197      20        1   0.390517, topic_info=             Term        Freq       Total Category  logprob  loglift\n",
       "19         accuse  367.000000  367.000000  Default  30.0000  30.0000\n",
       "32          state  360.000000  360.000000  Default  29.0000  29.0000\n",
       "14           fail  234.000000  234.000000  Default  28.0000  28.0000\n",
       "30        officer  772.000000  772.000000  Default  27.0000  27.0000\n",
       "1     complainant  639.000000  639.000000  Default  26.0000  26.0000\n",
       "...           ...         ...         ...      ...      ...      ...\n",
       "635        school    0.018115    0.941057  Topic20  -7.5191   1.5952\n",
       "518   subordinate    0.018115    0.941062  Topic20  -7.5191   1.5952\n",
       "776         allow    0.018116    0.941197  Topic20  -7.5191   1.5951\n",
       "1025     handcuff    0.018116    0.941218  Topic20  -7.5191   1.5951\n",
       "624        submit    0.018115    0.941133  Topic20  -7.5191   1.5951\n",
       "\n",
       "[749 rows x 6 columns], token_table=      Topic      Freq      Term\n",
       "term                           \n",
       "317       8  0.468295    accept\n",
       "431       6  0.969083  accident\n",
       "206       3  0.783805    accord\n",
       "19        2  0.998284    accuse\n",
       "319      18  0.862652       act\n",
       "...     ...       ...       ...\n",
       "405      12  0.559597    worker\n",
       "70        2  0.788488     write\n",
       "70        3  0.212285     write\n",
       "143      15  0.837956     wrong\n",
       "361      14  0.644194       wss\n",
       "\n",
       "[464 rows x 3 columns], R=30, lambda_step=0.01, plot_opts={'xlab': 'PC1', 'ylab': 'PC2'}, topic_order=[8, 1, 3, 4, 11, 16, 14, 6, 2, 5, 9, 7, 13, 12, 15, 17, 19, 20, 10, 18])"
      ]
     },
     "execution_count": 49,
     "metadata": {},
     "output_type": "execute_result"
    }
   ],
   "source": [
    "pyLDAvis.enable_notebook()\n",
    "vis = pyLDAvis.gensim_models.prepare(lda_model, train_corpus, id2word, mds=\"mmds\", R=30)\n",
    "vis"
   ]
  }
 ],
 "metadata": {
  "kernelspec": {
   "display_name": "Python 3.9.11 64-bit",
   "language": "python",
   "name": "python3"
  },
  "language_info": {
   "codemirror_mode": {
    "name": "ipython",
    "version": 3
   },
   "file_extension": ".py",
   "mimetype": "text/x-python",
   "name": "python",
   "nbconvert_exporter": "python",
   "pygments_lexer": "ipython3",
   "version": "3.9.11 (tags/v3.9.11:2de452f, Mar 16 2022, 14:33:45) [MSC v.1929 64 bit (AMD64)]"
  },
  "orig_nbformat": 4,
  "vscode": {
   "interpreter": {
    "hash": "f6c8f846148a3e4d140e6ddf63c190cff559dcf260a4a21539f0978f2b58638c"
   }
  }
 },
 "nbformat": 4,
 "nbformat_minor": 2
}

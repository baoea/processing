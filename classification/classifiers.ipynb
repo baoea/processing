{
 "cells": [
  {
   "cell_type": "code",
   "execution_count": 144,
   "metadata": {},
   "outputs": [],
   "source": [
    "import pandas as pd\n",
    "import numpy as np\n",
    "from sklearn.metrics import f1_score, confusion_matrix\n",
    "from top2vec import Top2Vec\n",
    "from lib.classifiers import logistic_regression, sgd_classifier, sgd_huber_classifier\n",
    "from lib.data import training_data, test_data\n",
    "from lib.vectors import bert_vectors, gensim_vectors, top2vec_vectors"
   ]
  },
  {
   "cell_type": "code",
   "execution_count": 145,
   "metadata": {},
   "outputs": [],
   "source": [
    "training_data = training_data()\n",
    "test_data = test_data()"
   ]
  },
  {
   "cell_type": "code",
   "execution_count": 146,
   "metadata": {},
   "outputs": [],
   "source": [
    "bert_train_vecs, bert_test_vecs = bert_vectors()\n",
    "gensim_train_vecs, gensim_test_vecs = gensim_vectors()\n",
    "t2v_train_vecs, t2v_test_vecs = top2vec_vectors()"
   ]
  },
  {
   "cell_type": "code",
   "execution_count": 147,
   "metadata": {},
   "outputs": [],
   "source": [
    "X = np.array(t2v_train_vecs)\n",
    "y = np.array(training_data.target)\n",
    "y = np.pad(y, pad_width=((463,0)), mode='constant')\n",
    "\n",
    "X_test = np.array(t2v_test_vecs)\n",
    "y_test = np.array(test_data.target)"
   ]
  },
  {
   "cell_type": "code",
   "execution_count": 148,
   "metadata": {},
   "outputs": [],
   "source": [
    "# X_test = np.array(gensim_test_vecs)\n",
    "# y_test = np.array(test_data.target)\n",
    "# X_test = np.pad(X_test, pad_width=((0,0),(0,10)), mode='constant')\n",
    "# X = np.array(gensim_train_vecs)\n",
    "# X = np.pad(X, pad_width=((0,0),(0,10)), mode='constant')\n",
    "\n",
    "# y = np.array(training_data.target)\n",
    "# y = np.pad(y, pad_width=((463,0)), mode='constant')"
   ]
  },
  {
   "cell_type": "code",
   "execution_count": 149,
   "metadata": {},
   "outputs": [],
   "source": [
    "# X_test = np.array(bert_test_vecs)\n",
    "# y_test = np.array(test_data.target)\n",
    "# X = np.array(bert_train_vecs)\n",
    "\n",
    "# y = np.array(training_data.target)\n",
    "# y = np.pad(y, pad_width=((463,0)), mode='constant')"
   ]
  },
  {
   "cell_type": "code",
   "execution_count": 150,
   "metadata": {},
   "outputs": [
    {
     "name": "stderr",
     "output_type": "stream",
     "text": [
      "c:\\Users\\PC\\AppData\\Local\\Programs\\Python\\Python39\\lib\\site-packages\\scipy\\optimize\\_linesearch.py:305: LineSearchWarning: The line search algorithm did not converge\n",
      "  warn('The line search algorithm did not converge', LineSearchWarning)\n",
      "c:\\Users\\PC\\AppData\\Local\\Programs\\Python\\Python39\\lib\\site-packages\\sklearn\\utils\\optimize.py:203: UserWarning: Line Search failed\n",
      "  warnings.warn(\"Line Search failed\")\n",
      "c:\\Users\\PC\\AppData\\Local\\Programs\\Python\\Python39\\lib\\site-packages\\scipy\\optimize\\_linesearch.py:305: LineSearchWarning: The line search algorithm did not converge\n",
      "  warn('The line search algorithm did not converge', LineSearchWarning)\n",
      "c:\\Users\\PC\\AppData\\Local\\Programs\\Python\\Python39\\lib\\site-packages\\sklearn\\utils\\optimize.py:203: UserWarning: Line Search failed\n",
      "  warnings.warn(\"Line Search failed\")\n",
      "c:\\Users\\PC\\AppData\\Local\\Programs\\Python\\Python39\\lib\\site-packages\\scipy\\optimize\\_linesearch.py:305: LineSearchWarning: The line search algorithm did not converge\n",
      "  warn('The line search algorithm did not converge', LineSearchWarning)\n",
      "c:\\Users\\PC\\AppData\\Local\\Programs\\Python\\Python39\\lib\\site-packages\\sklearn\\utils\\optimize.py:203: UserWarning: Line Search failed\n",
      "  warnings.warn(\"Line Search failed\")\n",
      "c:\\Users\\PC\\AppData\\Local\\Programs\\Python\\Python39\\lib\\site-packages\\scipy\\optimize\\_linesearch.py:305: LineSearchWarning: The line search algorithm did not converge\n",
      "  warn('The line search algorithm did not converge', LineSearchWarning)\n",
      "c:\\Users\\PC\\AppData\\Local\\Programs\\Python\\Python39\\lib\\site-packages\\sklearn\\utils\\optimize.py:203: UserWarning: Line Search failed\n",
      "  warnings.warn(\"Line Search failed\")\n",
      "c:\\Users\\PC\\AppData\\Local\\Programs\\Python\\Python39\\lib\\site-packages\\scipy\\optimize\\_linesearch.py:305: LineSearchWarning: The line search algorithm did not converge\n",
      "  warn('The line search algorithm did not converge', LineSearchWarning)\n",
      "c:\\Users\\PC\\AppData\\Local\\Programs\\Python\\Python39\\lib\\site-packages\\sklearn\\utils\\optimize.py:203: UserWarning: Line Search failed\n",
      "  warnings.warn(\"Line Search failed\")\n"
     ]
    },
    {
     "name": "stdout",
     "output_type": "stream",
     "text": [
      "Train Logistic Regression Val f1: 0.587 +- 0.000\n",
      "Train Logisitic Regression SGD Val f1: 0.590 +- 0.000\n",
      "Train SVM Huber Val f1: 0.642 +- 0.000\n"
     ]
    }
   ],
   "source": [
    "cv_lr_f1_train, cv_lrsgd_f1_train, cv_svcsgd_f1_train,  = [], [], []\n",
    "\n",
    "\n",
    "lr_train, y_val_lr_train, X_val_scale_lr_train, lr_scaler_train = logistic_regression(X, y)\n",
    "y_pred_lr_train = lr_train.predict(lr_scaler_train.transform(X_val_scale_lr_train))\n",
    "cv_lr_f1_train.append(f1_score(y_val_lr_train, y_pred_lr_train, average='weighted'))\n",
    "\n",
    "\n",
    "sgd_train, y_val_sgd_train, X_val_scale_sgd_train, sgd_scaler_train = sgd_classifier(X, y)\n",
    "y_pred_sgd_train = sgd_train.predict(sgd_scaler_train.transform(X_val_scale_sgd_train))\n",
    "cv_lrsgd_f1_train.append(f1_score(y_val_sgd_train, y_pred_sgd_train, average=\"weighted\"))\n",
    "\n",
    "\n",
    "sgd_huber_train, y_val_sgd_huber_train, X_val_scale_sgd_huber_train, sgd_huber_scaler_train = sgd_huber_classifier(X, y)\n",
    "y_pred_sgd_huber_train = sgd_huber_train.predict(sgd_huber_scaler_train.transform(X_val_scale_sgd_huber_train))\n",
    "cv_svcsgd_f1_train.append(f1_score(y_val_sgd_huber_train, y_pred_sgd_huber_train, average=\"weighted\"))\n",
    "\n",
    "\n",
    "print(f'Train Logistic Regression Val f1: {np.mean(cv_lr_f1_train):.3f} +- {np.std(cv_lr_f1_train):.3f}')\n",
    "print(f'Train Logisitic Regression SGD Val f1: {np.mean(cv_lrsgd_f1_train):.3f} +- {np.std(cv_lrsgd_f1_train):.3f}')\n",
    "print(f'Train SVM Huber Val f1: {np.mean(cv_svcsgd_f1_train):.3f} +- {np.std(cv_svcsgd_f1_train):.3f}')"
   ]
  },
  {
   "cell_type": "code",
   "execution_count": 151,
   "metadata": {},
   "outputs": [
    {
     "name": "stdout",
     "output_type": "stream",
     "text": [
      "Test Logistic Regression Val f1: 0.538 +- 0.000\n",
      "Test Logisitic Regression SGD Val f1: 0.527 +- 0.000\n",
      "Test SVM Huber Val f1: 0.583 +- 0.000\n"
     ]
    }
   ],
   "source": [
    "cv_lr_f1_test, cv_lrsgd_f1_test, cv_svcsgd_f1_test,  = [], [], []\n",
    "\n",
    "\n",
    "lr_test, y_val_lr_test, X_val_scale_lr_test, lr_scaler_test = logistic_regression(X_test, y_test)\n",
    "y_pred_lr_test = lr_test.predict(lr_scaler_test.transform(X_val_scale_lr_test))\n",
    "cv_lr_f1_test.append(f1_score(y_val_lr_test, y_pred_lr_test, average='weighted'))\n",
    "\n",
    "\n",
    "sgd_test, y_val_sgd_test, X_val_scale_sgd_test, sgd_scaler_test = sgd_classifier(X_test, y_test)\n",
    "y_pred_sgd_test = sgd_test.predict(sgd_scaler_test.transform(X_val_scale_sgd_test))\n",
    "cv_lrsgd_f1_test.append(f1_score(y_val_sgd_test, y_pred_sgd_test, average=\"weighted\"))\n",
    "\n",
    "\n",
    "sgd_huber_test, y_val_sgd_huber_test, X_val_scale_sgd_huber_test, sgd_huber_scaler_test = sgd_huber_classifier(X_test, y_test)\n",
    "y_pred_sgd_huber_test = sgd_huber_test.predict(sgd_huber_scaler_test.transform(X_val_scale_sgd_huber_test))\n",
    "cv_svcsgd_f1_test.append(f1_score(y_val_sgd_huber_test, y_pred_sgd_huber_test, average=\"weighted\"))\n",
    "\n",
    "\n",
    "print(f'Test Logistic Regression Val f1: {np.mean(cv_lr_f1_test):.3f} +- {np.std(cv_lr_f1_test):.3f}')\n",
    "print(f'Test Logisitic Regression SGD Val f1: {np.mean(cv_lrsgd_f1_test):.3f} +- {np.std(cv_lrsgd_f1_test):.3f}')\n",
    "print(f'Test SVM Huber Val f1: {np.mean(cv_svcsgd_f1_test):.3f} +- {np.std(cv_svcsgd_f1_test):.3f}')"
   ]
  },
  {
   "cell_type": "code",
   "execution_count": 152,
   "metadata": {},
   "outputs": [],
   "source": [
    "test_data[\"lr_scores\"] = lr_train.predict(lr_scaler_train.transform(X_test))\n",
    "test_data[\"lr_scores_prob_1\"] = lr_train.predict_proba(lr_scaler_train.transform(X_test))[:, 1]\n",
    "\n",
    "test_data[\"sgd_scores\"] = sgd_train.predict(sgd_scaler_train.transform(X_test))\n",
    "test_data[\"sgd_scores_prob_1\"] = sgd_train.predict_proba(sgd_scaler_train.transform(X_test))[:, 1]\n",
    "\n",
    "test_data[\"sgd_huber_scores\"] = sgd_huber_train.predict(sgd_huber_scaler_train.transform(X_test))\n",
    "test_data[\"sgd_huber_scores_prob_1\"] = sgd_huber_train.predict_proba(sgd_huber_scaler_train.transform(X_test))[:, 1]"
   ]
  },
  {
   "cell_type": "code",
   "execution_count": 153,
   "metadata": {},
   "outputs": [
    {
     "data": {
      "text/plain": [
       "0    0.581907\n",
       "1    0.418093\n",
       "Name: lr_scores, dtype: float64"
      ]
     },
     "execution_count": 153,
     "metadata": {},
     "output_type": "execute_result"
    }
   ],
   "source": [
    "test_pred_df = test_data[test_data.target.astype(str).isin([\"0\"])]\n",
    "test_pred_df.lr_scores.value_counts(normalize=True)\n"
   ]
  },
  {
   "cell_type": "code",
   "execution_count": 154,
   "metadata": {},
   "outputs": [
    {
     "data": {
      "text/plain": [
       "270"
      ]
     },
     "execution_count": 154,
     "metadata": {},
     "output_type": "execute_result"
    }
   ],
   "source": [
    "y_pred_lr_train = np.pad(y_pred_lr_train, pad_width=((155,0)), mode='constant')\n",
    "tn, fp, fn, tp = confusion_matrix(y_test, y_pred_lr_train).ravel()"
   ]
  }
 ],
 "metadata": {
  "kernelspec": {
   "display_name": "Python 3",
   "language": "python",
   "name": "python3"
  },
  "language_info": {
   "codemirror_mode": {
    "name": "ipython",
    "version": 3
   },
   "file_extension": ".py",
   "mimetype": "text/x-python",
   "name": "python",
   "nbconvert_exporter": "python",
   "pygments_lexer": "ipython3",
   "version": "3.9.11"
  },
  "orig_nbformat": 4,
  "vscode": {
   "interpreter": {
    "hash": "f6c8f846148a3e4d140e6ddf63c190cff559dcf260a4a21539f0978f2b58638c"
   }
  }
 },
 "nbformat": 4,
 "nbformat_minor": 2
}

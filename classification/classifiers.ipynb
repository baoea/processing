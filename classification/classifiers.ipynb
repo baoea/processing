{
 "cells": [
  {
   "cell_type": "code",
   "execution_count": 266,
   "metadata": {},
   "outputs": [
    {
     "name": "stderr",
     "output_type": "stream",
     "text": [
      "[nltk_data] Downloading package stopwords to\n",
      "[nltk_data]     C:\\Users\\PC\\AppData\\Roaming\\nltk_data...\n",
      "[nltk_data]   Package stopwords is already up-to-date!\n"
     ]
    }
   ],
   "source": [
    "import pickle\n",
    "import gensim\n",
    "import pyLDAvis\n",
    "import pyLDAvis.gensim_models\n",
    "import spacy\n",
    "import pandas as pd\n",
    "import nltk; nltk.download('stopwords')\n",
    "import gensim.corpora as corpora\n",
    "from gensim.utils import simple_preprocess\n",
    "from gensim.models import CoherenceModel\n",
    "import re\n",
    "import warnings\n",
    "from pprint import pprint\n",
    "from sklearn.model_selection import train_test_split\n",
    "import numpy as np\n",
    "from sklearn.metrics import accuracy_score\n",
    "from sklearn.linear_model import LogisticRegression\n",
    "from sklearn.naive_bayes import GaussianNB, MultinomialNB\n",
    "from sklearn.preprocessing import StandardScaler, MinMaxScaler\n",
    "import seaborn as sns\n",
    "%config InlineBackend.figure_formats = ['retina']\n",
    "from sklearn.metrics import f1_score\n",
    "from sklearn import linear_model\n",
    "from sklearn import metrics\n",
    "from sklearn.model_selection import KFold\n",
    "from sklearn.metrics import fbeta_score\n",
    "import matplotlib.pyplot as plt\n",
    "from top2vec import Top2Vec\n",
    "from nltk.corpus import stopwords\n",
    "from gensim.models import TfidfModel\n",
    "from sklearn.ensemble import HistGradientBoostingClassifier\n",
    "from sklearn.datasets import load_iris\n",
    "from bertopic import BERTopic\n",
    "from sentence_transformers import SentenceTransformer\n",
    "import json"
   ]
  },
  {
   "cell_type": "code",
   "execution_count": 267,
   "metadata": {},
   "outputs": [],
   "source": [
    "training_data = pd.read_csv(\"training_data/training_data.csv\")\n",
    "test_data = pd.read_csv(\"test_data/test_data.csv\")"
   ]
  },
  {
   "cell_type": "code",
   "execution_count": 268,
   "metadata": {},
   "outputs": [
    {
     "data": {
      "text/plain": [
       "0    925\n",
       "1    155\n",
       "Name: target, dtype: int64"
      ]
     },
     "execution_count": 268,
     "metadata": {},
     "output_type": "execute_result"
    }
   ],
   "source": [
    "training_data.target.value_counts()"
   ]
  },
  {
   "cell_type": "code",
   "execution_count": 269,
   "metadata": {},
   "outputs": [
    {
     "data": {
      "text/plain": [
       "0    395\n",
       "1     68\n",
       "Name: target, dtype: int64"
      ]
     },
     "execution_count": 269,
     "metadata": {},
     "output_type": "execute_result"
    }
   ],
   "source": [
    "test_data.target.value_counts()"
   ]
  },
  {
   "cell_type": "code",
   "execution_count": 270,
   "metadata": {},
   "outputs": [],
   "source": [
    "################################################### bert ##############################################################################"
   ]
  },
  {
   "cell_type": "code",
   "execution_count": 271,
   "metadata": {},
   "outputs": [],
   "source": [
    "bert_train_vecs = pd.read_csv(\"vecs/bert_train_vecs.csv\")\n",
    "bert_train_vecs = bert_train_vecs.values.tolist()"
   ]
  },
  {
   "cell_type": "code",
   "execution_count": 272,
   "metadata": {},
   "outputs": [
    {
     "name": "stderr",
     "output_type": "stream",
     "text": [
      "Batches: 100%|██████████| 15/15 [00:13<00:00,  1.14it/s]\n"
     ]
    }
   ],
   "source": [
    "bert_test_docs = test_data.allegation_desc\n",
    "bert_test_docs = json.loads(bert_test_docs.to_json(orient='records'))\n",
    "\n",
    "sentence_model = SentenceTransformer(\"all-MiniLM-L6-v2\")\n",
    "bert_test_vecs = sentence_model.encode(bert_test_docs, show_progress_bar=True)"
   ]
  },
  {
   "cell_type": "code",
   "execution_count": 273,
   "metadata": {},
   "outputs": [],
   "source": [
    "################################################### gensim ##############################################################################"
   ]
  },
  {
   "cell_type": "code",
   "execution_count": 274,
   "metadata": {},
   "outputs": [],
   "source": [
    "gensim_train_vecs = pd.read_csv(\"vecs/gensim_train_vecs.csv\")\n",
    "gensim_train_vecs = gensim_train_vecs.values.tolist()"
   ]
  },
  {
   "cell_type": "code",
   "execution_count": 275,
   "metadata": {},
   "outputs": [],
   "source": [
    "gensim_model = gensim.models.ldamodel.LdaModel.load(\"models/gensim_train.model\")"
   ]
  },
  {
   "cell_type": "code",
   "execution_count": 276,
   "metadata": {},
   "outputs": [],
   "source": [
    "gensim_test_docs = test_data.allegation_desc\n",
    "\n",
    "def lemmatization(descs, allowed_pos_tags=[\"NOUN\", \"ADJ\", \"VERB\", \"ADV\"]):\n",
    "    nlp = spacy.load(\"en_core_web_sm\", disable=[\"parser\", \"ner\"])\n",
    "    final_text = []\n",
    "    for desc in descs:\n",
    "        doc = nlp(desc)\n",
    "        new_text = \" \".join([token.lemma_ for token in doc if token.pos_ in allowed_pos_tags])\n",
    "        final_text.append(new_text)\n",
    "    return (final_text)\n",
    "\n",
    "lemmatized_texts = lemmatization(gensim_test_docs)\n",
    "\n",
    "def gen_words(texts):\n",
    "    final = []\n",
    "    for text in texts:\n",
    "        new = gensim.utils.simple_preprocess(text, deacc=True)\n",
    "        final.append(new)\n",
    "    return (final)\n",
    "\n",
    "data_words = gen_words(lemmatized_texts)\n",
    "\n",
    "bigram_phrases = gensim.models.Phrases(data_words, min_count=5, threshold=50)\n",
    "trigram_phrases = gensim.models.Phrases(bigram_phrases[data_words], threshold=50)\n",
    "\n",
    "bigram = gensim.models.phrases.Phraser(bigram_phrases)\n",
    "trigram = gensim.models.phrases.Phraser(trigram_phrases)\n",
    "\n",
    "def make_bigrams(texts):\n",
    "    return list(bigram[doc] for doc in texts)\n",
    "\n",
    "def make_trigrams(texts):\n",
    "    return list(trigram[bigram[doc]] for doc in texts)\n",
    "\n",
    "data_bigrams = make_bigrams(data_words)\n",
    "data_bigrams_trigrams = make_trigrams(data_words)\n",
    "\n",
    "id2word = corpora.Dictionary(data_bigrams_trigrams)\n",
    "\n",
    "texts = data_bigrams_trigrams\n",
    "\n",
    "test_corpus = [id2word.doc2bow(text) for text in texts]\n",
    "\n",
    "tdidf = TfidfModel(test_corpus, id2word=id2word)\n",
    "\n",
    "low_value = 0.03\n",
    "words = []\n",
    "words_missing_in_tdif = []\n",
    "\n",
    "for i in range(0, len(test_corpus)):\n",
    "    bow = test_corpus[i]\n",
    "    low_value_words = []\n",
    "    tdif_ids = [id for id, value in tdidf[bow]]\n",
    "    bow_ids = [id for id, value in bow]\n",
    "    low_value_words = [id for id, value in tdidf[bow] if value < low_value]\n",
    "    drops = low_value_words+words_missing_in_tdif\n",
    "    for item in drops:\n",
    "        words.append(id2word[item])\n",
    "    words_missing_in_tdif = [id for id in bow_ids if id not in tdif_ids]\n",
    "\n",
    "    new_bow = [b for b in bow if b[0] not in low_value_words and b[0] not in words_missing_in_tdif]\n",
    "    test_corpus[i] = new_bow\n",
    "\n",
    "def get_test_vecs():\n",
    "    gensim_test_vecs = []\n",
    "    for i in range(len(gensim_test_docs)):\n",
    "        top_topics = gensim_model.get_document_topics(test_corpus[i], minimum_probability=0.0)\n",
    "        topic_vec = [top_topics[i][1] for i in range(10)]\n",
    "        topic_vec.extend([len(gensim_test_docs.iloc[i])]) # length review\n",
    "        gensim_test_vecs.append(topic_vec)\n",
    "    return gensim_test_vecs"
   ]
  },
  {
   "cell_type": "code",
   "execution_count": 277,
   "metadata": {},
   "outputs": [],
   "source": [
    "gensim_test_vecs = get_test_vecs()"
   ]
  },
  {
   "cell_type": "code",
   "execution_count": 278,
   "metadata": {},
   "outputs": [],
   "source": [
    "################################################### top2vec ##############################################################################"
   ]
  },
  {
   "cell_type": "code",
   "execution_count": 279,
   "metadata": {},
   "outputs": [],
   "source": [
    "t2v_train_model = Top2Vec.load(\"models/top2vec_train_model\")\n",
    "t2v_train_vecs = t2v_train_model.document_vectors"
   ]
  },
  {
   "cell_type": "code",
   "execution_count": 280,
   "metadata": {},
   "outputs": [],
   "source": [
    "def convert_test_data_to_list(data):\n",
    "    t2v_test_docs = [x for x in data[\"allegation_desc\"]]\n",
    "    return t2v_test_docs"
   ]
  },
  {
   "cell_type": "code",
   "execution_count": 281,
   "metadata": {},
   "outputs": [
    {
     "name": "stderr",
     "output_type": "stream",
     "text": [
      "2023-02-01 14:14:37,093 - top2vec - INFO - Pre-processing documents for training\n",
      "2023-02-01 14:14:37,150 - top2vec - INFO - Creating joint document/word embedding\n",
      "2023-02-01 14:14:38,097 - top2vec - INFO - Creating lower dimension embedding of documents\n",
      "2023-02-01 14:14:43,013 - top2vec - INFO - Finding dense areas of documents\n",
      "2023-02-01 14:14:43,060 - top2vec - INFO - Finding topics\n"
     ]
    }
   ],
   "source": [
    "t2v_test_docs = convert_test_data_to_list(test_data)\n",
    "t2v_test_model = Top2Vec(t2v_test_docs, embedding_model_path=\"models/top2vec_train_model\")\n",
    "t2v_test_vecs = t2v_test_model.document_vectors"
   ]
  },
  {
   "cell_type": "code",
   "execution_count": 282,
   "metadata": {},
   "outputs": [],
   "source": [
    "############################################################# regression #################################################################"
   ]
  },
  {
   "cell_type": "code",
   "execution_count": 283,
   "metadata": {},
   "outputs": [],
   "source": [
    "# X_test = np.array(t2v_test_vecs)\n",
    "# y_test = np.array(test_data.target)\n",
    "# X = np.array(t2v_train_vecs)\n",
    "# y = np.array(training_data.target)\n",
    "# y = np.pad(y, pad_width=((463,0)), mode='constant')"
   ]
  },
  {
   "cell_type": "code",
   "execution_count": 284,
   "metadata": {},
   "outputs": [],
   "source": [
    "# X_test = np.array(gensim_test_vecs)\n",
    "# y_test = np.array(test_data.target)\n",
    "# X_test = np.pad(X_test, pad_width=((0,0),(0,10)), mode='constant')\n",
    "# X = np.array(gensim_train_vecs)\n",
    "\n",
    "# y = np.array(training_data.target)\n",
    "# y = np.pad(y, pad_width=((463,0)), mode='constant')"
   ]
  },
  {
   "cell_type": "code",
   "execution_count": 285,
   "metadata": {},
   "outputs": [],
   "source": [
    "X_test = np.array(bert_test_vecs)\n",
    "y_test = np.array(test_data.target)\n",
    "X = np.array(bert_train_vecs)\n",
    "\n",
    "y = np.array(training_data.target)\n",
    "y = np.pad(y, pad_width=((463,0)), mode='constant')"
   ]
  },
  {
   "cell_type": "code",
   "execution_count": 286,
   "metadata": {},
   "outputs": [
    {
     "name": "stdout",
     "output_type": "stream",
     "text": [
      "Logistic Regression Val f1: 0.564 +- 0.019\n",
      "Logisitic Regression SGD Val f1: 0.776 +- 0.026\n",
      "SVM Huber Val f1: 0.831 +- 0.028\n"
     ]
    }
   ],
   "source": [
    "kf = KFold(5, shuffle=True, random_state=48)\n",
    "cv_lr_f1, cv_lrsgd_f1, cv_svcsgd_f1,  = [], [], []\n",
    "\n",
    "for train_ind, val_ind in kf.split(X, y):\n",
    "    X_train, y_train = X[train_ind], y[train_ind]\n",
    "    X_val, y_val = X[val_ind], y[val_ind]\n",
    "    \n",
    "    # Scale Data\n",
    "    scaler = StandardScaler()\n",
    "    X_train_scale = scaler.fit_transform(X_train)\n",
    "    X_val_scale = scaler.transform(X_val)\n",
    "\n",
    "    # Logisitic Regression\n",
    "    lr = LogisticRegression(\n",
    "        class_weight= 'balanced',\n",
    "        solver='newton-cg',\n",
    "        fit_intercept=True,\n",
    "    ).fit(X_train_scale, y_train)\n",
    "\n",
    "    test_data[\"lr_scores\"] = lr.predict(scaler.transform(X_test))\n",
    "    test_data[\"lr_scores_prob_1\"] = lr.predict_proba(scaler.transform(X_test))[:, 1]\n",
    "\n",
    "    y_pred = lr.predict(scaler.transform(X_val_scale))\n",
    "    cv_lr_f1.append(f1_score(y_val, y_pred, average='weighted'))\n",
    "    \n",
    "    # Logistic Regression Mini-Batch SGD\n",
    "    sgd = linear_model.SGDClassifier(\n",
    "        max_iter=1000,\n",
    "        tol=1e-3,\n",
    "        loss='log',\n",
    "        class_weight='balanced'\n",
    "    ).fit(X_train_scale, y_train)\n",
    "\n",
    "    test_data[\"sgd_scores\"] = sgd.predict(scaler.transform(X_test))\n",
    "    test_data[\"sgd_scores_prob_1\"] = sgd.predict_proba(scaler.transform(X_test))[:, 1]\n",
    "\n",
    "    y_pred = sgd.predict(X_val_scale)\n",
    "    cv_lrsgd_f1.append(f1_score(y_val, y_pred, average=\"weighted\"))\n",
    "    \n",
    "    # SGD Modified Huber\n",
    "    sgd_huber = linear_model.SGDClassifier(\n",
    "        max_iter=1000,\n",
    "        tol=1e-3,\n",
    "        alpha=20,\n",
    "        loss='modified_huber',\n",
    "        class_weight='balanced'\n",
    "    ).fit(X_train_scale, y_train)\n",
    "\n",
    "    test_data[\"sgd_huber_scores\"] = sgd_huber.predict(scaler.transform(X_test))\n",
    "    test_data[\"sgd_huber_scores_prob_1\"] = sgd_huber.predict_proba(scaler.transform(X_test))[:, 1]\n",
    "    \n",
    "    y_pred = sgd_huber.predict(X_val_scale)\n",
    "    cv_svcsgd_f1.append(f1_score(y_val, y_pred, average=\"weighted\"))\n",
    "\n",
    "print(f'Logistic Regression Val f1: {np.mean(cv_lr_f1):.3f} +- {np.std(cv_lr_f1):.3f}')\n",
    "print(f'Logisitic Regression SGD Val f1: {np.mean(cv_lrsgd_f1):.3f} +- {np.std(cv_lrsgd_f1):.3f}')\n",
    "print(f'SVM Huber Val f1: {np.mean(cv_svcsgd_f1):.3f} +- {np.std(cv_svcsgd_f1):.3f}')"
   ]
  },
  {
   "cell_type": "code",
   "execution_count": 287,
   "metadata": {},
   "outputs": [
    {
     "data": {
      "text/plain": [
       "0    59\n",
       "1     9\n",
       "Name: lr_scores, dtype: int64"
      ]
     },
     "execution_count": 287,
     "metadata": {},
     "output_type": "execute_result"
    }
   ],
   "source": [
    "test_pred = test_data[test_data.target.astype(str).isin([\"1\"])]\n",
    "test_pred.lr_scores.value_counts()"
   ]
  }
 ],
 "metadata": {
  "kernelspec": {
   "display_name": "Python 3",
   "language": "python",
   "name": "python3"
  },
  "language_info": {
   "codemirror_mode": {
    "name": "ipython",
    "version": 3
   },
   "file_extension": ".py",
   "mimetype": "text/x-python",
   "name": "python",
   "nbconvert_exporter": "python",
   "pygments_lexer": "ipython3",
   "version": "3.9.11 (tags/v3.9.11:2de452f, Mar 16 2022, 14:33:45) [MSC v.1929 64 bit (AMD64)]"
  },
  "orig_nbformat": 4,
  "vscode": {
   "interpreter": {
    "hash": "f6c8f846148a3e4d140e6ddf63c190cff559dcf260a4a21539f0978f2b58638c"
   }
  }
 },
 "nbformat": 4,
 "nbformat_minor": 2
}
